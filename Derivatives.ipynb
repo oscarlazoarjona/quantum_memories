{
 "cells": [
  {
   "cell_type": "markdown",
   "metadata": {},
   "source": [
    "Let's solve simple equation oscillator\n",
    "\n",
    "\\begin{equation}\n",
    "\\frac{df}{d t} = (i\\omega -2\\lambda t) f\n",
    "\\end{equation}"
   ]
  },
  {
   "cell_type": "code",
   "execution_count": 1,
   "metadata": {
    "collapsed": false
   },
   "outputs": [
    {
     "data": {
      "image/png": "[encoded data removed]",
      "text/latex": [
       "$$A e^{- \\lambda t^{2} + i \\omega t}$$"
      ],
      "text/plain": [
       "        2        \n",
       "   - λ⋅t  + ⅈ⋅ω⋅t\n",
       "A⋅ℯ              "
      ]
     },
     "execution_count": 1,
     "metadata": {},
     "output_type": "execute_result"
    }
   ],
   "source": [
    "from sympy import symbols, init_printing, diff, sin, cos, exp, I\n",
    "init_printing()\n",
    "omega, lam, t, A = symbols(\"omega, lambda, t, A\")\n",
    "f = A*exp(-lam*t**2+I*omega*t)\n",
    "f"
   ]
  },
  {
   "cell_type": "code",
   "execution_count": 2,
   "metadata": {
    "collapsed": false
   },
   "outputs": [
    {
     "data": {
      "image/png": "[encoded data removed]",
      "text/latex": [
       "$$A \\left(- 2 \\lambda t + i \\omega\\right) e^{- \\lambda t^{2} + i \\omega t}$$"
      ],
      "text/plain": [
       "                       2        \n",
       "                  - λ⋅t  + ⅈ⋅ω⋅t\n",
       "A⋅(-2⋅λ⋅t + ⅈ⋅ω)⋅ℯ              "
      ]
     },
     "execution_count": 2,
     "metadata": {},
     "output_type": "execute_result"
    }
   ],
   "source": [
    "lhs = diff(f, t)\n",
    "rhs = (-2*lam*t+I*omega)*f\n",
    "lhs"
   ]
  },
  {
   "cell_type": "code",
   "execution_count": 3,
   "metadata": {
    "collapsed": false
   },
   "outputs": [
    {
     "data": {
      "image/png": "[encoded data removed]",
      "text/latex": [
       "$$0$$"
      ],
      "text/plain": [
       "0"
      ]
     },
     "execution_count": 3,
     "metadata": {},
     "output_type": "execute_result"
    }
   ],
   "source": [
    "eq = lhs - rhs\n",
    "eq"
   ]
  },
  {
   "cell_type": "markdown",
   "metadata": {},
   "source": [
    "Let's get the derivative of a poorly sampled function as precicely as we can."
   ]
  },
  {
   "cell_type": "code",
   "execution_count": 4,
   "metadata": {
    "collapsed": true
   },
   "outputs": [],
   "source": [
    "import numpy as np\n",
    "from matplotlib import pyplot as plt\n",
    "%matplotlib inline"
   ]
  },
  {
   "cell_type": "code",
   "execution_count": 5,
   "metadata": {
    "collapsed": true
   },
   "outputs": [],
   "source": [
    "def Dt_naive(f, t):\n",
    "    dt = t[1]-t[0]\n",
    "    Nt = len(t)\n",
    "    fp = np.zeros(Nt, complex)\n",
    "    # fp[0] = (f[1]-f[0])/dt\n",
    "    for i in range(1, Nt):\n",
    "        fp[i] = (f[i]-f[i-1])/dt\n",
    "    return fp"
   ]
  },
  {
   "cell_type": "markdown",
   "metadata": {},
   "source": [
    "Let's get the differentiation coefficients"
   ]
  },
  {
   "cell_type": "code",
   "execution_count": 6,
   "metadata": {
    "collapsed": true
   },
   "outputs": [],
   "source": [
    "from sympy import zeros, factorial, solve, Integer, Matrix, pprint\n",
    "def get_coeffs(order, accur, direction=\"backward\"):\n",
    "    points = order+accur\n",
    "\n",
    "    if direction == \"backward\":\n",
    "        s = Matrix([Integer(i) for i in range(-points+1, 1)]).transpose()\n",
    "    elif direction == \"forward\":\n",
    "        s = Matrix([Integer(i) for i in range(points)]).transpose()\n",
    "    elif direction == \"central\":\n",
    "        if accur % 2 != 0:\n",
    "            raise ValueError(\"accurracy has to be even for centered derivatives.\")\n",
    "        s = Matrix([Integer(i) for i in range(-points/2+1, points/2+1)]).transpose()\n",
    "    #print s\n",
    "\n",
    "    S = zeros(points, points)\n",
    "    for i in range(points):\n",
    "        S[i, :] = Matrix([s[0, j]**i for j in range(points)]).transpose()\n",
    "\n",
    "    d = zeros(points, 1)\n",
    "    d[order] = factorial(order)\n",
    "\n",
    "    sol = S.inv()*d\n",
    "    return [i for i in sol]\n",
    "\n",
    "def calculate_coef_table(accur_max, numeric=True):\n",
    "    r\"\"\"Calculate a table of coefficients for higher accurracy backward derivatives.\"\"\"\n",
    "    order = 1\n",
    "    coef_table = [[0 for ii in range(accur_max+1)] for jj in range(accur_max)]\n",
    "    for i in range(1, accur_max+1):\n",
    "        tab = get_coeffs(order, i, \"backward\")\n",
    "        coef_table[i-1][accur_max+1-(order+i):] = tab\n",
    "\n",
    "    coef_table = [coef_table[jj][:accur_max+1] for jj in range(accur_max)]\n",
    "    if numeric:\n",
    "        coef_table = np.array([[float(coef_table[ii][jj])\n",
    "                                for jj in range(accur_max+1)]\n",
    "                                for ii in range(accur_max)])\n",
    "    return coef_table\n"
   ]
  },
  {
   "cell_type": "code",
   "execution_count": 26,
   "metadata": {
    "collapsed": false
   },
   "outputs": [
    {
     "name": "stdout",
     "output_type": "stream",
     "text": [
      "⎡ 0      0     0      0      0      0       0      0     0    -1    1  ⎤\n",
      "⎢                                                                      ⎥\n",
      "⎢ 0      0     0      0      0      0       0      0    1/2   -2   3/2 ⎥\n",
      "⎢                                                                      ⎥\n",
      "⎢ 0      0     0      0      0      0       0    -1/3   3/2   -3   11/6⎥\n",
      "⎢                                                                      ⎥\n",
      "⎢                                                                   25 ⎥\n",
      "⎢ 0      0     0      0      0      0      1/4   -4/3    3    -4    ── ⎥\n",
      "⎢                                                                   12 ⎥\n",
      "⎢                                                                      ⎥\n",
      "⎢                                                                  137 ⎥\n",
      "⎢ 0      0     0      0      0     -1/5    5/4   -10/3   5    -5   ─── ⎥\n",
      "⎢                                                                   60 ⎥\n",
      "⎢                                                                      ⎥\n",
      "⎢                                                                   49 ⎥\n",
      "⎢ 0      0     0      0     1/6    -6/5   15/4   -20/3  15/2  -6    ── ⎥\n",
      "⎢                                                                   20 ⎥\n",
      "⎢                                                                      ⎥\n",
      "⎢                                                                  363 ⎥\n",
      "⎢ 0      0     0     -1/7   7/6   -21/5   35/4   -35/3  21/2  -7   ─── ⎥\n",
      "⎢                                                                  140 ⎥\n",
      "⎢                                                                      ⎥\n",
      "⎢                                                                  761 ⎥\n",
      "⎢ 0      0    1/8    -8/7   14/3  -56/5   35/2   -56/3   14   -8   ─── ⎥\n",
      "⎢                                                                  280 ⎥\n",
      "⎢                                                                      ⎥\n",
      "⎢                                                                  7129⎥\n",
      "⎢ 0    -1/9   9/8   -36/7    14   -126/5  63/2    -28    18   -9   ────⎥\n",
      "⎢                                                                  2520⎥\n",
      "⎢                                                                      ⎥\n",
      "⎢                                                                  7381⎥\n",
      "⎢1/10  -10/9  45/8  -120/7   35   -252/5  105/2   -40   45/2  -10  ────⎥\n",
      "⎣                                                                  2520⎦\n",
      "\n"
     ]
    }
   ],
   "source": [
    "accur_max = 10\n",
    "coef_table = calculate_coef_table(accur_max, numeric=False)\n",
    "\n",
    "pprint(Matrix(coef_table), num_columns=150)\n",
    "print"
   ]
  },
  {
   "cell_type": "markdown",
   "metadata": {
    "collapsed": false
   },
   "source": [
    "The anti-diagonals of this matrix have a certain structure. The denominator is `accur+n` with an alternating sign, while the numerators for the first three anti-diagonalsare 1, `accur`, and triangular numbers."
   ]
  },
  {
   "cell_type": "code",
   "execution_count": 107,
   "metadata": {
    "collapsed": false
   },
   "outputs": [
    {
     "data": {
      "image/png": "[encoded data removed]",
      "text/plain": [
       "<matplotlib.figure.Figure at 0x7fe098eba390>"
      ]
     },
     "metadata": {},
     "output_type": "display_data"
    }
   ],
   "source": [
    "Nsample = 101\n",
    "Nsample_cont = 1001\n",
    "a = 10.0\n",
    "t = np.linspace(-a, a, Nsample)\n",
    "t_exact = np.linspace(-a, a, Nsample_cont)\n",
    "\n",
    "lami = 5.0; lamr = 0.25; lam = lamr + 1j*lami\n",
    "lam = 0.1\n",
    "omega = 2.5\n",
    "omega = 0.0\n",
    "f = np.exp(-lam*t**2 + 1j*omega*t)\n",
    "f_exact = np.exp(-lam*t_exact**2 + 1j*omega*t_exact)\n",
    "\n",
    "plt.figure(figsize=(15, 7))\n",
    "plt.plot(t, np.real(f), \"rx\", label=\"Approximate f\")\n",
    "plt.plot(t_exact, np.real(f_exact), \"b-\", label=\"Exact f\")\n",
    "plt.legend(fontsize=20)\n",
    "plt.grid(True)"
   ]
  },
  {
   "cell_type": "code",
   "execution_count": 108,
   "metadata": {
    "collapsed": false
   },
   "outputs": [],
   "source": [
    "def Dt_order(f, t, coef_table, accur=1):\n",
    "    r\"\"\"A backward derivative with accurracy `accur`.\"\"\"\n",
    "    dt = t[1]-t[0]\n",
    "    max_accur = len(coef_table)\n",
    "    coefs = coef_table[accur-1][max_accur-accur:]\n",
    "    return sum([coefs[j]*f[j] for j in range(accur + 1)])/dt\n",
    "\n",
    "\n",
    "def _bounds(ii, accur_max, NN):\n",
    "    if ii <= accur_max:\n",
    "        return (0, ii+1)\n",
    "    else:\n",
    "        return (ii-accur_max, ii+1)\n"
   ]
  },
  {
   "cell_type": "code",
   "execution_count": 109,
   "metadata": {
    "collapsed": false
   },
   "outputs": [
    {
     "name": "stdout",
     "output_type": "stream",
     "text": [
      "101 101\n"
     ]
    },
    {
     "data": {
      "image/png": "[encoded data removed]",
      "text/plain": [
       "<matplotlib.figure.Figure at 0x7fe098e9cfd0>"
      ]
     },
     "metadata": {},
     "output_type": "display_data"
    }
   ],
   "source": [
    "#lhs_smart = Dt_order(f, t, 6)\n",
    "#Dt = define_Dt(10)\n",
    "#lhs_smart = Dt(f, t)\n",
    "rhs = (-2*lam*t+1j*omega)*f\n",
    "rhs_exact = (-2*lam*t_exact+1j*omega)*f_exact\n",
    "\n",
    "lhs_exact = (-2*lam*t_exact+1j*omega)*f_exact\n",
    "lhs_naive = Dt_naive(f, t)\n",
    "\n",
    "lhs_smart = np.zeros(len(f), f.dtype)\n",
    "accur_max = 10\n",
    "NN = len(t)\n",
    "coef_table = calculate_coef_table(accur_max)\n",
    "for ii in range(1, NN):\n",
    "    a, b = _bounds(ii, accur_max, NN)\n",
    "    lhs_smart[ii] = Dt_order(f[a:b], t[a:b], coef_table, min(ii, accur_max))\n",
    "\n",
    "#print 111, lhs_smart\n",
    "print len(t), len(lhs_smart)\n",
    "\n",
    "plt.figure(figsize=(15, 7))\n",
    "plt.plot(t, np.real(lhs_naive), \"r+\", label=\"Naive derivative\")\n",
    "plt.plot(t, np.real(lhs_smart), \"b+\", label=\"Smart derivative\")\n",
    "plt.plot(t_exact, np.real(lhs_exact), \"m-\")\n",
    "plt.legend(fontsize=20)\n",
    "plt.grid(True)"
   ]
  },
  {
   "cell_type": "code",
   "execution_count": 110,
   "metadata": {
    "collapsed": false
   },
   "outputs": [
    {
     "data": {
      "image/png": "[encoded data removed]",
      "text/plain": [
       "<matplotlib.figure.Figure at 0x7fe099121a10>"
      ]
     },
     "metadata": {},
     "output_type": "display_data"
    }
   ],
   "source": [
    "fmax = np.amax(np.abs(lhs_exact))\n",
    "\n",
    "check_exact_rel = (lhs_exact - rhs_exact)/fmax\n",
    "check_naive_rel = (lhs_naive-rhs)/fmax\n",
    "\n",
    "check_smart_rel = (lhs_smart-rhs)/fmax\n",
    "\n",
    "plt.figure(figsize=(15, 7))\n",
    "\n",
    "plt.plot(t_exact, np.abs(lhs_exact)/fmax, \"m-\", label=\"Exact derivative\")\n",
    "plt.plot(t, np.abs(lhs_naive)/fmax, \"r+\", label=\"Naive derivative\")\n",
    "plt.plot(t, np.abs(lhs_smart)/fmax, \"b+\", label=\"Smart derivative\")\n",
    "\n",
    "plt.plot(t, np.abs(check_naive_rel), \"rx\", label=\"Naive error\")\n",
    "plt.plot(t, np.abs(check_smart_rel), \"bx\", label=\"Smart error\")\n",
    "# plt.plot(t_exact, np.abs(check_exact_rel), \"m-\")\n",
    "\n",
    "plt.legend(fontsize=20)\n",
    "plt.grid(True)"
   ]
  },
  {
   "cell_type": "code",
   "execution_count": 113,
   "metadata": {
    "collapsed": false
   },
   "outputs": [
    {
     "name": "stdout",
     "output_type": "stream",
     "text": [
      "worst error: [ 0.07358601  0.00033475]\n",
      "worst log10 error: [-1.13320472 -3.47528124]\n",
      "\n",
      "mean error: [  7.30835861e-03   3.15093374e-09]\n",
      "mean log10 error: [-2.13618015 -8.50156073]\n"
     ]
    },
    {
     "data": {
      "image/png": "[encoded data removed]",
      "text/plain": [
       "<matplotlib.figure.Figure at 0x7fe09930c4d0>"
      ]
     },
     "metadata": {},
     "output_type": "display_data"
    }
   ],
   "source": [
    "plt.figure(figsize=(15, 7))\n",
    "# plt.semilogy(t_exact, np.abs(check_exact_rel), \"mx\")\n",
    "plt.semilogy(t, np.abs(check_naive_rel), \"rx\", label=\"Naive error\")\n",
    "plt.semilogy(t, np.abs(check_smart_rel), \"bx\", label=\"Smart error\")\n",
    "\n",
    "error_exact_rel = np.amax(np.abs(check_exact_rel))\n",
    "error_naive_rel = np.amax(np.abs(check_naive_rel))\n",
    "error_smart_rel = np.amax(np.abs(check_smart_rel))\n",
    "errors = np.array([error_naive_rel, error_smart_rel])\n",
    "mean_errors = np.array([np.mean(np.log10(np.abs(check_naive_rel))),\n",
    "                        np.mean(np.log10(np.abs(check_smart_rel)))])\n",
    "print \"worst error:\", errors\n",
    "print \"worst log10 error:\", np.log10(errors)\n",
    "print\n",
    "print \"mean error:\", 10**mean_errors\n",
    "print \"mean log10 error:\", mean_errors\n",
    "\n",
    "plt.semilogy(t, 10**mean_errors[0]*np.ones(len(t)), \"r:\")\n",
    "plt.semilogy(t, 10**mean_errors[1]*np.ones(len(t)), \"b:\")\n",
    "\n",
    "plt.ylim(None, 1.0)\n",
    "plt.legend(fontsize=20)\n",
    "plt.grid(True)"
   ]
  },
  {
   "cell_type": "code",
   "execution_count": null,
   "metadata": {
    "collapsed": false
   },
   "outputs": [],
   "source": []
  },
  {
   "cell_type": "code",
   "execution_count": null,
   "metadata": {
    "collapsed": false
   },
   "outputs": [],
   "source": []
  },
  {
   "cell_type": "code",
   "execution_count": null,
   "metadata": {
    "collapsed": true
   },
   "outputs": [],
   "source": []
  },
  {
   "cell_type": "code",
   "execution_count": null,
   "metadata": {
    "collapsed": true
   },
   "outputs": [],
   "source": []
  },
  {
   "cell_type": "code",
   "execution_count": null,
   "metadata": {
    "collapsed": true
   },
   "outputs": [],
   "source": []
  },
  {
   "cell_type": "code",
   "execution_count": null,
   "metadata": {
    "collapsed": true
   },
   "outputs": [],
   "source": [
    "def Dt_order(f, t, coef_table, accur=1):\n",
    "    r\"\"\"A backward derivative with accurracy `accur`.\"\"\"\n",
    "    dt = t[1]-t[0]\n",
    "    coefs = coef_table[accur-1][-accur-1:]\n",
    "    # fp = np.zeros(f.shape[0]-accur, f.dtype)\n",
    "    Nt = len(f)\n",
    "    N = accur + 1\n",
    "    rev = list(reversed(range(N)))\n",
    "    # print 222, N, Nt, rev, accur, coefs\n",
    "    \n",
    "    fp = np.zeros(Nt, f.dtype)\n",
    "    for i in range(accur, Nt):\n",
    "        fp[i] = sum([coefs[N-j-1]*f[i-j] for j in rev])\n",
    "    \n",
    "    fp = fp/dt\n",
    "    return fp\n",
    "\n",
    "def define_Dt(accur_max=6):\n",
    "    order = 1\n",
    "    coef_table = [[0 for ii in range(accur_max+1)] for jj in range(accur_max)]\n",
    "    for i in range(1, accur_max+1):\n",
    "        tab = get_coeffs(order, i, \"backward\")\n",
    "        coef_table[i-1][accur_max+1-(order+i):] = tab\n",
    "\n",
    "    coef_table = [coef_table[jj][:accur_max+1] for jj in range(accur_max)]\n",
    "    coef_table = np.array([[float(coef_table[ii][jj])\n",
    "                            for jj in range(accur_max+1)]\n",
    "                            for ii in range(accur_max)])\n",
    "    \n",
    "    # print 111, coef_table.shape\n",
    "    \n",
    "    def Dt(f, t):\n",
    "        dt = t[1]-t[0]\n",
    "        fp = np.zeros(t.shape[0], f.dtype)\n",
    "        for i in range(1, accur_max):\n",
    "            fp[:i+1] += Dt_order(f[:i+1], t[:i+1], coef_table, accur=i)\n",
    "        fp += Dt_order(f, t, coef_table, accur_max)\n",
    "        return fp\n",
    "    \n",
    "    return Dt\n"
   ]
  },
  {
   "cell_type": "code",
   "execution_count": 106,
   "metadata": {
    "collapsed": false
   },
   "outputs": [],
   "source": [
    "def ffftfreq(t):\n",
    "    r\"\"\"Calculate the angular frequency axis for a given time axis.\"\"\"\n",
    "    dt = t[1]-t[0]\n",
    "    nu = np.fft.fftshift(np.fft.fftfreq(t.size, dt))\n",
    "    return nu\n",
    "\n",
    "\n",
    "def ffftfft(f, t):\n",
    "    r\"\"\"Calculate the Fourier transform.\"\"\"\n",
    "    dt = t[1]-t[0]\n",
    "    return np.fft.fftshift(np.fft.fft(np.fft.ifftshift(f)))*dt"
   ]
  },
  {
   "cell_type": "code",
   "execution_count": 110,
   "metadata": {
    "collapsed": false
   },
   "outputs": [
    {
     "data": {
      "text/plain": [
       "[<matplotlib.lines.Line2D at 0x7fefd2de7cd0>]"
      ]
     },
     "execution_count": 110,
     "metadata": {},
     "output_type": "execute_result"
    },
    {
     "data": {
      "image/png": "[encoded data removed]",
      "text/plain": [
       "<matplotlib.figure.Figure at 0x7fefd2a6cf10>"
      ]
     },
     "metadata": {},
     "output_type": "display_data"
    }
   ],
   "source": [
    "nu = ffftfreq(t)\n",
    "fhat = ffftfft(f, t)\n",
    "plt.plot(nu, np.abs(fhat), \"bx-\")"
   ]
  },
  {
   "cell_type": "code",
   "execution_count": 111,
   "metadata": {
    "collapsed": false
   },
   "outputs": [
    {
     "data": {
      "image/png": "[encoded data removed]",
      "text/latex": [
       "$$0.716197243914$$"
      ],
      "text/plain": [
       "0.716197243914"
      ]
     },
     "execution_count": 111,
     "metadata": {},
     "output_type": "execute_result"
    }
   ],
   "source": [
    "4.5/2/np.pi"
   ]
  },
  {
   "cell_type": "code",
   "execution_count": 536,
   "metadata": {
    "collapsed": false
   },
   "outputs": [
    {
     "data": {
      "image/png": "[encoded data removed]",
      "text/latex": [
       "$$\\left [ 1, \\quad -2, \\quad 1, \\quad 0\\right ]$$"
      ],
      "text/plain": [
       "[1, -2, 1, 0]"
      ]
     },
     "execution_count": 536,
     "metadata": {},
     "output_type": "execute_result"
    }
   ],
   "source": [
    "get_coeffs(2, 2, \"central\")"
   ]
  },
  {
   "cell_type": "markdown",
   "metadata": {},
   "source": [
    "We check the Wikipedia tables:"
   ]
  },
  {
   "cell_type": "code",
   "execution_count": 566,
   "metadata": {
    "collapsed": false
   },
   "outputs": [
    {
     "name": "stdout",
     "output_type": "stream",
     "text": [
      "1\n",
      "⎡0  0  0  0    0      0      0    -1/2  0  1/2    0      0      0     0  0  0  0⎤\n",
      "⎢                                                                               ⎥\n",
      "⎢0  0  0  0    0      0     1/12  -2/3  0  2/3  -1/12    0      0     0  0  0  0⎥\n",
      "⎢                                                                               ⎥\n",
      "⎢0  0  0  0    0    -1/60   3/20  -3/4  0  3/4  -3/20  1/60     0     0  0  0  0⎥\n",
      "⎢                                                                               ⎥\n",
      "⎣0  0  0  0  1/280  -4/105  1/5   -4/5  0  4/5  -1/5   4/105  -1/280  0  0  0  0⎦\n",
      "\n",
      "2\n",
      "⎡0  0  0  0    0       0      0     1    -2     1     0      0      0     0  0  0  0⎤\n",
      "⎢                                                                                   ⎥\n",
      "⎢0  0  0  0    0       0    -1/12  4/3  -5/2   4/3  -1/12    0      0     0  0  0  0⎥\n",
      "⎢                                                                                   ⎥\n",
      "⎢                                       -49                                         ⎥\n",
      "⎢0  0  0  0    0     1/90   -3/20  3/2  ────   3/2  -3/20  1/90     0     0  0  0  0⎥\n",
      "⎢                                        18                                         ⎥\n",
      "⎢                                                                                   ⎥\n",
      "⎢                                       -205                                        ⎥\n",
      "⎢0  0  0  0  -1/560  8/315  -1/5   8/5  ─────  8/5  -1/5   8/315  -1/560  0  0  0  0⎥\n",
      "⎣                                         72                                        ⎦\n",
      "\n",
      "3\n",
      "⎡0  0  0  0   0      0      0     -1/2    1    0    -1    1/2     0      0     0    0  0⎤\n",
      "⎢                                                                                       ⎥\n",
      "⎢0  0  0  0   0      0     1/8     -1    13/8  0  -13/8    1    -1/8     0     0    0  0⎥\n",
      "⎢                                                                                       ⎥\n",
      "⎢                                -169     61       -61    169                           ⎥\n",
      "⎢0  0  0  0   0    -7/240  3/10  ─────    ──   0   ────   ───   -3/10  7/240   0    0  0⎥\n",
      "⎢                                 120     30        30    120                           ⎥\n",
      "⎢                                                                                       ⎥\n",
      "⎢             41   -1261   541   -4369   1669     -1669   4369  -541    1261  -41       ⎥\n",
      "⎢0  0  0  0  ────  ──────  ────  ──────  ────  0  ──────  ────  ─────  ─────  ────  0  0⎥\n",
      "⎣            6048  15120   1120   2520   720       720    2520   1120  15120  6048      ⎦\n",
      "\n",
      "4\n",
      "⎡0  0  0  0   0      0      0     1      -4     6      -4     1      0      0     0    0  0⎤\n",
      "⎢                                                                                          ⎥\n",
      "⎢0  0  0  0   0      0    -1/6    2    -13/2   28/3  -13/2    2    -1/6     0     0    0  0⎥\n",
      "⎢                                                                                          ⎥\n",
      "⎢                                169   -122          -122    169                           ⎥\n",
      "⎢0  0  0  0   0    7/240  -2/5   ───   ─────   91/8  ─────   ───   -2/5   7/240   0    0  0⎥\n",
      "⎢                                 60     15            15     60                           ⎥\n",
      "⎢                                                                                          ⎥\n",
      "⎢            -41    1261  -541   4369  -1669   1529  -1669   4369  -541    1261  -41       ⎥\n",
      "⎢0  0  0  0  ────  ─────  ─────  ────  ──────  ────  ──────  ────  ─────  ─────  ────  0  0⎥\n",
      "⎣            7560  15120   840   1260   180    120    180    1260   840   15120  7560      ⎦\n",
      "\n",
      "5\n",
      "⎡0  0  0  0    0      0     0     -1/2     2     -5/2   0  5/2     -2     1/2     0      0     0  ⎤\n",
      "⎢                                                                                                 ⎥\n",
      "⎢0  0  0  0    0      0    1/6    -3/2   13/3   -29/6   0  29/6   -13/3   3/2    -1/6    0     0  ⎥\n",
      "⎢                                                                                                 ⎥\n",
      "⎢                   -13     19    -87           -323       323             87    -19     13       ⎥\n",
      "⎢0  0  0  0    0    ────    ──    ────   13/2   ─────   0  ───    -13/2    ──    ────   ───    0  ⎥\n",
      "⎢                   288     36     32             48        48             32     36    288       ⎥\n",
      "⎢                                                                                                 ⎥\n",
      "⎢             139   -121   3125  -3011   33853  -1039      1039  -33853   3011  -3125   121  -139 ⎥\n",
      "⎢0  0  0  0  ─────  ─────  ────  ──────  ─────  ──────  0  ────  ───────  ────  ──────  ───  ─────⎥\n",
      "⎣            12096   756   3024   756     4032   126       126     4032   756    3024   756  12096⎦\n",
      "\n",
      "6\n",
      "⎡0  0  0  0    0     0     0      1      -6      15      -20     15      -6      1      0      0     0  ⎤\n",
      "⎢                                                                                                       ⎥\n",
      "⎢0  0  0  0    0     0    -1/4    3      -13     29     -75/2    29      -13     3     -1/4    0     0  ⎥\n",
      "⎢                                                                                                       ⎥\n",
      "⎢                    13   -19     87                   -1023                     87    -19     13       ⎥\n",
      "⎢0  0  0  0    0    ───   ────    ──    -39/2   323/8  ──────   323/8   -39/2    ──    ────   ───    0  ⎥\n",
      "⎢                   240    24     16                     20                      16     24    240       ⎥\n",
      "⎢                                                                                                       ⎥\n",
      "⎢            -139   121  -3125   3011  -33853   1039   -44473   1039   -33853   3011  -3125   121  -139 ⎥\n",
      "⎢0  0  0  0  ─────  ───  ──────  ────  ───────  ────   ───────  ────   ───────  ────  ──────  ───  ─────⎥\n",
      "⎣            12096  630   2016   378     1344    21      720     21      1344   378    2016   630  12096⎦\n",
      "\n"
     ]
    }
   ],
   "source": [
    "a = 8\n",
    "for order in range(1, 7):\n",
    "    table= [[0 for ii in range(-a, a+1)] for jj in range(4)]\n",
    "    for i in range(1, 5):\n",
    "        tab = get_coeffs(order, 2*i, \"central\")\n",
    "        table[i-1][a-i: a+i] = tab\n",
    "    table = [table[jj][:2*a+1] for jj in range(4)]\n",
    "\n",
    "    print order\n",
    "    pprint(Matrix(table), num_columns=150)\n",
    "    print"
   ]
  },
  {
   "cell_type": "markdown",
   "metadata": {},
   "source": [
    "Forward derivatives"
   ]
  },
  {
   "cell_type": "code",
   "execution_count": 576,
   "metadata": {
    "collapsed": false
   },
   "outputs": [
    {
     "name": "stdout",
     "output_type": "stream",
     "text": [
      "1\n",
      "⎡ -1    1    0     0      0     0    0    0  0  0⎤\n",
      "⎢                                                ⎥\n",
      "⎢-3/2   2  -1/2    0      0     0    0    0  0  0⎥\n",
      "⎢                                                ⎥\n",
      "⎢-11/6  3  -3/2   1/3     0     0    0    0  0  0⎥\n",
      "⎢                                                ⎥\n",
      "⎢-25                                             ⎥\n",
      "⎢────   4   -3    4/3   -1/4    0    0    0  0  0⎥\n",
      "⎢ 12                                             ⎥\n",
      "⎢                                                ⎥\n",
      "⎢-137                                            ⎥\n",
      "⎢─────  5   -5    10/3  -5/4   1/5   0    0  0  0⎥\n",
      "⎢  60                                            ⎥\n",
      "⎢                                                ⎥\n",
      "⎢-49                                             ⎥\n",
      "⎢────   6  -15/2  20/3  -15/4  6/5  -1/6  0  0  0⎥\n",
      "⎣ 20                                             ⎦\n",
      "\n",
      "2\n",
      "⎡ 1     -2      1      0      0      0     0      0    0  0⎤\n",
      "⎢                                                          ⎥\n",
      "⎢ 2     -5      4      -1     0      0     0      0    0  0⎥\n",
      "⎢                                                          ⎥\n",
      "⎢ 35                          11                           ⎥\n",
      "⎢ ──   -26/3  19/2   -14/3    ──     0     0      0    0  0⎥\n",
      "⎢ 12                          12                           ⎥\n",
      "⎢                                                          ⎥\n",
      "⎢                             61                           ⎥\n",
      "⎢15/4  -77/6  107/6   -13     ──   -5/6    0      0    0  0⎥\n",
      "⎢                             12                           ⎥\n",
      "⎢                                                          ⎥\n",
      "⎢203                                      137              ⎥\n",
      "⎢───   -87/5  117/4  -254/9  33/2  -27/5  ───     0    0  0⎥\n",
      "⎢ 45                                      180              ⎥\n",
      "⎢                                                          ⎥\n",
      "⎢469   -223    879   -949          -201   1019             ⎥\n",
      "⎢───   ─────   ───   ─────    41   ─────  ────  -7/10  0  0⎥\n",
      "⎣ 90     10     20     18            10   180              ⎦\n",
      "\n",
      "3\n",
      "⎡ -1      3      -3       1       0       0      0      0     0    0⎤\n",
      "⎢                                                                   ⎥\n",
      "⎢-5/2     9      -12      7     -3/2      0      0      0     0    0⎥\n",
      "⎢                                                                   ⎥\n",
      "⎢-17/4  71/4    -59/2   49/2    -41/4    7/4     0      0     0    0⎥\n",
      "⎢                                                                   ⎥\n",
      "⎢-49/8   29    -461/8    62    -307/8    13    -15/8    0     0    0⎥\n",
      "⎢                                                                   ⎥\n",
      "⎢-967    638   -3929           -2545           -1849   29           ⎥\n",
      "⎢─────   ───   ──────   389/3  ──────   268/5  ──────  ──     0    0⎥\n",
      "⎢ 120     15     40              24             120    15           ⎥\n",
      "⎢                                                                   ⎥\n",
      "⎢-801          -18353   2391            4891           527  -469    ⎥\n",
      "⎢─────  349/6  ───────  ────   -1457/6  ────   -561/8  ───  ─────  0⎥\n",
      "⎣  80            120     10              30             30   240    ⎦\n",
      "\n",
      "4\n",
      "⎡ 1      -4      6      -4       1        0       0      0       0     0  ⎤\n",
      "⎢                                                                         ⎥\n",
      "⎢ 3     -14     26      -24      11      -2       0      0       0     0  ⎥\n",
      "⎢                                                                         ⎥\n",
      "⎢35/6   -31    137/2  -242/3   107/2     -19    17/6     0       0     0  ⎥\n",
      "⎢                                                                         ⎥\n",
      "⎢28/3  -111/2   142   -1219/6   176    -185/2   82/3    -7/2     0     0  ⎥\n",
      "⎢                                                                         ⎥\n",
      "⎢1069  -1316   15289           10993   -4772    2803   -536     967       ⎥\n",
      "⎢────  ──────  ─────  -2144/5  ─────   ──────   ────   ─────    ───    0  ⎥\n",
      "⎢ 80     15      60              24      15      20      15     240       ⎥\n",
      "⎢                                                                         ⎥\n",
      "⎢285   -7667   24901           122249           10279  -2939   10579  -89 ⎥\n",
      "⎢───   ──────  ─────  -4013/5  ──────  -5273/6  ─────  ──────  ─────  ────⎥\n",
      "⎣ 16     60      60             120               20     15     240    20 ⎦\n",
      "\n"
     ]
    }
   ],
   "source": [
    "a = 10\n",
    "nprec = 6\n",
    "order = 1\n",
    "table= [[0 for ii in range(a)] for jj in range(nprec)]\n",
    "for order in range(1, 5):\n",
    "    for i in range(1, nprec+1):\n",
    "        tab = get_coeffs(order, i, \"forward\")\n",
    "        table[i-1][:order+i] = tab\n",
    "    table = [table[jj][:a] for jj in range(nprec)]\n",
    "\n",
    "    print order\n",
    "    pprint(Matrix(table), num_columns=150)\n",
    "    print"
   ]
  },
  {
   "cell_type": "markdown",
   "metadata": {},
   "source": [
    "Backward derivatives"
   ]
  },
  {
   "cell_type": "code",
   "execution_count": 579,
   "metadata": {
    "collapsed": false
   },
   "outputs": [
    {
     "name": "stdout",
     "output_type": "stream",
     "text": [
      "1\n",
      "⎡0  0  0   0    0     0      0     0    -1   1  ⎤\n",
      "⎢                                               ⎥\n",
      "⎢0  0  0   0    0     0      0    1/2   -2  3/2 ⎥\n",
      "⎢                                               ⎥\n",
      "⎢0  0  0   0    0     0    -1/3   3/2   -3  11/6⎥\n",
      "⎢                                               ⎥\n",
      "⎢                                            25 ⎥\n",
      "⎢0  0  0   0    0    1/4   -4/3    3    -4   ── ⎥\n",
      "⎢                                            12 ⎥\n",
      "⎢                                               ⎥\n",
      "⎢                                           137 ⎥\n",
      "⎢0  0  0   0   -1/5  5/4   -10/3   5    -5  ─── ⎥\n",
      "⎢                                            60 ⎥\n",
      "⎢                                               ⎥\n",
      "⎢                                            49 ⎥\n",
      "⎢0  0  0  1/6  -6/5  15/4  -20/3  15/2  -6   ── ⎥\n",
      "⎣                                            20 ⎦\n",
      "\n",
      "2\n",
      "⎡0  0    0     0      0     0      0       1     -2     1  ⎤\n",
      "⎢                                                          ⎥\n",
      "⎢0  0    0     0      0     0      -1      4     -5     2  ⎥\n",
      "⎢                                                          ⎥\n",
      "⎢                           11                          35 ⎥\n",
      "⎢0  0    0     0      0     ──   -14/3   19/2   -26/3   ── ⎥\n",
      "⎢                           12                          12 ⎥\n",
      "⎢                                                          ⎥\n",
      "⎢                           61                             ⎥\n",
      "⎢0  0    0     0    -5/6    ──    -13    107/6  -77/6  15/4⎥\n",
      "⎢                           12                             ⎥\n",
      "⎢                                                          ⎥\n",
      "⎢             137                                      203 ⎥\n",
      "⎢0  0    0    ───   -27/5  33/2  -254/9  117/4  -87/5  ─── ⎥\n",
      "⎢             180                                       45 ⎥\n",
      "⎢                                                          ⎥\n",
      "⎢             1019  -201         -949     879   -223   469 ⎥\n",
      "⎢0  0  -7/10  ────  ─────   41   ─────    ───   ─────  ─── ⎥\n",
      "⎣             180     10           18      20     10    90 ⎦\n",
      "\n",
      "3\n",
      "⎡0   0     0      0      0       0       -1      3      -3     1  ⎤\n",
      "⎢                                                                 ⎥\n",
      "⎢0   0     0      0      0      3/2      -7     12      -9    5/2 ⎥\n",
      "⎢                                                                 ⎥\n",
      "⎢0   0     0      0     -7/4    41/4   -49/2   59/2   -71/4   17/4⎥\n",
      "⎢                                                                 ⎥\n",
      "⎢0   0     0    15/8    -13    307/8    -62    461/8   -29    49/8⎥\n",
      "⎢                                                                 ⎥\n",
      "⎢        -29    1849            2545           3929   -638    967 ⎥\n",
      "⎢0   0   ────   ────   -268/5   ────   -389/3  ────   ─────   ─── ⎥\n",
      "⎢         15    120              24             40      15    120 ⎥\n",
      "⎢                                                                 ⎥\n",
      "⎢   469  -527          -4891           -2391   18353          801 ⎥\n",
      "⎢0  ───  ─────  561/8  ──────  1457/6  ──────  ─────  -349/6  ─── ⎥\n",
      "⎣   240    30            30              10     120            80 ⎦\n",
      "\n",
      "4\n",
      "⎡ 0      0      0       0       0       1       -4       6      -4     1  ⎤\n",
      "⎢                                                                         ⎥\n",
      "⎢ 0      0      0       0      -2       11      -24     26     -14     3  ⎥\n",
      "⎢                                                                         ⎥\n",
      "⎢ 0      0      0     17/6     -19    107/2   -242/3   137/2   -31    35/6⎥\n",
      "⎢                                                                         ⎥\n",
      "⎢ 0      0     -7/2   82/3   -185/2    176    -1219/6   142   -111/2  28/3⎥\n",
      "⎢                                                                         ⎥\n",
      "⎢       967   -536    2803   -4772    10993            15289  -1316   1069⎥\n",
      "⎢ 0     ───   ─────   ────   ──────   ─────   -2144/5  ─────  ──────  ────⎥\n",
      "⎢       240     15     20      15       24               60     15     80 ⎥\n",
      "⎢                                                                         ⎥\n",
      "⎢-89   10579  -2939   10279           122249           24901  -7667   285 ⎥\n",
      "⎢────  ─────  ──────  ─────  -5273/6  ──────  -4013/5  ─────  ──────  ─── ⎥\n",
      "⎣ 20    240     15      20             120               60     60     16 ⎦\n",
      "\n"
     ]
    }
   ],
   "source": [
    "a = 10\n",
    "nprec = 6\n",
    "order = 1\n",
    "table= [[0 for ii in range(a)] for jj in range(nprec)]\n",
    "for order in range(1, 5):\n",
    "    for i in range(1, nprec+1):\n",
    "        tab = get_coeffs(order, i, \"backward\")\n",
    "        table[i-1][a-(order+i):] = tab\n",
    "    table = [table[jj][:a] for jj in range(nprec)]\n",
    "\n",
    "    print order\n",
    "    pprint(Matrix(table), num_columns=150)\n",
    "    print"
   ]
  },
  {
   "cell_type": "code",
   "execution_count": null,
   "metadata": {
    "collapsed": true
   },
   "outputs": [],
   "source": []
  },
  {
   "cell_type": "code",
   "execution_count": 544,
   "metadata": {
    "collapsed": false
   },
   "outputs": [
    {
     "data": {
      "image/png": "[encoded data removed]",
      "text/latex": [
       "$$\\left[\\begin{array}{ccccccccccc}0 & 0 & 0 & 0 & 1 & -2 & 1 & 0 & 0 & 0 & 0\\\\0 & 0 & 0 & - \\frac{1}{12} & \\frac{4}{3} & - \\frac{5}{2} & \\frac{4}{3} & - \\frac{1}{12} & 0 & 0 & 0\\\\0 & 0 & \\frac{1}{90} & - \\frac{3}{20} & \\frac{3}{2} & - \\frac{49}{18} & \\frac{3}{2} & - \\frac{3}{20} & \\frac{1}{90} & 0 & 0\\\\0 & - \\frac{1}{560} & \\frac{8}{315} & - \\frac{1}{5} & \\frac{8}{5} & - \\frac{205}{72} & \\frac{8}{5} & - \\frac{1}{5} & \\frac{8}{315} & - \\frac{1}{560} & 0\\end{array}\\right]$$"
      ],
      "text/plain": [
       "⎡0    0       0      0     1    -2     1     0      0      0     0⎤\n",
       "⎢                                                                 ⎥\n",
       "⎢0    0       0    -1/12  4/3  -5/2   4/3  -1/12    0      0     0⎥\n",
       "⎢                                                                 ⎥\n",
       "⎢                              -49                                ⎥\n",
       "⎢0    0     1/90   -3/20  3/2  ────   3/2  -3/20  1/90     0     0⎥\n",
       "⎢                               18                                ⎥\n",
       "⎢                                                                 ⎥\n",
       "⎢                              -205                               ⎥\n",
       "⎢0  -1/560  8/315  -1/5   8/5  ─────  8/5  -1/5   8/315  -1/560  0⎥\n",
       "⎣                                72                               ⎦"
      ]
     },
     "execution_count": 544,
     "metadata": {},
     "output_type": "execute_result"
    }
   ],
   "source": [
    "table= [[0 for ii in range(-5, 5)] for jj in range(4)]\n",
    "for i in range(1, 5):\n",
    "    tab = get_coeffs(2, 2*i, \"central\")\n",
    "    table[i-1][5-i: 5+i] = tab\n",
    "table = [table[jj][:11] for jj in range(4)]\n",
    "    \n",
    "Matrix(table)"
   ]
  },
  {
   "cell_type": "code",
   "execution_count": 549,
   "metadata": {
    "collapsed": false
   },
   "outputs": [
    {
     "data": {
      "image/png": "[encoded data removed]",
      "text/latex": [
       "$$\\left[\\begin{array}{ccccccccccc}0 & 0 & 0 & 0 & 1 & -4 & 6 & -4 & 1 & 0 & 0\\\\0 & 0 & 0 & - \\frac{1}{6} & 2 & - \\frac{13}{2} & \\frac{28}{3} & - \\frac{13}{2} & 2 & - \\frac{1}{6} & 0\\\\0 & 0 & \\frac{7}{240} & - \\frac{2}{5} & \\frac{169}{60} & - \\frac{122}{15} & \\frac{91}{8} & - \\frac{122}{15} & \\frac{169}{60} & - \\frac{2}{5} & \\frac{7}{240}\\end{array}\\right]$$"
      ],
      "text/plain": [
       "⎡0  0    0     0     1    -4     6     -4     1    0      0  ⎤\n",
       "⎢                                                            ⎥\n",
       "⎢0  0    0    -1/6   2   -13/2  28/3  -13/2   2   -1/6    0  ⎥\n",
       "⎢                                                            ⎥\n",
       "⎢                   169  -122         -122   169             ⎥\n",
       "⎢0  0  7/240  -2/5  ───  ─────  91/8  ─────  ───  -2/5  7/240⎥\n",
       "⎣                    60    15           15    60             ⎦"
      ]
     },
     "execution_count": 549,
     "metadata": {},
     "output_type": "execute_result"
    }
   ],
   "source": [
    "table= [[0 for ii in range(-5, 5)] for jj in range(3)]\n",
    "for i in range(1, 4):\n",
    "    tab = get_coeffs(4, 2*i, \"central\")\n",
    "    table[i-1][5-i: 5+i] = tab\n",
    "table = [table[jj][:11] for jj in range(3)]\n",
    "    \n",
    "Matrix(table)"
   ]
  },
  {
   "cell_type": "code",
   "execution_count": 548,
   "metadata": {
    "collapsed": false
   },
   "outputs": [
    {
     "data": {
      "image/png": "[encoded data removed]",
      "text/latex": [
       "$$\\left[\\begin{array}{ccccccccccc}0 & 0 & 0 & 0 & - \\frac{1}{2} & 1 & 0 & -1 & \\frac{1}{2} & 0 & 0\\\\0 & 0 & 0 & \\frac{1}{8} & -1 & \\frac{13}{8} & 0 & - \\frac{13}{8} & 1 & - \\frac{1}{8} & 0\\\\0 & 0 & - \\frac{7}{240} & \\frac{3}{10} & - \\frac{169}{120} & \\frac{61}{30} & 0 & - \\frac{61}{30} & \\frac{169}{120} & - \\frac{3}{10} & \\frac{7}{240}\\end{array}\\right]$$"
      ],
      "text/plain": [
       "⎡0  0    0      0    -1/2    1    0   -1    1/2    0      0  ⎤\n",
       "⎢                                                            ⎥\n",
       "⎢0  0    0     1/8    -1    13/8  0  -13/8   1   -1/8     0  ⎥\n",
       "⎢                                                            ⎥\n",
       "⎢                    -169    61      -61    169              ⎥\n",
       "⎢0  0  -7/240  3/10  ─────   ──   0  ────   ───  -3/10  7/240⎥\n",
       "⎣                     120    30       30    120              ⎦"
      ]
     },
     "execution_count": 548,
     "metadata": {},
     "output_type": "execute_result"
    }
   ],
   "source": [
    "table= [[0 for ii in range(-5, 5)] for jj in range(3)]\n",
    "for i in range(1, 4):\n",
    "    tab = get_coeffs(3, 2*i, \"central\")\n",
    "    table[i-1][5-i: 5+i] = tab\n",
    "table = [table[jj][:11] for jj in range(3)]\n",
    "    \n",
    "Matrix(table)"
   ]
  },
  {
   "cell_type": "code",
   "execution_count": null,
   "metadata": {
    "collapsed": true
   },
   "outputs": [],
   "source": []
  },
  {
   "cell_type": "code",
   "execution_count": null,
   "metadata": {
    "collapsed": true
   },
   "outputs": [],
   "source": []
  },
  {
   "cell_type": "code",
   "execution_count": null,
   "metadata": {
    "collapsed": true
   },
   "outputs": [],
   "source": []
  },
  {
   "cell_type": "code",
   "execution_count": null,
   "metadata": {
    "collapsed": true
   },
   "outputs": [],
   "source": []
  },
  {
   "cell_type": "code",
   "execution_count": null,
   "metadata": {
    "collapsed": true
   },
   "outputs": [],
   "source": []
  },
  {
   "cell_type": "code",
   "execution_count": 542,
   "metadata": {
    "collapsed": false
   },
   "outputs": [
    {
     "data": {
      "image/png": "[encoded data removed]",
      "text/latex": [
       "$$\\left [ 0, \\quad 0, \\quad 0, \\quad 0, \\quad - \\frac{1}{2}, \\quad 1, \\quad 0, \\quad -1, \\quad \\frac{1}{2}, \\quad 0, \\quad 0\\right ]$$"
      ],
      "text/plain": [
       "[0, 0, 0, 0, -1/2, 1, 0, -1, 1/2, 0, 0]"
      ]
     },
     "execution_count": 542,
     "metadata": {},
     "output_type": "execute_result"
    }
   ],
   "source": [
    "table[0]"
   ]
  },
  {
   "cell_type": "code",
   "execution_count": 505,
   "metadata": {
    "collapsed": false
   },
   "outputs": [
    {
     "data": {
      "image/png": "[encoded data removed]",
      "text/latex": [
       "$$\\left[\\begin{array}{cccccccccccccc}0 & 0 & 0 & 0 & - \\frac{1}{2} & 1 & 0 & -1 & \\frac{1}{2} & 0 & 0 & 0 & 0 & 0\\\\0 & 0 & 0 & \\frac{1}{8} & -1 & \\frac{13}{8} & 0 & - \\frac{13}{8} & 1 & - \\frac{1}{8} & 0 & 0 & 0 & 0\\\\0 & 0 & - \\frac{7}{240} & \\frac{3}{10} & - \\frac{169}{120} & \\frac{61}{30} & 0 & - \\frac{61}{30} & \\frac{169}{120} & - \\frac{3}{10} & \\frac{7}{240} & 0 & 0 & 0\\\\0 & \\frac{41}{6048} & - \\frac{1261}{15120} & \\frac{541}{1120} & - \\frac{4369}{2520} & \\frac{1669}{720} & 0 & - \\frac{1669}{720} & \\frac{4369}{2520} & - \\frac{541}{1120} & \\frac{1261}{15120} & - \\frac{41}{6048} & 0 & 0\\end{array}\\right]$$"
      ],
      "text/plain": [
       "⎡0   0      0      0     -1/2    1    0    -1    1/2     0      0     0    0  \n",
       "⎢                                                                             \n",
       "⎢0   0      0     1/8     -1    13/8  0  -13/8    1    -1/8     0     0    0  \n",
       "⎢                                                                             \n",
       "⎢                       -169     61       -61    169                          \n",
       "⎢0   0    -7/240  3/10  ─────    ──   0   ────   ───   -3/10  7/240   0    0  \n",
       "⎢                        120     30        30    120                          \n",
       "⎢                                                                             \n",
       "⎢    41   -1261   541   -4369   1669     -1669   4369  -541    1261  -41      \n",
       "⎢0  ────  ──────  ────  ──────  ────  0  ──────  ────  ─────  ─────  ────  0  \n",
       "⎣   6048  15120   1120   2520   720       720    2520   1120  15120  6048     \n",
       "\n",
       "0⎤\n",
       " ⎥\n",
       "0⎥\n",
       " ⎥\n",
       " ⎥\n",
       "0⎥\n",
       " ⎥\n",
       " ⎥\n",
       " ⎥\n",
       "0⎥\n",
       " ⎦"
      ]
     },
     "execution_count": 505,
     "metadata": {},
     "output_type": "execute_result"
    }
   ],
   "source": [
    "table= [[0 for i in range(-5, 4)] for j in range(4)]\n",
    "for i in range(1, 5):\n",
    "    tab = get_coeffs(2, 2*i, \"central\")\n",
    "    table[i-1][5-i: 5+i] = tab\n",
    "    \n",
    "Matrix(table)"
   ]
  },
  {
   "cell_type": "code",
   "execution_count": 506,
   "metadata": {
    "collapsed": false
   },
   "outputs": [
    {
     "data": {
      "image/png": "[encoded data removed]",
      "text/latex": [
       "$$\\left[\\begin{array}{ccccccccccccccc}0 & 0 & 0 & 0 & 1 & -4 & 6 & -4 & 1 & 0 & 0 & 0 & 0 & 0 & 0\\\\0 & 0 & 0 & - \\frac{1}{6} & 2 & - \\frac{13}{2} & \\frac{28}{3} & - \\frac{13}{2} & 2 & - \\frac{1}{6} & 0 & 0 & 0 & 0 & 0\\\\0 & 0 & \\frac{7}{240} & - \\frac{2}{5} & \\frac{169}{60} & - \\frac{122}{15} & \\frac{91}{8} & - \\frac{122}{15} & \\frac{169}{60} & - \\frac{2}{5} & \\frac{7}{240} & 0 & 0 & 0 & 0\\\\0 & - \\frac{41}{7560} & \\frac{1261}{15120} & - \\frac{541}{840} & \\frac{4369}{1260} & - \\frac{1669}{180} & \\frac{1529}{120} & - \\frac{1669}{180} & \\frac{4369}{1260} & - \\frac{541}{840} & \\frac{1261}{15120} & - \\frac{41}{7560} & 0 & 0 & 0\\end{array}\\right]$$"
      ],
      "text/plain": [
       "⎡0   0      0      0     1      -4     6      -4     1      0      0     0    \n",
       "⎢                                                                             \n",
       "⎢0   0      0    -1/6    2    -13/2   28/3  -13/2    2    -1/6     0     0    \n",
       "⎢                                                                             \n",
       "⎢                       169   -122          -122    169                       \n",
       "⎢0   0    7/240  -2/5   ───   ─────   91/8  ─────   ───   -2/5   7/240   0    \n",
       "⎢                        60     15            15     60                       \n",
       "⎢                                                                             \n",
       "⎢   -41    1261  -541   4369  -1669   1529  -1669   4369  -541    1261  -41   \n",
       "⎢0  ────  ─────  ─────  ────  ──────  ────  ──────  ────  ─────  ─────  ────  \n",
       "⎣   7560  15120   840   1260   180    120    180    1260   840   15120  7560  \n",
       "\n",
       "0  0  0⎤\n",
       "       ⎥\n",
       "0  0  0⎥\n",
       "       ⎥\n",
       "       ⎥\n",
       "0  0  0⎥\n",
       "       ⎥\n",
       "       ⎥\n",
       "       ⎥\n",
       "0  0  0⎥\n",
       "       ⎦"
      ]
     },
     "execution_count": 506,
     "metadata": {},
     "output_type": "execute_result"
    }
   ],
   "source": [
    "table= [[0 for i in range(-5, 6)] for j in range(4)]\n",
    "for i in range(1, 5):\n",
    "    tab = get_coeffs(4, 2*i, \"central\")\n",
    "    table[i-1][5-i: 5+i] = tab\n",
    "    \n",
    "Matrix(table)"
   ]
  },
  {
   "cell_type": "code",
   "execution_count": 507,
   "metadata": {
    "collapsed": false
   },
   "outputs": [
    {
     "data": {
      "image/png": "[encoded data removed]",
      "text/latex": [
       "$$\\left[\\begin{array}{cccccccccccccccc}0 & 0 & 0 & 0 & - \\frac{1}{2} & 2 & - \\frac{5}{2} & 0 & \\frac{5}{2} & -2 & \\frac{1}{2} & 0 & 0 & 0 & 0 & 0\\\\0 & 0 & 0 & \\frac{1}{6} & - \\frac{3}{2} & \\frac{13}{3} & - \\frac{29}{6} & 0 & \\frac{29}{6} & - \\frac{13}{3} & \\frac{3}{2} & - \\frac{1}{6} & 0 & 0 & 0 & 0\\\\0 & 0 & - \\frac{13}{288} & \\frac{19}{36} & - \\frac{87}{32} & \\frac{13}{2} & - \\frac{323}{48} & 0 & \\frac{323}{48} & - \\frac{13}{2} & \\frac{87}{32} & - \\frac{19}{36} & \\frac{13}{288} & 0 & 0 & 0\\\\0 & \\frac{139}{12096} & - \\frac{121}{756} & \\frac{3125}{3024} & - \\frac{3011}{756} & \\frac{33853}{4032} & - \\frac{1039}{126} & 0 & \\frac{1039}{126} & - \\frac{33853}{4032} & \\frac{3011}{756} & - \\frac{3125}{3024} & \\frac{121}{756} & - \\frac{139}{12096} & 0 & 0\\end{array}\\right]$$"
      ],
      "text/plain": [
       "⎡0    0      0     0     -1/2     2     -5/2   0  5/2     -2     1/2     0    \n",
       "⎢                                                                             \n",
       "⎢0    0      0    1/6    -3/2   13/3   -29/6   0  29/6   -13/3   3/2    -1/6  \n",
       "⎢                                                                             \n",
       "⎢          -13     19    -87           -323       323             87    -19   \n",
       "⎢0    0    ────    ──    ────   13/2   ─────   0  ───    -13/2    ──    ────  \n",
       "⎢          288     36     32             48        48             32     36   \n",
       "⎢                                                                             \n",
       "⎢    139   -121   3125  -3011   33853  -1039      1039  -33853   3011  -3125  \n",
       "⎢0  ─────  ─────  ────  ──────  ─────  ──────  0  ────  ───────  ────  ────── \n",
       "⎣   12096   756   3024   756     4032   126       126     4032   756    3024  \n",
       "\n",
       "  0     0    0  0⎤\n",
       "                 ⎥\n",
       "  0     0    0  0⎥\n",
       "                 ⎥\n",
       "  13             ⎥\n",
       " ───    0    0  0⎥\n",
       " 288             ⎥\n",
       "                 ⎥\n",
       " 121  -139       ⎥\n",
       " ───  ─────  0  0⎥\n",
       " 756  12096      ⎦"
      ]
     },
     "execution_count": 507,
     "metadata": {},
     "output_type": "execute_result"
    }
   ],
   "source": [
    "table= [[0 for i in range(-5, 6)] for j in range(4)]\n",
    "for i in range(1, 5):\n",
    "    tab = get_coeffs(5, 2*i, \"central\")\n",
    "    table[i-1][5-i: 5+i] = tab\n",
    "    \n",
    "Matrix(table)"
   ]
  },
  {
   "cell_type": "code",
   "execution_count": null,
   "metadata": {
    "collapsed": true
   },
   "outputs": [],
   "source": []
  },
  {
   "cell_type": "code",
   "execution_count": null,
   "metadata": {
    "collapsed": true
   },
   "outputs": [],
   "source": []
  },
  {
   "cell_type": "code",
   "execution_count": 436,
   "metadata": {
    "collapsed": false
   },
   "outputs": [
    {
     "name": "stdout",
     "output_type": "stream",
     "text": [
      "[-1, 1]\n",
      "[-3/2, 2, -1/2]\n",
      "[-11/6, 3, -3/2, 1/3]\n",
      "[-25/12, 4, -3, 4/3, -1/4]\n",
      "[-137/60, 5, -5, 10/3, -5/4, 1/5]\n",
      "[-49/20, 6, -15/2, 20/3, -15/4, 6/5, -1/6]\n"
     ]
    }
   ],
   "source": [
    "for i in range(1, 7):\n",
    "    print get_coeffs(1, i)"
   ]
  },
  {
   "cell_type": "code",
   "execution_count": 414,
   "metadata": {
    "collapsed": false
   },
   "outputs": [
    {
     "data": {
      "image/png": "[encoded data removed]",
      "text/latex": [
       "$$\\left [ t, \\quad h + t, \\quad 2 h + t\\right ]$$"
      ],
      "text/plain": [
       "[t, h + t, 2⋅h + t]"
      ]
     },
     "execution_count": 414,
     "metadata": {},
     "output_type": "execute_result"
    }
   ],
   "source": [
    "from sympy import Function\n",
    "from sympy import series, factorial\n",
    "from sympy import Order, KroneckerDelta\n",
    "f = Function(\"f\")\n",
    "t, tp = symbols(\"t, t'\", real=True)\n",
    "h = symbols(\"h\", positive=True)\n",
    "\n",
    "order = 1\n",
    "accur = 2\n",
    "N = order + accur\n",
    "backward = True\n",
    "backward = False\n",
    "if backward:\n",
    "    points = [t+h*i for i in range(-N+1, 1)]\n",
    "else:\n",
    "    points = [t+h*i for i in range(N)]\n",
    "points"
   ]
  },
  {
   "cell_type": "code",
   "execution_count": 415,
   "metadata": {
    "collapsed": false
   },
   "outputs": [
    {
     "data": {
      "image/png": "[encoded data removed]",
      "text/latex": [
       "$$\\left \\{ \\frac{d}{d t} f{\\left (t \\right )} : \\frac{1}{h} \\left(c_{-1} f{\\left (h + t \\right )} + c_{-2} f{\\left (t \\right )} + c_{0} f{\\left (2 h + t \\right )}\\right)\\right \\}$$"
      ],
      "text/plain": [
       "⎧d         c_{-1}⋅f(h + t) + c_{-2}⋅f(t) + c_{0}⋅f(2⋅h + t)⎫\n",
       "⎨──(f(t)): ────────────────────────────────────────────────⎬\n",
       "⎩dt                               h                        ⎭"
      ]
     },
     "execution_count": 415,
     "metadata": {},
     "output_type": "execute_result"
    }
   ],
   "source": [
    "c = symbols(''.join([\"c_{\"+str(i)+\"} \" for i in range(-N+1, 1)]))\n",
    "eq = diff(f(t), t, order)\n",
    "eq_lhs = diff(f(t), t, order)\n",
    "eq_rhs = sum([c[i]*f(points[i]) for i in range(N)])*h**-order\n",
    "{eq_lhs: eq_rhs}"
   ]
  },
  {
   "cell_type": "markdown",
   "metadata": {},
   "source": [
    "We expand $f$ up to the desired precision and substitute in the points above"
   ]
  },
  {
   "cell_type": "code",
   "execution_count": 416,
   "metadata": {
    "collapsed": false
   },
   "outputs": [
    {
     "data": {
      "image/png": "[encoded data removed]",
      "text/latex": [
       "$$\\left \\{ f{\\left (t - t' \\right )} : f{\\left (t \\right )} + \\left(- t + t'\\right) \\frac{d}{d t} f{\\left (t \\right )} + \\frac{1}{2} \\left(- t + t'\\right)^{2} \\frac{d^{2}}{d t^{2}}  f{\\left (t \\right )} + \\mathcal{O}\\left(h^{3}\\right)\\right \\}$$"
      ],
      "text/plain": [
       "⎧                                                    2              ⎫\n",
       "⎪                                                2  d               ⎪\n",
       "⎪                                       (-t + t') ⋅───(f(t))        ⎪\n",
       "⎨                                                    2              ⎬\n",
       "⎪                            d                     dt           ⎛ 3⎞⎪\n",
       "⎪f(t - t'): f(t) + (-t + t')⋅──(f(t)) + ──────────────────── + O⎝h ⎠⎪\n",
       "⎩                            dt                  2                  ⎭"
      ]
     },
     "execution_count": 416,
     "metadata": {},
     "output_type": "execute_result"
    }
   ],
   "source": [
    "def my_series(f, a, tp, accur):\n",
    "    terms = sum([(tp-a)**i*diff(f(t), t, i)/factorial(i) for i in range(accur)])\n",
    "    #print a, tp, accur\n",
    "    terms += Order(h**accur)\n",
    "    return terms\n",
    "\n",
    "f_series = my_series(f, t, tp, N)\n",
    "{f(t-tp): f_series}"
   ]
  },
  {
   "cell_type": "code",
   "execution_count": 417,
   "metadata": {
    "collapsed": false
   },
   "outputs": [
    {
     "data": {
      "image/png": "[encoded data removed]",
      "text/latex": [
       "$$\\left \\{ \\frac{d}{d t} f{\\left (t \\right )} : \\frac{1}{h} \\left(c_{-1} \\left(f{\\left (t \\right )} + h \\frac{d}{d t} f{\\left (t \\right )} + \\frac{h^{2}}{2} \\frac{d^{2}}{d t^{2}}  f{\\left (t \\right )} + \\mathcal{O}\\left(h^{3}\\right)\\right) + c_{-2} \\left(f{\\left (t \\right )} + \\mathcal{O}\\left(h^{3}\\right)\\right) + c_{0} \\left(f{\\left (t \\right )} + 2 h \\frac{d}{d t} f{\\left (t \\right )} + 2 h^{2} \\frac{d^{2}}{d t^{2}}  f{\\left (t \\right )} + \\mathcal{O}\\left(h^{3}\\right)\\right)\\right)\\right \\}$$"
      ],
      "text/plain": [
       "⎧                 ⎛                         2              ⎞                  \n",
       "⎪                 ⎜                     2  d               ⎟                  \n",
       "⎪                 ⎜                    h ⋅───(f(t))        ⎟                  \n",
       "⎪                 ⎜                         2              ⎟                  \n",
       "⎪                 ⎜         d             dt           ⎛ 3⎞⎟          ⎛       \n",
       "⎨          c_{-1}⋅⎜f(t) + h⋅──(f(t)) + ──────────── + O⎝h ⎠⎟ + c_{-2}⋅⎝f(t) + \n",
       "⎪                 ⎝         dt              2              ⎠                  \n",
       "⎪d                                                                            \n",
       "⎪──(f(t)): ───────────────────────────────────────────────────────────────────\n",
       "⎪dt                                                                       h   \n",
       "⎩                                                                             \n",
       "\n",
       "                                                             ⎫\n",
       "                                                             ⎪\n",
       "                                                             ⎪\n",
       "               ⎛                             2              ⎞⎪\n",
       " ⎛ 3⎞⎞         ⎜           d             2  d           ⎛ 3⎞⎟⎪\n",
       "O⎝h ⎠⎠ + c_{0}⋅⎜f(t) + 2⋅h⋅──(f(t)) + 2⋅h ⋅───(f(t)) + O⎝h ⎠⎟⎬\n",
       "               ⎜           dt                2              ⎟⎪\n",
       "               ⎝                           dt               ⎠⎪\n",
       "─────────────────────────────────────────────────────────────⎪\n",
       "                                                             ⎪\n",
       "                                                             ⎭"
      ]
     },
     "execution_count": 417,
     "metadata": {},
     "output_type": "execute_result"
    }
   ],
   "source": [
    "eq_rhs = sum([c[i]*f_series.subs(tp, points[i]) for i in range(N)])*h**-order\n",
    "{eq_lhs: eq_rhs}"
   ]
  },
  {
   "cell_type": "markdown",
   "metadata": {},
   "source": [
    "We can see this equation as $N$ equations for separate derivatives\n",
    "\n",
    "\\begin{equation}\n",
    "    \\sum_j A_{ij} c_j = \\frac{d^i f}{d t^i}\n",
    "\\end{equation}\n",
    "\n",
    "with $i, j\\in [-N, \\cdots, 0]$"
   ]
  },
  {
   "cell_type": "code",
   "execution_count": 418,
   "metadata": {
    "collapsed": false
   },
   "outputs": [
    {
     "data": {
      "image/png": "[encoded data removed]",
      "text/latex": [
       "$$\\left ( \\left[\\begin{matrix}0\\\\\\frac{d}{d t} f{\\left (t \\right )}\\\\0\\end{matrix}\\right], \\quad \\left[\\begin{matrix}\\frac{1}{h} \\left(c_{-1} + c_{-2} + c_{0}\\right) f{\\left (t \\right )}\\\\\\frac{1}{h} \\left(c_{-1} h + 2 c_{0} h\\right) \\frac{d}{d t} f{\\left (t \\right )}\\\\\\frac{1}{h} \\left(\\frac{c_{-1} h^{2}}{2} + 2 c_{0} h^{2}\\right) \\frac{d^{2}}{d t^{2}}  f{\\left (t \\right )}\\end{matrix}\\right]\\right )$$"
      ],
      "text/plain": [
       "⎛            ⎡  (c_{-1} + c_{-2} + c_{0})⋅f(t)  ⎤⎞\n",
       "⎜⎡   0    ⎤, ⎢  ──────────────────────────────  ⎥⎟\n",
       "⎜⎢        ⎥  ⎢                h                 ⎥⎟\n",
       "⎜⎢d       ⎥  ⎢                                  ⎥⎟\n",
       "⎜⎢──(f(t))⎥  ⎢                        d         ⎥⎟\n",
       "⎜⎢dt      ⎥  ⎢ (c_{-1}⋅h + 2⋅c_{0}⋅h)⋅──(f(t))  ⎥⎟\n",
       "⎜⎢        ⎥  ⎢                        dt        ⎥⎟\n",
       "⎜⎣   0    ⎦  ⎢ ───────────────────────────────  ⎥⎟\n",
       "⎜            ⎢                h                 ⎥⎟\n",
       "⎜            ⎢                                  ⎥⎟\n",
       "⎜            ⎢⎛        2             ⎞   2      ⎥⎟\n",
       "⎜            ⎢⎜c_{-1}⋅h             2⎟  d       ⎥⎟\n",
       "⎜            ⎢⎜───────── + 2⋅c_{0}⋅h ⎟⋅───(f(t))⎥⎟\n",
       "⎜            ⎢⎝    2                 ⎠   2      ⎥⎟\n",
       "⎜            ⎢                         dt       ⎥⎟\n",
       "⎜            ⎢──────────────────────────────────⎥⎟\n",
       "⎝            ⎣                h                 ⎦⎠"
      ]
     },
     "execution_count": 418,
     "metadata": {},
     "output_type": "execute_result"
    }
   ],
   "source": [
    "i = 0\n",
    "eqs_rhs = Matrix([diff(eq_rhs, diff(f(t), t, i))*diff(f(t), t, i) for i in range(N)])\n",
    "eqs_lhs = Matrix([diff(f(t), t, i)*KroneckerDelta(i, order) for i in range(N)])\n",
    "eqs_lhs, eqs_rhs"
   ]
  },
  {
   "cell_type": "markdown",
   "metadata": {},
   "source": [
    "If we think of this as a vectorspace whose basis vectors are each of the derivatives, these $N$ equations have a matrix representation."
   ]
  },
  {
   "cell_type": "code",
   "execution_count": 419,
   "metadata": {
    "collapsed": false
   },
   "outputs": [
    {
     "data": {
      "image/png": "[encoded data removed]",
      "text/latex": [
       "$$\\left[\\begin{matrix}\\frac{1}{h} & \\frac{1}{h} & \\frac{1}{h}\\\\0 & 1 & 2\\\\0 & \\frac{h}{2} & 2 h\\end{matrix}\\right]$$"
      ],
      "text/plain": [
       "⎡1  1   1 ⎤\n",
       "⎢─  ─   ─ ⎥\n",
       "⎢h  h   h ⎥\n",
       "⎢         ⎥\n",
       "⎢0  1   2 ⎥\n",
       "⎢         ⎥\n",
       "⎢   h     ⎥\n",
       "⎢0  ─  2⋅h⎥\n",
       "⎣   2     ⎦"
      ]
     },
     "execution_count": 419,
     "metadata": {},
     "output_type": "execute_result"
    }
   ],
   "source": [
    "A = Matrix([[diff(eqs_rhs[i], c[j])/diff(f(t), t, i) for j in range(N)] for i in range(N)])\n",
    "A"
   ]
  },
  {
   "cell_type": "code",
   "execution_count": 420,
   "metadata": {
    "collapsed": false
   },
   "outputs": [
    {
     "data": {
      "image/png": "[encoded data removed]",
      "text/latex": [
       "$$\\left[\\begin{matrix}0\\\\1\\\\0\\end{matrix}\\right]$$"
      ],
      "text/plain": [
       "⎡0⎤\n",
       "⎢ ⎥\n",
       "⎢1⎥\n",
       "⎢ ⎥\n",
       "⎣0⎦"
      ]
     },
     "execution_count": 420,
     "metadata": {},
     "output_type": "execute_result"
    }
   ],
   "source": [
    "b = Matrix([eqs_lhs[i]/diff(f(t), t, i) for i in range(N)])\n",
    "b"
   ]
  },
  {
   "cell_type": "code",
   "execution_count": 421,
   "metadata": {
    "collapsed": false
   },
   "outputs": [
    {
     "data": {
      "image/png": "[encoded data removed]",
      "text/latex": [
       "$$\\left [ - \\frac{3}{2}, \\quad 2, \\quad - \\frac{1}{2}\\right ]$$"
      ],
      "text/plain": [
       "[-3/2, 2, -1/2]"
      ]
     },
     "execution_count": 421,
     "metadata": {},
     "output_type": "execute_result"
    }
   ],
   "source": [
    "sol = A.inv()*b\n",
    "sol = [i for i in sol]\n",
    "sol"
   ]
  },
  {
   "cell_type": "code",
   "execution_count": 411,
   "metadata": {
    "collapsed": false
   },
   "outputs": [
    {
     "data": {
      "image/png": "[encoded data removed]",
      "text/latex": [
       "$$\\left \\{ c_{-1} : -2, \\quad c_{-2} : \\frac{1}{2}, \\quad c_{0} : \\frac{3}{2}\\right \\}$$"
      ],
      "text/plain": [
       "{c_{-1}: -2, c_{-2}: 1/2, c_{0}: 3/2}"
      ]
     },
     "execution_count": 411,
     "metadata": {},
     "output_type": "execute_result"
    }
   ],
   "source": [
    "sol_dict = {c[i]: sol[i] for i in range(N)}\n",
    "sol_dict"
   ]
  },
  {
   "cell_type": "markdown",
   "metadata": {},
   "source": [
    "We check that this is in deed a solution to our equation."
   ]
  },
  {
   "cell_type": "code",
   "execution_count": 412,
   "metadata": {
    "collapsed": false
   },
   "outputs": [
    {
     "data": {
      "image/png": "[encoded data removed]",
      "text/latex": [
       "$$\\left \\{ \\frac{d}{d t} f{\\left (t \\right )} : \\frac{d}{d t} f{\\left (t \\right )} + \\mathcal{O}\\left(h^{2}\\right)\\right \\}$$"
      ],
      "text/plain": [
       "⎧d         d           ⎛ 2⎞⎫\n",
       "⎨──(f(t)): ──(f(t)) + O⎝h ⎠⎬\n",
       "⎩dt        dt              ⎭"
      ]
     },
     "execution_count": 412,
     "metadata": {},
     "output_type": "execute_result"
    }
   ],
   "source": [
    "{eq_lhs: eq_rhs.subs(sol_dict).expand()}"
   ]
  },
  {
   "cell_type": "code",
   "execution_count": null,
   "metadata": {
    "collapsed": false
   },
   "outputs": [],
   "source": []
  },
  {
   "cell_type": "code",
   "execution_count": null,
   "metadata": {
    "collapsed": true
   },
   "outputs": [],
   "source": []
  },
  {
   "cell_type": "code",
   "execution_count": null,
   "metadata": {
    "collapsed": true
   },
   "outputs": [],
   "source": []
  },
  {
   "cell_type": "code",
   "execution_count": 323,
   "metadata": {
    "collapsed": false
   },
   "outputs": [
    {
     "data": {
      "image/png": "[encoded data removed]",
      "text/latex": [
       "$$c_{-1} + c_{0}$$"
      ],
      "text/plain": [
       "c_{-1} + c_{0}"
      ]
     },
     "execution_count": 323,
     "metadata": {},
     "output_type": "execute_result"
    }
   ],
   "source": [
    "eq_rhs = sum([c[i]*f_series.subs(tp, points[i]) for i in range(npoints)])\n",
    "eq_rhs = diff(eq_rhs, diff(f(t), t, 0))\n",
    "eq_rhs"
   ]
  },
  {
   "cell_type": "code",
   "execution_count": 280,
   "metadata": {
    "collapsed": true
   },
   "outputs": [],
   "source": []
  },
  {
   "cell_type": "code",
   "execution_count": 281,
   "metadata": {
    "collapsed": false
   },
   "outputs": [
    {
     "data": {
      "image/png": "[encoded data removed]",
      "text/latex": [
       "$$\\mathcal{O}\\left(t\\right)$$"
      ],
      "text/plain": [
       "O(t)"
      ]
     },
     "execution_count": 281,
     "metadata": {},
     "output_type": "execute_result"
    }
   ],
   "source": [
    "Order(t)"
   ]
  },
  {
   "cell_type": "code",
   "execution_count": null,
   "metadata": {
    "collapsed": true
   },
   "outputs": [],
   "source": []
  },
  {
   "cell_type": "code",
   "execution_count": null,
   "metadata": {
    "collapsed": true
   },
   "outputs": [],
   "source": []
  },
  {
   "cell_type": "code",
   "execution_count": 184,
   "metadata": {
    "collapsed": false
   },
   "outputs": [
    {
     "name": "stdout",
     "output_type": "stream",
     "text": [
      "⎡0⎤\n",
      "⎢ ⎥\n",
      "⎣1⎦\n",
      "[-1, 1]\n",
      "⎡0⎤\n",
      "⎢ ⎥\n",
      "⎢1⎥\n",
      "⎢ ⎥\n",
      "⎣0⎦\n",
      "[-1/2, 0, 1/2]\n",
      "⎡0⎤\n",
      "⎢ ⎥\n",
      "⎢1⎥\n",
      "⎢ ⎥\n",
      "⎢0⎥\n",
      "⎢ ⎥\n",
      "⎣0⎦\n",
      "[1/6, -1, 1/2, 1/3]\n",
      "⎡0⎤\n",
      "⎢ ⎥\n",
      "⎢1⎥\n",
      "⎢ ⎥\n",
      "⎢0⎥\n",
      "⎢ ⎥\n",
      "⎢0⎥\n",
      "⎢ ⎥\n",
      "⎣0⎦\n",
      "[-1/12, 1/2, -3/2, 5/6, 1/4]\n",
      "⎡0⎤\n",
      "⎢ ⎥\n",
      "⎢1⎥\n",
      "⎢ ⎥\n",
      "⎢0⎥\n",
      "⎢ ⎥\n",
      "⎢0⎥\n",
      "⎢ ⎥\n",
      "⎢0⎥\n",
      "⎢ ⎥\n",
      "⎣0⎦\n",
      "[1/20, -1/3, 1, -2, 13/12, 1/5]\n",
      "⎡0⎤\n",
      "⎢ ⎥\n",
      "⎢1⎥\n",
      "⎢ ⎥\n",
      "⎢0⎥\n",
      "⎢ ⎥\n",
      "⎢0⎥\n",
      "⎢ ⎥\n",
      "⎢0⎥\n",
      "⎢ ⎥\n",
      "⎢0⎥\n",
      "⎢ ⎥\n",
      "⎣0⎦\n",
      "[-1/30, 1/4, -5/6, 5/3, -5/2, 77/60, 1/6]\n"
     ]
    }
   ],
   "source": [
    "for i in range(1, 7):\n",
    "    print get_coeffs(1, i)"
   ]
  },
  {
   "cell_type": "code",
   "execution_count": null,
   "metadata": {
    "collapsed": true
   },
   "outputs": [],
   "source": []
  }
 ],
 "metadata": {
  "kernelspec": {
   "display_name": "Python 2",
   "language": "python",
   "name": "python2"
  },
  "language_info": {
   "codemirror_mode": {
    "name": "ipython",
    "version": 2
   },
   "file_extension": ".py",
   "mimetype": "text/x-python",
   "name": "python",
   "nbconvert_exporter": "python",
   "pygments_lexer": "ipython2",
   "version": "2.7.13"
  }
 },
 "nbformat": 4,
 "nbformat_minor": 2
}
