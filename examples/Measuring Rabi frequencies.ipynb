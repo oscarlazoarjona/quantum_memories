{
 "cells": [
  {
   "cell_type": "markdown",
   "metadata": {},
   "source": [
    "# The time Full width at half maximum from the power spectrum\n",
    "\n",
    "We calculate what is the full width at half maximum of the Rabi frequency pulse for given standard deviation of the power spectrum."
   ]
  },
  {
   "cell_type": "code",
   "execution_count": 36,
   "metadata": {
    "collapsed": false
   },
   "outputs": [],
   "source": [
    "from sympy import symbols, Matrix, init_printing, latex, exp, integrate, diff, pprint, oo\n",
    "from sympy import solve,log,sqrt,fourier_transform,inverse_fourier_transform,sin, cos, I, DiracDelta, pi\n",
    "from sympy import atan, Integer, simplify"
   ]
  },
  {
   "cell_type": "code",
   "execution_count": 37,
   "metadata": {
    "collapsed": true
   },
   "outputs": [],
   "source": [
    "init_printing()"
   ]
  },
  {
   "cell_type": "code",
   "execution_count": 38,
   "metadata": {
    "collapsed": false
   },
   "outputs": [
    {
     "data": {
      "image/png": "[encoded data removed]",
      "text/latex": [
       "$$\\left ( t, \\quad x, \\quad y, \\quad z, \\quad \\omega, \\quad \\nu\\right )$$"
      ],
      "text/plain": [
       "(t, x, y, z, ω, ν)"
      ]
     },
     "execution_count": 38,
     "metadata": {},
     "output_type": "execute_result"
    }
   ],
   "source": [
    "t,x,y,z=symbols(\"t x y z\",real=True)\n",
    "omega, nu=symbols(\"omega nu\",real=True)\n",
    "R=Matrix([x,y,z])\n",
    "t,x,y,z, omega, nu"
   ]
  },
  {
   "cell_type": "code",
   "execution_count": 39,
   "metadata": {
    "collapsed": false
   },
   "outputs": [
    {
     "data": {
      "image/png": "[encoded data removed]",
      "text/latex": [
       "$$\\left ( \\sigma, \\quad w, \\quad w', \\quad \\omega_{0}, \\quad \\nu_{0}, \\quad \\tau\\right )$$"
      ],
      "text/plain": [
       "(σ, w, w', ω₀, ν₀, τ)"
      ]
     },
     "execution_count": 39,
     "metadata": {},
     "output_type": "execute_result"
    }
   ],
   "source": [
    "sigma,w,wp, omega0, nu0, tau=symbols(\"sigma w w' omega0 nu0 tau\", positive=True)\n",
    "sigma,w,wp, omega0, nu0, tau"
   ]
  },
  {
   "cell_type": "code",
   "execution_count": 176,
   "metadata": {
    "collapsed": false
   },
   "outputs": [
    {
     "data": {
      "image/png": "[encoded data removed]",
      "text/latex": [
       "$$e^{- \\frac{4 t^{2}}{\\tau^{2}} \\log{\\left (2 \\right )}}$$"
      ],
      "text/plain": [
       "     2        \n",
       " -4⋅t ⋅log(2) \n",
       " ─────────────\n",
       "        2     \n",
       "       τ      \n",
       "ℯ             "
      ]
     },
     "execution_count": 176,
     "metadata": {},
     "output_type": "execute_result"
    }
   ],
   "source": [
    "E=exp(-(2*sqrt(log(2))*t/tau)**2)\n",
    "E"
   ]
  },
  {
   "cell_type": "code",
   "execution_count": 177,
   "metadata": {
    "collapsed": false
   },
   "outputs": [
    {
     "data": {
      "image/png": "[encoded data removed]",
      "text/latex": [
       "$$\\left ( \\frac{1}{2}, \\quad \\frac{1}{2}\\right )$$"
      ],
      "text/plain": [
       "(1/2, 1/2)"
      ]
     },
     "execution_count": 177,
     "metadata": {},
     "output_type": "execute_result"
    }
   ],
   "source": [
    "E.subs({t:-tau/2}), E.subs({t:tau/2})"
   ]
  },
  {
   "cell_type": "code",
   "execution_count": 178,
   "metadata": {
    "collapsed": false
   },
   "outputs": [
    {
     "data": {
      "image/png": "[encoded data removed]",
      "text/latex": [
       "$$e^{- \\frac{8 t^{2}}{\\tau^{2}} \\log{\\left (2 \\right )}}$$"
      ],
      "text/plain": [
       "     2        \n",
       " -8⋅t ⋅log(2) \n",
       " ─────────────\n",
       "        2     \n",
       "       τ      \n",
       "ℯ             "
      ]
     },
     "execution_count": 178,
     "metadata": {},
     "output_type": "execute_result"
    }
   ],
   "source": [
    "P = E*E.conjugate()\n",
    "P"
   ]
  },
  {
   "cell_type": "code",
   "execution_count": 184,
   "metadata": {
    "collapsed": false
   },
   "outputs": [
    {
     "data": {
      "image/png": "[encoded data removed]",
      "text/latex": [
       "$$\\frac{\\sqrt{2} \\tau}{2}$$"
      ],
      "text/plain": [
       "√2⋅τ\n",
       "────\n",
       " 2  "
      ]
     },
     "execution_count": 184,
     "metadata": {},
     "output_type": "execute_result"
    }
   ],
   "source": [
    "sol = solve(P - P.subs({t:0})/2, t)\n",
    "sol = [sol[i].simplify() for i in range(len(sol))]\n",
    "fwhm_P = sol[3]-sol[2]\n",
    "fwhm_P"
   ]
  },
  {
   "cell_type": "code",
   "execution_count": 185,
   "metadata": {
    "collapsed": false
   },
   "outputs": [
    {
     "data": {
      "image/png": "[encoded data removed]",
      "text/latex": [
       "$$\\frac{\\sqrt{\\pi} \\tau e^{- \\frac{\\pi^{2} \\nu^{2} \\tau^{2}}{4 \\log{\\left (2 \\right )}}}}{2 \\sqrt{\\log{\\left (2 \\right )}}}$$"
      ],
      "text/plain": [
       "        2  2  2 \n",
       "      -π ⋅ν ⋅τ  \n",
       "      ──────────\n",
       "       4⋅log(2) \n",
       "√π⋅τ⋅ℯ          \n",
       "────────────────\n",
       "      ________  \n",
       "  2⋅╲╱ log(2)   "
      ]
     },
     "execution_count": 185,
     "metadata": {},
     "output_type": "execute_result"
    }
   ],
   "source": [
    "E_spectrum=fourier_transform(E, t, nu)\n",
    "E_spectrum"
   ]
  },
  {
   "cell_type": "code",
   "execution_count": 186,
   "metadata": {
    "collapsed": false
   },
   "outputs": [
    {
     "data": {
      "image/png": "[encoded data removed]",
      "text/latex": [
       "$$\\frac{\\pi \\tau^{2} e^{- \\frac{\\pi^{2} \\nu^{2} \\tau^{2}}{2 \\log{\\left (2 \\right )}}}}{4 \\log{\\left (2 \\right )}}$$"
      ],
      "text/plain": [
       "        2  2  2 \n",
       "      -π ⋅ν ⋅τ  \n",
       "      ──────────\n",
       "   2   2⋅log(2) \n",
       "π⋅τ ⋅ℯ          \n",
       "────────────────\n",
       "    4⋅log(2)    "
      ]
     },
     "execution_count": 186,
     "metadata": {},
     "output_type": "execute_result"
    }
   ],
   "source": [
    "P_spectrum=E_spectrum*E_spectrum.conjugate()\n",
    "P_spectrum"
   ]
  },
  {
   "cell_type": "code",
   "execution_count": 188,
   "metadata": {
    "collapsed": false
   },
   "outputs": [
    {
     "data": {
      "image/png": "[encoded data removed]",
      "text/latex": [
       "$$\\left ( \\frac{2 \\sqrt{2}}{\\pi \\tau} \\log{\\left (2 \\right )}, \\quad 0.624051716156414\\right )$$"
      ],
      "text/plain": [
       "⎛2⋅√2⋅log(2)                   ⎞\n",
       "⎜───────────, 0.624051716156414⎟\n",
       "⎝    π⋅τ                       ⎠"
      ]
     },
     "execution_count": 188,
     "metadata": {},
     "output_type": "execute_result"
    }
   ],
   "source": [
    "sol = solve(P_spectrum - P_spectrum.subs({nu:0})/2, nu)\n",
    "fwhm_Pnu = sol[1]-sol[0]\n",
    "fwhm_Pnu, fwhm_Pnu.subs({tau:1}).n()"
   ]
  },
  {
   "cell_type": "code",
   "execution_count": 231,
   "metadata": {
    "collapsed": false
   },
   "outputs": [
    {
     "name": "stdout",
     "output_type": "stream",
     "text": [
      "2*sqrt(2)*log(2)/(pi*tau)\n"
     ]
    }
   ],
   "source": [
    "print fwhm_Pnu"
   ]
  },
  {
   "cell_type": "code",
   "execution_count": 232,
   "metadata": {
    "collapsed": false
   },
   "outputs": [
    {
     "data": {
      "image/png": "[encoded data removed]",
      "text/latex": [
       "$$\\frac{2 \\sqrt{2}}{\\pi \\tau} \\log{\\left (2 \\right )}$$"
      ],
      "text/plain": [
       "2⋅√2⋅log(2)\n",
       "───────────\n",
       "    π⋅τ    "
      ]
     },
     "execution_count": 232,
     "metadata": {},
     "output_type": "execute_result"
    }
   ],
   "source": [
    "fwhm_Pnu"
   ]
  },
  {
   "cell_type": "code",
   "execution_count": 233,
   "metadata": {
    "collapsed": false
   },
   "outputs": [
    {
     "data": {
      "image/png": "[encoded data removed]",
      "text/latex": [
       "$$\\frac{2}{\\pi} \\log{\\left (2 \\right )}$$"
      ],
      "text/plain": [
       "2⋅log(2)\n",
       "────────\n",
       "   π    "
      ]
     },
     "execution_count": 233,
     "metadata": {},
     "output_type": "execute_result"
    }
   ],
   "source": [
    "fwhm_Pnu*fwhm_P"
   ]
  },
  {
   "cell_type": "code",
   "execution_count": 190,
   "metadata": {
    "collapsed": false
   },
   "outputs": [
    {
     "data": {
      "image/png": "[encoded data removed]",
      "text/latex": [
       "$$0.441271200305303$$"
      ],
      "text/plain": [
       "0.441271200305303"
      ]
     },
     "execution_count": 190,
     "metadata": {},
     "output_type": "execute_result"
    }
   ],
   "source": [
    "(fwhm_Pnu*fwhm_P).n()"
   ]
  },
  {
   "cell_type": "code",
   "execution_count": 234,
   "metadata": {
    "collapsed": false
   },
   "outputs": [
    {
     "data": {
      "image/png": "[encoded data removed]",
      "text/latex": [
       "$$2.82842712474619$$"
      ],
      "text/plain": [
       "2.82842712474619"
      ]
     },
     "execution_count": 234,
     "metadata": {},
     "output_type": "execute_result"
    }
   ],
   "source": [
    "sqrt(8.0)"
   ]
  },
  {
   "cell_type": "code",
   "execution_count": null,
   "metadata": {
    "collapsed": true
   },
   "outputs": [],
   "source": []
  },
  {
   "cell_type": "code",
   "execution_count": 199,
   "metadata": {
    "collapsed": false
   },
   "outputs": [
    {
     "data": {
      "image/png": "[encoded data removed]",
      "text/latex": [
       "$$A e^{- \\frac{\\left(\\nu - \\nu_{0}\\right)^{2}}{2 \\sigma^{2}}}$$"
      ],
      "text/plain": [
       "            2 \n",
       "   -(ν - ν₀)  \n",
       "   ───────────\n",
       "          2   \n",
       "       2⋅σ    \n",
       "A⋅ℯ           "
      ]
     },
     "execution_count": 199,
     "metadata": {},
     "output_type": "execute_result"
    }
   ],
   "source": [
    "Ptilde=A*exp(-(nu-nu0)**2/2/sigma**2)\n",
    "Ptilde"
   ]
  },
  {
   "cell_type": "code",
   "execution_count": 200,
   "metadata": {
    "collapsed": false
   },
   "outputs": [
    {
     "data": {
      "image/png": "[encoded data removed]",
      "text/latex": [
       "$$\\sqrt{2} \\sqrt{\\pi} A \\sigma e^{2 \\pi t \\left(i \\nu_{0} - \\pi \\sigma^{2} t\\right)}$$"
      ],
      "text/plain": [
       "                 ⎛          2  ⎞\n",
       "           2⋅π⋅t⋅⎝ⅈ⋅ν₀ - π⋅σ ⋅t⎠\n",
       "√2⋅√π⋅A⋅σ⋅ℯ                     "
      ]
     },
     "execution_count": 200,
     "metadata": {},
     "output_type": "execute_result"
    }
   ],
   "source": [
    "P=inverse_fourier_transform(Ptilde,nu,t)\n",
    "P"
   ]
  },
  {
   "cell_type": "code",
   "execution_count": 201,
   "metadata": {
    "collapsed": false
   },
   "outputs": [
    {
     "data": {
      "image/png": "[encoded data removed]",
      "text/latex": [
       "$$B e^{\\pi t \\left(i \\nu_{0} - \\pi \\sigma^{2} t\\right)}$$"
      ],
      "text/plain": [
       "       ⎛          2  ⎞\n",
       "   π⋅t⋅⎝ⅈ⋅ν₀ - π⋅σ ⋅t⎠\n",
       "B⋅ℯ                   "
      ]
     },
     "execution_count": 201,
     "metadata": {},
     "output_type": "execute_result"
    }
   ],
   "source": [
    "B=symbols(\"B\",real=True)\n",
    "Omegas=B*exp(pi*t*( I*nu0-pi*sigma**2*t ))\n",
    "Omegas"
   ]
  },
  {
   "cell_type": "code",
   "execution_count": 202,
   "metadata": {
    "collapsed": false
   },
   "outputs": [
    {
     "data": {
      "image/png": "[encoded data removed]",
      "text/latex": [
       "$$\\frac{2}{\\pi \\sigma} \\sqrt{\\log{\\left (2 \\right )}}$$"
      ],
      "text/plain": [
       "    ________\n",
       "2⋅╲╱ log(2) \n",
       "────────────\n",
       "    π⋅σ     "
      ]
     },
     "execution_count": 202,
     "metadata": {},
     "output_type": "execute_result"
    }
   ],
   "source": [
    "sol=solve( Omegas.subs({nu0:0})-Omegas.subs({nu0:0,t:0})/2 , t)\n",
    "fwhm=sol[1]-sol[0]\n",
    "fwhm"
   ]
  },
  {
   "cell_type": "code",
   "execution_count": 203,
   "metadata": {
    "collapsed": false
   },
   "outputs": [
    {
     "data": {
      "image/png": "[encoded data removed]",
      "text/latex": [
       "$$\\frac{2}{\\pi \\sigma} \\sqrt{\\log{\\left (\\sqrt{2} \\right )}}$$"
      ],
      "text/plain": [
       "    _________\n",
       "2⋅╲╱ log(√2) \n",
       "─────────────\n",
       "     π⋅σ     "
      ]
     },
     "execution_count": 203,
     "metadata": {},
     "output_type": "execute_result"
    }
   ],
   "source": [
    "sol=solve( P.subs({nu0:0})-P.subs({nu0:0,t:0})/2 , t)\n",
    "fwhmp=sol[3]-sol[2]\n",
    "fwhmp"
   ]
  },
  {
   "cell_type": "code",
   "execution_count": 204,
   "metadata": {
    "collapsed": false
   },
   "outputs": [
    {
     "data": {
      "image/png": "[encoded data removed]",
      "text/latex": [
       "$$\\left \\{ \\sigma : \\frac{2}{\\pi \\tau} \\sqrt{\\log{\\left (2 \\right )}}\\right \\}$$"
      ],
      "text/plain": [
       "⎧       ________⎫\n",
       "⎪   2⋅╲╱ log(2) ⎪\n",
       "⎨σ: ────────────⎬\n",
       "⎪       π⋅τ     ⎪\n",
       "⎩               ⎭"
      ]
     },
     "execution_count": 204,
     "metadata": {},
     "output_type": "execute_result"
    }
   ],
   "source": [
    "tau=symbols(\"tau\",positive=True)\n",
    "sigma_subs={sigma: solve(tau-fwhm,sigma)[0]}\n",
    "sigma_subs"
   ]
  },
  {
   "cell_type": "markdown",
   "metadata": {},
   "source": [
    "# Power of a Gaussian beam\n",
    "\n",
    "We define a gaussian beam in the following way"
   ]
  },
  {
   "cell_type": "code",
   "execution_count": 205,
   "metadata": {
    "collapsed": false
   },
   "outputs": [
    {
     "data": {
      "image/png": "[encoded data removed]",
      "text/latex": [
       "$$\\left ( \\lambda, \\quad k_{z}, \\quad E_{0}\\right )$$"
      ],
      "text/plain": [
       "(λ, k_z, E₀)"
      ]
     },
     "execution_count": 205,
     "metadata": {},
     "output_type": "execute_result"
    }
   ],
   "source": [
    "lam,kz=symbols(\"lambda k_z\",positive=True)\n",
    "E0 =symbols(\"E_0\",real=True)\n",
    "lam,kz,E0"
   ]
  },
  {
   "cell_type": "code",
   "execution_count": 206,
   "metadata": {
    "collapsed": false
   },
   "outputs": [
    {
     "data": {
      "image/png": "[encoded data removed]",
      "text/latex": [
       "$$\\frac{\\pi w'^{2}}{4 \\lambda}$$"
      ],
      "text/plain": [
       "    2\n",
       "π⋅w' \n",
       "─────\n",
       " 4⋅λ "
      ]
     },
     "execution_count": 206,
     "metadata": {},
     "output_type": "execute_result"
    }
   ],
   "source": [
    "zr=pi*w**2/lam\n",
    "zr=zr.subs({w:wp/2})\n",
    "zr"
   ]
  },
  {
   "cell_type": "code",
   "execution_count": 207,
   "metadata": {
    "collapsed": false
   },
   "outputs": [
    {
     "data": {
      "image/png": "[encoded data removed]",
      "text/latex": [
       "$$z \\left(1 + \\frac{\\pi^{2} w'^{4}}{16 \\lambda^{2} z^{2}}\\right)$$"
      ],
      "text/plain": [
       "  ⎛      2   4 ⎞\n",
       "  ⎜     π ⋅w'  ⎟\n",
       "z⋅⎜1 + ────────⎟\n",
       "  ⎜        2  2⎟\n",
       "  ⎝    16⋅λ ⋅z ⎠"
      ]
     },
     "execution_count": 207,
     "metadata": {},
     "output_type": "execute_result"
    }
   ],
   "source": [
    "Rz=z*(1+zr**2/z**2)\n",
    "Rz=Rz.subs({w:wp/2})\n",
    "Rz"
   ]
  },
  {
   "cell_type": "code",
   "execution_count": 208,
   "metadata": {
    "collapsed": false
   },
   "outputs": [
    {
     "data": {
      "image/png": "[encoded data removed]",
      "text/latex": [
       "$$\\frac{w'}{2} \\sqrt{\\frac{16 \\lambda^{2} z^{2}}{\\pi^{2} w'^{4}} + 1}$$"
      ],
      "text/plain": [
       "         ______________\n",
       "        ╱     2  2     \n",
       "       ╱  16⋅λ ⋅z      \n",
       "w'⋅   ╱   ──────── + 1 \n",
       "     ╱      2   4      \n",
       "   ╲╱      π ⋅w'       \n",
       "───────────────────────\n",
       "           2           "
      ]
     },
     "execution_count": 208,
     "metadata": {},
     "output_type": "execute_result"
    }
   ],
   "source": [
    "wz=w*sqrt(1+z**2/zr**2)\n",
    "wz=wz.subs({w:wp/2})\n",
    "wz"
   ]
  },
  {
   "cell_type": "code",
   "execution_count": 209,
   "metadata": {
    "collapsed": false
   },
   "outputs": [
    {
     "data": {
      "image/png": "[encoded data removed]",
      "text/latex": [
       "$$\\operatorname{atan}{\\left (\\frac{4 \\lambda z}{\\pi w'^{2}} \\right )}$$"
      ],
      "text/plain": [
       "    ⎛4⋅λ⋅z⎞\n",
       "atan⎜─────⎟\n",
       "    ⎜    2⎟\n",
       "    ⎝π⋅w' ⎠"
      ]
     },
     "execution_count": 209,
     "metadata": {},
     "output_type": "execute_result"
    }
   ],
   "source": [
    "psi=atan(z/zr)\n",
    "psi=psi.subs({w:wp/2})\n",
    "psi"
   ]
  },
  {
   "cell_type": "code",
   "execution_count": 210,
   "metadata": {
    "collapsed": false
   },
   "outputs": [
    {
     "data": {
      "image/png": "[encoded data removed]",
      "text/latex": [
       "$$\\frac{\\pi E_{0} w'^{2}}{\\sqrt{16 \\lambda^{2} z^{2} + \\pi^{2} w'^{4}}} e^{- i \\left(k_{z} z + \\frac{k_{z} \\left(x^{2} + y^{2} + z^{2}\\right)}{2 z \\left(1 + \\frac{\\pi^{2} w'^{4}}{16 \\lambda^{2} z^{2}}\\right)} - \\operatorname{atan}{\\left (\\frac{4 \\lambda z}{\\pi w'^{2}} \\right )}\\right)} e^{\\frac{- 4 x^{2} - 4 y^{2} - 4 z^{2}}{w'^{2} \\left(\\frac{16 \\lambda^{2} z^{2}}{\\pi^{2} w'^{4}} + 1\\right)}}$$"
      ],
      "text/plain": [
       "             ⎛            ⎛ 2    2    2⎞              ⎞    ⎛   2    2    2⎞\n",
       "             ⎜        k_z⋅⎝x  + y  + z ⎠       ⎛4⋅λ⋅z⎞⎟  4⋅⎝- x  - y  - z ⎠\n",
       "          -ⅈ⋅⎜k_z⋅z + ────────────────── - atan⎜─────⎟⎟  ──────────────────\n",
       "             ⎜            ⎛      2   4 ⎞       ⎜    2⎟⎟      ⎛    2  2    ⎞\n",
       "             ⎜            ⎜     π ⋅w'  ⎟       ⎝π⋅w' ⎠⎟    2 ⎜16⋅λ ⋅z     ⎟\n",
       "             ⎜        2⋅z⋅⎜1 + ────────⎟              ⎟  w' ⋅⎜──────── + 1⎟\n",
       "             ⎜            ⎜        2  2⎟              ⎟      ⎜  2   4     ⎟\n",
       "       2     ⎝            ⎝    16⋅λ ⋅z ⎠              ⎠      ⎝ π ⋅w'      ⎠\n",
       "π⋅E₀⋅w' ⋅ℯ                                             ⋅ℯ                  \n",
       "───────────────────────────────────────────────────────────────────────────\n",
       "                              ___________________                          \n",
       "                             ╱     2  2    2   4                           \n",
       "                           ╲╱  16⋅λ ⋅z  + π ⋅w'                            "
      ]
     },
     "execution_count": 210,
     "metadata": {},
     "output_type": "execute_result"
    }
   ],
   "source": [
    "# A Gaussian beam:\n",
    "sigma4=False; sigma4=True\n",
    "R2=R.dot(R)\n",
    "Electric_field=E0*w/wz\n",
    "Electric_field=Electric_field.factor()\n",
    "Electric_field=Electric_field*exp(-R2/wz**2)\n",
    "Electric_field=Electric_field*exp(-I*(kz*z + kz*R2/2/Rz -psi ))\n",
    "#E=E.subs({kz:-kz})\n",
    "if sigma4:\n",
    "    Electric_field=Electric_field.subs({w:wp/2})\n",
    "\n",
    "Electric_field"
   ]
  },
  {
   "cell_type": "code",
   "execution_count": 211,
   "metadata": {
    "collapsed": false
   },
   "outputs": [
    {
     "data": {
      "image/png": "[encoded data removed]",
      "text/latex": [
       "$$\\left ( E, \\quad e, \\quad r, \\quad \\epsilon_{0}, \\quad c, \\quad \\Omega_{max}, \\quad \\hbar\\right )$$"
      ],
      "text/plain": [
       "(E, e, r, ε₀, c, Ω_max, h̅)"
      ]
     },
     "execution_count": 211,
     "metadata": {},
     "output_type": "execute_result"
    }
   ],
   "source": [
    "E,e,r,epsilon0,c,Omega,hbar=symbols(\"E e r epsilon_0 c Omega_max hbar\",positive=True)\n",
    "E,e,r,epsilon0,c,Omega,hbar"
   ]
  },
  {
   "cell_type": "markdown",
   "metadata": {},
   "source": [
    "In the paraxial limit, this is:"
   ]
  },
  {
   "cell_type": "code",
   "execution_count": 212,
   "metadata": {
    "collapsed": false
   },
   "outputs": [
    {
     "data": {
      "image/png": "[encoded data removed]",
      "text/latex": [
       "$$E_{0} e^{- \\frac{4 x^{2}}{w'^{2}}} e^{- \\frac{4 y^{2}}{w'^{2}}} e^{- \\frac{4}{\\tau^{2}} \\left(t - \\frac{z}{c}\\right)^{2} \\log{\\left (2 \\right )}}$$"
      ],
      "text/plain": [
       "                              2        \n",
       "                       ⎛    z⎞         \n",
       "        2       2   -4⋅⎜t - ─⎟ ⋅log(2) \n",
       "    -4⋅x    -4⋅y       ⎝    c⎠         \n",
       "    ──────  ──────  ───────────────────\n",
       "       2       2              2        \n",
       "     w'      w'              τ         \n",
       "E₀⋅ℯ      ⋅ℯ      ⋅ℯ                   "
      ]
     },
     "execution_count": 212,
     "metadata": {},
     "output_type": "execute_result"
    }
   ],
   "source": [
    "Ewaist=Electric_field.limit(z,0)*Omegas.subs({nu0:0})/B\n",
    "Ewaist=Ewaist.subs(sigma_subs)\n",
    "Ewaist=Ewaist.subs({t:t-z/c})\n",
    "Ewaist"
   ]
  },
  {
   "cell_type": "code",
   "execution_count": 213,
   "metadata": {
    "collapsed": false
   },
   "outputs": [
    {
     "data": {
      "image/png": "[encoded data removed]",
      "text/latex": [
       "$$\\frac{E_{0}^{2}}{e^{2}}$$"
      ],
      "text/plain": [
       "  2  -2\n",
       "E₀ ⋅ℯ  "
      ]
     },
     "execution_count": 213,
     "metadata": {},
     "output_type": "execute_result"
    }
   ],
   "source": [
    "(Ewaist**2).subs({t:0,z:0,y:0,x:wp/2})"
   ]
  },
  {
   "cell_type": "code",
   "execution_count": 214,
   "metadata": {
    "collapsed": false
   },
   "outputs": [
    {
     "data": {
      "image/png": "[encoded data removed]",
      "text/latex": [
       "$$\\left \\{ E_{0} : \\frac{\\Omega_{max} \\hbar}{e r}\\right \\}$$"
      ],
      "text/plain": [
       "⎧    Ω_max⋅h̅⎫\n",
       "⎨E₀: ────────⎬\n",
       "⎩      e⋅r   ⎭"
      ]
     },
     "execution_count": 214,
     "metadata": {},
     "output_type": "execute_result"
    }
   ],
   "source": [
    "E0_subs={E0:hbar*Omega/e/r}\n",
    "E0_subs"
   ]
  },
  {
   "cell_type": "code",
   "execution_count": 215,
   "metadata": {
    "collapsed": false
   },
   "outputs": [
    {
     "data": {
      "image/png": "[encoded data removed]",
      "text/latex": [
       "$$\\Omega_{max} e^{- \\frac{4 x^{2}}{w'^{2}}} e^{- \\frac{4 y^{2}}{w'^{2}}} e^{- \\frac{4}{\\tau^{2}} \\left(t - \\frac{z}{c}\\right)^{2} \\log{\\left (2 \\right )}}$$"
      ],
      "text/plain": [
       "                                 2        \n",
       "                          ⎛    z⎞         \n",
       "           2       2   -4⋅⎜t - ─⎟ ⋅log(2) \n",
       "       -4⋅x    -4⋅y       ⎝    c⎠         \n",
       "       ──────  ──────  ───────────────────\n",
       "          2       2              2        \n",
       "        w'      w'              τ         \n",
       "Ω_max⋅ℯ      ⋅ℯ      ⋅ℯ                   "
      ]
     },
     "execution_count": 215,
     "metadata": {},
     "output_type": "execute_result"
    }
   ],
   "source": [
    "Omegawaist=Ewaist*r*e/hbar\n",
    "Omegawaist=Omegawaist.subs(E0_subs)\n",
    "Omegawaist"
   ]
  },
  {
   "cell_type": "markdown",
   "metadata": {},
   "source": [
    "We check that the full width at half maximum is $\\tau$."
   ]
  },
  {
   "cell_type": "code",
   "execution_count": 216,
   "metadata": {
    "collapsed": false
   },
   "outputs": [
    {
     "data": {
      "image/png": "[encoded data removed]",
      "text/latex": [
       "$$\\tau$$"
      ],
      "text/plain": [
       "τ"
      ]
     },
     "execution_count": 216,
     "metadata": {},
     "output_type": "execute_result"
    }
   ],
   "source": [
    "sol=solve(Ewaist.subs({x:0,y:0,z:0})-E0/2,t)\n",
    "(sol[3]-sol[2]).simplify()"
   ]
  },
  {
   "cell_type": "code",
   "execution_count": 217,
   "metadata": {
    "collapsed": false
   },
   "outputs": [
    {
     "data": {
      "image/png": "[encoded data removed]",
      "text/latex": [
       "$$\\frac{\\Omega_{max}^{2} c \\epsilon_{0} \\hbar^{2}}{2 e^{2} r^{2}} e^{- \\frac{8 x^{2}}{w'^{2}}} e^{- \\frac{8 y^{2}}{w'^{2}}} e^{- \\frac{8}{\\tau^{2}} \\left(t - \\frac{z}{c}\\right)^{2} \\log{\\left (2 \\right )}}$$"
      ],
      "text/plain": [
       "                                           2        \n",
       "                                    ⎛    z⎞         \n",
       "                     2       2   -8⋅⎜t - ─⎟ ⋅log(2) \n",
       "                 -8⋅x    -8⋅y       ⎝    c⎠         \n",
       "                 ──────  ──────  ───────────────────\n",
       "                    2       2              2        \n",
       "     2        2   w'      w'              τ         \n",
       "Ω_max ⋅c⋅ε₀⋅h̅ ⋅ℯ      ⋅ℯ      ⋅ℯ                   \n",
       "────────────────────────────────────────────────────\n",
       "                         2  2                       \n",
       "                      2⋅e ⋅r                        "
      ]
     },
     "execution_count": 217,
     "metadata": {},
     "output_type": "execute_result"
    }
   ],
   "source": [
    "Iwaist=epsilon0*c/2*Ewaist**2\n",
    "Iwaist=Iwaist.subs(E0_subs)\n",
    "Iwaist"
   ]
  },
  {
   "cell_type": "code",
   "execution_count": 218,
   "metadata": {
    "collapsed": false
   },
   "outputs": [
    {
     "data": {
      "image/png": "[encoded data removed]",
      "text/latex": [
       "$$\\frac{\\sqrt{2} \\pi^{\\frac{3}{2}} \\Omega_{max}^{2} c \\epsilon_{0} \\hbar^{2} \\tau w'^{2}}{64 e^{2} r^{2} \\sqrt{\\log{\\left (2 \\right )}}}$$"
      ],
      "text/plain": [
       "    3/2      2        2     2\n",
       "√2⋅π   ⋅Ω_max ⋅c⋅ε₀⋅h̅ ⋅τ⋅w' \n",
       "─────────────────────────────\n",
       "         2  2   ________     \n",
       "     64⋅e ⋅r ⋅╲╱ log(2)      "
      ]
     },
     "execution_count": 218,
     "metadata": {},
     "output_type": "execute_result"
    }
   ],
   "source": [
    "Energy_pulse=integrate(integrate(integrate(Iwaist,(x,-oo,oo)),(y,-oo,oo)),(t,-oo,oo))\n",
    "Energy_pulse"
   ]
  },
  {
   "cell_type": "markdown",
   "metadata": {},
   "source": [
    "The peak Rabi frequency in terms of the standard deviation of the power spectrum envelope."
   ]
  },
  {
   "cell_type": "code",
   "execution_count": 219,
   "metadata": {
    "collapsed": false
   },
   "outputs": [
    {
     "data": {
      "image/png": "[encoded data removed]",
      "text/latex": [
       "$$\\frac{4 \\cdot 2^{\\frac{3}{4}} \\sqrt{E} e r \\sqrt[4]{\\log{\\left (2 \\right )}}}{\\pi^{\\frac{3}{4}} \\sqrt{c} \\sqrt{\\epsilon_{0}} \\hbar \\sqrt{\\tau} w'}$$"
      ],
      "text/plain": [
       "   3/4        4 ________\n",
       "4⋅2   ⋅√E⋅e⋅r⋅╲╱ log(2) \n",
       "────────────────────────\n",
       " 3/4      ____          \n",
       "π   ⋅√c⋅╲╱ ε₀ ⋅h̅⋅√τ⋅w' "
      ]
     },
     "execution_count": 219,
     "metadata": {},
     "output_type": "execute_result"
    }
   ],
   "source": [
    "Rabi_peak=solve(E-Energy_pulse,Omega)[0]\n",
    "Rabi_peak"
   ]
  },
  {
   "cell_type": "markdown",
   "metadata": {},
   "source": [
    "# Number of photons"
   ]
  },
  {
   "cell_type": "code",
   "execution_count": 220,
   "metadata": {
    "collapsed": false
   },
   "outputs": [
    {
     "data": {
      "image/png": "[encoded data removed]",
      "text/latex": [
       "$$\\frac{\\Omega_{max}^{2} c \\epsilon_{0} \\hbar^{2}}{2 e^{2} r^{2}} e^{- \\frac{8 x^{2}}{w'^{2}}} e^{- \\frac{8 y^{2}}{w'^{2}}} e^{- \\frac{8}{\\tau^{2}} \\left(t - \\frac{z}{c}\\right)^{2} \\log{\\left (2 \\right )}}$$"
      ],
      "text/plain": [
       "                                           2        \n",
       "                                    ⎛    z⎞         \n",
       "                     2       2   -8⋅⎜t - ─⎟ ⋅log(2) \n",
       "                 -8⋅x    -8⋅y       ⎝    c⎠         \n",
       "                 ──────  ──────  ───────────────────\n",
       "                    2       2              2        \n",
       "     2        2   w'      w'              τ         \n",
       "Ω_max ⋅c⋅ε₀⋅h̅ ⋅ℯ      ⋅ℯ      ⋅ℯ                   \n",
       "────────────────────────────────────────────────────\n",
       "                         2  2                       \n",
       "                      2⋅e ⋅r                        "
      ]
     },
     "execution_count": 220,
     "metadata": {},
     "output_type": "execute_result"
    }
   ],
   "source": [
    "Iwaist"
   ]
  },
  {
   "cell_type": "code",
   "execution_count": 221,
   "metadata": {
    "collapsed": false
   },
   "outputs": [
    {
     "data": {
      "image/png": "[encoded data removed]",
      "text/latex": [
       "$$\\left \\{ E_{0} : \\frac{\\Omega_{max} \\hbar}{e r}\\right \\}$$"
      ],
      "text/plain": [
       "⎧    Ω_max⋅h̅⎫\n",
       "⎨E₀: ────────⎬\n",
       "⎩      e⋅r   ⎭"
      ]
     },
     "execution_count": 221,
     "metadata": {},
     "output_type": "execute_result"
    }
   ],
   "source": [
    "E0_subs"
   ]
  },
  {
   "cell_type": "code",
   "execution_count": 222,
   "metadata": {
    "collapsed": false
   },
   "outputs": [
    {
     "data": {
      "image/png": "[encoded data removed]",
      "text/latex": [
       "$$\\frac{\\pi \\Omega_{max}^{2} c \\epsilon_{0} \\hbar w'^{2}}{16 e^{2} \\omega r^{2}} e^{- \\frac{8}{\\tau^{2}} \\left(t - \\frac{z}{c}\\right)^{2} \\log{\\left (2 \\right )}}$$"
      ],
      "text/plain": [
       "                                2        \n",
       "                         ⎛    z⎞         \n",
       "                      -8⋅⎜t - ─⎟ ⋅log(2) \n",
       "                         ⎝    c⎠         \n",
       "                      ───────────────────\n",
       "                                2        \n",
       "       2           2           τ         \n",
       "π⋅Ω_max ⋅c⋅ε₀⋅h̅⋅w' ⋅ℯ                   \n",
       "─────────────────────────────────────────\n",
       "                    2    2               \n",
       "                16⋅e ⋅ω⋅r                "
      ]
     },
     "execution_count": 222,
     "metadata": {},
     "output_type": "execute_result"
    }
   ],
   "source": [
    "Power_pulse= integrate(integrate( Iwaist ,(x,-oo,oo)),(y,-oo,oo))\n",
    "Power_pulse= Power_pulse#/exp(-8*t**2*log(2)/tau**2)\n",
    "n_intensity=Power_pulse/hbar/omega\n",
    "n_intensity"
   ]
  },
  {
   "cell_type": "code",
   "execution_count": 223,
   "metadata": {
    "collapsed": false
   },
   "outputs": [
    {
     "data": {
      "image/png": "[encoded data removed]",
      "text/latex": [
       "$$\\frac{2 \\sqrt{2} E \\sqrt{\\log{\\left (2 \\right )}}}{\\sqrt{\\pi} \\hbar \\omega \\tau} e^{- \\frac{8}{\\tau^{2}} \\left(t - \\frac{z}{c}\\right)^{2} \\log{\\left (2 \\right )}}$$"
      ],
      "text/plain": [
       "                  2                   \n",
       "           ⎛    z⎞                    \n",
       "        -8⋅⎜t - ─⎟ ⋅log(2)            \n",
       "           ⎝    c⎠                    \n",
       "        ───────────────────           \n",
       "                  2                   \n",
       "                 τ            ________\n",
       "2⋅√2⋅E⋅ℯ                   ⋅╲╱ log(2) \n",
       "──────────────────────────────────────\n",
       "              √π⋅h̅⋅ω⋅τ               "
      ]
     },
     "execution_count": 223,
     "metadata": {},
     "output_type": "execute_result"
    }
   ],
   "source": [
    "n_intensity.subs({Omega:Rabi_peak})"
   ]
  },
  {
   "cell_type": "code",
   "execution_count": 224,
   "metadata": {
    "collapsed": false
   },
   "outputs": [
    {
     "data": {
      "image/png": "[encoded data removed]",
      "text/latex": [
       "$$\\frac{E}{\\hbar \\omega}$$"
      ],
      "text/plain": [
       " E  \n",
       "────\n",
       "h̅⋅ω"
      ]
     },
     "execution_count": 224,
     "metadata": {},
     "output_type": "execute_result"
    }
   ],
   "source": [
    "integrate( n_intensity.subs({Omega:Rabi_peak}) ,(t,-oo,oo))"
   ]
  },
  {
   "cell_type": "code",
   "execution_count": 225,
   "metadata": {
    "collapsed": false
   },
   "outputs": [
    {
     "data": {
      "image/png": "[encoded data removed]",
      "text/latex": [
       "$$\\frac{\\Omega_{max}^{2} c \\epsilon_{0} \\hbar^{2}}{2 e^{2} r^{2}} e^{- \\frac{8}{\\tau^{2}} \\left(t - \\frac{z}{c}\\right)^{2} \\log{\\left (2 \\right )}}$$"
      ],
      "text/plain": [
       "                           2        \n",
       "                    ⎛    z⎞         \n",
       "                 -8⋅⎜t - ─⎟ ⋅log(2) \n",
       "                    ⎝    c⎠         \n",
       "                 ───────────────────\n",
       "                           2        \n",
       "     2        2           τ         \n",
       "Ω_max ⋅c⋅ε₀⋅h̅ ⋅ℯ                   \n",
       "────────────────────────────────────\n",
       "                 2  2               \n",
       "              2⋅e ⋅r                "
      ]
     },
     "execution_count": 225,
     "metadata": {},
     "output_type": "execute_result"
    }
   ],
   "source": [
    "I_mine= epsilon0*c/2* (Omegawaist.subs({x:0,y:0}) * hbar/e/r)**2\n",
    "I_mine"
   ]
  },
  {
   "cell_type": "code",
   "execution_count": 226,
   "metadata": {
    "collapsed": false
   },
   "outputs": [
    {
     "data": {
      "image/png": "[encoded data removed]",
      "text/latex": [
       "$$\\frac{\\pi c \\epsilon_{0} \\hbar w'^{2}}{16 e^{2} \\omega r^{2}}$$"
      ],
      "text/plain": [
       "            2\n",
       "π⋅c⋅ε₀⋅h̅⋅w' \n",
       "─────────────\n",
       "      2    2 \n",
       "  16⋅e ⋅ω⋅r  "
      ]
     },
     "execution_count": 226,
     "metadata": {},
     "output_type": "execute_result"
    }
   ],
   "source": [
    "const=pi*c*epsilon0*hbar*(wp/2)**2/(4*(e*r)**2*omega)\n",
    "const"
   ]
  },
  {
   "cell_type": "code",
   "execution_count": 227,
   "metadata": {
    "collapsed": false
   },
   "outputs": [
    {
     "data": {
      "image/png": "[encoded data removed]",
      "text/latex": [
       "$$\\Omega_{max} e^{- \\frac{4}{\\tau^{2}} \\left(t - \\frac{z}{c}\\right)^{2} \\log{\\left (2 \\right )}}$$"
      ],
      "text/plain": [
       "                 2        \n",
       "          ⎛    z⎞         \n",
       "       -4⋅⎜t - ─⎟ ⋅log(2) \n",
       "          ⎝    c⎠         \n",
       "       ───────────────────\n",
       "                 2        \n",
       "                τ         \n",
       "Ω_max⋅ℯ                   "
      ]
     },
     "execution_count": 227,
     "metadata": {},
     "output_type": "execute_result"
    }
   ],
   "source": [
    "Omegawaist.subs({x:0,y:0})"
   ]
  },
  {
   "cell_type": "code",
   "execution_count": 228,
   "metadata": {
    "collapsed": false
   },
   "outputs": [
    {
     "data": {
      "image/png": "[encoded data removed]",
      "text/latex": [
       "$$\\frac{E}{\\hbar \\omega}$$"
      ],
      "text/plain": [
       " E  \n",
       "────\n",
       "h̅⋅ω"
      ]
     },
     "execution_count": 228,
     "metadata": {},
     "output_type": "execute_result"
    }
   ],
   "source": [
    "integrate(  const*Omegawaist.subs({x:0,y:0})**2 ,(t,-oo,oo)).subs({Omega:Rabi_peak})"
   ]
  },
  {
   "cell_type": "code",
   "execution_count": 229,
   "metadata": {
    "collapsed": false
   },
   "outputs": [
    {
     "data": {
      "image/png": "[encoded data removed]",
      "text/latex": [
       "$$\\frac{4 \\cdot 2^{\\frac{3}{4}} \\sqrt{E} e r \\sqrt[4]{\\log{\\left (2 \\right )}}}{\\pi^{\\frac{3}{4}} \\sqrt{c} \\sqrt{\\epsilon_{0}} \\hbar \\sqrt{\\tau} w'}$$"
      ],
      "text/plain": [
       "   3/4        4 ________\n",
       "4⋅2   ⋅√E⋅e⋅r⋅╲╱ log(2) \n",
       "────────────────────────\n",
       " 3/4      ____          \n",
       "π   ⋅√c⋅╲╱ ε₀ ⋅h̅⋅√τ⋅w' "
      ]
     },
     "execution_count": 229,
     "metadata": {},
     "output_type": "execute_result"
    }
   ],
   "source": [
    "Rabi_peak"
   ]
  },
  {
   "cell_type": "code",
   "execution_count": null,
   "metadata": {
    "collapsed": true
   },
   "outputs": [],
   "source": []
  },
  {
   "cell_type": "markdown",
   "metadata": {},
   "source": [
    "# Boundary and initial conditions\n",
    "\n",
    "We can thus know the Electric field amplitude at the center of the beam as a function of time through (in the paraxial limit) as:"
   ]
  },
  {
   "cell_type": "code",
   "execution_count": 96,
   "metadata": {
    "collapsed": false
   },
   "outputs": [
    {
     "name": "stdout",
     "output_type": "stream",
     "text": [
      "              2        \n",
      "       ⎛    z⎞         \n",
      "    -4⋅⎜t - ─⎟ ⋅log(2) \n",
      "       ⎝    c⎠         \n",
      "    ───────────────────\n",
      "              2        \n",
      "             τ         \n",
      "E₀⋅ℯ                   \n"
     ]
    }
   ],
   "source": [
    "pprint( Ewaist.subs({x:0,y:0}).subs(sigma_subs) )"
   ]
  },
  {
   "cell_type": "markdown",
   "metadata": {},
   "source": [
    "And from here, the Rabi frequency is"
   ]
  },
  {
   "cell_type": "code",
   "execution_count": 97,
   "metadata": {
    "collapsed": false
   },
   "outputs": [
    {
     "name": "stdout",
     "output_type": "stream",
     "text": [
      "                 2        \n",
      "          ⎛    z⎞         \n",
      "       -4⋅⎜t - ─⎟ ⋅log(2) \n",
      "          ⎝    c⎠         \n",
      "       ───────────────────\n",
      "                 2        \n",
      "                τ         \n",
      "Ω_max⋅ℯ                   \n"
     ]
    }
   ],
   "source": [
    "Omega_t=Ewaist.subs({x:0,y:0}).subs(sigma_subs).subs(E0_subs)*e*r/hbar\n",
    "\n",
    "pprint( Omega_t )"
   ]
  },
  {
   "cell_type": "markdown",
   "metadata": {},
   "source": [
    "Let us check that the FWHM of this is in deed $\\tau$."
   ]
  },
  {
   "cell_type": "code",
   "execution_count": 99,
   "metadata": {
    "collapsed": false
   },
   "outputs": [
    {
     "data": {
      "image/png": "[encoded data removed]",
      "text/latex": [
       "$$\\tau$$"
      ],
      "text/plain": [
       "τ"
      ]
     },
     "execution_count": 99,
     "metadata": {},
     "output_type": "execute_result"
    }
   ],
   "source": [
    "sol=solve(Omega_t-Omega/2,t)\n",
    "fwhm_test=sol[1]-sol[0]\n",
    "fwhm_test.simplify()"
   ]
  },
  {
   "cell_type": "markdown",
   "metadata": {},
   "source": [
    "But this does not contain the propagation of the pulse yet. This can be easily added. For a beam directed towards $\\hat{z}$:"
   ]
  },
  {
   "cell_type": "code",
   "execution_count": 100,
   "metadata": {
    "collapsed": false
   },
   "outputs": [
    {
     "name": "stdout",
     "output_type": "stream",
     "text": [
      "                   2        \n",
      "          ⎛    2⋅z⎞         \n",
      "       -4⋅⎜t - ───⎟ ⋅log(2) \n",
      "          ⎝     c ⎠         \n",
      "       ─────────────────────\n",
      "                  2         \n",
      "                 τ          \n",
      "Ω_max⋅ℯ                     \n"
     ]
    }
   ],
   "source": [
    "Omega_tzp=Omega_t.subs({t:t-z/c})\n",
    "pprint( Omega_tzp )"
   ]
  },
  {
   "cell_type": "markdown",
   "metadata": {},
   "source": [
    "For a beam directed towards $-\\hat{z}$:"
   ]
  },
  {
   "cell_type": "code",
   "execution_count": 101,
   "metadata": {
    "collapsed": false
   },
   "outputs": [
    {
     "name": "stdout",
     "output_type": "stream",
     "text": [
      "           2        \n",
      "       -4⋅t ⋅log(2) \n",
      "       ─────────────\n",
      "              2     \n",
      "             τ      \n",
      "Ω_max⋅ℯ             \n"
     ]
    }
   ],
   "source": [
    "Omega_tzm=Omega_t.subs({t:t+z/c})\n",
    "pprint( Omega_tzm )"
   ]
  },
  {
   "cell_type": "code",
   "execution_count": null,
   "metadata": {
    "collapsed": true
   },
   "outputs": [],
   "source": []
  },
  {
   "cell_type": "code",
   "execution_count": null,
   "metadata": {
    "collapsed": true
   },
   "outputs": [],
   "source": []
  }
 ],
 "metadata": {
  "kernelspec": {
   "display_name": "Python 2",
   "language": "python",
   "name": "python2"
  },
  "language_info": {
   "codemirror_mode": {
    "name": "ipython",
    "version": 2
   },
   "file_extension": ".py",
   "mimetype": "text/x-python",
   "name": "python",
   "nbconvert_exporter": "python",
   "pygments_lexer": "ipython2",
   "version": "2.7.13"
  }
 },
 "nbformat": 4,
 "nbformat_minor": 2
}
