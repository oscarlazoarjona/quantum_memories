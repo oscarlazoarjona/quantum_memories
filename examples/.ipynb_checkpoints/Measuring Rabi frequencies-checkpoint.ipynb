{
 "cells": [
  {
   "cell_type": "markdown",
   "metadata": {},
   "source": [
    "# Power of a Gaussian beam\n",
    "\n",
    "We define a gaussian beam in the following way [1]"
   ]
  },
  {
   "cell_type": "code",
   "execution_count": 1,
   "metadata": {
    "collapsed": true
   },
   "outputs": [],
   "source": [
    "from sympy import symbols, Matrix, init_printing, latex, exp, integrate, diff, pprint, oo\n",
    "from sympy import solve,log,sqrt,fourier_transform,inverse_fourier_transform,sin, cos, I, DiracDelta, pi\n",
    "from sympy import atan, Integer, simplify\n",
    "init_printing()"
   ]
  },
  {
   "cell_type": "code",
   "execution_count": 2,
   "metadata": {
    "collapsed": true
   },
   "outputs": [],
   "source": [
    "sigma, w, wp, omega0, nu0, tau = symbols(\"sigma w w' omega0 nu0 tau\", positive=True)\n",
    "lam, kz = symbols(\"lambda k_z\",positive=True)\n",
    "E0 = symbols(\"E_0\",real=True)\n",
    "t, x, y, z = symbols(\"t x y z\",real=True)\n",
    "omega, nu, omega_laser = symbols(\"omega nu varpi\",real=True)\n",
    "\n",
    "Energy, e, r, epsilon0, c, Omega, hbar = symbols(\"E e r epsilon_0 c Omega_max hbar\",positive=True)"
   ]
  },
  {
   "cell_type": "markdown",
   "metadata": {},
   "source": [
    "Our measured waist $w'$ is different from that in the Wikipedia article"
   ]
  },
  {
   "cell_type": "code",
   "execution_count": 3,
   "metadata": {
    "collapsed": false
   },
   "outputs": [
    {
     "data": {
      "image/png": "[encoded data removed]",
      "text/latex": [
       "$$\\left \\{ w : \\frac{w'}{2}\\right \\}$$"
      ],
      "text/plain": [
       "⎧   w'⎫\n",
       "⎨w: ──⎬\n",
       "⎩   2 ⎭"
      ]
     },
     "execution_count": 3,
     "metadata": {},
     "output_type": "execute_result"
    }
   ],
   "source": [
    "ss_waist={w:wp/2}\n",
    "ss_waist"
   ]
  },
  {
   "cell_type": "code",
   "execution_count": 4,
   "metadata": {
    "collapsed": false
   },
   "outputs": [
    {
     "data": {
      "image/png": "[encoded data removed]",
      "text/latex": [
       "$$\\frac{\\pi E_{0} w'^{2}}{\\sqrt{16 \\lambda^{2} z^{2} + \\pi^{2} w'^{4}}} e^{- i \\left(k_{z} z + \\frac{k_{z} \\left(x^{2} + y^{2} + z^{2}\\right)}{2 z \\left(1 + \\frac{\\pi^{2} w'^{4}}{16 \\lambda^{2} z^{2}}\\right)} - \\operatorname{atan}{\\left (\\frac{4 \\lambda z}{\\pi w'^{2}} \\right )}\\right)} e^{\\frac{- 4 x^{2} - 4 y^{2} - 4 z^{2}}{w'^{2} \\left(\\frac{16 \\lambda^{2} z^{2}}{\\pi^{2} w'^{4}} + 1\\right)}}$$"
      ],
      "text/plain": [
       "             ⎛            ⎛ 2    2    2⎞              ⎞    ⎛   2    2    2⎞\n",
       "             ⎜        k_z⋅⎝x  + y  + z ⎠       ⎛4⋅λ⋅z⎞⎟  4⋅⎝- x  - y  - z ⎠\n",
       "          -ⅈ⋅⎜k_z⋅z + ────────────────── - atan⎜─────⎟⎟  ──────────────────\n",
       "             ⎜            ⎛      2   4 ⎞       ⎜    2⎟⎟      ⎛    2  2    ⎞\n",
       "             ⎜            ⎜     π ⋅w'  ⎟       ⎝π⋅w' ⎠⎟    2 ⎜16⋅λ ⋅z     ⎟\n",
       "             ⎜        2⋅z⋅⎜1 + ────────⎟              ⎟  w' ⋅⎜──────── + 1⎟\n",
       "             ⎜            ⎜        2  2⎟              ⎟      ⎜  2   4     ⎟\n",
       "       2     ⎝            ⎝    16⋅λ ⋅z ⎠              ⎠      ⎝ π ⋅w'      ⎠\n",
       "π⋅E₀⋅w' ⋅ℯ                                             ⋅ℯ                  \n",
       "───────────────────────────────────────────────────────────────────────────\n",
       "                              ___________________                          \n",
       "                             ╱     2  2    2   4                           \n",
       "                           ╲╱  16⋅λ ⋅z  + π ⋅w'                            "
      ]
     },
     "execution_count": 4,
     "metadata": {},
     "output_type": "execute_result"
    }
   ],
   "source": [
    "zr=pi*w**2/lam\n",
    "zr=zr.subs(ss_waist)\n",
    "\n",
    "Rz=z*(1+zr**2/z**2)\n",
    "Rz=Rz.subs(ss_waist)\n",
    "\n",
    "wz=w*sqrt(1+z**2/zr**2)\n",
    "wz=wz.subs(ss_waist)\n",
    "\n",
    "psi=atan(z/zr)\n",
    "psi=psi.subs(ss_waist)\n",
    "\n",
    "R = Matrix([x, y, z])\n",
    "R2 = R.dot(R)\n",
    "Electric_field = E0*w/wz\n",
    "Electric_field = Electric_field.factor()\n",
    "Electric_field = Electric_field*exp(-R2/wz**2)\n",
    "Electric_field = Electric_field*exp(-I*(kz*z + kz*R2/2/Rz -psi ))\n",
    "Electric_field = Electric_field.subs(ss_waist)\n",
    "\n",
    "Electric_field"
   ]
  },
  {
   "cell_type": "markdown",
   "metadata": {},
   "source": [
    "The electric field as a vector is this amplitude times a unit polarization vector."
   ]
  },
  {
   "cell_type": "markdown",
   "metadata": {},
   "source": [
    "We make a \"paraxial approximation\" by taking $E(z)=E(z=0)$"
   ]
  },
  {
   "cell_type": "code",
   "execution_count": 5,
   "metadata": {
    "collapsed": false
   },
   "outputs": [
    {
     "data": {
      "image/png": "[encoded data removed]",
      "text/latex": [
       "$$E_{0} e^{- \\frac{4 x^{2}}{w'^{2}}} e^{- \\frac{4 y^{2}}{w'^{2}}}$$"
      ],
      "text/plain": [
       "        2       2 \n",
       "    -4⋅x    -4⋅y  \n",
       "    ──────  ──────\n",
       "       2       2  \n",
       "     w'      w'   \n",
       "E₀⋅ℯ      ⋅ℯ      "
      ]
     },
     "execution_count": 5,
     "metadata": {},
     "output_type": "execute_result"
    }
   ],
   "source": [
    "Ewaist = Electric_field.limit(z,0)#*Omegas.subs({nu0:0})/B\n",
    "#Ewaist=Ewaist.subs(sigma_subs)\n",
    "#Ewaist=Ewaist.subs({t:t-z/c})\n",
    "Ewaist"
   ]
  },
  {
   "cell_type": "markdown",
   "metadata": {},
   "source": [
    "We multiply this by the time variation of a traveling pulse oscillating at an optical frequency"
   ]
  },
  {
   "cell_type": "code",
   "execution_count": 6,
   "metadata": {
    "collapsed": false
   },
   "outputs": [
    {
     "data": {
      "image/png": "[encoded data removed]",
      "text/latex": [
       "$$E_{0} e^{- \\frac{4 x^{2}}{w'^{2}}} e^{- \\frac{4 y^{2}}{w'^{2}}} e^{- i t \\varpi - \\frac{4}{\\tau^{2}} \\left(t - \\frac{z}{c}\\right)^{2} \\log{\\left (2 \\right )}}$$"
      ],
      "text/plain": [
       "                                          2       \n",
       "                                   ⎛    z⎞        \n",
       "        2       2                4⋅⎜t - ─⎟ ⋅log(2)\n",
       "    -4⋅x    -4⋅y                   ⎝    c⎠        \n",
       "    ──────  ──────  -ⅈ⋅t⋅varpi - ─────────────────\n",
       "       2       2                          2       \n",
       "     w'      w'                          τ        \n",
       "E₀⋅ℯ      ⋅ℯ      ⋅ℯ                              "
      ]
     },
     "execution_count": 6,
     "metadata": {},
     "output_type": "execute_result"
    }
   ],
   "source": [
    "E = Ewaist*exp( -4*log(2)*(t-z/c)**2/tau**2 -I*omega_laser*t)\n",
    "E"
   ]
  },
  {
   "cell_type": "markdown",
   "metadata": {},
   "source": [
    "We check that the Full width at half maximum of this pulse is $\\tau$"
   ]
  },
  {
   "cell_type": "code",
   "execution_count": 7,
   "metadata": {
    "collapsed": false
   },
   "outputs": [
    {
     "data": {
      "image/png": "[encoded data removed]",
      "text/latex": [
       "$$\\left ( E_{0}, \\quad \\frac{E_{0}}{2}\\right )$$"
      ],
      "text/plain": [
       "⎛    E₀⎞\n",
       "⎜E₀, ──⎟\n",
       "⎝    2 ⎠"
      ]
     },
     "execution_count": 7,
     "metadata": {},
     "output_type": "execute_result"
    }
   ],
   "source": [
    "E.subs({x: 0, y: 0, z: 0, omega_laser: 0, t: 0}), E.subs({x: 0, y: 0, z: 0, omega_laser: 0, t: tau/2})"
   ]
  },
  {
   "cell_type": "markdown",
   "metadata": {},
   "source": [
    "The instensity of an electric field (in the paraxial limit) is"
   ]
  },
  {
   "cell_type": "code",
   "execution_count": 8,
   "metadata": {
    "collapsed": false
   },
   "outputs": [
    {
     "data": {
      "image/png": "[encoded data removed]",
      "text/latex": [
       "$$\\frac{c \\epsilon_{0}}{2} E_{0}^{2} e^{- \\frac{8 x^{2}}{w'^{2}}} e^{- \\frac{8 y^{2}}{w'^{2}}} e^{- i t \\varpi - \\frac{4}{\\tau^{2}} \\left(t - \\frac{z}{c}\\right)^{2} \\log{\\left (2 \\right )}} e^{i t \\varpi - \\frac{4}{\\tau^{2}} \\left(t - \\frac{z}{c}\\right)^{2} \\log{\\left (2 \\right )}}$$"
      ],
      "text/plain": [
       "                                                2                             \n",
       "                                         ⎛    z⎞                        ⎛    z\n",
       "              2       2                4⋅⎜t - ─⎟ ⋅log(2)              4⋅⎜t - ─\n",
       "          -8⋅x    -8⋅y                   ⎝    c⎠                        ⎝    c\n",
       "          ──────  ──────  -ⅈ⋅t⋅varpi - ─────────────────  ⅈ⋅t⋅varpi - ────────\n",
       "             2       2                          2                             \n",
       "  2        w'      w'                          τ                              \n",
       "E₀ ⋅c⋅ε₀⋅ℯ      ⋅ℯ      ⋅ℯ                              ⋅ℯ                    \n",
       "──────────────────────────────────────────────────────────────────────────────\n",
       "                                           2                                  \n",
       "\n",
       " 2       \n",
       "⎞        \n",
       "⎟ ⋅log(2)\n",
       "⎠        \n",
       "─────────\n",
       " 2       \n",
       "τ        \n",
       "         \n",
       "─────────\n",
       "         "
      ]
     },
     "execution_count": 8,
     "metadata": {},
     "output_type": "execute_result"
    }
   ],
   "source": [
    "II = epsilon0*c/2*E*E.conjugate()\n",
    "#II = II.factor()\n",
    "II"
   ]
  },
  {
   "cell_type": "markdown",
   "metadata": {},
   "source": [
    "We check that the waist as we have defined it is such that it is the diameter of a circle centered at the peak intensity such that the intensity at the border of the circle is $e^{-2}$ times the peak intensity."
   ]
  },
  {
   "cell_type": "code",
   "execution_count": 9,
   "metadata": {
    "collapsed": false
   },
   "outputs": [
    {
     "data": {
      "image/png": "[encoded data removed]",
      "text/latex": [
       "$$\\left ( \\frac{c \\epsilon_{0}}{2} E_{0}^{2}, \\quad \\frac{E_{0}^{2} c \\epsilon_{0}}{2 e^{2}}\\right )$$"
      ],
      "text/plain": [
       "⎛  2         2       -2⎞\n",
       "⎜E₀ ⋅c⋅ε₀  E₀ ⋅c⋅ε₀⋅ℯ  ⎟\n",
       "⎜────────, ────────────⎟\n",
       "⎝   2           2      ⎠"
      ]
     },
     "execution_count": 9,
     "metadata": {},
     "output_type": "execute_result"
    }
   ],
   "source": [
    "II.subs({x: 0, y: 0, z: 0, t:0}), II.subs({x: wp/2, y: 0, z: 0, t:0})"
   ]
  },
  {
   "cell_type": "markdown",
   "metadata": {},
   "source": [
    "The power of the pulse is the integral over the traverse mode."
   ]
  },
  {
   "cell_type": "code",
   "execution_count": 10,
   "metadata": {
    "collapsed": false
   },
   "outputs": [
    {
     "data": {
      "image/png": "[encoded data removed]",
      "text/latex": [
       "$$\\frac{\\pi c}{16} E_{0}^{2} \\epsilon_{0} w'^{2} e^{- i t \\varpi - \\frac{4}{\\tau^{2}} \\left(t - \\frac{z}{c}\\right)^{2} \\log{\\left (2 \\right )}} e^{i t \\varpi - \\frac{4}{\\tau^{2}} \\left(t - \\frac{z}{c}\\right)^{2} \\log{\\left (2 \\right )}}$$"
      ],
      "text/plain": [
       "                                      2                              2       \n",
       "                               ⎛    z⎞                        ⎛    z⎞        \n",
       "                             4⋅⎜t - ─⎟ ⋅log(2)              4⋅⎜t - ─⎟ ⋅log(2)\n",
       "                               ⎝    c⎠                        ⎝    c⎠        \n",
       "                -ⅈ⋅t⋅varpi - ─────────────────  ⅈ⋅t⋅varpi - ─────────────────\n",
       "                                      2                              2       \n",
       "    2        2                       τ                              τ        \n",
       "π⋅E₀ ⋅c⋅ε₀⋅w' ⋅ℯ                              ⋅ℯ                             \n",
       "─────────────────────────────────────────────────────────────────────────────\n",
       "                                      16                                     "
      ]
     },
     "execution_count": 10,
     "metadata": {},
     "output_type": "execute_result"
    }
   ],
   "source": [
    "P = integrate(integrate(II, (x, -oo, oo)), (y, -oo, oo))#.factor()\n",
    "P"
   ]
  },
  {
   "cell_type": "markdown",
   "metadata": {},
   "source": [
    "The energy of the pulse is the integral over time of the power, (at a given point in space)."
   ]
  },
  {
   "cell_type": "code",
   "execution_count": 11,
   "metadata": {
    "collapsed": false
   },
   "outputs": [
    {
     "data": {
      "image/png": "[encoded data removed]",
      "text/latex": [
       "$$\\frac{\\sqrt{2} \\pi^{\\frac{3}{2}} E_{0}^{2} c \\epsilon_{0} \\tau w'^{2}}{64 \\sqrt{\\log{\\left (2 \\right )}}}$$"
      ],
      "text/plain": [
       "    3/2   2          2\n",
       "√2⋅π   ⋅E₀ ⋅c⋅ε₀⋅τ⋅w' \n",
       "──────────────────────\n",
       "         ________     \n",
       "    64⋅╲╱ log(2)      "
      ]
     },
     "execution_count": 11,
     "metadata": {},
     "output_type": "execute_result"
    }
   ],
   "source": [
    "Energy_pulse = simplify(integrate(P, (t, -oo, oo)))\n",
    "Energy_pulse"
   ]
  },
  {
   "cell_type": "code",
   "execution_count": 12,
   "metadata": {
    "collapsed": false
   },
   "outputs": [
    {
     "data": {
      "image/png": "[encoded data removed]",
      "text/latex": [
       "$$\\left \\{ E_{0} : \\frac{\\Omega_{max} \\hbar}{e r}\\right \\}$$"
      ],
      "text/plain": [
       "⎧    Ω_max⋅h̅⎫\n",
       "⎨E₀: ────────⎬\n",
       "⎩      e⋅r   ⎭"
      ]
     },
     "execution_count": 12,
     "metadata": {},
     "output_type": "execute_result"
    }
   ],
   "source": [
    "ss_Rabi = {E0: hbar*Omega/r/e}\n",
    "ss_Rabi"
   ]
  },
  {
   "cell_type": "markdown",
   "metadata": {},
   "source": [
    "So we may calculate the peak Rabi frequency from the measured pulse energy as"
   ]
  },
  {
   "cell_type": "code",
   "execution_count": 13,
   "metadata": {
    "collapsed": false
   },
   "outputs": [
    {
     "data": {
      "image/png": "[encoded data removed]",
      "text/latex": [
       "$$\\frac{4 \\cdot 2^{\\frac{3}{4}} \\sqrt{E} e r \\sqrt[4]{\\log{\\left (2 \\right )}}}{\\pi^{\\frac{3}{4}} \\sqrt{c} \\sqrt{\\epsilon_{0}} \\hbar \\sqrt{\\tau} w'}$$"
      ],
      "text/plain": [
       "   3/4        4 ________\n",
       "4⋅2   ⋅√E⋅e⋅r⋅╲╱ log(2) \n",
       "────────────────────────\n",
       " 3/4      ____          \n",
       "π   ⋅√c⋅╲╱ ε₀ ⋅h̅⋅√τ⋅w' "
      ]
     },
     "execution_count": 13,
     "metadata": {},
     "output_type": "execute_result"
    }
   ],
   "source": [
    "Omega_peak = solve(Energy-Energy_pulse.subs(ss_Rabi), Omega)[0]\n",
    "Omega_peak"
   ]
  },
  {
   "cell_type": "code",
   "execution_count": 14,
   "metadata": {
    "collapsed": false
   },
   "outputs": [
    {
     "data": {
      "image/png": "[encoded data removed]",
      "text/latex": [
       "$$\\Omega_{max} e^{- \\frac{4}{\\tau^{2}} \\left(t - \\frac{z}{c}\\right)^{2} \\log{\\left (2 \\right )}}$$"
      ],
      "text/plain": [
       "                 2        \n",
       "          ⎛    z⎞         \n",
       "       -4⋅⎜t - ─⎟ ⋅log(2) \n",
       "          ⎝    c⎠         \n",
       "       ───────────────────\n",
       "                 2        \n",
       "                τ         \n",
       "Ω_max⋅ℯ                   "
      ]
     },
     "execution_count": 14,
     "metadata": {},
     "output_type": "execute_result"
    }
   ],
   "source": [
    "Omega_pulse = E.subs(ss_Rabi).subs({x: 0, y: 0, omega_laser: 0})*e*r/hbar\n",
    "Omega_pulse"
   ]
  },
  {
   "cell_type": "markdown",
   "metadata": {},
   "source": [
    "# Counting photons\n",
    "We need a way to integrate this time-dependent Rabi frequency in such a way that we can count the photons."
   ]
  },
  {
   "cell_type": "code",
   "execution_count": 15,
   "metadata": {
    "collapsed": false
   },
   "outputs": [
    {
     "data": {
      "image/png": "[encoded data removed]",
      "text/latex": [
       "$$\\frac{\\pi \\Omega_{max}^{2} c \\epsilon_{0} \\hbar w'^{2}}{16 e^{2} r^{2} \\varpi} e^{- \\frac{8 t^{2}}{\\tau^{2}} \\log{\\left (2 \\right )}} e^{- \\frac{8 z^{2}}{c^{2} \\tau^{2}} \\log{\\left (2 \\right )}} e^{\\frac{16 t z}{c \\tau^{2}} \\log{\\left (2 \\right )}}$$"
      ],
      "text/plain": [
       "                          2              2                       \n",
       "                      -8⋅t ⋅log(2)   -8⋅z ⋅log(2)   16⋅t⋅z⋅log(2)\n",
       "                      ─────────────  ─────────────  ─────────────\n",
       "                             2            2  2              2    \n",
       "       2           2        τ            c ⋅τ            c⋅τ     \n",
       "π⋅Ω_max ⋅c⋅ε₀⋅h̅⋅w' ⋅ℯ             ⋅ℯ             ⋅ℯ             \n",
       "─────────────────────────────────────────────────────────────────\n",
       "                              2  2                               \n",
       "                          16⋅e ⋅r ⋅varpi                         "
      ]
     },
     "execution_count": 15,
     "metadata": {},
     "output_type": "execute_result"
    }
   ],
   "source": [
    "photon_flow = integrate(integrate(II.subs(ss_Rabi), (x, -oo, oo)), (y, -oo, oo)).expand()/hbar/omega_laser\n",
    "photon_flow"
   ]
  },
  {
   "cell_type": "markdown",
   "metadata": {},
   "source": [
    "So if we define $c_\\varpi$ as"
   ]
  },
  {
   "cell_type": "code",
   "execution_count": 16,
   "metadata": {
    "collapsed": false
   },
   "outputs": [
    {
     "data": {
      "image/png": "[encoded data removed]",
      "text/latex": [
       "$$\\frac{\\pi c \\epsilon_{0} \\hbar w'^{2}}{16 e^{2} r^{2} \\varpi}$$"
      ],
      "text/plain": [
       "            2 \n",
       "π⋅c⋅ε₀⋅h̅⋅w'  \n",
       "──────────────\n",
       "    2  2      \n",
       "16⋅e ⋅r ⋅varpi"
      ]
     },
     "execution_count": 16,
     "metadata": {},
     "output_type": "execute_result"
    }
   ],
   "source": [
    "const = pi*c*epsilon0*hbar*wp**2/16/e**2/r**2/omega_laser\n",
    "const"
   ]
  },
  {
   "cell_type": "markdown",
   "metadata": {},
   "source": [
    "We can see that the photon flow is"
   ]
  },
  {
   "cell_type": "code",
   "execution_count": 17,
   "metadata": {
    "collapsed": false
   },
   "outputs": [
    {
     "data": {
      "image/png": "[encoded data removed]",
      "text/latex": [
       "$$\\frac{\\pi \\Omega_{max}^{2} c \\epsilon_{0} \\hbar w'^{2}}{16 e^{2} r^{2} \\varpi} e^{- \\frac{8}{\\tau^{2}} \\left(t - \\frac{z}{c}\\right)^{2} \\log{\\left (2 \\right )}}$$"
      ],
      "text/plain": [
       "                                2        \n",
       "                         ⎛    z⎞         \n",
       "                      -8⋅⎜t - ─⎟ ⋅log(2) \n",
       "                         ⎝    c⎠         \n",
       "                      ───────────────────\n",
       "                                2        \n",
       "       2           2           τ         \n",
       "π⋅Ω_max ⋅c⋅ε₀⋅h̅⋅w' ⋅ℯ                   \n",
       "─────────────────────────────────────────\n",
       "                  2  2                   \n",
       "              16⋅e ⋅r ⋅varpi             "
      ]
     },
     "execution_count": 17,
     "metadata": {},
     "output_type": "execute_result"
    }
   ],
   "source": [
    "photon_flow_Rabi = const*(Omega_pulse*Omega_pulse.conjugate())\n",
    "photon_flow_Rabi"
   ]
  },
  {
   "cell_type": "markdown",
   "metadata": {},
   "source": [
    "In such a way that this integrates to the number of photons"
   ]
  },
  {
   "cell_type": "code",
   "execution_count": 18,
   "metadata": {
    "collapsed": false
   },
   "outputs": [
    {
     "data": {
      "image/png": "[encoded data removed]",
      "text/latex": [
       "$$\\frac{E}{\\hbar \\varpi}$$"
      ],
      "text/plain": [
       "   E    \n",
       "────────\n",
       "h̅⋅varpi"
      ]
     },
     "execution_count": 18,
     "metadata": {},
     "output_type": "execute_result"
    }
   ],
   "source": [
    "integrate(photon_flow_Rabi, (t, -oo, oo)).subs({Omega: Omega_peak})"
   ]
  },
  {
   "cell_type": "markdown",
   "metadata": {
    "collapsed": true
   },
   "source": [
    "[1] https://en.wikipedia.org/wiki/Gaussian_beam"
   ]
  },
  {
   "cell_type": "code",
   "execution_count": null,
   "metadata": {
    "collapsed": true
   },
   "outputs": [],
   "source": []
  }
 ],
 "metadata": {
  "kernelspec": {
   "display_name": "Python 2",
   "language": "python",
   "name": "python2"
  },
  "language_info": {
   "codemirror_mode": {
    "name": "ipython",
    "version": 2
   },
   "file_extension": ".py",
   "mimetype": "text/x-python",
   "name": "python",
   "nbconvert_exporter": "python",
   "pygments_lexer": "ipython2",
   "version": "2.7.13"
  }
 },
 "nbformat": 4,
 "nbformat_minor": 2
}
