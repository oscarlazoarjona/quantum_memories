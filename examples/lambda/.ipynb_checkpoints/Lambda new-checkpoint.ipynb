{
 "cells": [
  {
   "cell_type": "markdown",
   "metadata": {
    "collapsed": true
   },
   "source": [
    "# Lambda memory equations\n"
   ]
  },
  {
   "cell_type": "code",
   "execution_count": 1,
   "metadata": {
    "collapsed": true
   },
   "outputs": [],
   "source": [
    "from fast import *\n",
    "from fast.symbolic import hamiltonian\n",
    "from matplotlib import pyplot as plt\n",
    "from sympy import solve\n",
    "from sympy import exp, I\n",
    "%matplotlib inline\n",
    "init_printing()"
   ]
  },
  {
   "cell_type": "code",
   "execution_count": 2,
   "metadata": {
    "collapsed": false
   },
   "outputs": [
    {
     "data": {
      "image/png": "[encoded data removed]",
      "text/latex": [
       "$$\\left [ \\left[\\begin{matrix}0 & 0 & 1\\\\0 & 0 & 1\\\\1 & 1 & 0\\end{matrix}\\right], \\quad \\left[\\begin{matrix}0 & 0 & 1\\\\0 & 0 & 1\\\\1 & 1 & 0\\end{matrix}\\right], \\quad \\left[\\begin{matrix}0 & 0 & 1\\\\0 & 0 & 1\\\\1 & 1 & 0\\end{matrix}\\right]\\right ]$$"
      ],
      "text/plain": [
       "⎡⎡0  0  1⎤, ⎡0  0  1⎤, ⎡0  0  1⎤⎤\n",
       "⎢⎢       ⎥  ⎢       ⎥  ⎢       ⎥⎥\n",
       "⎢⎢0  0  1⎥  ⎢0  0  1⎥  ⎢0  0  1⎥⎥\n",
       "⎢⎢       ⎥  ⎢       ⎥  ⎢       ⎥⎥\n",
       "⎣⎣1  1  0⎦  ⎣1  1  0⎦  ⎣1  1  0⎦⎦"
      ]
     },
     "execution_count": 2,
     "metadata": {},
     "output_type": "execute_result"
    }
   ],
   "source": [
    "from sympy import zeros, pi, pprint, symbols, I, diff\n",
    "Ne = 3\n",
    "Nl = 3\n",
    "Ep, omega_laser = define_laser_variables(Nl)\n",
    "epsilonp = [polarization_vector(0, -pi/2, 0, 0, 1) for l in range(Nl)]\n",
    "delta1, delta2 = symbols(\"delta1 delta2\", real=True)\n",
    "detuning_knob = [delta1, delta2]\n",
    "\n",
    "xi = [zeros(Ne, Ne) for l in range(Nl)]\n",
    "coup = [[(2, 0), (2, 1)], [(2, 0), (2, 1)], [(2, 0), (2, 1)]]\n",
    "# coup = [[(2, 0), (2, 1)], [(2, 0), (2, 1)], [(2, 0)]]\n",
    "# coup = [[(2, 0)], [(2, 1)], [(2, 1)]]\n",
    "\n",
    "\n",
    "for l in range(Nl):\n",
    "    for pair in coup[l]:\n",
    "        xi[l][pair[0], pair[1]] = 1\n",
    "        xi[l][pair[1], pair[0]] = 1\n",
    "\n",
    "xi"
   ]
  },
  {
   "cell_type": "code",
   "execution_count": 3,
   "metadata": {
    "collapsed": false
   },
   "outputs": [
    {
     "data": {
      "image/png": "[encoded data removed]",
      "text/latex": [
       "$$\\left[\\begin{matrix}0 & 0 & 0\\\\0 & 0 & 0\\\\r_{0;31} & r_{0;32} & 0\\end{matrix}\\right]$$"
      ],
      "text/plain": [
       "⎡   0         0      0⎤\n",
       "⎢                     ⎥\n",
       "⎢   0         0      0⎥\n",
       "⎢                     ⎥\n",
       "⎣r_{0;31}  r_{0;32}  0⎦"
      ]
     },
     "execution_count": 3,
     "metadata": {},
     "output_type": "execute_result"
    }
   ],
   "source": [
    "rm = define_r_components(Ne, xi, explicitly_hermitian=True,\n",
    "                         helicity=True, p=-1)\n",
    "rm = helicity_to_cartesian(rm)\n",
    "rm[2]"
   ]
  },
  {
   "cell_type": "code",
   "execution_count": 4,
   "metadata": {
    "collapsed": false
   },
   "outputs": [
    {
     "data": {
      "image/png": "[encoded data removed]",
      "text/latex": [
       "$$\\left [ t \\theta_{1}, \\quad t \\theta_{2}, \\quad t \\theta_{3}\\right ]$$"
      ],
      "text/plain": [
       "[t⋅θ₁, t⋅θ₂, t⋅θ₃]"
      ]
     },
     "execution_count": 4,
     "metadata": {},
     "output_type": "execute_result"
    }
   ],
   "source": [
    "t = symbols(\"t\", real=True)\n",
    "c, ct, theta = define_psi_coefficients(Ne)\n",
    "thetat = [theta[i]*t for i in range(Ne)]\n",
    "thetat"
   ]
  },
  {
   "cell_type": "code",
   "execution_count": 5,
   "metadata": {
    "collapsed": false
   },
   "outputs": [
    {
     "data": {
      "image/png": "[encoded data removed]",
      "text/latex": [
       "$$\\left[\\begin{matrix}\\hbar \\left(\\omega_{1} + \\theta_{1}\\right) & 0 & - \\frac{e r_{0;31}}{2} e^{- i \\left(- t \\theta_{1} + t \\theta_{3} + t \\varpi_{3}\\right)} \\overline{E_{03}} - \\frac{e r_{0;31}}{2} e^{- i \\left(- t \\theta_{1} + t \\theta_{3} + t \\varpi_{2}\\right)} \\overline{E_{02}} - \\frac{e r_{0;31}}{2} e^{- i \\left(- t \\theta_{1} + t \\theta_{3} + t \\varpi_{1}\\right)} \\overline{E_{01}}\\\\0 & \\hbar \\left(\\omega_{2} + \\theta_{2}\\right) & - \\frac{e r_{0;32}}{2} e^{- i \\left(- t \\theta_{2} + t \\theta_{3} + t \\varpi_{3}\\right)} \\overline{E_{03}} - \\frac{e r_{0;32}}{2} e^{- i \\left(- t \\theta_{2} + t \\theta_{3} + t \\varpi_{2}\\right)} \\overline{E_{02}} - \\frac{e r_{0;32}}{2} e^{- i \\left(- t \\theta_{2} + t \\theta_{3} + t \\varpi_{1}\\right)} \\overline{E_{01}}\\\\- \\frac{e r_{0;31}}{2} E_{01} e^{- i \\left(t \\theta_{1} - t \\theta_{3} - t \\varpi_{1}\\right)} - \\frac{e r_{0;31}}{2} E_{02} e^{- i \\left(t \\theta_{1} - t \\theta_{3} - t \\varpi_{2}\\right)} - \\frac{e r_{0;31}}{2} E_{03} e^{- i \\left(t \\theta_{1} - t \\theta_{3} - t \\varpi_{3}\\right)} & - \\frac{e r_{0;32}}{2} E_{01} e^{- i \\left(t \\theta_{2} - t \\theta_{3} - t \\varpi_{1}\\right)} - \\frac{e r_{0;32}}{2} E_{02} e^{- i \\left(t \\theta_{2} - t \\theta_{3} - t \\varpi_{2}\\right)} - \\frac{e r_{0;32}}{2} E_{03} e^{- i \\left(t \\theta_{2} - t \\theta_{3} - t \\varpi_{3}\\right)} & \\hbar \\left(\\omega_{3} + \\theta_{3}\\right)\\end{matrix}\\right]$$"
      ],
      "text/plain": [
       "⎡                                                                             \n",
       "⎢                                                                             \n",
       "⎢                                                                   h̅⋅(ω₁ + θ\n",
       "⎢                                                                             \n",
       "⎢                                                                             \n",
       "⎢                                                                             \n",
       "⎢                                                                             \n",
       "⎢                                                                        0    \n",
       "⎢                                                                             \n",
       "⎢                                                                             \n",
       "⎢                     -ⅈ⋅(t⋅θ₁ - t⋅θ₃ - t⋅varpi₁)                      -ⅈ⋅(t⋅θ\n",
       "⎢  E_{01}⋅e⋅r_{0;31}⋅ℯ                              E_{02}⋅e⋅r_{0;31}⋅ℯ       \n",
       "⎢- ────────────────────────────────────────────── - ──────────────────────────\n",
       "⎣                        2                                                2   \n",
       "\n",
       "                                                                              \n",
       "                                                                              \n",
       "₁)                                                                            \n",
       "                                                                              \n",
       "                                                                              \n",
       "                                                                              \n",
       "                                                                              \n",
       "                                                                              \n",
       "                                                                              \n",
       "                                                                              \n",
       "₁ - t⋅θ₃ - t⋅varpi₂)                      -ⅈ⋅(t⋅θ₁ - t⋅θ₃ - t⋅varpi₃)         \n",
       "                       E_{03}⋅e⋅r_{0;31}⋅ℯ                               E_{01\n",
       "──────────────────── - ──────────────────────────────────────────────  - ─────\n",
       "                                             2                                \n",
       "\n",
       "                                                                              \n",
       "                                                                              \n",
       "                                                                 0            \n",
       "                                                                              \n",
       "                                                                              \n",
       "                                                                              \n",
       "                                                                              \n",
       "                                                            h̅⋅(ω₂ + θ₂)      \n",
       "                                                                              \n",
       "                                                                              \n",
       "              -ⅈ⋅(t⋅θ₂ - t⋅θ₃ - t⋅varpi₁)                      -ⅈ⋅(t⋅θ₂ - t⋅θ₃\n",
       "}⋅e⋅r_{0;32}⋅ℯ                              E_{02}⋅e⋅r_{0;32}⋅ℯ               \n",
       "───────────────────────────────────────── - ──────────────────────────────────\n",
       "                 2                                                2           \n",
       "\n",
       "                                                                             -\n",
       "                                                                 e⋅r_{0;31}⋅ℯ \n",
       "                                                               - ─────────────\n",
       "                                                                              \n",
       "                                                                              \n",
       "                                                                             -\n",
       "                                                                 e⋅r_{0;32}⋅ℯ \n",
       "                                                               - ─────────────\n",
       "                                                                              \n",
       "                                                                              \n",
       " - t⋅varpi₂)                      -ⅈ⋅(t⋅θ₂ - t⋅θ₃ - t⋅varpi₃)                 \n",
       "               E_{03}⋅e⋅r_{0;32}⋅ℯ                                            \n",
       "──────────── - ──────────────────────────────────────────────                 \n",
       "                                     2                                        \n",
       "\n",
       "ⅈ⋅(-t⋅θ₁ + t⋅θ₃ + t⋅varpi₃) ______               -ⅈ⋅(-t⋅θ₁ + t⋅θ₃ + t⋅varpi₂) \n",
       "                           ⋅E_{03}   e⋅r_{0;31}⋅ℯ                            ⋅\n",
       "────────────────────────────────── - ─────────────────────────────────────────\n",
       "          2                                                 2                 \n",
       "                                                                              \n",
       "ⅈ⋅(-t⋅θ₂ + t⋅θ₃ + t⋅varpi₃) ______               -ⅈ⋅(-t⋅θ₂ + t⋅θ₃ + t⋅varpi₂) \n",
       "                           ⋅E_{03}   e⋅r_{0;32}⋅ℯ                            ⋅\n",
       "────────────────────────────────── - ─────────────────────────────────────────\n",
       "          2                                                 2                 \n",
       "                                                                              \n",
       "                                                                              \n",
       "                                                                              \n",
       "                                                     h̅⋅(ω₃ + θ₃)             \n",
       "                                                                              \n",
       "\n",
       "______               -ⅈ⋅(-t⋅θ₁ + t⋅θ₃ + t⋅varpi₁) ______⎤\n",
       "E_{02}   e⋅r_{0;31}⋅ℯ                            ⋅E_{01}⎥\n",
       "────── - ───────────────────────────────────────────────⎥\n",
       "                                2                       ⎥\n",
       "                                                        ⎥\n",
       "______               -ⅈ⋅(-t⋅θ₂ + t⋅θ₃ + t⋅varpi₁) ______⎥\n",
       "E_{02}   e⋅r_{0;32}⋅ℯ                            ⋅E_{01}⎥\n",
       "────── - ───────────────────────────────────────────────⎥\n",
       "                                2                       ⎥\n",
       "                                                        ⎥\n",
       "                                                        ⎥\n",
       "                                                        ⎥\n",
       "                                                        ⎥\n",
       "                                                        ⎦"
      ]
     },
     "execution_count": 5,
     "metadata": {},
     "output_type": "execute_result"
    }
   ],
   "source": [
    "omega_level, omega, gamma = define_frequencies(Ne, True)\n",
    "\n",
    "H = hamiltonian(Ep, epsilonp, detuning_knob, rm, omega_level, omega_laser,\n",
    "                xi, RWA=True, RF=thetat)\n",
    "H"
   ]
  },
  {
   "cell_type": "code",
   "execution_count": 6,
   "metadata": {
    "collapsed": false
   },
   "outputs": [
    {
     "data": {
      "image/png": "[encoded data removed]",
      "text/latex": [
       "$$\\left[\\begin{matrix}\\rho_{11} & \\overline{\\rho_{21}} & \\overline{\\rho_{31}}\\\\\\rho_{21} & \\rho_{22} & \\overline{\\rho_{32}}\\\\\\rho_{31} & \\rho_{32} & \\rho_{33}\\end{matrix}\\right]$$"
      ],
      "text/plain": [
       "⎡     ___  ___⎤\n",
       "⎢ρ₁₁  ρ₂₁  ρ₃₁⎥\n",
       "⎢             ⎥\n",
       "⎢          ___⎥\n",
       "⎢ρ₂₁  ρ₂₂  ρ₃₂⎥\n",
       "⎢             ⎥\n",
       "⎣ρ₃₁  ρ₃₂  ρ₃₃⎦"
      ]
     },
     "execution_count": 6,
     "metadata": {},
     "output_type": "execute_result"
    }
   ],
   "source": [
    "hbar, e = symbols(\"hbar, e\", positive=True)\n",
    "t, Z, vZ, delta = symbols(\"t, Z, v_z, delta\", real=True)\n",
    "Oms = symbols(r\"\\Omega_s\")\n",
    "Omc = symbols(r\"\\Omega_c\")\n",
    "Oma = symbols(r\"\\Omega_a\")\n",
    "Omsp = symbols(r\"\\mho_s\")\n",
    "Omcp = symbols(r\"\\mho_c\")\n",
    "Omap = symbols(r\"\\mho_a\")\n",
    "rho = define_density_matrix(Ne, explicitly_hermitian=True, variables=[t, Z, vZ])\n",
    "rho = define_density_matrix(Ne, explicitly_hermitian=True)\n",
    "rho"
   ]
  },
  {
   "cell_type": "code",
   "execution_count": 7,
   "metadata": {
    "collapsed": false
   },
   "outputs": [
    {
     "name": "stdout",
     "output_type": "stream",
     "text": [
      "Naming scheme 2\n",
      "E_{01} signal\n",
      "E_{02} control\n",
      "E_{03} antistokes\n"
     ]
    },
    {
     "data": {
      "image/png": "[encoded data removed]",
      "text/latex": [
       "$$\\left \\{ E_{01} r_{0;31} : \\frac{\\Omega_s \\hbar}{e}, \\quad E_{01} r_{0;32} : \\frac{\\mho_s \\hbar}{e}, \\quad E_{02} r_{0;31} : \\frac{\\mho_c \\hbar}{e}, \\quad E_{02} r_{0;32} : \\frac{\\Omega_c \\hbar}{e}, \\quad E_{03} r_{0;31} : \\frac{\\Omega_a \\hbar}{e}, \\quad E_{03} r_{0;32} : \\frac{\\mho_a \\hbar}{e}, \\quad r_{0;31} \\overline{E_{01}} : \\frac{\\hbar \\overline{\\Omega_s}}{e}, \\quad r_{0;31} \\overline{E_{02}} : \\frac{\\hbar \\overline{\\mho_c}}{e}, \\quad r_{0;31} \\overline{E_{03}} : \\frac{\\hbar \\overline{\\Omega_a}}{e}, \\quad r_{0;32} \\overline{E_{01}} : \\frac{\\hbar \\overline{\\mho_s}}{e}, \\quad r_{0;32} \\overline{E_{02}} : \\frac{\\hbar \\overline{\\Omega_c}}{e}, \\quad r_{0;32} \\overline{E_{03}} : \\frac{\\hbar \\overline{\\mho_a}}{e}\\right \\}$$"
      ],
      "text/plain": [
       "⎧                                                                             \n",
       "⎪                 \\Omega_s⋅h̅                   \\mho_s⋅h̅                   \\m\n",
       "⎨E_{01}⋅r_{0;31}: ───────────, E_{01}⋅r_{0;32}: ─────────, E_{02}⋅r_{0;31}: ──\n",
       "⎪                      e                            e                         \n",
       "⎩                                                                             \n",
       "\n",
       "                                                                              \n",
       "ho_c⋅h̅                   \\Omega_c⋅h̅                   \\Omegaₐ⋅h̅            \n",
       "───────, E_{02}⋅r_{0;32}: ───────────, E_{03}⋅r_{0;31}: ──────────, E_{03}⋅r_{\n",
       "  e                            e                            e                 \n",
       "                                                                              \n",
       "\n",
       "                                     ________                      ______     \n",
       "       \\mhoₐ⋅h̅           ______  h̅⋅\\Omega_s           ______  h̅⋅\\mho_c     \n",
       "0;32}: ────────, r_{0;31}⋅E_{01}: ───────────, r_{0;31}⋅E_{02}: ─────────, r_{\n",
       "          e                            e                            e         \n",
       "                                                                              \n",
       "\n",
       "                 _______                      ______                      ____\n",
       "      ______  h̅⋅\\Omegaₐ           ______  h̅⋅\\mho_s           ______  h̅⋅\\Ome\n",
       "0;31}⋅E_{03}: ──────────, r_{0;32}⋅E_{01}: ─────────, r_{0;32}⋅E_{02}: ───────\n",
       "                  e                            e                            e \n",
       "                                                                              \n",
       "\n",
       "____                      _____⎫\n",
       "ga_c           ______  h̅⋅\\mhoₐ⎪\n",
       "────, r_{0;32}⋅E_{03}: ────────⎬\n",
       "                          e    ⎪\n",
       "                               ⎭"
      ]
     },
     "execution_count": 7,
     "metadata": {},
     "output_type": "execute_result"
    }
   ],
   "source": [
    "magic = True\n",
    "# magic = False\n",
    "red = True\n",
    "red = False\n",
    "alpha = symbols(\"alpha\", real=True)\n",
    "if (magic and red) or (not magic and not red):\n",
    "    print \"Naming scheme 1\"\n",
    "    ss_lin1 = {rho[0, 0]: alpha, rho[1, 1]:1-alpha, rho[2, 2]: 0}\n",
    "    ss_om = {rm[2][2, 0]*Ep[0]: hbar*Omc/e,\n",
    "             rm[2][2, 1]*Ep[0]: hbar*Omcp/e,\n",
    "             rm[2][2, 1]*Ep[1]: hbar*Oms/e,\n",
    "             rm[2][2, 0]*Ep[1]: hbar*Omsp/e,\n",
    "             rm[2][2, 1]*Ep[2]: hbar*Oma/e,\n",
    "             rm[2][2, 0]*Ep[2]: hbar*Omap/e}\n",
    "\n",
    "    ss_delta = {omega_laser[0]: delta1 + omega_level[2]-omega_level[0],\n",
    "                omega_laser[1]: delta2 + omega_level[2]-omega_level[1]}\n",
    "    ss_delta.update({omega_laser[2]: ss_delta[omega_laser[0]] + omega_level[1]-omega_level[0]})\n",
    "    print Ep[0], \"control\"\n",
    "    print Ep[1], \"signal\"\n",
    "    print Ep[2], \"antistokes\"\n",
    "\n",
    "else:\n",
    "    print \"Naming scheme 2\"\n",
    "    ss_lin1 = {rho[0, 0]: 1-alpha, rho[1, 1]:alpha, rho[2, 2]: 0}\n",
    "    ss_om = {rm[2][2, 0]*Ep[0]: hbar*Oms/e,\n",
    "             rm[2][2, 1]*Ep[0]: hbar*Omsp/e,\n",
    "             rm[2][2, 1]*Ep[1]: hbar*Omc/e,\n",
    "             rm[2][2, 0]*Ep[1]: hbar*Omcp/e,\n",
    "             rm[2][2, 0]*Ep[2]: hbar*Oma/e,\n",
    "             rm[2][2, 1]*Ep[2]: hbar*Omap/e}\n",
    "    print Ep[0], \"signal\"\n",
    "    print Ep[1], \"control\"\n",
    "    print Ep[2], \"antistokes\"\n",
    "    \n",
    "    ss_delta = {omega_laser[0]: delta1 + omega_level[2]-omega_level[0],\n",
    "                omega_laser[1]: delta2 + omega_level[2]-omega_level[1]}\n",
    "    ss_delta.update({omega_laser[2]: ss_delta[omega_laser[1]] - omega_level[1]+omega_level[0]})\n",
    "\n",
    "ss_delta0 = {delta1: delta, delta2: delta}\n",
    "ss_om_con = {key.conjugate() : ss_om[key].conjugate() for key in ss_om}\n",
    "ss_om.update(ss_om_con)\n",
    "ss_om"
   ]
  },
  {
   "cell_type": "code",
   "execution_count": 8,
   "metadata": {
    "collapsed": true
   },
   "outputs": [],
   "source": [
    "gamma[1, 0] = 0\n",
    "gamma[0, 1] = 0\n",
    "\n",
    "rhs = I/hbar*(rho*H-H*rho) + lindblad_terms(gamma, rho, Ne)"
   ]
  },
  {
   "cell_type": "code",
   "execution_count": 9,
   "metadata": {
    "collapsed": false
   },
   "outputs": [
    {
     "data": {
      "image/png": "[encoded data removed]",
      "text/latex": [
       "$$\\left \\{ \\rho_{11} : - \\alpha + 1, \\quad \\rho_{22} : \\alpha, \\quad \\rho_{33} : 0\\right \\}$$"
      ],
      "text/plain": [
       "{ρ₁₁: -α + 1, ρ₂₂: α, ρ₃₃: 0}"
      ]
     },
     "execution_count": 9,
     "metadata": {},
     "output_type": "execute_result"
    }
   ],
   "source": [
    "alpha = symbols(\"alpha\", positive=True)\n",
    "ss_lin1"
   ]
  },
  {
   "cell_type": "code",
   "execution_count": 10,
   "metadata": {
    "collapsed": false
   },
   "outputs": [
    {
     "data": {
      "image/png": "[encoded data removed]",
      "text/latex": [
       "$$\\left \\{ \\theta_{1} : - \\omega_{1}, \\quad \\theta_{2} : - \\omega_{2}, \\quad \\theta_{3} : - \\omega_{3}\\right \\}$$"
      ],
      "text/plain": [
       "{θ₁: -ω₁, θ₂: -ω₂, θ₃: -ω₃}"
      ]
     },
     "execution_count": 10,
     "metadata": {},
     "output_type": "execute_result"
    }
   ],
   "source": [
    "o2j = {0: 1, 1:3, 2: 2}\n",
    "j2o = {1: 0, 3:1, 2: 2}\n",
    "ss_rf = {theta[0]: -omega_level[0], theta[1]: -omega_level[1], theta[2]: -omega_level[2]}\n",
    "ss_rf"
   ]
  },
  {
   "cell_type": "markdown",
   "metadata": {},
   "source": [
    "We establish the 2 photon resonance condition, meaning that the control field and the signal field have the same detuning from the excited state. In other words, its detuning is given by the ground state splitting. Since the antistokes field is a decay from the undesired coupling of the control field to the populated groundstate, its detuning is twice that as the control field."
   ]
  },
  {
   "cell_type": "code",
   "execution_count": 13,
   "metadata": {
    "collapsed": false
   },
   "outputs": [
    {
     "data": {
      "image/png": "[encoded data removed]",
      "text/latex": [
       "$$\\left \\{ t \\varpi_{2} : \\omega_{1} t - \\omega_{2} t + t \\varpi_{1}, \\quad t \\varpi_{3} : 2 \\omega_{1} t - 2 \\omega_{2} t + t \\varpi_{1}\\right \\}$$"
      ],
      "text/plain": [
       "{t⋅varpi₂: ω₁⋅t - ω₂⋅t + t⋅varpi₁, t⋅varpi₃: 2⋅ω₁⋅t - 2⋅ω₂⋅t + t⋅varpi₁}"
      ]
     },
     "execution_count": 13,
     "metadata": {},
     "output_type": "execute_result"
    }
   ],
   "source": [
    "ss_2phot = {omega_laser[1]*t: omega_laser[0]*t-omega_level[1]*t+omega_level[0]*t,\n",
    "            omega_laser[2]*t: omega_laser[0]*t-omega_level[1]*t*2+omega_level[0]*t*2}\n",
    "ss_2phot"
   ]
  },
  {
   "cell_type": "markdown",
   "metadata": {},
   "source": [
    "The signal detuning and the ground state splitting are defined"
   ]
  },
  {
   "cell_type": "code",
   "execution_count": 31,
   "metadata": {
    "collapsed": false
   },
   "outputs": [
    {
     "data": {
      "image/png": "[encoded data removed]",
      "text/latex": [
       "$$\\left \\{ - 2 \\omega_{1} t + 2 \\omega_{2} t : - 2 \\omega_{b} t, \\quad - \\omega_{1} t + \\omega_{2} t : - \\omega_{b} t, \\quad \\omega_{1} t - \\omega_{3} t + t \\varpi_{1} : \\Delta_{s} t\\right \\}$$"
      ],
      "text/plain": [
       "{-2⋅ω₁⋅t + 2⋅ω₂⋅t: -2⋅ω_b⋅t, -ω₁⋅t + ω₂⋅t: -ω_b⋅t, ω₁⋅t - ω₃⋅t + t⋅varpi₁: Δ_s\n",
       "⋅t}"
      ]
     },
     "execution_count": 31,
     "metadata": {},
     "output_type": "execute_result"
    }
   ],
   "source": [
    "Delta_s = symbols(\"Delta_s\", real=True)\n",
    "Delta_a = symbols(\"Delta_a\", real=True)\n",
    "omega_b = symbols(\"omega_b\", real=True)\n",
    "\n",
    "ss_delta = {-omega_level[2]*t+omega_level[0]*t+omega_laser[0]*t: Delta_s*t,\n",
    "            omega_level[1]*t-omega_level[0]*t: -omega_b*t,\n",
    "            2*omega_level[1]*t-2*omega_level[0]*t: -2*omega_b*t}\n",
    "# A mistake by Tom:\n",
    "ss_delta = {-omega_level[2]*t+omega_level[0]*t+omega_laser[0]*t: Delta_s*t,\n",
    "            omega_level[1]*t-omega_level[0]*t: -omega_b*t,\n",
    "            2*omega_level[1]*t-2*omega_level[0]*t: -2*omega_b*t}\n",
    "ss_delta_inv = {ss_delta[i]: i for i in ss_delta}\n",
    "ss_delta"
   ]
  },
  {
   "cell_type": "code",
   "execution_count": 32,
   "metadata": {
    "collapsed": false
   },
   "outputs": [
    {
     "data": {
      "image/png": "[encoded data removed]",
      "text/latex": [
       "$$\\left \\{ t \\varpi_{1} : \\Delta_{s} t - \\omega_{1} t + \\omega_{3} t\\right \\}$$"
      ],
      "text/plain": [
       "{t⋅varpi₁: Δ_s⋅t - ω₁⋅t + ω₃⋅t}"
      ]
     },
     "execution_count": 32,
     "metadata": {},
     "output_type": "execute_result"
    }
   ],
   "source": [
    "ss_delta2 = {omega_laser[0]*t: Delta_s*t+omega_level[2]*t-omega_level[0]*t}\n",
    "ss_delta2"
   ]
  },
  {
   "cell_type": "code",
   "execution_count": 33,
   "metadata": {
    "collapsed": false
   },
   "outputs": [
    {
     "data": {
      "image/png": "[encoded data removed]",
      "text/latex": [
       "$$\\left \\{ \\Delta_{s} t - \\omega_{b} t : \\Delta_{a} t\\right \\}$$"
      ],
      "text/plain": [
       "{Δ_s⋅t - ω_b⋅t: Δₐ⋅t}"
      ]
     },
     "execution_count": 33,
     "metadata": {},
     "output_type": "execute_result"
    }
   ],
   "source": [
    "ss_delta3 = {Delta_s*t-omega_b*t: Delta_a*t}\n",
    "ss_delta3"
   ]
  },
  {
   "cell_type": "code",
   "execution_count": 35,
   "metadata": {
    "collapsed": false
   },
   "outputs": [
    {
     "data": {
      "image/png": "[encoded data removed]",
      "text/latex": [
       "$$- \\frac{\\gamma_{31} \\rho_{31}}{2} - \\frac{\\gamma_{32} \\rho_{31}}{2} + i \\left(- \\rho_{21} \\left(- \\frac{e r_{0;32}}{2} E_{01} e^{- i \\left(- \\Delta_{s} t + \\omega_{b} t\\right)} - \\frac{e r_{0;32}}{2} E_{02} e^{i \\Delta_{s} t} - \\frac{e r_{0;32}}{2} E_{03} e^{- i \\left(- \\Delta_{s} t - \\omega_{b} t\\right)}\\right) - \\left(- \\alpha + 1\\right) \\left(- \\frac{e r_{0;31}}{2} E_{01} e^{i \\Delta_{s} t} - \\frac{e r_{0;31}}{2} E_{02} e^{- i \\left(- \\Delta_{s} t - \\omega_{b} t\\right)} - \\frac{e r_{0;31}}{2} E_{03} e^{- i \\left(- \\Delta_{s} t - 2 \\omega_{b} t\\right)}\\right)\\right)$$"
      ],
      "text/plain": [
       "                        ⎛      ⎛                     -ⅈ⋅(-Δ_s⋅t + ω_b⋅t)      \n",
       "  γ₃₁⋅ρ₃₁   γ₃₂⋅ρ₃₁     ⎜      ⎜  E_{01}⋅e⋅r_{0;32}⋅ℯ                      E_{\n",
       "- ─────── - ─────── + ⅈ⋅⎜- ρ₂₁⋅⎜- ────────────────────────────────────── - ───\n",
       "     2         2        ⎝      ⎝                    2                         \n",
       "\n",
       "                ⅈ⋅Δ_s⋅t                      -ⅈ⋅(-Δ_s⋅t - ω_b⋅t)⎞            ⎛\n",
       "02}⋅e⋅r_{0;32}⋅ℯ          E_{03}⋅e⋅r_{0;32}⋅ℯ                   ⎟            ⎜\n",
       "─────────────────────── - ──────────────────────────────────────⎟ - (-α + 1)⋅⎜\n",
       "         2                                  2                   ⎠            ⎝\n",
       "\n",
       "                     ⅈ⋅Δ_s⋅t                      -ⅈ⋅(-Δ_s⋅t - ω_b⋅t)         \n",
       "  E_{01}⋅e⋅r_{0;31}⋅ℯ          E_{02}⋅e⋅r_{0;31}⋅ℯ                      E_{03}\n",
       "- ────────────────────────── - ────────────────────────────────────── - ──────\n",
       "              2                                  2                            \n",
       "\n",
       "             -ⅈ⋅(-Δ_s⋅t - 2⋅ω_b⋅t)⎞⎞\n",
       "⋅e⋅r_{0;31}⋅ℯ                     ⎟⎟\n",
       "──────────────────────────────────⎟⎟\n",
       "             2                    ⎠⎠"
      ]
     },
     "execution_count": 35,
     "metadata": {},
     "output_type": "execute_result"
    }
   ],
   "source": [
    "eq1 = rhs[j2o[2], j2o[1]].subs(ss_lin1).subs(hbar, 1).subs(ss_rf)\n",
    "eq1 = eq1.subs(ss_2phot).subs(ss_delta2).subs(ss_delta)#.subs(ss_delta3)\n",
    "eq1"
   ]
  },
  {
   "cell_type": "code",
   "execution_count": 20,
   "metadata": {
    "collapsed": false
   },
   "outputs": [
    {
     "data": {
      "image/png": "[encoded data removed]",
      "text/latex": [
       "$$- \\frac{\\gamma_{31} \\overline{\\rho_{32}}}{2} - \\frac{\\gamma_{32} \\overline{\\rho_{32}}}{2} + i \\left(\\alpha \\left(- \\frac{e r_{0;32}}{2} e^{- i \\Delta_{s} t} \\overline{E_{02}} - \\frac{e r_{0;32}}{2} e^{- i \\Delta_{a} t} \\overline{E_{01}} - \\frac{e r_{0;32}}{2} e^{- i \\left(\\Delta_{s} t - \\omega_{b} t\\right)} \\overline{E_{03}}\\right) + \\rho_{21} \\left(- \\frac{e r_{0;31}}{2} e^{- i \\Delta_{s} t} \\overline{E_{01}} - \\frac{e r_{0;31}}{2} e^{- i \\left(\\Delta_{s} t - \\omega_{b} t\\right)} \\overline{E_{02}} - \\frac{e r_{0;31}}{2} e^{- i \\left(\\Delta_{s} t - 2 \\omega_{b} t\\right)} \\overline{E_{03}}\\right)\\right)$$"
      ],
      "text/plain": [
       "      ___       ___     ⎛  ⎛              -ⅈ⋅Δ_s⋅t ______               -ⅈ⋅Δₐ⋅\n",
       "  γ₃₁⋅ρ₃₂   γ₃₂⋅ρ₃₂     ⎜  ⎜  e⋅r_{0;32}⋅ℯ        ⋅E_{02}   e⋅r_{0;32}⋅ℯ      \n",
       "- ─────── - ─────── + ⅈ⋅⎜α⋅⎜- ─────────────────────────── - ──────────────────\n",
       "     2         2        ⎝  ⎝               2                            2     \n",
       "\n",
       "t ______               -ⅈ⋅(Δ_s⋅t - ω_b⋅t) ______⎞       ⎛              -ⅈ⋅Δ_s⋅\n",
       " ⋅E_{01}   e⋅r_{0;32}⋅ℯ                  ⋅E_{03}⎟       ⎜  e⋅r_{0;31}⋅ℯ       \n",
       "──────── - ─────────────────────────────────────⎟ + ρ₂₁⋅⎜- ───────────────────\n",
       "                             2                  ⎠       ⎝               2     \n",
       "\n",
       "t ______               -ⅈ⋅(Δ_s⋅t - ω_b⋅t) ______               -ⅈ⋅(Δ_s⋅t - 2⋅ω\n",
       " ⋅E_{01}   e⋅r_{0;31}⋅ℯ                  ⋅E_{02}   e⋅r_{0;31}⋅ℯ               \n",
       "──────── - ───────────────────────────────────── - ───────────────────────────\n",
       "                             2                                        2       \n",
       "\n",
       "_b⋅t) ______⎞⎞\n",
       "     ⋅E_{03}⎟⎟\n",
       "────────────⎟⎟\n",
       "            ⎠⎠"
      ]
     },
     "execution_count": 20,
     "metadata": {},
     "output_type": "execute_result"
    }
   ],
   "source": [
    "eq2 = rhs[j2o[3], j2o[2]].subs(ss_lin1).subs(hbar, 1).subs(ss_rf)\n",
    "eq2 = eq2.subs(ss_2phot).subs(ss_delta2).subs(ss_delta).subs(ss_delta3)\n",
    "eq2"
   ]
  },
  {
   "cell_type": "code",
   "execution_count": 21,
   "metadata": {
    "collapsed": false
   },
   "outputs": [
    {
     "data": {
      "image/png": "[encoded data removed]",
      "text/latex": [
       "$$i \\left(- \\rho_{31} \\left(- \\frac{e r_{0;32}}{2} e^{- i \\Delta_{s} t} \\overline{E_{02}} - \\frac{e r_{0;32}}{2} e^{- i \\Delta_{a} t} \\overline{E_{01}} - \\frac{e r_{0;32}}{2} e^{- i \\left(\\Delta_{s} t - \\omega_{b} t\\right)} \\overline{E_{03}}\\right) + \\left(- \\frac{e r_{0;31}}{2} E_{01} e^{i \\Delta_{s} t} - \\frac{e r_{0;31}}{2} E_{02} e^{- i \\left(- \\Delta_{s} t + \\omega_{b} t\\right)} - \\frac{e r_{0;31}}{2} E_{03} e^{- i \\left(- \\Delta_{s} t + 2 \\omega_{b} t\\right)}\\right) \\overline{\\rho_{32}}\\right)$$"
      ],
      "text/plain": [
       "  ⎛      ⎛              -ⅈ⋅Δ_s⋅t ______               -ⅈ⋅Δₐ⋅t ______          \n",
       "  ⎜      ⎜  e⋅r_{0;32}⋅ℯ        ⋅E_{02}   e⋅r_{0;32}⋅ℯ       ⋅E_{01}   e⋅r_{0;\n",
       "ⅈ⋅⎜- ρ₃₁⋅⎜- ─────────────────────────── - ────────────────────────── - ───────\n",
       "  ⎝      ⎝               2                            2                       \n",
       "\n",
       "     -ⅈ⋅(Δ_s⋅t - ω_b⋅t) ______⎞   ⎛                     ⅈ⋅Δ_s⋅t               \n",
       "32}⋅ℯ                  ⋅E_{03}⎟   ⎜  E_{01}⋅e⋅r_{0;31}⋅ℯ          E_{02}⋅e⋅r_{\n",
       "──────────────────────────────⎟ + ⎜- ────────────────────────── - ────────────\n",
       "           2                  ⎠   ⎝              2                            \n",
       "\n",
       "       -ⅈ⋅(-Δ_s⋅t + ω_b⋅t)                      -ⅈ⋅(-Δ_s⋅t + 2⋅ω_b⋅t)⎞    ⎞\n",
       "0;31}⋅ℯ                      E_{03}⋅e⋅r_{0;31}⋅ℯ                     ⎟ ___⎟\n",
       "────────────────────────── - ────────────────────────────────────────⎟⋅ρ₃₂⎟\n",
       "      2                                         2                    ⎠    ⎠"
      ]
     },
     "execution_count": 21,
     "metadata": {},
     "output_type": "execute_result"
    }
   ],
   "source": [
    "eq3 = rhs[j2o[3], j2o[1]].subs(ss_lin1).subs(hbar, 1).subs(ss_rf)\n",
    "eq3 = eq3.subs(ss_2phot).subs(ss_delta2).subs(ss_delta).subs(ss_delta3)\n",
    "eq3"
   ]
  },
  {
   "cell_type": "code",
   "execution_count": null,
   "metadata": {
    "collapsed": true
   },
   "outputs": [],
   "source": []
  },
  {
   "cell_type": "code",
   "execution_count": null,
   "metadata": {
    "collapsed": true
   },
   "outputs": [],
   "source": []
  }
 ],
 "metadata": {
  "kernelspec": {
   "display_name": "Python 2",
   "language": "python",
   "name": "python2"
  },
  "language_info": {
   "codemirror_mode": {
    "name": "ipython",
    "version": 2
   },
   "file_extension": ".py",
   "mimetype": "text/x-python",
   "name": "python",
   "nbconvert_exporter": "python",
   "pygments_lexer": "ipython2",
   "version": "2.7.13"
  }
 },
 "nbformat": 4,
 "nbformat_minor": 2
}
