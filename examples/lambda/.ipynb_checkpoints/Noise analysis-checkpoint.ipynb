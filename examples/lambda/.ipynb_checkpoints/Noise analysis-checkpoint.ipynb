{
 "cells": [
  {
   "cell_type": "code",
   "execution_count": 1,
   "metadata": {
    "collapsed": true
   },
   "outputs": [],
   "source": [
    "from sympy import init_printing, DiracDelta, symbols, Function, Matrix, Integral, conjugate\n",
    "init_printing()"
   ]
  },
  {
   "cell_type": "code",
   "execution_count": 2,
   "metadata": {
    "collapsed": true
   },
   "outputs": [],
   "source": [
    "Nf = 3\n",
    "t, z = symbols(\"t, z\")\n",
    "\n",
    "Ni = 8\n",
    "t_ = symbols(\"\".join([\"t\"+str(i+1)+\" \" for i in range(Ni)]))\n",
    "z_ = symbols(\"\".join([\"z\"+str(i+1)+\" \" for i in range(Ni)]))\n",
    "\n",
    "labels = [\"s\", \"a\", \"b\"]\n",
    "Labels = [\"S\", \"A\", \"B\"]"
   ]
  },
  {
   "cell_type": "code",
   "execution_count": 3,
   "metadata": {
    "collapsed": false
   },
   "outputs": [],
   "source": [
    "def commutator(a, b): return a*b-b*a"
   ]
  },
  {
   "cell_type": "code",
   "execution_count": 4,
   "metadata": {
    "collapsed": false
   },
   "outputs": [
    {
     "data": {
      "image/png": "[encoded data removed]",
      "text/latex": [
       "$$\\left ( \\left[\\begin{matrix}s_{1} & a_{1} & S_{1} & A_{1}\\\\s_{2} & a_{2} & S_{2} & A_{2}\\\\s_{3} & a_{3} & S_{3} & A_{3}\\\\s_{4} & a_{4} & S_{4} & A_{4}\\\\s_{5} & a_{5} & S_{5} & A_{5}\\\\s_{6} & a_{6} & S_{6} & A_{6}\\\\s_{7} & a_{7} & S_{7} & A_{7}\\\\s_{8} & a_{8} & S_{8} & A_{8}\\end{matrix}\\right], \\quad \\left[\\begin{matrix}b_{1} & B_{1}\\\\b_{2} & B_{2}\\\\b_{3} & B_{3}\\\\b_{4} & B_{4}\\\\b_{5} & B_{5}\\\\b_{6} & B_{6}\\\\b_{7} & B_{7}\\\\b_{8} & B_{8}\\end{matrix}\\right]\\right )$$"
      ],
      "text/plain": [
       "⎛⎡s₁  a₁  S₁  A₁⎤, ⎡b₁  B₁⎤⎞\n",
       "⎜⎢              ⎥  ⎢      ⎥⎟\n",
       "⎜⎢s₂  a₂  S₂  A₂⎥  ⎢b₂  B₂⎥⎟\n",
       "⎜⎢              ⎥  ⎢      ⎥⎟\n",
       "⎜⎢s₃  a₃  S₃  A₃⎥  ⎢b₃  B₃⎥⎟\n",
       "⎜⎢              ⎥  ⎢      ⎥⎟\n",
       "⎜⎢s₄  a₄  S₄  A₄⎥  ⎢b₄  B₄⎥⎟\n",
       "⎜⎢              ⎥  ⎢      ⎥⎟\n",
       "⎜⎢s₅  a₅  S₅  A₅⎥  ⎢b₅  B₅⎥⎟\n",
       "⎜⎢              ⎥  ⎢      ⎥⎟\n",
       "⎜⎢s₆  a₆  S₆  A₆⎥  ⎢b₆  B₆⎥⎟\n",
       "⎜⎢              ⎥  ⎢      ⎥⎟\n",
       "⎜⎢s₇  a₇  S₇  A₇⎥  ⎢b₇  B₇⎥⎟\n",
       "⎜⎢              ⎥  ⎢      ⎥⎟\n",
       "⎝⎣s₈  a₈  S₈  A₈⎦  ⎣b₈  B₈⎦⎠"
      ]
     },
     "execution_count": 4,
     "metadata": {},
     "output_type": "execute_result"
    }
   ],
   "source": [
    "Nft = 2\n",
    "Nfz = Nf-Nft\n",
    "xxt = Matrix([[symbols(labels[i]+str(j+1), commutative=False) for i in range(Nft)] +\n",
    "              [symbols(Labels[i]+str(j+1), commutative=False) for i in range(Nft)] for j in range(Ni)])\n",
    "\n",
    "xxz = Matrix([[symbols(labels[i]+str(j+1), commutative=False) for i in range(Nft, Nf)] +\n",
    "              [symbols(Labels[i]+str(j+1), commutative=False) for i in range(Nft, Nf)] for j in range(Ni)])\n",
    "\n",
    "xxt, xxz"
   ]
  },
  {
   "cell_type": "code",
   "execution_count": 5,
   "metadata": {
    "collapsed": false
   },
   "outputs": [],
   "source": [
    "def subs_t(expr, t1, t2):\n",
    "    i1 = t_.index(t1)\n",
    "    i2 = t_.index(t2)\n",
    "    dic = {xxt[i1, i]: xxt[i2, i] for i in range(2*Nft)}\n",
    "    expr = expr.subs(dic)\n",
    "    expr = expr.subs(t1, t2)\n",
    "    #expr = expr.subs(z_[i1], z_[i1])\n",
    "    return expr\n",
    "\n",
    "def subs_z(expr, z1, z2):\n",
    "    i1 = z_.index(z1)\n",
    "    i2 = z_.index(z2)\n",
    "    dic = {xxz[i1, i]: xxz[i2, i] for i in range(2*Nfz)}\n",
    "    expr = expr.subs(dic)\n",
    "    expr = expr.subs(z1, z2)\n",
    "    #expr = expr.subs(z_[i1], z_[i1])\n",
    "    return expr"
   ]
  },
  {
   "cell_type": "code",
   "execution_count": 6,
   "metadata": {
    "collapsed": false
   },
   "outputs": [
    {
     "data": {
      "image/png": "[encoded data removed]",
      "text/latex": [
       "$$\\left ( \\left[\\begin{matrix}S_{1}\\\\A_{1}^{\\dagger}\\\\B_{1}\\end{matrix}\\right], \\quad \\left[\\begin{matrix}\\operatorname{G_{ss}}{\\left (t,t_{1} \\right )} & \\operatorname{G_{sa}}{\\left (t,t_{1} \\right )} & \\operatorname{G_{sb}}{\\left (t,z_{1} \\right )}\\\\\\operatorname{G_{as}}{\\left (t,t_{1} \\right )} & \\operatorname{G_{aa}}{\\left (t,t_{1} \\right )} & \\operatorname{G_{ab}}{\\left (t,z_{1} \\right )}\\\\\\operatorname{G_{bs}}{\\left (z,t_{1} \\right )} & \\operatorname{G_{ba}}{\\left (z,t_{1} \\right )} & \\operatorname{G_{bb}}{\\left (z,z_{1} \\right )}\\end{matrix}\\right], \\quad \\left[\\begin{matrix}s_{1}\\\\a_{1}^{\\dagger}\\\\b_{1}\\end{matrix}\\right]\\right )$$"
      ],
      "text/plain": [
       "⎛⎡S₁ ⎤, ⎡G_ss(t, t₁)  G_sa(t, t₁)  G_sb(t, z₁)⎤, ⎡s₁ ⎤⎞\n",
       "⎜⎢   ⎥  ⎢                                     ⎥  ⎢   ⎥⎟\n",
       "⎜⎢  †⎥  ⎢G_as(t, t₁)  Gₐₐ(t, t₁)   G_ab(t, z₁)⎥  ⎢  †⎥⎟\n",
       "⎜⎢A₁ ⎥  ⎢                                     ⎥  ⎢a₁ ⎥⎟\n",
       "⎜⎢   ⎥  ⎣G_bs(z, t₁)  G_ba(z, t₁)  G_bb(z, z₁)⎦  ⎢   ⎥⎟\n",
       "⎝⎣B₁ ⎦                                           ⎣b₁ ⎦⎠"
      ]
     },
     "execution_count": 6,
     "metadata": {},
     "output_type": "execute_result"
    }
   ],
   "source": [
    "x = Matrix([symbols(labels[i]+\"1\", commutative=False) for i in range(Nf)])\n",
    "X = Matrix([symbols(Labels[i]+\"1\", commutative=False) for i in range(Nf)])\n",
    "x[1] = x[1].adjoint()\n",
    "X[1] = X[1].adjoint()\n",
    "var_ = [t_[0], t_[0], z_[0]]\n",
    "VAR_ = [t, t, z]\n",
    "G = Matrix([[Function(\"G_\"+labels[i]+labels[j])(VAR_[i], var_[j]) for j in range(Nf)] for i in range(Nf)])\n",
    "\n",
    "X, G, x"
   ]
  },
  {
   "cell_type": "code",
   "execution_count": 7,
   "metadata": {
    "collapsed": false
   },
   "outputs": [
    {
     "data": {
      "image/png": "[encoded data removed]",
      "text/latex": [
       "$$\\left [ \\operatorname{G_{ss}}{\\left (t,t_{1} \\right )} s_{1}, \\quad \\operatorname{G_{sa}}{\\left (t,t_{1} \\right )} a_{1}^{\\dagger}, \\quad \\operatorname{G_{sb}}{\\left (t,z_{1} \\right )} b_{1}\\right ]$$"
      ],
      "text/plain": [
       "⎡                              †                ⎤\n",
       "⎣G_ss(t, t₁)⋅s₁, G_sa(t, t₁)⋅a₁ , G_sb(t, z₁)⋅b₁⎦"
      ]
     },
     "execution_count": 7,
     "metadata": {},
     "output_type": "execute_result"
    }
   ],
   "source": [
    "X_ = [[G[i, j]*x[j] for j in range(Nf)] for i in range(Nf)]\n",
    "S_ = X_[0]\n",
    "S_"
   ]
  },
  {
   "cell_type": "markdown",
   "metadata": {},
   "source": [
    "We are interested in the signal photons as given by the expectation values of the photon number operator, or in general on expectation values of operators expressed in terms of creation and anihilation operators of the output signal field."
   ]
  },
  {
   "cell_type": "code",
   "execution_count": 8,
   "metadata": {
    "collapsed": false
   },
   "outputs": [
    {
     "data": {
      "image/png": "[encoded data removed]",
      "text/latex": [
       "$$\\left [ \\overline{\\operatorname{G_{ss}}{\\left (t,t_{2} \\right )}} s_{2}^{\\dagger}, \\quad \\overline{\\operatorname{G_{sa}}{\\left (t,t_{2} \\right )}} a_{2}, \\quad \\overline{\\operatorname{G_{sb}}{\\left (t,z_{2} \\right )}} b_{2}^{\\dagger}\\right ]$$"
      ],
      "text/plain": [
       "⎡___________   †  ___________     ___________   †⎤\n",
       "⎣G_ss(t, t₂)⋅s₂ , G_sa(t, t₂)⋅a₂, G_sb(t, z₂)⋅b₂ ⎦"
      ]
     },
     "execution_count": 8,
     "metadata": {},
     "output_type": "execute_result"
    }
   ],
   "source": [
    "ss_conj = {G[i, j].adjoint(): G[i, j].conjugate() for j in range(Nf) for i in range(Nf)}\n",
    "def adjoint(expr): return expr.adjoint().subs(ss_conj)\n",
    "\n",
    "Sd_ = [subs_z(subs_t(adjoint(S_[j]), t_[0], t_[1]), z_[0], z_[1]) for j in range(Nf)]\n",
    "#Sd_ = [subst(adjoint(S_[j]), t_[0], t_[1]) for j in range(Nf)]\n",
    "Sd_"
   ]
  },
  {
   "cell_type": "markdown",
   "metadata": {},
   "source": [
    "We define a function that takes two terms and returns their product with the scalar part to the left, and the operator part to the right."
   ]
  },
  {
   "cell_type": "code",
   "execution_count": 9,
   "metadata": {
    "collapsed": false
   },
   "outputs": [],
   "source": [
    "from sympy import adjoint as Adjoint\n",
    "from sympy import Symbol, Pow\n",
    "\n",
    "def is_operator(expr):\n",
    "    return not expr.is_commutative \n",
    "\n",
    "def is_creation(expr):\n",
    "    if isinstance(expr, Pow):\n",
    "        return is_creation(expr.args[0])\n",
    "    return is_operator(expr) and isinstance(expr, Adjoint)\n",
    "\n",
    "def scalar_and_operator_parts(expr):\n",
    "    sc_part = 1; op_part = 1\n",
    "    for p in expr.args:\n",
    "        if is_operator(p):\n",
    "            op_part *= p\n",
    "        else:\n",
    "            sc_part *= p\n",
    "    return sc_part, op_part\n",
    "\n",
    "def prod(expr1, expr2):\n",
    "    sc_part1, op_part1 = scalar_and_operator_parts(expr1)\n",
    "    sc_part2, op_part2 = scalar_and_operator_parts(expr2)            \n",
    "    return sc_part1*sc_part2*op_part1*op_part2\n",
    "\n",
    "def get_label(op):\n",
    "    if isinstance(op, Pow):\n",
    "        return get_label(op.args[0])\n",
    "    if isinstance(op, Adjoint):\n",
    "        op = op.adjoint()\n",
    "    return str(op)[:1]\n",
    "\n",
    "def swap(op1, op2):\n",
    "    i1 = labels.index(get_label(op1))\n",
    "    i2 = labels.index(get_label(op2))\n",
    "    if i1 > i2:\n",
    "        return [op2, op1]\n",
    "    return [op1, op2]\n",
    "\n",
    "def order_by_modes(expr):\n",
    "    sc_part, op_part = scalar_and_operator_parts(expr)\n",
    "    op_ = list(op_part.args)\n",
    "    for i in range(4):\n",
    "        for j in range(len(op_)-1):\n",
    "            op1, op2 = swap(op_[j], op_[j+1])\n",
    "            op_[j] = op1\n",
    "            op_[j+1] = op2\n",
    "    \n",
    "    expr_n = 1\n",
    "    for i in range(len(op_)):\n",
    "        expr_n *= op_[i]\n",
    "    return sc_part*expr_n\n",
    "\n",
    "def prod_of_sums(sum1, sum2):\n",
    "    return [order_by_modes(prod(i, j)) for j in sum2 for i in sum1]\n"
   ]
  },
  {
   "cell_type": "markdown",
   "metadata": {},
   "source": [
    "A function that orders the operator by mode"
   ]
  },
  {
   "cell_type": "code",
   "execution_count": 10,
   "metadata": {
    "collapsed": false
   },
   "outputs": [
    {
     "data": {
      "image/png": "[encoded data removed]",
      "text/latex": [
       "$$\\left [ \\operatorname{G_{ss}}{\\left (t,t_{1} \\right )} \\overline{\\operatorname{G_{ss}}{\\left (t,t_{2} \\right )}} s_{2}^{\\dagger} s_{1}, \\quad \\operatorname{G_{ss}}{\\left (t,t_{1} \\right )} \\overline{\\operatorname{G_{sa}}{\\left (t,t_{2} \\right )}} s_{1} a_{2}, \\quad \\operatorname{G_{ss}}{\\left (t,t_{1} \\right )} \\overline{\\operatorname{G_{sb}}{\\left (t,z_{2} \\right )}} s_{1} b_{2}^{\\dagger}, \\quad \\operatorname{G_{sa}}{\\left (t,t_{1} \\right )} \\overline{\\operatorname{G_{ss}}{\\left (t,t_{2} \\right )}} s_{2}^{\\dagger} a_{1}^{\\dagger}, \\quad \\operatorname{G_{sa}}{\\left (t,t_{1} \\right )} \\overline{\\operatorname{G_{sa}}{\\left (t,t_{2} \\right )}} a_{2} a_{1}^{\\dagger}, \\quad \\operatorname{G_{sa}}{\\left (t,t_{1} \\right )} \\overline{\\operatorname{G_{sb}}{\\left (t,z_{2} \\right )}} a_{1}^{\\dagger} b_{2}^{\\dagger}, \\quad \\operatorname{G_{sb}}{\\left (t,z_{1} \\right )} \\overline{\\operatorname{G_{ss}}{\\left (t,t_{2} \\right )}} s_{2}^{\\dagger} b_{1}, \\quad \\operatorname{G_{sb}}{\\left (t,z_{1} \\right )} \\overline{\\operatorname{G_{sa}}{\\left (t,t_{2} \\right )}} a_{2} b_{1}, \\quad \\operatorname{G_{sb}}{\\left (t,z_{1} \\right )} \\overline{\\operatorname{G_{sb}}{\\left (t,z_{2} \\right )}} b_{2}^{\\dagger} b_{1}\\right ]$$"
      ],
      "text/plain": [
       "⎡            ___________   †                 ___________                    __\n",
       "⎣G_ss(t, t₁)⋅G_ss(t, t₂)⋅s₂ ⋅s₁, G_ss(t, t₁)⋅G_sa(t, t₂)⋅s₁⋅a₂, G_ss(t, t₁)⋅G_\n",
       "\n",
       "_________      †              ___________   †   †              ___________    \n",
       "sb(t, z₂)⋅s₁⋅b₂ , G_sa(t, t₁)⋅G_ss(t, t₂)⋅s₂ ⋅a₁ , G_sa(t, t₁)⋅G_sa(t, t₂)⋅a₂⋅\n",
       "\n",
       "  †              ___________   †   †              ___________   †             \n",
       "a₁ , G_sa(t, t₁)⋅G_sb(t, z₂)⋅a₁ ⋅b₂ , G_sb(t, z₁)⋅G_ss(t, t₂)⋅s₂ ⋅b₁, G_sb(t, \n",
       "\n",
       "    ___________                    ___________   †   ⎤\n",
       "z₁)⋅G_sa(t, t₂)⋅a₂⋅b₁, G_sb(t, z₁)⋅G_sb(t, z₂)⋅b₂ ⋅b₁⎦"
      ]
     },
     "execution_count": 10,
     "metadata": {},
     "output_type": "execute_result"
    }
   ],
   "source": [
    "N_s = prod_of_sums(Sd_, S_)\n",
    "N_s"
   ]
  },
  {
   "cell_type": "markdown",
   "metadata": {},
   "source": [
    "A function that eliminates terms that evaluate to zero."
   ]
  },
  {
   "cell_type": "code",
   "execution_count": 11,
   "metadata": {
    "collapsed": false
   },
   "outputs": [],
   "source": [
    "def evaluates_to_zero(op):\n",
    "    if op == 1:\n",
    "        return False\n",
    "    meh = [0 for i in range(Nf)]\n",
    "    ops = list(reversed(op.args))\n",
    "    for f in ops:\n",
    "        deg = 1\n",
    "        if isinstance(f, Pow):\n",
    "            deg = f.args[1]\n",
    "        ind = labels.index(get_label(f))\n",
    "        if is_creation(f):\n",
    "            meh[ind] += deg\n",
    "        else:\n",
    "            if meh[ind] == 0:\n",
    "                return True\n",
    "            meh[ind] -= deg\n",
    "    \n",
    "    return not meh == [0 for i in range(Nf)]\n",
    "\n",
    "def eliminate_terms(terms):\n",
    "    terms_n = []\n",
    "    for term in terms:\n",
    "        # print \"........\"\n",
    "        sc_part, op_part = scalar_and_operator_parts(term)\n",
    "        # print sc_part, op_part\n",
    "        keep = op_part == 1\n",
    "        if not keep:\n",
    "            keep = not evaluates_to_zero(op_part)\n",
    "            if keep:\n",
    "                zero_on_left = is_creation(op_part.args[0])\n",
    "                zero_on_right = not is_creation(op_part.args[-1])\n",
    "                keep = (not zero_on_left) and (not zero_on_right)\n",
    "        # print op_part, keep\n",
    "        if keep:\n",
    "            terms_n += [sc_part*op_part]\n",
    "    return terms_n\n",
    "\n",
    "ss_comm = {xxt[i, k]*xxt[j, k].adjoint():\n",
    "           xxt[j, k].adjoint()*xxt[i, k] +\n",
    "           DiracDelta(t_[i]-t_[j]).subs(DiracDelta(0), 1)\n",
    "           for j in range(Ni) for i in range(Ni) for k in range(Nft)}\n",
    "\n",
    "def order_normally(term):\n",
    "    expr = term\n",
    "    for i in range(3):\n",
    "        expr = expr.subs(ss_comm).expand()\n",
    "    return expr\n",
    "\n",
    "def order_normally_terms(terms):\n",
    "    return sum([list(order_normally(term).args) for term in terms], [])"
   ]
  },
  {
   "cell_type": "code",
   "execution_count": 12,
   "metadata": {
    "collapsed": false
   },
   "outputs": [
    {
     "data": {
      "image/png": "[encoded data removed]",
      "text/latex": [
       "$$\\left [ \\operatorname{G_{sa}}{\\left (t,t_{1} \\right )} \\overline{\\operatorname{G_{sa}}{\\left (t,t_{2} \\right )}} a_{2} a_{1}^{\\dagger}\\right ]$$"
      ],
      "text/plain": [
       "⎡            ___________      †⎤\n",
       "⎣G_sa(t, t₁)⋅G_sa(t, t₂)⋅a₂⋅a₁ ⎦"
      ]
     },
     "execution_count": 12,
     "metadata": {},
     "output_type": "execute_result"
    }
   ],
   "source": [
    "Ns0 = eliminate_terms(N_s)\n",
    "Ns0"
   ]
  },
  {
   "cell_type": "code",
   "execution_count": 13,
   "metadata": {
    "collapsed": false
   },
   "outputs": [
    {
     "data": {
      "image/png": "[encoded data removed]",
      "text/latex": [
       "$$\\left [ \\operatorname{G_{sa}}{\\left (t,t_{1} \\right )} \\overline{\\operatorname{G_{sa}}{\\left (t,t_{2} \\right )}} \\delta\\left(- t_{1} + t_{2}\\right), \\quad \\operatorname{G_{sa}}{\\left (t,t_{1} \\right )} \\overline{\\operatorname{G_{sa}}{\\left (t,t_{2} \\right )}} a_{1}^{\\dagger} a_{2}\\right ]$$"
      ],
      "text/plain": [
       "⎡            ___________                                   ___________   †   ⎤\n",
       "⎣G_sa(t, t₁)⋅G_sa(t, t₂)⋅DiracDelta(-t₁ + t₂), G_sa(t, t₁)⋅G_sa(t, t₂)⋅a₁ ⋅a₂⎦"
      ]
     },
     "execution_count": 13,
     "metadata": {},
     "output_type": "execute_result"
    }
   ],
   "source": [
    "Ns0 = eliminate_terms(N_s)\n",
    "Ns0 = order_normally_terms(Ns0)\n",
    "Ns0"
   ]
  },
  {
   "cell_type": "code",
   "execution_count": 14,
   "metadata": {
    "collapsed": false
   },
   "outputs": [
    {
     "data": {
      "image/png": "[encoded data removed]",
      "text/latex": [
       "$$\\left [ \\operatorname{G_{sa}}{\\left (t,t_{1} \\right )} \\overline{\\operatorname{G_{sa}}{\\left (t,t_{2} \\right )}} \\delta\\left(- t_{1} + t_{2}\\right)\\right ]$$"
      ],
      "text/plain": [
       "⎡            ___________                     ⎤\n",
       "⎣G_sa(t, t₁)⋅G_sa(t, t₂)⋅DiracDelta(-t₁ + t₂)⎦"
      ]
     },
     "execution_count": 14,
     "metadata": {},
     "output_type": "execute_result"
    }
   ],
   "source": [
    "Ns0 = eliminate_terms(N_s)\n",
    "Ns0 = order_normally_terms(Ns0)\n",
    "Ns0 = eliminate_terms(Ns0)\n",
    "Ns0"
   ]
  },
  {
   "cell_type": "markdown",
   "metadata": {},
   "source": [
    "A function to integrate Dirac deltas."
   ]
  },
  {
   "cell_type": "code",
   "execution_count": 15,
   "metadata": {
    "collapsed": true
   },
   "outputs": [],
   "source": [
    "def integrate_deltas(term):\n",
    "    dummies = [at for at in term.atoms() if at in t_]\n",
    "    for fact in term.args:\n",
    "        if isinstance(fact, DiracDelta):\n",
    "            dums = list(reversed([at for at in fact.atoms() if at in dummies]))\n",
    "            term = term.subs(*dums).subs(DiracDelta(0), 1)\n",
    "    return term\n",
    "\n",
    "def integrate_deltas_terms(terms):\n",
    "    return [integrate_deltas(term) for term in terms]"
   ]
  },
  {
   "cell_type": "code",
   "execution_count": 16,
   "metadata": {
    "collapsed": false
   },
   "outputs": [
    {
     "data": {
      "image/png": "[encoded data removed]",
      "text/latex": [
       "$$\\left [ \\operatorname{G_{sa}}{\\left (t,t_{1} \\right )} \\overline{\\operatorname{G_{sa}}{\\left (t,t_{1} \\right )}}\\right ]$$"
      ],
      "text/plain": [
       "⎡            ___________⎤\n",
       "⎣G_sa(t, t₁)⋅G_sa(t, t₁)⎦"
      ]
     },
     "execution_count": 16,
     "metadata": {},
     "output_type": "execute_result"
    }
   ],
   "source": [
    "Ns0 = eliminate_terms(N_s)\n",
    "Ns0 = order_normally_terms(Ns0)\n",
    "Ns0 = eliminate_terms(Ns0)\n",
    "Ns0 = integrate_deltas_terms(Ns0)\n",
    "Ns0"
   ]
  },
  {
   "cell_type": "markdown",
   "metadata": {},
   "source": [
    "We identify this term as the noise photons"
   ]
  },
  {
   "cell_type": "code",
   "execution_count": 17,
   "metadata": {
    "collapsed": false
   },
   "outputs": [
    {
     "data": {
      "image/png": "[encoded data removed]",
      "text/latex": [
       "$$\\left \\{ N_{n} : \\operatorname{G_{sa}}{\\left (t,t_{1} \\right )} \\overline{\\operatorname{G_{sa}}{\\left (t,t_{1} \\right )}}\\right \\}$$"
      ],
      "text/plain": [
       "⎧                 ___________⎫\n",
       "⎨N_n: G_sa(t, t₁)⋅G_sa(t, t₁)⎬\n",
       "⎩                            ⎭"
      ]
     },
     "execution_count": 17,
     "metadata": {},
     "output_type": "execute_result"
    }
   ],
   "source": [
    "Nn = symbols(\"N_n\")\n",
    "sols = {Nn: Ns0[0]}\n",
    "sols"
   ]
  },
  {
   "cell_type": "markdown",
   "metadata": {},
   "source": [
    "Explicitly, the noise photons are"
   ]
  },
  {
   "cell_type": "code",
   "execution_count": 18,
   "metadata": {
    "collapsed": false
   },
   "outputs": [],
   "source": [
    "#Ns0 = eliminate_terms(N_s)\n",
    "#Ns0 = order_normally_terms(Ns0)\n",
    "#Ns0 = eliminate_terms(Ns0)\n",
    "#Ns0 = integrate_deltas_terms(Ns0)\n",
    "#Ns0 = sum(Ns0)\n",
    "#Ns0 = Integral(Ns0, t_[0], t)\n",
    "#Ns0"
   ]
  },
  {
   "cell_type": "markdown",
   "metadata": {},
   "source": [
    "# Single-photon operation\n",
    "We will now calculate the number of photons from the memory when the input is a single photon. The initial state is now\n",
    "\n",
    "\\begin{equation}\n",
    "    |\\psi_1\\rangle = \\int dt_3 \\sigma(t_3) s^\\dagger (t_3) |0\\rangle\n",
    "\\end{equation}"
   ]
  },
  {
   "cell_type": "code",
   "execution_count": 19,
   "metadata": {
    "collapsed": false
   },
   "outputs": [
    {
     "data": {
      "image/png": "[encoded data removed]",
      "text/latex": [
       "$$\\left ( \\sigma{\\left (t_{3} \\right )} s_{3}^{\\dagger}, \\quad \\overline{\\sigma{\\left (t_{4} \\right )}} s_{4}\\right )$$"
      ],
      "text/plain": [
       "⎛        †  _____   ⎞\n",
       "⎝σ(t₃)⋅s₃ , σ(t₄)⋅s₄⎠"
      ]
     },
     "execution_count": 19,
     "metadata": {},
     "output_type": "execute_result"
    }
   ],
   "source": [
    "sigma = Function(\"sigma\")(t_[2])\n",
    "psi1_ket = sigma*xxt[2, 0].adjoint()\n",
    "psi1_bra = subs_t(psi1_ket.adjoint().subs(sigma.adjoint(), sigma.conjugate()), t_[2], t_[3])\n",
    "psi1_ket, psi1_bra"
   ]
  },
  {
   "cell_type": "code",
   "execution_count": 20,
   "metadata": {
    "collapsed": false
   },
   "outputs": [
    {
     "data": {
      "image/png": "[encoded data removed]",
      "text/latex": [
       "$$\\left [ \\operatorname{G_{ss}}{\\left (t,t_{1} \\right )} \\sigma{\\left (t_{3} \\right )} \\overline{\\operatorname{G_{ss}}{\\left (t,t_{2} \\right )}} \\overline{\\sigma{\\left (t_{4} \\right )}} s_{4} s_{2}^{\\dagger} s_{1} s_{3}^{\\dagger}, \\quad \\operatorname{G_{ss}}{\\left (t,t_{1} \\right )} \\sigma{\\left (t_{3} \\right )} \\overline{\\operatorname{G_{sa}}{\\left (t,t_{2} \\right )}} \\overline{\\sigma{\\left (t_{4} \\right )}} s_{4} s_{1} a_{2} s_{3}^{\\dagger}, \\quad \\operatorname{G_{ss}}{\\left (t,t_{1} \\right )} \\sigma{\\left (t_{3} \\right )} \\overline{\\operatorname{G_{sb}}{\\left (t,z_{2} \\right )}} \\overline{\\sigma{\\left (t_{4} \\right )}} s_{4} s_{1} b_{2}^{\\dagger} s_{3}^{\\dagger}, \\quad \\operatorname{G_{sa}}{\\left (t,t_{1} \\right )} \\sigma{\\left (t_{3} \\right )} \\overline{\\operatorname{G_{ss}}{\\left (t,t_{2} \\right )}} \\overline{\\sigma{\\left (t_{4} \\right )}} s_{4} s_{2}^{\\dagger} a_{1}^{\\dagger} s_{3}^{\\dagger}, \\quad \\operatorname{G_{sa}}{\\left (t,t_{1} \\right )} \\sigma{\\left (t_{3} \\right )} \\overline{\\operatorname{G_{sa}}{\\left (t,t_{2} \\right )}} \\overline{\\sigma{\\left (t_{4} \\right )}} s_{4} a_{2} a_{1}^{\\dagger} s_{3}^{\\dagger}, \\quad \\operatorname{G_{sa}}{\\left (t,t_{1} \\right )} \\sigma{\\left (t_{3} \\right )} \\overline{\\operatorname{G_{sb}}{\\left (t,z_{2} \\right )}} \\overline{\\sigma{\\left (t_{4} \\right )}} s_{4} a_{1}^{\\dagger} b_{2}^{\\dagger} s_{3}^{\\dagger}, \\quad \\operatorname{G_{sb}}{\\left (t,z_{1} \\right )} \\sigma{\\left (t_{3} \\right )} \\overline{\\operatorname{G_{ss}}{\\left (t,t_{2} \\right )}} \\overline{\\sigma{\\left (t_{4} \\right )}} s_{4} s_{2}^{\\dagger} b_{1} s_{3}^{\\dagger}, \\quad \\operatorname{G_{sb}}{\\left (t,z_{1} \\right )} \\sigma{\\left (t_{3} \\right )} \\overline{\\operatorname{G_{sa}}{\\left (t,t_{2} \\right )}} \\overline{\\sigma{\\left (t_{4} \\right )}} s_{4} a_{2} b_{1} s_{3}^{\\dagger}, \\quad \\operatorname{G_{sb}}{\\left (t,z_{1} \\right )} \\sigma{\\left (t_{3} \\right )} \\overline{\\operatorname{G_{sb}}{\\left (t,z_{2} \\right )}} \\overline{\\sigma{\\left (t_{4} \\right )}} s_{4} b_{2}^{\\dagger} b_{1} s_{3}^{\\dagger}\\right ]$$"
      ],
      "text/plain": [
       "⎡                  ___________ _____      †      †                    ________\n",
       "⎣G_ss(t, t₁)⋅σ(t₃)⋅G_ss(t, t₂)⋅σ(t₄)⋅s₄⋅s₂ ⋅s₁⋅s₃ , G_ss(t, t₁)⋅σ(t₃)⋅G_sa(t, \n",
       "\n",
       "___ _____            †                    ___________ _____         †   †     \n",
       "t₂)⋅σ(t₄)⋅s₄⋅s₁⋅a₂⋅s₃ , G_ss(t, t₁)⋅σ(t₃)⋅G_sb(t, z₂)⋅σ(t₄)⋅s₄⋅s₁⋅b₂ ⋅s₃ , G_s\n",
       "\n",
       "               ___________ _____      †   †   †                    ___________\n",
       "a(t, t₁)⋅σ(t₃)⋅G_ss(t, t₂)⋅σ(t₄)⋅s₄⋅s₂ ⋅a₁ ⋅s₃ , G_sa(t, t₁)⋅σ(t₃)⋅G_sa(t, t₂)\n",
       "\n",
       " _____         †   †                    ___________ _____      †   †   †      \n",
       "⋅σ(t₄)⋅s₄⋅a₂⋅a₁ ⋅s₃ , G_sa(t, t₁)⋅σ(t₃)⋅G_sb(t, z₂)⋅σ(t₄)⋅s₄⋅a₁ ⋅b₂ ⋅s₃ , G_sb\n",
       "\n",
       "              ___________ _____      †      †                    ___________ _\n",
       "(t, z₁)⋅σ(t₃)⋅G_ss(t, t₂)⋅σ(t₄)⋅s₄⋅s₂ ⋅b₁⋅s₃ , G_sb(t, z₁)⋅σ(t₃)⋅G_sa(t, t₂)⋅σ\n",
       "\n",
       "____            †                    ___________ _____      †      †⎤\n",
       "(t₄)⋅s₄⋅a₂⋅b₁⋅s₃ , G_sb(t, z₁)⋅σ(t₃)⋅G_sb(t, z₂)⋅σ(t₄)⋅s₄⋅b₂ ⋅b₁⋅s₃ ⎦"
      ]
     },
     "execution_count": 20,
     "metadata": {},
     "output_type": "execute_result"
    }
   ],
   "source": [
    "Ns1 = [psi1_bra*term*psi1_ket for term in N_s]\n",
    "Ns1"
   ]
  },
  {
   "cell_type": "code",
   "execution_count": 21,
   "metadata": {
    "collapsed": false
   },
   "outputs": [
    {
     "data": {
      "image/png": "[encoded data removed]",
      "text/latex": [
       "$$\\left [ \\operatorname{G_{ss}}{\\left (t,t_{1} \\right )} \\sigma{\\left (t_{1} \\right )} \\overline{\\operatorname{G_{ss}}{\\left (t,t_{4} \\right )}} \\overline{\\sigma{\\left (t_{4} \\right )}}, \\quad \\operatorname{G_{sa}}{\\left (t,t_{1} \\right )} \\sigma{\\left (t_{4} \\right )} \\overline{\\operatorname{G_{sa}}{\\left (t,t_{1} \\right )}} \\overline{\\sigma{\\left (t_{4} \\right )}}\\right ]$$"
      ],
      "text/plain": [
       "⎡                  ___________ _____                    ___________ _____⎤\n",
       "⎣G_ss(t, t₁)⋅σ(t₁)⋅G_ss(t, t₄)⋅σ(t₄), G_sa(t, t₁)⋅σ(t₄)⋅G_sa(t, t₁)⋅σ(t₄)⎦"
      ]
     },
     "execution_count": 21,
     "metadata": {},
     "output_type": "execute_result"
    }
   ],
   "source": [
    "Ns1 = [psi1_bra*term*psi1_ket for term in N_s]\n",
    "Ns1 = eliminate_terms(Ns1)\n",
    "Ns1 = order_normally_terms(Ns1)\n",
    "Ns1 = eliminate_terms(Ns1)\n",
    "Ns1 = integrate_deltas_terms(Ns1)\n",
    "Ns1"
   ]
  },
  {
   "cell_type": "markdown",
   "metadata": {},
   "source": [
    "This second term contains an integration on $t_4$ that equals 1 if state $|\\psi_1\\rangle$ is normalized. We may then identify this term as the noise photons previously calculated."
   ]
  },
  {
   "cell_type": "code",
   "execution_count": 22,
   "metadata": {
    "collapsed": false
   },
   "outputs": [
    {
     "data": {
      "image/png": "[encoded data removed]",
      "text/latex": [
       "$$\\left [ \\operatorname{G_{ss}}{\\left (t,t_{1} \\right )} \\sigma{\\left (t_{1} \\right )} \\overline{\\operatorname{G_{ss}}{\\left (t,t_{4} \\right )}} \\overline{\\sigma{\\left (t_{4} \\right )}}, \\quad N_{n}\\right ]$$"
      ],
      "text/plain": [
       "⎡                  ___________ _____     ⎤\n",
       "⎣G_ss(t, t₁)⋅σ(t₁)⋅G_ss(t, t₄)⋅σ(t₄), N_n⎦"
      ]
     },
     "execution_count": 22,
     "metadata": {},
     "output_type": "execute_result"
    }
   ],
   "source": [
    "Ns1 = [psi1_bra*term*psi1_ket for term in N_s]\n",
    "Ns1 = eliminate_terms(Ns1)\n",
    "Ns1 = order_normally_terms(Ns1)\n",
    "Ns1 = eliminate_terms(Ns1)\n",
    "Ns1 = integrate_deltas_terms(Ns1)\n",
    "Ns1[1] = Ns1[1].subs(subs_t(sigma*sigma.conjugate(), t_[2], t_[3]), 1)\n",
    "Ns1[1] = Nn\n",
    "Ns1"
   ]
  },
  {
   "cell_type": "markdown",
   "metadata": {},
   "source": [
    "And we identify the first term as the correlated signal photon."
   ]
  },
  {
   "cell_type": "code",
   "execution_count": 23,
   "metadata": {
    "collapsed": false
   },
   "outputs": [
    {
     "data": {
      "image/png": "[encoded data removed]",
      "text/latex": [
       "$$\\left \\{ N_{mem} : \\operatorname{G_{ss}}{\\left (t,t_{1} \\right )} \\sigma{\\left (t_{1} \\right )} \\overline{\\operatorname{G_{ss}}{\\left (t,t_{4} \\right )}} \\overline{\\sigma{\\left (t_{4} \\right )}}, \\quad N_{n} : \\operatorname{G_{sa}}{\\left (t,t_{1} \\right )} \\overline{\\operatorname{G_{sa}}{\\left (t,t_{1} \\right )}}\\right \\}$$"
      ],
      "text/plain": [
       "⎧                         ___________ _____                   ___________⎫\n",
       "⎨N_mem: G_ss(t, t₁)⋅σ(t₁)⋅G_ss(t, t₄)⋅σ(t₄), N_n: G_sa(t, t₁)⋅G_sa(t, t₁)⎬\n",
       "⎩                                                                        ⎭"
      ]
     },
     "execution_count": 23,
     "metadata": {},
     "output_type": "execute_result"
    }
   ],
   "source": [
    "Nmem = symbols(\"N_mem\")\n",
    "sols.update({Nmem: Ns1[0]})\n",
    "sols"
   ]
  },
  {
   "cell_type": "markdown",
   "metadata": {},
   "source": [
    "# Correlation functions\n",
    "The $g^{(2)}$ for a vacuum input"
   ]
  },
  {
   "cell_type": "code",
   "execution_count": 24,
   "metadata": {
    "collapsed": false
   },
   "outputs": [
    {
     "data": {
      "image/png": "[encoded data removed]",
      "text/latex": [
       "$$\\left [ \\operatorname{G_{ss}}{\\left (t',t_{5} \\right )} s_{5}, \\quad \\operatorname{G_{sa}}{\\left (t',t_{5} \\right )} a_{5}^{\\dagger}, \\quad \\operatorname{G_{sb}}{\\left (t',z_{5} \\right )} b_{5}\\right ]$$"
      ],
      "text/plain": [
       "⎡                                †                 ⎤\n",
       "⎣G_ss(t', t₅)⋅s₅, G_sa(t', t₅)⋅a₅ , G_sb(t', z₅)⋅b₅⎦"
      ]
     },
     "execution_count": 24,
     "metadata": {},
     "output_type": "execute_result"
    }
   ],
   "source": [
    "tp = symbols(\"t'\")\n",
    "S__ = [subs_z(subs_t(S_[i], t_[0], t_[4]), z_[0], z_[4]).subs(t, tp) for i in range(Nf)]\n",
    "S__"
   ]
  },
  {
   "cell_type": "code",
   "execution_count": 25,
   "metadata": {
    "collapsed": false
   },
   "outputs": [
    {
     "data": {
      "image/png": "[encoded data removed]",
      "text/latex": [
       "$$\\left [ \\overline{\\operatorname{G_{ss}}{\\left (t',t_{6} \\right )}} s_{6}^{\\dagger}, \\quad \\overline{\\operatorname{G_{sa}}{\\left (t',t_{6} \\right )}} a_{6}, \\quad \\overline{\\operatorname{G_{sb}}{\\left (t',z_{6} \\right )}} b_{6}^{\\dagger}\\right ]$$"
      ],
      "text/plain": [
       "⎡____________   †  ____________     ____________   †⎤\n",
       "⎣G_ss(t', t₆)⋅s₆ , G_sa(t', t₆)⋅a₆, G_sb(t', z₆)⋅b₆ ⎦"
      ]
     },
     "execution_count": 25,
     "metadata": {},
     "output_type": "execute_result"
    }
   ],
   "source": [
    "Sd__ = [subs_z(subs_t(Sd_[i], t_[1], t_[5]), z_[1], z_[5]).subs(t, tp) for i in range(Nf)]\n",
    "Sd__"
   ]
  },
  {
   "cell_type": "code",
   "execution_count": 26,
   "metadata": {
    "collapsed": false
   },
   "outputs": [
    {
     "name": "stdout",
     "output_type": "stream",
     "text": [
      "81 terms in this expansion.\n"
     ]
    }
   ],
   "source": [
    "g2 = prod_of_sums(prod_of_sums(Sd__, prod_of_sums(Sd_, S_)), S__)\n",
    "print len(g2), \"terms in this expansion.\""
   ]
  },
  {
   "cell_type": "code",
   "execution_count": 27,
   "metadata": {
    "collapsed": false
   },
   "outputs": [
    {
     "data": {
      "image/png": "[encoded data removed]",
      "text/latex": [
       "$$\\left [ \\operatorname{G_{sa}}{\\left (t,t_{1} \\right )} \\operatorname{G_{sa}}{\\left (t',t_{2} \\right )} \\overline{\\operatorname{G_{sa}}{\\left (t,t_{1} \\right )}} \\overline{\\operatorname{G_{sa}}{\\left (t',t_{2} \\right )}}, \\quad \\operatorname{G_{sa}}{\\left (t,t_{1} \\right )} \\operatorname{G_{sa}}{\\left (t',t_{2} \\right )} \\overline{\\operatorname{G_{sa}}{\\left (t,t_{2} \\right )}} \\overline{\\operatorname{G_{sa}}{\\left (t',t_{1} \\right )}}\\right ]$$"
      ],
      "text/plain": [
       "⎡                         ___________ ____________                           _\n",
       "⎣G_sa(t, t₁)⋅G_sa(t', t₂)⋅G_sa(t, t₁)⋅G_sa(t', t₂), G_sa(t, t₁)⋅G_sa(t', t₂)⋅G\n",
       "\n",
       "__________ ____________⎤\n",
       "_sa(t, t₂)⋅G_sa(t', t₁)⎦"
      ]
     },
     "execution_count": 27,
     "metadata": {},
     "output_type": "execute_result"
    }
   ],
   "source": [
    "g20 = eliminate_terms(g2)\n",
    "g20 = order_normally_terms(g20)\n",
    "g20 = eliminate_terms(g20)\n",
    "g20 = integrate_deltas_terms(g20)\n",
    "g20 = [term.subs(t_[5], t_[1]) for term in g20]\n",
    "#g20 = Integral(sum(g20), t, tp, t_[0], t_[1])/Ns0**2\n",
    "g20"
   ]
  },
  {
   "cell_type": "markdown",
   "metadata": {},
   "source": [
    "The first term is $N_n^2$, while the second term is new we will call it $N_{n2}^2$"
   ]
  },
  {
   "cell_type": "code",
   "execution_count": 28,
   "metadata": {
    "collapsed": false
   },
   "outputs": [
    {
     "data": {
      "image/png": "[encoded data removed]",
      "text/latex": [
       "$$\\left [ N_{n}^{2}, \\quad \\operatorname{G_{sa}}{\\left (t,t_{1} \\right )} \\operatorname{G_{sa}}{\\left (t',t_{2} \\right )} \\overline{\\operatorname{G_{sa}}{\\left (t,t_{2} \\right )}} \\overline{\\operatorname{G_{sa}}{\\left (t',t_{1} \\right )}}\\right ]$$"
      ],
      "text/plain": [
       "⎡   2                           ___________ ____________⎤\n",
       "⎣N_n , G_sa(t, t₁)⋅G_sa(t', t₂)⋅G_sa(t, t₂)⋅G_sa(t', t₁)⎦"
      ]
     },
     "execution_count": 28,
     "metadata": {},
     "output_type": "execute_result"
    }
   ],
   "source": [
    "Nn2 = symbols(\"N_{n2}\")\n",
    "g20 = eliminate_terms(g2)\n",
    "g20 = order_normally_terms(g20)\n",
    "g20 = eliminate_terms(g20)\n",
    "g20 = integrate_deltas_terms(g20)\n",
    "g20 = [term.subs(t_[5], t_[1]) for term in g20]\n",
    "g20[0] = Nn**2\n",
    "g20"
   ]
  },
  {
   "cell_type": "code",
   "execution_count": 29,
   "metadata": {
    "collapsed": false
   },
   "outputs": [
    {
     "data": {
      "image/png": "[encoded data removed]",
      "text/latex": [
       "$$\\left \\{ N_{mem} : \\operatorname{G_{ss}}{\\left (t,t_{1} \\right )} \\sigma{\\left (t_{1} \\right )} \\overline{\\operatorname{G_{ss}}{\\left (t,t_{4} \\right )}} \\overline{\\sigma{\\left (t_{4} \\right )}}, \\quad N_{n} : \\operatorname{G_{sa}}{\\left (t,t_{1} \\right )} \\overline{\\operatorname{G_{sa}}{\\left (t,t_{1} \\right )}}, \\quad N_{n2}^{2} : \\operatorname{G_{sa}}{\\left (t,t_{1} \\right )} \\operatorname{G_{sa}}{\\left (t',t_{2} \\right )} \\overline{\\operatorname{G_{sa}}{\\left (t,t_{2} \\right )}} \\overline{\\operatorname{G_{sa}}{\\left (t',t_{1} \\right )}}\\right \\}$$"
      ],
      "text/plain": [
       "⎧                         ___________ _____                   ___________     \n",
       "⎨N_mem: G_ss(t, t₁)⋅σ(t₁)⋅G_ss(t, t₄)⋅σ(t₄), N_n: G_sa(t, t₁)⋅G_sa(t, t₁), N_{\n",
       "⎩                                                                             \n",
       "\n",
       "   2                           ___________ ____________⎫\n",
       "n2} : G_sa(t, t₁)⋅G_sa(t', t₂)⋅G_sa(t, t₂)⋅G_sa(t', t₁)⎬\n",
       "                                                       ⎭"
      ]
     },
     "execution_count": 29,
     "metadata": {},
     "output_type": "execute_result"
    }
   ],
   "source": [
    "sols.update({Nn2**2: g20[1]})\n",
    "sols"
   ]
  },
  {
   "cell_type": "markdown",
   "metadata": {},
   "source": [
    "The $g^{(2)}$ for a single-photon input"
   ]
  },
  {
   "cell_type": "code",
   "execution_count": 30,
   "metadata": {
    "collapsed": false
   },
   "outputs": [
    {
     "data": {
      "image/png": "[encoded data removed]",
      "text/latex": [
       "$$\\left [ \\operatorname{G_{sa}}{\\left (t,t_{1} \\right )} \\operatorname{G_{ss}}{\\left (t',t_{5} \\right )} \\sigma{\\left (t_{5} \\right )} \\overline{\\operatorname{G_{sa}}{\\left (t',t_{1} \\right )}} \\overline{\\operatorname{G_{ss}}{\\left (t,t_{4} \\right )}} \\overline{\\sigma{\\left (t_{4} \\right )}}, \\quad \\operatorname{G_{sa}}{\\left (t,t_{1} \\right )} \\operatorname{G_{ss}}{\\left (t',t_{5} \\right )} \\sigma{\\left (t_{5} \\right )} \\overline{\\operatorname{G_{sa}}{\\left (t,t_{1} \\right )}} \\overline{\\operatorname{G_{ss}}{\\left (t',t_{4} \\right )}} \\overline{\\sigma{\\left (t_{4} \\right )}}, \\quad \\operatorname{G_{sa}}{\\left (t',t_{6} \\right )} \\operatorname{G_{ss}}{\\left (t,t_{1} \\right )} \\sigma{\\left (t_{1} \\right )} \\overline{\\operatorname{G_{sa}}{\\left (t',t_{6} \\right )}} \\overline{\\operatorname{G_{ss}}{\\left (t,t_{4} \\right )}} \\overline{\\sigma{\\left (t_{4} \\right )}}, \\quad \\operatorname{G_{sa}}{\\left (t',t_{2} \\right )} \\operatorname{G_{ss}}{\\left (t,t_{1} \\right )} \\sigma{\\left (t_{1} \\right )} \\overline{\\operatorname{G_{sa}}{\\left (t,t_{2} \\right )}} \\overline{\\operatorname{G_{ss}}{\\left (t',t_{4} \\right )}} \\overline{\\sigma{\\left (t_{4} \\right )}}, \\quad \\operatorname{G_{sa}}{\\left (t,t_{1} \\right )} \\operatorname{G_{sa}}{\\left (t',t_{6} \\right )} \\sigma{\\left (t_{4} \\right )} \\overline{\\operatorname{G_{sa}}{\\left (t,t_{1} \\right )}} \\overline{\\operatorname{G_{sa}}{\\left (t',t_{6} \\right )}} \\overline{\\sigma{\\left (t_{4} \\right )}}, \\quad \\operatorname{G_{sa}}{\\left (t,t_{1} \\right )} \\operatorname{G_{sa}}{\\left (t',t_{2} \\right )} \\sigma{\\left (t_{4} \\right )} \\overline{\\operatorname{G_{sa}}{\\left (t,t_{2} \\right )}} \\overline{\\operatorname{G_{sa}}{\\left (t',t_{1} \\right )}} \\overline{\\sigma{\\left (t_{4} \\right )}}\\right ]$$"
      ],
      "text/plain": [
       "⎡                               ____________ ___________ _____                \n",
       "⎣G_sa(t, t₁)⋅G_ss(t', t₅)⋅σ(t₅)⋅G_sa(t', t₁)⋅G_ss(t, t₄)⋅σ(t₄), G_sa(t, t₁)⋅G_\n",
       "\n",
       "                 ___________ ____________ _____                               \n",
       "ss(t', t₅)⋅σ(t₅)⋅G_sa(t, t₁)⋅G_ss(t', t₄)⋅σ(t₄), G_sa(t', t₆)⋅G_ss(t, t₁)⋅σ(t₁\n",
       "\n",
       "  ____________ ___________ _____                                 ___________ _\n",
       ")⋅G_sa(t', t₆)⋅G_ss(t, t₄)⋅σ(t₄), G_sa(t', t₂)⋅G_ss(t, t₁)⋅σ(t₁)⋅G_sa(t, t₂)⋅G\n",
       "\n",
       "___________ _____                                 ___________ ____________ ___\n",
       "_ss(t', t₄)⋅σ(t₄), G_sa(t, t₁)⋅G_sa(t', t₆)⋅σ(t₄)⋅G_sa(t, t₁)⋅G_sa(t', t₆)⋅σ(t\n",
       "\n",
       "__                                 ___________ ____________ _____⎤\n",
       "₄), G_sa(t, t₁)⋅G_sa(t', t₂)⋅σ(t₄)⋅G_sa(t, t₂)⋅G_sa(t', t₁)⋅σ(t₄)⎦"
      ]
     },
     "execution_count": 30,
     "metadata": {},
     "output_type": "execute_result"
    }
   ],
   "source": [
    "g21 = [order_by_modes(psi1_bra*term*psi1_ket) for term in g2]\n",
    "g21 = eliminate_terms(g21)\n",
    "g21 = order_normally_terms(g21)\n",
    "g21 = eliminate_terms(g21)\n",
    "g21 = integrate_deltas_terms(g21)\n",
    "g21"
   ]
  },
  {
   "cell_type": "markdown",
   "metadata": {},
   "source": [
    "The last two terms have integrations over $t_4$ that equal one because of normalization. After that, we may identify the second and third terms with $N_n N_{mem}$, We may then identify the last term with $N_{n2}^2$ and the second to last with $N_n^2$. The first and fourth term new and also equal, we'll call them $N_{n, mem}^2$."
   ]
  },
  {
   "cell_type": "code",
   "execution_count": 31,
   "metadata": {
    "collapsed": false
   },
   "outputs": [
    {
     "data": {
      "image/png": "[encoded data removed]",
      "text/latex": [
       "$$\\left [ \\operatorname{G_{sa}}{\\left (t,t_{1} \\right )} \\operatorname{G_{ss}}{\\left (t',t_{5} \\right )} \\sigma{\\left (t_{5} \\right )} \\overline{\\operatorname{G_{sa}}{\\left (t',t_{1} \\right )}} \\overline{\\operatorname{G_{ss}}{\\left (t,t_{4} \\right )}} \\overline{\\sigma{\\left (t_{4} \\right )}}, \\quad N_{mem} N_{n}, \\quad N_{mem} N_{n}, \\quad N_{n,mem}^{2}, \\quad N_{n}^{2}, \\quad N_{n2}^{2}\\right ]$$"
      ],
      "text/plain": [
       "⎡                               ____________ ___________ _____                \n",
       "⎣G_sa(t, t₁)⋅G_ss(t', t₅)⋅σ(t₅)⋅G_sa(t', t₁)⋅G_ss(t, t₄)⋅σ(t₄), N_mem⋅N_n, N_m\n",
       "\n",
       "                 2     2        2⎤\n",
       "em⋅N_n, N_{n,mem} , N_n , N_{n2} ⎦"
      ]
     },
     "execution_count": 31,
     "metadata": {},
     "output_type": "execute_result"
    }
   ],
   "source": [
    "Nnmem = symbols(\"N_{n\\,mem}\")\n",
    "g21 = [order_by_modes(psi1_bra*term*psi1_ket) for term in g2]\n",
    "g21 = eliminate_terms(g21)\n",
    "g21 = order_normally_terms(g21)\n",
    "g21 = eliminate_terms(g21)\n",
    "g21 = integrate_deltas_terms(g21)\n",
    "g21[4] = g21[4].subs(t_[3], t_[2]).subs(sigma.conjugate()*sigma, 1)\n",
    "g21[5] = g21[5].subs(t_[3], t_[2]).subs(sigma.conjugate()*sigma, 1)\n",
    "\n",
    "g21[1] = Nn*Nmem\n",
    "g21[2] = Nn*Nmem\n",
    "g21[3] = Nnmem**2\n",
    "g21[4] = Nn**2\n",
    "g21[5] = Nn2**2\n",
    "\n",
    "g21"
   ]
  },
  {
   "cell_type": "code",
   "execution_count": 32,
   "metadata": {
    "collapsed": false
   },
   "outputs": [
    {
     "data": {
      "image/png": "[encoded data removed]",
      "text/latex": [
       "$$\\left \\{ N_{mem} : \\operatorname{G_{ss}}{\\left (t,t_{1} \\right )} \\sigma{\\left (t_{1} \\right )} \\overline{\\operatorname{G_{ss}}{\\left (t,t_{4} \\right )}} \\overline{\\sigma{\\left (t_{4} \\right )}}, \\quad N_{n} : \\operatorname{G_{sa}}{\\left (t,t_{1} \\right )} \\overline{\\operatorname{G_{sa}}{\\left (t,t_{1} \\right )}}, \\quad N_{n,mem}^{2} : \\operatorname{G_{sa}}{\\left (t,t_{1} \\right )} \\operatorname{G_{ss}}{\\left (t',t_{5} \\right )} \\sigma{\\left (t_{5} \\right )} \\overline{\\operatorname{G_{sa}}{\\left (t',t_{1} \\right )}} \\overline{\\operatorname{G_{ss}}{\\left (t,t_{4} \\right )}} \\overline{\\sigma{\\left (t_{4} \\right )}}, \\quad N_{n2}^{2} : \\operatorname{G_{sa}}{\\left (t,t_{1} \\right )} \\operatorname{G_{sa}}{\\left (t',t_{2} \\right )} \\overline{\\operatorname{G_{sa}}{\\left (t,t_{2} \\right )}} \\overline{\\operatorname{G_{sa}}{\\left (t',t_{1} \\right )}}\\right \\}$$"
      ],
      "text/plain": [
       "⎧                         ___________ _____                   ___________     \n",
       "⎨N_mem: G_ss(t, t₁)⋅σ(t₁)⋅G_ss(t, t₄)⋅σ(t₄), N_n: G_sa(t, t₁)⋅G_sa(t, t₁), N_{\n",
       "⎩                                                                             \n",
       "\n",
       "      2                                 ____________ ___________ _____        \n",
       "n,mem} : G_sa(t, t₁)⋅G_ss(t', t₅)⋅σ(t₅)⋅G_sa(t', t₁)⋅G_ss(t, t₄)⋅σ(t₄), N_{n2}\n",
       "                                                                              \n",
       "\n",
       "2                           ___________ ____________⎫\n",
       " : G_sa(t, t₁)⋅G_sa(t', t₂)⋅G_sa(t, t₂)⋅G_sa(t', t₁)⎬\n",
       "                                                    ⎭"
      ]
     },
     "execution_count": 32,
     "metadata": {},
     "output_type": "execute_result"
    }
   ],
   "source": [
    "sols.update({Nnmem**2: g21[0]})\n",
    "sols"
   ]
  },
  {
   "cell_type": "markdown",
   "metadata": {},
   "source": [
    "# Explicit formulas\n",
    "The noise photons"
   ]
  },
  {
   "cell_type": "code",
   "execution_count": 33,
   "metadata": {
    "collapsed": false
   },
   "outputs": [
    {
     "data": {
      "image/png": "[encoded data removed]",
      "text/latex": [
       "$$\\left[\\begin{matrix}N_{n} & = & \\iint \\operatorname{G_{sa}}{\\left (t,t_{1} \\right )} \\overline{\\operatorname{G_{sa}}{\\left (t,t_{1} \\right )}}\\, dt\\, dt_{1}\\end{matrix}\\right]$$"
      ],
      "text/plain": [
       "⎡        ⌠ ⌠                                 ⎤\n",
       "⎢        ⎮ ⎮             ___________         ⎥\n",
       "⎢N_n  =  ⎮ ⎮ G_sa(t, t₁)⋅G_sa(t, t₁) dt d(t₁)⎥\n",
       "⎣        ⌡ ⌡                                 ⎦"
      ]
     },
     "execution_count": 33,
     "metadata": {},
     "output_type": "execute_result"
    }
   ],
   "source": [
    "eqsign = symbols(\"=\")\n",
    "def show_eq(dic):\n",
    "    return Matrix([dic.keys()[0], eqsign, dic[dic.keys()[0]]]).transpose()\n",
    "\n",
    "formulas = {Nn: Integral(sols[Nn], t, t_[0])}\n",
    "show_eq(formulas)"
   ]
  },
  {
   "cell_type": "code",
   "execution_count": 34,
   "metadata": {
    "collapsed": false
   },
   "outputs": [
    {
     "data": {
      "image/png": "[encoded data removed]",
      "text/latex": [
       "$$\\left[\\begin{matrix}N_{mem} & = & \\iiint \\operatorname{G_{ss}}{\\left (t,t_{1} \\right )} \\sigma{\\left (t_{1} \\right )} \\overline{\\operatorname{G_{ss}}{\\left (t,t_{4} \\right )}} \\overline{\\sigma{\\left (t_{4} \\right )}}\\, dt\\, dt_{1}\\, dt_{4}\\end{matrix}\\right]$$"
      ],
      "text/plain": [
       "⎡          ⌠ ⌠ ⌠                                                   ⎤\n",
       "⎢          ⎮ ⎮ ⎮                   ___________ _____               ⎥\n",
       "⎢N_mem  =  ⎮ ⎮ ⎮ G_ss(t, t₁)⋅σ(t₁)⋅G_ss(t, t₄)⋅σ(t₄) dt d(t₁) d(t₄)⎥\n",
       "⎣          ⌡ ⌡ ⌡                                                   ⎦"
      ]
     },
     "execution_count": 34,
     "metadata": {},
     "output_type": "execute_result"
    }
   ],
   "source": [
    "formula = {Nmem: Integral(sols[Nmem], t, t_[0], t_[3])}\n",
    "formulas.update(formula)\n",
    "show_eq(formula)"
   ]
  },
  {
   "cell_type": "code",
   "execution_count": 35,
   "metadata": {
    "collapsed": false
   },
   "outputs": [
    {
     "data": {
      "image/png": "[encoded data removed]",
      "text/latex": [
       "$$\\left[\\begin{matrix}\\eta & = & N_{mem}\\end{matrix}\\right]$$"
      ],
      "text/plain": [
       "[η  =  N_mem]"
      ]
     },
     "execution_count": 35,
     "metadata": {},
     "output_type": "execute_result"
    }
   ],
   "source": [
    "eta = symbols(\"eta\")\n",
    "formula = {eta: Nmem}\n",
    "formulas.update(formula)\n",
    "show_eq(formula)"
   ]
  },
  {
   "cell_type": "code",
   "execution_count": 36,
   "metadata": {
    "collapsed": false
   },
   "outputs": [
    {
     "data": {
      "image/png": "[encoded data removed]",
      "text/latex": [
       "$$\\left[\\begin{matrix}SNR & = & \\frac{N_{mem}}{N_{n}}\\end{matrix}\\right]$$"
      ],
      "text/plain": [
       "⎡        N_mem⎤\n",
       "⎢SNR  =  ─────⎥\n",
       "⎣         N_n ⎦"
      ]
     },
     "execution_count": 36,
     "metadata": {},
     "output_type": "execute_result"
    }
   ],
   "source": [
    "SNR = symbols(\"SNR\")\n",
    "formula = {SNR: Nmem/Nn}\n",
    "formulas.update(formula)\n",
    "show_eq(formula)"
   ]
  },
  {
   "cell_type": "code",
   "execution_count": 37,
   "metadata": {
    "collapsed": false
   },
   "outputs": [
    {
     "data": {
      "image/png": "[encoded data removed]",
      "text/latex": [
       "$$\\left[\\begin{matrix}\\mu_{1} & = & \\frac{N_{n}}{N_{mem}}\\end{matrix}\\right]$$"
      ],
      "text/plain": [
       "⎡        N_n ⎤\n",
       "⎢μ₁  =  ─────⎥\n",
       "⎣       N_mem⎦"
      ]
     },
     "execution_count": 37,
     "metadata": {},
     "output_type": "execute_result"
    }
   ],
   "source": [
    "mu1 = symbols(\"mu1\")\n",
    "formula = {mu1: Nn/Nmem}\n",
    "formulas.update(formula)\n",
    "show_eq(formula)"
   ]
  },
  {
   "cell_type": "code",
   "execution_count": 38,
   "metadata": {
    "collapsed": false
   },
   "outputs": [
    {
     "data": {
      "image/png": "[encoded data removed]",
      "text/latex": [
       "$$\\left[\\begin{matrix}N_{n2}^{2} & = & \\iiiint \\operatorname{G_{sa}}{\\left (t,t_{1} \\right )} \\operatorname{G_{sa}}{\\left (t',t_{2} \\right )} \\overline{\\operatorname{G_{sa}}{\\left (t,t_{2} \\right )}} \\overline{\\operatorname{G_{sa}}{\\left (t',t_{1} \\right )}}\\, dt\\, dt'\\, dt_{1}\\, dt_{2}\\end{matrix}\\right]$$"
      ],
      "text/plain": [
       "⎡            ⌠ ⌠ ⌠ ⌠                                                          \n",
       "⎢      2     ⎮ ⎮ ⎮ ⎮                          ___________ ____________        \n",
       "⎢N_{n2}   =  ⎮ ⎮ ⎮ ⎮ G_sa(t, t₁)⋅G_sa(t', t₂)⋅G_sa(t, t₂)⋅G_sa(t', t₁) dt d(t'\n",
       "⎣            ⌡ ⌡ ⌡ ⌡                                                          \n",
       "\n",
       "             ⎤\n",
       "             ⎥\n",
       ") d(t₁) d(t₂)⎥\n",
       "             ⎦"
      ]
     },
     "execution_count": 38,
     "metadata": {},
     "output_type": "execute_result"
    }
   ],
   "source": [
    "formula = {Nn2**2: Integral(sols[Nn2**2], t, tp, t_[0], t_[1])}\n",
    "formulas.update(formula)\n",
    "show_eq(formula)"
   ]
  },
  {
   "cell_type": "code",
   "execution_count": 39,
   "metadata": {
    "collapsed": false
   },
   "outputs": [
    {
     "data": {
      "image/png": "[encoded data removed]",
      "text/latex": [
       "$$\\left[\\begin{matrix}g^{(2)}_{vac} & = & \\frac{1}{N_{n}^{2}} \\left(N_{n}^{2} + N_{n2}^{2}\\right)\\end{matrix}\\right]$$"
      ],
      "text/plain": [
       "⎡                      2         2⎤\n",
       "⎢                   N_n  + N_{n2} ⎥\n",
       "⎢g_{vac}__{(2)}  =  ──────────────⎥\n",
       "⎢                           2     ⎥\n",
       "⎣                        N_n      ⎦"
      ]
     },
     "execution_count": 39,
     "metadata": {},
     "output_type": "execute_result"
    }
   ],
   "source": [
    "sols_inv = {sols[i]: i for i in sols}\n",
    "g20_forms = [term.subs(sols_inv) for term in g20]\n",
    "g2vac = symbols(\"g^{(2)}_{vac}\")\n",
    "formula = {g2vac: sum(g20_forms)/Nn**2}\n",
    "formulas.update(formula)\n",
    "show_eq(formula)"
   ]
  },
  {
   "cell_type": "code",
   "execution_count": 40,
   "metadata": {
    "collapsed": false
   },
   "outputs": [
    {
     "data": {
      "image/png": "[encoded data removed]",
      "text/latex": [
       "$$\\left[\\begin{matrix}g^{(2)}_{sing} & = & \\frac{1}{\\left(N_{mem} + N_{n}\\right)^{2}} \\left(2 N_{mem} N_{n} + N_{n}^{2} + 2 N_{n,mem}^{2} + N_{n2}^{2}\\right)\\end{matrix}\\right]$$"
      ],
      "text/plain": [
       "⎡                                     2              2         2⎤\n",
       "⎢                    2⋅N_mem⋅N_n + N_n  + 2⋅N_{n,mem}  + N_{n2} ⎥\n",
       "⎢g_{sing}__{(2)}  =  ───────────────────────────────────────────⎥\n",
       "⎢                                                2              ⎥\n",
       "⎣                                   (N_mem + N_n)               ⎦"
      ]
     },
     "execution_count": 40,
     "metadata": {},
     "output_type": "execute_result"
    }
   ],
   "source": [
    "g21_forms = [term.subs(sols_inv) for term in g21]\n",
    "g2sing = symbols(\"g^{(2)}_{sing}\")\n",
    "formula = {g2sing: sum(g21_forms)/(Nn+Nmem)**2}\n",
    "formulas.update(formula)\n",
    "show_eq(formula)"
   ]
  },
  {
   "cell_type": "code",
   "execution_count": null,
   "metadata": {
    "collapsed": true
   },
   "outputs": [],
   "source": []
  },
  {
   "cell_type": "code",
   "execution_count": null,
   "metadata": {
    "collapsed": true
   },
   "outputs": [],
   "source": []
  }
 ],
 "metadata": {
  "kernelspec": {
   "display_name": "Python 2",
   "language": "python",
   "name": "python2"
  },
  "language_info": {
   "codemirror_mode": {
    "name": "ipython",
    "version": 2
   },
   "file_extension": ".py",
   "mimetype": "text/x-python",
   "name": "python",
   "nbconvert_exporter": "python",
   "pygments_lexer": "ipython2",
   "version": "2.7.13"
  }
 },
 "nbformat": 4,
 "nbformat_minor": 2
}
