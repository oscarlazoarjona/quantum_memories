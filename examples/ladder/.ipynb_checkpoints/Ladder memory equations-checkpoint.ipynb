{
 "cells": [
  {
   "cell_type": "markdown",
   "metadata": {},
   "source": [
    "# Ladder memory equations"
   ]
  },
  {
   "cell_type": "code",
   "execution_count": 1,
   "metadata": {
    "collapsed": false
   },
   "outputs": [],
   "source": [
    "from fast import *\n",
    "from fast.config import fast_path\n",
    "from matplotlib import pyplot\n",
    "from sympy import sin,cos,exp,sqrt,pi,zeros,I, Integral, oo\n",
    "from numpy import array\n",
    "%matplotlib inline\n",
    "init_printing()\n",
    "print_ascii=True; print_ascii=False"
   ]
  },
  {
   "cell_type": "code",
   "execution_count": 2,
   "metadata": {
    "collapsed": true
   },
   "outputs": [],
   "source": [
    "path=\"/home/oscar/oxford/inhomogeneous_broadening/complete_model/\" \n",
    "name='orca'"
   ]
  },
  {
   "cell_type": "markdown",
   "metadata": {},
   "source": [
    "We will be deriving the optical Bloch equations for a three level system in a ladder configuration as that in the figure."
   ]
  },
  {
   "cell_type": "code",
   "execution_count": 3,
   "metadata": {
    "collapsed": false
   },
   "outputs": [
    {
     "data": {
      "image/png": "[encoded data removed]",
      "text/plain": [
       "<matplotlib.figure.Figure at 0x7fadb7cc4150>"
      ]
     },
     "metadata": {},
     "output_type": "display_data"
    }
   ],
   "source": [
    "fig=pyplot.figure(); ax=fig.add_subplot(111,aspect=\"equal\")\n",
    "\n",
    "p1=[0.5,1]; p2=[1.5,3]; p3=[2.5,5]\n",
    "draw_state(ax,p1,text=r\"$|1\\rangle$\",l=1.0,alignment='right',label_displacement=0.05,fontsize=25,linewidth=4.0)\n",
    "draw_state(ax,p2,text=r\"$|2\\rangle$\",l=1.0,alignment='right',label_displacement=0.05,fontsize=25,linewidth=4.0)\n",
    "draw_state(ax,p3,text=r\"$|3\\rangle$\",l=1.0,alignment='right',label_displacement=0.05,fontsize=25,linewidth=4.0)\n",
    "\n",
    "excitation(ax,[p1[0]+0.25,p1[1]],[p2[0]+0.25,p2[1]], fc=\"r\", ec=\"r\",width=0.01, head_width=0.2, head_length=0.2)\n",
    "excitation(ax,[p2[0]+0.25,p2[1]],[p3[0]+0.25,p3[1]], fc=\"b\", ec=\"b\",width=0.01, head_width=0.2, head_length=0.2)\n",
    "\n",
    "decay(     ax,[p1[0]-0.25,p1[1]],[p2[0]-0.25,p2[1]], 0.05,10.0,color=\"r\",linewidth=1.0)\n",
    "decay(     ax,[p2[0]-0.25,p2[1]],[p3[0]-0.25,p3[1]], 0.05,10.0,color=\"b\",linewidth=1.0)\n",
    "\n",
    "pyplot.axis('off')\n",
    "pyplot.savefig(path+name+'_diagram.png',bbox_inches=\"tight\")"
   ]
  },
  {
   "cell_type": "markdown",
   "metadata": {},
   "source": [
    "We define the number of states and of radiation fields."
   ]
  },
  {
   "cell_type": "code",
   "execution_count": 4,
   "metadata": {
    "collapsed": true
   },
   "outputs": [],
   "source": [
    "Ne=3\n",
    "Nl=2"
   ]
  },
  {
   "cell_type": "markdown",
   "metadata": {},
   "source": [
    "We define a few important symbols."
   ]
  },
  {
   "cell_type": "code",
   "execution_count": 5,
   "metadata": {
    "collapsed": false
   },
   "outputs": [
    {
     "data": {
      "image/png": "[encoded data removed]",
      "text/latex": [
       "$$\\left [ c, \\quad \\hbar, \\quad e, \\quad \\mu_{0}, \\quad \\varepsilon_{0}\\right ]$$"
      ],
      "text/plain": [
       "[c, h̅, e, μ₀, varepsilon₀]"
      ]
     },
     "execution_count": 5,
     "metadata": {},
     "output_type": "execute_result"
    }
   ],
   "source": [
    "c,hbar,e,mu0, epsilon0=symbols(\"c hbar e mu0 varepsilon0\",positive=True)\n",
    "fprint([c,hbar,e,mu0, epsilon0],print_ascii=print_ascii)"
   ]
  },
  {
   "cell_type": "code",
   "execution_count": 6,
   "metadata": {
    "collapsed": false
   },
   "outputs": [
    {
     "data": {
      "image/png": "[encoded data removed]",
      "text/latex": [
       "$$\\left [ t, \\quad \\left[\\begin{matrix}R \\cos{\\left (\\Phi \\right )}\\\\R \\sin{\\left (\\Phi \\right )}\\\\Z\\end{matrix}\\right]\\right ]$$"
      ],
      "text/plain": [
       "⎡t, ⎡R⋅cos(Φ)⎤⎤\n",
       "⎢   ⎢        ⎥⎥\n",
       "⎢   ⎢R⋅sin(Φ)⎥⎥\n",
       "⎢   ⎢        ⎥⎥\n",
       "⎣   ⎣   Z    ⎦⎦"
      ]
     },
     "execution_count": 6,
     "metadata": {},
     "output_type": "execute_result"
    }
   ],
   "source": [
    "t,X,Y,Z,R,Phi=symbols(\"t X Y Z R Phi\",real=True)\n",
    "RR=Matrix([R*cos(Phi),R*sin(Phi),Z])\n",
    "#RR=Matrix([X,Y,Z])\n",
    "fprint([t,RR],print_ascii=print_ascii)"
   ]
  },
  {
   "cell_type": "markdown",
   "metadata": {},
   "source": [
    "We define the variables related to the laser field."
   ]
  },
  {
   "cell_type": "code",
   "execution_count": 7,
   "metadata": {
    "collapsed": false
   },
   "outputs": [
    {
     "data": {
      "image/png": "[encoded data removed]",
      "text/latex": [
       "$$\\left [ \\operatorname{E^{1}_{0}}{\\left (t,R,Z \\right )}, \\quad \\operatorname{E^{2}_{0}}{\\left (t,R,Z \\right )}\\right ]$$"
      ],
      "text/plain": [
       "[E¹₀(t, R, Z), E²₀(t, R, Z)]"
      ]
     },
     "execution_count": 7,
     "metadata": {},
     "output_type": "execute_result"
    }
   ],
   "source": [
    "E0,omega_laser=define_laser_variables(Nl, variables=[t,R,Z])\n",
    "fprint(E0,print_ascii=print_ascii)"
   ]
  },
  {
   "cell_type": "code",
   "execution_count": 8,
   "metadata": {
    "collapsed": false
   },
   "outputs": [
    {
     "data": {
      "image/png": "[encoded data removed]",
      "text/latex": [
       "$$\\left [ \\varpi_{1}, \\quad \\varpi_{2}\\right ]$$"
      ],
      "text/plain": [
       "[varpi₁, varpi₂]"
      ]
     },
     "execution_count": 8,
     "metadata": {},
     "output_type": "execute_result"
    }
   ],
   "source": [
    "fprint(omega_laser,print_ascii=print_ascii)"
   ]
  },
  {
   "cell_type": "markdown",
   "metadata": {},
   "source": [
    "We write two electric fields propagating trough the $\\hat{x}$ direction polarized in the $\\hat{z}$ direction. First the wave vectors:"
   ]
  },
  {
   "cell_type": "code",
   "execution_count": 9,
   "metadata": {
    "collapsed": false
   },
   "outputs": [
    {
     "data": {
      "image/png": "[encoded data removed]",
      "text/latex": [
       "$$\\left [ \\left[\\begin{matrix}0\\\\0\\\\1\\end{matrix}\\right], \\quad \\left[\\begin{matrix}0\\\\0\\\\-1\\end{matrix}\\right]\\right ]$$"
      ],
      "text/plain": [
       "⎡⎡0⎤, ⎡0 ⎤⎤\n",
       "⎢⎢ ⎥  ⎢  ⎥⎥\n",
       "⎢⎢0⎥  ⎢0 ⎥⎥\n",
       "⎢⎢ ⎥  ⎢  ⎥⎥\n",
       "⎣⎣1⎦  ⎣-1⎦⎦"
      ]
     },
     "execution_count": 9,
     "metadata": {},
     "output_type": "execute_result"
    }
   ],
   "source": [
    "phi1=0 ; theta1=0; alpha1=pi/2; beta1=pi/8\n",
    "phi2=0; theta2=pi; alpha2=pi/2; beta2=pi/8\n",
    "\n",
    "k1=Matrix([cos(phi1)*sin(theta1),sin(phi1)*sin(theta1),cos(theta1)])\n",
    "k2=Matrix([cos(phi2)*sin(theta2),sin(phi2)*sin(theta2),cos(theta2)])\n",
    "\n",
    "k=[k1,k2]\n",
    "\n",
    "fprint(k,print_ascii=print_ascii)"
   ]
  },
  {
   "cell_type": "markdown",
   "metadata": {},
   "source": [
    "The polarization vectors."
   ]
  },
  {
   "cell_type": "code",
   "execution_count": 10,
   "metadata": {
    "collapsed": false
   },
   "outputs": [
    {
     "data": {
      "image/png": "[encoded data removed]",
      "text/latex": [
       "$$\\left [ \\left [ \\left[\\begin{matrix}- \\frac{\\sqrt{2}}{2}\\\\- \\frac{\\sqrt{2} i}{2}\\\\0\\end{matrix}\\right], \\quad \\left[\\begin{matrix}\\frac{\\sqrt{2}}{2}\\\\- \\frac{\\sqrt{2} i}{2}\\\\0\\end{matrix}\\right]\\right ], \\quad \\left [ \\left[\\begin{matrix}- \\frac{\\sqrt{2}}{2}\\\\\\frac{\\sqrt{2} i}{2}\\\\0\\end{matrix}\\right], \\quad \\left[\\begin{matrix}\\frac{\\sqrt{2}}{2}\\\\\\frac{\\sqrt{2} i}{2}\\\\0\\end{matrix}\\right]\\right ]\\right ]$$"
      ],
      "text/plain": [
       "⎡⎡⎡ -√2  ⎤  ⎡  √2  ⎤⎤  ⎡⎡-√2 ⎤  ⎡ √2 ⎤⎤⎤\n",
       "⎢⎢⎢ ──── ⎥, ⎢  ──  ⎥⎥, ⎢⎢────⎥, ⎢ ── ⎥⎥⎥\n",
       "⎢⎢⎢  2   ⎥  ⎢  2   ⎥⎥  ⎢⎢ 2  ⎥  ⎢ 2  ⎥⎥⎥\n",
       "⎢⎢⎢      ⎥  ⎢      ⎥⎥  ⎢⎢    ⎥  ⎢    ⎥⎥⎥\n",
       "⎢⎢⎢-√2⋅ⅈ ⎥  ⎢-√2⋅ⅈ ⎥⎥  ⎢⎢√2⋅ⅈ⎥  ⎢√2⋅ⅈ⎥⎥⎥\n",
       "⎢⎢⎢──────⎥  ⎢──────⎥⎥  ⎢⎢────⎥  ⎢────⎥⎥⎥\n",
       "⎢⎢⎢  2   ⎥  ⎢  2   ⎥⎥  ⎢⎢ 2  ⎥  ⎢ 2  ⎥⎥⎥\n",
       "⎢⎢⎢      ⎥  ⎢      ⎥⎥  ⎢⎢    ⎥  ⎢    ⎥⎥⎥\n",
       "⎣⎣⎣  0   ⎦  ⎣  0   ⎦⎦  ⎣⎣ 0  ⎦  ⎣ 0  ⎦⎦⎦"
      ]
     },
     "execution_count": 10,
     "metadata": {},
     "output_type": "execute_result"
    }
   ],
   "source": [
    "ep1=polarization_vector(phi1,theta1,alpha1,beta1, 1)\n",
    "ep2=polarization_vector(phi2,theta2,alpha2,beta2, 1)\n",
    "\n",
    "em1=ep1.conjugate()\n",
    "em2=ep2.conjugate()\n",
    "\n",
    "ep=[ep1,ep2]\n",
    "em=[em1,em2]\n",
    "\n",
    "fprint([ep,em],print_ascii=print_ascii)"
   ]
  },
  {
   "cell_type": "markdown",
   "metadata": {},
   "source": [
    "The electric field (evaluated in $\\vec{R}=0$)."
   ]
  },
  {
   "cell_type": "code",
   "execution_count": 11,
   "metadata": {
    "collapsed": false
   },
   "outputs": [
    {
     "data": {
      "image/png": "[encoded data removed]",
      "text/latex": [
       "$$\\left [ \\left[\\begin{matrix}- \\frac{\\sqrt{2}}{4} \\operatorname{E^{1}_{0}}{\\left (t,R,Z \\right )} e^{- i \\varpi_{1} \\left(- \\frac{Z}{c} + t\\right)} - \\frac{\\sqrt{2}}{4} e^{i \\varpi_{1} \\left(- \\frac{Z}{c} + t\\right)} \\overline{\\operatorname{E^{1}_{0}}{\\left (t,R,Z \\right )}}\\\\- \\frac{\\sqrt{2} i}{4} \\operatorname{E^{1}_{0}}{\\left (t,R,Z \\right )} e^{- i \\varpi_{1} \\left(- \\frac{Z}{c} + t\\right)} + \\frac{\\sqrt{2} i}{4} e^{i \\varpi_{1} \\left(- \\frac{Z}{c} + t\\right)} \\overline{\\operatorname{E^{1}_{0}}{\\left (t,R,Z \\right )}}\\\\0\\end{matrix}\\right], \\quad \\left[\\begin{matrix}\\frac{\\sqrt{2}}{4} \\operatorname{E^{2}_{0}}{\\left (t,R,Z \\right )} e^{- i \\varpi_{2} \\left(\\frac{Z}{c} + t\\right)} + \\frac{\\sqrt{2}}{4} e^{i \\varpi_{2} \\left(\\frac{Z}{c} + t\\right)} \\overline{\\operatorname{E^{2}_{0}}{\\left (t,R,Z \\right )}}\\\\- \\frac{\\sqrt{2} i}{4} \\operatorname{E^{2}_{0}}{\\left (t,R,Z \\right )} e^{- i \\varpi_{2} \\left(\\frac{Z}{c} + t\\right)} + \\frac{\\sqrt{2} i}{4} e^{i \\varpi_{2} \\left(\\frac{Z}{c} + t\\right)} \\overline{\\operatorname{E^{2}_{0}}{\\left (t,R,Z \\right )}}\\\\0\\end{matrix}\\right]\\right ]$$"
      ],
      "text/plain": [
       "⎡⎡                               ⎛  Z    ⎞                ⎛  Z    ⎞           \n",
       "⎢⎢                     -ⅈ⋅varpi₁⋅⎜- ─ + t⎟       ⅈ⋅varpi₁⋅⎜- ─ + t⎟           \n",
       "⎢⎢                               ⎝  c    ⎠                ⎝  c    ⎠ __________\n",
       "⎢⎢    √2⋅E¹₀(t, R, Z)⋅ℯ                      √2⋅ℯ                  ⋅E¹₀(t, R, \n",
       "⎢⎢  - ──────────────────────────────────── - ─────────────────────────────────\n",
       "⎢⎢                     4                                      4               \n",
       "⎢⎢                                                                            \n",
       "⎢⎢                               ⎛  Z    ⎞                  ⎛  Z    ⎞         \n",
       "⎢⎢                     -ⅈ⋅varpi₁⋅⎜- ─ + t⎟         ⅈ⋅varpi₁⋅⎜- ─ + t⎟         \n",
       "⎢⎢                               ⎝  c    ⎠                  ⎝  c    ⎠ ________\n",
       "⎢⎢  √2⋅ⅈ⋅E¹₀(t, R, Z)⋅ℯ                      √2⋅ⅈ⋅ℯ                  ⋅E¹₀(t, R\n",
       "⎢⎢- ────────────────────────────────────── + ─────────────────────────────────\n",
       "⎢⎢                    4                                        4              \n",
       "⎢⎢                                                                            \n",
       "⎣⎣                                       0                                    \n",
       "\n",
       "    ⎤  ⎡                              ⎛Z    ⎞                ⎛Z    ⎞          \n",
       "    ⎥  ⎢                    -ⅈ⋅varpi₂⋅⎜─ + t⎟       ⅈ⋅varpi₂⋅⎜─ + t⎟          \n",
       "__  ⎥  ⎢                              ⎝c    ⎠                ⎝c    ⎠ _________\n",
       "Z)  ⎥  ⎢   √2⋅E²₀(t, R, Z)⋅ℯ                    √2⋅ℯ                ⋅E²₀(t, R,\n",
       "──  ⎥, ⎢   ────────────────────────────────── + ──────────────────────────────\n",
       "    ⎥  ⎢                   4                                    4             \n",
       "    ⎥  ⎢                                                                      \n",
       "    ⎥  ⎢                               ⎛Z    ⎞                  ⎛Z    ⎞       \n",
       "    ⎥  ⎢                     -ⅈ⋅varpi₂⋅⎜─ + t⎟         ⅈ⋅varpi₂⋅⎜─ + t⎟       \n",
       "____⎥  ⎢                               ⎝c    ⎠                  ⎝c    ⎠ ______\n",
       ", Z)⎥  ⎢  √2⋅ⅈ⋅E²₀(t, R, Z)⋅ℯ                    √2⋅ⅈ⋅ℯ                ⋅E²₀(t,\n",
       "────⎥  ⎢- ──────────────────────────────────── + ─────────────────────────────\n",
       "    ⎥  ⎢                   4                                      4           \n",
       "    ⎥  ⎢                                                                      \n",
       "    ⎦  ⎣                                     0                                \n",
       "\n",
       "      ⎤⎤\n",
       "      ⎥⎥\n",
       "___   ⎥⎥\n",
       " Z)   ⎥⎥\n",
       "───   ⎥⎥\n",
       "      ⎥⎥\n",
       "      ⎥⎥\n",
       "      ⎥⎥\n",
       "      ⎥⎥\n",
       "______⎥⎥\n",
       " R, Z)⎥⎥\n",
       "──────⎥⎥\n",
       "      ⎥⎥\n",
       "      ⎥⎥\n",
       "      ⎦⎦"
      ]
     },
     "execution_count": 11,
     "metadata": {},
     "output_type": "execute_result"
    }
   ],
   "source": [
    "zero_vect=Matrix([0,0,0])\n",
    "E_cartesian = [(+E0[l]            *ep[l]*exp(-I*omega_laser[l]*(t-k[l].dot(RR)/c)) \n",
    "                +E0[l].conjugate()*em[l]*exp(+I*omega_laser[l]*(t-k[l].dot(RR)/c)))/2 \n",
    "                    for l in range(Nl)]\n",
    "\n",
    "fprint(E_cartesian,print_ascii=print_ascii)"
   ]
  },
  {
   "cell_type": "code",
   "execution_count": 12,
   "metadata": {
    "collapsed": false
   },
   "outputs": [
    {
     "data": {
      "image/png": "[encoded data removed]",
      "text/plain": [
       "<matplotlib.figure.Figure at 0x7fade0232110>"
      ]
     },
     "metadata": {},
     "output_type": "display_data"
    }
   ],
   "source": [
    "l1=PlaneWave(phi1,theta1,alpha1,beta1,color=\"red\")\n",
    "l2=PlaneWave(phi2,theta2,alpha2,beta2,color=\"blue\")\n",
    "\n",
    "laseres=[l1,l2]\n",
    "Nl=len(laseres)\n",
    "\n",
    "fig = pyplot.figure(); ax = fig.gca(projection='3d')\n",
    "draw_lasers_3d(ax,laseres,path+name+'_lasers.png')"
   ]
  },
  {
   "cell_type": "markdown",
   "metadata": {},
   "source": [
    "We write the electric fields in the helicity basis (see notebook \"Vectors in the helicity basis and the electric field\")."
   ]
  },
  {
   "cell_type": "code",
   "execution_count": 13,
   "metadata": {
    "collapsed": false
   },
   "outputs": [
    {
     "data": {
      "image/png": "[encoded data removed]",
      "text/latex": [
       "$$\\left [ \\left[\\begin{matrix}- \\frac{1}{2} \\operatorname{E^{1}_{0}}{\\left (t,R,Z \\right )} e^{- i t \\varpi_{1}} e^{\\frac{i Z}{c} \\varpi_{1}}\\\\0\\\\\\frac{1}{2} e^{i t \\varpi_{1}} e^{- \\frac{i Z}{c} \\varpi_{1}} \\overline{\\operatorname{E^{1}_{0}}{\\left (t,R,Z \\right )}}\\end{matrix}\\right], \\quad \\left[\\begin{matrix}\\frac{1}{2} e^{i t \\varpi_{2}} e^{\\frac{i Z}{c} \\varpi_{2}} \\overline{\\operatorname{E^{2}_{0}}{\\left (t,R,Z \\right )}}\\\\0\\\\- \\frac{1}{2} \\operatorname{E^{2}_{0}}{\\left (t,R,Z \\right )} e^{- i t \\varpi_{2}} e^{- \\frac{i Z}{c} \\varpi_{2}}\\end{matrix}\\right]\\right ]$$"
      ],
      "text/plain": [
       "⎡⎡                            ⅈ⋅Z⋅varpi₁ ⎤  ⎡               ⅈ⋅Z⋅varpi₂        \n",
       "⎢⎢                            ────────── ⎥  ⎢               ──────────        \n",
       "⎢⎢               -ⅈ⋅t⋅varpi₁      c      ⎥  ⎢   ⅈ⋅t⋅varpi₂      c      _______\n",
       "⎢⎢-E¹₀(t, R, Z)⋅ℯ           ⋅ℯ           ⎥  ⎢  ℯ          ⋅ℯ          ⋅E²₀(t, \n",
       "⎢⎢───────────────────────────────────────⎥, ⎢  ───────────────────────────────\n",
       "⎢⎢                   2                   ⎥  ⎢                   2             \n",
       "⎢⎢                                       ⎥  ⎢                                 \n",
       "⎢⎢                   0                   ⎥  ⎢                    0            \n",
       "⎢⎢                                       ⎥  ⎢                                 \n",
       "⎢⎢             -ⅈ⋅Z⋅varpi₁               ⎥  ⎢                            -ⅈ⋅Z⋅\n",
       "⎢⎢             ────────────              ⎥  ⎢                            ─────\n",
       "⎢⎢ ⅈ⋅t⋅varpi₁       c       ____________ ⎥  ⎢               -ⅈ⋅t⋅varpi₂       \n",
       "⎢⎢ℯ          ⋅ℯ            ⋅E¹₀(t, R, Z) ⎥  ⎢-E²₀(t, R, Z)⋅ℯ           ⋅ℯ     \n",
       "⎢⎢────────────────────────────────────── ⎥  ⎢─────────────────────────────────\n",
       "⎣⎣                  2                    ⎦  ⎣                    2            \n",
       "\n",
       "        ⎤⎤\n",
       "        ⎥⎥\n",
       "_____   ⎥⎥\n",
       "R, Z)   ⎥⎥\n",
       "─────   ⎥⎥\n",
       "        ⎥⎥\n",
       "        ⎥⎥\n",
       "        ⎥⎥\n",
       "        ⎥⎥\n",
       "varpi₂  ⎥⎥\n",
       "─────── ⎥⎥\n",
       "c       ⎥⎥\n",
       "        ⎥⎥\n",
       "────────⎥⎥\n",
       "        ⎦⎦"
      ]
     },
     "execution_count": 13,
     "metadata": {},
     "output_type": "execute_result"
    }
   ],
   "source": [
    "E=[cartesian_to_helicity(E_cartesian[l]).expand() for l in range(Nl)]\n",
    "fprint(E,print_ascii=print_ascii)"
   ]
  },
  {
   "cell_type": "markdown",
   "metadata": {},
   "source": [
    "We define the position operator."
   ]
  },
  {
   "cell_type": "code",
   "execution_count": 14,
   "metadata": {
    "collapsed": false
   },
   "outputs": [
    {
     "data": {
      "image/png": "[encoded data removed]",
      "text/latex": [
       "$$\\left [ \\left[\\begin{matrix}0 & - r_{+1;21} & 0\\\\r_{-1;21} & 0 & - r_{+1;32}\\\\0 & r_{-1;32} & 0\\end{matrix}\\right], \\quad \\left[\\begin{matrix}0 & r_{0;21} & 0\\\\r_{0;21} & 0 & r_{0;32}\\\\0 & r_{0;32} & 0\\end{matrix}\\right], \\quad \\left[\\begin{matrix}0 & - r_{-1;21} & 0\\\\r_{+1;21} & 0 & - r_{-1;32}\\\\0 & r_{+1;32} & 0\\end{matrix}\\right]\\right ]$$"
      ],
      "text/plain": [
       "⎡⎡    0      -r_{+1;21}      0     ⎤, ⎡   0      r_{0;21}     0    ⎤, ⎡    0  \n",
       "⎢⎢                                 ⎥  ⎢                            ⎥  ⎢       \n",
       "⎢⎢r_{-1;21}      0       -r_{+1;32}⎥  ⎢r_{0;21}     0      r_{0;32}⎥  ⎢r_{+1;2\n",
       "⎢⎢                                 ⎥  ⎢                            ⎥  ⎢       \n",
       "⎣⎣    0      r_{-1;32}       0     ⎦  ⎣   0      r_{0;32}     0    ⎦  ⎣    0  \n",
       "\n",
       "    -r_{-1;21}      0     ⎤⎤\n",
       "                          ⎥⎥\n",
       "1}      0       -r_{-1;32}⎥⎥\n",
       "                          ⎥⎥\n",
       "    r_{+1;32}       0     ⎦⎦"
      ]
     },
     "execution_count": 14,
     "metadata": {},
     "output_type": "execute_result"
    }
   ],
   "source": [
    "r=define_r_components(Ne,helicity=True,explicitly_hermitian=True)\n",
    "#Ladder means that r_{p;31}=0\n",
    "r=[ri.subs({r[0][2,0]:0,r[1][2,0]:0,r[2][2,0]:0}) for ri in r]\n",
    "fprint(r,print_ascii=print_ascii)"
   ]
  },
  {
   "cell_type": "markdown",
   "metadata": {},
   "source": [
    "The frequencies of the energy levels, the resonant frequencies, and the decay frequencies."
   ]
  },
  {
   "cell_type": "code",
   "execution_count": 15,
   "metadata": {
    "collapsed": false
   },
   "outputs": [
    {
     "data": {
      "image/png": "[encoded data removed]",
      "text/latex": [
       "$$\\left [ \\omega_{1}, \\quad \\omega_{2}, \\quad \\omega_{3}\\right ]$$"
      ],
      "text/plain": [
       "[ω₁, ω₂, ω₃]"
      ]
     },
     "execution_count": 15,
     "metadata": {},
     "output_type": "execute_result"
    }
   ],
   "source": [
    "omega_level,omega,gamma=define_frequencies(Ne,explicitly_antisymmetric=True)\n",
    "#Ladder means gamma31=0\n",
    "gamma=gamma.subs({gamma[2,0]:0})\n",
    "\n",
    "fprint(omega_level,print_ascii=print_ascii)"
   ]
  },
  {
   "cell_type": "code",
   "execution_count": 16,
   "metadata": {
    "collapsed": false
   },
   "outputs": [
    {
     "data": {
      "image/png": "[encoded data removed]",
      "text/latex": [
       "$$\\left[\\begin{matrix}0 & - \\omega_{21} & - \\omega_{31}\\\\\\omega_{21} & 0 & - \\omega_{32}\\\\\\omega_{31} & \\omega_{32} & 0\\end{matrix}\\right]$$"
      ],
      "text/plain": [
       "⎡ 0   -ω₂₁  -ω₃₁⎤\n",
       "⎢               ⎥\n",
       "⎢ω₂₁   0    -ω₃₂⎥\n",
       "⎢               ⎥\n",
       "⎣ω₃₁  ω₃₂    0  ⎦"
      ]
     },
     "execution_count": 16,
     "metadata": {},
     "output_type": "execute_result"
    }
   ],
   "source": [
    "fprint(omega, print_ascii=print_ascii)"
   ]
  },
  {
   "cell_type": "code",
   "execution_count": 17,
   "metadata": {
    "collapsed": false
   },
   "outputs": [
    {
     "data": {
      "image/png": "[encoded data removed]",
      "text/latex": [
       "$$\\left[\\begin{matrix}0 & - \\gamma_{21} & 0\\\\\\gamma_{21} & 0 & - \\gamma_{32}\\\\0 & \\gamma_{32} & 0\\end{matrix}\\right]$$"
      ],
      "text/plain": [
       "⎡ 0   -γ₂₁   0  ⎤\n",
       "⎢               ⎥\n",
       "⎢γ₂₁   0    -γ₃₂⎥\n",
       "⎢               ⎥\n",
       "⎣ 0   γ₃₂    0  ⎦"
      ]
     },
     "execution_count": 17,
     "metadata": {},
     "output_type": "execute_result"
    }
   ],
   "source": [
    "fprint(gamma, print_ascii=print_ascii)"
   ]
  },
  {
   "cell_type": "markdown",
   "metadata": {},
   "source": [
    "The atomic hamiltonian is"
   ]
  },
  {
   "cell_type": "code",
   "execution_count": 18,
   "metadata": {
    "collapsed": false
   },
   "outputs": [
    {
     "data": {
      "image/png": "[encoded data removed]",
      "text/latex": [
       "$$\\left[\\begin{matrix}\\hbar \\omega_{1} & 0 & 0\\\\0 & \\hbar \\omega_{2} & 0\\\\0 & 0 & \\hbar \\omega_{3}\\end{matrix}\\right]$$"
      ],
      "text/plain": [
       "⎡h̅⋅ω₁    0      0  ⎤\n",
       "⎢                   ⎥\n",
       "⎢  0    h̅⋅ω₂    0  ⎥\n",
       "⎢                   ⎥\n",
       "⎣  0      0    h̅⋅ω₃⎦"
      ]
     },
     "execution_count": 18,
     "metadata": {},
     "output_type": "execute_result"
    }
   ],
   "source": [
    "H0=Matrix([[hbar*omega_level[i]*KroneckerDelta(i,j) for j in range(Ne)] for i in range(Ne)])\n",
    "fprint(H0, print_ascii=print_ascii)"
   ]
  },
  {
   "cell_type": "markdown",
   "metadata": {
    "collapsed": false
   },
   "source": [
    "The interaction hamiltonian is"
   ]
  },
  {
   "cell_type": "code",
   "execution_count": 19,
   "metadata": {
    "collapsed": false
   },
   "outputs": [
    {
     "data": {
      "image/png": "[encoded data removed]",
      "text/latex": [
       "$$\\left[\\begin{matrix}0 & e \\left(- \\frac{r_{+1;21}}{2} \\operatorname{E^{2}_{0}}{\\left (t,R,Z \\right )} e^{- i t \\varpi_{2}} e^{- \\frac{i Z}{c} \\varpi_{2}} + \\frac{r_{-1;21}}{2} e^{i t \\varpi_{2}} e^{\\frac{i Z}{c} \\varpi_{2}} \\overline{\\operatorname{E^{2}_{0}}{\\left (t,R,Z \\right )}}\\right) + e \\left(\\frac{r_{+1;21}}{2} e^{i t \\varpi_{1}} e^{- \\frac{i Z}{c} \\varpi_{1}} \\overline{\\operatorname{E^{1}_{0}}{\\left (t,R,Z \\right )}} - \\frac{r_{-1;21}}{2} \\operatorname{E^{1}_{0}}{\\left (t,R,Z \\right )} e^{- i t \\varpi_{1}} e^{\\frac{i Z}{c} \\varpi_{1}}\\right) & 0\\\\e \\left(\\frac{r_{+1;21}}{2} \\operatorname{E^{1}_{0}}{\\left (t,R,Z \\right )} e^{- i t \\varpi_{1}} e^{\\frac{i Z}{c} \\varpi_{1}} - \\frac{r_{-1;21}}{2} e^{i t \\varpi_{1}} e^{- \\frac{i Z}{c} \\varpi_{1}} \\overline{\\operatorname{E^{1}_{0}}{\\left (t,R,Z \\right )}}\\right) + e \\left(- \\frac{r_{+1;21}}{2} e^{i t \\varpi_{2}} e^{\\frac{i Z}{c} \\varpi_{2}} \\overline{\\operatorname{E^{2}_{0}}{\\left (t,R,Z \\right )}} + \\frac{r_{-1;21}}{2} \\operatorname{E^{2}_{0}}{\\left (t,R,Z \\right )} e^{- i t \\varpi_{2}} e^{- \\frac{i Z}{c} \\varpi_{2}}\\right) & 0 & e \\left(- \\frac{r_{+1;32}}{2} \\operatorname{E^{2}_{0}}{\\left (t,R,Z \\right )} e^{- i t \\varpi_{2}} e^{- \\frac{i Z}{c} \\varpi_{2}} + \\frac{r_{-1;32}}{2} e^{i t \\varpi_{2}} e^{\\frac{i Z}{c} \\varpi_{2}} \\overline{\\operatorname{E^{2}_{0}}{\\left (t,R,Z \\right )}}\\right) + e \\left(\\frac{r_{+1;32}}{2} e^{i t \\varpi_{1}} e^{- \\frac{i Z}{c} \\varpi_{1}} \\overline{\\operatorname{E^{1}_{0}}{\\left (t,R,Z \\right )}} - \\frac{r_{-1;32}}{2} \\operatorname{E^{1}_{0}}{\\left (t,R,Z \\right )} e^{- i t \\varpi_{1}} e^{\\frac{i Z}{c} \\varpi_{1}}\\right)\\\\0 & e \\left(\\frac{r_{+1;32}}{2} \\operatorname{E^{1}_{0}}{\\left (t,R,Z \\right )} e^{- i t \\varpi_{1}} e^{\\frac{i Z}{c} \\varpi_{1}} - \\frac{r_{-1;32}}{2} e^{i t \\varpi_{1}} e^{- \\frac{i Z}{c} \\varpi_{1}} \\overline{\\operatorname{E^{1}_{0}}{\\left (t,R,Z \\right )}}\\right) + e \\left(- \\frac{r_{+1;32}}{2} e^{i t \\varpi_{2}} e^{\\frac{i Z}{c} \\varpi_{2}} \\overline{\\operatorname{E^{2}_{0}}{\\left (t,R,Z \\right )}} + \\frac{r_{-1;32}}{2} \\operatorname{E^{2}_{0}}{\\left (t,R,Z \\right )} e^{- i t \\varpi_{2}} e^{- \\frac{i Z}{c} \\varpi_{2}}\\right) & 0\\end{matrix}\\right]$$"
      ],
      "text/plain": [
       "⎡                                                                             \n",
       "⎢                                                                             \n",
       "⎢                                                                             \n",
       "⎢                                                                             \n",
       "⎢                                                                             \n",
       "⎢                                                                             \n",
       "⎢                                                                             \n",
       "⎢  ⎛                                     ⅈ⋅Z⋅varpi₁                          -\n",
       "⎢  ⎜                                     ──────────                          ─\n",
       "⎢  ⎜                        -ⅈ⋅t⋅varpi₁      c                   ⅈ⋅t⋅varpi₁   \n",
       "⎢  ⎜r_{+1;21}⋅E¹₀(t, R, Z)⋅ℯ           ⋅ℯ             r_{-1;21}⋅ℯ          ⋅ℯ \n",
       "⎢e⋅⎜─────────────────────────────────────────────── - ────────────────────────\n",
       "⎢  ⎝                       2                                                 2\n",
       "⎢                                                                             \n",
       "⎢                                                                             \n",
       "⎢                                                                             \n",
       "⎢                                                                             \n",
       "⎢                                                                             \n",
       "⎢                                                                             \n",
       "⎣                                                                             \n",
       "\n",
       "                                                                              \n",
       "                                                                              \n",
       "                                                                              \n",
       "                                                                              \n",
       "                           0                                                  \n",
       "                                                                              \n",
       "                                                                              \n",
       "ⅈ⋅Z⋅varpi₁              ⎞     ⎛                         ⅈ⋅Z⋅varpi₂            \n",
       "───────────             ⎟     ⎜                         ──────────            \n",
       "    c       ____________⎟     ⎜             ⅈ⋅t⋅varpi₂      c      ___________\n",
       "           ⋅E¹₀(t, R, Z)⎟     ⎜  r_{+1;21}⋅ℯ          ⋅ℯ          ⋅E²₀(t, R, Z\n",
       "────────────────────────⎟ + e⋅⎜- ─────────────────────────────────────────────\n",
       "                        ⎠     ⎝                        2                      \n",
       "                                                                              \n",
       "                                                                              \n",
       "                                                                              \n",
       "                                                                              \n",
       "                                                                              \n",
       "                           0                                                  \n",
       "                                                                              \n",
       "\n",
       "                                                          ⎛                   \n",
       "                                                          ⎜                   \n",
       "                                                          ⎜                   \n",
       "                                                          ⎜  r_{+1;21}⋅E²₀(t, \n",
       "                                                        e⋅⎜- ─────────────────\n",
       "                                                          ⎝                   \n",
       "                                                                              \n",
       "                                         -ⅈ⋅Z⋅varpi₂ ⎞                        \n",
       "                                         ────────────⎟                        \n",
       "_                           -ⅈ⋅t⋅varpi₂       c      ⎟                        \n",
       ")   r_{-1;21}⋅E²₀(t, R, Z)⋅ℯ           ⋅ℯ            ⎟                        \n",
       "─ + ─────────────────────────────────────────────────⎟                        \n",
       "                            2                        ⎠                        \n",
       "                                                                              \n",
       "                                                          ⎛                   \n",
       "                                                          ⎜                   \n",
       "                                                          ⎜                   \n",
       "                                                          ⎜r_{+1;32}⋅E¹₀(t, R,\n",
       "                                                        e⋅⎜───────────────────\n",
       "                                                          ⎝                   \n",
       "\n",
       "                    -ⅈ⋅Z⋅varpi₂                           ⅈ⋅Z⋅varpi₂          \n",
       "                    ────────────                          ──────────          \n",
       "       -ⅈ⋅t⋅varpi₂       c                    ⅈ⋅t⋅varpi₂      c      _________\n",
       "R, Z)⋅ℯ           ⋅ℯ               r_{-1;21}⋅ℯ          ⋅ℯ          ⋅E²₀(t, R,\n",
       "──────────────────────────────── + ───────────────────────────────────────────\n",
       "       2                                                 2                    \n",
       "                                                                              \n",
       "                                                                              \n",
       "                                                                              \n",
       "                                                                              \n",
       "                                                                              \n",
       "                                                                              \n",
       "                                                                              \n",
       "                                                                              \n",
       "                  ⅈ⋅Z⋅varpi₁                          -ⅈ⋅Z⋅varpi₁             \n",
       "                  ──────────                          ────────────            \n",
       "     -ⅈ⋅t⋅varpi₁      c                   ⅈ⋅t⋅varpi₁       c       ___________\n",
       " Z)⋅ℯ           ⋅ℯ             r_{-1;32}⋅ℯ          ⋅ℯ            ⋅E¹₀(t, R, Z\n",
       "──────────────────────────── - ───────────────────────────────────────────────\n",
       "    2                                                 2                       \n",
       "\n",
       "   ⎞     ⎛                       -ⅈ⋅Z⋅varpi₁                                  \n",
       "   ⎟     ⎜                       ────────────                                 \n",
       "___⎟     ⎜           ⅈ⋅t⋅varpi₁       c       ____________                    \n",
       " Z)⎟     ⎜r_{+1;21}⋅ℯ          ⋅ℯ            ⋅E¹₀(t, R, Z)   r_{-1;21}⋅E¹₀(t, \n",
       "───⎟ + e⋅⎜──────────────────────────────────────────────── - ─────────────────\n",
       "   ⎠     ⎝                       2                                            \n",
       "                                                                              \n",
       "                                                                              \n",
       "                                                                              \n",
       "                                                                              \n",
       "                                                                              \n",
       "    0                                                                         \n",
       "                                                                              \n",
       "                                                                              \n",
       " ⎞     ⎛                         ⅈ⋅Z⋅varpi₂                                   \n",
       " ⎟     ⎜                         ──────────                                   \n",
       "_⎟     ⎜             ⅈ⋅t⋅varpi₂      c      ____________                      \n",
       ")⎟     ⎜  r_{+1;32}⋅ℯ          ⋅ℯ          ⋅E²₀(t, R, Z)   r_{-1;32}⋅E²₀(t, R,\n",
       "─⎟ + e⋅⎜- ────────────────────────────────────────────── + ───────────────────\n",
       " ⎠     ⎝                        2                                             \n",
       "\n",
       "                    ⅈ⋅Z⋅varpi₁⎞                                               \n",
       "                    ──────────⎟                                               \n",
       "       -ⅈ⋅t⋅varpi₁      c     ⎟                                               \n",
       "R, Z)⋅ℯ           ⋅ℯ          ⎟                                               \n",
       "──────────────────────────────⎟                                               \n",
       "      2                       ⎠                                               \n",
       "                                                                              \n",
       "                                   ⎛                                       -ⅈ⋅\n",
       "                                   ⎜                                       ───\n",
       "                                   ⎜                          -ⅈ⋅t⋅varpi₂     \n",
       "                                   ⎜  r_{+1;32}⋅E²₀(t, R, Z)⋅ℯ           ⋅ℯ   \n",
       "                                 e⋅⎜- ────────────────────────────────────────\n",
       "                                   ⎝                          2               \n",
       "                                                                              \n",
       "                  -ⅈ⋅Z⋅varpi₂ ⎞                                               \n",
       "                  ────────────⎟                                               \n",
       "     -ⅈ⋅t⋅varpi₂       c      ⎟                                               \n",
       " Z)⋅ℯ           ⋅ℯ            ⎟                                               \n",
       "──────────────────────────────⎟                                               \n",
       "     2                        ⎠                                               \n",
       "\n",
       "                                                                              \n",
       "                                                                              \n",
       "                                                                              \n",
       "                                                                              \n",
       "                                                           0                  \n",
       "                                                                              \n",
       "                                                                              \n",
       "Z⋅varpi₂                           ⅈ⋅Z⋅varpi₂             ⎞     ⎛             \n",
       "─────────                          ──────────             ⎟     ⎜             \n",
       "  c                    ⅈ⋅t⋅varpi₂      c      ____________⎟     ⎜           ⅈ⋅\n",
       "            r_{-1;32}⋅ℯ          ⋅ℯ          ⋅E²₀(t, R, Z)⎟     ⎜r_{+1;32}⋅ℯ  \n",
       "───────── + ──────────────────────────────────────────────⎟ + e⋅⎜─────────────\n",
       "                                  2                       ⎠     ⎝             \n",
       "                                                                              \n",
       "                                                                              \n",
       "                                                                              \n",
       "                                                                              \n",
       "                                                                              \n",
       "                                                           0                  \n",
       "                                                                              \n",
       "\n",
       "                                                                              \n",
       "                                                                              \n",
       "                                                                              \n",
       "                                                                              \n",
       "                                                                              \n",
       "                                                                              \n",
       "                                                                              \n",
       "          -ⅈ⋅Z⋅varpi₁                                                      ⅈ⋅Z\n",
       "          ────────────                                                     ───\n",
       "t⋅varpi₁       c       ____________                           -ⅈ⋅t⋅varpi₁     \n",
       "        ⋅ℯ            ⋅E¹₀(t, R, Z)   r_{-1;32}⋅E¹₀(t, R, Z)⋅ℯ           ⋅ℯ   \n",
       "─────────────────────────────────── - ────────────────────────────────────────\n",
       "          2                                                  2                \n",
       "                                                                              \n",
       "                                                                              \n",
       "                                                                              \n",
       "                                                                              \n",
       "                                                                              \n",
       "                                                                              \n",
       "                                                                              \n",
       "\n",
       "        ⎤\n",
       "        ⎥\n",
       "        ⎥\n",
       "        ⎥\n",
       "        ⎥\n",
       "        ⎥\n",
       "        ⎥\n",
       "⋅varpi₁⎞⎥\n",
       "───────⎟⎥\n",
       " c     ⎟⎥\n",
       "       ⎟⎥\n",
       "───────⎟⎥\n",
       "       ⎠⎥\n",
       "        ⎥\n",
       "        ⎥\n",
       "        ⎥\n",
       "        ⎥\n",
       "        ⎥\n",
       "        ⎥\n",
       "        ⎦"
      ]
     },
     "execution_count": 19,
     "metadata": {},
     "output_type": "execute_result"
    }
   ],
   "source": [
    "zero_matrix=zeros(Ne,Ne)\n",
    "H1=sum([ e*helicity_dot_product(E[l],r) for l in range(Nl)],zero_matrix)\n",
    "fprint(H1,print_ascii=print_ascii)"
   ]
  },
  {
   "cell_type": "markdown",
   "metadata": {},
   "source": [
    "and the complete hamiltonian is"
   ]
  },
  {
   "cell_type": "code",
   "execution_count": 20,
   "metadata": {
    "collapsed": false
   },
   "outputs": [],
   "source": [
    "H=H0+H1"
   ]
  },
  {
   "cell_type": "markdown",
   "metadata": {
    "collapsed": true
   },
   "source": [
    "# Rotating wave approximation\n",
    "Notice that the electric field can be separated by terms with positive and negative frequency:"
   ]
  },
  {
   "cell_type": "code",
   "execution_count": 21,
   "metadata": {
    "collapsed": false
   },
   "outputs": [
    {
     "data": {
      "image/png": "[encoded data removed]",
      "text/latex": [
       "$$\\left [ \\left [ \\left[\\begin{matrix}- \\frac{1}{2} \\operatorname{E^{1}_{0}}{\\left (t,R,Z \\right )} e^{- i \\varpi_{1} \\left(- \\frac{Z}{c} + t\\right)}\\\\0\\\\0\\end{matrix}\\right], \\quad \\left[\\begin{matrix}0\\\\0\\\\- \\frac{1}{2} \\operatorname{E^{2}_{0}}{\\left (t,R,Z \\right )} e^{- i \\varpi_{2} \\left(\\frac{Z}{c} + t\\right)}\\end{matrix}\\right]\\right ], \\quad \\left [ \\left[\\begin{matrix}0\\\\0\\\\\\frac{1}{2} e^{i \\varpi_{1} \\left(- \\frac{Z}{c} + t\\right)} \\overline{\\operatorname{E^{1}_{0}}{\\left (t,R,Z \\right )}}\\end{matrix}\\right], \\quad \\left[\\begin{matrix}\\frac{1}{2} e^{i \\varpi_{2} \\left(\\frac{Z}{c} + t\\right)} \\overline{\\operatorname{E^{2}_{0}}{\\left (t,R,Z \\right )}}\\\\0\\\\0\\end{matrix}\\right]\\right ]\\right ]$$"
      ],
      "text/plain": [
       "⎡⎡⎡                         ⎛  Z    ⎞ ⎤                                     ⎤ \n",
       "⎢⎢⎢               -ⅈ⋅varpi₁⋅⎜- ─ + t⎟ ⎥                                     ⎥ \n",
       "⎢⎢⎢                         ⎝  c    ⎠ ⎥                                     ⎥ \n",
       "⎢⎢⎢-E¹₀(t, R, Z)⋅ℯ                    ⎥                                     ⎥ \n",
       "⎢⎢⎢───────────────────────────────────⎥, ⎡                0                ⎤⎥,\n",
       "⎢⎢⎢                 2                 ⎥  ⎢                                 ⎥⎥ \n",
       "⎢⎢⎢                                   ⎥  ⎢                0                ⎥⎥ \n",
       "⎢⎢⎢                 0                 ⎥  ⎢                                 ⎥⎥ \n",
       "⎢⎢⎢                                   ⎥  ⎢                         ⎛Z    ⎞ ⎥⎥ \n",
       "⎢⎢⎣                 0                 ⎦  ⎢               -ⅈ⋅varpi₂⋅⎜─ + t⎟ ⎥⎥ \n",
       "⎢⎢                                       ⎢                         ⎝c    ⎠ ⎥⎥ \n",
       "⎢⎢                                       ⎢-E²₀(t, R, Z)⋅ℯ                  ⎥⎥ \n",
       "⎢⎢                                       ⎢─────────────────────────────────⎥⎥ \n",
       "⎣⎣                                       ⎣                2                ⎦⎦ \n",
       "\n",
       " ⎡                                    ⎡          ⎛Z    ⎞             ⎤⎤⎤\n",
       " ⎢                                    ⎢ ⅈ⋅varpi₂⋅⎜─ + t⎟             ⎥⎥⎥\n",
       " ⎢                                    ⎢          ⎝c    ⎠ ____________⎥⎥⎥\n",
       " ⎢                                    ⎢ℯ                ⋅E²₀(t, R, Z)⎥⎥⎥\n",
       " ⎢⎡               0                ⎤, ⎢──────────────────────────────⎥⎥⎥\n",
       " ⎢⎢                                ⎥  ⎢              2               ⎥⎥⎥\n",
       " ⎢⎢               0                ⎥  ⎢                              ⎥⎥⎥\n",
       " ⎢⎢                                ⎥  ⎢              0               ⎥⎥⎥\n",
       " ⎢⎢          ⎛  Z    ⎞             ⎥  ⎢                              ⎥⎥⎥\n",
       " ⎢⎢ ⅈ⋅varpi₁⋅⎜- ─ + t⎟             ⎥  ⎣              0               ⎦⎥⎥\n",
       " ⎢⎢          ⎝  c    ⎠ ____________⎥                                  ⎥⎥\n",
       " ⎢⎢ℯ                  ⋅E¹₀(t, R, Z)⎥                                  ⎥⎥\n",
       " ⎢⎢────────────────────────────────⎥                                  ⎥⎥\n",
       " ⎣⎣               2                ⎦                                  ⎦⎦"
      ]
     },
     "execution_count": 21,
     "metadata": {},
     "output_type": "execute_result"
    }
   ],
   "source": [
    "E_cartesian_p=[E0[l]/2            *ep[l]*exp(-I*omega_laser[l]*(t-k[l].dot(RR)/c)) for l in range(Nl)]\n",
    "E_cartesian_m=[E0[l].conjugate()/2*em[l]*exp(I*omega_laser[l]*(t-k[l].dot(RR)/c)) for l in range(Nl)]\n",
    "\n",
    "E_p=[cartesian_to_helicity(E_cartesian_p[l]) for l in range(Nl)]\n",
    "E_m=[cartesian_to_helicity(E_cartesian_m[l]) for l in range(Nl)]\n",
    "\n",
    "fprint([E_p,E_m], print_ascii=print_ascii)"
   ]
  },
  {
   "cell_type": "code",
   "execution_count": 22,
   "metadata": {
    "collapsed": false
   },
   "outputs": [
    {
     "data": {
      "image/png": "[encoded data removed]",
      "text/latex": [
       "$$\\left[\\begin{matrix}0\\\\0\\\\0\\end{matrix}\\right]$$"
      ],
      "text/plain": [
       "⎡0⎤\n",
       "⎢ ⎥\n",
       "⎢0⎥\n",
       "⎢ ⎥\n",
       "⎣0⎦"
      ]
     },
     "execution_count": 22,
     "metadata": {},
     "output_type": "execute_result"
    }
   ],
   "source": [
    "fprint( simplify(sum([E[l] for l in range(Nl)],zero_vect)-(sum([E_p[l]+E_m[l] for l in range(Nl)],zero_vect) )), print_ascii=print_ascii)"
   ]
  },
  {
   "cell_type": "markdown",
   "metadata": {},
   "source": [
    "The position operator can also be separated in this way. We go to the interaction picture (with $\\hat{H}_0$ as the undisturbed hamiltonian)"
   ]
  },
  {
   "cell_type": "code",
   "execution_count": 23,
   "metadata": {
    "collapsed": false
   },
   "outputs": [
    {
     "data": {
      "image/png": "[encoded data removed]",
      "text/latex": [
       "$$\\left[\\begin{matrix}0 & - r_{+1;21} e^{- i \\omega_{21} t} & 0\\\\r_{-1;21} e^{i \\omega_{21} t} & 0 & - r_{+1;32} e^{- i \\omega_{32} t}\\\\0 & r_{-1;32} e^{i \\omega_{32} t} & 0\\end{matrix}\\right]$$"
      ],
      "text/plain": [
       "⎡                                -ⅈ⋅ω₂₁⋅t                      ⎤\n",
       "⎢        0           -r_{+1;21}⋅ℯ                   0          ⎥\n",
       "⎢                                                              ⎥\n",
       "⎢           ⅈ⋅ω₂₁⋅t                                    -ⅈ⋅ω₃₂⋅t⎥\n",
       "⎢r_{-1;21}⋅ℯ                  0            -r_{+1;32}⋅ℯ        ⎥\n",
       "⎢                                                              ⎥\n",
       "⎢                                ⅈ⋅ω₃₂⋅t                       ⎥\n",
       "⎣        0            r_{-1;32}⋅ℯ                   0          ⎦"
      ]
     },
     "execution_count": 23,
     "metadata": {},
     "output_type": "execute_result"
    }
   ],
   "source": [
    "r_I=[ Matrix([[exp(I*omega[i,j]*t)*r[p][i,j] for j in range(Ne)] for i in range(Ne)]) for p in range(3)]\n",
    "fprint(r_I[0], print_ascii=print_ascii)"
   ]
  },
  {
   "cell_type": "code",
   "execution_count": 24,
   "metadata": {
    "collapsed": false
   },
   "outputs": [
    {
     "data": {
      "image/png": "[encoded data removed]",
      "text/latex": [
       "$$\\left[\\begin{matrix}0 & r_{0;21} e^{- i \\omega_{21} t} & 0\\\\r_{0;21} e^{i \\omega_{21} t} & 0 & r_{0;32} e^{- i \\omega_{32} t}\\\\0 & r_{0;32} e^{i \\omega_{32} t} & 0\\end{matrix}\\right]$$"
      ],
      "text/plain": [
       "⎡                             -ⅈ⋅ω₂₁⋅t                    ⎤\n",
       "⎢        0          r_{0;21}⋅ℯ                  0         ⎥\n",
       "⎢                                                         ⎥\n",
       "⎢          ⅈ⋅ω₂₁⋅t                                -ⅈ⋅ω₃₂⋅t⎥\n",
       "⎢r_{0;21}⋅ℯ                 0           r_{0;32}⋅ℯ        ⎥\n",
       "⎢                                                         ⎥\n",
       "⎢                             ⅈ⋅ω₃₂⋅t                     ⎥\n",
       "⎣        0          r_{0;32}⋅ℯ                  0         ⎦"
      ]
     },
     "execution_count": 24,
     "metadata": {},
     "output_type": "execute_result"
    }
   ],
   "source": [
    "fprint(r_I[1], print_ascii=print_ascii)"
   ]
  },
  {
   "cell_type": "code",
   "execution_count": 25,
   "metadata": {
    "collapsed": false
   },
   "outputs": [
    {
     "data": {
      "image/png": "[encoded data removed]",
      "text/latex": [
       "$$\\left[\\begin{matrix}0 & - r_{-1;21} e^{- i \\omega_{21} t} & 0\\\\r_{+1;21} e^{i \\omega_{21} t} & 0 & - r_{-1;32} e^{- i \\omega_{32} t}\\\\0 & r_{+1;32} e^{i \\omega_{32} t} & 0\\end{matrix}\\right]$$"
      ],
      "text/plain": [
       "⎡                                -ⅈ⋅ω₂₁⋅t                      ⎤\n",
       "⎢        0           -r_{-1;21}⋅ℯ                   0          ⎥\n",
       "⎢                                                              ⎥\n",
       "⎢           ⅈ⋅ω₂₁⋅t                                    -ⅈ⋅ω₃₂⋅t⎥\n",
       "⎢r_{+1;21}⋅ℯ                  0            -r_{-1;32}⋅ℯ        ⎥\n",
       "⎢                                                              ⎥\n",
       "⎢                                ⅈ⋅ω₃₂⋅t                       ⎥\n",
       "⎣        0            r_{+1;32}⋅ℯ                   0          ⎦"
      ]
     },
     "execution_count": 25,
     "metadata": {},
     "output_type": "execute_result"
    }
   ],
   "source": [
    "fprint(r_I[2], print_ascii=print_ascii)"
   ]
  },
  {
   "cell_type": "markdown",
   "metadata": {},
   "source": [
    "Which can be decomposed in positive and negative frequencies as"
   ]
  },
  {
   "cell_type": "code",
   "execution_count": 26,
   "metadata": {
    "collapsed": false
   },
   "outputs": [
    {
     "data": {
      "image/png": "[encoded data removed]",
      "text/latex": [
       "$$\\left[\\begin{matrix}0 & - r_{+1;21} e^{- i \\omega_{21} t} & 0\\\\0 & 0 & - r_{+1;32} e^{- i \\omega_{32} t}\\\\0 & 0 & 0\\end{matrix}\\right]$$"
      ],
      "text/plain": [
       "⎡               -ⅈ⋅ω₂₁⋅t                      ⎤\n",
       "⎢0  -r_{+1;21}⋅ℯ                   0          ⎥\n",
       "⎢                                             ⎥\n",
       "⎢                                     -ⅈ⋅ω₃₂⋅t⎥\n",
       "⎢0           0            -r_{+1;32}⋅ℯ        ⎥\n",
       "⎢                                             ⎥\n",
       "⎣0           0                     0          ⎦"
      ]
     },
     "execution_count": 26,
     "metadata": {},
     "output_type": "execute_result"
    }
   ],
   "source": [
    "r_I_p=[ Matrix([[ delta_greater(j,i)*exp(-I*omega[j,i]*t)*r[p][i,j] for j in range(Ne)]for i in range(Ne)]) for p in range(3)]\n",
    "fprint(r_I_p[0], print_ascii=print_ascii)"
   ]
  },
  {
   "cell_type": "code",
   "execution_count": 27,
   "metadata": {
    "collapsed": false
   },
   "outputs": [
    {
     "data": {
      "image/png": "[encoded data removed]",
      "text/latex": [
       "$$\\left[\\begin{matrix}0 & r_{0;21} e^{- i \\omega_{21} t} & 0\\\\0 & 0 & r_{0;32} e^{- i \\omega_{32} t}\\\\0 & 0 & 0\\end{matrix}\\right]$$"
      ],
      "text/plain": [
       "⎡             -ⅈ⋅ω₂₁⋅t                    ⎤\n",
       "⎢0  r_{0;21}⋅ℯ                  0         ⎥\n",
       "⎢                                         ⎥\n",
       "⎢                                 -ⅈ⋅ω₃₂⋅t⎥\n",
       "⎢0          0           r_{0;32}⋅ℯ        ⎥\n",
       "⎢                                         ⎥\n",
       "⎣0          0                   0         ⎦"
      ]
     },
     "execution_count": 27,
     "metadata": {},
     "output_type": "execute_result"
    }
   ],
   "source": [
    "fprint(r_I_p[1], print_ascii=print_ascii)"
   ]
  },
  {
   "cell_type": "code",
   "execution_count": 28,
   "metadata": {
    "collapsed": false
   },
   "outputs": [
    {
     "data": {
      "image/png": "[encoded data removed]",
      "text/latex": [
       "$$\\left[\\begin{matrix}0 & - r_{-1;21} e^{- i \\omega_{21} t} & 0\\\\0 & 0 & - r_{-1;32} e^{- i \\omega_{32} t}\\\\0 & 0 & 0\\end{matrix}\\right]$$"
      ],
      "text/plain": [
       "⎡               -ⅈ⋅ω₂₁⋅t                      ⎤\n",
       "⎢0  -r_{-1;21}⋅ℯ                   0          ⎥\n",
       "⎢                                             ⎥\n",
       "⎢                                     -ⅈ⋅ω₃₂⋅t⎥\n",
       "⎢0           0            -r_{-1;32}⋅ℯ        ⎥\n",
       "⎢                                             ⎥\n",
       "⎣0           0                     0          ⎦"
      ]
     },
     "execution_count": 28,
     "metadata": {},
     "output_type": "execute_result"
    }
   ],
   "source": [
    "fprint(r_I_p[2], print_ascii=print_ascii)"
   ]
  },
  {
   "cell_type": "code",
   "execution_count": 29,
   "metadata": {
    "collapsed": false
   },
   "outputs": [
    {
     "data": {
      "image/png": "[encoded data removed]",
      "text/latex": [
       "$$\\left[\\begin{matrix}0 & 0 & 0\\\\r_{-1;21} e^{i \\omega_{21} t} & 0 & 0\\\\0 & r_{-1;32} e^{i \\omega_{32} t} & 0\\end{matrix}\\right]$$"
      ],
      "text/plain": [
       "⎡        0                   0           0⎤\n",
       "⎢                                         ⎥\n",
       "⎢           ⅈ⋅ω₂₁⋅t                       ⎥\n",
       "⎢r_{-1;21}⋅ℯ                 0           0⎥\n",
       "⎢                                         ⎥\n",
       "⎢                               ⅈ⋅ω₃₂⋅t   ⎥\n",
       "⎣        0           r_{-1;32}⋅ℯ         0⎦"
      ]
     },
     "execution_count": 29,
     "metadata": {},
     "output_type": "execute_result"
    }
   ],
   "source": [
    "r_I_m=[ Matrix([[ delta_lesser( j,i)*exp( I*omega[i,j]*t)*r[p][i,j] for j in range(Ne)]for i in range(Ne)]) for p in range(3)]\n",
    "fprint(r_I_m[0],print_ascii=print_ascii)"
   ]
  },
  {
   "cell_type": "code",
   "execution_count": 30,
   "metadata": {
    "collapsed": false
   },
   "outputs": [
    {
     "data": {
      "image/png": "[encoded data removed]",
      "text/latex": [
       "$$\\left[\\begin{matrix}0 & 0 & 0\\\\r_{0;21} e^{i \\omega_{21} t} & 0 & 0\\\\0 & r_{0;32} e^{i \\omega_{32} t} & 0\\end{matrix}\\right]$$"
      ],
      "text/plain": [
       "⎡        0                  0          0⎤\n",
       "⎢                                       ⎥\n",
       "⎢          ⅈ⋅ω₂₁⋅t                      ⎥\n",
       "⎢r_{0;21}⋅ℯ                 0          0⎥\n",
       "⎢                                       ⎥\n",
       "⎢                             ⅈ⋅ω₃₂⋅t   ⎥\n",
       "⎣        0          r_{0;32}⋅ℯ         0⎦"
      ]
     },
     "execution_count": 30,
     "metadata": {},
     "output_type": "execute_result"
    }
   ],
   "source": [
    "fprint(r_I_m[1], print_ascii=print_ascii)"
   ]
  },
  {
   "cell_type": "code",
   "execution_count": 31,
   "metadata": {
    "collapsed": false
   },
   "outputs": [
    {
     "data": {
      "image/png": "[encoded data removed]",
      "text/latex": [
       "$$\\left[\\begin{matrix}0 & 0 & 0\\\\r_{+1;21} e^{i \\omega_{21} t} & 0 & 0\\\\0 & r_{+1;32} e^{i \\omega_{32} t} & 0\\end{matrix}\\right]$$"
      ],
      "text/plain": [
       "⎡        0                   0           0⎤\n",
       "⎢                                         ⎥\n",
       "⎢           ⅈ⋅ω₂₁⋅t                       ⎥\n",
       "⎢r_{+1;21}⋅ℯ                 0           0⎥\n",
       "⎢                                         ⎥\n",
       "⎢                               ⅈ⋅ω₃₂⋅t   ⎥\n",
       "⎣        0           r_{+1;32}⋅ℯ         0⎦"
      ]
     },
     "execution_count": 31,
     "metadata": {},
     "output_type": "execute_result"
    }
   ],
   "source": [
    "fprint(r_I_m[2], print_ascii=print_ascii)"
   ]
  },
  {
   "cell_type": "markdown",
   "metadata": {},
   "source": [
    "that summed equal $\\vec{\\hat{r}}_I$"
   ]
  },
  {
   "cell_type": "code",
   "execution_count": 32,
   "metadata": {
    "collapsed": false
   },
   "outputs": [
    {
     "data": {
      "image/png": "[encoded data removed]",
      "text/latex": [
       "$$\\left [ \\left[\\begin{matrix}0 & 0 & 0\\\\0 & 0 & 0\\\\0 & 0 & 0\\end{matrix}\\right], \\quad \\left[\\begin{matrix}0 & 0 & 0\\\\0 & 0 & 0\\\\0 & 0 & 0\\end{matrix}\\right], \\quad \\left[\\begin{matrix}0 & 0 & 0\\\\0 & 0 & 0\\\\0 & 0 & 0\\end{matrix}\\right]\\right ]$$"
      ],
      "text/plain": [
       "⎡⎡0  0  0⎤, ⎡0  0  0⎤, ⎡0  0  0⎤⎤\n",
       "⎢⎢       ⎥  ⎢       ⎥  ⎢       ⎥⎥\n",
       "⎢⎢0  0  0⎥  ⎢0  0  0⎥  ⎢0  0  0⎥⎥\n",
       "⎢⎢       ⎥  ⎢       ⎥  ⎢       ⎥⎥\n",
       "⎣⎣0  0  0⎦  ⎣0  0  0⎦  ⎣0  0  0⎦⎦"
      ]
     },
     "execution_count": 32,
     "metadata": {},
     "output_type": "execute_result"
    }
   ],
   "source": [
    "fprint( [r_I[p]-(r_I_p[p]+r_I_m[p]) for p in range(3)] , print_ascii=print_ascii)"
   ]
  },
  {
   "cell_type": "markdown",
   "metadata": {},
   "source": [
    "Thus the interaction hamiltonian in the interaciton picture is\n",
    "\\begin{equation}\n",
    "    \\hat{H}_{1I}=e\\vec{E}\\cdot \\vec{\\hat{r}}_I= e(\\vec{E}^{(+)}\\cdot \\vec{\\hat{r}}^{(+)}_I + \\vec{E}^{(+)}\\cdot \\vec{\\hat{r}}^{(-)}_I + \\vec{E}^{(-)}\\cdot \\vec{\\hat{r}}^{(+)}_I + \\vec{E}^{(-)}\\cdot \\vec{\\hat{r}}^{(-)}_I)\n",
    "\\end{equation}"
   ]
  },
  {
   "cell_type": "code",
   "execution_count": 33,
   "metadata": {
    "collapsed": false
   },
   "outputs": [
    {
     "data": {
      "image/png": "[encoded data removed]",
      "text/latex": [
       "$$\\left[\\begin{matrix}0 & e \\left(- \\frac{r_{+1;21}}{2} \\operatorname{E^{2}_{0}}{\\left (t,R,Z \\right )} e^{- i \\omega_{21} t} e^{- i t \\varpi_{2}} e^{- \\frac{i Z}{c} \\varpi_{2}} + \\frac{r_{-1;21}}{2} e^{- i \\omega_{21} t} e^{i t \\varpi_{2}} e^{\\frac{i Z}{c} \\varpi_{2}} \\overline{\\operatorname{E^{2}_{0}}{\\left (t,R,Z \\right )}}\\right) + e \\left(\\frac{r_{+1;21}}{2} e^{- i \\omega_{21} t} e^{i t \\varpi_{1}} e^{- \\frac{i Z}{c} \\varpi_{1}} \\overline{\\operatorname{E^{1}_{0}}{\\left (t,R,Z \\right )}} - \\frac{r_{-1;21}}{2} \\operatorname{E^{1}_{0}}{\\left (t,R,Z \\right )} e^{- i \\omega_{21} t} e^{- i t \\varpi_{1}} e^{\\frac{i Z}{c} \\varpi_{1}}\\right) & 0\\\\e \\left(\\frac{r_{+1;21}}{2} \\operatorname{E^{1}_{0}}{\\left (t,R,Z \\right )} e^{i \\omega_{21} t} e^{- i t \\varpi_{1}} e^{\\frac{i Z}{c} \\varpi_{1}} - \\frac{r_{-1;21}}{2} e^{i \\omega_{21} t} e^{i t \\varpi_{1}} e^{- \\frac{i Z}{c} \\varpi_{1}} \\overline{\\operatorname{E^{1}_{0}}{\\left (t,R,Z \\right )}}\\right) + e \\left(- \\frac{r_{+1;21}}{2} e^{i \\omega_{21} t} e^{i t \\varpi_{2}} e^{\\frac{i Z}{c} \\varpi_{2}} \\overline{\\operatorname{E^{2}_{0}}{\\left (t,R,Z \\right )}} + \\frac{r_{-1;21}}{2} \\operatorname{E^{2}_{0}}{\\left (t,R,Z \\right )} e^{i \\omega_{21} t} e^{- i t \\varpi_{2}} e^{- \\frac{i Z}{c} \\varpi_{2}}\\right) & 0 & e \\left(- \\frac{r_{+1;32}}{2} \\operatorname{E^{2}_{0}}{\\left (t,R,Z \\right )} e^{- i \\omega_{32} t} e^{- i t \\varpi_{2}} e^{- \\frac{i Z}{c} \\varpi_{2}} + \\frac{r_{-1;32}}{2} e^{- i \\omega_{32} t} e^{i t \\varpi_{2}} e^{\\frac{i Z}{c} \\varpi_{2}} \\overline{\\operatorname{E^{2}_{0}}{\\left (t,R,Z \\right )}}\\right) + e \\left(\\frac{r_{+1;32}}{2} e^{- i \\omega_{32} t} e^{i t \\varpi_{1}} e^{- \\frac{i Z}{c} \\varpi_{1}} \\overline{\\operatorname{E^{1}_{0}}{\\left (t,R,Z \\right )}} - \\frac{r_{-1;32}}{2} \\operatorname{E^{1}_{0}}{\\left (t,R,Z \\right )} e^{- i \\omega_{32} t} e^{- i t \\varpi_{1}} e^{\\frac{i Z}{c} \\varpi_{1}}\\right)\\\\0 & e \\left(\\frac{r_{+1;32}}{2} \\operatorname{E^{1}_{0}}{\\left (t,R,Z \\right )} e^{i \\omega_{32} t} e^{- i t \\varpi_{1}} e^{\\frac{i Z}{c} \\varpi_{1}} - \\frac{r_{-1;32}}{2} e^{i \\omega_{32} t} e^{i t \\varpi_{1}} e^{- \\frac{i Z}{c} \\varpi_{1}} \\overline{\\operatorname{E^{1}_{0}}{\\left (t,R,Z \\right )}}\\right) + e \\left(- \\frac{r_{+1;32}}{2} e^{i \\omega_{32} t} e^{i t \\varpi_{2}} e^{\\frac{i Z}{c} \\varpi_{2}} \\overline{\\operatorname{E^{2}_{0}}{\\left (t,R,Z \\right )}} + \\frac{r_{-1;32}}{2} \\operatorname{E^{2}_{0}}{\\left (t,R,Z \\right )} e^{i \\omega_{32} t} e^{- i t \\varpi_{2}} e^{- \\frac{i Z}{c} \\varpi_{2}}\\right) & 0\\end{matrix}\\right]$$"
      ],
      "text/plain": [
       "⎡                                                                             \n",
       "⎢                                                                             \n",
       "⎢                                                                             \n",
       "⎢                                                                             \n",
       "⎢                                                                             \n",
       "⎢                                                                             \n",
       "⎢                                                                             \n",
       "⎢  ⎛                                              ⅈ⋅Z⋅varpi₁                  \n",
       "⎢  ⎜                                              ──────────                  \n",
       "⎢  ⎜                        ⅈ⋅ω₂₁⋅t  -ⅈ⋅t⋅varpi₁      c                   ⅈ⋅ω₂\n",
       "⎢  ⎜r_{+1;21}⋅E¹₀(t, R, Z)⋅ℯ       ⋅ℯ           ⋅ℯ             r_{-1;21}⋅ℯ    \n",
       "⎢e⋅⎜──────────────────────────────────────────────────────── - ───────────────\n",
       "⎢  ⎝                           2                                              \n",
       "⎢                                                                             \n",
       "⎢                                                                             \n",
       "⎢                                                                             \n",
       "⎢                                                                             \n",
       "⎢                                                                             \n",
       "⎢                                                                             \n",
       "⎣                                                                             \n",
       "\n",
       "                                                                              \n",
       "                                                                              \n",
       "                                                                              \n",
       "                                                                              \n",
       "                                             0                                \n",
       "                                                                              \n",
       "                                                                              \n",
       "                 -ⅈ⋅Z⋅varpi₁              ⎞     ⎛                             \n",
       "                 ────────────             ⎟     ⎜                             \n",
       "₁⋅t  ⅈ⋅t⋅varpi₁       c       ____________⎟     ⎜             ⅈ⋅ω₂₁⋅t  ⅈ⋅t⋅var\n",
       "   ⋅ℯ          ⋅ℯ            ⋅E¹₀(t, R, Z)⎟     ⎜  r_{+1;21}⋅ℯ       ⋅ℯ       \n",
       "──────────────────────────────────────────⎟ + e⋅⎜- ───────────────────────────\n",
       "             2                            ⎠     ⎝                             \n",
       "                                                                              \n",
       "                                                                              \n",
       "                                                                              \n",
       "                                                                              \n",
       "                                                                              \n",
       "                                             0                                \n",
       "                                                                              \n",
       "\n",
       "                                                                              \n",
       "                                                                              \n",
       "                                                                              \n",
       "                                                                              \n",
       "                                                                              \n",
       "                                                                              \n",
       "                                                                              \n",
       "     ⅈ⋅Z⋅varpi₂                                                              -\n",
       "     ──────────                                                              ─\n",
       "pi₂      c      ____________                           ⅈ⋅ω₂₁⋅t  -ⅈ⋅t⋅varpi₂   \n",
       "   ⋅ℯ          ⋅E²₀(t, R, Z)   r_{-1;21}⋅E²₀(t, R, Z)⋅ℯ       ⋅ℯ           ⋅ℯ \n",
       "──────────────────────────── + ───────────────────────────────────────────────\n",
       "2                                                          2                  \n",
       "                                                                              \n",
       "                                                                              \n",
       "                                                                              \n",
       "                                                                              \n",
       "                                                                              \n",
       "                                                                              \n",
       "                                                                              \n",
       "\n",
       "                ⎛                                                 -ⅈ⋅Z⋅varpi₂ \n",
       "                ⎜                                                 ────────────\n",
       "                ⎜                          -ⅈ⋅ω₂₁⋅t  -ⅈ⋅t⋅varpi₂       c      \n",
       "                ⎜  r_{+1;21}⋅E²₀(t, R, Z)⋅ℯ        ⋅ℯ           ⋅ℯ            \n",
       "              e⋅⎜- ───────────────────────────────────────────────────────────\n",
       "                ⎝                               2                             \n",
       "                                                                              \n",
       "ⅈ⋅Z⋅varpi₂ ⎞                                                                  \n",
       "───────────⎟                                                                  \n",
       "    c      ⎟                                                                  \n",
       "           ⎟                                                                  \n",
       "───────────⎟                                                                  \n",
       "           ⎠                                                                  \n",
       "                                                                              \n",
       "                  ⎛                                              ⅈ⋅Z⋅varpi₁   \n",
       "                  ⎜                                              ──────────   \n",
       "                  ⎜                        ⅈ⋅ω₃₂⋅t  -ⅈ⋅t⋅varpi₁      c        \n",
       "                  ⎜r_{+1;32}⋅E¹₀(t, R, Z)⋅ℯ       ⋅ℯ           ⋅ℯ             \n",
       "                e⋅⎜──────────────────────────────────────────────────────── - \n",
       "                  ⎝                           2                               \n",
       "\n",
       "                                    ⅈ⋅Z⋅varpi₂             ⎞     ⎛            \n",
       "                                    ──────────             ⎟     ⎜            \n",
       "              -ⅈ⋅ω₂₁⋅t  ⅈ⋅t⋅varpi₂      c      ____________⎟     ⎜           -\n",
       "   r_{-1;21}⋅ℯ        ⋅ℯ          ⋅ℯ          ⋅E²₀(t, R, Z)⎟     ⎜r_{+1;21}⋅ℯ \n",
       " + ────────────────────────────────────────────────────────⎟ + e⋅⎜────────────\n",
       "                              2                            ⎠     ⎝            \n",
       "                                                                              \n",
       "                                                                              \n",
       "                                                                              \n",
       "                                                                              \n",
       "                                                                              \n",
       "                                                            0                 \n",
       "                                                                              \n",
       "                                                                              \n",
       "                                -ⅈ⋅Z⋅varpi₁              ⎞     ⎛              \n",
       "                                ────────────             ⎟     ⎜              \n",
       "           ⅈ⋅ω₃₂⋅t  ⅈ⋅t⋅varpi₁       c       ____________⎟     ⎜             ⅈ\n",
       "r_{-1;32}⋅ℯ       ⋅ℯ          ⋅ℯ            ⋅E¹₀(t, R, Z)⎟     ⎜  r_{+1;32}⋅ℯ \n",
       "─────────────────────────────────────────────────────────⎟ + e⋅⎜- ────────────\n",
       "                            2                            ⎠     ⎝              \n",
       "\n",
       "                     -ⅈ⋅Z⋅varpi₁                                              \n",
       "                     ────────────                                             \n",
       "ⅈ⋅ω₂₁⋅t  ⅈ⋅t⋅varpi₁       c       ____________                           -ⅈ⋅ω₂\n",
       "       ⋅ℯ          ⋅ℯ            ⋅E¹₀(t, R, Z)   r_{-1;21}⋅E¹₀(t, R, Z)⋅ℯ     \n",
       "────────────────────────────────────────────── - ─────────────────────────────\n",
       "                2                                                            2\n",
       "                                                                              \n",
       "                                                                              \n",
       "                                                                              \n",
       "                                                                              \n",
       "                                                                              \n",
       "                                                                              \n",
       "                                                                              \n",
       "                                                                              \n",
       "                    ⅈ⋅Z⋅varpi₂                                                \n",
       "                    ──────────                                                \n",
       "⋅ω₃₂⋅t  ⅈ⋅t⋅varpi₂      c      ____________                           ⅈ⋅ω₃₂⋅t \n",
       "      ⋅ℯ          ⋅ℯ          ⋅E²₀(t, R, Z)   r_{-1;32}⋅E²₀(t, R, Z)⋅ℯ       ⋅\n",
       "─────────────────────────────────────────── + ────────────────────────────────\n",
       "               2                                                          2   \n",
       "\n",
       "                  ⅈ⋅Z⋅varpi₁⎞                                                 \n",
       "                  ──────────⎟                                                 \n",
       "₁⋅t  -ⅈ⋅t⋅varpi₁      c     ⎟                                                 \n",
       "   ⋅ℯ           ⋅ℯ          ⎟                                                 \n",
       "────────────────────────────⎟                                                 \n",
       "                            ⎠                                                 \n",
       "                                                                              \n",
       "                                 ⎛                                            \n",
       "                                 ⎜                                            \n",
       "                                 ⎜                          -ⅈ⋅ω₃₂⋅t  -ⅈ⋅t⋅var\n",
       "                                 ⎜  r_{+1;32}⋅E²₀(t, R, Z)⋅ℯ        ⋅ℯ        \n",
       "                               e⋅⎜- ──────────────────────────────────────────\n",
       "                                 ⎝                               2            \n",
       "                                                                              \n",
       "              -ⅈ⋅Z⋅varpi₂ ⎞                                                   \n",
       "              ────────────⎟                                                   \n",
       " -ⅈ⋅t⋅varpi₂       c      ⎟                                                   \n",
       "ℯ           ⋅ℯ            ⎟                                                   \n",
       "──────────────────────────⎟                                                   \n",
       "                          ⎠                                                   \n",
       "\n",
       "                                                                              \n",
       "                                                                              \n",
       "                                                                              \n",
       "                                                                              \n",
       "                                                                             0\n",
       "                                                                              \n",
       "                                                                              \n",
       "     -ⅈ⋅Z⋅varpi₂                                     ⅈ⋅Z⋅varpi₂             ⎞ \n",
       "     ────────────                                    ──────────             ⎟ \n",
       "pi₂       c                    -ⅈ⋅ω₃₂⋅t  ⅈ⋅t⋅varpi₂      c      ____________⎟ \n",
       "   ⋅ℯ               r_{-1;32}⋅ℯ        ⋅ℯ          ⋅ℯ          ⋅E²₀(t, R, Z)⎟ \n",
       "───────────────── + ────────────────────────────────────────────────────────⎟ \n",
       "                                               2                            ⎠ \n",
       "                                                                              \n",
       "                                                                              \n",
       "                                                                              \n",
       "                                                                              \n",
       "                                                                              \n",
       "                                                                             0\n",
       "                                                                              \n",
       "\n",
       "                                                                              \n",
       "                                                                              \n",
       "                                                                              \n",
       "                                                                              \n",
       "                                                                              \n",
       "                                                                              \n",
       "                                                                              \n",
       "    ⎛                                 -ⅈ⋅Z⋅varpi₁                             \n",
       "    ⎜                                 ────────────                            \n",
       "    ⎜           -ⅈ⋅ω₃₂⋅t  ⅈ⋅t⋅varpi₁       c       ____________               \n",
       "    ⎜r_{+1;32}⋅ℯ        ⋅ℯ          ⋅ℯ            ⋅E¹₀(t, R, Z)   r_{-1;32}⋅E¹\n",
       "+ e⋅⎜────────────────────────────────────────────────────────── - ────────────\n",
       "    ⎝                            2                                            \n",
       "                                                                              \n",
       "                                                                              \n",
       "                                                                              \n",
       "                                                                              \n",
       "                                                                              \n",
       "                                                                              \n",
       "                                                                              \n",
       "\n",
       "                                              ⎤\n",
       "                                              ⎥\n",
       "                                              ⎥\n",
       "                                              ⎥\n",
       "                                              ⎥\n",
       "                                              ⎥\n",
       "                                              ⎥\n",
       "                                   ⅈ⋅Z⋅varpi₁⎞⎥\n",
       "                                   ──────────⎟⎥\n",
       "            -ⅈ⋅ω₃₂⋅t  -ⅈ⋅t⋅varpi₁      c     ⎟⎥\n",
       "₀(t, R, Z)⋅ℯ        ⋅ℯ           ⋅ℯ          ⎟⎥\n",
       "─────────────────────────────────────────────⎟⎥\n",
       "                2                            ⎠⎥\n",
       "                                              ⎥\n",
       "                                              ⎥\n",
       "                                              ⎥\n",
       "                                              ⎥\n",
       "                                              ⎥\n",
       "                                              ⎥\n",
       "                                              ⎦"
      ]
     },
     "execution_count": 33,
     "metadata": {},
     "output_type": "execute_result"
    }
   ],
   "source": [
    "H1I=sum([ e*helicity_dot_product(E[l],r_I) for l in range(Nl)],zero_matrix)\n",
    "fprint(H1I,print_ascii=print_ascii)"
   ]
  },
  {
   "cell_type": "markdown",
   "metadata": {},
   "source": [
    "Since both $\\omega^l$ and $\\omega_{ij}$ are in the order of THz, the terms that have frequencies with the same sign are summed, and thus also of the order of THz. The frequencies in the terms with oposite signs however, are detunings of the order of MHz. Since we are only interested in the coarse-grained evolution of the density matrix, we may omit the fast terms and approximate\n",
    "\n",
    "\\begin{equation}\n",
    "    \\hat{H}_{1I} \\simeq \\hat{H}_{1I,RWA}= e( \\vec{E}^{(+)}\\cdot \\vec{\\hat{r}}^{(-)}_I + \\vec{E}^{(-)}\\cdot \\vec{\\hat{r}}^{(+)}_I )\n",
    "\\end{equation}\n",
    "\n",
    "That is known as the rotating wave approximation (RWA)."
   ]
  },
  {
   "cell_type": "code",
   "execution_count": 34,
   "metadata": {
    "collapsed": false
   },
   "outputs": [
    {
     "data": {
      "image/png": "[encoded data removed]",
      "text/latex": [
       "$$\\left[\\begin{matrix}0 & \\frac{e r_{+1;21}}{2} e^{- i \\omega_{21} t} e^{i \\varpi_{1} \\left(- \\frac{Z}{c} + t\\right)} \\overline{\\operatorname{E^{1}_{0}}{\\left (t,R,Z \\right )}} + \\frac{e r_{-1;21}}{2} e^{- i \\omega_{21} t} e^{i \\varpi_{2} \\left(\\frac{Z}{c} + t\\right)} \\overline{\\operatorname{E^{2}_{0}}{\\left (t,R,Z \\right )}} & 0\\\\\\frac{e r_{+1;21}}{2} \\operatorname{E^{1}_{0}}{\\left (t,R,Z \\right )} e^{i \\omega_{21} t} e^{- i \\varpi_{1} \\left(- \\frac{Z}{c} + t\\right)} + \\frac{e r_{-1;21}}{2} \\operatorname{E^{2}_{0}}{\\left (t,R,Z \\right )} e^{i \\omega_{21} t} e^{- i \\varpi_{2} \\left(\\frac{Z}{c} + t\\right)} & 0 & \\frac{e r_{+1;32}}{2} e^{- i \\omega_{32} t} e^{i \\varpi_{1} \\left(- \\frac{Z}{c} + t\\right)} \\overline{\\operatorname{E^{1}_{0}}{\\left (t,R,Z \\right )}} + \\frac{e r_{-1;32}}{2} e^{- i \\omega_{32} t} e^{i \\varpi_{2} \\left(\\frac{Z}{c} + t\\right)} \\overline{\\operatorname{E^{2}_{0}}{\\left (t,R,Z \\right )}}\\\\0 & \\frac{e r_{+1;32}}{2} \\operatorname{E^{1}_{0}}{\\left (t,R,Z \\right )} e^{i \\omega_{32} t} e^{- i \\varpi_{1} \\left(- \\frac{Z}{c} + t\\right)} + \\frac{e r_{-1;32}}{2} \\operatorname{E^{2}_{0}}{\\left (t,R,Z \\right )} e^{i \\omega_{32} t} e^{- i \\varpi_{2} \\left(\\frac{Z}{c} + t\\right)} & 0\\end{matrix}\\right]$$"
      ],
      "text/plain": [
       "⎡                                                                             \n",
       "⎢                                                                             \n",
       "⎢                                                                             \n",
       "⎢                                                                             \n",
       "⎢                                                      0                      \n",
       "⎢                                                                             \n",
       "⎢                                                                             \n",
       "⎢                                             ⎛  Z    ⎞                       \n",
       "⎢                                   -ⅈ⋅varpi₁⋅⎜- ─ + t⎟                       \n",
       "⎢                          ⅈ⋅ω₂₁⋅t            ⎝  c    ⎠                       \n",
       "⎢e⋅r_{+1;21}⋅E¹₀(t, R, Z)⋅ℯ       ⋅ℯ                      e⋅r_{-1;21}⋅E²₀(t, R\n",
       "⎢────────────────────────────────────────────────────── + ────────────────────\n",
       "⎢                          2                                                  \n",
       "⎢                                                                             \n",
       "⎢                                                                             \n",
       "⎢                                                                             \n",
       "⎢                                                                             \n",
       "⎢                                                                             \n",
       "⎢                                                      0                      \n",
       "⎣                                                                             \n",
       "\n",
       "                                                                  ⎛  Z    ⎞   \n",
       "                                                         ⅈ⋅varpi₁⋅⎜- ─ + t⎟   \n",
       "                                               -ⅈ⋅ω₂₁⋅t           ⎝  c    ⎠ __\n",
       "                                  e⋅r_{+1;21}⋅ℯ        ⋅ℯ                  ⋅E¹\n",
       "                                  ────────────────────────────────────────────\n",
       "                                                            2                 \n",
       "                                                                              \n",
       "                         ⎛Z    ⎞                                              \n",
       "               -ⅈ⋅varpi₂⋅⎜─ + t⎟                                              \n",
       "      ⅈ⋅ω₂₁⋅t            ⎝c    ⎠                                              \n",
       ", Z)⋅ℯ       ⋅ℯ                                                               \n",
       "────────────────────────────────                                              \n",
       "     2                                                                        \n",
       "                                                                              \n",
       "                                                                              \n",
       "                                                                     -ⅈ⋅varpi₁\n",
       "                                                            ⅈ⋅ω₃₂⋅t           \n",
       "                                  e⋅r_{+1;32}⋅E¹₀(t, R, Z)⋅ℯ       ⋅ℯ         \n",
       "                                  ────────────────────────────────────────────\n",
       "                                                            2                 \n",
       "\n",
       "                                             ⎛Z    ⎞                          \n",
       "                                    ⅈ⋅varpi₂⋅⎜─ + t⎟                          \n",
       "__________                -ⅈ⋅ω₂₁⋅t           ⎝c    ⎠ ____________             \n",
       "₀(t, R, Z)   e⋅r_{-1;21}⋅ℯ        ⋅ℯ                ⋅E²₀(t, R, Z)             \n",
       "────────── + ────────────────────────────────────────────────────             \n",
       "                                      2                                       \n",
       "                                                                              \n",
       "                                                                              \n",
       "                                                                              \n",
       "                                                                              \n",
       "                                                                   e⋅r_{+1;32}\n",
       "          0                                                        ───────────\n",
       "                                                                              \n",
       "                                                                              \n",
       " ⎛  Z    ⎞                                                ⎛Z    ⎞             \n",
       "⋅⎜- ─ + t⎟                                      -ⅈ⋅varpi₂⋅⎜─ + t⎟             \n",
       " ⎝  c    ⎠                             ⅈ⋅ω₃₂⋅t            ⎝c    ⎠             \n",
       "             e⋅r_{-1;32}⋅E²₀(t, R, Z)⋅ℯ       ⋅ℯ                              \n",
       "────────── + ────────────────────────────────────────────────────             \n",
       "                                      2                                       \n",
       "\n",
       "                                                                              \n",
       "                                                                              \n",
       "                                                                              \n",
       "                                                                              \n",
       "                                           0                                  \n",
       "                                                                              \n",
       "                                                                              \n",
       "                     ⎛  Z    ⎞                                                \n",
       "            ⅈ⋅varpi₁⋅⎜- ─ + t⎟                                       ⅈ⋅varpi₂⋅\n",
       "  -ⅈ⋅ω₃₂⋅t           ⎝  c    ⎠ ____________                -ⅈ⋅ω₃₂⋅t           \n",
       "⋅ℯ        ⋅ℯ                  ⋅E¹₀(t, R, Z)   e⋅r_{-1;32}⋅ℯ        ⋅ℯ         \n",
       "─────────────────────────────────────────── + ────────────────────────────────\n",
       "               2                                                       2      \n",
       "                                                                              \n",
       "                                                                              \n",
       "                                                                              \n",
       "                                                                              \n",
       "                                                                              \n",
       "                                           0                                  \n",
       "                                                                              \n",
       "\n",
       "                    ⎤\n",
       "                    ⎥\n",
       "                    ⎥\n",
       "                    ⎥\n",
       "                    ⎥\n",
       "                    ⎥\n",
       "                    ⎥\n",
       "⎛Z    ⎞             ⎥\n",
       "⎜─ + t⎟             ⎥\n",
       "⎝c    ⎠ ____________⎥\n",
       "       ⋅E²₀(t, R, Z)⎥\n",
       "────────────────────⎥\n",
       "                    ⎥\n",
       "                    ⎥\n",
       "                    ⎥\n",
       "                    ⎥\n",
       "                    ⎥\n",
       "                    ⎥\n",
       "                    ⎥\n",
       "                    ⎦"
      ]
     },
     "execution_count": 34,
     "metadata": {},
     "output_type": "execute_result"
    }
   ],
   "source": [
    "H1IRWA=sum( [ (e*(helicity_dot_product(E_p[l],r_I_m)+helicity_dot_product(E_m[l],r_I_p))) for l in range(Nl)],zero_matrix)\n",
    "fprint(H1IRWA,print_ascii=print_ascii)"
   ]
  },
  {
   "cell_type": "markdown",
   "metadata": {},
   "source": [
    "The matrix element $(\\hat{H}_{1I,RWA})_{21}$ element is"
   ]
  },
  {
   "cell_type": "code",
   "execution_count": 35,
   "metadata": {
    "collapsed": false
   },
   "outputs": [
    {
     "data": {
      "image/png": "[encoded data removed]",
      "text/latex": [
       "$$\\frac{e r_{+1;21}}{2} \\operatorname{E^{1}_{0}}{\\left (t,R,Z \\right )} e^{i \\omega_{21} t} e^{- i t \\varpi_{1}} e^{\\frac{i Z}{c} \\varpi_{1}} + \\frac{e r_{-1;21}}{2} \\operatorname{E^{2}_{0}}{\\left (t,R,Z \\right )} e^{i \\omega_{21} t} e^{- i t \\varpi_{2}} e^{- \\frac{i Z}{c} \\varpi_{2}}$$"
      ],
      "text/plain": [
       "                                                ⅈ⋅Z⋅varpi₁                    \n",
       "                                                ──────────                    \n",
       "                          ⅈ⋅ω₂₁⋅t  -ⅈ⋅t⋅varpi₁      c                         \n",
       "e⋅r_{+1;21}⋅E¹₀(t, R, Z)⋅ℯ       ⋅ℯ           ⋅ℯ             e⋅r_{-1;21}⋅E²₀(t\n",
       "────────────────────────────────────────────────────────── + ─────────────────\n",
       "                            2                                                 \n",
       "\n",
       "                               -ⅈ⋅Z⋅varpi₂ \n",
       "                               ────────────\n",
       "         ⅈ⋅ω₂₁⋅t  -ⅈ⋅t⋅varpi₂       c      \n",
       ", R, Z)⋅ℯ       ⋅ℯ           ⋅ℯ            \n",
       "───────────────────────────────────────────\n",
       "            2                              "
      ]
     },
     "execution_count": 35,
     "metadata": {},
     "output_type": "execute_result"
    }
   ],
   "source": [
    "fprint(H1IRWA[1,0].expand(),print_ascii=print_ascii)"
   ]
  },
  {
   "cell_type": "markdown",
   "metadata": {},
   "source": [
    "But if the detuning $\\omega_{21}-\\omega^1 \\ll \\omega_{21}-\\omega^2$ (the second field is far detuned from the $1 \\rightarrow 2$ transition), then $\\omega_{21}-\\omega^2$ may be also considered too high a frequency to be relevant to coarse-grained evolution. So we might neclect that term in $(\\hat{H}_{1I,RWA})_{21}$ and similarly neglect the $\\omega_{32}-\\omega^1$ for term in $(\\hat{H}_{1I,RWA})_{32}$:"
   ]
  },
  {
   "cell_type": "code",
   "execution_count": 36,
   "metadata": {
    "collapsed": false
   },
   "outputs": [
    {
     "data": {
      "image/png": "[encoded data removed]",
      "text/latex": [
       "$$\\frac{e r_{+1;32}}{2} \\operatorname{E^{1}_{0}}{\\left (t,R,Z \\right )} e^{i \\omega_{32} t} e^{- i t \\varpi_{1}} e^{\\frac{i Z}{c} \\varpi_{1}} + \\frac{e r_{-1;32}}{2} \\operatorname{E^{2}_{0}}{\\left (t,R,Z \\right )} e^{i \\omega_{32} t} e^{- i t \\varpi_{2}} e^{- \\frac{i Z}{c} \\varpi_{2}}$$"
      ],
      "text/plain": [
       "                                                ⅈ⋅Z⋅varpi₁                    \n",
       "                                                ──────────                    \n",
       "                          ⅈ⋅ω₃₂⋅t  -ⅈ⋅t⋅varpi₁      c                         \n",
       "e⋅r_{+1;32}⋅E¹₀(t, R, Z)⋅ℯ       ⋅ℯ           ⋅ℯ             e⋅r_{-1;32}⋅E²₀(t\n",
       "────────────────────────────────────────────────────────── + ─────────────────\n",
       "                            2                                                 \n",
       "\n",
       "                               -ⅈ⋅Z⋅varpi₂ \n",
       "                               ────────────\n",
       "         ⅈ⋅ω₃₂⋅t  -ⅈ⋅t⋅varpi₂       c      \n",
       ", R, Z)⋅ℯ       ⋅ℯ           ⋅ℯ            \n",
       "───────────────────────────────────────────\n",
       "            2                              "
      ]
     },
     "execution_count": 36,
     "metadata": {},
     "output_type": "execute_result"
    }
   ],
   "source": [
    "fprint(H1IRWA[2,1].expand(),print_ascii=print_ascii)"
   ]
  },
  {
   "cell_type": "markdown",
   "metadata": {},
   "source": [
    "In other words, if the detunings in our experiments allow the approximmation, we might choose which frequency components $\\omega^l$ excite which transitions. Let us say that $L_{ij}$ is the set of $l$ such that $\\omega^l$ excites the transition $i\\rightarrow j$"
   ]
  },
  {
   "cell_type": "code",
   "execution_count": 37,
   "metadata": {
    "collapsed": false
   },
   "outputs": [
    {
     "name": "stdout",
     "output_type": "stream",
     "text": [
      "[[[] [1] []]\n",
      " [[1] [] [2]]\n",
      " [[] [2] []]]\n"
     ]
    }
   ],
   "source": [
    "Lij=[[1,2,[1]],[2,3,[2]]]\n",
    "Lij=formatLij(Lij,Ne)\n",
    "print array(Lij)"
   ]
  },
  {
   "cell_type": "markdown",
   "metadata": {},
   "source": [
    "Thus the interacion hamiltonian in the interaction picture can be approximated as"
   ]
  },
  {
   "cell_type": "code",
   "execution_count": 38,
   "metadata": {
    "collapsed": false
   },
   "outputs": [
    {
     "data": {
      "image/png": "[encoded data removed]",
      "text/latex": [
       "$$\\left[\\begin{matrix}0 & \\frac{e r_{+1;21}}{2} e^{- i \\omega_{21} t} e^{i \\varpi_{1} \\left(- \\frac{Z}{c} + t\\right)} \\overline{\\operatorname{E^{1}_{0}}{\\left (t,R,Z \\right )}} & 0\\\\\\frac{e r_{+1;21}}{2} \\operatorname{E^{1}_{0}}{\\left (t,R,Z \\right )} e^{i \\omega_{21} t} e^{- i \\varpi_{1} \\left(- \\frac{Z}{c} + t\\right)} & 0 & \\frac{e r_{-1;32}}{2} e^{- i \\omega_{32} t} e^{i \\varpi_{2} \\left(\\frac{Z}{c} + t\\right)} \\overline{\\operatorname{E^{2}_{0}}{\\left (t,R,Z \\right )}}\\\\0 & \\frac{e r_{-1;32}}{2} \\operatorname{E^{2}_{0}}{\\left (t,R,Z \\right )} e^{i \\omega_{32} t} e^{- i \\varpi_{2} \\left(\\frac{Z}{c} + t\\right)} & 0\\end{matrix}\\right]$$"
      ],
      "text/plain": [
       "⎡                                                                             \n",
       "⎢                                                                             \n",
       "⎢                                                                     -ⅈ⋅ω₂₁⋅t\n",
       "⎢                                                        e⋅r_{+1;21}⋅ℯ        \n",
       "⎢                          0                             ─────────────────────\n",
       "⎢                                                                             \n",
       "⎢                                                                             \n",
       "⎢                                             ⎛  Z    ⎞                       \n",
       "⎢                                   -ⅈ⋅varpi₁⋅⎜- ─ + t⎟                       \n",
       "⎢                          ⅈ⋅ω₂₁⋅t            ⎝  c    ⎠                       \n",
       "⎢e⋅r_{+1;21}⋅E¹₀(t, R, Z)⋅ℯ       ⋅ℯ                                          \n",
       "⎢──────────────────────────────────────────────────────                       \n",
       "⎢                          2                                                  \n",
       "⎢                                                                             \n",
       "⎢                                                                             \n",
       "⎢                                                                             \n",
       "⎢                                                                             \n",
       "⎢                                                         e⋅r_{-1;32}⋅E²₀(t, R\n",
       "⎢                          0                              ────────────────────\n",
       "⎣                                                                             \n",
       "\n",
       "           ⎛  Z    ⎞                                                          \n",
       "  ⅈ⋅varpi₁⋅⎜- ─ + t⎟                                                          \n",
       "           ⎝  c    ⎠ ____________                                             \n",
       "⋅ℯ                  ⋅E¹₀(t, R, Z)                                             \n",
       "─────────────────────────────────                           0                 \n",
       "     2                                                                        \n",
       "                                                                              \n",
       "                                                                   ⎛Z    ⎞    \n",
       "                                                          ⅈ⋅varpi₂⋅⎜─ + t⎟    \n",
       "                                                -ⅈ⋅ω₃₂⋅t           ⎝c    ⎠ ___\n",
       "                                   e⋅r_{-1;32}⋅ℯ        ⋅ℯ                ⋅E²₀\n",
       "     0                             ───────────────────────────────────────────\n",
       "                                                            2                 \n",
       "                                                                              \n",
       "                         ⎛Z    ⎞                                              \n",
       "               -ⅈ⋅varpi₂⋅⎜─ + t⎟                                              \n",
       "      ⅈ⋅ω₃₂⋅t            ⎝c    ⎠                                              \n",
       ", Z)⋅ℯ       ⋅ℯ                                                               \n",
       "────────────────────────────────                            0                 \n",
       "     2                                                                        \n",
       "\n",
       "         ⎤\n",
       "         ⎥\n",
       "         ⎥\n",
       "         ⎥\n",
       "         ⎥\n",
       "         ⎥\n",
       "         ⎥\n",
       "         ⎥\n",
       "         ⎥\n",
       "_________⎥\n",
       "(t, R, Z)⎥\n",
       "─────────⎥\n",
       "         ⎥\n",
       "         ⎥\n",
       "         ⎥\n",
       "         ⎥\n",
       "         ⎥\n",
       "         ⎥\n",
       "         ⎥\n",
       "         ⎦"
      ]
     },
     "execution_count": 38,
     "metadata": {},
     "output_type": "execute_result"
    }
   ],
   "source": [
    "H1IRWA =sum([ e*( helicity_dot_product( E_p[l],vector_element(r_I_m,i,j)) ) * ket(i+1,Ne)*bra(j+1,Ne) \n",
    "            for l in range(Nl) for j in range(Ne) for i in range(Ne) if l+1 in Lij[i][j] ],zero_matrix)\n",
    "H1IRWA+=sum([ e*( helicity_dot_product( E_m[l],vector_element(r_I_p,i,j)) ) * ket(i+1,Ne)*bra(j+1,Ne) \n",
    "            for l in range(Nl) for j in range(Ne) for i in range(Ne) if l+1 in Lij[i][j] ],zero_matrix)\n",
    "\n",
    "fprint(H1IRWA, print_ascii=print_ascii)"
   ]
  },
  {
   "cell_type": "markdown",
   "metadata": {},
   "source": [
    "Returning to the Schrödinger picture we have."
   ]
  },
  {
   "cell_type": "code",
   "execution_count": 39,
   "metadata": {
    "collapsed": false
   },
   "outputs": [
    {
     "data": {
      "image/png": "[encoded data removed]",
      "text/latex": [
       "$$\\left [ \\left[\\begin{matrix}0 & - r_{+1;21} & 0\\\\0 & 0 & - r_{+1;32}\\\\0 & 0 & 0\\end{matrix}\\right], \\quad \\left[\\begin{matrix}0 & r_{0;21} & 0\\\\0 & 0 & r_{0;32}\\\\0 & 0 & 0\\end{matrix}\\right], \\quad \\left[\\begin{matrix}0 & - r_{-1;21} & 0\\\\0 & 0 & - r_{-1;32}\\\\0 & 0 & 0\\end{matrix}\\right]\\right ]$$"
      ],
      "text/plain": [
       "⎡⎡0  -r_{+1;21}      0     ⎤, ⎡0  r_{0;21}     0    ⎤, ⎡0  -r_{-1;21}      0  \n",
       "⎢⎢                         ⎥  ⎢                     ⎥  ⎢                      \n",
       "⎢⎢0      0       -r_{+1;32}⎥  ⎢0     0      r_{0;32}⎥  ⎢0      0       -r_{-1;\n",
       "⎢⎢                         ⎥  ⎢                     ⎥  ⎢                      \n",
       "⎣⎣0      0           0     ⎦  ⎣0     0         0    ⎦  ⎣0      0           0  \n",
       "\n",
       "   ⎤⎤\n",
       "   ⎥⎥\n",
       "32}⎥⎥\n",
       "   ⎥⎥\n",
       "   ⎦⎦"
      ]
     },
     "execution_count": 39,
     "metadata": {},
     "output_type": "execute_result"
    }
   ],
   "source": [
    "r_p=[ Matrix([[ delta_greater(j,i)*r[p][i,j] for j in range(Ne)]for i in range(Ne)]) for p in range(3)]\n",
    "fprint(r_p, print_ascii=print_ascii)"
   ]
  },
  {
   "cell_type": "code",
   "execution_count": 40,
   "metadata": {
    "collapsed": false
   },
   "outputs": [
    {
     "data": {
      "image/png": "[encoded data removed]",
      "text/latex": [
       "$$\\left [ \\left[\\begin{matrix}0 & 0 & 0\\\\r_{-1;21} & 0 & 0\\\\0 & r_{-1;32} & 0\\end{matrix}\\right], \\quad \\left[\\begin{matrix}0 & 0 & 0\\\\r_{0;21} & 0 & 0\\\\0 & r_{0;32} & 0\\end{matrix}\\right], \\quad \\left[\\begin{matrix}0 & 0 & 0\\\\r_{+1;21} & 0 & 0\\\\0 & r_{+1;32} & 0\\end{matrix}\\right]\\right ]$$"
      ],
      "text/plain": [
       "⎡⎡    0          0      0⎤, ⎡   0         0      0⎤, ⎡    0          0      0⎤\n",
       "⎢⎢                       ⎥  ⎢                     ⎥  ⎢                       ⎥\n",
       "⎢⎢r_{-1;21}      0      0⎥  ⎢r_{0;21}     0      0⎥  ⎢r_{+1;21}      0      0⎥\n",
       "⎢⎢                       ⎥  ⎢                     ⎥  ⎢                       ⎥\n",
       "⎣⎣    0      r_{-1;32}  0⎦  ⎣   0      r_{0;32}  0⎦  ⎣    0      r_{+1;32}  0⎦\n",
       "\n",
       "⎤\n",
       "⎥\n",
       "⎥\n",
       "⎥\n",
       "⎦"
      ]
     },
     "execution_count": 40,
     "metadata": {},
     "output_type": "execute_result"
    }
   ],
   "source": [
    "r_m=[ Matrix([[ delta_lesser( j,i)*r[p][i,j] for j in range(Ne)]for i in range(Ne)]) for p in range(3)]\n",
    "fprint(r_m, print_ascii=print_ascii)"
   ]
  },
  {
   "cell_type": "code",
   "execution_count": 41,
   "metadata": {
    "collapsed": false
   },
   "outputs": [
    {
     "data": {
      "image/png": "[encoded data removed]",
      "text/latex": [
       "$$\\left [ \\left[\\begin{matrix}0 & 0 & 0\\\\0 & 0 & 0\\\\0 & 0 & 0\\end{matrix}\\right], \\quad \\left[\\begin{matrix}0 & 0 & 0\\\\0 & 0 & 0\\\\0 & 0 & 0\\end{matrix}\\right], \\quad \\left[\\begin{matrix}0 & 0 & 0\\\\0 & 0 & 0\\\\0 & 0 & 0\\end{matrix}\\right]\\right ]$$"
      ],
      "text/plain": [
       "⎡⎡0  0  0⎤, ⎡0  0  0⎤, ⎡0  0  0⎤⎤\n",
       "⎢⎢       ⎥  ⎢       ⎥  ⎢       ⎥⎥\n",
       "⎢⎢0  0  0⎥  ⎢0  0  0⎥  ⎢0  0  0⎥⎥\n",
       "⎢⎢       ⎥  ⎢       ⎥  ⎢       ⎥⎥\n",
       "⎣⎣0  0  0⎦  ⎣0  0  0⎦  ⎣0  0  0⎦⎦"
      ]
     },
     "execution_count": 41,
     "metadata": {},
     "output_type": "execute_result"
    }
   ],
   "source": [
    "fprint( [r[p]-(r_p[p]+r_m[p]) for p in range(3)] , print_ascii=print_ascii)"
   ]
  },
  {
   "cell_type": "markdown",
   "metadata": {},
   "source": [
    "Thus the interaction hamiltonian in the Schrödinger picture in the rotating wave approximation is"
   ]
  },
  {
   "cell_type": "code",
   "execution_count": 42,
   "metadata": {
    "collapsed": false
   },
   "outputs": [
    {
     "data": {
      "image/png": "[encoded data removed]",
      "text/latex": [
       "$$\\left[\\begin{matrix}0 & \\frac{e r_{+1;21}}{2} e^{i \\varpi_{1} \\left(- \\frac{Z}{c} + t\\right)} \\overline{\\operatorname{E^{1}_{0}}{\\left (t,R,Z \\right )}} & 0\\\\\\frac{e r_{+1;21}}{2} \\operatorname{E^{1}_{0}}{\\left (t,R,Z \\right )} e^{- i \\varpi_{1} \\left(- \\frac{Z}{c} + t\\right)} & 0 & \\frac{e r_{-1;32}}{2} e^{i \\varpi_{2} \\left(\\frac{Z}{c} + t\\right)} \\overline{\\operatorname{E^{2}_{0}}{\\left (t,R,Z \\right )}}\\\\0 & \\frac{e r_{-1;32}}{2} \\operatorname{E^{2}_{0}}{\\left (t,R,Z \\right )} e^{- i \\varpi_{2} \\left(\\frac{Z}{c} + t\\right)} & 0\\end{matrix}\\right]$$"
      ],
      "text/plain": [
       "⎡                                                                     ⎛  Z    \n",
       "⎢                                                            ⅈ⋅varpi₁⋅⎜- ─ + t\n",
       "⎢                                                                     ⎝  c    \n",
       "⎢                                               e⋅r_{+1;21}⋅ℯ                 \n",
       "⎢                      0                        ──────────────────────────────\n",
       "⎢                                                                    2        \n",
       "⎢                                                                             \n",
       "⎢                                    ⎛  Z    ⎞                                \n",
       "⎢                          -ⅈ⋅varpi₁⋅⎜- ─ + t⎟                                \n",
       "⎢                                    ⎝  c    ⎠                                \n",
       "⎢e⋅r_{+1;21}⋅E¹₀(t, R, Z)⋅ℯ                                                   \n",
       "⎢─────────────────────────────────────────────                       0        \n",
       "⎢                      2                                                      \n",
       "⎢                                                                             \n",
       "⎢                                                                             \n",
       "⎢                                                                         -ⅈ⋅v\n",
       "⎢                                                                             \n",
       "⎢                                               e⋅r_{-1;32}⋅E²₀(t, R, Z)⋅ℯ    \n",
       "⎢                      0                        ──────────────────────────────\n",
       "⎣                                                                    2        \n",
       "\n",
       "⎞                                                         ⎤\n",
       "⎟                                                         ⎥\n",
       "⎠ ____________                                            ⎥\n",
       " ⋅E¹₀(t, R, Z)                                            ⎥\n",
       "──────────────                      0                     ⎥\n",
       "                                                          ⎥\n",
       "                                                          ⎥\n",
       "                                      ⎛Z    ⎞             ⎥\n",
       "                             ⅈ⋅varpi₂⋅⎜─ + t⎟             ⎥\n",
       "                                      ⎝c    ⎠ ____________⎥\n",
       "                e⋅r_{-1;32}⋅ℯ                ⋅E²₀(t, R, Z)⎥\n",
       "                ──────────────────────────────────────────⎥\n",
       "                                    2                     ⎥\n",
       "                                                          ⎥\n",
       "      ⎛Z    ⎞                                             ⎥\n",
       "arpi₂⋅⎜─ + t⎟                                             ⎥\n",
       "      ⎝c    ⎠                                             ⎥\n",
       "                                                          ⎥\n",
       "─────────────                       0                     ⎥\n",
       "                                                          ⎦"
      ]
     },
     "execution_count": 42,
     "metadata": {},
     "output_type": "execute_result"
    }
   ],
   "source": [
    "H1RWA =sum([ e*( helicity_dot_product( E_p[l],vector_element(r_m,i,j)) ) * ket(i+1,Ne)*bra(j+1,Ne) \n",
    "            for l in range(Nl) for j in range(Ne) for i in range(Ne) if l+1 in Lij[i][j] ],zero_matrix)\n",
    "H1RWA+=sum([ e*( helicity_dot_product( E_m[l],vector_element(r_p,i,j)) ) * ket(i+1,Ne)*bra(j+1,Ne) \n",
    "            for l in range(Nl) for j in range(Ne) for i in range(Ne) if l+1 in Lij[i][j] ],zero_matrix)\n",
    "\n",
    "fprint(H1RWA, print_ascii=print_ascii)"
   ]
  },
  {
   "cell_type": "markdown",
   "metadata": {},
   "source": [
    "And the complete hamiltonian in the Schrödinger picture in the rotating wave approximation is"
   ]
  },
  {
   "cell_type": "code",
   "execution_count": 43,
   "metadata": {
    "collapsed": false
   },
   "outputs": [
    {
     "data": {
      "image/png": "[encoded data removed]",
      "text/latex": [
       "$$\\left[\\begin{matrix}\\hbar \\omega_{1} & \\frac{e r_{+1;21}}{2} e^{i \\varpi_{1} \\left(- \\frac{Z}{c} + t\\right)} \\overline{\\operatorname{E^{1}_{0}}{\\left (t,R,Z \\right )}} & 0\\\\\\frac{e r_{+1;21}}{2} \\operatorname{E^{1}_{0}}{\\left (t,R,Z \\right )} e^{- i \\varpi_{1} \\left(- \\frac{Z}{c} + t\\right)} & \\hbar \\omega_{2} & \\frac{e r_{-1;32}}{2} e^{i \\varpi_{2} \\left(\\frac{Z}{c} + t\\right)} \\overline{\\operatorname{E^{2}_{0}}{\\left (t,R,Z \\right )}}\\\\0 & \\frac{e r_{-1;32}}{2} \\operatorname{E^{2}_{0}}{\\left (t,R,Z \\right )} e^{- i \\varpi_{2} \\left(\\frac{Z}{c} + t\\right)} & \\hbar \\omega_{3}\\end{matrix}\\right]$$"
      ],
      "text/plain": [
       "⎡                                                                     ⎛  Z    \n",
       "⎢                                                            ⅈ⋅varpi₁⋅⎜- ─ + t\n",
       "⎢                                                                     ⎝  c    \n",
       "⎢                                               e⋅r_{+1;21}⋅ℯ                 \n",
       "⎢                    h̅⋅ω₁                      ──────────────────────────────\n",
       "⎢                                                                    2        \n",
       "⎢                                                                             \n",
       "⎢                                    ⎛  Z    ⎞                                \n",
       "⎢                          -ⅈ⋅varpi₁⋅⎜- ─ + t⎟                                \n",
       "⎢                                    ⎝  c    ⎠                                \n",
       "⎢e⋅r_{+1;21}⋅E¹₀(t, R, Z)⋅ℯ                                                   \n",
       "⎢─────────────────────────────────────────────                     h̅⋅ω₂      \n",
       "⎢                      2                                                      \n",
       "⎢                                                                             \n",
       "⎢                                                                             \n",
       "⎢                                                                         -ⅈ⋅v\n",
       "⎢                                                                             \n",
       "⎢                                               e⋅r_{-1;32}⋅E²₀(t, R, Z)⋅ℯ    \n",
       "⎢                      0                        ──────────────────────────────\n",
       "⎣                                                                    2        \n",
       "\n",
       "⎞                                                         ⎤\n",
       "⎟                                                         ⎥\n",
       "⎠ ____________                                            ⎥\n",
       " ⋅E¹₀(t, R, Z)                                            ⎥\n",
       "──────────────                      0                     ⎥\n",
       "                                                          ⎥\n",
       "                                                          ⎥\n",
       "                                      ⎛Z    ⎞             ⎥\n",
       "                             ⅈ⋅varpi₂⋅⎜─ + t⎟             ⎥\n",
       "                                      ⎝c    ⎠ ____________⎥\n",
       "                e⋅r_{-1;32}⋅ℯ                ⋅E²₀(t, R, Z)⎥\n",
       "                ──────────────────────────────────────────⎥\n",
       "                                    2                     ⎥\n",
       "                                                          ⎥\n",
       "      ⎛Z    ⎞                                             ⎥\n",
       "arpi₂⋅⎜─ + t⎟                                             ⎥\n",
       "      ⎝c    ⎠                                             ⎥\n",
       "                                                          ⎥\n",
       "─────────────                     h̅⋅ω₃                   ⎥\n",
       "                                                          ⎦"
      ]
     },
     "execution_count": 43,
     "metadata": {},
     "output_type": "execute_result"
    }
   ],
   "source": [
    "HRWA=H0+H1RWA\n",
    "fprint(HRWA, print_ascii=print_ascii)"
   ]
  },
  {
   "cell_type": "markdown",
   "metadata": {
    "collapsed": true
   },
   "source": [
    "# Rotating Frame\n",
    "Next we will make a phase transformation in order to eliminate the explicit time dependance of the equations."
   ]
  },
  {
   "cell_type": "code",
   "execution_count": 44,
   "metadata": {
    "collapsed": false
   },
   "outputs": [
    {
     "data": {
      "image/png": "[encoded data removed]",
      "text/latex": [
       "$$\\left [ \\left[\\begin{matrix}\\operatorname{c_{1}}{\\left (t \\right )}\\\\\\operatorname{c_{2}}{\\left (t \\right )}\\\\\\operatorname{c_{3}}{\\left (t \\right )}\\end{matrix}\\right], \\quad \\left[\\begin{matrix}\\tilde{c}_{1}{\\left (t \\right )}\\\\\\tilde{c}_{2}{\\left (t \\right )}\\\\\\tilde{c}_{3}{\\left (t \\right )}\\end{matrix}\\right], \\quad \\left[\\begin{matrix}\\theta_{1}\\\\\\theta_{2}\\\\\\theta_{3}\\end{matrix}\\right]\\right ]$$"
      ],
      "text/plain": [
       "⎡⎡c₁(t)⎤, ⎡\\tilde{c}_{1}(t)⎤, ⎡θ₁⎤⎤\n",
       "⎢⎢     ⎥  ⎢                ⎥  ⎢  ⎥⎥\n",
       "⎢⎢c₂(t)⎥  ⎢\\tilde{c}_{2}(t)⎥  ⎢θ₂⎥⎥\n",
       "⎢⎢     ⎥  ⎢                ⎥  ⎢  ⎥⎥\n",
       "⎣⎣c₃(t)⎦  ⎣\\tilde{c}_{3}(t)⎦  ⎣θ₃⎦⎦"
      ]
     },
     "execution_count": 44,
     "metadata": {},
     "output_type": "execute_result"
    }
   ],
   "source": [
    "cc,cctilde,phase=define_psi_coefficients(Ne)\n",
    "fprint([cc,cctilde,phase], print_ascii=print_ascii)"
   ]
  },
  {
   "cell_type": "code",
   "execution_count": 45,
   "metadata": {
    "collapsed": false
   },
   "outputs": [
    {
     "data": {
      "image/png": "[encoded data removed]",
      "text/latex": [
       "$$\\left[\\begin{matrix}\\theta_{1}{\\left (t,Z \\right )}\\\\\\theta_{2}{\\left (t,Z \\right )}\\\\\\theta_{3}{\\left (t,Z \\right )}\\end{matrix}\\right]$$"
      ],
      "text/plain": [
       "⎡θ₁(t, Z)⎤\n",
       "⎢        ⎥\n",
       "⎢θ₂(t, Z)⎥\n",
       "⎢        ⎥\n",
       "⎣θ₃(t, Z)⎦"
      ]
     },
     "execution_count": 45,
     "metadata": {},
     "output_type": "execute_result"
    }
   ],
   "source": [
    "phase=Matrix([ Function(\"theta_\"+str(i+1),real=True)(t,Z) for i in range(Ne)])\n",
    "phase"
   ]
  },
  {
   "cell_type": "code",
   "execution_count": 46,
   "metadata": {
    "collapsed": false
   },
   "outputs": [
    {
     "data": {
      "image/png": "[encoded data removed]",
      "text/latex": [
       "$$\\left[\\begin{matrix}\\tilde{c}_{1}{\\left (t \\right )} e^{i \\theta_{1}{\\left (t,Z \\right )}}\\\\\\tilde{c}_{2}{\\left (t \\right )} e^{i \\theta_{2}{\\left (t,Z \\right )}}\\\\\\tilde{c}_{3}{\\left (t \\right )} e^{i \\theta_{3}{\\left (t,Z \\right )}}\\end{matrix}\\right]$$"
      ],
      "text/plain": [
       "⎡                  ⅈ⋅θ₁(t, Z)⎤\n",
       "⎢\\tilde{c}_{1}(t)⋅ℯ          ⎥\n",
       "⎢                            ⎥\n",
       "⎢                  ⅈ⋅θ₂(t, Z)⎥\n",
       "⎢\\tilde{c}_{2}(t)⋅ℯ          ⎥\n",
       "⎢                            ⎥\n",
       "⎢                  ⅈ⋅θ₃(t, Z)⎥\n",
       "⎣\\tilde{c}_{3}(t)⋅ℯ          ⎦"
      ]
     },
     "execution_count": 46,
     "metadata": {},
     "output_type": "execute_result"
    }
   ],
   "source": [
    "psi=Matrix([ exp(I*phase[i])*cctilde[i] for i in range(Ne)])\n",
    "fprint(psi, print_ascii=print_ascii)"
   ]
  },
  {
   "cell_type": "markdown",
   "metadata": {},
   "source": [
    "The Schrödinger equation $i\\hbar \\partial_t |\\psi\\rangle=\\hat{H}_{RWA}$ is"
   ]
  },
  {
   "cell_type": "code",
   "execution_count": 47,
   "metadata": {
    "collapsed": false
   },
   "outputs": [
    {
     "data": {
      "image/png": "[encoded data removed]",
      "text/latex": [
       "$$\\left[\\begin{matrix}- \\hbar \\tilde{c}_{1}{\\left (t \\right )} e^{i \\theta_{1}{\\left (t,Z \\right )}} \\frac{\\partial}{\\partial t} \\theta_{1}{\\left (t,Z \\right )} + i \\hbar e^{i \\theta_{1}{\\left (t,Z \\right )}} \\frac{d}{d t} \\tilde{c}_{1}{\\left (t \\right )}\\\\- \\hbar \\tilde{c}_{2}{\\left (t \\right )} e^{i \\theta_{2}{\\left (t,Z \\right )}} \\frac{\\partial}{\\partial t} \\theta_{2}{\\left (t,Z \\right )} + i \\hbar e^{i \\theta_{2}{\\left (t,Z \\right )}} \\frac{d}{d t} \\tilde{c}_{2}{\\left (t \\right )}\\\\- \\hbar \\tilde{c}_{3}{\\left (t \\right )} e^{i \\theta_{3}{\\left (t,Z \\right )}} \\frac{\\partial}{\\partial t} \\theta_{3}{\\left (t,Z \\right )} + i \\hbar e^{i \\theta_{3}{\\left (t,Z \\right )}} \\frac{d}{d t} \\tilde{c}_{3}{\\left (t \\right )}\\end{matrix}\\right]$$"
      ],
      "text/plain": [
       "⎡                       ⅈ⋅θ₁(t, Z) ∂                    ⅈ⋅θ₁(t, Z) d          \n",
       "⎢- h̅⋅\\tilde{c}_{1}(t)⋅ℯ          ⋅──(θ₁(t, Z)) + ⅈ⋅h̅⋅ℯ          ⋅──(\\tilde{c\n",
       "⎢                                  ∂t                              dt         \n",
       "⎢                                                                             \n",
       "⎢                       ⅈ⋅θ₂(t, Z) ∂                    ⅈ⋅θ₂(t, Z) d          \n",
       "⎢- h̅⋅\\tilde{c}_{2}(t)⋅ℯ          ⋅──(θ₂(t, Z)) + ⅈ⋅h̅⋅ℯ          ⋅──(\\tilde{c\n",
       "⎢                                  ∂t                              dt         \n",
       "⎢                                                                             \n",
       "⎢                       ⅈ⋅θ₃(t, Z) ∂                    ⅈ⋅θ₃(t, Z) d          \n",
       "⎢- h̅⋅\\tilde{c}_{3}(t)⋅ℯ          ⋅──(θ₃(t, Z)) + ⅈ⋅h̅⋅ℯ          ⋅──(\\tilde{c\n",
       "⎣                                  ∂t                              dt         \n",
       "\n",
       "         ⎤\n",
       "}_{1}(t))⎥\n",
       "         ⎥\n",
       "         ⎥\n",
       "         ⎥\n",
       "}_{2}(t))⎥\n",
       "         ⎥\n",
       "         ⎥\n",
       "         ⎥\n",
       "}_{3}(t))⎥\n",
       "         ⎦"
      ]
     },
     "execution_count": 47,
     "metadata": {},
     "output_type": "execute_result"
    }
   ],
   "source": [
    "lhs=Matrix([(I*hbar*Derivative(psi[i],t).doit()).expand() for i in range(Ne)])\n",
    "fprint(lhs, print_ascii=print_ascii)"
   ]
  },
  {
   "cell_type": "code",
   "execution_count": 48,
   "metadata": {
    "collapsed": false
   },
   "outputs": [],
   "source": [
    "rhs=HRWA*psi"
   ]
  },
  {
   "cell_type": "markdown",
   "metadata": {},
   "source": [
    "We multiply each of these equations by $e^{-i \\theta_i}$ and substracting $i \\theta_i \\tilde{c}_i$"
   ]
  },
  {
   "cell_type": "code",
   "execution_count": 49,
   "metadata": {
    "collapsed": false
   },
   "outputs": [
    {
     "data": {
      "image/png": "[encoded data removed]",
      "text/latex": [
       "$$\\left[\\begin{matrix}i \\hbar \\frac{d}{d t} \\tilde{c}_{1}{\\left (t \\right )}\\\\i \\hbar \\frac{d}{d t} \\tilde{c}_{2}{\\left (t \\right )}\\\\i \\hbar \\frac{d}{d t} \\tilde{c}_{3}{\\left (t \\right )}\\end{matrix}\\right]$$"
      ],
      "text/plain": [
       "⎡     d                   ⎤\n",
       "⎢ⅈ⋅h̅⋅──(\\tilde{c}_{1}(t))⎥\n",
       "⎢     dt                  ⎥\n",
       "⎢                         ⎥\n",
       "⎢     d                   ⎥\n",
       "⎢ⅈ⋅h̅⋅──(\\tilde{c}_{2}(t))⎥\n",
       "⎢     dt                  ⎥\n",
       "⎢                         ⎥\n",
       "⎢     d                   ⎥\n",
       "⎢ⅈ⋅h̅⋅──(\\tilde{c}_{3}(t))⎥\n",
       "⎣     dt                  ⎦"
      ]
     },
     "execution_count": 49,
     "metadata": {},
     "output_type": "execute_result"
    }
   ],
   "source": [
    "lhs_new=Matrix([simplify(  lhs[i]*exp(-I*phase[i]) +hbar*Derivative(phase[i],t)*cctilde[i] ) for i in range(Ne)])\n",
    "fprint(lhs_new, print_ascii=print_ascii)"
   ]
  },
  {
   "cell_type": "code",
   "execution_count": 50,
   "metadata": {
    "collapsed": false
   },
   "outputs": [
    {
     "data": {
      "image/png": "[encoded data removed]",
      "text/latex": [
       "$$\\left[\\begin{matrix}\\frac{e r_{+1;21}}{2} \\tilde{c}_{2}{\\left (t \\right )} e^{- i \\theta_{1}{\\left (t,Z \\right )}} e^{i \\theta_{2}{\\left (t,Z \\right )}} e^{i t \\varpi_{1}} e^{- \\frac{i Z}{c} \\varpi_{1}} \\overline{\\operatorname{E^{1}_{0}}{\\left (t,R,Z \\right )}} + \\hbar \\omega_{1} \\tilde{c}_{1}{\\left (t \\right )} + \\hbar \\tilde{c}_{1}{\\left (t \\right )} \\frac{\\partial}{\\partial t} \\theta_{1}{\\left (t,Z \\right )}\\\\\\frac{e r_{+1;21}}{2} \\operatorname{E^{1}_{0}}{\\left (t,R,Z \\right )} \\tilde{c}_{1}{\\left (t \\right )} e^{i \\theta_{1}{\\left (t,Z \\right )}} e^{- i \\theta_{2}{\\left (t,Z \\right )}} e^{- i t \\varpi_{1}} e^{\\frac{i Z}{c} \\varpi_{1}} + \\frac{e r_{-1;32}}{2} \\tilde{c}_{3}{\\left (t \\right )} e^{- i \\theta_{2}{\\left (t,Z \\right )}} e^{i \\theta_{3}{\\left (t,Z \\right )}} e^{i t \\varpi_{2}} e^{\\frac{i Z}{c} \\varpi_{2}} \\overline{\\operatorname{E^{2}_{0}}{\\left (t,R,Z \\right )}} + \\hbar \\omega_{2} \\tilde{c}_{2}{\\left (t \\right )} + \\hbar \\tilde{c}_{2}{\\left (t \\right )} \\frac{\\partial}{\\partial t} \\theta_{2}{\\left (t,Z \\right )}\\\\\\frac{e r_{-1;32}}{2} \\operatorname{E^{2}_{0}}{\\left (t,R,Z \\right )} \\tilde{c}_{2}{\\left (t \\right )} e^{i \\theta_{2}{\\left (t,Z \\right )}} e^{- i \\theta_{3}{\\left (t,Z \\right )}} e^{- i t \\varpi_{2}} e^{- \\frac{i Z}{c} \\varpi_{2}} + \\hbar \\omega_{3} \\tilde{c}_{3}{\\left (t \\right )} + \\hbar \\tilde{c}_{3}{\\left (t \\right )} \\frac{\\partial}{\\partial t} \\theta_{3}{\\left (t,Z \\right )}\\end{matrix}\\right]$$"
      ],
      "text/plain": [
       "⎡                                                                             \n",
       "⎢                                                                             \n",
       "⎢                                                                            -\n",
       "⎢                                              e⋅r_{+1;21}⋅\\tilde{c}_{2}(t)⋅ℯ \n",
       "⎢                                              ───────────────────────────────\n",
       "⎢                                                                             \n",
       "⎢                                                                             \n",
       "⎢                                                                             \n",
       "⎢                                                                             \n",
       "⎢                                           ⅈ⋅θ₁(t, Z)  -ⅈ⋅θ₂(t, Z)  -ⅈ⋅t⋅varp\n",
       "⎢e⋅r_{+1;21}⋅E¹₀(t, R, Z)⋅\\tilde{c}_{1}(t)⋅ℯ          ⋅ℯ           ⋅ℯ         \n",
       "⎢─────────────────────────────────────────────────────────────────────────────\n",
       "⎢                                             2                               \n",
       "⎢                                                                             \n",
       "⎢                                                                             \n",
       "⎢                                                                             \n",
       "⎢                                                                             \n",
       "⎢                                             e⋅r_{-1;32}⋅E²₀(t, R, Z)⋅\\tilde{\n",
       "⎢                                             ────────────────────────────────\n",
       "⎣                                                                             \n",
       "\n",
       "                                    -ⅈ⋅Z⋅varpi₁                               \n",
       "                                    ────────────                              \n",
       "ⅈ⋅θ₁(t, Z)  ⅈ⋅θ₂(t, Z)  ⅈ⋅t⋅varpi₁       c       ____________                 \n",
       "          ⋅ℯ          ⋅ℯ          ⋅ℯ            ⋅E¹₀(t, R, Z)                 \n",
       "───────────────────────────────────────────────────────────── + h̅⋅ω₁⋅\\tilde{c\n",
       "              2                                                               \n",
       "                                                                              \n",
       "    ⅈ⋅Z⋅varpi₁                                                                \n",
       "    ──────────                                                                \n",
       "i₁      c                                      -ⅈ⋅θ₂(t, Z)  ⅈ⋅θ₃(t, Z)  ⅈ⋅t⋅va\n",
       "  ⋅ℯ             e⋅r_{-1;32}⋅\\tilde{c}_{3}(t)⋅ℯ           ⋅ℯ          ⋅ℯ      \n",
       "────────────── + ─────────────────────────────────────────────────────────────\n",
       "                                                             2                \n",
       "                                                                              \n",
       "                                                 -ⅈ⋅Z⋅varpi₂                  \n",
       "                                                 ────────────                 \n",
       "           ⅈ⋅θ₂(t, Z)  -ⅈ⋅θ₃(t, Z)  -ⅈ⋅t⋅varpi₂       c                       \n",
       "c}_{2}(t)⋅ℯ          ⋅ℯ           ⋅ℯ           ⋅ℯ                             \n",
       "───────────────────────────────────────────────────────────── + h̅⋅ω₃⋅\\tilde{c\n",
       "              2                                                               \n",
       "\n",
       "                                                                              \n",
       "                                                                              \n",
       "                                                                              \n",
       "                               ∂                                              \n",
       "}_{1}(t) + h̅⋅\\tilde{c}_{1}(t)⋅──(θ₁(t, Z))                                   \n",
       "                               ∂t                                             \n",
       "                                                                              \n",
       "      ⅈ⋅Z⋅varpi₂                                                              \n",
       "      ──────────                                                              \n",
       "rpi₂      c      ____________                                                 \n",
       "    ⋅ℯ          ⋅E²₀(t, R, Z)                                                ∂\n",
       "───────────────────────────── + h̅⋅ω₂⋅\\tilde{c}_{2}(t) + h̅⋅\\tilde{c}_{2}(t)⋅─\n",
       "                                                                             ∂\n",
       "                                                                              \n",
       "                                                                              \n",
       "                                                                              \n",
       "                                                                              \n",
       "                               ∂                                              \n",
       "}_{3}(t) + h̅⋅\\tilde{c}_{3}(t)⋅──(θ₃(t, Z))                                   \n",
       "                               ∂t                                             \n",
       "\n",
       "           ⎤\n",
       "           ⎥\n",
       "           ⎥\n",
       "           ⎥\n",
       "           ⎥\n",
       "           ⎥\n",
       "           ⎥\n",
       "           ⎥\n",
       "           ⎥\n",
       "           ⎥\n",
       "           ⎥\n",
       "─(θ₂(t, Z))⎥\n",
       "t          ⎥\n",
       "           ⎥\n",
       "           ⎥\n",
       "           ⎥\n",
       "           ⎥\n",
       "           ⎥\n",
       "           ⎥\n",
       "           ⎦"
      ]
     },
     "execution_count": 50,
     "metadata": {},
     "output_type": "execute_result"
    }
   ],
   "source": [
    "rhs_new=Matrix([simplify(  rhs[i]*exp(-I*phase[i])\n",
    "                         +hbar*Derivative(phase[i],t)*cctilde[i] ).expand() for i in range(Ne)])\n",
    "fprint(rhs_new, print_ascii=print_ascii)"
   ]
  },
  {
   "cell_type": "markdown",
   "metadata": {},
   "source": [
    "It can be seen that the equations loose their explicit time dependance only if $\\omega^{1}(-Z/c+t) - \\theta_{1} + \\theta_{2}=0$ and $\\omega^{2}(Z/c+t) - \\theta_{2} + \\theta_{3}=0$. Which is satisfied if"
   ]
  },
  {
   "cell_type": "code",
   "execution_count": 51,
   "metadata": {
    "collapsed": false
   },
   "outputs": [
    {
     "data": {
      "image/png": "[encoded data removed]",
      "text/latex": [
       "$$\\left \\{ \\theta_{2}{\\left (t,Z \\right )} : \\frac{Z \\varpi_{1}}{c} - t \\varpi_{1} + \\theta_{1}{\\left (t,Z \\right )}, \\quad \\theta_{3}{\\left (t,Z \\right )} : \\frac{Z \\varpi_{1}}{c} - \\frac{Z \\varpi_{2}}{c} - t \\varpi_{1} - t \\varpi_{2} + \\theta_{1}{\\left (t,Z \\right )}\\right \\}$$"
      ],
      "text/plain": [
       "⎧          Z⋅varpi₁                                  Z⋅varpi₁   Z⋅varpi₂      \n",
       "⎨θ₂(t, Z): ──────── - t⋅varpi₁ + θ₁(t, Z), θ₃(t, Z): ──────── - ──────── - t⋅v\n",
       "⎩             c                                         c          c          \n",
       "\n",
       "                           ⎫\n",
       "arpi₁ - t⋅varpi₂ + θ₁(t, Z)⎬\n",
       "                           ⎭"
      ]
     },
     "execution_count": 51,
     "metadata": {},
     "output_type": "execute_result"
    }
   ],
   "source": [
    "eq1=omega_laser[0]*(-Z/c+t)+phase[1]-phase[0]\n",
    "eq2=omega_laser[1]*( Z/c+t)+phase[2]-phase[1]\n",
    "pt=solve([eq1,eq2],[phase[1],phase[2]])\n",
    "pt"
   ]
  },
  {
   "cell_type": "markdown",
   "metadata": {},
   "source": [
    "Thus the equations become"
   ]
  },
  {
   "cell_type": "code",
   "execution_count": 52,
   "metadata": {
    "collapsed": false
   },
   "outputs": [
    {
     "data": {
      "image/png": "[encoded data removed]",
      "text/latex": [
       "$$\\left[\\begin{matrix}i \\hbar \\frac{d}{d t} \\tilde{c}_{1}{\\left (t \\right )}\\\\i \\hbar \\frac{d}{d t} \\tilde{c}_{2}{\\left (t \\right )}\\\\i \\hbar \\frac{d}{d t} \\tilde{c}_{3}{\\left (t \\right )}\\end{matrix}\\right]$$"
      ],
      "text/plain": [
       "⎡     d                   ⎤\n",
       "⎢ⅈ⋅h̅⋅──(\\tilde{c}_{1}(t))⎥\n",
       "⎢     dt                  ⎥\n",
       "⎢                         ⎥\n",
       "⎢     d                   ⎥\n",
       "⎢ⅈ⋅h̅⋅──(\\tilde{c}_{2}(t))⎥\n",
       "⎢     dt                  ⎥\n",
       "⎢                         ⎥\n",
       "⎢     d                   ⎥\n",
       "⎢ⅈ⋅h̅⋅──(\\tilde{c}_{3}(t))⎥\n",
       "⎣     dt                  ⎦"
      ]
     },
     "execution_count": 52,
     "metadata": {},
     "output_type": "execute_result"
    }
   ],
   "source": [
    "fprint(lhs_new, print_ascii=print_ascii)"
   ]
  },
  {
   "cell_type": "code",
   "execution_count": 53,
   "metadata": {
    "collapsed": false
   },
   "outputs": [
    {
     "data": {
      "image/png": "[encoded data removed]",
      "text/latex": [
       "$$\\left[\\begin{matrix}\\frac{e r_{+1;21}}{2} \\tilde{c}_{2}{\\left (t \\right )} \\overline{\\operatorname{E^{1}_{0}}{\\left (t,R,Z \\right )}} + \\hbar \\omega_{1} \\tilde{c}_{1}{\\left (t \\right )} + \\hbar \\tilde{c}_{1}{\\left (t \\right )} \\frac{\\partial}{\\partial t} \\theta_{1}{\\left (t,Z \\right )}\\\\\\frac{e r_{+1;21}}{2} \\operatorname{E^{1}_{0}}{\\left (t,R,Z \\right )} \\tilde{c}_{1}{\\left (t \\right )} + \\frac{e r_{-1;32}}{2} \\tilde{c}_{3}{\\left (t \\right )} \\overline{\\operatorname{E^{2}_{0}}{\\left (t,R,Z \\right )}} + \\hbar \\omega_{2} \\tilde{c}_{2}{\\left (t \\right )} + \\hbar \\tilde{c}_{2}{\\left (t \\right )} \\frac{\\partial}{\\partial t}\\left(\\frac{Z \\varpi_{1}}{c} - t \\varpi_{1} + \\theta_{1}{\\left (t,Z \\right )}\\right)\\\\\\frac{e r_{-1;32}}{2} \\operatorname{E^{2}_{0}}{\\left (t,R,Z \\right )} \\tilde{c}_{2}{\\left (t \\right )} + \\hbar \\omega_{3} \\tilde{c}_{3}{\\left (t \\right )} + \\hbar \\tilde{c}_{3}{\\left (t \\right )} \\frac{\\partial}{\\partial t}\\left(\\frac{Z \\varpi_{1}}{c} - \\frac{Z \\varpi_{2}}{c} - t \\varpi_{1} - t \\varpi_{2} + \\theta_{1}{\\left (t,Z \\right )}\\right)\\end{matrix}\\right]$$"
      ],
      "text/plain": [
       "⎡                                                              ____________   \n",
       "⎢                                 e⋅r_{+1;21}⋅\\tilde{c}_{2}(t)⋅E¹₀(t, R, Z)   \n",
       "⎢                                 ───────────────────────────────────────── + \n",
       "⎢                                                     2                       \n",
       "⎢                                                                             \n",
       "⎢                                                                         ____\n",
       "⎢e⋅r_{+1;21}⋅E¹₀(t, R, Z)⋅\\tilde{c}_{1}(t)   e⋅r_{-1;32}⋅\\tilde{c}_{3}(t)⋅E²₀(\n",
       "⎢───────────────────────────────────────── + ─────────────────────────────────\n",
       "⎢                    2                                           2            \n",
       "⎢                                                                             \n",
       "⎢           e⋅r_{-1;32}⋅E²₀(t, R, Z)⋅\\tilde{c}_{2}(t)                         \n",
       "⎢           ───────────────────────────────────────── + h̅⋅ω₃⋅\\tilde{c}_{3}(t)\n",
       "⎣                               2                                             \n",
       "\n",
       "                                                                              \n",
       "                                             ∂                                \n",
       "h̅⋅ω₁⋅\\tilde{c}_{1}(t) + h̅⋅\\tilde{c}_{1}(t)⋅──(θ₁(t, Z))                     \n",
       "                                             ∂t                               \n",
       "                                                                              \n",
       "________                                                                      \n",
       "t, R, Z)                                                ∂ ⎛Z⋅varpi₁           \n",
       "──────── + h̅⋅ω₂⋅\\tilde{c}_{2}(t) + h̅⋅\\tilde{c}_{2}(t)⋅──⎜──────── - t⋅varpi₁\n",
       "                                                        ∂t⎝   c               \n",
       "                                                                              \n",
       "                       ∂ ⎛Z⋅varpi₁   Z⋅varpi₂                                 \n",
       " + h̅⋅\\tilde{c}_{3}(t)⋅──⎜──────── - ──────── - t⋅varpi₁ - t⋅varpi₂ + θ₁(t, Z)\n",
       "                       ∂t⎝   c          c                                     \n",
       "\n",
       "            ⎤\n",
       "            ⎥\n",
       "            ⎥\n",
       "            ⎥\n",
       "            ⎥\n",
       "            ⎥\n",
       "           ⎞⎥\n",
       " + θ₁(t, Z)⎟⎥\n",
       "           ⎠⎥\n",
       "            ⎥\n",
       "⎞           ⎥\n",
       "⎟           ⎥\n",
       "⎠           ⎦"
      ]
     },
     "execution_count": 53,
     "metadata": {},
     "output_type": "execute_result"
    }
   ],
   "source": [
    "rhs_new=simplify(rhs_new.subs(pt)).expand().simplify()\n",
    "fprint(rhs_new, print_ascii=print_ascii)"
   ]
  },
  {
   "cell_type": "markdown",
   "metadata": {},
   "source": [
    "It can be seen that this is the Schrödinger equation derived from an effective hamiltonian $\\tilde{H}$"
   ]
  },
  {
   "cell_type": "code",
   "execution_count": 54,
   "metadata": {
    "collapsed": false
   },
   "outputs": [
    {
     "data": {
      "image/png": "[encoded data removed]",
      "text/latex": [
       "$$\\left[\\begin{matrix}\\hbar \\left(\\omega_{1} + \\frac{\\partial}{\\partial t} \\theta_{1}{\\left (t,Z \\right )}\\right) & \\frac{e r_{+1;21}}{2} \\overline{\\operatorname{E^{1}_{0}}{\\left (t,R,Z \\right )}} & 0\\\\\\frac{e r_{+1;21}}{2} \\operatorname{E^{1}_{0}}{\\left (t,R,Z \\right )} & \\hbar \\left(\\omega_{2} - \\varpi_{1} + \\frac{\\partial}{\\partial t} \\theta_{1}{\\left (t,Z \\right )}\\right) & \\frac{e r_{-1;32}}{2} \\overline{\\operatorname{E^{2}_{0}}{\\left (t,R,Z \\right )}}\\\\0 & \\frac{e r_{-1;32}}{2} \\operatorname{E^{2}_{0}}{\\left (t,R,Z \\right )} & \\hbar \\left(\\omega_{3} - \\varpi_{1} - \\varpi_{2} + \\frac{\\partial}{\\partial t} \\theta_{1}{\\left (t,Z \\right )}\\right)\\end{matrix}\\right]$$"
      ],
      "text/plain": [
       "⎡                                         ____________                        \n",
       "⎢    ⎛     ∂           ⎞      e⋅r_{+1;21}⋅E¹₀(t, R, Z)                        \n",
       "⎢ h̅⋅⎜ω₁ + ──(θ₁(t, Z))⎟      ────────────────────────                        \n",
       "⎢    ⎝     ∂t          ⎠                 2                                    \n",
       "⎢                                                                             \n",
       "⎢                                                                             \n",
       "⎢e⋅r_{+1;21}⋅E¹₀(t, R, Z)     ⎛              ∂           ⎞          e⋅r_{-1;32\n",
       "⎢────────────────────────  h̅⋅⎜ω₂ - varpi₁ + ──(θ₁(t, Z))⎟          ──────────\n",
       "⎢           2                 ⎝              ∂t          ⎠                    \n",
       "⎢                                                                             \n",
       "⎢                             e⋅r_{-1;32}⋅E²₀(t, R, Z)         ⎛              \n",
       "⎢           0                 ────────────────────────      h̅⋅⎜ω₃ - varpi₁ - \n",
       "⎣                                        2                     ⎝              \n",
       "\n",
       "                      ⎤\n",
       "                      ⎥\n",
       " 0                    ⎥\n",
       "                      ⎥\n",
       "                      ⎥\n",
       "  ____________        ⎥\n",
       "}⋅E²₀(t, R, Z)        ⎥\n",
       "──────────────        ⎥\n",
       " 2                    ⎥\n",
       "                      ⎥\n",
       "         ∂           ⎞⎥\n",
       "varpi₂ + ──(θ₁(t, Z))⎟⎥\n",
       "         ∂t          ⎠⎦"
      ]
     },
     "execution_count": 54,
     "metadata": {},
     "output_type": "execute_result"
    }
   ],
   "source": [
    "Htilde=Matrix([ [Derivative(rhs_new[i],cctilde[j]).doit().simplify() for j in range(Ne)] for i in range(Ne)])\n",
    "fprint(Htilde, print_ascii=print_ascii)"
   ]
  },
  {
   "cell_type": "markdown",
   "metadata": {},
   "source": [
    "We can see that it is convenient to choose $\\theta_1=-\\omega_1$ to simplify the hamiltonian. Also, we can recognize $\\omega^1-\\omega_2+\\omega_1=\\delta^1$ as the detuning of the first field relative to the atomic transition $\\omega_{21}=\\omega_2-\\omega_1$, and the same for $\\omega^2-\\omega_3+\\omega_2=\\delta^2$. And choosing $\\theta_1=\\omega_1 t$"
   ]
  },
  {
   "cell_type": "code",
   "execution_count": 55,
   "metadata": {
    "collapsed": false
   },
   "outputs": [
    {
     "data": {
      "image/png": "[encoded data removed]",
      "text/latex": [
       "$$\\left[\\begin{matrix}0 & \\frac{e r_{+1;21}}{2} \\overline{\\operatorname{E^{1}_{0}}{\\left (t,R,Z \\right )}} & 0\\\\\\frac{e r_{+1;21}}{2} \\operatorname{E^{1}_{0}}{\\left (t,R,Z \\right )} & - \\delta_{1} \\hbar & \\frac{e r_{-1;32}}{2} \\overline{\\operatorname{E^{2}_{0}}{\\left (t,R,Z \\right )}}\\\\0 & \\frac{e r_{-1;32}}{2} \\operatorname{E^{2}_{0}}{\\left (t,R,Z \\right )} & - \\delta_{1} \\hbar - \\delta_{2} \\hbar\\end{matrix}\\right]$$"
      ],
      "text/plain": [
       "⎡                                      ____________                          ⎤\n",
       "⎢                          e⋅r_{+1;21}⋅E¹₀(t, R, Z)                          ⎥\n",
       "⎢           0              ────────────────────────             0            ⎥\n",
       "⎢                                     2                                      ⎥\n",
       "⎢                                                                            ⎥\n",
       "⎢                                                                ____________⎥\n",
       "⎢e⋅r_{+1;21}⋅E¹₀(t, R, Z)                            e⋅r_{-1;32}⋅E²₀(t, R, Z)⎥\n",
       "⎢────────────────────────           -δ₁⋅h̅           ────────────────────────⎥\n",
       "⎢           2                                                   2            ⎥\n",
       "⎢                                                                            ⎥\n",
       "⎢                          e⋅r_{-1;32}⋅E²₀(t, R, Z)                          ⎥\n",
       "⎢           0              ────────────────────────       -δ₁⋅h̅ - δ₂⋅h̅     ⎥\n",
       "⎣                                     2                                      ⎦"
      ]
     },
     "execution_count": 55,
     "metadata": {},
     "output_type": "execute_result"
    }
   ],
   "source": [
    "delta1,delta2=symbols(\"delta1 delta2\",real=True)\n",
    "Htilde=Htilde.subs({phase[0]:-omega_level[0]*t}).doit()\n",
    "Htilde=Htilde.subs({omega_laser[0]:delta1+omega_level[1]-omega_level[0]})\n",
    "Htilde=Htilde.subs({omega_laser[1]:delta2+omega_level[2]-omega_level[1]})\n",
    "\n",
    "Htilde=Htilde.expand()\n",
    "\n",
    "fprint(Htilde, print_ascii=print_ascii)"
   ]
  },
  {
   "cell_type": "markdown",
   "metadata": {},
   "source": [
    "If we define the Rabi frequencies $\\Omega_1 =e E_0^1 r_{0;21}/\\hbar$ and $\\Omega_2 =e E_0^2 r_{0;32}/\\hbar$"
   ]
  },
  {
   "cell_type": "code",
   "execution_count": 56,
   "metadata": {
    "collapsed": false
   },
   "outputs": [
    {
     "data": {
      "image/png": "[encoded data removed]",
      "text/latex": [
       "$$\\left[\\begin{matrix}0 & \\frac{\\hbar}{2} \\overline{\\Omega_{1}{\\left (t,R,Z \\right )}} & 0\\\\\\frac{\\hbar}{2} \\Omega_{1}{\\left (t,R,Z \\right )} & - \\delta_{1} \\hbar & \\frac{\\hbar}{2} \\overline{\\Omega_{2}{\\left (t,R,Z \\right )}}\\\\0 & \\frac{\\hbar}{2} \\Omega_{2}{\\left (t,R,Z \\right )} & - \\delta_{1} \\hbar - \\delta_{2} \\hbar\\end{matrix}\\right]$$"
      ],
      "text/plain": [
       "⎡                   ___________                ⎤\n",
       "⎢                h̅⋅Ω₁(t, R, Z)                ⎥\n",
       "⎢      0         ──────────────        0       ⎥\n",
       "⎢                      2                       ⎥\n",
       "⎢                                              ⎥\n",
       "⎢                                   ___________⎥\n",
       "⎢h̅⋅Ω₁(t, R, Z)                  h̅⋅Ω₂(t, R, Z)⎥\n",
       "⎢──────────────      -δ₁⋅h̅      ──────────────⎥\n",
       "⎢      2                               2       ⎥\n",
       "⎢                                              ⎥\n",
       "⎢                h̅⋅Ω₂(t, R, Z)                ⎥\n",
       "⎢      0         ──────────────  -δ₁⋅h̅ - δ₂⋅h̅⎥\n",
       "⎣                      2                       ⎦"
      ]
     },
     "execution_count": 56,
     "metadata": {},
     "output_type": "execute_result"
    }
   ],
   "source": [
    "Omega1,Omega2=symbols(\"Omega1 Omega2\",real=True)\n",
    "Omega1,Omega2=symbols(\"Omega1 Omega2\")\n",
    "Omega1=Function(\"Omega1\")(t,R,Z)\n",
    "Omega2=Function(\"Omega2\")(t,R,Z)\n",
    "\n",
    "Htilde=Htilde.subs({E0[0]:Omega1*hbar/r[2][1,0]/e})\n",
    "Htilde=Htilde.subs({E0[1]:Omega2*hbar/r[0][2,1]/e})\n",
    "\n",
    "fprint(Htilde, print_ascii=print_ascii)"
   ]
  },
  {
   "cell_type": "markdown",
   "metadata": {},
   "source": [
    "# Optical Bloch Equations\n",
    "\n",
    "We define the density matrix."
   ]
  },
  {
   "cell_type": "code",
   "execution_count": 57,
   "metadata": {
    "collapsed": false
   },
   "outputs": [
    {
     "data": {
      "image/png": "[encoded data removed]",
      "text/latex": [
       "$$\\left[\\begin{matrix}\\rho_{11}{\\left (t,Z \\right )} & \\rho_{12}{\\left (t,Z \\right )} & \\rho_{13}{\\left (t,Z \\right )}\\\\\\rho_{21}{\\left (t,Z \\right )} & \\rho_{22}{\\left (t,Z \\right )} & \\rho_{23}{\\left (t,Z \\right )}\\\\\\rho_{31}{\\left (t,Z \\right )} & \\rho_{32}{\\left (t,Z \\right )} & \\rho_{33}{\\left (t,Z \\right )}\\end{matrix}\\right]$$"
      ],
      "text/plain": [
       "⎡ρ₁₁(t, Z)  ρ₁₂(t, Z)  ρ₁₃(t, Z)⎤\n",
       "⎢                               ⎥\n",
       "⎢ρ₂₁(t, Z)  ρ₂₂(t, Z)  ρ₂₃(t, Z)⎥\n",
       "⎢                               ⎥\n",
       "⎣ρ₃₁(t, Z)  ρ₃₂(t, Z)  ρ₃₃(t, Z)⎦"
      ]
     },
     "execution_count": 57,
     "metadata": {},
     "output_type": "execute_result"
    }
   ],
   "source": [
    "rho=define_density_matrix(Ne, variables=[t, Z])\n",
    "fprint( rho , print_ascii=print_ascii)"
   ]
  },
  {
   "cell_type": "markdown",
   "metadata": {},
   "source": [
    "The hamiltonian part of the equations is\n",
    "\\begin{equation}\n",
    "    \\dot{\\hat{\\rho}}=\\frac{i}{\\hbar}[\\hat{\\rho}, \\hat{\\tilde{H}}]\n",
    "\\end{equation}"
   ]
  },
  {
   "cell_type": "code",
   "execution_count": 58,
   "metadata": {
    "collapsed": false
   },
   "outputs": [
    {
     "data": {
      "image/png": "[encoded data removed]",
      "text/latex": [
       "$$\\left[\\begin{matrix}\\frac{i}{2} \\Omega_{1}{\\left (t,R,Z \\right )} \\rho_{12}{\\left (t,Z \\right )} - \\frac{i}{2} \\rho_{21}{\\left (t,Z \\right )} \\overline{\\Omega_{1}{\\left (t,R,Z \\right )}} & - i \\delta_{1} \\rho_{12}{\\left (t,Z \\right )} + \\frac{i}{2} \\Omega_{2}{\\left (t,R,Z \\right )} \\rho_{13}{\\left (t,Z \\right )} + \\frac{i}{2} \\rho_{11}{\\left (t,Z \\right )} \\overline{\\Omega_{1}{\\left (t,R,Z \\right )}} - \\frac{i}{2} \\rho_{22}{\\left (t,Z \\right )} \\overline{\\Omega_{1}{\\left (t,R,Z \\right )}} & - i \\delta_{1} \\rho_{13}{\\left (t,Z \\right )} - i \\delta_{2} \\rho_{13}{\\left (t,Z \\right )} + \\frac{i}{2} \\rho_{12}{\\left (t,Z \\right )} \\overline{\\Omega_{2}{\\left (t,R,Z \\right )}} - \\frac{i}{2} \\rho_{23}{\\left (t,Z \\right )} \\overline{\\Omega_{1}{\\left (t,R,Z \\right )}}\\\\i \\delta_{1} \\rho_{21}{\\left (t,Z \\right )} - \\frac{i}{2} \\Omega_{1}{\\left (t,R,Z \\right )} \\rho_{11}{\\left (t,Z \\right )} + \\frac{i}{2} \\Omega_{1}{\\left (t,R,Z \\right )} \\rho_{22}{\\left (t,Z \\right )} - \\frac{i}{2} \\rho_{31}{\\left (t,Z \\right )} \\overline{\\Omega_{2}{\\left (t,R,Z \\right )}} & - \\frac{i}{2} \\Omega_{1}{\\left (t,R,Z \\right )} \\rho_{12}{\\left (t,Z \\right )} + \\frac{i}{2} \\Omega_{2}{\\left (t,R,Z \\right )} \\rho_{23}{\\left (t,Z \\right )} + \\frac{i}{2} \\rho_{21}{\\left (t,Z \\right )} \\overline{\\Omega_{1}{\\left (t,R,Z \\right )}} - \\frac{i}{2} \\rho_{32}{\\left (t,Z \\right )} \\overline{\\Omega_{2}{\\left (t,R,Z \\right )}} & - i \\delta_{2} \\rho_{23}{\\left (t,Z \\right )} - \\frac{i}{2} \\Omega_{1}{\\left (t,R,Z \\right )} \\rho_{13}{\\left (t,Z \\right )} + \\frac{i}{2} \\rho_{22}{\\left (t,Z \\right )} \\overline{\\Omega_{2}{\\left (t,R,Z \\right )}} - \\frac{i}{2} \\rho_{33}{\\left (t,Z \\right )} \\overline{\\Omega_{2}{\\left (t,R,Z \\right )}}\\\\i \\delta_{1} \\rho_{31}{\\left (t,Z \\right )} + i \\delta_{2} \\rho_{31}{\\left (t,Z \\right )} + \\frac{i}{2} \\Omega_{1}{\\left (t,R,Z \\right )} \\rho_{32}{\\left (t,Z \\right )} - \\frac{i}{2} \\Omega_{2}{\\left (t,R,Z \\right )} \\rho_{21}{\\left (t,Z \\right )} & i \\delta_{2} \\rho_{32}{\\left (t,Z \\right )} - \\frac{i}{2} \\Omega_{2}{\\left (t,R,Z \\right )} \\rho_{22}{\\left (t,Z \\right )} + \\frac{i}{2} \\Omega_{2}{\\left (t,R,Z \\right )} \\rho_{33}{\\left (t,Z \\right )} + \\frac{i}{2} \\rho_{31}{\\left (t,Z \\right )} \\overline{\\Omega_{1}{\\left (t,R,Z \\right )}} & - \\frac{i}{2} \\Omega_{2}{\\left (t,R,Z \\right )} \\rho_{23}{\\left (t,Z \\right )} + \\frac{i}{2} \\rho_{32}{\\left (t,Z \\right )} \\overline{\\Omega_{2}{\\left (t,R,Z \\right )}}\\end{matrix}\\right]$$"
      ],
      "text/plain": [
       "⎡                                                           ___________       \n",
       "⎢                     ⅈ⋅Ω₁(t, R, Z)⋅ρ₁₂(t, Z)   ⅈ⋅ρ₂₁(t, Z)⋅Ω₁(t, R, Z)       \n",
       "⎢                     ─────────────────────── - ───────────────────────       \n",
       "⎢                                2                         2                  \n",
       "⎢                                                                             \n",
       "⎢                                                                             \n",
       "⎢                 ⅈ⋅Ω₁(t, R, Z)⋅ρ₁₁(t, Z)   ⅈ⋅Ω₁(t, R, Z)⋅ρ₂₂(t, Z)   ⅈ⋅ρ₃₁(t,\n",
       "⎢ⅈ⋅δ₁⋅ρ₂₁(t, Z) - ─────────────────────── + ─────────────────────── - ────────\n",
       "⎢                            2                         2                      \n",
       "⎢                                                                             \n",
       "⎢                                                                             \n",
       "⎢                                      ⅈ⋅Ω₁(t, R, Z)⋅ρ₃₂(t, Z)   ⅈ⋅Ω₂(t, R, Z)\n",
       "⎢    ⅈ⋅δ₁⋅ρ₃₁(t, Z) + ⅈ⋅δ₂⋅ρ₃₁(t, Z) + ─────────────────────── - ─────────────\n",
       "⎣                                                 2                         2 \n",
       "\n",
       "                                                                              \n",
       "                                        ⅈ⋅Ω₂(t, R, Z)⋅ρ₁₃(t, Z)   ⅈ⋅ρ₁₁(t, Z)⋅\n",
       "                      -ⅈ⋅δ₁⋅ρ₁₂(t, Z) + ─────────────────────── + ────────────\n",
       "                                                   2                         2\n",
       "                                                                              \n",
       "    ___________                                                               \n",
       " Z)⋅Ω₂(t, R, Z)    ⅈ⋅Ω₁(t, R, Z)⋅ρ₁₂(t, Z)   ⅈ⋅Ω₂(t, R, Z)⋅ρ₂₃(t, Z)   ⅈ⋅ρ₂₁(t\n",
       "───────────────  - ─────────────────────── + ─────────────────────── + ───────\n",
       "   2                          2                         2                     \n",
       "                                                                              \n",
       "                                                                              \n",
       "⋅ρ₂₁(t, Z)                             ⅈ⋅Ω₂(t, R, Z)⋅ρ₂₂(t, Z)   ⅈ⋅Ω₂(t, R, Z)\n",
       "──────────            ⅈ⋅δ₂⋅ρ₃₂(t, Z) - ─────────────────────── + ─────────────\n",
       "                                                  2                         2 \n",
       "\n",
       "___________               ___________                                         \n",
       "Ω₁(t, R, Z)   ⅈ⋅ρ₂₂(t, Z)⋅Ω₁(t, R, Z)                                         \n",
       "─────────── - ───────────────────────           -ⅈ⋅δ₁⋅ρ₁₃(t, Z) - ⅈ⋅δ₂⋅ρ₁₃(t, \n",
       "                         2                                                    \n",
       "                                                                              \n",
       "     ___________               ___________                                    \n",
       ", Z)⋅Ω₁(t, R, Z)   ⅈ⋅ρ₃₂(t, Z)⋅Ω₂(t, R, Z)                    ⅈ⋅Ω₁(t, R, Z)⋅ρ₁\n",
       "──────────────── - ───────────────────────  -ⅈ⋅δ₂⋅ρ₂₃(t, Z) - ────────────────\n",
       "    2                         2                                          2    \n",
       "                                                                              \n",
       "                         ___________                                          \n",
       "⋅ρ₃₃(t, Z)   ⅈ⋅ρ₃₁(t, Z)⋅Ω₁(t, R, Z)                               ⅈ⋅Ω₂(t, R, \n",
       "────────── + ───────────────────────                             - ───────────\n",
       "                        2                                                     \n",
       "\n",
       "                 ___________               ___________     ⎤\n",
       "     ⅈ⋅ρ₁₂(t, Z)⋅Ω₂(t, R, Z)   ⅈ⋅ρ₂₃(t, Z)⋅Ω₁(t, R, Z)     ⎥\n",
       "Z) + ─────────────────────── - ───────────────────────     ⎥\n",
       "                2                         2                ⎥\n",
       "                                                           ⎥\n",
       "                      ___________               ___________⎥\n",
       "₃(t, Z)   ⅈ⋅ρ₂₂(t, Z)⋅Ω₂(t, R, Z)   ⅈ⋅ρ₃₃(t, Z)⋅Ω₂(t, R, Z)⎥\n",
       "─────── + ─────────────────────── - ───────────────────────⎥\n",
       "                     2                         2           ⎥\n",
       "                                                           ⎥\n",
       "                           ___________                     ⎥\n",
       "Z)⋅ρ₂₃(t, Z)   ⅈ⋅ρ₃₂(t, Z)⋅Ω₂(t, R, Z)                     ⎥\n",
       "──────────── + ───────────────────────                     ⎥\n",
       "2                         2                                ⎦"
      ]
     },
     "execution_count": 58,
     "metadata": {},
     "output_type": "execute_result"
    }
   ],
   "source": [
    "hamiltonian_terms=(I/hbar*(rho*Htilde-Htilde*rho)).expand()\n",
    "fprint(hamiltonian_terms, print_ascii=print_ascii)"
   ]
  },
  {
   "cell_type": "markdown",
   "metadata": {},
   "source": [
    "There are two Lindblad operators, since there are two spontaneous decay channels."
   ]
  },
  {
   "cell_type": "code",
   "execution_count": 59,
   "metadata": {
    "collapsed": false
   },
   "outputs": [
    {
     "data": {
      "image/png": "[encoded data removed]",
      "text/latex": [
       "$$\\left[\\begin{matrix}\\gamma_{21} \\rho_{22}{\\left (t,Z \\right )} & - \\frac{\\gamma_{21}}{2} \\rho_{12}{\\left (t,Z \\right )} & - \\frac{\\gamma_{32}}{2} \\rho_{13}{\\left (t,Z \\right )}\\\\- \\frac{\\gamma_{21}}{2} \\rho_{21}{\\left (t,Z \\right )} & - \\gamma_{21} \\rho_{22}{\\left (t,Z \\right )} + \\gamma_{32} \\rho_{33}{\\left (t,Z \\right )} & - \\frac{\\gamma_{21}}{2} \\rho_{23}{\\left (t,Z \\right )} - \\frac{\\gamma_{32}}{2} \\rho_{23}{\\left (t,Z \\right )}\\\\- \\frac{\\gamma_{32}}{2} \\rho_{31}{\\left (t,Z \\right )} & - \\frac{\\gamma_{21}}{2} \\rho_{32}{\\left (t,Z \\right )} - \\frac{\\gamma_{32}}{2} \\rho_{32}{\\left (t,Z \\right )} & - \\gamma_{32} \\rho_{33}{\\left (t,Z \\right )}\\end{matrix}\\right]$$"
      ],
      "text/plain": [
       "⎡                         -γ₂₁⋅ρ₁₂(t, Z)                   -γ₃₂⋅ρ₁₃(t, Z)     \n",
       "⎢ γ₂₁⋅ρ₂₂(t, Z)           ───────────────                  ───────────────    \n",
       "⎢                                2                                2           \n",
       "⎢                                                                             \n",
       "⎢-γ₂₁⋅ρ₂₁(t, Z)                                      γ₂₁⋅ρ₂₃(t, Z)   γ₃₂⋅ρ₂₃(t\n",
       "⎢───────────────  -γ₂₁⋅ρ₂₂(t, Z) + γ₃₂⋅ρ₃₃(t, Z)   - ───────────── - ─────────\n",
       "⎢       2                                                  2               2  \n",
       "⎢                                                                             \n",
       "⎢-γ₃₂⋅ρ₃₁(t, Z)     γ₂₁⋅ρ₃₂(t, Z)   γ₃₂⋅ρ₃₂(t, Z)                             \n",
       "⎢───────────────  - ───────────── - ─────────────          -γ₃₂⋅ρ₃₃(t, Z)     \n",
       "⎣       2                 2               2                                   \n",
       "\n",
       "    ⎤\n",
       "    ⎥\n",
       "    ⎥\n",
       "    ⎥\n",
       ", Z)⎥\n",
       "────⎥\n",
       "    ⎥\n",
       "    ⎥\n",
       "    ⎥\n",
       "    ⎥\n",
       "    ⎦"
      ]
     },
     "execution_count": 59,
     "metadata": {},
     "output_type": "execute_result"
    }
   ],
   "source": [
    "lindblad_terms =gamma[1,0]*lindblad_operator(ket(1,Ne)*bra(2,Ne),rho)\n",
    "lindblad_terms+=gamma[2,1]*lindblad_operator(ket(2,Ne)*bra(3,Ne),rho)\n",
    "\n",
    "fprint(lindblad_terms, print_ascii=print_ascii)"
   ]
  },
  {
   "cell_type": "markdown",
   "metadata": {},
   "source": [
    "The Optical Bloch equations are thus."
   ]
  },
  {
   "cell_type": "code",
   "execution_count": 60,
   "metadata": {
    "collapsed": false
   },
   "outputs": [],
   "source": [
    "eqs=hamiltonian_terms + lindblad_terms"
   ]
  },
  {
   "cell_type": "code",
   "execution_count": 61,
   "metadata": {
    "collapsed": false
   },
   "outputs": [
    {
     "data": {
      "image/png": "[encoded data removed]",
      "text/latex": [
       "$$\\left[\\begin{matrix}\\frac{\\partial}{\\partial t} \\rho_{11}{\\left (t,Z \\right )} & = & \\gamma_{21} \\rho_{22}{\\left (t,Z \\right )} + \\frac{i}{2} \\Omega_{1}{\\left (t,R,Z \\right )} \\rho_{12}{\\left (t,Z \\right )} - \\frac{i}{2} \\rho_{21}{\\left (t,Z \\right )} \\overline{\\Omega_{1}{\\left (t,R,Z \\right )}}\\\\\\frac{\\partial}{\\partial t} \\rho_{22}{\\left (t,Z \\right )} & = & - \\gamma_{21} \\rho_{22}{\\left (t,Z \\right )} + \\gamma_{32} \\rho_{33}{\\left (t,Z \\right )} - \\frac{i}{2} \\Omega_{1}{\\left (t,R,Z \\right )} \\rho_{12}{\\left (t,Z \\right )} + \\frac{i}{2} \\Omega_{2}{\\left (t,R,Z \\right )} \\rho_{23}{\\left (t,Z \\right )} + \\frac{i}{2} \\rho_{21}{\\left (t,Z \\right )} \\overline{\\Omega_{1}{\\left (t,R,Z \\right )}} - \\frac{i}{2} \\rho_{32}{\\left (t,Z \\right )} \\overline{\\Omega_{2}{\\left (t,R,Z \\right )}}\\\\\\frac{\\partial}{\\partial t} \\rho_{33}{\\left (t,Z \\right )} & = & - \\gamma_{32} \\rho_{33}{\\left (t,Z \\right )} - \\frac{i}{2} \\Omega_{2}{\\left (t,R,Z \\right )} \\rho_{23}{\\left (t,Z \\right )} + \\frac{i}{2} \\rho_{32}{\\left (t,Z \\right )} \\overline{\\Omega_{2}{\\left (t,R,Z \\right )}}\\\\\\frac{\\partial}{\\partial t} \\rho_{21}{\\left (t,Z \\right )} & = & i \\delta_{1} \\rho_{21}{\\left (t,Z \\right )} - \\frac{\\gamma_{21}}{2} \\rho_{21}{\\left (t,Z \\right )} - \\frac{i}{2} \\Omega_{1}{\\left (t,R,Z \\right )} \\rho_{11}{\\left (t,Z \\right )} + \\frac{i}{2} \\Omega_{1}{\\left (t,R,Z \\right )} \\rho_{22}{\\left (t,Z \\right )} - \\frac{i}{2} \\rho_{31}{\\left (t,Z \\right )} \\overline{\\Omega_{2}{\\left (t,R,Z \\right )}}\\\\\\frac{\\partial}{\\partial t} \\rho_{31}{\\left (t,Z \\right )} & = & i \\delta_{1} \\rho_{31}{\\left (t,Z \\right )} + i \\delta_{2} \\rho_{31}{\\left (t,Z \\right )} - \\frac{\\gamma_{32}}{2} \\rho_{31}{\\left (t,Z \\right )} + \\frac{i}{2} \\Omega_{1}{\\left (t,R,Z \\right )} \\rho_{32}{\\left (t,Z \\right )} - \\frac{i}{2} \\Omega_{2}{\\left (t,R,Z \\right )} \\rho_{21}{\\left (t,Z \\right )}\\\\\\frac{\\partial}{\\partial t} \\rho_{32}{\\left (t,Z \\right )} & = & i \\delta_{2} \\rho_{32}{\\left (t,Z \\right )} - \\frac{\\gamma_{21}}{2} \\rho_{32}{\\left (t,Z \\right )} - \\frac{\\gamma_{32}}{2} \\rho_{32}{\\left (t,Z \\right )} - \\frac{i}{2} \\Omega_{2}{\\left (t,R,Z \\right )} \\rho_{22}{\\left (t,Z \\right )} + \\frac{i}{2} \\Omega_{2}{\\left (t,R,Z \\right )} \\rho_{33}{\\left (t,Z \\right )} + \\frac{i}{2} \\rho_{31}{\\left (t,Z \\right )} \\overline{\\Omega_{1}{\\left (t,R,Z \\right )}}\\end{matrix}\\right]$$"
      ],
      "text/plain": [
       "⎡                                                                             \n",
       "⎢∂                                                                   ⅈ⋅Ω₁(t, R\n",
       "⎢──(ρ₁₁(t, Z))  =                                    γ₂₁⋅ρ₂₂(t, Z) + ─────────\n",
       "⎢∂t                                                                           \n",
       "⎢                                                                             \n",
       "⎢                                                                             \n",
       "⎢∂                                                  ⅈ⋅Ω₁(t, R, Z)⋅ρ₁₂(t, Z)   \n",
       "⎢──(ρ₂₂(t, Z))  =  -γ₂₁⋅ρ₂₂(t, Z) + γ₃₂⋅ρ₃₃(t, Z) - ─────────────────────── + \n",
       "⎢∂t                                                            2              \n",
       "⎢                                                                             \n",
       "⎢                                                                             \n",
       "⎢∂                                                                    ⅈ⋅Ω₂(t, \n",
       "⎢──(ρ₃₃(t, Z))  =                                    -γ₃₂⋅ρ₃₃(t, Z) - ────────\n",
       "⎢∂t                                                                           \n",
       "⎢                                                                             \n",
       "⎢                                                                             \n",
       "⎢∂                                               γ₂₁⋅ρ₂₁(t, Z)   ⅈ⋅Ω₁(t, R, Z)\n",
       "⎢──(ρ₂₁(t, Z))  =               ⅈ⋅δ₁⋅ρ₂₁(t, Z) - ───────────── - ─────────────\n",
       "⎢∂t                                                    2                    2 \n",
       "⎢                                                                             \n",
       "⎢∂                                                                    γ₃₂⋅ρ₃₁(\n",
       "⎢──(ρ₃₁(t, Z))  =                   ⅈ⋅δ₁⋅ρ₃₁(t, Z) + ⅈ⋅δ₂⋅ρ₃₁(t, Z) - ────────\n",
       "⎢∂t                                                                         2 \n",
       "⎢                                                                             \n",
       "⎢                                                                             \n",
       "⎢∂                                       γ₂₁⋅ρ₃₂(t, Z)   γ₃₂⋅ρ₃₂(t, Z)   ⅈ⋅Ω₂(\n",
       "⎢──(ρ₃₂(t, Z))  =       ⅈ⋅δ₂⋅ρ₃₂(t, Z) - ───────────── - ───────────── - ─────\n",
       "⎣∂t                                            2               2              \n",
       "\n",
       "                             ___________                                   ⎤\n",
       ", Z)⋅ρ₁₂(t, Z)   ⅈ⋅ρ₂₁(t, Z)⋅Ω₁(t, R, Z)                                   ⎥\n",
       "────────────── - ───────────────────────                                   ⎥\n",
       "  2                         2                                              ⎥\n",
       "                                                                           ⎥\n",
       "                                      ___________               ___________⎥\n",
       "ⅈ⋅Ω₂(t, R, Z)⋅ρ₂₃(t, Z)   ⅈ⋅ρ₂₁(t, Z)⋅Ω₁(t, R, Z)   ⅈ⋅ρ₃₂(t, Z)⋅Ω₂(t, R, Z)⎥\n",
       "─────────────────────── + ─────────────────────── - ───────────────────────⎥\n",
       "           2                         2                         2           ⎥\n",
       "                                                                           ⎥\n",
       "                              ___________                                  ⎥\n",
       "R, Z)⋅ρ₂₃(t, Z)   ⅈ⋅ρ₃₂(t, Z)⋅Ω₂(t, R, Z)                                  ⎥\n",
       "─────────────── + ───────────────────────                                  ⎥\n",
       "   2                         2                                             ⎥\n",
       "                                                                           ⎥\n",
       "                                                   ___________             ⎥\n",
       "⋅ρ₁₁(t, Z)   ⅈ⋅Ω₁(t, R, Z)⋅ρ₂₂(t, Z)   ⅈ⋅ρ₃₁(t, Z)⋅Ω₂(t, R, Z)             ⎥\n",
       "────────── + ─────────────────────── - ───────────────────────             ⎥\n",
       "                        2                         2                        ⎥\n",
       "                                                                           ⎥\n",
       "t, Z)   ⅈ⋅Ω₁(t, R, Z)⋅ρ₃₂(t, Z)   ⅈ⋅Ω₂(t, R, Z)⋅ρ₂₁(t, Z)                  ⎥\n",
       "───── + ─────────────────────── - ───────────────────────                  ⎥\n",
       "                   2                         2                             ⎥\n",
       "                                                                           ⎥\n",
       "                                                           ___________     ⎥\n",
       "t, R, Z)⋅ρ₂₂(t, Z)   ⅈ⋅Ω₂(t, R, Z)⋅ρ₃₃(t, Z)   ⅈ⋅ρ₃₁(t, Z)⋅Ω₁(t, R, Z)     ⎥\n",
       "────────────────── + ─────────────────────── + ───────────────────────     ⎥\n",
       "      2                         2                         2                ⎦"
      ]
     },
     "execution_count": 61,
     "metadata": {},
     "output_type": "execute_result"
    }
   ],
   "source": [
    "eqsign=symbols(\"=\")\n",
    "eqs_list=[]\n",
    "for mu in range(0,Ne**2-1 -(Ne**2 - Ne)/2+1):\n",
    "    ii,jj,s=IJ(mu,Ne)\n",
    "    i=ii-1; j=jj-1\n",
    "    eqs_list+=[[Derivative(rho[i,j],t),eqsign,eqs[i,j]]]\n",
    "eqs_list=Matrix(eqs_list)\n",
    "fprint(eqs_list, print_ascii=print_ascii)"
   ]
  },
  {
   "cell_type": "markdown",
   "metadata": {},
   "source": [
    "# Wave equation\n",
    "\n",
    "From Maxwell's equations in a dielectric medium it can be shown that in the abscence of bound charges, and magnetization currents, the electric field and the polazation of the medium follow the inhomogeneous wave equation.\n",
    "\n",
    "\\begin{equation}\n",
    "    \\nabla^2 \\vec{E} - \\frac{1}{c^2} \\partial^2_t \\vec{E}= \\mu_0 \\partial_t^2 \\vec{P}\n",
    "\\end{equation}\n",
    "\n",
    "We have also taken our fields to be of the form\n",
    "\n",
    "\\begin{equation}\n",
    "    \\vec{E}(t,\\vec{R})=\\vec{E}^{+}+\\vec{E}^{-}=\\frac{1}{2} \\sum_l \\vec{E}^{l(+)}(t,\\vec{R}) e^{i(\\vec{k}^l \\cdot \\vec{R} -\\omega^l t)} +c.c.\n",
    "\\end{equation}\n",
    "\n",
    "The $(+)$ part of the field is explicitly"
   ]
  },
  {
   "cell_type": "code",
   "execution_count": 62,
   "metadata": {
    "collapsed": false
   },
   "outputs": [
    {
     "data": {
      "image/png": "[encoded data removed]",
      "text/latex": [
       "$$\\left [ \\left[\\begin{matrix}- \\frac{\\sqrt{2}}{4} \\operatorname{E^{1}_{0}}{\\left (t,R,Z \\right )} e^{- i \\varpi_{1} \\left(- \\frac{Z}{c} + t\\right)}\\\\- \\frac{\\sqrt{2} i}{4} \\operatorname{E^{1}_{0}}{\\left (t,R,Z \\right )} e^{- i \\varpi_{1} \\left(- \\frac{Z}{c} + t\\right)}\\\\0\\end{matrix}\\right], \\quad \\left[\\begin{matrix}\\frac{\\sqrt{2}}{4} \\operatorname{E^{2}_{0}}{\\left (t,R,Z \\right )} e^{- i \\varpi_{2} \\left(\\frac{Z}{c} + t\\right)}\\\\- \\frac{\\sqrt{2} i}{4} \\operatorname{E^{2}_{0}}{\\left (t,R,Z \\right )} e^{- i \\varpi_{2} \\left(\\frac{Z}{c} + t\\right)}\\\\0\\end{matrix}\\right]\\right ]$$"
      ],
      "text/plain": [
       "⎡⎡                             ⎛  Z    ⎞  ⎤  ⎡                             ⎛Z \n",
       "⎢⎢                   -ⅈ⋅varpi₁⋅⎜- ─ + t⎟  ⎥  ⎢                   -ⅈ⋅varpi₂⋅⎜─ \n",
       "⎢⎢                             ⎝  c    ⎠  ⎥  ⎢                             ⎝c \n",
       "⎢⎢ -√2⋅E¹₀(t, R, Z)⋅ℯ                     ⎥  ⎢  √2⋅E²₀(t, R, Z)⋅ℯ             \n",
       "⎢⎢ ────────────────────────────────────── ⎥, ⎢  ──────────────────────────────\n",
       "⎢⎢                   4                    ⎥  ⎢                  4             \n",
       "⎢⎢                                        ⎥  ⎢                                \n",
       "⎢⎢                              ⎛  Z    ⎞ ⎥  ⎢                              ⎛Z\n",
       "⎢⎢                    -ⅈ⋅varpi₁⋅⎜- ─ + t⎟ ⎥  ⎢                    -ⅈ⋅varpi₂⋅⎜─\n",
       "⎢⎢                              ⎝  c    ⎠ ⎥  ⎢                              ⎝c\n",
       "⎢⎢-√2⋅ⅈ⋅E¹₀(t, R, Z)⋅ℯ                    ⎥  ⎢-√2⋅ⅈ⋅E²₀(t, R, Z)⋅ℯ            \n",
       "⎢⎢────────────────────────────────────────⎥  ⎢────────────────────────────────\n",
       "⎢⎢                   4                    ⎥  ⎢                  4             \n",
       "⎢⎢                                        ⎥  ⎢                                \n",
       "⎣⎣                   0                    ⎦  ⎣                  0             \n",
       "\n",
       "   ⎞  ⎤⎤\n",
       "+ t⎟  ⎥⎥\n",
       "   ⎠  ⎥⎥\n",
       "      ⎥⎥\n",
       "────  ⎥⎥\n",
       "      ⎥⎥\n",
       "      ⎥⎥\n",
       "    ⎞ ⎥⎥\n",
       " + t⎟ ⎥⎥\n",
       "    ⎠ ⎥⎥\n",
       "      ⎥⎥\n",
       "──────⎥⎥\n",
       "      ⎥⎥\n",
       "      ⎥⎥\n",
       "      ⎦⎦"
      ]
     },
     "execution_count": 62,
     "metadata": {},
     "output_type": "execute_result"
    }
   ],
   "source": [
    "E_cartesian_p"
   ]
  },
  {
   "cell_type": "markdown",
   "metadata": {},
   "source": [
    "introducing this into the wave equation we get"
   ]
  },
  {
   "cell_type": "code",
   "execution_count": 63,
   "metadata": {
    "collapsed": true
   },
   "outputs": [],
   "source": [
    "def laplacian_cylindric(scalar,coords,full=False):\n",
    "    R,Phi,Z=coords\n",
    "    return Derivative(scalar,Z,2).doit()\n",
    "\n",
    "def laplacian_vec_cylindric(vector,coords,full=False):\n",
    "    return Matrix([ laplacian_cylindric(vi,coords,full=full) for vi in vector])"
   ]
  },
  {
   "cell_type": "code",
   "execution_count": 64,
   "metadata": {
    "collapsed": false
   },
   "outputs": [
    {
     "data": {
      "image/png": "[encoded data removed]",
      "text/latex": [
       "$$\\left[\\begin{matrix}- \\frac{\\sqrt{2}}{4} \\operatorname{E^{1}_{0}}{\\left (t,R,Z \\right )} e^{- i \\varpi_{1} \\left(- \\frac{Z}{c} + t\\right)} + \\frac{\\sqrt{2}}{4} \\operatorname{E^{2}_{0}}{\\left (t,R,Z \\right )} e^{- i \\varpi_{2} \\left(\\frac{Z}{c} + t\\right)}\\\\- \\frac{\\sqrt{2} i}{4} \\operatorname{E^{1}_{0}}{\\left (t,R,Z \\right )} e^{- i \\varpi_{1} \\left(- \\frac{Z}{c} + t\\right)} - \\frac{\\sqrt{2} i}{4} \\operatorname{E^{2}_{0}}{\\left (t,R,Z \\right )} e^{- i \\varpi_{2} \\left(\\frac{Z}{c} + t\\right)}\\\\0\\end{matrix}\\right]$$"
      ],
      "text/plain": [
       "⎡                               ⎛  Z    ⎞                              ⎛Z    ⎞\n",
       "⎢                     -ⅈ⋅varpi₁⋅⎜- ─ + t⎟                    -ⅈ⋅varpi₂⋅⎜─ + t⎟\n",
       "⎢                               ⎝  c    ⎠                              ⎝c    ⎠\n",
       "⎢    √2⋅E¹₀(t, R, Z)⋅ℯ                      √2⋅E²₀(t, R, Z)⋅ℯ                 \n",
       "⎢  - ──────────────────────────────────── + ──────────────────────────────────\n",
       "⎢                     4                                     4                 \n",
       "⎢                                                                             \n",
       "⎢                               ⎛  Z    ⎞                                ⎛Z   \n",
       "⎢                     -ⅈ⋅varpi₁⋅⎜- ─ + t⎟                      -ⅈ⋅varpi₂⋅⎜─ + \n",
       "⎢                               ⎝  c    ⎠                                ⎝c   \n",
       "⎢  √2⋅ⅈ⋅E¹₀(t, R, Z)⋅ℯ                      √2⋅ⅈ⋅E²₀(t, R, Z)⋅ℯ               \n",
       "⎢- ────────────────────────────────────── - ──────────────────────────────────\n",
       "⎢                    4                                       4                \n",
       "⎢                                                                             \n",
       "⎣                                       0                                     \n",
       "\n",
       "  ⎤\n",
       "  ⎥\n",
       "  ⎥\n",
       "  ⎥\n",
       "  ⎥\n",
       "  ⎥\n",
       "  ⎥\n",
       " ⎞⎥\n",
       "t⎟⎥\n",
       " ⎠⎥\n",
       "  ⎥\n",
       "──⎥\n",
       "  ⎥\n",
       "  ⎥\n",
       "  ⎦"
      ]
     },
     "execution_count": 64,
     "metadata": {},
     "output_type": "execute_result"
    }
   ],
   "source": [
    "E_cartesian_p_tot=sum([E_cartesian_p[l] for l in range(Nl)], zero_vect)\n",
    "E_cartesian_p_tot"
   ]
  },
  {
   "cell_type": "code",
   "execution_count": 65,
   "metadata": {
    "collapsed": false
   },
   "outputs": [],
   "source": [
    "term1=laplacian_vec_cylindric(E_cartesian_p_tot,[R,Phi,Z]) \n",
    "term2=-1/c**2*Matrix([Derivative(vi,t,2).doit() for vi in E_cartesian_p_tot])\n",
    "lhs=term1+term2\n",
    "#pprint(lhs,num_columns=150)"
   ]
  },
  {
   "cell_type": "markdown",
   "metadata": {},
   "source": [
    "And if we consider the amplitudes as slowly varying envelopes (both in time and space) we can approximate them as"
   ]
  },
  {
   "cell_type": "code",
   "execution_count": 66,
   "metadata": {
    "collapsed": false
   },
   "outputs": [
    {
     "data": {
      "image/png": "[encoded data removed]",
      "text/latex": [
       "$$\\left \\{ \\frac{\\partial^{2}}{\\partial Z^{2}}  \\operatorname{E^{1}_{0}}{\\left (t,R,Z \\right )} : 0, \\quad \\frac{\\partial^{2}}{\\partial t^{2}}  \\operatorname{E^{1}_{0}}{\\left (t,R,Z \\right )} : 0, \\quad \\frac{\\partial^{2}}{\\partial Z^{2}}  \\operatorname{E^{2}_{0}}{\\left (t,R,Z \\right )} : 0, \\quad \\frac{\\partial^{2}}{\\partial t^{2}}  \\operatorname{E^{2}_{0}}{\\left (t,R,Z \\right )} : 0\\right \\}$$"
      ],
      "text/plain": [
       "⎧  2                     2                     2                     2        \n",
       "⎪ ∂                     ∂                     ∂                     ∂         \n",
       "⎨───(E¹₀(t, R, Z)): 0, ───(E¹₀(t, R, Z)): 0, ───(E²₀(t, R, Z)): 0, ───(E²₀(t, \n",
       "⎪  2                     2                     2                     2        \n",
       "⎩∂Z                    ∂t                    ∂Z                    ∂t         \n",
       "\n",
       "         ⎫\n",
       "         ⎪\n",
       "R, Z)): 0⎬\n",
       "         ⎪\n",
       "         ⎭"
      ]
     },
     "execution_count": 66,
     "metadata": {},
     "output_type": "execute_result"
    }
   ],
   "source": [
    "svea_subs={Derivative(E0[0],Z,2):0,Derivative(E0[1],Z,2):0,\n",
    "           Derivative(E0[0],t,2):0,Derivative(E0[1],t,2):0}\n",
    "svea_subs"
   ]
  },
  {
   "cell_type": "code",
   "execution_count": 67,
   "metadata": {
    "collapsed": false
   },
   "outputs": [
    {
     "data": {
      "image/png": "[encoded data removed]",
      "text/latex": [
       "$$\\left[\\begin{matrix}- \\frac{\\sqrt{2} i}{2 c^{2}} \\left(c \\varpi_{1} e^{i \\left(\\frac{Z \\varpi_{1}}{c} + \\frac{Z \\varpi_{2}}{c} + t \\varpi_{2}\\right)} \\frac{\\partial}{\\partial Z} \\operatorname{E^{1}_{0}}{\\left (t,R,Z \\right )} + c \\varpi_{2} e^{i t \\varpi_{1}} \\frac{\\partial}{\\partial Z} \\operatorname{E^{2}_{0}}{\\left (t,R,Z \\right )} + \\varpi_{1} e^{i \\left(\\frac{Z \\varpi_{1}}{c} + \\frac{Z \\varpi_{2}}{c} + t \\varpi_{2}\\right)} \\frac{\\partial}{\\partial t} \\operatorname{E^{1}_{0}}{\\left (t,R,Z \\right )} - \\varpi_{2} e^{i t \\varpi_{1}} \\frac{\\partial}{\\partial t} \\operatorname{E^{2}_{0}}{\\left (t,R,Z \\right )}\\right) e^{- i \\left(\\frac{Z \\varpi_{2}}{c} + t \\varpi_{1} + t \\varpi_{2}\\right)}\\\\\\frac{\\sqrt{2}}{2 c^{2}} \\left(c \\varpi_{1} e^{i \\left(\\frac{Z \\varpi_{1}}{c} + \\frac{Z \\varpi_{2}}{c} + t \\varpi_{2}\\right)} \\frac{\\partial}{\\partial Z} \\operatorname{E^{1}_{0}}{\\left (t,R,Z \\right )} - c \\varpi_{2} e^{i t \\varpi_{1}} \\frac{\\partial}{\\partial Z} \\operatorname{E^{2}_{0}}{\\left (t,R,Z \\right )} + \\varpi_{1} e^{i \\left(\\frac{Z \\varpi_{1}}{c} + \\frac{Z \\varpi_{2}}{c} + t \\varpi_{2}\\right)} \\frac{\\partial}{\\partial t} \\operatorname{E^{1}_{0}}{\\left (t,R,Z \\right )} + \\varpi_{2} e^{i t \\varpi_{1}} \\frac{\\partial}{\\partial t} \\operatorname{E^{2}_{0}}{\\left (t,R,Z \\right )}\\right) e^{- i \\left(\\frac{Z \\varpi_{2}}{c} + t \\varpi_{1} + t \\varpi_{2}\\right)}\\\\0\\end{matrix}\\right]$$"
      ],
      "text/plain": [
       "⎡      ⎛            ⎛Z⋅varpi₁   Z⋅varpi₂           ⎞                          \n",
       "⎢      ⎜          ⅈ⋅⎜──────── + ──────── + t⋅varpi₂⎟                          \n",
       "⎢      ⎜            ⎝   c          c               ⎠ ∂                        \n",
       "⎢-√2⋅ⅈ⋅⎜c⋅varpi₁⋅ℯ                                  ⋅──(E¹₀(t, R, Z)) + c⋅varp\n",
       "⎢      ⎝                                             ∂Z                       \n",
       "⎢─────────────────────────────────────────────────────────────────────────────\n",
       "⎢                                                                             \n",
       "⎢                                                                             \n",
       "⎢                                                                             \n",
       "⎢     ⎛            ⎛Z⋅varpi₁   Z⋅varpi₂           ⎞                           \n",
       "⎢     ⎜          ⅈ⋅⎜──────── + ──────── + t⋅varpi₂⎟                           \n",
       "⎢     ⎜            ⎝   c          c               ⎠ ∂                         \n",
       "⎢  √2⋅⎜c⋅varpi₁⋅ℯ                                  ⋅──(E¹₀(t, R, Z)) - c⋅varpi\n",
       "⎢     ⎝                                             ∂Z                        \n",
       "⎢  ───────────────────────────────────────────────────────────────────────────\n",
       "⎢                                                                             \n",
       "⎢                                                                             \n",
       "⎢                                                                             \n",
       "⎣                                                                             \n",
       "\n",
       "                                            ⎛Z⋅varpi₁   Z⋅varpi₂           ⎞  \n",
       "                                          ⅈ⋅⎜──────── + ──────── + t⋅varpi₂⎟  \n",
       "    ⅈ⋅t⋅varpi₁ ∂                            ⎝   c          c               ⎠ ∂\n",
       "i₂⋅ℯ          ⋅──(E²₀(t, R, Z)) + varpi₁⋅ℯ                                  ⋅─\n",
       "               ∂Z                                                            ∂\n",
       "──────────────────────────────────────────────────────────────────────────────\n",
       "                                                2                             \n",
       "                                             2⋅c                              \n",
       "                                                                              \n",
       "                                           ⎛Z⋅varpi₁   Z⋅varpi₂           ⎞   \n",
       "                                         ⅈ⋅⎜──────── + ──────── + t⋅varpi₂⎟   \n",
       "   ⅈ⋅t⋅varpi₁ ∂                            ⎝   c          c               ⎠ ∂ \n",
       "₂⋅ℯ          ⋅──(E²₀(t, R, Z)) + varpi₁⋅ℯ                                  ⋅──\n",
       "              ∂Z                                                            ∂t\n",
       "──────────────────────────────────────────────────────────────────────────────\n",
       "                                                2                             \n",
       "                                             2⋅c                              \n",
       "                                                                              \n",
       "                                              0                               \n",
       "\n",
       "                                                     ⎞     ⎛Z⋅varpi₂          \n",
       "                                                     ⎟  -ⅈ⋅⎜──────── + t⋅varpi\n",
       "                          ⅈ⋅t⋅varpi₁ ∂               ⎟     ⎝   c              \n",
       "─(E¹₀(t, R, Z)) - varpi₂⋅ℯ          ⋅──(E²₀(t, R, Z))⎟⋅ℯ                      \n",
       "t                                    ∂t              ⎠                        \n",
       "──────────────────────────────────────────────────────────────────────────────\n",
       "                                                                              \n",
       "                                                                              \n",
       "                                                                              \n",
       "                                                    ⎞     ⎛Z⋅varpi₂           \n",
       "                                                    ⎟  -ⅈ⋅⎜──────── + t⋅varpi₁\n",
       "                         ⅈ⋅t⋅varpi₁ ∂               ⎟     ⎝   c               \n",
       "(E¹₀(t, R, Z)) + varpi₂⋅ℯ          ⋅──(E²₀(t, R, Z))⎟⋅ℯ                       \n",
       "                                    ∂t              ⎠                         \n",
       "──────────────────────────────────────────────────────────────────────────────\n",
       "                                                                              \n",
       "                                                                              \n",
       "                                                                              \n",
       "                                                                              \n",
       "\n",
       "            ⎞ ⎤\n",
       "₁ + t⋅varpi₂⎟ ⎥\n",
       "            ⎠ ⎥\n",
       "              ⎥\n",
       "              ⎥\n",
       "──────────────⎥\n",
       "              ⎥\n",
       "              ⎥\n",
       "              ⎥\n",
       "           ⎞  ⎥\n",
       " + t⋅varpi₂⎟  ⎥\n",
       "           ⎠  ⎥\n",
       "              ⎥\n",
       "              ⎥\n",
       "────────────  ⎥\n",
       "              ⎥\n",
       "              ⎥\n",
       "              ⎥\n",
       "              ⎦"
      ]
     },
     "execution_count": 67,
     "metadata": {},
     "output_type": "execute_result"
    }
   ],
   "source": [
    "lhs=lhs.subs(svea_subs)\n",
    "lhs.simplify()\n",
    "lhs"
   ]
  },
  {
   "cell_type": "markdown",
   "metadata": {},
   "source": [
    "On the other hand, we may approximate the macroscopic polarization of the atoms as varying only at the frequencies of the electric field components and at the same polarizations:\n",
    "\n",
    "\\begin{equation}\n",
    "    \\vec{P}=\\frac{1}{2}\\sum_l \\vec{P}^{l(+)} e^{i(\\vec{k}^l \\cdot \\vec{R} -\\omega^l t)} +c.c.\n",
    "\\end{equation}\n"
   ]
  },
  {
   "cell_type": "code",
   "execution_count": 68,
   "metadata": {
    "collapsed": false
   },
   "outputs": [
    {
     "data": {
      "image/png": "[encoded data removed]",
      "text/latex": [
       "$$\\left [ \\operatorname{P^{1}_{0}}{\\left (t,R,Z \\right )}, \\quad \\operatorname{P^{2}_{0}}{\\left (t,R,Z \\right )}\\right ]$$"
      ],
      "text/plain": [
       "[P¹₀(t, R, Z), P²₀(t, R, Z)]"
      ]
     },
     "execution_count": 68,
     "metadata": {},
     "output_type": "execute_result"
    }
   ],
   "source": [
    "P0=[Function(\"P_0^1\")(t,R,Z), Function(\"P_0^2\")(t,R,Z)]\n",
    "P0"
   ]
  },
  {
   "cell_type": "code",
   "execution_count": 69,
   "metadata": {
    "collapsed": false
   },
   "outputs": [
    {
     "data": {
      "image/png": "[encoded data removed]",
      "text/latex": [
       "$$\\left [ \\left[\\begin{matrix}- \\frac{\\sqrt{2}}{4} \\operatorname{P^{1}_{0}}{\\left (t,R,Z \\right )} e^{- i \\varpi_{1} \\left(- \\frac{Z}{c} + t\\right)}\\\\- \\frac{\\sqrt{2} i}{4} \\operatorname{P^{1}_{0}}{\\left (t,R,Z \\right )} e^{- i \\varpi_{1} \\left(- \\frac{Z}{c} + t\\right)}\\\\0\\end{matrix}\\right], \\quad \\left[\\begin{matrix}\\frac{\\sqrt{2}}{4} \\operatorname{P^{2}_{0}}{\\left (t,R,Z \\right )} e^{- i \\varpi_{2} \\left(\\frac{Z}{c} + t\\right)}\\\\- \\frac{\\sqrt{2} i}{4} \\operatorname{P^{2}_{0}}{\\left (t,R,Z \\right )} e^{- i \\varpi_{2} \\left(\\frac{Z}{c} + t\\right)}\\\\0\\end{matrix}\\right]\\right ]$$"
      ],
      "text/plain": [
       "⎡⎡                             ⎛  Z    ⎞  ⎤  ⎡                             ⎛Z \n",
       "⎢⎢                   -ⅈ⋅varpi₁⋅⎜- ─ + t⎟  ⎥  ⎢                   -ⅈ⋅varpi₂⋅⎜─ \n",
       "⎢⎢                             ⎝  c    ⎠  ⎥  ⎢                             ⎝c \n",
       "⎢⎢ -√2⋅P¹₀(t, R, Z)⋅ℯ                     ⎥  ⎢  √2⋅P²₀(t, R, Z)⋅ℯ             \n",
       "⎢⎢ ────────────────────────────────────── ⎥, ⎢  ──────────────────────────────\n",
       "⎢⎢                   4                    ⎥  ⎢                  4             \n",
       "⎢⎢                                        ⎥  ⎢                                \n",
       "⎢⎢                              ⎛  Z    ⎞ ⎥  ⎢                              ⎛Z\n",
       "⎢⎢                    -ⅈ⋅varpi₁⋅⎜- ─ + t⎟ ⎥  ⎢                    -ⅈ⋅varpi₂⋅⎜─\n",
       "⎢⎢                              ⎝  c    ⎠ ⎥  ⎢                              ⎝c\n",
       "⎢⎢-√2⋅ⅈ⋅P¹₀(t, R, Z)⋅ℯ                    ⎥  ⎢-√2⋅ⅈ⋅P²₀(t, R, Z)⋅ℯ            \n",
       "⎢⎢────────────────────────────────────────⎥  ⎢────────────────────────────────\n",
       "⎢⎢                   4                    ⎥  ⎢                  4             \n",
       "⎢⎢                                        ⎥  ⎢                                \n",
       "⎣⎣                   0                    ⎦  ⎣                  0             \n",
       "\n",
       "   ⎞  ⎤⎤\n",
       "+ t⎟  ⎥⎥\n",
       "   ⎠  ⎥⎥\n",
       "      ⎥⎥\n",
       "────  ⎥⎥\n",
       "      ⎥⎥\n",
       "      ⎥⎥\n",
       "    ⎞ ⎥⎥\n",
       " + t⎟ ⎥⎥\n",
       "    ⎠ ⎥⎥\n",
       "      ⎥⎥\n",
       "──────⎥⎥\n",
       "      ⎥⎥\n",
       "      ⎥⎥\n",
       "      ⎦⎦"
      ]
     },
     "execution_count": 69,
     "metadata": {},
     "output_type": "execute_result"
    }
   ],
   "source": [
    "P_cartesian_p=[P0[l]/2            *ep[l]*exp(-I*omega_laser[l]*(t-k[l].dot(RR)/c)) for l in range(Nl)]\n",
    "P_cartesian_m=[P0[l].conjugate()/2*em[l]*exp(I*omega_laser[l]*(t-k[l].dot(RR)/c)) for l in range(Nl)]\n",
    "\n",
    "P_cartesian_p_tot=sum(P_cartesian_p, zero_vect)\n",
    "\n",
    "P_cartesian_p"
   ]
  },
  {
   "cell_type": "markdown",
   "metadata": {},
   "source": [
    "The right-hand side of the wave equation"
   ]
  },
  {
   "cell_type": "code",
   "execution_count": 70,
   "metadata": {
    "collapsed": false
   },
   "outputs": [],
   "source": [
    "rhs=mu0*Matrix([Derivative(vi,t,2).doit() for vi in P_cartesian_p_tot])\n",
    "#pprint(rhs)"
   ]
  },
  {
   "cell_type": "markdown",
   "metadata": {},
   "source": [
    "And in another slowly varying approximation, the terms with $(\\omega^1)^2$ are much larger than those with derivatives of the amplitudes."
   ]
  },
  {
   "cell_type": "code",
   "execution_count": 71,
   "metadata": {
    "collapsed": false
   },
   "outputs": [
    {
     "data": {
      "image/png": "[encoded data removed]",
      "text/latex": [
       "$$\\left \\{ \\frac{\\partial}{\\partial t} \\operatorname{P^{1}_{0}}{\\left (t,R,Z \\right )} : 0, \\quad \\frac{\\partial}{\\partial t} \\operatorname{P^{2}_{0}}{\\left (t,R,Z \\right )} : 0, \\quad \\frac{\\partial^{2}}{\\partial t^{2}}  \\operatorname{P^{1}_{0}}{\\left (t,R,Z \\right )} : 0, \\quad \\frac{\\partial^{2}}{\\partial t^{2}}  \\operatorname{P^{2}_{0}}{\\left (t,R,Z \\right )} : 0\\right \\}$$"
      ],
      "text/plain": [
       "⎧                                            2                     2          \n",
       "⎪∂                    ∂                     ∂                     ∂           \n",
       "⎨──(P¹₀(t, R, Z)): 0, ──(P²₀(t, R, Z)): 0, ───(P¹₀(t, R, Z)): 0, ───(P²₀(t, R,\n",
       "⎪∂t                   ∂t                     2                     2          \n",
       "⎩                                          ∂t                    ∂t           \n",
       "\n",
       "       ⎫\n",
       "       ⎪\n",
       " Z)): 0⎬\n",
       "       ⎪\n",
       "       ⎭"
      ]
     },
     "execution_count": 71,
     "metadata": {},
     "output_type": "execute_result"
    }
   ],
   "source": [
    "svea_subs2={Derivative(P0[0],t,1):0, Derivative(P0[1],t,1):0,\n",
    "            Derivative(P0[0],t,2):0, Derivative(P0[1],t,2):0}\n",
    "svea_subs2"
   ]
  },
  {
   "cell_type": "code",
   "execution_count": 72,
   "metadata": {
    "collapsed": false
   },
   "outputs": [],
   "source": [
    "rhs=rhs.subs(svea_subs2)\n",
    "#pprint(rhs)"
   ]
  },
  {
   "cell_type": "code",
   "execution_count": 73,
   "metadata": {
    "collapsed": false
   },
   "outputs": [],
   "source": [
    "eqs_wave=lhs-rhs\n",
    "#pprint(eqs_wave)"
   ]
  },
  {
   "cell_type": "markdown",
   "metadata": {},
   "source": [
    "These are three scalar equations each of which has coupled terms varying at high frequencies $\\omega^l$. However, these frequencies can be decoupled if the polarization of the beams are orthogonal (as they are in our case). Taking a dot product with the polarizations we obtain one equation for each frequency component."
   ]
  },
  {
   "cell_type": "code",
   "execution_count": 74,
   "metadata": {
    "collapsed": false
   },
   "outputs": [
    {
     "data": {
      "image/png": "[encoded data removed]",
      "text/latex": [
       "$$\\left ( c \\frac{\\partial}{\\partial Z} \\operatorname{E^{1}_{0}}{\\left (t,R,Z \\right )} + \\frac{\\partial}{\\partial t} \\operatorname{E^{1}_{0}}{\\left (t,R,Z \\right )}, \\quad \\frac{i \\mu_{0}}{2} c^{2} \\varpi_{1} \\operatorname{P^{1}_{0}}{\\left (t,R,Z \\right )}\\right )$$"
      ],
      "text/plain": [
       "⎛                                          2                       ⎞\n",
       "⎜  ∂                  ∂                 ⅈ⋅c ⋅μ₀⋅varpi₁⋅P¹₀(t, R, Z)⎟\n",
       "⎜c⋅──(E¹₀(t, R, Z)) + ──(E¹₀(t, R, Z)), ───────────────────────────⎟\n",
       "⎝  ∂Z                 ∂t                             2             ⎠"
      ]
     },
     "execution_count": 74,
     "metadata": {},
     "output_type": "execute_result"
    }
   ],
   "source": [
    "fact1=2*c**2*exp(I*omega_laser[0]*(t-Z/c))/(2*I*omega_laser[0])\n",
    "lhs1=(fact1*ep[0].conjugate().dot(lhs)).expand()\n",
    "rhs1=(fact1*ep[0].conjugate().dot(rhs)).expand()\n",
    "\n",
    "lhs1,rhs1"
   ]
  },
  {
   "cell_type": "code",
   "execution_count": 75,
   "metadata": {
    "collapsed": false
   },
   "outputs": [
    {
     "data": {
      "image/png": "[encoded data removed]",
      "text/latex": [
       "$$\\left ( - c \\frac{\\partial}{\\partial Z} \\operatorname{E^{2}_{0}}{\\left (t,R,Z \\right )} + \\frac{\\partial}{\\partial t} \\operatorname{E^{2}_{0}}{\\left (t,R,Z \\right )}, \\quad \\frac{i \\mu_{0}}{2} c^{2} \\varpi_{2} \\operatorname{P^{2}_{0}}{\\left (t,R,Z \\right )}\\right )$$"
      ],
      "text/plain": [
       "⎛                                            2                       ⎞\n",
       "⎜    ∂                  ∂                 ⅈ⋅c ⋅μ₀⋅varpi₂⋅P²₀(t, R, Z)⎟\n",
       "⎜- c⋅──(E²₀(t, R, Z)) + ──(E²₀(t, R, Z)), ───────────────────────────⎟\n",
       "⎝    ∂Z                 ∂t                             2             ⎠"
      ]
     },
     "execution_count": 75,
     "metadata": {},
     "output_type": "execute_result"
    }
   ],
   "source": [
    "fact2=2*c**2*exp(I*omega_laser[1]*(t+Z/c))/(2*I*omega_laser[1])\n",
    "lhs2=(fact2*ep[1].conjugate().dot(lhs)).expand()\n",
    "rhs2=(fact2*ep[1].conjugate().dot(rhs)).expand()\n",
    "\n",
    "lhs2,rhs2"
   ]
  },
  {
   "cell_type": "markdown",
   "metadata": {},
   "source": [
    "We take the spacial derivatives to the right-hand side. Just because we can."
   ]
  },
  {
   "cell_type": "code",
   "execution_count": 76,
   "metadata": {
    "collapsed": true
   },
   "outputs": [],
   "source": [
    "lhs1=lhs1-c*Derivative(E0[0],Z)\n",
    "rhs1=rhs1-c*Derivative(E0[0],Z)\n",
    "\n",
    "lhs2=lhs2+c*Derivative(E0[1],Z)\n",
    "rhs2=rhs2+c*Derivative(E0[1],Z)"
   ]
  },
  {
   "cell_type": "markdown",
   "metadata": {},
   "source": [
    "We put these equations in terms of Rabi frequencies."
   ]
  },
  {
   "cell_type": "code",
   "execution_count": 77,
   "metadata": {
    "collapsed": false
   },
   "outputs": [
    {
     "data": {
      "image/png": "[encoded data removed]",
      "text/latex": [
       "$$\\left[\\begin{matrix}\\frac{\\partial}{\\partial t} \\Omega_{1}{\\left (t,R,Z \\right )} & = & \\frac{i e \\mu_{0} r_{+1;21}}{2 \\hbar} c^{2} \\varpi_{1} \\operatorname{P^{1}_{0}}{\\left (t,R,Z \\right )} - c \\frac{\\partial}{\\partial Z} \\Omega_{1}{\\left (t,R,Z \\right )}\\end{matrix}\\right]$$"
      ],
      "text/plain": [
       "⎡                       2                                                     \n",
       "⎢∂                   ⅈ⋅c ⋅e⋅μ₀⋅r_{+1;21}⋅varpi₁⋅P¹₀(t, R, Z)     ∂            \n",
       "⎢──(Ω₁(t, R, Z))  =  ─────────────────────────────────────── - c⋅──(Ω₁(t, R, Z\n",
       "⎣∂t                                    2⋅h̅                      ∂Z           \n",
       "\n",
       "  ⎤\n",
       "  ⎥\n",
       "))⎥\n",
       "  ⎦"
      ]
     },
     "execution_count": 77,
     "metadata": {},
     "output_type": "execute_result"
    }
   ],
   "source": [
    "fact1=e*r[2][1,0]/hbar\n",
    "lhs1=(fact1*lhs1.subs({E0[0]:Omega1*hbar/r[2][1,0]/e}).doit()).expand()\n",
    "rhs1=(fact1*rhs1.subs({E0[0]:Omega1*hbar/r[2][1,0]/e}).doit()).expand()\n",
    "\n",
    "Matrix([lhs1,eqsign,rhs1]).transpose()"
   ]
  },
  {
   "cell_type": "code",
   "execution_count": 78,
   "metadata": {
    "collapsed": false
   },
   "outputs": [
    {
     "data": {
      "image/png": "[encoded data removed]",
      "text/latex": [
       "$$\\left[\\begin{matrix}\\frac{\\partial}{\\partial t} \\Omega_{2}{\\left (t,R,Z \\right )} & = & \\frac{i e \\mu_{0} r_{-1;32}}{2 \\hbar} c^{2} \\varpi_{2} \\operatorname{P^{2}_{0}}{\\left (t,R,Z \\right )} + c \\frac{\\partial}{\\partial Z} \\Omega_{2}{\\left (t,R,Z \\right )}\\end{matrix}\\right]$$"
      ],
      "text/plain": [
       "⎡                       2                                                     \n",
       "⎢∂                   ⅈ⋅c ⋅e⋅μ₀⋅r_{-1;32}⋅varpi₂⋅P²₀(t, R, Z)     ∂            \n",
       "⎢──(Ω₂(t, R, Z))  =  ─────────────────────────────────────── + c⋅──(Ω₂(t, R, Z\n",
       "⎣∂t                                    2⋅h̅                      ∂Z           \n",
       "\n",
       "  ⎤\n",
       "  ⎥\n",
       "))⎥\n",
       "  ⎦"
      ]
     },
     "execution_count": 78,
     "metadata": {},
     "output_type": "execute_result"
    }
   ],
   "source": [
    "fact2=e*r[0][2,1]/hbar\n",
    "lhs2=(fact2*lhs2.subs({E0[1]:Omega2*hbar/r[0][2,1]/e}).doit()).expand()\n",
    "rhs2=(fact2*rhs2.subs({E0[1]:Omega2*hbar/r[0][2,1]/e}).doit()).expand()\n",
    "\n",
    "Matrix([lhs2,eqsign,rhs2]).transpose()"
   ]
  },
  {
   "cell_type": "markdown",
   "metadata": {},
   "source": [
    "We may relate the macroscopic polarization to the density matrix if we identify the quantum mechanics operator that corresponds to the polarization. Since the polarization is nothing but the density of dipole moment, we can see that\n",
    "\n",
    "\\begin{equation}\n",
    "    \\vec{P}=-n \\mathrm{Tr}(e \\vec{\\hat{r}} \\hat{\\rho})\n",
    "\\end{equation}\n",
    "\n",
    "notice that the minus sign comes from the fact that $\\vec{\\hat{r}}$ points in the direction of the electron relative to the proton, while the electric dipole moment points in the opposite direction. If we further make the asumption that each frequency component $l$ of the polarization is only driven by the transition $|i\\rangle \\leftrightarrow |j\\rangle$ if $l\\in L_{ij}$, then we may decompose $\\vec{\\hat{r}}$ into $l$ components as.\n",
    "\n",
    "\\begin{equation}\n",
    "    \\vec{\\hat{r}} = \\sum_l \\vec{\\hat{r}}^{l(+)} + \\vec{\\hat{r}}^{l(+)}\n",
    "\\end{equation}\n",
    "\n",
    "Explicitly:"
   ]
  },
  {
   "cell_type": "code",
   "execution_count": 79,
   "metadata": {
    "collapsed": false
   },
   "outputs": [],
   "source": [
    "r_p_component=[ [ Matrix([ [ r_p[p][i,j] if l+1 in Lij[i][j] else 0\n",
    "                            for j in range(Ne)  ] for i in range(Ne)])\n",
    "                 for p in range(3)] for l in range(Nl)]\n",
    "\n",
    "r_m_component=[ [ Matrix([ [ r_m[p][i,j] if l+1 in Lij[i][j] else 0\n",
    "                            for j in range(Ne)  ] for i in range(Ne)])\n",
    "                 for p in range(3)] for l in range(Nl)]"
   ]
  },
  {
   "cell_type": "code",
   "execution_count": 80,
   "metadata": {
    "collapsed": false
   },
   "outputs": [],
   "source": [
    "rpl1=r_p_component[0]\n",
    "rpl2=r_p_component[1]"
   ]
  },
  {
   "cell_type": "code",
   "execution_count": 81,
   "metadata": {
    "collapsed": false
   },
   "outputs": [
    {
     "data": {
      "image/png": "[encoded data removed]",
      "text/latex": [
       "$$n{\\left (R,Z \\right )}$$"
      ],
      "text/plain": [
       "n(R, Z)"
      ]
     },
     "execution_count": 81,
     "metadata": {},
     "output_type": "execute_result"
    }
   ],
   "source": [
    "n=Function(\"n\")(R,Z)\n",
    "n"
   ]
  },
  {
   "cell_type": "code",
   "execution_count": 82,
   "metadata": {
    "collapsed": false
   },
   "outputs": [
    {
     "data": {
      "image/png": "[encoded data removed]",
      "text/latex": [
       "$$\\left ( \\left[\\begin{matrix}r_{-}\\\\r_{0}\\\\r_{+}\\end{matrix}\\right], \\quad \\left[\\begin{matrix}\\frac{\\sqrt{2}}{2} \\left(- r_{+} + r_{-}\\right)\\\\\\frac{\\sqrt{2} i}{2} \\left(r_{+} + r_{-}\\right)\\\\r_{0}\\end{matrix}\\right]\\right )$$"
      ],
      "text/plain": [
       "⎛      ⎡√2⋅(-r₊ + r₋) ⎤⎞\n",
       "⎜⎡r₋⎤, ⎢───────────── ⎥⎟\n",
       "⎜⎢  ⎥  ⎢      2       ⎥⎟\n",
       "⎜⎢r₀⎥  ⎢              ⎥⎟\n",
       "⎜⎢  ⎥  ⎢√2⋅ⅈ⋅(r₊ + r₋)⎥⎟\n",
       "⎜⎣r₊⎦  ⎢──────────────⎥⎟\n",
       "⎜      ⎢      2       ⎥⎟\n",
       "⎜      ⎢              ⎥⎟\n",
       "⎝      ⎣      r₀      ⎦⎠"
      ]
     },
     "execution_count": 82,
     "metadata": {},
     "output_type": "execute_result"
    }
   ],
   "source": [
    "vh=Matrix(symbols(\"r_-,r0,r_+\",real=True))\n",
    "vh,helicity_to_cartesian(vh)"
   ]
  },
  {
   "cell_type": "code",
   "execution_count": 83,
   "metadata": {
    "collapsed": false
   },
   "outputs": [
    {
     "data": {
      "image/png": "[encoded data removed]",
      "text/latex": [
       "$$\\left [ \\left[\\begin{matrix}0 & \\frac{\\sqrt{2}}{2} \\left(- r_{+1;21} + r_{-1;21}\\right) & 0\\\\0 & 0 & 0\\\\0 & 0 & 0\\end{matrix}\\right], \\quad \\left[\\begin{matrix}0 & \\frac{\\sqrt{2} i}{2} \\left(- r_{+1;21} - r_{-1;21}\\right) & 0\\\\0 & 0 & 0\\\\0 & 0 & 0\\end{matrix}\\right], \\quad \\left[\\begin{matrix}0 & r_{0;21} & 0\\\\0 & 0 & 0\\\\0 & 0 & 0\\end{matrix}\\right]\\right ]$$"
      ],
      "text/plain": [
       "⎡⎡   √2⋅(-r_{+1;21} + r_{-1;21})   ⎤  ⎡   √2⋅ⅈ⋅(-r_{+1;21} - r_{-1;21})   ⎤   \n",
       "⎢⎢0  ───────────────────────────  0⎥, ⎢0  ─────────────────────────────  0⎥, ⎡\n",
       "⎢⎢                2                ⎥  ⎢                 2                 ⎥  ⎢\n",
       "⎢⎢                                 ⎥  ⎢                                   ⎥  ⎢\n",
       "⎢⎢0               0               0⎥  ⎢0                0                0⎥  ⎢\n",
       "⎢⎢                                 ⎥  ⎢                                   ⎥  ⎣\n",
       "⎣⎣0               0               0⎦  ⎣0                0                0⎦   \n",
       "\n",
       "               ⎤\n",
       "0  r_{0;21}  0⎤⎥\n",
       "              ⎥⎥\n",
       "0     0      0⎥⎥\n",
       "              ⎥⎥\n",
       "0     0      0⎦⎥\n",
       "               ⎦"
      ]
     },
     "execution_count": 83,
     "metadata": {},
     "output_type": "execute_result"
    }
   ],
   "source": [
    "rpl1_cartesian=[(rpl1[0]-rpl1[2])/sqrt(2),(rpl1[0]+rpl1[2])*I/sqrt(2),rpl1[1]]\n",
    "rpl1_cartesian"
   ]
  },
  {
   "cell_type": "code",
   "execution_count": 84,
   "metadata": {
    "collapsed": false
   },
   "outputs": [
    {
     "data": {
      "image/png": "[encoded data removed]",
      "text/latex": [
       "$$\\left [ \\left[\\begin{matrix}0 & 0 & 0\\\\0 & 0 & \\frac{\\sqrt{2}}{2} \\left(- r_{+1;32} + r_{-1;32}\\right)\\\\0 & 0 & 0\\end{matrix}\\right], \\quad \\left[\\begin{matrix}0 & 0 & 0\\\\0 & 0 & \\frac{\\sqrt{2} i}{2} \\left(- r_{+1;32} - r_{-1;32}\\right)\\\\0 & 0 & 0\\end{matrix}\\right], \\quad \\left[\\begin{matrix}0 & 0 & 0\\\\0 & 0 & r_{0;32}\\\\0 & 0 & 0\\end{matrix}\\right]\\right ]$$"
      ],
      "text/plain": [
       "⎡⎡0  0               0             ⎤, ⎡0  0                0              ⎤, ⎡\n",
       "⎢⎢                                 ⎥  ⎢                                   ⎥  ⎢\n",
       "⎢⎢      √2⋅(-r_{+1;32} + r_{-1;32})⎥  ⎢      √2⋅ⅈ⋅(-r_{+1;32} - r_{-1;32})⎥  ⎢\n",
       "⎢⎢0  0  ───────────────────────────⎥  ⎢0  0  ─────────────────────────────⎥  ⎢\n",
       "⎢⎢                   2             ⎥  ⎢                    2              ⎥  ⎣\n",
       "⎢⎢                                 ⎥  ⎢                                   ⎥   \n",
       "⎣⎣0  0               0             ⎦  ⎣0  0                0              ⎦   \n",
       "\n",
       "0  0     0    ⎤⎤\n",
       "              ⎥⎥\n",
       "0  0  r_{0;32}⎥⎥\n",
       "              ⎥⎥\n",
       "0  0     0    ⎦⎥\n",
       "               ⎥\n",
       "               ⎦"
      ]
     },
     "execution_count": 84,
     "metadata": {},
     "output_type": "execute_result"
    }
   ],
   "source": [
    "rpl2_cartesian=[(rpl2[0]-rpl2[2])/sqrt(2),(rpl2[0]+rpl2[2])*I/sqrt(2),rpl2[1]]\n",
    "rpl2_cartesian"
   ]
  },
  {
   "cell_type": "markdown",
   "metadata": {},
   "source": [
    "The following factor of 2 comes from the fact that $P^{l(+)}/2 = -e n Tr(\\vec{\\hat{r}}^{l(+)}\\hat{\\rho})$"
   ]
  },
  {
   "cell_type": "code",
   "execution_count": 85,
   "metadata": {
    "collapsed": false
   },
   "outputs": [
    {
     "data": {
      "image/png": "[encoded data removed]",
      "text/latex": [
       "$$\\left ( \\left[\\begin{matrix}- \\sqrt{2} e \\left(- r_{+1;21} + r_{-1;21}\\right) n{\\left (R,Z \\right )} \\rho_{21}{\\left (t,Z \\right )}\\\\- \\sqrt{2} i e \\left(- r_{+1;21} - r_{-1;21}\\right) n{\\left (R,Z \\right )} \\rho_{21}{\\left (t,Z \\right )}\\\\- 2 e r_{0;21} n{\\left (R,Z \\right )} \\rho_{21}{\\left (t,Z \\right )}\\end{matrix}\\right], \\quad \\left[\\begin{matrix}- \\sqrt{2} e \\left(- r_{+1;32} + r_{-1;32}\\right) n{\\left (R,Z \\right )} \\rho_{32}{\\left (t,Z \\right )}\\\\- \\sqrt{2} i e \\left(- r_{+1;32} - r_{-1;32}\\right) n{\\left (R,Z \\right )} \\rho_{32}{\\left (t,Z \\right )}\\\\- 2 e r_{0;32} n{\\left (R,Z \\right )} \\rho_{32}{\\left (t,Z \\right )}\\end{matrix}\\right]\\right )$$"
      ],
      "text/plain": [
       "⎛⎡ -√2⋅e⋅(-r_{+1;21} + r_{-1;21})⋅n(R, Z)⋅ρ₂₁(t, Z) ⎤, ⎡ -√2⋅e⋅(-r_{+1;32} + r\n",
       "⎜⎢                                                  ⎥  ⎢                      \n",
       "⎜⎢-√2⋅ⅈ⋅e⋅(-r_{+1;21} - r_{-1;21})⋅n(R, Z)⋅ρ₂₁(t, Z)⎥  ⎢-√2⋅ⅈ⋅e⋅(-r_{+1;32} - \n",
       "⎜⎢                                                  ⎥  ⎢                      \n",
       "⎝⎣         -2⋅e⋅r_{0;21}⋅n(R, Z)⋅ρ₂₁(t, Z)          ⎦  ⎣         -2⋅e⋅r_{0;32}\n",
       "\n",
       "_{-1;32})⋅n(R, Z)⋅ρ₃₂(t, Z) ⎤⎞\n",
       "                            ⎥⎟\n",
       "r_{-1;32})⋅n(R, Z)⋅ρ₃₂(t, Z)⎥⎟\n",
       "                            ⎥⎟\n",
       "⋅n(R, Z)⋅ρ₃₂(t, Z)          ⎦⎠"
      ]
     },
     "execution_count": 85,
     "metadata": {},
     "output_type": "execute_result"
    }
   ],
   "source": [
    "Ppl1=-2*n*e*Matrix([ (rpl1_cartesian[i]*rho).trace() for i in range(3)])\n",
    "Ppl2=-2*n*e*Matrix([ (rpl2_cartesian[i]*rho).trace() for i in range(3)])\n",
    "\n",
    "Ppl1, Ppl2"
   ]
  },
  {
   "cell_type": "markdown",
   "metadata": {},
   "source": [
    "Taking the dot product with the polarizations we get the polarization amplitudes in terms of density matrix elements."
   ]
  },
  {
   "cell_type": "code",
   "execution_count": 86,
   "metadata": {
    "collapsed": false
   },
   "outputs": [
    {
     "data": {
      "image/png": "[encoded data removed]",
      "text/latex": [
       "$$\\left ( - 2 e r_{+1;21} n{\\left (R,Z \\right )} \\rho_{21}{\\left (t,Z \\right )}, \\quad - 2 e r_{-1;32} n{\\left (R,Z \\right )} \\rho_{32}{\\left (t,Z \\right )}\\right )$$"
      ],
      "text/plain": [
       "(-2⋅e⋅r_{+1;21}⋅n(R, Z)⋅ρ₂₁(t, Z), -2⋅e⋅r_{-1;32}⋅n(R, Z)⋅ρ₃₂(t, Z))"
      ]
     },
     "execution_count": 86,
     "metadata": {},
     "output_type": "execute_result"
    }
   ],
   "source": [
    "Ppl1=ep[0].conjugate().dot(Ppl1).expand()\n",
    "Ppl2=ep[1].conjugate().dot(Ppl2).expand()\n",
    "\n",
    "Ppl1, Ppl2"
   ]
  },
  {
   "cell_type": "code",
   "execution_count": 87,
   "metadata": {
    "collapsed": false
   },
   "outputs": [],
   "source": [
    "rhs1=rhs1.subs({P0[0]:Ppl1})\n",
    "rhs2=rhs2.subs({P0[1]:Ppl2})"
   ]
  },
  {
   "cell_type": "markdown",
   "metadata": {
    "collapsed": true
   },
   "source": [
    "# Maxwell-Bloch equations\n",
    "\n",
    "And we add these equations to the Bloch equations"
   ]
  },
  {
   "cell_type": "code",
   "execution_count": 88,
   "metadata": {
    "collapsed": false
   },
   "outputs": [
    {
     "data": {
      "image/png": "[encoded data removed]",
      "text/latex": [
       "$$\\left[\\begin{matrix}\\frac{\\partial}{\\partial t} \\rho_{11}{\\left (t,Z \\right )} & = & \\gamma_{21} \\rho_{22}{\\left (t,Z \\right )} + \\frac{i}{2} \\Omega_{1}{\\left (t,R,Z \\right )} \\rho_{12}{\\left (t,Z \\right )} - \\frac{i}{2} \\rho_{21}{\\left (t,Z \\right )} \\overline{\\Omega_{1}{\\left (t,R,Z \\right )}}\\\\\\frac{\\partial}{\\partial t} \\rho_{22}{\\left (t,Z \\right )} & = & - \\gamma_{21} \\rho_{22}{\\left (t,Z \\right )} + \\gamma_{32} \\rho_{33}{\\left (t,Z \\right )} - \\frac{i}{2} \\Omega_{1}{\\left (t,R,Z \\right )} \\rho_{12}{\\left (t,Z \\right )} + \\frac{i}{2} \\Omega_{2}{\\left (t,R,Z \\right )} \\rho_{23}{\\left (t,Z \\right )} + \\frac{i}{2} \\rho_{21}{\\left (t,Z \\right )} \\overline{\\Omega_{1}{\\left (t,R,Z \\right )}} - \\frac{i}{2} \\rho_{32}{\\left (t,Z \\right )} \\overline{\\Omega_{2}{\\left (t,R,Z \\right )}}\\\\\\frac{\\partial}{\\partial t} \\rho_{33}{\\left (t,Z \\right )} & = & - \\gamma_{32} \\rho_{33}{\\left (t,Z \\right )} - \\frac{i}{2} \\Omega_{2}{\\left (t,R,Z \\right )} \\rho_{23}{\\left (t,Z \\right )} + \\frac{i}{2} \\rho_{32}{\\left (t,Z \\right )} \\overline{\\Omega_{2}{\\left (t,R,Z \\right )}}\\\\\\frac{\\partial}{\\partial t} \\rho_{21}{\\left (t,Z \\right )} & = & i \\delta_{1} \\rho_{21}{\\left (t,Z \\right )} - \\frac{\\gamma_{21}}{2} \\rho_{21}{\\left (t,Z \\right )} - \\frac{i}{2} \\Omega_{1}{\\left (t,R,Z \\right )} \\rho_{11}{\\left (t,Z \\right )} + \\frac{i}{2} \\Omega_{1}{\\left (t,R,Z \\right )} \\rho_{22}{\\left (t,Z \\right )} - \\frac{i}{2} \\rho_{31}{\\left (t,Z \\right )} \\overline{\\Omega_{2}{\\left (t,R,Z \\right )}}\\\\\\frac{\\partial}{\\partial t} \\rho_{31}{\\left (t,Z \\right )} & = & i \\delta_{1} \\rho_{31}{\\left (t,Z \\right )} + i \\delta_{2} \\rho_{31}{\\left (t,Z \\right )} - \\frac{\\gamma_{32}}{2} \\rho_{31}{\\left (t,Z \\right )} + \\frac{i}{2} \\Omega_{1}{\\left (t,R,Z \\right )} \\rho_{32}{\\left (t,Z \\right )} - \\frac{i}{2} \\Omega_{2}{\\left (t,R,Z \\right )} \\rho_{21}{\\left (t,Z \\right )}\\\\\\frac{\\partial}{\\partial t} \\rho_{32}{\\left (t,Z \\right )} & = & i \\delta_{2} \\rho_{32}{\\left (t,Z \\right )} - \\frac{\\gamma_{21}}{2} \\rho_{32}{\\left (t,Z \\right )} - \\frac{\\gamma_{32}}{2} \\rho_{32}{\\left (t,Z \\right )} - \\frac{i}{2} \\Omega_{2}{\\left (t,R,Z \\right )} \\rho_{22}{\\left (t,Z \\right )} + \\frac{i}{2} \\Omega_{2}{\\left (t,R,Z \\right )} \\rho_{33}{\\left (t,Z \\right )} + \\frac{i}{2} \\rho_{31}{\\left (t,Z \\right )} \\overline{\\Omega_{1}{\\left (t,R,Z \\right )}}\\\\\\frac{\\partial}{\\partial t} \\Omega_{1}{\\left (t,R,Z \\right )} & = & - c \\frac{\\partial}{\\partial Z} \\Omega_{1}{\\left (t,R,Z \\right )} - \\frac{i e^{2} r_{+1;21}^{2} \\varpi_{1}}{\\hbar \\varepsilon_{0}} n{\\left (R,Z \\right )} \\rho_{21}{\\left (t,Z \\right )}\\\\\\frac{\\partial}{\\partial t} \\Omega_{2}{\\left (t,R,Z \\right )} & = & c \\frac{\\partial}{\\partial Z} \\Omega_{2}{\\left (t,R,Z \\right )} - \\frac{i e^{2} r_{-1;32}^{2} \\varpi_{2}}{\\hbar \\varepsilon_{0}} n{\\left (R,Z \\right )} \\rho_{32}{\\left (t,Z \\right )}\\end{matrix}\\right]$$"
      ],
      "text/plain": [
       "⎡                                                                             \n",
       "⎢ ∂                                                                    ⅈ⋅Ω₁(t,\n",
       "⎢ ──(ρ₁₁(t, Z))   =                                    γ₂₁⋅ρ₂₂(t, Z) + ───────\n",
       "⎢ ∂t                                                                          \n",
       "⎢                                                                             \n",
       "⎢                                                                             \n",
       "⎢ ∂                                                   ⅈ⋅Ω₁(t, R, Z)⋅ρ₁₂(t, Z) \n",
       "⎢ ──(ρ₂₂(t, Z))   =  -γ₂₁⋅ρ₂₂(t, Z) + γ₃₂⋅ρ₃₃(t, Z) - ─────────────────────── \n",
       "⎢ ∂t                                                             2            \n",
       "⎢                                                                             \n",
       "⎢                                                                             \n",
       "⎢ ∂                                                                     ⅈ⋅Ω₂(t\n",
       "⎢ ──(ρ₃₃(t, Z))   =                                    -γ₃₂⋅ρ₃₃(t, Z) - ──────\n",
       "⎢ ∂t                                                                          \n",
       "⎢                                                                             \n",
       "⎢                                                                             \n",
       "⎢ ∂                                                γ₂₁⋅ρ₂₁(t, Z)   ⅈ⋅Ω₁(t, R, \n",
       "⎢ ──(ρ₂₁(t, Z))   =               ⅈ⋅δ₁⋅ρ₂₁(t, Z) - ───────────── - ───────────\n",
       "⎢ ∂t                                                     2                    \n",
       "⎢                                                                             \n",
       "⎢ ∂                                                                     γ₃₂⋅ρ₃\n",
       "⎢ ──(ρ₃₁(t, Z))   =                   ⅈ⋅δ₁⋅ρ₃₁(t, Z) + ⅈ⋅δ₂⋅ρ₃₁(t, Z) - ──────\n",
       "⎢ ∂t                                                                          \n",
       "⎢                                                                             \n",
       "⎢                                                                             \n",
       "⎢ ∂                                        γ₂₁⋅ρ₃₂(t, Z)   γ₃₂⋅ρ₃₂(t, Z)   ⅈ⋅Ω\n",
       "⎢ ──(ρ₃₂(t, Z))   =       ⅈ⋅δ₂⋅ρ₃₂(t, Z) - ───────────── - ───────────── - ───\n",
       "⎢ ∂t                                             2               2            \n",
       "⎢                                                                             \n",
       "⎢                                                                             \n",
       "⎢∂                                                           ∂                \n",
       "⎢──(Ω₁(t, R, Z))  =                                      - c⋅──(Ω₁(t, R, Z)) -\n",
       "⎢∂t                                                          ∂Z               \n",
       "⎢                                                                             \n",
       "⎢                                                                             \n",
       "⎢∂                                                          ∂                 \n",
       "⎢──(Ω₂(t, R, Z))  =                                       c⋅──(Ω₂(t, R, Z)) - \n",
       "⎣∂t                                                         ∂Z                \n",
       "\n",
       "                               ___________                                   ⎤\n",
       " R, Z)⋅ρ₁₂(t, Z)   ⅈ⋅ρ₂₁(t, Z)⋅Ω₁(t, R, Z)                                   ⎥\n",
       "──────────────── - ───────────────────────                                   ⎥\n",
       "    2                         2                                              ⎥\n",
       "                                                                             ⎥\n",
       "                                        ___________               ___________⎥\n",
       "  ⅈ⋅Ω₂(t, R, Z)⋅ρ₂₃(t, Z)   ⅈ⋅ρ₂₁(t, Z)⋅Ω₁(t, R, Z)   ⅈ⋅ρ₃₂(t, Z)⋅Ω₂(t, R, Z)⎥\n",
       "+ ─────────────────────── + ─────────────────────── - ───────────────────────⎥\n",
       "             2                         2                         2           ⎥\n",
       "                                                                             ⎥\n",
       "                                ___________                                  ⎥\n",
       ", R, Z)⋅ρ₂₃(t, Z)   ⅈ⋅ρ₃₂(t, Z)⋅Ω₂(t, R, Z)                                  ⎥\n",
       "───────────────── + ───────────────────────                                  ⎥\n",
       "     2                         2                                             ⎥\n",
       "                                                                             ⎥\n",
       "                                                     ___________             ⎥\n",
       "Z)⋅ρ₁₁(t, Z)   ⅈ⋅Ω₁(t, R, Z)⋅ρ₂₂(t, Z)   ⅈ⋅ρ₃₁(t, Z)⋅Ω₂(t, R, Z)             ⎥\n",
       "──────────── + ─────────────────────── - ───────────────────────             ⎥\n",
       "2                         2                         2                        ⎥\n",
       "                                                                             ⎥\n",
       "₁(t, Z)   ⅈ⋅Ω₁(t, R, Z)⋅ρ₃₂(t, Z)   ⅈ⋅Ω₂(t, R, Z)⋅ρ₂₁(t, Z)                  ⎥\n",
       "─────── + ─────────────────────── - ───────────────────────                  ⎥\n",
       "2                    2                         2                             ⎥\n",
       "                                                                             ⎥\n",
       "                                                             ___________     ⎥\n",
       "₂(t, R, Z)⋅ρ₂₂(t, Z)   ⅈ⋅Ω₂(t, R, Z)⋅ρ₃₃(t, Z)   ⅈ⋅ρ₃₁(t, Z)⋅Ω₁(t, R, Z)     ⎥\n",
       "──────────────────── + ─────────────────────── + ───────────────────────     ⎥\n",
       "        2                         2                         2                ⎥\n",
       "                                                                             ⎥\n",
       "    2          2                                                             ⎥\n",
       " ⅈ⋅e ⋅r_{+1;21} ⋅varpi₁⋅n(R, Z)⋅ρ₂₁(t, Z)                                    ⎥\n",
       " ────────────────────────────────────────                                    ⎥\n",
       "              h̅⋅varepsilon₀                                                 ⎥\n",
       "                                                                             ⎥\n",
       "   2          2                                                              ⎥\n",
       "ⅈ⋅e ⋅r_{-1;32} ⋅varpi₂⋅n(R, Z)⋅ρ₃₂(t, Z)                                     ⎥\n",
       "────────────────────────────────────────                                     ⎥\n",
       "             h̅⋅varepsilon₀                                                  ⎦"
      ]
     },
     "execution_count": 88,
     "metadata": {},
     "output_type": "execute_result"
    }
   ],
   "source": [
    "eqsign=symbols(\"=\")\n",
    "eqs_list=[]\n",
    "for mu in range(0,Ne**2-1 -(Ne**2 - Ne)/2+1):\n",
    "    ii,jj,s=IJ(mu,Ne)\n",
    "    i=ii-1; j=jj-1\n",
    "    eqs_list+=[[Derivative(rho[i,j],t),eqsign,eqs[i,j]]]\n",
    "\n",
    "eqs_list += [[lhs1, eqsign, rhs1]]\n",
    "eqs_list += [[lhs2, eqsign, rhs2]]\n",
    "\n",
    "eqs_list=Matrix(eqs_list)\n",
    "eqs_list=eqs_list.subs({mu0:1/epsilon0/c**2})\n",
    "\n",
    "fprint(eqs_list, print_ascii=print_ascii)"
   ]
  },
  {
   "cell_type": "markdown",
   "metadata": {},
   "source": [
    "# The Doppler effect\n",
    "\n",
    "The detunings of the fields however, will be different for different velocity classes in an atomic vapour."
   ]
  },
  {
   "cell_type": "code",
   "execution_count": 89,
   "metadata": {
    "collapsed": false
   },
   "outputs": [
    {
     "data": {
      "image/png": "[encoded data removed]",
      "text/latex": [
       "$$\\left[\\begin{matrix}v_{X}\\\\v_{Y}\\\\v_{Z}\\end{matrix}\\right]$$"
      ],
      "text/plain": [
       "⎡v_X⎤\n",
       "⎢   ⎥\n",
       "⎢v_Y⎥\n",
       "⎢   ⎥\n",
       "⎣v_Z⎦"
      ]
     },
     "execution_count": 89,
     "metadata": {},
     "output_type": "execute_result"
    }
   ],
   "source": [
    "vX, vY, vZ=symbols(\"v_X, v_Y, v_Z\", real=True)\n",
    "v = Matrix([vX, vY, vZ])\n",
    "v"
   ]
  },
  {
   "cell_type": "markdown",
   "metadata": {},
   "source": [
    "For velocities $v \\ll c$ the optical frequencies will be\n",
    "\n",
    "\\begin{equation}\n",
    "    \\varpi_l' = \\varpi_l - \\vec{k}_l \\cdot \\vec{v}_l \n",
    "\\end{equation}\n",
    "\n",
    "And so, in our case\n",
    "\\begin{equation}\n",
    "    \\delta_1' = \\delta_1 - \\varpi_1 v_Z/c, \\hspace{1cm} \\delta_2' = \\delta_2 + \\varpi_2 v_Z/c\n",
    "\\end{equation}\n",
    "\n",
    "And the density matrix will be a mixture of contributions from all velocity classes\n",
    "\\begin{equation}\n",
    "    \\rho = \\int dv_Z g(v_Z) \\rho(v_Z)\n",
    "\\end{equation}\n",
    "\n",
    "So we will rewrite our equations in terms of this new $v_Z$"
   ]
  },
  {
   "cell_type": "code",
   "execution_count": 90,
   "metadata": {
    "collapsed": false
   },
   "outputs": [
    {
     "data": {
      "image/png": "[encoded data removed]",
      "text/latex": [
       "$$g{\\left (v_{Z} \\right )}$$"
      ],
      "text/plain": [
       "g(v_Z)"
      ]
     },
     "execution_count": 90,
     "metadata": {},
     "output_type": "execute_result"
    }
   ],
   "source": [
    "rhop=define_density_matrix(Ne, variables=[t,Z,vZ])\n",
    "g=Function(\"g\")(vZ)\n",
    "g"
   ]
  },
  {
   "cell_type": "code",
   "execution_count": 91,
   "metadata": {
    "collapsed": false
   },
   "outputs": [
    {
     "data": {
      "image/png": "[encoded data removed]",
      "text/latex": [
       "$$\\left ( \\delta_{1} - \\frac{v_{Z} \\varpi_{1}}{c}, \\quad \\delta_{2} + \\frac{v_{Z} \\varpi_{2}}{c}\\right )$$"
      ],
      "text/plain": [
       "⎛     v_Z⋅varpi₁       v_Z⋅varpi₂⎞\n",
       "⎜δ₁ - ──────────, δ₂ + ──────────⎟\n",
       "⎝         c                c     ⎠"
      ]
     },
     "execution_count": 91,
     "metadata": {},
     "output_type": "execute_result"
    }
   ],
   "source": [
    "delta1p=delta1-omega_laser[0]*vZ/c\n",
    "delta2p=delta2+omega_laser[1]*vZ/c\n",
    "delta1p,delta2p"
   ]
  },
  {
   "cell_type": "markdown",
   "metadata": {},
   "source": [
    "So our final equations are:"
   ]
  },
  {
   "cell_type": "code",
   "execution_count": 92,
   "metadata": {
    "collapsed": false
   },
   "outputs": [
    {
     "data": {
      "image/png": "[encoded data removed]",
      "text/latex": [
       "$$\\left[\\begin{matrix}\\frac{\\partial}{\\partial t} \\rho_{11}{\\left (t,Z,v_{Z} \\right )} & = & \\gamma_{21} \\rho_{22}{\\left (t,Z,v_{Z} \\right )} + \\frac{i}{2} \\Omega_{1}{\\left (t,R,Z \\right )} \\rho_{12}{\\left (t,Z,v_{Z} \\right )} - \\frac{i}{2} \\rho_{21}{\\left (t,Z,v_{Z} \\right )} \\overline{\\Omega_{1}{\\left (t,R,Z \\right )}}\\\\\\frac{\\partial}{\\partial t} \\rho_{22}{\\left (t,Z,v_{Z} \\right )} & = & - \\gamma_{21} \\rho_{22}{\\left (t,Z,v_{Z} \\right )} + \\gamma_{32} \\rho_{33}{\\left (t,Z,v_{Z} \\right )} - \\frac{i}{2} \\Omega_{1}{\\left (t,R,Z \\right )} \\rho_{12}{\\left (t,Z,v_{Z} \\right )} + \\frac{i}{2} \\Omega_{2}{\\left (t,R,Z \\right )} \\rho_{23}{\\left (t,Z,v_{Z} \\right )} + \\frac{i}{2} \\rho_{21}{\\left (t,Z,v_{Z} \\right )} \\overline{\\Omega_{1}{\\left (t,R,Z \\right )}} - \\frac{i}{2} \\rho_{32}{\\left (t,Z,v_{Z} \\right )} \\overline{\\Omega_{2}{\\left (t,R,Z \\right )}}\\\\\\frac{\\partial}{\\partial t} \\rho_{33}{\\left (t,Z,v_{Z} \\right )} & = & - \\gamma_{32} \\rho_{33}{\\left (t,Z,v_{Z} \\right )} - \\frac{i}{2} \\Omega_{2}{\\left (t,R,Z \\right )} \\rho_{23}{\\left (t,Z,v_{Z} \\right )} + \\frac{i}{2} \\rho_{32}{\\left (t,Z,v_{Z} \\right )} \\overline{\\Omega_{2}{\\left (t,R,Z \\right )}}\\\\\\frac{\\partial}{\\partial t} \\rho_{21}{\\left (t,Z,v_{Z} \\right )} & = & - \\frac{\\gamma_{21}}{2} \\rho_{21}{\\left (t,Z,v_{Z} \\right )} + i \\left(\\delta_{1} - \\frac{v_{Z} \\varpi_{1}}{c}\\right) \\rho_{21}{\\left (t,Z,v_{Z} \\right )} - \\frac{i}{2} \\Omega_{1}{\\left (t,R,Z \\right )} \\rho_{11}{\\left (t,Z,v_{Z} \\right )} + \\frac{i}{2} \\Omega_{1}{\\left (t,R,Z \\right )} \\rho_{22}{\\left (t,Z,v_{Z} \\right )} - \\frac{i}{2} \\rho_{31}{\\left (t,Z,v_{Z} \\right )} \\overline{\\Omega_{2}{\\left (t,R,Z \\right )}}\\\\\\frac{\\partial}{\\partial t} \\rho_{31}{\\left (t,Z,v_{Z} \\right )} & = & - \\frac{\\gamma_{32}}{2} \\rho_{31}{\\left (t,Z,v_{Z} \\right )} + i \\left(\\delta_{1} - \\frac{v_{Z} \\varpi_{1}}{c}\\right) \\rho_{31}{\\left (t,Z,v_{Z} \\right )} + i \\left(\\delta_{2} + \\frac{v_{Z} \\varpi_{2}}{c}\\right) \\rho_{31}{\\left (t,Z,v_{Z} \\right )} + \\frac{i}{2} \\Omega_{1}{\\left (t,R,Z \\right )} \\rho_{32}{\\left (t,Z,v_{Z} \\right )} - \\frac{i}{2} \\Omega_{2}{\\left (t,R,Z \\right )} \\rho_{21}{\\left (t,Z,v_{Z} \\right )}\\\\\\frac{\\partial}{\\partial t} \\rho_{32}{\\left (t,Z,v_{Z} \\right )} & = & - \\frac{\\gamma_{21}}{2} \\rho_{32}{\\left (t,Z,v_{Z} \\right )} - \\frac{\\gamma_{32}}{2} \\rho_{32}{\\left (t,Z,v_{Z} \\right )} + i \\left(\\delta_{2} + \\frac{v_{Z} \\varpi_{2}}{c}\\right) \\rho_{32}{\\left (t,Z,v_{Z} \\right )} - \\frac{i}{2} \\Omega_{2}{\\left (t,R,Z \\right )} \\rho_{22}{\\left (t,Z,v_{Z} \\right )} + \\frac{i}{2} \\Omega_{2}{\\left (t,R,Z \\right )} \\rho_{33}{\\left (t,Z,v_{Z} \\right )} + \\frac{i}{2} \\rho_{31}{\\left (t,Z,v_{Z} \\right )} \\overline{\\Omega_{1}{\\left (t,R,Z \\right )}}\\\\\\frac{\\partial}{\\partial t} \\Omega_{1}{\\left (t,R,Z \\right )} & = & - c \\frac{\\partial}{\\partial Z} \\Omega_{1}{\\left (t,R,Z \\right )} - \\frac{i e^{2} r_{+1;21}^{2} \\varpi_{1}}{\\hbar \\varepsilon_{0}} n{\\left (R,Z \\right )} \\int_{-\\infty}^{\\infty} g{\\left (v_{Z} \\right )} \\rho_{21}{\\left (t,Z,v_{Z} \\right )}\\, dv_{Z}\\\\\\frac{\\partial}{\\partial t} \\Omega_{2}{\\left (t,R,Z \\right )} & = & c \\frac{\\partial}{\\partial Z} \\Omega_{2}{\\left (t,R,Z \\right )} - \\frac{i e^{2} r_{-1;32}^{2} \\varpi_{2}}{\\hbar \\varepsilon_{0}} n{\\left (R,Z \\right )} \\int_{-\\infty}^{\\infty} g{\\left (v_{Z} \\right )} \\rho_{32}{\\left (t,Z,v_{Z} \\right )}\\, dv_{Z}\\end{matrix}\\right]$$"
      ],
      "text/plain": [
       "⎡                                                                             \n",
       "⎢∂                                                                            \n",
       "⎢──(ρ₁₁(t, Z, v_Z))  =                                               γ₂₁⋅ρ₂₂(t\n",
       "⎢∂t                                                                           \n",
       "⎢                                                                             \n",
       "⎢                                                                             \n",
       "⎢∂                                                                    ⅈ⋅Ω₁(t, \n",
       "⎢──(ρ₂₂(t, Z, v_Z))  =     -γ₂₁⋅ρ₂₂(t, Z, v_Z) + γ₃₂⋅ρ₃₃(t, Z, v_Z) - ────────\n",
       "⎢∂t                                                                           \n",
       "⎢                                                                             \n",
       "⎢                                                                             \n",
       "⎢∂                                                                            \n",
       "⎢──(ρ₃₃(t, Z, v_Z))  =                                               -γ₃₂⋅ρ₃₃(\n",
       "⎢∂t                                                                           \n",
       "⎢                                                                             \n",
       "⎢                                                                             \n",
       "⎢∂                                  γ₂₁⋅ρ₂₁(t, Z, v_Z)     ⎛     v_Z⋅varpi₁⎞  \n",
       "⎢──(ρ₂₁(t, Z, v_Z))  =            - ────────────────── + ⅈ⋅⎜δ₁ - ──────────⎟⋅ρ\n",
       "⎢∂t                                         2              ⎝         c     ⎠  \n",
       "⎢                                                                             \n",
       "⎢∂                               γ₃₂⋅ρ₃₁(t, Z, v_Z)     ⎛     v_Z⋅varpi₁⎞     \n",
       "⎢──(ρ₃₁(t, Z, v_Z))  =         - ────────────────── + ⅈ⋅⎜δ₁ - ──────────⎟⋅ρ₃₁(\n",
       "⎢∂t                                      2              ⎝         c     ⎠     \n",
       "⎢                                                                             \n",
       "⎢                                                                             \n",
       "⎢∂                        γ₂₁⋅ρ₃₂(t, Z, v_Z)   γ₃₂⋅ρ₃₂(t, Z, v_Z)     ⎛     v_\n",
       "⎢──(ρ₃₂(t, Z, v_Z))  =  - ────────────────── - ────────────────── + ⅈ⋅⎜δ₂ + ──\n",
       "⎢∂t                               2                    2              ⎝       \n",
       "⎢                                                                             \n",
       "⎢                                                                             \n",
       "⎢                                                                             \n",
       "⎢                                                                             \n",
       "⎢                                                                             \n",
       "⎢ ∂                                                                    ∂      \n",
       "⎢ ──(Ω₁(t, R, Z))    =                                             - c⋅──(Ω₁(t\n",
       "⎢ ∂t                                                                   ∂Z     \n",
       "⎢                                                                             \n",
       "⎢                                                                             \n",
       "⎢                                                                             \n",
       "⎢                                                                             \n",
       "⎢                                                                             \n",
       "⎢ ∂                                                                   ∂       \n",
       "⎢ ──(Ω₂(t, R, Z))    =                                              c⋅──(Ω₂(t,\n",
       "⎣ ∂t                                                                  ∂Z      \n",
       "\n",
       "                                                            ___________       \n",
       "            ⅈ⋅Ω₁(t, R, Z)⋅ρ₁₂(t, Z, v_Z)   ⅈ⋅ρ₂₁(t, Z, v_Z)⋅Ω₁(t, R, Z)       \n",
       ", Z, v_Z) + ──────────────────────────── - ────────────────────────────       \n",
       "                         2                              2                     \n",
       "                                                                              \n",
       "                                                                       _______\n",
       "R, Z)⋅ρ₁₂(t, Z, v_Z)   ⅈ⋅Ω₂(t, R, Z)⋅ρ₂₃(t, Z, v_Z)   ⅈ⋅ρ₂₁(t, Z, v_Z)⋅Ω₁(t, R\n",
       "──────────────────── + ──────────────────────────── + ────────────────────────\n",
       "     2                              2                              2          \n",
       "                                                                              \n",
       "                                                             ___________      \n",
       "             ⅈ⋅Ω₂(t, R, Z)⋅ρ₂₃(t, Z, v_Z)   ⅈ⋅ρ₃₂(t, Z, v_Z)⋅Ω₂(t, R, Z)      \n",
       "t, Z, v_Z) - ──────────────────────────── + ────────────────────────────      \n",
       "                          2                              2                    \n",
       "                                                                              \n",
       "                                                                              \n",
       "                ⅈ⋅Ω₁(t, R, Z)⋅ρ₁₁(t, Z, v_Z)   ⅈ⋅Ω₁(t, R, Z)⋅ρ₂₂(t, Z, v_Z)   \n",
       "₂₁(t, Z, v_Z) - ──────────────────────────── + ──────────────────────────── - \n",
       "                             2                              2                 \n",
       "                                                                              \n",
       "               ⎛     v_Z⋅varpi₂⎞                  ⅈ⋅Ω₁(t, R, Z)⋅ρ₃₂(t, Z, v_Z)\n",
       "t, Z, v_Z) + ⅈ⋅⎜δ₂ + ──────────⎟⋅ρ₃₁(t, Z, v_Z) + ────────────────────────────\n",
       "               ⎝         c     ⎠                               2              \n",
       "                                                                              \n",
       "                                                                              \n",
       "Z⋅varpi₂⎞                  ⅈ⋅Ω₂(t, R, Z)⋅ρ₂₂(t, Z, v_Z)   ⅈ⋅Ω₂(t, R, Z)⋅ρ₃₃(t,\n",
       "────────⎟⋅ρ₃₂(t, Z, v_Z) - ──────────────────────────── + ────────────────────\n",
       "  c     ⎠                               2                              2      \n",
       "                                                                              \n",
       "                                          ∞                                   \n",
       "              2          2                ⌠                                   \n",
       "           ⅈ⋅e ⋅r_{+1;21} ⋅varpi₁⋅n(R, Z)⋅⎮  g(v_Z)⋅ρ₂₁(t, Z, v_Z) d(v_Z)     \n",
       "                                          ⌡                                   \n",
       "                                          -∞                                  \n",
       ", R, Z)) - ──────────────────────────────────────────────────────────────     \n",
       "                                   h̅⋅varepsilon₀                             \n",
       "                                                                              \n",
       "                                         ∞                                    \n",
       "             2          2                ⌠                                    \n",
       "          ⅈ⋅e ⋅r_{-1;32} ⋅varpi₂⋅n(R, Z)⋅⎮  g(v_Z)⋅ρ₃₂(t, Z, v_Z) d(v_Z)      \n",
       "                                         ⌡                                    \n",
       "                                         -∞                                   \n",
       " R, Z)) - ──────────────────────────────────────────────────────────────      \n",
       "                                  h̅⋅varepsilon₀                              \n",
       "\n",
       "                                       ⎤\n",
       "                                       ⎥\n",
       "                                       ⎥\n",
       "                                       ⎥\n",
       "                                       ⎥\n",
       "____                    ___________    ⎥\n",
       ", Z)   ⅈ⋅ρ₃₂(t, Z, v_Z)⋅Ω₂(t, R, Z)    ⎥\n",
       "──── - ────────────────────────────    ⎥\n",
       "                    2                  ⎥\n",
       "                                       ⎥\n",
       "                                       ⎥\n",
       "                                       ⎥\n",
       "                                       ⎥\n",
       "                                       ⎥\n",
       "                                       ⎥\n",
       "                 ___________           ⎥\n",
       "ⅈ⋅ρ₃₁(t, Z, v_Z)⋅Ω₂(t, R, Z)           ⎥\n",
       "────────────────────────────           ⎥\n",
       "             2                         ⎥\n",
       "                                       ⎥\n",
       "   ⅈ⋅Ω₂(t, R, Z)⋅ρ₂₁(t, Z, v_Z)        ⎥\n",
       " - ────────────────────────────        ⎥\n",
       "                2                      ⎥\n",
       "                                       ⎥\n",
       "                            ___________⎥\n",
       " Z, v_Z)   ⅈ⋅ρ₃₁(t, Z, v_Z)⋅Ω₁(t, R, Z)⎥\n",
       "──────── + ────────────────────────────⎥\n",
       "                        2              ⎥\n",
       "                                       ⎥\n",
       "                                       ⎥\n",
       "                                       ⎥\n",
       "                                       ⎥\n",
       "                                       ⎥\n",
       "                                       ⎥\n",
       "                                       ⎥\n",
       "                                       ⎥\n",
       "                                       ⎥\n",
       "                                       ⎥\n",
       "                                       ⎥\n",
       "                                       ⎥\n",
       "                                       ⎥\n",
       "                                       ⎥\n",
       "                                       ⎥\n",
       "                                       ⎦"
      ]
     },
     "execution_count": 92,
     "metadata": {},
     "output_type": "execute_result"
    }
   ],
   "source": [
    "rho_subs={rho[i,j]:rhop[i,j] for i in range(Ne) for j in range(Ne)}\n",
    "rho_subs\n",
    "\n",
    "eqs_list = eqs_list.subs({delta1: delta1p, delta2: delta2p})\n",
    "eqs_list = eqs_list.subs(rho_subs)\n",
    "\n",
    "eqs_list[6,:] = eqs_list[6,:].subs({rhop[1,0]: Integral(g*rhop[1,0],(vZ,-oo,oo))})\n",
    "eqs_list[7,:] = eqs_list[7,:].subs({rhop[2,1]: Integral(g*rhop[2,1],(vZ,-oo,oo))})\n",
    "\n",
    "eqs_list"
   ]
  },
  {
   "cell_type": "markdown",
   "metadata": {},
   "source": [
    "# Velocity distribution"
   ]
  },
  {
   "cell_type": "code",
   "execution_count": 93,
   "metadata": {
    "collapsed": false
   },
   "outputs": [
    {
     "data": {
      "image/png": "[encoded data removed]",
      "text/latex": [
       "$$\\left ( m, \\quad k_{B}, \\quad T\\right )$$"
      ],
      "text/plain": [
       "(m, k_B, T)"
      ]
     },
     "execution_count": 93,
     "metadata": {},
     "output_type": "execute_result"
    }
   ],
   "source": [
    "m, kB, T = symbols(\"m, k_B, T\", positive=True)\n",
    "vZ = symbols(\"v_Z\", real=True)\n",
    "m, kB, T"
   ]
  },
  {
   "cell_type": "code",
   "execution_count": 94,
   "metadata": {
    "collapsed": false
   },
   "outputs": [
    {
     "data": {
      "image/png": "[encoded data removed]",
      "text/latex": [
       "$$\\frac{\\sqrt{2} \\sqrt{m} e^{- \\frac{m v_{Z}^{2}}{2 T k_{B}}}}{2 \\sqrt{\\pi} \\sqrt{T} \\sqrt{k_{B}}}$$"
      ],
      "text/plain": [
       "             2 \n",
       "       -m⋅v_Z  \n",
       "       ────────\n",
       "       2⋅T⋅k_B \n",
       "√2⋅√m⋅ℯ        \n",
       "───────────────\n",
       "          _____\n",
       "2⋅√π⋅√T⋅╲╱ k_B "
      ]
     },
     "execution_count": 94,
     "metadata": {},
     "output_type": "execute_result"
    }
   ],
   "source": [
    "sigma_vZ=sqrt(kB*T/m)\n",
    "g=sqrt(1/(2*pi))/sigma_vZ*exp(-(vZ/sigma_vZ)**2/2)\n",
    "g"
   ]
  },
  {
   "cell_type": "code",
   "execution_count": 95,
   "metadata": {
    "collapsed": false
   },
   "outputs": [
    {
     "data": {
      "image/png": "[encoded data removed]",
      "text/latex": [
       "$$1$$"
      ],
      "text/plain": [
       "1"
      ]
     },
     "execution_count": 95,
     "metadata": {},
     "output_type": "execute_result"
    }
   ],
   "source": [
    "from sympy import integrate, oo\n",
    "integrate(g,(vZ,-oo,oo))"
   ]
  },
  {
   "cell_type": "code",
   "execution_count": null,
   "metadata": {
    "collapsed": true
   },
   "outputs": [],
   "source": []
  },
  {
   "cell_type": "markdown",
   "metadata": {},
   "source": [
    "[1]  H.J. Metcalf and P. van der Straten. Laser Cooling and Trapping. Graduate Texts in Contempo-\n",
    "rary Physics. Springer New York, 2001.\n",
    "\n",
    "[2] Daniel Adam Steck. Quantum and Atom Optics. Oregon Center for Optics and Department of Physics, University of Oregon Copyright © 200"
   ]
  },
  {
   "cell_type": "code",
   "execution_count": null,
   "metadata": {
    "collapsed": true
   },
   "outputs": [],
   "source": []
  }
 ],
 "metadata": {
  "anaconda-cloud": {},
  "kernelspec": {
   "display_name": "Python 2",
   "language": "python",
   "name": "python2"
  },
  "language_info": {
   "codemirror_mode": {
    "name": "ipython",
    "version": 2
   },
   "file_extension": ".py",
   "mimetype": "text/x-python",
   "name": "python",
   "nbconvert_exporter": "python",
   "pygments_lexer": "ipython2",
   "version": "2.7.13"
  }
 },
 "nbformat": 4,
 "nbformat_minor": 0
}
