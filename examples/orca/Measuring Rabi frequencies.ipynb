{
 "cells": [
  {
   "cell_type": "markdown",
   "metadata": {},
   "source": [
    "# The time Full width at half maximum from the power spectrum\n",
    "\n",
    "We calculate what is the full width at half maximum of the Rabi frequency pulse for given standard deviation of the power spectrum."
   ]
  },
  {
   "cell_type": "code",
   "execution_count": 1,
   "metadata": {
    "collapsed": false
   },
   "outputs": [],
   "source": [
    "from sympy import symbols, Matrix, init_printing, latex, exp, integrate, diff, pprint, oo\n",
    "from sympy import solve,log,sqrt,fourier_transform,inverse_fourier_transform,sin, cos, I, DiracDelta, pi\n",
    "from sympy import atan, Integer, simplify"
   ]
  },
  {
   "cell_type": "code",
   "execution_count": 2,
   "metadata": {
    "collapsed": true
   },
   "outputs": [],
   "source": [
    "init_printing()"
   ]
  },
  {
   "cell_type": "code",
   "execution_count": 3,
   "metadata": {
    "collapsed": false
   },
   "outputs": [
    {
     "data": {
      "image/png": "[encoded data removed]",
      "text/latex": [
       "$$\\left ( t, \\quad x, \\quad y, \\quad z, \\quad \\omega, \\quad \\nu\\right )$$"
      ],
      "text/plain": [
       "(t, x, y, z, ω, ν)"
      ]
     },
     "execution_count": 3,
     "metadata": {},
     "output_type": "execute_result"
    }
   ],
   "source": [
    "t,x,y,z=symbols(\"t x y z\",real=True)\n",
    "omega, nu=symbols(\"omega nu\",real=True)\n",
    "R=Matrix([x,y,z])\n",
    "t,x,y,z, omega, nu"
   ]
  },
  {
   "cell_type": "code",
   "execution_count": 4,
   "metadata": {
    "collapsed": false
   },
   "outputs": [
    {
     "data": {
      "image/png": "[encoded data removed]",
      "text/latex": [
       "$$\\left ( \\sigma, \\quad w, \\quad w', \\quad \\omega_{0}, \\quad \\nu_{0}, \\quad \\tau\\right )$$"
      ],
      "text/plain": [
       "(σ, w, w', ω₀, ν₀, τ)"
      ]
     },
     "execution_count": 4,
     "metadata": {},
     "output_type": "execute_result"
    }
   ],
   "source": [
    "sigma,w,wp, omega0, nu0, tau=symbols(\"sigma w w' omega0 nu0 tau\", positive=True)\n",
    "sigma,w,wp, omega0, nu0, tau"
   ]
  },
  {
   "cell_type": "code",
   "execution_count": 5,
   "metadata": {
    "collapsed": false
   },
   "outputs": [
    {
     "data": {
      "image/png": "[encoded data removed]",
      "text/latex": [
       "$$e^{- \\frac{4 t^{2}}{\\tau^{2}} \\log{\\left (2 \\right )}}$$"
      ],
      "text/plain": [
       "     2        \n",
       " -4⋅t ⋅log(2) \n",
       " ─────────────\n",
       "        2     \n",
       "       τ      \n",
       "ℯ             "
      ]
     },
     "execution_count": 5,
     "metadata": {},
     "output_type": "execute_result"
    }
   ],
   "source": [
    "E=exp(-(2*sqrt(log(2))*t/tau)**2)\n",
    "E"
   ]
  },
  {
   "cell_type": "code",
   "execution_count": 6,
   "metadata": {
    "collapsed": false
   },
   "outputs": [
    {
     "data": {
      "image/png": "[encoded data removed]",
      "text/latex": [
       "$$\\left ( \\frac{1}{2}, \\quad \\frac{1}{2}\\right )$$"
      ],
      "text/plain": [
       "(1/2, 1/2)"
      ]
     },
     "execution_count": 6,
     "metadata": {},
     "output_type": "execute_result"
    }
   ],
   "source": [
    "E.subs({t:-tau/2}), E.subs({t:tau/2})"
   ]
  },
  {
   "cell_type": "code",
   "execution_count": 7,
   "metadata": {
    "collapsed": false
   },
   "outputs": [
    {
     "data": {
      "image/png": "[encoded data removed]",
      "text/latex": [
       "$$e^{- \\frac{8 t^{2}}{\\tau^{2}} \\log{\\left (2 \\right )}}$$"
      ],
      "text/plain": [
       "     2        \n",
       " -8⋅t ⋅log(2) \n",
       " ─────────────\n",
       "        2     \n",
       "       τ      \n",
       "ℯ             "
      ]
     },
     "execution_count": 7,
     "metadata": {},
     "output_type": "execute_result"
    }
   ],
   "source": [
    "P = E*E.conjugate()\n",
    "P"
   ]
  },
  {
   "cell_type": "code",
   "execution_count": 8,
   "metadata": {
    "collapsed": false
   },
   "outputs": [
    {
     "data": {
      "image/png": "[encoded data removed]",
      "text/latex": [
       "$$\\frac{\\sqrt{2} \\tau}{2}$$"
      ],
      "text/plain": [
       "√2⋅τ\n",
       "────\n",
       " 2  "
      ]
     },
     "execution_count": 8,
     "metadata": {},
     "output_type": "execute_result"
    }
   ],
   "source": [
    "sol = solve(P - P.subs({t:0})/2, t)\n",
    "sol = [sol[i].simplify() for i in range(len(sol))]\n",
    "fwhm_P = sol[3]-sol[2]\n",
    "fwhm_P"
   ]
  },
  {
   "cell_type": "code",
   "execution_count": 9,
   "metadata": {
    "collapsed": false
   },
   "outputs": [
    {
     "data": {
      "image/png": "[encoded data removed]",
      "text/latex": [
       "$$\\frac{\\sqrt{\\pi} \\tau e^{- \\frac{\\pi^{2} \\nu^{2} \\tau^{2}}{4 \\log{\\left (2 \\right )}}}}{2 \\sqrt{\\log{\\left (2 \\right )}}}$$"
      ],
      "text/plain": [
       "        2  2  2 \n",
       "      -π ⋅ν ⋅τ  \n",
       "      ──────────\n",
       "       4⋅log(2) \n",
       "√π⋅τ⋅ℯ          \n",
       "────────────────\n",
       "      ________  \n",
       "  2⋅╲╱ log(2)   "
      ]
     },
     "execution_count": 9,
     "metadata": {},
     "output_type": "execute_result"
    }
   ],
   "source": [
    "E_spectrum=fourier_transform(E, t, nu)\n",
    "E_spectrum"
   ]
  },
  {
   "cell_type": "code",
   "execution_count": 10,
   "metadata": {
    "collapsed": false
   },
   "outputs": [
    {
     "data": {
      "image/png": "[encoded data removed]",
      "text/latex": [
       "$$\\frac{\\pi \\tau^{2} e^{- \\frac{\\pi^{2} \\nu^{2} \\tau^{2}}{2 \\log{\\left (2 \\right )}}}}{4 \\log{\\left (2 \\right )}}$$"
      ],
      "text/plain": [
       "        2  2  2 \n",
       "      -π ⋅ν ⋅τ  \n",
       "      ──────────\n",
       "   2   2⋅log(2) \n",
       "π⋅τ ⋅ℯ          \n",
       "────────────────\n",
       "    4⋅log(2)    "
      ]
     },
     "execution_count": 10,
     "metadata": {},
     "output_type": "execute_result"
    }
   ],
   "source": [
    "P_spectrum=E_spectrum*E_spectrum.conjugate()\n",
    "P_spectrum"
   ]
  },
  {
   "cell_type": "code",
   "execution_count": 11,
   "metadata": {
    "collapsed": false
   },
   "outputs": [
    {
     "data": {
      "image/png": "[encoded data removed]",
      "text/latex": [
       "$$\\left ( \\frac{2 \\sqrt{2}}{\\pi \\tau} \\log{\\left (2 \\right )}, \\quad 0.624051716156414\\right )$$"
      ],
      "text/plain": [
       "⎛2⋅√2⋅log(2)                   ⎞\n",
       "⎜───────────, 0.624051716156414⎟\n",
       "⎝    π⋅τ                       ⎠"
      ]
     },
     "execution_count": 11,
     "metadata": {},
     "output_type": "execute_result"
    }
   ],
   "source": [
    "sol = solve(P_spectrum - P_spectrum.subs({nu:0})/2, nu)\n",
    "fwhm_Pnu = sol[1]-sol[0]\n",
    "fwhm_Pnu, fwhm_Pnu.subs({tau:1}).n()"
   ]
  },
  {
   "cell_type": "code",
   "execution_count": 12,
   "metadata": {
    "collapsed": false
   },
   "outputs": [
    {
     "name": "stdout",
     "output_type": "stream",
     "text": [
      "2*sqrt(2)*log(2)/(pi*tau)\n"
     ]
    }
   ],
   "source": [
    "print fwhm_Pnu"
   ]
  },
  {
   "cell_type": "code",
   "execution_count": 13,
   "metadata": {
    "collapsed": false
   },
   "outputs": [
    {
     "data": {
      "image/png": "[encoded data removed]",
      "text/latex": [
       "$$\\frac{2 \\sqrt{2}}{\\pi \\tau} \\log{\\left (2 \\right )}$$"
      ],
      "text/plain": [
       "2⋅√2⋅log(2)\n",
       "───────────\n",
       "    π⋅τ    "
      ]
     },
     "execution_count": 13,
     "metadata": {},
     "output_type": "execute_result"
    }
   ],
   "source": [
    "fwhm_Pnu"
   ]
  },
  {
   "cell_type": "code",
   "execution_count": 14,
   "metadata": {
    "collapsed": false
   },
   "outputs": [
    {
     "data": {
      "image/png": "[encoded data removed]",
      "text/latex": [
       "$$\\frac{2}{\\pi} \\log{\\left (2 \\right )}$$"
      ],
      "text/plain": [
       "2⋅log(2)\n",
       "────────\n",
       "   π    "
      ]
     },
     "execution_count": 14,
     "metadata": {},
     "output_type": "execute_result"
    }
   ],
   "source": [
    "fwhm_Pnu*fwhm_P"
   ]
  },
  {
   "cell_type": "code",
   "execution_count": 15,
   "metadata": {
    "collapsed": false
   },
   "outputs": [
    {
     "data": {
      "image/png": "[encoded data removed]",
      "text/latex": [
       "$$0.441271200305303$$"
      ],
      "text/plain": [
       "0.441271200305303"
      ]
     },
     "execution_count": 15,
     "metadata": {},
     "output_type": "execute_result"
    }
   ],
   "source": [
    "(fwhm_Pnu*fwhm_P).n()"
   ]
  },
  {
   "cell_type": "code",
   "execution_count": 16,
   "metadata": {
    "collapsed": false
   },
   "outputs": [
    {
     "data": {
      "image/png": "[encoded data removed]",
      "text/latex": [
       "$$2.82842712474619$$"
      ],
      "text/plain": [
       "2.82842712474619"
      ]
     },
     "execution_count": 16,
     "metadata": {},
     "output_type": "execute_result"
    }
   ],
   "source": [
    "sqrt(8.0)"
   ]
  },
  {
   "cell_type": "code",
   "execution_count": null,
   "metadata": {
    "collapsed": true
   },
   "outputs": [],
   "source": []
  },
  {
   "cell_type": "code",
   "execution_count": 17,
   "metadata": {
    "collapsed": false
   },
   "outputs": [
    {
     "ename": "NameError",
     "evalue": "name 'A' is not defined",
     "output_type": "error",
     "traceback": [
      "\u001b[0;31m-------------------------------------------------------------------------\u001b[0m",
      "\u001b[0;31mNameError\u001b[0m                               Traceback (most recent call last)",
      "\u001b[0;32m<ipython-input-17-ad4b7cb7c650>\u001b[0m in \u001b[0;36m<module>\u001b[0;34m()\u001b[0m\n\u001b[0;32m----> 1\u001b[0;31m \u001b[0mPtilde\u001b[0m\u001b[0;34m=\u001b[0m\u001b[0mA\u001b[0m\u001b[0;34m*\u001b[0m\u001b[0mexp\u001b[0m\u001b[0;34m(\u001b[0m\u001b[0;34m-\u001b[0m\u001b[0;34m(\u001b[0m\u001b[0mnu\u001b[0m\u001b[0;34m-\u001b[0m\u001b[0mnu0\u001b[0m\u001b[0;34m)\u001b[0m\u001b[0;34m**\u001b[0m\u001b[0;36m2\u001b[0m\u001b[0;34m/\u001b[0m\u001b[0;36m2\u001b[0m\u001b[0;34m/\u001b[0m\u001b[0msigma\u001b[0m\u001b[0;34m**\u001b[0m\u001b[0;36m2\u001b[0m\u001b[0;34m)\u001b[0m\u001b[0;34m\u001b[0m\u001b[0m\n\u001b[0m\u001b[1;32m      2\u001b[0m \u001b[0mPtilde\u001b[0m\u001b[0;34m\u001b[0m\u001b[0m\n",
      "\u001b[0;31mNameError\u001b[0m: name 'A' is not defined"
     ]
    }
   ],
   "source": [
    "Ptilde=A*exp(-(nu-nu0)**2/2/sigma**2)\n",
    "Ptilde"
   ]
  },
  {
   "cell_type": "code",
   "execution_count": null,
   "metadata": {
    "collapsed": false
   },
   "outputs": [],
   "source": [
    "P=inverse_fourier_transform(Ptilde,nu,t)\n",
    "P"
   ]
  },
  {
   "cell_type": "code",
   "execution_count": null,
   "metadata": {
    "collapsed": false
   },
   "outputs": [],
   "source": [
    "B=symbols(\"B\",real=True)\n",
    "Omegas=B*exp(pi*t*( I*nu0-pi*sigma**2*t ))\n",
    "Omegas"
   ]
  },
  {
   "cell_type": "code",
   "execution_count": null,
   "metadata": {
    "collapsed": false
   },
   "outputs": [],
   "source": [
    "sol=solve( Omegas.subs({nu0:0})-Omegas.subs({nu0:0,t:0})/2 , t)\n",
    "fwhm=sol[1]-sol[0]\n",
    "fwhm"
   ]
  },
  {
   "cell_type": "code",
   "execution_count": null,
   "metadata": {
    "collapsed": false
   },
   "outputs": [],
   "source": [
    "sol=solve( P.subs({nu0:0})-P.subs({nu0:0,t:0})/2 , t)\n",
    "fwhmp=sol[3]-sol[2]\n",
    "fwhmp"
   ]
  },
  {
   "cell_type": "code",
   "execution_count": null,
   "metadata": {
    "collapsed": false
   },
   "outputs": [],
   "source": [
    "tau=symbols(\"tau\",positive=True)\n",
    "sigma_subs={sigma: solve(tau-fwhm,sigma)[0]}\n",
    "sigma_subs"
   ]
  },
  {
   "cell_type": "markdown",
   "metadata": {},
   "source": [
    "# Power of a Gaussian beam\n",
    "\n",
    "We define a gaussian beam in the following way"
   ]
  },
  {
   "cell_type": "code",
   "execution_count": null,
   "metadata": {
    "collapsed": false
   },
   "outputs": [],
   "source": [
    "lam,kz=symbols(\"lambda k_z\",positive=True)\n",
    "E0 =symbols(\"E_0\",real=True)\n",
    "lam,kz,E0"
   ]
  },
  {
   "cell_type": "code",
   "execution_count": null,
   "metadata": {
    "collapsed": false
   },
   "outputs": [],
   "source": [
    "zr=pi*w**2/lam\n",
    "zr=zr.subs({w:wp/2})\n",
    "zr"
   ]
  },
  {
   "cell_type": "code",
   "execution_count": null,
   "metadata": {
    "collapsed": false
   },
   "outputs": [],
   "source": [
    "Rz=z*(1+zr**2/z**2)\n",
    "Rz=Rz.subs({w:wp/2})\n",
    "Rz"
   ]
  },
  {
   "cell_type": "code",
   "execution_count": null,
   "metadata": {
    "collapsed": false
   },
   "outputs": [],
   "source": [
    "wz=w*sqrt(1+z**2/zr**2)\n",
    "wz=wz.subs({w:wp/2})\n",
    "wz"
   ]
  },
  {
   "cell_type": "code",
   "execution_count": null,
   "metadata": {
    "collapsed": false
   },
   "outputs": [],
   "source": [
    "psi=atan(z/zr)\n",
    "psi=psi.subs({w:wp/2})\n",
    "psi"
   ]
  },
  {
   "cell_type": "code",
   "execution_count": null,
   "metadata": {
    "collapsed": false
   },
   "outputs": [],
   "source": [
    "# A Gaussian beam:\n",
    "sigma4=False; sigma4=True\n",
    "R2=R.dot(R)\n",
    "Electric_field=E0*w/wz\n",
    "Electric_field=Electric_field.factor()\n",
    "Electric_field=Electric_field*exp(-R2/wz**2)\n",
    "Electric_field=Electric_field*exp(-I*(kz*z + kz*R2/2/Rz -psi ))\n",
    "#E=E.subs({kz:-kz})\n",
    "if sigma4:\n",
    "    Electric_field=Electric_field.subs({w:wp/2})\n",
    "\n",
    "Electric_field"
   ]
  },
  {
   "cell_type": "code",
   "execution_count": null,
   "metadata": {
    "collapsed": false
   },
   "outputs": [],
   "source": [
    "E,e,r,epsilon0,c,Omega,hbar=symbols(\"E e r epsilon_0 c Omega_max hbar\",positive=True)\n",
    "E,e,r,epsilon0,c,Omega,hbar"
   ]
  },
  {
   "cell_type": "markdown",
   "metadata": {},
   "source": [
    "In the paraxial limit, this is:"
   ]
  },
  {
   "cell_type": "code",
   "execution_count": null,
   "metadata": {
    "collapsed": false
   },
   "outputs": [],
   "source": [
    "Ewaist=Electric_field.limit(z,0)*Omegas.subs({nu0:0})/B\n",
    "Ewaist=Ewaist.subs(sigma_subs)\n",
    "Ewaist=Ewaist.subs({t:t-z/c})\n",
    "Ewaist"
   ]
  },
  {
   "cell_type": "code",
   "execution_count": null,
   "metadata": {
    "collapsed": false
   },
   "outputs": [],
   "source": [
    "(Ewaist**2).subs({t:0,z:0,y:0,x:wp/2})"
   ]
  },
  {
   "cell_type": "code",
   "execution_count": null,
   "metadata": {
    "collapsed": false
   },
   "outputs": [],
   "source": [
    "E0_subs={E0:hbar*Omega/e/r}\n",
    "E0_subs"
   ]
  },
  {
   "cell_type": "code",
   "execution_count": null,
   "metadata": {
    "collapsed": false
   },
   "outputs": [],
   "source": [
    "Omegawaist=Ewaist*r*e/hbar\n",
    "Omegawaist=Omegawaist.subs(E0_subs)\n",
    "Omegawaist"
   ]
  },
  {
   "cell_type": "markdown",
   "metadata": {},
   "source": [
    "We check that the full width at half maximum is $\\tau$."
   ]
  },
  {
   "cell_type": "code",
   "execution_count": null,
   "metadata": {
    "collapsed": false
   },
   "outputs": [],
   "source": [
    "sol=solve(Ewaist.subs({x:0,y:0,z:0})-E0/2,t)\n",
    "(sol[3]-sol[2]).simplify()"
   ]
  },
  {
   "cell_type": "code",
   "execution_count": null,
   "metadata": {
    "collapsed": false
   },
   "outputs": [],
   "source": [
    "Iwaist=epsilon0*c/2*Ewaist**2\n",
    "Iwaist=Iwaist.subs(E0_subs)\n",
    "Iwaist"
   ]
  },
  {
   "cell_type": "code",
   "execution_count": null,
   "metadata": {
    "collapsed": false
   },
   "outputs": [],
   "source": [
    "Energy_pulse=integrate(integrate(integrate(Iwaist,(x,-oo,oo)),(y,-oo,oo)),(t,-oo,oo))\n",
    "Energy_pulse"
   ]
  },
  {
   "cell_type": "markdown",
   "metadata": {},
   "source": [
    "The peak Rabi frequency in terms of the standard deviation of the power spectrum envelope."
   ]
  },
  {
   "cell_type": "code",
   "execution_count": null,
   "metadata": {
    "collapsed": false
   },
   "outputs": [],
   "source": [
    "Rabi_peak=solve(E-Energy_pulse,Omega)[0]\n",
    "Rabi_peak"
   ]
  },
  {
   "cell_type": "markdown",
   "metadata": {},
   "source": [
    "# Number of photons"
   ]
  },
  {
   "cell_type": "code",
   "execution_count": null,
   "metadata": {
    "collapsed": false
   },
   "outputs": [],
   "source": [
    "Iwaist"
   ]
  },
  {
   "cell_type": "code",
   "execution_count": null,
   "metadata": {
    "collapsed": false
   },
   "outputs": [],
   "source": [
    "E0_subs"
   ]
  },
  {
   "cell_type": "code",
   "execution_count": null,
   "metadata": {
    "collapsed": false
   },
   "outputs": [],
   "source": [
    "Power_pulse= integrate(integrate( Iwaist ,(x,-oo,oo)),(y,-oo,oo))\n",
    "Power_pulse= Power_pulse#/exp(-8*t**2*log(2)/tau**2)\n",
    "n_intensity=Power_pulse/hbar/omega\n",
    "n_intensity"
   ]
  },
  {
   "cell_type": "code",
   "execution_count": null,
   "metadata": {
    "collapsed": false
   },
   "outputs": [],
   "source": [
    "n_intensity.subs({Omega:Rabi_peak})"
   ]
  },
  {
   "cell_type": "code",
   "execution_count": null,
   "metadata": {
    "collapsed": false
   },
   "outputs": [],
   "source": [
    "integrate( n_intensity.subs({Omega:Rabi_peak}) ,(t,-oo,oo))"
   ]
  },
  {
   "cell_type": "code",
   "execution_count": null,
   "metadata": {
    "collapsed": false
   },
   "outputs": [],
   "source": [
    "I_mine= epsilon0*c/2* (Omegawaist.subs({x:0,y:0}) * hbar/e/r)**2\n",
    "I_mine"
   ]
  },
  {
   "cell_type": "code",
   "execution_count": null,
   "metadata": {
    "collapsed": false
   },
   "outputs": [],
   "source": [
    "const=pi*c*epsilon0*hbar*(wp/2)**2/(4*(e*r)**2*omega)\n",
    "const"
   ]
  },
  {
   "cell_type": "code",
   "execution_count": null,
   "metadata": {
    "collapsed": false
   },
   "outputs": [],
   "source": [
    "Omegawaist.subs({x:0,y:0})"
   ]
  },
  {
   "cell_type": "code",
   "execution_count": null,
   "metadata": {
    "collapsed": false
   },
   "outputs": [],
   "source": [
    "integrate(  const*Omegawaist.subs({x:0,y:0})**2 ,(t,-oo,oo)).subs({Omega:Rabi_peak})"
   ]
  },
  {
   "cell_type": "code",
   "execution_count": null,
   "metadata": {
    "collapsed": false
   },
   "outputs": [],
   "source": [
    "Rabi_peak"
   ]
  },
  {
   "cell_type": "code",
   "execution_count": null,
   "metadata": {
    "collapsed": true
   },
   "outputs": [],
   "source": []
  },
  {
   "cell_type": "markdown",
   "metadata": {},
   "source": [
    "# Boundary and initial conditions\n",
    "\n",
    "We can thus know the Electric field amplitude at the center of the beam as a function of time through (in the paraxial limit) as:"
   ]
  },
  {
   "cell_type": "code",
   "execution_count": null,
   "metadata": {
    "collapsed": false
   },
   "outputs": [],
   "source": [
    "pprint( Ewaist.subs({x:0,y:0}).subs(sigma_subs) )"
   ]
  },
  {
   "cell_type": "markdown",
   "metadata": {},
   "source": [
    "And from here, the Rabi frequency is"
   ]
  },
  {
   "cell_type": "code",
   "execution_count": null,
   "metadata": {
    "collapsed": false
   },
   "outputs": [],
   "source": [
    "Omega_t=Ewaist.subs({x:0,y:0}).subs(sigma_subs).subs(E0_subs)*e*r/hbar\n",
    "\n",
    "pprint( Omega_t )"
   ]
  },
  {
   "cell_type": "markdown",
   "metadata": {},
   "source": [
    "Let us check that the FWHM of this is in deed $\\tau$."
   ]
  },
  {
   "cell_type": "code",
   "execution_count": null,
   "metadata": {
    "collapsed": false
   },
   "outputs": [],
   "source": [
    "sol=solve(Omega_t-Omega/2,t)\n",
    "fwhm_test=sol[1]-sol[0]\n",
    "fwhm_test.simplify()"
   ]
  },
  {
   "cell_type": "markdown",
   "metadata": {},
   "source": [
    "But this does not contain the propagation of the pulse yet. This can be easily added. For a beam directed towards $\\hat{z}$:"
   ]
  },
  {
   "cell_type": "code",
   "execution_count": null,
   "metadata": {
    "collapsed": false
   },
   "outputs": [],
   "source": [
    "Omega_tzp=Omega_t.subs({t:t-z/c})\n",
    "pprint( Omega_tzp )"
   ]
  },
  {
   "cell_type": "markdown",
   "metadata": {},
   "source": [
    "For a beam directed towards $-\\hat{z}$:"
   ]
  },
  {
   "cell_type": "code",
   "execution_count": null,
   "metadata": {
    "collapsed": false
   },
   "outputs": [],
   "source": [
    "Omega_tzm=Omega_t.subs({t:t+z/c})\n",
    "pprint( Omega_tzm )"
   ]
  },
  {
   "cell_type": "code",
   "execution_count": null,
   "metadata": {
    "collapsed": true
   },
   "outputs": [],
   "source": []
  },
  {
   "cell_type": "code",
   "execution_count": null,
   "metadata": {
    "collapsed": true
   },
   "outputs": [],
   "source": []
  }
 ],
 "metadata": {
  "kernelspec": {
   "display_name": "Python 2",
   "language": "python",
   "name": "python2"
  },
  "language_info": {
   "codemirror_mode": {
    "name": "ipython",
    "version": 2
   },
   "file_extension": ".py",
   "mimetype": "text/x-python",
   "name": "python",
   "nbconvert_exporter": "python",
   "pygments_lexer": "ipython2",
   "version": "2.7.13"
  }
 },
 "nbformat": 4,
 "nbformat_minor": 2
}
