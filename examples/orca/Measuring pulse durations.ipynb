{
 "cells": [
  {
   "cell_type": "code",
   "execution_count": 105,
   "metadata": {
    "collapsed": true
   },
   "outputs": [],
   "source": [
    "from sympy import (symbols, init_printing, exp, I, pi, fourier_transform, integrate, oo, sqrt, fourier_transform,\n",
    "                   inverse_fourier_transform, solve, simplify)\n",
    "init_printing()"
   ]
  },
  {
   "cell_type": "code",
   "execution_count": 20,
   "metadata": {
    "collapsed": false
   },
   "outputs": [
    {
     "data": {
      "image/png": "[encoded data removed]",
      "text/latex": [
       "$$\\frac{1}{\\sqrt[4]{\\pi} \\sqrt{\\sigma}} e^{- \\frac{\\left(t - t_{0}\\right)^{2}}{2 \\sigma^{2}}}$$"
      ],
      "text/plain": [
       "          2 \n",
       " -(t - t₀)  \n",
       " ───────────\n",
       "        2   \n",
       "     2⋅σ    \n",
       "ℯ           \n",
       "────────────\n",
       "  4 ___     \n",
       "  ╲╱ π ⋅√σ  "
      ]
     },
     "execution_count": 20,
     "metadata": {},
     "output_type": "execute_result"
    }
   ],
   "source": [
    "t, t0, nu, nu0, omega = symbols(\"t, t0, nu, nu0, omega\", real=True)\n",
    "\n",
    "A, tau, sigma, epsilon, R = symbols(\"A, tau, sigma, epsilon, R\", positive=True)\n",
    "n = symbols(\"n\", integer=True)\n",
    "\n",
    "f = exp(-((t-t0)/sigma)**2/2) / sqrt(sigma*sqrt(pi))\n",
    "f"
   ]
  },
  {
   "cell_type": "code",
   "execution_count": 21,
   "metadata": {
    "collapsed": false
   },
   "outputs": [
    {
     "data": {
      "image/png": "[encoded data removed]",
      "text/latex": [
       "$$1$$"
      ],
      "text/plain": [
       "1"
      ]
     },
     "execution_count": 21,
     "metadata": {},
     "output_type": "execute_result"
    }
   ],
   "source": [
    "integrate(f**2, (t, -oo, oo))"
   ]
  },
  {
   "cell_type": "code",
   "execution_count": 30,
   "metadata": {
    "collapsed": false
   },
   "outputs": [
    {
     "data": {
      "image/png": "[encoded data removed]",
      "text/latex": [
       "$$\\sqrt{2} \\sqrt[4]{\\pi} \\sqrt{\\sigma} e^{- 2 \\pi \\nu \\left(\\pi \\nu \\sigma^{2} + i t_{0}\\right)}$$"
      ],
      "text/plain": [
       "                    ⎛     2       ⎞\n",
       "   4 ___     -2⋅π⋅ν⋅⎝π⋅ν⋅σ  + ⅈ⋅t₀⎠\n",
       "√2⋅╲╱ π ⋅√σ⋅ℯ                      "
      ]
     },
     "execution_count": 30,
     "metadata": {},
     "output_type": "execute_result"
    }
   ],
   "source": [
    "fhat = fourier_transform(f, t, nu)\n",
    "fhat"
   ]
  },
  {
   "cell_type": "markdown",
   "metadata": {},
   "source": [
    "The amplitude FWHM in time."
   ]
  },
  {
   "cell_type": "code",
   "execution_count": 70,
   "metadata": {
    "collapsed": false
   },
   "outputs": [
    {
     "data": {
      "image/png": "[encoded data removed]",
      "text/latex": [
       "$$\\left ( 2 \\sqrt{2} \\sigma \\sqrt{\\log{\\left (2 \\right )}}, \\quad 2\\right )$$"
      ],
      "text/plain": [
       "⎛         ________   ⎞\n",
       "⎝2⋅√2⋅σ⋅╲╱ log(2) , 2⎠"
      ]
     },
     "execution_count": 70,
     "metadata": {},
     "output_type": "execute_result"
    }
   ],
   "source": [
    "fwhm_amp_t = solve(f.subs(t, t0)/2-f, t)\n",
    "fwhm_amp_t = fwhm_amp_t[1]-fwhm_amp_t[0]\n",
    "fwhm_amp_t, f.subs(t, t0)/f.subs(t, t0+ fwhm_amp_t/2)"
   ]
  },
  {
   "cell_type": "markdown",
   "metadata": {},
   "source": [
    "The amplitude FWHM in frequency."
   ]
  },
  {
   "cell_type": "code",
   "execution_count": 55,
   "metadata": {
    "collapsed": false
   },
   "outputs": [
    {
     "data": {
      "image/png": "[encoded data removed]",
      "text/latex": [
       "$$\\frac{2}{\\pi \\sigma} \\sqrt{\\log{\\left (\\sqrt{2} \\right )}}$$"
      ],
      "text/plain": [
       "    _________\n",
       "2⋅╲╱ log(√2) \n",
       "─────────────\n",
       "     π⋅σ     "
      ]
     },
     "execution_count": 55,
     "metadata": {},
     "output_type": "execute_result"
    }
   ],
   "source": [
    "fwhm_amp_nu = solve(abs(fhat).subs(nu, 0)/2 - abs(fhat), nu)\n",
    "fwhm_amp_nu = fwhm_amp_nu[3]-fwhm_amp_nu[2]\n",
    "fwhm_amp_nu"
   ]
  },
  {
   "cell_type": "markdown",
   "metadata": {},
   "source": [
    "The power FWHM in time"
   ]
  },
  {
   "cell_type": "code",
   "execution_count": 79,
   "metadata": {
    "collapsed": false
   },
   "outputs": [
    {
     "data": {
      "image/png": "[encoded data removed]",
      "text/latex": [
       "$$2 \\sigma \\sqrt{\\log{\\left (2 \\right )}}$$"
      ],
      "text/plain": [
       "      ________\n",
       "2⋅σ⋅╲╱ log(2) "
      ]
     },
     "execution_count": 79,
     "metadata": {},
     "output_type": "execute_result"
    }
   ],
   "source": [
    "fwhm_pow_t = solve(abs(f.subs(t, t0))**2/2- abs(f)**2, t)\n",
    "fwhm_pow_t = fwhm_pow_t[1] - fwhm_pow_t[0]\n",
    "fwhm_pow_t"
   ]
  },
  {
   "cell_type": "markdown",
   "metadata": {},
   "source": [
    "The power FWHM in frequency."
   ]
  },
  {
   "cell_type": "code",
   "execution_count": 80,
   "metadata": {
    "collapsed": false
   },
   "outputs": [
    {
     "data": {
      "image/png": "[encoded data removed]",
      "text/latex": [
       "$$\\frac{2}{\\pi \\sigma} \\sqrt{\\log{\\left (\\sqrt[4]{2} \\right )}}$$"
      ],
      "text/plain": [
       "     ____________\n",
       "    ╱    ⎛4 ___⎞ \n",
       "2⋅╲╱  log⎝╲╱ 2 ⎠ \n",
       "─────────────────\n",
       "       π⋅σ       "
      ]
     },
     "execution_count": 80,
     "metadata": {},
     "output_type": "execute_result"
    }
   ],
   "source": [
    "P_spectrum = abs(fhat)**2\n",
    "fwhm_pow_nu = solve(P_spectrum.subs(nu, 0)/2-P_spectrum, nu)\n",
    "fwhm_pow_nu = fwhm_pow_nu[3]-fwhm_pow_nu[2]\n",
    "fwhm_pow_nu"
   ]
  },
  {
   "cell_type": "code",
   "execution_count": 109,
   "metadata": {
    "collapsed": false
   },
   "outputs": [
    {
     "data": {
      "image/png": "[encoded data removed]",
      "text/latex": [
       "$$\\left ( \\frac{4}{\\pi} \\log{\\left (2 \\right )}, \\quad 0.882542400610606\\right )$$"
      ],
      "text/plain": [
       "⎛4⋅log(2)                   ⎞\n",
       "⎜────────, 0.882542400610606⎟\n",
       "⎝   π                       ⎠"
      ]
     },
     "execution_count": 109,
     "metadata": {},
     "output_type": "execute_result"
    }
   ],
   "source": [
    "simplify(fwhm_amp_t*fwhm_amp_nu), (fwhm_amp_t*fwhm_amp_nu).n()"
   ]
  },
  {
   "cell_type": "code",
   "execution_count": 108,
   "metadata": {
    "collapsed": false
   },
   "outputs": [
    {
     "data": {
      "image/png": "[encoded data removed]",
      "text/latex": [
       "$$\\left ( \\frac{2}{\\pi} \\log{\\left (2 \\right )}, \\quad 0.441271200305303\\right )$$"
      ],
      "text/plain": [
       "⎛2⋅log(2)                   ⎞\n",
       "⎜────────, 0.441271200305303⎟\n",
       "⎝   π                       ⎠"
      ]
     },
     "execution_count": 108,
     "metadata": {},
     "output_type": "execute_result"
    }
   ],
   "source": [
    "simplify(fwhm_pow_nu*fwhm_pow_t), (fwhm_pow_t*fwhm_pow_nu).n()"
   ]
  },
  {
   "cell_type": "markdown",
   "metadata": {},
   "source": [
    "We are interested, however, in the relation between the power frequency FWHM, and the amplitude time FWHM."
   ]
  },
  {
   "cell_type": "code",
   "execution_count": 111,
   "metadata": {
    "collapsed": false
   },
   "outputs": [
    {
     "data": {
      "image/png": "[encoded data removed]",
      "text/latex": [
       "$$\\left ( \\frac{2 \\sqrt{2}}{\\pi} \\log{\\left (2 \\right )}, \\quad 0.624051716156414\\right )$$"
      ],
      "text/plain": [
       "⎛2⋅√2⋅log(2)                   ⎞\n",
       "⎜───────────, 0.624051716156414⎟\n",
       "⎝     π                        ⎠"
      ]
     },
     "execution_count": 111,
     "metadata": {},
     "output_type": "execute_result"
    }
   ],
   "source": [
    "simplify(fwhm_pow_nu*fwhm_amp_t), (fwhm_pow_nu*fwhm_amp_t).n()"
   ]
  },
  {
   "cell_type": "code",
   "execution_count": 112,
   "metadata": {
    "collapsed": false
   },
   "outputs": [],
   "source": [
    "import numpy as np"
   ]
  },
  {
   "cell_type": "code",
   "execution_count": 113,
   "metadata": {
    "collapsed": false
   },
   "outputs": [
    {
     "name": "stdout",
     "output_type": "stream",
     "text": [
      "For 1 ns: 0.6241 GHz\n",
      "\n"
     ]
    }
   ],
   "source": [
    "tau1 = 1e-9\n",
    "sig_power1 = np.sqrt(8.0)*np.log(2.0)/np.pi/tau1\n",
    "print \"For 1 ns: %2.4f GHz\" % (sig_power1*1e-9)\n",
    "print "
   ]
  },
  {
   "cell_type": "code",
   "execution_count": 114,
   "metadata": {
    "collapsed": false
   },
   "outputs": [
    {
     "name": "stdout",
     "output_type": "stream",
     "text": [
      "For 1 GHz: 0.6241 ns\n"
     ]
    }
   ],
   "source": [
    "sig_power1 = 1e9\n",
    "tau1 = np.sqrt(8.0)*np.log(2.0)/np.pi/sig_power1\n",
    "print \"For 1 GHz: %2.4f ns\" % (tau1*1e9)"
   ]
  },
  {
   "cell_type": "code",
   "execution_count": 115,
   "metadata": {
    "collapsed": true
   },
   "outputs": [],
   "source": [
    "from sympy import sech"
   ]
  },
  {
   "cell_type": "code",
   "execution_count": 117,
   "metadata": {
    "collapsed": false
   },
   "outputs": [
    {
     "data": {
      "image/png": "[encoded data removed]",
      "text/latex": [
       "$$\\mathcal{F}_{t}\\left[\\operatorname{sech}{\\left (t \\right )}\\right]\\left(\\nu\\right)$$"
      ],
      "text/plain": [
       "FourierTransform(sech(t), t, ν)"
      ]
     },
     "execution_count": 117,
     "metadata": {},
     "output_type": "execute_result"
    }
   ],
   "source": [
    "fourier_transform(sech(t), t, nu)"
   ]
  },
  {
   "cell_type": "code",
   "execution_count": null,
   "metadata": {
    "collapsed": true
   },
   "outputs": [],
   "source": []
  },
  {
   "cell_type": "code",
   "execution_count": null,
   "metadata": {
    "collapsed": true
   },
   "outputs": [],
   "source": []
  },
  {
   "cell_type": "code",
   "execution_count": 25,
   "metadata": {
    "collapsed": false
   },
   "outputs": [
    {
     "data": {
      "image/png": "[encoded data removed]",
      "text/latex": [
       "$$A e^{- \\frac{1}{2 \\epsilon^{2}} \\left(- R n + \\nu\\right)^{2}}$$"
      ],
      "text/plain": [
       "              2 \n",
       "   -(-R⋅n + ν)  \n",
       "   ─────────────\n",
       "           2    \n",
       "        2⋅ε     \n",
       "A⋅ℯ             "
      ]
     },
     "execution_count": 25,
     "metadata": {},
     "output_type": "execute_result"
    }
   ],
   "source": [
    "tooth = A*exp(-((nu-n*R)/epsilon)**2/2)\n",
    "tooth"
   ]
  },
  {
   "cell_type": "code",
   "execution_count": 27,
   "metadata": {
    "collapsed": false
   },
   "outputs": [
    {
     "data": {
      "image/png": "[encoded data removed]",
      "text/latex": [
       "$$\\sqrt{2} \\sqrt{\\pi} A \\epsilon e^{2 \\pi t \\left(i R n - \\pi \\epsilon^{2} t\\right)}$$"
      ],
      "text/plain": [
       "                 ⎛           2  ⎞\n",
       "           2⋅π⋅t⋅⎝ⅈ⋅R⋅n - π⋅ε ⋅t⎠\n",
       "√2⋅√π⋅A⋅ε⋅ℯ                      "
      ]
     },
     "execution_count": 27,
     "metadata": {},
     "output_type": "execute_result"
    }
   ],
   "source": [
    "inverse_fourier_transform(tooth, nu, t)"
   ]
  },
  {
   "cell_type": "code",
   "execution_count": 26,
   "metadata": {
    "collapsed": false
   },
   "outputs": [
    {
     "data": {
      "image/png": "[encoded data removed]",
      "text/latex": [
       "$$\\sqrt{2} \\sqrt{\\pi} A \\epsilon e^{- 2 \\pi^{2} \\epsilon^{2} t^{2}}$$"
      ],
      "text/plain": [
       "               2  2  2\n",
       "           -2⋅π ⋅ε ⋅t \n",
       "√2⋅√π⋅A⋅ε⋅ℯ           "
      ]
     },
     "execution_count": 26,
     "metadata": {},
     "output_type": "execute_result"
    }
   ],
   "source": [
    "inverse_fourier_transform(tooth, nu, t).subs(n, 0)"
   ]
  },
  {
   "cell_type": "code",
   "execution_count": 28,
   "metadata": {
    "collapsed": true
   },
   "outputs": [],
   "source": [
    "inverse_fourier_transform?"
   ]
  },
  {
   "cell_type": "code",
   "execution_count": 8,
   "metadata": {
    "collapsed": false
   },
   "outputs": [
    {
     "data": {
      "image/png": "[encoded data removed]",
      "text/latex": [
       "$$\\sqrt{2} \\sqrt[4]{\\pi} \\sqrt{\\sigma} e^{- 2 \\pi \\nu \\left(\\pi \\nu \\sigma^{2} + i t_{0}\\right)}$$"
      ],
      "text/plain": [
       "                    ⎛     2       ⎞\n",
       "   4 ___     -2⋅π⋅ν⋅⎝π⋅ν⋅σ  + ⅈ⋅t₀⎠\n",
       "√2⋅╲╱ π ⋅√σ⋅ℯ                      "
      ]
     },
     "execution_count": 8,
     "metadata": {},
     "output_type": "execute_result"
    }
   ],
   "source": [
    "fourier_transform(f, t, nu)"
   ]
  },
  {
   "cell_type": "code",
   "execution_count": 9,
   "metadata": {
    "collapsed": false
   },
   "outputs": [
    {
     "data": {
      "image/png": "[encoded data removed]",
      "text/latex": [
       "$$\\sqrt{2} \\sqrt[4]{\\pi} \\sqrt{\\sigma} e^{- 2 \\pi^{2} \\nu^{2} \\sigma^{2}}$$"
      ],
      "text/plain": [
       "                 2  2  2\n",
       "   4 ___     -2⋅π ⋅ν ⋅σ \n",
       "√2⋅╲╱ π ⋅√σ⋅ℯ           "
      ]
     },
     "execution_count": 9,
     "metadata": {},
     "output_type": "execute_result"
    }
   ],
   "source": [
    "fourier_transform(f, t, nu).subs(t0, 0)"
   ]
  },
  {
   "cell_type": "code",
   "execution_count": 15,
   "metadata": {
    "collapsed": true
   },
   "outputs": [],
   "source": [
    "fourier_transform?"
   ]
  },
  {
   "cell_type": "code",
   "execution_count": null,
   "metadata": {
    "collapsed": true
   },
   "outputs": [],
   "source": []
  }
 ],
 "metadata": {
  "kernelspec": {
   "display_name": "Python 2",
   "language": "python",
   "name": "python2"
  },
  "language_info": {
   "codemirror_mode": {
    "name": "ipython",
    "version": 2
   },
   "file_extension": ".py",
   "mimetype": "text/x-python",
   "name": "python",
   "nbconvert_exporter": "python",
   "pygments_lexer": "ipython2",
   "version": "2.7.13"
  }
 },
 "nbformat": 4,
 "nbformat_minor": 2
}
