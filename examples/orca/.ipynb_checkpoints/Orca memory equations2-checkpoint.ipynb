{
 "cells": [
  {
   "cell_type": "markdown",
   "metadata": {},
   "source": [
    "# Orca memory equations"
   ]
  },
  {
   "cell_type": "code",
   "execution_count": 1,
   "metadata": {
    "collapsed": false
   },
   "outputs": [],
   "source": [
    "from fast import *\n",
    "from fast.config import fast_path\n",
    "from matplotlib import pyplot\n",
    "from sympy import sin,cos,exp,sqrt,pi,zeros,I, Integral, oo, integrate, Equality, Mul, diff, DiracDelta, simplify\n",
    "from numpy import array\n",
    "%matplotlib inline\n",
    "init_printing()\n",
    "print_ascii=True; print_ascii=False"
   ]
  },
  {
   "cell_type": "code",
   "execution_count": 2,
   "metadata": {
    "collapsed": true
   },
   "outputs": [],
   "source": [
    "path=\"/home/oscar/oxford/inhomogeneous_broadening/complete_model/\" \n",
    "name='orca'"
   ]
  },
  {
   "cell_type": "markdown",
   "metadata": {},
   "source": [
    "We will be deriving the optical Bloch equations for a three level system in a ladder configuration as that in the figure."
   ]
  },
  {
   "cell_type": "code",
   "execution_count": 3,
   "metadata": {
    "collapsed": false
   },
   "outputs": [
    {
     "data": {
      "image/png": "[encoded data removed]",
      "text/plain": [
       "<matplotlib.figure.Figure at 0x7f1c0dda7710>"
      ]
     },
     "metadata": {},
     "output_type": "display_data"
    }
   ],
   "source": [
    "fig=pyplot.figure(); ax=fig.add_subplot(111,aspect=\"equal\")\n",
    "\n",
    "p1=[0.5,1]; p2=[1.5,3]; p3=[2.5,5]\n",
    "draw_state(ax,p1,text=r\"$|1\\rangle$\",l=1.0,alignment='right',label_displacement=0.05,fontsize=25,linewidth=4.0)\n",
    "draw_state(ax,p2,text=r\"$|2\\rangle$\",l=1.0,alignment='right',label_displacement=0.05,fontsize=25,linewidth=4.0)\n",
    "draw_state(ax,p3,text=r\"$|3\\rangle$\",l=1.0,alignment='right',label_displacement=0.05,fontsize=25,linewidth=4.0)\n",
    "\n",
    "excitation(ax,[p1[0]+0.25,p1[1]],[p2[0]+0.25,p2[1]], fc=\"r\", ec=\"r\",width=0.01, head_width=0.2, head_length=0.2)\n",
    "excitation(ax,[p2[0]+0.25,p2[1]],[p3[0]+0.25,p3[1]], fc=\"b\", ec=\"b\",width=0.01, head_width=0.2, head_length=0.2)\n",
    "\n",
    "decay(     ax,[p1[0]-0.25,p1[1]],[p2[0]-0.25,p2[1]], 0.05,10.0,color=\"r\",linewidth=1.0)\n",
    "decay(     ax,[p2[0]-0.25,p2[1]],[p3[0]-0.25,p3[1]], 0.05,10.0,color=\"b\",linewidth=1.0)\n",
    "\n",
    "pyplot.axis('off')\n",
    "pyplot.savefig(path+name+'_diagram.png',bbox_inches=\"tight\")"
   ]
  },
  {
   "cell_type": "markdown",
   "metadata": {},
   "source": [
    "We define the number of states and of radiation fields."
   ]
  },
  {
   "cell_type": "code",
   "execution_count": 4,
   "metadata": {
    "collapsed": true
   },
   "outputs": [],
   "source": [
    "Ne=3\n",
    "Nl=2"
   ]
  },
  {
   "cell_type": "markdown",
   "metadata": {},
   "source": [
    "We define a few important symbols."
   ]
  },
  {
   "cell_type": "code",
   "execution_count": 5,
   "metadata": {
    "collapsed": false
   },
   "outputs": [],
   "source": [
    "c,hbar,e,mu0, epsilon0=symbols(\"c hbar e mu0 varepsilon0\",positive=True)\n",
    "# fprint([c,hbar,e,mu0, epsilon0],print_ascii=print_ascii)"
   ]
  },
  {
   "cell_type": "code",
   "execution_count": 6,
   "metadata": {
    "collapsed": false
   },
   "outputs": [],
   "source": [
    "t, X, Y, Z, R, Phi=symbols(\"t X Y Z R Phi\",real=True)\n",
    "RR = Matrix([R*cos(Phi), R*sin(Phi), Z])\n",
    "# RR=Matrix([X,Y,Z])\n",
    "# fprint([t,RR],print_ascii=print_ascii)"
   ]
  },
  {
   "cell_type": "markdown",
   "metadata": {},
   "source": [
    "We define the variables related to the laser field."
   ]
  },
  {
   "cell_type": "code",
   "execution_count": 7,
   "metadata": {
    "collapsed": false
   },
   "outputs": [],
   "source": [
    "E0,omega_laser=define_laser_variables(Nl, variables=[t, Z])\n",
    "# fprint(E0,print_ascii=print_ascii)"
   ]
  },
  {
   "cell_type": "code",
   "execution_count": 8,
   "metadata": {
    "collapsed": false
   },
   "outputs": [],
   "source": [
    "# fprint(omega_laser,print_ascii=print_ascii)"
   ]
  },
  {
   "cell_type": "markdown",
   "metadata": {},
   "source": [
    "We write two electric fields propagating trough the $\\hat{x}$ direction polarized in the $\\hat{z}$ direction. First the wave vectors:"
   ]
  },
  {
   "cell_type": "code",
   "execution_count": 9,
   "metadata": {
    "collapsed": false
   },
   "outputs": [],
   "source": [
    "phi1=0 ; theta1=0; alpha1=pi/2; beta1=pi/8\n",
    "phi2=0; theta2=pi; alpha2=pi/2; beta2=pi/8\n",
    "\n",
    "k1=Matrix([cos(phi1)*sin(theta1),sin(phi1)*sin(theta1),cos(theta1)])\n",
    "k2=Matrix([cos(phi2)*sin(theta2),sin(phi2)*sin(theta2),cos(theta2)])\n",
    "\n",
    "k=[k1,k2]\n",
    "\n",
    "# fprint(k,print_ascii=print_ascii)"
   ]
  },
  {
   "cell_type": "markdown",
   "metadata": {},
   "source": [
    "The polarization vectors."
   ]
  },
  {
   "cell_type": "code",
   "execution_count": 10,
   "metadata": {
    "collapsed": false
   },
   "outputs": [],
   "source": [
    "ep1=polarization_vector(phi1,theta1,alpha1,beta1, 1)\n",
    "ep2=polarization_vector(phi2,theta2,alpha2,beta2, 1)\n",
    "\n",
    "em1=ep1.conjugate()\n",
    "em2=ep2.conjugate()\n",
    "\n",
    "ep=[ep1,ep2]\n",
    "em=[em1,em2]\n",
    "\n",
    "# fprint([ep,em],print_ascii=print_ascii)"
   ]
  },
  {
   "cell_type": "markdown",
   "metadata": {},
   "source": [
    "The electric field (evaluated in $\\vec{R}=0$)."
   ]
  },
  {
   "cell_type": "code",
   "execution_count": 11,
   "metadata": {
    "collapsed": false
   },
   "outputs": [
    {
     "data": {
      "image/png": "[encoded data removed]",
      "text/latex": [
       "$$\\left [ \\left[\\begin{matrix}- \\frac{\\sqrt{2}}{4} \\operatorname{E_{01}}{\\left (t,Z \\right )} e^{- i \\varpi_{1} \\left(- \\frac{Z}{c} + t\\right)} - \\frac{\\sqrt{2}}{4} e^{i \\varpi_{1} \\left(- \\frac{Z}{c} + t\\right)} \\overline{\\operatorname{E_{01}}{\\left (t,Z \\right )}}\\\\- \\frac{\\sqrt{2} i}{4} \\operatorname{E_{01}}{\\left (t,Z \\right )} e^{- i \\varpi_{1} \\left(- \\frac{Z}{c} + t\\right)} + \\frac{\\sqrt{2} i}{4} e^{i \\varpi_{1} \\left(- \\frac{Z}{c} + t\\right)} \\overline{\\operatorname{E_{01}}{\\left (t,Z \\right )}}\\\\0\\end{matrix}\\right], \\quad \\left[\\begin{matrix}\\frac{\\sqrt{2}}{4} \\operatorname{E_{02}}{\\left (t,Z \\right )} e^{- i \\varpi_{2} \\left(\\frac{Z}{c} + t\\right)} + \\frac{\\sqrt{2}}{4} e^{i \\varpi_{2} \\left(\\frac{Z}{c} + t\\right)} \\overline{\\operatorname{E_{02}}{\\left (t,Z \\right )}}\\\\- \\frac{\\sqrt{2} i}{4} \\operatorname{E_{02}}{\\left (t,Z \\right )} e^{- i \\varpi_{2} \\left(\\frac{Z}{c} + t\\right)} + \\frac{\\sqrt{2} i}{4} e^{i \\varpi_{2} \\left(\\frac{Z}{c} + t\\right)} \\overline{\\operatorname{E_{02}}{\\left (t,Z \\right )}}\\\\0\\end{matrix}\\right]\\right ]$$"
      ],
      "text/plain": [
       "⎡⎡                               ⎛  Z    ⎞                ⎛  Z    ⎞           \n",
       "⎢⎢                     -ⅈ⋅varpi₁⋅⎜- ─ + t⎟       ⅈ⋅varpi₁⋅⎜- ─ + t⎟           \n",
       "⎢⎢                               ⎝  c    ⎠                ⎝  c    ⎠ __________\n",
       "⎢⎢    √2⋅E_{01}(t, Z)⋅ℯ                      √2⋅ℯ                  ⋅E_{01}(t, \n",
       "⎢⎢  - ──────────────────────────────────── - ─────────────────────────────────\n",
       "⎢⎢                     4                                      4               \n",
       "⎢⎢                                                                            \n",
       "⎢⎢                               ⎛  Z    ⎞                  ⎛  Z    ⎞         \n",
       "⎢⎢                     -ⅈ⋅varpi₁⋅⎜- ─ + t⎟         ⅈ⋅varpi₁⋅⎜- ─ + t⎟         \n",
       "⎢⎢                               ⎝  c    ⎠                  ⎝  c    ⎠ ________\n",
       "⎢⎢  √2⋅ⅈ⋅E_{01}(t, Z)⋅ℯ                      √2⋅ⅈ⋅ℯ                  ⋅E_{01}(t\n",
       "⎢⎢- ────────────────────────────────────── + ─────────────────────────────────\n",
       "⎢⎢                    4                                        4              \n",
       "⎢⎢                                                                            \n",
       "⎣⎣                                       0                                    \n",
       "\n",
       "    ⎤  ⎡                              ⎛Z    ⎞                ⎛Z    ⎞          \n",
       "    ⎥  ⎢                    -ⅈ⋅varpi₂⋅⎜─ + t⎟       ⅈ⋅varpi₂⋅⎜─ + t⎟          \n",
       "__  ⎥  ⎢                              ⎝c    ⎠                ⎝c    ⎠ _________\n",
       "Z)  ⎥  ⎢   √2⋅E_{02}(t, Z)⋅ℯ                    √2⋅ℯ                ⋅E_{02}(t,\n",
       "──  ⎥, ⎢   ────────────────────────────────── + ──────────────────────────────\n",
       "    ⎥  ⎢                   4                                    4             \n",
       "    ⎥  ⎢                                                                      \n",
       "    ⎥  ⎢                               ⎛Z    ⎞                  ⎛Z    ⎞       \n",
       "    ⎥  ⎢                     -ⅈ⋅varpi₂⋅⎜─ + t⎟         ⅈ⋅varpi₂⋅⎜─ + t⎟       \n",
       "____⎥  ⎢                               ⎝c    ⎠                  ⎝c    ⎠ ______\n",
       ", Z)⎥  ⎢  √2⋅ⅈ⋅E_{02}(t, Z)⋅ℯ                    √2⋅ⅈ⋅ℯ                ⋅E_{02}\n",
       "────⎥  ⎢- ──────────────────────────────────── + ─────────────────────────────\n",
       "    ⎥  ⎢                   4                                      4           \n",
       "    ⎥  ⎢                                                                      \n",
       "    ⎦  ⎣                                     0                                \n",
       "\n",
       "      ⎤⎤\n",
       "      ⎥⎥\n",
       "___   ⎥⎥\n",
       " Z)   ⎥⎥\n",
       "───   ⎥⎥\n",
       "      ⎥⎥\n",
       "      ⎥⎥\n",
       "      ⎥⎥\n",
       "      ⎥⎥\n",
       "______⎥⎥\n",
       "(t, Z)⎥⎥\n",
       "──────⎥⎥\n",
       "      ⎥⎥\n",
       "      ⎥⎥\n",
       "      ⎦⎦"
      ]
     },
     "execution_count": 11,
     "metadata": {},
     "output_type": "execute_result"
    }
   ],
   "source": [
    "zero_vect=Matrix([0,0,0])\n",
    "E_cartesian = [(+E0[l]            *ep[l]*exp(-I*omega_laser[l]*(t-k[l].dot(RR)/c)) \n",
    "                +E0[l].conjugate()*em[l]*exp(+I*omega_laser[l]*(t-k[l].dot(RR)/c)))/2 \n",
    "                    for l in range(Nl)]\n",
    "\n",
    "E_cartesian"
   ]
  },
  {
   "cell_type": "code",
   "execution_count": 12,
   "metadata": {
    "collapsed": false
   },
   "outputs": [
    {
     "data": {
      "image/png": "[encoded data removed]",
      "text/plain": [
       "<matplotlib.figure.Figure at 0x7f1c0a846890>"
      ]
     },
     "metadata": {},
     "output_type": "display_data"
    }
   ],
   "source": [
    "l1 = PlaneWave(phi1,theta1,alpha1,beta1,color=\"blue\")\n",
    "l2 = PlaneWave(phi2,theta2,alpha2,beta2,color=\"red\")\n",
    "\n",
    "laseres = [l1, l2]\n",
    "Nl = len(laseres)\n",
    "\n",
    "fig = pyplot.figure(); ax = fig.gca(projection='3d')\n",
    "draw_lasers_3d(ax,laseres,path+name+'_lasers.png')"
   ]
  },
  {
   "cell_type": "markdown",
   "metadata": {},
   "source": [
    "We write the electric fields in the helicity basis (see notebook \"Vectors in the helicity basis and the electric field\")."
   ]
  },
  {
   "cell_type": "code",
   "execution_count": 13,
   "metadata": {
    "collapsed": false
   },
   "outputs": [],
   "source": [
    "E = [cartesian_to_helicity(E_cartesian[l]).expand() for l in range(Nl)]\n",
    "# fprint(E,print_ascii=print_ascii)"
   ]
  },
  {
   "cell_type": "markdown",
   "metadata": {},
   "source": [
    "We define the position operator."
   ]
  },
  {
   "cell_type": "code",
   "execution_count": 14,
   "metadata": {
    "collapsed": false
   },
   "outputs": [],
   "source": [
    "r = define_r_components(Ne,helicity=True,explicitly_hermitian=True)\n",
    "#Ladder means that r_{p;31}=0\n",
    "r = [ri.subs({r[0][2,0]:0,r[1][2,0]:0,r[2][2,0]:0}) for ri in r]\n",
    "# fprint(r,print_ascii=print_ascii)"
   ]
  },
  {
   "cell_type": "markdown",
   "metadata": {},
   "source": [
    "The frequencies of the energy levels, the resonant frequencies, and the decay frequencies."
   ]
  },
  {
   "cell_type": "code",
   "execution_count": 15,
   "metadata": {
    "collapsed": false
   },
   "outputs": [],
   "source": [
    "omega_level, omega, gamma = define_frequencies(Ne,explicitly_antisymmetric=True)\n",
    "#Ladder means gamma31=0\n",
    "gamma = gamma.subs({gamma[2,0]:0})\n",
    "# fprint(omega_level,print_ascii=print_ascii)"
   ]
  },
  {
   "cell_type": "code",
   "execution_count": 16,
   "metadata": {
    "collapsed": false
   },
   "outputs": [],
   "source": [
    "# fprint(omega, print_ascii=print_ascii)"
   ]
  },
  {
   "cell_type": "code",
   "execution_count": 17,
   "metadata": {
    "collapsed": false
   },
   "outputs": [],
   "source": [
    "# fprint(gamma, print_ascii=print_ascii)"
   ]
  },
  {
   "cell_type": "markdown",
   "metadata": {},
   "source": [
    "The atomic hamiltonian is"
   ]
  },
  {
   "cell_type": "code",
   "execution_count": 18,
   "metadata": {
    "collapsed": false
   },
   "outputs": [],
   "source": [
    "H0 = Matrix([[hbar*omega_level[i]*KroneckerDelta(i,j) for j in range(Ne)] for i in range(Ne)])\n",
    "# fprint(H0, print_ascii=print_ascii)"
   ]
  },
  {
   "cell_type": "markdown",
   "metadata": {
    "collapsed": false
   },
   "source": [
    "The interaction hamiltonian is"
   ]
  },
  {
   "cell_type": "code",
   "execution_count": 19,
   "metadata": {
    "collapsed": false
   },
   "outputs": [],
   "source": [
    "zero_matrix = zeros(Ne,Ne)\n",
    "H1 = sum([e*helicity_dot_product(E[l],r) for l in range(Nl)],zero_matrix)\n",
    "# fprint(H1,print_ascii=print_ascii)"
   ]
  },
  {
   "cell_type": "markdown",
   "metadata": {},
   "source": [
    "and the complete hamiltonian is"
   ]
  },
  {
   "cell_type": "code",
   "execution_count": 20,
   "metadata": {
    "collapsed": false
   },
   "outputs": [],
   "source": [
    "H = H0 + H1"
   ]
  },
  {
   "cell_type": "markdown",
   "metadata": {
    "collapsed": true
   },
   "source": [
    "# Rotating wave approximation\n",
    "Notice that the electric field can be separated by terms with positive and negative frequency:"
   ]
  },
  {
   "cell_type": "code",
   "execution_count": 21,
   "metadata": {
    "collapsed": false
   },
   "outputs": [],
   "source": [
    "E_cartesian_p = [E0[l]/2            *ep[l]*exp(-I*omega_laser[l]*(t-k[l].dot(RR)/c)) for l in range(Nl)]\n",
    "E_cartesian_m = [E0[l].conjugate()/2*em[l]*exp(I*omega_laser[l]*(t-k[l].dot(RR)/c)) for l in range(Nl)]\n",
    "\n",
    "E_p = [cartesian_to_helicity(E_cartesian_p[l]) for l in range(Nl)]\n",
    "E_m = [cartesian_to_helicity(E_cartesian_m[l]) for l in range(Nl)]\n",
    "\n",
    "# fprint([E_p,E_m], print_ascii=print_ascii)"
   ]
  },
  {
   "cell_type": "code",
   "execution_count": 22,
   "metadata": {
    "collapsed": false
   },
   "outputs": [],
   "source": [
    "# fprint( simplify(sum([E[l] for l in range(Nl)],zero_vect)-(sum([E_p[l]+E_m[l] for l in range(Nl)],zero_vect) )), print_ascii=print_ascii)"
   ]
  },
  {
   "cell_type": "markdown",
   "metadata": {},
   "source": [
    "The position operator can also be separated in this way. We go to the interaction picture (with $\\hat{H}_0$ as the undisturbed hamiltonian)"
   ]
  },
  {
   "cell_type": "code",
   "execution_count": 23,
   "metadata": {
    "collapsed": false
   },
   "outputs": [],
   "source": [
    "r_I = [ Matrix([[exp(I*omega[i,j]*t)*r[p][i,j] for j in range(Ne)] for i in range(Ne)]) for p in range(3)]\n",
    "# fprint(r_I[0], print_ascii=print_ascii)"
   ]
  },
  {
   "cell_type": "code",
   "execution_count": 24,
   "metadata": {
    "collapsed": false
   },
   "outputs": [],
   "source": [
    "# fprint(r_I[1], print_ascii=print_ascii)"
   ]
  },
  {
   "cell_type": "code",
   "execution_count": 25,
   "metadata": {
    "collapsed": false
   },
   "outputs": [],
   "source": [
    "# fprint(r_I[2], print_ascii=print_ascii)"
   ]
  },
  {
   "cell_type": "markdown",
   "metadata": {},
   "source": [
    "Which can be decomposed in positive and negative frequencies as"
   ]
  },
  {
   "cell_type": "code",
   "execution_count": 26,
   "metadata": {
    "collapsed": false
   },
   "outputs": [],
   "source": [
    "r_I_p = [Matrix([[ delta_greater(j,i)*exp(-I*omega[j,i]*t)*r[p][i,j] for j in range(Ne)]for i in range(Ne)]) for p in range(3)]\n",
    "# fprint(r_I_p[0], print_ascii=print_ascii)"
   ]
  },
  {
   "cell_type": "code",
   "execution_count": 27,
   "metadata": {
    "collapsed": false
   },
   "outputs": [],
   "source": [
    "# fprint(r_I_p[1], print_ascii=print_ascii)"
   ]
  },
  {
   "cell_type": "code",
   "execution_count": 28,
   "metadata": {
    "collapsed": false
   },
   "outputs": [],
   "source": [
    "# fprint(r_I_p[2], print_ascii=print_ascii)"
   ]
  },
  {
   "cell_type": "code",
   "execution_count": 29,
   "metadata": {
    "collapsed": false
   },
   "outputs": [],
   "source": [
    "r_I_m = [Matrix([[ delta_lesser( j,i)*exp( I*omega[i,j]*t)*r[p][i,j] for j in range(Ne)]for i in range(Ne)]) for p in range(3)]\n",
    "# fprint(r_I_m[0],print_ascii=print_ascii)"
   ]
  },
  {
   "cell_type": "code",
   "execution_count": 30,
   "metadata": {
    "collapsed": false
   },
   "outputs": [],
   "source": [
    "# fprint(r_I_m[1], print_ascii=print_ascii)"
   ]
  },
  {
   "cell_type": "code",
   "execution_count": 31,
   "metadata": {
    "collapsed": false
   },
   "outputs": [],
   "source": [
    "# fprint(r_I_m[2], print_ascii=print_ascii)"
   ]
  },
  {
   "cell_type": "markdown",
   "metadata": {},
   "source": [
    "that summed equal $\\vec{\\hat{r}}_I$"
   ]
  },
  {
   "cell_type": "code",
   "execution_count": 32,
   "metadata": {
    "collapsed": false
   },
   "outputs": [],
   "source": [
    "# fprint( [r_I[p]-(r_I_p[p]+r_I_m[p]) for p in range(3)] , print_ascii=print_ascii)"
   ]
  },
  {
   "cell_type": "markdown",
   "metadata": {},
   "source": [
    "Thus the interaction hamiltonian in the interaciton picture is\n",
    "\\begin{equation}\n",
    "    \\hat{H}_{1I}=e\\vec{E}\\cdot \\vec{\\hat{r}}_I= e(\\vec{E}^{(+)}\\cdot \\vec{\\hat{r}}^{(+)}_I + \\vec{E}^{(+)}\\cdot \\vec{\\hat{r}}^{(-)}_I + \\vec{E}^{(-)}\\cdot \\vec{\\hat{r}}^{(+)}_I + \\vec{E}^{(-)}\\cdot \\vec{\\hat{r}}^{(-)}_I)\n",
    "\\end{equation}"
   ]
  },
  {
   "cell_type": "code",
   "execution_count": 33,
   "metadata": {
    "collapsed": false
   },
   "outputs": [],
   "source": [
    "H1I = sum([ e*helicity_dot_product(E[l],r_I) for l in range(Nl)],zero_matrix)\n",
    "# fprint(H1I,print_ascii=print_ascii)"
   ]
  },
  {
   "cell_type": "markdown",
   "metadata": {},
   "source": [
    "Since both $\\omega^l$ and $\\omega_{ij}$ are in the order of THz, the terms that have frequencies with the same sign are summed, and thus also of the order of THz. The frequencies in the terms with oposite signs however, are detunings of the order of MHz. Since we are only interested in the coarse-grained evolution of the density matrix, we may omit the fast terms and approximate\n",
    "\n",
    "\\begin{equation}\n",
    "    \\hat{H}_{1I} \\simeq \\hat{H}_{1I,RWA}= e( \\vec{E}^{(+)}\\cdot \\vec{\\hat{r}}^{(-)}_I + \\vec{E}^{(-)}\\cdot \\vec{\\hat{r}}^{(+)}_I )\n",
    "\\end{equation}\n",
    "\n",
    "That is known as the rotating wave approximation (RWA)."
   ]
  },
  {
   "cell_type": "code",
   "execution_count": 34,
   "metadata": {
    "collapsed": false
   },
   "outputs": [],
   "source": [
    "H1IRWA = sum([(e*(helicity_dot_product(E_p[l],r_I_m)+helicity_dot_product(E_m[l],r_I_p))) for l in range(Nl)],zero_matrix)\n",
    "# fprint(H1IRWA,print_ascii=print_ascii)"
   ]
  },
  {
   "cell_type": "markdown",
   "metadata": {},
   "source": [
    "The matrix element $(\\hat{H}_{1I,RWA})_{21}$ element is"
   ]
  },
  {
   "cell_type": "code",
   "execution_count": 35,
   "metadata": {
    "collapsed": false
   },
   "outputs": [],
   "source": [
    "# fprint(H1IRWA[1,0].expand(),print_ascii=print_ascii)"
   ]
  },
  {
   "cell_type": "markdown",
   "metadata": {},
   "source": [
    "But if the detuning $\\omega_{21}-\\omega^1 \\ll \\omega_{21}-\\omega^2$ (the second field is far detuned from the $1 \\rightarrow 2$ transition), then $\\omega_{21}-\\omega^2$ may be also considered too high a frequency to be relevant to coarse-grained evolution. So we might neclect that term in $(\\hat{H}_{1I,RWA})_{21}$ and similarly neglect the $\\omega_{32}-\\omega^1$ for term in $(\\hat{H}_{1I,RWA})_{32}$:"
   ]
  },
  {
   "cell_type": "code",
   "execution_count": 36,
   "metadata": {
    "collapsed": false
   },
   "outputs": [],
   "source": [
    "# fprint(H1IRWA[2,1].expand(),print_ascii=print_ascii)"
   ]
  },
  {
   "cell_type": "markdown",
   "metadata": {},
   "source": [
    "In other words, if the detunings in our experiments allow the approximmation, we might choose which frequency components $\\omega^l$ excite which transitions. Let us say that $L_{ij}$ is the set of $l$ such that $\\omega^l$ excites the transition $i\\rightarrow j$"
   ]
  },
  {
   "cell_type": "code",
   "execution_count": 37,
   "metadata": {
    "collapsed": false
   },
   "outputs": [
    {
     "name": "stdout",
     "output_type": "stream",
     "text": [
      "[[[] [1] []]\n",
      " [[1] [] [2]]\n",
      " [[] [2] []]]\n"
     ]
    }
   ],
   "source": [
    "Lij=[[1,2,[1]],[2,3,[2]]]\n",
    "Lij=formatLij(Lij,Ne)\n",
    "print array(Lij)"
   ]
  },
  {
   "cell_type": "markdown",
   "metadata": {},
   "source": [
    "Thus the interacion hamiltonian in the interaction picture can be approximated as"
   ]
  },
  {
   "cell_type": "code",
   "execution_count": 38,
   "metadata": {
    "collapsed": false
   },
   "outputs": [],
   "source": [
    "H1IRWA = sum([ e*( helicity_dot_product( E_p[l],vector_element(r_I_m,i,j)) ) * ket(i+1,Ne)*bra(j+1,Ne) \n",
    "            for l in range(Nl) for j in range(Ne) for i in range(Ne) if l+1 in Lij[i][j] ],zero_matrix)\n",
    "H1IRWA += sum([ e*( helicity_dot_product( E_m[l],vector_element(r_I_p,i,j)) ) * ket(i+1,Ne)*bra(j+1,Ne) \n",
    "            for l in range(Nl) for j in range(Ne) for i in range(Ne) if l+1 in Lij[i][j] ],zero_matrix)\n",
    "\n",
    "# fprint(H1IRWA, print_ascii=print_ascii)"
   ]
  },
  {
   "cell_type": "markdown",
   "metadata": {},
   "source": [
    "Returning to the Schrödinger picture we have."
   ]
  },
  {
   "cell_type": "code",
   "execution_count": 39,
   "metadata": {
    "collapsed": false
   },
   "outputs": [],
   "source": [
    "r_p = [Matrix([[ delta_greater(j,i)*r[p][i,j] for j in range(Ne)]for i in range(Ne)]) for p in range(3)]\n",
    "# fprint(r_p, print_ascii=print_ascii)"
   ]
  },
  {
   "cell_type": "code",
   "execution_count": 40,
   "metadata": {
    "collapsed": false
   },
   "outputs": [],
   "source": [
    "r_m = [Matrix([[ delta_lesser( j,i)*r[p][i,j] for j in range(Ne)]for i in range(Ne)]) for p in range(3)]\n",
    "# fprint(r_m, print_ascii=print_ascii)"
   ]
  },
  {
   "cell_type": "code",
   "execution_count": 41,
   "metadata": {
    "collapsed": false
   },
   "outputs": [],
   "source": [
    "# fprint( [r[p]-(r_p[p]+r_m[p]) for p in range(3)] , print_ascii=print_ascii)"
   ]
  },
  {
   "cell_type": "markdown",
   "metadata": {},
   "source": [
    "Thus the interaction hamiltonian in the Schrödinger picture in the rotating wave approximation is"
   ]
  },
  {
   "cell_type": "code",
   "execution_count": 42,
   "metadata": {
    "collapsed": false
   },
   "outputs": [],
   "source": [
    "H1RWA = sum([e*( helicity_dot_product( E_p[l],vector_element(r_m,i,j)) ) * ket(i+1,Ne)*bra(j+1,Ne) \n",
    "            for l in range(Nl) for j in range(Ne) for i in range(Ne) if l+1 in Lij[i][j] ],zero_matrix)\n",
    "H1RWA += sum([e*( helicity_dot_product( E_m[l],vector_element(r_p,i,j)) ) * ket(i+1,Ne)*bra(j+1,Ne) \n",
    "            for l in range(Nl) for j in range(Ne) for i in range(Ne) if l+1 in Lij[i][j] ],zero_matrix)\n",
    "\n",
    "# fprint(H1RWA, print_ascii=print_ascii)"
   ]
  },
  {
   "cell_type": "markdown",
   "metadata": {},
   "source": [
    "And the complete hamiltonian in the Schrödinger picture in the rotating wave approximation is"
   ]
  },
  {
   "cell_type": "code",
   "execution_count": 43,
   "metadata": {
    "collapsed": false
   },
   "outputs": [],
   "source": [
    "HRWA = H0 + H1RWA\n",
    "# fprint(HRWA, print_ascii=print_ascii)"
   ]
  },
  {
   "cell_type": "markdown",
   "metadata": {
    "collapsed": true
   },
   "source": [
    "# Rotating Frame\n",
    "Next we will make a phase transformation in order to eliminate the explicit time dependance of the equations."
   ]
  },
  {
   "cell_type": "code",
   "execution_count": 44,
   "metadata": {
    "collapsed": false
   },
   "outputs": [],
   "source": [
    "cc, cctilde, phase = define_psi_coefficients(Ne)\n",
    "# fprint([cc,cctilde,phase], print_ascii=print_ascii)"
   ]
  },
  {
   "cell_type": "code",
   "execution_count": 45,
   "metadata": {
    "collapsed": false
   },
   "outputs": [],
   "source": [
    "phase = Matrix([ Function(\"theta_\"+str(i+1),real=True)(t,Z) for i in range(Ne)])\n",
    "# phase"
   ]
  },
  {
   "cell_type": "code",
   "execution_count": 46,
   "metadata": {
    "collapsed": false
   },
   "outputs": [],
   "source": [
    "psi = Matrix([exp(I*phase[i])*cctilde[i] for i in range(Ne)])\n",
    "# fprint(psi, print_ascii=print_ascii)"
   ]
  },
  {
   "cell_type": "markdown",
   "metadata": {},
   "source": [
    "The Schrödinger equation $i\\hbar \\partial_t |\\psi\\rangle=\\hat{H}_{RWA}$ is"
   ]
  },
  {
   "cell_type": "code",
   "execution_count": 47,
   "metadata": {
    "collapsed": false
   },
   "outputs": [],
   "source": [
    "lhs = Matrix([(I*hbar*Derivative(psi[i],t).doit()).expand() for i in range(Ne)])\n",
    "# fprint(lhs, print_ascii=print_ascii)"
   ]
  },
  {
   "cell_type": "code",
   "execution_count": 48,
   "metadata": {
    "collapsed": false
   },
   "outputs": [],
   "source": [
    "rhs = HRWA*psi"
   ]
  },
  {
   "cell_type": "markdown",
   "metadata": {},
   "source": [
    "We multiply each of these equations by $e^{-i \\theta_i}$ and substracting $i \\theta_i \\tilde{c}_i$"
   ]
  },
  {
   "cell_type": "code",
   "execution_count": 49,
   "metadata": {
    "collapsed": false
   },
   "outputs": [],
   "source": [
    "lhs_new = Matrix([simplify(  lhs[i]*exp(-I*phase[i]) +hbar*Derivative(phase[i],t)*cctilde[i] ) for i in range(Ne)])\n",
    "# fprint(lhs_new, print_ascii=print_ascii)"
   ]
  },
  {
   "cell_type": "code",
   "execution_count": 50,
   "metadata": {
    "collapsed": false
   },
   "outputs": [],
   "source": [
    "rhs_new = Matrix([simplify(  rhs[i]*exp(-I*phase[i])\n",
    "                         +hbar*Derivative(phase[i],t)*cctilde[i] ).expand() for i in range(Ne)])\n",
    "# fprint(rhs_new, print_ascii=print_ascii)"
   ]
  },
  {
   "cell_type": "markdown",
   "metadata": {},
   "source": [
    "It can be seen that the equations loose their explicit time dependance only if $\\omega^{1}(-Z/c+t) - \\theta_{1} + \\theta_{2}=0$ and $\\omega^{2}(Z/c+t) - \\theta_{2} + \\theta_{3}=0$. Which is satisfied if"
   ]
  },
  {
   "cell_type": "code",
   "execution_count": 51,
   "metadata": {
    "collapsed": false
   },
   "outputs": [],
   "source": [
    "eq1 = omega_laser[0]*(-Z/c+t)+phase[1]-phase[0]\n",
    "eq2 = omega_laser[1]*( Z/c+t)+phase[2]-phase[1]\n",
    "pt = solve([eq1,eq2],[phase[1],phase[2]])\n",
    "# pt"
   ]
  },
  {
   "cell_type": "markdown",
   "metadata": {},
   "source": [
    "Thus the equations become"
   ]
  },
  {
   "cell_type": "code",
   "execution_count": 52,
   "metadata": {
    "collapsed": false
   },
   "outputs": [],
   "source": [
    "# fprint(lhs_new, print_ascii=print_ascii)"
   ]
  },
  {
   "cell_type": "code",
   "execution_count": 53,
   "metadata": {
    "collapsed": false
   },
   "outputs": [],
   "source": [
    "rhs_new = simplify(rhs_new.subs(pt)).expand().simplify()\n",
    "# fprint(rhs_new, print_ascii=print_ascii)"
   ]
  },
  {
   "cell_type": "markdown",
   "metadata": {},
   "source": [
    "It can be seen that this is the Schrödinger equation derived from an effective hamiltonian $\\tilde{H}$"
   ]
  },
  {
   "cell_type": "code",
   "execution_count": 54,
   "metadata": {
    "collapsed": false
   },
   "outputs": [],
   "source": [
    "Htilde = Matrix([ [Derivative(rhs_new[i],cctilde[j]).doit().simplify() for j in range(Ne)] for i in range(Ne)])\n",
    "# fprint(Htilde, print_ascii=print_ascii)"
   ]
  },
  {
   "cell_type": "markdown",
   "metadata": {},
   "source": [
    "We can see that it is convenient to choose $\\theta_1=-\\omega_1$ to simplify the hamiltonian. Also, we can recognize $\\omega^1-\\omega_2+\\omega_1=\\delta^1$ as the detuning of the first field relative to the atomic transition $\\omega_{21}=\\omega_2-\\omega_1$, and the same for $\\omega^2-\\omega_3+\\omega_2=\\delta^2$. And choosing $\\theta_1=\\omega_1 t$"
   ]
  },
  {
   "cell_type": "code",
   "execution_count": 55,
   "metadata": {
    "collapsed": false
   },
   "outputs": [],
   "source": [
    "delta1, delta2 = symbols(\"delta1 delta2\",real=True)\n",
    "Htilde = Htilde.subs({phase[0]:-omega_level[0]*t}).doit()\n",
    "Htilde = Htilde.subs({omega_laser[0]:delta1+omega_level[1]-omega_level[0]})\n",
    "Htilde = Htilde.subs({omega_laser[1]:delta2+omega_level[2]-omega_level[1]})\n",
    "\n",
    "Htilde = Htilde.expand()\n",
    "\n",
    "# fprint(Htilde, print_ascii=print_ascii)"
   ]
  },
  {
   "cell_type": "markdown",
   "metadata": {},
   "source": [
    "If we define the Rabi frequencies $\\Omega_1 =e E_0^1 r_{0;21}/\\hbar$ and $\\Omega_2 =e E_0^2 r_{0;32}/\\hbar$"
   ]
  },
  {
   "cell_type": "code",
   "execution_count": 56,
   "metadata": {
    "collapsed": false
   },
   "outputs": [],
   "source": [
    "Omega1, Omega2 = symbols(\"Omega1 Omega2\",real=True)\n",
    "Omega1, Omega2 = symbols(\"Omega1 Omega2\")\n",
    "Omega1 = Function(\"Omega1\")(t,Z)\n",
    "Omega2 = Function(\"Omega2\")(t,Z)\n",
    "\n",
    "#ss_Rabi = {E0[0]: Omega1*hbar/r[2][1,0]/e/2, E0[1]: Omega2*hbar/r[0][2,1]/e/2}\n",
    "#ss_Rabi_inv = {Omega1: E0[0]/(hbar/r[2][1,0]/e*2), Omega2: E0[1]/(hbar/r[0][2,1]/e*2)}\n",
    "#ss_Rabi_inv"
   ]
  },
  {
   "cell_type": "code",
   "execution_count": 57,
   "metadata": {
    "collapsed": false
   },
   "outputs": [
    {
     "data": {
      "image/png": "[encoded data removed]",
      "text/latex": [
       "$$\\left[\\begin{matrix}0 & \\frac{e r_{+1;21}}{2} \\overline{\\operatorname{E_{01}}{\\left (t,Z \\right )}} & 0\\\\\\frac{e r_{+1;21}}{2} \\operatorname{E_{01}}{\\left (t,Z \\right )} & - \\delta_{1} \\hbar & \\frac{e r_{-1;32}}{2} \\overline{\\operatorname{E_{02}}{\\left (t,Z \\right )}}\\\\0 & \\frac{e r_{-1;32}}{2} \\operatorname{E_{02}}{\\left (t,Z \\right )} & - \\delta_{1} \\hbar - \\delta_{2} \\hbar\\end{matrix}\\right]$$"
      ],
      "text/plain": [
       "⎡                                      ____________                          ⎤\n",
       "⎢                          e⋅r_{+1;21}⋅E_{01}(t, Z)                          ⎥\n",
       "⎢           0              ────────────────────────             0            ⎥\n",
       "⎢                                     2                                      ⎥\n",
       "⎢                                                                            ⎥\n",
       "⎢                                                                ____________⎥\n",
       "⎢e⋅r_{+1;21}⋅E_{01}(t, Z)                            e⋅r_{-1;32}⋅E_{02}(t, Z)⎥\n",
       "⎢────────────────────────           -δ₁⋅h̅           ────────────────────────⎥\n",
       "⎢           2                                                   2            ⎥\n",
       "⎢                                                                            ⎥\n",
       "⎢                          e⋅r_{-1;32}⋅E_{02}(t, Z)                          ⎥\n",
       "⎢           0              ────────────────────────       -δ₁⋅h̅ - δ₂⋅h̅     ⎥\n",
       "⎣                                     2                                      ⎦"
      ]
     },
     "execution_count": 57,
     "metadata": {},
     "output_type": "execute_result"
    }
   ],
   "source": [
    "#Htilde = Htilde.subs({E0[0]:Omega1*hbar/r[2][1,0]/e})\n",
    "#Htilde = Htilde.subs({E0[1]:Omega2*hbar/r[0][2,1]/e})\n",
    "\n",
    "Htilde"
   ]
  },
  {
   "cell_type": "markdown",
   "metadata": {},
   "source": [
    "# Optical Bloch Equations\n",
    "\n",
    "We define the density matrix."
   ]
  },
  {
   "cell_type": "code",
   "execution_count": 58,
   "metadata": {
    "collapsed": false
   },
   "outputs": [
    {
     "data": {
      "image/png": "[encoded data removed]",
      "text/latex": [
       "$$\\left[\\begin{matrix}\\rho_{11}{\\left (t,Z \\right )} & \\rho_{12}{\\left (t,Z \\right )} & \\rho_{13}{\\left (t,Z \\right )}\\\\\\rho_{21}{\\left (t,Z \\right )} & \\rho_{22}{\\left (t,Z \\right )} & \\rho_{23}{\\left (t,Z \\right )}\\\\\\rho_{31}{\\left (t,Z \\right )} & \\rho_{32}{\\left (t,Z \\right )} & \\rho_{33}{\\left (t,Z \\right )}\\end{matrix}\\right]$$"
      ],
      "text/plain": [
       "⎡ρ₁₁(t, Z)  ρ₁₂(t, Z)  ρ₁₃(t, Z)⎤\n",
       "⎢                               ⎥\n",
       "⎢ρ₂₁(t, Z)  ρ₂₂(t, Z)  ρ₂₃(t, Z)⎥\n",
       "⎢                               ⎥\n",
       "⎣ρ₃₁(t, Z)  ρ₃₂(t, Z)  ρ₃₃(t, Z)⎦"
      ]
     },
     "execution_count": 58,
     "metadata": {},
     "output_type": "execute_result"
    }
   ],
   "source": [
    "rho = define_density_matrix(Ne, variables=[t, Z])\n",
    "fprint(rho , print_ascii=print_ascii)"
   ]
  },
  {
   "cell_type": "markdown",
   "metadata": {},
   "source": [
    "The hamiltonian part of the equations is\n",
    "\\begin{equation}\n",
    "    \\dot{\\hat{\\rho}}=\\frac{i}{\\hbar}[\\hat{\\rho}, \\hat{\\tilde{H}}]\n",
    "\\end{equation}"
   ]
  },
  {
   "cell_type": "code",
   "execution_count": 59,
   "metadata": {
    "collapsed": false
   },
   "outputs": [],
   "source": [
    "hamiltonian_terms=(I/hbar*(rho*Htilde-Htilde*rho)).expand()\n",
    "# fprint(hamiltonian_terms, print_ascii=print_ascii)"
   ]
  },
  {
   "cell_type": "markdown",
   "metadata": {},
   "source": [
    "There are two Lindblad operators, since there are two spontaneous decay channels."
   ]
  },
  {
   "cell_type": "code",
   "execution_count": 60,
   "metadata": {
    "collapsed": false
   },
   "outputs": [],
   "source": [
    "lindblad_terms =gamma[1,0]*lindblad_operator(ket(1,Ne)*bra(2,Ne),rho)\n",
    "lindblad_terms+=gamma[2,1]*lindblad_operator(ket(2,Ne)*bra(3,Ne),rho)\n",
    "\n",
    "# fprint(lindblad_terms, print_ascii=print_ascii)"
   ]
  },
  {
   "cell_type": "markdown",
   "metadata": {},
   "source": [
    "The Optical Bloch equations are thus."
   ]
  },
  {
   "cell_type": "code",
   "execution_count": 61,
   "metadata": {
    "collapsed": false
   },
   "outputs": [],
   "source": [
    "eqs = hamiltonian_terms + lindblad_terms"
   ]
  },
  {
   "cell_type": "code",
   "execution_count": 62,
   "metadata": {
    "collapsed": false
   },
   "outputs": [
    {
     "data": {
      "image/png": "[encoded data removed]",
      "text/latex": [
       "$$\\left[\\begin{matrix}\\frac{\\partial}{\\partial t} \\rho_{11}{\\left (t,Z \\right )} & = & \\frac{i e r_{+1;21}}{2 \\hbar} \\operatorname{E_{01}}{\\left (t,Z \\right )} \\rho_{12}{\\left (t,Z \\right )} - \\frac{i e r_{+1;21}}{2 \\hbar} \\rho_{21}{\\left (t,Z \\right )} \\overline{\\operatorname{E_{01}}{\\left (t,Z \\right )}} + \\gamma_{21} \\rho_{22}{\\left (t,Z \\right )}\\\\\\frac{\\partial}{\\partial t} \\rho_{22}{\\left (t,Z \\right )} & = & - \\frac{i e r_{+1;21}}{2 \\hbar} \\operatorname{E_{01}}{\\left (t,Z \\right )} \\rho_{12}{\\left (t,Z \\right )} + \\frac{i e r_{+1;21}}{2 \\hbar} \\rho_{21}{\\left (t,Z \\right )} \\overline{\\operatorname{E_{01}}{\\left (t,Z \\right )}} + \\frac{i e r_{-1;32}}{2 \\hbar} \\operatorname{E_{02}}{\\left (t,Z \\right )} \\rho_{23}{\\left (t,Z \\right )} - \\frac{i e r_{-1;32}}{2 \\hbar} \\rho_{32}{\\left (t,Z \\right )} \\overline{\\operatorname{E_{02}}{\\left (t,Z \\right )}} - \\gamma_{21} \\rho_{22}{\\left (t,Z \\right )} + \\gamma_{32} \\rho_{33}{\\left (t,Z \\right )}\\\\\\frac{\\partial}{\\partial t} \\rho_{33}{\\left (t,Z \\right )} & = & - \\frac{i e r_{-1;32}}{2 \\hbar} \\operatorname{E_{02}}{\\left (t,Z \\right )} \\rho_{23}{\\left (t,Z \\right )} + \\frac{i e r_{-1;32}}{2 \\hbar} \\rho_{32}{\\left (t,Z \\right )} \\overline{\\operatorname{E_{02}}{\\left (t,Z \\right )}} - \\gamma_{32} \\rho_{33}{\\left (t,Z \\right )}\\\\\\frac{\\partial}{\\partial t} \\rho_{21}{\\left (t,Z \\right )} & = & i \\delta_{1} \\rho_{21}{\\left (t,Z \\right )} - \\frac{i e r_{+1;21}}{2 \\hbar} \\operatorname{E_{01}}{\\left (t,Z \\right )} \\rho_{11}{\\left (t,Z \\right )} + \\frac{i e r_{+1;21}}{2 \\hbar} \\operatorname{E_{01}}{\\left (t,Z \\right )} \\rho_{22}{\\left (t,Z \\right )} - \\frac{i e r_{-1;32}}{2 \\hbar} \\rho_{31}{\\left (t,Z \\right )} \\overline{\\operatorname{E_{02}}{\\left (t,Z \\right )}} - \\frac{\\gamma_{21}}{2} \\rho_{21}{\\left (t,Z \\right )}\\\\\\frac{\\partial}{\\partial t} \\rho_{31}{\\left (t,Z \\right )} & = & i \\delta_{1} \\rho_{31}{\\left (t,Z \\right )} + i \\delta_{2} \\rho_{31}{\\left (t,Z \\right )} + \\frac{i e r_{+1;21}}{2 \\hbar} \\operatorname{E_{01}}{\\left (t,Z \\right )} \\rho_{32}{\\left (t,Z \\right )} - \\frac{i e r_{-1;32}}{2 \\hbar} \\operatorname{E_{02}}{\\left (t,Z \\right )} \\rho_{21}{\\left (t,Z \\right )} - \\frac{\\gamma_{32}}{2} \\rho_{31}{\\left (t,Z \\right )}\\\\\\frac{\\partial}{\\partial t} \\rho_{32}{\\left (t,Z \\right )} & = & i \\delta_{2} \\rho_{32}{\\left (t,Z \\right )} + \\frac{i e r_{+1;21}}{2 \\hbar} \\rho_{31}{\\left (t,Z \\right )} \\overline{\\operatorname{E_{01}}{\\left (t,Z \\right )}} - \\frac{i e r_{-1;32}}{2 \\hbar} \\operatorname{E_{02}}{\\left (t,Z \\right )} \\rho_{22}{\\left (t,Z \\right )} + \\frac{i e r_{-1;32}}{2 \\hbar} \\operatorname{E_{02}}{\\left (t,Z \\right )} \\rho_{33}{\\left (t,Z \\right )} - \\frac{\\gamma_{21}}{2} \\rho_{32}{\\left (t,Z \\right )} - \\frac{\\gamma_{32}}{2} \\rho_{32}{\\left (t,Z \\right )}\\end{matrix}\\right]$$"
      ],
      "text/plain": [
       "⎡                                                                             \n",
       "⎢∂                                                                 ⅈ⋅e⋅r_{+1;2\n",
       "⎢──(ρ₁₁(t, Z))  =                                                  ───────────\n",
       "⎢∂t                                                                           \n",
       "⎢                                                                             \n",
       "⎢                                                                             \n",
       "⎢∂                   ⅈ⋅e⋅r_{+1;21}⋅E_{01}(t, Z)⋅ρ₁₂(t, Z)   ⅈ⋅e⋅r_{+1;21}⋅ρ₂₁(\n",
       "⎢──(ρ₂₂(t, Z))  =  - ──────────────────────────────────── + ──────────────────\n",
       "⎢∂t                                  2⋅h̅                                   2⋅\n",
       "⎢                                                                             \n",
       "⎢                                                                             \n",
       "⎢∂                                                                  ⅈ⋅e⋅r_{-1;\n",
       "⎢──(ρ₃₃(t, Z))  =                                                 - ──────────\n",
       "⎢∂t                                                                           \n",
       "⎢                                                                             \n",
       "⎢                                                                             \n",
       "⎢∂                                                      ⅈ⋅e⋅r_{+1;21}⋅E_{01}(t\n",
       "⎢──(ρ₂₁(t, Z))  =                      ⅈ⋅δ₁⋅ρ₂₁(t, Z) - ──────────────────────\n",
       "⎢∂t                                                                     2⋅h̅  \n",
       "⎢                                                                             \n",
       "⎢∂                                                                            \n",
       "⎢──(ρ₃₁(t, Z))  =                                 ⅈ⋅δ₁⋅ρ₃₁(t, Z) + ⅈ⋅δ₂⋅ρ₃₁(t,\n",
       "⎢∂t                                                                           \n",
       "⎢                                                                             \n",
       "⎢                                                                       ______\n",
       "⎢∂                                              ⅈ⋅e⋅r_{+1;21}⋅ρ₃₁(t, Z)⋅E_{01}\n",
       "⎢──(ρ₃₂(t, Z))  =              ⅈ⋅δ₂⋅ρ₃₂(t, Z) + ──────────────────────────────\n",
       "⎣∂t                                                             2⋅h̅          \n",
       "\n",
       "                                                    ____________              \n",
       "1}⋅E_{01}(t, Z)⋅ρ₁₂(t, Z)   ⅈ⋅e⋅r_{+1;21}⋅ρ₂₁(t, Z)⋅E_{01}(t, Z)              \n",
       "───────────────────────── - ──────────────────────────────────── + γ₂₁⋅ρ₂₂(t, \n",
       "     2⋅h̅                                   2⋅h̅                              \n",
       "                                                                              \n",
       "      ____________                                                            \n",
       "t, Z)⋅E_{01}(t, Z)   ⅈ⋅e⋅r_{-1;32}⋅E_{02}(t, Z)⋅ρ₂₃(t, Z)   ⅈ⋅e⋅r_{-1;32}⋅ρ₃₂(\n",
       "────────────────── + ──────────────────────────────────── - ──────────────────\n",
       "h̅                                   2⋅h̅                                   2⋅\n",
       "                                                                              \n",
       "                                                     ____________             \n",
       "32}⋅E_{02}(t, Z)⋅ρ₂₃(t, Z)   ⅈ⋅e⋅r_{-1;32}⋅ρ₃₂(t, Z)⋅E_{02}(t, Z)             \n",
       "────────────────────────── + ──────────────────────────────────── - γ₃₂⋅ρ₃₃(t,\n",
       "      2⋅h̅                                   2⋅h̅                             \n",
       "                                                                              \n",
       "                                                                              \n",
       ", Z)⋅ρ₁₁(t, Z)   ⅈ⋅e⋅r_{+1;21}⋅E_{01}(t, Z)⋅ρ₂₂(t, Z)   ⅈ⋅e⋅r_{-1;32}⋅ρ₃₁(t, Z\n",
       "────────────── + ──────────────────────────────────── - ──────────────────────\n",
       "                                 2⋅h̅                                   2⋅h̅  \n",
       "                                                                              \n",
       "      ⅈ⋅e⋅r_{+1;21}⋅E_{01}(t, Z)⋅ρ₃₂(t, Z)   ⅈ⋅e⋅r_{-1;32}⋅E_{02}(t, Z)⋅ρ₂₁(t,\n",
       " Z) + ──────────────────────────────────── - ─────────────────────────────────\n",
       "                      2⋅h̅                                   2⋅h̅             \n",
       "                                                                              \n",
       "______                                                                        \n",
       "(t, Z)   ⅈ⋅e⋅r_{-1;32}⋅E_{02}(t, Z)⋅ρ₂₂(t, Z)   ⅈ⋅e⋅r_{-1;32}⋅E_{02}(t, Z)⋅ρ₃₃\n",
       "────── - ──────────────────────────────────── + ──────────────────────────────\n",
       "                         2⋅h̅                                   2⋅h̅          \n",
       "\n",
       "                                                  ⎤\n",
       "                                                  ⎥\n",
       "Z)                                                ⎥\n",
       "                                                  ⎥\n",
       "                                                  ⎥\n",
       "      ____________                                ⎥\n",
       "t, Z)⋅E_{02}(t, Z)                                ⎥\n",
       "────────────────── - γ₂₁⋅ρ₂₂(t, Z) + γ₃₂⋅ρ₃₃(t, Z)⎥\n",
       "h̅                                                ⎥\n",
       "                                                  ⎥\n",
       "                                                  ⎥\n",
       "                                                  ⎥\n",
       " Z)                                               ⎥\n",
       "                                                  ⎥\n",
       "                                                  ⎥\n",
       "  ____________                                    ⎥\n",
       ")⋅E_{02}(t, Z)   γ₂₁⋅ρ₂₁(t, Z)                    ⎥\n",
       "────────────── - ─────────────                    ⎥\n",
       "                       2                          ⎥\n",
       "                                                  ⎥\n",
       " Z)   γ₃₂⋅ρ₃₁(t, Z)                               ⎥\n",
       "─── - ─────────────                               ⎥\n",
       "            2                                     ⎥\n",
       "                                                  ⎥\n",
       "                                                  ⎥\n",
       "(t, Z)   γ₂₁⋅ρ₃₂(t, Z)   γ₃₂⋅ρ₃₂(t, Z)            ⎥\n",
       "────── - ───────────── - ─────────────            ⎥\n",
       "               2               2                  ⎦"
      ]
     },
     "execution_count": 62,
     "metadata": {},
     "output_type": "execute_result"
    }
   ],
   "source": [
    "eqsign=symbols(\"=\")\n",
    "eqs_list=[]\n",
    "for mu in range(0,Ne**2-1 -(Ne**2 - Ne)/2+1):\n",
    "    ii,jj,s=IJ(mu,Ne)\n",
    "    i=ii-1; j=jj-1\n",
    "    eqs_list+=[[Derivative(rho[i,j],t),eqsign,eqs[i,j]]]\n",
    "eqs_list=Matrix(eqs_list)\n",
    "fprint(eqs_list, print_ascii=print_ascii)"
   ]
  },
  {
   "cell_type": "markdown",
   "metadata": {},
   "source": [
    "# Wave equation\n",
    "\n",
    "From Maxwell's equations in a dielectric medium it can be shown that in the abscence of bound charges, and magnetization currents, the electric field and the polazation of the medium follow the inhomogeneous wave equation.\n",
    "\n",
    "\\begin{equation}\n",
    "    \\nabla^2 \\vec{E} - \\frac{1}{c^2} \\partial^2_t \\vec{E}= \\mu_0 \\partial_t^2 \\vec{P}\n",
    "\\end{equation}\n",
    "\n",
    "We have also taken our fields to be of the form\n",
    "\n",
    "\\begin{equation}\n",
    "    \\vec{E}(t,\\vec{R})=\\vec{E}^{+}+\\vec{E}^{-}=\\frac{1}{2} \\sum_l \\vec{E}^{l(+)}(t,\\vec{R}) e^{i(\\vec{k}^l \\cdot \\vec{R} -\\omega^l t)} +c.c.\n",
    "\\end{equation}\n",
    "\n",
    "The $(+)$ part of the field is explicitly"
   ]
  },
  {
   "cell_type": "code",
   "execution_count": 63,
   "metadata": {
    "collapsed": false
   },
   "outputs": [
    {
     "data": {
      "image/png": "[encoded data removed]",
      "text/latex": [
       "$$\\left [ \\left[\\begin{matrix}- \\frac{\\sqrt{2}}{4} \\operatorname{E_{01}}{\\left (t,Z \\right )} e^{- i \\varpi_{1} \\left(- \\frac{Z}{c} + t\\right)}\\\\- \\frac{\\sqrt{2} i}{4} \\operatorname{E_{01}}{\\left (t,Z \\right )} e^{- i \\varpi_{1} \\left(- \\frac{Z}{c} + t\\right)}\\\\0\\end{matrix}\\right], \\quad \\left[\\begin{matrix}\\frac{\\sqrt{2}}{4} \\operatorname{E_{02}}{\\left (t,Z \\right )} e^{- i \\varpi_{2} \\left(\\frac{Z}{c} + t\\right)}\\\\- \\frac{\\sqrt{2} i}{4} \\operatorname{E_{02}}{\\left (t,Z \\right )} e^{- i \\varpi_{2} \\left(\\frac{Z}{c} + t\\right)}\\\\0\\end{matrix}\\right]\\right ]$$"
      ],
      "text/plain": [
       "⎡⎡                             ⎛  Z    ⎞  ⎤  ⎡                             ⎛Z \n",
       "⎢⎢                   -ⅈ⋅varpi₁⋅⎜- ─ + t⎟  ⎥  ⎢                   -ⅈ⋅varpi₂⋅⎜─ \n",
       "⎢⎢                             ⎝  c    ⎠  ⎥  ⎢                             ⎝c \n",
       "⎢⎢ -√2⋅E_{01}(t, Z)⋅ℯ                     ⎥  ⎢  √2⋅E_{02}(t, Z)⋅ℯ             \n",
       "⎢⎢ ────────────────────────────────────── ⎥, ⎢  ──────────────────────────────\n",
       "⎢⎢                   4                    ⎥  ⎢                  4             \n",
       "⎢⎢                                        ⎥  ⎢                                \n",
       "⎢⎢                              ⎛  Z    ⎞ ⎥  ⎢                              ⎛Z\n",
       "⎢⎢                    -ⅈ⋅varpi₁⋅⎜- ─ + t⎟ ⎥  ⎢                    -ⅈ⋅varpi₂⋅⎜─\n",
       "⎢⎢                              ⎝  c    ⎠ ⎥  ⎢                              ⎝c\n",
       "⎢⎢-√2⋅ⅈ⋅E_{01}(t, Z)⋅ℯ                    ⎥  ⎢-√2⋅ⅈ⋅E_{02}(t, Z)⋅ℯ            \n",
       "⎢⎢────────────────────────────────────────⎥  ⎢────────────────────────────────\n",
       "⎢⎢                   4                    ⎥  ⎢                  4             \n",
       "⎢⎢                                        ⎥  ⎢                                \n",
       "⎣⎣                   0                    ⎦  ⎣                  0             \n",
       "\n",
       "   ⎞  ⎤⎤\n",
       "+ t⎟  ⎥⎥\n",
       "   ⎠  ⎥⎥\n",
       "      ⎥⎥\n",
       "────  ⎥⎥\n",
       "      ⎥⎥\n",
       "      ⎥⎥\n",
       "    ⎞ ⎥⎥\n",
       " + t⎟ ⎥⎥\n",
       "    ⎠ ⎥⎥\n",
       "      ⎥⎥\n",
       "──────⎥⎥\n",
       "      ⎥⎥\n",
       "      ⎥⎥\n",
       "      ⎦⎦"
      ]
     },
     "execution_count": 63,
     "metadata": {},
     "output_type": "execute_result"
    }
   ],
   "source": [
    "E_cartesian_p"
   ]
  },
  {
   "cell_type": "markdown",
   "metadata": {},
   "source": [
    "introducing this into the wave equation we get"
   ]
  },
  {
   "cell_type": "code",
   "execution_count": 64,
   "metadata": {
    "collapsed": true
   },
   "outputs": [],
   "source": [
    "def laplacian_cylindric(scalar,coords,full=False):\n",
    "    R,Phi,Z=coords\n",
    "    return Derivative(scalar,Z,2).doit()\n",
    "\n",
    "def laplacian_vec_cylindric(vector,coords,full=False):\n",
    "    return Matrix([ laplacian_cylindric(vi,coords,full=full) for vi in vector])"
   ]
  },
  {
   "cell_type": "code",
   "execution_count": 65,
   "metadata": {
    "collapsed": false
   },
   "outputs": [
    {
     "data": {
      "image/png": "[encoded data removed]",
      "text/latex": [
       "$$\\left[\\begin{matrix}- \\frac{\\sqrt{2}}{4} \\operatorname{E_{01}}{\\left (t,Z \\right )} e^{- i \\varpi_{1} \\left(- \\frac{Z}{c} + t\\right)} + \\frac{\\sqrt{2}}{4} \\operatorname{E_{02}}{\\left (t,Z \\right )} e^{- i \\varpi_{2} \\left(\\frac{Z}{c} + t\\right)}\\\\- \\frac{\\sqrt{2} i}{4} \\operatorname{E_{01}}{\\left (t,Z \\right )} e^{- i \\varpi_{1} \\left(- \\frac{Z}{c} + t\\right)} - \\frac{\\sqrt{2} i}{4} \\operatorname{E_{02}}{\\left (t,Z \\right )} e^{- i \\varpi_{2} \\left(\\frac{Z}{c} + t\\right)}\\\\0\\end{matrix}\\right]$$"
      ],
      "text/plain": [
       "⎡                               ⎛  Z    ⎞                              ⎛Z    ⎞\n",
       "⎢                     -ⅈ⋅varpi₁⋅⎜- ─ + t⎟                    -ⅈ⋅varpi₂⋅⎜─ + t⎟\n",
       "⎢                               ⎝  c    ⎠                              ⎝c    ⎠\n",
       "⎢    √2⋅E_{01}(t, Z)⋅ℯ                      √2⋅E_{02}(t, Z)⋅ℯ                 \n",
       "⎢  - ──────────────────────────────────── + ──────────────────────────────────\n",
       "⎢                     4                                     4                 \n",
       "⎢                                                                             \n",
       "⎢                               ⎛  Z    ⎞                                ⎛Z   \n",
       "⎢                     -ⅈ⋅varpi₁⋅⎜- ─ + t⎟                      -ⅈ⋅varpi₂⋅⎜─ + \n",
       "⎢                               ⎝  c    ⎠                                ⎝c   \n",
       "⎢  √2⋅ⅈ⋅E_{01}(t, Z)⋅ℯ                      √2⋅ⅈ⋅E_{02}(t, Z)⋅ℯ               \n",
       "⎢- ────────────────────────────────────── - ──────────────────────────────────\n",
       "⎢                    4                                       4                \n",
       "⎢                                                                             \n",
       "⎣                                       0                                     \n",
       "\n",
       "  ⎤\n",
       "  ⎥\n",
       "  ⎥\n",
       "  ⎥\n",
       "  ⎥\n",
       "  ⎥\n",
       "  ⎥\n",
       " ⎞⎥\n",
       "t⎟⎥\n",
       " ⎠⎥\n",
       "  ⎥\n",
       "──⎥\n",
       "  ⎥\n",
       "  ⎥\n",
       "  ⎦"
      ]
     },
     "execution_count": 65,
     "metadata": {},
     "output_type": "execute_result"
    }
   ],
   "source": [
    "E_cartesian_p_tot = sum([E_cartesian_p[l] for l in range(Nl)], zero_vect)\n",
    "E_cartesian_p_tot"
   ]
  },
  {
   "cell_type": "code",
   "execution_count": 66,
   "metadata": {
    "collapsed": false
   },
   "outputs": [],
   "source": [
    "term1=laplacian_vec_cylindric(E_cartesian_p_tot,[R,Phi,Z]) \n",
    "term2=-1/c**2*Matrix([Derivative(vi,t,2).doit() for vi in E_cartesian_p_tot])\n",
    "lhs=term1+term2\n",
    "#pprint(lhs,num_columns=150)"
   ]
  },
  {
   "cell_type": "markdown",
   "metadata": {},
   "source": [
    "And if we consider the amplitudes as slowly varying envelopes (both in time and space) we can approximate them as"
   ]
  },
  {
   "cell_type": "code",
   "execution_count": 67,
   "metadata": {
    "collapsed": false
   },
   "outputs": [
    {
     "data": {
      "image/png": "[encoded data removed]",
      "text/latex": [
       "$$\\left \\{ \\frac{\\partial^{2}}{\\partial Z^{2}}  \\operatorname{E_{01}}{\\left (t,Z \\right )} : 0, \\quad \\frac{\\partial^{2}}{\\partial t^{2}}  \\operatorname{E_{01}}{\\left (t,Z \\right )} : 0, \\quad \\frac{\\partial^{2}}{\\partial Z^{2}}  \\operatorname{E_{02}}{\\left (t,Z \\right )} : 0, \\quad \\frac{\\partial^{2}}{\\partial t^{2}}  \\operatorname{E_{02}}{\\left (t,Z \\right )} : 0\\right \\}$$"
      ],
      "text/plain": [
       "⎧  2                     2                     2                     2        \n",
       "⎪ ∂                     ∂                     ∂                     ∂         \n",
       "⎨───(E_{01}(t, Z)): 0, ───(E_{01}(t, Z)): 0, ───(E_{02}(t, Z)): 0, ───(E_{02}(\n",
       "⎪  2                     2                     2                     2        \n",
       "⎩∂Z                    ∂t                    ∂Z                    ∂t         \n",
       "\n",
       "         ⎫\n",
       "         ⎪\n",
       "t, Z)): 0⎬\n",
       "         ⎪\n",
       "         ⎭"
      ]
     },
     "execution_count": 67,
     "metadata": {},
     "output_type": "execute_result"
    }
   ],
   "source": [
    "svea_subs={Derivative(E0[0],Z,2):0,Derivative(E0[1],Z,2):0,\n",
    "           Derivative(E0[0],t,2):0,Derivative(E0[1],t,2):0}\n",
    "svea_subs"
   ]
  },
  {
   "cell_type": "code",
   "execution_count": 68,
   "metadata": {
    "collapsed": false
   },
   "outputs": [],
   "source": [
    "lhs=lhs.subs(svea_subs)\n",
    "lhs.simplify()\n",
    "# lhs"
   ]
  },
  {
   "cell_type": "markdown",
   "metadata": {},
   "source": [
    "On the other hand, we may approximate the macroscopic polarization of the atoms as varying only at the frequencies of the electric field components and at the same polarizations:\n",
    "\n",
    "\\begin{equation}\n",
    "    \\vec{P}=\\frac{1}{2}\\sum_l \\vec{P}^{l(+)} e^{i(\\vec{k}^l \\cdot \\vec{R} -\\omega^l t)} +c.c.\n",
    "\\end{equation}\n"
   ]
  },
  {
   "cell_type": "code",
   "execution_count": 69,
   "metadata": {
    "collapsed": false
   },
   "outputs": [],
   "source": [
    "P0 = [Function(\"P_0^1\")(t,R,Z), Function(\"P_0^2\")(t,R,Z)]\n",
    "# P0"
   ]
  },
  {
   "cell_type": "code",
   "execution_count": 70,
   "metadata": {
    "collapsed": false
   },
   "outputs": [],
   "source": [
    "P_cartesian_p=[P0[l]/2            *ep[l]*exp(-I*omega_laser[l]*(t-k[l].dot(RR)/c)) for l in range(Nl)]\n",
    "P_cartesian_m=[P0[l].conjugate()/2*em[l]*exp(I*omega_laser[l]*(t-k[l].dot(RR)/c)) for l in range(Nl)]\n",
    "\n",
    "P_cartesian_p_tot=sum(P_cartesian_p, zero_vect)\n",
    "\n",
    "# P_cartesian_p"
   ]
  },
  {
   "cell_type": "markdown",
   "metadata": {},
   "source": [
    "The right-hand side of the wave equation"
   ]
  },
  {
   "cell_type": "code",
   "execution_count": 71,
   "metadata": {
    "collapsed": false
   },
   "outputs": [],
   "source": [
    "rhs=mu0*Matrix([Derivative(vi,t,2).doit() for vi in P_cartesian_p_tot])\n",
    "#pprint(rhs)"
   ]
  },
  {
   "cell_type": "markdown",
   "metadata": {},
   "source": [
    "And in another slowly varying approximation, the terms with $(\\omega^1)^2$ are much larger than those with derivatives of the amplitudes."
   ]
  },
  {
   "cell_type": "code",
   "execution_count": 72,
   "metadata": {
    "collapsed": false
   },
   "outputs": [],
   "source": [
    "svea_subs2={Derivative(P0[0],t,1):0, Derivative(P0[1],t,1):0,\n",
    "            Derivative(P0[0],t,2):0, Derivative(P0[1],t,2):0}\n",
    "# svea_subs2"
   ]
  },
  {
   "cell_type": "code",
   "execution_count": 73,
   "metadata": {
    "collapsed": false
   },
   "outputs": [],
   "source": [
    "rhs=rhs.subs(svea_subs2)\n",
    "# pprint(rhs)"
   ]
  },
  {
   "cell_type": "code",
   "execution_count": 74,
   "metadata": {
    "collapsed": false
   },
   "outputs": [],
   "source": [
    "eqs_wave=lhs-rhs\n",
    "# pprint(eqs_wave)"
   ]
  },
  {
   "cell_type": "markdown",
   "metadata": {},
   "source": [
    "These are three scalar equations each of which has coupled terms varying at high frequencies $\\omega^l$. However, these frequencies can be decoupled if the polarization of the beams are orthogonal (as they are in our case). Taking a dot product with the polarizations we obtain one equation for each frequency component."
   ]
  },
  {
   "cell_type": "code",
   "execution_count": 75,
   "metadata": {
    "collapsed": false
   },
   "outputs": [],
   "source": [
    "fact1=2*c**2*exp(I*omega_laser[0]*(t-Z/c))/(2*I*omega_laser[0])\n",
    "lhs1=(fact1*ep[0].conjugate().dot(lhs)).expand()\n",
    "rhs1=(fact1*ep[0].conjugate().dot(rhs)).expand()\n",
    "\n",
    "# lhs1, rhs1"
   ]
  },
  {
   "cell_type": "code",
   "execution_count": 76,
   "metadata": {
    "collapsed": false
   },
   "outputs": [],
   "source": [
    "fact2=2*c**2*exp(I*omega_laser[1]*(t+Z/c))/(2*I*omega_laser[1])\n",
    "lhs2=(fact2*ep[1].conjugate().dot(lhs)).expand()\n",
    "rhs2=(fact2*ep[1].conjugate().dot(rhs)).expand()\n",
    "\n",
    "# lhs2, rhs2"
   ]
  },
  {
   "cell_type": "markdown",
   "metadata": {},
   "source": [
    "We take the spacial derivatives to the right-hand side. Just because we can."
   ]
  },
  {
   "cell_type": "code",
   "execution_count": 77,
   "metadata": {
    "collapsed": false
   },
   "outputs": [
    {
     "data": {
      "image/png": "[encoded data removed]",
      "text/latex": [
       "$$\\left[\\begin{matrix}\\frac{\\partial}{\\partial t} \\operatorname{E_{01}}{\\left (t,Z \\right )} & = & \\frac{i \\mu_{0}}{2} c^{2} \\varpi_{1} \\operatorname{P^{1}_{0}}{\\left (t,R,Z \\right )} - c \\frac{\\partial}{\\partial Z} \\operatorname{E_{01}}{\\left (t,Z \\right )}\\end{matrix}\\right]$$"
      ],
      "text/plain": [
       "⎡                        2                                            ⎤\n",
       "⎢∂                    ⅈ⋅c ⋅μ₀⋅varpi₁⋅P¹₀(t, R, Z)     ∂               ⎥\n",
       "⎢──(E_{01}(t, Z))  =  ─────────────────────────── - c⋅──(E_{01}(t, Z))⎥\n",
       "⎣∂t                                2                  ∂Z              ⎦"
      ]
     },
     "execution_count": 77,
     "metadata": {},
     "output_type": "execute_result"
    }
   ],
   "source": [
    "lhs1 = lhs1-c*Derivative(E0[0],Z)\n",
    "rhs1 = rhs1-c*Derivative(E0[0],Z)\n",
    "Matrix([lhs1, eqsign, rhs1]).transpose()"
   ]
  },
  {
   "cell_type": "code",
   "execution_count": 78,
   "metadata": {
    "collapsed": false
   },
   "outputs": [
    {
     "data": {
      "image/png": "[encoded data removed]",
      "text/latex": [
       "$$\\left[\\begin{matrix}\\frac{\\partial}{\\partial t} \\operatorname{E_{02}}{\\left (t,Z \\right )} & = & \\frac{i \\mu_{0}}{2} c^{2} \\varpi_{2} \\operatorname{P^{2}_{0}}{\\left (t,R,Z \\right )} + c \\frac{\\partial}{\\partial Z} \\operatorname{E_{02}}{\\left (t,Z \\right )}\\end{matrix}\\right]$$"
      ],
      "text/plain": [
       "⎡                        2                                            ⎤\n",
       "⎢∂                    ⅈ⋅c ⋅μ₀⋅varpi₂⋅P²₀(t, R, Z)     ∂               ⎥\n",
       "⎢──(E_{02}(t, Z))  =  ─────────────────────────── + c⋅──(E_{02}(t, Z))⎥\n",
       "⎣∂t                                2                  ∂Z              ⎦"
      ]
     },
     "execution_count": 78,
     "metadata": {},
     "output_type": "execute_result"
    }
   ],
   "source": [
    "lhs2 = lhs2+c*Derivative(E0[1],Z)\n",
    "rhs2 = rhs2+c*Derivative(E0[1],Z)\n",
    "Matrix([lhs2,eqsign,rhs2]).transpose()"
   ]
  },
  {
   "cell_type": "markdown",
   "metadata": {},
   "source": [
    "We put these equations in terms of Rabi frequencies."
   ]
  },
  {
   "cell_type": "code",
   "execution_count": 79,
   "metadata": {
    "collapsed": false
   },
   "outputs": [],
   "source": [
    "#fact12 = e*r[2][1,0]/hbar\n",
    "#lhs1 = (fact12*lhs1.subs({E0[0]:Omega1*hbar/r[2][1,0]/e}).doit()).expand()\n",
    "#rhs1 = (fact12*rhs1.subs({E0[0]:Omega1*hbar/r[2][1,0]/e}).doit()).expand()\n",
    "\n",
    "#Matrix([lhs1, eqsign, rhs1]).transpose()"
   ]
  },
  {
   "cell_type": "code",
   "execution_count": 80,
   "metadata": {
    "collapsed": false
   },
   "outputs": [],
   "source": [
    "#fact2=e*r[0][2,1]/hbar\n",
    "#lhs2=(fact2*lhs2.subs({E0[1]:Omega2*hbar/r[0][2,1]/e}).doit()).expand()\n",
    "#rhs2=(fact2*rhs2.subs({E0[1]:Omega2*hbar/r[0][2,1]/e}).doit()).expand()\n",
    "\n",
    "#Matrix([lhs2,eqsign,rhs2]).transpose()"
   ]
  },
  {
   "cell_type": "markdown",
   "metadata": {},
   "source": [
    "We may relate the macroscopic polarization to the density matrix if we identify the quantum mechanics operator that corresponds to the polarization. Since the polarization is nothing but the density of dipole moment, we can see that\n",
    "\n",
    "\\begin{equation}\n",
    "    \\vec{P}=-n \\mathrm{Tr}(e \\vec{\\hat{r}} \\hat{\\rho})\n",
    "\\end{equation}\n",
    "\n",
    "notice that the minus sign comes from the fact that $\\vec{\\hat{r}}$ points in the direction of the electron relative to the proton, while the electric dipole moment points in the opposite direction. If we further make the asumption that each frequency component $l$ of the polarization is only driven by the transition $|i\\rangle \\leftrightarrow |j\\rangle$ if $l\\in L_{ij}$, then we may decompose $\\vec{\\hat{r}}$ into $l$ components as.\n",
    "\n",
    "\\begin{equation}\n",
    "    \\vec{\\hat{r}} = \\sum_l \\vec{\\hat{r}}^{l(+)} + \\vec{\\hat{r}}^{l(+)}\n",
    "\\end{equation}\n",
    "\n",
    "Explicitly:"
   ]
  },
  {
   "cell_type": "code",
   "execution_count": 81,
   "metadata": {
    "collapsed": false
   },
   "outputs": [],
   "source": [
    "r_p_component=[ [ Matrix([ [ r_p[p][i,j] if l+1 in Lij[i][j] else 0\n",
    "                            for j in range(Ne)  ] for i in range(Ne)])\n",
    "                 for p in range(3)] for l in range(Nl)]\n",
    "\n",
    "r_m_component=[ [ Matrix([ [ r_m[p][i,j] if l+1 in Lij[i][j] else 0\n",
    "                            for j in range(Ne)  ] for i in range(Ne)])\n",
    "                 for p in range(3)] for l in range(Nl)]"
   ]
  },
  {
   "cell_type": "code",
   "execution_count": 82,
   "metadata": {
    "collapsed": false
   },
   "outputs": [],
   "source": [
    "rpl1=r_p_component[0]\n",
    "rpl2=r_p_component[1]"
   ]
  },
  {
   "cell_type": "code",
   "execution_count": 83,
   "metadata": {
    "collapsed": false
   },
   "outputs": [],
   "source": [
    "#n = Function(\"n\", positive=True)(R,Z)\n",
    "n = symbols(\"n\", positive=True)"
   ]
  },
  {
   "cell_type": "code",
   "execution_count": 84,
   "metadata": {
    "collapsed": false
   },
   "outputs": [],
   "source": [
    "vh = Matrix(symbols(\"r_-,r0,r_+\",real=True))\n",
    "# vh,helicity_to_cartesian(vh)"
   ]
  },
  {
   "cell_type": "code",
   "execution_count": 85,
   "metadata": {
    "collapsed": false
   },
   "outputs": [],
   "source": [
    "rpl1_cartesian = [(rpl1[0]-rpl1[2])/sqrt(2),(rpl1[0]+rpl1[2])*I/sqrt(2),rpl1[1]]\n",
    "# rpl1_cartesian"
   ]
  },
  {
   "cell_type": "code",
   "execution_count": 86,
   "metadata": {
    "collapsed": false
   },
   "outputs": [],
   "source": [
    "rpl2_cartesian = [(rpl2[0]-rpl2[2])/sqrt(2),(rpl2[0]+rpl2[2])*I/sqrt(2),rpl2[1]]\n",
    "# rpl2_cartesian"
   ]
  },
  {
   "cell_type": "markdown",
   "metadata": {},
   "source": [
    "The following factor of 2 comes from the fact that $P^{l(+)}/2 = -e n Tr(\\vec{\\hat{r}}^{l(+)}\\hat{\\rho})$"
   ]
  },
  {
   "cell_type": "code",
   "execution_count": 87,
   "metadata": {
    "collapsed": false
   },
   "outputs": [],
   "source": [
    "Ppl1 = -2*n*e*Matrix([ (rpl1_cartesian[i]*rho).trace() for i in range(3)])\n",
    "Ppl2 = -2*n*e*Matrix([ (rpl2_cartesian[i]*rho).trace() for i in range(3)])\n",
    "\n",
    "# Ppl1, Ppl2"
   ]
  },
  {
   "cell_type": "markdown",
   "metadata": {},
   "source": [
    "Taking the dot product with the polarizations we get the polarization amplitudes in terms of density matrix elements."
   ]
  },
  {
   "cell_type": "code",
   "execution_count": 88,
   "metadata": {
    "collapsed": false
   },
   "outputs": [],
   "source": [
    "Ppl1 = ep[0].conjugate().dot(Ppl1).expand()\n",
    "Ppl2 = ep[1].conjugate().dot(Ppl2).expand()\n",
    "\n",
    "# Ppl1, Ppl2"
   ]
  },
  {
   "cell_type": "code",
   "execution_count": 89,
   "metadata": {
    "collapsed": false
   },
   "outputs": [],
   "source": [
    "rhs1=rhs1.subs({P0[0]:Ppl1})\n",
    "rhs2=rhs2.subs({P0[1]:Ppl2})"
   ]
  },
  {
   "cell_type": "markdown",
   "metadata": {
    "collapsed": true
   },
   "source": [
    "# Maxwell-Bloch equations\n",
    "\n",
    "And we add these equations to the Bloch equations"
   ]
  },
  {
   "cell_type": "code",
   "execution_count": 90,
   "metadata": {
    "collapsed": false
   },
   "outputs": [
    {
     "data": {
      "image/png": "[encoded data removed]",
      "text/latex": [
       "$$\\left[\\begin{matrix}\\frac{\\partial}{\\partial t} \\rho_{11}{\\left (t,Z \\right )} & = & \\frac{i e r_{+1;21}}{2 \\hbar} \\operatorname{E_{01}}{\\left (t,Z \\right )} \\rho_{12}{\\left (t,Z \\right )} - \\frac{i e r_{+1;21}}{2 \\hbar} \\rho_{21}{\\left (t,Z \\right )} \\overline{\\operatorname{E_{01}}{\\left (t,Z \\right )}} + \\gamma_{21} \\rho_{22}{\\left (t,Z \\right )}\\\\\\frac{\\partial}{\\partial t} \\rho_{22}{\\left (t,Z \\right )} & = & - \\frac{i e r_{+1;21}}{2 \\hbar} \\operatorname{E_{01}}{\\left (t,Z \\right )} \\rho_{12}{\\left (t,Z \\right )} + \\frac{i e r_{+1;21}}{2 \\hbar} \\rho_{21}{\\left (t,Z \\right )} \\overline{\\operatorname{E_{01}}{\\left (t,Z \\right )}} + \\frac{i e r_{-1;32}}{2 \\hbar} \\operatorname{E_{02}}{\\left (t,Z \\right )} \\rho_{23}{\\left (t,Z \\right )} - \\frac{i e r_{-1;32}}{2 \\hbar} \\rho_{32}{\\left (t,Z \\right )} \\overline{\\operatorname{E_{02}}{\\left (t,Z \\right )}} - \\gamma_{21} \\rho_{22}{\\left (t,Z \\right )} + \\gamma_{32} \\rho_{33}{\\left (t,Z \\right )}\\\\\\frac{\\partial}{\\partial t} \\rho_{33}{\\left (t,Z \\right )} & = & - \\frac{i e r_{-1;32}}{2 \\hbar} \\operatorname{E_{02}}{\\left (t,Z \\right )} \\rho_{23}{\\left (t,Z \\right )} + \\frac{i e r_{-1;32}}{2 \\hbar} \\rho_{32}{\\left (t,Z \\right )} \\overline{\\operatorname{E_{02}}{\\left (t,Z \\right )}} - \\gamma_{32} \\rho_{33}{\\left (t,Z \\right )}\\\\\\frac{\\partial}{\\partial t} \\rho_{21}{\\left (t,Z \\right )} & = & i \\delta_{1} \\rho_{21}{\\left (t,Z \\right )} - \\frac{i e r_{+1;21}}{2 \\hbar} \\operatorname{E_{01}}{\\left (t,Z \\right )} \\rho_{11}{\\left (t,Z \\right )} + \\frac{i e r_{+1;21}}{2 \\hbar} \\operatorname{E_{01}}{\\left (t,Z \\right )} \\rho_{22}{\\left (t,Z \\right )} - \\frac{i e r_{-1;32}}{2 \\hbar} \\rho_{31}{\\left (t,Z \\right )} \\overline{\\operatorname{E_{02}}{\\left (t,Z \\right )}} - \\frac{\\gamma_{21}}{2} \\rho_{21}{\\left (t,Z \\right )}\\\\\\frac{\\partial}{\\partial t} \\rho_{31}{\\left (t,Z \\right )} & = & i \\delta_{1} \\rho_{31}{\\left (t,Z \\right )} + i \\delta_{2} \\rho_{31}{\\left (t,Z \\right )} + \\frac{i e r_{+1;21}}{2 \\hbar} \\operatorname{E_{01}}{\\left (t,Z \\right )} \\rho_{32}{\\left (t,Z \\right )} - \\frac{i e r_{-1;32}}{2 \\hbar} \\operatorname{E_{02}}{\\left (t,Z \\right )} \\rho_{21}{\\left (t,Z \\right )} - \\frac{\\gamma_{32}}{2} \\rho_{31}{\\left (t,Z \\right )}\\\\\\frac{\\partial}{\\partial t} \\rho_{32}{\\left (t,Z \\right )} & = & i \\delta_{2} \\rho_{32}{\\left (t,Z \\right )} + \\frac{i e r_{+1;21}}{2 \\hbar} \\rho_{31}{\\left (t,Z \\right )} \\overline{\\operatorname{E_{01}}{\\left (t,Z \\right )}} - \\frac{i e r_{-1;32}}{2 \\hbar} \\operatorname{E_{02}}{\\left (t,Z \\right )} \\rho_{22}{\\left (t,Z \\right )} + \\frac{i e r_{-1;32}}{2 \\hbar} \\operatorname{E_{02}}{\\left (t,Z \\right )} \\rho_{33}{\\left (t,Z \\right )} - \\frac{\\gamma_{21}}{2} \\rho_{32}{\\left (t,Z \\right )} - \\frac{\\gamma_{32}}{2} \\rho_{32}{\\left (t,Z \\right )}\\\\\\frac{\\partial}{\\partial t} \\operatorname{E_{01}}{\\left (t,Z \\right )} & = & - i c^{2} e \\mu_{0} n r_{+1;21} \\varpi_{1} \\rho_{21}{\\left (t,Z \\right )} - c \\frac{\\partial}{\\partial Z} \\operatorname{E_{01}}{\\left (t,Z \\right )}\\\\\\frac{\\partial}{\\partial t} \\operatorname{E_{02}}{\\left (t,Z \\right )} & = & - i c^{2} e \\mu_{0} n r_{-1;32} \\varpi_{2} \\rho_{32}{\\left (t,Z \\right )} + c \\frac{\\partial}{\\partial Z} \\operatorname{E_{02}}{\\left (t,Z \\right )}\\end{matrix}\\right]$$"
      ],
      "text/plain": [
       "⎡                                                                             \n",
       "⎢ ∂                                                                   ⅈ⋅e⋅r_{+\n",
       "⎢ ──(ρ₁₁(t, Z))    =                                                  ────────\n",
       "⎢ ∂t                                                                          \n",
       "⎢                                                                             \n",
       "⎢                                                                             \n",
       "⎢ ∂                     ⅈ⋅e⋅r_{+1;21}⋅E_{01}(t, Z)⋅ρ₁₂(t, Z)   ⅈ⋅e⋅r_{+1;21}⋅ρ\n",
       "⎢ ──(ρ₂₂(t, Z))    =  - ──────────────────────────────────── + ───────────────\n",
       "⎢ ∂t                                    2⋅h̅                                  \n",
       "⎢                                                                             \n",
       "⎢                                                                             \n",
       "⎢ ∂                                                                    ⅈ⋅e⋅r_{\n",
       "⎢ ──(ρ₃₃(t, Z))    =                                                 - ───────\n",
       "⎢ ∂t                                                                          \n",
       "⎢                                                                             \n",
       "⎢                                                                             \n",
       "⎢ ∂                                                        ⅈ⋅e⋅r_{+1;21}⋅E_{01\n",
       "⎢ ──(ρ₂₁(t, Z))    =                      ⅈ⋅δ₁⋅ρ₂₁(t, Z) - ───────────────────\n",
       "⎢ ∂t                                                                       2⋅h\n",
       "⎢                                                                             \n",
       "⎢ ∂                                                                           \n",
       "⎢ ──(ρ₃₁(t, Z))    =                                 ⅈ⋅δ₁⋅ρ₃₁(t, Z) + ⅈ⋅δ₂⋅ρ₃₁\n",
       "⎢ ∂t                                                                          \n",
       "⎢                                                                             \n",
       "⎢                                                                          ___\n",
       "⎢ ∂                                                ⅈ⋅e⋅r_{+1;21}⋅ρ₃₁(t, Z)⋅E_{\n",
       "⎢ ──(ρ₃₂(t, Z))    =              ⅈ⋅δ₂⋅ρ₃₂(t, Z) + ───────────────────────────\n",
       "⎢ ∂t                                                               2⋅h̅       \n",
       "⎢                                                                             \n",
       "⎢∂                                                                            \n",
       "⎢──(E_{01}(t, Z))  =                                                          \n",
       "⎢∂t                                                                           \n",
       "⎢                                                                             \n",
       "⎢∂                                                                            \n",
       "⎢──(E_{02}(t, Z))  =                                                          \n",
       "⎣∂t                                                                           \n",
       "\n",
       "                                                       ____________           \n",
       "1;21}⋅E_{01}(t, Z)⋅ρ₁₂(t, Z)   ⅈ⋅e⋅r_{+1;21}⋅ρ₂₁(t, Z)⋅E_{01}(t, Z)           \n",
       "──────────────────────────── - ──────────────────────────────────── + γ₂₁⋅ρ₂₂(\n",
       "        2⋅h̅                                   2⋅h̅                           \n",
       "                                                                              \n",
       "         ____________                                                         \n",
       "₂₁(t, Z)⋅E_{01}(t, Z)   ⅈ⋅e⋅r_{-1;32}⋅E_{02}(t, Z)⋅ρ₂₃(t, Z)   ⅈ⋅e⋅r_{-1;32}⋅ρ\n",
       "───────────────────── + ──────────────────────────────────── - ───────────────\n",
       " 2⋅h̅                                   2⋅h̅                                  \n",
       "                                                                              \n",
       "                                                        ____________          \n",
       "-1;32}⋅E_{02}(t, Z)⋅ρ₂₃(t, Z)   ⅈ⋅e⋅r_{-1;32}⋅ρ₃₂(t, Z)⋅E_{02}(t, Z)          \n",
       "───────────────────────────── + ──────────────────────────────────── - γ₃₂⋅ρ₃₃\n",
       "         2⋅h̅                                   2⋅h̅                          \n",
       "                                                                              \n",
       "                                                                              \n",
       "}(t, Z)⋅ρ₁₁(t, Z)   ⅈ⋅e⋅r_{+1;21}⋅E_{01}(t, Z)⋅ρ₂₂(t, Z)   ⅈ⋅e⋅r_{-1;32}⋅ρ₃₁(t\n",
       "───────────────── + ──────────────────────────────────── - ───────────────────\n",
       "̅                                   2⋅h̅                                   2⋅h\n",
       "                                                                              \n",
       "         ⅈ⋅e⋅r_{+1;21}⋅E_{01}(t, Z)⋅ρ₃₂(t, Z)   ⅈ⋅e⋅r_{-1;32}⋅E_{02}(t, Z)⋅ρ₂₁\n",
       "(t, Z) + ──────────────────────────────────── - ──────────────────────────────\n",
       "                         2⋅h̅                                   2⋅h̅          \n",
       "                                                                              \n",
       "_________                                                                     \n",
       "01}(t, Z)   ⅈ⋅e⋅r_{-1;32}⋅E_{02}(t, Z)⋅ρ₂₂(t, Z)   ⅈ⋅e⋅r_{-1;32}⋅E_{02}(t, Z)⋅\n",
       "───────── - ──────────────────────────────────── + ───────────────────────────\n",
       "                            2⋅h̅                                   2⋅h̅       \n",
       "                                                                              \n",
       "            2                                       ∂                         \n",
       "       - ⅈ⋅c ⋅e⋅μ₀⋅n⋅r_{+1;21}⋅varpi₁⋅ρ₂₁(t, Z) - c⋅──(E_{01}(t, Z))          \n",
       "                                                    ∂Z                        \n",
       "                                                                              \n",
       "            2                                       ∂                         \n",
       "       - ⅈ⋅c ⋅e⋅μ₀⋅n⋅r_{-1;32}⋅varpi₂⋅ρ₃₂(t, Z) + c⋅──(E_{02}(t, Z))          \n",
       "                                                    ∂Z                        \n",
       "\n",
       "                                                     ⎤\n",
       "                                                     ⎥\n",
       "t, Z)                                                ⎥\n",
       "                                                     ⎥\n",
       "                                                     ⎥\n",
       "         ____________                                ⎥\n",
       "₃₂(t, Z)⋅E_{02}(t, Z)                                ⎥\n",
       "───────────────────── - γ₂₁⋅ρ₂₂(t, Z) + γ₃₂⋅ρ₃₃(t, Z)⎥\n",
       " 2⋅h̅                                                ⎥\n",
       "                                                     ⎥\n",
       "                                                     ⎥\n",
       "                                                     ⎥\n",
       "(t, Z)                                               ⎥\n",
       "                                                     ⎥\n",
       "                                                     ⎥\n",
       "     ____________                                    ⎥\n",
       ", Z)⋅E_{02}(t, Z)   γ₂₁⋅ρ₂₁(t, Z)                    ⎥\n",
       "───────────────── - ─────────────                    ⎥\n",
       "̅                         2                          ⎥\n",
       "                                                     ⎥\n",
       "(t, Z)   γ₃₂⋅ρ₃₁(t, Z)                               ⎥\n",
       "────── - ─────────────                               ⎥\n",
       "               2                                     ⎥\n",
       "                                                     ⎥\n",
       "                                                     ⎥\n",
       "ρ₃₃(t, Z)   γ₂₁⋅ρ₃₂(t, Z)   γ₃₂⋅ρ₃₂(t, Z)            ⎥\n",
       "───────── - ───────────── - ─────────────            ⎥\n",
       "                  2               2                  ⎥\n",
       "                                                     ⎥\n",
       "                                                     ⎥\n",
       "                                                     ⎥\n",
       "                                                     ⎥\n",
       "                                                     ⎥\n",
       "                                                     ⎥\n",
       "                                                     ⎥\n",
       "                                                     ⎦"
      ]
     },
     "execution_count": 90,
     "metadata": {},
     "output_type": "execute_result"
    }
   ],
   "source": [
    "eqsign=symbols(\"=\")\n",
    "eqs_list=[]\n",
    "for mu in range(0,Ne**2-1 -(Ne**2 - Ne)/2+1):\n",
    "    ii,jj,s=IJ(mu,Ne)\n",
    "    i=ii-1; j=jj-1\n",
    "    eqs_list+=[[Derivative(rho[i,j],t),eqsign,eqs[i,j]]]\n",
    "\n",
    "eqs_list += [[lhs1, eqsign, rhs1]]\n",
    "eqs_list += [[lhs2, eqsign, rhs2]]\n",
    "\n",
    "eqs_list=Matrix(eqs_list)\n",
    "fprint(eqs_list, print_ascii=print_ascii)"
   ]
  },
  {
   "cell_type": "markdown",
   "metadata": {},
   "source": [
    "Question: how to use calculations from detunings as a replacement for calculations for velocity classes."
   ]
  },
  {
   "cell_type": "markdown",
   "metadata": {},
   "source": [
    "# Linear approximation\n",
    "\n",
    "We can linearize this equations by approximating all the population to be in $\\rho_{11}$, and taking field $\\Omega_1$ to be weak, and the coherences to be small. We will add an $\\epsilon$ to all terms involving either coherences or signal field."
   ]
  },
  {
   "cell_type": "code",
   "execution_count": 91,
   "metadata": {
    "collapsed": false
   },
   "outputs": [],
   "source": [
    "epsilon=symbols(\"varepsilon\", real=True)\n",
    "lin_subs={rho[0,0]:1, rho[1,1]:epsilon**2*rho[1,1], rho[2,2]:epsilon**2*rho[2,2],\n",
    "          rho[1,0]:epsilon*rho[1,0], rho[0,1]:epsilon*rho[0,1],\n",
    "          rho[2,0]:epsilon*rho[2,0], rho[0,2]:epsilon*rho[0,2],\n",
    "          rho[2,1]:epsilon*rho[2,1], rho[1,2]:epsilon*rho[1,2],\n",
    "          E0[0]: epsilon*E0[0]}\n",
    "# lin_subs"
   ]
  },
  {
   "cell_type": "code",
   "execution_count": 92,
   "metadata": {
    "collapsed": false
   },
   "outputs": [
    {
     "data": {
      "image/png": "[encoded data removed]",
      "text/latex": [
       "$$\\left[\\begin{matrix}\\frac{d}{d t} 1 & = & \\frac{i e r_{+1;21} \\varepsilon^{2}}{2 \\hbar} \\operatorname{E_{01}}{\\left (t,Z \\right )} \\rho_{12}{\\left (t,Z \\right )} - \\frac{i e r_{+1;21} \\varepsilon^{2}}{2 \\hbar} \\rho_{21}{\\left (t,Z \\right )} \\overline{\\operatorname{E_{01}}{\\left (t,Z \\right )}} + \\gamma_{21} \\varepsilon^{2} \\rho_{22}{\\left (t,Z \\right )}\\\\\\frac{\\partial}{\\partial t}\\left(\\varepsilon^{2} \\rho_{22}{\\left (t,Z \\right )}\\right) & = & - \\frac{i e r_{+1;21} \\varepsilon^{2}}{2 \\hbar} \\operatorname{E_{01}}{\\left (t,Z \\right )} \\rho_{12}{\\left (t,Z \\right )} + \\frac{i e r_{+1;21} \\varepsilon^{2}}{2 \\hbar} \\rho_{21}{\\left (t,Z \\right )} \\overline{\\operatorname{E_{01}}{\\left (t,Z \\right )}} + \\frac{i e r_{-1;32} \\varepsilon}{2 \\hbar} \\operatorname{E_{02}}{\\left (t,Z \\right )} \\rho_{23}{\\left (t,Z \\right )} - \\frac{i e r_{-1;32} \\varepsilon}{2 \\hbar} \\rho_{32}{\\left (t,Z \\right )} \\overline{\\operatorname{E_{02}}{\\left (t,Z \\right )}} - \\gamma_{21} \\varepsilon^{2} \\rho_{22}{\\left (t,Z \\right )} + \\gamma_{32} \\varepsilon^{2} \\rho_{33}{\\left (t,Z \\right )}\\\\\\frac{\\partial}{\\partial t}\\left(\\varepsilon^{2} \\rho_{33}{\\left (t,Z \\right )}\\right) & = & - \\frac{i e r_{-1;32} \\varepsilon}{2 \\hbar} \\operatorname{E_{02}}{\\left (t,Z \\right )} \\rho_{23}{\\left (t,Z \\right )} + \\frac{i e r_{-1;32} \\varepsilon}{2 \\hbar} \\rho_{32}{\\left (t,Z \\right )} \\overline{\\operatorname{E_{02}}{\\left (t,Z \\right )}} - \\gamma_{32} \\varepsilon^{2} \\rho_{33}{\\left (t,Z \\right )}\\\\\\frac{\\partial}{\\partial t}\\left(\\varepsilon \\rho_{21}{\\left (t,Z \\right )}\\right) & = & i \\delta_{1} \\varepsilon \\rho_{21}{\\left (t,Z \\right )} + \\frac{i e r_{+1;21} \\varepsilon^{3}}{2 \\hbar} \\operatorname{E_{01}}{\\left (t,Z \\right )} \\rho_{22}{\\left (t,Z \\right )} - \\frac{i e r_{+1;21} \\varepsilon}{2 \\hbar} \\operatorname{E_{01}}{\\left (t,Z \\right )} - \\frac{i e r_{-1;32} \\varepsilon}{2 \\hbar} \\rho_{31}{\\left (t,Z \\right )} \\overline{\\operatorname{E_{02}}{\\left (t,Z \\right )}} - \\frac{\\gamma_{21} \\varepsilon}{2} \\rho_{21}{\\left (t,Z \\right )}\\\\\\frac{\\partial}{\\partial t}\\left(\\varepsilon \\rho_{31}{\\left (t,Z \\right )}\\right) & = & i \\delta_{1} \\varepsilon \\rho_{31}{\\left (t,Z \\right )} + i \\delta_{2} \\varepsilon \\rho_{31}{\\left (t,Z \\right )} + \\frac{i e r_{+1;21} \\varepsilon^{2}}{2 \\hbar} \\operatorname{E_{01}}{\\left (t,Z \\right )} \\rho_{32}{\\left (t,Z \\right )} - \\frac{i e r_{-1;32} \\varepsilon}{2 \\hbar} \\operatorname{E_{02}}{\\left (t,Z \\right )} \\rho_{21}{\\left (t,Z \\right )} - \\frac{\\gamma_{32} \\varepsilon}{2} \\rho_{31}{\\left (t,Z \\right )}\\\\\\frac{\\partial}{\\partial t}\\left(\\varepsilon \\rho_{32}{\\left (t,Z \\right )}\\right) & = & i \\delta_{2} \\varepsilon \\rho_{32}{\\left (t,Z \\right )} + \\frac{i e r_{+1;21} \\varepsilon^{2}}{2 \\hbar} \\rho_{31}{\\left (t,Z \\right )} \\overline{\\operatorname{E_{01}}{\\left (t,Z \\right )}} - \\frac{i e r_{-1;32} \\varepsilon^{2}}{2 \\hbar} \\operatorname{E_{02}}{\\left (t,Z \\right )} \\rho_{22}{\\left (t,Z \\right )} + \\frac{i e r_{-1;32} \\varepsilon^{2}}{2 \\hbar} \\operatorname{E_{02}}{\\left (t,Z \\right )} \\rho_{33}{\\left (t,Z \\right )} - \\frac{\\gamma_{21} \\varepsilon}{2} \\rho_{32}{\\left (t,Z \\right )} - \\frac{\\gamma_{32} \\varepsilon}{2} \\rho_{32}{\\left (t,Z \\right )}\\\\\\frac{\\partial}{\\partial t}\\left(\\varepsilon \\operatorname{E_{01}}{\\left (t,Z \\right )}\\right) & = & - i c^{2} e \\mu_{0} n r_{+1;21} \\varepsilon \\varpi_{1} \\rho_{21}{\\left (t,Z \\right )} - c \\frac{\\partial}{\\partial Z}\\left(\\varepsilon \\operatorname{E_{01}}{\\left (t,Z \\right )}\\right)\\\\\\frac{\\partial}{\\partial t} \\operatorname{E_{02}}{\\left (t,Z \\right )} & = & - i c^{2} e \\mu_{0} n r_{-1;32} \\varepsilon \\varpi_{2} \\rho_{32}{\\left (t,Z \\right )} + c \\frac{\\partial}{\\partial Z} \\operatorname{E_{02}}{\\left (t,Z \\right )}\\end{matrix}\\right]$$"
      ],
      "text/plain": [
       "⎡                                                                             \n",
       "⎢           d                                                                 \n",
       "⎢           ──(1)             =                                               \n",
       "⎢           dt                                                                \n",
       "⎢                                                                             \n",
       "⎢                                                          2                  \n",
       "⎢ ∂ ⎛          2          ⎞        ⅈ⋅e⋅r_{+1;21}⋅varepsilon ⋅E_{01}(t, Z)⋅ρ₁₂(\n",
       "⎢ ──⎝varepsilon ⋅ρ₂₂(t, Z)⎠   =  - ───────────────────────────────────────────\n",
       "⎢ ∂t                                                     2⋅h̅                 \n",
       "⎢                                                                             \n",
       "⎢                                                                             \n",
       "⎢ ∂ ⎛          2          ⎞                                                   \n",
       "⎢ ──⎝varepsilon ⋅ρ₃₃(t, Z)⎠   =                                               \n",
       "⎢ ∂t                                                                          \n",
       "⎢                                                                             \n",
       "⎢                                                                             \n",
       "⎢ ∂                                                                           \n",
       "⎢ ──(varepsilon⋅ρ₂₁(t, Z))    =                                  ⅈ⋅δ₁⋅varepsil\n",
       "⎢ ∂t                                                                          \n",
       "⎢                                                                             \n",
       "⎢                                                                             \n",
       "⎢ ∂                                                                           \n",
       "⎢ ──(varepsilon⋅ρ₃₁(t, Z))    =                                        ⅈ⋅δ₁⋅va\n",
       "⎢ ∂t                                                                          \n",
       "⎢                                                                             \n",
       "⎢                                                                             \n",
       "⎢ ∂                                                                      ⅈ⋅e⋅r\n",
       "⎢ ──(varepsilon⋅ρ₃₂(t, Z))    =              ⅈ⋅δ₂⋅varepsilon⋅ρ₃₂(t, Z) + ─────\n",
       "⎢ ∂t                                                                          \n",
       "⎢                                                                             \n",
       "⎢∂                                                                            \n",
       "⎢──(varepsilon⋅E_{01}(t, Z))  =                                               \n",
       "⎢∂t                                                                           \n",
       "⎢                                                                             \n",
       "⎢     ∂                                                                       \n",
       "⎢     ──(E_{02}(t, Z))        =                                               \n",
       "⎣     ∂t                                                                      \n",
       "\n",
       "                                            2                                 \n",
       "                    ⅈ⋅e⋅r_{+1;21}⋅varepsilon ⋅E_{01}(t, Z)⋅ρ₁₂(t, Z)   ⅈ⋅e⋅r_{\n",
       "                    ──────────────────────────────────────────────── - ───────\n",
       "                                          2⋅h̅                                \n",
       "                                                                              \n",
       "                                2           ____________                      \n",
       "t, Z)   ⅈ⋅e⋅r_{+1;21}⋅varepsilon ⋅ρ₂₁(t, Z)⋅E_{01}(t, Z)   ⅈ⋅e⋅r_{-1;32}⋅varep\n",
       "───── + ──────────────────────────────────────────────── + ───────────────────\n",
       "                              2⋅h̅                                            \n",
       "                                                                              \n",
       "                                                                              \n",
       "                      ⅈ⋅e⋅r_{-1;32}⋅varepsilon⋅E_{02}(t, Z)⋅ρ₂₃(t, Z)   ⅈ⋅e⋅r_\n",
       "                    - ─────────────────────────────────────────────── + ──────\n",
       "                                            2⋅h̅                              \n",
       "                                                                              \n",
       "                                       3                                      \n",
       "               ⅈ⋅e⋅r_{+1;21}⋅varepsilon ⋅E_{01}(t, Z)⋅ρ₂₂(t, Z)   ⅈ⋅e⋅r_{+1;21\n",
       "on⋅ρ₂₁(t, Z) + ──────────────────────────────────────────────── - ────────────\n",
       "                                     2⋅h̅                                     \n",
       "                                                                              \n",
       "                                                                         2    \n",
       "                                                 ⅈ⋅e⋅r_{+1;21}⋅varepsilon ⋅E_{\n",
       "repsilon⋅ρ₃₁(t, Z) + ⅈ⋅δ₂⋅varepsilon⋅ρ₃₁(t, Z) + ─────────────────────────────\n",
       "                                                                       2⋅h̅   \n",
       "                                                                              \n",
       "                   2           ____________                           2       \n",
       "_{+1;21}⋅varepsilon ⋅ρ₃₁(t, Z)⋅E_{01}(t, Z)   ⅈ⋅e⋅r_{-1;32}⋅varepsilon ⋅E_{02}\n",
       "─────────────────────────────────────────── - ────────────────────────────────\n",
       "                 2⋅h̅                                               2⋅h̅      \n",
       "                                                                              \n",
       "                                               2                              \n",
       "                                          - ⅈ⋅c ⋅e⋅μ₀⋅n⋅r_{+1;21}⋅varepsilon⋅v\n",
       "                                                                              \n",
       "                                                                              \n",
       "                                                    2                         \n",
       "                                               - ⅈ⋅c ⋅e⋅μ₀⋅n⋅r_{-1;32}⋅varepsi\n",
       "                                                                              \n",
       "\n",
       "                 2           ____________                                     \n",
       "+1;21}⋅varepsilon ⋅ρ₂₁(t, Z)⋅E_{01}(t, Z)                 2                   \n",
       "───────────────────────────────────────── + γ₂₁⋅varepsilon ⋅ρ₂₂(t, Z)         \n",
       "               2⋅h̅                                                           \n",
       "                                                                              \n",
       "                                                                  ____________\n",
       "silon⋅E_{02}(t, Z)⋅ρ₂₃(t, Z)   ⅈ⋅e⋅r_{-1;32}⋅varepsilon⋅ρ₃₂(t, Z)⋅E_{02}(t, Z)\n",
       "──────────────────────────── - ───────────────────────────────────────────────\n",
       "   2⋅h̅                                              2⋅h̅                     \n",
       "                                                                              \n",
       "                             ____________                                     \n",
       "{-1;32}⋅varepsilon⋅ρ₃₂(t, Z)⋅E_{02}(t, Z)                 2                   \n",
       "───────────────────────────────────────── - γ₃₂⋅varepsilon ⋅ρ₃₃(t, Z)         \n",
       "                2⋅h̅                                                          \n",
       "                                                                              \n",
       "                                                               ____________   \n",
       "}⋅varepsilon⋅E_{01}(t, Z)   ⅈ⋅e⋅r_{-1;32}⋅varepsilon⋅ρ₃₁(t, Z)⋅E_{02}(t, Z)   \n",
       "───────────────────────── - ─────────────────────────────────────────────── - \n",
       "     2⋅h̅                                         2⋅h̅                        \n",
       "                                                                              \n",
       "                                                                              \n",
       "01}(t, Z)⋅ρ₃₂(t, Z)   ⅈ⋅e⋅r_{-1;32}⋅varepsilon⋅E_{02}(t, Z)⋅ρ₂₁(t, Z)   γ₃₂⋅va\n",
       "─────────────────── - ─────────────────────────────────────────────── - ──────\n",
       "                                            2⋅h̅                              \n",
       "                                                                              \n",
       "                                           2                                  \n",
       "(t, Z)⋅ρ₂₂(t, Z)   ⅈ⋅e⋅r_{-1;32}⋅varepsilon ⋅E_{02}(t, Z)⋅ρ₃₃(t, Z)   γ₂₁⋅vare\n",
       "──────────────── + ──────────────────────────────────────────────── - ────────\n",
       "                                         2⋅h̅                                 \n",
       "                                                                              \n",
       "                    ∂                                                         \n",
       "arpi₁⋅ρ₂₁(t, Z) - c⋅──(varepsilon⋅E_{01}(t, Z))                               \n",
       "                    ∂Z                                                        \n",
       "                                                                              \n",
       "                         ∂                                                    \n",
       "lon⋅varpi₂⋅ρ₃₂(t, Z) + c⋅──(E_{02}(t, Z))                                     \n",
       "                         ∂Z                                                   \n",
       "\n",
       "                                                        ⎤\n",
       "                                                        ⎥\n",
       "                                                        ⎥\n",
       "                                                        ⎥\n",
       "                                                        ⎥\n",
       "                                                        ⎥\n",
       "                 2                           2          ⎥\n",
       " - γ₂₁⋅varepsilon ⋅ρ₂₂(t, Z) + γ₃₂⋅varepsilon ⋅ρ₃₃(t, Z)⎥\n",
       "                                                        ⎥\n",
       "                                                        ⎥\n",
       "                                                        ⎥\n",
       "                                                        ⎥\n",
       "                                                        ⎥\n",
       "                                                        ⎥\n",
       "                                                        ⎥\n",
       "                                                        ⎥\n",
       "γ₂₁⋅varepsilon⋅ρ₂₁(t, Z)                                ⎥\n",
       "────────────────────────                                ⎥\n",
       "           2                                            ⎥\n",
       "                                                        ⎥\n",
       "                                                        ⎥\n",
       "repsilon⋅ρ₃₁(t, Z)                                      ⎥\n",
       "──────────────────                                      ⎥\n",
       "     2                                                  ⎥\n",
       "                                                        ⎥\n",
       "                                                        ⎥\n",
       "psilon⋅ρ₃₂(t, Z)   γ₃₂⋅varepsilon⋅ρ₃₂(t, Z)             ⎥\n",
       "──────────────── - ────────────────────────             ⎥\n",
       "   2                          2                         ⎥\n",
       "                                                        ⎥\n",
       "                                                        ⎥\n",
       "                                                        ⎥\n",
       "                                                        ⎥\n",
       "                                                        ⎥\n",
       "                                                        ⎥\n",
       "                                                        ⎥\n",
       "                                                        ⎦"
      ]
     },
     "execution_count": 92,
     "metadata": {},
     "output_type": "execute_result"
    }
   ],
   "source": [
    "eqs_lin=eqs_list\n",
    "eqs_lin=eqs_lin.subs(lin_subs)\n",
    "fprint(eqs_lin, print_ascii=print_ascii)"
   ]
  },
  {
   "cell_type": "markdown",
   "metadata": {},
   "source": [
    "And so, terms which are doubly small can be neglected."
   ]
  },
  {
   "cell_type": "code",
   "execution_count": 93,
   "metadata": {
    "collapsed": false
   },
   "outputs": [
    {
     "data": {
      "image/png": "[encoded data removed]",
      "text/latex": [
       "$$\\left[\\begin{matrix}0 & = & 0\\\\0 & = & \\frac{i e r_{-1;32}}{2 \\hbar} \\operatorname{E_{02}}{\\left (t,Z \\right )} \\rho_{23}{\\left (t,Z \\right )} - \\frac{i e r_{-1;32}}{2 \\hbar} \\rho_{32}{\\left (t,Z \\right )} \\overline{\\operatorname{E_{02}}{\\left (t,Z \\right )}}\\\\0 & = & - \\frac{i e r_{-1;32}}{2 \\hbar} \\operatorname{E_{02}}{\\left (t,Z \\right )} \\rho_{23}{\\left (t,Z \\right )} + \\frac{i e r_{-1;32}}{2 \\hbar} \\rho_{32}{\\left (t,Z \\right )} \\overline{\\operatorname{E_{02}}{\\left (t,Z \\right )}}\\\\\\frac{\\partial}{\\partial t} \\rho_{21}{\\left (t,Z \\right )} & = & i \\delta_{1} \\rho_{21}{\\left (t,Z \\right )} - \\frac{i e r_{+1;21}}{2 \\hbar} \\operatorname{E_{01}}{\\left (t,Z \\right )} - \\frac{i e r_{-1;32}}{2 \\hbar} \\rho_{31}{\\left (t,Z \\right )} \\overline{\\operatorname{E_{02}}{\\left (t,Z \\right )}} - \\frac{\\gamma_{21}}{2} \\rho_{21}{\\left (t,Z \\right )}\\\\\\frac{\\partial}{\\partial t} \\rho_{31}{\\left (t,Z \\right )} & = & i \\delta_{1} \\rho_{31}{\\left (t,Z \\right )} + i \\delta_{2} \\rho_{31}{\\left (t,Z \\right )} - \\frac{i e r_{-1;32}}{2 \\hbar} \\operatorname{E_{02}}{\\left (t,Z \\right )} \\rho_{21}{\\left (t,Z \\right )} - \\frac{\\gamma_{32}}{2} \\rho_{31}{\\left (t,Z \\right )}\\\\\\frac{\\partial}{\\partial t} \\rho_{32}{\\left (t,Z \\right )} & = & i \\delta_{2} \\rho_{32}{\\left (t,Z \\right )} - \\frac{\\gamma_{21}}{2} \\rho_{32}{\\left (t,Z \\right )} - \\frac{\\gamma_{32}}{2} \\rho_{32}{\\left (t,Z \\right )}\\\\\\frac{\\partial}{\\partial t} \\operatorname{E_{01}}{\\left (t,Z \\right )} & = & - i c^{2} e \\mu_{0} n r_{+1;21} \\varpi_{1} \\rho_{21}{\\left (t,Z \\right )} - c \\frac{\\partial}{\\partial Z} \\operatorname{E_{01}}{\\left (t,Z \\right )}\\\\\\frac{\\partial}{\\partial t} \\operatorname{E_{02}}{\\left (t,Z \\right )} & = & - i c^{2} e \\mu_{0} n r_{-1;32} \\varpi_{2} \\rho_{32}{\\left (t,Z \\right )} + c \\frac{\\partial}{\\partial Z} \\operatorname{E_{02}}{\\left (t,Z \\right )}\\end{matrix}\\right]$$"
      ],
      "text/plain": [
       "⎡       0          =                                                  0       \n",
       "⎢                                                                             \n",
       "⎢                                                                             \n",
       "⎢                                ⅈ⋅e⋅r_{-1;32}⋅E_{02}(t, Z)⋅ρ₂₃(t, Z)   ⅈ⋅e⋅r_\n",
       "⎢       0          =             ──────────────────────────────────── - ──────\n",
       "⎢                                                2⋅h̅                         \n",
       "⎢                                                                             \n",
       "⎢                                                                             \n",
       "⎢                                 ⅈ⋅e⋅r_{-1;32}⋅E_{02}(t, Z)⋅ρ₂₃(t, Z)   ⅈ⋅e⋅r\n",
       "⎢       0          =            - ──────────────────────────────────── + ─────\n",
       "⎢                                                 2⋅h̅                        \n",
       "⎢                                                                             \n",
       "⎢                                                                             \n",
       "⎢ ∂                                    ⅈ⋅e⋅r_{+1;21}⋅E_{01}(t, Z)   ⅈ⋅e⋅r_{-1;\n",
       "⎢ ──(ρ₂₁(t, Z))    =  ⅈ⋅δ₁⋅ρ₂₁(t, Z) - ────────────────────────── - ──────────\n",
       "⎢ ∂t                                              2⋅h̅                        \n",
       "⎢                                                                             \n",
       "⎢ ∂                                                           ⅈ⋅e⋅r_{-1;32}⋅E_\n",
       "⎢ ──(ρ₃₁(t, Z))    =        ⅈ⋅δ₁⋅ρ₃₁(t, Z) + ⅈ⋅δ₂⋅ρ₃₁(t, Z) - ────────────────\n",
       "⎢ ∂t                                                                          \n",
       "⎢                                                                             \n",
       "⎢ ∂                                                              γ₂₁⋅ρ₃₂(t, Z)\n",
       "⎢ ──(ρ₃₂(t, Z))    =                            ⅈ⋅δ₂⋅ρ₃₂(t, Z) - ─────────────\n",
       "⎢ ∂t                                                                   2      \n",
       "⎢                                                                             \n",
       "⎢∂                                           2                                \n",
       "⎢──(E_{01}(t, Z))  =                    - ⅈ⋅c ⋅e⋅μ₀⋅n⋅r_{+1;21}⋅varpi₁⋅ρ₂₁(t, \n",
       "⎢∂t                                                                           \n",
       "⎢                                                                             \n",
       "⎢∂                                           2                                \n",
       "⎢──(E_{02}(t, Z))  =                    - ⅈ⋅c ⋅e⋅μ₀⋅n⋅r_{-1;32}⋅varpi₂⋅ρ₃₂(t, \n",
       "⎣∂t                                                                           \n",
       "\n",
       "                                          ⎤\n",
       "                                          ⎥\n",
       "                  ____________            ⎥\n",
       "{-1;32}⋅ρ₃₂(t, Z)⋅E_{02}(t, Z)            ⎥\n",
       "──────────────────────────────            ⎥\n",
       "          2⋅h̅                            ⎥\n",
       "                                          ⎥\n",
       "                   ____________           ⎥\n",
       "_{-1;32}⋅ρ₃₂(t, Z)⋅E_{02}(t, Z)           ⎥\n",
       "───────────────────────────────           ⎥\n",
       "           2⋅h̅                           ⎥\n",
       "                                          ⎥\n",
       "              ____________                ⎥\n",
       "32}⋅ρ₃₁(t, Z)⋅E_{02}(t, Z)   γ₂₁⋅ρ₂₁(t, Z)⎥\n",
       "────────────────────────── - ─────────────⎥\n",
       "      2⋅h̅                         2      ⎥\n",
       "                                          ⎥\n",
       "{02}(t, Z)⋅ρ₂₁(t, Z)   γ₃₂⋅ρ₃₁(t, Z)      ⎥\n",
       "──────────────────── - ─────────────      ⎥\n",
       "2⋅h̅                         2            ⎥\n",
       "                                          ⎥\n",
       "   γ₃₂⋅ρ₃₂(t, Z)                          ⎥\n",
       " - ─────────────                          ⎥\n",
       "         2                                ⎥\n",
       "                                          ⎥\n",
       "       ∂                                  ⎥\n",
       "Z) - c⋅──(E_{01}(t, Z))                   ⎥\n",
       "       ∂Z                                 ⎥\n",
       "                                          ⎥\n",
       "       ∂                                  ⎥\n",
       "Z) + c⋅──(E_{02}(t, Z))                   ⎥\n",
       "       ∂Z                                 ⎦"
      ]
     },
     "execution_count": 93,
     "metadata": {},
     "output_type": "execute_result"
    }
   ],
   "source": [
    "eqs_lin = eqs_lin.subs({epsilon**2:0}).subs({epsilon:1})\n",
    "eqs_lin = eqs_lin.subs({Derivative(1,t):0,Derivative(0,t):0})\n",
    "fprint(eqs_lin, print_ascii=print_ascii)"
   ]
  },
  {
   "cell_type": "markdown",
   "metadata": {},
   "source": [
    "The equations for $\\rho_{22}, \\rho_{33}$ make a statement about the imaginary part of $\\Omega_2\\rho_{23}$ being zero. Let's just ignore that. The equation for $\\rho_{32}$ is only coupled to itself, and can be easily solved"
   ]
  },
  {
   "cell_type": "code",
   "execution_count": 94,
   "metadata": {
    "collapsed": false
   },
   "outputs": [
    {
     "data": {
      "image/png": "[encoded data removed]",
      "text/latex": [
       "$$e^{t \\left(i \\delta_{2} - \\frac{\\gamma_{21}}{2} - \\frac{\\gamma_{32}}{2}\\right)}$$"
      ],
      "text/plain": [
       "   ⎛       γ₂₁   γ₃₂⎞\n",
       " t⋅⎜ⅈ⋅δ₂ - ─── - ───⎟\n",
       "   ⎝        2     2 ⎠\n",
       "ℯ                    "
      ]
     },
     "execution_count": 94,
     "metadata": {},
     "output_type": "execute_result"
    }
   ],
   "source": [
    "rho32_sol=exp((-(gamma[1,0]+gamma[2,1])/2+I*delta2)*t)\n",
    "rho32_sol"
   ]
  },
  {
   "cell_type": "code",
   "execution_count": 95,
   "metadata": {
    "collapsed": false
   },
   "outputs": [
    {
     "data": {
      "image/png": "[encoded data removed]",
      "text/latex": [
       "$$0$$"
      ],
      "text/plain": [
       "0"
      ]
     },
     "execution_count": 95,
     "metadata": {},
     "output_type": "execute_result"
    }
   ],
   "source": [
    "Derivative(rho32_sol,t).doit().expand()-eqs_lin[5,2].subs({rho[2,1]:rho32_sol}).expand()"
   ]
  },
  {
   "cell_type": "markdown",
   "metadata": {},
   "source": [
    "So the dynamics are captured by the equations for $\\rho_{21}, \\rho_{31}$ and the wave propagation equations."
   ]
  },
  {
   "cell_type": "code",
   "execution_count": 96,
   "metadata": {
    "collapsed": false
   },
   "outputs": [
    {
     "data": {
      "image/png": "[encoded data removed]",
      "text/latex": [
       "$$\\left[\\begin{matrix}\\frac{\\partial}{\\partial t} \\rho_{21}{\\left (t,Z \\right )} & = & i \\delta_{1} \\rho_{21}{\\left (t,Z \\right )} - \\frac{i e r_{+1;21}}{2 \\hbar} \\operatorname{E_{01}}{\\left (t,Z \\right )} - \\frac{i e r_{-1;32}}{2 \\hbar} \\rho_{31}{\\left (t,Z \\right )} \\overline{\\operatorname{E_{02}}{\\left (t,Z \\right )}} - \\frac{\\gamma_{21}}{2} \\rho_{21}{\\left (t,Z \\right )}\\\\\\frac{\\partial}{\\partial t} \\rho_{31}{\\left (t,Z \\right )} & = & i \\delta_{1} \\rho_{31}{\\left (t,Z \\right )} + i \\delta_{2} \\rho_{31}{\\left (t,Z \\right )} - \\frac{i e r_{-1;32}}{2 \\hbar} \\operatorname{E_{02}}{\\left (t,Z \\right )} \\rho_{21}{\\left (t,Z \\right )} - \\frac{\\gamma_{32}}{2} \\rho_{31}{\\left (t,Z \\right )}\\\\\\frac{\\partial}{\\partial t} \\operatorname{E_{01}}{\\left (t,Z \\right )} & = & - i c^{2} e \\mu_{0} n r_{+1;21} \\varpi_{1} \\rho_{21}{\\left (t,Z \\right )} - c \\frac{\\partial}{\\partial Z} \\operatorname{E_{01}}{\\left (t,Z \\right )}\\\\\\frac{\\partial}{\\partial t} \\operatorname{E_{02}}{\\left (t,Z \\right )} & = & - i c^{2} e \\mu_{0} n r_{-1;32} \\varpi_{2} \\rho_{32}{\\left (t,Z \\right )} + c \\frac{\\partial}{\\partial Z} \\operatorname{E_{02}}{\\left (t,Z \\right )}\\end{matrix}\\right]$$"
      ],
      "text/plain": [
       "⎡                                                                             \n",
       "⎢ ∂                                    ⅈ⋅e⋅r_{+1;21}⋅E_{01}(t, Z)   ⅈ⋅e⋅r_{-1;\n",
       "⎢ ──(ρ₂₁(t, Z))    =  ⅈ⋅δ₁⋅ρ₂₁(t, Z) - ────────────────────────── - ──────────\n",
       "⎢ ∂t                                              2⋅h̅                        \n",
       "⎢                                                                             \n",
       "⎢ ∂                                                           ⅈ⋅e⋅r_{-1;32}⋅E_\n",
       "⎢ ──(ρ₃₁(t, Z))    =        ⅈ⋅δ₁⋅ρ₃₁(t, Z) + ⅈ⋅δ₂⋅ρ₃₁(t, Z) - ────────────────\n",
       "⎢ ∂t                                                                          \n",
       "⎢                                                                             \n",
       "⎢∂                                           2                                \n",
       "⎢──(E_{01}(t, Z))  =                    - ⅈ⋅c ⋅e⋅μ₀⋅n⋅r_{+1;21}⋅varpi₁⋅ρ₂₁(t, \n",
       "⎢∂t                                                                           \n",
       "⎢                                                                             \n",
       "⎢∂                                           2                                \n",
       "⎢──(E_{02}(t, Z))  =                    - ⅈ⋅c ⋅e⋅μ₀⋅n⋅r_{-1;32}⋅varpi₂⋅ρ₃₂(t, \n",
       "⎣∂t                                                                           \n",
       "\n",
       "              ____________                ⎤\n",
       "32}⋅ρ₃₁(t, Z)⋅E_{02}(t, Z)   γ₂₁⋅ρ₂₁(t, Z)⎥\n",
       "────────────────────────── - ─────────────⎥\n",
       "      2⋅h̅                         2      ⎥\n",
       "                                          ⎥\n",
       "{02}(t, Z)⋅ρ₂₁(t, Z)   γ₃₂⋅ρ₃₁(t, Z)      ⎥\n",
       "──────────────────── - ─────────────      ⎥\n",
       "2⋅h̅                         2            ⎥\n",
       "                                          ⎥\n",
       "       ∂                                  ⎥\n",
       "Z) - c⋅──(E_{01}(t, Z))                   ⎥\n",
       "       ∂Z                                 ⎥\n",
       "                                          ⎥\n",
       "       ∂                                  ⎥\n",
       "Z) + c⋅──(E_{02}(t, Z))                   ⎥\n",
       "       ∂Z                                 ⎦"
      ]
     },
     "execution_count": 96,
     "metadata": {},
     "output_type": "execute_result"
    }
   ],
   "source": [
    "eqss=[[eqs_lin[3:5,:][0,0],eqsign,eqs_lin[3:5,:][0,2]],\n",
    "      [eqs_lin[3:5,:][1,0],eqsign,eqs_lin[3:5,:][1,2]]]\n",
    "\n",
    "eqss=eqss+[[eqs_lin[6: ,:][0,0],eqsign,eqs_lin[6: ,:][0,2]],\n",
    "      [eqs_lin[6: ,:][1,0],eqsign,eqs_lin[6: ,:][1,2]]]\n",
    "\n",
    "eqss=Matrix(eqss)\n",
    "eqs_lin=eqss\n",
    "eqs_lin"
   ]
  },
  {
   "cell_type": "markdown",
   "metadata": {},
   "source": [
    "If we further consider $\\Omega_2$ to be very strong we can neglect the first term on the right-hand side on the last equation."
   ]
  },
  {
   "cell_type": "code",
   "execution_count": 97,
   "metadata": {
    "collapsed": false
   },
   "outputs": [
    {
     "data": {
      "image/png": "[encoded data removed]",
      "text/latex": [
       "$$- c \\frac{\\partial}{\\partial Z} \\operatorname{E_{02}}{\\left (t,Z \\right )} + \\frac{\\partial}{\\partial t} \\operatorname{E_{02}}{\\left (t,Z \\right )}$$"
      ],
      "text/plain": [
       "    ∂                  ∂               \n",
       "- c⋅──(E_{02}(t, Z)) + ──(E_{02}(t, Z))\n",
       "    ∂Z                 ∂t              "
      ]
     },
     "execution_count": 97,
     "metadata": {},
     "output_type": "execute_result"
    }
   ],
   "source": [
    "eqOmega2=eqs_lin[3,:][0]-eqs_lin[3,:][2]\n",
    "eqOmega2=eqOmega2.subs({n:0})\n",
    "eqOmega2"
   ]
  },
  {
   "cell_type": "markdown",
   "metadata": {},
   "source": [
    "And thus solve that equation and take $\\Omega_2$ as a given quantity. For instance, it might be a gaussian pulse with time duration $\\tau_2$:"
   ]
  },
  {
   "cell_type": "code",
   "execution_count": 98,
   "metadata": {
    "collapsed": false
   },
   "outputs": [
    {
     "data": {
      "image/png": "[encoded data removed]",
      "text/latex": [
       "$$\\Omega_{2 peak} e^{- \\frac{4}{\\tau_{2}^{2}} \\left(\\frac{Z}{c} + t - t_{0}\\right) \\log{\\left (2 \\right )}}$$"
      ],
      "text/plain": [
       "             ⎛Z         ⎞        \n",
       "          -4⋅⎜─ + t - t₀⎟⋅log(2) \n",
       "             ⎝c         ⎠        \n",
       "          ───────────────────────\n",
       "                      2          \n",
       "                    τ₂           \n",
       "Ω_2_peak⋅ℯ                       "
      ]
     },
     "execution_count": 98,
     "metadata": {},
     "output_type": "execute_result"
    }
   ],
   "source": [
    "from sympy import log\n",
    "Omega2_peak, tau2, t0=symbols(\"Omega2_peak, tau2, t0\", positive=True)\n",
    "Omega2_sol=Omega2_peak*exp(-4*log(2)*(t-t0+Z/c)/tau2**2)\n",
    "Omega2_sol"
   ]
  },
  {
   "cell_type": "code",
   "execution_count": 99,
   "metadata": {
    "collapsed": false
   },
   "outputs": [
    {
     "data": {
      "image/png": "[encoded data removed]",
      "text/latex": [
       "$$- c \\frac{\\partial}{\\partial Z} \\operatorname{E_{02}}{\\left (t,Z \\right )} + \\frac{\\partial}{\\partial t} \\operatorname{E_{02}}{\\left (t,Z \\right )}$$"
      ],
      "text/plain": [
       "    ∂                  ∂               \n",
       "- c⋅──(E_{02}(t, Z)) + ──(E_{02}(t, Z))\n",
       "    ∂Z                 ∂t              "
      ]
     },
     "execution_count": 99,
     "metadata": {},
     "output_type": "execute_result"
    }
   ],
   "source": [
    "eqOmega2.subs({Omega2:Omega2_sol}).doit()"
   ]
  },
  {
   "cell_type": "markdown",
   "metadata": {},
   "source": [
    " Then the equations are reduced to"
   ]
  },
  {
   "cell_type": "code",
   "execution_count": 100,
   "metadata": {
    "collapsed": false
   },
   "outputs": [
    {
     "data": {
      "image/png": "[encoded data removed]",
      "text/latex": [
       "$$\\left \\{ \\Omega_{2}{\\left (t,Z \\right )} : \\frac{e r_{-1;32}}{2 \\hbar} \\operatorname{E_{02}}{\\left (t,Z \\right )}\\right \\}$$"
      ],
      "text/plain": [
       "⎧          e⋅r_{-1;32}⋅E_{02}(t, Z)⎫\n",
       "⎨Ω₂(t, Z): ────────────────────────⎬\n",
       "⎩                    2⋅h̅          ⎭"
      ]
     },
     "execution_count": 100,
     "metadata": {},
     "output_type": "execute_result"
    }
   ],
   "source": [
    "ss_Omega = {E0[1]: 2*Omega2*hbar/r[0][2,1]/e}\n",
    "ss_Omega_inv = {Omega2: E0[1]/(2*hbar/r[0][2,1]/e)}\n",
    "ss_Omega_inv"
   ]
  },
  {
   "cell_type": "code",
   "execution_count": 101,
   "metadata": {
    "collapsed": false
   },
   "outputs": [
    {
     "data": {
      "image/png": "[encoded data removed]",
      "text/latex": [
       "$$\\left[\\begin{matrix}\\frac{\\partial}{\\partial t} \\rho_{21}{\\left (t,Z \\right )} & = & i \\delta_{1} \\rho_{21}{\\left (t,Z \\right )} - \\frac{i e r_{+1;21}}{2 \\hbar} \\operatorname{E_{01}}{\\left (t,Z \\right )} - \\frac{\\gamma_{21}}{2} \\rho_{21}{\\left (t,Z \\right )} - i \\rho_{31}{\\left (t,Z \\right )} \\overline{\\Omega_{2}{\\left (t,Z \\right )}}\\\\\\frac{\\partial}{\\partial t} \\rho_{31}{\\left (t,Z \\right )} & = & i \\delta_{1} \\rho_{31}{\\left (t,Z \\right )} + i \\delta_{2} \\rho_{31}{\\left (t,Z \\right )} - \\frac{\\gamma_{32}}{2} \\rho_{31}{\\left (t,Z \\right )} - i \\Omega_{2}{\\left (t,Z \\right )} \\rho_{21}{\\left (t,Z \\right )}\\\\\\frac{\\partial}{\\partial t} \\operatorname{E_{01}}{\\left (t,Z \\right )} & = & - c \\frac{\\partial}{\\partial Z} \\operatorname{E_{01}}{\\left (t,Z \\right )} - \\frac{i r_{+1;21}}{\\varepsilon_{0}} e n \\varpi_{1} \\rho_{21}{\\left (t,Z \\right )}\\end{matrix}\\right]$$"
      ],
      "text/plain": [
       "⎡ ∂                                    ⅈ⋅e⋅r_{+1;21}⋅E_{01}(t, Z)   γ₂₁⋅ρ₂₁(t,\n",
       "⎢ ──(ρ₂₁(t, Z))    =  ⅈ⋅δ₁⋅ρ₂₁(t, Z) - ────────────────────────── - ──────────\n",
       "⎢ ∂t                                              2⋅h̅                    2   \n",
       "⎢                                                                             \n",
       "⎢ ∂                                                           γ₃₂⋅ρ₃₁(t, Z)   \n",
       "⎢ ──(ρ₃₁(t, Z))    =        ⅈ⋅δ₁⋅ρ₃₁(t, Z) + ⅈ⋅δ₂⋅ρ₃₁(t, Z) - ───────────── - \n",
       "⎢ ∂t                                                                2         \n",
       "⎢                                                                             \n",
       "⎢∂                                     ∂                  ⅈ⋅e⋅n⋅r_{+1;21}⋅varp\n",
       "⎢──(E_{01}(t, Z))  =               - c⋅──(E_{01}(t, Z)) - ────────────────────\n",
       "⎣∂t                                    ∂Z                           varepsilon\n",
       "\n",
       " Z)               ________⎤\n",
       "─── - ⅈ⋅ρ₃₁(t, Z)⋅Ω₂(t, Z)⎥\n",
       "                          ⎥\n",
       "                          ⎥\n",
       "                          ⎥\n",
       "ⅈ⋅Ω₂(t, Z)⋅ρ₂₁(t, Z)      ⎥\n",
       "                          ⎥\n",
       "                          ⎥\n",
       "i₁⋅ρ₂₁(t, Z)              ⎥\n",
       "────────────              ⎥\n",
       "₀                         ⎦"
      ]
     },
     "execution_count": 101,
     "metadata": {},
     "output_type": "execute_result"
    }
   ],
   "source": [
    "eqs_lin=eqs_lin[:-1,:].subs({c**2: 1/mu0/epsilon0}).subs(ss_Omega)\n",
    "eqs_lin"
   ]
  },
  {
   "cell_type": "markdown",
   "metadata": {},
   "source": [
    "# Josh style equations\n",
    "We find the transformation necessary to get Josh-style equations."
   ]
  },
  {
   "cell_type": "code",
   "execution_count": 102,
   "metadata": {
    "collapsed": false
   },
   "outputs": [
    {
     "data": {
      "image/png": "[encoded data removed]",
      "text/latex": [
       "$$\\left \\{ \\kappa : \\frac{e \\sqrt{n} r_{+1;21} \\sqrt{\\varpi_{1}}}{\\sqrt{c} \\sqrt{\\hbar} \\sqrt{\\varepsilon_{0}}}\\right \\}$$"
      ],
      "text/plain": [
       "⎧                    ________⎫\n",
       "⎪   e⋅√n⋅r_{+1;21}⋅╲╱ varpi₁ ⎪\n",
       "⎨κ: ─────────────────────────⎬\n",
       "⎪        ____   _____________⎪\n",
       "⎩   √c⋅╲╱ h̅ ⋅╲╱ varepsilon₀ ⎭"
      ]
     },
     "execution_count": 102,
     "metadata": {},
     "output_type": "execute_result"
    }
   ],
   "source": [
    "rr = -r_p[0][0, 1]\n",
    "kappa = symbols(\"kappa\", positive=True)\n",
    "ss_kappa = {rr: kappa*sqrt(hbar*epsilon0*c/(n*omega_laser[0]*e**2))}\n",
    "ss_kappa_inv = {kappa: rr*sqrt(n)/sqrt(hbar*epsilon0*c/(omega_laser[0]*e**2))}\n",
    "ss_kappa_inv"
   ]
  },
  {
   "cell_type": "code",
   "execution_count": 103,
   "metadata": {
    "collapsed": false
   },
   "outputs": [
    {
     "data": {
      "image/png": "[encoded data removed]",
      "text/latex": [
       "$$\\left ( \\left[\\begin{matrix}i \\delta_{1} - \\frac{\\gamma_{21}}{2} & - i \\overline{\\Omega_{2}{\\left (t,Z \\right )}} & - \\frac{i e r_{+1;21}}{2 \\hbar}\\\\- i \\Omega_{2}{\\left (t,Z \\right )} & i \\delta_{1} + i \\delta_{2} - \\frac{\\gamma_{32}}{2} & 0\\\\- \\frac{i r_{+1;21}}{\\varepsilon_{0}} e n \\varpi_{1} & 0 & 0\\end{matrix}\\right], \\quad \\left[\\begin{matrix}\\rho_{21}{\\left (t,Z \\right )}\\\\\\rho_{31}{\\left (t,Z \\right )}\\\\\\operatorname{E_{01}}{\\left (t,Z \\right )}\\end{matrix}\\right]\\right )$$"
      ],
      "text/plain": [
       "⎛⎡              γ₂₁               ________     -ⅈ⋅e⋅r_{+1;21} ⎤               \n",
       "⎜⎢       ⅈ⋅δ₁ - ───            -ⅈ⋅Ω₂(t, Z)     ───────────────⎥, ⎡ ρ₂₁(t, Z)  \n",
       "⎜⎢               2                                   2⋅h̅     ⎥  ⎢            \n",
       "⎜⎢                                                            ⎥  ⎢ ρ₃₁(t, Z)  \n",
       "⎜⎢                                        γ₃₂                 ⎥  ⎢            \n",
       "⎜⎢      -ⅈ⋅Ω₂(t, Z)         ⅈ⋅δ₁ + ⅈ⋅δ₂ - ───         0       ⎥  ⎣E_{01}(t, Z)\n",
       "⎜⎢                                         2                  ⎥               \n",
       "⎜⎢                                                            ⎥               \n",
       "⎜⎢-ⅈ⋅e⋅n⋅r_{+1;21}⋅varpi₁                                     ⎥               \n",
       "⎜⎢────────────────────────          0                 0       ⎥               \n",
       "⎝⎣      varepsilon₀                                           ⎦               \n",
       "\n",
       " ⎞\n",
       "⎤⎟\n",
       "⎥⎟\n",
       "⎥⎟\n",
       "⎥⎟\n",
       "⎦⎟\n",
       " ⎟\n",
       " ⎟\n",
       " ⎟\n",
       " ⎟\n",
       " ⎠"
      ]
     },
     "execution_count": 103,
     "metadata": {},
     "output_type": "execute_result"
    }
   ],
   "source": [
    "X0 = Matrix([rho[1, 0], rho[2, 0], E0[0]])\n",
    "M0 = Matrix([[Derivative(eqs_lin[i, 2], X0[j]).doit() for j in range(3)] for i in range(3)])\n",
    "#M = M.subs(delta2, -delta1)\n",
    "M0, X0"
   ]
  },
  {
   "cell_type": "code",
   "execution_count": 104,
   "metadata": {
    "collapsed": false
   },
   "outputs": [
    {
     "data": {
      "image/png": "[encoded data removed]",
      "text/latex": [
       "$$\\left[\\begin{matrix}P{\\left (t,Z \\right )}\\\\B{\\left (t,Z \\right )}\\\\S{\\left (t,Z \\right )}\\end{matrix}\\right]$$"
      ],
      "text/plain": [
       "⎡P(t, Z)⎤\n",
       "⎢       ⎥\n",
       "⎢B(t, Z)⎥\n",
       "⎢       ⎥\n",
       "⎣S(t, Z)⎦"
      ]
     },
     "execution_count": 104,
     "metadata": {},
     "output_type": "execute_result"
    }
   ],
   "source": [
    "P = Function(\"P\")(t, Z)\n",
    "B = Function(\"B\")(t, Z)\n",
    "S = Function(\"S\")(t, Z)\n",
    "X = Matrix([P, B, S])\n",
    "X"
   ]
  },
  {
   "cell_type": "code",
   "execution_count": 105,
   "metadata": {
    "collapsed": false
   },
   "outputs": [
    {
     "data": {
      "image/png": "[encoded data removed]",
      "text/latex": [
       "$$\\left ( \\left[\\begin{matrix}i \\delta_{1} - \\frac{\\gamma_{21}}{2} & - i \\overline{\\Omega_{2}{\\left (t,Z \\right )}} & \\kappa\\\\- i \\Omega_{2}{\\left (t,Z \\right )} & i \\delta_{1} + i \\delta_{2} - \\frac{\\gamma_{32}}{2} & 0\\\\- i c \\kappa & 0 & 0\\end{matrix}\\right], \\quad \\left[\\begin{matrix}P{\\left (t,Z \\right )}\\\\B{\\left (t,Z \\right )}\\\\S{\\left (t,Z \\right )}\\end{matrix}\\right]\\right )$$"
      ],
      "text/plain": [
       "⎛⎡       γ₂₁         ________      ⎤           ⎞\n",
       "⎜⎢ⅈ⋅δ₁ - ───      -ⅈ⋅Ω₂(t, Z)     κ⎥, ⎡P(t, Z)⎤⎟\n",
       "⎜⎢        2                        ⎥  ⎢       ⎥⎟\n",
       "⎜⎢                                 ⎥  ⎢B(t, Z)⎥⎟\n",
       "⎜⎢                           γ₃₂   ⎥  ⎢       ⎥⎟\n",
       "⎜⎢-ⅈ⋅Ω₂(t, Z)  ⅈ⋅δ₁ + ⅈ⋅δ₂ - ───  0⎥  ⎣S(t, Z)⎦⎟\n",
       "⎜⎢                            2    ⎥           ⎟\n",
       "⎜⎢                                 ⎥           ⎟\n",
       "⎝⎣  -ⅈ⋅c⋅κ             0          0⎦           ⎠"
      ]
     },
     "execution_count": 105,
     "metadata": {},
     "output_type": "execute_result"
    }
   ],
   "source": [
    "Mtar = Matrix([[I*delta1-gamma[1, 0]/2, -I*Omega2.conjugate(), kappa],\n",
    "               [-I*Omega2, -gamma[2, 1]/2+I*delta1+I*delta2, 0],\n",
    "               [-c*kappa*I, 0, 0]])\n",
    "Mtar, X"
   ]
  },
  {
   "cell_type": "code",
   "execution_count": 106,
   "metadata": {
    "collapsed": false
   },
   "outputs": [
    {
     "data": {
      "image/png": "[encoded data removed]",
      "text/latex": [
       "$$\\left ( \\left[\\begin{matrix}\\rho_{21}{\\left (t,Z \\right )}\\\\\\rho_{31}{\\left (t,Z \\right )}\\\\\\operatorname{E_{01}}{\\left (t,Z \\right )}\\end{matrix}\\right], \\quad \\left[\\begin{matrix}s P{\\left (t,Z \\right )}\\\\p B{\\left (t,Z \\right )}\\\\q S{\\left (t,Z \\right )}\\end{matrix}\\right]\\right )$$"
      ],
      "text/plain": [
       "⎛⎡ ρ₂₁(t, Z)  ⎤, ⎡s⋅P(t, Z)⎤⎞\n",
       "⎜⎢            ⎥  ⎢         ⎥⎟\n",
       "⎜⎢ ρ₃₁(t, Z)  ⎥  ⎢p⋅B(t, Z)⎥⎟\n",
       "⎜⎢            ⎥  ⎢         ⎥⎟\n",
       "⎝⎣E_{01}(t, Z)⎦  ⎣q⋅S(t, Z)⎦⎠"
      ]
     },
     "execution_count": 106,
     "metadata": {},
     "output_type": "execute_result"
    }
   ],
   "source": [
    "s, p, q = symbols(\"s, p, q\")\n",
    "trans = [s, p, q]\n",
    "U = Matrix([[s, 0, 0], [0, p, 0], [0, 0, q]])\n",
    "ss_U = {X0[i]: X[i]*trans[i] for i in range(3)}\n",
    "X0, U*X"
   ]
  },
  {
   "cell_type": "code",
   "execution_count": 107,
   "metadata": {
    "collapsed": false
   },
   "outputs": [
    {
     "data": {
      "image/png": "[encoded data removed]",
      "text/latex": [
       "$$\\left ( \\frac{\\partial}{\\partial t} \\left[\\begin{matrix}P{\\left (t,Z \\right )}\\\\B{\\left (t,Z \\right )}\\\\S{\\left (t,Z \\right )}\\end{matrix}\\right], \\quad \\left[\\begin{matrix}i \\delta_{1} - \\frac{\\gamma_{21}}{2} & - \\frac{i p}{s} \\overline{\\Omega_{2}{\\left (t,Z \\right )}} & - \\frac{i e q r_{+1;21}}{2 \\hbar s}\\\\- \\frac{i s}{p} \\Omega_{2}{\\left (t,Z \\right )} & i \\delta_{1} + i \\delta_{2} - \\frac{\\gamma_{32}}{2} & 0\\\\- \\frac{i e r_{+1;21} s}{q \\varepsilon_{0}} n \\varpi_{1} & 0 & 0\\end{matrix}\\right], \\quad \\left[\\begin{matrix}P{\\left (t,Z \\right )}\\\\B{\\left (t,Z \\right )}\\\\S{\\left (t,Z \\right )}\\end{matrix}\\right]\\right )$$"
      ],
      "text/plain": [
       "⎛               ⎡                                  ________                   \n",
       "⎜∂              ⎢               γ₂₁           -ⅈ⋅p⋅Ω₂(t, Z)     -ⅈ⋅e⋅q⋅r_{+1;2\n",
       "⎜──⎛⎡P(t, Z)⎤⎞, ⎢        ⅈ⋅δ₁ - ───           ──────────────    ──────────────\n",
       "⎜∂t⎜⎢       ⎥⎟  ⎢                2                  s                 2⋅h̅⋅s  \n",
       "⎜  ⎜⎢B(t, Z)⎥⎟  ⎢                                                             \n",
       "⎜  ⎜⎢       ⎥⎟  ⎢      -ⅈ⋅s⋅Ω₂(t, Z)                       γ₃₂                \n",
       "⎜  ⎝⎣S(t, Z)⎦⎠  ⎢      ──────────────        ⅈ⋅δ₁ + ⅈ⋅δ₂ - ───          0     \n",
       "⎜               ⎢            p                              2                 \n",
       "⎜               ⎢                                                             \n",
       "⎜               ⎢-ⅈ⋅e⋅n⋅r_{+1;21}⋅s⋅varpi₁                                    \n",
       "⎜               ⎢──────────────────────────          0                  0     \n",
       "⎝               ⎣      q⋅varepsilon₀                                          \n",
       "\n",
       "   ⎤           ⎞\n",
       "1} ⎥           ⎟\n",
       "───⎥, ⎡P(t, Z)⎤⎟\n",
       "   ⎥  ⎢       ⎥⎟\n",
       "   ⎥  ⎢B(t, Z)⎥⎟\n",
       "   ⎥  ⎢       ⎥⎟\n",
       "   ⎥  ⎣S(t, Z)⎦⎟\n",
       "   ⎥           ⎟\n",
       "   ⎥           ⎟\n",
       "   ⎥           ⎟\n",
       "   ⎥           ⎟\n",
       "   ⎦           ⎠"
      ]
     },
     "execution_count": 107,
     "metadata": {},
     "output_type": "execute_result"
    }
   ],
   "source": [
    "lhs_U = U.inv()*U*X\n",
    "rhs_U = U.inv()*M0*U*X\n",
    "\n",
    "M_U = Matrix([[Derivative(rhs_U[i], X[j]).doit() for j in range(3)] for i in range(3)])\n",
    "\n",
    "Derivative(lhs_U, t), M_U, X"
   ]
  },
  {
   "cell_type": "code",
   "execution_count": 108,
   "metadata": {
    "collapsed": false
   },
   "outputs": [
    {
     "data": {
      "image/png": "[encoded data removed]",
      "text/latex": [
       "$$\\kappa = - \\frac{i e q r_{+1;21}}{2 \\hbar}$$"
      ],
      "text/plain": [
       "    -ⅈ⋅e⋅q⋅r_{+1;21} \n",
       "κ = ─────────────────\n",
       "           2⋅h̅      "
      ]
     },
     "execution_count": 108,
     "metadata": {},
     "output_type": "execute_result"
    }
   ],
   "source": [
    "eq1 = Equality(Mtar[0, 2], M_U[0, 2]).subs(s, p).subs(p, 1)\n",
    "#eq2 = Equality(Mtar[2, 0], M_U[2, 0]).subs(s, p).subs(p, 1)\n",
    "eq1"
   ]
  },
  {
   "cell_type": "code",
   "execution_count": 109,
   "metadata": {
    "collapsed": false
   },
   "outputs": [
    {
     "data": {
      "image/png": "[encoded data removed]",
      "text/latex": [
       "$$\\left[\\begin{matrix}i \\delta_{1} - \\frac{\\gamma_{21}}{2} & - i \\overline{\\Omega_{2}{\\left (t,Z \\right )}} & \\kappa\\\\- i \\Omega_{2}{\\left (t,Z \\right )} & i \\delta_{1} + i \\delta_{2} - \\frac{\\gamma_{32}}{2} & 0\\\\- \\frac{c \\kappa}{2} & 0 & 0\\end{matrix}\\right]$$"
      ],
      "text/plain": [
       "⎡       γ₂₁         ________      ⎤\n",
       "⎢ⅈ⋅δ₁ - ───      -ⅈ⋅Ω₂(t, Z)     κ⎥\n",
       "⎢        2                        ⎥\n",
       "⎢                                 ⎥\n",
       "⎢                           γ₃₂   ⎥\n",
       "⎢-ⅈ⋅Ω₂(t, Z)  ⅈ⋅δ₁ + ⅈ⋅δ₂ - ───  0⎥\n",
       "⎢                            2    ⎥\n",
       "⎢                                 ⎥\n",
       "⎢   -c⋅κ                          ⎥\n",
       "⎢   ─────             0          0⎥\n",
       "⎣     2                           ⎦"
      ]
     },
     "execution_count": 109,
     "metadata": {},
     "output_type": "execute_result"
    }
   ],
   "source": [
    "ss_trans = solve(eq1, q, dict=True)[0]\n",
    "ss_trans.update({s: 1, p: 1})\n",
    "M_U.subs(ss_trans).subs(ss_kappa)"
   ]
  },
  {
   "cell_type": "code",
   "execution_count": 110,
   "metadata": {
    "collapsed": false
   },
   "outputs": [
    {
     "data": {
      "image/png": "[encoded data removed]",
      "text/latex": [
       "$$\\left \\{ \\operatorname{E_{01}}{\\left (t,Z \\right )} : \\frac{2 i \\hbar \\kappa}{e r_{+1;21}} S{\\left (t,Z \\right )}, \\quad \\rho_{21}{\\left (t,Z \\right )} : P{\\left (t,Z \\right )}, \\quad \\rho_{31}{\\left (t,Z \\right )} : B{\\left (t,Z \\right )}\\right \\}$$"
      ],
      "text/plain": [
       "⎧              2⋅ⅈ⋅h̅⋅κ⋅S(t, Z)                                        ⎫\n",
       "⎨E_{01}(t, Z): ────────────────, ρ₂₁(t, Z): P(t, Z), ρ₃₁(t, Z): B(t, Z)⎬\n",
       "⎩                e⋅r_{+1;21}                                           ⎭"
      ]
     },
     "execution_count": 110,
     "metadata": {},
     "output_type": "execute_result"
    }
   ],
   "source": [
    "ss_U_final = {i: ss_U[i].subs(ss_trans) for i in ss_U}\n",
    "S_transform = ss_U_final[E0[0]]/S\n",
    "ss_U_final"
   ]
  },
  {
   "cell_type": "code",
   "execution_count": 111,
   "metadata": {
    "collapsed": true
   },
   "outputs": [],
   "source": [
    "def group(expr, variables, return_coeffs=False):\n",
    "    coefs = [Derivative(expr, variables[i]).doit() for i in range(len(variables))]\n",
    "    expr_lin = sum([coefs[i]*variables[i] for i in range(len(variables))])\n",
    "    remainder = (expr - expr_lin).expand()\n",
    "    if return_coeffs:\n",
    "        return coefs\n",
    "    return expr_lin + remainder"
   ]
  },
  {
   "cell_type": "markdown",
   "metadata": {},
   "source": [
    "Check the SVEA!"
   ]
  },
  {
   "cell_type": "code",
   "execution_count": 112,
   "metadata": {
    "collapsed": false
   },
   "outputs": [
    {
     "data": {
      "image/png": "[encoded data removed]",
      "text/latex": [
       "$$\\left[\\begin{matrix}\\frac{\\partial}{\\partial t} P{\\left (t,Z \\right )} & = & \\kappa S{\\left (t,Z \\right )} + \\left(i \\delta_{1} - \\frac{\\gamma_{21}}{2}\\right) P{\\left (t,Z \\right )} - i B{\\left (t,Z \\right )} \\overline{\\Omega_{2}{\\left (t,Z \\right )}}\\\\\\frac{\\partial}{\\partial t} B{\\left (t,Z \\right )} & = & \\left(i \\delta_{1} + i \\delta_{2} - \\frac{\\gamma_{32}}{2}\\right) B{\\left (t,Z \\right )} - i \\Omega_{2}{\\left (t,Z \\right )} P{\\left (t,Z \\right )}\\\\\\frac{\\partial}{\\partial t} S{\\left (t,Z \\right )} & = & - c \\kappa P{\\left (t,Z \\right )} - c \\frac{\\partial}{\\partial Z} S{\\left (t,Z \\right )}\\end{matrix}\\right]$$"
      ],
      "text/plain": [
       "⎡∂                           ⎛       γ₂₁⎞                     ________⎤\n",
       "⎢──(P(t, Z))  =  κ⋅S(t, Z) + ⎜ⅈ⋅δ₁ - ───⎟⋅P(t, Z) - ⅈ⋅B(t, Z)⋅Ω₂(t, Z)⎥\n",
       "⎢∂t                          ⎝        2 ⎠                             ⎥\n",
       "⎢                                                                     ⎥\n",
       "⎢∂                 ⎛              γ₃₂⎞                                ⎥\n",
       "⎢──(B(t, Z))  =    ⎜ⅈ⋅δ₁ + ⅈ⋅δ₂ - ───⎟⋅B(t, Z) - ⅈ⋅Ω₂(t, Z)⋅P(t, Z)   ⎥\n",
       "⎢∂t                ⎝               2 ⎠                                ⎥\n",
       "⎢                                                                     ⎥\n",
       "⎢∂                                            ∂                       ⎥\n",
       "⎢──(S(t, Z))  =              -c⋅κ⋅P(t, Z) - c⋅──(S(t, Z))             ⎥\n",
       "⎣∂t                                           ∂Z                      ⎦"
      ]
     },
     "execution_count": 112,
     "metadata": {},
     "output_type": "execute_result"
    }
   ],
   "source": [
    "eqs_lin2 = eqs_lin.subs(ss_U_final).doit()\n",
    "eqs_lin2[0, 2] = group(eqs_lin2[0, 2], X)\n",
    "eqs_lin2[1, 2] = group(eqs_lin2[1, 2], X)\n",
    "eqs_lin2[2, 2] = group(eqs_lin2[2, 2], X)\n",
    "\n",
    "eqs_lin2[2, 0] = eqs_lin2[2, 0]/S_transform\n",
    "eqs_lin2[2, 2] = (eqs_lin2[2, 2]/S_transform).expand().subs(P, P*2)\n",
    "eqs_lin2 = eqs_lin2.subs(ss_kappa)\n",
    "\n",
    "eqs_lin2"
   ]
  },
  {
   "cell_type": "markdown",
   "metadata": {},
   "source": [
    "We add the Doppler effect. To a linear approximation."
   ]
  },
  {
   "cell_type": "code",
   "execution_count": 113,
   "metadata": {
    "collapsed": false
   },
   "outputs": [
    {
     "data": {
      "image/png": "[encoded data removed]",
      "text/latex": [
       "$$\\left \\{ \\varpi_{1} : \\varpi_{1} \\left(1 - \\frac{v_{Z}}{c}\\right), \\quad \\varpi_{2} : \\varpi_{2} \\left(1 + \\frac{v_{Z}}{c}\\right)\\right \\}$$"
      ],
      "text/plain": [
       "⎧               ⎛    v_Z⎞                 ⎛    v_Z⎞⎫\n",
       "⎨varpi₁: varpi₁⋅⎜1 - ───⎟, varpi₂: varpi₂⋅⎜1 + ───⎟⎬\n",
       "⎩               ⎝     c ⎠                 ⎝     c ⎠⎭"
      ]
     },
     "execution_count": 113,
     "metadata": {},
     "output_type": "execute_result"
    }
   ],
   "source": [
    "vX, vY, vZ = symbols(\"v_X, v_Y, v_Z\", real=True)\n",
    "v = Matrix([vX, vY, vZ])\n",
    "ss_Dop = {omega_laser[l]:\n",
    "          (1 - cartesian_dot_product(laseres[l].k, v).subs(1.0, 1)/c).subs(vX, 0)*omega_laser[l] for l in range(Nl)}\n",
    "ss_Dop"
   ]
  },
  {
   "cell_type": "markdown",
   "metadata": {},
   "source": [
    "Which translates to"
   ]
  },
  {
   "cell_type": "code",
   "execution_count": 114,
   "metadata": {
    "collapsed": false
   },
   "outputs": [
    {
     "data": {
      "image/png": "[encoded data removed]",
      "text/latex": [
       "$$\\left ( \\left \\{ \\delta_{1} : \\delta_{1} - \\frac{v_{Z} \\varpi_{1}}{c}, \\quad \\delta_{2} : \\delta_{2} + \\frac{v_{Z} \\varpi_{2}}{c}\\right \\}, \\quad \\left \\{ \\Delta_k : \\frac{1}{c} \\left(\\varpi_{1} - \\varpi_{2}\\right)\\right \\}\\right )$$"
      ],
      "text/plain": [
       "⎛⎧         v_Z⋅varpi₁           v_Z⋅varpi₂⎫  ⎧          varpi₁ - varpi₂⎫⎞\n",
       "⎜⎨δ₁: δ₁ - ──────────, δ₂: δ₂ + ──────────⎬, ⎨\\Delta_k: ───────────────⎬⎟\n",
       "⎝⎩             c                    c     ⎭  ⎩                 c       ⎭⎠"
      ]
     },
     "execution_count": 114,
     "metadata": {},
     "output_type": "execute_result"
    }
   ],
   "source": [
    "delta = [delta1, delta2]\n",
    "ss_Dop = {delta[l]:\n",
    "          (delta[l] - cartesian_dot_product(laseres[l].k, v).subs(1.0, 1)/c*omega_laser[l]).subs(vX, 0) for l in range(Nl)}\n",
    "\n",
    "Deltak = symbols(r\"\\Delta_k\", real=True)\n",
    "ss_deltak = {-I*vZ*omega_laser[0]/c + I*vZ*omega_laser[1]/c: -I*Deltak*vZ}\n",
    "ss_deltak_inv = {Deltak: (omega_laser[0]-omega_laser[1])/c}\n",
    "ss_deltak, ss_deltak_inv\n",
    "\n",
    "ss_Dop, ss_deltak_inv"
   ]
  },
  {
   "cell_type": "code",
   "execution_count": 115,
   "metadata": {
    "collapsed": false
   },
   "outputs": [
    {
     "data": {
      "image/png": "[encoded data removed]",
      "text/latex": [
       "$$\\left ( \\left \\{ \\gamma_{21} : 2 \\Gamma_{21} + 2 i \\delta_{1}\\right \\}, \\quad \\left \\{ \\Gamma_{21} : - i \\delta_{1} + \\frac{\\gamma_{21}}{2}\\right \\}\\right )$$"
      ],
      "text/plain": [
       "⎛                       ⎧             γ₂₁⎫⎞\n",
       "⎜{γ₂₁: 2⋅Γ₂₁ + 2⋅ⅈ⋅δ₁}, ⎨Γ₂₁: -ⅈ⋅δ₁ + ───⎬⎟\n",
       "⎝                       ⎩              2 ⎭⎠"
      ]
     },
     "execution_count": 115,
     "metadata": {},
     "output_type": "execute_result"
    }
   ],
   "source": [
    "Gamma21 = symbols(\"Gamma_21\")\n",
    "Gamma32 = symbols(\"Gamma_32\")\n",
    "#Gamma/2 = gamma[1, 0]/2 - I*(delta1-vZ*omega_laser[0]/c)\n",
    "ss_Gamma21 = {gamma[1, 0]: 2*(Gamma21+I*delta1)}\n",
    "ss_Gamma32 = {gamma[2, 1]: 2*(Gamma32+I*delta2)}\n",
    "\n",
    "ss_Gamma21_inv = {Gamma21: gamma[1, 0]/2- I*(delta1)}\n",
    "ss_Gamma32_inv = {Gamma32: gamma[2, 1]/2- I*(delta2)}\n",
    "\n",
    "ss_Gamma21, ss_Gamma21_inv"
   ]
  },
  {
   "cell_type": "code",
   "execution_count": 116,
   "metadata": {
    "collapsed": false
   },
   "outputs": [
    {
     "data": {
      "image/png": "[encoded data removed]",
      "text/latex": [
       "$$\\left[\\begin{matrix}\\frac{\\partial}{\\partial t} P{\\left (t,Z \\right )} & = & \\kappa S{\\left (t,Z \\right )} + \\left(- \\Gamma_{21} - \\frac{i v_{Z}}{c} \\varpi_{1}\\right) P{\\left (t,Z \\right )} - i B{\\left (t,Z \\right )} \\overline{\\Omega_{2}{\\left (t,Z \\right )}}\\\\\\frac{\\partial}{\\partial t} B{\\left (t,Z \\right )} & = & \\left(- i \\Delta_k v_{Z} + i \\delta_{1} + i \\delta_{2} - \\frac{\\gamma_{32}}{2}\\right) B{\\left (t,Z \\right )} - i \\Omega_{2}{\\left (t,Z \\right )} P{\\left (t,Z \\right )}\\\\\\frac{\\partial}{\\partial t} S{\\left (t,Z \\right )} & = & - c \\kappa P{\\left (t,Z \\right )} - c \\frac{\\partial}{\\partial Z} S{\\left (t,Z \\right )}\\end{matrix}\\right]$$"
      ],
      "text/plain": [
       "⎡∂                             ⎛       ⅈ⋅v_Z⋅varpi₁⎞                     _____\n",
       "⎢──(P(t, Z))  =    κ⋅S(t, Z) + ⎜-Γ₂₁ - ────────────⎟⋅P(t, Z) - ⅈ⋅B(t, Z)⋅Ω₂(t,\n",
       "⎢∂t                            ⎝            c      ⎠                          \n",
       "⎢                                                                             \n",
       "⎢∂               ⎛                                γ₃₂⎞                        \n",
       "⎢──(B(t, Z))  =  ⎜-ⅈ⋅\\Delta_k⋅v_Z + ⅈ⋅δ₁ + ⅈ⋅δ₂ - ───⎟⋅B(t, Z) - ⅈ⋅Ω₂(t, Z)⋅P(\n",
       "⎢∂t              ⎝                                 2 ⎠                        \n",
       "⎢                                                                             \n",
       "⎢∂                                                   ∂                        \n",
       "⎢──(S(t, Z))  =                     -c⋅κ⋅P(t, Z) - c⋅──(S(t, Z))              \n",
       "⎣∂t                                                  ∂Z                       \n",
       "\n",
       "___  ⎤\n",
       " Z)  ⎥\n",
       "     ⎥\n",
       "     ⎥\n",
       "     ⎥\n",
       "t, Z)⎥\n",
       "     ⎥\n",
       "     ⎥\n",
       "     ⎥\n",
       "     ⎥\n",
       "     ⎦"
      ]
     },
     "execution_count": 116,
     "metadata": {},
     "output_type": "execute_result"
    }
   ],
   "source": [
    "eqs_lin2 = eqs_lin2.subs(ss_Dop)\n",
    "eqs_lin2[1, 2] = group(eqs_lin2[1, 2].expand(), X).subs(ss_deltak)\n",
    "\n",
    "eqs_lin2 = eqs_lin2.subs(ss_Gamma21)#.subs(ss_Gamma32)\n",
    "eqs_lin2[0, 2] = group(eqs_lin2[0, 2].expand(), X)\n",
    "eqs_lin2[1, 2] = group(eqs_lin2[1, 2].expand(), X)\n",
    "\n",
    "eqs_lin2"
   ]
  },
  {
   "cell_type": "markdown",
   "metadata": {},
   "source": [
    "# Pure refraction solution"
   ]
  },
  {
   "cell_type": "code",
   "execution_count": 117,
   "metadata": {
    "collapsed": false
   },
   "outputs": [
    {
     "data": {
      "image/png": "[encoded data removed]",
      "text/latex": [
       "$$\\left[\\begin{matrix}\\frac{\\partial}{\\partial t} P{\\left (t,Z \\right )} = \\kappa S{\\left (t,Z \\right )} + \\left(- \\Gamma_{21} - \\frac{i v_{Z}}{c} \\varpi_{1}\\right) P{\\left (t,Z \\right )}\\\\\\frac{\\partial}{\\partial t} B{\\left (t,Z \\right )} = \\left(- i \\Delta_k v_{Z} + i \\delta_{1} + i \\delta_{2} - \\frac{\\gamma_{32}}{2}\\right) B{\\left (t,Z \\right )}\\\\\\frac{\\partial}{\\partial t} S{\\left (t,Z \\right )} = - c \\kappa P{\\left (t,Z \\right )} - c \\frac{\\partial}{\\partial Z} S{\\left (t,Z \\right )}\\end{matrix}\\right]$$"
      ],
      "text/plain": [
       "⎡  ∂                         ⎛       ⅈ⋅v_Z⋅varpi₁⎞          ⎤\n",
       "⎢  ──(P(t, Z)) = κ⋅S(t, Z) + ⎜-Γ₂₁ - ────────────⎟⋅P(t, Z)  ⎥\n",
       "⎢  ∂t                        ⎝            c      ⎠          ⎥\n",
       "⎢                                                           ⎥\n",
       "⎢∂             ⎛                                γ₃₂⎞        ⎥\n",
       "⎢──(B(t, Z)) = ⎜-ⅈ⋅\\Delta_k⋅v_Z + ⅈ⋅δ₁ + ⅈ⋅δ₂ - ───⎟⋅B(t, Z)⎥\n",
       "⎢∂t            ⎝                                 2 ⎠        ⎥\n",
       "⎢                                                           ⎥\n",
       "⎢        ∂                              ∂                   ⎥\n",
       "⎢        ──(S(t, Z)) = -c⋅κ⋅P(t, Z) - c⋅──(S(t, Z))         ⎥\n",
       "⎣        ∂t                             ∂Z                  ⎦"
      ]
     },
     "execution_count": 117,
     "metadata": {},
     "output_type": "execute_result"
    }
   ],
   "source": [
    "eqs_nc = Matrix([Equality(eqs_lin2[i, 0], eqs_lin2[i, 2]) for i in range(3)])\n",
    "eqs_nc = eqs_nc.subs(Omega2, 0)\n",
    "eqs_nc"
   ]
  },
  {
   "cell_type": "markdown",
   "metadata": {},
   "source": [
    "The second equation is trivial to solve"
   ]
  },
  {
   "cell_type": "code",
   "execution_count": 118,
   "metadata": {
    "collapsed": false
   },
   "outputs": [
    {
     "data": {
      "image/png": "[encoded data removed]",
      "text/latex": [
       "$$\\left \\{ B{\\left (t,Z \\right )} : B{\\left (0,Z \\right )} e^{t \\left(- i \\Delta_k v_{Z} + i \\delta_{1} + i \\delta_{2} - \\frac{\\gamma_{32}}{2}\\right)}\\right \\}$$"
      ],
      "text/plain": [
       "⎧                    ⎛                                γ₃₂⎞⎫\n",
       "⎪                  t⋅⎜-ⅈ⋅\\Delta_k⋅v_Z + ⅈ⋅δ₁ + ⅈ⋅δ₂ - ───⎟⎪\n",
       "⎨                    ⎝                                 2 ⎠⎬\n",
       "⎪B(t, Z): B(0, Z)⋅ℯ                                       ⎪\n",
       "⎩                                                         ⎭"
      ]
     },
     "execution_count": 118,
     "metadata": {},
     "output_type": "execute_result"
    }
   ],
   "source": [
    "sol_nc21 = {B: exp(t*eqs_nc[1].rhs/B)*B.subs(t, 0)}\n",
    "sol_nc21"
   ]
  },
  {
   "cell_type": "markdown",
   "metadata": {},
   "source": [
    "We take the Fourier transform of the remaining equations."
   ]
  },
  {
   "cell_type": "code",
   "execution_count": 119,
   "metadata": {
    "collapsed": false
   },
   "outputs": [
    {
     "data": {
      "image/png": "[encoded data removed]",
      "text/latex": [
       "$$\\left[\\begin{matrix}i \\omega P{\\left (\\omega,Z \\right )} = \\kappa S{\\left (\\omega,Z \\right )} + \\left(- \\Gamma_{21} - \\frac{i v_{Z}}{c} \\varpi_{1}\\right) P{\\left (\\omega,Z \\right )}\\\\\\frac{\\partial}{\\partial t} B{\\left (t,Z \\right )} = \\left(- i \\Delta_k v_{Z} + i \\delta_{1} + i \\delta_{2} - \\frac{\\gamma_{32}}{2}\\right) B{\\left (t,Z \\right )}\\\\i \\omega S{\\left (\\omega,Z \\right )} = - c \\kappa P{\\left (\\omega,Z \\right )} - c \\frac{\\partial}{\\partial Z} S{\\left (\\omega,Z \\right )}\\end{matrix}\\right]$$"
      ],
      "text/plain": [
       "⎡                            ⎛       ⅈ⋅v_Z⋅varpi₁⎞          ⎤\n",
       "⎢  ⅈ⋅ω⋅P(ω, Z) = κ⋅S(ω, Z) + ⎜-Γ₂₁ - ────────────⎟⋅P(ω, Z)  ⎥\n",
       "⎢                            ⎝            c      ⎠          ⎥\n",
       "⎢                                                           ⎥\n",
       "⎢∂             ⎛                                γ₃₂⎞        ⎥\n",
       "⎢──(B(t, Z)) = ⎜-ⅈ⋅\\Delta_k⋅v_Z + ⅈ⋅δ₁ + ⅈ⋅δ₂ - ───⎟⋅B(t, Z)⎥\n",
       "⎢∂t            ⎝                                 2 ⎠        ⎥\n",
       "⎢                                                           ⎥\n",
       "⎢                                       ∂                   ⎥\n",
       "⎢        ⅈ⋅ω⋅S(ω, Z) = -c⋅κ⋅P(ω, Z) - c⋅──(S(ω, Z))         ⎥\n",
       "⎣                                       ∂Z                  ⎦"
      ]
     },
     "execution_count": 119,
     "metadata": {},
     "output_type": "execute_result"
    }
   ],
   "source": [
    "omega = symbols(\"omega\", real=True)\n",
    "eqs_nc2 = eqs_nc\n",
    "#eqs_nc2 = eqs_nc.subs(t, omega)\n",
    "ss_fourier = {diff(P, t): I*omega*P.subs(t, omega),\n",
    "              diff(S, t): I*omega*S.subs(t, omega),\n",
    "              P: P.subs(t, omega),\n",
    "              S: S.subs(t, omega)}\n",
    "\n",
    "eqs_nc2 = eqs_nc2.subs(ss_fourier)\n",
    "eqs_nc2"
   ]
  },
  {
   "cell_type": "markdown",
   "metadata": {},
   "source": [
    "We solve the first equation"
   ]
  },
  {
   "cell_type": "code",
   "execution_count": 120,
   "metadata": {
    "collapsed": false
   },
   "outputs": [
    {
     "data": {
      "image/png": "[encoded data removed]",
      "text/latex": [
       "$$\\left \\{ P{\\left (\\omega,Z \\right )} : \\frac{c \\kappa S{\\left (\\omega,Z \\right )}}{\\Gamma_{21} c + i c \\omega + i v_{Z} \\varpi_{1}}\\right \\}$$"
      ],
      "text/plain": [
       "⎧                 c⋅κ⋅S(ω, Z)         ⎫\n",
       "⎨P(ω, Z): ────────────────────────────⎬\n",
       "⎩         Γ₂₁⋅c + ⅈ⋅c⋅ω + ⅈ⋅v_Z⋅varpi₁⎭"
      ]
     },
     "execution_count": 120,
     "metadata": {},
     "output_type": "execute_result"
    }
   ],
   "source": [
    "sol_nc22 = solve(eqs_nc2[0], P.subs(t, omega), dict=True)[0]\n",
    "sol_nc22"
   ]
  },
  {
   "cell_type": "markdown",
   "metadata": {},
   "source": [
    "Substitute in the third"
   ]
  },
  {
   "cell_type": "code",
   "execution_count": 121,
   "metadata": {
    "collapsed": false
   },
   "outputs": [
    {
     "data": {
      "image/png": "[encoded data removed]",
      "text/latex": [
       "$$\\frac{\\partial}{\\partial Z} S{\\left (\\omega,Z \\right )} = \\frac{\\left(- i \\Gamma_{21} c \\omega - c^{2} \\kappa^{2} + c \\omega^{2} + \\omega v_{Z} \\varpi_{1}\\right) S{\\left (\\omega,Z \\right )}}{c \\left(\\Gamma_{21} c + i c \\omega + i v_{Z} \\varpi_{1}\\right)}$$"
      ],
      "text/plain": [
       "              ⎛              2  2      2               ⎞        \n",
       "∂             ⎝-ⅈ⋅Γ₂₁⋅c⋅ω - c ⋅κ  + c⋅ω  + ω⋅v_Z⋅varpi₁⎠⋅S(ω, Z)\n",
       "──(S(ω, Z)) = ──────────────────────────────────────────────────\n",
       "∂Z                     c⋅(Γ₂₁⋅c + ⅈ⋅c⋅ω + ⅈ⋅v_Z⋅varpi₁)         "
      ]
     },
     "execution_count": 121,
     "metadata": {},
     "output_type": "execute_result"
    }
   ],
   "source": [
    "eq3 = Equality(diff(S.subs(t, omega), Z), solve(eqs_nc2[2].subs(sol_nc22), diff(S.subs(t, omega), Z), dict=False)[0])\n",
    "eq3"
   ]
  },
  {
   "cell_type": "markdown",
   "metadata": {},
   "source": [
    "Which can be easily solved."
   ]
  },
  {
   "cell_type": "code",
   "execution_count": 122,
   "metadata": {
    "collapsed": false
   },
   "outputs": [
    {
     "data": {
      "image/png": "[encoded data removed]",
      "text/latex": [
       "$$- \\frac{c \\kappa^{2}}{\\Gamma_{21} c + i c \\omega + i v_{Z} \\varpi_{1}} - \\frac{i \\omega}{c}$$"
      ],
      "text/plain": [
       "                 2                  \n",
       "              c⋅κ                ⅈ⋅ω\n",
       "- ──────────────────────────── - ───\n",
       "  Γ₂₁⋅c + ⅈ⋅c⋅ω + ⅈ⋅v_Z⋅varpi₁    c "
      ]
     },
     "execution_count": 122,
     "metadata": {},
     "output_type": "execute_result"
    }
   ],
   "source": [
    "arg = eq3.rhs.factor()/S.subs(t, omega)\n",
    "#arg = arg.factor()\n",
    "den = 1/Mul(*arg.args[:-1])\n",
    "num = arg.args[-1].factor()\n",
    "num = I*(num/I).expand()\n",
    "\n",
    "num1 = I*(num.args[1] + I*c**2*kappa**2)\n",
    "num1 = num1.factor()\n",
    "num2 = -I*I*c**2*kappa**2\n",
    "\n",
    "arg_ = num1/den + num2/den\n",
    "#arg_ = arg_.factor()\n",
    "arg_"
   ]
  },
  {
   "cell_type": "markdown",
   "metadata": {},
   "source": [
    "We check that manipulations have not changed anything."
   ]
  },
  {
   "cell_type": "code",
   "execution_count": 123,
   "metadata": {
    "collapsed": false
   },
   "outputs": [
    {
     "data": {
      "image/png": "[encoded data removed]",
      "text/latex": [
       "$$0$$"
      ],
      "text/plain": [
       "0"
      ]
     },
     "execution_count": 123,
     "metadata": {},
     "output_type": "execute_result"
    }
   ],
   "source": [
    "(arg_-arg).factor()"
   ]
  },
  {
   "cell_type": "markdown",
   "metadata": {},
   "source": [
    "We get the Green's function."
   ]
  },
  {
   "cell_type": "code",
   "execution_count": 124,
   "metadata": {
    "collapsed": false
   },
   "outputs": [
    {
     "data": {
      "image/png": "[encoded data removed]",
      "text/latex": [
       "$$e^{Z \\left(- \\frac{c \\kappa^{2}}{\\Gamma_{21} c + i c \\omega + i v_{Z} \\varpi_{1}} - \\frac{i \\omega}{c}\\right)}$$"
      ],
      "text/plain": [
       "   ⎛                 2                  ⎞\n",
       "   ⎜              c⋅κ                ⅈ⋅ω⎟\n",
       " Z⋅⎜- ──────────────────────────── - ───⎟\n",
       "   ⎝  Γ₂₁⋅c + ⅈ⋅c⋅ω + ⅈ⋅v_Z⋅varpi₁    c ⎠\n",
       "ℯ                                        "
      ]
     },
     "execution_count": 124,
     "metadata": {},
     "output_type": "execute_result"
    }
   ],
   "source": [
    "arg = arg_\n",
    "G_nc = exp(arg*Z)\n",
    "G_nc"
   ]
  },
  {
   "cell_type": "code",
   "execution_count": 125,
   "metadata": {
    "collapsed": false
   },
   "outputs": [
    {
     "data": {
      "image/png": "[encoded data removed]",
      "text/latex": [
       "$$\\left ( \\left \\{ B{\\left (t,Z \\right )} : B{\\left (0,Z \\right )} e^{t \\left(- i \\Delta_k v_{Z} + i \\delta_{1} + i \\delta_{2} - \\frac{\\gamma_{32}}{2}\\right)}\\right \\}, \\quad \\left \\{ P{\\left (\\omega,Z \\right )} : \\frac{c \\kappa S{\\left (\\omega,Z \\right )}}{\\Gamma_{21} c + i c \\omega + i v_{Z} \\varpi_{1}}\\right \\}, \\quad \\left \\{ S{\\left (\\omega,Z \\right )} : S{\\left (\\omega,- \\frac{L}{2} \\right )} e^{Z \\left(- \\frac{c \\kappa^{2}}{\\Gamma_{21} c + i c \\omega + i v_{Z} \\varpi_{1}} - \\frac{i \\omega}{c}\\right)}\\right \\}\\right )$$"
      ],
      "text/plain": [
       "⎛                                                                             \n",
       "⎜⎧                    ⎛                                γ₃₂⎞⎫                  \n",
       "⎜⎪                  t⋅⎜-ⅈ⋅\\Delta_k⋅v_Z + ⅈ⋅δ₁ + ⅈ⋅δ₂ - ───⎟⎪                  \n",
       "⎜⎨                    ⎝                                 2 ⎠⎬  ⎧               \n",
       "⎜⎪B(t, Z): B(0, Z)⋅ℯ                                       ⎪, ⎨P(ω, Z): ──────\n",
       "⎜⎩                                                         ⎭  ⎩         Γ₂₁⋅c \n",
       "⎝                                                                             \n",
       "\n",
       "                         ⎧                      ⎛                 2           \n",
       "                         ⎪                      ⎜              c⋅κ            \n",
       "                         ⎪                    Z⋅⎜- ───────────────────────────\n",
       "  c⋅κ⋅S(ω, Z)         ⎫  ⎨          ⎛   -L ⎞    ⎝  Γ₂₁⋅c + ⅈ⋅c⋅ω + ⅈ⋅v_Z⋅varpi\n",
       "──────────────────────⎬, ⎪S(ω, Z): S⎜ω, ───⎟⋅ℯ                                \n",
       "+ ⅈ⋅c⋅ω + ⅈ⋅v_Z⋅varpi₁⎭  ⎪          ⎝    2 ⎠                                  \n",
       "                         ⎩                                                    \n",
       "\n",
       "       ⎞⎫⎞\n",
       "    ⅈ⋅ω⎟⎪⎟\n",
       "─ - ───⎟⎪⎟\n",
       "₁    c ⎠⎬⎟\n",
       "        ⎪⎟\n",
       "        ⎪⎟\n",
       "        ⎭⎠"
      ]
     },
     "execution_count": 125,
     "metadata": {},
     "output_type": "execute_result"
    }
   ],
   "source": [
    "L = symbols(\"L\", positive=True)\n",
    "sol_nc23 = {S.subs({t: omega}): G_nc*S.subs({t: omega, Z:-L/2})}\n",
    "sol_nc21, sol_nc22, sol_nc23"
   ]
  },
  {
   "cell_type": "code",
   "execution_count": 126,
   "metadata": {
    "collapsed": false
   },
   "outputs": [
    {
     "data": {
      "image/png": "[encoded data removed]",
      "text/latex": [
       "$$\\left[\\begin{matrix}\\mathrm{True}\\\\\\mathrm{True}\\\\\\mathrm{True}\\end{matrix}\\right]$$"
      ],
      "text/plain": [
       "⎡True⎤\n",
       "⎢    ⎥\n",
       "⎢True⎥\n",
       "⎢    ⎥\n",
       "⎣True⎦"
      ]
     },
     "execution_count": 126,
     "metadata": {},
     "output_type": "execute_result"
    }
   ],
   "source": [
    "aux = eqs_nc2.subs(sol_nc22)\n",
    "aux[0] = aux[0].factor()\n",
    "\n",
    "aux = aux.subs(sol_nc23).doit()\n",
    "aux[2] = simplify(aux[2].factor())\n",
    "\n",
    "aux = aux.subs(sol_nc21).doit()\n",
    "aux"
   ]
  },
  {
   "cell_type": "code",
   "execution_count": 127,
   "metadata": {
    "collapsed": false
   },
   "outputs": [
    {
     "data": {
      "image/png": "[encoded data removed]",
      "text/latex": [
       "$$S{\\left (\\omega,- \\frac{L}{2} \\right )} e^{- \\frac{i Z}{c} \\omega}$$"
      ],
      "text/plain": [
       "           -ⅈ⋅Z⋅ω \n",
       "           ───────\n",
       " ⎛   -L ⎞     c   \n",
       "S⎜ω, ───⎟⋅ℯ       \n",
       " ⎝    2 ⎠         "
      ]
     },
     "execution_count": 127,
     "metadata": {},
     "output_type": "execute_result"
    }
   ],
   "source": [
    "sol_nc23[S.subs(t, omega)].subs(kappa, 0)"
   ]
  },
  {
   "cell_type": "markdown",
   "metadata": {},
   "source": [
    "# Adiabatic approximation"
   ]
  },
  {
   "cell_type": "code",
   "execution_count": 128,
   "metadata": {
    "collapsed": false
   },
   "outputs": [],
   "source": [
    "rho21_ad = solve(eqs_lin2[0, 2], P)[0]"
   ]
  },
  {
   "cell_type": "code",
   "execution_count": 129,
   "metadata": {
    "collapsed": false
   },
   "outputs": [
    {
     "data": {
      "image/png": "[encoded data removed]",
      "text/latex": [
       "$$\\left ( \\left \\{ \\gamma_{21} : 2 \\Gamma_{21} + 2 i \\delta_{1}\\right \\}, \\quad \\left \\{ \\Gamma_{21} : - i \\delta_{1} + \\frac{\\gamma_{21}}{2}\\right \\}\\right )$$"
      ],
      "text/plain": [
       "⎛                       ⎧             γ₂₁⎫⎞\n",
       "⎜{γ₂₁: 2⋅Γ₂₁ + 2⋅ⅈ⋅δ₁}, ⎨Γ₂₁: -ⅈ⋅δ₁ + ───⎬⎟\n",
       "⎝                       ⎩              2 ⎭⎠"
      ]
     },
     "execution_count": 129,
     "metadata": {},
     "output_type": "execute_result"
    }
   ],
   "source": [
    "Gamma21 = symbols(\"Gamma_21\")\n",
    "Gamma32 = symbols(\"Gamma_32\")\n",
    "#Gamma/2 = gamma[1, 0]/2 - I*(delta1-vZ*omega_laser[0]/c)\n",
    "ss_Gamma21 = {gamma[1, 0]: 2*(Gamma21+I*delta1)}\n",
    "ss_Gamma32 = {gamma[2, 1]: 2*(Gamma32+I*delta2)}\n",
    "\n",
    "ss_Gamma21_inv = {Gamma21: gamma[1, 0]/2- I*(delta1)}\n",
    "ss_Gamma32_inv = {Gamma32: gamma[2, 1]/2- I*(delta2)}\n",
    "\n",
    "ss_Gamma21, ss_Gamma21_inv"
   ]
  },
  {
   "cell_type": "code",
   "execution_count": 130,
   "metadata": {
    "collapsed": false
   },
   "outputs": [
    {
     "data": {
      "image/png": "[encoded data removed]",
      "text/latex": [
       "$$\\left \\{ P{\\left (t,Z \\right )} : \\frac{c}{\\Gamma_{21} c + i v_{Z} \\varpi_{1}} \\left(\\kappa S{\\left (t,Z \\right )} - i B{\\left (t,Z \\right )} \\overline{\\Omega_{2}{\\left (t,Z \\right )}}\\right)\\right \\}$$"
      ],
      "text/plain": [
       "⎧           ⎛                      ________⎞⎫\n",
       "⎪         c⋅⎝κ⋅S(t, Z) - ⅈ⋅B(t, Z)⋅Ω₂(t, Z)⎠⎪\n",
       "⎨P(t, Z): ──────────────────────────────────⎬\n",
       "⎪                Γ₂₁⋅c + ⅈ⋅v_Z⋅varpi₁       ⎪\n",
       "⎩                                           ⎭"
      ]
     },
     "execution_count": 130,
     "metadata": {},
     "output_type": "execute_result"
    }
   ],
   "source": [
    "rho21_ad = simplify(rho21_ad.subs(ss_Gamma21))\n",
    "ss_rho21_ad = {P: rho21_ad}\n",
    "ss_rho21_ad"
   ]
  },
  {
   "cell_type": "markdown",
   "metadata": {},
   "source": [
    "So the adiabatic equations are"
   ]
  },
  {
   "cell_type": "code",
   "execution_count": 131,
   "metadata": {
    "collapsed": false
   },
   "outputs": [
    {
     "data": {
      "image/png": "[encoded data removed]",
      "text/latex": [
       "$$\\left[\\begin{matrix}\\frac{\\partial}{\\partial t} B{\\left (t,Z \\right )} = - \\frac{i c \\kappa \\Omega_{2}{\\left (t,Z \\right )} S{\\left (t,Z \\right )}}{\\Gamma_{21} c + i v_{Z} \\varpi_{1}} + \\left(- i \\Delta_k v_{Z} - \\frac{c \\Omega_{2}{\\left (t,Z \\right )} \\overline{\\Omega_{2}{\\left (t,Z \\right )}}}{\\Gamma_{21} c + i v_{Z} \\varpi_{1}} + i \\delta_{1} + i \\delta_{2} - \\frac{\\gamma_{32}}{2}\\right) B{\\left (t,Z \\right )}\\\\\\frac{\\partial}{\\partial t} S{\\left (t,Z \\right )} = - \\frac{c^{2} \\kappa^{2} S{\\left (t,Z \\right )}}{\\Gamma_{21} c + i v_{Z} \\varpi_{1}} + \\frac{i c^{2} \\kappa B{\\left (t,Z \\right )} \\overline{\\Omega_{2}{\\left (t,Z \\right )}}}{\\Gamma_{21} c + i v_{Z} \\varpi_{1}} - c \\frac{\\partial}{\\partial Z} S{\\left (t,Z \\right )}\\end{matrix}\\right]$$"
      ],
      "text/plain": [
       "⎡                                         ⎛                             ______\n",
       "⎢∂               ⅈ⋅c⋅κ⋅Ω₂(t, Z)⋅S(t, Z)   ⎜                  c⋅Ω₂(t, Z)⋅Ω₂(t, \n",
       "⎢──(B(t, Z)) = - ────────────────────── + ⎜-ⅈ⋅\\Delta_k⋅v_Z - ─────────────────\n",
       "⎢∂t               Γ₂₁⋅c + ⅈ⋅v_Z⋅varpi₁    ⎝                  Γ₂₁⋅c + ⅈ⋅v_Z⋅var\n",
       "⎢                                                                             \n",
       "⎢                                   2  2                  2           ________\n",
       "⎢               ∂                  c ⋅κ ⋅S(t, Z)       ⅈ⋅c ⋅κ⋅B(t, Z)⋅Ω₂(t, Z)\n",
       "⎢               ──(S(t, Z)) = - ──────────────────── + ───────────────────────\n",
       "⎣               ∂t              Γ₂₁⋅c + ⅈ⋅v_Z⋅varpi₁     Γ₂₁⋅c + ⅈ⋅v_Z⋅varpi₁ \n",
       "\n",
       "__                     ⎞        ⎤\n",
       "Z)                  γ₃₂⎟        ⎥\n",
       "─── + ⅈ⋅δ₁ + ⅈ⋅δ₂ - ───⎟⋅B(t, Z)⎥\n",
       "pi₁                  2 ⎠        ⎥\n",
       "                                ⎥\n",
       "                                ⎥\n",
       "     ∂                          ⎥\n",
       " - c⋅──(S(t, Z))                ⎥\n",
       "     ∂Z                         ⎦"
      ]
     },
     "execution_count": 131,
     "metadata": {},
     "output_type": "execute_result"
    }
   ],
   "source": [
    "eq1 = eqs_lin2[1, 2].subs(ss_rho21_ad)#.subs(ss_Gamma32).expand()\n",
    "eq2 = eqs_lin2[2,2].subs(ss_rho21_ad).expand()\n",
    "\n",
    "X_ad = [B, S]\n",
    "\n",
    "eq1 = Equality(Derivative(X_ad[0], t), group(eq1, X))\n",
    "eq2 = Equality(Derivative(X_ad[1], t), group(eq2, X))\n",
    "eqs_ad = Matrix([eq1, eq2])\n",
    "eqs_ad"
   ]
  },
  {
   "cell_type": "code",
   "execution_count": 132,
   "metadata": {
    "collapsed": false
   },
   "outputs": [
    {
     "data": {
      "image/png": "[encoded data removed]",
      "text/latex": [
       "$$\\left[\\begin{matrix}\\frac{\\partial}{\\partial t} B{\\left (t,Z \\right )} = - \\frac{i c \\kappa \\Omega_{2}{\\left (t,Z \\right )} S{\\left (t,Z \\right )}}{\\Gamma_{21} c + i v_{Z} \\varpi_{1}} + \\left(- i \\Delta_k v_{Z} - \\frac{c \\Omega_{2}{\\left (t,Z \\right )} \\overline{\\Omega_{2}{\\left (t,Z \\right )}}}{\\Gamma_{21} c + i v_{Z} \\varpi_{1}} + i \\delta_{1} + i \\delta_{2} - \\frac{\\gamma_{32}}{2}\\right) B{\\left (t,Z \\right )}\\\\\\frac{\\partial}{\\partial t} S{\\left (t,Z \\right )} = - \\frac{c^{2} \\kappa^{2} S{\\left (t,Z \\right )}}{\\Gamma_{21} c + i v_{Z} \\varpi_{1}} + \\frac{i c^{2} \\kappa B{\\left (t,Z \\right )} \\overline{\\Omega_{2}{\\left (t,Z \\right )}}}{\\Gamma_{21} c + i v_{Z} \\varpi_{1}} - c \\frac{\\partial}{\\partial Z} S{\\left (t,Z \\right )}\\end{matrix}\\right]$$"
      ],
      "text/plain": [
       "⎡                                         ⎛                             ______\n",
       "⎢∂               ⅈ⋅c⋅κ⋅Ω₂(t, Z)⋅S(t, Z)   ⎜                  c⋅Ω₂(t, Z)⋅Ω₂(t, \n",
       "⎢──(B(t, Z)) = - ────────────────────── + ⎜-ⅈ⋅\\Delta_k⋅v_Z - ─────────────────\n",
       "⎢∂t               Γ₂₁⋅c + ⅈ⋅v_Z⋅varpi₁    ⎝                  Γ₂₁⋅c + ⅈ⋅v_Z⋅var\n",
       "⎢                                                                             \n",
       "⎢                                   2  2                  2           ________\n",
       "⎢               ∂                  c ⋅κ ⋅S(t, Z)       ⅈ⋅c ⋅κ⋅B(t, Z)⋅Ω₂(t, Z)\n",
       "⎢               ──(S(t, Z)) = - ──────────────────── + ───────────────────────\n",
       "⎣               ∂t              Γ₂₁⋅c + ⅈ⋅v_Z⋅varpi₁     Γ₂₁⋅c + ⅈ⋅v_Z⋅varpi₁ \n",
       "\n",
       "__                     ⎞        ⎤\n",
       "Z)                  γ₃₂⎟        ⎥\n",
       "─── + ⅈ⋅δ₁ + ⅈ⋅δ₂ - ───⎟⋅B(t, Z)⎥\n",
       "pi₁                  2 ⎠        ⎥\n",
       "                                ⎥\n",
       "                                ⎥\n",
       "     ∂                          ⎥\n",
       " - c⋅──(S(t, Z))                ⎥\n",
       "     ∂Z                         ⎦"
      ]
     },
     "execution_count": 132,
     "metadata": {},
     "output_type": "execute_result"
    }
   ],
   "source": [
    "eq1 = eqs_lin2[1, 2].subs(ss_rho21_ad)#.subs(ss_Gamma32).expand()\n",
    "eq2 = eqs_lin2[2,2].subs(ss_rho21_ad).expand()\n",
    "\n",
    "X_ad = [B, S]\n",
    "\n",
    "eq1 = Equality(Derivative(X_ad[0], t), group(eq1, X))\n",
    "eq2 = Equality(Derivative(X_ad[1], t), group(eq2, X))\n",
    "eqs_ad = Matrix([eq1, eq2])\n",
    "eqs_ad"
   ]
  },
  {
   "cell_type": "markdown",
   "metadata": {},
   "source": [
    "Without any Doppler"
   ]
  },
  {
   "cell_type": "code",
   "execution_count": 133,
   "metadata": {
    "collapsed": false
   },
   "outputs": [
    {
     "data": {
      "image/png": "[encoded data removed]",
      "text/latex": [
       "$$\\left[\\begin{matrix}\\frac{\\partial}{\\partial t} B{\\left (t,Z \\right )} = \\left(i \\delta_{1} + i \\delta_{2} - \\frac{\\gamma_{32}}{2} - \\frac{1}{\\Gamma_{21}} \\Omega_{2}{\\left (t,Z \\right )} \\overline{\\Omega_{2}{\\left (t,Z \\right )}}\\right) B{\\left (t,Z \\right )} - \\frac{i \\kappa}{\\Gamma_{21}} \\Omega_{2}{\\left (t,Z \\right )} S{\\left (t,Z \\right )}\\\\\\frac{\\partial}{\\partial t} S{\\left (t,Z \\right )} = - c \\frac{\\partial}{\\partial Z} S{\\left (t,Z \\right )} - \\frac{c \\kappa^{2}}{\\Gamma_{21}} S{\\left (t,Z \\right )} + \\frac{i c}{\\Gamma_{21}} \\kappa B{\\left (t,Z \\right )} \\overline{\\Omega_{2}{\\left (t,Z \\right )}}\\end{matrix}\\right]$$"
      ],
      "text/plain": [
       "⎡              ⎛                             ________⎞                        \n",
       "⎢∂             ⎜              γ₃₂   Ω₂(t, Z)⋅Ω₂(t, Z)⎟           ⅈ⋅κ⋅Ω₂(t, Z)⋅\n",
       "⎢──(B(t, Z)) = ⎜ⅈ⋅δ₁ + ⅈ⋅δ₂ - ─── - ─────────────────⎟⋅B(t, Z) - ─────────────\n",
       "⎢∂t            ⎝               2           Γ₂₁       ⎠                   Γ₂₁  \n",
       "⎢                                                                             \n",
       "⎢                                          2                         ________ \n",
       "⎢       ∂                 ∂             c⋅κ ⋅S(t, Z)   ⅈ⋅c⋅κ⋅B(t, Z)⋅Ω₂(t, Z) \n",
       "⎢       ──(S(t, Z)) = - c⋅──(S(t, Z)) - ──────────── + ────────────────────── \n",
       "⎣       ∂t                ∂Z                Γ₂₁                 Γ₂₁           \n",
       "\n",
       "       ⎤\n",
       "S(t, Z)⎥\n",
       "───────⎥\n",
       "       ⎥\n",
       "       ⎥\n",
       "       ⎥\n",
       "       ⎥\n",
       "       ⎥\n",
       "       ⎦"
      ]
     },
     "execution_count": 133,
     "metadata": {},
     "output_type": "execute_result"
    }
   ],
   "source": [
    "eqs_ad = eqs_ad.subs(vZ, 0)\n",
    "eqs_ad"
   ]
  },
  {
   "cell_type": "markdown",
   "metadata": {},
   "source": [
    "We set this in two-photon resonance"
   ]
  },
  {
   "cell_type": "code",
   "execution_count": 134,
   "metadata": {
    "collapsed": false
   },
   "outputs": [
    {
     "data": {
      "image/png": "[encoded data removed]",
      "text/latex": [
       "$$\\left[\\begin{matrix}\\frac{\\partial}{\\partial t} B{\\left (t,Z \\right )} = \\left(- \\frac{\\gamma_{32}}{2} - \\frac{1}{\\Gamma_{21}} \\Omega_{2}{\\left (t,Z \\right )} \\overline{\\Omega_{2}{\\left (t,Z \\right )}}\\right) B{\\left (t,Z \\right )} - \\frac{i \\kappa}{\\Gamma_{21}} \\Omega_{2}{\\left (t,Z \\right )} S{\\left (t,Z \\right )}\\\\\\frac{\\partial}{\\partial t} S{\\left (t,Z \\right )} = - c \\frac{\\partial}{\\partial Z} S{\\left (t,Z \\right )} - \\frac{c \\kappa^{2}}{\\Gamma_{21}} S{\\left (t,Z \\right )} + \\frac{i c}{\\Gamma_{21}} \\kappa B{\\left (t,Z \\right )} \\overline{\\Omega_{2}{\\left (t,Z \\right )}}\\end{matrix}\\right]$$"
      ],
      "text/plain": [
       "⎡              ⎛                 ________⎞                               ⎤\n",
       "⎢∂             ⎜  γ₃₂   Ω₂(t, Z)⋅Ω₂(t, Z)⎟           ⅈ⋅κ⋅Ω₂(t, Z)⋅S(t, Z)⎥\n",
       "⎢──(B(t, Z)) = ⎜- ─── - ─────────────────⎟⋅B(t, Z) - ────────────────────⎥\n",
       "⎢∂t            ⎝   2           Γ₂₁       ⎠                   Γ₂₁         ⎥\n",
       "⎢                                                                        ⎥\n",
       "⎢                                    2                         ________  ⎥\n",
       "⎢ ∂                 ∂             c⋅κ ⋅S(t, Z)   ⅈ⋅c⋅κ⋅B(t, Z)⋅Ω₂(t, Z)  ⎥\n",
       "⎢ ──(S(t, Z)) = - c⋅──(S(t, Z)) - ──────────── + ──────────────────────  ⎥\n",
       "⎣ ∂t                ∂Z                Γ₂₁                 Γ₂₁            ⎦"
      ]
     },
     "execution_count": 134,
     "metadata": {},
     "output_type": "execute_result"
    }
   ],
   "source": [
    "eqs_ad = eqs_ad.subs(delta2, -delta1)\n",
    "eqs_ad"
   ]
  },
  {
   "cell_type": "markdown",
   "metadata": {},
   "source": [
    "Similarly, we can get an analytic solution for pure refraction with the adiabatic approximation. Taking the Fourier transform of the second equation in the absence of a control field."
   ]
  },
  {
   "cell_type": "code",
   "execution_count": 135,
   "metadata": {
    "collapsed": false
   },
   "outputs": [
    {
     "data": {
      "image/png": "[encoded data removed]",
      "text/latex": [
       "$$\\left[\\begin{matrix}\\frac{\\partial}{\\partial t} B{\\left (t,Z \\right )} = - \\frac{\\gamma_{32}}{2} B{\\left (t,Z \\right )}\\\\i \\omega S{\\left (\\omega,Z \\right )} = - c \\frac{\\partial}{\\partial Z} S{\\left (\\omega,Z \\right )} - \\frac{c \\kappa^{2}}{\\Gamma_{21}} S{\\left (\\omega,Z \\right )}\\end{matrix}\\right]$$"
      ],
      "text/plain": [
       "⎡        ∂             -γ₃₂⋅B(t, Z)          ⎤\n",
       "⎢        ──(B(t, Z)) = ─────────────         ⎥\n",
       "⎢        ∂t                  2               ⎥\n",
       "⎢                                            ⎥\n",
       "⎢                                   2        ⎥\n",
       "⎢                  ∂             c⋅κ ⋅S(ω, Z)⎥\n",
       "⎢ⅈ⋅ω⋅S(ω, Z) = - c⋅──(S(ω, Z)) - ────────────⎥\n",
       "⎣                  ∂Z                Γ₂₁     ⎦"
      ]
     },
     "execution_count": 135,
     "metadata": {},
     "output_type": "execute_result"
    }
   ],
   "source": [
    "eqs_ad_nc = eqs_ad.subs(Omega2, 0)\n",
    "eqs_ad_nc[1] = eqs_ad_nc[1].subs(diff(S, t), S*I*omega).subs(t, omega)\n",
    "eqs_ad_nc"
   ]
  },
  {
   "cell_type": "code",
   "execution_count": 136,
   "metadata": {
    "collapsed": false
   },
   "outputs": [
    {
     "data": {
      "image/png": "[encoded data removed]",
      "text/latex": [
       "$$\\left \\{ B{\\left (t,Z \\right )} : B{\\left (0,Z \\right )} e^{- \\frac{\\gamma_{32} t}{2}}, \\quad S{\\left (\\omega,Z \\right )} : S{\\left (\\omega,- \\frac{L}{2} \\right )} e^{- \\frac{Z}{\\Gamma_{21} c} \\left(i \\Gamma_{21} \\omega + c \\kappa^{2}\\right)}\\right \\}$$"
      ],
      "text/plain": [
       "⎧                                                  ⎛             2⎞ ⎫\n",
       "⎪                  -γ₃₂⋅t                       -Z⋅⎝ⅈ⋅Γ₂₁⋅ω + c⋅κ ⎠ ⎪\n",
       "⎪                  ───────                      ────────────────────⎪\n",
       "⎨                     2               ⎛   -L ⎞         Γ₂₁⋅c        ⎬\n",
       "⎪B(t, Z): B(0, Z)⋅ℯ       , S(ω, Z): S⎜ω, ───⎟⋅ℯ                    ⎪\n",
       "⎪                                     ⎝    2 ⎠                      ⎪\n",
       "⎩                                                                   ⎭"
      ]
     },
     "execution_count": 136,
     "metadata": {},
     "output_type": "execute_result"
    }
   ],
   "source": [
    "sol_ad_nc = {B: B.subs(t, 0)*exp(-gamma[2, 1]/2*t)}\n",
    "aux = solve(eqs_ad_nc[1], diff(S.subs(t, omega), Z))[0]/S.subs(t, omega)\n",
    "sol_ad_nc.update({S.subs(t, omega): exp(aux*Z)*S.subs({t: omega, Z: -L/2})})\n",
    "\n",
    "sol_ad_nc"
   ]
  },
  {
   "cell_type": "code",
   "execution_count": 137,
   "metadata": {
    "collapsed": false
   },
   "outputs": [
    {
     "data": {
      "image/png": "[encoded data removed]",
      "text/latex": [
       "$$\\left[\\begin{matrix}\\mathrm{True}\\\\\\mathrm{True}\\end{matrix}\\right]$$"
      ],
      "text/plain": [
       "⎡True⎤\n",
       "⎢    ⎥\n",
       "⎣True⎦"
      ]
     },
     "execution_count": 137,
     "metadata": {},
     "output_type": "execute_result"
    }
   ],
   "source": [
    "check = eqs_ad_nc.subs(sol_ad_nc).doit()\n",
    "check[1] = check[1].factor()\n",
    "check"
   ]
  },
  {
   "cell_type": "markdown",
   "metadata": {},
   "source": [
    "# Control pulse reference frame\n",
    "We transform into the \"control field reference frame\". The lines in space-time where $\\Omega_2$ is constant are those of constant $\\tau = t + z/c$"
   ]
  },
  {
   "cell_type": "code",
   "execution_count": 138,
   "metadata": {
    "collapsed": false
   },
   "outputs": [
    {
     "data": {
      "image/png": "[encoded data removed]",
      "text/latex": [
       "$$\\left ( \\left[\\begin{matrix}1 & \\frac{1}{c}\\\\0 & 1\\end{matrix}\\right], \\quad \\left[\\begin{matrix}1 & - \\frac{1}{c}\\\\0 & 1\\end{matrix}\\right]\\right )$$"
      ],
      "text/plain": [
       "⎛⎡   1⎤  ⎡   -1 ⎤⎞\n",
       "⎜⎢1  ─⎥, ⎢1  ───⎥⎟\n",
       "⎜⎢   c⎥  ⎢    c ⎥⎟\n",
       "⎜⎢    ⎥  ⎢      ⎥⎟\n",
       "⎝⎣0  1⎦  ⎣0   1 ⎦⎠"
      ]
     },
     "execution_count": 138,
     "metadata": {},
     "output_type": "execute_result"
    }
   ],
   "source": [
    "tau, Zp = symbols(\"tau Z'\", real=True)\n",
    "Lam = Matrix([[1, 1/c], [0, 1]])\n",
    "q = Matrix([t, Z])\n",
    "qp = Matrix([tau, Z])\n",
    "Lam, Lam.inv()"
   ]
  },
  {
   "cell_type": "code",
   "execution_count": 139,
   "metadata": {
    "collapsed": false
   },
   "outputs": [
    {
     "data": {
      "image/png": "[encoded data removed]",
      "text/latex": [
       "$$\\left[\\begin{matrix}\\tau\\\\Z\\end{matrix}\\right] = \\left[\\begin{matrix}\\frac{Z}{c} + t\\\\Z\\end{matrix}\\right]$$"
      ],
      "text/plain": [
       "      ⎡Z    ⎤\n",
       "⎡τ⎤ = ⎢─ + t⎥\n",
       "⎢ ⎥   ⎢c    ⎥\n",
       "⎣Z⎦   ⎢     ⎥\n",
       "      ⎣  Z  ⎦"
      ]
     },
     "execution_count": 139,
     "metadata": {},
     "output_type": "execute_result"
    }
   ],
   "source": [
    "Equality(qp, Lam*q)"
   ]
  },
  {
   "cell_type": "markdown",
   "metadata": {},
   "source": [
    "Understanding this timespace position as a counter-variant vector, it follows that the partial derivatives are co variant vectors, and transform accordingly. In other words"
   ]
  },
  {
   "cell_type": "code",
   "execution_count": 140,
   "metadata": {
    "collapsed": false
   },
   "outputs": [
    {
     "data": {
      "image/png": "[encoded data removed]",
      "text/latex": [
       "$$\\left[\\begin{matrix}\\frac{\\partial}{\\partial \\tau} f{\\left (\\tau,Z \\right )} & \\frac{\\partial}{\\partial Z} f{\\left (\\tau,Z \\right )}\\end{matrix}\\right] = \\left[\\begin{matrix}\\frac{\\partial}{\\partial t} f{\\left (t,Z \\right )} & \\frac{\\partial}{\\partial Z} f{\\left (\\tau,Z \\right )} - \\frac{1}{c} \\frac{\\partial}{\\partial t} f{\\left (t,Z \\right )}\\end{matrix}\\right]$$"
      ],
      "text/plain": [
       "                             ⎡                           ∂          ⎤\n",
       "                             ⎢                           ──(f(t, Z))⎥\n",
       "⎡∂            ∂          ⎤   ⎢∂            ∂             ∂t         ⎥\n",
       "⎢──(f(τ, Z))  ──(f(τ, Z))⎥ = ⎢──(f(t, Z))  ──(f(τ, Z)) - ───────────⎥\n",
       "⎣∂τ           ∂Z         ⎦   ⎣∂t           ∂Z                 c     ⎦"
      ]
     },
     "execution_count": 140,
     "metadata": {},
     "output_type": "execute_result"
    }
   ],
   "source": [
    "f = Function(\"f\")\n",
    "gradp = Matrix([diff(f(tau, Z), tau), diff(f(tau, Z), Z)]).transpose()\n",
    "grad = Matrix([diff(f(t, Z), t), diff(f(tau, Z), Z)]).transpose()\n",
    "Equality(gradp, grad*Lam.inv())"
   ]
  },
  {
   "cell_type": "markdown",
   "metadata": {},
   "source": [
    "or equivalently"
   ]
  },
  {
   "cell_type": "code",
   "execution_count": 141,
   "metadata": {
    "collapsed": false
   },
   "outputs": [
    {
     "data": {
      "image/png": "[encoded data removed]",
      "text/latex": [
       "$$\\left[\\begin{matrix}\\frac{\\partial}{\\partial t} f{\\left (t,Z \\right )} & \\frac{\\partial}{\\partial Z} f{\\left (\\tau,Z \\right )}\\end{matrix}\\right] = \\left[\\begin{matrix}\\frac{\\partial}{\\partial \\tau} f{\\left (\\tau,Z \\right )} & \\frac{\\partial}{\\partial Z} f{\\left (\\tau,Z \\right )} + \\frac{1}{c} \\frac{\\partial}{\\partial \\tau} f{\\left (\\tau,Z \\right )}\\end{matrix}\\right]$$"
      ],
      "text/plain": [
       "                             ⎡                           ∂          ⎤\n",
       "                             ⎢                           ──(f(τ, Z))⎥\n",
       "⎡∂            ∂          ⎤   ⎢∂            ∂             ∂τ         ⎥\n",
       "⎢──(f(t, Z))  ──(f(τ, Z))⎥ = ⎢──(f(τ, Z))  ──(f(τ, Z)) + ───────────⎥\n",
       "⎣∂t           ∂Z         ⎦   ⎣∂τ           ∂Z                 c     ⎦"
      ]
     },
     "execution_count": 141,
     "metadata": {},
     "output_type": "execute_result"
    }
   ],
   "source": [
    "Equality(grad, gradp*Lam)"
   ]
  },
  {
   "cell_type": "markdown",
   "metadata": {},
   "source": [
    "for any function $f$. Using this transformation one can see that equations"
   ]
  },
  {
   "cell_type": "code",
   "execution_count": 142,
   "metadata": {
    "collapsed": false
   },
   "outputs": [
    {
     "data": {
      "image/png": "[encoded data removed]",
      "text/latex": [
       "$$\\left[\\begin{matrix}\\frac{\\partial}{\\partial t} B{\\left (t,Z \\right )} = \\left(- \\frac{\\gamma_{32}}{2} - \\frac{1}{\\Gamma_{21}} \\Omega_{2}{\\left (t,Z \\right )} \\overline{\\Omega_{2}{\\left (t,Z \\right )}}\\right) B{\\left (t,Z \\right )} - \\frac{i \\kappa}{\\Gamma_{21}} \\Omega_{2}{\\left (t,Z \\right )} S{\\left (t,Z \\right )}\\\\\\frac{\\partial}{\\partial t} S{\\left (t,Z \\right )} = - c \\frac{\\partial}{\\partial Z} S{\\left (t,Z \\right )} - \\frac{c \\kappa^{2}}{\\Gamma_{21}} S{\\left (t,Z \\right )} + \\frac{i c}{\\Gamma_{21}} \\kappa B{\\left (t,Z \\right )} \\overline{\\Omega_{2}{\\left (t,Z \\right )}}\\end{matrix}\\right]$$"
      ],
      "text/plain": [
       "⎡              ⎛                 ________⎞                               ⎤\n",
       "⎢∂             ⎜  γ₃₂   Ω₂(t, Z)⋅Ω₂(t, Z)⎟           ⅈ⋅κ⋅Ω₂(t, Z)⋅S(t, Z)⎥\n",
       "⎢──(B(t, Z)) = ⎜- ─── - ─────────────────⎟⋅B(t, Z) - ────────────────────⎥\n",
       "⎢∂t            ⎝   2           Γ₂₁       ⎠                   Γ₂₁         ⎥\n",
       "⎢                                                                        ⎥\n",
       "⎢                                    2                         ________  ⎥\n",
       "⎢ ∂                 ∂             c⋅κ ⋅S(t, Z)   ⅈ⋅c⋅κ⋅B(t, Z)⋅Ω₂(t, Z)  ⎥\n",
       "⎢ ──(S(t, Z)) = - c⋅──(S(t, Z)) - ──────────── + ──────────────────────  ⎥\n",
       "⎣ ∂t                ∂Z                Γ₂₁                 Γ₂₁            ⎦"
      ]
     },
     "execution_count": 142,
     "metadata": {},
     "output_type": "execute_result"
    }
   ],
   "source": [
    "eqs_ad"
   ]
  },
  {
   "cell_type": "markdown",
   "metadata": {},
   "source": [
    "become"
   ]
  },
  {
   "cell_type": "code",
   "execution_count": 143,
   "metadata": {
    "collapsed": false
   },
   "outputs": [
    {
     "data": {
      "image/png": "[encoded data removed]",
      "text/latex": [
       "$$\\left[\\begin{matrix}\\frac{\\partial}{\\partial \\tau} B{\\left (\\tau,Z \\right )} = \\left(- \\frac{\\gamma_{32}}{2} - \\frac{1}{\\Gamma_{21}} \\Omega_{2}{\\left (\\tau \\right )} \\overline{\\Omega_{2}{\\left (\\tau \\right )}}\\right) B{\\left (\\tau,Z \\right )} - \\frac{i \\kappa}{\\Gamma_{21}} \\Omega_{2}{\\left (\\tau \\right )} S{\\left (\\tau,Z \\right )}\\\\\\frac{\\partial}{\\partial \\tau} S{\\left (\\tau,Z \\right )} = - \\frac{c}{2} \\frac{\\partial}{\\partial Z} S{\\left (\\tau,Z \\right )} - \\frac{c \\kappa^{2}}{2 \\Gamma_{21}} S{\\left (\\tau,Z \\right )} + \\frac{i c \\kappa}{2 \\Gamma_{21}} B{\\left (\\tau,Z \\right )} \\overline{\\Omega_{2}{\\left (\\tau \\right )}}\\end{matrix}\\right]$$"
      ],
      "text/plain": [
       "⎡               ⎛              _____⎞                              ⎤\n",
       "⎢ ∂             ⎜  γ₃₂   Ω₂(τ)⋅Ω₂(τ)⎟           ⅈ⋅κ⋅Ω₂(τ)⋅S(τ, Z)  ⎥\n",
       "⎢ ──(B(τ, Z)) = ⎜- ─── - ───────────⎟⋅B(τ, Z) - ─────────────────  ⎥\n",
       "⎢ ∂τ            ⎝   2        Γ₂₁    ⎠                  Γ₂₁         ⎥\n",
       "⎢                                                                  ⎥\n",
       "⎢                  ∂                                               ⎥\n",
       "⎢                c⋅──(S(τ, Z))      2                         _____⎥\n",
       "⎢∂                 ∂Z            c⋅κ ⋅S(τ, Z)   ⅈ⋅c⋅κ⋅B(τ, Z)⋅Ω₂(τ)⎥\n",
       "⎢──(S(τ, Z)) = - ───────────── - ──────────── + ───────────────────⎥\n",
       "⎣∂τ                    2            2⋅Γ₂₁              2⋅Γ₂₁       ⎦"
      ]
     },
     "execution_count": 143,
     "metadata": {},
     "output_type": "execute_result"
    }
   ],
   "source": [
    "ss_control_frame = {diff(B, t): (gradp*Lam)[0].subs(f(tau, Z), B.subs(t, tau)),\n",
    "                    diff(S, t): (gradp*Lam)[0].subs(f(tau, Z), S.subs(t, tau)),\n",
    "                    diff(S, Z): (gradp*Lam)[1].subs(f(tau, Z), S.subs(t, tau))}\n",
    "\n",
    "eqs_ad_con = eqs_ad.subs(ss_control_frame)\n",
    "aux = solve(eqs_ad_con[1], diff(S.subs(t, tau), tau))[0].expand()\n",
    "eqs_ad_con[1] = Equality(diff(S.subs(t, tau), tau), aux)\n",
    "\n",
    "Omega2_con = Function(\"Omega_2\")(tau)\n",
    "eqs_ad_con = eqs_ad_con.subs(Omega2, Omega2_con).subs(t, tau)\n",
    "\n",
    "eqs_ad_con"
   ]
  },
  {
   "cell_type": "markdown",
   "metadata": {},
   "source": [
    "We can then take a fourier transform of the Z dependence"
   ]
  },
  {
   "cell_type": "code",
   "execution_count": 144,
   "metadata": {
    "collapsed": false
   },
   "outputs": [
    {
     "data": {
      "image/png": "[encoded data removed]",
      "text/latex": [
       "$$\\left[\\begin{matrix}\\tilde{B}{\\left (\\tau,k \\right )}\\\\\\tilde{S}{\\left (\\tau,k \\right )}\\end{matrix}\\right]$$"
      ],
      "text/plain": [
       "⎡\\tilde{B}(τ, k)⎤\n",
       "⎢               ⎥\n",
       "⎣\\tilde{S}(τ, k)⎦"
      ]
     },
     "execution_count": 144,
     "metadata": {},
     "output_type": "execute_result"
    }
   ],
   "source": [
    "k = symbols(\"k\", real=True)\n",
    "Bk = Function(r\"\\tilde{B}\")(tau, k)\n",
    "Sk = Function(r\"\\tilde{S}\")(tau, k)\n",
    "Xk = Matrix([Bk, Sk])\n",
    "Xk"
   ]
  },
  {
   "cell_type": "code",
   "execution_count": 145,
   "metadata": {
    "collapsed": false
   },
   "outputs": [
    {
     "data": {
      "image/png": "[encoded data removed]",
      "text/latex": [
       "$$\\left[\\begin{matrix}\\frac{\\partial}{\\partial \\tau} \\tilde{B}{\\left (\\tau,k \\right )} = \\left(- \\frac{\\gamma_{32}}{2} - \\frac{1}{\\Gamma_{21}} \\Omega_{2}{\\left (\\tau \\right )} \\overline{\\Omega_{2}{\\left (\\tau \\right )}}\\right) \\tilde{B}{\\left (\\tau,k \\right )} - \\frac{i \\kappa}{\\Gamma_{21}} \\Omega_{2}{\\left (\\tau \\right )} \\tilde{S}{\\left (\\tau,k \\right )}\\\\\\frac{\\partial}{\\partial \\tau} \\tilde{S}{\\left (\\tau,k \\right )} = - \\frac{i k}{2} c \\tilde{S}{\\left (\\tau,k \\right )} - \\frac{c \\kappa^{2}}{2 \\Gamma_{21}} \\tilde{S}{\\left (\\tau,k \\right )} + \\frac{i c \\kappa}{2 \\Gamma_{21}} \\tilde{B}{\\left (\\tau,k \\right )} \\overline{\\Omega_{2}{\\left (\\tau \\right )}}\\end{matrix}\\right]$$"
      ],
      "text/plain": [
       "⎡                           ⎛              _____⎞                             \n",
       "⎢     ∂                     ⎜  γ₃₂   Ω₂(τ)⋅Ω₂(τ)⎟                   ⅈ⋅κ⋅Ω₂(τ)⋅\n",
       "⎢     ──(\\tilde{B}(τ, k)) = ⎜- ─── - ───────────⎟⋅\\tilde{B}(τ, k) - ──────────\n",
       "⎢     ∂τ                    ⎝   2        Γ₂₁    ⎠                             \n",
       "⎢                                                                             \n",
       "⎢                                                   2                         \n",
       "⎢∂                       ⅈ⋅c⋅k⋅\\tilde{S}(τ, k)   c⋅κ ⋅\\tilde{S}(τ, k)   ⅈ⋅c⋅κ⋅\n",
       "⎢──(\\tilde{S}(τ, k)) = - ───────────────────── - ──────────────────── + ──────\n",
       "⎣∂τ                                2                    2⋅Γ₂₁                 \n",
       "\n",
       "                     ⎤\n",
       "\\tilde{S}(τ, k)      ⎥\n",
       "───────────────      ⎥\n",
       " Γ₂₁                 ⎥\n",
       "                     ⎥\n",
       "                _____⎥\n",
       "\\tilde{B}(τ, k)⋅Ω₂(τ)⎥\n",
       "─────────────────────⎥\n",
       "     2⋅Γ₂₁           ⎦"
      ]
     },
     "execution_count": 145,
     "metadata": {},
     "output_type": "execute_result"
    }
   ],
   "source": [
    "eqs_ad_conk = eqs_ad_con.subs({B.subs(t, tau): Bk, S.subs(t, tau): Sk})\n",
    "eqs_ad_conk = eqs_ad_conk.subs(Derivative(Sk, Z), I*k*Sk)\n",
    "eqs_ad_conk"
   ]
  },
  {
   "cell_type": "code",
   "execution_count": 146,
   "metadata": {
    "collapsed": false
   },
   "outputs": [
    {
     "data": {
      "image/png": "[encoded data removed]",
      "text/latex": [
       "$$\\left[\\begin{matrix}- \\frac{\\gamma_{32}}{2} - \\frac{1}{\\Gamma_{21}} \\Omega_{2}{\\left (\\tau \\right )} \\overline{\\Omega_{2}{\\left (\\tau \\right )}} & - \\frac{i \\kappa}{\\Gamma_{21}} \\Omega_{2}{\\left (\\tau \\right )}\\\\\\frac{i c \\kappa}{2 \\Gamma_{21}} \\overline{\\Omega_{2}{\\left (\\tau \\right )}} & - \\frac{i k}{2} c - \\frac{c \\kappa^{2}}{2 \\Gamma_{21}}\\end{matrix}\\right]$$"
      ],
      "text/plain": [
       "⎡              _____                 ⎤\n",
       "⎢  γ₃₂   Ω₂(τ)⋅Ω₂(τ)    -ⅈ⋅κ⋅Ω₂(τ)   ⎥\n",
       "⎢- ─── - ───────────    ───────────  ⎥\n",
       "⎢   2        Γ₂₁            Γ₂₁      ⎥\n",
       "⎢                                    ⎥\n",
       "⎢          _____                    2⎥\n",
       "⎢    ⅈ⋅c⋅κ⋅Ω₂(τ)        ⅈ⋅c⋅k    c⋅κ ⎥\n",
       "⎢    ───────────      - ───── - ─────⎥\n",
       "⎣       2⋅Γ₂₁             2     2⋅Γ₂₁⎦"
      ]
     },
     "execution_count": 146,
     "metadata": {},
     "output_type": "execute_result"
    }
   ],
   "source": [
    "M = Matrix([[Derivative(eqs_ad_conk[i].rhs, Xk[j]).doit() for j in range(2)] for i in range(2)])\n",
    "M"
   ]
  },
  {
   "cell_type": "markdown",
   "metadata": {},
   "source": [
    "### Pure refraction solution\n",
    "Before solving these equations, we need to find $X(\\tau=0, k)$ which is the Fourier transform of $X(\\tau=0, z)$. In other words, we need a pure refraction solution. We take the Fourier transform in time of our original equations."
   ]
  },
  {
   "cell_type": "code",
   "execution_count": 147,
   "metadata": {
    "collapsed": false
   },
   "outputs": [
    {
     "data": {
      "image/png": "[encoded data removed]",
      "text/latex": [
       "$$\\left \\{ \\frac{\\partial}{\\partial \\tau} B{\\left (\\tau,Z \\right )} : i \\omega B{\\left (\\omega,Z \\right )}, \\quad \\frac{\\partial}{\\partial \\tau} S{\\left (\\tau,Z \\right )} : i \\omega S{\\left (\\omega,Z \\right )}\\right \\}$$"
      ],
      "text/plain": [
       "⎧∂                         ∂                       ⎫\n",
       "⎨──(B(τ, Z)): ⅈ⋅ω⋅B(ω, Z), ──(S(τ, Z)): ⅈ⋅ω⋅S(ω, Z)⎬\n",
       "⎩∂τ                        ∂τ                      ⎭"
      ]
     },
     "execution_count": 147,
     "metadata": {},
     "output_type": "execute_result"
    }
   ],
   "source": [
    "ss_con2 = {diff(B.subs(t, tau), tau): I*omega*B.subs(t, omega),\n",
    "           diff(S.subs(t, tau), tau): I*omega*S.subs(t, omega)}\n",
    "ss_con2"
   ]
  },
  {
   "cell_type": "code",
   "execution_count": 148,
   "metadata": {
    "collapsed": false
   },
   "outputs": [
    {
     "data": {
      "image/png": "[encoded data removed]",
      "text/latex": [
       "$$\\left[\\begin{matrix}i \\omega B{\\left (\\omega,Z \\right )} = - \\frac{\\gamma_{32}}{2} B{\\left (\\omega,Z \\right )}\\\\\\frac{\\partial}{\\partial Z} S{\\left (\\omega,Z \\right )} = - \\frac{S{\\left (\\omega,Z \\right )}}{\\Gamma_{21} c} \\left(2 i \\Gamma_{21} \\omega + c \\kappa^{2}\\right)\\end{matrix}\\right]$$"
      ],
      "text/plain": [
       "⎡                     -γ₃₂⋅B(ω, Z)         ⎤\n",
       "⎢       ⅈ⋅ω⋅B(ω, Z) = ─────────────        ⎥\n",
       "⎢                           2              ⎥\n",
       "⎢                                          ⎥\n",
       "⎢               ⎛               2⎞         ⎥\n",
       "⎢∂             -⎝2⋅ⅈ⋅Γ₂₁⋅ω + c⋅κ ⎠⋅S(ω, Z) ⎥\n",
       "⎢──(S(ω, Z)) = ────────────────────────────⎥\n",
       "⎣∂Z                       Γ₂₁⋅c            ⎦"
      ]
     },
     "execution_count": 148,
     "metadata": {},
     "output_type": "execute_result"
    }
   ],
   "source": [
    "eqs_ad_con2 = eqs_ad_con.subs(Omega2_con, 0).subs(ss_con2).subs(tau, omega)\n",
    "eqs_ad_con2[1] = Equality(diff(S.subs(t, omega), Z), solve(eqs_ad_con2[1], diff(S.subs(t, omega), Z))[0])\n",
    "eqs_ad_con2"
   ]
  },
  {
   "cell_type": "code",
   "execution_count": 149,
   "metadata": {
    "collapsed": false
   },
   "outputs": [
    {
     "data": {
      "image/png": "[encoded data removed]",
      "text/latex": [
       "$$\\left \\{ S{\\left (\\omega,Z \\right )} : S{\\left (\\omega,0 \\right )} e^{- \\frac{2 i}{c} Z \\omega - \\frac{Z \\kappa^{2}}{\\Gamma_{21}}}\\right \\}$$"
      ],
      "text/plain": [
       "⎧                                 2⎫\n",
       "⎪                    2⋅ⅈ⋅Z⋅ω   Z⋅κ ⎪\n",
       "⎨                  - ─────── - ────⎬\n",
       "⎪                       c      Γ₂₁ ⎪\n",
       "⎩S(ω, Z): S(ω, 0)⋅ℯ                ⎭"
      ]
     },
     "execution_count": 149,
     "metadata": {},
     "output_type": "execute_result"
    }
   ],
   "source": [
    "arg = (Z*eqs_ad_con2[1].rhs/S.subs(t, omega)).expand()\n",
    "rhs = exp(arg)*S.subs({t: omega, Z: 0})\n",
    "sol_ad_con2 = {S.subs(t, omega) : rhs}\n",
    "sol_ad_con2"
   ]
  },
  {
   "cell_type": "markdown",
   "metadata": {},
   "source": [
    "The Fourier transform of this is"
   ]
  },
  {
   "cell_type": "code",
   "execution_count": 150,
   "metadata": {
    "collapsed": false
   },
   "outputs": [
    {
     "data": {
      "image/png": "[encoded data removed]",
      "text/latex": [
       "$$\\left \\{ B{\\left (\\tau,Z \\right )} : B{\\left (0,Z \\right )} e^{- \\frac{\\gamma_{32} \\tau}{2}}, \\quad S{\\left (\\tau,Z \\right )} : S{\\left (- \\frac{2 Z}{c} + \\tau,0 \\right )} e^{- \\frac{Z \\kappa^{2}}{\\Gamma_{21}}}\\right \\}$$"
      ],
      "text/plain": [
       "⎧                                                         2 ⎫\n",
       "⎪                  -γ₃₂⋅τ                             -Z⋅κ  ⎪\n",
       "⎪                  ───────                            ──────⎪\n",
       "⎨                     2               ⎛  2⋅Z       ⎞   Γ₂₁  ⎬\n",
       "⎪B(τ, Z): B(0, Z)⋅ℯ       , S(τ, Z): S⎜- ─── + τ, 0⎟⋅ℯ      ⎪\n",
       "⎪                                     ⎝   c        ⎠        ⎪\n",
       "⎩                                                           ⎭"
      ]
     },
     "execution_count": 150,
     "metadata": {},
     "output_type": "execute_result"
    }
   ],
   "source": [
    "sol_ad_con2 = {S.subs(t, tau): (S.subs({t: tau, Z: 0}).subs(tau, tau + arg.args[1]/I/omega)*exp(arg.args[0])),\n",
    "               B.subs(t, tau): B.subs(t, 0)*exp(-gamma[2, 1]/2*tau)}\n",
    "sol_ad_con2"
   ]
  },
  {
   "cell_type": "code",
   "execution_count": 151,
   "metadata": {
    "collapsed": false
   },
   "outputs": [
    {
     "data": {
      "image/png": "[encoded data removed]",
      "text/latex": [
       "$$\\left[\\begin{matrix}\\mathrm{True}\\\\\\mathrm{True}\\end{matrix}\\right]$$"
      ],
      "text/plain": [
       "⎡True⎤\n",
       "⎢    ⎥\n",
       "⎣True⎦"
      ]
     },
     "execution_count": 151,
     "metadata": {},
     "output_type": "execute_result"
    }
   ],
   "source": [
    "check = eqs_ad_con.subs(Omega2_con, 0).subs(sol_ad_con2).doit()\n",
    "check[1] = check[1].expand()\n",
    "check"
   ]
  },
  {
   "cell_type": "markdown",
   "metadata": {},
   "source": [
    "So the initial condition is $X(\\tau = t_{0w}-\\tau_2/2, z)$"
   ]
  },
  {
   "cell_type": "code",
   "execution_count": 152,
   "metadata": {
    "collapsed": false
   },
   "outputs": [
    {
     "data": {
      "image/png": "[encoded data removed]",
      "text/latex": [
       "$$S{\\left (- \\frac{2 Z}{c} + \\tau,0 \\right )} e^{- \\frac{Z \\kappa^{2}}{\\Gamma_{21}}}$$"
      ],
      "text/plain": [
       "                     2 \n",
       "                 -Z⋅κ  \n",
       "                 ──────\n",
       " ⎛  2⋅Z       ⎞   Γ₂₁  \n",
       "S⎜- ─── + τ, 0⎟⋅ℯ      \n",
       " ⎝   c        ⎠        "
      ]
     },
     "execution_count": 152,
     "metadata": {},
     "output_type": "execute_result"
    }
   ],
   "source": [
    "sol_ad_con2[S.subs(t, tau)]"
   ]
  },
  {
   "cell_type": "markdown",
   "metadata": {},
   "source": [
    "# Solution for square pulses.\n",
    "\n",
    "Let's assume that the control field is constant for a duration $T$."
   ]
  },
  {
   "cell_type": "code",
   "execution_count": 153,
   "metadata": {
    "collapsed": false
   },
   "outputs": [
    {
     "data": {
      "image/png": "[encoded data removed]",
      "text/latex": [
       "$$\\left ( T, \\quad \\Omega_{2a}, \\quad \\phi\\right )$$"
      ],
      "text/plain": [
       "(T, Ω₂ₐ, φ)"
      ]
     },
     "execution_count": 153,
     "metadata": {},
     "output_type": "execute_result"
    }
   ],
   "source": [
    "T, Omega2a = symbols(\"T, Omega_2a\", positive=True)\n",
    "phi = symbols(\"phi\", real=True)\n",
    "T, Omega2a, phi"
   ]
  },
  {
   "cell_type": "code",
   "execution_count": 154,
   "metadata": {
    "collapsed": false
   },
   "outputs": [
    {
     "data": {
      "image/png": "[encoded data removed]",
      "text/latex": [
       "$$\\left[\\begin{matrix}- i \\left(- \\frac{\\gamma_{32}}{2} - \\frac{\\Omega_{2a}^{2}}{\\Gamma_{21}}\\right) & - \\frac{\\Omega_{2a} \\kappa}{\\Gamma_{21}}\\\\\\frac{\\Omega_{2a} c \\kappa}{2 \\Gamma_{21}} & - i \\left(- \\frac{i k}{2} c - \\frac{c \\kappa^{2}}{2 \\Gamma_{21}}\\right)\\end{matrix}\\right]$$"
      ],
      "text/plain": [
       "⎡   ⎛           2⎞                      ⎤\n",
       "⎢   ⎜  γ₃₂   Ω₂ₐ ⎟        -Ω₂ₐ⋅κ        ⎥\n",
       "⎢-ⅈ⋅⎜- ─── - ────⎟        ───────       ⎥\n",
       "⎢   ⎝   2    Γ₂₁ ⎠          Γ₂₁         ⎥\n",
       "⎢                                       ⎥\n",
       "⎢                      ⎛              2⎞⎥\n",
       "⎢     Ω₂ₐ⋅c⋅κ          ⎜  ⅈ⋅c⋅k    c⋅κ ⎟⎥\n",
       "⎢     ───────       -ⅈ⋅⎜- ───── - ─────⎟⎥\n",
       "⎣      2⋅Γ₂₁           ⎝    2     2⋅Γ₂₁⎠⎦"
      ]
     },
     "execution_count": 154,
     "metadata": {},
     "output_type": "execute_result"
    }
   ],
   "source": [
    "ss_square = {Omega2_con: Omega2a}\n",
    "M_square = M.subs(ss_square)/I\n",
    "M_square"
   ]
  },
  {
   "cell_type": "code",
   "execution_count": 155,
   "metadata": {
    "collapsed": false
   },
   "outputs": [
    {
     "data": {
      "image/png": "[encoded data removed]",
      "text/latex": [
       "$$\\left \\{ p : - i \\left(- \\frac{\\gamma_{32}}{2} - \\frac{\\Omega_{2a}^{2}}{\\Gamma_{21}}\\right), \\quad q : - \\frac{\\Omega_{2a} \\kappa}{\\Gamma_{21}}, \\quad r : \\frac{\\Omega_{2a} c \\kappa}{2 \\Gamma_{21}}, \\quad s : - i \\left(- \\frac{i k}{2} c - \\frac{c \\kappa^{2}}{2 \\Gamma_{21}}\\right)\\right \\}$$"
      ],
      "text/plain": [
       "⎧      ⎛           2⎞                                ⎛              2⎞⎫\n",
       "⎪      ⎜  γ₃₂   Ω₂ₐ ⎟     -Ω₂ₐ⋅κ      Ω₂ₐ⋅c⋅κ        ⎜  ⅈ⋅c⋅k    c⋅κ ⎟⎪\n",
       "⎨p: -ⅈ⋅⎜- ─── - ────⎟, q: ───────, r: ───────, s: -ⅈ⋅⎜- ───── - ─────⎟⎬\n",
       "⎪      ⎝   2    Γ₂₁ ⎠       Γ₂₁        2⋅Γ₂₁         ⎝    2     2⋅Γ₂₁⎠⎪\n",
       "⎩                                                                     ⎭"
      ]
     },
     "execution_count": 155,
     "metadata": {},
     "output_type": "execute_result"
    }
   ],
   "source": [
    "p, q, r, s = symbols(\"p, q, r, s\")\n",
    "ss_M = {M_square[0, 0]: p, M_square[0, 1]: q, M_square[1, 0]: r, M_square[1, 1]: s}\n",
    "ss_M_inv = {ss_M[i]: i for i in ss_M}\n",
    "ss_M_inv"
   ]
  },
  {
   "cell_type": "code",
   "execution_count": 156,
   "metadata": {
    "collapsed": false
   },
   "outputs": [
    {
     "data": {
      "image/png": "[encoded data removed]",
      "text/latex": [
       "$$\\left[\\begin{matrix}p & q\\\\r & s\\end{matrix}\\right]$$"
      ],
      "text/plain": [
       "⎡p  q⎤\n",
       "⎢    ⎥\n",
       "⎣r  s⎦"
      ]
     },
     "execution_count": 156,
     "metadata": {},
     "output_type": "execute_result"
    }
   ],
   "source": [
    "M_simp = M_square.subs(ss_M)\n",
    "M_simp"
   ]
  },
  {
   "cell_type": "markdown",
   "metadata": {},
   "source": [
    "We have equations\n",
    "\n",
    "$$ \\dot{X} = i M X $$"
   ]
  },
  {
   "cell_type": "code",
   "execution_count": 157,
   "metadata": {
    "collapsed": false
   },
   "outputs": [
    {
     "data": {
      "image/png": "[encoded data removed]",
      "text/latex": [
       "$$\\left[\\begin{matrix}\\frac{\\partial}{\\partial \\tau} \\tilde{B}{\\left (\\tau,k \\right )}\\\\\\frac{\\partial}{\\partial \\tau} \\tilde{S}{\\left (\\tau,k \\right )}\\end{matrix}\\right] = \\left[\\begin{matrix}i p \\tilde{B}{\\left (\\tau,k \\right )} + i q \\tilde{S}{\\left (\\tau,k \\right )}\\\\i r \\tilde{B}{\\left (\\tau,k \\right )} + i s \\tilde{S}{\\left (\\tau,k \\right )}\\end{matrix}\\right]$$"
      ],
      "text/plain": [
       "⎡∂                  ⎤                                              \n",
       "⎢──(\\tilde{B}(τ, k))⎥ = ⎡ⅈ⋅p⋅\\tilde{B}(τ, k) + ⅈ⋅q⋅\\tilde{S}(τ, k)⎤\n",
       "⎢∂τ                 ⎥   ⎢                                         ⎥\n",
       "⎢                   ⎥   ⎣ⅈ⋅r⋅\\tilde{B}(τ, k) + ⅈ⋅s⋅\\tilde{S}(τ, k)⎦\n",
       "⎢∂                  ⎥                                              \n",
       "⎢──(\\tilde{S}(τ, k))⎥                                              \n",
       "⎣∂τ                 ⎦                                              "
      ]
     },
     "execution_count": 157,
     "metadata": {},
     "output_type": "execute_result"
    }
   ],
   "source": [
    "eqs_simp = Equality(diff(Xk, tau), I*M_simp*Xk)\n",
    "eqs_simp"
   ]
  },
  {
   "cell_type": "markdown",
   "metadata": {},
   "source": [
    "which we diagonalize"
   ]
  },
  {
   "cell_type": "code",
   "execution_count": 158,
   "metadata": {
    "collapsed": false
   },
   "outputs": [
    {
     "data": {
      "image/png": "[encoded data removed]",
      "text/latex": [
       "$$\\left ( \\frac{p}{2} + \\frac{s}{2} + \\sqrt{- p s + q r + \\left(\\frac{p}{2} + \\frac{s}{2}\\right)^{2}}, \\quad \\frac{p}{2} + \\frac{s}{2} - \\sqrt{- p s + q r + \\left(\\frac{p}{2} + \\frac{s}{2}\\right)^{2}}\\right )$$"
      ],
      "text/plain": [
       "⎛             _______________________               _______________________⎞\n",
       "⎜            ╱                     2               ╱                     2 ⎟\n",
       "⎜p   s      ╱               ⎛p   s⎞    p   s      ╱               ⎛p   s⎞  ⎟\n",
       "⎜─ + ─ +   ╱   -p⋅s + q⋅r + ⎜─ + ─⎟  , ─ + ─ -   ╱   -p⋅s + q⋅r + ⎜─ + ─⎟  ⎟\n",
       "⎝2   2   ╲╱                 ⎝2   2⎠    2   2   ╲╱                 ⎝2   2⎠  ⎠"
      ]
     },
     "execution_count": 158,
     "metadata": {},
     "output_type": "execute_result"
    }
   ],
   "source": [
    "sig = (s+p)/2\n",
    "delt = (s-p)/2\n",
    "alp = sig**2 - M_simp.det()\n",
    "lamp, lamm = sig + sqrt(alp), sig - sqrt(alp)\n",
    "lamp, lamm"
   ]
  },
  {
   "cell_type": "code",
   "execution_count": 159,
   "metadata": {
    "collapsed": true
   },
   "outputs": [],
   "source": [
    "xp, xm = q, q\n",
    "yp, ym = delt+sqrt(alp), delt-sqrt(alp)"
   ]
  },
  {
   "cell_type": "code",
   "execution_count": 160,
   "metadata": {
    "collapsed": false
   },
   "outputs": [],
   "source": [
    "A = Matrix([[xp, xm], [yp, ym]])\n",
    "Ainv = Matrix([[ym, -xm], [-yp, xp]])/(xp*ym-xm*yp)\n",
    "D = Matrix([[lamp, 0], [0, lamm]])"
   ]
  },
  {
   "cell_type": "code",
   "execution_count": 161,
   "metadata": {
    "collapsed": false
   },
   "outputs": [
    {
     "data": {
      "image/png": "[encoded data removed]",
      "text/latex": [
       "$$\\left[\\begin{matrix}q & q\\\\- \\frac{p}{2} + \\frac{s}{2} + \\sqrt{- p s + q r + \\left(\\frac{p}{2} + \\frac{s}{2}\\right)^{2}} & - \\frac{p}{2} + \\frac{s}{2} - \\sqrt{- p s + q r + \\left(\\frac{p}{2} + \\frac{s}{2}\\right)^{2}}\\end{matrix}\\right]$$"
      ],
      "text/plain": [
       "⎡                  q                                       q                  \n",
       "⎢                                                                             \n",
       "⎢               _______________________                 ______________________\n",
       "⎢              ╱                     2                 ╱                     2\n",
       "⎢  p   s      ╱               ⎛p   s⎞      p   s      ╱               ⎛p   s⎞ \n",
       "⎢- ─ + ─ +   ╱   -p⋅s + q⋅r + ⎜─ + ─⎟    - ─ + ─ -   ╱   -p⋅s + q⋅r + ⎜─ + ─⎟ \n",
       "⎣  2   2   ╲╱                 ⎝2   2⎠      2   2   ╲╱                 ⎝2   2⎠ \n",
       "\n",
       " ⎤\n",
       " ⎥\n",
       "_⎥\n",
       " ⎥\n",
       " ⎥\n",
       " ⎥\n",
       " ⎦"
      ]
     },
     "execution_count": 161,
     "metadata": {},
     "output_type": "execute_result"
    }
   ],
   "source": [
    "A"
   ]
  },
  {
   "cell_type": "code",
   "execution_count": 162,
   "metadata": {
    "collapsed": false
   },
   "outputs": [
    {
     "data": {
      "image/png": "[encoded data removed]",
      "text/latex": [
       "$$\\left[\\begin{matrix}p & q\\\\r & s\\end{matrix}\\right]$$"
      ],
      "text/plain": [
       "⎡p  q⎤\n",
       "⎢    ⎥\n",
       "⎣r  s⎦"
      ]
     },
     "execution_count": 162,
     "metadata": {},
     "output_type": "execute_result"
    }
   ],
   "source": [
    "simplify(A*D*Ainv)"
   ]
  },
  {
   "cell_type": "markdown",
   "metadata": {},
   "source": [
    "We use some dummy variables instead"
   ]
  },
  {
   "cell_type": "code",
   "execution_count": 163,
   "metadata": {
    "collapsed": false
   },
   "outputs": [
    {
     "data": {
      "image/png": "[encoded data removed]",
      "text/latex": [
       "$$\\left ( x_{+}, \\quad x_{-}, \\quad y_{+}, \\quad y_{-}, \\quad \\lambda_+, \\quad \\lambda_-\\right )$$"
      ],
      "text/plain": [
       "(x₊, x₋, y₊, y₋, \\lambda₊, \\lambda₋)"
      ]
     },
     "execution_count": 163,
     "metadata": {},
     "output_type": "execute_result"
    }
   ],
   "source": [
    "x_p, x_m, y_p, y_m, lam_p, lam_m = symbols(\"x_+, x_-, y_+, y_-, \\lambda_+, \\lambda_-\")\n",
    "x_p, x_m, y_p, y_m, lam_p, lam_m"
   ]
  },
  {
   "cell_type": "code",
   "execution_count": 164,
   "metadata": {
    "collapsed": false
   },
   "outputs": [],
   "source": [
    "ss_xy = {xp: x_p, yp: y_p, ym: y_m, lamp: lam_p, lamm: lam_m}\n",
    "ss_xy_inv = {x_p: xp, x_m: xm, y_p: yp, y_m: ym, lam_p: lamp, lam_m: lamm}\n",
    "# ss_xy"
   ]
  },
  {
   "cell_type": "code",
   "execution_count": 165,
   "metadata": {
    "collapsed": false
   },
   "outputs": [
    {
     "data": {
      "image/png": "[encoded data removed]",
      "text/latex": [
       "$$\\left ( \\left[\\begin{matrix}x_{+} & x_{-}\\\\y_{+} & y_{-}\\end{matrix}\\right], \\quad \\left[\\begin{matrix}\\frac{y_{-}}{x_{+} y_{-} - x_{-} y_{+}} & - \\frac{x_{-}}{x_{+} y_{-} - x_{-} y_{+}}\\\\- \\frac{y_{+}}{x_{+} y_{-} - x_{-} y_{+}} & \\frac{x_{+}}{x_{+} y_{-} - x_{-} y_{+}}\\end{matrix}\\right]\\right )$$"
      ],
      "text/plain": [
       "⎛          ⎡      y₋            -x₋     ⎤⎞\n",
       "⎜⎡x₊  x₋⎤, ⎢─────────────  ─────────────⎥⎟\n",
       "⎜⎢      ⎥  ⎢x₊⋅y₋ - x₋⋅y₊  x₊⋅y₋ - x₋⋅y₊⎥⎟\n",
       "⎜⎣y₊  y₋⎦  ⎢                            ⎥⎟\n",
       "⎜          ⎢     -y₊             x₊     ⎥⎟\n",
       "⎜          ⎢─────────────  ─────────────⎥⎟\n",
       "⎝          ⎣x₊⋅y₋ - x₋⋅y₊  x₊⋅y₋ - x₋⋅y₊⎦⎠"
      ]
     },
     "execution_count": 165,
     "metadata": {},
     "output_type": "execute_result"
    }
   ],
   "source": [
    "A = Matrix([[x_p, x_m], [y_p, y_m]])\n",
    "Ainv = Matrix([[y_m, -x_m], [-y_p, x_p]])/(x_p*y_m-x_m*y_p)\n",
    "D = Matrix([[lam_p, 0], [0, lam_m]])\n",
    "A, Ainv"
   ]
  },
  {
   "cell_type": "markdown",
   "metadata": {},
   "source": [
    "The mapping after one pulse is"
   ]
  },
  {
   "cell_type": "code",
   "execution_count": 166,
   "metadata": {
    "collapsed": false
   },
   "outputs": [
    {
     "data": {
      "image/png": "[encoded data removed]",
      "text/latex": [
       "$$\\left[\\begin{matrix}\\frac{1}{x_{+} y_{-} - x_{-} y_{+}} \\left(x_{+} y_{-} e^{i T \\lambda_+} - x_{-} y_{+} e^{i T \\lambda_-}\\right) & \\frac{x_{+} x_{-} \\left(- e^{i T \\lambda_+} + e^{i T \\lambda_-}\\right)}{x_{+} y_{-} - x_{-} y_{+}}\\\\\\frac{y_{+} y_{-} \\left(e^{i T \\lambda_+} - e^{i T \\lambda_-}\\right)}{x_{+} y_{-} - x_{-} y_{+}} & \\frac{1}{x_{+} y_{-} - x_{-} y_{+}} \\left(x_{+} y_{-} e^{i T \\lambda_-} - x_{-} y_{+} e^{i T \\lambda_+}\\right)\\end{matrix}\\right]$$"
      ],
      "text/plain": [
       "⎡       ⅈ⋅T⋅\\lambda₊          ⅈ⋅T⋅\\lambda₋         ⎛   ⅈ⋅T⋅\\lambda₊    ⅈ⋅T⋅\\la\n",
       "⎢x₊⋅y₋⋅ℯ             - x₋⋅y₊⋅ℯ               x₊⋅x₋⋅⎝- ℯ             + ℯ       \n",
       "⎢─────────────────────────────────────────   ─────────────────────────────────\n",
       "⎢              x₊⋅y₋ - x₋⋅y₊                              x₊⋅y₋ - x₋⋅y₊       \n",
       "⎢                                                                             \n",
       "⎢        ⎛ ⅈ⋅T⋅\\lambda₊    ⅈ⋅T⋅\\lambda₋⎞           ⅈ⋅T⋅\\lambda₋          ⅈ⋅T⋅\\\n",
       "⎢  y₊⋅y₋⋅⎝ℯ             - ℯ            ⎠    x₊⋅y₋⋅ℯ             - x₋⋅y₊⋅ℯ     \n",
       "⎢  ─────────────────────────────────────    ──────────────────────────────────\n",
       "⎣              x₊⋅y₋ - x₋⋅y₊                              x₊⋅y₋ - x₋⋅y₊       \n",
       "\n",
       "mbda₋⎞ ⎤\n",
       "     ⎠ ⎥\n",
       "────── ⎥\n",
       "       ⎥\n",
       "       ⎥\n",
       "lambda₊⎥\n",
       "       ⎥\n",
       "───────⎥\n",
       "       ⎦"
      ]
     },
     "execution_count": 166,
     "metadata": {},
     "output_type": "execute_result"
    }
   ],
   "source": [
    "#from sympy import eye\n",
    "G = sum([A[:, i]*Ainv[i, :]*exp(I*T*D[i, i]) for i in range(2)], zeros(2, 2))\n",
    "G = simplify(G)\n",
    "G"
   ]
  },
  {
   "cell_type": "markdown",
   "metadata": {},
   "source": [
    "We check whether this is a true solution."
   ]
  },
  {
   "cell_type": "code",
   "execution_count": 167,
   "metadata": {
    "collapsed": false
   },
   "outputs": [
    {
     "data": {
      "image/png": "[encoded data removed]",
      "text/latex": [
       "$$\\mathrm{True}$$"
      ],
      "text/plain": [
       "True"
      ]
     },
     "execution_count": 167,
     "metadata": {},
     "output_type": "execute_result"
    }
   ],
   "source": [
    "S_in = symbols(\"S_in\")\n",
    "B_in = symbols(\"B_in\")\n",
    "\n",
    "Xkin = Matrix([B_in, S_in])\n",
    "Xkout = G*Xkin\n",
    "Xkout = Xkout.subs(ss_xy_inv).expand().subs(T, tau)\n",
    "eqs_simp.subs({Xk[0]: Xkout[0], Xk[1]: Xkout[1]}).doit().expand().factor()"
   ]
  },
  {
   "cell_type": "code",
   "execution_count": 168,
   "metadata": {
    "collapsed": false
   },
   "outputs": [
    {
     "data": {
      "image/png": "[encoded data removed]",
      "text/latex": [
       "$$\\left ( \\left[\\begin{matrix}0\\\\S_{in}\\end{matrix}\\right], \\quad \\left[\\begin{matrix}B_{in}\\\\0\\end{matrix}\\right]\\right )$$"
      ],
      "text/plain": [
       "⎛⎡ 0  ⎤, ⎡B_in⎤⎞\n",
       "⎜⎢    ⎥  ⎢    ⎥⎟\n",
       "⎝⎣S_in⎦  ⎣ 0  ⎦⎠"
      ]
     },
     "execution_count": 168,
     "metadata": {},
     "output_type": "execute_result"
    }
   ],
   "source": [
    "Xin = Xk.subs({Bk: 0, Sk: S_in})\n",
    "Xint = Xk.subs({Bk: B_in, Sk: 0})\n",
    "Xin, Xint"
   ]
  },
  {
   "cell_type": "code",
   "execution_count": 169,
   "metadata": {
    "collapsed": false
   },
   "outputs": [
    {
     "data": {
      "image/png": "[encoded data removed]",
      "text/latex": [
       "$$\\left[\\begin{matrix}\\frac{S_{in} x_{+} x_{-}}{x_{+} y_{-} - x_{-} y_{+}} \\left(- e^{i T \\lambda_+} + e^{i T \\lambda_-}\\right)\\\\\\frac{S_{in}}{x_{+} y_{-} - x_{-} y_{+}} \\left(x_{+} y_{-} e^{i T \\lambda_-} - x_{-} y_{+} e^{i T \\lambda_+}\\right)\\end{matrix}\\right]$$"
      ],
      "text/plain": [
       "⎡             ⎛   ⅈ⋅T⋅\\lambda₊    ⅈ⋅T⋅\\lambda₋⎞  ⎤\n",
       "⎢  S_in⋅x₊⋅x₋⋅⎝- ℯ             + ℯ            ⎠  ⎥\n",
       "⎢  ────────────────────────────────────────────  ⎥\n",
       "⎢                 x₊⋅y₋ - x₋⋅y₊                  ⎥\n",
       "⎢                                                ⎥\n",
       "⎢     ⎛       ⅈ⋅T⋅\\lambda₋          ⅈ⋅T⋅\\lambda₊⎞⎥\n",
       "⎢S_in⋅⎝x₊⋅y₋⋅ℯ             - x₋⋅y₊⋅ℯ            ⎠⎥\n",
       "⎢────────────────────────────────────────────────⎥\n",
       "⎣                 x₊⋅y₋ - x₋⋅y₊                  ⎦"
      ]
     },
     "execution_count": 169,
     "metadata": {},
     "output_type": "execute_result"
    }
   ],
   "source": [
    "G*Xin"
   ]
  },
  {
   "cell_type": "code",
   "execution_count": 170,
   "metadata": {
    "collapsed": false
   },
   "outputs": [
    {
     "data": {
      "image/png": "[encoded data removed]",
      "text/latex": [
       "$$\\left[\\begin{matrix}\\frac{B_{in}}{x_{+} y_{-} - x_{-} y_{+}} \\left(x_{+} y_{-} e^{i T \\lambda_+} - x_{-} y_{+} e^{i T \\lambda_-}\\right)\\\\\\frac{B_{in} y_{+} y_{-} \\left(e^{i T \\lambda_+} - e^{i T \\lambda_-}\\right)}{x_{+} y_{-} - x_{-} y_{+}}\\end{matrix}\\right]$$"
      ],
      "text/plain": [
       "⎡     ⎛       ⅈ⋅T⋅\\lambda₊          ⅈ⋅T⋅\\lambda₋⎞⎤\n",
       "⎢B_in⋅⎝x₊⋅y₋⋅ℯ             - x₋⋅y₊⋅ℯ            ⎠⎥\n",
       "⎢────────────────────────────────────────────────⎥\n",
       "⎢                 x₊⋅y₋ - x₋⋅y₊                  ⎥\n",
       "⎢                                                ⎥\n",
       "⎢              ⎛ ⅈ⋅T⋅\\lambda₊    ⅈ⋅T⋅\\lambda₋⎞   ⎥\n",
       "⎢   B_in⋅y₊⋅y₋⋅⎝ℯ             - ℯ            ⎠   ⎥\n",
       "⎢   ──────────────────────────────────────────   ⎥\n",
       "⎣                 x₊⋅y₋ - x₋⋅y₊                  ⎦"
      ]
     },
     "execution_count": 170,
     "metadata": {},
     "output_type": "execute_result"
    }
   ],
   "source": [
    "G*Xint"
   ]
  },
  {
   "cell_type": "code",
   "execution_count": 171,
   "metadata": {
    "collapsed": false
   },
   "outputs": [
    {
     "data": {
      "image/png": "[encoded data removed]",
      "text/latex": [
       "$$\\left[\\begin{matrix}\\frac{S_{in} x_{+} x_{-}}{\\left(x_{+} y_{-} - x_{-} y_{+}\\right)^{2}} \\left(x_{+} y_{-} e^{i T \\lambda_+} - x_{-} y_{+} e^{i T \\lambda_-}\\right) \\left(- e^{i T \\lambda_+} + e^{i T \\lambda_-}\\right)\\\\\\frac{S_{in} x_{+} x_{-} y_{+} y_{-}}{\\left(x_{+} y_{-} - x_{-} y_{+}\\right)^{2}} \\left(- e^{i T \\lambda_+} + e^{i T \\lambda_-}\\right) \\left(e^{i T \\lambda_+} - e^{i T \\lambda_-}\\right)\\end{matrix}\\right]$$"
      ],
      "text/plain": [
       "⎡           ⎛       ⅈ⋅T⋅\\lambda₊          ⅈ⋅T⋅\\lambda₋⎞ ⎛   ⅈ⋅T⋅\\lambda₊    ⅈ⋅\n",
       "⎢S_in⋅x₊⋅x₋⋅⎝x₊⋅y₋⋅ℯ             - x₋⋅y₊⋅ℯ            ⎠⋅⎝- ℯ             + ℯ  \n",
       "⎢─────────────────────────────────────────────────────────────────────────────\n",
       "⎢                                                   2                         \n",
       "⎢                                    (x₊⋅y₋ - x₋⋅y₊)                          \n",
       "⎢                                                                             \n",
       "⎢                    ⎛   ⅈ⋅T⋅\\lambda₊    ⅈ⋅T⋅\\lambda₋⎞ ⎛ ⅈ⋅T⋅\\lambda₊    ⅈ⋅T⋅\\\n",
       "⎢   S_in⋅x₊⋅x₋⋅y₊⋅y₋⋅⎝- ℯ             + ℯ            ⎠⋅⎝ℯ             - ℯ     \n",
       "⎢   ──────────────────────────────────────────────────────────────────────────\n",
       "⎢                                                   2                         \n",
       "⎣                                    (x₊⋅y₋ - x₋⋅y₊)                          \n",
       "\n",
       "T⋅\\lambda₋⎞⎤\n",
       "          ⎠⎥\n",
       "───────────⎥\n",
       "           ⎥\n",
       "           ⎥\n",
       "           ⎥\n",
       "lambda₋⎞   ⎥\n",
       "       ⎠   ⎥\n",
       "────────   ⎥\n",
       "           ⎥\n",
       "           ⎦"
      ]
     },
     "execution_count": 171,
     "metadata": {},
     "output_type": "execute_result"
    }
   ],
   "source": [
    "Xint = G*Xin\n",
    "Xint = Matrix([Xint[0, 0], 0])\n",
    "Xout = G*Xint\n",
    "Xout"
   ]
  },
  {
   "cell_type": "code",
   "execution_count": 172,
   "metadata": {
    "collapsed": false
   },
   "outputs": [
    {
     "data": {
      "image/png": "[encoded data removed]",
      "text/latex": [
       "$$\\frac{S_{in} x_{+} x_{-} y_{+} y_{-}}{\\left(x_{+} y_{-} - x_{-} y_{+}\\right)^{2}} \\left(- e^{i T \\lambda_+} + e^{i T \\lambda_-}\\right) \\left(e^{i T \\lambda_+} - e^{i T \\lambda_-}\\right)$$"
      ],
      "text/plain": [
       "                 ⎛   ⅈ⋅T⋅\\lambda₊    ⅈ⋅T⋅\\lambda₋⎞ ⎛ ⅈ⋅T⋅\\lambda₊    ⅈ⋅T⋅\\lamb\n",
       "S_in⋅x₊⋅x₋⋅y₊⋅y₋⋅⎝- ℯ             + ℯ            ⎠⋅⎝ℯ             - ℯ         \n",
       "──────────────────────────────────────────────────────────────────────────────\n",
       "                                                2                             \n",
       "                                 (x₊⋅y₋ - x₋⋅y₊)                              \n",
       "\n",
       "da₋⎞\n",
       "   ⎠\n",
       "────\n",
       "    \n",
       "    "
      ]
     },
     "execution_count": 172,
     "metadata": {},
     "output_type": "execute_result"
    }
   ],
   "source": [
    "Sout = Xout[1, 0]#.expand()\n",
    "Sout"
   ]
  },
  {
   "cell_type": "code",
   "execution_count": 173,
   "metadata": {
    "collapsed": false
   },
   "outputs": [
    {
     "name": "stdout",
     "output_type": "stream",
     "text": [
      "{delta: -p/2 + s/2, sigma: p/2 + s/2, alpha: -p*s + q*r + (p/2 + s/2)**2}\n"
     ]
    },
    {
     "data": {
      "image/png": "[encoded data removed]",
      "text/latex": [
       "$$\\left \\{ \\alpha : - p s + q r + \\left(\\frac{p}{2} + \\frac{s}{2}\\right)^{2}, \\quad \\delta : - \\frac{p}{2} + \\frac{s}{2}, \\quad \\sigma : \\frac{p}{2} + \\frac{s}{2}\\right \\}$$"
      ],
      "text/plain": [
       "⎧                       2                      ⎫\n",
       "⎪                ⎛p   s⎞        p   s     p   s⎪\n",
       "⎨α: -p⋅s + q⋅r + ⎜─ + ─⎟ , δ: - ─ + ─, σ: ─ + ─⎬\n",
       "⎪                ⎝2   2⎠        2   2     2   2⎪\n",
       "⎩                                              ⎭"
      ]
     },
     "execution_count": 173,
     "metadata": {},
     "output_type": "execute_result"
    }
   ],
   "source": [
    "sigma, delta, alpha = symbols(\"sigma, delta, alpha\")\n",
    "ss_amazing1 = {sigma: (s+p)/2, delta: (s-p)/2, alpha: sig**2 - M_simp.det()}\n",
    "print ss_amazing1\n",
    "ss_amazing1"
   ]
  },
  {
   "cell_type": "code",
   "execution_count": 174,
   "metadata": {
    "collapsed": false
   },
   "outputs": [
    {
     "data": {
      "image/png": "[encoded data removed]",
      "text/latex": [
       "$$\\left \\{ \\lambda_+ : \\sqrt{\\alpha} + \\sigma, \\quad \\lambda_- : - \\sqrt{\\alpha} + \\sigma\\right \\}$$"
      ],
      "text/plain": [
       "{\\lambda₊: √α + σ, \\lambda₋: -√α + σ}"
      ]
     },
     "execution_count": 174,
     "metadata": {},
     "output_type": "execute_result"
    }
   ],
   "source": [
    "ss_amazing2 = {lam_p: sigma+sqrt(alpha), lam_m: sigma-sqrt(alpha)}\n",
    "ss_amazing2"
   ]
  },
  {
   "cell_type": "code",
   "execution_count": 175,
   "metadata": {
    "collapsed": false
   },
   "outputs": [
    {
     "data": {
      "image/png": "[encoded data removed]",
      "text/latex": [
       "$$\\left \\{ x_{+} : q, \\quad x_{-} : q\\right \\}$$"
      ],
      "text/plain": [
       "{x₊: q, x₋: q}"
      ]
     },
     "execution_count": 175,
     "metadata": {},
     "output_type": "execute_result"
    }
   ],
   "source": [
    "ss_amazing3 = {x_p: q, x_m: q}\n",
    "ss_amazing3"
   ]
  },
  {
   "cell_type": "code",
   "execution_count": 176,
   "metadata": {
    "collapsed": false
   },
   "outputs": [
    {
     "data": {
      "image/png": "[encoded data removed]",
      "text/latex": [
       "$$\\left \\{ y_{+} : \\sqrt{\\alpha} + \\delta, \\quad y_{-} : - \\sqrt{\\alpha} + \\delta\\right \\}$$"
      ],
      "text/plain": [
       "{y₊: √α + δ, y₋: -√α + δ}"
      ]
     },
     "execution_count": 176,
     "metadata": {},
     "output_type": "execute_result"
    }
   ],
   "source": [
    "ss_amazing4 = {y_p: delta+sqrt(alpha), y_m: delta-sqrt(alpha)}\n",
    "ss_amazing4"
   ]
  },
  {
   "cell_type": "markdown",
   "metadata": {},
   "source": [
    "We substitute the dummy variables."
   ]
  },
  {
   "cell_type": "code",
   "execution_count": 177,
   "metadata": {
    "collapsed": false
   },
   "outputs": [
    {
     "data": {
      "image/png": "[encoded data removed]",
      "text/latex": [
       "$$\\frac{S_{in}}{\\alpha} \\left(- \\alpha + \\delta^{2}\\right) e^{2 i T \\sigma} \\sin^{2}{\\left (T \\sqrt{\\alpha} \\right )}$$"
      ],
      "text/plain": [
       "     ⎛      2⎞  2⋅ⅈ⋅T⋅σ    2      \n",
       "S_in⋅⎝-α + δ ⎠⋅ℯ       ⋅sin (T⋅√α)\n",
       "──────────────────────────────────\n",
       "                α                 "
      ]
     },
     "execution_count": 177,
     "metadata": {},
     "output_type": "execute_result"
    }
   ],
   "source": [
    "Sout = Xout[1, 0]#.expand()\n",
    "Sout_ = Sout.subs(ss_amazing2).factor()\n",
    "Sout_ = Sout_.subs({exp(I*T*sqrt(alpha))-exp(-I*T*sqrt(alpha)): 2*I*sin(T*sqrt(alpha))})\n",
    "Sout_ = Sout_.subs(ss_amazing3).factor()\n",
    "Sout_ = Sout_.subs(ss_amazing4)\n",
    "Sout_ = Sout_.subs({(delta-sqrt(alpha))*(delta+sqrt(alpha)): delta**2-alpha})\n",
    "Sout_"
   ]
  },
  {
   "cell_type": "code",
   "execution_count": 178,
   "metadata": {
    "collapsed": false
   },
   "outputs": [
    {
     "data": {
      "image/png": "[encoded data removed]",
      "text/latex": [
       "$$\\frac{1}{\\alpha} \\left(- \\alpha + \\delta^{2}\\right) e^{2 i T \\sigma} \\sin^{2}{\\left (T \\sqrt{\\alpha} \\right )}$$"
      ],
      "text/plain": [
       "⎛      2⎞  2⋅ⅈ⋅T⋅σ    2      \n",
       "⎝-α + δ ⎠⋅ℯ       ⋅sin (T⋅√α)\n",
       "─────────────────────────────\n",
       "              α              "
      ]
     },
     "execution_count": 178,
     "metadata": {},
     "output_type": "execute_result"
    }
   ],
   "source": [
    "Fk = Sout_/S_in\n",
    "Fk"
   ]
  },
  {
   "cell_type": "code",
   "execution_count": 179,
   "metadata": {
    "collapsed": false
   },
   "outputs": [
    {
     "data": {
      "image/png": "[encoded data removed]",
      "text/latex": [
       "$$\\left \\{ \\alpha : - p s + q r + \\left(\\frac{p}{2} + \\frac{s}{2}\\right)^{2}, \\quad \\delta : - \\frac{p}{2} + \\frac{s}{2}, \\quad \\sigma : \\frac{p}{2} + \\frac{s}{2}\\right \\}$$"
      ],
      "text/plain": [
       "⎧                       2                      ⎫\n",
       "⎪                ⎛p   s⎞        p   s     p   s⎪\n",
       "⎨α: -p⋅s + q⋅r + ⎜─ + ─⎟ , δ: - ─ + ─, σ: ─ + ─⎬\n",
       "⎪                ⎝2   2⎠        2   2     2   2⎪\n",
       "⎩                                              ⎭"
      ]
     },
     "execution_count": 179,
     "metadata": {},
     "output_type": "execute_result"
    }
   ],
   "source": [
    "ss_amazing1"
   ]
  },
  {
   "cell_type": "code",
   "execution_count": 180,
   "metadata": {
    "collapsed": false
   },
   "outputs": [
    {
     "data": {
      "image/png": "[encoded data removed]",
      "text/latex": [
       "$$\\left \\{ p : - i \\left(- \\frac{\\gamma_{32}}{2} - \\frac{\\Omega_{2a}^{2}}{\\Gamma_{21}}\\right), \\quad q : - \\frac{\\Omega_{2a} \\kappa}{\\Gamma_{21}}, \\quad r : \\frac{\\Omega_{2a} c \\kappa}{2 \\Gamma_{21}}, \\quad s : - i \\left(- \\frac{i k}{2} c - \\frac{c \\kappa^{2}}{2 \\Gamma_{21}}\\right)\\right \\}$$"
      ],
      "text/plain": [
       "⎧      ⎛           2⎞                                ⎛              2⎞⎫\n",
       "⎪      ⎜  γ₃₂   Ω₂ₐ ⎟     -Ω₂ₐ⋅κ      Ω₂ₐ⋅c⋅κ        ⎜  ⅈ⋅c⋅k    c⋅κ ⎟⎪\n",
       "⎨p: -ⅈ⋅⎜- ─── - ────⎟, q: ───────, r: ───────, s: -ⅈ⋅⎜- ───── - ─────⎟⎬\n",
       "⎪      ⎝   2    Γ₂₁ ⎠       Γ₂₁        2⋅Γ₂₁         ⎝    2     2⋅Γ₂₁⎠⎪\n",
       "⎩                                                                     ⎭"
      ]
     },
     "execution_count": 180,
     "metadata": {},
     "output_type": "execute_result"
    }
   ],
   "source": [
    "ss_M_inv"
   ]
  },
  {
   "cell_type": "markdown",
   "metadata": {},
   "source": [
    "We check whether the phase in the exponential factor is real or imaginary."
   ]
  },
  {
   "cell_type": "code",
   "execution_count": 181,
   "metadata": {
    "collapsed": false
   },
   "outputs": [
    {
     "data": {
      "image/png": "[encoded data removed]",
      "text/latex": [
       "$$2 i T \\left(- \\frac{i}{2} \\left(- \\frac{\\Omega_{2a}^{2}}{- i \\delta_{1} + \\frac{\\gamma_{21}}{2}} - \\frac{\\gamma_{32}}{2}\\right) - \\frac{i}{2} \\left(- \\frac{i k}{2} c - \\frac{c \\kappa^{2}}{- 2 i \\delta_{1} + \\gamma_{21}}\\right)\\right)$$"
      ],
      "text/plain": [
       "      ⎛    ⎛         2         ⎞     ⎛                   2     ⎞⎞\n",
       "      ⎜    ⎜      Ω₂ₐ       γ₃₂⎟     ⎜  ⅈ⋅c⋅k         c⋅κ      ⎟⎟\n",
       "      ⎜  ⅈ⋅⎜- ─────────── - ───⎟   ⅈ⋅⎜- ───── - ───────────────⎟⎟\n",
       "      ⎜    ⎜          γ₂₁    2 ⎟     ⎜    2       ⎛        γ₂₁⎞⎟⎟\n",
       "      ⎜    ⎜  -ⅈ⋅δ₁ + ───      ⎟     ⎜          2⋅⎜-ⅈ⋅δ₁ + ───⎟⎟⎟\n",
       "      ⎜    ⎝           2       ⎠     ⎝            ⎝         2 ⎠⎠⎟\n",
       "2⋅ⅈ⋅T⋅⎜- ─────────────────────── - ─────────────────────────────⎟\n",
       "      ⎝             2                            2              ⎠"
      ]
     },
     "execution_count": 181,
     "metadata": {},
     "output_type": "execute_result"
    }
   ],
   "source": [
    "sigma_phase = 2*I*T*ss_amazing1[sigma].subs(ss_M_inv).subs(ss_Gamma21_inv)\n",
    "sigma_phase"
   ]
  },
  {
   "cell_type": "markdown",
   "metadata": {},
   "source": [
    "Unsurprisingly, decoherence goes to zero if the the decay frequencies are zero."
   ]
  },
  {
   "cell_type": "code",
   "execution_count": 182,
   "metadata": {
    "collapsed": false
   },
   "outputs": [
    {
     "data": {
      "image/png": "[encoded data removed]",
      "text/latex": [
       "$$2 T \\left(- \\frac{\\Omega_{2a}^{2}}{2 \\delta_{1}} - \\frac{c k}{4} - \\frac{c \\kappa^{2}}{4 \\delta_{1}}\\right)$$"
      ],
      "text/plain": [
       "    ⎛     2            2⎞\n",
       "    ⎜  Ω₂ₐ    c⋅k   c⋅κ ⎟\n",
       "2⋅T⋅⎜- ──── - ─── - ────⎟\n",
       "    ⎝  2⋅δ₁    4    4⋅δ₁⎠"
      ]
     },
     "execution_count": 182,
     "metadata": {},
     "output_type": "execute_result"
    }
   ],
   "source": [
    "im(sigma_phase).subs({gamma[1, 0]: 0, gamma[2, 1]: 0})"
   ]
  },
  {
   "cell_type": "code",
   "execution_count": 183,
   "metadata": {
    "collapsed": false
   },
   "outputs": [
    {
     "data": {
      "image/png": "[encoded data removed]",
      "text/latex": [
       "$$0$$"
      ],
      "text/plain": [
       "0"
      ]
     },
     "execution_count": 183,
     "metadata": {},
     "output_type": "execute_result"
    }
   ],
   "source": [
    "re(sigma_phase).subs({gamma[1, 0]: 0, gamma[2, 1]: 0})"
   ]
  },
  {
   "cell_type": "markdown",
   "metadata": {},
   "source": [
    "# Recovering previous results\n",
    "We now seek to put $F(k)$ as\n",
    "\n",
    "\\begin{equation}\n",
    "    F(k) = - \\frac{sin^2(\\tilde{C} z(k) )}{|z(k)|^2}\n",
    "\\end{equation}\n",
    "where"
   ]
  },
  {
   "cell_type": "code",
   "execution_count": 184,
   "metadata": {
    "collapsed": false
   },
   "outputs": [
    {
     "data": {
      "image/png": "[encoded data removed]",
      "text/latex": [
       "$$\\left \\{ \\tilde{C} : \\frac{\\sqrt{2} \\Omega_{2a} T \\kappa}{2 \\sqrt{\\Gamma_{21}^{2}}} \\sqrt{c}\\right \\}$$"
      ],
      "text/plain": [
       "⎧           √2⋅Ω₂ₐ⋅T⋅√c⋅κ⎫\n",
       "⎪\\tilde{C}: ─────────────⎪\n",
       "⎨                 ______ ⎬\n",
       "⎪                ╱    2  ⎪\n",
       "⎩            2⋅╲╱  Γ₂₁   ⎭"
      ]
     },
     "execution_count": 184,
     "metadata": {},
     "output_type": "execute_result"
    }
   ],
   "source": [
    "Ctilde = symbols(r\"\\tilde{C}\")\n",
    "ss_Ctilde = {Ctilde: sqrt(c/2)*Omega2a*T*kappa/sqrt(Gamma21**2)}\n",
    "ss_Ctilde"
   ]
  },
  {
   "cell_type": "code",
   "execution_count": 185,
   "metadata": {
    "collapsed": false
   },
   "outputs": [
    {
     "data": {
      "image/png": "[encoded data removed]",
      "text/latex": [
       "$$\\frac{8 \\Omega_{2a}^{2} c \\kappa^{2} \\sin^{2}{\\left (T \\sqrt{\\frac{c^{2} k^{2}}{16} + \\frac{i \\gamma_{32}}{8} c k - \\frac{\\gamma_{32}^{2}}{16} + \\frac{i \\Omega_{2a}^{2} c k}{4 \\Gamma_{21}} - \\frac{\\Omega_{2a}^{2} \\gamma_{32}}{4 \\Gamma_{21}} - \\frac{i c^{2} k \\kappa^{2}}{8 \\Gamma_{21}} + \\frac{c \\gamma_{32} \\kappa^{2}}{8 \\Gamma_{21}} - \\frac{\\Omega_{2a}^{4}}{4 \\Gamma_{21}^{2}} - \\frac{\\Omega_{2a}^{2} c \\kappa^{2}}{4 \\Gamma_{21}^{2}} - \\frac{c^{2} \\kappa^{4}}{16 \\Gamma_{21}^{2}}} \\right )}}{\\Gamma_{21}^{2} c^{2} k^{2} + 2 i \\Gamma_{21}^{2} c \\gamma_{32} k - \\Gamma_{21}^{2} \\gamma_{32}^{2} + 4 i \\Gamma_{21} \\Omega_{2a}^{2} c k - 4 \\Gamma_{21} \\Omega_{2a}^{2} \\gamma_{32} - 2 i \\Gamma_{21} c^{2} k \\kappa^{2} + 2 \\Gamma_{21} c \\gamma_{32} \\kappa^{2} - 4 \\Omega_{2a}^{4} - 4 \\Omega_{2a}^{2} c \\kappa^{2} - c^{2} \\kappa^{4}}$$"
      ],
      "text/plain": [
       "                       ⎛        ______________________________________________\n",
       "                       ⎜       ╱  2  2                  2        2          2 \n",
       "            2    2    2⎜      ╱  c ⋅k    ⅈ⋅c⋅γ₃₂⋅k   γ₃₂    ⅈ⋅Ω₂ₐ ⋅c⋅k   Ω₂ₐ ⋅\n",
       "       8⋅Ω₂ₐ ⋅c⋅κ ⋅sin ⎜T⋅   ╱   ───── + ───────── - ──── + ────────── - ─────\n",
       "                       ⎜    ╱      16        8        16      4⋅Γ₂₁       4⋅Γ₂\n",
       "                       ⎝  ╲╱                                                  \n",
       "──────────────────────────────────────────────────────────────────────────────\n",
       "   2  2  2          2              2    2              2                2     \n",
       "Γ₂₁ ⋅c ⋅k  + 2⋅ⅈ⋅Γ₂₁ ⋅c⋅γ₃₂⋅k - Γ₂₁ ⋅γ₃₂  + 4⋅ⅈ⋅Γ₂₁⋅Ω₂ₐ ⋅c⋅k - 4⋅Γ₂₁⋅Ω₂ₐ ⋅γ₃₂ \n",
       "\n",
       "__________________________________________________________⎞      \n",
       "         2    2          2       4       2    2     2  4  ⎟      \n",
       "γ₃₂   ⅈ⋅c ⋅k⋅κ    c⋅γ₃₂⋅κ     Ω₂ₐ     Ω₂ₐ ⋅c⋅κ     c ⋅κ   ⎟      \n",
       "─── - ───────── + ──────── - ────── - ───────── - ─────── ⎟      \n",
       "₁       8⋅Γ₂₁      8⋅Γ₂₁          2          2          2 ⎟      \n",
       "                             4⋅Γ₂₁      4⋅Γ₂₁     16⋅Γ₂₁  ⎠      \n",
       "─────────────────────────────────────────────────────────────────\n",
       "           2    2                2        4        2    2    2  4\n",
       "- 2⋅ⅈ⋅Γ₂₁⋅c ⋅k⋅κ  + 2⋅Γ₂₁⋅c⋅γ₃₂⋅κ  - 4⋅Ω₂ₐ  - 4⋅Ω₂ₐ ⋅c⋅κ  - c ⋅κ "
      ]
     },
     "execution_count": 185,
     "metadata": {},
     "output_type": "execute_result"
    }
   ],
   "source": [
    "F_aux = Fk.subs(sigma, 0).subs(ss_amazing1).subs(ss_M_inv).factor()\n",
    "F_aux"
   ]
  },
  {
   "cell_type": "code",
   "execution_count": 186,
   "metadata": {
    "collapsed": true
   },
   "outputs": [],
   "source": [
    "from sympy import diff\n",
    "def coeffs(expr, x, deg=1):\n",
    "    coefs = []\n",
    "    rem = expr\n",
    "    for n in reversed(range(1, deg+1)):\n",
    "        coef = diff(rem, x, n)/n\n",
    "        term = coef*x**n\n",
    "        rem = rem - term\n",
    "        rem = rem.expand()\n",
    "        coefs += [coef]\n",
    "    coefs += [rem]\n",
    "    return list(reversed(coefs))"
   ]
  },
  {
   "cell_type": "markdown",
   "metadata": {},
   "source": [
    "We extract the square of the argument of the sine ($\\tilde{C}^2 z(k)^2 $)"
   ]
  },
  {
   "cell_type": "code",
   "execution_count": 187,
   "metadata": {
    "collapsed": false
   },
   "outputs": [
    {
     "data": {
      "image/png": "[encoded data removed]",
      "text/latex": [
       "$$\\frac{\\Omega_{2a}^{2} T^{2} c \\kappa^{2}}{2 \\Gamma_{21}^{2}} \\left(\\frac{\\Gamma_{21}^{2} c k^{2}}{8 \\Omega_{2a}^{2} \\kappa^{2}} - \\frac{\\Gamma_{21}^{2} \\gamma_{32}^{2}}{8 \\Omega_{2a}^{2} c \\kappa^{2}} - \\frac{\\Gamma_{21} \\gamma_{32}}{2 c \\kappa^{2}} + \\frac{\\Gamma_{21} \\gamma_{32}}{4 \\Omega_{2a}^{2}} - \\frac{\\Omega_{2a}^{2}}{2 c \\kappa^{2}} + k \\left(\\frac{i \\Gamma_{21}^{2} \\gamma_{32}}{4 \\Omega_{2a}^{2} \\kappa^{2}} + \\frac{i \\Gamma_{21}}{2 \\kappa^{2}} - \\frac{i \\Gamma_{21} c}{4 \\Omega_{2a}^{2}}\\right) - \\frac{1}{2} - \\frac{c \\kappa^{2}}{8 \\Omega_{2a}^{2}}\\right)$$"
      ],
      "text/plain": [
       "             ⎛   2    2       2    2                            2      ⎛     2\n",
       "   2  2    2 ⎜Γ₂₁ ⋅c⋅k     Γ₂₁ ⋅γ₃₂     Γ₂₁⋅γ₃₂   Γ₂₁⋅γ₃₂    Ω₂ₐ       ⎜ⅈ⋅Γ₂₁ \n",
       "Ω₂ₐ ⋅T ⋅c⋅κ ⋅⎜───────── - ─────────── - ─────── + ─────── - ────── + k⋅⎜──────\n",
       "             ⎜     2  2        2    2         2         2        2     ⎜     2\n",
       "             ⎝8⋅Ω₂ₐ ⋅κ    8⋅Ω₂ₐ ⋅c⋅κ     2⋅c⋅κ     4⋅Ω₂ₐ    2⋅c⋅κ      ⎝4⋅Ω₂ₐ \n",
       "──────────────────────────────────────────────────────────────────────────────\n",
       "                                                            2                 \n",
       "                                                       2⋅Γ₂₁                  \n",
       "\n",
       "                      ⎞           2 ⎞\n",
       "⋅γ₃₂   ⅈ⋅Γ₂₁   ⅈ⋅Γ₂₁⋅c⎟   1    c⋅κ  ⎟\n",
       "──── + ───── - ───────⎟ - ─ - ──────⎟\n",
       "  2        2         2⎟   2        2⎟\n",
       "⋅κ      2⋅κ     4⋅Ω₂ₐ ⎠       8⋅Ω₂ₐ ⎠\n",
       "─────────────────────────────────────\n",
       "                                     \n",
       "                                     "
      ]
     },
     "execution_count": 187,
     "metadata": {},
     "output_type": "execute_result"
    }
   ],
   "source": [
    "#arg1 = F_aux.args[1].args[0].args[0]**2\n",
    "arg1 = F_aux.args[5].args[0].args[0]**2\n",
    "fact1 = T**2*c/Gamma21**2*(kappa*Omega2a)**2*(sqrt(8)/4)**2\n",
    "#fact1 = T**2/16/Gamma21**2\n",
    "\n",
    "arg1_ = arg1/fact1\n",
    "arg1_ = arg1_.factor().expand()\n",
    "coefs1 = coeffs(arg1_, k, 2)\n",
    "arg1_= sum([coefs1[i]*k**i for i in reversed(range(3))])\n",
    "arg1_ = arg1_*fact1\n",
    "arg1_"
   ]
  },
  {
   "cell_type": "code",
   "execution_count": 188,
   "metadata": {
    "collapsed": false
   },
   "outputs": [
    {
     "data": {
      "image/png": "[encoded data removed]",
      "text/latex": [
       "$$\\frac{\\Gamma_{21}^{2} c k^{2}}{8 \\Omega_{2a}^{2} \\kappa^{2}} - \\frac{\\Gamma_{21}^{2} \\gamma_{32}^{2}}{8 \\Omega_{2a}^{2} c \\kappa^{2}} - \\frac{\\Gamma_{21} \\gamma_{32}}{2 c \\kappa^{2}} + \\frac{\\Gamma_{21} \\gamma_{32}}{4 \\Omega_{2a}^{2}} - \\frac{\\Omega_{2a}^{2}}{2 c \\kappa^{2}} + k \\left(\\frac{i \\Gamma_{21}^{2} \\gamma_{32}}{4 \\Omega_{2a}^{2} \\kappa^{2}} + \\frac{i \\Gamma_{21}}{2 \\kappa^{2}} - \\frac{i \\Gamma_{21} c}{4 \\Omega_{2a}^{2}}\\right) - \\frac{1}{2} - \\frac{c \\kappa^{2}}{8 \\Omega_{2a}^{2}}$$"
      ],
      "text/plain": [
       "   2    2       2    2                            2      ⎛     2              \n",
       "Γ₂₁ ⋅c⋅k     Γ₂₁ ⋅γ₃₂     Γ₂₁⋅γ₃₂   Γ₂₁⋅γ₃₂    Ω₂ₐ       ⎜ⅈ⋅Γ₂₁ ⋅γ₃₂   ⅈ⋅Γ₂₁  \n",
       "───────── - ─────────── - ─────── + ─────── - ────── + k⋅⎜────────── + ───── -\n",
       "     2  2        2    2         2         2        2     ⎜     2  2        2  \n",
       "8⋅Ω₂ₐ ⋅κ    8⋅Ω₂ₐ ⋅c⋅κ     2⋅c⋅κ     4⋅Ω₂ₐ    2⋅c⋅κ      ⎝4⋅Ω₂ₐ ⋅κ      2⋅κ   \n",
       "\n",
       "        ⎞           2 \n",
       " ⅈ⋅Γ₂₁⋅c⎟   1    c⋅κ  \n",
       " ───────⎟ - ─ - ──────\n",
       "       2⎟   2        2\n",
       "  4⋅Ω₂ₐ ⎠       8⋅Ω₂ₐ "
      ]
     },
     "execution_count": 188,
     "metadata": {},
     "output_type": "execute_result"
    }
   ],
   "source": [
    "# arg2 = 1/(F_aux.args[0]*F_aux.args[2])\n",
    "arg2 = 1/Mul(*F_aux.args[:-1])\n",
    "# fact2 = kappa**2*Omega2a**2/Gamma21**4/64/8* (8*c*kappa*Omega2a)**2\n",
    "fact2 = 1\n",
    "# fact2 = c*kappa**2*Omega2a**2/(64*Gamma21**4)\n",
    "\n",
    "arg2_ = arg2/fact2\n",
    "arg2_ = arg2_.factor().expand()\n",
    "\n",
    "coefs2 = coeffs(arg2_, k, 2)\n",
    "arg2_=sum([coefs2[i]*k**i for i in reversed(range(3))])\n",
    "arg2_ = arg2_*fact2\n",
    "\n",
    "arg2_"
   ]
  },
  {
   "cell_type": "markdown",
   "metadata": {},
   "source": [
    "We check that the manipulations haven't changed anything."
   ]
  },
  {
   "cell_type": "code",
   "execution_count": 189,
   "metadata": {
    "collapsed": false
   },
   "outputs": [
    {
     "data": {
      "image/png": "[encoded data removed]",
      "text/latex": [
       "$$\\left ( 0, \\quad 0\\right )$$"
      ],
      "text/plain": [
       "(0, 0)"
      ]
     },
     "execution_count": 189,
     "metadata": {},
     "output_type": "execute_result"
    }
   ],
   "source": [
    "(arg1-arg1_).expand(), (arg2-arg2_).expand()"
   ]
  },
  {
   "cell_type": "code",
   "execution_count": 190,
   "metadata": {
    "collapsed": false
   },
   "outputs": [],
   "source": [
    "arg1 = arg1_\n",
    "arg2 = arg2_"
   ]
  },
  {
   "cell_type": "code",
   "execution_count": 191,
   "metadata": {
    "collapsed": false
   },
   "outputs": [
    {
     "data": {
      "image/png": "[encoded data removed]",
      "text/latex": [
       "$$\\left \\{ \\tilde{C} : \\frac{\\Omega_{2a} T}{2} \\sqrt{2} \\sqrt{c} \\kappa \\sqrt{\\frac{1}{\\Gamma_{21}^{2}}}, \\quad Z{\\left (k \\right )} : \\sqrt{\\frac{\\Gamma_{21}^{2} c k^{2}}{8 \\Omega_{2a}^{2} \\kappa^{2}} - \\frac{\\Gamma_{21}^{2} \\gamma_{32}^{2}}{8 \\Omega_{2a}^{2} c \\kappa^{2}} - \\frac{\\Gamma_{21} \\gamma_{32}}{2 c \\kappa^{2}} + \\frac{\\Gamma_{21} \\gamma_{32}}{4 \\Omega_{2a}^{2}} - \\frac{\\Omega_{2a}^{2}}{2 c \\kappa^{2}} + k \\left(\\frac{i \\Gamma_{21}^{2} \\gamma_{32}}{4 \\Omega_{2a}^{2} \\kappa^{2}} + \\frac{i \\Gamma_{21}}{2 \\kappa^{2}} - \\frac{i \\Gamma_{21} c}{4 \\Omega_{2a}^{2}}\\right) - \\frac{1}{2} - \\frac{c \\kappa^{2}}{8 \\Omega_{2a}^{2}}}\\right \\}$$"
      ],
      "text/plain": [
       "⎧                              ______                                         \n",
       "⎪                             ╱  1                                            \n",
       "⎪           √2⋅Ω₂ₐ⋅T⋅√c⋅κ⋅   ╱  ────               ___________________________\n",
       "⎪                           ╱      2              ╱    2    2       2    2    \n",
       "⎨                         ╲╱    Γ₂₁              ╱  Γ₂₁ ⋅c⋅k     Γ₂₁ ⋅γ₃₂     \n",
       "⎪\\tilde{C}: ─────────────────────────, Z(k):    ╱   ───────── - ─────────── - \n",
       "⎪                       2                      ╱         2  2        2    2   \n",
       "⎪                                            ╲╱     8⋅Ω₂ₐ ⋅κ    8⋅Ω₂ₐ ⋅c⋅κ    \n",
       "⎩                                                                             \n",
       "\n",
       "                                                                           ⎫\n",
       "                                                                           ⎪\n",
       "___________________________________________________________________________⎪\n",
       "                        2      ⎛     2                      ⎞           2  ⎪\n",
       "Γ₂₁⋅γ₃₂   Γ₂₁⋅γ₃₂    Ω₂ₐ       ⎜ⅈ⋅Γ₂₁ ⋅γ₃₂   ⅈ⋅Γ₂₁   ⅈ⋅Γ₂₁⋅c⎟   1    c⋅κ   ⎬\n",
       "─────── + ─────── - ────── + k⋅⎜────────── + ───── - ───────⎟ - ─ - ────── ⎪\n",
       "      2         2        2     ⎜     2  2        2         2⎟   2        2 ⎪\n",
       " 2⋅c⋅κ     4⋅Ω₂ₐ    2⋅c⋅κ      ⎝4⋅Ω₂ₐ ⋅κ      2⋅κ     4⋅Ω₂ₐ ⎠       8⋅Ω₂ₐ  ⎪\n",
       "                                                                           ⎭"
      ]
     },
     "execution_count": 191,
     "metadata": {},
     "output_type": "execute_result"
    }
   ],
   "source": [
    "Ctilde = symbols(r\"\\tilde{C}\")\n",
    "Zk = Function(\"Z\")(k)\n",
    "\n",
    "ss_guillaume = {sqrt(arg1/fact1): Zk, sqrt(fact1): Ctilde}\n",
    "ss_guillaume_inv = {Zk: sqrt(arg1/fact1), Ctilde: sqrt(fact1)}\n",
    "ss_guillaume_inv"
   ]
  },
  {
   "cell_type": "code",
   "execution_count": 274,
   "metadata": {
    "collapsed": false
   },
   "outputs": [
    {
     "name": "stdout",
     "output_type": "stream",
     "text": [
      "zk += -1/2\n",
      "zk += k*(I*Gamma21**2*gamma32/(4*Omega_2a**2*kappa**2) + I*Gamma21/(2*kappa**2) - I*Gamma21*c/(4*Omega_2a**2))\n",
      "zk += -Omega_2a**2/(2*c*kappa**2)\n",
      "zk += -c*kappa**2/(8*Omega_2a**2)\n",
      "zk += Gamma21*gamma32/(4*Omega_2a**2)\n",
      "zk += -Gamma21*gamma32/(2*c*kappa**2)\n",
      "zk += -Gamma21**2*gamma32**2/(8*Omega_2a**2*c*kappa**2)\n",
      "zk += Gamma21**2*c*k**2/(8*Omega_2a**2*kappa**2)\n"
     ]
    }
   ],
   "source": [
    "aux = ss_guillaume_inv[Zk]**2\n",
    "for ii in aux.args:\n",
    "    ss = str(ii)\n",
    "    ss = ss.replace(\"Gamma_21\", \"Gamma21\")\n",
    "    ss = ss.replace(\"gamma_32\", \"gamma32\")\n",
    "    ss = ss.replace(\"Omega_2a\", \"gamma32\")\n",
    "    print \"zk += \"+ss"
   ]
  },
  {
   "cell_type": "code",
   "execution_count": null,
   "metadata": {
    "collapsed": true
   },
   "outputs": [],
   "source": []
  },
  {
   "cell_type": "code",
   "execution_count": 268,
   "metadata": {
    "collapsed": false
   },
   "outputs": [
    {
     "data": {
      "image/png": "[encoded data removed]",
      "text/latex": [
       "$$\\frac{\\Gamma_{21}^{2} c k^{2}}{8 \\Omega_{2a}^{2} \\kappa^{2}} - \\frac{\\Gamma_{21}^{2} \\gamma_{32}^{2}}{8 \\Omega_{2a}^{2} c \\kappa^{2}} - \\frac{\\Gamma_{21} \\gamma_{32}}{2 c \\kappa^{2}} + \\frac{\\Gamma_{21} \\gamma_{32}}{4 \\Omega_{2a}^{2}} - \\frac{\\Omega_{2a}^{2}}{2 c \\kappa^{2}} + k \\left(\\frac{i \\Gamma_{21}^{2} \\gamma_{32}}{4 \\Omega_{2a}^{2} \\kappa^{2}} + \\frac{i \\Gamma_{21}}{2 \\kappa^{2}} - \\frac{i \\Gamma_{21} c}{4 \\Omega_{2a}^{2}}\\right) - \\frac{1}{2} - \\frac{c \\kappa^{2}}{8 \\Omega_{2a}^{2}}$$"
      ],
      "text/plain": [
       "   2    2       2    2                            2      ⎛     2              \n",
       "Γ₂₁ ⋅c⋅k     Γ₂₁ ⋅γ₃₂     Γ₂₁⋅γ₃₂   Γ₂₁⋅γ₃₂    Ω₂ₐ       ⎜ⅈ⋅Γ₂₁ ⋅γ₃₂   ⅈ⋅Γ₂₁  \n",
       "───────── - ─────────── - ─────── + ─────── - ────── + k⋅⎜────────── + ───── -\n",
       "     2  2        2    2         2         2        2     ⎜     2  2        2  \n",
       "8⋅Ω₂ₐ ⋅κ    8⋅Ω₂ₐ ⋅c⋅κ     2⋅c⋅κ     4⋅Ω₂ₐ    2⋅c⋅κ      ⎝4⋅Ω₂ₐ ⋅κ      2⋅κ   \n",
       "\n",
       "        ⎞           2 \n",
       " ⅈ⋅Γ₂₁⋅c⎟   1    c⋅κ  \n",
       " ───────⎟ - ─ - ──────\n",
       "       2⎟   2        2\n",
       "  4⋅Ω₂ₐ ⎠       8⋅Ω₂ₐ "
      ]
     },
     "execution_count": 268,
     "metadata": {},
     "output_type": "execute_result"
    }
   ],
   "source": [
    "\n",
    "aaa = -1/Integer(2)-c*kappa**2/8/Omega2a**2 - Omega2a**2/2/c/kappa**2\n",
    "bbb = -Gamma21*gamma[2, 1]/2/c/kappa**2 + Gamma21*gamma[2, 1]/4/Omega2a**2\n",
    "#ccc = k*(I*Gamma21**2*gamma[2, 1]/4/Omega2a**2/kappa**2 + I*Gamma)\n",
    "aux1 = aux - aaa - bbb\n",
    "ccc = aux1.args[0]\n",
    "ddd = sum(aux1.args[1:])\n",
    "\n",
    "aux3 = Gamma21**2/Omega2a**2/c/kappa**2\n",
    "\n",
    "aaa = aaa.factor()/aux3\n",
    "bbb = bbb.factor()/aux3\n",
    "ccc = ccc.factor()/aux3\n",
    "ddd = ddd.factor()/aux3\n",
    "aux"
   ]
  },
  {
   "cell_type": "code",
   "execution_count": 269,
   "metadata": {
    "collapsed": false
   },
   "outputs": [
    {
     "data": {
      "image/png": "[encoded data removed]",
      "text/latex": [
       "$$\\frac{\\Gamma_{21}^{2}}{\\Omega_{2a}^{2} c \\kappa^{2}} \\left(\\frac{1}{8} \\left(c k - \\gamma_{32}\\right) \\left(c k + \\gamma_{32}\\right) - \\frac{i c k}{4 \\Gamma_{21}} \\left(- \\Gamma_{21} \\gamma_{32} - 2 \\Omega_{2a}^{2} + c \\kappa^{2}\\right) + \\frac{\\gamma_{32}}{4 \\Gamma_{21}} \\left(- 2 \\Omega_{2a}^{2} + c \\kappa^{2}\\right) - \\frac{1}{8 \\Gamma_{21}^{2}} \\left(2 \\Omega_{2a}^{2} + c \\kappa^{2}\\right)^{2}\\right)$$"
      ],
      "text/plain": [
       "     ⎛                                                                        \n",
       "     ⎜                                ⎛                2      2⎞       ⎛      \n",
       "   2 ⎜(c⋅k - γ₃₂)⋅(c⋅k + γ₃₂)   ⅈ⋅c⋅k⋅⎝-Γ₂₁⋅γ₃₂ - 2⋅Ω₂ₐ  + c⋅κ ⎠   γ₃₂⋅⎝- 2⋅Ω₂\n",
       "Γ₂₁ ⋅⎜─────────────────────── - ──────────────────────────────── + ───────────\n",
       "     ⎜           8                           4⋅Γ₂₁                         4⋅Γ\n",
       "     ⎝                                                                        \n",
       "──────────────────────────────────────────────────────────────────────────────\n",
       "                                                    2    2                    \n",
       "                                                 Ω₂ₐ ⋅c⋅κ                     \n",
       "\n",
       "                            2⎞\n",
       " 2      2⎞   ⎛     2      2⎞ ⎟\n",
       "ₐ  + c⋅κ ⎠   ⎝2⋅Ω₂ₐ  + c⋅κ ⎠ ⎟\n",
       "────────── - ────────────────⎟\n",
       "₂₁                     2     ⎟\n",
       "                  8⋅Γ₂₁      ⎠\n",
       "──────────────────────────────\n",
       "                              \n",
       "                              "
      ]
     },
     "execution_count": 269,
     "metadata": {},
     "output_type": "execute_result"
    }
   ],
   "source": [
    "aux2 = aux3*(aaa+bbb+ccc+ddd)\n",
    "\n",
    "aux2"
   ]
  },
  {
   "cell_type": "code",
   "execution_count": 266,
   "metadata": {
    "collapsed": false
   },
   "outputs": [
    {
     "data": {
      "image/png": "[encoded data removed]",
      "text/latex": [
       "$$0$$"
      ],
      "text/plain": [
       "0"
      ]
     },
     "execution_count": 266,
     "metadata": {},
     "output_type": "execute_result"
    }
   ],
   "source": [
    "(aux2-aux).expand()"
   ]
  },
  {
   "cell_type": "code",
   "execution_count": 267,
   "metadata": {
    "collapsed": false
   },
   "outputs": [
    {
     "data": {
      "image/png": "[encoded data removed]",
      "text/latex": [
       "$$\\frac{\\Gamma_{21}}{\\Omega_{2a}^{2} c \\kappa^{2}}$$"
      ],
      "text/plain": [
       "   Γ₂₁   \n",
       "─────────\n",
       "   2    2\n",
       "Ω₂ₐ ⋅c⋅κ "
      ]
     },
     "execution_count": 267,
     "metadata": {},
     "output_type": "execute_result"
    }
   ],
   "source": [
    "aux3"
   ]
  },
  {
   "cell_type": "code",
   "execution_count": null,
   "metadata": {
    "collapsed": true
   },
   "outputs": [],
   "source": []
  },
  {
   "cell_type": "markdown",
   "metadata": {},
   "source": [
    "Which is what we were looking for."
   ]
  },
  {
   "cell_type": "code",
   "execution_count": 192,
   "metadata": {
    "collapsed": false
   },
   "outputs": [
    {
     "data": {
      "image/png": "[encoded data removed]",
      "text/latex": [
       "$$\\left \\{ \\tilde{C} : \\frac{\\sqrt{2} \\Omega_{2a} T \\kappa}{2 \\sqrt{\\Gamma_{21}^{2}}} \\sqrt{c}\\right \\}$$"
      ],
      "text/plain": [
       "⎧           √2⋅Ω₂ₐ⋅T⋅√c⋅κ⎫\n",
       "⎪\\tilde{C}: ─────────────⎪\n",
       "⎨                 ______ ⎬\n",
       "⎪                ╱    2  ⎪\n",
       "⎩            2⋅╲╱  Γ₂₁   ⎭"
      ]
     },
     "execution_count": 192,
     "metadata": {},
     "output_type": "execute_result"
    }
   ],
   "source": [
    "ss_Ctilde"
   ]
  },
  {
   "cell_type": "code",
   "execution_count": 193,
   "metadata": {
    "collapsed": false
   },
   "outputs": [
    {
     "data": {
      "image/png": "[encoded data removed]",
      "text/latex": [
       "$$Z^{2}{\\left (k \\right )}$$"
      ],
      "text/plain": [
       " 2   \n",
       "Z (k)"
      ]
     },
     "execution_count": 193,
     "metadata": {},
     "output_type": "execute_result"
    }
   ],
   "source": [
    "den = arg2*(Zk/ss_guillaume_inv[Zk])**2\n",
    "den = den.factor()\n",
    "#den = den*(Ctilde/ss_guillaume_inv[Ctilde])**2\n",
    "den"
   ]
  },
  {
   "cell_type": "code",
   "execution_count": 194,
   "metadata": {
    "collapsed": false
   },
   "outputs": [
    {
     "data": {
      "image/png": "[encoded data removed]",
      "text/latex": [
       "$$\\frac{\\sin^{2}{\\left (\\tilde{C} Z{\\left (k \\right )} \\right )}}{Z^{2}{\\left (k \\right )}} e^{2 i T \\sigma}$$"
      ],
      "text/plain": [
       " 2⋅ⅈ⋅T⋅σ    2                \n",
       "ℯ       ⋅sin (\\tilde{C}⋅Z(k))\n",
       "─────────────────────────────\n",
       "             2               \n",
       "            Z (k)            "
      ]
     },
     "execution_count": 194,
     "metadata": {},
     "output_type": "execute_result"
    }
   ],
   "source": [
    "F_guillaume = sin(Ctilde*Zk)**2/den*exp(2*I*T*sigma)\n",
    "F_guillaume"
   ]
  },
  {
   "cell_type": "markdown",
   "metadata": {},
   "source": [
    "We check that the manipulations haven't changed anything."
   ]
  },
  {
   "cell_type": "code",
   "execution_count": 195,
   "metadata": {
    "collapsed": false
   },
   "outputs": [
    {
     "data": {
      "image/png": "[encoded data removed]",
      "text/latex": [
       "$$\\frac{T^{2}}{16 \\Gamma_{21}^{2}} \\left(\\Gamma_{21}^{2} c^{2} k^{2} + 2 i \\Gamma_{21}^{2} c \\gamma_{32} k - \\Gamma_{21}^{2} \\gamma_{32}^{2} + 4 i \\Gamma_{21} \\Omega_{2a}^{2} c k - 4 \\Gamma_{21} \\Omega_{2a}^{2} \\gamma_{32} - 2 i \\Gamma_{21} c^{2} k \\kappa^{2} + 2 \\Gamma_{21} c \\gamma_{32} \\kappa^{2} - 4 \\Omega_{2a}^{4} - 8 \\Omega_{2a}^{2} Z^{2} c \\kappa^{2} - 4 \\Omega_{2a}^{2} c \\kappa^{2} - c^{2} \\kappa^{4}\\right)$$"
      ],
      "text/plain": [
       " 2 ⎛   2  2  2          2              2    2              2                2 \n",
       "T ⋅⎝Γ₂₁ ⋅c ⋅k  + 2⋅ⅈ⋅Γ₂₁ ⋅c⋅γ₃₂⋅k - Γ₂₁ ⋅γ₃₂  + 4⋅ⅈ⋅Γ₂₁⋅Ω₂ₐ ⋅c⋅k - 4⋅Γ₂₁⋅Ω₂ₐ ⋅\n",
       "──────────────────────────────────────────────────────────────────────────────\n",
       "                                                                              \n",
       "                                                                              \n",
       "\n",
       "               2    2                2        4        2  2    2        2    2\n",
       "γ₃₂ - 2⋅ⅈ⋅Γ₂₁⋅c ⋅k⋅κ  + 2⋅Γ₂₁⋅c⋅γ₃₂⋅κ  - 4⋅Ω₂ₐ  - 8⋅Ω₂ₐ ⋅Z ⋅c⋅κ  - 4⋅Ω₂ₐ ⋅c⋅κ \n",
       "──────────────────────────────────────────────────────────────────────────────\n",
       "       2                                                                      \n",
       " 16⋅Γ₂₁                                                                       \n",
       "\n",
       "    2  4⎞\n",
       " - c ⋅κ ⎠\n",
       "─────────\n",
       "         \n",
       "         "
      ]
     },
     "execution_count": 195,
     "metadata": {},
     "output_type": "execute_result"
    }
   ],
   "source": [
    "#F_guillaume2=F_guillaume.subs(ss_guillaume_inv).expand()\n",
    "#arg_gui1 = F_guillaume2.args[3].args[0].args[0]\n",
    "\n",
    "arg_gui1 = (Z*Ctilde).subs(ss_guillaume_inv)\n",
    "arg_gui1 = arg_gui1**2\n",
    "\n",
    "F_aux2 = Fk.subs(sigma, 0).subs(ss_amazing1).subs(ss_M_inv).expand()\n",
    "arg_aux1 = F_aux.args[5].args[0].args[0]#F_aux2.args[4].args[0].args[0]\n",
    "arg_aux1 = arg_aux1**2\n",
    "\n",
    "(arg_aux1-arg_gui1).expand().factor()"
   ]
  },
  {
   "cell_type": "code",
   "execution_count": 196,
   "metadata": {
    "collapsed": false
   },
   "outputs": [
    {
     "data": {
      "image/png": "[encoded data removed]",
      "text/latex": [
       "$$\\frac{\\Gamma_{21}^{2} c k^{2}}{4 \\Omega_{2a}^{2} \\kappa^{2}} + \\frac{i \\Gamma_{21}^{2} \\gamma_{32} k}{2 \\Omega_{2a}^{2} \\kappa^{2}} - \\frac{\\Gamma_{21}^{2} \\gamma_{32}^{2}}{4 \\Omega_{2a}^{2} c \\kappa^{2}} + \\frac{i \\Gamma_{21}}{\\kappa^{2}} k - \\frac{\\Gamma_{21} \\gamma_{32}}{c \\kappa^{2}} - \\frac{i \\Gamma_{21} c k}{2 \\Omega_{2a}^{2}} + \\frac{\\Gamma_{21} \\gamma_{32}}{2 \\Omega_{2a}^{2}} - \\frac{\\Omega_{2a}^{2}}{c \\kappa^{2}} - 1 - \\frac{c \\kappa^{2}}{4 \\Omega_{2a}^{2}}$$"
      ],
      "text/plain": [
       "   2    2        2             2    2                                         \n",
       "Γ₂₁ ⋅c⋅k    ⅈ⋅Γ₂₁ ⋅γ₃₂⋅k    Γ₂₁ ⋅γ₃₂     ⅈ⋅Γ₂₁⋅k   Γ₂₁⋅γ₃₂   ⅈ⋅Γ₂₁⋅c⋅k   Γ₂₁⋅γ\n",
       "───────── + ──────────── - ─────────── + ─────── - ─────── - ───────── + ─────\n",
       "     2  2         2  2          2    2       2          2           2         \n",
       "4⋅Ω₂ₐ ⋅κ     2⋅Ω₂ₐ ⋅κ      4⋅Ω₂ₐ ⋅c⋅κ       κ        c⋅κ       2⋅Ω₂ₐ      2⋅Ω₂\n",
       "\n",
       "        2           2 \n",
       "₃₂   Ω₂ₐ         c⋅κ  \n",
       "── - ──── - 1 - ──────\n",
       " 2      2            2\n",
       "ₐ    c⋅κ        4⋅Ω₂ₐ "
      ]
     },
     "execution_count": 196,
     "metadata": {},
     "output_type": "execute_result"
    }
   ],
   "source": [
    "arg_gui2 = -Zk**2\n",
    "arg_gui2 = arg_gui2.subs(ss_guillaume_inv).expand()\n",
    "\n",
    "arg_aux2 = 1/Mul(*F_aux.args[:-1])\n",
    "#arg_aux2 = arg_aux2.subs(ss_amazing1).subs(ss_M_inv)\n",
    "#arg_aux2 = (1/arg_aux2).expand()\n",
    "\n",
    "(arg_aux2-arg_gui2).expand()"
   ]
  },
  {
   "cell_type": "markdown",
   "metadata": {},
   "source": [
    "# Decoherence\n",
    "Solving the second equation in the abscence of a control field we obtain a spin wave proportional to"
   ]
  },
  {
   "cell_type": "code",
   "execution_count": 197,
   "metadata": {
    "collapsed": false
   },
   "outputs": [
    {
     "data": {
      "image/png": "[encoded data removed]",
      "text/latex": [
       "$$e^{i \\Delta t v_{Z}}$$"
      ],
      "text/plain": [
       " ⅈ⋅Δ⋅t⋅v_Z\n",
       "ℯ         "
      ]
     },
     "execution_count": 197,
     "metadata": {},
     "output_type": "execute_result"
    }
   ],
   "source": [
    "Delta, sigma = symbols(\"Delta sigma\", positive=True)\n",
    "f = exp(I*Delta*t*vZ)\n",
    "f"
   ]
  },
  {
   "cell_type": "code",
   "execution_count": 198,
   "metadata": {
    "collapsed": false
   },
   "outputs": [
    {
     "data": {
      "image/png": "[encoded data removed]",
      "text/latex": [
       "$$\\frac{\\sqrt{2} e^{- \\frac{v_{Z}^{2}}{2 \\sigma^{2}}}}{2 \\sqrt{\\pi} \\sigma}$$"
      ],
      "text/plain": [
       "        2 \n",
       "    -v_Z  \n",
       "    ──────\n",
       "        2 \n",
       "     2⋅σ  \n",
       "√2⋅ℯ      \n",
       "──────────\n",
       "  2⋅√π⋅σ  "
      ]
     },
     "execution_count": 198,
     "metadata": {},
     "output_type": "execute_result"
    }
   ],
   "source": [
    "g=1/sqrt(2*pi)/sigma*exp(-(vZ/sigma)**2/2)\n",
    "g"
   ]
  },
  {
   "cell_type": "code",
   "execution_count": 199,
   "metadata": {
    "collapsed": false
   },
   "outputs": [
    {
     "data": {
      "image/png": "[encoded data removed]",
      "text/latex": [
       "$$e^{- \\frac{\\Delta^{2} t^{2}}{2} \\sigma^{2}}$$"
      ],
      "text/plain": [
       "   2  2  2 \n",
       " -Δ ⋅σ ⋅t  \n",
       " ──────────\n",
       "     2     \n",
       "ℯ          "
      ]
     },
     "execution_count": 199,
     "metadata": {},
     "output_type": "execute_result"
    }
   ],
   "source": [
    "Doppler_decoherence=integrate(g*f, (vZ, -oo, oo)).factor()\n",
    "Doppler_decoherence"
   ]
  },
  {
   "cell_type": "code",
   "execution_count": 200,
   "metadata": {
    "collapsed": false
   },
   "outputs": [
    {
     "data": {
      "image/png": "[encoded data removed]",
      "text/latex": [
       "$$e^{- \\frac{\\gamma_{32} t}{2}} e^{- \\frac{\\Delta^{2} t^{2}}{2} \\sigma^{2}}$$"
      ],
      "text/plain": [
       "            2  2  2 \n",
       " -γ₃₂⋅t   -Δ ⋅σ ⋅t  \n",
       " ───────  ──────────\n",
       "    2         2     \n",
       "ℯ       ⋅ℯ          "
      ]
     },
     "execution_count": 200,
     "metadata": {},
     "output_type": "execute_result"
    }
   ],
   "source": [
    "decoherence = Doppler_decoherence*exp(-gamma[2, 1]*t/2)\n",
    "decoherence"
   ]
  },
  {
   "cell_type": "code",
   "execution_count": 201,
   "metadata": {
    "collapsed": false
   },
   "outputs": [
    {
     "data": {
      "image/png": "[encoded data removed]",
      "text/latex": [
       "$$\\left [ - \\frac{1}{\\Delta \\sigma}, \\quad \\frac{1}{\\Delta \\sigma}\\right ]$$"
      ],
      "text/plain": [
       "⎡-1    1 ⎤\n",
       "⎢───, ───⎥\n",
       "⎣Δ⋅σ  Δ⋅σ⎦"
      ]
     },
     "execution_count": 201,
     "metadata": {},
     "output_type": "execute_result"
    }
   ],
   "source": [
    "solve(log(Doppler_decoherence**2)+1, t)"
   ]
  },
  {
   "cell_type": "code",
   "execution_count": 202,
   "metadata": {
    "collapsed": false
   },
   "outputs": [
    {
     "data": {
      "image/png": "[encoded data removed]",
      "text/latex": [
       "$$\\left [ \\frac{1}{2 \\Delta^{2} \\sigma^{2}} \\left(- \\gamma_{32} + \\sqrt{4 \\Delta^{2} \\sigma^{2} + \\gamma_{32}^{2}}\\right), \\quad - \\frac{1}{2 \\Delta^{2} \\sigma^{2}} \\left(\\gamma_{32} + \\sqrt{4 \\Delta^{2} \\sigma^{2} + \\gamma_{32}^{2}}\\right)\\right ]$$"
      ],
      "text/plain": [
       "⎡          ________________   ⎛         ________________⎞ ⎤\n",
       "⎢         ╱    2  2      2    ⎜        ╱    2  2      2 ⎟ ⎥\n",
       "⎢-γ₃₂ + ╲╱  4⋅Δ ⋅σ  + γ₃₂    -⎝γ₃₂ + ╲╱  4⋅Δ ⋅σ  + γ₃₂  ⎠ ⎥\n",
       "⎢──────────────────────────, ─────────────────────────────⎥\n",
       "⎢            2  2                          2  2           ⎥\n",
       "⎣         2⋅Δ ⋅σ                        2⋅Δ ⋅σ            ⎦"
      ]
     },
     "execution_count": 202,
     "metadata": {},
     "output_type": "execute_result"
    }
   ],
   "source": [
    "solve(log(decoherence**2)+1, t)"
   ]
  },
  {
   "cell_type": "code",
   "execution_count": 203,
   "metadata": {
    "collapsed": true
   },
   "outputs": [],
   "source": [
    "A, B, C = symbols(\"A, B, C\")\n",
    "omega87, omega97 = symbols(\"omega87, omega97\", positive=True)"
   ]
  },
  {
   "cell_type": "code",
   "execution_count": 204,
   "metadata": {
    "collapsed": false
   },
   "outputs": [
    {
     "data": {
      "image/png": "[encoded data removed]",
      "text/latex": [
       "$$\\frac{e^{- \\frac{\\gamma_{32} t}{2}} e^{- \\frac{\\Delta^{2} t^{2}}{2} \\sigma^{2}}}{A + B + C} \\left(A + B e^{i \\omega_{87} t} + C e^{i \\omega_{97} t}\\right)$$"
      ],
      "text/plain": [
       "                                          2  2  2 \n",
       "                               -γ₃₂⋅t   -Δ ⋅σ ⋅t  \n",
       "                               ───────  ──────────\n",
       "⎛       ⅈ⋅ω₈₇⋅t      ⅈ⋅ω₉₇⋅t⎞     2         2     \n",
       "⎝A + B⋅ℯ        + C⋅ℯ       ⎠⋅ℯ       ⋅ℯ          \n",
       "──────────────────────────────────────────────────\n",
       "                    A + B + C                     "
      ]
     },
     "execution_count": 204,
     "metadata": {},
     "output_type": "execute_result"
    }
   ],
   "source": [
    "decoherence_hfs = decoherence*(A+B*exp(I*omega87*t)+C*exp(I*omega97*t))/(A+B+C)\n",
    "decoherence_hfs"
   ]
  },
  {
   "cell_type": "code",
   "execution_count": 205,
   "metadata": {
    "collapsed": false
   },
   "outputs": [
    {
     "data": {
      "image/png": "[encoded data removed]",
      "text/latex": [
       "$$\\frac{e^{- \\gamma_{32} t} e^{- \\Delta^{2} \\sigma^{2} t^{2}}}{\\left(A + B + C\\right) \\left(\\overline{A} + \\overline{B} + \\overline{C}\\right)} \\left(A + B e^{i \\omega_{87} t} + C e^{i \\omega_{97} t}\\right) \\left(\\overline{A} + e^{- i \\omega_{97} t} \\overline{C} + e^{- i \\omega_{87} t} \\overline{B}\\right)$$"
      ],
      "text/plain": [
       "                                                                         2  2 \n",
       "⎛       ⅈ⋅ω₈₇⋅t      ⅈ⋅ω₉₇⋅t⎞ ⎛_    -ⅈ⋅ω₉₇⋅t _    -ⅈ⋅ω₈₇⋅t _⎞  -γ₃₂⋅t  -Δ ⋅σ ⋅\n",
       "⎝A + B⋅ℯ        + C⋅ℯ       ⎠⋅⎝A + ℯ        ⋅C + ℯ        ⋅B⎠⋅ℯ      ⋅ℯ       \n",
       "──────────────────────────────────────────────────────────────────────────────\n",
       "                                        ⎛_   _   _⎞                           \n",
       "                            (A + B + C)⋅⎝A + B + C⎠                           \n",
       "\n",
       " 2\n",
       "t \n",
       "  \n",
       "──\n",
       "  \n",
       "  "
      ]
     },
     "execution_count": 205,
     "metadata": {},
     "output_type": "execute_result"
    }
   ],
   "source": [
    "eta_hfs = decoherence_hfs*decoherence_hfs.conjugate()\n",
    "eta_hfs"
   ]
  },
  {
   "cell_type": "code",
   "execution_count": 206,
   "metadata": {
    "collapsed": true
   },
   "outputs": [],
   "source": [
    "D = symbols(\"D\", positive=True)"
   ]
  },
  {
   "cell_type": "code",
   "execution_count": 207,
   "metadata": {
    "collapsed": false
   },
   "outputs": [
    {
     "data": {
      "image/png": "[encoded data removed]",
      "text/latex": [
       "$$A e^{- \\gamma_{32} t} e^{- \\Delta^{2} \\sigma^{2} t^{2}} \\overline{A} + A e^{- \\gamma_{32} t} e^{- i \\omega_{97} t} e^{- \\Delta^{2} \\sigma^{2} t^{2}} \\overline{C} + A e^{- \\gamma_{32} t} e^{- i \\omega_{87} t} e^{- \\Delta^{2} \\sigma^{2} t^{2}} \\overline{B} + B e^{- \\gamma_{32} t} e^{i \\omega_{87} t} e^{- \\Delta^{2} \\sigma^{2} t^{2}} \\overline{A} + B e^{- \\gamma_{32} t} e^{i \\omega_{87} t} e^{- i \\omega_{97} t} e^{- \\Delta^{2} \\sigma^{2} t^{2}} \\overline{C} + B e^{- \\gamma_{32} t} e^{- \\Delta^{2} \\sigma^{2} t^{2}} \\overline{B} + C e^{- \\gamma_{32} t} e^{i \\omega_{97} t} e^{- \\Delta^{2} \\sigma^{2} t^{2}} \\overline{A} + C e^{- \\gamma_{32} t} e^{- \\Delta^{2} \\sigma^{2} t^{2}} \\overline{C} + C e^{- \\gamma_{32} t} e^{- i \\omega_{87} t} e^{i \\omega_{97} t} e^{- \\Delta^{2} \\sigma^{2} t^{2}} \\overline{B} - \\frac{D}{e}$$"
      ],
      "text/plain": [
       "             2  2  2                            2  2  2                       \n",
       "   -γ₃₂⋅t  -Δ ⋅σ ⋅t  _      -γ₃₂⋅t  -ⅈ⋅ω₉₇⋅t  -Δ ⋅σ ⋅t  _      -γ₃₂⋅t  -ⅈ⋅ω₈₇⋅\n",
       "A⋅ℯ      ⋅ℯ         ⋅A + A⋅ℯ      ⋅ℯ        ⋅ℯ         ⋅C + A⋅ℯ      ⋅ℯ       \n",
       "\n",
       "     2  2  2                           2  2  2                                \n",
       "t  -Δ ⋅σ ⋅t  _      -γ₃₂⋅t  ⅈ⋅ω₈₇⋅t  -Δ ⋅σ ⋅t  _      -γ₃₂⋅t  ⅈ⋅ω₈₇⋅t  -ⅈ⋅ω₉₇⋅\n",
       " ⋅ℯ         ⋅B + B⋅ℯ      ⋅ℯ       ⋅ℯ         ⋅A + B⋅ℯ      ⋅ℯ       ⋅ℯ       \n",
       "\n",
       "     2  2  2                  2  2  2                           2  2  2       \n",
       "t  -Δ ⋅σ ⋅t  _      -γ₃₂⋅t  -Δ ⋅σ ⋅t  _      -γ₃₂⋅t  ⅈ⋅ω₉₇⋅t  -Δ ⋅σ ⋅t  _     \n",
       " ⋅ℯ         ⋅C + B⋅ℯ      ⋅ℯ         ⋅B + C⋅ℯ      ⋅ℯ       ⋅ℯ         ⋅A + C⋅\n",
       "\n",
       "           2  2  2                                     2  2  2          \n",
       " -γ₃₂⋅t  -Δ ⋅σ ⋅t  _      -γ₃₂⋅t  -ⅈ⋅ω₈₇⋅t  ⅈ⋅ω₉₇⋅t  -Δ ⋅σ ⋅t  _      -1\n",
       "ℯ      ⋅ℯ         ⋅C + C⋅ℯ      ⋅ℯ        ⋅ℯ       ⋅ℯ         ⋅B - D⋅ℯ  "
      ]
     },
     "execution_count": 207,
     "metadata": {},
     "output_type": "execute_result"
    }
   ],
   "source": [
    "eq = eta_hfs\n",
    "eq = eq.subs({(A+B+C)*(A+B+C).conjugate(): 1}) -exp(-1)*D\n",
    "eq = eq.expand()\n",
    "eq"
   ]
  },
  {
   "cell_type": "markdown",
   "metadata": {},
   "source": [
    "[1]  H.J. Metcalf and P. van der Straten. Laser Cooling and Trapping. Graduate Texts in Contempo-\n",
    "rary Physics. Springer New York, 2001.\n",
    "\n",
    "[2] Daniel Adam Steck. Quantum and Atom Optics. Oregon Center for Optics and Department of Physics, University of Oregon Copyright © 200"
   ]
  },
  {
   "cell_type": "code",
   "execution_count": null,
   "metadata": {
    "collapsed": true
   },
   "outputs": [],
   "source": []
  },
  {
   "cell_type": "code",
   "execution_count": 208,
   "metadata": {
    "collapsed": false
   },
   "outputs": [
    {
     "data": {
      "image/png": "[encoded data removed]",
      "text/latex": [
       "$$\\left ( A_{1} e^{- \\frac{\\left(t - \\tau_{1}\\right)^{2}}{2 \\sigma_{1}^{2}}}, \\quad A_{2} e^{- \\frac{t^{2}}{2 \\sigma_{2}^{2}}}\\right )$$"
      ],
      "text/plain": [
       "⎛             2          2 ⎞\n",
       "⎜    -(t - τ₁)         -t  ⎟\n",
       "⎜    ───────────      ─────⎟\n",
       "⎜           2             2⎟\n",
       "⎜       2⋅σ₁          2⋅σ₂ ⎟\n",
       "⎝A₁⋅ℯ           , A₂⋅ℯ     ⎠"
      ]
     },
     "execution_count": 208,
     "metadata": {},
     "output_type": "execute_result"
    }
   ],
   "source": [
    "from sympy import integrate\n",
    "sig = symbols(\"sigma1:3\", positive=True)\n",
    "tau = symbols(\"tau1:3\", positive=True)\n",
    "A = symbols(\"A1:3\", positive=True)\n",
    "t, tp = symbols(\"t, t'\", real=True)\n",
    "\n",
    "g1 = A[0]*exp(-((t-tau[0])/sig[0])**2/2)\n",
    "g2 = A[1]*exp(-((t-tau[1])/sig[1])**2/2).subs(tau[1], 0)\n",
    "g1, g2"
   ]
  },
  {
   "cell_type": "code",
   "execution_count": 209,
   "metadata": {
    "collapsed": false
   },
   "outputs": [
    {
     "data": {
      "image/png": "[encoded data removed]",
      "text/latex": [
       "$$\\frac{\\sqrt{2} \\sqrt{\\pi} A_{1} A_{2} \\sigma_{1} \\sigma_{2}}{\\sqrt{\\sigma_{1}^{2} + \\sigma_{2}^{2}}} e^{\\frac{1}{2 \\sigma_{2}^{2}} \\left(\\frac{\\sigma_{1}^{2} \\left(t - \\tau_{1}\\right)^{2}}{\\sigma_{1}^{2} + \\sigma_{2}^{2}} - t^{2} + 2 t \\tau_{1} - \\tau_{1}^{2}\\right)}$$"
      ],
      "text/plain": [
       "                     2         2                    \n",
       "                   σ₁ ⋅(t - τ₁)     2              2\n",
       "                   ───────────── - t  + 2⋅t⋅τ₁ - τ₁ \n",
       "                       2     2                      \n",
       "                     σ₁  + σ₂                       \n",
       "                   ─────────────────────────────────\n",
       "                                     2              \n",
       "                                 2⋅σ₂               \n",
       "√2⋅√π⋅A₁⋅A₂⋅σ₁⋅σ₂⋅ℯ                                 \n",
       "────────────────────────────────────────────────────\n",
       "                      ___________                   \n",
       "                     ╱   2     2                    \n",
       "                   ╲╱  σ₁  + σ₂                     "
      ]
     },
     "execution_count": 209,
     "metadata": {},
     "output_type": "execute_result"
    }
   ],
   "source": [
    "con = integrate(g1.subs(t, tp)*g2.subs(t, t-tp), (tp, -oo, oo))\n",
    "con = simplify(con)\n",
    "con"
   ]
  },
  {
   "cell_type": "code",
   "execution_count": 210,
   "metadata": {
    "collapsed": false
   },
   "outputs": [
    {
     "data": {
      "image/png": "[encoded data removed]",
      "text/latex": [
       "$$- \\frac{c}{2} \\frac{\\partial}{\\partial Z} S{\\left (\\tau,Z \\right )} - \\frac{c \\kappa^{2}}{2 \\Gamma_{21}} S{\\left (t,Z \\right )} + \\frac{i c \\kappa}{2 \\Gamma_{21}} B{\\left (t,Z \\right )} \\overline{\\Omega_{2}{\\left (t,Z \\right )}}$$"
      ],
      "text/plain": [
       "    ∂                                                  \n",
       "  c⋅──(S(τ, Z))      2                         ________\n",
       "    ∂Z            c⋅κ ⋅S(t, Z)   ⅈ⋅c⋅κ⋅B(t, Z)⋅Ω₂(t, Z)\n",
       "- ───────────── - ──────────── + ──────────────────────\n",
       "        2            2⋅Γ₂₁               2⋅Γ₂₁         "
      ]
     },
     "execution_count": 210,
     "metadata": {},
     "output_type": "execute_result"
    }
   ],
   "source": [
    "aa = con.args[-1].args[0]\n",
    "aaa = aa.factor()\n",
    "aux.subs(aa, aaa)"
   ]
  },
  {
   "cell_type": "code",
   "execution_count": 211,
   "metadata": {
    "collapsed": false
   },
   "outputs": [
    {
     "data": {
      "image/png": "[encoded data removed]",
      "text/latex": [
       "$$\\left \\{ A_{1} : 1.0, \\quad A_{2} : 2.0, \\quad \\sigma_{1} : 1.0, \\quad \\sigma_{2} : 0.5, \\quad \\tau_{1} : 1.0\\right \\}$$"
      ],
      "text/plain": [
       "{A₁: 1.0, A₂: 2.0, σ₁: 1.0, σ₂: 0.5, τ₁: 1.0}"
      ]
     },
     "execution_count": 211,
     "metadata": {},
     "output_type": "execute_result"
    }
   ],
   "source": [
    "ss = {sig[0]: 1.0, sig[1]: 0.5, A[0]: 1.0, A[1]: 2.0, tau[0]: 1.0}\n",
    "ss"
   ]
  },
  {
   "cell_type": "code",
   "execution_count": 212,
   "metadata": {
    "collapsed": false
   },
   "outputs": [],
   "source": [
    "import numpy as np\n",
    "from matplotlib import pyplot as plt\n",
    "%matplotlib inline\n",
    "ts = np.linspace(-10, 10, 1000)\n",
    "dt = ts[1]-ts[0]\n",
    "g1s = g1.subs(ss)\n",
    "g1s = [g1s.subs(t, ti) for ti in ts]\n",
    "g2s = g2.subs(ss)\n",
    "g2s = [g2s.subs(t, ti) for ti in ts]\n",
    "\n",
    "g1g2s = con.subs(ss)\n",
    "g1g2s = [g1g2s.subs(t, ti) for ti in ts]\n",
    "\n",
    "g1g2ss = np.convolve(g1s, g2s, mode=\"same\")*dt"
   ]
  },
  {
   "cell_type": "code",
   "execution_count": 213,
   "metadata": {
    "collapsed": false
   },
   "outputs": [
    {
     "data": {
      "text/plain": [
       "[<matplotlib.lines.Line2D at 0x7f1c097e4b90>]"
      ]
     },
     "execution_count": 213,
     "metadata": {},
     "output_type": "execute_result"
    },
    {
     "data": {
      "image/png": "[encoded data removed]",
      "text/plain": [
       "<matplotlib.figure.Figure at 0x7f1c09a7c590>"
      ]
     },
     "metadata": {},
     "output_type": "display_data"
    }
   ],
   "source": [
    "plt.figure(figsize=(10, 8))\n",
    "plt.plot(ts, g1s)\n",
    "plt.plot(ts, g2s)\n",
    "plt.plot(ts, g1g2s, \"b:\")\n",
    "plt.plot(ts, g1g2ss, \"r-\")"
   ]
  },
  {
   "cell_type": "code",
   "execution_count": null,
   "metadata": {
    "collapsed": true
   },
   "outputs": [],
   "source": []
  },
  {
   "cell_type": "code",
   "execution_count": null,
   "metadata": {
    "collapsed": true
   },
   "outputs": [],
   "source": []
  }
 ],
 "metadata": {
  "anaconda-cloud": {},
  "kernelspec": {
   "display_name": "Python 2",
   "language": "python",
   "name": "python2"
  },
  "language_info": {
   "codemirror_mode": {
    "name": "ipython",
    "version": 2
   },
   "file_extension": ".py",
   "mimetype": "text/x-python",
   "name": "python",
   "nbconvert_exporter": "python",
   "pygments_lexer": "ipython2",
   "version": "2.7.13"
  }
 },
 "nbformat": 4,
 "nbformat_minor": 0
}
