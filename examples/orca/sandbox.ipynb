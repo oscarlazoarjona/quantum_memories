{
 "cells": [
  {
   "cell_type": "code",
   "execution_count": 27,
   "metadata": {
    "collapsed": true
   },
   "outputs": [],
   "source": [
    "from sympy import init_printing, integrate, oo, symbols, exp, sqrt, pi, I"
   ]
  },
  {
   "cell_type": "code",
   "execution_count": 48,
   "metadata": {
    "collapsed": false
   },
   "outputs": [
    {
     "data": {
      "image/png": "[encoded data removed]",
      "text/latex": [
       "$$\\frac{e^{- \\frac{z^{2}}{2 \\sigma_{z}^{2}}}}{\\sqrt[4]{\\pi} \\sqrt{\\sigma_{z}}}$$"
      ],
      "text/plain": [
       "       2     \n",
       "     -z      \n",
       "    ──────   \n",
       "         2   \n",
       "    2⋅σ_z    \n",
       "   ℯ         \n",
       "─────────────\n",
       "4 ___   _____\n",
       "╲╱ π ⋅╲╱ σ_z "
      ]
     },
     "execution_count": 48,
     "metadata": {},
     "output_type": "execute_result"
    }
   ],
   "source": [
    "init_printing()\n",
    "z, xi, k, kmin = symbols(\"z, xi, k, k_min\", real=True)\n",
    "sigz, c = symbols(\"sigma_z, c\", positive=True)\n",
    "\n",
    "S = exp(-(z/sigz)**2/2)/sqrt(sqrt(pi)*sigz)\n",
    "S"
   ]
  },
  {
   "cell_type": "code",
   "execution_count": 49,
   "metadata": {
    "collapsed": false
   },
   "outputs": [
    {
     "data": {
      "image/png": "[encoded data removed]",
      "text/latex": [
       "$$1$$"
      ],
      "text/plain": [
       "1"
      ]
     },
     "execution_count": 49,
     "metadata": {},
     "output_type": "execute_result"
    }
   ],
   "source": [
    "integrate(S**2, (z, -oo, oo))"
   ]
  },
  {
   "cell_type": "code",
   "execution_count": 50,
   "metadata": {
    "collapsed": false
   },
   "outputs": [
    {
     "data": {
      "image/png": "[encoded data removed]",
      "text/latex": [
       "$$\\frac{e^{- \\frac{z^{2}}{2 \\sigma_{z}^{2}}}}{\\sqrt[4]{\\pi} \\sqrt{\\sigma_{z}}} e^{- 2 i \\pi \\xi z}$$"
      ],
      "text/plain": [
       "    2              \n",
       "  -z               \n",
       " ──────            \n",
       "      2            \n",
       " 2⋅σ_z   -2⋅ⅈ⋅π⋅ξ⋅z\n",
       "ℯ      ⋅ℯ          \n",
       "───────────────────\n",
       "   4 ___   _____   \n",
       "   ╲╱ π ⋅╲╱ σ_z    "
      ]
     },
     "execution_count": 50,
     "metadata": {},
     "output_type": "execute_result"
    }
   ],
   "source": [
    "integ = S*exp(-I*2*pi*xi*z)\n",
    "integ"
   ]
  },
  {
   "cell_type": "code",
   "execution_count": 51,
   "metadata": {
    "collapsed": false
   },
   "outputs": [
    {
     "data": {
      "image/png": "[encoded data removed]",
      "text/latex": [
       "$$\\sqrt{2} \\sqrt[4]{\\pi} \\sqrt{\\sigma_{z}} e^{- 2 \\pi^{2} \\sigma_{z}^{2} \\xi^{2}}$$"
      ],
      "text/plain": [
       "                      2    2  2\n",
       "   4 ___   _____  -2⋅π ⋅σ_z ⋅ξ \n",
       "√2⋅╲╱ π ⋅╲╱ σ_z ⋅ℯ             "
      ]
     },
     "execution_count": 51,
     "metadata": {},
     "output_type": "execute_result"
    }
   ],
   "source": [
    "S_hat = integrate(integ, (z, -oo, oo)).expand()\n",
    "S_hat"
   ]
  },
  {
   "cell_type": "code",
   "execution_count": 52,
   "metadata": {
    "collapsed": false
   },
   "outputs": [
    {
     "data": {
      "image/png": "[encoded data removed]",
      "text/latex": [
       "$$1$$"
      ],
      "text/plain": [
       "1"
      ]
     },
     "execution_count": 52,
     "metadata": {},
     "output_type": "execute_result"
    }
   ],
   "source": [
    "integrate(S_hat**2, (xi, -oo, oo))"
   ]
  },
  {
   "cell_type": "code",
   "execution_count": 55,
   "metadata": {
    "collapsed": false
   },
   "outputs": [
    {
     "data": {
      "image/png": "[encoded data removed]",
      "text/latex": [
       "$$\\sqrt{2} \\sqrt[4]{\\pi} \\sqrt{\\sigma_{z}} e^{- \\frac{\\sigma_{z}^{2}}{2} \\left(k - k_{min}\\right)^{2}}$$"
      ],
      "text/plain": [
       "                      2            2 \n",
       "                  -σ_z ⋅(k - k_min)  \n",
       "                  ───────────────────\n",
       "   4 ___   _____           2         \n",
       "√2⋅╲╱ π ⋅╲╱ σ_z ⋅ℯ                   "
      ]
     },
     "execution_count": 55,
     "metadata": {},
     "output_type": "execute_result"
    }
   ],
   "source": [
    "ss_k = {xi: k/2/pi}\n",
    "S_hatk = S_hat.subs(ss_k).subs(k, k-kmin)\n",
    "S_hatk"
   ]
  },
  {
   "cell_type": "code",
   "execution_count": 56,
   "metadata": {
    "collapsed": false
   },
   "outputs": [
    {
     "data": {
      "image/png": "[encoded data removed]",
      "text/latex": [
       "$$2 \\pi$$"
      ],
      "text/plain": [
       "2⋅π"
      ]
     },
     "execution_count": 56,
     "metadata": {},
     "output_type": "execute_result"
    }
   ],
   "source": [
    "integrate(S_hatk**2, (k, -oo, oo))"
   ]
  },
  {
   "cell_type": "code",
   "execution_count": 65,
   "metadata": {
    "collapsed": false
   },
   "outputs": [
    {
     "data": {
      "image/png": "[encoded data removed]",
      "text/latex": [
       "$$2 \\sqrt{2} \\sigma_{z} \\sqrt{\\log{\\left (2 \\right )}}$$"
      ],
      "text/plain": [
       "           ________\n",
       "2⋅√2⋅σ_z⋅╲╱ log(2) "
      ]
     },
     "execution_count": 65,
     "metadata": {},
     "output_type": "execute_result"
    }
   ],
   "source": [
    "from sympy import solve\n",
    "solve(S.subs(z, 0)/2-S, z)[1]-solve(S.subs(z, 0)/2-S, z)[0]"
   ]
  },
  {
   "cell_type": "code",
   "execution_count": 62,
   "metadata": {
    "collapsed": false
   },
   "outputs": [
    {
     "data": {
      "image/png": "[encoded data removed]",
      "text/latex": [
       "$$\\frac{1}{\\sqrt[4]{\\pi} \\sqrt{\\sigma_{z}}} - \\frac{e^{- \\frac{z^{2}}{2 \\sigma_{z}^{2}}}}{2 \\sqrt[4]{\\pi} \\sqrt{\\sigma_{z}}}$$"
      ],
      "text/plain": [
       "                        2      \n",
       "                      -z       \n",
       "                     ──────    \n",
       "                          2    \n",
       "                     2⋅σ_z     \n",
       "      1             ℯ          \n",
       "───────────── - ───────────────\n",
       "4 ___   _____     4 ___   _____\n",
       "╲╱ π ⋅╲╱ σ_z    2⋅╲╱ π ⋅╲╱ σ_z "
      ]
     },
     "execution_count": 62,
     "metadata": {},
     "output_type": "execute_result"
    }
   ],
   "source": [
    "S.subs(z, 0)-S/2"
   ]
  },
  {
   "cell_type": "code",
   "execution_count": null,
   "metadata": {
    "collapsed": true
   },
   "outputs": [],
   "source": []
  }
 ],
 "metadata": {
  "kernelspec": {
   "display_name": "Python 2",
   "language": "python",
   "name": "python2"
  },
  "language_info": {
   "codemirror_mode": {
    "name": "ipython",
    "version": 2
   },
   "file_extension": ".py",
   "mimetype": "text/x-python",
   "name": "python",
   "nbconvert_exporter": "python",
   "pygments_lexer": "ipython2",
   "version": "2.7.13"
  }
 },
 "nbformat": 4,
 "nbformat_minor": 2
}
