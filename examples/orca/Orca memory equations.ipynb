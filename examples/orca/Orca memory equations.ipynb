{
 "cells": [
  {
   "cell_type": "markdown",
   "metadata": {},
   "source": [
    "# Orca memory equations"
   ]
  },
  {
   "cell_type": "code",
   "execution_count": 102,
   "metadata": {
    "collapsed": false
   },
   "outputs": [],
   "source": [
    "from fast import *\n",
    "from fast.config import fast_path\n",
    "from matplotlib import pyplot\n",
    "from sympy import sin,cos,exp,sqrt,pi,zeros,I, Integral, oo, integrate, Equality\n",
    "from numpy import array\n",
    "%matplotlib inline\n",
    "init_printing()\n",
    "print_ascii=True; print_ascii=False"
   ]
  },
  {
   "cell_type": "code",
   "execution_count": 2,
   "metadata": {
    "collapsed": true
   },
   "outputs": [],
   "source": [
    "path=\"/home/oscar/oxford/inhomogeneous_broadening/complete_model/\" \n",
    "name='orca'"
   ]
  },
  {
   "cell_type": "markdown",
   "metadata": {},
   "source": [
    "We will be deriving the optical Bloch equations for a three level system in a ladder configuration as that in the figure."
   ]
  },
  {
   "cell_type": "code",
   "execution_count": 3,
   "metadata": {
    "collapsed": false
   },
   "outputs": [
    {
     "data": {
      "image/png": "[encoded data removed]",
      "text/plain": [
       "<matplotlib.figure.Figure at 0x7ff41a0ed750>"
      ]
     },
     "metadata": {},
     "output_type": "display_data"
    }
   ],
   "source": [
    "fig=pyplot.figure(); ax=fig.add_subplot(111,aspect=\"equal\")\n",
    "\n",
    "p1=[0.5,1]; p2=[1.5,3]; p3=[2.5,5]\n",
    "draw_state(ax,p1,text=r\"$|1\\rangle$\",l=1.0,alignment='right',label_displacement=0.05,fontsize=25,linewidth=4.0)\n",
    "draw_state(ax,p2,text=r\"$|2\\rangle$\",l=1.0,alignment='right',label_displacement=0.05,fontsize=25,linewidth=4.0)\n",
    "draw_state(ax,p3,text=r\"$|3\\rangle$\",l=1.0,alignment='right',label_displacement=0.05,fontsize=25,linewidth=4.0)\n",
    "\n",
    "excitation(ax,[p1[0]+0.25,p1[1]],[p2[0]+0.25,p2[1]], fc=\"r\", ec=\"r\",width=0.01, head_width=0.2, head_length=0.2)\n",
    "excitation(ax,[p2[0]+0.25,p2[1]],[p3[0]+0.25,p3[1]], fc=\"b\", ec=\"b\",width=0.01, head_width=0.2, head_length=0.2)\n",
    "\n",
    "decay(     ax,[p1[0]-0.25,p1[1]],[p2[0]-0.25,p2[1]], 0.05,10.0,color=\"r\",linewidth=1.0)\n",
    "decay(     ax,[p2[0]-0.25,p2[1]],[p3[0]-0.25,p3[1]], 0.05,10.0,color=\"b\",linewidth=1.0)\n",
    "\n",
    "pyplot.axis('off')\n",
    "pyplot.savefig(path+name+'_diagram.png',bbox_inches=\"tight\")"
   ]
  },
  {
   "cell_type": "markdown",
   "metadata": {},
   "source": [
    "We define the number of states and of radiation fields."
   ]
  },
  {
   "cell_type": "code",
   "execution_count": 4,
   "metadata": {
    "collapsed": true
   },
   "outputs": [],
   "source": [
    "Ne=3\n",
    "Nl=2"
   ]
  },
  {
   "cell_type": "markdown",
   "metadata": {},
   "source": [
    "We define a few important symbols."
   ]
  },
  {
   "cell_type": "code",
   "execution_count": 5,
   "metadata": {
    "collapsed": false
   },
   "outputs": [],
   "source": [
    "c,hbar,e,mu0, epsilon0=symbols(\"c hbar e mu0 varepsilon0\",positive=True)\n",
    "# fprint([c,hbar,e,mu0, epsilon0],print_ascii=print_ascii)"
   ]
  },
  {
   "cell_type": "code",
   "execution_count": 6,
   "metadata": {
    "collapsed": false
   },
   "outputs": [],
   "source": [
    "t,X,Y,Z,R,Phi=symbols(\"t X Y Z R Phi\",real=True)\n",
    "RR=Matrix([R*cos(Phi),R*sin(Phi),Z])\n",
    "# RR=Matrix([X,Y,Z])\n",
    "# fprint([t,RR],print_ascii=print_ascii)"
   ]
  },
  {
   "cell_type": "markdown",
   "metadata": {},
   "source": [
    "We define the variables related to the laser field."
   ]
  },
  {
   "cell_type": "code",
   "execution_count": 7,
   "metadata": {
    "collapsed": false
   },
   "outputs": [],
   "source": [
    "E0,omega_laser=define_laser_variables(Nl, variables=[t,R,Z])\n",
    "# fprint(E0,print_ascii=print_ascii)"
   ]
  },
  {
   "cell_type": "code",
   "execution_count": 8,
   "metadata": {
    "collapsed": false
   },
   "outputs": [],
   "source": [
    "# fprint(omega_laser,print_ascii=print_ascii)"
   ]
  },
  {
   "cell_type": "markdown",
   "metadata": {},
   "source": [
    "We write two electric fields propagating trough the $\\hat{x}$ direction polarized in the $\\hat{z}$ direction. First the wave vectors:"
   ]
  },
  {
   "cell_type": "code",
   "execution_count": 9,
   "metadata": {
    "collapsed": false
   },
   "outputs": [],
   "source": [
    "phi1=0 ; theta1=0; alpha1=pi/2; beta1=pi/8\n",
    "phi2=0; theta2=pi; alpha2=pi/2; beta2=pi/8\n",
    "\n",
    "k1=Matrix([cos(phi1)*sin(theta1),sin(phi1)*sin(theta1),cos(theta1)])\n",
    "k2=Matrix([cos(phi2)*sin(theta2),sin(phi2)*sin(theta2),cos(theta2)])\n",
    "\n",
    "k=[k1,k2]\n",
    "\n",
    "# fprint(k,print_ascii=print_ascii)"
   ]
  },
  {
   "cell_type": "markdown",
   "metadata": {},
   "source": [
    "The polarization vectors."
   ]
  },
  {
   "cell_type": "code",
   "execution_count": 10,
   "metadata": {
    "collapsed": false
   },
   "outputs": [],
   "source": [
    "ep1=polarization_vector(phi1,theta1,alpha1,beta1, 1)\n",
    "ep2=polarization_vector(phi2,theta2,alpha2,beta2, 1)\n",
    "\n",
    "em1=ep1.conjugate()\n",
    "em2=ep2.conjugate()\n",
    "\n",
    "ep=[ep1,ep2]\n",
    "em=[em1,em2]\n",
    "\n",
    "# fprint([ep,em],print_ascii=print_ascii)"
   ]
  },
  {
   "cell_type": "markdown",
   "metadata": {},
   "source": [
    "The electric field (evaluated in $\\vec{R}=0$)."
   ]
  },
  {
   "cell_type": "code",
   "execution_count": 11,
   "metadata": {
    "collapsed": false
   },
   "outputs": [],
   "source": [
    "zero_vect=Matrix([0,0,0])\n",
    "E_cartesian = [(+E0[l]            *ep[l]*exp(-I*omega_laser[l]*(t-k[l].dot(RR)/c)) \n",
    "                +E0[l].conjugate()*em[l]*exp(+I*omega_laser[l]*(t-k[l].dot(RR)/c)))/2 \n",
    "                    for l in range(Nl)]\n",
    "\n",
    "# fprint(E_cartesian,print_ascii=print_ascii)"
   ]
  },
  {
   "cell_type": "code",
   "execution_count": 12,
   "metadata": {
    "collapsed": false
   },
   "outputs": [
    {
     "data": {
      "image/png": "[encoded data removed]",
      "text/plain": [
       "<matplotlib.figure.Figure at 0x7ff439711cd0>"
      ]
     },
     "metadata": {},
     "output_type": "display_data"
    }
   ],
   "source": [
    "l1=PlaneWave(phi1,theta1,alpha1,beta1,color=\"red\")\n",
    "l2=PlaneWave(phi2,theta2,alpha2,beta2,color=\"blue\")\n",
    "\n",
    "laseres=[l1,l2]\n",
    "Nl=len(laseres)\n",
    "\n",
    "fig = pyplot.figure(); ax = fig.gca(projection='3d')\n",
    "draw_lasers_3d(ax,laseres,path+name+'_lasers.png')"
   ]
  },
  {
   "cell_type": "markdown",
   "metadata": {},
   "source": [
    "We write the electric fields in the helicity basis (see notebook \"Vectors in the helicity basis and the electric field\")."
   ]
  },
  {
   "cell_type": "code",
   "execution_count": 13,
   "metadata": {
    "collapsed": false
   },
   "outputs": [],
   "source": [
    "E=[cartesian_to_helicity(E_cartesian[l]).expand() for l in range(Nl)]\n",
    "# fprint(E,print_ascii=print_ascii)"
   ]
  },
  {
   "cell_type": "markdown",
   "metadata": {},
   "source": [
    "We define the position operator."
   ]
  },
  {
   "cell_type": "code",
   "execution_count": 14,
   "metadata": {
    "collapsed": false
   },
   "outputs": [],
   "source": [
    "r=define_r_components(Ne,helicity=True,explicitly_hermitian=True)\n",
    "#Ladder means that r_{p;31}=0\n",
    "r=[ri.subs({r[0][2,0]:0,r[1][2,0]:0,r[2][2,0]:0}) for ri in r]\n",
    "# fprint(r,print_ascii=print_ascii)"
   ]
  },
  {
   "cell_type": "markdown",
   "metadata": {},
   "source": [
    "The frequencies of the energy levels, the resonant frequencies, and the decay frequencies."
   ]
  },
  {
   "cell_type": "code",
   "execution_count": 15,
   "metadata": {
    "collapsed": false
   },
   "outputs": [],
   "source": [
    "omega_level,omega,gamma=define_frequencies(Ne,explicitly_antisymmetric=True)\n",
    "#Ladder means gamma31=0\n",
    "gamma=gamma.subs({gamma[2,0]:0})\n",
    "\n",
    "# fprint(omega_level,print_ascii=print_ascii)"
   ]
  },
  {
   "cell_type": "code",
   "execution_count": 16,
   "metadata": {
    "collapsed": false
   },
   "outputs": [],
   "source": [
    "# fprint(omega, print_ascii=print_ascii)"
   ]
  },
  {
   "cell_type": "code",
   "execution_count": 17,
   "metadata": {
    "collapsed": false
   },
   "outputs": [],
   "source": [
    "# fprint(gamma, print_ascii=print_ascii)"
   ]
  },
  {
   "cell_type": "markdown",
   "metadata": {},
   "source": [
    "The atomic hamiltonian is"
   ]
  },
  {
   "cell_type": "code",
   "execution_count": 18,
   "metadata": {
    "collapsed": false
   },
   "outputs": [],
   "source": [
    "H0=Matrix([[hbar*omega_level[i]*KroneckerDelta(i,j) for j in range(Ne)] for i in range(Ne)])\n",
    "# fprint(H0, print_ascii=print_ascii)"
   ]
  },
  {
   "cell_type": "markdown",
   "metadata": {
    "collapsed": false
   },
   "source": [
    "The interaction hamiltonian is"
   ]
  },
  {
   "cell_type": "code",
   "execution_count": 19,
   "metadata": {
    "collapsed": false
   },
   "outputs": [],
   "source": [
    "zero_matrix=zeros(Ne,Ne)\n",
    "H1=sum([ e*helicity_dot_product(E[l],r) for l in range(Nl)],zero_matrix)\n",
    "# fprint(H1,print_ascii=print_ascii)"
   ]
  },
  {
   "cell_type": "markdown",
   "metadata": {},
   "source": [
    "and the complete hamiltonian is"
   ]
  },
  {
   "cell_type": "code",
   "execution_count": 20,
   "metadata": {
    "collapsed": false
   },
   "outputs": [],
   "source": [
    "H=H0+H1"
   ]
  },
  {
   "cell_type": "markdown",
   "metadata": {
    "collapsed": true
   },
   "source": [
    "# Rotating wave approximation\n",
    "Notice that the electric field can be separated by terms with positive and negative frequency:"
   ]
  },
  {
   "cell_type": "code",
   "execution_count": 21,
   "metadata": {
    "collapsed": false
   },
   "outputs": [],
   "source": [
    "E_cartesian_p=[E0[l]/2            *ep[l]*exp(-I*omega_laser[l]*(t-k[l].dot(RR)/c)) for l in range(Nl)]\n",
    "E_cartesian_m=[E0[l].conjugate()/2*em[l]*exp(I*omega_laser[l]*(t-k[l].dot(RR)/c)) for l in range(Nl)]\n",
    "\n",
    "E_p=[cartesian_to_helicity(E_cartesian_p[l]) for l in range(Nl)]\n",
    "E_m=[cartesian_to_helicity(E_cartesian_m[l]) for l in range(Nl)]\n",
    "\n",
    "# fprint([E_p,E_m], print_ascii=print_ascii)"
   ]
  },
  {
   "cell_type": "code",
   "execution_count": 22,
   "metadata": {
    "collapsed": false
   },
   "outputs": [],
   "source": [
    "# fprint( simplify(sum([E[l] for l in range(Nl)],zero_vect)-(sum([E_p[l]+E_m[l] for l in range(Nl)],zero_vect) )), print_ascii=print_ascii)"
   ]
  },
  {
   "cell_type": "markdown",
   "metadata": {},
   "source": [
    "The position operator can also be separated in this way. We go to the interaction picture (with $\\hat{H}_0$ as the undisturbed hamiltonian)"
   ]
  },
  {
   "cell_type": "code",
   "execution_count": 23,
   "metadata": {
    "collapsed": false
   },
   "outputs": [],
   "source": [
    "r_I=[ Matrix([[exp(I*omega[i,j]*t)*r[p][i,j] for j in range(Ne)] for i in range(Ne)]) for p in range(3)]\n",
    "# fprint(r_I[0], print_ascii=print_ascii)"
   ]
  },
  {
   "cell_type": "code",
   "execution_count": 24,
   "metadata": {
    "collapsed": false
   },
   "outputs": [],
   "source": [
    "# fprint(r_I[1], print_ascii=print_ascii)"
   ]
  },
  {
   "cell_type": "code",
   "execution_count": 25,
   "metadata": {
    "collapsed": false
   },
   "outputs": [],
   "source": [
    "# fprint(r_I[2], print_ascii=print_ascii)"
   ]
  },
  {
   "cell_type": "markdown",
   "metadata": {},
   "source": [
    "Which can be decomposed in positive and negative frequencies as"
   ]
  },
  {
   "cell_type": "code",
   "execution_count": 26,
   "metadata": {
    "collapsed": false
   },
   "outputs": [],
   "source": [
    "r_I_p=[ Matrix([[ delta_greater(j,i)*exp(-I*omega[j,i]*t)*r[p][i,j] for j in range(Ne)]for i in range(Ne)]) for p in range(3)]\n",
    "# fprint(r_I_p[0], print_ascii=print_ascii)"
   ]
  },
  {
   "cell_type": "code",
   "execution_count": 27,
   "metadata": {
    "collapsed": false
   },
   "outputs": [],
   "source": [
    "# fprint(r_I_p[1], print_ascii=print_ascii)"
   ]
  },
  {
   "cell_type": "code",
   "execution_count": 28,
   "metadata": {
    "collapsed": false
   },
   "outputs": [],
   "source": [
    "# fprint(r_I_p[2], print_ascii=print_ascii)"
   ]
  },
  {
   "cell_type": "code",
   "execution_count": 29,
   "metadata": {
    "collapsed": false
   },
   "outputs": [],
   "source": [
    "r_I_m=[ Matrix([[ delta_lesser( j,i)*exp( I*omega[i,j]*t)*r[p][i,j] for j in range(Ne)]for i in range(Ne)]) for p in range(3)]\n",
    "# fprint(r_I_m[0],print_ascii=print_ascii)"
   ]
  },
  {
   "cell_type": "code",
   "execution_count": 30,
   "metadata": {
    "collapsed": false
   },
   "outputs": [],
   "source": [
    "# fprint(r_I_m[1], print_ascii=print_ascii)"
   ]
  },
  {
   "cell_type": "code",
   "execution_count": 31,
   "metadata": {
    "collapsed": false
   },
   "outputs": [],
   "source": [
    "# fprint(r_I_m[2], print_ascii=print_ascii)"
   ]
  },
  {
   "cell_type": "markdown",
   "metadata": {},
   "source": [
    "that summed equal $\\vec{\\hat{r}}_I$"
   ]
  },
  {
   "cell_type": "code",
   "execution_count": 32,
   "metadata": {
    "collapsed": false
   },
   "outputs": [],
   "source": [
    "# fprint( [r_I[p]-(r_I_p[p]+r_I_m[p]) for p in range(3)] , print_ascii=print_ascii)"
   ]
  },
  {
   "cell_type": "markdown",
   "metadata": {},
   "source": [
    "Thus the interaction hamiltonian in the interaciton picture is\n",
    "\\begin{equation}\n",
    "    \\hat{H}_{1I}=e\\vec{E}\\cdot \\vec{\\hat{r}}_I= e(\\vec{E}^{(+)}\\cdot \\vec{\\hat{r}}^{(+)}_I + \\vec{E}^{(+)}\\cdot \\vec{\\hat{r}}^{(-)}_I + \\vec{E}^{(-)}\\cdot \\vec{\\hat{r}}^{(+)}_I + \\vec{E}^{(-)}\\cdot \\vec{\\hat{r}}^{(-)}_I)\n",
    "\\end{equation}"
   ]
  },
  {
   "cell_type": "code",
   "execution_count": 33,
   "metadata": {
    "collapsed": false
   },
   "outputs": [],
   "source": [
    "H1I=sum([ e*helicity_dot_product(E[l],r_I) for l in range(Nl)],zero_matrix)\n",
    "# fprint(H1I,print_ascii=print_ascii)"
   ]
  },
  {
   "cell_type": "markdown",
   "metadata": {},
   "source": [
    "Since both $\\omega^l$ and $\\omega_{ij}$ are in the order of THz, the terms that have frequencies with the same sign are summed, and thus also of the order of THz. The frequencies in the terms with oposite signs however, are detunings of the order of MHz. Since we are only interested in the coarse-grained evolution of the density matrix, we may omit the fast terms and approximate\n",
    "\n",
    "\\begin{equation}\n",
    "    \\hat{H}_{1I} \\simeq \\hat{H}_{1I,RWA}= e( \\vec{E}^{(+)}\\cdot \\vec{\\hat{r}}^{(-)}_I + \\vec{E}^{(-)}\\cdot \\vec{\\hat{r}}^{(+)}_I )\n",
    "\\end{equation}\n",
    "\n",
    "That is known as the rotating wave approximation (RWA)."
   ]
  },
  {
   "cell_type": "code",
   "execution_count": 34,
   "metadata": {
    "collapsed": false
   },
   "outputs": [],
   "source": [
    "H1IRWA=sum( [ (e*(helicity_dot_product(E_p[l],r_I_m)+helicity_dot_product(E_m[l],r_I_p))) for l in range(Nl)],zero_matrix)\n",
    "# fprint(H1IRWA,print_ascii=print_ascii)"
   ]
  },
  {
   "cell_type": "markdown",
   "metadata": {},
   "source": [
    "The matrix element $(\\hat{H}_{1I,RWA})_{21}$ element is"
   ]
  },
  {
   "cell_type": "code",
   "execution_count": 35,
   "metadata": {
    "collapsed": false
   },
   "outputs": [],
   "source": [
    "# fprint(H1IRWA[1,0].expand(),print_ascii=print_ascii)"
   ]
  },
  {
   "cell_type": "markdown",
   "metadata": {},
   "source": [
    "But if the detuning $\\omega_{21}-\\omega^1 \\ll \\omega_{21}-\\omega^2$ (the second field is far detuned from the $1 \\rightarrow 2$ transition), then $\\omega_{21}-\\omega^2$ may be also considered too high a frequency to be relevant to coarse-grained evolution. So we might neclect that term in $(\\hat{H}_{1I,RWA})_{21}$ and similarly neglect the $\\omega_{32}-\\omega^1$ for term in $(\\hat{H}_{1I,RWA})_{32}$:"
   ]
  },
  {
   "cell_type": "code",
   "execution_count": 36,
   "metadata": {
    "collapsed": false
   },
   "outputs": [],
   "source": [
    "# fprint(H1IRWA[2,1].expand(),print_ascii=print_ascii)"
   ]
  },
  {
   "cell_type": "markdown",
   "metadata": {},
   "source": [
    "In other words, if the detunings in our experiments allow the approximmation, we might choose which frequency components $\\omega^l$ excite which transitions. Let us say that $L_{ij}$ is the set of $l$ such that $\\omega^l$ excites the transition $i\\rightarrow j$"
   ]
  },
  {
   "cell_type": "code",
   "execution_count": 37,
   "metadata": {
    "collapsed": false
   },
   "outputs": [
    {
     "name": "stdout",
     "output_type": "stream",
     "text": [
      "[[[] [1] []]\n",
      " [[1] [] [2]]\n",
      " [[] [2] []]]\n"
     ]
    }
   ],
   "source": [
    "Lij=[[1,2,[1]],[2,3,[2]]]\n",
    "Lij=formatLij(Lij,Ne)\n",
    "print array(Lij)"
   ]
  },
  {
   "cell_type": "markdown",
   "metadata": {},
   "source": [
    "Thus the interacion hamiltonian in the interaction picture can be approximated as"
   ]
  },
  {
   "cell_type": "code",
   "execution_count": 38,
   "metadata": {
    "collapsed": false
   },
   "outputs": [],
   "source": [
    "H1IRWA =sum([ e*( helicity_dot_product( E_p[l],vector_element(r_I_m,i,j)) ) * ket(i+1,Ne)*bra(j+1,Ne) \n",
    "            for l in range(Nl) for j in range(Ne) for i in range(Ne) if l+1 in Lij[i][j] ],zero_matrix)\n",
    "H1IRWA+=sum([ e*( helicity_dot_product( E_m[l],vector_element(r_I_p,i,j)) ) * ket(i+1,Ne)*bra(j+1,Ne) \n",
    "            for l in range(Nl) for j in range(Ne) for i in range(Ne) if l+1 in Lij[i][j] ],zero_matrix)\n",
    "\n",
    "# fprint(H1IRWA, print_ascii=print_ascii)"
   ]
  },
  {
   "cell_type": "markdown",
   "metadata": {},
   "source": [
    "Returning to the Schrödinger picture we have."
   ]
  },
  {
   "cell_type": "code",
   "execution_count": 39,
   "metadata": {
    "collapsed": false
   },
   "outputs": [],
   "source": [
    "r_p=[ Matrix([[ delta_greater(j,i)*r[p][i,j] for j in range(Ne)]for i in range(Ne)]) for p in range(3)]\n",
    "# fprint(r_p, print_ascii=print_ascii)"
   ]
  },
  {
   "cell_type": "code",
   "execution_count": 40,
   "metadata": {
    "collapsed": false
   },
   "outputs": [],
   "source": [
    "r_m=[ Matrix([[ delta_lesser( j,i)*r[p][i,j] for j in range(Ne)]for i in range(Ne)]) for p in range(3)]\n",
    "# fprint(r_m, print_ascii=print_ascii)"
   ]
  },
  {
   "cell_type": "code",
   "execution_count": 41,
   "metadata": {
    "collapsed": false
   },
   "outputs": [],
   "source": [
    "# fprint( [r[p]-(r_p[p]+r_m[p]) for p in range(3)] , print_ascii=print_ascii)"
   ]
  },
  {
   "cell_type": "markdown",
   "metadata": {},
   "source": [
    "Thus the interaction hamiltonian in the Schrödinger picture in the rotating wave approximation is"
   ]
  },
  {
   "cell_type": "code",
   "execution_count": 42,
   "metadata": {
    "collapsed": false
   },
   "outputs": [],
   "source": [
    "H1RWA =sum([ e*( helicity_dot_product( E_p[l],vector_element(r_m,i,j)) ) * ket(i+1,Ne)*bra(j+1,Ne) \n",
    "            for l in range(Nl) for j in range(Ne) for i in range(Ne) if l+1 in Lij[i][j] ],zero_matrix)\n",
    "H1RWA+=sum([ e*( helicity_dot_product( E_m[l],vector_element(r_p,i,j)) ) * ket(i+1,Ne)*bra(j+1,Ne) \n",
    "            for l in range(Nl) for j in range(Ne) for i in range(Ne) if l+1 in Lij[i][j] ],zero_matrix)\n",
    "\n",
    "# fprint(H1RWA, print_ascii=print_ascii)"
   ]
  },
  {
   "cell_type": "markdown",
   "metadata": {},
   "source": [
    "And the complete hamiltonian in the Schrödinger picture in the rotating wave approximation is"
   ]
  },
  {
   "cell_type": "code",
   "execution_count": 43,
   "metadata": {
    "collapsed": false
   },
   "outputs": [],
   "source": [
    "HRWA=H0+H1RWA\n",
    "# fprint(HRWA, print_ascii=print_ascii)"
   ]
  },
  {
   "cell_type": "markdown",
   "metadata": {
    "collapsed": true
   },
   "source": [
    "# Rotating Frame\n",
    "Next we will make a phase transformation in order to eliminate the explicit time dependance of the equations."
   ]
  },
  {
   "cell_type": "code",
   "execution_count": 44,
   "metadata": {
    "collapsed": false
   },
   "outputs": [],
   "source": [
    "cc,cctilde,phase=define_psi_coefficients(Ne)\n",
    "# fprint([cc,cctilde,phase], print_ascii=print_ascii)"
   ]
  },
  {
   "cell_type": "code",
   "execution_count": 45,
   "metadata": {
    "collapsed": false
   },
   "outputs": [],
   "source": [
    "phase=Matrix([ Function(\"theta_\"+str(i+1),real=True)(t,Z) for i in range(Ne)])\n",
    "# phase"
   ]
  },
  {
   "cell_type": "code",
   "execution_count": 46,
   "metadata": {
    "collapsed": false
   },
   "outputs": [],
   "source": [
    "psi=Matrix([ exp(I*phase[i])*cctilde[i] for i in range(Ne)])\n",
    "# fprint(psi, print_ascii=print_ascii)"
   ]
  },
  {
   "cell_type": "markdown",
   "metadata": {},
   "source": [
    "The Schrödinger equation $i\\hbar \\partial_t |\\psi\\rangle=\\hat{H}_{RWA}$ is"
   ]
  },
  {
   "cell_type": "code",
   "execution_count": 47,
   "metadata": {
    "collapsed": false
   },
   "outputs": [],
   "source": [
    "lhs=Matrix([(I*hbar*Derivative(psi[i],t).doit()).expand() for i in range(Ne)])\n",
    "# fprint(lhs, print_ascii=print_ascii)"
   ]
  },
  {
   "cell_type": "code",
   "execution_count": 48,
   "metadata": {
    "collapsed": false
   },
   "outputs": [],
   "source": [
    "rhs=HRWA*psi"
   ]
  },
  {
   "cell_type": "markdown",
   "metadata": {},
   "source": [
    "We multiply each of these equations by $e^{-i \\theta_i}$ and substracting $i \\theta_i \\tilde{c}_i$"
   ]
  },
  {
   "cell_type": "code",
   "execution_count": 49,
   "metadata": {
    "collapsed": false
   },
   "outputs": [],
   "source": [
    "lhs_new=Matrix([simplify(  lhs[i]*exp(-I*phase[i]) +hbar*Derivative(phase[i],t)*cctilde[i] ) for i in range(Ne)])\n",
    "# fprint(lhs_new, print_ascii=print_ascii)"
   ]
  },
  {
   "cell_type": "code",
   "execution_count": 50,
   "metadata": {
    "collapsed": false
   },
   "outputs": [],
   "source": [
    "rhs_new=Matrix([simplify(  rhs[i]*exp(-I*phase[i])\n",
    "                         +hbar*Derivative(phase[i],t)*cctilde[i] ).expand() for i in range(Ne)])\n",
    "# fprint(rhs_new, print_ascii=print_ascii)"
   ]
  },
  {
   "cell_type": "markdown",
   "metadata": {},
   "source": [
    "It can be seen that the equations loose their explicit time dependance only if $\\omega^{1}(-Z/c+t) - \\theta_{1} + \\theta_{2}=0$ and $\\omega^{2}(Z/c+t) - \\theta_{2} + \\theta_{3}=0$. Which is satisfied if"
   ]
  },
  {
   "cell_type": "code",
   "execution_count": 51,
   "metadata": {
    "collapsed": false
   },
   "outputs": [],
   "source": [
    "eq1=omega_laser[0]*(-Z/c+t)+phase[1]-phase[0]\n",
    "eq2=omega_laser[1]*( Z/c+t)+phase[2]-phase[1]\n",
    "pt=solve([eq1,eq2],[phase[1],phase[2]])\n",
    "# pt"
   ]
  },
  {
   "cell_type": "markdown",
   "metadata": {},
   "source": [
    "Thus the equations become"
   ]
  },
  {
   "cell_type": "code",
   "execution_count": 52,
   "metadata": {
    "collapsed": false
   },
   "outputs": [],
   "source": [
    "# fprint(lhs_new, print_ascii=print_ascii)"
   ]
  },
  {
   "cell_type": "code",
   "execution_count": 53,
   "metadata": {
    "collapsed": false
   },
   "outputs": [],
   "source": [
    "rhs_new=simplify(rhs_new.subs(pt)).expand().simplify()\n",
    "# fprint(rhs_new, print_ascii=print_ascii)"
   ]
  },
  {
   "cell_type": "markdown",
   "metadata": {},
   "source": [
    "It can be seen that this is the Schrödinger equation derived from an effective hamiltonian $\\tilde{H}$"
   ]
  },
  {
   "cell_type": "code",
   "execution_count": 54,
   "metadata": {
    "collapsed": false
   },
   "outputs": [],
   "source": [
    "Htilde=Matrix([ [Derivative(rhs_new[i],cctilde[j]).doit().simplify() for j in range(Ne)] for i in range(Ne)])\n",
    "# fprint(Htilde, print_ascii=print_ascii)"
   ]
  },
  {
   "cell_type": "markdown",
   "metadata": {},
   "source": [
    "We can see that it is convenient to choose $\\theta_1=-\\omega_1$ to simplify the hamiltonian. Also, we can recognize $\\omega^1-\\omega_2+\\omega_1=\\delta^1$ as the detuning of the first field relative to the atomic transition $\\omega_{21}=\\omega_2-\\omega_1$, and the same for $\\omega^2-\\omega_3+\\omega_2=\\delta^2$. And choosing $\\theta_1=\\omega_1 t$"
   ]
  },
  {
   "cell_type": "code",
   "execution_count": 55,
   "metadata": {
    "collapsed": false
   },
   "outputs": [],
   "source": [
    "delta1,delta2=symbols(\"delta1 delta2\",real=True)\n",
    "Htilde=Htilde.subs({phase[0]:-omega_level[0]*t}).doit()\n",
    "Htilde=Htilde.subs({omega_laser[0]:delta1+omega_level[1]-omega_level[0]})\n",
    "Htilde=Htilde.subs({omega_laser[1]:delta2+omega_level[2]-omega_level[1]})\n",
    "\n",
    "Htilde=Htilde.expand()\n",
    "\n",
    "# fprint(Htilde, print_ascii=print_ascii)"
   ]
  },
  {
   "cell_type": "markdown",
   "metadata": {},
   "source": [
    "If we define the Rabi frequencies $\\Omega_1 =e E_0^1 r_{0;21}/\\hbar$ and $\\Omega_2 =e E_0^2 r_{0;32}/\\hbar$"
   ]
  },
  {
   "cell_type": "code",
   "execution_count": 56,
   "metadata": {
    "collapsed": false
   },
   "outputs": [
    {
     "data": {
      "image/png": "[encoded data removed]",
      "text/latex": [
       "$$\\left[\\begin{matrix}0 & \\frac{\\hbar}{2} \\overline{\\Omega_{1}{\\left (t,R,Z \\right )}} & 0\\\\\\frac{\\hbar}{2} \\Omega_{1}{\\left (t,R,Z \\right )} & - \\delta_{1} \\hbar & \\frac{\\hbar}{2} \\overline{\\Omega_{2}{\\left (t,R,Z \\right )}}\\\\0 & \\frac{\\hbar}{2} \\Omega_{2}{\\left (t,R,Z \\right )} & - \\delta_{1} \\hbar - \\delta_{2} \\hbar\\end{matrix}\\right]$$"
      ],
      "text/plain": [
       "⎡                   ___________                ⎤\n",
       "⎢                h̅⋅Ω₁(t, R, Z)                ⎥\n",
       "⎢      0         ──────────────        0       ⎥\n",
       "⎢                      2                       ⎥\n",
       "⎢                                              ⎥\n",
       "⎢                                   ___________⎥\n",
       "⎢h̅⋅Ω₁(t, R, Z)                  h̅⋅Ω₂(t, R, Z)⎥\n",
       "⎢──────────────      -δ₁⋅h̅      ──────────────⎥\n",
       "⎢      2                               2       ⎥\n",
       "⎢                                              ⎥\n",
       "⎢                h̅⋅Ω₂(t, R, Z)                ⎥\n",
       "⎢      0         ──────────────  -δ₁⋅h̅ - δ₂⋅h̅⎥\n",
       "⎣                      2                       ⎦"
      ]
     },
     "execution_count": 56,
     "metadata": {},
     "output_type": "execute_result"
    }
   ],
   "source": [
    "Omega1,Omega2=symbols(\"Omega1 Omega2\",real=True)\n",
    "Omega1,Omega2=symbols(\"Omega1 Omega2\")\n",
    "Omega1=Function(\"Omega1\")(t,R,Z)\n",
    "Omega2=Function(\"Omega2\")(t,R,Z)\n",
    "\n",
    "Htilde=Htilde.subs({E0[0]:Omega1*hbar/r[2][1,0]/e})\n",
    "Htilde=Htilde.subs({E0[1]:Omega2*hbar/r[0][2,1]/e})\n",
    "\n",
    "fprint(Htilde, print_ascii=print_ascii)"
   ]
  },
  {
   "cell_type": "markdown",
   "metadata": {},
   "source": [
    "# Optical Bloch Equations\n",
    "\n",
    "We define the density matrix."
   ]
  },
  {
   "cell_type": "code",
   "execution_count": 57,
   "metadata": {
    "collapsed": false
   },
   "outputs": [
    {
     "data": {
      "image/png": "[encoded data removed]",
      "text/latex": [
       "$$\\left[\\begin{matrix}\\rho_{11}{\\left (t,R,Z \\right )} & \\rho_{12}{\\left (t,R,Z \\right )} & \\rho_{13}{\\left (t,R,Z \\right )}\\\\\\rho_{21}{\\left (t,R,Z \\right )} & \\rho_{22}{\\left (t,R,Z \\right )} & \\rho_{23}{\\left (t,R,Z \\right )}\\\\\\rho_{31}{\\left (t,R,Z \\right )} & \\rho_{32}{\\left (t,R,Z \\right )} & \\rho_{33}{\\left (t,R,Z \\right )}\\end{matrix}\\right]$$"
      ],
      "text/plain": [
       "⎡ρ₁₁(t, R, Z)  ρ₁₂(t, R, Z)  ρ₁₃(t, R, Z)⎤\n",
       "⎢                                        ⎥\n",
       "⎢ρ₂₁(t, R, Z)  ρ₂₂(t, R, Z)  ρ₂₃(t, R, Z)⎥\n",
       "⎢                                        ⎥\n",
       "⎣ρ₃₁(t, R, Z)  ρ₃₂(t, R, Z)  ρ₃₃(t, R, Z)⎦"
      ]
     },
     "execution_count": 57,
     "metadata": {},
     "output_type": "execute_result"
    }
   ],
   "source": [
    "rho = define_density_matrix(Ne, variables=[t,R,Z])\n",
    "fprint(rho , print_ascii=print_ascii)"
   ]
  },
  {
   "cell_type": "markdown",
   "metadata": {},
   "source": [
    "The hamiltonian part of the equations is\n",
    "\\begin{equation}\n",
    "    \\dot{\\hat{\\rho}}=\\frac{i}{\\hbar}[\\hat{\\rho}, \\hat{\\tilde{H}}]\n",
    "\\end{equation}"
   ]
  },
  {
   "cell_type": "code",
   "execution_count": 58,
   "metadata": {
    "collapsed": false
   },
   "outputs": [],
   "source": [
    "hamiltonian_terms=(I/hbar*(rho*Htilde-Htilde*rho)).expand()\n",
    "# fprint(hamiltonian_terms, print_ascii=print_ascii)"
   ]
  },
  {
   "cell_type": "markdown",
   "metadata": {},
   "source": [
    "There are two Lindblad operators, since there are two spontaneous decay channels."
   ]
  },
  {
   "cell_type": "code",
   "execution_count": 59,
   "metadata": {
    "collapsed": false
   },
   "outputs": [],
   "source": [
    "lindblad_terms =gamma[1,0]*lindblad_operator(ket(1,Ne)*bra(2,Ne),rho)\n",
    "lindblad_terms+=gamma[2,1]*lindblad_operator(ket(2,Ne)*bra(3,Ne),rho)\n",
    "\n",
    "# fprint(lindblad_terms, print_ascii=print_ascii)"
   ]
  },
  {
   "cell_type": "markdown",
   "metadata": {},
   "source": [
    "The Optical Bloch equations are thus."
   ]
  },
  {
   "cell_type": "code",
   "execution_count": 60,
   "metadata": {
    "collapsed": false
   },
   "outputs": [],
   "source": [
    "eqs = hamiltonian_terms + lindblad_terms"
   ]
  },
  {
   "cell_type": "code",
   "execution_count": 103,
   "metadata": {
    "collapsed": false
   },
   "outputs": [
    {
     "data": {
      "image/png": "[encoded data removed]",
      "text/latex": [
       "$$\\left[\\begin{matrix}\\frac{\\partial}{\\partial t} \\rho_{11}{\\left (t,R,Z \\right )} & = & \\gamma_{21} \\rho_{22}{\\left (t,R,Z \\right )} + \\frac{i}{2} \\Omega_{1}{\\left (t,R,Z \\right )} \\rho_{12}{\\left (t,R,Z \\right )} - \\frac{i}{2} \\rho_{21}{\\left (t,R,Z \\right )} \\overline{\\Omega_{1}{\\left (t,R,Z \\right )}}\\\\\\frac{\\partial}{\\partial t} \\rho_{22}{\\left (t,R,Z \\right )} & = & - \\gamma_{21} \\rho_{22}{\\left (t,R,Z \\right )} + \\gamma_{32} \\rho_{33}{\\left (t,R,Z \\right )} - \\frac{i}{2} \\Omega_{1}{\\left (t,R,Z \\right )} \\rho_{12}{\\left (t,R,Z \\right )} + \\frac{i}{2} \\Omega_{2}{\\left (t,R,Z \\right )} \\rho_{23}{\\left (t,R,Z \\right )} + \\frac{i}{2} \\rho_{21}{\\left (t,R,Z \\right )} \\overline{\\Omega_{1}{\\left (t,R,Z \\right )}} - \\frac{i}{2} \\rho_{32}{\\left (t,R,Z \\right )} \\overline{\\Omega_{2}{\\left (t,R,Z \\right )}}\\\\\\frac{\\partial}{\\partial t} \\rho_{33}{\\left (t,R,Z \\right )} & = & - \\gamma_{32} \\rho_{33}{\\left (t,R,Z \\right )} - \\frac{i}{2} \\Omega_{2}{\\left (t,R,Z \\right )} \\rho_{23}{\\left (t,R,Z \\right )} + \\frac{i}{2} \\rho_{32}{\\left (t,R,Z \\right )} \\overline{\\Omega_{2}{\\left (t,R,Z \\right )}}\\\\\\frac{\\partial}{\\partial t} \\rho_{21}{\\left (t,R,Z \\right )} & = & i \\delta_{1} \\rho_{21}{\\left (t,R,Z \\right )} - \\frac{\\gamma_{21}}{2} \\rho_{21}{\\left (t,R,Z \\right )} - \\frac{i}{2} \\Omega_{1}{\\left (t,R,Z \\right )} \\rho_{11}{\\left (t,R,Z \\right )} + \\frac{i}{2} \\Omega_{1}{\\left (t,R,Z \\right )} \\rho_{22}{\\left (t,R,Z \\right )} - \\frac{i}{2} \\rho_{31}{\\left (t,R,Z \\right )} \\overline{\\Omega_{2}{\\left (t,R,Z \\right )}}\\\\\\frac{\\partial}{\\partial t} \\rho_{31}{\\left (t,R,Z \\right )} & = & i \\delta_{1} \\rho_{31}{\\left (t,R,Z \\right )} + i \\delta_{2} \\rho_{31}{\\left (t,R,Z \\right )} - \\frac{\\gamma_{32}}{2} \\rho_{31}{\\left (t,R,Z \\right )} + \\frac{i}{2} \\Omega_{1}{\\left (t,R,Z \\right )} \\rho_{32}{\\left (t,R,Z \\right )} - \\frac{i}{2} \\Omega_{2}{\\left (t,R,Z \\right )} \\rho_{21}{\\left (t,R,Z \\right )}\\\\\\frac{\\partial}{\\partial t} \\rho_{32}{\\left (t,R,Z \\right )} & = & i \\delta_{2} \\rho_{32}{\\left (t,R,Z \\right )} - \\frac{\\gamma_{21}}{2} \\rho_{32}{\\left (t,R,Z \\right )} - \\frac{\\gamma_{32}}{2} \\rho_{32}{\\left (t,R,Z \\right )} - \\frac{i}{2} \\Omega_{2}{\\left (t,R,Z \\right )} \\rho_{22}{\\left (t,R,Z \\right )} + \\frac{i}{2} \\Omega_{2}{\\left (t,R,Z \\right )} \\rho_{33}{\\left (t,R,Z \\right )} + \\frac{i}{2} \\rho_{31}{\\left (t,R,Z \\right )} \\overline{\\Omega_{1}{\\left (t,R,Z \\right )}}\\end{matrix}\\right]$$"
      ],
      "text/plain": [
       "⎡                                                                             \n",
       "⎢∂                                                                            \n",
       "⎢──(ρ₁₁(t, R, Z))  =                                         γ₂₁⋅ρ₂₂(t, R, Z) \n",
       "⎢∂t                                                                           \n",
       "⎢                                                                             \n",
       "⎢                                                                             \n",
       "⎢∂                                                           ⅈ⋅Ω₁(t, R, Z)⋅ρ₁₂\n",
       "⎢──(ρ₂₂(t, R, Z))  =  -γ₂₁⋅ρ₂₂(t, R, Z) + γ₃₂⋅ρ₃₃(t, R, Z) - ─────────────────\n",
       "⎢∂t                                                                      2    \n",
       "⎢                                                                             \n",
       "⎢                                                                             \n",
       "⎢∂                                                                            \n",
       "⎢──(ρ₃₃(t, R, Z))  =                                        -γ₃₂⋅ρ₃₃(t, R, Z) \n",
       "⎢∂t                                                                           \n",
       "⎢                                                                             \n",
       "⎢                                                                             \n",
       "⎢∂                                                      γ₂₁⋅ρ₂₁(t, R, Z)   ⅈ⋅Ω\n",
       "⎢──(ρ₂₁(t, R, Z))  =                ⅈ⋅δ₁⋅ρ₂₁(t, R, Z) - ──────────────── - ───\n",
       "⎢∂t                                                            2              \n",
       "⎢                                                                             \n",
       "⎢∂                                                                            \n",
       "⎢──(ρ₃₁(t, R, Z))  =                     ⅈ⋅δ₁⋅ρ₃₁(t, R, Z) + ⅈ⋅δ₂⋅ρ₃₁(t, R, Z)\n",
       "⎢∂t                                                                           \n",
       "⎢                                                                             \n",
       "⎢                                                                             \n",
       "⎢∂                                             γ₂₁⋅ρ₃₂(t, R, Z)   γ₃₂⋅ρ₃₂(t, R\n",
       "⎢──(ρ₃₂(t, R, Z))  =       ⅈ⋅δ₂⋅ρ₃₂(t, R, Z) - ──────────────── - ────────────\n",
       "⎣∂t                                                   2                  2    \n",
       "\n",
       "                                              ___________                     \n",
       "  ⅈ⋅Ω₁(t, R, Z)⋅ρ₁₂(t, R, Z)   ⅈ⋅ρ₂₁(t, R, Z)⋅Ω₁(t, R, Z)                     \n",
       "+ ────────────────────────── - ──────────────────────────                     \n",
       "              2                            2                                  \n",
       "                                                                              \n",
       "                                                        ___________           \n",
       "(t, R, Z)   ⅈ⋅Ω₂(t, R, Z)⋅ρ₂₃(t, R, Z)   ⅈ⋅ρ₂₁(t, R, Z)⋅Ω₁(t, R, Z)   ⅈ⋅ρ₃₂(t,\n",
       "───────── + ────────────────────────── + ────────────────────────── - ────────\n",
       "                        2                            2                        \n",
       "                                                                              \n",
       "                                              ___________                     \n",
       "  ⅈ⋅Ω₂(t, R, Z)⋅ρ₂₃(t, R, Z)   ⅈ⋅ρ₃₂(t, R, Z)⋅Ω₂(t, R, Z)                     \n",
       "- ────────────────────────── + ──────────────────────────                     \n",
       "              2                            2                                  \n",
       "                                                                              \n",
       "                                                                      ________\n",
       "₁(t, R, Z)⋅ρ₁₁(t, R, Z)   ⅈ⋅Ω₁(t, R, Z)⋅ρ₂₂(t, R, Z)   ⅈ⋅ρ₃₁(t, R, Z)⋅Ω₂(t, R,\n",
       "─────────────────────── + ────────────────────────── - ───────────────────────\n",
       "         2                            2                            2          \n",
       "                                                                              \n",
       "   γ₃₂⋅ρ₃₁(t, R, Z)   ⅈ⋅Ω₁(t, R, Z)⋅ρ₃₂(t, R, Z)   ⅈ⋅Ω₂(t, R, Z)⋅ρ₂₁(t, R, Z) \n",
       " - ──────────────── + ────────────────────────── - ────────────────────────── \n",
       "          2                       2                            2              \n",
       "                                                                              \n",
       "                                                                              \n",
       ", Z)   ⅈ⋅Ω₂(t, R, Z)⋅ρ₂₂(t, R, Z)   ⅈ⋅Ω₂(t, R, Z)⋅ρ₃₃(t, R, Z)   ⅈ⋅ρ₃₁(t, R, Z\n",
       "──── - ────────────────────────── + ────────────────────────── + ─────────────\n",
       "                   2                            2                            2\n",
       "\n",
       "                  ⎤\n",
       "                  ⎥\n",
       "                  ⎥\n",
       "                  ⎥\n",
       "                  ⎥\n",
       "       ___________⎥\n",
       " R, Z)⋅Ω₂(t, R, Z)⎥\n",
       "──────────────────⎥\n",
       "    2             ⎥\n",
       "                  ⎥\n",
       "                  ⎥\n",
       "                  ⎥\n",
       "                  ⎥\n",
       "                  ⎥\n",
       "                  ⎥\n",
       "___               ⎥\n",
       " Z)               ⎥\n",
       "───               ⎥\n",
       "                  ⎥\n",
       "                  ⎥\n",
       "                  ⎥\n",
       "                  ⎥\n",
       "                  ⎥\n",
       "                  ⎥\n",
       "  ___________     ⎥\n",
       ")⋅Ω₁(t, R, Z)     ⎥\n",
       "─────────────     ⎥\n",
       "                  ⎦"
      ]
     },
     "execution_count": 103,
     "metadata": {},
     "output_type": "execute_result"
    }
   ],
   "source": [
    "eqsign=symbols(\"=\")\n",
    "eqs_list=[]\n",
    "for mu in range(0,Ne**2-1 -(Ne**2 - Ne)/2+1):\n",
    "    ii,jj,s=IJ(mu,Ne)\n",
    "    i=ii-1; j=jj-1\n",
    "    eqs_list+=[[Derivative(rho[i,j],t),eqsign,eqs[i,j]]]\n",
    "eqs_list=Matrix(eqs_list)\n",
    "fprint(eqs_list, print_ascii=print_ascii)"
   ]
  },
  {
   "cell_type": "markdown",
   "metadata": {},
   "source": [
    "# Wave equation\n",
    "\n",
    "From Maxwell's equations in a dielectric medium it can be shown that in the abscence of bound charges, and magnetization currents, the electric field and the polazation of the medium follow the inhomogeneous wave equation.\n",
    "\n",
    "\\begin{equation}\n",
    "    \\nabla^2 \\vec{E} - \\frac{1}{c^2} \\partial^2_t \\vec{E}= \\mu_0 \\partial_t^2 \\vec{P}\n",
    "\\end{equation}\n",
    "\n",
    "We have also taken our fields to be of the form\n",
    "\n",
    "\\begin{equation}\n",
    "    \\vec{E}(t,\\vec{R})=\\vec{E}^{+}+\\vec{E}^{-}=\\frac{1}{2} \\sum_l \\vec{E}^{l(+)}(t,\\vec{R}) e^{i(\\vec{k}^l \\cdot \\vec{R} -\\omega^l t)} +c.c.\n",
    "\\end{equation}\n",
    "\n",
    "The $(+)$ part of the field is explicitly"
   ]
  },
  {
   "cell_type": "code",
   "execution_count": 104,
   "metadata": {
    "collapsed": false
   },
   "outputs": [
    {
     "data": {
      "image/png": "[encoded data removed]",
      "text/latex": [
       "$$\\left [ \\left[\\begin{matrix}- \\frac{\\sqrt{2}}{4} \\operatorname{E_{01}}{\\left (t,R,Z \\right )} e^{- i \\varpi_{1} \\left(- \\frac{Z}{c} + t\\right)}\\\\- \\frac{\\sqrt{2} i}{4} \\operatorname{E_{01}}{\\left (t,R,Z \\right )} e^{- i \\varpi_{1} \\left(- \\frac{Z}{c} + t\\right)}\\\\0\\end{matrix}\\right], \\quad \\left[\\begin{matrix}\\frac{\\sqrt{2}}{4} \\operatorname{E_{02}}{\\left (t,R,Z \\right )} e^{- i \\varpi_{2} \\left(\\frac{Z}{c} + t\\right)}\\\\- \\frac{\\sqrt{2} i}{4} \\operatorname{E_{02}}{\\left (t,R,Z \\right )} e^{- i \\varpi_{2} \\left(\\frac{Z}{c} + t\\right)}\\\\0\\end{matrix}\\right]\\right ]$$"
      ],
      "text/plain": [
       "⎡⎡                                ⎛  Z    ⎞  ⎤  ⎡                             \n",
       "⎢⎢                      -ⅈ⋅varpi₁⋅⎜- ─ + t⎟  ⎥  ⎢                      -ⅈ⋅varp\n",
       "⎢⎢                                ⎝  c    ⎠  ⎥  ⎢                             \n",
       "⎢⎢ -√2⋅E_{01}(t, R, Z)⋅ℯ                     ⎥  ⎢  √2⋅E_{02}(t, R, Z)⋅ℯ       \n",
       "⎢⎢ ───────────────────────────────────────── ⎥, ⎢  ───────────────────────────\n",
       "⎢⎢                     4                     ⎥  ⎢                    4        \n",
       "⎢⎢                                           ⎥  ⎢                             \n",
       "⎢⎢                                 ⎛  Z    ⎞ ⎥  ⎢                             \n",
       "⎢⎢                       -ⅈ⋅varpi₁⋅⎜- ─ + t⎟ ⎥  ⎢                       -ⅈ⋅var\n",
       "⎢⎢                                 ⎝  c    ⎠ ⎥  ⎢                             \n",
       "⎢⎢-√2⋅ⅈ⋅E_{01}(t, R, Z)⋅ℯ                    ⎥  ⎢-√2⋅ⅈ⋅E_{02}(t, R, Z)⋅ℯ      \n",
       "⎢⎢───────────────────────────────────────────⎥  ⎢─────────────────────────────\n",
       "⎢⎢                     4                     ⎥  ⎢                    4        \n",
       "⎢⎢                                           ⎥  ⎢                             \n",
       "⎣⎣                     0                     ⎦  ⎣                    0        \n",
       "\n",
       "   ⎛Z    ⎞  ⎤⎤\n",
       "i₂⋅⎜─ + t⎟  ⎥⎥\n",
       "   ⎝c    ⎠  ⎥⎥\n",
       "            ⎥⎥\n",
       "──────────  ⎥⎥\n",
       "            ⎥⎥\n",
       "            ⎥⎥\n",
       "    ⎛Z    ⎞ ⎥⎥\n",
       "pi₂⋅⎜─ + t⎟ ⎥⎥\n",
       "    ⎝c    ⎠ ⎥⎥\n",
       "            ⎥⎥\n",
       "────────────⎥⎥\n",
       "            ⎥⎥\n",
       "            ⎥⎥\n",
       "            ⎦⎦"
      ]
     },
     "execution_count": 104,
     "metadata": {},
     "output_type": "execute_result"
    }
   ],
   "source": [
    "E_cartesian_p"
   ]
  },
  {
   "cell_type": "markdown",
   "metadata": {},
   "source": [
    "introducing this into the wave equation we get"
   ]
  },
  {
   "cell_type": "code",
   "execution_count": 105,
   "metadata": {
    "collapsed": true
   },
   "outputs": [],
   "source": [
    "def laplacian_cylindric(scalar,coords,full=False):\n",
    "    R,Phi,Z=coords\n",
    "    return Derivative(scalar,Z,2).doit()\n",
    "\n",
    "def laplacian_vec_cylindric(vector,coords,full=False):\n",
    "    return Matrix([ laplacian_cylindric(vi,coords,full=full) for vi in vector])"
   ]
  },
  {
   "cell_type": "code",
   "execution_count": 106,
   "metadata": {
    "collapsed": false
   },
   "outputs": [
    {
     "data": {
      "image/png": "[encoded data removed]",
      "text/latex": [
       "$$\\left[\\begin{matrix}- \\frac{\\sqrt{2}}{4} \\operatorname{E_{01}}{\\left (t,R,Z \\right )} e^{- i \\varpi_{1} \\left(- \\frac{Z}{c} + t\\right)} + \\frac{\\sqrt{2}}{4} \\operatorname{E_{02}}{\\left (t,R,Z \\right )} e^{- i \\varpi_{2} \\left(\\frac{Z}{c} + t\\right)}\\\\- \\frac{\\sqrt{2} i}{4} \\operatorname{E_{01}}{\\left (t,R,Z \\right )} e^{- i \\varpi_{1} \\left(- \\frac{Z}{c} + t\\right)} - \\frac{\\sqrt{2} i}{4} \\operatorname{E_{02}}{\\left (t,R,Z \\right )} e^{- i \\varpi_{2} \\left(\\frac{Z}{c} + t\\right)}\\\\0\\end{matrix}\\right]$$"
      ],
      "text/plain": [
       "⎡                                  ⎛  Z    ⎞                                 ⎛\n",
       "⎢                        -ⅈ⋅varpi₁⋅⎜- ─ + t⎟                       -ⅈ⋅varpi₂⋅⎜\n",
       "⎢                                  ⎝  c    ⎠                                 ⎝\n",
       "⎢    √2⋅E_{01}(t, R, Z)⋅ℯ                      √2⋅E_{02}(t, R, Z)⋅ℯ           \n",
       "⎢  - ─────────────────────────────────────── + ───────────────────────────────\n",
       "⎢                       4                                        4            \n",
       "⎢                                                                             \n",
       "⎢                                  ⎛  Z    ⎞                                  \n",
       "⎢                        -ⅈ⋅varpi₁⋅⎜- ─ + t⎟                         -ⅈ⋅varpi₂\n",
       "⎢                                  ⎝  c    ⎠                                  \n",
       "⎢  √2⋅ⅈ⋅E_{01}(t, R, Z)⋅ℯ                      √2⋅ⅈ⋅E_{02}(t, R, Z)⋅ℯ         \n",
       "⎢- ───────────────────────────────────────── - ───────────────────────────────\n",
       "⎢                      4                                          4           \n",
       "⎢                                                                             \n",
       "⎣                                          0                                  \n",
       "\n",
       "Z    ⎞  ⎤\n",
       "─ + t⎟  ⎥\n",
       "c    ⎠  ⎥\n",
       "        ⎥\n",
       "──────  ⎥\n",
       "        ⎥\n",
       "        ⎥\n",
       " ⎛Z    ⎞⎥\n",
       "⋅⎜─ + t⎟⎥\n",
       " ⎝c    ⎠⎥\n",
       "        ⎥\n",
       "────────⎥\n",
       "        ⎥\n",
       "        ⎥\n",
       "        ⎦"
      ]
     },
     "execution_count": 106,
     "metadata": {},
     "output_type": "execute_result"
    }
   ],
   "source": [
    "E_cartesian_p_tot = sum([E_cartesian_p[l] for l in range(Nl)], zero_vect)\n",
    "E_cartesian_p_tot"
   ]
  },
  {
   "cell_type": "code",
   "execution_count": 107,
   "metadata": {
    "collapsed": false
   },
   "outputs": [],
   "source": [
    "term1=laplacian_vec_cylindric(E_cartesian_p_tot,[R,Phi,Z]) \n",
    "term2=-1/c**2*Matrix([Derivative(vi,t,2).doit() for vi in E_cartesian_p_tot])\n",
    "lhs=term1+term2\n",
    "#pprint(lhs,num_columns=150)"
   ]
  },
  {
   "cell_type": "markdown",
   "metadata": {},
   "source": [
    "And if we consider the amplitudes as slowly varying envelopes (both in time and space) we can approximate them as"
   ]
  },
  {
   "cell_type": "code",
   "execution_count": 108,
   "metadata": {
    "collapsed": false
   },
   "outputs": [
    {
     "data": {
      "image/png": "[encoded data removed]",
      "text/latex": [
       "$$\\left \\{ \\frac{\\partial^{2}}{\\partial Z^{2}}  \\operatorname{E_{01}}{\\left (t,R,Z \\right )} : 0, \\quad \\frac{\\partial^{2}}{\\partial t^{2}}  \\operatorname{E_{01}}{\\left (t,R,Z \\right )} : 0, \\quad \\frac{\\partial^{2}}{\\partial Z^{2}}  \\operatorname{E_{02}}{\\left (t,R,Z \\right )} : 0, \\quad \\frac{\\partial^{2}}{\\partial t^{2}}  \\operatorname{E_{02}}{\\left (t,R,Z \\right )} : 0\\right \\}$$"
      ],
      "text/plain": [
       "⎧  2                        2                        2                        \n",
       "⎪ ∂                        ∂                        ∂                        ∂\n",
       "⎨───(E_{01}(t, R, Z)): 0, ───(E_{01}(t, R, Z)): 0, ───(E_{02}(t, R, Z)): 0, ──\n",
       "⎪  2                        2                        2                        \n",
       "⎩∂Z                       ∂t                       ∂Z                       ∂t\n",
       "\n",
       "2                    ⎫\n",
       "                     ⎪\n",
       "─(E_{02}(t, R, Z)): 0⎬\n",
       "2                    ⎪\n",
       "                     ⎭"
      ]
     },
     "execution_count": 108,
     "metadata": {},
     "output_type": "execute_result"
    }
   ],
   "source": [
    "svea_subs={Derivative(E0[0],Z,2):0,Derivative(E0[1],Z,2):0,\n",
    "           Derivative(E0[0],t,2):0,Derivative(E0[1],t,2):0}\n",
    "svea_subs"
   ]
  },
  {
   "cell_type": "code",
   "execution_count": 109,
   "metadata": {
    "collapsed": false
   },
   "outputs": [],
   "source": [
    "lhs=lhs.subs(svea_subs)\n",
    "lhs.simplify()\n",
    "# lhs"
   ]
  },
  {
   "cell_type": "markdown",
   "metadata": {},
   "source": [
    "On the other hand, we may approximate the macroscopic polarization of the atoms as varying only at the frequencies of the electric field components and at the same polarizations:\n",
    "\n",
    "\\begin{equation}\n",
    "    \\vec{P}=\\frac{1}{2}\\sum_l \\vec{P}^{l(+)} e^{i(\\vec{k}^l \\cdot \\vec{R} -\\omega^l t)} +c.c.\n",
    "\\end{equation}\n"
   ]
  },
  {
   "cell_type": "code",
   "execution_count": 110,
   "metadata": {
    "collapsed": false
   },
   "outputs": [],
   "source": [
    "P0 = [Function(\"P_0^1\")(t,R,Z), Function(\"P_0^2\")(t,R,Z)]\n",
    "# P0"
   ]
  },
  {
   "cell_type": "code",
   "execution_count": 111,
   "metadata": {
    "collapsed": false
   },
   "outputs": [],
   "source": [
    "P_cartesian_p=[P0[l]/2            *ep[l]*exp(-I*omega_laser[l]*(t-k[l].dot(RR)/c)) for l in range(Nl)]\n",
    "P_cartesian_m=[P0[l].conjugate()/2*em[l]*exp(I*omega_laser[l]*(t-k[l].dot(RR)/c)) for l in range(Nl)]\n",
    "\n",
    "P_cartesian_p_tot=sum(P_cartesian_p, zero_vect)\n",
    "\n",
    "# P_cartesian_p"
   ]
  },
  {
   "cell_type": "markdown",
   "metadata": {},
   "source": [
    "The right-hand side of the wave equation"
   ]
  },
  {
   "cell_type": "code",
   "execution_count": 112,
   "metadata": {
    "collapsed": false
   },
   "outputs": [],
   "source": [
    "rhs=mu0*Matrix([Derivative(vi,t,2).doit() for vi in P_cartesian_p_tot])\n",
    "#pprint(rhs)"
   ]
  },
  {
   "cell_type": "markdown",
   "metadata": {},
   "source": [
    "And in another slowly varying approximation, the terms with $(\\omega^1)^2$ are much larger than those with derivatives of the amplitudes."
   ]
  },
  {
   "cell_type": "code",
   "execution_count": 113,
   "metadata": {
    "collapsed": false
   },
   "outputs": [],
   "source": [
    "svea_subs2={Derivative(P0[0],t,1):0, Derivative(P0[1],t,1):0,\n",
    "            Derivative(P0[0],t,2):0, Derivative(P0[1],t,2):0}\n",
    "# svea_subs2"
   ]
  },
  {
   "cell_type": "code",
   "execution_count": 114,
   "metadata": {
    "collapsed": false
   },
   "outputs": [],
   "source": [
    "rhs=rhs.subs(svea_subs2)\n",
    "# pprint(rhs)"
   ]
  },
  {
   "cell_type": "code",
   "execution_count": 115,
   "metadata": {
    "collapsed": false
   },
   "outputs": [
    {
     "data": {
      "image/png": "[encoded data removed]",
      "text/latex": [
       "$$\\left[\\begin{matrix}- \\frac{\\sqrt{2} \\mu_{0}}{4} \\left(\\varpi_{1}^{2} \\operatorname{P^{1}_{0}}{\\left (t,R,Z \\right )} e^{i \\varpi_{1} \\left(\\frac{Z}{c} - t\\right)} - \\varpi_{2}^{2} \\operatorname{P^{2}_{0}}{\\left (t,R,Z \\right )} e^{- i \\varpi_{2} \\left(\\frac{Z}{c} + t\\right)}\\right) - \\frac{\\sqrt{2} i}{2 c^{2}} \\left(c \\varpi_{1} e^{i \\left(\\frac{Z \\varpi_{1}}{c} + \\frac{Z \\varpi_{2}}{c} + t \\varpi_{2}\\right)} \\frac{\\partial}{\\partial Z} \\operatorname{E_{01}}{\\left (t,R,Z \\right )} + c \\varpi_{2} e^{i t \\varpi_{1}} \\frac{\\partial}{\\partial Z} \\operatorname{E_{02}}{\\left (t,R,Z \\right )} + \\varpi_{1} e^{i \\left(\\frac{Z \\varpi_{1}}{c} + \\frac{Z \\varpi_{2}}{c} + t \\varpi_{2}\\right)} \\frac{\\partial}{\\partial t} \\operatorname{E_{01}}{\\left (t,R,Z \\right )} - \\varpi_{2} e^{i t \\varpi_{1}} \\frac{\\partial}{\\partial t} \\operatorname{E_{02}}{\\left (t,R,Z \\right )}\\right) e^{- i \\left(\\frac{Z \\varpi_{2}}{c} + t \\varpi_{1} + t \\varpi_{2}\\right)}\\\\- \\frac{\\sqrt{2} \\mu_{0}}{4} \\left(i \\varpi_{1}^{2} \\operatorname{P^{1}_{0}}{\\left (t,R,Z \\right )} e^{i \\varpi_{1} \\left(\\frac{Z}{c} - t\\right)} + i \\varpi_{2}^{2} \\operatorname{P^{2}_{0}}{\\left (t,R,Z \\right )} e^{- i \\varpi_{2} \\left(\\frac{Z}{c} + t\\right)}\\right) + \\frac{\\sqrt{2}}{2 c^{2}} \\left(c \\varpi_{1} e^{i \\left(\\frac{Z \\varpi_{1}}{c} + \\frac{Z \\varpi_{2}}{c} + t \\varpi_{2}\\right)} \\frac{\\partial}{\\partial Z} \\operatorname{E_{01}}{\\left (t,R,Z \\right )} - c \\varpi_{2} e^{i t \\varpi_{1}} \\frac{\\partial}{\\partial Z} \\operatorname{E_{02}}{\\left (t,R,Z \\right )} + \\varpi_{1} e^{i \\left(\\frac{Z \\varpi_{1}}{c} + \\frac{Z \\varpi_{2}}{c} + t \\varpi_{2}\\right)} \\frac{\\partial}{\\partial t} \\operatorname{E_{01}}{\\left (t,R,Z \\right )} + \\varpi_{2} e^{i t \\varpi_{1}} \\frac{\\partial}{\\partial t} \\operatorname{E_{02}}{\\left (t,R,Z \\right )}\\right) e^{- i \\left(\\frac{Z \\varpi_{2}}{c} + t \\varpi_{1} + t \\varpi_{2}\\right)}\\\\0\\end{matrix}\\right]$$"
      ],
      "text/plain": [
       "⎡                                                                             \n",
       "⎢         ⎛                               ⎛Z    ⎞                             \n",
       "⎢         ⎜                      ⅈ⋅varpi₁⋅⎜─ - t⎟                         -ⅈ⋅v\n",
       "⎢         ⎜      2                        ⎝c    ⎠         2                   \n",
       "⎢   √2⋅μ₀⋅⎝varpi₁ ⋅P¹₀(t, R, Z)⋅ℯ                 - varpi₂ ⋅P²₀(t, R, Z)⋅ℯ    \n",
       "⎢ - ──────────────────────────────────────────────────────────────────────────\n",
       "⎢                                              4                              \n",
       "⎢                                                                             \n",
       "⎢                                                                             \n",
       "⎢                                                                             \n",
       "⎢        ⎛                                 ⎛Z    ⎞                            \n",
       "⎢        ⎜                        ⅈ⋅varpi₁⋅⎜─ - t⎟                           -\n",
       "⎢        ⎜        2                        ⎝c    ⎠           2                \n",
       "⎢  √2⋅μ₀⋅⎝ⅈ⋅varpi₁ ⋅P¹₀(t, R, Z)⋅ℯ                 + ⅈ⋅varpi₂ ⋅P²₀(t, R, Z)⋅ℯ \n",
       "⎢- ───────────────────────────────────────────────────────────────────────────\n",
       "⎢                                               4                             \n",
       "⎢                                                                             \n",
       "⎢                                                                             \n",
       "⎣                                                                             \n",
       "\n",
       "                      ⎛            ⎛Z⋅varpi₁   Z⋅varpi₂           ⎞           \n",
       "      ⎛Z    ⎞⎞        ⎜          ⅈ⋅⎜──────── + ──────── + t⋅varpi₂⎟           \n",
       "arpi₂⋅⎜─ + t⎟⎟        ⎜            ⎝   c          c               ⎠ ∂         \n",
       "      ⎝c    ⎠⎟   √2⋅ⅈ⋅⎜c⋅varpi₁⋅ℯ                                  ⋅──(E_{01}(\n",
       "             ⎠        ⎝                                             ∂Z        \n",
       "────────────── - ─────────────────────────────────────────────────────────────\n",
       "                                                                              \n",
       "                                                                              \n",
       "                                                                              \n",
       "                       ⎛            ⎛Z⋅varpi₁   Z⋅varpi₂           ⎞          \n",
       "         ⎛Z    ⎞⎞      ⎜          ⅈ⋅⎜──────── + ──────── + t⋅varpi₂⎟          \n",
       "ⅈ⋅varpi₂⋅⎜─ + t⎟⎟      ⎜            ⎝   c          c               ⎠ ∂        \n",
       "         ⎝c    ⎠⎟   √2⋅⎜c⋅varpi₁⋅ℯ                                  ⋅──(E_{01}\n",
       "                ⎠      ⎝                                             ∂Z       \n",
       "───────────────── + ──────────────────────────────────────────────────────────\n",
       "                                                                              \n",
       "                                                                              \n",
       "                                                                              \n",
       "                                                                              \n",
       "\n",
       "                                                                 ⎛Z⋅varpi₁   Z\n",
       "                                                               ⅈ⋅⎜──────── + ─\n",
       "                      ⅈ⋅t⋅varpi₁ ∂                               ⎝   c        \n",
       "t, R, Z)) + c⋅varpi₂⋅ℯ          ⋅──(E_{02}(t, R, Z)) + varpi₁⋅ℯ               \n",
       "                                 ∂Z                                           \n",
       "──────────────────────────────────────────────────────────────────────────────\n",
       "                                                                     2        \n",
       "                                                                  2⋅c         \n",
       "                                                                              \n",
       "                                                                  ⎛Z⋅varpi₁   \n",
       "                                                                ⅈ⋅⎜──────── + \n",
       "                       ⅈ⋅t⋅varpi₁ ∂                               ⎝   c       \n",
       "(t, R, Z)) - c⋅varpi₂⋅ℯ          ⋅──(E_{02}(t, R, Z)) + varpi₁⋅ℯ              \n",
       "                                  ∂Z                                          \n",
       "──────────────────────────────────────────────────────────────────────────────\n",
       "                                                                       2      \n",
       "                                                                    2⋅c       \n",
       "                                                                              \n",
       "                    0                                                         \n",
       "\n",
       "⋅varpi₂           ⎞                                                           \n",
       "─────── + t⋅varpi₂⎟                                                           \n",
       "  c               ⎠ ∂                             ⅈ⋅t⋅varpi₁ ∂                \n",
       "                   ⋅──(E_{01}(t, R, Z)) - varpi₂⋅ℯ          ⋅──(E_{02}(t, R, Z\n",
       "                    ∂t                                       ∂t               \n",
       "──────────────────────────────────────────────────────────────────────────────\n",
       "                                                                              \n",
       "                                                                              \n",
       "                                                                              \n",
       "Z⋅varpi₂           ⎞                                                          \n",
       "──────── + t⋅varpi₂⎟                                                          \n",
       "   c               ⎠ ∂                             ⅈ⋅t⋅varpi₁ ∂               \n",
       "                    ⋅──(E_{01}(t, R, Z)) + varpi₂⋅ℯ          ⋅──(E_{02}(t, R, \n",
       "                     ∂t                                       ∂t              \n",
       "──────────────────────────────────────────────────────────────────────────────\n",
       "                                                                              \n",
       "                                                                              \n",
       "                                                                              \n",
       "                                                                              \n",
       "\n",
       "  ⎞     ⎛Z⋅varpi₂                      ⎞ ⎤\n",
       "  ⎟  -ⅈ⋅⎜──────── + t⋅varpi₁ + t⋅varpi₂⎟ ⎥\n",
       "  ⎟     ⎝   c                          ⎠ ⎥\n",
       "))⎟⋅ℯ                                    ⎥\n",
       "  ⎠                                      ⎥\n",
       "──────────────────────────────────────── ⎥\n",
       "                                         ⎥\n",
       "                                         ⎥\n",
       "                                         ⎥\n",
       "   ⎞     ⎛Z⋅varpi₂                      ⎞⎥\n",
       "   ⎟  -ⅈ⋅⎜──────── + t⋅varpi₁ + t⋅varpi₂⎟⎥\n",
       "   ⎟     ⎝   c                          ⎠⎥\n",
       "Z))⎟⋅ℯ                                   ⎥\n",
       "   ⎠                                     ⎥\n",
       "─────────────────────────────────────────⎥\n",
       "                                         ⎥\n",
       "                                         ⎥\n",
       "                                         ⎥\n",
       "                                         ⎦"
      ]
     },
     "execution_count": 115,
     "metadata": {},
     "output_type": "execute_result"
    }
   ],
   "source": [
    "eqs_wave=lhs-rhs\n",
    "# pprint(eqs_wave)\n",
    "eqs_wave"
   ]
  },
  {
   "cell_type": "markdown",
   "metadata": {},
   "source": [
    "These are three scalar equations each of which has coupled terms varying at high frequencies $\\omega^l$. However, these frequencies can be decoupled if the polarization of the beams are orthogonal (as they are in our case). Taking a dot product with the polarizations we obtain one equation for each frequency component."
   ]
  },
  {
   "cell_type": "code",
   "execution_count": 120,
   "metadata": {
    "collapsed": false
   },
   "outputs": [],
   "source": [
    "fact1=2*c**2*exp(I*omega_laser[0]*(t-Z/c))/(2*I*omega_laser[0])\n",
    "lhs1=(fact1*ep[0].conjugate().dot(lhs)).expand()\n",
    "rhs1=(fact1*ep[0].conjugate().dot(rhs)).expand()\n",
    "\n",
    "# lhs1, rhs1"
   ]
  },
  {
   "cell_type": "code",
   "execution_count": 121,
   "metadata": {
    "collapsed": false
   },
   "outputs": [],
   "source": [
    "fact2=2*c**2*exp(I*omega_laser[1]*(t+Z/c))/(2*I*omega_laser[1])\n",
    "lhs2=(fact2*ep[1].conjugate().dot(lhs)).expand()\n",
    "rhs2=(fact2*ep[1].conjugate().dot(rhs)).expand()\n",
    "\n",
    "# lhs2, rhs2"
   ]
  },
  {
   "cell_type": "markdown",
   "metadata": {},
   "source": [
    "We take the spacial derivatives to the right-hand side. Just because we can."
   ]
  },
  {
   "cell_type": "code",
   "execution_count": 122,
   "metadata": {
    "collapsed": true
   },
   "outputs": [],
   "source": [
    "lhs1=lhs1-c*Derivative(E0[0],Z)\n",
    "rhs1=rhs1-c*Derivative(E0[0],Z)\n",
    "\n",
    "lhs2=lhs2+c*Derivative(E0[1],Z)\n",
    "rhs2=rhs2+c*Derivative(E0[1],Z)"
   ]
  },
  {
   "cell_type": "markdown",
   "metadata": {},
   "source": [
    "We put these equations in terms of Rabi frequencies."
   ]
  },
  {
   "cell_type": "code",
   "execution_count": 123,
   "metadata": {
    "collapsed": false
   },
   "outputs": [
    {
     "data": {
      "image/png": "[encoded data removed]",
      "text/latex": [
       "$$\\left[\\begin{matrix}\\frac{\\partial}{\\partial t} \\Omega_{1}{\\left (t,R,Z \\right )} & = & \\frac{i e \\mu_{0} r_{+1;21}}{2 \\hbar} c^{2} \\varpi_{1} \\operatorname{P^{1}_{0}}{\\left (t,R,Z \\right )} - c \\frac{\\partial}{\\partial Z} \\Omega_{1}{\\left (t,R,Z \\right )}\\end{matrix}\\right]$$"
      ],
      "text/plain": [
       "⎡                       2                                                     \n",
       "⎢∂                   ⅈ⋅c ⋅e⋅μ₀⋅r_{+1;21}⋅varpi₁⋅P¹₀(t, R, Z)     ∂            \n",
       "⎢──(Ω₁(t, R, Z))  =  ─────────────────────────────────────── - c⋅──(Ω₁(t, R, Z\n",
       "⎣∂t                                    2⋅h̅                      ∂Z           \n",
       "\n",
       "  ⎤\n",
       "  ⎥\n",
       "))⎥\n",
       "  ⎦"
      ]
     },
     "execution_count": 123,
     "metadata": {},
     "output_type": "execute_result"
    }
   ],
   "source": [
    "fact12=e*r[2][1,0]/hbar\n",
    "lhs1=(fact12*lhs1.subs({E0[0]:Omega1*hbar/r[2][1,0]/e}).doit()).expand()\n",
    "rhs1=(fact12*rhs1.subs({E0[0]:Omega1*hbar/r[2][1,0]/e}).doit()).expand()\n",
    "\n",
    "Matrix([lhs1, eqsign, rhs1]).transpose()"
   ]
  },
  {
   "cell_type": "code",
   "execution_count": 124,
   "metadata": {
    "collapsed": false
   },
   "outputs": [
    {
     "data": {
      "image/png": "[encoded data removed]",
      "text/latex": [
       "$$\\left[\\begin{matrix}\\frac{\\partial}{\\partial t} \\Omega_{2}{\\left (t,R,Z \\right )} & = & \\frac{i e \\mu_{0} r_{-1;32}}{2 \\hbar} c^{2} \\varpi_{2} \\operatorname{P^{2}_{0}}{\\left (t,R,Z \\right )} + c \\frac{\\partial}{\\partial Z} \\Omega_{2}{\\left (t,R,Z \\right )}\\end{matrix}\\right]$$"
      ],
      "text/plain": [
       "⎡                       2                                                     \n",
       "⎢∂                   ⅈ⋅c ⋅e⋅μ₀⋅r_{-1;32}⋅varpi₂⋅P²₀(t, R, Z)     ∂            \n",
       "⎢──(Ω₂(t, R, Z))  =  ─────────────────────────────────────── + c⋅──(Ω₂(t, R, Z\n",
       "⎣∂t                                    2⋅h̅                      ∂Z           \n",
       "\n",
       "  ⎤\n",
       "  ⎥\n",
       "))⎥\n",
       "  ⎦"
      ]
     },
     "execution_count": 124,
     "metadata": {},
     "output_type": "execute_result"
    }
   ],
   "source": [
    "fact22 = e*r[0][2,1]/hbar\n",
    "lhs2 = (fact22*lhs2.subs({E0[1]: Omega2*hbar/r[0][2,1]/e}).doit()).expand()\n",
    "rhs2 = (fact22*rhs2.subs({E0[1]: Omega2*hbar/r[0][2,1]/e}).doit()).expand()\n",
    "\n",
    "Matrix([lhs2,eqsign,rhs2]).transpose()"
   ]
  },
  {
   "cell_type": "markdown",
   "metadata": {},
   "source": [
    "We may relate the macroscopic polarization to the density matrix if we identify the quantum mechanics operator that corresponds to the polarization. Since the polarization is nothing but the density of dipole moment, we can see that\n",
    "\n",
    "\\begin{equation}\n",
    "    \\vec{P}=-n \\mathrm{Tr}(e \\vec{\\hat{r}} \\hat{\\rho})\n",
    "\\end{equation}\n",
    "\n",
    "notice that the minus sign comes from the fact that $\\vec{\\hat{r}}$ points in the direction of the electron relative to the proton, while the electric dipole moment points in the opposite direction. If we further make the asumption that each frequency component $l$ of the polarization is only driven by the transition $|i\\rangle \\leftrightarrow |j\\rangle$ if $l\\in L_{ij}$, then we may decompose $\\vec{\\hat{r}}$ into $l$ components as.\n",
    "\n",
    "\\begin{equation}\n",
    "    \\vec{\\hat{r}} = \\sum_l \\vec{\\hat{r}}^{l(+)} + \\vec{\\hat{r}}^{l(+)}\n",
    "\\end{equation}\n",
    "\n",
    "Explicitly:"
   ]
  },
  {
   "cell_type": "code",
   "execution_count": 79,
   "metadata": {
    "collapsed": false
   },
   "outputs": [],
   "source": [
    "r_p_component=[ [ Matrix([ [ r_p[p][i,j] if l+1 in Lij[i][j] else 0\n",
    "                            for j in range(Ne)  ] for i in range(Ne)])\n",
    "                 for p in range(3)] for l in range(Nl)]\n",
    "\n",
    "r_m_component=[ [ Matrix([ [ r_m[p][i,j] if l+1 in Lij[i][j] else 0\n",
    "                            for j in range(Ne)  ] for i in range(Ne)])\n",
    "                 for p in range(3)] for l in range(Nl)]"
   ]
  },
  {
   "cell_type": "code",
   "execution_count": 80,
   "metadata": {
    "collapsed": false
   },
   "outputs": [],
   "source": [
    "rpl1=r_p_component[0]\n",
    "rpl2=r_p_component[1]"
   ]
  },
  {
   "cell_type": "code",
   "execution_count": 81,
   "metadata": {
    "collapsed": false
   },
   "outputs": [
    {
     "data": {
      "image/png": "[encoded data removed]",
      "text/latex": [
       "$$n{\\left (R,Z \\right )}$$"
      ],
      "text/plain": [
       "n(R, Z)"
      ]
     },
     "execution_count": 81,
     "metadata": {},
     "output_type": "execute_result"
    }
   ],
   "source": [
    "n=Function(\"n\")(R,Z)\n",
    "n"
   ]
  },
  {
   "cell_type": "code",
   "execution_count": 82,
   "metadata": {
    "collapsed": false
   },
   "outputs": [],
   "source": [
    "vh=Matrix(symbols(\"r_-,r0,r_+\",real=True))\n",
    "# vh,helicity_to_cartesian(vh)"
   ]
  },
  {
   "cell_type": "code",
   "execution_count": 83,
   "metadata": {
    "collapsed": false
   },
   "outputs": [],
   "source": [
    "rpl1_cartesian=[(rpl1[0]-rpl1[2])/sqrt(2),(rpl1[0]+rpl1[2])*I/sqrt(2),rpl1[1]]\n",
    "# rpl1_cartesian"
   ]
  },
  {
   "cell_type": "code",
   "execution_count": 84,
   "metadata": {
    "collapsed": false
   },
   "outputs": [],
   "source": [
    "rpl2_cartesian=[(rpl2[0]-rpl2[2])/sqrt(2),(rpl2[0]+rpl2[2])*I/sqrt(2),rpl2[1]]\n",
    "# rpl2_cartesian"
   ]
  },
  {
   "cell_type": "markdown",
   "metadata": {},
   "source": [
    "The following factor of 2 comes from the fact that $P^{l(+)}/2 = -e n Tr(\\vec{\\hat{r}}^{l(+)}\\hat{\\rho})$"
   ]
  },
  {
   "cell_type": "code",
   "execution_count": 85,
   "metadata": {
    "collapsed": false
   },
   "outputs": [],
   "source": [
    "Ppl1=-2*n*e*Matrix([ (rpl1_cartesian[i]*rho).trace() for i in range(3)])\n",
    "Ppl2=-2*n*e*Matrix([ (rpl2_cartesian[i]*rho).trace() for i in range(3)])\n",
    "\n",
    "# Ppl1, Ppl2"
   ]
  },
  {
   "cell_type": "markdown",
   "metadata": {},
   "source": [
    "Taking the dot product with the polarizations we get the polarization amplitudes in terms of density matrix elements."
   ]
  },
  {
   "cell_type": "code",
   "execution_count": 86,
   "metadata": {
    "collapsed": false
   },
   "outputs": [],
   "source": [
    "Ppl1=ep[0].conjugate().dot(Ppl1).expand()\n",
    "Ppl2=ep[1].conjugate().dot(Ppl2).expand()\n",
    "\n",
    "# Ppl1, Ppl2"
   ]
  },
  {
   "cell_type": "code",
   "execution_count": 145,
   "metadata": {
    "collapsed": false
   },
   "outputs": [
    {
     "data": {
      "image/png": "[encoded data removed]",
      "text/latex": [
       "$$- \\frac{i \\mu_{0}}{\\hbar} c^{2} e^{2} r_{+1;21}^{2} \\varpi_{1} n{\\left (R,Z \\right )} \\rho_{21}{\\left (t,R,Z \\right )} - c \\frac{\\partial}{\\partial Z} \\Omega_{1}{\\left (t,R,Z \\right )}$$"
      ],
      "text/plain": [
       "     2  2             2                                                \n",
       "  ⅈ⋅c ⋅e ⋅μ₀⋅r_{+1;21} ⋅varpi₁⋅n(R, Z)⋅ρ₂₁(t, R, Z)     ∂              \n",
       "- ───────────────────────────────────────────────── - c⋅──(Ω₁(t, R, Z))\n",
       "                          h̅                            ∂Z             "
      ]
     },
     "execution_count": 145,
     "metadata": {},
     "output_type": "execute_result"
    }
   ],
   "source": [
    "rhs1"
   ]
  },
  {
   "cell_type": "code",
   "execution_count": 87,
   "metadata": {
    "collapsed": false
   },
   "outputs": [],
   "source": [
    "rhs1=rhs1.subs({P0[0]:Ppl1})\n",
    "rhs2=rhs2.subs({P0[1]:Ppl2})"
   ]
  },
  {
   "cell_type": "code",
   "execution_count": 143,
   "metadata": {
    "collapsed": false
   },
   "outputs": [
    {
     "data": {
      "image/png": "[encoded data removed]",
      "text/latex": [
       "$$- \\frac{i \\mu_{0}}{\\hbar} c^{2} e^{2} r_{+1;21}^{2} \\varpi_{1} n{\\left (R,Z \\right )} \\rho_{21}{\\left (t,R,Z \\right )} - c \\frac{\\partial}{\\partial Z} \\Omega_{1}{\\left (t,R,Z \\right )}$$"
      ],
      "text/plain": [
       "     2  2             2                                                \n",
       "  ⅈ⋅c ⋅e ⋅μ₀⋅r_{+1;21} ⋅varpi₁⋅n(R, Z)⋅ρ₂₁(t, R, Z)     ∂              \n",
       "- ───────────────────────────────────────────────── - c⋅──(Ω₁(t, R, Z))\n",
       "                          h̅                            ∂Z             "
      ]
     },
     "execution_count": 143,
     "metadata": {},
     "output_type": "execute_result"
    }
   ],
   "source": [
    "rhs1"
   ]
  },
  {
   "cell_type": "code",
   "execution_count": 144,
   "metadata": {
    "collapsed": false
   },
   "outputs": [
    {
     "data": {
      "image/png": "[encoded data removed]",
      "text/latex": [
       "$$\\operatorname{P^{1}_{0}}{\\left (t,R,Z \\right )}$$"
      ],
      "text/plain": [
       "P¹₀(t, R, Z)"
      ]
     },
     "execution_count": 144,
     "metadata": {},
     "output_type": "execute_result"
    }
   ],
   "source": [
    "P0[0]"
   ]
  },
  {
   "cell_type": "code",
   "execution_count": null,
   "metadata": {
    "collapsed": true
   },
   "outputs": [],
   "source": []
  },
  {
   "cell_type": "markdown",
   "metadata": {
    "collapsed": true
   },
   "source": [
    "# Maxwell-Bloch equations\n",
    "\n",
    "And we add these equations to the Bloch equations"
   ]
  },
  {
   "cell_type": "code",
   "execution_count": 142,
   "metadata": {
    "collapsed": false
   },
   "outputs": [
    {
     "data": {
      "image/png": "[encoded data removed]",
      "text/latex": [
       "$$\\left[\\begin{matrix}\\frac{\\partial}{\\partial t} \\rho_{11}{\\left (t,R,Z \\right )} & = & \\gamma_{21} \\rho_{22}{\\left (t,R,Z \\right )} + \\frac{i}{2} \\Omega_{1}{\\left (t,R,Z \\right )} \\rho_{12}{\\left (t,R,Z \\right )} - \\frac{i}{2} \\rho_{21}{\\left (t,R,Z \\right )} \\overline{\\Omega_{1}{\\left (t,R,Z \\right )}}\\\\\\frac{\\partial}{\\partial t} \\rho_{22}{\\left (t,R,Z \\right )} & = & - \\gamma_{21} \\rho_{22}{\\left (t,R,Z \\right )} + \\gamma_{32} \\rho_{33}{\\left (t,R,Z \\right )} - \\frac{i}{2} \\Omega_{1}{\\left (t,R,Z \\right )} \\rho_{12}{\\left (t,R,Z \\right )} + \\frac{i}{2} \\Omega_{2}{\\left (t,R,Z \\right )} \\rho_{23}{\\left (t,R,Z \\right )} + \\frac{i}{2} \\rho_{21}{\\left (t,R,Z \\right )} \\overline{\\Omega_{1}{\\left (t,R,Z \\right )}} - \\frac{i}{2} \\rho_{32}{\\left (t,R,Z \\right )} \\overline{\\Omega_{2}{\\left (t,R,Z \\right )}}\\\\\\frac{\\partial}{\\partial t} \\rho_{33}{\\left (t,R,Z \\right )} & = & - \\gamma_{32} \\rho_{33}{\\left (t,R,Z \\right )} - \\frac{i}{2} \\Omega_{2}{\\left (t,R,Z \\right )} \\rho_{23}{\\left (t,R,Z \\right )} + \\frac{i}{2} \\rho_{32}{\\left (t,R,Z \\right )} \\overline{\\Omega_{2}{\\left (t,R,Z \\right )}}\\\\\\frac{\\partial}{\\partial t} \\rho_{21}{\\left (t,R,Z \\right )} & = & i \\delta_{1} \\rho_{21}{\\left (t,R,Z \\right )} - \\frac{\\gamma_{21}}{2} \\rho_{21}{\\left (t,R,Z \\right )} - \\frac{i}{2} \\Omega_{1}{\\left (t,R,Z \\right )} \\rho_{11}{\\left (t,R,Z \\right )} + \\frac{i}{2} \\Omega_{1}{\\left (t,R,Z \\right )} \\rho_{22}{\\left (t,R,Z \\right )} - \\frac{i}{2} \\rho_{31}{\\left (t,R,Z \\right )} \\overline{\\Omega_{2}{\\left (t,R,Z \\right )}}\\\\\\frac{\\partial}{\\partial t} \\rho_{31}{\\left (t,R,Z \\right )} & = & i \\delta_{1} \\rho_{31}{\\left (t,R,Z \\right )} + i \\delta_{2} \\rho_{31}{\\left (t,R,Z \\right )} - \\frac{\\gamma_{32}}{2} \\rho_{31}{\\left (t,R,Z \\right )} + \\frac{i}{2} \\Omega_{1}{\\left (t,R,Z \\right )} \\rho_{32}{\\left (t,R,Z \\right )} - \\frac{i}{2} \\Omega_{2}{\\left (t,R,Z \\right )} \\rho_{21}{\\left (t,R,Z \\right )}\\\\\\frac{\\partial}{\\partial t} \\rho_{32}{\\left (t,R,Z \\right )} & = & i \\delta_{2} \\rho_{32}{\\left (t,R,Z \\right )} - \\frac{\\gamma_{21}}{2} \\rho_{32}{\\left (t,R,Z \\right )} - \\frac{\\gamma_{32}}{2} \\rho_{32}{\\left (t,R,Z \\right )} - \\frac{i}{2} \\Omega_{2}{\\left (t,R,Z \\right )} \\rho_{22}{\\left (t,R,Z \\right )} + \\frac{i}{2} \\Omega_{2}{\\left (t,R,Z \\right )} \\rho_{33}{\\left (t,R,Z \\right )} + \\frac{i}{2} \\rho_{31}{\\left (t,R,Z \\right )} \\overline{\\Omega_{1}{\\left (t,R,Z \\right )}}\\\\\\frac{\\partial}{\\partial t} \\Omega_{1}{\\left (t,R,Z \\right )} & = & - \\frac{i \\mu_{0}}{\\hbar} c^{2} e^{2} r_{+1;21}^{2} \\varpi_{1} n{\\left (R,Z \\right )} \\rho_{21}{\\left (t,R,Z \\right )} - c \\frac{\\partial}{\\partial Z} \\Omega_{1}{\\left (t,R,Z \\right )}\\\\\\frac{\\partial}{\\partial t} \\Omega_{2}{\\left (t,R,Z \\right )} & = & - \\frac{i \\mu_{0}}{\\hbar} c^{2} e^{2} r_{-1;32}^{2} \\varpi_{2} n{\\left (R,Z \\right )} \\rho_{32}{\\left (t,R,Z \\right )} + c \\frac{\\partial}{\\partial Z} \\Omega_{2}{\\left (t,R,Z \\right )}\\end{matrix}\\right]$$"
      ],
      "text/plain": [
       "⎡                                                                             \n",
       "⎢∂                                                                            \n",
       "⎢──(ρ₁₁(t, R, Z))  =                                         γ₂₁⋅ρ₂₂(t, R, Z) \n",
       "⎢∂t                                                                           \n",
       "⎢                                                                             \n",
       "⎢                                                                             \n",
       "⎢∂                                                           ⅈ⋅Ω₁(t, R, Z)⋅ρ₁₂\n",
       "⎢──(ρ₂₂(t, R, Z))  =  -γ₂₁⋅ρ₂₂(t, R, Z) + γ₃₂⋅ρ₃₃(t, R, Z) - ─────────────────\n",
       "⎢∂t                                                                      2    \n",
       "⎢                                                                             \n",
       "⎢                                                                             \n",
       "⎢∂                                                                            \n",
       "⎢──(ρ₃₃(t, R, Z))  =                                        -γ₃₂⋅ρ₃₃(t, R, Z) \n",
       "⎢∂t                                                                           \n",
       "⎢                                                                             \n",
       "⎢                                                                             \n",
       "⎢∂                                                      γ₂₁⋅ρ₂₁(t, R, Z)   ⅈ⋅Ω\n",
       "⎢──(ρ₂₁(t, R, Z))  =                ⅈ⋅δ₁⋅ρ₂₁(t, R, Z) - ──────────────── - ───\n",
       "⎢∂t                                                            2              \n",
       "⎢                                                                             \n",
       "⎢∂                                                                            \n",
       "⎢──(ρ₃₁(t, R, Z))  =                     ⅈ⋅δ₁⋅ρ₃₁(t, R, Z) + ⅈ⋅δ₂⋅ρ₃₁(t, R, Z)\n",
       "⎢∂t                                                                           \n",
       "⎢                                                                             \n",
       "⎢                                                                             \n",
       "⎢∂                                             γ₂₁⋅ρ₃₂(t, R, Z)   γ₃₂⋅ρ₃₂(t, R\n",
       "⎢──(ρ₃₂(t, R, Z))  =       ⅈ⋅δ₂⋅ρ₃₂(t, R, Z) - ──────────────── - ────────────\n",
       "⎢∂t                                                   2                  2    \n",
       "⎢                                                                             \n",
       "⎢                                                                  2  2       \n",
       "⎢∂                                                              ⅈ⋅c ⋅e ⋅μ₀⋅r_{\n",
       "⎢──(Ω₁(t, R, Z))   =                                          - ──────────────\n",
       "⎢∂t                                                                           \n",
       "⎢                                                                             \n",
       "⎢                                                                  2  2       \n",
       "⎢∂                                                              ⅈ⋅c ⋅e ⋅μ₀⋅r_{\n",
       "⎢──(Ω₂(t, R, Z))   =                                          - ──────────────\n",
       "⎣∂t                                                                           \n",
       "\n",
       "                                              ___________                     \n",
       "  ⅈ⋅Ω₁(t, R, Z)⋅ρ₁₂(t, R, Z)   ⅈ⋅ρ₂₁(t, R, Z)⋅Ω₁(t, R, Z)                     \n",
       "+ ────────────────────────── - ──────────────────────────                     \n",
       "              2                            2                                  \n",
       "                                                                              \n",
       "                                                        ___________           \n",
       "(t, R, Z)   ⅈ⋅Ω₂(t, R, Z)⋅ρ₂₃(t, R, Z)   ⅈ⋅ρ₂₁(t, R, Z)⋅Ω₁(t, R, Z)   ⅈ⋅ρ₃₂(t,\n",
       "───────── + ────────────────────────── + ────────────────────────── - ────────\n",
       "                        2                            2                        \n",
       "                                                                              \n",
       "                                              ___________                     \n",
       "  ⅈ⋅Ω₂(t, R, Z)⋅ρ₂₃(t, R, Z)   ⅈ⋅ρ₃₂(t, R, Z)⋅Ω₂(t, R, Z)                     \n",
       "- ────────────────────────── + ──────────────────────────                     \n",
       "              2                            2                                  \n",
       "                                                                              \n",
       "                                                                      ________\n",
       "₁(t, R, Z)⋅ρ₁₁(t, R, Z)   ⅈ⋅Ω₁(t, R, Z)⋅ρ₂₂(t, R, Z)   ⅈ⋅ρ₃₁(t, R, Z)⋅Ω₂(t, R,\n",
       "─────────────────────── + ────────────────────────── - ───────────────────────\n",
       "         2                            2                            2          \n",
       "                                                                              \n",
       "   γ₃₂⋅ρ₃₁(t, R, Z)   ⅈ⋅Ω₁(t, R, Z)⋅ρ₃₂(t, R, Z)   ⅈ⋅Ω₂(t, R, Z)⋅ρ₂₁(t, R, Z) \n",
       " - ──────────────── + ────────────────────────── - ────────────────────────── \n",
       "          2                       2                            2              \n",
       "                                                                              \n",
       "                                                                              \n",
       ", Z)   ⅈ⋅Ω₂(t, R, Z)⋅ρ₂₂(t, R, Z)   ⅈ⋅Ω₂(t, R, Z)⋅ρ₃₃(t, R, Z)   ⅈ⋅ρ₃₁(t, R, Z\n",
       "──── - ────────────────────────── + ────────────────────────── + ─────────────\n",
       "                   2                            2                            2\n",
       "                                                                              \n",
       "      2                                                                       \n",
       "+1;21} ⋅varpi₁⋅n(R, Z)⋅ρ₂₁(t, R, Z)     ∂                                     \n",
       "─────────────────────────────────── - c⋅──(Ω₁(t, R, Z))                       \n",
       "          h̅                            ∂Z                                    \n",
       "                                                                              \n",
       "      2                                                                       \n",
       "-1;32} ⋅varpi₂⋅n(R, Z)⋅ρ₃₂(t, R, Z)     ∂                                     \n",
       "─────────────────────────────────── + c⋅──(Ω₂(t, R, Z))                       \n",
       "          h̅                            ∂Z                                    \n",
       "\n",
       "                  ⎤\n",
       "                  ⎥\n",
       "                  ⎥\n",
       "                  ⎥\n",
       "                  ⎥\n",
       "       ___________⎥\n",
       " R, Z)⋅Ω₂(t, R, Z)⎥\n",
       "──────────────────⎥\n",
       "    2             ⎥\n",
       "                  ⎥\n",
       "                  ⎥\n",
       "                  ⎥\n",
       "                  ⎥\n",
       "                  ⎥\n",
       "                  ⎥\n",
       "___               ⎥\n",
       " Z)               ⎥\n",
       "───               ⎥\n",
       "                  ⎥\n",
       "                  ⎥\n",
       "                  ⎥\n",
       "                  ⎥\n",
       "                  ⎥\n",
       "                  ⎥\n",
       "  ___________     ⎥\n",
       ")⋅Ω₁(t, R, Z)     ⎥\n",
       "─────────────     ⎥\n",
       "                  ⎥\n",
       "                  ⎥\n",
       "                  ⎥\n",
       "                  ⎥\n",
       "                  ⎥\n",
       "                  ⎥\n",
       "                  ⎥\n",
       "                  ⎥\n",
       "                  ⎥\n",
       "                  ⎥\n",
       "                  ⎦"
      ]
     },
     "execution_count": 142,
     "metadata": {},
     "output_type": "execute_result"
    }
   ],
   "source": [
    "eqsign=symbols(\"=\")\n",
    "eqs_list=[]\n",
    "for mu in range(0,Ne**2-1 -(Ne**2 - Ne)/2+1):\n",
    "    ii,jj,s=IJ(mu,Ne)\n",
    "    i=ii-1; j=jj-1\n",
    "    eqs_list+=[[Derivative(rho[i,j],t),eqsign,eqs[i,j]]]\n",
    "\n",
    "eqs_list += [[lhs1, eqsign, rhs1]]\n",
    "eqs_list += [[lhs2, eqsign, rhs2]]\n",
    "\n",
    "eqs_list=Matrix(eqs_list)\n",
    "fprint(eqs_list, print_ascii=print_ascii)"
   ]
  },
  {
   "cell_type": "markdown",
   "metadata": {},
   "source": [
    "Question: how to use calculations from detunings as a replacement for calculations for velocity classes."
   ]
  },
  {
   "cell_type": "markdown",
   "metadata": {},
   "source": [
    "# Linear approximation\n",
    "\n",
    "We can linearize this equations by approximating all the population to be in $\\rho_{11}$, and taking field $\\Omega_1$ to be weak, and the coherences to be small. We will add an $\\epsilon$ to all terms involving either coherences or signal field."
   ]
  },
  {
   "cell_type": "code",
   "execution_count": 89,
   "metadata": {
    "collapsed": false
   },
   "outputs": [],
   "source": [
    "epsilon=symbols(\"varepsilon\", real=True)\n",
    "lin_subs={rho[0,0]:1, rho[1,1]:epsilon**2*rho[1,1], rho[2,2]:epsilon**2*rho[2,2],\n",
    "          rho[1,0]:epsilon*rho[1,0], rho[0,1]:epsilon*rho[0,1],\n",
    "          rho[2,0]:epsilon*rho[2,0], rho[0,2]:epsilon*rho[0,2],\n",
    "          rho[2,1]:epsilon*rho[2,1], rho[1,2]:epsilon*rho[1,2],\n",
    "          Omega1: epsilon*Omega1}\n",
    "# lin_subs"
   ]
  },
  {
   "cell_type": "code",
   "execution_count": 90,
   "metadata": {
    "collapsed": false
   },
   "outputs": [
    {
     "data": {
      "image/png": "[encoded data removed]",
      "text/latex": [
       "$$\\left[\\begin{matrix}\\frac{d}{d t} 1 & = & \\gamma_{21} \\varepsilon^{2} \\rho_{22}{\\left (t,R,Z \\right )} + \\frac{i \\varepsilon^{2}}{2} \\Omega_{1}{\\left (t,R,Z \\right )} \\rho_{12}{\\left (t,R,Z \\right )} - \\frac{i \\varepsilon^{2}}{2} \\rho_{21}{\\left (t,R,Z \\right )} \\overline{\\Omega_{1}{\\left (t,R,Z \\right )}}\\\\\\frac{\\partial}{\\partial t}\\left(\\varepsilon^{2} \\rho_{22}{\\left (t,R,Z \\right )}\\right) & = & - \\gamma_{21} \\varepsilon^{2} \\rho_{22}{\\left (t,R,Z \\right )} + \\gamma_{32} \\varepsilon^{2} \\rho_{33}{\\left (t,R,Z \\right )} - \\frac{i \\varepsilon^{2}}{2} \\Omega_{1}{\\left (t,R,Z \\right )} \\rho_{12}{\\left (t,R,Z \\right )} + \\frac{i \\varepsilon^{2}}{2} \\rho_{21}{\\left (t,R,Z \\right )} \\overline{\\Omega_{1}{\\left (t,R,Z \\right )}} + \\frac{i \\varepsilon}{2} \\Omega_{2}{\\left (t,R,Z \\right )} \\rho_{23}{\\left (t,R,Z \\right )} - \\frac{i \\varepsilon}{2} \\rho_{32}{\\left (t,R,Z \\right )} \\overline{\\Omega_{2}{\\left (t,R,Z \\right )}}\\\\\\frac{\\partial}{\\partial t}\\left(\\varepsilon^{2} \\rho_{33}{\\left (t,R,Z \\right )}\\right) & = & - \\gamma_{32} \\varepsilon^{2} \\rho_{33}{\\left (t,R,Z \\right )} - \\frac{i \\varepsilon}{2} \\Omega_{2}{\\left (t,R,Z \\right )} \\rho_{23}{\\left (t,R,Z \\right )} + \\frac{i \\varepsilon}{2} \\rho_{32}{\\left (t,R,Z \\right )} \\overline{\\Omega_{2}{\\left (t,R,Z \\right )}}\\\\\\frac{\\partial}{\\partial t}\\left(\\varepsilon \\rho_{21}{\\left (t,R,Z \\right )}\\right) & = & i \\delta_{1} \\varepsilon \\rho_{21}{\\left (t,R,Z \\right )} - \\frac{\\gamma_{21} \\varepsilon}{2} \\rho_{21}{\\left (t,R,Z \\right )} + \\frac{i \\varepsilon^{3}}{2} \\Omega_{1}{\\left (t,R,Z \\right )} \\rho_{22}{\\left (t,R,Z \\right )} - \\frac{i \\varepsilon}{2} \\Omega_{1}{\\left (t,R,Z \\right )} - \\frac{i \\varepsilon}{2} \\rho_{31}{\\left (t,R,Z \\right )} \\overline{\\Omega_{2}{\\left (t,R,Z \\right )}}\\\\\\frac{\\partial}{\\partial t}\\left(\\varepsilon \\rho_{31}{\\left (t,R,Z \\right )}\\right) & = & i \\delta_{1} \\varepsilon \\rho_{31}{\\left (t,R,Z \\right )} + i \\delta_{2} \\varepsilon \\rho_{31}{\\left (t,R,Z \\right )} - \\frac{\\gamma_{32} \\varepsilon}{2} \\rho_{31}{\\left (t,R,Z \\right )} + \\frac{i \\varepsilon^{2}}{2} \\Omega_{1}{\\left (t,R,Z \\right )} \\rho_{32}{\\left (t,R,Z \\right )} - \\frac{i \\varepsilon}{2} \\Omega_{2}{\\left (t,R,Z \\right )} \\rho_{21}{\\left (t,R,Z \\right )}\\\\\\frac{\\partial}{\\partial t}\\left(\\varepsilon \\rho_{32}{\\left (t,R,Z \\right )}\\right) & = & i \\delta_{2} \\varepsilon \\rho_{32}{\\left (t,R,Z \\right )} - \\frac{\\gamma_{21} \\varepsilon}{2} \\rho_{32}{\\left (t,R,Z \\right )} - \\frac{\\gamma_{32} \\varepsilon}{2} \\rho_{32}{\\left (t,R,Z \\right )} - \\frac{i \\varepsilon^{2}}{2} \\Omega_{2}{\\left (t,R,Z \\right )} \\rho_{22}{\\left (t,R,Z \\right )} + \\frac{i \\varepsilon^{2}}{2} \\Omega_{2}{\\left (t,R,Z \\right )} \\rho_{33}{\\left (t,R,Z \\right )} + \\frac{i \\varepsilon^{2}}{2} \\rho_{31}{\\left (t,R,Z \\right )} \\overline{\\Omega_{1}{\\left (t,R,Z \\right )}}\\\\\\frac{\\partial}{\\partial t}\\left(\\varepsilon \\Omega_{1}{\\left (t,R,Z \\right )}\\right) & = & - \\frac{i \\varepsilon}{\\hbar} c^{2} e^{2} \\mu_{0} r_{+1;21}^{2} \\varpi_{1} n{\\left (R,Z \\right )} \\rho_{21}{\\left (t,R,Z \\right )} - c \\frac{\\partial}{\\partial Z}\\left(\\varepsilon \\Omega_{1}{\\left (t,R,Z \\right )}\\right)\\\\\\frac{\\partial}{\\partial t} \\Omega_{2}{\\left (t,R,Z \\right )} & = & - \\frac{i \\varepsilon}{\\hbar} c^{2} e^{2} \\mu_{0} r_{-1;32}^{2} \\varpi_{2} n{\\left (R,Z \\right )} \\rho_{32}{\\left (t,R,Z \\right )} + c \\frac{\\partial}{\\partial Z} \\Omega_{2}{\\left (t,R,Z \\right )}\\end{matrix}\\right]$$"
      ],
      "text/plain": [
       "⎡                                                                             \n",
       "⎢           d                                                                 \n",
       "⎢           ──(1)              =                                              \n",
       "⎢           dt                                                                \n",
       "⎢                                                                             \n",
       "⎢                                                                             \n",
       "⎢∂ ⎛          2             ⎞                     2                           \n",
       "⎢──⎝varepsilon ⋅ρ₂₂(t, R, Z)⎠  =  - γ₂₁⋅varepsilon ⋅ρ₂₂(t, R, Z) + γ₃₂⋅varepsi\n",
       "⎢∂t                                                                           \n",
       "⎢                                                                             \n",
       "⎢                                                                             \n",
       "⎢∂ ⎛          2             ⎞                                                 \n",
       "⎢──⎝varepsilon ⋅ρ₃₃(t, R, Z)⎠  =                                              \n",
       "⎢∂t                                                                           \n",
       "⎢                                                                             \n",
       "⎢                                                                             \n",
       "⎢∂                                                                            \n",
       "⎢──(varepsilon⋅ρ₂₁(t, R, Z))   =                              ⅈ⋅δ₁⋅varepsilon⋅\n",
       "⎢∂t                                                                           \n",
       "⎢                                                                             \n",
       "⎢                                                                             \n",
       "⎢∂                                                                            \n",
       "⎢──(varepsilon⋅ρ₃₁(t, R, Z))   =                            ⅈ⋅δ₁⋅varepsilon⋅ρ₃\n",
       "⎢∂t                                                                           \n",
       "⎢                                                                             \n",
       "⎢                                                                             \n",
       "⎢∂                                                                     γ₂₁⋅var\n",
       "⎢──(varepsilon⋅ρ₃₂(t, R, Z))   =        ⅈ⋅δ₂⋅varepsilon⋅ρ₃₂(t, R, Z) - ───────\n",
       "⎢∂t                                                                           \n",
       "⎢                                                                             \n",
       "⎢                                                                             \n",
       "⎢ ∂                                                                           \n",
       "⎢ ──(varepsilon⋅Ω₁(t, R, Z))   =                                              \n",
       "⎢ ∂t                                                                          \n",
       "⎢                                                                             \n",
       "⎢                                                                             \n",
       "⎢      ∂                                                                      \n",
       "⎢      ──(Ω₂(t, R, Z))         =                                              \n",
       "⎣      ∂t                                                                     \n",
       "\n",
       "                                                       2                      \n",
       "                          2                ⅈ⋅varepsilon ⋅Ω₁(t, R, Z)⋅ρ₁₂(t, R,\n",
       "            γ₂₁⋅varepsilon ⋅ρ₂₂(t, R, Z) + ───────────────────────────────────\n",
       "                                                             2                \n",
       "                                                                              \n",
       "                                2                                        2    \n",
       "   2                ⅈ⋅varepsilon ⋅Ω₁(t, R, Z)⋅ρ₁₂(t, R, Z)   ⅈ⋅varepsilon ⋅ρ₂₁\n",
       "lon ⋅ρ₃₃(t, R, Z) - ────────────────────────────────────── + ─────────────────\n",
       "                                      2                                       \n",
       "                                                                              \n",
       "                                                                              \n",
       "                            2                ⅈ⋅varepsilon⋅Ω₂(t, R, Z)⋅ρ₂₃(t, R\n",
       "            - γ₃₂⋅varepsilon ⋅ρ₃₃(t, R, Z) - ─────────────────────────────────\n",
       "                                                               2              \n",
       "                                                                              \n",
       "                                                         3                    \n",
       "               γ₂₁⋅varepsilon⋅ρ₂₁(t, R, Z)   ⅈ⋅varepsilon ⋅Ω₁(t, R, Z)⋅ρ₂₂(t, \n",
       "ρ₂₁(t, R, Z) - ─────────────────────────── + ─────────────────────────────────\n",
       "                            2                                  2              \n",
       "                                                                              \n",
       "                                                                              \n",
       "                                            γ₃₂⋅varepsilon⋅ρ₃₁(t, R, Z)   ⅈ⋅va\n",
       "₁(t, R, Z) + ⅈ⋅δ₂⋅varepsilon⋅ρ₃₁(t, R, Z) - ─────────────────────────── + ────\n",
       "                                                         2                    \n",
       "                                                                              \n",
       "                                                                 2            \n",
       "epsilon⋅ρ₃₂(t, R, Z)   γ₃₂⋅varepsilon⋅ρ₃₂(t, R, Z)   ⅈ⋅varepsilon ⋅Ω₂(t, R, Z)\n",
       "──────────────────── - ─────────────────────────── - ─────────────────────────\n",
       "      2                             2                                  2      \n",
       "                                                                              \n",
       "                          2  2             2                                  \n",
       "                       ⅈ⋅c ⋅e ⋅μ₀⋅r_{+1;21} ⋅varepsilon⋅varpi₁⋅n(R, Z)⋅ρ₂₁(t, \n",
       "                     - ───────────────────────────────────────────────────────\n",
       "                                                    h̅                        \n",
       "                                                                              \n",
       "                               2  2             2                             \n",
       "                            ⅈ⋅c ⋅e ⋅μ₀⋅r_{-1;32} ⋅varepsilon⋅varpi₂⋅n(R, Z)⋅ρ₃\n",
       "                          - ──────────────────────────────────────────────────\n",
       "                                                         h̅                   \n",
       "\n",
       "                  2              ___________                                  \n",
       " Z)   ⅈ⋅varepsilon ⋅ρ₂₁(t, R, Z)⋅Ω₁(t, R, Z)                                  \n",
       "─── - ──────────────────────────────────────                                  \n",
       "                        2                                                     \n",
       "                                                                              \n",
       "          ___________                                                         \n",
       "(t, R, Z)⋅Ω₁(t, R, Z)   ⅈ⋅varepsilon⋅Ω₂(t, R, Z)⋅ρ₂₃(t, R, Z)   ⅈ⋅varepsilon⋅ρ\n",
       "───────────────────── + ───────────────────────────────────── - ──────────────\n",
       " 2                                        2                                   \n",
       "                                                                              \n",
       "                                 ___________                                  \n",
       ", Z)   ⅈ⋅varepsilon⋅ρ₃₂(t, R, Z)⋅Ω₂(t, R, Z)                                  \n",
       "──── + ─────────────────────────────────────                                  \n",
       "                         2                                                    \n",
       "                                                                              \n",
       "                                                             ___________      \n",
       "R, Z)   ⅈ⋅varepsilon⋅Ω₁(t, R, Z)   ⅈ⋅varepsilon⋅ρ₃₁(t, R, Z)⋅Ω₂(t, R, Z)      \n",
       "───── - ──────────────────────── - ─────────────────────────────────────      \n",
       "                   2                                 2                        \n",
       "                                                                              \n",
       "        2                                                                     \n",
       "repsilon ⋅Ω₁(t, R, Z)⋅ρ₃₂(t, R, Z)   ⅈ⋅varepsilon⋅Ω₂(t, R, Z)⋅ρ₂₁(t, R, Z)    \n",
       "────────────────────────────────── - ─────────────────────────────────────    \n",
       "              2                                        2                      \n",
       "                                                                              \n",
       "                            2                                        2        \n",
       "⋅ρ₂₂(t, R, Z)   ⅈ⋅varepsilon ⋅Ω₂(t, R, Z)⋅ρ₃₃(t, R, Z)   ⅈ⋅varepsilon ⋅ρ₃₁(t, \n",
       "───────────── + ────────────────────────────────────── + ─────────────────────\n",
       "                                  2                                        2  \n",
       "                                                                              \n",
       "                                                                              \n",
       "R, Z)     ∂                                                                   \n",
       "───── - c⋅──(varepsilon⋅Ω₁(t, R, Z))                                          \n",
       "          ∂Z                                                                  \n",
       "                                                                              \n",
       "                                                                              \n",
       "₂(t, R, Z)     ∂                                                              \n",
       "────────── + c⋅──(Ω₂(t, R, Z))                                                \n",
       "               ∂Z                                                             \n",
       "\n",
       "                       ⎤\n",
       "                       ⎥\n",
       "                       ⎥\n",
       "                       ⎥\n",
       "                       ⎥\n",
       "            ___________⎥\n",
       "₃₂(t, R, Z)⋅Ω₂(t, R, Z)⎥\n",
       "───────────────────────⎥\n",
       "    2                  ⎥\n",
       "                       ⎥\n",
       "                       ⎥\n",
       "                       ⎥\n",
       "                       ⎥\n",
       "                       ⎥\n",
       "                       ⎥\n",
       "                       ⎥\n",
       "                       ⎥\n",
       "                       ⎥\n",
       "                       ⎥\n",
       "                       ⎥\n",
       "                       ⎥\n",
       "                       ⎥\n",
       "                       ⎥\n",
       "                       ⎥\n",
       "                       ⎥\n",
       "      ___________      ⎥\n",
       "R, Z)⋅Ω₁(t, R, Z)      ⎥\n",
       "─────────────────      ⎥\n",
       "                       ⎥\n",
       "                       ⎥\n",
       "                       ⎥\n",
       "                       ⎥\n",
       "                       ⎥\n",
       "                       ⎥\n",
       "                       ⎥\n",
       "                       ⎥\n",
       "                       ⎥\n",
       "                       ⎥\n",
       "                       ⎦"
      ]
     },
     "execution_count": 90,
     "metadata": {},
     "output_type": "execute_result"
    }
   ],
   "source": [
    "eqs_lin=eqs_list\n",
    "eqs_lin=eqs_lin.subs(lin_subs)\n",
    "fprint(eqs_lin, print_ascii=print_ascii)"
   ]
  },
  {
   "cell_type": "markdown",
   "metadata": {},
   "source": [
    "And so, terms which are doubly small can be neglected."
   ]
  },
  {
   "cell_type": "code",
   "execution_count": 91,
   "metadata": {
    "collapsed": false
   },
   "outputs": [
    {
     "data": {
      "image/png": "[encoded data removed]",
      "text/latex": [
       "$$\\left[\\begin{matrix}0 & = & 0\\\\0 & = & \\frac{i}{2} \\Omega_{2}{\\left (t,R,Z \\right )} \\rho_{23}{\\left (t,R,Z \\right )} - \\frac{i}{2} \\rho_{32}{\\left (t,R,Z \\right )} \\overline{\\Omega_{2}{\\left (t,R,Z \\right )}}\\\\0 & = & - \\frac{i}{2} \\Omega_{2}{\\left (t,R,Z \\right )} \\rho_{23}{\\left (t,R,Z \\right )} + \\frac{i}{2} \\rho_{32}{\\left (t,R,Z \\right )} \\overline{\\Omega_{2}{\\left (t,R,Z \\right )}}\\\\\\frac{\\partial}{\\partial t} \\rho_{21}{\\left (t,R,Z \\right )} & = & i \\delta_{1} \\rho_{21}{\\left (t,R,Z \\right )} - \\frac{\\gamma_{21}}{2} \\rho_{21}{\\left (t,R,Z \\right )} - \\frac{i}{2} \\Omega_{1}{\\left (t,R,Z \\right )} - \\frac{i}{2} \\rho_{31}{\\left (t,R,Z \\right )} \\overline{\\Omega_{2}{\\left (t,R,Z \\right )}}\\\\\\frac{\\partial}{\\partial t} \\rho_{31}{\\left (t,R,Z \\right )} & = & i \\delta_{1} \\rho_{31}{\\left (t,R,Z \\right )} + i \\delta_{2} \\rho_{31}{\\left (t,R,Z \\right )} - \\frac{\\gamma_{32}}{2} \\rho_{31}{\\left (t,R,Z \\right )} - \\frac{i}{2} \\Omega_{2}{\\left (t,R,Z \\right )} \\rho_{21}{\\left (t,R,Z \\right )}\\\\\\frac{\\partial}{\\partial t} \\rho_{32}{\\left (t,R,Z \\right )} & = & i \\delta_{2} \\rho_{32}{\\left (t,R,Z \\right )} - \\frac{\\gamma_{21}}{2} \\rho_{32}{\\left (t,R,Z \\right )} - \\frac{\\gamma_{32}}{2} \\rho_{32}{\\left (t,R,Z \\right )}\\\\\\frac{\\partial}{\\partial t} \\Omega_{1}{\\left (t,R,Z \\right )} & = & - \\frac{i \\mu_{0}}{\\hbar} c^{2} e^{2} r_{+1;21}^{2} \\varpi_{1} n{\\left (R,Z \\right )} \\rho_{21}{\\left (t,R,Z \\right )} - c \\frac{\\partial}{\\partial Z} \\Omega_{1}{\\left (t,R,Z \\right )}\\\\\\frac{\\partial}{\\partial t} \\Omega_{2}{\\left (t,R,Z \\right )} & = & - \\frac{i \\mu_{0}}{\\hbar} c^{2} e^{2} r_{-1;32}^{2} \\varpi_{2} n{\\left (R,Z \\right )} \\rho_{32}{\\left (t,R,Z \\right )} + c \\frac{\\partial}{\\partial Z} \\Omega_{2}{\\left (t,R,Z \\right )}\\end{matrix}\\right]$$"
      ],
      "text/plain": [
       "⎡       0          =                                            0             \n",
       "⎢                                                                             \n",
       "⎢                                                                             \n",
       "⎢                                    ⅈ⋅Ω₂(t, R, Z)⋅ρ₂₃(t, R, Z)   ⅈ⋅ρ₃₂(t, R, \n",
       "⎢       0          =                 ────────────────────────── - ────────────\n",
       "⎢                                                2                            \n",
       "⎢                                                                             \n",
       "⎢                                                                             \n",
       "⎢                                     ⅈ⋅Ω₂(t, R, Z)⋅ρ₂₃(t, R, Z)   ⅈ⋅ρ₃₂(t, R,\n",
       "⎢       0          =                - ────────────────────────── + ───────────\n",
       "⎢                                                 2                           \n",
       "⎢                                                                             \n",
       "⎢                                                                             \n",
       "⎢∂                                          γ₂₁⋅ρ₂₁(t, R, Z)   ⅈ⋅Ω₁(t, R, Z)  \n",
       "⎢──(ρ₂₁(t, R, Z))  =    ⅈ⋅δ₁⋅ρ₂₁(t, R, Z) - ──────────────── - ───────────── -\n",
       "⎢∂t                                                2                 2        \n",
       "⎢                                                                             \n",
       "⎢∂                                                            γ₃₂⋅ρ₃₁(t, R, Z)\n",
       "⎢──(ρ₃₁(t, R, Z))  =  ⅈ⋅δ₁⋅ρ₃₁(t, R, Z) + ⅈ⋅δ₂⋅ρ₃₁(t, R, Z) - ────────────────\n",
       "⎢∂t                                                                  2        \n",
       "⎢                                                                             \n",
       "⎢∂                                                       γ₂₁⋅ρ₃₂(t, R, Z)   γ₃\n",
       "⎢──(ρ₃₂(t, R, Z))  =                 ⅈ⋅δ₂⋅ρ₃₂(t, R, Z) - ──────────────── - ──\n",
       "⎢∂t                                                             2             \n",
       "⎢                                                                             \n",
       "⎢                                 2  2             2                          \n",
       "⎢∂                             ⅈ⋅c ⋅e ⋅μ₀⋅r_{+1;21} ⋅varpi₁⋅n(R, Z)⋅ρ₂₁(t, R, \n",
       "⎢──(Ω₁(t, R, Z))   =         - ───────────────────────────────────────────────\n",
       "⎢∂t                                                    h̅                     \n",
       "⎢                                                                             \n",
       "⎢                                 2  2             2                          \n",
       "⎢∂                             ⅈ⋅c ⋅e ⋅μ₀⋅r_{-1;32} ⋅varpi₂⋅n(R, Z)⋅ρ₃₂(t, R, \n",
       "⎢──(Ω₂(t, R, Z))   =         - ───────────────────────────────────────────────\n",
       "⎣∂t                                                    h̅                     \n",
       "\n",
       "                             ⎤\n",
       "                             ⎥\n",
       "   ___________               ⎥\n",
       "Z)⋅Ω₂(t, R, Z)               ⎥\n",
       "──────────────               ⎥\n",
       "2                            ⎥\n",
       "                             ⎥\n",
       "    ___________              ⎥\n",
       " Z)⋅Ω₂(t, R, Z)              ⎥\n",
       "───────────────              ⎥\n",
       " 2                           ⎥\n",
       "                             ⎥\n",
       "                ___________  ⎥\n",
       " ⅈ⋅ρ₃₁(t, R, Z)⋅Ω₂(t, R, Z)  ⎥\n",
       " ──────────────────────────  ⎥\n",
       "             2               ⎥\n",
       "                             ⎥\n",
       "   ⅈ⋅Ω₂(t, R, Z)⋅ρ₂₁(t, R, Z)⎥\n",
       " - ──────────────────────────⎥\n",
       "               2             ⎥\n",
       "                             ⎥\n",
       "₂⋅ρ₃₂(t, R, Z)               ⎥\n",
       "──────────────               ⎥\n",
       "     2                       ⎥\n",
       "                             ⎥\n",
       "                             ⎥\n",
       "Z)     ∂                     ⎥\n",
       "── - c⋅──(Ω₁(t, R, Z))       ⎥\n",
       "       ∂Z                    ⎥\n",
       "                             ⎥\n",
       "                             ⎥\n",
       "Z)     ∂                     ⎥\n",
       "── + c⋅──(Ω₂(t, R, Z))       ⎥\n",
       "       ∂Z                    ⎦"
      ]
     },
     "execution_count": 91,
     "metadata": {},
     "output_type": "execute_result"
    }
   ],
   "source": [
    "eqs_lin=eqs_lin.subs({epsilon**2:0}).subs({epsilon:1})\n",
    "eqs_lin=eqs_lin.subs({Derivative(1,t):0,Derivative(0,t):0})\n",
    "fprint(eqs_lin, print_ascii=print_ascii)"
   ]
  },
  {
   "cell_type": "markdown",
   "metadata": {},
   "source": [
    "The equations for $\\rho_{22}, \\rho_{33}$ make a statement about the imaginary part of $\\Omega_2\\rho_{23}$ being zero. Let's just ignore that. The equation for $\\rho_{32}$ is only coupled to itself, and can be easily solved"
   ]
  },
  {
   "cell_type": "code",
   "execution_count": 92,
   "metadata": {
    "collapsed": false
   },
   "outputs": [
    {
     "data": {
      "image/png": "[encoded data removed]",
      "text/latex": [
       "$$e^{t \\left(i \\delta_{2} - \\frac{\\gamma_{21}}{2} - \\frac{\\gamma_{32}}{2}\\right)}$$"
      ],
      "text/plain": [
       "   ⎛       γ₂₁   γ₃₂⎞\n",
       " t⋅⎜ⅈ⋅δ₂ - ─── - ───⎟\n",
       "   ⎝        2     2 ⎠\n",
       "ℯ                    "
      ]
     },
     "execution_count": 92,
     "metadata": {},
     "output_type": "execute_result"
    }
   ],
   "source": [
    "rho32_sol=exp((-(gamma[1,0]+gamma[2,1])/2+I*delta2)*t)\n",
    "rho32_sol"
   ]
  },
  {
   "cell_type": "code",
   "execution_count": 93,
   "metadata": {
    "collapsed": false
   },
   "outputs": [
    {
     "data": {
      "image/png": "[encoded data removed]",
      "text/latex": [
       "$$0$$"
      ],
      "text/plain": [
       "0"
      ]
     },
     "execution_count": 93,
     "metadata": {},
     "output_type": "execute_result"
    }
   ],
   "source": [
    "Derivative(rho32_sol,t).doit().expand()-eqs_lin[5,2].subs({rho[2,1]:rho32_sol}).expand()"
   ]
  },
  {
   "cell_type": "markdown",
   "metadata": {},
   "source": [
    "So the dynamics are captured by the equations for $\\rho_{21}, \\rho_{31}$ and the wave propagation equations."
   ]
  },
  {
   "cell_type": "code",
   "execution_count": 94,
   "metadata": {
    "collapsed": false
   },
   "outputs": [
    {
     "data": {
      "image/png": "[encoded data removed]",
      "text/latex": [
       "$$\\left[\\begin{matrix}\\frac{\\partial}{\\partial t} \\rho_{21}{\\left (t,R,Z \\right )} & = & i \\delta_{1} \\rho_{21}{\\left (t,R,Z \\right )} - \\frac{\\gamma_{21}}{2} \\rho_{21}{\\left (t,R,Z \\right )} - \\frac{i}{2} \\Omega_{1}{\\left (t,R,Z \\right )} - \\frac{i}{2} \\rho_{31}{\\left (t,R,Z \\right )} \\overline{\\Omega_{2}{\\left (t,R,Z \\right )}}\\\\\\frac{\\partial}{\\partial t} \\rho_{31}{\\left (t,R,Z \\right )} & = & i \\delta_{1} \\rho_{31}{\\left (t,R,Z \\right )} + i \\delta_{2} \\rho_{31}{\\left (t,R,Z \\right )} - \\frac{\\gamma_{32}}{2} \\rho_{31}{\\left (t,R,Z \\right )} - \\frac{i}{2} \\Omega_{2}{\\left (t,R,Z \\right )} \\rho_{21}{\\left (t,R,Z \\right )}\\\\\\frac{\\partial}{\\partial t} \\Omega_{1}{\\left (t,R,Z \\right )} & = & - \\frac{i \\mu_{0}}{\\hbar} c^{2} e^{2} r_{+1;21}^{2} \\varpi_{1} n{\\left (R,Z \\right )} \\rho_{21}{\\left (t,R,Z \\right )} - c \\frac{\\partial}{\\partial Z} \\Omega_{1}{\\left (t,R,Z \\right )}\\\\\\frac{\\partial}{\\partial t} \\Omega_{2}{\\left (t,R,Z \\right )} & = & - \\frac{i \\mu_{0}}{\\hbar} c^{2} e^{2} r_{-1;32}^{2} \\varpi_{2} n{\\left (R,Z \\right )} \\rho_{32}{\\left (t,R,Z \\right )} + c \\frac{\\partial}{\\partial Z} \\Omega_{2}{\\left (t,R,Z \\right )}\\end{matrix}\\right]$$"
      ],
      "text/plain": [
       "⎡                                                                             \n",
       "⎢∂                                          γ₂₁⋅ρ₂₁(t, R, Z)   ⅈ⋅Ω₁(t, R, Z)  \n",
       "⎢──(ρ₂₁(t, R, Z))  =    ⅈ⋅δ₁⋅ρ₂₁(t, R, Z) - ──────────────── - ───────────── -\n",
       "⎢∂t                                                2                 2        \n",
       "⎢                                                                             \n",
       "⎢∂                                                            γ₃₂⋅ρ₃₁(t, R, Z)\n",
       "⎢──(ρ₃₁(t, R, Z))  =  ⅈ⋅δ₁⋅ρ₃₁(t, R, Z) + ⅈ⋅δ₂⋅ρ₃₁(t, R, Z) - ────────────────\n",
       "⎢∂t                                                                  2        \n",
       "⎢                                                                             \n",
       "⎢                                 2  2             2                          \n",
       "⎢∂                             ⅈ⋅c ⋅e ⋅μ₀⋅r_{+1;21} ⋅varpi₁⋅n(R, Z)⋅ρ₂₁(t, R, \n",
       "⎢──(Ω₁(t, R, Z))   =         - ───────────────────────────────────────────────\n",
       "⎢∂t                                                    h̅                     \n",
       "⎢                                                                             \n",
       "⎢                                 2  2             2                          \n",
       "⎢∂                             ⅈ⋅c ⋅e ⋅μ₀⋅r_{-1;32} ⋅varpi₂⋅n(R, Z)⋅ρ₃₂(t, R, \n",
       "⎢──(Ω₂(t, R, Z))   =         - ───────────────────────────────────────────────\n",
       "⎣∂t                                                    h̅                     \n",
       "\n",
       "                ___________  ⎤\n",
       " ⅈ⋅ρ₃₁(t, R, Z)⋅Ω₂(t, R, Z)  ⎥\n",
       " ──────────────────────────  ⎥\n",
       "             2               ⎥\n",
       "                             ⎥\n",
       "   ⅈ⋅Ω₂(t, R, Z)⋅ρ₂₁(t, R, Z)⎥\n",
       " - ──────────────────────────⎥\n",
       "               2             ⎥\n",
       "                             ⎥\n",
       "                             ⎥\n",
       "Z)     ∂                     ⎥\n",
       "── - c⋅──(Ω₁(t, R, Z))       ⎥\n",
       "       ∂Z                    ⎥\n",
       "                             ⎥\n",
       "                             ⎥\n",
       "Z)     ∂                     ⎥\n",
       "── + c⋅──(Ω₂(t, R, Z))       ⎥\n",
       "       ∂Z                    ⎦"
      ]
     },
     "execution_count": 94,
     "metadata": {},
     "output_type": "execute_result"
    }
   ],
   "source": [
    "eqss=[[eqs_lin[3:5,:][0,0],eqsign,eqs_lin[3:5,:][0,2]],\n",
    "      [eqs_lin[3:5,:][1,0],eqsign,eqs_lin[3:5,:][1,2]]]\n",
    "\n",
    "eqss=eqss+[[eqs_lin[6: ,:][0,0],eqsign,eqs_lin[6: ,:][0,2]],\n",
    "      [eqs_lin[6: ,:][1,0],eqsign,eqs_lin[6: ,:][1,2]]]\n",
    "\n",
    "eqss=Matrix(eqss)\n",
    "eqs_lin=eqss\n",
    "eqs_lin"
   ]
  },
  {
   "cell_type": "markdown",
   "metadata": {},
   "source": [
    "If we further consider $\\Omega_2$ to be very strong we can neglect the first term on the right-hand side on the last equation."
   ]
  },
  {
   "cell_type": "code",
   "execution_count": 95,
   "metadata": {
    "collapsed": false
   },
   "outputs": [
    {
     "data": {
      "image/png": "[encoded data removed]",
      "text/latex": [
       "$$- c \\frac{\\partial}{\\partial Z} \\Omega_{2}{\\left (t,R,Z \\right )} + \\frac{\\partial}{\\partial t} \\Omega_{2}{\\left (t,R,Z \\right )}$$"
      ],
      "text/plain": [
       "    ∂                 ∂              \n",
       "- c⋅──(Ω₂(t, R, Z)) + ──(Ω₂(t, R, Z))\n",
       "    ∂Z                ∂t             "
      ]
     },
     "execution_count": 95,
     "metadata": {},
     "output_type": "execute_result"
    }
   ],
   "source": [
    "eqOmega2=eqs_lin[3,:][0]-eqs_lin[3,:][2]\n",
    "eqOmega2=eqOmega2.subs({n:0})\n",
    "eqOmega2"
   ]
  },
  {
   "cell_type": "markdown",
   "metadata": {},
   "source": [
    "And thus solve that equation and take $\\Omega_2$ as a given quantity. For instance, it might be a gaussian pulse with time duration $\\tau_2$:"
   ]
  },
  {
   "cell_type": "code",
   "execution_count": 96,
   "metadata": {
    "collapsed": false
   },
   "outputs": [
    {
     "data": {
      "image/png": "[encoded data removed]",
      "text/latex": [
       "$$\\Omega_{2 peak} e^{- \\frac{4}{\\tau_{2}^{2}} \\left(\\frac{Z}{c} + t - t_{0}\\right) \\log{\\left (2 \\right )}}$$"
      ],
      "text/plain": [
       "             ⎛Z         ⎞        \n",
       "          -4⋅⎜─ + t - t₀⎟⋅log(2) \n",
       "             ⎝c         ⎠        \n",
       "          ───────────────────────\n",
       "                      2          \n",
       "                    τ₂           \n",
       "Ω_2_peak⋅ℯ                       "
      ]
     },
     "execution_count": 96,
     "metadata": {},
     "output_type": "execute_result"
    }
   ],
   "source": [
    "from sympy import log\n",
    "Omega2_peak, tau2, t0=symbols(\"Omega2_peak, tau2, t0\", positive=True)\n",
    "Omega2_sol=Omega2_peak*exp(-4*log(2)*(t-t0+Z/c)/tau2**2)\n",
    "Omega2_sol"
   ]
  },
  {
   "cell_type": "code",
   "execution_count": 97,
   "metadata": {
    "collapsed": false
   },
   "outputs": [
    {
     "data": {
      "image/png": "[encoded data removed]",
      "text/latex": [
       "$$0$$"
      ],
      "text/plain": [
       "0"
      ]
     },
     "execution_count": 97,
     "metadata": {},
     "output_type": "execute_result"
    }
   ],
   "source": [
    "eqOmega2.subs({Omega2:Omega2_sol}).doit()"
   ]
  },
  {
   "cell_type": "markdown",
   "metadata": {},
   "source": [
    " Then the equations are reduced to"
   ]
  },
  {
   "cell_type": "code",
   "execution_count": 98,
   "metadata": {
    "collapsed": false
   },
   "outputs": [
    {
     "data": {
      "image/png": "[encoded data removed]",
      "text/latex": [
       "$$\\left[\\begin{matrix}\\frac{\\partial}{\\partial t} \\rho_{21}{\\left (t,R,Z \\right )} & = & i \\delta_{1} \\rho_{21}{\\left (t,R,Z \\right )} - \\frac{\\gamma_{21}}{2} \\rho_{21}{\\left (t,R,Z \\right )} - \\frac{i}{2} \\Omega_{1}{\\left (t,R,Z \\right )} - \\frac{i}{2} \\rho_{31}{\\left (t,R,Z \\right )} \\overline{\\Omega_{2}{\\left (t,R,Z \\right )}}\\\\\\frac{\\partial}{\\partial t} \\rho_{31}{\\left (t,R,Z \\right )} & = & i \\delta_{1} \\rho_{31}{\\left (t,R,Z \\right )} + i \\delta_{2} \\rho_{31}{\\left (t,R,Z \\right )} - \\frac{\\gamma_{32}}{2} \\rho_{31}{\\left (t,R,Z \\right )} - \\frac{i}{2} \\Omega_{2}{\\left (t,R,Z \\right )} \\rho_{21}{\\left (t,R,Z \\right )}\\\\\\frac{\\partial}{\\partial t} \\Omega_{1}{\\left (t,R,Z \\right )} & = & - c \\frac{\\partial}{\\partial Z} \\Omega_{1}{\\left (t,R,Z \\right )} - \\frac{i e^{2} r_{+1;21}^{2} \\varpi_{1}}{\\hbar \\varepsilon_{0}} n{\\left (R,Z \\right )} \\rho_{21}{\\left (t,R,Z \\right )}\\end{matrix}\\right]$$"
      ],
      "text/plain": [
       "⎡                                                                             \n",
       "⎢∂                                          γ₂₁⋅ρ₂₁(t, R, Z)   ⅈ⋅Ω₁(t, R, Z)  \n",
       "⎢──(ρ₂₁(t, R, Z))  =    ⅈ⋅δ₁⋅ρ₂₁(t, R, Z) - ──────────────── - ───────────── -\n",
       "⎢∂t                                                2                 2        \n",
       "⎢                                                                             \n",
       "⎢∂                                                            γ₃₂⋅ρ₃₁(t, R, Z)\n",
       "⎢──(ρ₃₁(t, R, Z))  =  ⅈ⋅δ₁⋅ρ₃₁(t, R, Z) + ⅈ⋅δ₂⋅ρ₃₁(t, R, Z) - ────────────────\n",
       "⎢∂t                                                                  2        \n",
       "⎢                                                                             \n",
       "⎢                                                        2          2         \n",
       "⎢∂                                  ∂                 ⅈ⋅e ⋅r_{+1;21} ⋅varpi₁⋅n\n",
       "⎢──(Ω₁(t, R, Z))   =            - c⋅──(Ω₁(t, R, Z)) - ────────────────────────\n",
       "⎣∂t                                 ∂Z                               h̅⋅vareps\n",
       "\n",
       "                ___________  ⎤\n",
       " ⅈ⋅ρ₃₁(t, R, Z)⋅Ω₂(t, R, Z)  ⎥\n",
       " ──────────────────────────  ⎥\n",
       "             2               ⎥\n",
       "                             ⎥\n",
       "   ⅈ⋅Ω₂(t, R, Z)⋅ρ₂₁(t, R, Z)⎥\n",
       " - ──────────────────────────⎥\n",
       "               2             ⎥\n",
       "                             ⎥\n",
       "                             ⎥\n",
       "(R, Z)⋅ρ₂₁(t, R, Z)          ⎥\n",
       "───────────────────          ⎥\n",
       "ilon₀                        ⎦"
      ]
     },
     "execution_count": 98,
     "metadata": {},
     "output_type": "execute_result"
    }
   ],
   "source": [
    "eqs_lin=eqs_lin[:-1,:].subs({c**2: 1/mu0/epsilon0})\n",
    "eqs_lin"
   ]
  },
  {
   "cell_type": "markdown",
   "metadata": {},
   "source": [
    "# The Doppler effect\n",
    "\n",
    "The detunings of the fields however, will be different for different velocity classes in an atomic vapour."
   ]
  },
  {
   "cell_type": "code",
   "execution_count": 99,
   "metadata": {
    "collapsed": false
   },
   "outputs": [],
   "source": [
    "vX, vY, vZ=symbols(\"v_X, v_Y, v_Z\", real=True)\n",
    "v = Matrix([vX, vY, vZ])\n",
    "# v"
   ]
  },
  {
   "cell_type": "markdown",
   "metadata": {},
   "source": [
    "For velocities $v \\ll c$ the optical frequencies will be\n",
    "\n",
    "\\begin{equation}\n",
    "    \\varpi_l' = \\varpi_l - \\vec{k}_l \\cdot \\vec{v}_l \n",
    "\\end{equation}\n",
    "\n",
    "And so, in our case\n",
    "\\begin{equation}\n",
    "    \\delta_1' = \\delta_1 - \\varpi_1 v_Z/c, \\hspace{1cm} \\delta_2' = \\delta_2 + \\varpi_2 v_Z/c\n",
    "\\end{equation}\n",
    "\n",
    "And the density matrix will be a mixture of contributions from all velocity classes\n",
    "\\begin{equation}\n",
    "    \\rho = \\int dv_Z g(v_Z) \\rho{v_Z}'\n",
    "\\end{equation}\n",
    "\n",
    "So we will rewrite our equations in terms of this new $v_Z$"
   ]
  },
  {
   "cell_type": "code",
   "execution_count": 100,
   "metadata": {
    "collapsed": false
   },
   "outputs": [
    {
     "data": {
      "image/png": "[encoded data removed]",
      "text/latex": [
       "$$g{\\left (v_{Z} \\right )}$$"
      ],
      "text/plain": [
       "g(v_Z)"
      ]
     },
     "execution_count": 100,
     "metadata": {},
     "output_type": "execute_result"
    }
   ],
   "source": [
    "rhop=define_density_matrix(Ne, variables=[t,Z,vZ])\n",
    "g=Function(\"g\")(vZ)\n",
    "g"
   ]
  },
  {
   "cell_type": "code",
   "execution_count": 101,
   "metadata": {
    "collapsed": false
   },
   "outputs": [
    {
     "data": {
      "image/png": "[encoded data removed]",
      "text/latex": [
       "$$\\left ( \\delta_{1} - \\frac{v_{Z} \\varpi_{1}}{c}, \\quad \\delta_{2} + \\frac{v_{Z} \\varpi_{2}}{c}\\right )$$"
      ],
      "text/plain": [
       "⎛     v_Z⋅varpi₁       v_Z⋅varpi₂⎞\n",
       "⎜δ₁ - ──────────, δ₂ + ──────────⎟\n",
       "⎝         c                c     ⎠"
      ]
     },
     "execution_count": 101,
     "metadata": {},
     "output_type": "execute_result"
    }
   ],
   "source": [
    "delta1p=delta1-omega_laser[0]*vZ/c\n",
    "delta2p=delta2+omega_laser[1]*vZ/c\n",
    "delta1p,delta2p"
   ]
  },
  {
   "cell_type": "markdown",
   "metadata": {},
   "source": [
    "So our final equations are:"
   ]
  },
  {
   "cell_type": "code",
   "execution_count": 102,
   "metadata": {
    "collapsed": false
   },
   "outputs": [
    {
     "data": {
      "image/png": "[encoded data removed]",
      "text/latex": [
       "$$\\left[\\begin{matrix}\\frac{\\partial}{\\partial t} \\rho_{21}{\\left (t,Z,v_{Z} \\right )} & = & i \\delta_{1} \\rho_{21}{\\left (t,Z,v_{Z} \\right )} - \\frac{\\gamma_{21}}{2} \\rho_{21}{\\left (t,Z,v_{Z} \\right )} - \\frac{i}{2} \\Omega_{1}{\\left (t,R,Z \\right )} - \\frac{i}{2} \\rho_{31}{\\left (t,Z,v_{Z} \\right )} \\overline{\\Omega_{2}{\\left (t,R,Z \\right )}} - \\frac{i v_{Z}}{c} \\varpi_{1} \\rho_{21}{\\left (t,Z,v_{Z} \\right )}\\\\\\frac{\\partial}{\\partial t} \\rho_{31}{\\left (t,Z,v_{Z} \\right )} & = & i \\delta_{1} \\rho_{31}{\\left (t,Z,v_{Z} \\right )} + i \\delta_{2} \\rho_{31}{\\left (t,Z,v_{Z} \\right )} - \\frac{\\gamma_{32}}{2} \\rho_{31}{\\left (t,Z,v_{Z} \\right )} - \\frac{i}{2} \\Omega_{2}{\\left (t,R,Z \\right )} \\rho_{21}{\\left (t,Z,v_{Z} \\right )} - \\frac{i v_{Z}}{c} \\varpi_{1} \\rho_{31}{\\left (t,Z,v_{Z} \\right )} + \\frac{i v_{Z}}{c} \\varpi_{2} \\rho_{31}{\\left (t,Z,v_{Z} \\right )}\\\\\\frac{\\partial}{\\partial t} \\Omega_{1}{\\left (t,R,Z \\right )} & = & - c \\frac{\\partial}{\\partial Z} \\Omega_{1}{\\left (t,R,Z \\right )} - \\frac{i e^{2} r_{+1;21}^{2} \\varpi_{1}}{\\hbar \\varepsilon_{0}} n{\\left (R,Z \\right )} \\int_{-\\infty}^{\\infty} g{\\left (v_{Z} \\right )} \\rho_{21}{\\left (t,Z,v_{Z} \\right )}\\, dv_{Z}\\end{matrix}\\right]$$"
      ],
      "text/plain": [
       "⎡                                                                             \n",
       "⎢∂                                                              γ₂₁⋅ρ₂₁(t, Z, \n",
       "⎢──(ρ₂₁(t, Z, v_Z))  =                    ⅈ⋅δ₁⋅ρ₂₁(t, Z, v_Z) - ──────────────\n",
       "⎢∂t                                                                     2     \n",
       "⎢                                                                             \n",
       "⎢∂                                                                  γ₃₂⋅ρ₃₁(t,\n",
       "⎢──(ρ₃₁(t, Z, v_Z))  =  ⅈ⋅δ₁⋅ρ₃₁(t, Z, v_Z) + ⅈ⋅δ₂⋅ρ₃₁(t, Z, v_Z) - ──────────\n",
       "⎢∂t                                                                         2 \n",
       "⎢                                                                             \n",
       "⎢                                                                             \n",
       "⎢                                                                             \n",
       "⎢                                                                             \n",
       "⎢                                                                             \n",
       "⎢ ∂                                                           ∂               \n",
       "⎢ ──(Ω₁(t, R, Z))    =                                    - c⋅──(Ω₁(t, R, Z)) \n",
       "⎣ ∂t                                                          ∂Z              \n",
       "\n",
       "                                        ___________                           \n",
       "v_Z)   ⅈ⋅Ω₁(t, R, Z)   ⅈ⋅ρ₃₁(t, Z, v_Z)⋅Ω₂(t, R, Z)   ⅈ⋅v_Z⋅varpi₁⋅ρ₂₁(t, Z, v\n",
       "──── - ───────────── - ──────────────────────────── - ────────────────────────\n",
       "             2                      2                              c          \n",
       "                                                                              \n",
       " Z, v_Z)   ⅈ⋅Ω₂(t, R, Z)⋅ρ₂₁(t, Z, v_Z)   ⅈ⋅v_Z⋅varpi₁⋅ρ₃₁(t, Z, v_Z)   ⅈ⋅v_Z⋅\n",
       "──────── - ──────────────────────────── - ─────────────────────────── + ──────\n",
       "                        2                              c                      \n",
       "                                                                              \n",
       "                                 ∞                                            \n",
       "     2          2                ⌠                                            \n",
       "  ⅈ⋅e ⋅r_{+1;21} ⋅varpi₁⋅n(R, Z)⋅⎮  g(v_Z)⋅ρ₂₁(t, Z, v_Z) d(v_Z)              \n",
       "                                 ⌡                                            \n",
       "                                 -∞                                           \n",
       "- ──────────────────────────────────────────────────────────────              \n",
       "                          h̅⋅varepsilon₀                                      \n",
       "\n",
       "                     ⎤\n",
       "_Z)                  ⎥\n",
       "───                  ⎥\n",
       "                     ⎥\n",
       "                     ⎥\n",
       "varpi₂⋅ρ₃₁(t, Z, v_Z)⎥\n",
       "─────────────────────⎥\n",
       "       c             ⎥\n",
       "                     ⎥\n",
       "                     ⎥\n",
       "                     ⎥\n",
       "                     ⎥\n",
       "                     ⎥\n",
       "                     ⎥\n",
       "                     ⎥\n",
       "                     ⎦"
      ]
     },
     "execution_count": 102,
     "metadata": {},
     "output_type": "execute_result"
    }
   ],
   "source": [
    "eqs_linv=eqs_lin.subs({delta1: delta1p, delta2: delta2p, rho[1,0]: rhop[1,0], rho[2,0]: rhop[2,0]})\n",
    "eqs_linv[2,:]= eqs_lin[2,:].subs({rho[1,0]: Integral(g*rhop[1,0],(vZ,-oo,oo))})\n",
    "eqs_linv=eqs_linv.expand()\n",
    "eqs_linv"
   ]
  },
  {
   "cell_type": "markdown",
   "metadata": {},
   "source": [
    "# Adiabatic approximation"
   ]
  },
  {
   "cell_type": "code",
   "execution_count": 103,
   "metadata": {
    "collapsed": false
   },
   "outputs": [],
   "source": [
    "rho21_ad = solve(eqs_linv[0, 2], rhop[1, 0])[0]\n",
    "# rho21_ad"
   ]
  },
  {
   "cell_type": "code",
   "execution_count": 104,
   "metadata": {
    "collapsed": false
   },
   "outputs": [
    {
     "data": {
      "image/png": "[encoded data removed]",
      "text/latex": [
       "$$\\left ( \\left \\{ \\gamma_{21} : - \\Gamma_{21} + 2 i \\left(\\delta_{1} - \\frac{v_{Z} \\varpi_{1}}{c}\\right)\\right \\}, \\quad \\left \\{ \\Gamma_{21} : \\gamma_{21} - 2 i \\left(\\delta_{1} - \\frac{v_{Z} \\varpi_{1}}{c}\\right)\\right \\}\\right )$$"
      ],
      "text/plain": [
       "⎛⎧                ⎛     v_Z⋅varpi₁⎞⎫  ⎧               ⎛     v_Z⋅varpi₁⎞⎫⎞\n",
       "⎜⎨γ₂₁: -Γ₂₁ + 2⋅ⅈ⋅⎜δ₁ - ──────────⎟⎬, ⎨Γ₂₁: γ₂₁ - 2⋅ⅈ⋅⎜δ₁ - ──────────⎟⎬⎟\n",
       "⎝⎩                ⎝         c     ⎠⎭  ⎩               ⎝         c     ⎠⎭⎠"
      ]
     },
     "execution_count": 104,
     "metadata": {},
     "output_type": "execute_result"
    }
   ],
   "source": [
    "Gamma21 = symbols(\"Gamma_21\")\n",
    "Gamma32 = symbols(\"Gamma_32\")\n",
    "#Gamma/2 = gamma[1, 0]/2 - I*(delta1-vZ*omega_laser[0]/c)\n",
    "ss_Gamma21 = {gamma[1, 0]: 2*(I*(delta1-vZ*omega_laser[0]/c)-Gamma21/2)}\n",
    "ss_Gamma32 = {gamma[2, 1]: 2*(I*(delta2+vZ*omega_laser[1]/c)-Gamma32/2)}\n",
    "\n",
    "ss_Gamma21_inv = {Gamma21: gamma[1, 0]- 2*I*(delta1-vZ*omega_laser[0]/c)}\n",
    "ss_Gamma32_inv = {Gamma32: gamma[2, 1]- 2*I*(delta2+vZ*omega_laser[1]/c)}\n",
    "\n",
    "ss_Gamma21, ss_Gamma21_inv"
   ]
  },
  {
   "cell_type": "code",
   "execution_count": 105,
   "metadata": {
    "collapsed": false
   },
   "outputs": [
    {
     "data": {
      "image/png": "[encoded data removed]",
      "text/latex": [
       "$$\\left \\{ \\rho_{21}{\\left (t,Z,v_{Z} \\right )} : \\frac{i}{\\Gamma_{21}} \\left(\\Omega_{1}{\\left (t,R,Z \\right )} + \\rho_{31}{\\left (t,Z,v_{Z} \\right )} \\overline{\\Omega_{2}{\\left (t,R,Z \\right )}}\\right)\\right \\}$$"
      ],
      "text/plain": [
       "⎧                  ⎛                             ___________⎞⎫\n",
       "⎪                ⅈ⋅⎝Ω₁(t, R, Z) + ρ₃₁(t, Z, v_Z)⋅Ω₂(t, R, Z)⎠⎪\n",
       "⎨ρ₂₁(t, Z, v_Z): ────────────────────────────────────────────⎬\n",
       "⎪                                    Γ₂₁                     ⎪\n",
       "⎩                                                            ⎭"
      ]
     },
     "execution_count": 105,
     "metadata": {},
     "output_type": "execute_result"
    }
   ],
   "source": [
    "rho21_ad = simplify(rho21_ad.subs(ss_Gamma21))\n",
    "ss_rho21_ad = {rhop[1, 0]: rho21_ad}\n",
    "ss_rho21_ad"
   ]
  },
  {
   "cell_type": "code",
   "execution_count": 106,
   "metadata": {
    "collapsed": false
   },
   "outputs": [],
   "source": [
    "eq1 = eqs_linv[1, 2].subs(ss_rho21_ad)#.subs(ss_Gamma32).expand()\n",
    "# eq1"
   ]
  },
  {
   "cell_type": "markdown",
   "metadata": {},
   "source": [
    "We set this in two-photon resonance"
   ]
  },
  {
   "cell_type": "code",
   "execution_count": 107,
   "metadata": {
    "collapsed": false
   },
   "outputs": [],
   "source": [
    "eq1 = eq1.subs(delta1, -delta2).expand()\n",
    "# eq1"
   ]
  },
  {
   "cell_type": "code",
   "execution_count": 108,
   "metadata": {
    "collapsed": false
   },
   "outputs": [],
   "source": [
    "eq2 = eqs_lin[2,2].subs(rho[1, 0], rhop[1, 0]).subs(ss_rho21_ad).expand()\n",
    "# eq2"
   ]
  },
  {
   "cell_type": "code",
   "execution_count": 109,
   "metadata": {
    "collapsed": false
   },
   "outputs": [],
   "source": [
    "def group(expr, variables, return_coeffs=False):\n",
    "    coefs = [Derivative(expr, variables[i]).doit() for i in range(len(variables))]\n",
    "    expr_lin = sum([coefs[i]*variables[i] for i in range(len(variables))])\n",
    "    remainder = (expr - expr_lin).expand()\n",
    "    if return_coeffs:\n",
    "        return coefs\n",
    "    return expr_lin + remainder\n",
    "variables = [rhop[2, 0], Omega1]\n",
    "eq1 = group(eq1, variables)\n",
    "eq2 = group(eq2, variables)"
   ]
  },
  {
   "cell_type": "markdown",
   "metadata": {},
   "source": [
    "We define $\\kappa$"
   ]
  },
  {
   "cell_type": "code",
   "execution_count": 127,
   "metadata": {
    "collapsed": false
   },
   "outputs": [
    {
     "data": {
      "image/png": "[encoded data removed]",
      "text/latex": [
       "$$\\left \\{ \\kappa : \\frac{e r_{+1;21} \\sqrt{\\varpi_{1}}}{\\sqrt{c} \\sqrt{\\hbar} \\sqrt{\\varepsilon_{0}}} \\sqrt{n{\\left (R,Z \\right )}}\\right \\}$$"
      ],
      "text/plain": [
       "⎧                 ________   _________⎫\n",
       "⎪   e⋅r_{+1;21}⋅╲╱ varpi₁ ⋅╲╱ n(R, Z) ⎪\n",
       "⎨κ: ──────────────────────────────────⎬\n",
       "⎪            ____   _____________     ⎪\n",
       "⎩       √c⋅╲╱ h̅ ⋅╲╱ varepsilon₀      ⎭"
      ]
     },
     "execution_count": 127,
     "metadata": {},
     "output_type": "execute_result"
    }
   ],
   "source": [
    "kappa = symbols(\"kappa\", positive=True)\n",
    "Deltak = symbols(r\"\\Delta_k\", real=True)\n",
    "tau = symbols(\"tau\", real=True)\n",
    "Omega2_p = Function(\"Omega2\")(tau)\n",
    "n_p = symbols(\"n\", positive=True)\n",
    "\n",
    "kz = symbols(\"k_z\", real=True)\n",
    "Omega1_hat = Function(r\"\\hat{\\Omega}_1\")(tau, kz)\n",
    "rho31_hat = Function(r\"\\hat{\\rho}_{31}\")(tau, kz, vZ)\n",
    "\n",
    "rr = -r_p[0][0, 1]\n",
    "\n",
    "ss_kappa = {rr: kappa*sqrt(hbar*epsilon0*c/(n*omega_laser[0]*e**2))}\n",
    "ss_kappa_inv = {kappa: rr*sqrt(n)/sqrt(hbar*epsilon0*c/(omega_laser[0]*e**2))}\n",
    "ss_kappa_inv"
   ]
  },
  {
   "cell_type": "code",
   "execution_count": 133,
   "metadata": {
    "collapsed": false
   },
   "outputs": [
    {
     "data": {
      "image/png": "[encoded data removed]",
      "text/latex": [
       "$$- i c \\kappa^{2} \\int_{-\\infty}^{\\infty} g{\\left (v_{Z} \\right )} \\rho_{21}{\\left (t,Z,v_{Z} \\right )}\\, dv_{Z} - c \\frac{\\partial}{\\partial Z} \\Omega_{1}{\\left (t,R,Z \\right )}$$"
      ],
      "text/plain": [
       "         ∞                                                  \n",
       "       2 ⌠                                   ∂              \n",
       "- ⅈ⋅c⋅κ ⋅⎮  g(v_Z)⋅ρ₂₁(t, Z, v_Z) d(v_Z) - c⋅──(Ω₁(t, R, Z))\n",
       "         ⌡                                   ∂Z             \n",
       "         -∞                                                 "
      ]
     },
     "execution_count": 133,
     "metadata": {},
     "output_type": "execute_result"
    }
   ],
   "source": [
    "eqs_linv[2, 2].subs(ss_kappa)"
   ]
  },
  {
   "cell_type": "code",
   "execution_count": 135,
   "metadata": {
    "collapsed": false
   },
   "outputs": [
    {
     "data": {
      "image/png": "[encoded data removed]",
      "text/latex": [
       "$$\\left[\\begin{matrix}\\frac{\\partial}{\\partial t} \\rho_{21}{\\left (t,Z,v_{Z} \\right )} & = & i \\delta_{1} \\rho_{21}{\\left (t,Z,v_{Z} \\right )} - \\frac{\\gamma_{21}}{2} \\rho_{21}{\\left (t,Z,v_{Z} \\right )} - \\frac{i}{2} \\Omega_{1}{\\left (t,R,Z \\right )} - \\frac{i}{2} \\rho_{31}{\\left (t,Z,v_{Z} \\right )} \\overline{\\Omega_{2}{\\left (t,R,Z \\right )}} - \\frac{i v_{Z}}{c} \\varpi_{1} \\rho_{21}{\\left (t,Z,v_{Z} \\right )}\\end{matrix}\\right]$$"
      ],
      "text/plain": [
       "⎡                                                                             \n",
       "⎢∂                                            γ₂₁⋅ρ₂₁(t, Z, v_Z)   ⅈ⋅Ω₁(t, R, \n",
       "⎢──(ρ₂₁(t, Z, v_Z))  =  ⅈ⋅δ₁⋅ρ₂₁(t, Z, v_Z) - ────────────────── - ───────────\n",
       "⎣∂t                                                   2                  2    \n",
       "\n",
       "                      ___________                              ⎤\n",
       "Z)   ⅈ⋅ρ₃₁(t, Z, v_Z)⋅Ω₂(t, R, Z)   ⅈ⋅v_Z⋅varpi₁⋅ρ₂₁(t, Z, v_Z)⎥\n",
       "── - ──────────────────────────── - ───────────────────────────⎥\n",
       "                  2                              c             ⎦"
      ]
     },
     "execution_count": 135,
     "metadata": {},
     "output_type": "execute_result"
    }
   ],
   "source": [
    "eqs_linv[0, :]"
   ]
  },
  {
   "cell_type": "code",
   "execution_count": null,
   "metadata": {
    "collapsed": true
   },
   "outputs": [],
   "source": []
  },
  {
   "cell_type": "markdown",
   "metadata": {},
   "source": [
    "So the equations in the adiabatic approximation are"
   ]
  },
  {
   "cell_type": "code",
   "execution_count": 119,
   "metadata": {
    "collapsed": false
   },
   "outputs": [
    {
     "data": {
      "image/png": "[encoded data removed]",
      "text/latex": [
       "$$\\left[\\begin{matrix}\\frac{\\partial}{\\partial t} \\rho_{31}{\\left (t,Z,v_{Z} \\right )} & = & \\left(- \\frac{\\gamma_{32}}{2} - \\frac{i v_{Z}}{c} \\varpi_{1} + \\frac{i v_{Z}}{c} \\varpi_{2} + \\frac{\\Omega_{2}{\\left (t,R,Z \\right )}}{2 \\Gamma_{21}} \\overline{\\Omega_{2}{\\left (t,R,Z \\right )}}\\right) \\rho_{31}{\\left (t,Z,v_{Z} \\right )} + \\frac{\\Omega_{1}{\\left (t,R,Z \\right )}}{2 \\Gamma_{21}} \\Omega_{2}{\\left (t,R,Z \\right )}\\\\\\frac{\\partial}{\\partial t} \\Omega_{1}{\\left (t,R,Z \\right )} & = & - c \\frac{\\partial}{\\partial Z} \\Omega_{1}{\\left (t,R,Z \\right )} + \\frac{c \\kappa^{2}}{\\Gamma_{21}} \\Omega_{1}{\\left (t,R,Z \\right )} + \\frac{c \\kappa^{2}}{\\Gamma_{21}} \\rho_{31}{\\left (t,Z,v_{Z} \\right )} \\overline{\\Omega_{2}{\\left (t,R,Z \\right )}}\\end{matrix}\\right]$$"
      ],
      "text/plain": [
       "⎡                       ⎛                                                  ___\n",
       "⎢∂                      ⎜  γ₃₂   ⅈ⋅v_Z⋅varpi₁   ⅈ⋅v_Z⋅varpi₂   Ω₂(t, R, Z)⋅Ω₂(\n",
       "⎢──(ρ₃₁(t, Z, v_Z))  =  ⎜- ─── - ──────────── + ──────────── + ───────────────\n",
       "⎢∂t                     ⎝   2         c              c                  2⋅Γ₂₁ \n",
       "⎢                                                                             \n",
       "⎢                                                                2            \n",
       "⎢ ∂                                         ∂                 c⋅κ ⋅Ω₁(t, R, Z)\n",
       "⎢ ──(Ω₁(t, R, Z))    =                  - c⋅──(Ω₁(t, R, Z)) + ────────────────\n",
       "⎣ ∂t                                        ∂Z                      Γ₂₁       \n",
       "\n",
       "________⎞                                         ⎤\n",
       "t, R, Z)⎟                  Ω₁(t, R, Z)⋅Ω₂(t, R, Z)⎥\n",
       "────────⎟⋅ρ₃₁(t, Z, v_Z) + ───────────────────────⎥\n",
       "        ⎠                           2⋅Γ₂₁         ⎥\n",
       "                                                  ⎥\n",
       "      2                ___________                ⎥\n",
       "   c⋅κ ⋅ρ₃₁(t, Z, v_Z)⋅Ω₂(t, R, Z)                ⎥\n",
       " + ───────────────────────────────                ⎥\n",
       "                 Γ₂₁                              ⎦"
      ]
     },
     "execution_count": 119,
     "metadata": {},
     "output_type": "execute_result"
    }
   ],
   "source": [
    "eqs_linva = Matrix([[Derivative(rhop[2, 0], t), eqsign, eq1],\n",
    "                    [Derivative(Omega1, t), eqsign, eq2]]).subs(ss_kappa)\n",
    "eqs_linva"
   ]
  },
  {
   "cell_type": "code",
   "execution_count": null,
   "metadata": {
    "collapsed": true
   },
   "outputs": [],
   "source": []
  },
  {
   "cell_type": "code",
   "execution_count": 123,
   "metadata": {
    "collapsed": false
   },
   "outputs": [
    {
     "data": {
      "image/png": "[encoded data removed]",
      "text/latex": [
       "$$\\left[\\begin{matrix}\\frac{\\partial}{\\partial \\tau} \\rho_{31}{\\left (\\tau,Z,v_{Z} \\right )} & = & \\left(- \\frac{\\gamma_{32}}{2} - \\frac{i v_{Z}}{c} \\varpi_{1} + \\frac{i v_{Z}}{c} \\varpi_{2} + \\frac{\\Omega_{2}{\\left (\\tau \\right )}}{2 \\Gamma_{21}} \\overline{\\Omega_{2}{\\left (\\tau \\right )}}\\right) \\rho_{31}{\\left (\\tau,Z,v_{Z} \\right )} + \\frac{\\Omega_{1}{\\left (\\tau,R,Z \\right )}}{2 \\Gamma_{21}} \\Omega_{2}{\\left (\\tau \\right )}\\\\\\frac{\\partial}{\\partial \\tau} \\Omega_{1}{\\left (\\tau,R,Z \\right )} & = & - \\frac{c}{2} \\frac{\\partial}{\\partial Z} \\Omega_{1}{\\left (\\tau,R,Z \\right )} + \\frac{c \\kappa^{2}}{2 \\Gamma_{21}} \\Omega_{1}{\\left (\\tau,R,Z \\right )} + \\frac{c \\kappa^{2}}{2 \\Gamma_{21}} \\rho_{31}{\\left (\\tau,Z,v_{Z} \\right )} \\overline{\\Omega_{2}{\\left (\\tau \\right )}}\\end{matrix}\\right]$$"
      ],
      "text/plain": [
       "⎡                       ⎛                                            _____⎞   \n",
       "⎢∂                      ⎜  γ₃₂   ⅈ⋅v_Z⋅varpi₁   ⅈ⋅v_Z⋅varpi₂   Ω₂(τ)⋅Ω₂(τ)⎟   \n",
       "⎢──(ρ₃₁(τ, Z, v_Z))  =  ⎜- ─── - ──────────── + ──────────── + ───────────⎟⋅ρ₃\n",
       "⎢∂τ                     ⎝   2         c              c            2⋅Γ₂₁   ⎠   \n",
       "⎢                                                                             \n",
       "⎢                                     ∂                                       \n",
       "⎢                                   c⋅──(Ω₁(τ, R, Z))      2                  \n",
       "⎢ ∂                                   ∂Z                c⋅κ ⋅Ω₁(τ, R, Z)   c⋅κ\n",
       "⎢ ──(Ω₁(τ, R, Z))    =            - ───────────────── + ──────────────── + ───\n",
       "⎣ ∂τ                                        2                2⋅Γ₂₁            \n",
       "\n",
       "                                ⎤\n",
       "               Ω₁(τ, R, Z)⋅Ω₂(τ)⎥\n",
       "₁(τ, Z, v_Z) + ─────────────────⎥\n",
       "                     2⋅Γ₂₁      ⎥\n",
       "                                ⎥\n",
       "                                ⎥\n",
       "2                _____          ⎥\n",
       " ⋅ρ₃₁(τ, Z, v_Z)⋅Ω₂(τ)          ⎥\n",
       "──────────────────────          ⎥\n",
       "       2⋅Γ₂₁                    ⎦"
      ]
     },
     "execution_count": 123,
     "metadata": {},
     "output_type": "execute_result"
    }
   ],
   "source": [
    "\n",
    "\n",
    "eqs_linva2 = eqs_linva.subs(t, tau)\n",
    "\n",
    "eqs_linva2[1, 2] = eqs_linva2[1, 2]/2\n",
    "\n",
    "\n",
    "eqs_linva2 = eqs_linva2.subs({Omega2.subs(t, tau): Omega2_p})\n",
    "eqs_linva2 = eqs_linva2.subs(n, n_p)\n",
    "eqs_linva2"
   ]
  },
  {
   "cell_type": "code",
   "execution_count": null,
   "metadata": {
    "collapsed": true
   },
   "outputs": [],
   "source": []
  },
  {
   "cell_type": "code",
   "execution_count": null,
   "metadata": {
    "collapsed": true
   },
   "outputs": [],
   "source": []
  },
  {
   "cell_type": "code",
   "execution_count": 122,
   "metadata": {
    "collapsed": false
   },
   "outputs": [
    {
     "ename": "NameError",
     "evalue": "name 'eqs_linva_hat' is not defined",
     "output_type": "error",
     "traceback": [
      "\u001b[0;31m---------------------------------------------------------------------------\u001b[0m",
      "\u001b[0;31mNameError\u001b[0m                                 Traceback (most recent call last)",
      "\u001b[0;32m<ipython-input-122-f1b6a9531790>\u001b[0m in \u001b[0;36m<module>\u001b[0;34m()\u001b[0m\n\u001b[1;32m      1\u001b[0m \u001b[0mS\u001b[0m \u001b[0;34m=\u001b[0m \u001b[0mFunction\u001b[0m\u001b[0;34m(\u001b[0m\u001b[0;34m\"S\"\u001b[0m\u001b[0;34m)\u001b[0m\u001b[0;34m(\u001b[0m\u001b[0mtau\u001b[0m\u001b[0;34m,\u001b[0m \u001b[0mkz\u001b[0m\u001b[0;34m)\u001b[0m\u001b[0;34m\u001b[0m\u001b[0m\n\u001b[0;32m----> 2\u001b[0;31m \u001b[0mM\u001b[0m \u001b[0;34m=\u001b[0m \u001b[0mMatrix\u001b[0m\u001b[0;34m(\u001b[0m\u001b[0;34m[\u001b[0m\u001b[0mgroup\u001b[0m\u001b[0;34m(\u001b[0m\u001b[0meqs_linva_hat\u001b[0m\u001b[0;34m[\u001b[0m\u001b[0mi\u001b[0m\u001b[0;34m,\u001b[0m \u001b[0;36m2\u001b[0m\u001b[0;34m]\u001b[0m\u001b[0;34m,\u001b[0m \u001b[0;34m[\u001b[0m\u001b[0mrho31_hat\u001b[0m\u001b[0;34m,\u001b[0m \u001b[0mOmega1_hat\u001b[0m\u001b[0;34m]\u001b[0m\u001b[0;34m,\u001b[0m \u001b[0mreturn_coeffs\u001b[0m\u001b[0;34m=\u001b[0m\u001b[0mTrue\u001b[0m\u001b[0;34m)\u001b[0m \u001b[0;32mfor\u001b[0m \u001b[0mi\u001b[0m \u001b[0;32min\u001b[0m \u001b[0mrange\u001b[0m\u001b[0;34m(\u001b[0m\u001b[0;36m2\u001b[0m\u001b[0;34m)\u001b[0m\u001b[0;34m]\u001b[0m\u001b[0;34m)\u001b[0m\u001b[0;34m/\u001b[0m\u001b[0mI\u001b[0m\u001b[0;34m\u001b[0m\u001b[0m\n\u001b[0m\u001b[1;32m      3\u001b[0m \u001b[0mM\u001b[0m \u001b[0;34m=\u001b[0m \u001b[0mM\u001b[0m\u001b[0;34m.\u001b[0m\u001b[0mexpand\u001b[0m\u001b[0;34m(\u001b[0m\u001b[0;34m)\u001b[0m\u001b[0;34m\u001b[0m\u001b[0m\n\u001b[1;32m      4\u001b[0m \u001b[0mM\u001b[0m\u001b[0;34m\u001b[0m\u001b[0m\n",
      "\u001b[0;31mNameError\u001b[0m: name 'eqs_linva_hat' is not defined"
     ]
    }
   ],
   "source": [
    "S = Function(\"S\")(tau, kz)\n",
    "M = Matrix([group(eqs_linva_hat[i, 2], [rho31_hat, Omega1_hat], return_coeffs=True) for i in range(2)])/I\n",
    "M = M.expand()\n",
    "M"
   ]
  },
  {
   "cell_type": "code",
   "execution_count": null,
   "metadata": {
    "collapsed": true
   },
   "outputs": [],
   "source": [
    "xx = M[1, 0]/Omega2_p.conjugate()*Gamma21/-I*2\n",
    "ss_rescale = {Omega1_hat: S*sqrt(xx)}\n",
    "ss_rescale_inv = {S: Omega1_hat/sqrt(xx)}"
   ]
  },
  {
   "cell_type": "code",
   "execution_count": null,
   "metadata": {
    "collapsed": true
   },
   "outputs": [],
   "source": [
    "ss_Dop = {vZ*omega_laser[0]/c-vZ*omega_laser[1]/c: vZ*Deltak}\n",
    "ss_Dop_inv = {vZ*Deltak: vZ*omega_laser[0]/c-vZ*omega_laser[1]/c}\n",
    "\n",
    "ss_kappa_inv, ss_Gamma21_inv, ss_rescale_inv, ss_Dop_inv"
   ]
  },
  {
   "cell_type": "markdown",
   "metadata": {},
   "source": [
    "So the equations in the adiabatic approximation are"
   ]
  },
  {
   "cell_type": "code",
   "execution_count": 113,
   "metadata": {
    "collapsed": false
   },
   "outputs": [
    {
     "ename": "NameError",
     "evalue": "name 'ss_kappa' is not defined",
     "output_type": "error",
     "traceback": [
      "\u001b[0;31m---------------------------------------------------------------------------\u001b[0m",
      "\u001b[0;31mNameError\u001b[0m                                 Traceback (most recent call last)",
      "\u001b[0;32m<ipython-input-113-48a0e9df7df9>\u001b[0m in \u001b[0;36m<module>\u001b[0;34m()\u001b[0m\n\u001b[1;32m      1\u001b[0m eqs_linva = Matrix([[Derivative(rhop[2, 0], t), eqsign, eq1],\n\u001b[0;32m----> 2\u001b[0;31m                     [Derivative(Omega1, t), eqsign, eq2]]).subs(ss_kappa)\n\u001b[0m\u001b[1;32m      3\u001b[0m \u001b[0meqs_linva\u001b[0m\u001b[0;34m\u001b[0m\u001b[0m\n",
      "\u001b[0;31mNameError\u001b[0m: name 'ss_kappa' is not defined"
     ]
    }
   ],
   "source": [
    "eqs_linva = Matrix([[Derivative(rhop[2, 0], t), eqsign, eq1],\n",
    "                    [Derivative(Omega1, t), eqsign, eq2]]).subs(ss_kappa)\n",
    "eqs_linva"
   ]
  },
  {
   "cell_type": "markdown",
   "metadata": {},
   "source": [
    "We transform into the control field reference frame."
   ]
  },
  {
   "cell_type": "code",
   "execution_count": 121,
   "metadata": {
    "collapsed": false
   },
   "outputs": [
    {
     "data": {
      "image/png": "[encoded data removed]",
      "text/latex": [
       "$$\\left[\\begin{matrix}\\frac{\\partial}{\\partial \\tau} \\rho_{31}{\\left (\\tau,Z,v_{Z} \\right )} & = & \\left(- \\frac{\\gamma_{32}}{2} - \\frac{i v_{Z}}{c} \\varpi_{1} + \\frac{i v_{Z}}{c} \\varpi_{2} + \\frac{\\Omega_{2}{\\left (\\tau \\right )}}{2 \\Gamma_{21}} \\overline{\\Omega_{2}{\\left (\\tau \\right )}}\\right) \\rho_{31}{\\left (\\tau,Z,v_{Z} \\right )} + \\frac{\\Omega_{1}{\\left (\\tau,R,Z \\right )}}{2 \\Gamma_{21}} \\Omega_{2}{\\left (\\tau \\right )}\\\\\\frac{\\partial}{\\partial \\tau} \\Omega_{1}{\\left (\\tau,R,Z \\right )} & = & - \\frac{c}{2} \\frac{\\partial}{\\partial Z} \\Omega_{1}{\\left (\\tau,R,Z \\right )} + \\frac{c \\kappa^{2}}{2 \\Gamma_{21}} \\Omega_{1}{\\left (\\tau,R,Z \\right )} + \\frac{c \\kappa^{2}}{2 \\Gamma_{21}} \\rho_{31}{\\left (\\tau,Z,v_{Z} \\right )} \\overline{\\Omega_{2}{\\left (\\tau \\right )}}\\end{matrix}\\right]$$"
      ],
      "text/plain": [
       "⎡                       ⎛                                            _____⎞   \n",
       "⎢∂                      ⎜  γ₃₂   ⅈ⋅v_Z⋅varpi₁   ⅈ⋅v_Z⋅varpi₂   Ω₂(τ)⋅Ω₂(τ)⎟   \n",
       "⎢──(ρ₃₁(τ, Z, v_Z))  =  ⎜- ─── - ──────────── + ──────────── + ───────────⎟⋅ρ₃\n",
       "⎢∂τ                     ⎝   2         c              c            2⋅Γ₂₁   ⎠   \n",
       "⎢                                                                             \n",
       "⎢                                     ∂                                       \n",
       "⎢                                   c⋅──(Ω₁(τ, R, Z))      2                  \n",
       "⎢ ∂                                   ∂Z                c⋅κ ⋅Ω₁(τ, R, Z)   c⋅κ\n",
       "⎢ ──(Ω₁(τ, R, Z))    =            - ───────────────── + ──────────────── + ───\n",
       "⎣ ∂τ                                        2                2⋅Γ₂₁            \n",
       "\n",
       "                                ⎤\n",
       "               Ω₁(τ, R, Z)⋅Ω₂(τ)⎥\n",
       "₁(τ, Z, v_Z) + ─────────────────⎥\n",
       "                     2⋅Γ₂₁      ⎥\n",
       "                                ⎥\n",
       "                                ⎥\n",
       "2                _____          ⎥\n",
       " ⋅ρ₃₁(τ, Z, v_Z)⋅Ω₂(τ)          ⎥\n",
       "──────────────────────          ⎥\n",
       "       2⋅Γ₂₁                    ⎦"
      ]
     },
     "execution_count": 121,
     "metadata": {},
     "output_type": "execute_result"
    }
   ],
   "source": [
    "\n",
    "\n",
    "eqs_linva2 = eqs_linva.subs(t, tau)\n",
    "\n",
    "eqs_linva2[1, 2] = eqs_linva2[1, 2]/2\n",
    "\n",
    "\n",
    "eqs_linva2 = eqs_linva2.subs({Omega2.subs(t, tau): Omega2_p})\n",
    "eqs_linva2 = eqs_linva2.subs(n, n_p)\n",
    "eqs_linva2"
   ]
  },
  {
   "cell_type": "markdown",
   "metadata": {},
   "source": [
    "We can then take a fourier transform of the Z dependence"
   ]
  },
  {
   "cell_type": "code",
   "execution_count": null,
   "metadata": {
    "collapsed": false
   },
   "outputs": [],
   "source": [
    "\n",
    "# Omega1_hat, rho31_hat"
   ]
  },
  {
   "cell_type": "code",
   "execution_count": null,
   "metadata": {
    "collapsed": false
   },
   "outputs": [],
   "source": [
    "eqs_linva_hat = eqs_linva2\n",
    "\n",
    "eqs_linva_hat = eqs_linva_hat.subs(Derivative(Omega1, Z).subs(t, tau), I*kz*Omega1_hat)\n",
    "eqs_linva_hat = eqs_linva_hat.subs(Omega1.subs(t, tau), Omega1_hat)\n",
    "eqs_linva_hat = eqs_linva_hat.subs(rhop[2, 0].subs(t, tau), rho31_hat)\n",
    "eqs_linva_hat"
   ]
  },
  {
   "cell_type": "code",
   "execution_count": null,
   "metadata": {
    "collapsed": false
   },
   "outputs": [],
   "source": [
    "M = Matrix([group(eqs_linva_hat[i, 2], [rho31_hat, Omega1_hat], return_coeffs=True) for i in range(2)])/I\n",
    "M = M.expand()\n",
    "M"
   ]
  },
  {
   "cell_type": "code",
   "execution_count": null,
   "metadata": {
    "collapsed": false
   },
   "outputs": [],
   "source": [
    "\n",
    "# xx, ss_rescale"
   ]
  },
  {
   "cell_type": "code",
   "execution_count": null,
   "metadata": {
    "collapsed": false
   },
   "outputs": [],
   "source": [
    "eq1 = eqs_linva_hat[0, 0]-eqs_linva_hat[0, 2]\n",
    "eq1 = eq1.subs(ss_rescale)\n",
    "eq1 = eq1 - Derivative(rho31_hat, tau)\n",
    "# eq1"
   ]
  },
  {
   "cell_type": "code",
   "execution_count": null,
   "metadata": {
    "collapsed": false
   },
   "outputs": [],
   "source": [
    "eq2 = eqs_linva_hat[1, 0]-eqs_linva_hat[1, 2]\n",
    "#eq2 = eq2.subs(ss_rescale).doit()\n",
    "eq2 = (eq2.subs(ss_rescale).doit()/sqrt(xx)).expand()\n",
    "eq2 = eq2 - Derivative(S, tau)\n",
    "#eq2 = eq2.conjugate()\n",
    "# eq2"
   ]
  },
  {
   "cell_type": "code",
   "execution_count": null,
   "metadata": {
    "collapsed": false
   },
   "outputs": [],
   "source": []
  },
  {
   "cell_type": "code",
   "execution_count": null,
   "metadata": {
    "collapsed": false
   },
   "outputs": [],
   "source": [
    "Y = Matrix([rho31_hat, S])\n",
    "# Y"
   ]
  },
  {
   "cell_type": "code",
   "execution_count": null,
   "metadata": {
    "collapsed": false
   },
   "outputs": [],
   "source": [
    "eqss = [eq2, eq1]\n",
    "M = Matrix([group(eqss[i], [S, rho31_hat], return_coeffs=True) for i in range(2)])/I\n",
    "M = M.expand().subs(ss_kappa).subs(ss_Dop)\n",
    "M"
   ]
  },
  {
   "cell_type": "markdown",
   "metadata": {},
   "source": [
    "# Solution for square pulses.\n",
    "\n",
    "Let's assume that the control field is constant for a duration $T$."
   ]
  },
  {
   "cell_type": "code",
   "execution_count": null,
   "metadata": {
    "collapsed": false
   },
   "outputs": [],
   "source": [
    "T, Omega2a = symbols(\"T, Omega_2a\", positive=True)\n",
    "phi = symbols(\"phi\", real=True)\n",
    "T, Omega2a, phi"
   ]
  },
  {
   "cell_type": "code",
   "execution_count": null,
   "metadata": {
    "collapsed": false
   },
   "outputs": [],
   "source": [
    "ss_square = {Omega2_p: Omega2a*exp(I*phi)}\n",
    "M_square = M.subs(ss_square)\n",
    "M_square"
   ]
  },
  {
   "cell_type": "code",
   "execution_count": null,
   "metadata": {
    "collapsed": false
   },
   "outputs": [],
   "source": [
    "p, q, r, s = symbols(\"p, q, r, s\")\n",
    "ss_M = {M_square[0, 0]: p, M_square[0, 1]: q, M_square[1, 0]: r, M_square[1, 1]: s}\n",
    "ss_M_inv = {ss_M[i]: i for i in ss_M}\n",
    "ss_M_inv"
   ]
  },
  {
   "cell_type": "code",
   "execution_count": null,
   "metadata": {
    "collapsed": false
   },
   "outputs": [],
   "source": [
    "print ss_M_inv"
   ]
  },
  {
   "cell_type": "code",
   "execution_count": null,
   "metadata": {
    "collapsed": false
   },
   "outputs": [],
   "source": [
    "M_simp = M_square.subs(ss_M)\n",
    "M_simp"
   ]
  },
  {
   "cell_type": "markdown",
   "metadata": {},
   "source": [
    "We have equations\n",
    "\n",
    "$$ \\dot{X} = i M X $$"
   ]
  },
  {
   "cell_type": "code",
   "execution_count": null,
   "metadata": {
    "collapsed": false
   },
   "outputs": [],
   "source": [
    "sig = (s+p)/2\n",
    "delt = (s-p)/2\n",
    "alp = sig**2 - M_simp.det()\n",
    "lamp, lamm = sig + sqrt(alp), sig - sqrt(alp)\n",
    "lamp, lamm"
   ]
  },
  {
   "cell_type": "code",
   "execution_count": null,
   "metadata": {
    "collapsed": true
   },
   "outputs": [],
   "source": [
    "xp, xm = q, q\n",
    "yp, ym = delt+sqrt(alp), delt-sqrt(alp)"
   ]
  },
  {
   "cell_type": "code",
   "execution_count": null,
   "metadata": {
    "collapsed": false
   },
   "outputs": [],
   "source": [
    "delt.subs(ss_M_inv)"
   ]
  },
  {
   "cell_type": "code",
   "execution_count": null,
   "metadata": {
    "collapsed": false
   },
   "outputs": [],
   "source": [
    "M_square"
   ]
  },
  {
   "cell_type": "code",
   "execution_count": null,
   "metadata": {
    "collapsed": false
   },
   "outputs": [],
   "source": [
    "A = Matrix([[xp, xm], [yp, ym]])\n",
    "Ainv = Matrix([[ym, -xm], [-yp, xp]])/(xp*ym-xm*yp)\n",
    "D = Matrix([[lamp, 0], [0, lamm]])"
   ]
  },
  {
   "cell_type": "code",
   "execution_count": null,
   "metadata": {
    "collapsed": false
   },
   "outputs": [],
   "source": [
    "A"
   ]
  },
  {
   "cell_type": "code",
   "execution_count": null,
   "metadata": {
    "collapsed": false
   },
   "outputs": [],
   "source": [
    "simplify(A*D*Ainv)"
   ]
  },
  {
   "cell_type": "code",
   "execution_count": null,
   "metadata": {
    "collapsed": false
   },
   "outputs": [],
   "source": [
    "x_p, x_m, y_p, y_m, lam_p, lam_m = symbols(\"x_+, x_-, y_+, y_-, \\lambda_+, \\lambda_-\")\n",
    "x_p, x_m, y_p, y_m, lam_p, lam_m"
   ]
  },
  {
   "cell_type": "code",
   "execution_count": null,
   "metadata": {
    "collapsed": false
   },
   "outputs": [],
   "source": [
    "ss_xy = {xp: x_p, yp: y_p, ym: y_m, lamp: lam_p, lamm: lam_m}\n",
    "ss_xy_inv = {x_p: xp, x_m: xm, y_p: yp, y_m: ym, lam_p: lamp, lam_m: lamm}\n",
    "# ss_xy"
   ]
  },
  {
   "cell_type": "code",
   "execution_count": null,
   "metadata": {
    "collapsed": false
   },
   "outputs": [],
   "source": [
    "A = Matrix([[x_p, x_m], [y_p, y_m]])\n",
    "Ainv = Matrix([[y_m, -x_m], [-y_p, x_p]])/(x_p*y_m-x_m*y_p)\n",
    "D = Matrix([[lam_p, 0], [0, lam_m]])\n",
    "A, Ainv"
   ]
  },
  {
   "cell_type": "code",
   "execution_count": null,
   "metadata": {
    "collapsed": false
   },
   "outputs": [],
   "source": [
    "from sympy import eye\n",
    "G = sum([A[:, i]*Ainv[i, :]*exp(I*T*D[i, i]) for i in range(2)], zeros(2, 2))\n",
    "G = simplify(G)\n",
    "G"
   ]
  },
  {
   "cell_type": "code",
   "execution_count": null,
   "metadata": {
    "collapsed": false
   },
   "outputs": [],
   "source": [
    "S_in = symbols(\"S_in\")\n",
    "rho31_in = symbols(\"rho_31in\")\n",
    "Yin = Y.subs({rho31_hat: 0, S: S_in})\n",
    "Yint = Y.subs({rho31_hat: rho31_in, S: 0})\n",
    "Yin, Yint"
   ]
  },
  {
   "cell_type": "code",
   "execution_count": null,
   "metadata": {
    "collapsed": false
   },
   "outputs": [],
   "source": [
    "G*Yin"
   ]
  },
  {
   "cell_type": "code",
   "execution_count": null,
   "metadata": {
    "collapsed": false
   },
   "outputs": [],
   "source": [
    "G*Yint"
   ]
  },
  {
   "cell_type": "code",
   "execution_count": null,
   "metadata": {
    "collapsed": false
   },
   "outputs": [],
   "source": [
    "Yint = G*Yin\n",
    "Yint = Matrix([Yint[0, 0], 0])\n",
    "Yout = G*Yint\n",
    "Yout"
   ]
  },
  {
   "cell_type": "code",
   "execution_count": null,
   "metadata": {
    "collapsed": false
   },
   "outputs": [],
   "source": [
    "Sout = Yout[1, 0]#.expand()\n",
    "Sout"
   ]
  },
  {
   "cell_type": "code",
   "execution_count": null,
   "metadata": {
    "collapsed": false
   },
   "outputs": [],
   "source": [
    "sigma, delta, alpha = symbols(\"sigma, delta, alpha\")\n",
    "ss_amazing1 = {sigma: (s+p)/2, delta: (s-p)/2, alpha: sig**2 - M_simp.det()}\n",
    "print ss_amazing1\n",
    "ss_amazing1"
   ]
  },
  {
   "cell_type": "code",
   "execution_count": null,
   "metadata": {
    "collapsed": false
   },
   "outputs": [],
   "source": [
    "ss_amazing2 = {lam_p: sigma+sqrt(alpha), lam_m: sigma-sqrt(alpha)}\n",
    "ss_amazing2"
   ]
  },
  {
   "cell_type": "code",
   "execution_count": null,
   "metadata": {
    "collapsed": false
   },
   "outputs": [],
   "source": [
    "ss_amazing3 = {x_p: q, x_m: q}\n",
    "ss_amazing3"
   ]
  },
  {
   "cell_type": "code",
   "execution_count": null,
   "metadata": {
    "collapsed": false
   },
   "outputs": [],
   "source": [
    "ss_amazing4 = {y_p: delta+sqrt(alpha), y_m: delta-sqrt(alpha)}\n",
    "ss_amazing4"
   ]
  },
  {
   "cell_type": "code",
   "execution_count": null,
   "metadata": {
    "collapsed": false
   },
   "outputs": [],
   "source": [
    "Sout_ = Sout.subs(ss_amazing2).factor()\n",
    "Sout_ = Sout_.subs({exp(I*T*sqrt(alpha))-exp(-I*T*sqrt(alpha)): 2*I*sin(T*sqrt(alpha))})\n",
    "Sout_ = Sout_.subs(ss_amazing3).factor()\n",
    "Sout_ = Sout_.subs(ss_amazing4)\n",
    "Sout_ = Sout_.subs({(delta-sqrt(alpha))*(delta+sqrt(alpha)): delta**2-alpha})\n",
    "Sout_"
   ]
  },
  {
   "cell_type": "code",
   "execution_count": null,
   "metadata": {
    "collapsed": false
   },
   "outputs": [],
   "source": [
    "Fk = Sout_/S_in\n",
    "Fk"
   ]
  },
  {
   "cell_type": "markdown",
   "metadata": {},
   "source": [
    "We check whether the phase in the exponential factor is real or imaginary."
   ]
  },
  {
   "cell_type": "code",
   "execution_count": null,
   "metadata": {
    "collapsed": false
   },
   "outputs": [],
   "source": [
    "sigma_phase = 2*I*T*ss_amazing1[sigma].subs(ss_M_inv).subs(ss_Gamma21_inv)\n",
    "sigma_phase"
   ]
  },
  {
   "cell_type": "markdown",
   "metadata": {},
   "source": [
    "Unsurprisingly, decoherence goes to zero if the the decay frequencies are zero."
   ]
  },
  {
   "cell_type": "code",
   "execution_count": null,
   "metadata": {
    "collapsed": false
   },
   "outputs": [],
   "source": [
    "re(sigma_phase).subs({gamma[1, 0]: 0, gamma[2, 1]: 0})"
   ]
  },
  {
   "cell_type": "code",
   "execution_count": null,
   "metadata": {
    "collapsed": false
   },
   "outputs": [],
   "source": [
    "ss_amazing1"
   ]
  },
  {
   "cell_type": "code",
   "execution_count": null,
   "metadata": {
    "collapsed": false
   },
   "outputs": [],
   "source": [
    "F_aux = Fk.subs(sigma, 0).subs(ss_amazing1).subs(ss_M_inv)#.factor()\n",
    "F_aux"
   ]
  },
  {
   "cell_type": "code",
   "execution_count": null,
   "metadata": {
    "collapsed": true
   },
   "outputs": [],
   "source": [
    "from sympy import diff\n",
    "def coeffs(expr, x, deg=1):\n",
    "    coefs = []\n",
    "    rem = expr\n",
    "    for n in reversed(range(1, deg+1)):\n",
    "        coef = diff(rem, x, n)/n\n",
    "        term = coef*x**n\n",
    "        rem = rem - term\n",
    "        rem = rem.expand()\n",
    "        coefs += [coef]\n",
    "    coefs += [rem]\n",
    "    return list(reversed(coefs))"
   ]
  },
  {
   "cell_type": "code",
   "execution_count": null,
   "metadata": {
    "collapsed": false
   },
   "outputs": [],
   "source": [
    "arg1 = F_aux.args[1].args[0].args[0]**2\n",
    "fact1 = T**2*c/Gamma21**2*(kappa*Omega2a)**2*(sqrt(8)/4)**2\n",
    "#fact1 = T**2/16/Gamma21**2\n",
    "\n",
    "arg1_ = arg1/fact1\n",
    "arg1_ = arg1_.factor().expand()\n",
    "coefs1 = coeffs(arg1_, kz, 2)\n",
    "arg1_=sum([coefs1[i]*kz**i for i in reversed(range(3))])\n",
    "arg1_ = arg1_*fact1\n",
    "arg1_"
   ]
  },
  {
   "cell_type": "code",
   "execution_count": null,
   "metadata": {
    "collapsed": false
   },
   "outputs": [],
   "source": [
    "arg2 = 1/(F_aux.args[0]*F_aux.args[2])\n",
    "#fact2 = kappa**2*Omega2a**2/Gamma21**4/64/8* (8*c*kappa*Omega2a)**2\n",
    "fact2 = 2\n",
    "#fact2 = c*kappa**2*Omega2a**2/(64*Gamma21**4)\n",
    "\n",
    "arg2_ = arg2/fact2\n",
    "arg2_ = arg2_.factor().expand()\n",
    "\n",
    "coefs2 = coeffs(arg2_, kz, 2)\n",
    "arg2_=sum([coefs2[i]*kz**i for i in reversed(range(3))])\n",
    "arg2_ = arg2_*fact2\n",
    "\n",
    "arg2_"
   ]
  },
  {
   "cell_type": "code",
   "execution_count": null,
   "metadata": {
    "collapsed": false
   },
   "outputs": [],
   "source": [
    "(arg1-arg1_).expand(), (arg2-arg2_).expand()"
   ]
  },
  {
   "cell_type": "code",
   "execution_count": null,
   "metadata": {
    "collapsed": false
   },
   "outputs": [],
   "source": [
    "arg1 = arg1_\n",
    "arg2 = arg2_\n",
    "(arg1/fact1- arg2/fact2).expand()"
   ]
  },
  {
   "cell_type": "code",
   "execution_count": null,
   "metadata": {
    "collapsed": false
   },
   "outputs": [],
   "source": [
    "Ctilde, Z = symbols(r\"\\tilde{C}, Z\")\n",
    "\n",
    "ss_guillaume = {sqrt(arg1/fact1): Z, sqrt(fact1): Ctilde}\n",
    "ss_guillaume_inv = {Z: sqrt(arg1/fact1), Ctilde: sqrt(fact1)}\n",
    "ss_guillaume_inv"
   ]
  },
  {
   "cell_type": "code",
   "execution_count": null,
   "metadata": {
    "collapsed": false
   },
   "outputs": [],
   "source": [
    "den = arg2*(Z/ss_guillaume_inv[Z])**2\n",
    "den = den.factor()\n",
    "#den = den*(Ctilde/ss_guillaume_inv[Ctilde])**2\n",
    "den"
   ]
  },
  {
   "cell_type": "code",
   "execution_count": null,
   "metadata": {
    "collapsed": false
   },
   "outputs": [],
   "source": [
    "F_guillaume = sin(Ctilde*Z)**2/den*exp(2*I*T*sigma)\n",
    "F_guillaume"
   ]
  },
  {
   "cell_type": "code",
   "execution_count": null,
   "metadata": {
    "collapsed": false
   },
   "outputs": [],
   "source": [
    "#F_guillaume2=F_guillaume.subs(ss_guillaume_inv).expand()\n",
    "#arg_gui1 = F_guillaume2.args[3].args[0].args[0]\n",
    "\n",
    "arg_gui1 = (Z*Ctilde).subs(ss_guillaume_inv)\n",
    "arg_gui1 = arg_gui1**2\n",
    "\n",
    "F_aux2 = Fk.subs(sigma, 0).subs(ss_amazing1).subs(ss_M_inv).expand()\n",
    "arg_aux1 = F_aux2.args[4].args[0].args[0]\n",
    "arg_aux1 = arg_aux1**2\n",
    "\n",
    "(arg_aux1-arg_gui1).expand()"
   ]
  },
  {
   "cell_type": "code",
   "execution_count": null,
   "metadata": {
    "collapsed": false
   },
   "outputs": [],
   "source": [
    "arg_gui2 = 2*Z**2\n",
    "arg_gui2 = arg_gui2.subs(ss_guillaume_inv).expand()\n",
    "\n",
    "Fk_aux2 = Fk.subs(sigma, 0)\n",
    "arg_aux2 = Fk_aux2.args[0]*Fk_aux2.args[2]\n",
    "arg_aux2 = arg_aux2.subs(ss_amazing1).subs(ss_M_inv)\n",
    "arg_aux2 = (1/arg_aux2).expand()\n",
    "\n",
    "arg_aux2-arg_gui2"
   ]
  },
  {
   "cell_type": "code",
   "execution_count": null,
   "metadata": {
    "collapsed": true
   },
   "outputs": [],
   "source": []
  },
  {
   "cell_type": "code",
   "execution_count": null,
   "metadata": {
    "collapsed": false
   },
   "outputs": [],
   "source": [
    "a, b, cc = symbols(\"a, b, c\")\n",
    "f = a*kz**2 + b*kz + cc\n",
    "f"
   ]
  },
  {
   "cell_type": "code",
   "execution_count": null,
   "metadata": {
    "collapsed": false
   },
   "outputs": [],
   "source": [
    "ff = a*(kz-solve(f, kz)[0])*(kz-solve(f, kz)[1])\n",
    "ff, ff.expand()-f"
   ]
  },
  {
   "cell_type": "code",
   "execution_count": null,
   "metadata": {
    "collapsed": false
   },
   "outputs": [],
   "source": [
    "fff = sqrt(ff)\n",
    "fff"
   ]
  },
  {
   "cell_type": "code",
   "execution_count": null,
   "metadata": {
    "collapsed": false
   },
   "outputs": [],
   "source": [
    "(fff-sqrt(a)*kz).limit(kz, oo)"
   ]
  },
  {
   "cell_type": "code",
   "execution_count": null,
   "metadata": {
    "collapsed": false
   },
   "outputs": [],
   "source": [
    "diff(fff, kz).limit(kz, -oo)"
   ]
  },
  {
   "cell_type": "code",
   "execution_count": null,
   "metadata": {
    "collapsed": false
   },
   "outputs": [],
   "source": [
    "from sympy import series"
   ]
  },
  {
   "cell_type": "code",
   "execution_count": null,
   "metadata": {
    "collapsed": false
   },
   "outputs": [],
   "source": [
    "series(sqrt(f), kz, 0, 2)"
   ]
  },
  {
   "cell_type": "code",
   "execution_count": null,
   "metadata": {
    "collapsed": false
   },
   "outputs": [],
   "source": [
    "solve(diff(ss_guillaume_inv[Z]**2, kz), kz)[0].expand().subs(vZ, 0)"
   ]
  },
  {
   "cell_type": "code",
   "execution_count": null,
   "metadata": {
    "collapsed": true
   },
   "outputs": [],
   "source": []
  },
  {
   "cell_type": "markdown",
   "metadata": {},
   "source": [
    "# Decoherence\n",
    "Solving the second equation in the abscence of a control field we obtain a spin wave proportional to"
   ]
  },
  {
   "cell_type": "code",
   "execution_count": null,
   "metadata": {
    "collapsed": false
   },
   "outputs": [],
   "source": [
    "Delta, sigma = symbols(\"Delta sigma\", positive=True)\n",
    "f = exp(I*Delta*t*vZ)\n",
    "f"
   ]
  },
  {
   "cell_type": "code",
   "execution_count": null,
   "metadata": {
    "collapsed": false
   },
   "outputs": [],
   "source": [
    "g=1/sqrt(2*pi)/sigma*exp(-(vZ/sigma)**2/2)\n",
    "g"
   ]
  },
  {
   "cell_type": "code",
   "execution_count": null,
   "metadata": {
    "collapsed": false
   },
   "outputs": [],
   "source": [
    "Doppler_decoherence=integrate(g*f, (vZ, -oo, oo)).factor()\n",
    "Doppler_decoherence"
   ]
  },
  {
   "cell_type": "code",
   "execution_count": null,
   "metadata": {
    "collapsed": false
   },
   "outputs": [],
   "source": [
    "decoherence = Doppler_decoherence*exp(-gamma[2, 1]*t/2)\n",
    "decoherence"
   ]
  },
  {
   "cell_type": "code",
   "execution_count": null,
   "metadata": {
    "collapsed": false
   },
   "outputs": [],
   "source": [
    "solve(log(Doppler_decoherence**2)+1, t)"
   ]
  },
  {
   "cell_type": "code",
   "execution_count": null,
   "metadata": {
    "collapsed": false
   },
   "outputs": [],
   "source": [
    "solve(log(decoherence**2)+1, t)"
   ]
  },
  {
   "cell_type": "code",
   "execution_count": null,
   "metadata": {
    "collapsed": true
   },
   "outputs": [],
   "source": [
    "A, B, C = symbols(\"A, B, C\")\n",
    "omega87, omega97 = symbols(\"omega87, omega97\", positive=True)"
   ]
  },
  {
   "cell_type": "code",
   "execution_count": null,
   "metadata": {
    "collapsed": false
   },
   "outputs": [],
   "source": [
    "decoherence_hfs = decoherence*(A+B*exp(I*omega87*t)+C*exp(I*omega97*t))/(A+B+C)\n",
    "decoherence_hfs"
   ]
  },
  {
   "cell_type": "code",
   "execution_count": null,
   "metadata": {
    "collapsed": false
   },
   "outputs": [],
   "source": [
    "eta_hfs = decoherence_hfs*decoherence_hfs.conjugate()\n",
    "eta_hfs"
   ]
  },
  {
   "cell_type": "code",
   "execution_count": null,
   "metadata": {
    "collapsed": true
   },
   "outputs": [],
   "source": [
    "D = symbols(\"D\", positive=True)"
   ]
  },
  {
   "cell_type": "code",
   "execution_count": null,
   "metadata": {
    "collapsed": false
   },
   "outputs": [],
   "source": [
    "eq = eta_hfs\n",
    "eq = eq.subs({(A+B+C)*(A+B+C).conjugate(): 1}) -exp(-1)*D\n",
    "eq = eq.expand()\n",
    "eq"
   ]
  },
  {
   "cell_type": "code",
   "execution_count": null,
   "metadata": {
    "collapsed": true
   },
   "outputs": [],
   "source": []
  },
  {
   "cell_type": "code",
   "execution_count": null,
   "metadata": {
    "collapsed": true
   },
   "outputs": [],
   "source": []
  },
  {
   "cell_type": "markdown",
   "metadata": {},
   "source": [
    "[1]  H.J. Metcalf and P. van der Straten. Laser Cooling and Trapping. Graduate Texts in Contempo-\n",
    "rary Physics. Springer New York, 2001.\n",
    "\n",
    "[2] Daniel Adam Steck. Quantum and Atom Optics. Oregon Center for Optics and Department of Physics, University of Oregon Copyright © 200"
   ]
  }
 ],
 "metadata": {
  "anaconda-cloud": {},
  "kernelspec": {
   "display_name": "Python 2",
   "language": "python",
   "name": "python2"
  },
  "language_info": {
   "codemirror_mode": {
    "name": "ipython",
    "version": 2
   },
   "file_extension": ".py",
   "mimetype": "text/x-python",
   "name": "python",
   "nbconvert_exporter": "python",
   "pygments_lexer": "ipython2",
   "version": "2.7.13"
  }
 },
 "nbformat": 4,
 "nbformat_minor": 0
}
