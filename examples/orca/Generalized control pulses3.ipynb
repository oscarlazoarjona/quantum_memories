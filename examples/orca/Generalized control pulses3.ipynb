{
 "cells": [
  {
   "cell_type": "code",
   "execution_count": 1,
   "metadata": {
    "collapsed": false
   },
   "outputs": [],
   "source": [
    "from sympy import symbols, init_printing, exp, pi, oo, integrate, simplify, gamma, sqrt, solve, fourier_transform\n",
    "from sympy import inverse_fourier_transform, sin, Piecewise, I, Equality, log, atan, Matrix\n",
    "from matplotlib import pyplot as plt\n",
    "from scipy.special import gamma as gamma_function\n",
    "import numpy as np\n",
    "from scipy.optimize import brentq\n",
    "from quantum_memories.misc import num_integral\n",
    "\n",
    "init_printing()\n",
    "%matplotlib inline"
   ]
  },
  {
   "cell_type": "code",
   "execution_count": 2,
   "metadata": {
    "collapsed": false
   },
   "outputs": [
    {
     "data": {
      "image/png": "[encoded data removed]",
      "text/latex": [
       "$$f_{0} e^{- \\frac{1}{2} \\left(\\frac{1}{\\sigma_{1}} \\left(t - t_{0}\\right)\\right)^{2 m}}$$"
      ],
      "text/plain": [
       "             2⋅m \n",
       "     ⎛t - t₀⎞    \n",
       "    -⎜──────⎟    \n",
       "     ⎝  σ₁  ⎠    \n",
       "    ─────────────\n",
       "          2      \n",
       "f₀⋅ℯ             "
      ]
     },
     "execution_count": 2,
     "metadata": {},
     "output_type": "execute_result"
    }
   ],
   "source": [
    "t, t0, nu = symbols(\"t, t0, nu\", real=True)\n",
    "sigma1, tau1, E, E0, fn, f0 = symbols(\"sigma1, tau1, E, E0, f_n, f0\", positive=True)\n",
    "m = symbols(\"m\", integer=True, positive=True)\n",
    "\n",
    "ft = f0*exp(-((t-t0)/sigma1)**(2*m)/2)#/sqrt(2*sigma1*gamma(1+1/m/2))\n",
    "ft"
   ]
  },
  {
   "cell_type": "code",
   "execution_count": 3,
   "metadata": {
    "collapsed": false
   },
   "outputs": [
    {
     "data": {
      "image/png": "[encoded data removed]",
      "text/latex": [
       "$$f_{0} e^{- \\frac{\\left(t - t_{0}\\right)^{2}}{2 \\sigma_{1}^{2}}}$$"
      ],
      "text/plain": [
       "             2 \n",
       "    -(t - t₀)  \n",
       "    ───────────\n",
       "           2   \n",
       "       2⋅σ₁    \n",
       "f₀⋅ℯ           "
      ]
     },
     "execution_count": 3,
     "metadata": {},
     "output_type": "execute_result"
    }
   ],
   "source": [
    "ft.subs(m, 1)"
   ]
  },
  {
   "cell_type": "code",
   "execution_count": 4,
   "metadata": {
    "collapsed": false
   },
   "outputs": [
    {
     "data": {
      "image/png": "[encoded data removed]",
      "text/latex": [
       "$$f_{0}^{2} e^{- \\left(\\frac{1}{\\sigma_{1}} \\left(t - t_{0}\\right)\\right)^{2 m}}$$"
      ],
      "text/plain": [
       "              2⋅m\n",
       "      ⎛t - t₀⎞   \n",
       "     -⎜──────⎟   \n",
       "  2   ⎝  σ₁  ⎠   \n",
       "f₀ ⋅ℯ            "
      ]
     },
     "execution_count": 4,
     "metadata": {},
     "output_type": "execute_result"
    }
   ],
   "source": [
    "Powt = abs(ft)**2\n",
    "Powt"
   ]
  },
  {
   "cell_type": "code",
   "execution_count": 5,
   "metadata": {
    "collapsed": false
   },
   "outputs": [
    {
     "data": {
      "image/png": "[encoded data removed]",
      "text/latex": [
       "$$\\left ( \\left \\{ f_{0} : \\frac{\\sqrt{2} f_{n}}{2 \\sqrt{\\sigma_{1}} \\sqrt{\\Gamma{\\left(1 + \\frac{1}{2 m} \\right)}}}\\right \\}, \\quad \\left \\{ f_{n} : \\sqrt{2} f_{0} \\sqrt{\\sigma_{1}} \\sqrt{\\Gamma{\\left(1 + \\frac{1}{2 m} \\right)}}\\right \\}\\right )$$"
      ],
      "text/plain": [
       "⎛                                 ⎧                      ____________⎫⎞\n",
       "⎜⎧              √2⋅f_n         ⎫  ⎪             ____    ╱  ⎛     1 ⎞ ⎪⎟\n",
       "⎜⎪f₀: ─────────────────────────⎪, ⎨f_n: √2⋅f₀⋅╲╱ σ₁ ⋅  ╱  Γ⎜1 + ───⎟ ⎬⎟\n",
       "⎜⎪                 ____________⎪  ⎪                  ╲╱    ⎝    2⋅m⎠ ⎪⎟\n",
       "⎜⎨        ____    ╱  ⎛     1 ⎞ ⎬  ⎩                                  ⎭⎟\n",
       "⎜⎪    2⋅╲╱ σ₁ ⋅  ╱  Γ⎜1 + ───⎟ ⎪                                      ⎟\n",
       "⎜⎪             ╲╱    ⎝    2⋅m⎠ ⎪                                      ⎟\n",
       "⎝⎩                             ⎭                                      ⎠"
      ]
     },
     "execution_count": 5,
     "metadata": {},
     "output_type": "execute_result"
    }
   ],
   "source": [
    "ss_amp = {f0: fn/sqrt(2*sigma1*gamma(1+1/m/2))}\n",
    "ss_amp_inv = {fn: f0*sqrt(2*sigma1*gamma(1+1/m/2))}\n",
    "ss_amp, ss_amp_inv"
   ]
  },
  {
   "cell_type": "code",
   "execution_count": 6,
   "metadata": {
    "collapsed": false
   },
   "outputs": [
    {
     "data": {
      "image/png": "[encoded data removed]",
      "text/latex": [
       "$$\\frac{\\sqrt{2} f_{n} e^{- \\frac{1}{2} \\left(\\frac{1}{\\sigma_{1}} \\left(t - t_{0}\\right)\\right)^{2 m}}}{2 \\sqrt{\\sigma_{1}} \\sqrt{\\Gamma{\\left(1 + \\frac{1}{2 m} \\right)}}}$$"
      ],
      "text/plain": [
       "                   2⋅m   \n",
       "           ⎛t - t₀⎞      \n",
       "          -⎜──────⎟      \n",
       "           ⎝  σ₁  ⎠      \n",
       "          ─────────────  \n",
       "                2        \n",
       "  √2⋅f_n⋅ℯ               \n",
       "─────────────────────────\n",
       "             ____________\n",
       "    ____    ╱  ⎛     1 ⎞ \n",
       "2⋅╲╱ σ₁ ⋅  ╱  Γ⎜1 + ───⎟ \n",
       "         ╲╱    ⎝    2⋅m⎠ "
      ]
     },
     "execution_count": 6,
     "metadata": {},
     "output_type": "execute_result"
    }
   ],
   "source": [
    "ft = ft.subs(ss_amp)\n",
    "ft"
   ]
  },
  {
   "cell_type": "code",
   "execution_count": 7,
   "metadata": {
    "collapsed": false
   },
   "outputs": [
    {
     "data": {
      "image/png": "[encoded data removed]",
      "text/latex": [
       "$$f_{n}^{2}$$"
      ],
      "text/plain": [
       "   2\n",
       "f_n "
      ]
     },
     "execution_count": 7,
     "metadata": {},
     "output_type": "execute_result"
    }
   ],
   "source": [
    "simplify(integrate(abs(ft)**2, (t, -oo, oo)))"
   ]
  },
  {
   "cell_type": "code",
   "execution_count": 8,
   "metadata": {
    "collapsed": false
   },
   "outputs": [
    {
     "data": {
      "image/png": "[encoded data removed]",
      "text/latex": [
       "$$\\left ( \\left \\{ \\tau_{1} : 2 \\sigma_{1} \\log^{\\frac{1}{2 m}}{\\left (2 \\right )}\\right \\}, \\quad \\left \\{ \\sigma_{1} : \\frac{\\tau_{1}}{2 \\log^{\\frac{1}{2 m}}{\\left (2 \\right )}}\\right \\}\\right )$$"
      ],
      "text/plain": [
       "⎛                        ⎧               -1 ⎫⎞\n",
       "⎜⎧                  1 ⎫  ⎪               ───⎪⎟\n",
       "⎜⎪                 ───⎪  ⎪               2⋅m⎪⎟\n",
       "⎜⎨                 2⋅m⎬  ⎨    τ₁⋅(log(2))   ⎬⎟\n",
       "⎜⎪τ₁: 2⋅σ₁⋅(log(2))   ⎪, ⎪σ₁: ──────────────⎪⎟\n",
       "⎜⎩                    ⎭  ⎪          2       ⎪⎟\n",
       "⎝                        ⎩                  ⎭⎠"
      ]
     },
     "execution_count": 8,
     "metadata": {},
     "output_type": "execute_result"
    }
   ],
   "source": [
    "eq = Powt.subs(t, t0)/2 - Powt\n",
    "hwhm = solve(eq, t)[0]-t0\n",
    "fwhm = 2*hwhm\n",
    "ss_fwhm = {tau1: fwhm}\n",
    "ss_fwhm_inv = {sigma1: sigma1*tau1/fwhm}\n",
    "ss_fwhm, ss_fwhm_inv"
   ]
  },
  {
   "cell_type": "markdown",
   "metadata": {},
   "source": [
    "We need to choose $\\sigma_1$ such that for all $m=1, \\infty$, the bandwidth is the same. We find what is the limit of $E(t)$ is when $m=\\infty$"
   ]
  },
  {
   "cell_type": "code",
   "execution_count": 9,
   "metadata": {
    "collapsed": false
   },
   "outputs": [
    {
     "data": {
      "image/png": "[encoded data removed]",
      "text/latex": [
       "$$\\tau_{1} = 2 \\sigma_{1}$$"
      ],
      "text/plain": [
       "τ₁ = 2⋅σ₁"
      ]
     },
     "execution_count": 9,
     "metadata": {},
     "output_type": "execute_result"
    }
   ],
   "source": [
    "Equality(tau1, ss_fwhm[tau1].limit(m, oo))"
   ]
  },
  {
   "cell_type": "code",
   "execution_count": 10,
   "metadata": {
    "collapsed": false
   },
   "outputs": [
    {
     "data": {
      "image/png": "[encoded data removed]",
      "text/latex": [
       "$$\\frac{\\sqrt{f_{0}}}{\\pi \\nu \\sqrt{\\tau_{1}}} \\sin{\\left (\\pi \\nu \\tau_{1} \\right )}$$"
      ],
      "text/plain": [
       "  ____            \n",
       "╲╱ f₀ ⋅sin(π⋅ν⋅τ₁)\n",
       "──────────────────\n",
       "          ____    \n",
       "    π⋅ν⋅╲╱ τ₁     "
      ]
     },
     "execution_count": 10,
     "metadata": {},
     "output_type": "execute_result"
    }
   ],
   "source": [
    "Eoonu = sqrt(f0)*sin(pi*nu*tau1)/(nu*pi)/sqrt(tau1)\n",
    "Eoonu"
   ]
  },
  {
   "cell_type": "code",
   "execution_count": 11,
   "metadata": {
    "collapsed": false
   },
   "outputs": [
    {
     "data": {
      "image/png": "[encoded data removed]",
      "text/latex": [
       "$$\\frac{f_{0}}{\\pi^{2} \\nu^{2} \\tau_{1}} \\sin^{2}{\\left (\\pi \\nu \\tau_{1} \\right )}$$"
      ],
      "text/plain": [
       "      2        \n",
       "f₀⋅sin (π⋅ν⋅τ₁)\n",
       "───────────────\n",
       "     2  2      \n",
       "    π ⋅ν ⋅τ₁   "
      ]
     },
     "execution_count": 11,
     "metadata": {},
     "output_type": "execute_result"
    }
   ],
   "source": [
    "Powoonu = abs(Eoonu)**2\n",
    "Powoonu"
   ]
  },
  {
   "cell_type": "code",
   "execution_count": 12,
   "metadata": {
    "collapsed": false
   },
   "outputs": [
    {
     "data": {
      "image/png": "[encoded data removed]",
      "text/latex": [
       "$$\\begin{cases} \\frac{\\sqrt{2} \\sqrt{f_{0}} \\left|{t}\\right|}{2 \\sqrt{\\sigma_{1}} t} & \\text{for}\\: \\frac{\\sigma_{1}^{2}}{t^{2}} > 1 \\\\0 & \\text{otherwise} \\end{cases}$$"
      ],
      "text/plain": [
       "⎧     ____            2    \n",
       "⎪√2⋅╲╱ f₀ ⋅│t│      σ₁     \n",
       "⎪─────────────  for ─── > 1\n",
       "⎨      ____           2    \n",
       "⎪  2⋅╲╱ σ₁ ⋅t        t     \n",
       "⎪                          \n",
       "⎩      0         otherwise "
      ]
     },
     "execution_count": 12,
     "metadata": {},
     "output_type": "execute_result"
    }
   ],
   "source": [
    "Etoo = inverse_fourier_transform(Eoonu, nu, t).subs(tau1, 2*sigma1)\n",
    "Etoo"
   ]
  },
  {
   "cell_type": "code",
   "execution_count": 13,
   "metadata": {
    "collapsed": false
   },
   "outputs": [
    {
     "data": {
      "image/png": "[encoded data removed]",
      "text/latex": [
       "$$\\begin{cases} \\frac{f_{0}}{2 \\sigma_{1}} & \\text{for}\\: \\frac{\\sigma_{1}^{2}}{t^{2}} > 1 \\\\0 & \\text{otherwise} \\end{cases}$$"
      ],
      "text/plain": [
       "⎧            2    \n",
       "⎪ f₀       σ₁     \n",
       "⎪────  for ─── > 1\n",
       "⎨2⋅σ₁        2    \n",
       "⎪           t     \n",
       "⎪                 \n",
       "⎩ 0     otherwise "
      ]
     },
     "execution_count": 13,
     "metadata": {},
     "output_type": "execute_result"
    }
   ],
   "source": [
    "Powoot = abs(Etoo)**2\n",
    "Powoot"
   ]
  },
  {
   "cell_type": "code",
   "execution_count": 14,
   "metadata": {
    "collapsed": false
   },
   "outputs": [
    {
     "data": {
      "image/png": "[encoded data removed]",
      "text/latex": [
       "$$f_{0}$$"
      ],
      "text/plain": [
       "f₀"
      ]
     },
     "execution_count": 14,
     "metadata": {},
     "output_type": "execute_result"
    }
   ],
   "source": [
    "integrate(Powoot.args[0][0], (t, -sigma1, sigma1))"
   ]
  },
  {
   "cell_type": "code",
   "execution_count": 15,
   "metadata": {
    "collapsed": false
   },
   "outputs": [
    {
     "data": {
      "image/png": "[encoded data removed]",
      "text/latex": [
       "$$\\frac{\\sqrt{2} s}{2} = \\sin{\\left (s \\right )}$$"
      ],
      "text/plain": [
       "√2⋅s         \n",
       "──── = sin(s)\n",
       " 2           "
      ]
     },
     "execution_count": 15,
     "metadata": {},
     "output_type": "execute_result"
    }
   ],
   "source": [
    "s = symbols(\"s\", positive=True)\n",
    "eq = Equality(Powoonu.limit(nu, 0)/2, Powoonu)\n",
    "ff = (pi*nu)**2/f0*tau1\n",
    "eq = Equality(eq.lhs*ff, eq.rhs*ff)\n",
    "eq = Equality(sqrt(eq.lhs), sqrt(eq.rhs))\n",
    "\n",
    "eq = eq.subs(abs(nu)*tau1*pi, s)\n",
    "eq = eq.subs(nu*tau1*pi, s)\n",
    "eq = eq.subs(abs(sin(s)), sin(s))\n",
    "\n",
    "eq"
   ]
  },
  {
   "cell_type": "code",
   "execution_count": 16,
   "metadata": {
    "collapsed": false
   },
   "outputs": [
    {
     "data": {
      "text/plain": [
       "[<matplotlib.lines.Line2D at 0x7f9fe878dc10>]"
      ]
     },
     "execution_count": 16,
     "metadata": {},
     "output_type": "execute_result"
    },
    {
     "data": {
      "image/png": "[encoded data removed]",
      "text/plain": [
       "<matplotlib.figure.Figure at 0x7fa014deabd0>"
      ]
     },
     "metadata": {},
     "output_type": "display_data"
    }
   ],
   "source": [
    "ss = np.linspace(0, 2, 1000)\n",
    "plt.plot(ss, ss)\n",
    "plt.plot(ss, np.sqrt(2)*np.sin(ss))\n",
    "plt.plot(ss, ss-np.sqrt(2)*np.sin(ss))"
   ]
  },
  {
   "cell_type": "code",
   "execution_count": 17,
   "metadata": {
    "collapsed": false
   },
   "outputs": [
    {
     "data": {
      "image/png": "[encoded data removed]",
      "text/latex": [
       "$$\\frac{1.3915573782515}{\\pi \\sigma_{1}}$$"
      ],
      "text/plain": [
       "1.3915573782515\n",
       "───────────────\n",
       "      π⋅σ₁     "
      ]
     },
     "execution_count": 17,
     "metadata": {},
     "output_type": "execute_result"
    }
   ],
   "source": [
    "from scipy.optimize import brentq\n",
    "root_hwhm = brentq(lambda x: x-np.sqrt(2.0)*np.sin(x), 1, 2)\n",
    "bandwidthoo = 2*root_hwhm/pi/tau1#=pi*nu*tau1\n",
    "bandwidthoo = bandwidthoo.subs(tau1, 2*sigma1)\n",
    "bandwidthoo"
   ]
  },
  {
   "cell_type": "markdown",
   "metadata": {},
   "source": [
    "And the gaussian transforms as"
   ]
  },
  {
   "cell_type": "code",
   "execution_count": 18,
   "metadata": {
    "collapsed": false
   },
   "outputs": [
    {
     "data": {
      "image/png": "[encoded data removed]",
      "text/latex": [
       "$$\\sqrt{2} \\sqrt[4]{\\pi} f_{n} \\sqrt{\\sigma_{1}} e^{- 2 \\pi \\nu \\left(\\pi \\nu \\sigma_{1}^{2} + i t_{0}\\right)}$$"
      ],
      "text/plain": [
       "                            ⎛      2       ⎞\n",
       "   4 ___       ____  -2⋅π⋅ν⋅⎝π⋅ν⋅σ₁  + ⅈ⋅t₀⎠\n",
       "√2⋅╲╱ π ⋅f_n⋅╲╱ σ₁ ⋅ℯ                       "
      ]
     },
     "execution_count": 18,
     "metadata": {},
     "output_type": "execute_result"
    }
   ],
   "source": [
    "f01t = fourier_transform(ft.subs(m, 1), t, nu)\n",
    "f01t"
   ]
  },
  {
   "cell_type": "code",
   "execution_count": 19,
   "metadata": {
    "collapsed": false
   },
   "outputs": [
    {
     "data": {
      "image/png": "[encoded data removed]",
      "text/latex": [
       "$$2 \\sqrt{\\pi} f_{n}^{2} \\sigma_{1} e^{- 4 \\pi^{2} \\nu^{2} \\sigma_{1}^{2}}$$"
      ],
      "text/plain": [
       "                  2  2   2\n",
       "        2     -4⋅π ⋅ν ⋅σ₁ \n",
       "2⋅√π⋅f_n ⋅σ₁⋅ℯ            "
      ]
     },
     "execution_count": 19,
     "metadata": {},
     "output_type": "execute_result"
    }
   ],
   "source": [
    "Pow01t = abs(f01t)**2\n",
    "Pow01t"
   ]
  },
  {
   "cell_type": "code",
   "execution_count": 20,
   "metadata": {
    "collapsed": false
   },
   "outputs": [
    {
     "data": {
      "image/png": "[encoded data removed]",
      "text/latex": [
       "$$\\left ( \\frac{2}{\\pi \\sigma_{1}} \\sqrt{\\log{\\left (\\sqrt[4]{2} \\right )}}, \\quad \\frac{1.3915573782515}{\\pi \\sigma_{1}}\\right )$$"
      ],
      "text/plain": [
       "⎛     ____________                 ⎞\n",
       "⎜    ╱    ⎛4 ___⎞                  ⎟\n",
       "⎜2⋅╲╱  log⎝╲╱ 2 ⎠   1.3915573782515⎟\n",
       "⎜─────────────────, ───────────────⎟\n",
       "⎝       π⋅σ₁              π⋅σ₁     ⎠"
      ]
     },
     "execution_count": 20,
     "metadata": {},
     "output_type": "execute_result"
    }
   ],
   "source": [
    "bandwidth01 = solve(Pow01t.subs(nu, 0)/2-Pow01t, nu)\n",
    "bandwidth01 = bandwidth01[3]-bandwidth01[2]\n",
    "bandwidth01, bandwidthoo"
   ]
  },
  {
   "cell_type": "code",
   "execution_count": 21,
   "metadata": {
    "collapsed": false
   },
   "outputs": [
    {
     "data": {
      "image/png": "[encoded data removed]",
      "text/latex": [
       "$$\\left \\{ \\sigma_{1} : \\frac{\\tau_{1}}{2 \\log^{\\frac{1}{2 m}}{\\left (2 \\right )}}\\right \\}$$"
      ],
      "text/plain": [
       "⎧               -1 ⎫\n",
       "⎪               ───⎪\n",
       "⎪               2⋅m⎪\n",
       "⎨    τ₁⋅(log(2))   ⎬\n",
       "⎪σ₁: ──────────────⎪\n",
       "⎪          2       ⎪\n",
       "⎩                  ⎭"
      ]
     },
     "execution_count": 21,
     "metadata": {},
     "output_type": "execute_result"
    }
   ],
   "source": [
    "ss_fwhm_inv"
   ]
  },
  {
   "cell_type": "code",
   "execution_count": 22,
   "metadata": {
    "collapsed": false
   },
   "outputs": [
    {
     "data": {
      "image/png": "[encoded data removed]",
      "text/latex": [
       "$$2$$"
      ],
      "text/plain": [
       "2"
      ]
     },
     "execution_count": 22,
     "metadata": {},
     "output_type": "execute_result"
    }
   ],
   "source": [
    "Powt.subs(ss_fwhm_inv).subs(t, t0)/Powt.subs(ss_fwhm_inv).subs(t, t0+tau1/2)"
   ]
  },
  {
   "cell_type": "code",
   "execution_count": 23,
   "metadata": {
    "collapsed": false
   },
   "outputs": [
    {
     "data": {
      "image/png": "[encoded data removed]",
      "text/latex": [
       "$$\\frac{2}{\\pi} \\log{\\left (2 \\right )}$$"
      ],
      "text/plain": [
       "2⋅log(2)\n",
       "────────\n",
       "   π    "
      ]
     },
     "execution_count": 23,
     "metadata": {},
     "output_type": "execute_result"
    }
   ],
   "source": [
    "tbp01 = simplify(bandwidth01.subs(ss_fwhm_inv).subs(m, 1)*tau1)\n",
    "tbp01"
   ]
  },
  {
   "cell_type": "code",
   "execution_count": 24,
   "metadata": {
    "collapsed": false
   },
   "outputs": [
    {
     "data": {
      "image/png": "[encoded data removed]",
      "text/latex": [
       "$$\\frac{2.78311475650301}{\\pi}$$"
      ],
      "text/plain": [
       "2.78311475650301\n",
       "────────────────\n",
       "       π        "
      ]
     },
     "execution_count": 24,
     "metadata": {},
     "output_type": "execute_result"
    }
   ],
   "source": [
    "tbpoo = simplify(bandwidthoo.subs(ss_fwhm_inv).limit(m, oo)*tau1)\n",
    "tbpoo"
   ]
  },
  {
   "cell_type": "code",
   "execution_count": 25,
   "metadata": {
    "collapsed": false
   },
   "outputs": [],
   "source": [
    "def ffftfreq(t):\n",
    "    r\"\"\"Calculate the angular frequency axis for a given time axis.\"\"\"\n",
    "    dt = t[1]-t[0]\n",
    "    nu = np.fft.fftshift(np.fft.fftfreq(t.size, dt))\n",
    "    return nu\n",
    "\n",
    "\n",
    "def ffftfft(f, t):\n",
    "    r\"\"\"Calculate the Fourier transform.\"\"\"\n",
    "    dt = t[1]-t[0]\n",
    "    return np.fft.fftshift(np.fft.fft(np.fft.ifftshift(f)))*dt\n",
    "\n",
    "\n",
    "def iffftfft(f, nu):\n",
    "    r\"\"\"Calculate the inverse Fourier transform.\"\"\"\n",
    "    Deltanu = nu[-1]-nu[0]\n",
    "    return np.fft.fftshift(np.fft.ifft(np.fft.ifftshift(f)))*Deltanu\n",
    "\n",
    "from scipy.interpolate import interp1d\n",
    "\n",
    "def estimate_time_bandwith_product(t, m=1):\n",
    "    f = np.exp(-t**(2*m))\n",
    "    f2max = np.interp(0, ts, np.abs(f)**2)\n",
    "    eqf = np.abs(f)**2-f2max/2\n",
    "    eqff = interp1d(t, eqf)\n",
    "    tau = brentq(eqff, 0, 1)*2\n",
    "    \n",
    "    #print tau\n",
    "    nu = ffftfreq(t)\n",
    "    fhat = ffftfft(f, t)\n",
    "    f2hatmax = np.interp(0, nu, np.abs(fhat)**2)\n",
    "    eqfhat = np.abs(fhat)**2-f2hatmax/2\n",
    "    eqfhatf = interp1d(nu, eqfhat)\n",
    "    B = brentq(eqfhatf, 0, 1)*2\n",
    "    #print B\n",
    "    #print tau*B, 2*np.log(2)/np.pi\n",
    "    \n",
    "    #plt.subplot(211)\n",
    "    #plt.plot(t, np.abs(f)**2)\n",
    "    #plt.xlim(-5, 5)\n",
    "    #plt.subplot(212)\n",
    "    #plt.plot(nu, np.abs(fhat)**2)\n",
    "    #plt.xlim(-2, 2)\n",
    "    return tau*B"
   ]
  },
  {
   "cell_type": "code",
   "execution_count": 26,
   "metadata": {
    "collapsed": false
   },
   "outputs": [
    {
     "name": "stderr",
     "output_type": "stream",
     "text": [
      "/home/oscar/anaconda2/lib/python2.7/site-packages/ipykernel/__main__.py:22: RuntimeWarning: overflow encountered in power\n"
     ]
    }
   ],
   "source": [
    "aa = 5\n",
    "ts = np.linspace(-aa*10, aa*10, aa*10000+1)\n",
    "mm = np.array(range(1, 101))\n",
    "tbp = [estimate_time_bandwith_product(ts, i) for i in mm]"
   ]
  },
  {
   "cell_type": "code",
   "execution_count": 27,
   "metadata": {
    "collapsed": false
   },
   "outputs": [],
   "source": [
    "from scipy.optimize import curve_fit\n",
    "def model0(m, a, b, B, p):\n",
    "    return (B-b)*(1-np.exp(-a*(m-1)**p))+b\n",
    "\n",
    "def model(m, a, p):\n",
    "    B = 0.885892941378901\n",
    "    b = 2*np.log(2)/np.pi\n",
    "    return (B-b)*(1-np.exp(-a*(m-1)**p))+b\n",
    "\n",
    "def rel_diff(a, b):\n",
    "    a = abs(a)\n",
    "    b = abs(b)\n",
    "    if a > b:\n",
    "        return 1-b/a\n",
    "    else:\n",
    "        return 1-a/b\n",
    "\n",
    "def time_bandwith_product(m):\n",
    "    if m == 1:\n",
    "        return 2*np.log(2)/np.pi\n",
    "    elif m == oo:\n",
    "        return 0.885892941378901\n",
    "    \n",
    "    #B = 0.885892941378901\n",
    "    #b = 2*np.log(2)/np.pi\n",
    "    a, b, B, p = (0.84611760622587673, 0.44076249541699231, 0.87501561821518636, 0.64292796298081856)\n",
    "    #a, p = (0.8917448398366381, 0.50670832946269484)\n",
    "    return (B-b)*(1-np.exp(-a*(m-1)**p))+b"
   ]
  },
  {
   "cell_type": "code",
   "execution_count": 28,
   "metadata": {
    "collapsed": false
   },
   "outputs": [
    {
     "name": "stdout",
     "output_type": "stream",
     "text": [
      "[0.84611760622587673, 0.44076249541699231, 0.87501561821518636, 0.64292796298081856]\n"
     ]
    },
    {
     "data": {
      "image/png": "[encoded data removed]",
      "text/plain": [
       "<matplotlib.figure.Figure at 0x7f9fe86b9750>"
      ]
     },
     "metadata": {},
     "output_type": "display_data"
    }
   ],
   "source": [
    "p0 = (1.0, 0.88, 0.4, 0.5)\n",
    "#p0 = (1.0, 0.6)\n",
    "fitted = model0(mm, *p0)\n",
    "aux = 28\n",
    "fit = curve_fit(model0, mm[:aux], tbp[:aux], p0)[0]\n",
    "fitted = model0(mm, *fit)\n",
    "print list(fit)\n",
    "\n",
    "#time_bandwith_product = interp1d(mm, tbp)\n",
    "\n",
    "#fitted = [time_bandwith_product(i) for i in mm]\n",
    "\n",
    "plt.figure(figsize=(15, 8))\n",
    "plt.subplot(211)\n",
    "plt.plot(mm, tbp, \"bx\")\n",
    "plt.plot(mm, fitted, \"r-\")\n",
    "\n",
    "plt.subplot(212)\n",
    "err = [rel_diff(tbp[i], fitted[i]) for i in range(len(tbp))]\n",
    "plt.semilogy(mm, err, \"mx-\")\n",
    "plt.grid(True)"
   ]
  },
  {
   "cell_type": "code",
   "execution_count": 29,
   "metadata": {
    "collapsed": false
   },
   "outputs": [],
   "source": [
    "def square_normalized(t, t0, tau, norm=1):\n",
    "    f = np.where((t-t0)/tau >=-0.5, 1.0, 0.0)*np.where((t-t0)/tau <=0.5, 1.0, 0.0)\n",
    "    f = np.sqrt(norm)*f\n",
    "    return f\n",
    "\n",
    "\n",
    "def Omega_generalized(t, t0, bandwidth, E, m=1):\n",
    "    tbp = time_bandwith_product(m)\n",
    "    tau = tbp/bandwidth\n",
    "    if m == oo:\n",
    "        sig = tau/2\n",
    "        #f = np.sqrt(E)*square(t-t0, 2*sig)/2/sig\n",
    "        f = np.sqrt(E)*square_normalized(t, t0, tau, E)\n",
    "    else:\n",
    "        sigma = tau/(2*np.log(2.0)*(1.0/(2*m)))\n",
    "        sigma = tau*np.log(2)**(-1.0/(2*m))/2.0\n",
    "        # print tbp, tau, sigma\n",
    "        f = np.sqrt(E/(2*sigma*gamma_function(1+1.0/2/m)))\n",
    "        f = f*np.exp(-0.5*(((t-t0)/sigma)**(2*m)))\n",
    "    f = np.sqrt(E)*f/np.sqrt(num_integral(t, np.abs(f)**2))\n",
    "    return f\n",
    "    "
   ]
  },
  {
   "cell_type": "code",
   "execution_count": 30,
   "metadata": {
    "collapsed": false
   },
   "outputs": [
    {
     "name": "stderr",
     "output_type": "stream",
     "text": [
      "/home/oscar/anaconda2/lib/python2.7/site-packages/ipykernel/__main__.py:19: RuntimeWarning: overflow encountered in power\n"
     ]
    },
    {
     "name": "stdout",
     "output_type": "stream",
     "text": [
      "3.0 3.0\n",
      "3.0 3.0\n",
      "3.0 3.0\n",
      "3.0 2.99999959182\n"
     ]
    },
    {
     "data": {
      "text/plain": [
       "<matplotlib.text.Text at 0x7f9fe7de0950>"
      ]
     },
     "execution_count": 30,
     "metadata": {},
     "output_type": "execute_result"
    },
    {
     "data": {
      "image/png": "[encoded data removed]",
      "text/plain": [
       "<matplotlib.figure.Figure at 0x7f9fe86b7c50>"
      ]
     },
     "metadata": {},
     "output_type": "display_data"
    }
   ],
   "source": [
    "t0s = 0.0\n",
    "bandwidths = 3.0\n",
    "Es = 3.0\n",
    "f01 = Omega_generalized(ts, t0s, bandwidths, Es, 1)\n",
    "f02 = Omega_generalized(ts, t0s, bandwidths, Es, 2)\n",
    "f03 = Omega_generalized(ts, t0s, bandwidths, Es, 8)\n",
    "f99 = Omega_generalized(ts, t0s, bandwidths, Es, 99)\n",
    "foo = Omega_generalized(ts, t0s, bandwidths, Es, oo)\n",
    "f = [f01, f02, f03, foo]\n",
    "#f = [f01, f02, foo]\n",
    "colours = [\"b\", \"g\", (1, 0.5, 0), \"r\"]\n",
    "mlabels = [\"=1\", \"=2\", \"=8\", r\"\\rightarrow\\infty\"]\n",
    "\n",
    "nus = ffftfreq(ts)\n",
    "fhat = [ffftfft(f[i], ts) for i in range(len(f))]\n",
    "\n",
    "for i in range(len(f)):\n",
    "    print num_integral(ts, np.abs(f[i])**2), num_integral(nus, np.abs(fhat[i])**2)\n",
    "\n",
    "plt.figure(figsize=(15, 15))\n",
    "plt.subplot(221)\n",
    "for i in range(len(f)):\n",
    "    plt.plot(ts, np.abs(f[i]), \"-\", color=colours[i], label=r\"$m\"+mlabels[i]+\"$\")\n",
    "plt.xlim(-0.5, 0.5)\n",
    "plt.legend(fontsize=15)\n",
    "plt.xlabel(r\"$t$\", fontsize=15)\n",
    "plt.ylabel(r\"$|F|$\", fontsize=15)\n",
    "\n",
    "plt.subplot(222)\n",
    "for i in range(len(f)):\n",
    "    plt.plot(nus, np.abs(fhat[i]), \"-\", color=colours[i], label=r\"$m\"+mlabels[i]+\"$\")\n",
    "plt.xlim(-2*bandwidths, 2*bandwidths)\n",
    "plt.legend(fontsize=15)\n",
    "plt.xlabel(r\"$\\nu$\", fontsize=15)\n",
    "plt.ylabel(r\"$|\\hat{F}|$\", fontsize=15)\n",
    "\n",
    "plt.subplot(223)\n",
    "for i in range(len(f)):\n",
    "    plt.plot(ts, np.abs(f[i])**2, \"-\", color=colours[i], label=r\"$m\"+mlabels[i]+\"$\")\n",
    "plt.xlim(-0.5, 0.5)\n",
    "plt.legend(fontsize=15)\n",
    "plt.xlabel(r\"$t$\", fontsize=15)\n",
    "plt.ylabel(r\"$|F|^2$\", fontsize=15)\n",
    "\n",
    "plt.subplot(224)\n",
    "for i in range(len(f)):\n",
    "    plt.plot(nus, np.abs(fhat[i])**2, \"-\", color=colours[i], label=r\"$m\"+mlabels[i]+\"$\")\n",
    "plt.xlim(-2*bandwidths, 2*bandwidths)\n",
    "plt.legend(fontsize=15)\n",
    "plt.xlabel(r\"$\\nu$\", fontsize=15)\n",
    "plt.ylabel(r\"$|\\hat{F}|^2$\", fontsize=15)"
   ]
  },
  {
   "cell_type": "markdown",
   "metadata": {},
   "source": [
    "# Power of a Gaussian beam\n",
    "\n",
    "We define a gaussian beam in the following way"
   ]
  },
  {
   "cell_type": "code",
   "execution_count": 31,
   "metadata": {
    "collapsed": false
   },
   "outputs": [
    {
     "data": {
      "image/png": "[encoded data removed]",
      "text/latex": [
       "$$\\left ( w, \\quad \\lambda, \\quad k_{z}, \\quad E_{0}\\right )$$"
      ],
      "text/plain": [
       "(w, λ, k_z, E₀)"
      ]
     },
     "execution_count": 31,
     "metadata": {},
     "output_type": "execute_result"
    }
   ],
   "source": [
    "x, y, z = symbols(\"x, y, z\", real=True)\n",
    "R = Matrix([x, y, z])\n",
    "w, lam, kz = symbols(\"w, lambda k_z\", positive=True)\n",
    "w, lam, kz, E0"
   ]
  },
  {
   "cell_type": "code",
   "execution_count": 32,
   "metadata": {
    "collapsed": false
   },
   "outputs": [
    {
     "data": {
      "image/png": "[encoded data removed]",
      "text/latex": [
       "$$\\frac{\\pi w^{2}}{\\lambda}$$"
      ],
      "text/plain": [
       "   2\n",
       "π⋅w \n",
       "────\n",
       " λ  "
      ]
     },
     "execution_count": 32,
     "metadata": {},
     "output_type": "execute_result"
    }
   ],
   "source": [
    "zr=pi*w**2/lam\n",
    "zr"
   ]
  },
  {
   "cell_type": "code",
   "execution_count": 33,
   "metadata": {
    "collapsed": false
   },
   "outputs": [
    {
     "data": {
      "image/png": "[encoded data removed]",
      "text/latex": [
       "$$z \\left(1 + \\frac{\\pi^{2} w^{4}}{\\lambda^{2} z^{2}}\\right)$$"
      ],
      "text/plain": [
       "  ⎛     2  4⎞\n",
       "  ⎜    π ⋅w ⎟\n",
       "z⋅⎜1 + ─────⎟\n",
       "  ⎜     2  2⎟\n",
       "  ⎝    λ ⋅z ⎠"
      ]
     },
     "execution_count": 33,
     "metadata": {},
     "output_type": "execute_result"
    }
   ],
   "source": [
    "Rz=z*(1+zr**2/z**2)\n",
    "Rz"
   ]
  },
  {
   "cell_type": "code",
   "execution_count": 34,
   "metadata": {
    "collapsed": false
   },
   "outputs": [
    {
     "data": {
      "image/png": "[encoded data removed]",
      "text/latex": [
       "$$w \\sqrt{\\frac{\\lambda^{2} z^{2}}{\\pi^{2} w^{4}} + 1}$$"
      ],
      "text/plain": [
       "        ___________\n",
       "       ╱  2  2     \n",
       "      ╱  λ ⋅z      \n",
       "w⋅   ╱   ───── + 1 \n",
       "    ╱     2  4     \n",
       "  ╲╱     π ⋅w      "
      ]
     },
     "execution_count": 34,
     "metadata": {},
     "output_type": "execute_result"
    }
   ],
   "source": [
    "wz=w*sqrt(1+z**2/zr**2)\n",
    "wz"
   ]
  },
  {
   "cell_type": "code",
   "execution_count": 35,
   "metadata": {
    "collapsed": false
   },
   "outputs": [
    {
     "data": {
      "image/png": "[encoded data removed]",
      "text/latex": [
       "$$\\operatorname{atan}{\\left (\\frac{\\lambda z}{\\pi w^{2}} \\right )}$$"
      ],
      "text/plain": [
       "    ⎛λ⋅z ⎞\n",
       "atan⎜────⎟\n",
       "    ⎜   2⎟\n",
       "    ⎝π⋅w ⎠"
      ]
     },
     "execution_count": 35,
     "metadata": {},
     "output_type": "execute_result"
    }
   ],
   "source": [
    "psi=atan(z/zr)\n",
    "psi"
   ]
  },
  {
   "cell_type": "code",
   "execution_count": 36,
   "metadata": {
    "collapsed": false
   },
   "outputs": [
    {
     "data": {
      "image/png": "[encoded data removed]",
      "text/latex": [
       "$$\\frac{\\pi E_{0} w^{2}}{\\sqrt{\\lambda^{2} z^{2} + \\pi^{2} w^{4}}} e^{- i \\left(k_{z} z + \\frac{k_{z} \\left(x^{2} + y^{2} + z^{2}\\right)}{2 z \\left(1 + \\frac{\\pi^{2} w^{4}}{\\lambda^{2} z^{2}}\\right)} - \\operatorname{atan}{\\left (\\frac{\\lambda z}{\\pi w^{2}} \\right )}\\right)} e^{\\frac{- x^{2} - y^{2} - z^{2}}{w^{2} \\left(\\frac{\\lambda^{2} z^{2}}{\\pi^{2} w^{4}} + 1\\right)}}$$"
      ],
      "text/plain": [
       "            ⎛            ⎛ 2    2    2⎞             ⎞     2    2    2\n",
       "            ⎜        k_z⋅⎝x  + y  + z ⎠       ⎛λ⋅z ⎞⎟  - x  - y  - z \n",
       "         -ⅈ⋅⎜k_z⋅z + ────────────────── - atan⎜────⎟⎟  ──────────────\n",
       "            ⎜             ⎛     2  4⎞         ⎜   2⎟⎟     ⎛ 2  2    ⎞\n",
       "            ⎜             ⎜    π ⋅w ⎟         ⎝π⋅w ⎠⎟   2 ⎜λ ⋅z     ⎟\n",
       "            ⎜         2⋅z⋅⎜1 + ─────⎟               ⎟  w ⋅⎜───── + 1⎟\n",
       "            ⎜             ⎜     2  2⎟               ⎟     ⎜ 2  4    ⎟\n",
       "      2     ⎝             ⎝    λ ⋅z ⎠               ⎠     ⎝π ⋅w     ⎠\n",
       "π⋅E₀⋅w ⋅ℯ                                            ⋅ℯ              \n",
       "─────────────────────────────────────────────────────────────────────\n",
       "                             _______________                         \n",
       "                            ╱  2  2    2  4                          \n",
       "                          ╲╱  λ ⋅z  + π ⋅w                           "
      ]
     },
     "execution_count": 36,
     "metadata": {},
     "output_type": "execute_result"
    }
   ],
   "source": [
    "# A Gaussian beam:\n",
    "R2=R.dot(R)\n",
    "Electric_field=E0*w/wz\n",
    "Electric_field=Electric_field.factor()\n",
    "Electric_field=Electric_field*exp(-R2/wz**2)\n",
    "Electric_field=Electric_field*exp(-I*(kz*z + kz*R2/2/Rz -psi ))\n",
    "\n",
    "Electric_field"
   ]
  },
  {
   "cell_type": "code",
   "execution_count": 37,
   "metadata": {
    "collapsed": false
   },
   "outputs": [
    {
     "data": {
      "image/png": "[encoded data removed]",
      "text/latex": [
       "$$\\left ( E, \\quad e, \\quad r, \\quad \\epsilon_{0}, \\quad c, \\quad \\Omega_{0}, \\quad \\hbar\\right )$$"
      ],
      "text/plain": [
       "(E, e, r, ε₀, c, Ω₀, h̅)"
      ]
     },
     "execution_count": 37,
     "metadata": {},
     "output_type": "execute_result"
    }
   ],
   "source": [
    "E, e, r, epsilon0, c, Omega0, hbar = symbols(\"E e r epsilon_0 c Omega_0 hbar\",positive=True)\n",
    "E, e, r, epsilon0, c, Omega0, hbar"
   ]
  },
  {
   "cell_type": "markdown",
   "metadata": {},
   "source": [
    "The exact physical meaning of $w$ is important"
   ]
  },
  {
   "cell_type": "code",
   "execution_count": 38,
   "metadata": {
    "collapsed": false
   },
   "outputs": [
    {
     "data": {
      "image/png": "[encoded data removed]",
      "text/latex": [
       "$$e^{-2}$$"
      ],
      "text/plain": [
       " -2\n",
       "ℯ  "
      ]
     },
     "execution_count": 38,
     "metadata": {},
     "output_type": "execute_result"
    }
   ],
   "source": [
    "Iwaist = (Electric_field**2).limit(z, 0)*epsilon0*c/2\n",
    "Iatw = Iwaist.subs({x: w, y: 0})/Iwaist.subs({x: 0, y: 0})\n",
    "Iatw"
   ]
  },
  {
   "cell_type": "markdown",
   "metadata": {},
   "source": [
    "It is the waist at which the intensity drops $e^{-1}$ times the peak intensity."
   ]
  },
  {
   "cell_type": "code",
   "execution_count": 39,
   "metadata": {
    "collapsed": false
   },
   "outputs": [
    {
     "data": {
      "image/png": "[encoded data removed]",
      "text/latex": [
       "$$f_{0} e^{- \\frac{1}{2} \\left(\\frac{1}{\\sigma_{1}} \\left(t - t_{0}\\right)\\right)^{2 m}}$$"
      ],
      "text/plain": [
       "             2⋅m \n",
       "     ⎛t - t₀⎞    \n",
       "    -⎜──────⎟    \n",
       "     ⎝  σ₁  ⎠    \n",
       "    ─────────────\n",
       "          2      \n",
       "f₀⋅ℯ             "
      ]
     },
     "execution_count": 39,
     "metadata": {},
     "output_type": "execute_result"
    }
   ],
   "source": [
    "fft = ft.subs(ss_amp_inv)\n",
    "fft"
   ]
  },
  {
   "cell_type": "code",
   "execution_count": 40,
   "metadata": {
    "collapsed": false
   },
   "outputs": [
    {
     "data": {
      "image/png": "[encoded data removed]",
      "text/latex": [
       "$$E_{0} e^{- \\frac{1}{2} \\left(\\frac{1}{\\sigma_{1}} \\left(t - t_{0} - \\frac{z}{c}\\right)\\right)^{2 m}} e^{- \\frac{x^{2}}{w^{2}}} e^{- \\frac{y^{2}}{w^{2}}}$$"
      ],
      "text/plain": [
       "                 2⋅m             \n",
       "     ⎛         z⎞                \n",
       "     ⎜t - t₀ - ─⎟                \n",
       "     ⎜         c⎟        2     2 \n",
       "    -⎜──────────⎟      -x    -y  \n",
       "     ⎝    σ₁    ⎠      ────  ────\n",
       "    ─────────────────    2     2 \n",
       "            2           w     w  \n",
       "E₀⋅ℯ                 ⋅ℯ    ⋅ℯ    "
      ]
     },
     "execution_count": 40,
     "metadata": {},
     "output_type": "execute_result"
    }
   ],
   "source": [
    "Ewaist=Electric_field.limit(z,0).subs(E0, fft).subs(f0, E0)\n",
    "Ewaist=Ewaist.subs({t:t-z/c})\n",
    "Ewaist"
   ]
  },
  {
   "cell_type": "code",
   "execution_count": 41,
   "metadata": {
    "collapsed": false
   },
   "outputs": [
    {
     "data": {
      "image/png": "[encoded data removed]",
      "text/latex": [
       "$$\\frac{c \\epsilon_{0}}{2} E_{0}^{2} e^{- \\left(\\frac{1}{\\sigma_{1}} \\left(t - t_{0} - \\frac{z}{c}\\right)\\right)^{2 m}} e^{- \\frac{2 x^{2}}{w^{2}}} e^{- \\frac{2 y^{2}}{w^{2}}}$$"
      ],
      "text/plain": [
       "                       2⋅m                \n",
       "           ⎛         z⎞         2       2 \n",
       "           ⎜t - t₀ - ─⎟     -2⋅x    -2⋅y  \n",
       "           ⎜         c⎟     ──────  ──────\n",
       "          -⎜──────────⎟        2       2  \n",
       "  2        ⎝    σ₁    ⎠       w       w   \n",
       "E₀ ⋅c⋅ε₀⋅ℯ                ⋅ℯ      ⋅ℯ      \n",
       "──────────────────────────────────────────\n",
       "                    2                     "
      ]
     },
     "execution_count": 41,
     "metadata": {},
     "output_type": "execute_result"
    }
   ],
   "source": [
    "Iwaist = Ewaist**2*epsilon0*c/2\n",
    "Iwaist"
   ]
  },
  {
   "cell_type": "code",
   "execution_count": 42,
   "metadata": {
    "collapsed": false
   },
   "outputs": [
    {
     "data": {
      "image/png": "[encoded data removed]",
      "text/latex": [
       "$$\\frac{\\pi c}{2} E_{0}^{2} \\epsilon_{0} \\sigma_{1} w^{2} \\Gamma{\\left(1 + \\frac{1}{2 m} \\right)}$$"
      ],
      "text/plain": [
       "    2          2  ⎛     1 ⎞\n",
       "π⋅E₀ ⋅c⋅ε₀⋅σ₁⋅w ⋅Γ⎜1 + ───⎟\n",
       "                  ⎝    2⋅m⎠\n",
       "───────────────────────────\n",
       "             2             "
      ]
     },
     "execution_count": 42,
     "metadata": {},
     "output_type": "execute_result"
    }
   ],
   "source": [
    "Energy_pulse = integrate(integrate(integrate(Iwaist, (x, -oo, oo)), (y, -oo, oo)), (t, -oo, oo))\n",
    "Energy_pulse = simplify(Energy_pulse)\n",
    "Energy_pulse"
   ]
  },
  {
   "cell_type": "code",
   "execution_count": 43,
   "metadata": {
    "collapsed": false
   },
   "outputs": [
    {
     "data": {
      "image/png": "[encoded data removed]",
      "text/latex": [
       "$$\\left ( \\left \\{ E_{0} : \\frac{2 \\Omega_{0} \\hbar}{e r}\\right \\}, \\quad \\left \\{ \\Omega_{0} : \\frac{E_{0} e r}{2 \\hbar}\\right \\}\\right )$$"
      ],
      "text/plain": [
       "⎛⎧    2⋅Ω₀⋅h̅⎫  ⎧    E₀⋅e⋅r⎫⎞\n",
       "⎜⎨E₀: ───────⎬, ⎨Ω₀: ──────⎬⎟\n",
       "⎝⎩      e⋅r  ⎭  ⎩     2⋅h̅ ⎭⎠"
      ]
     },
     "execution_count": 43,
     "metadata": {},
     "output_type": "execute_result"
    }
   ],
   "source": [
    "ss_Rabi = {E0: 2*Omega0*hbar/r/e}\n",
    "ss_Rabi_inv = {Omega0: E0*r*e/hbar/2}\n",
    "ss_Rabi, ss_Rabi_inv"
   ]
  },
  {
   "cell_type": "code",
   "execution_count": 44,
   "metadata": {
    "collapsed": false
   },
   "outputs": [
    {
     "data": {
      "image/png": "[encoded data removed]",
      "text/latex": [
       "$$\\left ( E = \\frac{2 \\pi c \\epsilon_{0}}{e^{2} r^{2}} \\Omega_{0}^{2} \\hbar^{2} \\sigma_{1} w^{2} \\Gamma{\\left(1 + \\frac{1}{2 m} \\right)}, \\quad \\left \\{ \\Omega_{0} : \\frac{\\sqrt{2} \\sqrt{E} e r}{2 \\sqrt{\\pi} \\sqrt{c} \\sqrt{\\epsilon_{0}} \\hbar \\sqrt{\\sigma_{1}} w \\sqrt{\\Gamma{\\left(1 + \\frac{1}{2 m} \\right)}}}\\right \\}\\right )$$"
      ],
      "text/plain": [
       "⎛          2        2     2  ⎛     1 ⎞                                        \n",
       "⎜    2⋅π⋅Ω₀ ⋅c⋅ε₀⋅h̅ ⋅σ₁⋅w ⋅Γ⎜1 + ───⎟                                        \n",
       "⎜                            ⎝    2⋅m⎠  ⎧                     √2⋅√E⋅e⋅r       \n",
       "⎜E = ─────────────────────────────────, ⎪Ω₀: ─────────────────────────────────\n",
       "⎜                   2  2                ⎪                                   __\n",
       "⎜                  e ⋅r                 ⎨              ____      ____      ╱  \n",
       "⎜                                       ⎪    2⋅√π⋅√c⋅╲╱ ε₀ ⋅h̅⋅╲╱ σ₁ ⋅w⋅  ╱  Γ\n",
       "⎜                                       ⎪                               ╲╱    \n",
       "⎝                                       ⎩                                     \n",
       "\n",
       "           ⎞\n",
       "           ⎟\n",
       "          ⎫⎟\n",
       "──────────⎪⎟\n",
       "__________⎪⎟\n",
       "⎛     1 ⎞ ⎬⎟\n",
       "⎜1 + ───⎟ ⎪⎟\n",
       "⎝    2⋅m⎠ ⎪⎟\n",
       "          ⎭⎠"
      ]
     },
     "execution_count": 44,
     "metadata": {},
     "output_type": "execute_result"
    }
   ],
   "source": [
    "eq = Equality(E, Energy_pulse)\n",
    "eq = eq.subs(ss_Rabi)\n",
    "Omega0_sol = solve(eq, Omega0, dict=True)[0]\n",
    "eq, Omega0_sol"
   ]
  },
  {
   "cell_type": "code",
   "execution_count": 54,
   "metadata": {
    "collapsed": false
   },
   "outputs": [
    {
     "data": {
      "image/png": "[encoded data removed]",
      "text/latex": [
       "$$\\left \\{ \\sigma_{1} : \\frac{\\tau_{1}}{2 \\log^{\\frac{1}{2 m}}{\\left (2 \\right )}}\\right \\}$$"
      ],
      "text/plain": [
       "⎧               -1 ⎫\n",
       "⎪               ───⎪\n",
       "⎪               2⋅m⎪\n",
       "⎨    τ₁⋅(log(2))   ⎬\n",
       "⎪σ₁: ──────────────⎪\n",
       "⎪          2       ⎪\n",
       "⎩                  ⎭"
      ]
     },
     "execution_count": 54,
     "metadata": {},
     "output_type": "execute_result"
    }
   ],
   "source": [
    "ss_fwhm_inv"
   ]
  },
  {
   "cell_type": "code",
   "execution_count": 68,
   "metadata": {
    "collapsed": false
   },
   "outputs": [
    {
     "name": "stdout",
     "output_type": "stream",
     "text": [
      "sqrt(2)*sqrt(E)*e*r/(2*sqrt(pi)*sqrt(c)*sqrt(epsilon_0)*hbar*sqrt(sigma1)*w*sqrt(gamma(1 + 1/(2*m))))\n"
     ]
    }
   ],
   "source": [
    "print Omega0_sol[Omega0]"
   ]
  },
  {
   "cell_type": "code",
   "execution_count": null,
   "metadata": {
    "collapsed": true
   },
   "outputs": [],
   "source": []
  },
  {
   "cell_type": "markdown",
   "metadata": {},
   "source": [
    "The time and space dependence of the Rabi frequency then is."
   ]
  },
  {
   "cell_type": "code",
   "execution_count": 46,
   "metadata": {
    "collapsed": false
   },
   "outputs": [
    {
     "data": {
      "image/png": "[encoded data removed]",
      "text/latex": [
       "$$\\Omega_{0} e^{- \\frac{1}{2} \\left(\\frac{1}{\\sigma_{1}} \\left(t - t_{0} - \\frac{z}{c}\\right)\\right)^{2 m}}$$"
      ],
      "text/plain": [
       "                 2⋅m \n",
       "     ⎛         z⎞    \n",
       "     ⎜t - t₀ - ─⎟    \n",
       "     ⎜         c⎟    \n",
       "    -⎜──────────⎟    \n",
       "     ⎝    σ₁    ⎠    \n",
       "    ─────────────────\n",
       "            2        \n",
       "Ω₀⋅ℯ                 "
      ]
     },
     "execution_count": 46,
     "metadata": {},
     "output_type": "execute_result"
    }
   ],
   "source": [
    "Omegatz = fft.subs(f0, Omega0).subs(t, t-z/c)\n",
    "Omegatz"
   ]
  },
  {
   "cell_type": "markdown",
   "metadata": {},
   "source": [
    "Let's check that the field corresponding to this Rabi frequency has the desired energy."
   ]
  },
  {
   "cell_type": "code",
   "execution_count": 51,
   "metadata": {
    "collapsed": false
   },
   "outputs": [
    {
     "data": {
      "image/png": "[encoded data removed]",
      "text/latex": [
       "$$E$$"
      ],
      "text/plain": [
       "E"
      ]
     },
     "execution_count": 51,
     "metadata": {},
     "output_type": "execute_result"
    }
   ],
   "source": [
    "Iact = Electric_field.limit(z, 0).subs(ss_Rabi).subs(Omega0, Omegatz).subs(Omega0_sol)**2*epsilon0*c/2\n",
    "simplify(integrate(integrate(integrate(Iact, (x, -oo, oo)), (y, -oo, oo)), (t, -oo, oo)))"
   ]
  },
  {
   "cell_type": "markdown",
   "metadata": {},
   "source": [
    "The default values for bandwiths will be picked so that they correspond to 300 ps."
   ]
  },
  {
   "cell_type": "code",
   "execution_count": 49,
   "metadata": {
    "collapsed": false
   },
   "outputs": [
    {
     "name": "stdout",
     "output_type": "stream",
     "text": [
      "1.47090400101768\n"
     ]
    }
   ],
   "source": [
    "print tbp01.n()/300e-12*1e-9"
   ]
  },
  {
   "cell_type": "code",
   "execution_count": 50,
   "metadata": {
    "collapsed": false
   },
   "outputs": [
    {
     "data": {
      "image/png": "[encoded data removed]",
      "text/latex": [
       "$$0.441271200305303$$"
      ],
      "text/plain": [
       "0.441271200305303"
      ]
     },
     "execution_count": 50,
     "metadata": {},
     "output_type": "execute_result"
    }
   ],
   "source": [
    "tbp01.n()"
   ]
  },
  {
   "cell_type": "code",
   "execution_count": 72,
   "metadata": {
    "collapsed": false
   },
   "outputs": [
    {
     "data": {
      "image/png": "[encoded data removed]",
      "text/latex": [
       "$$\\frac{\\tau_{1}}{2}$$"
      ],
      "text/plain": [
       "τ₁\n",
       "──\n",
       "2 "
      ]
     },
     "execution_count": 72,
     "metadata": {},
     "output_type": "execute_result"
    }
   ],
   "source": [
    "ss_fwhm_inv[sigma1].limit(m, oo)"
   ]
  },
  {
   "cell_type": "code",
   "execution_count": null,
   "metadata": {
    "collapsed": true
   },
   "outputs": [],
   "source": []
  }
 ],
 "metadata": {
  "kernelspec": {
   "display_name": "Python 2",
   "language": "python",
   "name": "python2"
  },
  "language_info": {
   "codemirror_mode": {
    "name": "ipython",
    "version": 2
   },
   "file_extension": ".py",
   "mimetype": "text/x-python",
   "name": "python",
   "nbconvert_exporter": "python",
   "pygments_lexer": "ipython2",
   "version": "2.7.13"
  }
 },
 "nbformat": 4,
 "nbformat_minor": 2
}
