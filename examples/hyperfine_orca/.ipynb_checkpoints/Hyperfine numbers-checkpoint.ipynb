{
 "cells": [
  {
   "cell_type": "markdown",
   "metadata": {},
   "source": [
    "# Reduced matrix elements"
   ]
  },
  {
   "cell_type": "code",
   "execution_count": 1,
   "metadata": {
    "collapsed": true
   },
   "outputs": [],
   "source": [
    "from fast import *\n",
    "from sympy import sqrt\n",
    "from sympy.physics.wigner import wigner_6j\n",
    "init_printing()"
   ]
  },
  {
   "cell_type": "code",
   "execution_count": 2,
   "metadata": {
    "collapsed": false
   },
   "outputs": [],
   "source": [
    "atoms = [[\"Rb\", 85, 5], [\"Rb\", 87, 5], [\"Cs\", 133, 6]]\n",
    "atom = atoms[2]"
   ]
  },
  {
   "cell_type": "code",
   "execution_count": 3,
   "metadata": {
    "collapsed": false
   },
   "outputs": [],
   "source": [
    "e1 = State(atom[0], atom[1], atom[2], 0, 1/Integer(2))\n",
    "e2 = State(atom[0], atom[1], atom[2], 1, 3/Integer(2))\n",
    "e3 = State(atom[0], atom[1], atom[2], 2, 5/Integer(2))\n",
    "fine_states = [e1, e2, e3]\n",
    "hyperfine_states = make_list_of_states(fine_states, \"hyperfine\", verbose=0)\n",
    "Ne = len(hyperfine_states)"
   ]
  },
  {
   "cell_type": "markdown",
   "metadata": {},
   "source": [
    "We calculate the fine reduced matrix elements using FAST"
   ]
  },
  {
   "cell_type": "code",
   "execution_count": 4,
   "metadata": {
    "collapsed": false
   },
   "outputs": [
    {
     "data": {
      "image/png": "[encoded data removed]",
      "text/latex": [
       "$$\\left[\\begin{matrix}0.0 & -8.96692079111419 & 0\\\\8.96692079111419 & 0.0 & -6.13\\\\0 & 6.13 & 0.0\\end{matrix}\\right]$$"
      ],
      "text/plain": [
       "⎡      0.0         -8.96692079111419    0  ⎤\n",
       "⎢                                          ⎥\n",
       "⎢8.96692079111419         0.0         -6.13⎥\n",
       "⎢                                          ⎥\n",
       "⎣       0                6.13          0.0 ⎦"
      ]
     },
     "execution_count": 4,
     "metadata": {},
     "output_type": "execute_result"
    }
   ],
   "source": [
    "from scipy.constants import physical_constants\n",
    "from math import pi\n",
    "a0 = physical_constants[\"Bohr radius\"][0]\n",
    "\n",
    "# In meters.\n",
    "r = Matrix(calculate_reduced_matrix_elements(fine_states))#*a0\n",
    "r"
   ]
  },
  {
   "cell_type": "code",
   "execution_count": 5,
   "metadata": {
    "collapsed": false
   },
   "outputs": [
    {
     "data": {
      "image/png": "[encoded data removed]",
      "text/latex": [
       "$$\\left[\\begin{matrix}0.0 & -8.96692079111419 & 0\\\\8.96692079111419 & 0.0 & -6.13\\\\0 & 6.13 & 0.0\\end{matrix}\\right]$$"
      ],
      "text/plain": [
       "⎡      0.0         -8.96692079111419    0  ⎤\n",
       "⎢                                          ⎥\n",
       "⎢8.96692079111419         0.0         -6.13⎥\n",
       "⎢                                          ⎥\n",
       "⎣       0                6.13          0.0 ⎦"
      ]
     },
     "execution_count": 5,
     "metadata": {},
     "output_type": "execute_result"
    }
   ],
   "source": [
    "from scipy.constants import physical_constants\n",
    "from math import pi\n",
    "a0 = physical_constants[\"Bohr radius\"][0]\n",
    "\n",
    "# In meters.\n",
    "r = Matrix(calculate_reduced_matrix_elements(fine_states))#*a0\n",
    "r"
   ]
  },
  {
   "cell_type": "markdown",
   "metadata": {},
   "source": [
    "The previous model using only fine states shows effective couplings\n",
    "\n",
    "r1: 1.14989940728 Bohr radii\n",
    "\n",
    "r2: 2.10757914438 Bohr radii"
   ]
  },
  {
   "cell_type": "code",
   "execution_count": 6,
   "metadata": {
    "collapsed": false
   },
   "outputs": [
    {
     "data": {
      "image/png": "[encoded data removed]",
      "text/latex": [
       "$$1.74329344454$$"
      ],
      "text/plain": [
       "1.74329344454"
      ]
     },
     "execution_count": 6,
     "metadata": {},
     "output_type": "execute_result"
    }
   ],
   "source": [
    "Transition(e3, e2).einsteinA/2/pi*1e-6"
   ]
  },
  {
   "cell_type": "code",
   "execution_count": 7,
   "metadata": {
    "collapsed": false
   },
   "outputs": [
    {
     "name": "stdout",
     "output_type": "stream",
     "text": [
      "2.6149401689\n"
     ]
    }
   ],
   "source": [
    "from scipy.constants import e, hbar, c, epsilon_0\n",
    "from scipy.constants import physical_constants\n",
    "from math import pi\n",
    "\n",
    "a0 = physical_constants[\"Bohr radius\"][0]\n",
    "r32 = 6.13*a0\n",
    "omega32 = Transition(e3,e2).omega\n",
    "gamma32 = omega32**3 * e**2 * r32**2 / (3*pi*hbar*c**3*epsilon_0 * (2*5.0/2.0+1))\n",
    "print gamma32/2/pi*1e-6"
   ]
  },
  {
   "cell_type": "code",
   "execution_count": null,
   "metadata": {
    "collapsed": true
   },
   "outputs": [],
   "source": [
    "r32_ = (3*pi*hbar*c**3*epsilon_0 )*(2*5.0/2.0+1)*gamma32"
   ]
  },
  {
   "cell_type": "code",
   "execution_count": 7,
   "metadata": {
    "collapsed": false
   },
   "outputs": [
    {
     "data": {
      "image/png": "[encoded data removed]",
      "text/latex": [
       "$$2368000.0$$"
      ],
      "text/plain": [
       "2368000.0"
      ]
     },
     "execution_count": 7,
     "metadata": {},
     "output_type": "execute_result"
    }
   ],
   "source": [
    "3.2e6*0.74"
   ]
  },
  {
   "cell_type": "code",
   "execution_count": 8,
   "metadata": {
    "collapsed": false
   },
   "outputs": [
    {
     "name": "stdout",
     "output_type": "stream",
     "text": [
      "14878582.8074\n"
     ]
    }
   ],
   "source": [
    "gam = 2*pi*3.2e6\n",
    "# If the branching ratios between\n",
    "# 6D_5/2 -> 6P_3/2 and 6D_5/2 -> 7P_3/2\n",
    "# are 0.74 and 0.26 as they are for\n",
    "# 5D_5/2 -> 5P_3/2 and 5D_5/2 -> 6P_3/2 in rubidium, then\n",
    "gam1 = gam*0.74\n",
    "print gam1"
   ]
  },
  {
   "cell_type": "markdown",
   "metadata": {},
   "source": [
    "Now, let us asume that we have the reduced matrix elements $r_1 = \\langle N, 1, 3/2|| T^1(\\vec{r}) || N, 0, 1/2 \\rangle$ and $r_2 = \\langle N, 2, 5/2|| T^1(\\vec{r}) || N, 1, 3/2 \\rangle$. We can relate these numbers with the hyperfine reduced matrix elements via\n",
    "\n",
    "\\begin{equation}\n",
    "    \\langle N_i, L_i, J_i, F_i|| T^1(\\vec{r}) || N_j, L_j, J_j, F_j \\rangle = (-1)^{J_i+I+F_j+1} \\sqrt{(2F_i+1)(2F_j+1)}\\mathrm{Wigner6j}(J_i, F_i, I, F_j, J_j, 1)\\langle N_i, L_i, J_i|| T^1(\\vec{r}) || N_j, L_j, J_j \\rangle\n",
    "\\end{equation}"
   ]
  },
  {
   "cell_type": "code",
   "execution_count": 9,
   "metadata": {
    "collapsed": true
   },
   "outputs": [],
   "source": [
    "r1, r2 = symbols(\"r1 r2\", real=True)\n",
    "N = atom[2]\n",
    "def fine_reduced_matrix_element(Ni, Li, Ji, Nj, Lj, Jj):\n",
    "    if (Ni, Li, Ji, Nj, Lj, Jj) == (N, 1, 3/Integer(2), N, 0, 1/Integer(2)):\n",
    "        return r1\n",
    "    if (Ni, Li, Ji, Nj, Lj, Jj) == (N, 0, 1/Integer(2), N, 1, 3/Integer(2)):\n",
    "        return r1*(-1)**(Jj-Ji)\n",
    "    \n",
    "    if (Ni, Li, Ji, Nj, Lj, Jj) == (N, 2, 5/Integer(2), N, 1, 3/Integer(2)):\n",
    "        return r2\n",
    "    if (Ni, Li, Ji, Nj, Lj, Jj) == (N, 1, 3/Integer(2), N, 2, 5/Integer(2)):\n",
    "        return r2*(-1)**(Jj-Ji)\n",
    "\n",
    "    return 0\n",
    "    "
   ]
  },
  {
   "cell_type": "code",
   "execution_count": 10,
   "metadata": {
    "collapsed": false
   },
   "outputs": [
    {
     "data": {
      "image/png": "[encoded data removed]",
      "text/latex": [
       "$$\\left[\\begin{array}{cccccccccccc}0 & 0 & - \\frac{\\sqrt{5} r_{1}}{2} & - \\frac{\\sqrt{21} r_{1}}{4} & - \\frac{\\sqrt{15} r_{1}}{4} & 0 & 0 & 0 & 0 & 0 & 0 & 0\\\\0 & 0 & 0 & - \\frac{\\sqrt{7} r_{1}}{4} & - \\frac{\\sqrt{21} r_{1}}{4} & - \\frac{\\sqrt{11} r_{1}}{2} & 0 & 0 & 0 & 0 & 0 & 0\\\\\\frac{\\sqrt{5} r_{1}}{2} & 0 & 0 & 0 & 0 & 0 & 0 & 0 & 0 & - \\frac{r_{2}}{2} & - \\frac{\\sqrt{2} r_{2}}{2} & - \\frac{\\sqrt{2} r_{2}}{2}\\\\- \\frac{\\sqrt{21} r_{1}}{4} & \\frac{\\sqrt{7} r_{1}}{4} & 0 & 0 & 0 & 0 & 0 & 0 & - \\frac{\\sqrt{11} r_{2}}{4} & - \\frac{\\sqrt{105} r_{2}}{12} & - \\frac{\\sqrt{3} r_{2}}{3} & 0\\\\\\frac{\\sqrt{15} r_{1}}{4} & - \\frac{\\sqrt{21} r_{1}}{4} & 0 & 0 & 0 & 0 & 0 & - \\frac{\\sqrt{33} r_{2}}{5} & - \\frac{3 r_{2}}{20} \\sqrt{33} & - \\frac{\\sqrt{3} r_{2}}{4} & 0 & 0\\\\0 & \\frac{\\sqrt{11} r_{1}}{2} & 0 & 0 & 0 & 0 & - \\frac{\\sqrt{78} r_{2}}{6} & - \\frac{\\sqrt{462} r_{2}}{30} & - \\frac{\\sqrt{7} r_{2}}{10} & 0 & 0 & 0\\\\0 & 0 & 0 & 0 & 0 & \\frac{\\sqrt{78} r_{2}}{6} & 0 & 0 & 0 & 0 & 0 & 0\\\\0 & 0 & 0 & 0 & \\frac{\\sqrt{33} r_{2}}{5} & - \\frac{\\sqrt{462} r_{2}}{30} & 0 & 0 & 0 & 0 & 0 & 0\\\\0 & 0 & 0 & \\frac{\\sqrt{11} r_{2}}{4} & - \\frac{3 r_{2}}{20} \\sqrt{33} & \\frac{\\sqrt{7} r_{2}}{10} & 0 & 0 & 0 & 0 & 0 & 0\\\\0 & 0 & \\frac{r_{2}}{2} & - \\frac{\\sqrt{105} r_{2}}{12} & \\frac{\\sqrt{3} r_{2}}{4} & 0 & 0 & 0 & 0 & 0 & 0 & 0\\\\0 & 0 & - \\frac{\\sqrt{2} r_{2}}{2} & \\frac{\\sqrt{3} r_{2}}{3} & 0 & 0 & 0 & 0 & 0 & 0 & 0 & 0\\\\0 & 0 & \\frac{\\sqrt{2} r_{2}}{2} & 0 & 0 & 0 & 0 & 0 & 0 & 0 & 0 & 0\\end{array}\\right]$$"
      ],
      "text/plain": [
       "⎡                    -√5⋅r₁   -√21⋅r₁     -√15⋅r₁                             \n",
       "⎢   0         0      ───────  ────────    ────────       0         0          \n",
       "⎢                       2        4           4                                \n",
       "⎢                                                                             \n",
       "⎢                              -√7⋅r₁     -√21⋅r₁    -√11⋅r₁                  \n",
       "⎢   0         0         0      ───────    ────────   ────────      0          \n",
       "⎢                                 4          4          2                     \n",
       "⎢                                                                             \n",
       "⎢ √5⋅r₁                                                                       \n",
       "⎢ ─────       0         0         0          0           0         0          \n",
       "⎢   2                                                                         \n",
       "⎢                                                                             \n",
       "⎢-√21⋅r₁    √7⋅r₁                                                             \n",
       "⎢────────   ─────       0         0          0           0         0          \n",
       "⎢   4         4                                                               \n",
       "⎢                                                                             \n",
       "⎢ √15⋅r₁   -√21⋅r₁                                                        -√33\n",
       "⎢ ──────   ────────     0         0          0           0         0      ────\n",
       "⎢   4         4                                                              5\n",
       "⎢                                                                             \n",
       "⎢           √11⋅r₁                                              -√78⋅r₂   -√46\n",
       "⎢   0       ──────      0         0          0           0      ────────  ────\n",
       "⎢             2                                                    6          \n",
       "⎢                                                                             \n",
       "⎢                                                     √78⋅r₂                  \n",
       "⎢   0         0         0         0          0        ──────       0          \n",
       "⎢                                                       6                     \n",
       "⎢                                                                             \n",
       "⎢                                          √33⋅r₂    -√462⋅r₂                 \n",
       "⎢   0         0         0         0        ──────    ─────────     0          \n",
       "⎢                                            5           30                   \n",
       "⎢                                                                             \n",
       "⎢                              √11⋅r₂    -3⋅√33⋅r₂     √7⋅r₂                  \n",
       "⎢   0         0         0      ──────    ──────────    ─────       0          \n",
       "⎢                                4           20          10                   \n",
       "⎢                                                                             \n",
       "⎢                      r₂     -√105⋅r₂     √3⋅r₂                              \n",
       "⎢   0         0        ──     ─────────    ─────         0         0          \n",
       "⎢                      2          12         4                                \n",
       "⎢                                                                             \n",
       "⎢                    -√2⋅r₂     √3⋅r₂                                         \n",
       "⎢   0         0      ───────    ─────        0           0         0          \n",
       "⎢                       2         3                                           \n",
       "⎢                                                                             \n",
       "⎢                     √2⋅r₂                                                   \n",
       "⎢   0         0       ─────       0          0           0         0          \n",
       "⎣                       2                                                     \n",
       "\n",
       "                                              ⎤\n",
       "0          0           0         0        0   ⎥\n",
       "                                              ⎥\n",
       "                                              ⎥\n",
       "                                              ⎥\n",
       "0          0           0         0        0   ⎥\n",
       "                                              ⎥\n",
       "                                              ⎥\n",
       "                     -r₂      -√2⋅r₂   -√2⋅r₂ ⎥\n",
       "0          0         ────     ───────  ───────⎥\n",
       "                      2          2        2   ⎥\n",
       "                                              ⎥\n",
       "        -√11⋅r₂    -√105⋅r₂   -√3⋅r₂          ⎥\n",
       "0       ────────   ─────────  ───────     0   ⎥\n",
       "           4           12        3            ⎥\n",
       "                                              ⎥\n",
       "⋅r₂    -3⋅√33⋅r₂    -√3⋅r₂                    ⎥\n",
       "────   ──────────   ───────      0        0   ⎥\n",
       "           20          4                      ⎥\n",
       "                                              ⎥\n",
       "2⋅r₂    -√7⋅r₂                                ⎥\n",
       "─────   ───────        0         0        0   ⎥\n",
       "30         10                                 ⎥\n",
       "                                              ⎥\n",
       "                                              ⎥\n",
       "0          0           0         0        0   ⎥\n",
       "                                              ⎥\n",
       "                                              ⎥\n",
       "                                              ⎥\n",
       "0          0           0         0        0   ⎥\n",
       "                                              ⎥\n",
       "                                              ⎥\n",
       "                                              ⎥\n",
       "0          0           0         0        0   ⎥\n",
       "                                              ⎥\n",
       "                                              ⎥\n",
       "                                              ⎥\n",
       "0          0           0         0        0   ⎥\n",
       "                                              ⎥\n",
       "                                              ⎥\n",
       "                                              ⎥\n",
       "0          0           0         0        0   ⎥\n",
       "                                              ⎥\n",
       "                                              ⎥\n",
       "                                              ⎥\n",
       "0          0           0         0        0   ⎥\n",
       "                                              ⎦"
      ]
     },
     "execution_count": 10,
     "metadata": {},
     "output_type": "execute_result"
    }
   ],
   "source": [
    "hyperfine_reduced = [[0 for j in range(Ne)] for i in range(Ne)]\n",
    "II = hyperfine_states[0].i\n",
    "for i, ei in enumerate(hyperfine_states):\n",
    "    iso, Ni, Li, Ji, Fi = ei.quantum_numbers\n",
    "    for j, ej in enumerate(hyperfine_states):\n",
    "        iso, Nj, Lj, Jj, Fj = ej.quantum_numbers\n",
    "        red = fine_reduced_matrix_element(Ni, Li, Ji, Nj, Lj, Jj)\n",
    "        red *= (-1)**(Ji+II+Fj+1)*sqrt((2*Fi+1)*(2*Fj+1))\n",
    "        #print Ji, Fi, II, Fj, Fj, 1\n",
    "        # red *= wigner_6j(Ji, Fi, II, Fj, Fj, 1)\n",
    "        red *= wigner_6j(Ji, Jj, 1, Fj, Fi, II)\n",
    "        # red *= wigner_6j(Ji, Fi, II,\n",
    "        #                  Fj, Fj, 1 )\n",
    "        # ref *= wigner_6j(Ji, Jj, 1,\n",
    "        #                  Jj, Fi, II)\n",
    "        hyperfine_reduced[i][j] = red\n",
    "        \n",
    "hyperfine_reduced = Matrix(hyperfine_reduced)\n",
    "hyperfine_reduced"
   ]
  },
  {
   "cell_type": "code",
   "execution_count": 11,
   "metadata": {
    "collapsed": false
   },
   "outputs": [
    {
     "data": {
      "image/png": "[encoded data removed]",
      "text/latex": [
       "$$\\left[\\begin{array}{cccccccccccc}0 & 0 & -1.11803398874989 & -1.14564392373896 & -0.968245836551854 & 0 & 0 & 0 & 0 & 0 & 0 & 0\\\\0 & 0 & 0 & -0.661437827766148 & -1.14564392373896 & -1.6583123951777 & 0 & 0 & 0 & 0 & 0 & 0\\\\1.11803398874989 & 0 & 0 & 0 & 0 & 0 & 0 & 0 & 0 & -0.5 & -0.707106781186548 & -0.707106781186548\\\\-1.14564392373896 & 0.661437827766148 & 0 & 0 & 0 & 0 & 0 & 0 & -0.82915619758885 & -0.853912563829966 & -0.577350269189626 & 0\\\\0.968245836551854 & -1.14564392373896 & 0 & 0 & 0 & 0 & 0 & -1.14891252930761 & -0.861684396980704 & -0.433012701892219 & 0 & 0\\\\0 & 1.6583123951777 & 0 & 0 & 0 & 0 & -1.47196014438797 & -0.716472842006823 & -0.264575131106459 & 0 & 0 & 0\\\\0 & 0 & 0 & 0 & 0 & 1.47196014438797 & 0 & 0 & 0 & 0 & 0 & 0\\\\0 & 0 & 0 & 0 & 1.14891252930761 & -0.716472842006823 & 0 & 0 & 0 & 0 & 0 & 0\\\\0 & 0 & 0 & 0.82915619758885 & -0.861684396980704 & 0.264575131106459 & 0 & 0 & 0 & 0 & 0 & 0\\\\0 & 0 & 0.5 & -0.853912563829966 & 0.433012701892219 & 0 & 0 & 0 & 0 & 0 & 0 & 0\\\\0 & 0 & -0.707106781186548 & 0.577350269189626 & 0 & 0 & 0 & 0 & 0 & 0 & 0 & 0\\\\0 & 0 & 0.707106781186548 & 0 & 0 & 0 & 0 & 0 & 0 & 0 & 0 & 0\\end{array}\\right]$$"
      ],
      "text/plain": [
       "⎡        0                  0          -1.11803398874989   -1.14564392373896  \n",
       "⎢                                                                             \n",
       "⎢        0                  0                  0           -0.661437827766148 \n",
       "⎢                                                                             \n",
       "⎢1.11803398874989           0                  0                   0          \n",
       "⎢                                                                             \n",
       "⎢-1.14564392373896  0.661437827766148          0                   0          \n",
       "⎢                                                                             \n",
       "⎢0.968245836551854  -1.14564392373896          0                   0          \n",
       "⎢                                                                             \n",
       "⎢        0           1.6583123951777           0                   0          \n",
       "⎢                                                                             \n",
       "⎢        0                  0                  0                   0          \n",
       "⎢                                                                             \n",
       "⎢        0                  0                  0                   0          \n",
       "⎢                                                                             \n",
       "⎢        0                  0                  0            0.82915619758885  \n",
       "⎢                                                                             \n",
       "⎢        0                  0                 0.5          -0.853912563829966 \n",
       "⎢                                                                             \n",
       "⎢        0                  0          -0.707106781186548  0.577350269189626  \n",
       "⎢                                                                             \n",
       "⎣        0                  0          0.707106781186548           0          \n",
       "\n",
       " -0.968245836551854          0                   0                  0         \n",
       "                                                                              \n",
       " -1.14564392373896    -1.6583123951777           0                  0         \n",
       "                                                                              \n",
       "         0                   0                   0                  0         \n",
       "                                                                              \n",
       "         0                   0                   0                  0         \n",
       "                                                                              \n",
       "         0                   0                   0          -1.14891252930761 \n",
       "                                                                              \n",
       "         0                   0           -1.47196014438797  -0.716472842006823\n",
       "                                                                              \n",
       "         0            1.47196014438797           0                  0         \n",
       "                                                                              \n",
       "  1.14891252930761   -0.716472842006823          0                  0         \n",
       "                                                                              \n",
       " -0.861684396980704  0.264575131106459           0                  0         \n",
       "                                                                              \n",
       " 0.433012701892219           0                   0                  0         \n",
       "                                                                              \n",
       "         0                   0                   0                  0         \n",
       "                                                                              \n",
       "         0                   0                   0                  0         \n",
       "\n",
       "          0                   0                   0                   0       \n",
       "                                                                              \n",
       "          0                   0                   0                   0       \n",
       "                                                                              \n",
       "          0                  -0.5         -0.707106781186548  -0.7071067811865\n",
       "                                                                              \n",
       "  -0.82915619758885   -0.853912563829966  -0.577350269189626          0       \n",
       "                                                                              \n",
       "  -0.861684396980704  -0.433012701892219          0                   0       \n",
       "                                                                              \n",
       "  -0.264575131106459          0                   0                   0       \n",
       "                                                                              \n",
       "          0                   0                   0                   0       \n",
       "                                                                              \n",
       "          0                   0                   0                   0       \n",
       "                                                                              \n",
       "          0                   0                   0                   0       \n",
       "                                                                              \n",
       "          0                   0                   0                   0       \n",
       "                                                                              \n",
       "          0                   0                   0                   0       \n",
       "                                                                              \n",
       "          0                   0                   0                   0       \n",
       "\n",
       "  ⎤\n",
       "  ⎥\n",
       "  ⎥\n",
       "  ⎥\n",
       "48⎥\n",
       "  ⎥\n",
       "  ⎥\n",
       "  ⎥\n",
       "  ⎥\n",
       "  ⎥\n",
       "  ⎥\n",
       "  ⎥\n",
       "  ⎥\n",
       "  ⎥\n",
       "  ⎥\n",
       "  ⎥\n",
       "  ⎥\n",
       "  ⎥\n",
       "  ⎥\n",
       "  ⎥\n",
       "  ⎥\n",
       "  ⎥\n",
       "  ⎦"
      ]
     },
     "execution_count": 11,
     "metadata": {},
     "output_type": "execute_result"
    }
   ],
   "source": [
    "hyperfine_reduced.subs({r1: 1, r2: 1}).n()"
   ]
  },
  {
   "cell_type": "markdown",
   "metadata": {},
   "source": [
    "We get the code to calculate the hyperfine reduced matrix elements."
   ]
  },
  {
   "cell_type": "code",
   "execution_count": 12,
   "metadata": {
    "collapsed": false
   },
   "outputs": [
    {
     "name": "stdout",
     "output_type": "stream",
     "text": [
      "r_1_3_1 = 1.11803398874989*r1\n",
      "r_1_4_1 = -1.14564392373896*r1\n",
      "r_1_4_2 = 0.661437827766148*r1\n",
      "r_1_5_1 = 0.968245836551854*r1\n",
      "r_1_5_2 = -1.14564392373896*r1\n",
      "r_1_6_2 = 1.6583123951777*r1\n",
      "r_2_7_6 = 1.47196014438797*r2\n",
      "r_2_8_5 = 1.14891252930761*r2\n",
      "r_2_8_6 = -0.716472842006823*r2\n",
      "r_2_9_4 = 0.82915619758885*r2\n",
      "r_2_9_5 = -0.861684396980704*r2\n",
      "r_2_9_6 = 0.264575131106459*r2\n",
      "r_2_10_3 = 0.5*r2\n",
      "r_2_10_4 = -0.853912563829966*r2\n",
      "r_2_10_5 = 0.433012701892219*r2\n",
      "r_2_11_3 = -0.707106781186548*r2\n",
      "r_2_11_4 = 0.577350269189626*r2\n",
      "r_2_12_3 = 0.707106781186548*r2\n"
     ]
    }
   ],
   "source": [
    "for i in range(Ne):\n",
    "    for j in range(i):\n",
    "        if r1 in hyperfine_reduced[i, j].atoms():\n",
    "            s = \"r_1_\"+str(i+1)+\"_\"+str(j+1)+\" = \"\n",
    "            s += str(hyperfine_reduced[i, j].n())\n",
    "            print s\n",
    "        if r2 in hyperfine_reduced[i, j].atoms():\n",
    "            s = \"r_2_\"+str(i+1)+\"_\"+str(j+1)+\" = \"\n",
    "            s += str(hyperfine_reduced[i, j].n())\n",
    "            print s\n",
    "            "
   ]
  },
  {
   "cell_type": "markdown",
   "metadata": {},
   "source": [
    "# Decay frequencies\n",
    "Let us calculate explicitly what the hyperfine decay frequencies should be."
   ]
  },
  {
   "cell_type": "code",
   "execution_count": 13,
   "metadata": {
    "collapsed": false
   },
   "outputs": [
    {
     "name": "stdout",
     "output_type": "stream",
     "text": [
      "\n"
     ]
    }
   ],
   "source": [
    "magnetic_states = make_list_of_states(fine_states, \"magnetic\")\n",
    "gamma = calculate_gamma_matrix(magnetic_states)"
   ]
  },
  {
   "cell_type": "code",
   "execution_count": 14,
   "metadata": {
    "collapsed": false
   },
   "outputs": [],
   "source": [
    "fin_bound, hyp_bound = calculate_boundaries(fine_states, magnetic_states)"
   ]
  },
  {
   "cell_type": "code",
   "execution_count": 15,
   "metadata": {
    "collapsed": false
   },
   "outputs": [
    {
     "data": {
      "image/png": "[encoded data removed]",
      "text/latex": [
       "$$\\left [ \\left ( 0, \\quad 7\\right ), \\quad \\left ( 7, \\quad 16\\right ), \\quad \\left ( 16, \\quad 21\\right ), \\quad \\left ( 21, \\quad 28\\right ), \\quad \\left ( 28, \\quad 37\\right ), \\quad \\left ( 37, \\quad 48\\right ), \\quad \\left ( 48, \\quad 61\\right ), \\quad \\left ( 61, \\quad 72\\right ), \\quad \\left ( 72, \\quad 81\\right ), \\quad \\left ( 81, \\quad 88\\right ), \\quad \\left ( 88, \\quad 93\\right ), \\quad \\left ( 93, \\quad 96\\right )\\right ]$$"
      ],
      "text/plain": [
       "[(0, 7), (7, 16), (16, 21), (21, 28), (28, 37), (37, 48), (48, 61), (61, 72), \n",
       "(72, 81), (81, 88), (88, 93), (93, 96)]"
      ]
     },
     "execution_count": 15,
     "metadata": {},
     "output_type": "execute_result"
    }
   ],
   "source": [
    "hyp_bound"
   ]
  },
  {
   "cell_type": "code",
   "execution_count": 16,
   "metadata": {
    "collapsed": false
   },
   "outputs": [
    {
     "name": "stdout",
     "output_type": "stream",
     "text": [
      "gamma_3_1 =  32886191.8978\n",
      "gamma_3_2 =  0.0\n",
      "gamma_4_1 =  24664643.9233\n",
      "gamma_4_2 =  8221547.97444\n",
      "gamma_5_1 =  13702579.9574\n",
      "gamma_5_2 =  19183611.9404\n",
      "gamma_6_1 =  0.0\n",
      "gamma_6_2 =  32886191.8978\n"
     ]
    }
   ],
   "source": [
    "for i in range(2, 6):\n",
    "    for j in range(0, 2):\n",
    "        s = \"gamma_\"+str(i+1)+\"_\"+str(j+1)+\" = \"\n",
    "        print s,\n",
    "        for ii in range(hyp_bound[i][0], hyp_bound[i][1]):\n",
    "            gammaij = sum([gamma[ii][jj] for jj in range(hyp_bound[j][0], hyp_bound[j][1])])\n",
    "        print gammaij\n"
   ]
  },
  {
   "cell_type": "code",
   "execution_count": 17,
   "metadata": {
    "collapsed": false
   },
   "outputs": [
    {
     "name": "stdout",
     "output_type": "stream",
     "text": [
      "gamma_7_3 =  0.0\n",
      "gamma_7_4 =  0.0\n",
      "gamma_7_5 =  0.0\n",
      "gamma_7_6 =  16430153.6484\n",
      "gamma_8_3 =  0.0\n",
      "gamma_8_4 =  0.0\n",
      "gamma_8_5 =  11829710.6268\n",
      "gamma_8_6 =  4600443.02155\n",
      "gamma_9_3 =  0.0\n",
      "gamma_9_4 =  7530487.08884\n",
      "gamma_9_5 =  8132926.05595\n",
      "gamma_9_6 =  766740.503591\n",
      "gamma_10_3 =  3520747.21037\n",
      "gamma_10_4 =  10268846.0302\n",
      "gamma_10_5 =  2640560.40778\n",
      "gamma_10_6 =  0.0\n",
      "gamma_11_3 =  9858092.18903\n",
      "gamma_11_4 =  6572061.45935\n",
      "gamma_11_5 =  0.0\n",
      "gamma_11_6 =  0.0\n",
      "gamma_12_3 =  16430153.6484\n",
      "gamma_12_4 =  0.0\n",
      "gamma_12_5 =  0.0\n",
      "gamma_12_6 =  0.0\n"
     ]
    }
   ],
   "source": [
    "for i in range(6, Ne):\n",
    "    for j in range(2, 6):\n",
    "        s = \"gamma_\"+str(i+1)+\"_\"+str(j+1)+\" = \"\n",
    "        print s,\n",
    "        for ii in range(hyp_bound[i][0], hyp_bound[i][1]):\n",
    "            gammaij = sum([gamma[ii][jj] for jj in range(hyp_bound[j][0], hyp_bound[j][1])])\n",
    "        print gammaij"
   ]
  },
  {
   "cell_type": "code",
   "execution_count": 18,
   "metadata": {
    "collapsed": true
   },
   "outputs": [],
   "source": [
    "gamma_3_1 =  32886191.8978\n",
    "gamma_3_2 =  0.0\n",
    "gamma_4_1 =  24664643.9233\n",
    "gamma_4_2 =  8221547.97444\n",
    "gamma_5_1 =  13702579.9574\n",
    "gamma_5_2 =  19183611.9404\n",
    "gamma_6_1 =  0.0\n",
    "gamma_6_2 =  32886191.8978\n",
    "\n",
    "gamma_7_3 =  0.0\n",
    "gamma_7_4 =  0.0\n",
    "gamma_7_5 =  0.0\n",
    "gamma_7_6 =  14878582.8074\n",
    "gamma_8_3 =  0.0\n",
    "gamma_8_4 =  0.0\n",
    "gamma_8_5 =  10712579.6213\n",
    "gamma_8_6 =  4166003.18607\n",
    "gamma_9_3 =  0.0\n",
    "gamma_9_4 =  6819350.45339\n",
    "gamma_9_5 =  7364898.48966\n",
    "gamma_9_6 =  694333.864345\n",
    "gamma_10_3 =  3188267.74444\n",
    "gamma_10_4 =  9299114.25463\n",
    "gamma_10_5 =  2391200.80833\n",
    "gamma_10_6 =  0.0\n",
    "gamma_11_3 =  8927149.68444\n",
    "gamma_11_4 =  5951433.12296\n",
    "gamma_11_5 =  0.0\n",
    "gamma_11_6 =  0.0\n",
    "gamma_12_3 =  14878582.8074\n",
    "gamma_12_4 =  0.0\n",
    "gamma_12_5 =  0.0\n",
    "gamma_12_6 =  0.0"
   ]
  },
  {
   "cell_type": "markdown",
   "metadata": {},
   "source": [
    "We prove that these amount to the total decay of the transitions as expected."
   ]
  },
  {
   "cell_type": "code",
   "execution_count": 19,
   "metadata": {
    "collapsed": false
   },
   "outputs": [
    {
     "name": "stdout",
     "output_type": "stream",
     "text": [
      "5.234\n",
      "5.23399999999\n",
      "5.234\n",
      "5.234\n"
     ]
    }
   ],
   "source": [
    "from math import pi\n",
    "print (gamma_3_1+gamma_3_2)/2/pi*1e-6\n",
    "print (gamma_4_1+gamma_4_2)/2/pi*1e-6\n",
    "print (gamma_5_1+gamma_5_2)/2/pi*1e-6\n",
    "print (gamma_6_1+gamma_6_2)/2/pi*1e-6"
   ]
  },
  {
   "cell_type": "code",
   "execution_count": 20,
   "metadata": {
    "collapsed": false
   },
   "outputs": [
    {
     "name": "stdout",
     "output_type": "stream",
     "text": [
      "2.368\n",
      "2.368\n",
      "2.368\n",
      "2.368\n",
      "2.368\n",
      "2.368\n"
     ]
    }
   ],
   "source": [
    "print (gamma_7_3 +gamma_7_4 +gamma_7_5 +gamma_7_6)/2/pi*1e-6\n",
    "print (gamma_8_3 +gamma_8_4 +gamma_8_5 +gamma_8_6)/2/pi*1e-6\n",
    "print (gamma_9_3 +gamma_9_4 +gamma_9_5 +gamma_9_6)/2/pi*1e-6\n",
    "print (gamma_10_3+gamma_10_4+gamma_10_5+gamma_10_6)/2/pi*1e-6\n",
    "print (gamma_11_3+gamma_11_4+gamma_11_5+gamma_11_6)/2/pi*1e-6\n",
    "print (gamma_12_3+gamma_12_4+gamma_12_5+gamma_12_6)/2/pi*1e-6"
   ]
  },
  {
   "cell_type": "markdown",
   "metadata": {},
   "source": [
    "We get the hyperfine frequencies."
   ]
  },
  {
   "cell_type": "code",
   "execution_count": 21,
   "metadata": {
    "collapsed": false
   },
   "outputs": [
    {
     "name": "stdout",
     "output_type": "stream",
     "text": [
      "omega_1 = 0.0\n",
      "omega_2 = 57759008871.6\n",
      "omega_3 = 2.20998822144e+15\n",
      "omega_4 = 2.20998917161e+15\n",
      "omega_5 = 2.20999043634e+15\n",
      "omega_6 = 2.20999201399e+15\n",
      "omega_7 = 4.26305337164e+15\n",
      "omega_8 = 4.26305354441e+15\n",
      "omega_9 = 4.26305369061e+15\n",
      "omega_10 = 4.26305380902e+15\n",
      "omega_11 = 4.26305389868e+15\n",
      "omega_12 = 4.26305395885e+15\n"
     ]
    }
   ],
   "source": [
    "for i in range(Ne):\n",
    "    print \"omega_\"+str(i+1)+\" =\",hyperfine_states[i].omega-hyperfine_states[0].omega"
   ]
  },
  {
   "cell_type": "code",
   "execution_count": 22,
   "metadata": {
    "collapsed": true
   },
   "outputs": [],
   "source": [
    "r_1_3_1 = 1.11803398874989*r1\n",
    "r_1_4_1 = -1.14564392373896*r1\n",
    "r_1_4_2 = 0.661437827766148*r1\n",
    "r_1_5_1 = 0.968245836551854*r1\n",
    "r_1_5_2 = -1.14564392373896*r1\n",
    "r_1_6_2 = 1.6583123951777*r1\n",
    "\n",
    "r_2_7_6 = 1.47196014438797*r2\n",
    "r_2_8_5 = 1.14891252930761*r2\n",
    "r_2_8_6 = -0.716472842006823*r2\n",
    "r_2_9_4 = 0.82915619758885*r2\n",
    "r_2_9_5 = -0.861684396980704*r2\n",
    "r_2_9_6 = 0.264575131106459*r2\n",
    "r_2_10_3 = 0.5*r2\n",
    "r_2_10_4 = -0.853912563829966*r2\n",
    "r_2_10_5 = 0.433012701892219*r2\n",
    "r_2_11_3 = -0.707106781186548*r2\n",
    "r_2_11_4 = 0.577350269189626*r2\n",
    "r_2_12_3 = 0.707106781186548*r2\n",
    "\n",
    "gamma_3_1 =  32886191.8978\n",
    "gamma_4_1 =  24664643.9233\n",
    "gamma_4_2 =  8221547.97444\n",
    "gamma_5_1 =  13702579.9574\n",
    "gamma_5_2 =  19183611.9404\n",
    "gamma_6_2 =  32886191.8978\n",
    "\n",
    "gamma_7_6 =  14878582.8074\n",
    "gamma_8_5 =  10712579.6213\n",
    "gamma_8_6 =  4166003.18607\n",
    "gamma_9_4 =  6819350.45339\n",
    "gamma_9_5 =  7364898.48966\n",
    "gamma_9_6 =  694333.864345\n",
    "gamma_10_3 =  3188267.74444\n",
    "gamma_10_4 =  9299114.25463\n",
    "gamma_10_5 =  2391200.80833\n",
    "gamma_11_3 =  8927149.68444\n",
    "gamma_11_4 =  5951433.12296\n",
    "gamma_12_3 =  14878582.8074"
   ]
  },
  {
   "cell_type": "code",
   "execution_count": null,
   "metadata": {
    "collapsed": true
   },
   "outputs": [],
   "source": []
  }
 ],
 "metadata": {
  "kernelspec": {
   "display_name": "Python 2",
   "language": "python",
   "name": "python2"
  },
  "language_info": {
   "codemirror_mode": {
    "name": "ipython",
    "version": 2
   },
   "file_extension": ".py",
   "mimetype": "text/x-python",
   "name": "python",
   "nbconvert_exporter": "python",
   "pygments_lexer": "ipython2",
   "version": "2.7.13"
  }
 },
 "nbformat": 4,
 "nbformat_minor": 2
}
