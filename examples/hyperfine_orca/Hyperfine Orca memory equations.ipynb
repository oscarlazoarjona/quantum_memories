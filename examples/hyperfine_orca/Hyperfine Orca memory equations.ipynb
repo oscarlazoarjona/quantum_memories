{
 "cells": [
  {
   "cell_type": "markdown",
   "metadata": {},
   "source": [
    "# Hyperfine Orca memory equations"
   ]
  },
  {
   "cell_type": "code",
   "execution_count": 1,
   "metadata": {
    "collapsed": false
   },
   "outputs": [],
   "source": [
    "from fast import *\n",
    "from fast.config import fast_path\n",
    "from matplotlib import pyplot\n",
    "from sympy import sin,cos,exp,sqrt,pi,zeros,I, Integral, oo\n",
    "from numpy import array\n",
    "%matplotlib inline\n",
    "init_printing()\n",
    "print_ascii=True; print_ascii=False"
   ]
  },
  {
   "cell_type": "code",
   "execution_count": 2,
   "metadata": {
    "collapsed": true
   },
   "outputs": [],
   "source": [
    "path=\"/home/oscar/oxford/inhomogeneous_broadening/complete_model/\" \n",
    "name='orca'"
   ]
  },
  {
   "cell_type": "markdown",
   "metadata": {},
   "source": [
    "We will be deriving the optical Bloch equations for a three level system in a ladder configuration as that in the figure.\n",
    "\n",
    "Let us check how many hyperfine states each atom has:"
   ]
  },
  {
   "cell_type": "code",
   "execution_count": 3,
   "metadata": {
    "collapsed": false
   },
   "outputs": [
    {
     "name": "stdout",
     "output_type": "stream",
     "text": [
      "85Rb has 12 hyperfine states, and 72 magnetic states.\n",
      "87Rb has 10 hyperfine states, and 48 magnetic states.\n",
      "133Cs has 12 hyperfine states, and 96 magnetic states.\n"
     ]
    }
   ],
   "source": [
    "atoms = [[\"Rb\", 85, 5], [\"Rb\", 87, 5], [\"Cs\", 133, 6]]\n",
    "for ii in atoms:\n",
    "    atom = Atom(ii[0], ii[1])\n",
    "    e1 = State(ii[0], ii[1], ii[2], 0, 1/Integer(2))\n",
    "    e2 = State(ii[0], ii[1], ii[2], 1, 3/Integer(2))\n",
    "    e3 = State(ii[0], ii[1], ii[2], 2, 5/Integer(2))\n",
    "    fine_states = [e1, e2, e3]\n",
    "    Nhyp = len(make_list_of_states(fine_states, \"hyperfine\", verbose=0))\n",
    "    Nmag = len(make_list_of_states(fine_states, \"magnetic\", verbose=0))\n",
    "    \n",
    "    print atom, \"has\", Nhyp, \"hyperfine states, and\",Nmag, \"magnetic states.\"\n",
    "\n",
    "ii = atoms[2]\n",
    "e1 = State(ii[0], ii[1], ii[2], 0, 1/Integer(2))\n",
    "e2 = State(ii[0], ii[1], ii[2], 1, 3/Integer(2))\n",
    "e3 = State(ii[0], ii[1], ii[2], 2, 5/Integer(2))\n",
    "fine_states = [e1, e2, e3]\n",
    "hyperfine_states = make_list_of_states(fine_states, \"hyperfine\", verbose=0)\n",
    "magnetic_states = make_list_of_states(fine_states, \"magnetic\", verbose=0)\n",
    "Nhyp = len(hyperfine_states)\n",
    "Nmag = len(magnetic_states)\n",
    "Ne = Nhyp"
   ]
  },
  {
   "cell_type": "code",
   "execution_count": 4,
   "metadata": {
    "collapsed": false
   },
   "outputs": [
    {
     "data": {
      "image/png": "[encoded data removed]",
      "text/plain": [
       "<matplotlib.figure.Figure at 0x7f66f57ee250>"
      ]
     },
     "metadata": {},
     "output_type": "display_data"
    }
   ],
   "source": [
    "fig=pyplot.figure(); ax=fig.add_subplot(111,aspect=\"equal\")\n",
    "\n",
    "p1=[0.5,1]; p2=[1.5,3]; p3=[2.5,5]\n",
    "draw_state(ax,p1,text=r\"$|1\\rangle$\",l=1.0,alignment='right',label_displacement=0.05,fontsize=25,linewidth=4.0)\n",
    "draw_state(ax,p2,text=r\"$|2\\rangle$\",l=1.0,alignment='right',label_displacement=0.05,fontsize=25,linewidth=4.0)\n",
    "draw_state(ax,p3,text=r\"$|3\\rangle$\",l=1.0,alignment='right',label_displacement=0.05,fontsize=25,linewidth=4.0)\n",
    "\n",
    "excitation(ax,[p1[0]+0.25,p1[1]],[p2[0]+0.25,p2[1]], fc=\"r\", ec=\"r\",width=0.01, head_width=0.2, head_length=0.2)\n",
    "excitation(ax,[p2[0]+0.25,p2[1]],[p3[0]+0.25,p3[1]], fc=\"b\", ec=\"b\",width=0.01, head_width=0.2, head_length=0.2)\n",
    "\n",
    "decay(     ax,[p1[0]-0.25,p1[1]],[p2[0]-0.25,p2[1]], 0.05,10.0,color=\"r\",linewidth=1.0)\n",
    "decay(     ax,[p2[0]-0.25,p2[1]],[p3[0]-0.25,p3[1]], 0.05,10.0,color=\"b\",linewidth=1.0)\n",
    "\n",
    "pyplot.axis('off')\n",
    "pyplot.savefig(path+name+'_diagram.png',bbox_inches=\"tight\")"
   ]
  },
  {
   "cell_type": "markdown",
   "metadata": {},
   "source": [
    "We define the number of states and of radiation fields."
   ]
  },
  {
   "cell_type": "code",
   "execution_count": 5,
   "metadata": {
    "collapsed": true
   },
   "outputs": [],
   "source": [
    "Nl=2"
   ]
  },
  {
   "cell_type": "markdown",
   "metadata": {},
   "source": [
    "We define a few important symbols."
   ]
  },
  {
   "cell_type": "code",
   "execution_count": 6,
   "metadata": {
    "collapsed": false
   },
   "outputs": [],
   "source": [
    "c,hbar,e,mu0, epsilon0=symbols(\"c hbar e mu0 varepsilon0\",positive=True)\n",
    "# fprint([c,hbar,e,mu0, epsilon0],print_ascii=print_ascii)"
   ]
  },
  {
   "cell_type": "code",
   "execution_count": 7,
   "metadata": {
    "collapsed": false
   },
   "outputs": [],
   "source": [
    "t,X,Y,Z,R,Phi=symbols(\"t X Y Z R Phi\",real=True)\n",
    "RR=Matrix([R*cos(Phi),R*sin(Phi),Z])\n",
    "#RR=Matrix([X,Y,Z])\n",
    "# fprint([t,RR],print_ascii=print_ascii)"
   ]
  },
  {
   "cell_type": "markdown",
   "metadata": {},
   "source": [
    "We define the variables related to the laser field."
   ]
  },
  {
   "cell_type": "code",
   "execution_count": 8,
   "metadata": {
    "collapsed": false
   },
   "outputs": [],
   "source": [
    "E0,omega_laser=define_laser_variables(Nl, variables=[t,Z])\n",
    "# fprint(E0,print_ascii=print_ascii)"
   ]
  },
  {
   "cell_type": "code",
   "execution_count": 9,
   "metadata": {
    "collapsed": false
   },
   "outputs": [],
   "source": [
    "# fprint(omega_laser,print_ascii=print_ascii)"
   ]
  },
  {
   "cell_type": "markdown",
   "metadata": {},
   "source": [
    "We write two electric fields propagating trough the $\\hat{x}$ direction polarized in the $\\hat{z}$ direction. First the wave vectors:"
   ]
  },
  {
   "cell_type": "code",
   "execution_count": 10,
   "metadata": {
    "collapsed": false
   },
   "outputs": [],
   "source": [
    "phi1=0 ; theta1=0; alpha1=pi/2; beta1=pi/8\n",
    "phi2=0; theta2=pi; alpha2=pi/2; beta2=pi/8\n",
    "\n",
    "k1=Matrix([cos(phi1)*sin(theta1),sin(phi1)*sin(theta1),cos(theta1)])\n",
    "k2=Matrix([cos(phi2)*sin(theta2),sin(phi2)*sin(theta2),cos(theta2)])\n",
    "\n",
    "k=[k1,k2]\n",
    "\n",
    "# fprint(k,print_ascii=print_ascii)"
   ]
  },
  {
   "cell_type": "markdown",
   "metadata": {},
   "source": [
    "The polarization vectors."
   ]
  },
  {
   "cell_type": "code",
   "execution_count": 11,
   "metadata": {
    "collapsed": false
   },
   "outputs": [],
   "source": [
    "ep1=polarization_vector(phi1,theta1,alpha1,beta1, 1)\n",
    "ep2=polarization_vector(phi2,theta2,alpha2,beta2, 1)\n",
    "\n",
    "em1=ep1.conjugate()\n",
    "em2=ep2.conjugate()\n",
    "\n",
    "ep=[ep1,ep2]\n",
    "em=[em1,em2]\n",
    "\n",
    "# fprint([ep,em],print_ascii=print_ascii)"
   ]
  },
  {
   "cell_type": "markdown",
   "metadata": {},
   "source": [
    "The electric field (evaluated in $\\vec{R}=0$)."
   ]
  },
  {
   "cell_type": "code",
   "execution_count": 12,
   "metadata": {
    "collapsed": false
   },
   "outputs": [],
   "source": [
    "zero_vect=Matrix([0,0,0])\n",
    "E_cartesian = [(+E0[l]            *ep[l]*exp(-I*omega_laser[l]*(t-k[l].dot(RR)/c)) \n",
    "                +E0[l].conjugate()*em[l]*exp(+I*omega_laser[l]*(t-k[l].dot(RR)/c)))/2 \n",
    "                    for l in range(Nl)]\n",
    "\n",
    "# fprint(E_cartesian,print_ascii=print_ascii)"
   ]
  },
  {
   "cell_type": "code",
   "execution_count": 13,
   "metadata": {
    "collapsed": false
   },
   "outputs": [
    {
     "data": {
      "image/png": "[encoded data removed]",
      "text/plain": [
       "<matplotlib.figure.Figure at 0x7f66f2419c10>"
      ]
     },
     "metadata": {},
     "output_type": "display_data"
    }
   ],
   "source": [
    "l1=PlaneWave(phi1,theta1,alpha1,beta1,color=\"red\")\n",
    "l2=PlaneWave(phi2,theta2,alpha2,beta2,color=\"blue\")\n",
    "\n",
    "laseres=[l1,l2]\n",
    "Nl=len(laseres)\n",
    "\n",
    "fig = pyplot.figure(); ax = fig.gca(projection='3d')\n",
    "draw_lasers_3d(ax,laseres,path+name+'_lasers.png')"
   ]
  },
  {
   "cell_type": "markdown",
   "metadata": {},
   "source": [
    "We write the electric fields in the helicity basis (see notebook \"Vectors in the helicity basis and the electric field\")."
   ]
  },
  {
   "cell_type": "code",
   "execution_count": 14,
   "metadata": {
    "collapsed": false
   },
   "outputs": [],
   "source": [
    "E=[cartesian_to_helicity(E_cartesian[l]).expand() for l in range(Nl)]\n",
    "# fprint(E,print_ascii=print_ascii)"
   ]
  },
  {
   "cell_type": "markdown",
   "metadata": {},
   "source": [
    "We define the position operator."
   ]
  },
  {
   "cell_type": "code",
   "execution_count": 15,
   "metadata": {
    "collapsed": true
   },
   "outputs": [],
   "source": [
    "r=define_r_components(Ne,helicity=True,explicitly_hermitian=True)\n",
    "for i, ei in enumerate(hyperfine_states):\n",
    "    for j, ej in enumerate(hyperfine_states):\n",
    "        if not Transition(ei, ej).allowed:\n",
    "            r=[ri.subs({r[0][i,j]:0,r[1][i,j]:0,r[2][i,j]:0}) for ri in r]"
   ]
  },
  {
   "cell_type": "markdown",
   "metadata": {},
   "source": [
    "The frequencies of the energy levels, the resonant frequencies, and the decay frequencies."
   ]
  },
  {
   "cell_type": "code",
   "execution_count": 16,
   "metadata": {
    "collapsed": false
   },
   "outputs": [],
   "source": [
    "omega_level,omega,gamma=define_frequencies(Ne,explicitly_antisymmetric=True)\n",
    "\n",
    "for i, ei in enumerate(hyperfine_states):\n",
    "    for j, ej in enumerate(hyperfine_states):\n",
    "        if not Transition(ei, ej).allowed:\n",
    "            gamma=gamma.subs({gamma[i,j]: 0})\n",
    "\n",
    "# fprint(omega_level,print_ascii=print_ascii)"
   ]
  },
  {
   "cell_type": "markdown",
   "metadata": {},
   "source": [
    "The atomic hamiltonian is"
   ]
  },
  {
   "cell_type": "code",
   "execution_count": 17,
   "metadata": {
    "collapsed": false
   },
   "outputs": [],
   "source": [
    "H0=Matrix([[hbar*omega_level[i]*KroneckerDelta(i,j) for j in range(Ne)] for i in range(Ne)])\n",
    "# fprint(H0, print_ascii=print_ascii)"
   ]
  },
  {
   "cell_type": "markdown",
   "metadata": {
    "collapsed": false
   },
   "source": [
    "The interaction hamiltonian is"
   ]
  },
  {
   "cell_type": "code",
   "execution_count": 18,
   "metadata": {
    "collapsed": false
   },
   "outputs": [],
   "source": [
    "zero_matrix=zeros(Ne,Ne)\n",
    "H1=sum([ e*helicity_dot_product(E[l],r) for l in range(Nl)],zero_matrix)\n",
    "# fprint(H1,print_ascii=print_ascii)"
   ]
  },
  {
   "cell_type": "markdown",
   "metadata": {},
   "source": [
    "and the complete hamiltonian is"
   ]
  },
  {
   "cell_type": "code",
   "execution_count": 19,
   "metadata": {
    "collapsed": false
   },
   "outputs": [],
   "source": [
    "H=H0+H1"
   ]
  },
  {
   "cell_type": "markdown",
   "metadata": {
    "collapsed": true
   },
   "source": [
    "# Rotating wave approximation\n",
    "Notice that the electric field can be separated by terms with positive and negative frequency:"
   ]
  },
  {
   "cell_type": "code",
   "execution_count": 20,
   "metadata": {
    "collapsed": false
   },
   "outputs": [],
   "source": [
    "E_cartesian_p=[E0[l]/2            *ep[l]*exp(-I*omega_laser[l]*(t-k[l].dot(RR)/c)) for l in range(Nl)]\n",
    "E_cartesian_m=[E0[l].conjugate()/2*em[l]*exp(I*omega_laser[l]*(t-k[l].dot(RR)/c)) for l in range(Nl)]\n",
    "\n",
    "E_p=[cartesian_to_helicity(E_cartesian_p[l]) for l in range(Nl)]\n",
    "E_m=[cartesian_to_helicity(E_cartesian_m[l]) for l in range(Nl)]\n",
    "\n",
    "# fprint([E_p,E_m], print_ascii=print_ascii)"
   ]
  },
  {
   "cell_type": "code",
   "execution_count": 21,
   "metadata": {
    "collapsed": false
   },
   "outputs": [],
   "source": [
    "# fprint( simplify(sum([E[l] for l in range(Nl)],zero_vect)-(sum([E_p[l]+E_m[l] for l in range(Nl)],zero_vect) )), print_ascii=print_ascii)"
   ]
  },
  {
   "cell_type": "markdown",
   "metadata": {},
   "source": [
    "The position operator can also be separated in this way. We go to the interaction picture (with $\\hat{H}_0$ as the undisturbed hamiltonian)"
   ]
  },
  {
   "cell_type": "code",
   "execution_count": 22,
   "metadata": {
    "collapsed": false
   },
   "outputs": [],
   "source": [
    "r_I=[ Matrix([[exp(I*omega[i,j]*t)*r[p][i,j] for j in range(Ne)] for i in range(Ne)]) for p in range(3)]\n",
    "# fprint(r_I[0], print_ascii=print_ascii)"
   ]
  },
  {
   "cell_type": "code",
   "execution_count": 23,
   "metadata": {
    "collapsed": false
   },
   "outputs": [],
   "source": [
    "# fprint(r_I[1], print_ascii=print_ascii)"
   ]
  },
  {
   "cell_type": "code",
   "execution_count": 24,
   "metadata": {
    "collapsed": false
   },
   "outputs": [],
   "source": [
    "# fprint(r_I[2], print_ascii=print_ascii)"
   ]
  },
  {
   "cell_type": "markdown",
   "metadata": {},
   "source": [
    "Which can be decomposed in positive and negative frequencies as"
   ]
  },
  {
   "cell_type": "code",
   "execution_count": 25,
   "metadata": {
    "collapsed": false
   },
   "outputs": [],
   "source": [
    "r_I_p=[ Matrix([[ delta_greater(j,i)*exp(-I*omega[j,i]*t)*r[p][i,j] for j in range(Ne)]for i in range(Ne)]) for p in range(3)]\n",
    "# fprint(r_I_p[0], print_ascii=print_ascii)"
   ]
  },
  {
   "cell_type": "code",
   "execution_count": 26,
   "metadata": {
    "collapsed": false
   },
   "outputs": [],
   "source": [
    "# fprint(r_I_p[1], print_ascii=print_ascii)"
   ]
  },
  {
   "cell_type": "code",
   "execution_count": 27,
   "metadata": {
    "collapsed": false
   },
   "outputs": [],
   "source": [
    "# fprint(r_I_p[2], print_ascii=print_ascii)"
   ]
  },
  {
   "cell_type": "code",
   "execution_count": 28,
   "metadata": {
    "collapsed": false
   },
   "outputs": [],
   "source": [
    "r_I_m=[ Matrix([[ delta_lesser( j,i)*exp( I*omega[i,j]*t)*r[p][i,j] for j in range(Ne)]for i in range(Ne)]) for p in range(3)]\n",
    "# fprint(r_I_m[0],print_ascii=print_ascii)"
   ]
  },
  {
   "cell_type": "code",
   "execution_count": 29,
   "metadata": {
    "collapsed": false
   },
   "outputs": [],
   "source": [
    "# fprint(r_I_m[1], print_ascii=print_ascii)"
   ]
  },
  {
   "cell_type": "code",
   "execution_count": 30,
   "metadata": {
    "collapsed": false
   },
   "outputs": [],
   "source": [
    "# fprint(r_I_m[2], print_ascii=print_ascii)"
   ]
  },
  {
   "cell_type": "markdown",
   "metadata": {},
   "source": [
    "that summed equal $\\vec{\\hat{r}}_I$"
   ]
  },
  {
   "cell_type": "code",
   "execution_count": 31,
   "metadata": {
    "collapsed": false
   },
   "outputs": [],
   "source": [
    "# fprint( [r_I[p]-(r_I_p[p]+r_I_m[p]) for p in range(3)] , print_ascii=print_ascii)"
   ]
  },
  {
   "cell_type": "markdown",
   "metadata": {},
   "source": [
    "Thus the interaction hamiltonian in the interaciton picture is\n",
    "\\begin{equation}\n",
    "    \\hat{H}_{1I}=e\\vec{E}\\cdot \\vec{\\hat{r}}_I= e(\\vec{E}^{(+)}\\cdot \\vec{\\hat{r}}^{(+)}_I + \\vec{E}^{(+)}\\cdot \\vec{\\hat{r}}^{(-)}_I + \\vec{E}^{(-)}\\cdot \\vec{\\hat{r}}^{(+)}_I + \\vec{E}^{(-)}\\cdot \\vec{\\hat{r}}^{(-)}_I)\n",
    "\\end{equation}"
   ]
  },
  {
   "cell_type": "code",
   "execution_count": 32,
   "metadata": {
    "collapsed": false
   },
   "outputs": [],
   "source": [
    "H1I=sum([ e*helicity_dot_product(E[l],r_I) for l in range(Nl)],zero_matrix)\n",
    "# fprint(H1I,print_ascii=print_ascii)"
   ]
  },
  {
   "cell_type": "markdown",
   "metadata": {},
   "source": [
    "Since both $\\omega^l$ and $\\omega_{ij}$ are in the order of THz, the terms that have frequencies with the same sign are summed, and thus also of the order of THz. The frequencies in the terms with oposite signs however, are detunings of the order of MHz. Since we are only interested in the coarse-grained evolution of the density matrix, we may omit the fast terms and approximate\n",
    "\n",
    "\\begin{equation}\n",
    "    \\hat{H}_{1I} \\simeq \\hat{H}_{1I,RWA}= e( \\vec{E}^{(+)}\\cdot \\vec{\\hat{r}}^{(-)}_I + \\vec{E}^{(-)}\\cdot \\vec{\\hat{r}}^{(+)}_I )\n",
    "\\end{equation}\n",
    "\n",
    "That is known as the rotating wave approximation (RWA)."
   ]
  },
  {
   "cell_type": "code",
   "execution_count": 33,
   "metadata": {
    "collapsed": false
   },
   "outputs": [],
   "source": [
    "H1IRWA=sum( [ (e*(helicity_dot_product(E_p[l],r_I_m)+helicity_dot_product(E_m[l],r_I_p))) for l in range(Nl)],zero_matrix)\n",
    "# fprint(H1IRWA,print_ascii=print_ascii)"
   ]
  },
  {
   "cell_type": "markdown",
   "metadata": {},
   "source": [
    "The matrix element $(\\hat{H}_{1I,RWA})_{21}$ element is"
   ]
  },
  {
   "cell_type": "code",
   "execution_count": 34,
   "metadata": {
    "collapsed": false
   },
   "outputs": [],
   "source": [
    "# fprint(H1IRWA[1,0].expand(),print_ascii=print_ascii)"
   ]
  },
  {
   "cell_type": "markdown",
   "metadata": {},
   "source": [
    "But if the detuning $\\omega_{21}-\\omega^1 \\ll \\omega_{21}-\\omega^2$ (the second field is far detuned from the $1 \\rightarrow 2$ transition), then $\\omega_{21}-\\omega^2$ may be also considered too high a frequency to be relevant to coarse-grained evolution. So we might neclect that term in $(\\hat{H}_{1I,RWA})_{21}$ and similarly neglect the $\\omega_{32}-\\omega^1$ for term in $(\\hat{H}_{1I,RWA})_{32}$:"
   ]
  },
  {
   "cell_type": "code",
   "execution_count": 35,
   "metadata": {
    "collapsed": false
   },
   "outputs": [],
   "source": [
    "# fprint(H1IRWA[2,1].expand(),print_ascii=print_ascii)"
   ]
  },
  {
   "cell_type": "markdown",
   "metadata": {},
   "source": [
    "In other words, if the detunings in our experiments allow the approximmation, we might choose which frequency components $\\omega^l$ excite which transitions. Let us say that $L_{ij}$ is the set of $l$ such that $\\omega^l$ excites the transition $i\\rightarrow j$"
   ]
  },
  {
   "cell_type": "code",
   "execution_count": 36,
   "metadata": {
    "collapsed": false
   },
   "outputs": [
    {
     "name": "stdout",
     "output_type": "stream",
     "text": [
      "[[[] [] [1] [1] [1] [] [] [] [] [] [] []]\n",
      " [[] [] [] [1] [1] [1] [] [] [] [] [] []]\n",
      " [[1] [] [] [] [] [] [] [] [] [2] [2] [2]]\n",
      " [[1] [1] [] [] [] [] [] [] [2] [2] [2] []]\n",
      " [[1] [1] [] [] [] [] [] [2] [2] [2] [] []]\n",
      " [[] [1] [] [] [] [] [2] [2] [2] [] [] []]\n",
      " [[] [] [] [] [] [2] [] [] [] [] [] []]\n",
      " [[] [] [] [] [2] [2] [] [] [] [] [] []]\n",
      " [[] [] [] [2] [2] [2] [] [] [] [] [] []]\n",
      " [[] [] [2] [2] [2] [] [] [] [] [] [] []]\n",
      " [[] [] [2] [2] [] [] [] [] [] [] [] []]\n",
      " [[] [] [2] [] [] [] [] [] [] [] [] []]]\n"
     ]
    }
   ],
   "source": [
    "Lij=[[1,2,[1]],[2,3,[2]]]\n",
    "Lij1 = [[[i+1, j+1, [1]] for j in range(i)\n",
    "         if Transition(hyperfine_states[i], hyperfine_states[j]).allowed] for i in range(6)]\n",
    "Lij2 = [[[i+1, j+1, [2]] for j in range(i)\n",
    "         if Transition(hyperfine_states[i], hyperfine_states[j]).allowed] for i in range(6, Ne)]\n",
    "Lij1 = sum(Lij1, [])\n",
    "Lij2 = sum(Lij2, [])\n",
    "Lij = Lij1 + Lij2\n",
    "# print Lij\n",
    "Lij=formatLij(Lij,Ne)\n",
    "print array(Lij)"
   ]
  },
  {
   "cell_type": "markdown",
   "metadata": {},
   "source": [
    "Thus the interacion hamiltonian in the interaction picture can be approximated as"
   ]
  },
  {
   "cell_type": "code",
   "execution_count": 37,
   "metadata": {
    "collapsed": false
   },
   "outputs": [],
   "source": [
    "H1IRWA =sum([ e*( helicity_dot_product( E_p[l],vector_element(r_I_m,i,j)) ) * ket(i+1,Ne)*bra(j+1,Ne) \n",
    "            for l in range(Nl) for j in range(Ne) for i in range(Ne) if l+1 in Lij[i][j] ],zero_matrix)\n",
    "H1IRWA+=sum([ e*( helicity_dot_product( E_m[l],vector_element(r_I_p,i,j)) ) * ket(i+1,Ne)*bra(j+1,Ne) \n",
    "            for l in range(Nl) for j in range(Ne) for i in range(Ne) if l+1 in Lij[i][j] ],zero_matrix)\n",
    "\n",
    "# fprint(H1IRWA, print_ascii=print_ascii)"
   ]
  },
  {
   "cell_type": "markdown",
   "metadata": {},
   "source": [
    "Returning to the Schrödinger picture we have."
   ]
  },
  {
   "cell_type": "code",
   "execution_count": 38,
   "metadata": {
    "collapsed": false
   },
   "outputs": [],
   "source": [
    "r_p=[ Matrix([[ delta_greater(j,i)*r[p][i,j] for j in range(Ne)]for i in range(Ne)]) for p in range(3)]\n",
    "# fprint(r_p, print_ascii=print_ascii)"
   ]
  },
  {
   "cell_type": "code",
   "execution_count": 39,
   "metadata": {
    "collapsed": false
   },
   "outputs": [],
   "source": [
    "r_m=[ Matrix([[ delta_lesser( j,i)*r[p][i,j] for j in range(Ne)]for i in range(Ne)]) for p in range(3)]\n",
    "# fprint(r_m, print_ascii=print_ascii)"
   ]
  },
  {
   "cell_type": "code",
   "execution_count": 40,
   "metadata": {
    "collapsed": false
   },
   "outputs": [],
   "source": [
    "# fprint( [r[p]-(r_p[p]+r_m[p]) for p in range(3)] , print_ascii=print_ascii)"
   ]
  },
  {
   "cell_type": "markdown",
   "metadata": {},
   "source": [
    "Thus the interaction hamiltonian in the Schrödinger picture in the rotating wave approximation is"
   ]
  },
  {
   "cell_type": "code",
   "execution_count": 41,
   "metadata": {
    "collapsed": false
   },
   "outputs": [],
   "source": [
    "H1RWA =sum([ e*( helicity_dot_product( E_p[l],vector_element(r_m,i,j)) ) * ket(i+1,Ne)*bra(j+1,Ne) \n",
    "            for l in range(Nl) for j in range(Ne) for i in range(Ne) if l+1 in Lij[i][j] ],zero_matrix)\n",
    "H1RWA+=sum([ e*( helicity_dot_product( E_m[l],vector_element(r_p,i,j)) ) * ket(i+1,Ne)*bra(j+1,Ne) \n",
    "            for l in range(Nl) for j in range(Ne) for i in range(Ne) if l+1 in Lij[i][j] ],zero_matrix)\n",
    "\n",
    "# fprint(H1RWA, print_ascii=print_ascii)"
   ]
  },
  {
   "cell_type": "markdown",
   "metadata": {},
   "source": [
    "And the complete hamiltonian in the Schrödinger picture in the rotating wave approximation is"
   ]
  },
  {
   "cell_type": "code",
   "execution_count": 42,
   "metadata": {
    "collapsed": false
   },
   "outputs": [],
   "source": [
    "HRWA=H0+H1RWA\n",
    "# fprint(HRWA, print_ascii=print_ascii)"
   ]
  },
  {
   "cell_type": "markdown",
   "metadata": {
    "collapsed": true
   },
   "source": [
    "# Rotating Frame\n",
    "Next we will make a phase transformation in order to eliminate the explicit time dependance of the equations."
   ]
  },
  {
   "cell_type": "code",
   "execution_count": 43,
   "metadata": {
    "collapsed": false
   },
   "outputs": [],
   "source": [
    "cc,cctilde,phase=define_psi_coefficients(Ne)\n",
    "# fprint([cc,cctilde,phase], print_ascii=print_ascii)"
   ]
  },
  {
   "cell_type": "code",
   "execution_count": 44,
   "metadata": {
    "collapsed": false
   },
   "outputs": [],
   "source": [
    "phase=Matrix([ Function(\"theta_\"+str(i+1),real=True)(t,Z) for i in range(Ne)])\n",
    "# phase"
   ]
  },
  {
   "cell_type": "code",
   "execution_count": 45,
   "metadata": {
    "collapsed": false
   },
   "outputs": [],
   "source": [
    "psi=Matrix([ exp(I*phase[i])*cctilde[i] for i in range(Ne)])\n",
    "# fprint(psi, print_ascii=print_ascii)"
   ]
  },
  {
   "cell_type": "markdown",
   "metadata": {},
   "source": [
    "The Schrödinger equation $i\\hbar \\partial_t |\\psi\\rangle=\\hat{H}_{RWA}$ is"
   ]
  },
  {
   "cell_type": "code",
   "execution_count": 46,
   "metadata": {
    "collapsed": false
   },
   "outputs": [],
   "source": [
    "lhs=Matrix([(I*hbar*Derivative(psi[i],t).doit()).expand() for i in range(Ne)])\n",
    "# fprint(lhs, print_ascii=print_ascii)"
   ]
  },
  {
   "cell_type": "code",
   "execution_count": 47,
   "metadata": {
    "collapsed": false
   },
   "outputs": [],
   "source": [
    "rhs=HRWA*psi"
   ]
  },
  {
   "cell_type": "markdown",
   "metadata": {},
   "source": [
    "We multiply each of these equations by $e^{-i \\theta_i}$ and substracting $i \\theta_i \\tilde{c}_i$"
   ]
  },
  {
   "cell_type": "code",
   "execution_count": 48,
   "metadata": {
    "collapsed": false
   },
   "outputs": [],
   "source": [
    "lhs_new=Matrix([simplify(  lhs[i]*exp(-I*phase[i]) +hbar*Derivative(phase[i],t)*cctilde[i] ) for i in range(Ne)])\n",
    "# fprint(lhs_new, print_ascii=print_ascii)"
   ]
  },
  {
   "cell_type": "code",
   "execution_count": 49,
   "metadata": {
    "collapsed": false
   },
   "outputs": [],
   "source": [
    "rhs_new=Matrix([simplify(  rhs[i]*exp(-I*phase[i])\n",
    "                         +hbar*Derivative(phase[i],t)*cctilde[i] ).expand() for i in range(Ne)])\n",
    "# fprint(rhs_new, print_ascii=print_ascii)"
   ]
  },
  {
   "cell_type": "markdown",
   "metadata": {},
   "source": [
    "It can be seen that the equations loose their explicit time dependance only if $\\omega^{1}(-Z/c+t) - \\theta_{1} +\n",
    "\\theta_{2}=0$ and $\\omega^{2}(Z/c+t) - \\theta_{2} + \\theta_{3}=0$. Which is satisfied if"
   ]
  },
  {
   "cell_type": "code",
   "execution_count": 50,
   "metadata": {
    "collapsed": true
   },
   "outputs": [],
   "source": [
    "from fast import bloch\n",
    "import numpy as np"
   ]
  },
  {
   "cell_type": "code",
   "execution_count": 51,
   "metadata": {
    "collapsed": false
   },
   "outputs": [],
   "source": [
    "xi = np.zeros((Nl, Ne, Ne))\n",
    "for l in range(Nl):\n",
    "    for i in range(Ne):\n",
    "        for j in range(Ne):\n",
    "            if l+1 in Lij[i][j]:\n",
    "                xi[l, i, j] = 1\n"
   ]
  },
  {
   "cell_type": "code",
   "execution_count": 52,
   "metadata": {
    "collapsed": false
   },
   "outputs": [],
   "source": [
    "pt = bloch.phase_transformation(Ne, Nl, r_m, xi)\n",
    "#pt = {phase[i]: pt[i] for i in range(Ne)}\n",
    "ss ={t*omega_laser[0]: (t-Z/c)*omega_laser[0],\n",
    "     t*omega_laser[1]: (t+Z/c)*omega_laser[1]}\n",
    "pt = {phase[i]: (pt[i]*t).expand().subs(ss).expand() for i in range(Ne)}"
   ]
  },
  {
   "cell_type": "markdown",
   "metadata": {},
   "source": [
    "Thus the equations become"
   ]
  },
  {
   "cell_type": "code",
   "execution_count": 53,
   "metadata": {
    "collapsed": false
   },
   "outputs": [],
   "source": [
    "rhs_new2=simplify(rhs_new.subs(pt)).doit().expand().simplify()\n",
    "# fprint(rhs_new2, print_ascii=print_ascii)"
   ]
  },
  {
   "cell_type": "markdown",
   "metadata": {},
   "source": [
    "It can be seen that this is the Schrödinger equation derived from an effective hamiltonian $\\tilde{H}$"
   ]
  },
  {
   "cell_type": "code",
   "execution_count": 54,
   "metadata": {
    "collapsed": false
   },
   "outputs": [],
   "source": [
    "Htilde=Matrix([ [Derivative(rhs_new2[i],cctilde[j]).doit().simplify() for j in range(Ne)] for i in range(Ne)])\n",
    "# fprint(Htilde, print_ascii=print_ascii)"
   ]
  },
  {
   "cell_type": "code",
   "execution_count": 55,
   "metadata": {
    "collapsed": false
   },
   "outputs": [],
   "source": [
    "Om131, Om141, Om142, Om151, Om152, Om162 = symbols(\"Omega_131, Omega_141, Omega_142, Omega_151, Omega_152, Omega_162\")\n",
    "Om276, Om286, Om296, Om285, Om295, Om2105 = symbols(\"Omega_276, Omega_286, Omega_296, Omega_285, Omega_295, Omega_2105\")\n",
    "Om294, Om2104, Om2114, Om2103, Om2113, Om2123 = symbols(\"Omega_294, Omega_2104, Omega_2114, Omega_2103, Omega_2113, Omega_2123\")\n",
    "\n",
    "delta1, delta2 = symbols(\"delta1, delta2\", real=True)\n",
    "\n",
    "ssOm ={r[2][2,0]*E0[0]: Om131/e*hbar,\n",
    "       r[2][3,0]*E0[0]: Om141/e*hbar,\n",
    "       r[2][3,1]*E0[0]: Om142/e*hbar,\n",
    "       r[2][4,0]*E0[0]: Om141/e*hbar,\n",
    "       r[2][4,1]*E0[0]: Om142/e*hbar,\n",
    "       r[2][5,1]*E0[0]: Om152/e*hbar,\n",
    "       \n",
    "       r[0][6, 5]*E0[1]: Om276 /e*hbar,\n",
    "       r[0][7, 5]*E0[1]: Om286 /e*hbar,\n",
    "       r[0][8, 5]*E0[1]: Om296 /e*hbar,\n",
    "       r[0][7, 4]*E0[1]: Om285 /e*hbar,\n",
    "       r[0][8, 4]*E0[1]: Om295 /e*hbar,\n",
    "       r[0][9, 4]*E0[1]: Om2105/e*hbar,\n",
    "       r[0][8, 3]*E0[1]: Om294 /e*hbar,\n",
    "       r[0][9, 3]*E0[1]: Om2104/e*hbar,\n",
    "       r[0][10,3]*E0[1]: Om2114/e*hbar,\n",
    "       r[0][9, 2]*E0[1]: Om2103/e*hbar,\n",
    "       r[0][10,2]*E0[1]: Om2113/e*hbar,\n",
    "       r[0][11,2]*E0[1]: Om2123/e*hbar}\n",
    "\n",
    "ss_delta = {omega_laser[0]: delta1 +(omega_level[2]-omega_level[1]),\n",
    "            omega_laser[1]: delta2 +(omega_level[6]-omega_level[5])}\n",
    "\n",
    "ssOm2 = {i.conjugate(): ssOm[i].conjugate() for i in ssOm}\n",
    "ssOm.update(ssOm2)"
   ]
  },
  {
   "cell_type": "code",
   "execution_count": 56,
   "metadata": {
    "collapsed": false
   },
   "outputs": [
    {
     "data": {
      "image/png": "[encoded data removed]",
      "text/latex": [
       "$$\\left[\\begin{array}{cccccccccccc}\\hbar \\omega_{1} - \\hbar \\omega_{2} & 0 & \\frac{e r_{+1;3,1}}{2} \\overline{\\operatorname{E^{1}_{0}}{\\left (t,Z \\right )}} & \\frac{e r_{+1;4,1}}{2} \\overline{\\operatorname{E^{1}_{0}}{\\left (t,Z \\right )}} & \\frac{e r_{+1;5,1}}{2} \\overline{\\operatorname{E^{1}_{0}}{\\left (t,Z \\right )}} & 0 & 0 & 0 & 0 & 0 & 0 & 0\\\\0 & 0 & 0 & \\frac{e r_{+1;4,2}}{2} \\overline{\\operatorname{E^{1}_{0}}{\\left (t,Z \\right )}} & \\frac{e r_{+1;5,2}}{2} \\overline{\\operatorname{E^{1}_{0}}{\\left (t,Z \\right )}} & \\frac{e r_{+1;6,2}}{2} \\overline{\\operatorname{E^{1}_{0}}{\\left (t,Z \\right )}} & 0 & 0 & 0 & 0 & 0 & 0\\\\\\frac{e r_{+1;3,1}}{2} \\operatorname{E^{1}_{0}}{\\left (t,Z \\right )} & 0 & - \\delta_{1} \\hbar & 0 & 0 & 0 & 0 & 0 & 0 & \\frac{e r_{-1;10,3}}{2} \\overline{\\operatorname{E^{2}_{0}}{\\left (t,Z \\right )}} & \\frac{e r_{-1;11,3}}{2} \\overline{\\operatorname{E^{2}_{0}}{\\left (t,Z \\right )}} & \\frac{e r_{-1;12,3}}{2} \\overline{\\operatorname{E^{2}_{0}}{\\left (t,Z \\right )}}\\\\\\frac{e r_{+1;4,1}}{2} \\operatorname{E^{1}_{0}}{\\left (t,Z \\right )} & \\frac{e r_{+1;4,2}}{2} \\operatorname{E^{1}_{0}}{\\left (t,Z \\right )} & 0 & - \\delta_{1} \\hbar - \\hbar \\omega_{3} + \\hbar \\omega_{4} & 0 & 0 & 0 & 0 & \\frac{e r_{-1;9,4}}{2} \\overline{\\operatorname{E^{2}_{0}}{\\left (t,Z \\right )}} & \\frac{e r_{-1;10,4}}{2} \\overline{\\operatorname{E^{2}_{0}}{\\left (t,Z \\right )}} & \\frac{e r_{-1;11,4}}{2} \\overline{\\operatorname{E^{2}_{0}}{\\left (t,Z \\right )}} & 0\\\\\\frac{e r_{+1;5,1}}{2} \\operatorname{E^{1}_{0}}{\\left (t,Z \\right )} & \\frac{e r_{+1;5,2}}{2} \\operatorname{E^{1}_{0}}{\\left (t,Z \\right )} & 0 & 0 & - \\delta_{1} \\hbar - \\hbar \\omega_{3} + \\hbar \\omega_{5} & 0 & 0 & \\frac{e r_{-1;8,5}}{2} \\overline{\\operatorname{E^{2}_{0}}{\\left (t,Z \\right )}} & \\frac{e r_{-1;9,5}}{2} \\overline{\\operatorname{E^{2}_{0}}{\\left (t,Z \\right )}} & \\frac{e r_{-1;10,5}}{2} \\overline{\\operatorname{E^{2}_{0}}{\\left (t,Z \\right )}} & 0 & 0\\\\0 & \\frac{e r_{+1;6,2}}{2} \\operatorname{E^{1}_{0}}{\\left (t,Z \\right )} & 0 & 0 & 0 & - \\delta_{1} \\hbar - \\hbar \\omega_{3} + \\hbar \\omega_{6} & \\frac{e r_{-1;7,6}}{2} \\overline{\\operatorname{E^{2}_{0}}{\\left (t,Z \\right )}} & \\frac{e r_{-1;8,6}}{2} \\overline{\\operatorname{E^{2}_{0}}{\\left (t,Z \\right )}} & \\frac{e r_{-1;9,6}}{2} \\overline{\\operatorname{E^{2}_{0}}{\\left (t,Z \\right )}} & 0 & 0 & 0\\\\0 & 0 & 0 & 0 & 0 & \\frac{e r_{-1;7,6}}{2} \\operatorname{E^{2}_{0}}{\\left (t,Z \\right )} & - \\delta_{1} \\hbar - \\delta_{2} \\hbar - \\hbar \\omega_{3} + \\hbar \\omega_{6} & 0 & 0 & 0 & 0 & 0\\\\0 & 0 & 0 & 0 & \\frac{e r_{-1;8,5}}{2} \\operatorname{E^{2}_{0}}{\\left (t,Z \\right )} & \\frac{e r_{-1;8,6}}{2} \\operatorname{E^{2}_{0}}{\\left (t,Z \\right )} & 0 & - \\delta_{1} \\hbar - \\delta_{2} \\hbar - \\hbar \\omega_{3} + \\hbar \\omega_{6} - \\hbar \\omega_{7} + \\hbar \\omega_{8} & 0 & 0 & 0 & 0\\\\0 & 0 & 0 & \\frac{e r_{-1;9,4}}{2} \\operatorname{E^{2}_{0}}{\\left (t,Z \\right )} & \\frac{e r_{-1;9,5}}{2} \\operatorname{E^{2}_{0}}{\\left (t,Z \\right )} & \\frac{e r_{-1;9,6}}{2} \\operatorname{E^{2}_{0}}{\\left (t,Z \\right )} & 0 & 0 & - \\delta_{1} \\hbar - \\delta_{2} \\hbar - \\hbar \\omega_{3} + \\hbar \\omega_{6} - \\hbar \\omega_{7} + \\hbar \\omega_{9} & 0 & 0 & 0\\\\0 & 0 & \\frac{e r_{-1;10,3}}{2} \\operatorname{E^{2}_{0}}{\\left (t,Z \\right )} & \\frac{e r_{-1;10,4}}{2} \\operatorname{E^{2}_{0}}{\\left (t,Z \\right )} & \\frac{e r_{-1;10,5}}{2} \\operatorname{E^{2}_{0}}{\\left (t,Z \\right )} & 0 & 0 & 0 & 0 & - \\delta_{1} \\hbar - \\delta_{2} \\hbar + \\hbar \\omega_{10} - \\hbar \\omega_{3} + \\hbar \\omega_{6} - \\hbar \\omega_{7} & 0 & 0\\\\0 & 0 & \\frac{e r_{-1;11,3}}{2} \\operatorname{E^{2}_{0}}{\\left (t,Z \\right )} & \\frac{e r_{-1;11,4}}{2} \\operatorname{E^{2}_{0}}{\\left (t,Z \\right )} & 0 & 0 & 0 & 0 & 0 & 0 & - \\delta_{1} \\hbar - \\delta_{2} \\hbar + \\hbar \\omega_{11} - \\hbar \\omega_{3} + \\hbar \\omega_{6} - \\hbar \\omega_{7} & 0\\\\0 & 0 & \\frac{e r_{-1;12,3}}{2} \\operatorname{E^{2}_{0}}{\\left (t,Z \\right )} & 0 & 0 & 0 & 0 & 0 & 0 & 0 & 0 & - \\delta_{1} \\hbar - \\delta_{2} \\hbar + \\hbar \\omega_{12} - \\hbar \\omega_{3} + \\hbar \\omega_{6} - \\hbar \\omega_{7}\\end{array}\\right]$$"
      ],
      "text/plain": [
       "⎡                                                             _________       \n",
       "⎢                                                e⋅r_{+1;3,1}⋅E¹₀(t, Z)   e⋅r_\n",
       "⎢    h̅⋅ω₁ - h̅⋅ω₂                 0             ──────────────────────   ────\n",
       "⎢                                                          2                  \n",
       "⎢                                                                             \n",
       "⎢                                                                             \n",
       "⎢                                                                         e⋅r_\n",
       "⎢          0                       0                        0             ────\n",
       "⎢                                                                             \n",
       "⎢                                                                             \n",
       "⎢                                                                             \n",
       "⎢e⋅r_{+1;3,1}⋅E¹₀(t, Z)                                                       \n",
       "⎢──────────────────────            0                     -δ₁⋅h̅               \n",
       "⎢          2                                                                  \n",
       "⎢                                                                             \n",
       "⎢                                                                             \n",
       "⎢e⋅r_{+1;4,1}⋅E¹₀(t, Z)  e⋅r_{+1;4,2}⋅E¹₀(t, Z)                               \n",
       "⎢──────────────────────  ──────────────────────             0             -δ₁⋅\n",
       "⎢          2                       2                                          \n",
       "⎢                                                                             \n",
       "⎢                                                                             \n",
       "⎢e⋅r_{+1;5,1}⋅E¹₀(t, Z)  e⋅r_{+1;5,2}⋅E¹₀(t, Z)                               \n",
       "⎢──────────────────────  ──────────────────────             0                 \n",
       "⎢          2                       2                                          \n",
       "⎢                                                                             \n",
       "⎢                                                                             \n",
       "⎢                        e⋅r_{+1;6,2}⋅E¹₀(t, Z)                               \n",
       "⎢          0             ──────────────────────             0                 \n",
       "⎢                                  2                                          \n",
       "⎢                                                                             \n",
       "⎢                                                                             \n",
       "⎢          0                       0                        0                 \n",
       "⎢                                                                             \n",
       "⎢                                                                             \n",
       "⎢                                                                             \n",
       "⎢          0                       0                        0                 \n",
       "⎢                                                                             \n",
       "⎢                                                                             \n",
       "⎢                                                                         e⋅r_\n",
       "⎢          0                       0                        0             ────\n",
       "⎢                                                                             \n",
       "⎢                                                                             \n",
       "⎢                                                e⋅r_{-1;10,3}⋅E²₀(t, Z)  e⋅r_\n",
       "⎢          0                       0             ───────────────────────  ────\n",
       "⎢                                                           2                 \n",
       "⎢                                                                             \n",
       "⎢                                                e⋅r_{-1;11,3}⋅E²₀(t, Z)  e⋅r_\n",
       "⎢          0                       0             ───────────────────────  ────\n",
       "⎢                                                           2                 \n",
       "⎢                                                                             \n",
       "⎢                                                e⋅r_{-1;12,3}⋅E²₀(t, Z)      \n",
       "⎢          0                       0             ───────────────────────      \n",
       "⎣                                                           2                 \n",
       "\n",
       "         _________                _________                                   \n",
       "{+1;4,1}⋅E¹₀(t, Z)   e⋅r_{+1;5,1}⋅E¹₀(t, Z)                                   \n",
       "──────────────────   ──────────────────────             0                     \n",
       "      2                        2                                              \n",
       "                                                                              \n",
       "         _________                _________                _________          \n",
       "{+1;4,2}⋅E¹₀(t, Z)   e⋅r_{+1;5,2}⋅E¹₀(t, Z)   e⋅r_{+1;6,2}⋅E¹₀(t, Z)          \n",
       "──────────────────   ──────────────────────   ──────────────────────          \n",
       "      2                        2                        2                     \n",
       "                                                                              \n",
       "                                                                              \n",
       "                                                                              \n",
       "       0                        0                       0                     \n",
       "                                                                              \n",
       "                                                                              \n",
       "                                                                              \n",
       "                                                                              \n",
       "h̅ - h̅⋅ω₃ + h̅⋅ω₄              0                       0                     \n",
       "                                                                              \n",
       "                                                                              \n",
       "                                                                              \n",
       "                                                                              \n",
       "       0             -δ₁⋅h̅ - h̅⋅ω₃ + h̅⋅ω₅             0                     \n",
       "                                                                              \n",
       "                                                                              \n",
       "                                                                              \n",
       "                                                                          e⋅r_\n",
       "       0                        0             -δ₁⋅h̅ - h̅⋅ω₃ + h̅⋅ω₆      ────\n",
       "                                                                              \n",
       "                                                                              \n",
       "                                              e⋅r_{-1;7,6}⋅E²₀(t, Z)          \n",
       "       0                        0             ──────────────────────  -δ₁⋅h̅ -\n",
       "                                                        2                     \n",
       "                                                                              \n",
       "                     e⋅r_{-1;8,5}⋅E²₀(t, Z)   e⋅r_{-1;8,6}⋅E²₀(t, Z)          \n",
       "       0             ──────────────────────   ──────────────────────          \n",
       "                               2                        2                     \n",
       "                                                                              \n",
       "{-1;9,4}⋅E²₀(t, Z)   e⋅r_{-1;9,5}⋅E²₀(t, Z)   e⋅r_{-1;9,6}⋅E²₀(t, Z)          \n",
       "──────────────────   ──────────────────────   ──────────────────────          \n",
       "      2                        2                        2                     \n",
       "                                                                              \n",
       "{-1;10,4}⋅E²₀(t, Z)  e⋅r_{-1;10,5}⋅E²₀(t, Z)                                  \n",
       "───────────────────  ───────────────────────            0                     \n",
       "       2                        2                                             \n",
       "                                                                              \n",
       "{-1;11,4}⋅E²₀(t, Z)                                                           \n",
       "───────────────────             0                       0                     \n",
       "       2                                                                      \n",
       "                                                                              \n",
       "                                                                              \n",
       "       0                        0                       0                     \n",
       "                                                                              \n",
       "\n",
       "                                                                              \n",
       "                                                                              \n",
       "      0                                       0                               \n",
       "                                                                              \n",
       "                                                                              \n",
       "                                                                              \n",
       "                                                                              \n",
       "      0                                       0                               \n",
       "                                                                              \n",
       "                                                                              \n",
       "                                                                              \n",
       "                                                                              \n",
       "      0                                       0                               \n",
       "                                                                              \n",
       "                                                                              \n",
       "                                                                              \n",
       "                                                                              \n",
       "      0                                       0                               \n",
       "                                                                              \n",
       "                                                                              \n",
       "                                                 _________                    \n",
       "                                    e⋅r_{-1;8,5}⋅E²₀(t, Z)                    \n",
       "      0                             ──────────────────────                    \n",
       "                                              2                               \n",
       "                                                                              \n",
       "         _________                               _________                    \n",
       "{-1;7,6}⋅E²₀(t, Z)                  e⋅r_{-1;8,6}⋅E²₀(t, Z)                    \n",
       "──────────────────                  ──────────────────────                    \n",
       "      2                                       2                               \n",
       "                                                                              \n",
       "                                                                              \n",
       " δ₂⋅h̅ - h̅⋅ω₃ + h̅⋅ω₆                        0                               \n",
       "                                                                              \n",
       "                                                                              \n",
       "                                                                              \n",
       "      0                 -δ₁⋅h̅ - δ₂⋅h̅ - h̅⋅ω₃ + h̅⋅ω₆ - h̅⋅ω₇ + h̅⋅ω₈        \n",
       "                                                                              \n",
       "                                                                              \n",
       "                                                                              \n",
       "      0                                       0                         -δ₁⋅h̅\n",
       "                                                                              \n",
       "                                                                              \n",
       "                                                                              \n",
       "      0                                       0                               \n",
       "                                                                              \n",
       "                                                                              \n",
       "                                                                              \n",
       "      0                                       0                               \n",
       "                                                                              \n",
       "                                                                              \n",
       "                                                                              \n",
       "      0                                       0                               \n",
       "                                                                              \n",
       "\n",
       "                                                                              \n",
       "                                                                              \n",
       "                0                                                0            \n",
       "                                                                              \n",
       "                                                                              \n",
       "                                                                              \n",
       "                                                                              \n",
       "                0                                                0            \n",
       "                                                                              \n",
       "                                                                              \n",
       "                                                                    _________ \n",
       "                                                      e⋅r_{-1;10,3}⋅E²₀(t, Z) \n",
       "                0                                     ─────────────────────── \n",
       "                                                                 2            \n",
       "                                                                              \n",
       "                   _________                                        _________ \n",
       "      e⋅r_{-1;9,4}⋅E²₀(t, Z)                          e⋅r_{-1;10,4}⋅E²₀(t, Z) \n",
       "      ──────────────────────                          ─────────────────────── \n",
       "                2                                                2            \n",
       "                                                                              \n",
       "                   _________                                        _________ \n",
       "      e⋅r_{-1;9,5}⋅E²₀(t, Z)                          e⋅r_{-1;10,5}⋅E²₀(t, Z) \n",
       "      ──────────────────────                          ─────────────────────── \n",
       "                2                                                2            \n",
       "                                                                              \n",
       "                   _________                                                  \n",
       "      e⋅r_{-1;9,6}⋅E²₀(t, Z)                                                  \n",
       "      ──────────────────────                                     0            \n",
       "                2                                                             \n",
       "                                                                              \n",
       "                                                                              \n",
       "                0                                                0            \n",
       "                                                                              \n",
       "                                                                              \n",
       "                                                                              \n",
       "                0                                                0            \n",
       "                                                                              \n",
       "                                                                              \n",
       "                                                                              \n",
       " - δ₂⋅h̅ - h̅⋅ω₃ + h̅⋅ω₆ - h̅⋅ω₇ + h̅⋅ω₉                         0            \n",
       "                                                                              \n",
       "                                                                              \n",
       "                                                                              \n",
       "                0                         -δ₁⋅h̅ - δ₂⋅h̅ + h̅⋅ω₁₀ - h̅⋅ω₃ + h̅\n",
       "                                                                              \n",
       "                                                                              \n",
       "                                                                              \n",
       "                0                                                0            \n",
       "                                                                              \n",
       "                                                                              \n",
       "                                                                              \n",
       "                0                                                0            \n",
       "                                                                              \n",
       "\n",
       "                                                                              \n",
       "                                                                              \n",
       "                                    0                                         \n",
       "                                                                              \n",
       "                                                                              \n",
       "                                                                              \n",
       "                                                                              \n",
       "                                    0                                         \n",
       "                                                                              \n",
       "                                                                              \n",
       "                                       _________                              \n",
       "                         e⋅r_{-1;11,3}⋅E²₀(t, Z)                          e⋅r_\n",
       "                         ───────────────────────                          ────\n",
       "                                    2                                         \n",
       "                                                                              \n",
       "                                       _________                              \n",
       "                         e⋅r_{-1;11,4}⋅E²₀(t, Z)                              \n",
       "                         ───────────────────────                              \n",
       "                                    2                                         \n",
       "                                                                              \n",
       "                                                                              \n",
       "                                                                              \n",
       "                                    0                                         \n",
       "                                                                              \n",
       "                                                                              \n",
       "                                                                              \n",
       "                                                                              \n",
       "                                    0                                         \n",
       "                                                                              \n",
       "                                                                              \n",
       "                                                                              \n",
       "                                    0                                         \n",
       "                                                                              \n",
       "                                                                              \n",
       "                                                                              \n",
       "                                    0                                         \n",
       "                                                                              \n",
       "                                                                              \n",
       "                                                                              \n",
       "                                    0                                         \n",
       "                                                                              \n",
       "                                                                              \n",
       "                                                                              \n",
       "⋅ω₆ - h̅⋅ω₇                         0                                         \n",
       "                                                                              \n",
       "                                                                              \n",
       "                                                                              \n",
       "             -δ₁⋅h̅ - δ₂⋅h̅ + h̅⋅ω₁₁ - h̅⋅ω₃ + h̅⋅ω₆ - h̅⋅ω₇                  \n",
       "                                                                              \n",
       "                                                                              \n",
       "                                                                              \n",
       "                                    0                         -δ₁⋅h̅ - δ₂⋅h̅ +\n",
       "                                                                              \n",
       "\n",
       "                               ⎤\n",
       "                               ⎥\n",
       "       0                       ⎥\n",
       "                               ⎥\n",
       "                               ⎥\n",
       "                               ⎥\n",
       "                               ⎥\n",
       "       0                       ⎥\n",
       "                               ⎥\n",
       "                               ⎥\n",
       "          _________            ⎥\n",
       "{-1;12,3}⋅E²₀(t, Z)            ⎥\n",
       "───────────────────            ⎥\n",
       "       2                       ⎥\n",
       "                               ⎥\n",
       "                               ⎥\n",
       "                               ⎥\n",
       "       0                       ⎥\n",
       "                               ⎥\n",
       "                               ⎥\n",
       "                               ⎥\n",
       "                               ⎥\n",
       "       0                       ⎥\n",
       "                               ⎥\n",
       "                               ⎥\n",
       "                               ⎥\n",
       "                               ⎥\n",
       "       0                       ⎥\n",
       "                               ⎥\n",
       "                               ⎥\n",
       "                               ⎥\n",
       "       0                       ⎥\n",
       "                               ⎥\n",
       "                               ⎥\n",
       "                               ⎥\n",
       "       0                       ⎥\n",
       "                               ⎥\n",
       "                               ⎥\n",
       "                               ⎥\n",
       "       0                       ⎥\n",
       "                               ⎥\n",
       "                               ⎥\n",
       "                               ⎥\n",
       "       0                       ⎥\n",
       "                               ⎥\n",
       "                               ⎥\n",
       "                               ⎥\n",
       "       0                       ⎥\n",
       "                               ⎥\n",
       "                               ⎥\n",
       "                               ⎥\n",
       " h̅⋅ω₁₂ - h̅⋅ω₃ + h̅⋅ω₆ - h̅⋅ω₇⎥\n",
       "                               ⎦"
      ]
     },
     "execution_count": 56,
     "metadata": {},
     "output_type": "execute_result"
    }
   ],
   "source": [
    "from sympy import eye\n",
    "Htilde = Htilde - eye(Ne)*hbar*(omega_level[1]-omega_level[0])\n",
    "Htilde = Htilde.expand()\n",
    "# Htilde = Htilde.subs(ssOm).expand()\n",
    "Htilde = Htilde.subs(ss_delta).expand()\n",
    "Htilde"
   ]
  },
  {
   "cell_type": "markdown",
   "metadata": {},
   "source": [
    "We can see that it is convenient to choose $\\theta_1=-\\omega_1$ to simplify the hamiltonian. Also, we can recognize $\\omega^1-\\omega_2+\\omega_1=\\delta^1$ as the detuning of the first field relative to the atomic transition $\\omega_{21}=\\omega_2-\\omega_1$, and the same for $\\omega^2-\\omega_3+\\omega_2=\\delta^2$. And choosing $\\theta_1=\\omega_1 t$"
   ]
  },
  {
   "cell_type": "markdown",
   "metadata": {},
   "source": [
    "# Optical Bloch Equations\n",
    "\n",
    "We define the density matrix."
   ]
  },
  {
   "cell_type": "code",
   "execution_count": 57,
   "metadata": {
    "collapsed": false
   },
   "outputs": [],
   "source": [
    "vX, vY, vZ=symbols(\"v_X, v_Y, v_Z\", real=True)\n",
    "rho=define_density_matrix(Ne, variables=[t, Z, vZ])\n",
    "# fprint( rho , print_ascii=print_ascii)"
   ]
  },
  {
   "cell_type": "markdown",
   "metadata": {},
   "source": [
    "The hamiltonian part of the equations is\n",
    "\\begin{equation}\n",
    "    \\dot{\\hat{\\rho}}=\\frac{i}{\\hbar}[\\hat{\\rho}, \\hat{\\tilde{H}}]\n",
    "\\end{equation}"
   ]
  },
  {
   "cell_type": "code",
   "execution_count": 58,
   "metadata": {
    "collapsed": false
   },
   "outputs": [],
   "source": [
    "hamiltonian_terms=(I/hbar*(rho*Htilde-Htilde*rho)).expand()\n",
    "# fprint(hamiltonian_terms, print_ascii=print_ascii)"
   ]
  },
  {
   "cell_type": "markdown",
   "metadata": {},
   "source": [
    "There are two Lindblad operators, since there are two spontaneous decay channels."
   ]
  },
  {
   "cell_type": "code",
   "execution_count": 59,
   "metadata": {
    "collapsed": false
   },
   "outputs": [],
   "source": [
    "lindblads = lindblad_terms(gamma, rho, Ne)"
   ]
  },
  {
   "cell_type": "markdown",
   "metadata": {},
   "source": [
    "The Optical Bloch equations are thus."
   ]
  },
  {
   "cell_type": "code",
   "execution_count": 60,
   "metadata": {
    "collapsed": false
   },
   "outputs": [],
   "source": [
    "eqs=hamiltonian_terms + lindblads"
   ]
  },
  {
   "cell_type": "code",
   "execution_count": 61,
   "metadata": {
    "collapsed": false
   },
   "outputs": [],
   "source": [
    "eqsign=symbols(\"=\")\n",
    "eqs_list=[]\n",
    "for mu in range(0,Ne**2-1 -(Ne**2 - Ne)/2+1):\n",
    "    ii,jj,s=IJ(mu,Ne)\n",
    "    i=ii-1; j=jj-1\n",
    "    eqs_list+=[[Derivative(rho[i,j],t),eqsign,eqs[i,j]]]\n",
    "eqs_list=Matrix(eqs_list)\n",
    "# fprint(eqs_list, print_ascii=print_ascii)"
   ]
  },
  {
   "cell_type": "markdown",
   "metadata": {},
   "source": [
    "# Wave equation\n",
    "\n",
    "From Maxwell's equations in a dielectric medium it can be shown that in the abscence of bound charges, and magnetization currents, the electric field and the polazation of the medium follow the inhomogeneous wave equation.\n",
    "\n",
    "\\begin{equation}\n",
    "    \\nabla^2 \\vec{E} - \\frac{1}{c^2} \\partial^2_t \\vec{E}= \\mu_0 \\partial_t^2 \\vec{P}\n",
    "\\end{equation}\n",
    "\n",
    "We have also taken our fields to be of the form\n",
    "\n",
    "\\begin{equation}\n",
    "    \\vec{E}(t,\\vec{R})=\\vec{E}^{+}+\\vec{E}^{-}=\\frac{1}{2} \\sum_l \\vec{E}^{l(+)}(t,\\vec{R}) e^{i(\\vec{k}^l \\cdot \\vec{R} -\\omega^l t)} +c.c.\n",
    "\\end{equation}\n",
    "\n",
    "The $(+)$ part of the field is explicitly"
   ]
  },
  {
   "cell_type": "code",
   "execution_count": 62,
   "metadata": {
    "collapsed": false
   },
   "outputs": [],
   "source": [
    "# E_cartesian_p"
   ]
  },
  {
   "cell_type": "markdown",
   "metadata": {},
   "source": [
    "introducing this into the wave equation we get"
   ]
  },
  {
   "cell_type": "code",
   "execution_count": 63,
   "metadata": {
    "collapsed": true
   },
   "outputs": [],
   "source": [
    "def laplacian_cylindric(scalar,coords,full=False):\n",
    "    R,Phi,Z=coords\n",
    "    return Derivative(scalar,Z,2).doit()\n",
    "\n",
    "def laplacian_vec_cylindric(vector,coords,full=False):\n",
    "    return Matrix([ laplacian_cylindric(vi,coords,full=full) for vi in vector])"
   ]
  },
  {
   "cell_type": "code",
   "execution_count": 64,
   "metadata": {
    "collapsed": false
   },
   "outputs": [],
   "source": [
    "E_cartesian_p_tot=sum([E_cartesian_p[l] for l in range(Nl)], zero_vect)\n",
    "# E_cartesian_p_tot"
   ]
  },
  {
   "cell_type": "code",
   "execution_count": 65,
   "metadata": {
    "collapsed": false
   },
   "outputs": [],
   "source": [
    "term1=laplacian_vec_cylindric(E_cartesian_p_tot,[R,Phi,Z]) \n",
    "term2=-1/c**2*Matrix([Derivative(vi,t,2).doit() for vi in E_cartesian_p_tot])\n",
    "lhs=term1+term2\n",
    "# pprint(lhs,num_columns=150)"
   ]
  },
  {
   "cell_type": "markdown",
   "metadata": {},
   "source": [
    "And if we consider the amplitudes as slowly varying envelopes (both in time and space) we can approximate them as"
   ]
  },
  {
   "cell_type": "code",
   "execution_count": 66,
   "metadata": {
    "collapsed": false
   },
   "outputs": [],
   "source": [
    "svea_subs={Derivative(E0[0],Z,2):0,Derivative(E0[1],Z,2):0,\n",
    "           Derivative(E0[0],t,2):0,Derivative(E0[1],t,2):0}\n",
    "# svea_subs"
   ]
  },
  {
   "cell_type": "code",
   "execution_count": 67,
   "metadata": {
    "collapsed": false
   },
   "outputs": [],
   "source": [
    "lhs=lhs.subs(svea_subs)\n",
    "lhs.simplify()\n",
    "# lhs"
   ]
  },
  {
   "cell_type": "markdown",
   "metadata": {},
   "source": [
    "On the other hand, we may approximate the macroscopic polarization of the atoms as varying only at the frequencies of the electric field components and at the same polarizations:\n",
    "\n",
    "\\begin{equation}\n",
    "    \\vec{P}=\\frac{1}{2}\\sum_l \\vec{P}^{l(+)} e^{i(\\vec{k}^l \\cdot \\vec{R} -\\omega^l t)} +c.c.\n",
    "\\end{equation}\n"
   ]
  },
  {
   "cell_type": "code",
   "execution_count": 68,
   "metadata": {
    "collapsed": false
   },
   "outputs": [],
   "source": [
    "P0=[Function(\"P_0^1\")(t,Z), Function(\"P_0^2\")(t,Z)]\n",
    "# P0"
   ]
  },
  {
   "cell_type": "code",
   "execution_count": 69,
   "metadata": {
    "collapsed": false
   },
   "outputs": [],
   "source": [
    "P_cartesian_p=[P0[l]/2            *ep[l]*exp(-I*omega_laser[l]*(t-k[l].dot(RR)/c)) for l in range(Nl)]\n",
    "P_cartesian_m=[P0[l].conjugate()/2*em[l]*exp(I*omega_laser[l]*(t-k[l].dot(RR)/c)) for l in range(Nl)]\n",
    "\n",
    "P_cartesian_p_tot=sum(P_cartesian_p, zero_vect)\n",
    "\n",
    "# P_cartesian_p"
   ]
  },
  {
   "cell_type": "markdown",
   "metadata": {},
   "source": [
    "The right-hand side of the wave equation"
   ]
  },
  {
   "cell_type": "code",
   "execution_count": 70,
   "metadata": {
    "collapsed": false
   },
   "outputs": [],
   "source": [
    "rhs=mu0*Matrix([Derivative(vi,t,2).doit() for vi in P_cartesian_p_tot])\n",
    "# pprint(rhs)"
   ]
  },
  {
   "cell_type": "markdown",
   "metadata": {},
   "source": [
    "And in another slowly varying approximation, the terms with $(\\omega^1)^2$ are much larger than those with derivatives of the amplitudes."
   ]
  },
  {
   "cell_type": "code",
   "execution_count": 71,
   "metadata": {
    "collapsed": false
   },
   "outputs": [],
   "source": [
    "svea_subs2={Derivative(P0[0],t,1):0, Derivative(P0[1],t,1):0,\n",
    "            Derivative(P0[0],t,2):0, Derivative(P0[1],t,2):0}\n",
    "# svea_subs2"
   ]
  },
  {
   "cell_type": "code",
   "execution_count": 72,
   "metadata": {
    "collapsed": false
   },
   "outputs": [],
   "source": [
    "rhs=rhs.subs(svea_subs2)\n",
    "# rhs"
   ]
  },
  {
   "cell_type": "code",
   "execution_count": 73,
   "metadata": {
    "collapsed": false
   },
   "outputs": [],
   "source": [
    "eqs_wave=lhs-rhs\n",
    "# eqs_wave"
   ]
  },
  {
   "cell_type": "markdown",
   "metadata": {},
   "source": [
    "These are three scalar equations each of which has coupled terms varying at high frequencies $\\omega^l$. However, these frequencies can be decoupled if the polarization of the beams are orthogonal (as they are in our case). Taking a dot product with the polarizations we obtain one equation for each frequency component."
   ]
  },
  {
   "cell_type": "code",
   "execution_count": 74,
   "metadata": {
    "collapsed": false
   },
   "outputs": [
    {
     "data": {
      "image/png": "[encoded data removed]",
      "text/latex": [
       "$$\\left ( c \\frac{\\partial}{\\partial Z} \\operatorname{E^{1}_{0}}{\\left (t,Z \\right )} + \\frac{\\partial}{\\partial t} \\operatorname{E^{1}_{0}}{\\left (t,Z \\right )}, \\quad \\frac{i \\mu_{0}}{2} c^{2} \\varpi_{1} \\operatorname{P^{1}_{0}}{\\left (t,Z \\right )}\\right )$$"
      ],
      "text/plain": [
       "⎛                                    2                    ⎞\n",
       "⎜  ∂               ∂              ⅈ⋅c ⋅μ₀⋅varpi₁⋅P¹₀(t, Z)⎟\n",
       "⎜c⋅──(E¹₀(t, Z)) + ──(E¹₀(t, Z)), ────────────────────────⎟\n",
       "⎝  ∂Z              ∂t                        2            ⎠"
      ]
     },
     "execution_count": 74,
     "metadata": {},
     "output_type": "execute_result"
    }
   ],
   "source": [
    "fact1=2*c**2*exp(I*omega_laser[0]*(t-Z/c))/(2*I*omega_laser[0])\n",
    "lhs1=(fact1*ep[0].conjugate().dot(lhs)).expand()\n",
    "rhs1=(fact1*ep[0].conjugate().dot(rhs)).expand()\n",
    "\n",
    "lhs1,rhs1"
   ]
  },
  {
   "cell_type": "code",
   "execution_count": 75,
   "metadata": {
    "collapsed": false
   },
   "outputs": [],
   "source": [
    "fact2=2*c**2*exp(I*omega_laser[1]*(t+Z/c))/(2*I*omega_laser[1])\n",
    "lhs2=(fact2*ep[1].conjugate().dot(lhs)).expand()\n",
    "rhs2=(fact2*ep[1].conjugate().dot(rhs)).expand()\n",
    "\n",
    "# lhs2,rhs2"
   ]
  },
  {
   "cell_type": "markdown",
   "metadata": {},
   "source": [
    "We take the spacial derivatives to the right-hand side. Just because we can."
   ]
  },
  {
   "cell_type": "code",
   "execution_count": 76,
   "metadata": {
    "collapsed": true
   },
   "outputs": [],
   "source": [
    "lhs1=lhs1-c*Derivative(E0[0],Z)\n",
    "rhs1=rhs1-c*Derivative(E0[0],Z)\n",
    "\n",
    "lhs2=lhs2+c*Derivative(E0[1],Z)\n",
    "rhs2=rhs2+c*Derivative(E0[1],Z)"
   ]
  },
  {
   "cell_type": "markdown",
   "metadata": {},
   "source": [
    "We put these equations in terms of Rabi frequencies."
   ]
  },
  {
   "cell_type": "code",
   "execution_count": 77,
   "metadata": {
    "collapsed": false
   },
   "outputs": [],
   "source": [
    "Om1 = Function(\"Omega1\")(t, Z)\n",
    "Om2 = Function(\"Omega2\")(t, Z)\n",
    "{E0[0]:Om131*hbar/r[2][2,0]/e}\n",
    "fact1=e*r[2][2,0]/hbar\n",
    "# fact1, lhs1, (fact1*lhs1.subs({E0[0]:Om1*hbar/r[2][2,0]/e}).doit()).expand()"
   ]
  },
  {
   "cell_type": "code",
   "execution_count": 78,
   "metadata": {
    "collapsed": false
   },
   "outputs": [],
   "source": [
    "fact1=e*r[2][2,0]/hbar\n",
    "# lhs1=(fact1*lhs1.subs({E0[0]:Om1*hbar/r[2][2,0]/e}).doit()).expand()\n",
    "# rhs1=(fact1*rhs1.subs({E0[0]:Om1*hbar/r[2][2,0]/e}).doit()).expand()\n",
    "\n",
    "# Matrix([lhs1,eqsign,rhs1]).transpose()"
   ]
  },
  {
   "cell_type": "code",
   "execution_count": 79,
   "metadata": {
    "collapsed": false
   },
   "outputs": [],
   "source": [
    "fact2=e*r[0][6,5]/hbar\n",
    "# lhs2=(fact2*lhs2.subs({E0[1]:Om2*hbar/r[0][6,5]/e}).doit()).expand()\n",
    "# rhs2=(fact2*rhs2.subs({E0[1]:Om2*hbar/r[0][6,5]/e}).doit()).expand()\n",
    "\n",
    "# Matrix([lhs2,eqsign,rhs2]).transpose()"
   ]
  },
  {
   "cell_type": "markdown",
   "metadata": {},
   "source": [
    "We may relate the macroscopic polarization to the density matrix if we identify the quantum mechanics operator that corresponds to the polarization. Since the polarization is nothing but the density of dipole moment, we can see that\n",
    "\n",
    "\\begin{equation}\n",
    "    \\vec{P}=-n \\mathrm{Tr}(e \\vec{\\hat{r}} \\hat{\\rho})\n",
    "\\end{equation}\n",
    "\n",
    "notice that the minus sign comes from the fact that $\\vec{\\hat{r}}$ points in the direction of the electron relative to the proton, while the electric dipole moment points in the opposite direction. If we further make the asumption that each frequency component $l$ of the polarization is only driven by the transition $|i\\rangle \\leftrightarrow |j\\rangle$ if $l\\in L_{ij}$, then we may decompose $\\vec{\\hat{r}}$ into $l$ components as.\n",
    "\n",
    "\\begin{equation}\n",
    "    \\vec{\\hat{r}} = \\sum_l \\vec{\\hat{r}}^{l(+)} + \\vec{\\hat{r}}^{l(+)}\n",
    "\\end{equation}\n",
    "\n",
    "Explicitly:"
   ]
  },
  {
   "cell_type": "code",
   "execution_count": 80,
   "metadata": {
    "collapsed": false
   },
   "outputs": [],
   "source": [
    "r_p_component=[ [ Matrix([ [ r_p[p][i,j] if l+1 in Lij[i][j] else 0\n",
    "                            for j in range(Ne)  ] for i in range(Ne)])\n",
    "                 for p in range(3)] for l in range(Nl)]\n",
    "\n",
    "r_m_component=[ [ Matrix([ [ r_m[p][i,j] if l+1 in Lij[i][j] else 0\n",
    "                            for j in range(Ne)  ] for i in range(Ne)])\n",
    "                 for p in range(3)] for l in range(Nl)]"
   ]
  },
  {
   "cell_type": "code",
   "execution_count": 81,
   "metadata": {
    "collapsed": false
   },
   "outputs": [],
   "source": [
    "rpl1=r_p_component[0]\n",
    "rpl2=r_p_component[1]"
   ]
  },
  {
   "cell_type": "code",
   "execution_count": 82,
   "metadata": {
    "collapsed": false
   },
   "outputs": [
    {
     "data": {
      "image/png": "[encoded data removed]",
      "text/latex": [
       "$$n{\\left (R,Z \\right )}$$"
      ],
      "text/plain": [
       "n(R, Z)"
      ]
     },
     "execution_count": 82,
     "metadata": {},
     "output_type": "execute_result"
    }
   ],
   "source": [
    "n=Function(\"n\")(R,Z)\n",
    "n"
   ]
  },
  {
   "cell_type": "code",
   "execution_count": 83,
   "metadata": {
    "collapsed": false
   },
   "outputs": [],
   "source": [
    "vh=Matrix(symbols(\"r_-,r0,r_+\",real=True))\n",
    "# vh,helicity_to_cartesian(vh)"
   ]
  },
  {
   "cell_type": "code",
   "execution_count": 84,
   "metadata": {
    "collapsed": false
   },
   "outputs": [],
   "source": [
    "rpl1_cartesian=[(rpl1[0]-rpl1[2])/sqrt(2),(rpl1[0]+rpl1[2])*I/sqrt(2),rpl1[1]]\n",
    "# rpl1_cartesian"
   ]
  },
  {
   "cell_type": "code",
   "execution_count": 85,
   "metadata": {
    "collapsed": false
   },
   "outputs": [],
   "source": [
    "rpl2_cartesian=[(rpl2[0]-rpl2[2])/sqrt(2),(rpl2[0]+rpl2[2])*I/sqrt(2),rpl2[1]]\n",
    "# rpl2_cartesian"
   ]
  },
  {
   "cell_type": "markdown",
   "metadata": {},
   "source": [
    "The following factor of 2 comes from the fact that $P^{l(+)}/2 = -e n Tr(\\vec{\\hat{r}}^{l(+)}\\hat{\\rho})$"
   ]
  },
  {
   "cell_type": "code",
   "execution_count": 86,
   "metadata": {
    "collapsed": false
   },
   "outputs": [],
   "source": [
    "Ppl1_v=-2*n*e*Matrix([ (rpl1_cartesian[i]*rho).trace() for i in range(3)])\n",
    "Ppl2_v=-2*n*e*Matrix([ (rpl2_cartesian[i]*rho).trace() for i in range(3)])\n",
    "\n",
    "# Ppl1, Ppl2"
   ]
  },
  {
   "cell_type": "markdown",
   "metadata": {},
   "source": [
    "Taking the dot product with the polarizations we get the polarization amplitudes in terms of density matrix elements."
   ]
  },
  {
   "cell_type": "code",
   "execution_count": 87,
   "metadata": {
    "collapsed": false
   },
   "outputs": [
    {
     "data": {
      "image/png": "[encoded data removed]",
      "text/latex": [
       "$$- 2 e \\left(r_{+1;3,1} \\rho_{3,1}{\\left (t,Z,v_{Z} \\right )} + r_{+1;4,1} \\rho_{4,1}{\\left (t,Z,v_{Z} \\right )} + r_{+1;4,2} \\rho_{4,2}{\\left (t,Z,v_{Z} \\right )} + r_{+1;5,1} \\rho_{5,1}{\\left (t,Z,v_{Z} \\right )} + r_{+1;5,2} \\rho_{5,2}{\\left (t,Z,v_{Z} \\right )} + r_{+1;6,2} \\rho_{6,2}{\\left (t,Z,v_{Z} \\right )}\\right) n{\\left (R,Z \\right )}$$"
      ],
      "text/plain": [
       "-2⋅e⋅(r_{+1;3,1}⋅\\rho_{3,1}(t, Z, v_Z) + r_{+1;4,1}⋅\\rho_{4,1}(t, Z, v_Z) + r_\n",
       "{+1;4,2}⋅\\rho_{4,2}(t, Z, v_Z) + r_{+1;5,1}⋅\\rho_{5,1}(t, Z, v_Z) + r_{+1;5,2}\n",
       "⋅\\rho_{5,2}(t, Z, v_Z) + r_{+1;6,2}⋅\\rho_{6,2}(t, Z, v_Z))⋅n(R, Z)"
      ]
     },
     "execution_count": 87,
     "metadata": {},
     "output_type": "execute_result"
    }
   ],
   "source": [
    "Ppl1=ep[0].conjugate().dot(Ppl1_v).expand()\n",
    "Ppl2=ep[1].conjugate().dot(Ppl2_v).expand()\n",
    "\n",
    "Ppl1.factor()"
   ]
  },
  {
   "cell_type": "code",
   "execution_count": null,
   "metadata": {
    "collapsed": true
   },
   "outputs": [],
   "source": []
  },
  {
   "cell_type": "code",
   "execution_count": 88,
   "metadata": {
    "collapsed": false
   },
   "outputs": [],
   "source": [
    "rhs1=rhs1.subs({P0[0]:Ppl1})\n",
    "rhs2=rhs2.subs({P0[1]:Ppl2})"
   ]
  },
  {
   "cell_type": "code",
   "execution_count": 89,
   "metadata": {
    "collapsed": false
   },
   "outputs": [
    {
     "data": {
      "image/png": "[encoded data removed]",
      "text/latex": [
       "$$\\frac{i \\mu_{0}}{2} c^{2} \\varpi_{1} \\left(- 2 e r_{+1;3,1} \\rho_{3,1}{\\left (t,Z,v_{Z} \\right )} n{\\left (R,Z \\right )} - 2 e r_{+1;4,1} \\rho_{4,1}{\\left (t,Z,v_{Z} \\right )} n{\\left (R,Z \\right )} - 2 e r_{+1;4,2} \\rho_{4,2}{\\left (t,Z,v_{Z} \\right )} n{\\left (R,Z \\right )} - 2 e r_{+1;5,1} \\rho_{5,1}{\\left (t,Z,v_{Z} \\right )} n{\\left (R,Z \\right )} - 2 e r_{+1;5,2} \\rho_{5,2}{\\left (t,Z,v_{Z} \\right )} n{\\left (R,Z \\right )} - 2 e r_{+1;6,2} \\rho_{6,2}{\\left (t,Z,v_{Z} \\right )} n{\\left (R,Z \\right )}\\right) - c \\frac{\\partial}{\\partial Z} \\operatorname{E^{1}_{0}}{\\left (t,Z \\right )}$$"
      ],
      "text/plain": [
       "   2                                                                          \n",
       "ⅈ⋅c ⋅μ₀⋅varpi₁⋅(-2⋅e⋅r_{+1;3,1}⋅\\rho_{3,1}(t, Z, v_Z)⋅n(R, Z) - 2⋅e⋅r_{+1;4,1}\n",
       "──────────────────────────────────────────────────────────────────────────────\n",
       "                                                                              \n",
       "\n",
       "                                                                              \n",
       "⋅\\rho_{4,1}(t, Z, v_Z)⋅n(R, Z) - 2⋅e⋅r_{+1;4,2}⋅\\rho_{4,2}(t, Z, v_Z)⋅n(R, Z) \n",
       "──────────────────────────────────────────────────────────────────────────────\n",
       "                                                                      2       \n",
       "\n",
       "                                                                              \n",
       "- 2⋅e⋅r_{+1;5,1}⋅\\rho_{5,1}(t, Z, v_Z)⋅n(R, Z) - 2⋅e⋅r_{+1;5,2}⋅\\rho_{5,2}(t, \n",
       "──────────────────────────────────────────────────────────────────────────────\n",
       "                                                                              \n",
       "\n",
       "                                                                              \n",
       "Z, v_Z)⋅n(R, Z) - 2⋅e⋅r_{+1;6,2}⋅\\rho_{6,2}(t, Z, v_Z)⋅n(R, Z))     ∂         \n",
       "─────────────────────────────────────────────────────────────── - c⋅──(E¹₀(t, \n",
       "                                                                    ∂Z        \n",
       "\n",
       "   \n",
       "   \n",
       "Z))\n",
       "   "
      ]
     },
     "execution_count": 89,
     "metadata": {},
     "output_type": "execute_result"
    }
   ],
   "source": [
    "wave_eq1 = rhs1\n",
    "rhs1"
   ]
  },
  {
   "cell_type": "markdown",
   "metadata": {
    "collapsed": true
   },
   "source": [
    "# Maxwell-Bloch equations\n",
    "\n",
    "And we add these equations to the Bloch equations"
   ]
  },
  {
   "cell_type": "code",
   "execution_count": 90,
   "metadata": {
    "collapsed": false
   },
   "outputs": [],
   "source": [
    "eqsign=symbols(\"=\")\n",
    "eqs_list=[]\n",
    "for mu in range(0,Ne**2-1 -(Ne**2 - Ne)/2+1):\n",
    "    ii,jj,s=IJ(mu,Ne)\n",
    "    i=ii-1; j=jj-1\n",
    "    eqs_list+=[[Derivative(rho[i,j],t),eqsign,eqs[i,j]]]\n",
    "\n",
    "eqs_list += [[lhs1, eqsign, rhs1]]\n",
    "eqs_list += [[lhs2, eqsign, rhs2]]\n",
    "\n",
    "eqs_list=Matrix(eqs_list)\n",
    "#fprint(eqs_list, print_ascii=print_ascii)"
   ]
  },
  {
   "cell_type": "markdown",
   "metadata": {},
   "source": [
    "Question: how to use calculations from detunings as a replacement for calculations for velocity classes."
   ]
  },
  {
   "cell_type": "markdown",
   "metadata": {},
   "source": [
    "# Linear approximation\n",
    "\n",
    "We can linearize this equations by approximating all the population to be in $\\rho_{11}$, and taking field $\\Omega_1$ to be weak, and the coherences to be small. We will add an $\\epsilon$ to all terms involving either coherences or signal field."
   ]
  },
  {
   "cell_type": "code",
   "execution_count": 91,
   "metadata": {
    "collapsed": false
   },
   "outputs": [],
   "source": [
    "epsilon=symbols(\"varepsilon\", real=True)\n",
    "lin_subs1={rho[i, i]: 0 for i in range(Ne) if hyperfine_states[i].l != 0}\n",
    "lin_subs1.update({rho[0, 0]: 0, rho[1, 1]: 1})"
   ]
  },
  {
   "cell_type": "code",
   "execution_count": 92,
   "metadata": {
    "collapsed": false
   },
   "outputs": [],
   "source": [
    "lin_subs2 = {}\n",
    "for i in range(Ne):\n",
    "    for j in range(i):\n",
    "        lin_subs2.update({rho[i, j]: epsilon*rho[i, j]})\n",
    "        lin_subs2.update({rho[j, i]: epsilon*rho[j, i]})\n",
    "        \n",
    "lin_subs2.update({E0[0]: epsilon*E0[0]})\n",
    "# lin_subs2"
   ]
  },
  {
   "cell_type": "code",
   "execution_count": 93,
   "metadata": {
    "collapsed": false
   },
   "outputs": [],
   "source": [
    "lin_subs = {}\n",
    "lin_subs.update(lin_subs1)\n",
    "lin_subs.update(lin_subs2)\n"
   ]
  },
  {
   "cell_type": "code",
   "execution_count": 94,
   "metadata": {
    "collapsed": false
   },
   "outputs": [],
   "source": [
    "hyp_bound, mag_bound = calculate_boundaries(fine_states, magnetic_states)"
   ]
  },
  {
   "cell_type": "code",
   "execution_count": 95,
   "metadata": {
    "collapsed": false
   },
   "outputs": [
    {
     "data": {
      "image/png": "[encoded data removed]",
      "text/latex": [
       "$$\\left [ \\left ( 0, \\quad 16\\right ), \\quad \\left ( 16, \\quad 48\\right ), \\quad \\left ( 48, \\quad 96\\right )\\right ]$$"
      ],
      "text/plain": [
       "[(0, 16), (16, 48), (48, 96)]"
      ]
     },
     "execution_count": 95,
     "metadata": {},
     "output_type": "execute_result"
    }
   ],
   "source": [
    "hyp_bound"
   ]
  },
  {
   "cell_type": "code",
   "execution_count": 96,
   "metadata": {
    "collapsed": false
   },
   "outputs": [],
   "source": [
    "rho21 = rho[2: 6, 0:2]\n",
    "rho31 = rho[6:Ne , 0: 2]\n",
    "rho32 = rho[6:Ne ,2: 6]\n",
    "# rho21"
   ]
  },
  {
   "cell_type": "code",
   "execution_count": 97,
   "metadata": {
    "collapsed": false
   },
   "outputs": [],
   "source": [
    "lims21 = [[2, 6], [0,2]]\n",
    "lims31 = [[6, Ne], [0,2]]\n",
    "lims32 = [[6, Ne], [2,6]]\n",
    "\n",
    "rho21 = rho[lims21[0][0]: lims21[0][1], lims21[1][0]: lims21[1][1]]\n",
    "rho31 = rho[lims31[0][0]: lims31[0][1], lims31[1][0]: lims31[1][1]]\n",
    "rho32 = rho[lims32[0][0]: lims32[0][1], lims32[1][0]: lims32[1][1]]\n",
    "\n",
    "# rho32"
   ]
  },
  {
   "cell_type": "code",
   "execution_count": 98,
   "metadata": {
    "collapsed": false
   },
   "outputs": [],
   "source": [
    "# We make a vector of components of the density matrix rho21, rho31, and E1\n",
    "rhov = sum([[rho[j, i] for j in range(i+1, Ne) if ((rho[j, i] in rho21)or(rho[j, i] in rho31))] for i in range(Ne)], [])\n",
    "xx = rhov + [E0[0]]\n",
    "Nxx = len(xx)"
   ]
  },
  {
   "cell_type": "code",
   "execution_count": 99,
   "metadata": {
    "collapsed": true
   },
   "outputs": [],
   "source": [
    "# We make a similar vector with the non linear right hand sides.\n",
    "eqs_mem = sum([[eqs[j, i] for j in range(i+1, Ne) if ((rho[j, i] in rho21)or(rho[j, i] in rho31))] for i in range(Ne)], [])\n",
    "eqs_mem += [wave_eq1.subs({E0[0]:0}).doit()]"
   ]
  },
  {
   "cell_type": "code",
   "execution_count": 100,
   "metadata": {
    "collapsed": false
   },
   "outputs": [
    {
     "data": {
      "image/png": "[encoded data removed]",
      "text/latex": [
       "$$\\left[\\begin{array}{ccccccccccccccccccccc}- \\frac{\\gamma_{3,1}}{2} + i \\delta_{1} + i \\omega_{1} - i \\omega_{2} & 0 & 0 & 0 & 0 & 0 & 0 & - \\frac{i e r_{-1;10,3}}{2 \\hbar} \\overline{\\operatorname{E^{2}_{0}}{\\left (t,Z \\right )}} & - \\frac{i e r_{-1;11,3}}{2 \\hbar} \\overline{\\operatorname{E^{2}_{0}}{\\left (t,Z \\right )}} & - \\frac{i e r_{-1;12,3}}{2 \\hbar} \\overline{\\operatorname{E^{2}_{0}}{\\left (t,Z \\right )}} & 0 & 0 & 0 & 0 & 0 & 0 & 0 & 0 & 0 & 0 & 0\\\\0 & - \\frac{\\gamma_{4,1}}{2} - \\frac{\\gamma_{4,2}}{2} + i \\delta_{1} + i \\omega_{1} - i \\omega_{2} + i \\omega_{3} - i \\omega_{4} & 0 & 0 & 0 & 0 & - \\frac{i e r_{-1;9,4}}{2 \\hbar} \\overline{\\operatorname{E^{2}_{0}}{\\left (t,Z \\right )}} & - \\frac{i e r_{-1;10,4}}{2 \\hbar} \\overline{\\operatorname{E^{2}_{0}}{\\left (t,Z \\right )}} & - \\frac{i e r_{-1;11,4}}{2 \\hbar} \\overline{\\operatorname{E^{2}_{0}}{\\left (t,Z \\right )}} & 0 & 0 & 0 & 0 & 0 & 0 & 0 & 0 & 0 & 0 & 0 & 0\\\\0 & 0 & - \\frac{\\gamma_{5,1}}{2} - \\frac{\\gamma_{5,2}}{2} + i \\delta_{1} + i \\omega_{1} - i \\omega_{2} + i \\omega_{3} - i \\omega_{5} & 0 & 0 & - \\frac{i e r_{-1;8,5}}{2 \\hbar} \\overline{\\operatorname{E^{2}_{0}}{\\left (t,Z \\right )}} & - \\frac{i e r_{-1;9,5}}{2 \\hbar} \\overline{\\operatorname{E^{2}_{0}}{\\left (t,Z \\right )}} & - \\frac{i e r_{-1;10,5}}{2 \\hbar} \\overline{\\operatorname{E^{2}_{0}}{\\left (t,Z \\right )}} & 0 & 0 & 0 & 0 & 0 & 0 & 0 & 0 & 0 & 0 & 0 & 0 & 0\\\\0 & 0 & 0 & - \\frac{\\gamma_{6,2}}{2} + i \\delta_{1} + i \\omega_{1} - i \\omega_{2} + i \\omega_{3} - i \\omega_{6} & - \\frac{i e r_{-1;7,6}}{2 \\hbar} \\overline{\\operatorname{E^{2}_{0}}{\\left (t,Z \\right )}} & - \\frac{i e r_{-1;8,6}}{2 \\hbar} \\overline{\\operatorname{E^{2}_{0}}{\\left (t,Z \\right )}} & - \\frac{i e r_{-1;9,6}}{2 \\hbar} \\overline{\\operatorname{E^{2}_{0}}{\\left (t,Z \\right )}} & 0 & 0 & 0 & 0 & 0 & 0 & 0 & 0 & 0 & 0 & 0 & 0 & 0 & 0\\\\0 & 0 & 0 & - \\frac{i e r_{-1;7,6}}{2 \\hbar} \\operatorname{E^{2}_{0}}{\\left (t,Z \\right )} & - \\frac{\\gamma_{7,6}}{2} + i \\delta_{1} + i \\delta_{2} + i \\omega_{1} - i \\omega_{2} + i \\omega_{3} - i \\omega_{6} & 0 & 0 & 0 & 0 & 0 & 0 & 0 & 0 & 0 & 0 & 0 & 0 & 0 & 0 & 0 & 0\\\\0 & 0 & - \\frac{i e r_{-1;8,5}}{2 \\hbar} \\operatorname{E^{2}_{0}}{\\left (t,Z \\right )} & - \\frac{i e r_{-1;8,6}}{2 \\hbar} \\operatorname{E^{2}_{0}}{\\left (t,Z \\right )} & 0 & - \\frac{\\gamma_{8,5}}{2} - \\frac{\\gamma_{8,6}}{2} + i \\delta_{1} + i \\delta_{2} + i \\omega_{1} - i \\omega_{2} + i \\omega_{3} - i \\omega_{6} + i \\omega_{7} - i \\omega_{8} & 0 & 0 & 0 & 0 & 0 & 0 & 0 & 0 & 0 & 0 & 0 & 0 & 0 & 0 & 0\\\\0 & - \\frac{i e r_{-1;9,4}}{2 \\hbar} \\operatorname{E^{2}_{0}}{\\left (t,Z \\right )} & - \\frac{i e r_{-1;9,5}}{2 \\hbar} \\operatorname{E^{2}_{0}}{\\left (t,Z \\right )} & - \\frac{i e r_{-1;9,6}}{2 \\hbar} \\operatorname{E^{2}_{0}}{\\left (t,Z \\right )} & 0 & 0 & - \\frac{\\gamma_{9,4}}{2} - \\frac{\\gamma_{9,5}}{2} - \\frac{\\gamma_{9,6}}{2} + i \\delta_{1} + i \\delta_{2} + i \\omega_{1} - i \\omega_{2} + i \\omega_{3} - i \\omega_{6} + i \\omega_{7} - i \\omega_{9} & 0 & 0 & 0 & 0 & 0 & 0 & 0 & 0 & 0 & 0 & 0 & 0 & 0 & 0\\\\- \\frac{i e r_{-1;10,3}}{2 \\hbar} \\operatorname{E^{2}_{0}}{\\left (t,Z \\right )} & - \\frac{i e r_{-1;10,4}}{2 \\hbar} \\operatorname{E^{2}_{0}}{\\left (t,Z \\right )} & - \\frac{i e r_{-1;10,5}}{2 \\hbar} \\operatorname{E^{2}_{0}}{\\left (t,Z \\right )} & 0 & 0 & 0 & 0 & - \\frac{\\gamma_{10,3}}{2} - \\frac{\\gamma_{10,4}}{2} - \\frac{\\gamma_{10,5}}{2} + i \\delta_{1} + i \\delta_{2} + i \\omega_{1} - i \\omega_{10} - i \\omega_{2} + i \\omega_{3} - i \\omega_{6} + i \\omega_{7} & 0 & 0 & 0 & 0 & 0 & 0 & 0 & 0 & 0 & 0 & 0 & 0 & 0\\\\- \\frac{i e r_{-1;11,3}}{2 \\hbar} \\operatorname{E^{2}_{0}}{\\left (t,Z \\right )} & - \\frac{i e r_{-1;11,4}}{2 \\hbar} \\operatorname{E^{2}_{0}}{\\left (t,Z \\right )} & 0 & 0 & 0 & 0 & 0 & 0 & - \\frac{\\gamma_{11,3}}{2} - \\frac{\\gamma_{11,4}}{2} + i \\delta_{1} + i \\delta_{2} + i \\omega_{1} - i \\omega_{11} - i \\omega_{2} + i \\omega_{3} - i \\omega_{6} + i \\omega_{7} & 0 & 0 & 0 & 0 & 0 & 0 & 0 & 0 & 0 & 0 & 0 & 0\\\\- \\frac{i e r_{-1;12,3}}{2 \\hbar} \\operatorname{E^{2}_{0}}{\\left (t,Z \\right )} & 0 & 0 & 0 & 0 & 0 & 0 & 0 & 0 & - \\frac{\\gamma_{12,3}}{2} + i \\delta_{1} + i \\delta_{2} + i \\omega_{1} - i \\omega_{12} - i \\omega_{2} + i \\omega_{3} - i \\omega_{6} + i \\omega_{7} & 0 & 0 & 0 & 0 & 0 & 0 & 0 & 0 & 0 & 0 & 0\\\\0 & 0 & 0 & 0 & 0 & 0 & 0 & 0 & 0 & 0 & - \\frac{\\gamma_{3,1}}{2} + i \\delta_{1} & 0 & 0 & 0 & 0 & 0 & 0 & - \\frac{i e r_{-1;10,3}}{2 \\hbar} \\overline{\\operatorname{E^{2}_{0}}{\\left (t,Z \\right )}} & - \\frac{i e r_{-1;11,3}}{2 \\hbar} \\overline{\\operatorname{E^{2}_{0}}{\\left (t,Z \\right )}} & - \\frac{i e r_{-1;12,3}}{2 \\hbar} \\overline{\\operatorname{E^{2}_{0}}{\\left (t,Z \\right )}} & 0\\\\0 & 0 & 0 & 0 & 0 & 0 & 0 & 0 & 0 & 0 & 0 & - \\frac{\\gamma_{4,1}}{2} - \\frac{\\gamma_{4,2}}{2} + i \\delta_{1} + i \\omega_{3} - i \\omega_{4} & 0 & 0 & 0 & 0 & - \\frac{i e r_{-1;9,4}}{2 \\hbar} \\overline{\\operatorname{E^{2}_{0}}{\\left (t,Z \\right )}} & - \\frac{i e r_{-1;10,4}}{2 \\hbar} \\overline{\\operatorname{E^{2}_{0}}{\\left (t,Z \\right )}} & - \\frac{i e r_{-1;11,4}}{2 \\hbar} \\overline{\\operatorname{E^{2}_{0}}{\\left (t,Z \\right )}} & 0 & - \\frac{i e r_{+1;4,2}}{2 \\hbar}\\\\0 & 0 & 0 & 0 & 0 & 0 & 0 & 0 & 0 & 0 & 0 & 0 & - \\frac{\\gamma_{5,1}}{2} - \\frac{\\gamma_{5,2}}{2} + i \\delta_{1} + i \\omega_{3} - i \\omega_{5} & 0 & 0 & - \\frac{i e r_{-1;8,5}}{2 \\hbar} \\overline{\\operatorname{E^{2}_{0}}{\\left (t,Z \\right )}} & - \\frac{i e r_{-1;9,5}}{2 \\hbar} \\overline{\\operatorname{E^{2}_{0}}{\\left (t,Z \\right )}} & - \\frac{i e r_{-1;10,5}}{2 \\hbar} \\overline{\\operatorname{E^{2}_{0}}{\\left (t,Z \\right )}} & 0 & 0 & - \\frac{i e r_{+1;5,2}}{2 \\hbar}\\\\0 & 0 & 0 & 0 & 0 & 0 & 0 & 0 & 0 & 0 & 0 & 0 & 0 & - \\frac{\\gamma_{6,2}}{2} + i \\delta_{1} + i \\omega_{3} - i \\omega_{6} & - \\frac{i e r_{-1;7,6}}{2 \\hbar} \\overline{\\operatorname{E^{2}_{0}}{\\left (t,Z \\right )}} & - \\frac{i e r_{-1;8,6}}{2 \\hbar} \\overline{\\operatorname{E^{2}_{0}}{\\left (t,Z \\right )}} & - \\frac{i e r_{-1;9,6}}{2 \\hbar} \\overline{\\operatorname{E^{2}_{0}}{\\left (t,Z \\right )}} & 0 & 0 & 0 & - \\frac{i e r_{+1;6,2}}{2 \\hbar}\\\\0 & 0 & 0 & 0 & 0 & 0 & 0 & 0 & 0 & 0 & 0 & 0 & 0 & - \\frac{i e r_{-1;7,6}}{2 \\hbar} \\operatorname{E^{2}_{0}}{\\left (t,Z \\right )} & - \\frac{\\gamma_{7,6}}{2} + i \\delta_{1} + i \\delta_{2} + i \\omega_{3} - i \\omega_{6} & 0 & 0 & 0 & 0 & 0 & 0\\\\0 & 0 & 0 & 0 & 0 & 0 & 0 & 0 & 0 & 0 & 0 & 0 & - \\frac{i e r_{-1;8,5}}{2 \\hbar} \\operatorname{E^{2}_{0}}{\\left (t,Z \\right )} & - \\frac{i e r_{-1;8,6}}{2 \\hbar} \\operatorname{E^{2}_{0}}{\\left (t,Z \\right )} & 0 & - \\frac{\\gamma_{8,5}}{2} - \\frac{\\gamma_{8,6}}{2} + i \\delta_{1} + i \\delta_{2} + i \\omega_{3} - i \\omega_{6} + i \\omega_{7} - i \\omega_{8} & 0 & 0 & 0 & 0 & 0\\\\0 & 0 & 0 & 0 & 0 & 0 & 0 & 0 & 0 & 0 & 0 & - \\frac{i e r_{-1;9,4}}{2 \\hbar} \\operatorname{E^{2}_{0}}{\\left (t,Z \\right )} & - \\frac{i e r_{-1;9,5}}{2 \\hbar} \\operatorname{E^{2}_{0}}{\\left (t,Z \\right )} & - \\frac{i e r_{-1;9,6}}{2 \\hbar} \\operatorname{E^{2}_{0}}{\\left (t,Z \\right )} & 0 & 0 & - \\frac{\\gamma_{9,4}}{2} - \\frac{\\gamma_{9,5}}{2} - \\frac{\\gamma_{9,6}}{2} + i \\delta_{1} + i \\delta_{2} + i \\omega_{3} - i \\omega_{6} + i \\omega_{7} - i \\omega_{9} & 0 & 0 & 0 & 0\\\\0 & 0 & 0 & 0 & 0 & 0 & 0 & 0 & 0 & 0 & - \\frac{i e r_{-1;10,3}}{2 \\hbar} \\operatorname{E^{2}_{0}}{\\left (t,Z \\right )} & - \\frac{i e r_{-1;10,4}}{2 \\hbar} \\operatorname{E^{2}_{0}}{\\left (t,Z \\right )} & - \\frac{i e r_{-1;10,5}}{2 \\hbar} \\operatorname{E^{2}_{0}}{\\left (t,Z \\right )} & 0 & 0 & 0 & 0 & - \\frac{\\gamma_{10,3}}{2} - \\frac{\\gamma_{10,4}}{2} - \\frac{\\gamma_{10,5}}{2} + i \\delta_{1} + i \\delta_{2} - i \\omega_{10} + i \\omega_{3} - i \\omega_{6} + i \\omega_{7} & 0 & 0 & 0\\\\0 & 0 & 0 & 0 & 0 & 0 & 0 & 0 & 0 & 0 & - \\frac{i e r_{-1;11,3}}{2 \\hbar} \\operatorname{E^{2}_{0}}{\\left (t,Z \\right )} & - \\frac{i e r_{-1;11,4}}{2 \\hbar} \\operatorname{E^{2}_{0}}{\\left (t,Z \\right )} & 0 & 0 & 0 & 0 & 0 & 0 & - \\frac{\\gamma_{11,3}}{2} - \\frac{\\gamma_{11,4}}{2} + i \\delta_{1} + i \\delta_{2} - i \\omega_{11} + i \\omega_{3} - i \\omega_{6} + i \\omega_{7} & 0 & 0\\\\0 & 0 & 0 & 0 & 0 & 0 & 0 & 0 & 0 & 0 & - \\frac{i e r_{-1;12,3}}{2 \\hbar} \\operatorname{E^{2}_{0}}{\\left (t,Z \\right )} & 0 & 0 & 0 & 0 & 0 & 0 & 0 & 0 & - \\frac{\\gamma_{12,3}}{2} + i \\delta_{1} + i \\delta_{2} - i \\omega_{12} + i \\omega_{3} - i \\omega_{6} + i \\omega_{7} & 0\\\\- i c^{2} e \\mu_{0} r_{+1;3,1} \\varpi_{1} n{\\left (R,Z \\right )} & - i c^{2} e \\mu_{0} r_{+1;4,1} \\varpi_{1} n{\\left (R,Z \\right )} & - i c^{2} e \\mu_{0} r_{+1;5,1} \\varpi_{1} n{\\left (R,Z \\right )} & 0 & 0 & 0 & 0 & 0 & 0 & 0 & 0 & - i c^{2} e \\mu_{0} r_{+1;4,2} \\varpi_{1} n{\\left (R,Z \\right )} & - i c^{2} e \\mu_{0} r_{+1;5,2} \\varpi_{1} n{\\left (R,Z \\right )} & - i c^{2} e \\mu_{0} r_{+1;6,2} \\varpi_{1} n{\\left (R,Z \\right )} & 0 & 0 & 0 & 0 & 0 & 0 & 0\\end{array}\\right]$$"
      ],
      "text/plain": [
       "⎡                                                                             \n",
       "⎢  \\gamma_{3,1}                                                               \n",
       "⎢- ──────────── + ⅈ⋅δ₁ + ⅈ⋅ω₁ - ⅈ⋅ω₂                                  0       \n",
       "⎢       2                                                                     \n",
       "⎢                                                                             \n",
       "⎢                                                                             \n",
       "⎢                                        \\gamma_{4,1}   \\gamma_{4,2}          \n",
       "⎢                 0                    - ──────────── - ──────────── + ⅈ⋅δ₁ + \n",
       "⎢                                             2              2                \n",
       "⎢                                                                             \n",
       "⎢                                                                             \n",
       "⎢                                                                             \n",
       "⎢                 0                                                   0       \n",
       "⎢                                                                             \n",
       "⎢                                                                             \n",
       "⎢                                                                             \n",
       "⎢                                                                             \n",
       "⎢                 0                                                   0       \n",
       "⎢                                                                             \n",
       "⎢                                                                             \n",
       "⎢                                                                             \n",
       "⎢                 0                                                   0       \n",
       "⎢                                                                             \n",
       "⎢                                                                             \n",
       "⎢                                                                             \n",
       "⎢                 0                                                   0       \n",
       "⎢                                                                             \n",
       "⎢                                                                             \n",
       "⎢                                                         -ⅈ⋅e⋅r_{-1;9,4}⋅E²₀(\n",
       "⎢                 0                                       ────────────────────\n",
       "⎢                                                                    2⋅h̅     \n",
       "⎢                                                                             \n",
       "⎢    -ⅈ⋅e⋅r_{-1;10,3}⋅E²₀(t, Z)                          -ⅈ⋅e⋅r_{-1;10,4}⋅E²₀(\n",
       "⎢    ───────────────────────────                         ─────────────────────\n",
       "⎢                2⋅h̅                                                2⋅h̅     \n",
       "⎢                                                                             \n",
       "⎢    -ⅈ⋅e⋅r_{-1;11,3}⋅E²₀(t, Z)                          -ⅈ⋅e⋅r_{-1;11,4}⋅E²₀(\n",
       "⎢    ───────────────────────────                         ─────────────────────\n",
       "⎢                2⋅h̅                                                2⋅h̅     \n",
       "⎢                                                                             \n",
       "⎢    -ⅈ⋅e⋅r_{-1;12,3}⋅E²₀(t, Z)                                               \n",
       "⎢    ───────────────────────────                                      0       \n",
       "⎢                2⋅h̅                                                         \n",
       "⎢                                                                             \n",
       "⎢                                                                             \n",
       "⎢                                                                             \n",
       "⎢                 0                                                   0       \n",
       "⎢                                                                             \n",
       "⎢                                                                             \n",
       "⎢                                                                             \n",
       "⎢                                                                             \n",
       "⎢                 0                                                   0       \n",
       "⎢                                                                             \n",
       "⎢                                                                             \n",
       "⎢                                                                             \n",
       "⎢                                                                             \n",
       "⎢                 0                                                   0       \n",
       "⎢                                                                             \n",
       "⎢                                                                             \n",
       "⎢                                                                             \n",
       "⎢                                                                             \n",
       "⎢                 0                                                   0       \n",
       "⎢                                                                             \n",
       "⎢                                                                             \n",
       "⎢                                                                             \n",
       "⎢                 0                                                   0       \n",
       "⎢                                                                             \n",
       "⎢                                                                             \n",
       "⎢                                                                             \n",
       "⎢                 0                                                   0       \n",
       "⎢                                                                             \n",
       "⎢                                                                             \n",
       "⎢                                                                             \n",
       "⎢                 0                                                   0       \n",
       "⎢                                                                             \n",
       "⎢                                                                             \n",
       "⎢                                                                             \n",
       "⎢                 0                                                   0       \n",
       "⎢                                                                             \n",
       "⎢                                                                             \n",
       "⎢                                                                             \n",
       "⎢                 0                                                   0       \n",
       "⎢                                                                             \n",
       "⎢                                                                             \n",
       "⎢                                                                             \n",
       "⎢                 0                                                   0       \n",
       "⎢                                                                             \n",
       "⎢                                                                             \n",
       "⎢    2                                                   2                    \n",
       "⎣-ⅈ⋅c ⋅e⋅μ₀⋅r_{+1;3,1}⋅varpi₁⋅n(R, Z)                -ⅈ⋅c ⋅e⋅μ₀⋅r_{+1;4,1}⋅var\n",
       "\n",
       "                                                                              \n",
       "                                                                              \n",
       "                                                          0                   \n",
       "                                                                              \n",
       "                                                                              \n",
       "                                                                              \n",
       "                                                                              \n",
       "ⅈ⋅ω₁ - ⅈ⋅ω₂ + ⅈ⋅ω₃ - ⅈ⋅ω₄                                 0                   \n",
       "                                                                              \n",
       "                                                                              \n",
       "                                                                              \n",
       "                             \\gamma_{5,1}   \\gamma_{5,2}                      \n",
       "                           - ──────────── - ──────────── + ⅈ⋅δ₁ + ⅈ⋅ω₁ - ⅈ⋅ω₂ \n",
       "                                  2              2                            \n",
       "                                                                              \n",
       "                                                                              \n",
       "                                                                              \n",
       "                                                          0                   \n",
       "                                                                              \n",
       "                                                                              \n",
       "                                                                              \n",
       "                                                          0                   \n",
       "                                                                              \n",
       "                                                                              \n",
       "                                              -ⅈ⋅e⋅r_{-1;8,5}⋅E²₀(t, Z)       \n",
       "                                              ──────────────────────────      \n",
       "                                                         2⋅h̅                 \n",
       "                                                                              \n",
       "t, Z)                                         -ⅈ⋅e⋅r_{-1;9,5}⋅E²₀(t, Z)       \n",
       "──────                                        ──────────────────────────      \n",
       "                                                         2⋅h̅                 \n",
       "                                                                              \n",
       "t, Z)                                        -ⅈ⋅e⋅r_{-1;10,5}⋅E²₀(t, Z)       \n",
       "──────                                       ───────────────────────────      \n",
       "                                                         2⋅h̅                 \n",
       "                                                                              \n",
       "t, Z)                                                                         \n",
       "──────                                                    0                   \n",
       "                                                                              \n",
       "                                                                              \n",
       "                                                                              \n",
       "                                                          0                   \n",
       "                                                                              \n",
       "                                                                              \n",
       "                                                                              \n",
       "                                                                              \n",
       "                                                          0                   \n",
       "                                                                              \n",
       "                                                                              \n",
       "                                                                              \n",
       "                                                                              \n",
       "                                                          0                   \n",
       "                                                                              \n",
       "                                                                              \n",
       "                                                                              \n",
       "                                                                              \n",
       "                                                          0                   \n",
       "                                                                              \n",
       "                                                                              \n",
       "                                                                              \n",
       "                                                                              \n",
       "                                                          0                   \n",
       "                                                                              \n",
       "                                                                              \n",
       "                                                                              \n",
       "                                                          0                   \n",
       "                                                                              \n",
       "                                                                              \n",
       "                                                                              \n",
       "                                                          0                   \n",
       "                                                                              \n",
       "                                                                              \n",
       "                                                                              \n",
       "                                                          0                   \n",
       "                                                                              \n",
       "                                                                              \n",
       "                                                                              \n",
       "                                                          0                   \n",
       "                                                                              \n",
       "                                                                              \n",
       "                                                                              \n",
       "                                                          0                   \n",
       "                                                                              \n",
       "                                                                              \n",
       "                                                                              \n",
       "                                                          0                   \n",
       "                                                                              \n",
       "                                                                              \n",
       "                                             2                                \n",
       "pi₁⋅n(R, Z)                              -ⅈ⋅c ⋅e⋅μ₀⋅r_{+1;5,1}⋅varpi₁⋅n(R, Z) \n",
       "\n",
       "                                                                              \n",
       "                                                                              \n",
       "                                       0                                      \n",
       "                                                                              \n",
       "                                                                              \n",
       "                                                                              \n",
       "                                                                              \n",
       "                                       0                                      \n",
       "                                                                              \n",
       "                                                                              \n",
       "                                                                              \n",
       "                                                                              \n",
       "+ ⅈ⋅ω₃ - ⅈ⋅ω₅                          0                                      \n",
       "                                                                              \n",
       "                                                                              \n",
       "                                                                              \n",
       "                 \\gamma_{6,2}                                                 \n",
       "               - ──────────── + ⅈ⋅δ₁ + ⅈ⋅ω₁ - ⅈ⋅ω₂ + ⅈ⋅ω₃ - ⅈ⋅ω₆              \n",
       "                      2                                                       \n",
       "                                                                              \n",
       "                          -ⅈ⋅e⋅r_{-1;7,6}⋅E²₀(t, Z)                 \\gamma_{7,\n",
       "                          ──────────────────────────              - ──────────\n",
       "                                     2⋅h̅                                2    \n",
       "                                                                              \n",
       "                          -ⅈ⋅e⋅r_{-1;8,6}⋅E²₀(t, Z)                           \n",
       "                          ──────────────────────────                          \n",
       "                                     2⋅h̅                                     \n",
       "                                                                              \n",
       "                          -ⅈ⋅e⋅r_{-1;9,6}⋅E²₀(t, Z)                           \n",
       "                          ──────────────────────────                          \n",
       "                                     2⋅h̅                                     \n",
       "                                                                              \n",
       "                                                                              \n",
       "                                       0                                      \n",
       "                                                                              \n",
       "                                                                              \n",
       "                                                                              \n",
       "                                       0                                      \n",
       "                                                                              \n",
       "                                                                              \n",
       "                                                                              \n",
       "                                       0                                      \n",
       "                                                                              \n",
       "                                                                              \n",
       "                                                                              \n",
       "                                                                              \n",
       "                                       0                                      \n",
       "                                                                              \n",
       "                                                                              \n",
       "                                                                              \n",
       "                                                                              \n",
       "                                       0                                      \n",
       "                                                                              \n",
       "                                                                              \n",
       "                                                                              \n",
       "                                                                              \n",
       "                                       0                                      \n",
       "                                                                              \n",
       "                                                                              \n",
       "                                                                              \n",
       "                                                                              \n",
       "                                       0                                      \n",
       "                                                                              \n",
       "                                                                              \n",
       "                                                                              \n",
       "                                       0                                      \n",
       "                                                                              \n",
       "                                                                              \n",
       "                                                                              \n",
       "                                       0                                      \n",
       "                                                                              \n",
       "                                                                              \n",
       "                                                                              \n",
       "                                       0                                      \n",
       "                                                                              \n",
       "                                                                              \n",
       "                                                                              \n",
       "                                       0                                      \n",
       "                                                                              \n",
       "                                                                              \n",
       "                                                                              \n",
       "                                       0                                      \n",
       "                                                                              \n",
       "                                                                              \n",
       "                                                                              \n",
       "                                       0                                      \n",
       "                                                                              \n",
       "                                                                              \n",
       "                                                                              \n",
       "                                       0                                      \n",
       "\n",
       "                                                                              \n",
       "                                                                              \n",
       "               0                                                              \n",
       "                                                                              \n",
       "                                                                              \n",
       "                                                                              \n",
       "                                                                              \n",
       "               0                                                              \n",
       "                                                                              \n",
       "                                                                              \n",
       "                                                                              \n",
       "                                                                           -ⅈ⋅\n",
       "               0                                                           ───\n",
       "                                                                              \n",
       "                                                                              \n",
       "                   _________                                                  \n",
       "   -ⅈ⋅e⋅r_{-1;7,6}⋅E²₀(t, Z)                                               -ⅈ⋅\n",
       "   ──────────────────────────                                              ───\n",
       "              2⋅h̅                                                            \n",
       "                                                                              \n",
       "6}                                                                            \n",
       "── + ⅈ⋅δ₁ + ⅈ⋅δ₂ + ⅈ⋅ω₁ - ⅈ⋅ω₂ + ⅈ⋅ω₃ - ⅈ⋅ω₆                                  \n",
       "                                                                              \n",
       "                                                                              \n",
       "                                                \\gamma_{8,5}   \\gamma_{8,6}   \n",
       "               0                              - ──────────── - ──────────── + \n",
       "                                                     2              2         \n",
       "                                                                              \n",
       "                                                                              \n",
       "               0                                                              \n",
       "                                                                              \n",
       "                                                                              \n",
       "                                                                              \n",
       "               0                                                              \n",
       "                                                                              \n",
       "                                                                              \n",
       "                                                                              \n",
       "               0                                                              \n",
       "                                                                              \n",
       "                                                                              \n",
       "                                                                              \n",
       "               0                                                              \n",
       "                                                                              \n",
       "                                                                              \n",
       "                                                                              \n",
       "                                                                              \n",
       "               0                                                              \n",
       "                                                                              \n",
       "                                                                              \n",
       "                                                                              \n",
       "                                                                              \n",
       "               0                                                              \n",
       "                                                                              \n",
       "                                                                              \n",
       "                                                                              \n",
       "                                                                              \n",
       "               0                                                              \n",
       "                                                                              \n",
       "                                                                              \n",
       "                                                                              \n",
       "                                                                              \n",
       "               0                                                              \n",
       "                                                                              \n",
       "                                                                              \n",
       "                                                                              \n",
       "               0                                                              \n",
       "                                                                              \n",
       "                                                                              \n",
       "                                                                              \n",
       "               0                                                              \n",
       "                                                                              \n",
       "                                                                              \n",
       "                                                                              \n",
       "               0                                                              \n",
       "                                                                              \n",
       "                                                                              \n",
       "                                                                              \n",
       "               0                                                              \n",
       "                                                                              \n",
       "                                                                              \n",
       "                                                                              \n",
       "               0                                                              \n",
       "                                                                              \n",
       "                                                                              \n",
       "                                                                              \n",
       "               0                                                              \n",
       "                                                                              \n",
       "                                                                              \n",
       "                                                                              \n",
       "               0                                                              \n",
       "\n",
       "                                                                              \n",
       "                                                                              \n",
       "          0                                                                   \n",
       "                                                                              \n",
       "                                                                              \n",
       "                                                                              \n",
       "                                                                              \n",
       "          0                                                                   \n",
       "                                                                              \n",
       "                                                                              \n",
       "             _________                                                        \n",
       "e⋅r_{-1;8,5}⋅E²₀(t, Z)                                                        \n",
       "───────────────────────                                                       \n",
       "        2⋅h̅                                                                  \n",
       "                                                                              \n",
       "             _________                                                        \n",
       "e⋅r_{-1;8,6}⋅E²₀(t, Z)                                                        \n",
       "───────────────────────                                                       \n",
       "        2⋅h̅                                                                  \n",
       "                                                                              \n",
       "                                                                              \n",
       "          0                                                                   \n",
       "                                                                              \n",
       "                                                                              \n",
       "                                                                              \n",
       "ⅈ⋅δ₁ + ⅈ⋅δ₂ + ⅈ⋅ω₁ - ⅈ⋅ω₂ + ⅈ⋅ω₃ - ⅈ⋅ω₆ + ⅈ⋅ω₇ - ⅈ⋅ω₈                         \n",
       "                                                                              \n",
       "                                                                              \n",
       "                                                         \\gamma_{9,4}   \\gamma\n",
       "          0                                            - ──────────── - ──────\n",
       "                                                              2              2\n",
       "                                                                              \n",
       "                                                                              \n",
       "          0                                                                   \n",
       "                                                                              \n",
       "                                                                              \n",
       "                                                                              \n",
       "          0                                                                   \n",
       "                                                                              \n",
       "                                                                              \n",
       "                                                                              \n",
       "          0                                                                   \n",
       "                                                                              \n",
       "                                                                              \n",
       "                                                                              \n",
       "                                                                              \n",
       "          0                                                                   \n",
       "                                                                              \n",
       "                                                                              \n",
       "                                                                              \n",
       "                                                                              \n",
       "          0                                                                   \n",
       "                                                                              \n",
       "                                                                              \n",
       "                                                                              \n",
       "                                                                              \n",
       "          0                                                                   \n",
       "                                                                              \n",
       "                                                                              \n",
       "                                                                              \n",
       "                                                                              \n",
       "          0                                                                   \n",
       "                                                                              \n",
       "                                                                              \n",
       "                                                                              \n",
       "          0                                                                   \n",
       "                                                                              \n",
       "                                                                              \n",
       "                                                                              \n",
       "          0                                                                   \n",
       "                                                                              \n",
       "                                                                              \n",
       "                                                                              \n",
       "          0                                                                   \n",
       "                                                                              \n",
       "                                                                              \n",
       "                                                                              \n",
       "          0                                                                   \n",
       "                                                                              \n",
       "                                                                              \n",
       "                                                                              \n",
       "          0                                                                   \n",
       "                                                                              \n",
       "                                                                              \n",
       "                                                                              \n",
       "          0                                                                   \n",
       "                                                                              \n",
       "                                                                              \n",
       "                                                                              \n",
       "          0                                                                   \n",
       "\n",
       "                                                                              \n",
       "                                                                              \n",
       "                          0                                                   \n",
       "                                                                              \n",
       "                                                                              \n",
       "                              _________                                       \n",
       "              -ⅈ⋅e⋅r_{-1;9,4}⋅E²₀(t, Z)                                       \n",
       "              ──────────────────────────                                      \n",
       "                         2⋅h̅                                                 \n",
       "                                                                              \n",
       "                              _________                                       \n",
       "              -ⅈ⋅e⋅r_{-1;9,5}⋅E²₀(t, Z)                                       \n",
       "              ──────────────────────────                                      \n",
       "                         2⋅h̅                                                 \n",
       "                                                                              \n",
       "                              _________                                       \n",
       "              -ⅈ⋅e⋅r_{-1;9,6}⋅E²₀(t, Z)                                       \n",
       "              ──────────────────────────                                      \n",
       "                         2⋅h̅                                                 \n",
       "                                                                              \n",
       "                                                                              \n",
       "                          0                                                   \n",
       "                                                                              \n",
       "                                                                              \n",
       "                                                                              \n",
       "                          0                                                   \n",
       "                                                                              \n",
       "                                                                              \n",
       "_{9,5}   \\gamma_{9,6}                                                         \n",
       "────── - ──────────── + ⅈ⋅δ₁ + ⅈ⋅δ₂ + ⅈ⋅ω₁ - ⅈ⋅ω₂ + ⅈ⋅ω₃ - ⅈ⋅ω₆ + ⅈ⋅ω₇ - ⅈ⋅ω₉ \n",
       "              2                                                               \n",
       "                                                                              \n",
       "                                                                              \n",
       "                          0                                                   \n",
       "                                                                              \n",
       "                                                                              \n",
       "                                                                              \n",
       "                          0                                                   \n",
       "                                                                              \n",
       "                                                                              \n",
       "                                                                              \n",
       "                          0                                                   \n",
       "                                                                              \n",
       "                                                                              \n",
       "                                                                              \n",
       "                                                                              \n",
       "                          0                                                   \n",
       "                                                                              \n",
       "                                                                              \n",
       "                                                                              \n",
       "                                                                              \n",
       "                          0                                                   \n",
       "                                                                              \n",
       "                                                                              \n",
       "                                                                              \n",
       "                                                                              \n",
       "                          0                                                   \n",
       "                                                                              \n",
       "                                                                              \n",
       "                                                                              \n",
       "                                                                              \n",
       "                          0                                                   \n",
       "                                                                              \n",
       "                                                                              \n",
       "                                                                              \n",
       "                          0                                                   \n",
       "                                                                              \n",
       "                                                                              \n",
       "                                                                              \n",
       "                          0                                                   \n",
       "                                                                              \n",
       "                                                                              \n",
       "                                                                              \n",
       "                          0                                                   \n",
       "                                                                              \n",
       "                                                                              \n",
       "                                                                              \n",
       "                          0                                                   \n",
       "                                                                              \n",
       "                                                                              \n",
       "                                                                              \n",
       "                          0                                                   \n",
       "                                                                              \n",
       "                                                                              \n",
       "                                                                              \n",
       "                          0                                                   \n",
       "                                                                              \n",
       "                                                                              \n",
       "                                                                              \n",
       "                          0                                                   \n",
       "\n",
       "                                                        _________             \n",
       "                                       -ⅈ⋅e⋅r_{-1;10,3}⋅E²₀(t, Z)             \n",
       "                                       ───────────────────────────            \n",
       "                                                   2⋅h̅                       \n",
       "                                                                              \n",
       "                                                        _________             \n",
       "                                       -ⅈ⋅e⋅r_{-1;10,4}⋅E²₀(t, Z)             \n",
       "                                       ───────────────────────────            \n",
       "                                                   2⋅h̅                       \n",
       "                                                                              \n",
       "                                                        _________             \n",
       "                                       -ⅈ⋅e⋅r_{-1;10,5}⋅E²₀(t, Z)             \n",
       "                                       ───────────────────────────            \n",
       "                                                   2⋅h̅                       \n",
       "                                                                              \n",
       "                                                                              \n",
       "                                                                              \n",
       "                                                    0                         \n",
       "                                                                              \n",
       "                                                                              \n",
       "                                                                              \n",
       "                                                    0                         \n",
       "                                                                              \n",
       "                                                                              \n",
       "                                                                              \n",
       "                                                    0                         \n",
       "                                                                              \n",
       "                                                                              \n",
       "                                                                              \n",
       "                                                    0                         \n",
       "                                                                              \n",
       "                                                                              \n",
       "   \\gamma_{10,3}   \\gamma_{10,4}   \\gamma_{10,5}                              \n",
       " - ───────────── - ───────────── - ───────────── + ⅈ⋅δ₁ + ⅈ⋅δ₂ + ⅈ⋅ω₁ - ⅈ⋅ω₁₀ \n",
       "         2               2               2                                    \n",
       "                                                                              \n",
       "                                                                              \n",
       "                                                    0                         \n",
       "                                                                              \n",
       "                                                                              \n",
       "                                                                              \n",
       "                                                    0                         \n",
       "                                                                              \n",
       "                                                                              \n",
       "                                                                              \n",
       "                                                                              \n",
       "                                                    0                         \n",
       "                                                                              \n",
       "                                                                              \n",
       "                                                                              \n",
       "                                                                              \n",
       "                                                    0                         \n",
       "                                                                              \n",
       "                                                                              \n",
       "                                                                              \n",
       "                                                                              \n",
       "                                                    0                         \n",
       "                                                                              \n",
       "                                                                              \n",
       "                                                                              \n",
       "                                                                              \n",
       "                                                    0                         \n",
       "                                                                              \n",
       "                                                                              \n",
       "                                                                              \n",
       "                                                    0                         \n",
       "                                                                              \n",
       "                                                                              \n",
       "                                                                              \n",
       "                                                    0                         \n",
       "                                                                              \n",
       "                                                                              \n",
       "                                                                              \n",
       "                                                    0                         \n",
       "                                                                              \n",
       "                                                                              \n",
       "                                                                              \n",
       "                                                    0                         \n",
       "                                                                              \n",
       "                                                                              \n",
       "                                                                              \n",
       "                                                    0                         \n",
       "                                                                              \n",
       "                                                                              \n",
       "                                                                              \n",
       "                                                    0                         \n",
       "                                                                              \n",
       "                                                                              \n",
       "                                                                              \n",
       "                                                    0                         \n",
       "\n",
       "                                                                            __\n",
       "                                                           -ⅈ⋅e⋅r_{-1;11,3}⋅E²\n",
       "                                                           ───────────────────\n",
       "                                                                       2⋅h̅   \n",
       "                                                                              \n",
       "                                                                            __\n",
       "                                                           -ⅈ⋅e⋅r_{-1;11,4}⋅E²\n",
       "                                                           ───────────────────\n",
       "                                                                       2⋅h̅   \n",
       "                                                                              \n",
       "                                                                              \n",
       "                                                                              \n",
       "                                                                        0     \n",
       "                                                                              \n",
       "                                                                              \n",
       "                                                                              \n",
       "                                                                              \n",
       "                                                                        0     \n",
       "                                                                              \n",
       "                                                                              \n",
       "                                                                              \n",
       "                                                                        0     \n",
       "                                                                              \n",
       "                                                                              \n",
       "                                                                              \n",
       "                                                                        0     \n",
       "                                                                              \n",
       "                                                                              \n",
       "                                                                              \n",
       "                                                                        0     \n",
       "                                                                              \n",
       "                                                                              \n",
       "                                                                              \n",
       "- ⅈ⋅ω₂ + ⅈ⋅ω₃ - ⅈ⋅ω₆ + ⅈ⋅ω₇                                             0     \n",
       "                                                                              \n",
       "                                                                              \n",
       "                               \\gamma_{11,3}   \\gamma_{11,4}                  \n",
       "                             - ───────────── - ───────────── + ⅈ⋅δ₁ + ⅈ⋅δ₂ + ⅈ\n",
       "                                     2               2                        \n",
       "                                                                              \n",
       "                                                                              \n",
       "                                                                        0     \n",
       "                                                                              \n",
       "                                                                              \n",
       "                                                                              \n",
       "                                                                              \n",
       "                                                                        0     \n",
       "                                                                              \n",
       "                                                                              \n",
       "                                                                              \n",
       "                                                                              \n",
       "                                                                        0     \n",
       "                                                                              \n",
       "                                                                              \n",
       "                                                                              \n",
       "                                                                              \n",
       "                                                                        0     \n",
       "                                                                              \n",
       "                                                                              \n",
       "                                                                              \n",
       "                                                                              \n",
       "                                                                        0     \n",
       "                                                                              \n",
       "                                                                              \n",
       "                                                                              \n",
       "                                                                        0     \n",
       "                                                                              \n",
       "                                                                              \n",
       "                                                                              \n",
       "                                                                        0     \n",
       "                                                                              \n",
       "                                                                              \n",
       "                                                                              \n",
       "                                                                        0     \n",
       "                                                                              \n",
       "                                                                              \n",
       "                                                                              \n",
       "                                                                        0     \n",
       "                                                                              \n",
       "                                                                              \n",
       "                                                                              \n",
       "                                                                        0     \n",
       "                                                                              \n",
       "                                                                              \n",
       "                                                                              \n",
       "                                                                        0     \n",
       "                                                                              \n",
       "                                                                              \n",
       "                                                                              \n",
       "                                                                        0     \n",
       "\n",
       "_______                                                                       \n",
       "₀(t, Z)                                                        -ⅈ⋅e⋅r_{-1;12,3\n",
       "────────                                                       ───────────────\n",
       "                                                                           2⋅h\n",
       "                                                                              \n",
       "_______                                                                       \n",
       "₀(t, Z)                                                                       \n",
       "────────                                                                    0 \n",
       "                                                                              \n",
       "                                                                              \n",
       "                                                                              \n",
       "                                                                              \n",
       "                                                                            0 \n",
       "                                                                              \n",
       "                                                                              \n",
       "                                                                              \n",
       "                                                                              \n",
       "                                                                            0 \n",
       "                                                                              \n",
       "                                                                              \n",
       "                                                                              \n",
       "                                                                            0 \n",
       "                                                                              \n",
       "                                                                              \n",
       "                                                                              \n",
       "                                                                            0 \n",
       "                                                                              \n",
       "                                                                              \n",
       "                                                                              \n",
       "                                                                            0 \n",
       "                                                                              \n",
       "                                                                              \n",
       "                                                                              \n",
       "                                                                            0 \n",
       "                                                                              \n",
       "                                                                              \n",
       "                                                                              \n",
       "⋅ω₁ - ⅈ⋅ω₁₁ - ⅈ⋅ω₂ + ⅈ⋅ω₃ - ⅈ⋅ω₆ + ⅈ⋅ω₇                                     0 \n",
       "                                                                              \n",
       "                                                                              \n",
       "                                           \\gamma_{12,3}                      \n",
       "                                         - ───────────── + ⅈ⋅δ₁ + ⅈ⋅δ₂ + ⅈ⋅ω₁ \n",
       "                                                 2                            \n",
       "                                                                              \n",
       "                                                                              \n",
       "                                                                              \n",
       "                                                                            0 \n",
       "                                                                              \n",
       "                                                                              \n",
       "                                                                              \n",
       "                                                                              \n",
       "                                                                            0 \n",
       "                                                                              \n",
       "                                                                              \n",
       "                                                                              \n",
       "                                                                              \n",
       "                                                                            0 \n",
       "                                                                              \n",
       "                                                                              \n",
       "                                                                              \n",
       "                                                                              \n",
       "                                                                            0 \n",
       "                                                                              \n",
       "                                                                              \n",
       "                                                                              \n",
       "                                                                            0 \n",
       "                                                                              \n",
       "                                                                              \n",
       "                                                                              \n",
       "                                                                            0 \n",
       "                                                                              \n",
       "                                                                              \n",
       "                                                                              \n",
       "                                                                            0 \n",
       "                                                                              \n",
       "                                                                              \n",
       "                                                                              \n",
       "                                                                            0 \n",
       "                                                                              \n",
       "                                                                              \n",
       "                                                                              \n",
       "                                                                            0 \n",
       "                                                                              \n",
       "                                                                              \n",
       "                                                                              \n",
       "                                                                            0 \n",
       "                                                                              \n",
       "                                                                              \n",
       "                                                                              \n",
       "                                                                            0 \n",
       "\n",
       "  _________                                                                   \n",
       "}⋅E²₀(t, Z)                                                                   \n",
       "────────────                                      0                           \n",
       "̅                                                                             \n",
       "                                                                              \n",
       "                                                                              \n",
       "                                                                              \n",
       "                                                  0                           \n",
       "                                                                              \n",
       "                                                                              \n",
       "                                                                              \n",
       "                                                                              \n",
       "                                                  0                           \n",
       "                                                                              \n",
       "                                                                              \n",
       "                                                                              \n",
       "                                                                              \n",
       "                                                  0                           \n",
       "                                                                              \n",
       "                                                                              \n",
       "                                                                              \n",
       "                                                  0                           \n",
       "                                                                              \n",
       "                                                                              \n",
       "                                                                              \n",
       "                                                  0                           \n",
       "                                                                              \n",
       "                                                                              \n",
       "                                                                              \n",
       "                                                  0                           \n",
       "                                                                              \n",
       "                                                                              \n",
       "                                                                              \n",
       "                                                  0                           \n",
       "                                                                              \n",
       "                                                                              \n",
       "                                                                              \n",
       "                                                  0                           \n",
       "                                                                              \n",
       "                                                                              \n",
       "                                                                              \n",
       "- ⅈ⋅ω₁₂ - ⅈ⋅ω₂ + ⅈ⋅ω₃ - ⅈ⋅ω₆ + ⅈ⋅ω₇               0                           \n",
       "                                                                              \n",
       "                                                                              \n",
       "                                                                              \n",
       "                                          \\gamma_{3,1}                        \n",
       "                                        - ──────────── + ⅈ⋅δ₁                 \n",
       "                                               2                              \n",
       "                                                                              \n",
       "                                                                              \n",
       "                                                                    \\gamma_{4,\n",
       "                                                  0               - ──────────\n",
       "                                                                         2    \n",
       "                                                                              \n",
       "                                                                              \n",
       "                                                                              \n",
       "                                                  0                           \n",
       "                                                                              \n",
       "                                                                              \n",
       "                                                                              \n",
       "                                                                              \n",
       "                                                  0                           \n",
       "                                                                              \n",
       "                                                                              \n",
       "                                                                              \n",
       "                                                  0                           \n",
       "                                                                              \n",
       "                                                                              \n",
       "                                                                              \n",
       "                                                  0                           \n",
       "                                                                              \n",
       "                                                                              \n",
       "                                                                              \n",
       "                                                  0                           \n",
       "                                                                              \n",
       "                                                                              \n",
       "                                     -ⅈ⋅e⋅r_{-1;10,3}⋅E²₀(t, Z)              -\n",
       "                                     ───────────────────────────             ─\n",
       "                                                 2⋅h̅                         \n",
       "                                                                              \n",
       "                                     -ⅈ⋅e⋅r_{-1;11,3}⋅E²₀(t, Z)              -\n",
       "                                     ───────────────────────────             ─\n",
       "                                                 2⋅h̅                         \n",
       "                                                                              \n",
       "                                     -ⅈ⋅e⋅r_{-1;12,3}⋅E²₀(t, Z)               \n",
       "                                     ───────────────────────────              \n",
       "                                                 2⋅h̅                         \n",
       "                                                                              \n",
       "                                                                             2\n",
       "                                                  0                      -ⅈ⋅c \n",
       "\n",
       "                                                                              \n",
       "                                                                              \n",
       "            0                                                   0             \n",
       "                                                                              \n",
       "                                                                              \n",
       "                                                                              \n",
       "                                                                              \n",
       "            0                                                   0             \n",
       "                                                                              \n",
       "                                                                              \n",
       "                                                                              \n",
       "                                                                              \n",
       "            0                                                   0             \n",
       "                                                                              \n",
       "                                                                              \n",
       "                                                                              \n",
       "                                                                              \n",
       "            0                                                   0             \n",
       "                                                                              \n",
       "                                                                              \n",
       "                                                                              \n",
       "            0                                                   0             \n",
       "                                                                              \n",
       "                                                                              \n",
       "                                                                              \n",
       "            0                                                   0             \n",
       "                                                                              \n",
       "                                                                              \n",
       "                                                                              \n",
       "            0                                                   0             \n",
       "                                                                              \n",
       "                                                                              \n",
       "                                                                              \n",
       "            0                                                   0             \n",
       "                                                                              \n",
       "                                                                              \n",
       "                                                                              \n",
       "            0                                                   0             \n",
       "                                                                              \n",
       "                                                                              \n",
       "                                                                              \n",
       "            0                                                   0             \n",
       "                                                                              \n",
       "                                                                              \n",
       "                                                                              \n",
       "                                                                              \n",
       "            0                                                   0             \n",
       "                                                                              \n",
       "                                                                              \n",
       "                                                                              \n",
       "1}   \\gamma_{4,2}                                                             \n",
       "── - ──────────── + ⅈ⋅δ₁ + ⅈ⋅ω₃ - ⅈ⋅ω₄                          0             \n",
       "          2                                                                   \n",
       "                                                                              \n",
       "                                                                              \n",
       "                                          \\gamma_{5,1}   \\gamma_{5,2}         \n",
       "            0                           - ──────────── - ──────────── + ⅈ⋅δ₁ +\n",
       "                                               2              2               \n",
       "                                                                              \n",
       "                                                                              \n",
       "                                                                              \n",
       "            0                                                   0             \n",
       "                                                                              \n",
       "                                                                              \n",
       "                                                                              \n",
       "            0                                                   0             \n",
       "                                                                              \n",
       "                                                                              \n",
       "                                                    -ⅈ⋅e⋅r_{-1;8,5}⋅E²₀(t, Z) \n",
       "            0                                       ──────────────────────────\n",
       "                                                               2⋅h̅           \n",
       "                                                                              \n",
       "-ⅈ⋅e⋅r_{-1;9,4}⋅E²₀(t, Z)                           -ⅈ⋅e⋅r_{-1;9,5}⋅E²₀(t, Z) \n",
       "──────────────────────────                          ──────────────────────────\n",
       "           2⋅h̅                                                2⋅h̅           \n",
       "                                                                              \n",
       "ⅈ⋅e⋅r_{-1;10,4}⋅E²₀(t, Z)                          -ⅈ⋅e⋅r_{-1;10,5}⋅E²₀(t, Z) \n",
       "──────────────────────────                         ───────────────────────────\n",
       "           2⋅h̅                                                2⋅h̅           \n",
       "                                                                              \n",
       "ⅈ⋅e⋅r_{-1;11,4}⋅E²₀(t, Z)                                                     \n",
       "──────────────────────────                                      0             \n",
       "           2⋅h̅                                                               \n",
       "                                                                              \n",
       "                                                                              \n",
       "            0                                                   0             \n",
       "                                                                              \n",
       "                                                                              \n",
       "                                                   2                          \n",
       "⋅e⋅μ₀⋅r_{+1;4,2}⋅varpi₁⋅n(R, Z)                -ⅈ⋅c ⋅e⋅μ₀⋅r_{+1;5,2}⋅varpi₁⋅n(\n",
       "\n",
       "                                                                              \n",
       "                                                                              \n",
       "                               0                                        0     \n",
       "                                                                              \n",
       "                                                                              \n",
       "                                                                              \n",
       "                                                                              \n",
       "                               0                                        0     \n",
       "                                                                              \n",
       "                                                                              \n",
       "                                                                              \n",
       "                                                                              \n",
       "                               0                                        0     \n",
       "                                                                              \n",
       "                                                                              \n",
       "                                                                              \n",
       "                                                                              \n",
       "                               0                                        0     \n",
       "                                                                              \n",
       "                                                                              \n",
       "                                                                              \n",
       "                               0                                        0     \n",
       "                                                                              \n",
       "                                                                              \n",
       "                                                                              \n",
       "                               0                                        0     \n",
       "                                                                              \n",
       "                                                                              \n",
       "                                                                              \n",
       "                               0                                        0     \n",
       "                                                                              \n",
       "                                                                              \n",
       "                                                                              \n",
       "                               0                                        0     \n",
       "                                                                              \n",
       "                                                                              \n",
       "                                                                              \n",
       "                               0                                        0     \n",
       "                                                                              \n",
       "                                                                              \n",
       "                                                                              \n",
       "                               0                                        0     \n",
       "                                                                              \n",
       "                                                                              \n",
       "                                                                              \n",
       "                                                                              \n",
       "                               0                                        0     \n",
       "                                                                              \n",
       "                                                                              \n",
       "                                                                              \n",
       "                                                                              \n",
       "                               0                                        0     \n",
       "                                                                              \n",
       "                                                                              \n",
       "                                                                              \n",
       "                                                                              \n",
       " ⅈ⋅ω₃ - ⅈ⋅ω₅                   0                                        0     \n",
       "                                                                              \n",
       "                                                                              \n",
       "                                                                            __\n",
       "                \\gamma_{6,2}                                -ⅈ⋅e⋅r_{-1;7,6}⋅E²\n",
       "              - ──────────── + ⅈ⋅δ₁ + ⅈ⋅ω₃ - ⅈ⋅ω₆           ──────────────────\n",
       "                     2                                                 2⋅h̅   \n",
       "                                                                              \n",
       "                   -ⅈ⋅e⋅r_{-1;7,6}⋅E²₀(t, Z)          \\gamma_{7,6}            \n",
       "                   ──────────────────────────       - ──────────── + ⅈ⋅δ₁ + ⅈ⋅\n",
       "                              2⋅h̅                         2                  \n",
       "                                                                              \n",
       "                   -ⅈ⋅e⋅r_{-1;8,6}⋅E²₀(t, Z)                                  \n",
       "                   ──────────────────────────                           0     \n",
       "                              2⋅h̅                                            \n",
       "                                                                              \n",
       "                   -ⅈ⋅e⋅r_{-1;9,6}⋅E²₀(t, Z)                                  \n",
       "                   ──────────────────────────                           0     \n",
       "                              2⋅h̅                                            \n",
       "                                                                              \n",
       "                                                                              \n",
       "                               0                                        0     \n",
       "                                                                              \n",
       "                                                                              \n",
       "                                                                              \n",
       "                               0                                        0     \n",
       "                                                                              \n",
       "                                                                              \n",
       "                                                                              \n",
       "                               0                                        0     \n",
       "                                                                              \n",
       "                                                                              \n",
       "                  2                                                           \n",
       "R, Z)         -ⅈ⋅c ⋅e⋅μ₀⋅r_{+1;6,2}⋅varpi₁⋅n(R, Z)                      0     \n",
       "\n",
       "                                                                              \n",
       "                                                                              \n",
       "                                                     0                        \n",
       "                                                                              \n",
       "                                                                              \n",
       "                                                                              \n",
       "                                                                              \n",
       "                                                     0                        \n",
       "                                                                              \n",
       "                                                                              \n",
       "                                                                              \n",
       "                                                                              \n",
       "                                                     0                        \n",
       "                                                                              \n",
       "                                                                              \n",
       "                                                                              \n",
       "                                                                              \n",
       "                                                     0                        \n",
       "                                                                              \n",
       "                                                                              \n",
       "                                                                              \n",
       "                                                     0                        \n",
       "                                                                              \n",
       "                                                                              \n",
       "                                                                              \n",
       "                                                     0                        \n",
       "                                                                              \n",
       "                                                                              \n",
       "                                                                              \n",
       "                                                     0                        \n",
       "                                                                              \n",
       "                                                                              \n",
       "                                                                              \n",
       "                                                     0                        \n",
       "                                                                              \n",
       "                                                                              \n",
       "                                                                              \n",
       "                                                     0                        \n",
       "                                                                              \n",
       "                                                                              \n",
       "                                                                              \n",
       "                                                     0                        \n",
       "                                                                              \n",
       "                                                                              \n",
       "                                                                              \n",
       "                                                                              \n",
       "                                                     0                        \n",
       "                                                                              \n",
       "                                                                              \n",
       "                                                                              \n",
       "                                                                              \n",
       "                                                     0                        \n",
       "                                                                              \n",
       "                                                                              \n",
       "                                                        _________             \n",
       "                                        -ⅈ⋅e⋅r_{-1;8,5}⋅E²₀(t, Z)             \n",
       "                                        ──────────────────────────            \n",
       "                                                   2⋅h̅                       \n",
       "                                                                              \n",
       "_______                                                 _________             \n",
       "₀(t, Z)                                 -ⅈ⋅e⋅r_{-1;8,6}⋅E²₀(t, Z)             \n",
       "────────                                ──────────────────────────            \n",
       "                                                   2⋅h̅                       \n",
       "                                                                              \n",
       "                                                                              \n",
       "δ₂ + ⅈ⋅ω₃ - ⅈ⋅ω₆                                     0                        \n",
       "                                                                              \n",
       "                                                                              \n",
       "                    \\gamma_{8,5}   \\gamma_{8,6}                               \n",
       "                  - ──────────── - ──────────── + ⅈ⋅δ₁ + ⅈ⋅δ₂ + ⅈ⋅ω₃ - ⅈ⋅ω₆ + \n",
       "                         2              2                                     \n",
       "                                                                              \n",
       "                                                                              \n",
       "                                                     0                        \n",
       "                                                                              \n",
       "                                                                              \n",
       "                                                                              \n",
       "                                                     0                        \n",
       "                                                                              \n",
       "                                                                              \n",
       "                                                                              \n",
       "                                                     0                        \n",
       "                                                                              \n",
       "                                                                              \n",
       "                                                                              \n",
       "                                                     0                        \n",
       "                                                                              \n",
       "                                                                              \n",
       "                                                                              \n",
       "                                                     0                        \n",
       "\n",
       "                                                                              \n",
       "                                                                              \n",
       "                                                       0                      \n",
       "                                                                              \n",
       "                                                                              \n",
       "                                                                              \n",
       "                                                                              \n",
       "                                                       0                      \n",
       "                                                                              \n",
       "                                                                              \n",
       "                                                                              \n",
       "                                                                              \n",
       "                                                       0                      \n",
       "                                                                              \n",
       "                                                                              \n",
       "                                                                              \n",
       "                                                                              \n",
       "                                                       0                      \n",
       "                                                                              \n",
       "                                                                              \n",
       "                                                                              \n",
       "                                                       0                      \n",
       "                                                                              \n",
       "                                                                              \n",
       "                                                                              \n",
       "                                                       0                      \n",
       "                                                                              \n",
       "                                                                              \n",
       "                                                                              \n",
       "                                                       0                      \n",
       "                                                                              \n",
       "                                                                              \n",
       "                                                                              \n",
       "                                                       0                      \n",
       "                                                                              \n",
       "                                                                              \n",
       "                                                                              \n",
       "                                                       0                      \n",
       "                                                                              \n",
       "                                                                              \n",
       "                                                                              \n",
       "                                                       0                      \n",
       "                                                                              \n",
       "                                                                              \n",
       "                                                                              \n",
       "                                                                              \n",
       "                                                       0                      \n",
       "                                                                              \n",
       "                                                                              \n",
       "                                                           _________          \n",
       "                                           -ⅈ⋅e⋅r_{-1;9,4}⋅E²₀(t, Z)          \n",
       "                                           ──────────────────────────         \n",
       "                                                      2⋅h̅                    \n",
       "                                                                              \n",
       "                                                           _________          \n",
       "                                           -ⅈ⋅e⋅r_{-1;9,5}⋅E²₀(t, Z)          \n",
       "                                           ──────────────────────────         \n",
       "                                                      2⋅h̅                    \n",
       "                                                                              \n",
       "                                                           _________          \n",
       "                                           -ⅈ⋅e⋅r_{-1;9,6}⋅E²₀(t, Z)          \n",
       "                                           ──────────────────────────         \n",
       "                                                      2⋅h̅                    \n",
       "                                                                              \n",
       "                                                                              \n",
       "                                                       0                      \n",
       "                                                                              \n",
       "                                                                              \n",
       "                                                                              \n",
       "ⅈ⋅ω₇ - ⅈ⋅ω₈                                            0                      \n",
       "                                                                              \n",
       "                                                                              \n",
       "               \\gamma_{9,4}   \\gamma_{9,5}   \\gamma_{9,6}                     \n",
       "             - ──────────── - ──────────── - ──────────── + ⅈ⋅δ₁ + ⅈ⋅δ₂ + ⅈ⋅ω₃\n",
       "                    2              2              2                           \n",
       "                                                                              \n",
       "                                                                              \n",
       "                                                       0                      \n",
       "                                                                              \n",
       "                                                                              \n",
       "                                                                              \n",
       "                                                       0                      \n",
       "                                                                              \n",
       "                                                                              \n",
       "                                                                              \n",
       "                                                       0                      \n",
       "                                                                              \n",
       "                                                                              \n",
       "                                                                              \n",
       "                                                       0                      \n",
       "\n",
       "                                                                              \n",
       "                                                                              \n",
       "                                                                   0          \n",
       "                                                                              \n",
       "                                                                              \n",
       "                                                                              \n",
       "                                                                              \n",
       "                                                                   0          \n",
       "                                                                              \n",
       "                                                                              \n",
       "                                                                              \n",
       "                                                                              \n",
       "                                                                   0          \n",
       "                                                                              \n",
       "                                                                              \n",
       "                                                                              \n",
       "                                                                              \n",
       "                                                                   0          \n",
       "                                                                              \n",
       "                                                                              \n",
       "                                                                              \n",
       "                                                                   0          \n",
       "                                                                              \n",
       "                                                                              \n",
       "                                                                              \n",
       "                                                                   0          \n",
       "                                                                              \n",
       "                                                                              \n",
       "                                                                              \n",
       "                                                                   0          \n",
       "                                                                              \n",
       "                                                                              \n",
       "                                                                              \n",
       "                                                                   0          \n",
       "                                                                              \n",
       "                                                                              \n",
       "                                                                              \n",
       "                                                                   0          \n",
       "                                                                              \n",
       "                                                                              \n",
       "                                                                              \n",
       "                                                                   0          \n",
       "                                                                              \n",
       "                                                                              \n",
       "                                                                       _______\n",
       "                                                      -ⅈ⋅e⋅r_{-1;10,3}⋅E²₀(t, \n",
       "                                                      ────────────────────────\n",
       "                                                                  2⋅h̅        \n",
       "                                                                              \n",
       "                                                                       _______\n",
       "                                                      -ⅈ⋅e⋅r_{-1;10,4}⋅E²₀(t, \n",
       "                                                      ────────────────────────\n",
       "                                                                  2⋅h̅        \n",
       "                                                                              \n",
       "                                                                       _______\n",
       "                                                      -ⅈ⋅e⋅r_{-1;10,5}⋅E²₀(t, \n",
       "                                                      ────────────────────────\n",
       "                                                                  2⋅h̅        \n",
       "                                                                              \n",
       "                                                                              \n",
       "                                                                              \n",
       "                                                                   0          \n",
       "                                                                              \n",
       "                                                                              \n",
       "                                                                              \n",
       "                                                                   0          \n",
       "                                                                              \n",
       "                                                                              \n",
       "                                                                              \n",
       "                                                                   0          \n",
       "                                                                              \n",
       "                                                                              \n",
       "                                                                              \n",
       " - ⅈ⋅ω₆ + ⅈ⋅ω₇ - ⅈ⋅ω₉                                              0          \n",
       "                                                                              \n",
       "                                                                              \n",
       "                         \\gamma_{10,3}   \\gamma_{10,4}   \\gamma_{10,5}        \n",
       "                       - ───────────── - ───────────── - ───────────── + ⅈ⋅δ₁ \n",
       "                               2               2               2              \n",
       "                                                                              \n",
       "                                                                              \n",
       "                                                                   0          \n",
       "                                                                              \n",
       "                                                                              \n",
       "                                                                              \n",
       "                                                                   0          \n",
       "                                                                              \n",
       "                                                                              \n",
       "                                                                              \n",
       "                                                                   0          \n",
       "\n",
       "                                                                              \n",
       "                                                                              \n",
       "                                                                         0    \n",
       "                                                                              \n",
       "                                                                              \n",
       "                                                                              \n",
       "                                                                              \n",
       "                                                                         0    \n",
       "                                                                              \n",
       "                                                                              \n",
       "                                                                              \n",
       "                                                                              \n",
       "                                                                         0    \n",
       "                                                                              \n",
       "                                                                              \n",
       "                                                                              \n",
       "                                                                              \n",
       "                                                                         0    \n",
       "                                                                              \n",
       "                                                                              \n",
       "                                                                              \n",
       "                                                                         0    \n",
       "                                                                              \n",
       "                                                                              \n",
       "                                                                              \n",
       "                                                                         0    \n",
       "                                                                              \n",
       "                                                                              \n",
       "                                                                              \n",
       "                                                                         0    \n",
       "                                                                              \n",
       "                                                                              \n",
       "                                                                              \n",
       "                                                                         0    \n",
       "                                                                              \n",
       "                                                                              \n",
       "                                                                              \n",
       "                                                                         0    \n",
       "                                                                              \n",
       "                                                                              \n",
       "                                                                              \n",
       "                                                                         0    \n",
       "                                                                              \n",
       "                                                                              \n",
       "__                                                                           _\n",
       "Z)                                                          -ⅈ⋅e⋅r_{-1;11,3}⋅E\n",
       "───                                                         ──────────────────\n",
       "                                                                        2⋅h̅  \n",
       "                                                                              \n",
       "__                                                                           _\n",
       "Z)                                                          -ⅈ⋅e⋅r_{-1;11,4}⋅E\n",
       "───                                                         ──────────────────\n",
       "                                                                        2⋅h̅  \n",
       "                                                                              \n",
       "__                                                                            \n",
       "Z)                                                                            \n",
       "───                                                                      0    \n",
       "                                                                              \n",
       "                                                                              \n",
       "                                                                              \n",
       "                                                                              \n",
       "                                                                         0    \n",
       "                                                                              \n",
       "                                                                              \n",
       "                                                                              \n",
       "                                                                         0    \n",
       "                                                                              \n",
       "                                                                              \n",
       "                                                                              \n",
       "                                                                         0    \n",
       "                                                                              \n",
       "                                                                              \n",
       "                                                                              \n",
       "                                                                         0    \n",
       "                                                                              \n",
       "                                                                              \n",
       "                                                                              \n",
       "+ ⅈ⋅δ₂ - ⅈ⋅ω₁₀ + ⅈ⋅ω₃ - ⅈ⋅ω₆ + ⅈ⋅ω₇                                      0    \n",
       "                                                                              \n",
       "                                                                              \n",
       "                                       \\gamma_{11,3}   \\gamma_{11,4}          \n",
       "                                     - ───────────── - ───────────── + ⅈ⋅δ₁ + \n",
       "                                             2               2                \n",
       "                                                                              \n",
       "                                                                              \n",
       "                                                                         0    \n",
       "                                                                              \n",
       "                                                                              \n",
       "                                                                              \n",
       "                                                                         0    \n",
       "\n",
       "                                                                              \n",
       "                                                                              \n",
       "                                                               0              \n",
       "                                                                              \n",
       "                                                                              \n",
       "                                                                              \n",
       "                                                                              \n",
       "                                                               0              \n",
       "                                                                              \n",
       "                                                                              \n",
       "                                                                              \n",
       "                                                                              \n",
       "                                                               0              \n",
       "                                                                              \n",
       "                                                                              \n",
       "                                                                              \n",
       "                                                                              \n",
       "                                                               0              \n",
       "                                                                              \n",
       "                                                                              \n",
       "                                                                              \n",
       "                                                               0              \n",
       "                                                                              \n",
       "                                                                              \n",
       "                                                                              \n",
       "                                                               0              \n",
       "                                                                              \n",
       "                                                                              \n",
       "                                                                              \n",
       "                                                               0              \n",
       "                                                                              \n",
       "                                                                              \n",
       "                                                                              \n",
       "                                                               0              \n",
       "                                                                              \n",
       "                                                                              \n",
       "                                                                              \n",
       "                                                               0              \n",
       "                                                                              \n",
       "                                                                              \n",
       "                                                                              \n",
       "                                                               0              \n",
       "                                                                              \n",
       "                                                                              \n",
       "________                                                           _________  \n",
       "²₀(t, Z)                                          -ⅈ⋅e⋅r_{-1;12,3}⋅E²₀(t, Z)  \n",
       "─────────                                         ─────────────────────────── \n",
       "                                                              2⋅h̅            \n",
       "                                                                              \n",
       "________                                                                      \n",
       "²₀(t, Z)                                                                      \n",
       "─────────                                                      0              \n",
       "                                                                              \n",
       "                                                                              \n",
       "                                                                              \n",
       "                                                                              \n",
       "                                                               0              \n",
       "                                                                              \n",
       "                                                                              \n",
       "                                                                              \n",
       "                                                                              \n",
       "                                                               0              \n",
       "                                                                              \n",
       "                                                                              \n",
       "                                                                              \n",
       "                                                               0              \n",
       "                                                                              \n",
       "                                                                              \n",
       "                                                                              \n",
       "                                                               0              \n",
       "                                                                              \n",
       "                                                                              \n",
       "                                                                              \n",
       "                                                               0              \n",
       "                                                                              \n",
       "                                                                              \n",
       "                                                                              \n",
       "                                                               0              \n",
       "                                                                              \n",
       "                                                                              \n",
       "                                                                              \n",
       "ⅈ⋅δ₂ - ⅈ⋅ω₁₁ + ⅈ⋅ω₃ - ⅈ⋅ω₆ + ⅈ⋅ω₇                              0              \n",
       "                                                                              \n",
       "                                                                              \n",
       "                                     \\gamma_{12,3}                            \n",
       "                                   - ───────────── + ⅈ⋅δ₁ + ⅈ⋅δ₂ - ⅈ⋅ω₁₂ + ⅈ⋅ω\n",
       "                                           2                                  \n",
       "                                                                              \n",
       "                                                                              \n",
       "                                                               0              \n",
       "\n",
       "                                 ⎤\n",
       "                                 ⎥\n",
       "                        0        ⎥\n",
       "                                 ⎥\n",
       "                                 ⎥\n",
       "                                 ⎥\n",
       "                                 ⎥\n",
       "                        0        ⎥\n",
       "                                 ⎥\n",
       "                                 ⎥\n",
       "                                 ⎥\n",
       "                                 ⎥\n",
       "                        0        ⎥\n",
       "                                 ⎥\n",
       "                                 ⎥\n",
       "                                 ⎥\n",
       "                                 ⎥\n",
       "                        0        ⎥\n",
       "                                 ⎥\n",
       "                                 ⎥\n",
       "                                 ⎥\n",
       "                        0        ⎥\n",
       "                                 ⎥\n",
       "                                 ⎥\n",
       "                                 ⎥\n",
       "                        0        ⎥\n",
       "                                 ⎥\n",
       "                                 ⎥\n",
       "                                 ⎥\n",
       "                        0        ⎥\n",
       "                                 ⎥\n",
       "                                 ⎥\n",
       "                                 ⎥\n",
       "                        0        ⎥\n",
       "                                 ⎥\n",
       "                                 ⎥\n",
       "                                 ⎥\n",
       "                        0        ⎥\n",
       "                                 ⎥\n",
       "                                 ⎥\n",
       "                                 ⎥\n",
       "                        0        ⎥\n",
       "                                 ⎥\n",
       "                                 ⎥\n",
       "                                 ⎥\n",
       "                                 ⎥\n",
       "                        0        ⎥\n",
       "                                 ⎥\n",
       "                                 ⎥\n",
       "                                 ⎥\n",
       "                 -ⅈ⋅e⋅r_{+1;4,2} ⎥\n",
       "                 ────────────────⎥\n",
       "                       2⋅h̅      ⎥\n",
       "                                 ⎥\n",
       "                                 ⎥\n",
       "                 -ⅈ⋅e⋅r_{+1;5,2} ⎥\n",
       "                 ────────────────⎥\n",
       "                       2⋅h̅      ⎥\n",
       "                                 ⎥\n",
       "                                 ⎥\n",
       "                 -ⅈ⋅e⋅r_{+1;6,2} ⎥\n",
       "                 ────────────────⎥\n",
       "                       2⋅h̅      ⎥\n",
       "                                 ⎥\n",
       "                                 ⎥\n",
       "                        0        ⎥\n",
       "                                 ⎥\n",
       "                                 ⎥\n",
       "                                 ⎥\n",
       "                        0        ⎥\n",
       "                                 ⎥\n",
       "                                 ⎥\n",
       "                                 ⎥\n",
       "                        0        ⎥\n",
       "                                 ⎥\n",
       "                                 ⎥\n",
       "                                 ⎥\n",
       "                        0        ⎥\n",
       "                                 ⎥\n",
       "                                 ⎥\n",
       "                                 ⎥\n",
       "                        0        ⎥\n",
       "                                 ⎥\n",
       "                                 ⎥\n",
       "                                 ⎥\n",
       "₃ - ⅈ⋅ω₆ + ⅈ⋅ω₇         0        ⎥\n",
       "                                 ⎥\n",
       "                                 ⎥\n",
       "                                 ⎥\n",
       "                        0        ⎦"
      ]
     },
     "execution_count": 100,
     "metadata": {},
     "output_type": "execute_result"
    }
   ],
   "source": [
    "# We get the linear right hand sides.\n",
    "A = []\n",
    "eqs_aprox = []\n",
    "for mu in range(Nxx):\n",
    "    eq_mu = eqs_mem[mu]\n",
    "    eq_approx = eq_mu.subs(lin_subs).subs({epsilon**2: 0}).subs({epsilon: 1})\n",
    "    eqs_aprox += [eq_approx]\n",
    "    \n",
    "    eq_lin_mu = [Derivative(eq_approx, xx[nu]).doit() for nu in range(Nxx)]\n",
    "    A+=[eq_lin_mu]\n",
    "\n",
    "eqs_aprox = Matrix(eqs_aprox)\n",
    "A = Matrix(A)\n",
    "A"
   ]
  },
  {
   "cell_type": "code",
   "execution_count": 101,
   "metadata": {
    "collapsed": false
   },
   "outputs": [
    {
     "name": "stdout",
     "output_type": "stream",
     "text": [
      "[0  0  0  0  0  0  0  0  0  0  0  0  0  0  0  0  0  0  0  0  0]\n"
     ]
    }
   ],
   "source": [
    "# We prove that the linear aproximation produced linear equations.\n",
    "zero = eqs_aprox - A*Matrix(xx)\n",
    "zero = zero.expand()\n",
    "\n",
    "pprint(zero.T)"
   ]
  },
  {
   "cell_type": "markdown",
   "metadata": {},
   "source": [
    "We rewrite the equations in a factorized form"
   ]
  },
  {
   "cell_type": "code",
   "execution_count": 102,
   "metadata": {
    "collapsed": true
   },
   "outputs": [],
   "source": [
    "from sympy import diff, I\n",
    "def semi_factor(expr0, f1, f2):\n",
    "    expr = expr0\n",
    "    aux = symbols(\"aux\")\n",
    "    expr = expr.subs({f1: aux})\n",
    "    d1 = diff(expr, aux).factor()\n",
    "    r1 = (expr- d1*aux).expand()\n",
    "    expr = expr.subs({aux: f1})\n",
    "    \n",
    "    expr = expr.subs({f2: aux})\n",
    "    d2 = diff(expr, aux)\n",
    "    r2 = (expr-d2*aux).expand()\n",
    "    \n",
    "    return (d1*f1+d2*f2)\n",
    "    "
   ]
  },
  {
   "cell_type": "code",
   "execution_count": 103,
   "metadata": {
    "collapsed": false
   },
   "outputs": [
    {
     "data": {
      "image/png": "[encoded data removed]",
      "text/latex": [
       "$$\\left [ 0, \\quad 0, \\quad 0, \\quad 0, \\quad 0, \\quad 0, \\quad 0, \\quad 0, \\quad 0, \\quad 0, \\quad 0, \\quad 0, \\quad 0, \\quad 0, \\quad 0, \\quad 0, \\quad 0, \\quad 0, \\quad 0, \\quad 0, \\quad 0\\right ]$$"
      ],
      "text/plain": [
       "[0, 0, 0, 0, 0, 0, 0, 0, 0, 0, 0, 0, 0, 0, 0, 0, 0, 0, 0, 0, 0]"
      ]
     },
     "execution_count": 103,
     "metadata": {},
     "output_type": "execute_result"
    }
   ],
   "source": [
    "eqs_aprox2 =[semi_factor(eqs_aprox[i], I*e/hbar/2, xx[i]) for i in range(Nxx)]\n",
    "eqs_aprox2[-1] = eqs_aprox[-1].factor()\n",
    "zero = [(eqs_aprox[i]-eqs_aprox2[i]).expand() for i in range(Nxx)]\n",
    "zero"
   ]
  },
  {
   "cell_type": "markdown",
   "metadata": {},
   "source": [
    "We get code to calculate the right hand sides:"
   ]
  },
  {
   "cell_type": "code",
   "execution_count": 104,
   "metadata": {
    "collapsed": false
   },
   "outputs": [
    {
     "name": "stdout",
     "output_type": "stream",
     "text": [
      "eqs_rho[0, jj] = -fact*(r_2_10_3*rho_10_1 + r_2_11_3*rho_11_1 + r_2_12_3*rho_12_1)*E02c + (-gamma_3_1*0.5 + 1j*delta1 + 1j*omega_1 - 1j*omega_2)*rho_3_1\n",
      "\n",
      "eqs_rho[1, jj] = -fact*(r_2_10_4*rho_10_1 + r_2_11_4*rho_11_1 + r_2_9_4*rho_9_1)*E02c + (-gamma_4_1*0.5 - gamma_4_2*0.5 + 1j*delta1 + 1j*omega_1 - 1j*omega_2 + 1j*omega_3 - 1j*omega_4)*rho_4_1\n",
      "\n",
      "eqs_rho[2, jj] = -fact*(r_2_10_5*rho_10_1 + r_2_8_5*rho_8_1 + r_2_9_5*rho_9_1)*E02c + (-gamma_5_1*0.5 - gamma_5_2*0.5 + 1j*delta1 + 1j*omega_1 - 1j*omega_2 + 1j*omega_3 - 1j*omega_5)*rho_5_1\n",
      "\n",
      "eqs_rho[3, jj] = -fact*(r_2_7_6*rho_7_1 + r_2_8_6*rho_8_1 + r_2_9_6*rho_9_1)*E02c + (-gamma_6_2*0.5 + 1j*delta1 + 1j*omega_1 - 1j*omega_2 + 1j*omega_3 - 1j*omega_6)*rho_6_1\n",
      "\n",
      "eqs_rho[4, jj] = -fact*r_2_7_6*E02*rho_6_1 + (-gamma_7_6*0.5 + 1j*delta1 + 1j*delta2 + 1j*omega_1 - 1j*omega_2 + 1j*omega_3 - 1j*omega_6)*rho_7_1\n",
      "\n",
      "eqs_rho[5, jj] = -fact*(r_2_8_5*rho_5_1 + r_2_8_6*rho_6_1)*E02 + (-gamma_8_5*0.5 - gamma_8_6*0.5 + 1j*delta1 + 1j*delta2 + 1j*omega_1 - 1j*omega_2 + 1j*omega_3 - 1j*omega_6 + 1j*omega_7 - 1j*omega_8)*rho_8_1\n",
      "\n",
      "eqs_rho[6, jj] = -fact*(r_2_9_4*rho_4_1 + r_2_9_5*rho_5_1 + r_2_9_6*rho_6_1)*E02 + (-gamma_9_4*0.5 - gamma_9_5*0.5 - gamma_9_6*0.5 + 1j*delta1 + 1j*delta2 + 1j*omega_1 - 1j*omega_2 + 1j*omega_3 - 1j*omega_6 + 1j*omega_7 - 1j*omega_9)*rho_9_1\n",
      "\n",
      "eqs_rho[7, jj] = -fact*(r_2_10_3*rho_3_1 + r_2_10_4*rho_4_1 + r_2_10_5*rho_5_1)*E02 + (-gamma_10_3*0.5 - gamma_10_4*0.5 - gamma_10_5*0.5 + 1j*delta1 + 1j*delta2 + 1j*omega_1 - 1j*omega_10 - 1j*omega_2 + 1j*omega_3 - 1j*omega_6 + 1j*omega_7)*rho_10_1\n",
      "\n",
      "eqs_rho[8, jj] = -fact*(r_2_11_3*rho_3_1 + r_2_11_4*rho_4_1)*E02 + (-gamma_11_3*0.5 - gamma_11_4*0.5 + 1j*delta1 + 1j*delta2 + 1j*omega_1 - 1j*omega_11 - 1j*omega_2 + 1j*omega_3 - 1j*omega_6 + 1j*omega_7)*rho_11_1\n",
      "\n",
      "eqs_rho[9, jj] = -fact*r_2_12_3*E02*rho_3_1 + (-gamma_12_3*0.5 + 1j*delta1 + 1j*delta2 + 1j*omega_1 - 1j*omega_12 - 1j*omega_2 + 1j*omega_3 - 1j*omega_6 + 1j*omega_7)*rho_12_1\n",
      "\n",
      "eqs_rho[10, jj] = -fact*(r_2_10_3*rho_10_2 + r_2_11_3*rho_11_2 + r_2_12_3*rho_12_2)*E02c + (-gamma_3_1*0.5 + 1j*delta1)*rho_3_2\n",
      "\n",
      "eqs_rho[11, jj] = fact*(-r_1_4_2*E01 - r_2_10_4*rho_10_2*E02c - r_2_11_4*rho_11_2*E02c - r_2_9_4*rho_9_2*E02c) + (-gamma_4_1*0.5 - gamma_4_2*0.5 + 1j*delta1 + 1j*omega_3 - 1j*omega_4)*rho_4_2\n",
      "\n",
      "eqs_rho[12, jj] = fact*(-r_1_5_2*E01 - r_2_10_5*rho_10_2*E02c - r_2_8_5*rho_8_2*E02c - r_2_9_5*rho_9_2*E02c) + (-gamma_5_1*0.5 - gamma_5_2*0.5 + 1j*delta1 + 1j*omega_3 - 1j*omega_5)*rho_5_2\n",
      "\n",
      "eqs_rho[13, jj] = fact*(-r_1_6_2*E01 - r_2_7_6*rho_7_2*E02c - r_2_8_6*rho_8_2*E02c - r_2_9_6*rho_9_2*E02c) + (-gamma_6_2*0.5 + 1j*delta1 + 1j*omega_3 - 1j*omega_6)*rho_6_2\n",
      "\n",
      "eqs_rho[14, jj] = -fact*r_2_7_6*E02*rho_6_2 + (-gamma_7_6*0.5 + 1j*delta1 + 1j*delta2 + 1j*omega_3 - 1j*omega_6)*rho_7_2\n",
      "\n",
      "eqs_rho[15, jj] = -fact*(r_2_8_5*rho_5_2 + r_2_8_6*rho_6_2)*E02 + (-gamma_8_5*0.5 - gamma_8_6*0.5 + 1j*delta1 + 1j*delta2 + 1j*omega_3 - 1j*omega_6 + 1j*omega_7 - 1j*omega_8)*rho_8_2\n",
      "\n",
      "eqs_rho[16, jj] = -fact*(r_2_9_4*rho_4_2 + r_2_9_5*rho_5_2 + r_2_9_6*rho_6_2)*E02 + (-gamma_9_4*0.5 - gamma_9_5*0.5 - gamma_9_6*0.5 + 1j*delta1 + 1j*delta2 + 1j*omega_3 - 1j*omega_6 + 1j*omega_7 - 1j*omega_9)*rho_9_2\n",
      "\n",
      "eqs_rho[17, jj] = -fact*(r_2_10_3*rho_3_2 + r_2_10_4*rho_4_2 + r_2_10_5*rho_5_2)*E02 + (-gamma_10_3*0.5 - gamma_10_4*0.5 - gamma_10_5*0.5 + 1j*delta1 + 1j*delta2 - 1j*omega_10 + 1j*omega_3 - 1j*omega_6 + 1j*omega_7)*rho_10_2\n",
      "\n",
      "eqs_rho[18, jj] = -fact*(r_2_11_3*rho_3_2 + r_2_11_4*rho_4_2)*E02 + (-gamma_11_3*0.5 - gamma_11_4*0.5 + 1j*delta1 + 1j*delta2 - 1j*omega_11 + 1j*omega_3 - 1j*omega_6 + 1j*omega_7)*rho_11_2\n",
      "\n",
      "eqs_rho[19, jj] = -fact*r_2_12_3*E02*rho_3_2 + (-gamma_12_3*0.5 + 1j*delta1 + 1j*delta2 - 1j*omega_12 + 1j*omega_3 - 1j*omega_6 + 1j*omega_7)*rho_12_2\n",
      "\n",
      "eqs_rho[20, jj] = -1j*c**2*e*mu0*varpi_1*(r_1_3_1*rho_3_1 + r_1_4_1*rho_4_1 + r_1_4_2*rho_4_2 + r_1_5_1*rho_5_1 + r_1_5_2*rho_5_2 + r_1_6_2*rho_6_2)*n_atomic\n"
     ]
    }
   ],
   "source": [
    "fact = symbols(\"fact\")\n",
    "def format_expr(expr):\n",
    "    s = str(expr)\n",
    "    s = s.replace(\"\\\\\", \"\")\n",
    "    s = s.replace(\"{\", \"\")\n",
    "    s = s.replace(\"}\", \"\")\n",
    "    \n",
    "    s = s.replace(\",\", \"_\")\n",
    "    s = s.replace(\"_+1;\", \"_1_\")\n",
    "    s = s.replace(\"_-1;\", \"_2_\")\n",
    "    s = s.replace(\"E_0^2\", \"E02\")\n",
    "    s = s.replace(\"E_0^1\", \"E01\")\n",
    "    s = s.replace(\"I\", \"1j\")\n",
    "    s = s.replace(\"/2\", \"*0.5\")\n",
    "    s = s.replace(\"n(R_ Z)\", \"n_atomic\")\n",
    "    s = s.replace(\"(t_ Z_ v_Z)\", \"\")\n",
    "    s = s.replace(\"(t_ Z)\", \"\")\n",
    "    s = s.replace(\"conjugate(E02)\", \"E02c\")\n",
    "    return s\n",
    "\n",
    "for i, eq in enumerate(eqs_aprox2[:-1]):\n",
    "    eqi = eq.subs({e: 2*hbar*fact/I})\n",
    "    codei = \"eqs_rho[\"+str(i)+\", jj] = \"\n",
    "\n",
    "    codei += format_expr(eqi)\n",
    "    print codei\n",
    "    print\n",
    "print \"eqs_rho[20, jj] =\", format_expr(eqs_aprox[-1].factor())"
   ]
  },
  {
   "cell_type": "markdown",
   "metadata": {},
   "source": [
    "# The Doppler effect\n",
    "\n",
    "The detunings of the fields however, will be different for different velocity classes in an atomic vapour."
   ]
  },
  {
   "cell_type": "markdown",
   "metadata": {},
   "source": [
    "For velocities $v \\ll c$ the optical frequencies will be\n",
    "\n",
    "\\begin{equation}\n",
    "    \\varpi_l' = \\varpi_l - \\vec{k}_l \\cdot \\vec{v}_l \n",
    "\\end{equation}\n",
    "\n",
    "And so, in our case\n",
    "\\begin{equation}\n",
    "    \\delta_1' = \\delta_1 - \\varpi_1 v_Z/c, \\hspace{1cm} \\delta_2' = \\delta_2 + \\varpi_2 v_Z/c\n",
    "\\end{equation}\n",
    "\n",
    "And the density matrix will be a mixture of contributions from all velocity classes\n",
    "\\begin{equation}\n",
    "    \\rho = \\int dv_Z g(v_Z) \\rho{v_Z}'\n",
    "\\end{equation}\n",
    "\n",
    "So we will rewrite our equations in terms of this new $v_Z$"
   ]
  },
  {
   "cell_type": "code",
   "execution_count": 105,
   "metadata": {
    "collapsed": false
   },
   "outputs": [
    {
     "data": {
      "image/png": "[encoded data removed]",
      "text/latex": [
       "$$g{\\left (v_{Z} \\right )}$$"
      ],
      "text/plain": [
       "g(v_Z)"
      ]
     },
     "execution_count": 105,
     "metadata": {},
     "output_type": "execute_result"
    }
   ],
   "source": [
    "rhop=define_density_matrix(Ne, variables=[t,Z,vZ])\n",
    "g=Function(\"g\")(vZ)\n",
    "g"
   ]
  },
  {
   "cell_type": "code",
   "execution_count": 106,
   "metadata": {
    "collapsed": false
   },
   "outputs": [
    {
     "data": {
      "image/png": "[encoded data removed]",
      "text/latex": [
       "$$\\left \\{ \\delta_{1} : \\delta_{1} + k_{1} v_{Z}, \\quad \\delta_{2} : \\delta_{2} - k_{2} v_{Z}\\right \\}$$"
      ],
      "text/plain": [
       "{δ₁: δ₁ + k₁⋅v_Z, δ₂: δ₂ - k₂⋅v_Z}"
      ]
     },
     "execution_count": 106,
     "metadata": {},
     "output_type": "execute_result"
    }
   ],
   "source": [
    "k1, k2 = symbols(\"k1 k2\", positive=True)\n",
    "delta1_Doppler=delta1 + k1*vZ\n",
    "delta2_Doppler=delta2 - k2*vZ\n",
    "delta1_Doppler,delta2_Doppler\n",
    "ss_Doppler = {delta1: delta1_Doppler, delta2: delta2_Doppler}\n",
    "ss_Doppler"
   ]
  },
  {
   "cell_type": "markdown",
   "metadata": {},
   "source": [
    "The equations involving states $|1\\rangle$ and $|2\\rangle$ are decoupled. If we choose the higher hyperfine state to be our ORCA ground state, we finally get equations:"
   ]
  },
  {
   "cell_type": "code",
   "execution_count": 107,
   "metadata": {
    "collapsed": false
   },
   "outputs": [
    {
     "data": {
      "image/png": "[encoded data removed]",
      "text/latex": [
       "$$\\left \\{ \\rho_{3,1}{\\left (t,Z,v_{Z} \\right )} : 0, \\quad \\rho_{4,1}{\\left (t,Z,v_{Z} \\right )} : 0, \\quad \\rho_{5,1}{\\left (t,Z,v_{Z} \\right )} : 0\\right \\}$$"
      ],
      "text/plain": [
       "{\\rho_{3,1}(t, Z, v_Z): 0, \\rho_{4,1}(t, Z, v_Z): 0, \\rho_{5,1}(t, Z, v_Z): 0}"
      ]
     },
     "execution_count": 107,
     "metadata": {},
     "output_type": "execute_result"
    }
   ],
   "source": [
    "ss_higher = {xx[0]: 0, xx[1]: 0, xx[2]: 0}\n",
    "ss_higher"
   ]
  },
  {
   "cell_type": "code",
   "execution_count": 108,
   "metadata": {
    "collapsed": false
   },
   "outputs": [
    {
     "data": {
      "image/png": "[encoded data removed]",
      "text/latex": [
       "$$\\left \\{ \\rho_{4,2}{\\left (t,Z,v_{Z} \\right )} : \\int \\rho_{4,2}{\\left (t,Z,v_{Z} \\right )} g{\\left (v_{Z} \\right )}\\, dv_{Z}, \\quad \\rho_{5,2}{\\left (t,Z,v_{Z} \\right )} : \\int \\rho_{5,2}{\\left (t,Z,v_{Z} \\right )} g{\\left (v_{Z} \\right )}\\, dv_{Z}, \\quad \\rho_{6,2}{\\left (t,Z,v_{Z} \\right )} : \\int \\rho_{6,2}{\\left (t,Z,v_{Z} \\right )} g{\\left (v_{Z} \\right )}\\, dv_{Z}\\right \\}$$"
      ],
      "text/plain": [
       "⎧                       ⌠                                                     \n",
       "⎨\\rho_{4,2}(t, Z, v_Z): ⎮ \\rho_{4,2}(t, Z, v_Z)⋅g(v_Z) d(v_Z), \\rho_{5,2}(t, Z\n",
       "⎩                       ⌡                                                     \n",
       "\n",
       "        ⌠                                                             ⌠       \n",
       ", v_Z): ⎮ \\rho_{5,2}(t, Z, v_Z)⋅g(v_Z) d(v_Z), \\rho_{6,2}(t, Z, v_Z): ⎮ \\rho_{\n",
       "        ⌡                                                             ⌡       \n",
       "\n",
       "                             ⎫\n",
       "6,2}(t, Z, v_Z)⋅g(v_Z) d(v_Z)⎬\n",
       "                             ⎭"
      ]
     },
     "execution_count": 108,
     "metadata": {},
     "output_type": "execute_result"
    }
   ],
   "source": [
    "ss_wave = {xx[11]: Integral(g*xx[11], vZ), xx[12]: Integral(g*xx[12], vZ), xx[13]: Integral(g*xx[13], vZ)}\n",
    "ss_wave"
   ]
  },
  {
   "cell_type": "code",
   "execution_count": 109,
   "metadata": {
    "collapsed": false
   },
   "outputs": [
    {
     "data": {
      "image/png": "[encoded data removed]",
      "text/latex": [
       "$$\\left[\\begin{matrix}\\frac{\\partial}{\\partial t} \\rho_{3,2}{\\left (t,Z,v_{Z} \\right )} & = & - \\frac{i e}{2 \\hbar} \\left(r_{-1;10,3} \\rho_{10,2}{\\left (t,Z,v_{Z} \\right )} + r_{-1;11,3} \\rho_{11,2}{\\left (t,Z,v_{Z} \\right )} + r_{-1;12,3} \\rho_{12,2}{\\left (t,Z,v_{Z} \\right )}\\right) \\overline{\\operatorname{E^{2}_{0}}{\\left (t,Z \\right )}} + \\left(- \\frac{\\gamma_{3,1}}{2} + i \\left(\\delta_{1} + k_{1} v_{Z}\\right)\\right) \\rho_{3,2}{\\left (t,Z,v_{Z} \\right )}\\\\\\frac{\\partial}{\\partial t} \\rho_{4,2}{\\left (t,Z,v_{Z} \\right )} & = & \\frac{i e}{2 \\hbar} \\left(- r_{+1;4,2} \\operatorname{E^{1}_{0}}{\\left (t,Z \\right )} - r_{-1;10,4} \\rho_{10,2}{\\left (t,Z,v_{Z} \\right )} \\overline{\\operatorname{E^{2}_{0}}{\\left (t,Z \\right )}} - r_{-1;11,4} \\rho_{11,2}{\\left (t,Z,v_{Z} \\right )} \\overline{\\operatorname{E^{2}_{0}}{\\left (t,Z \\right )}} - r_{-1;9,4} \\rho_{9,2}{\\left (t,Z,v_{Z} \\right )} \\overline{\\operatorname{E^{2}_{0}}{\\left (t,Z \\right )}}\\right) + \\left(- \\frac{\\gamma_{4,1}}{2} - \\frac{\\gamma_{4,2}}{2} + i \\omega_{3} - i \\omega_{4} + i \\left(\\delta_{1} + k_{1} v_{Z}\\right)\\right) \\rho_{4,2}{\\left (t,Z,v_{Z} \\right )}\\\\\\frac{\\partial}{\\partial t} \\rho_{5,2}{\\left (t,Z,v_{Z} \\right )} & = & \\frac{i e}{2 \\hbar} \\left(- r_{+1;5,2} \\operatorname{E^{1}_{0}}{\\left (t,Z \\right )} - r_{-1;10,5} \\rho_{10,2}{\\left (t,Z,v_{Z} \\right )} \\overline{\\operatorname{E^{2}_{0}}{\\left (t,Z \\right )}} - r_{-1;8,5} \\rho_{8,2}{\\left (t,Z,v_{Z} \\right )} \\overline{\\operatorname{E^{2}_{0}}{\\left (t,Z \\right )}} - r_{-1;9,5} \\rho_{9,2}{\\left (t,Z,v_{Z} \\right )} \\overline{\\operatorname{E^{2}_{0}}{\\left (t,Z \\right )}}\\right) + \\left(- \\frac{\\gamma_{5,1}}{2} - \\frac{\\gamma_{5,2}}{2} + i \\omega_{3} - i \\omega_{5} + i \\left(\\delta_{1} + k_{1} v_{Z}\\right)\\right) \\rho_{5,2}{\\left (t,Z,v_{Z} \\right )}\\\\\\frac{\\partial}{\\partial t} \\rho_{6,2}{\\left (t,Z,v_{Z} \\right )} & = & \\frac{i e}{2 \\hbar} \\left(- r_{+1;6,2} \\operatorname{E^{1}_{0}}{\\left (t,Z \\right )} - r_{-1;7,6} \\rho_{7,2}{\\left (t,Z,v_{Z} \\right )} \\overline{\\operatorname{E^{2}_{0}}{\\left (t,Z \\right )}} - r_{-1;8,6} \\rho_{8,2}{\\left (t,Z,v_{Z} \\right )} \\overline{\\operatorname{E^{2}_{0}}{\\left (t,Z \\right )}} - r_{-1;9,6} \\rho_{9,2}{\\left (t,Z,v_{Z} \\right )} \\overline{\\operatorname{E^{2}_{0}}{\\left (t,Z \\right )}}\\right) + \\left(- \\frac{\\gamma_{6,2}}{2} + i \\omega_{3} - i \\omega_{6} + i \\left(\\delta_{1} + k_{1} v_{Z}\\right)\\right) \\rho_{6,2}{\\left (t,Z,v_{Z} \\right )}\\\\\\frac{\\partial}{\\partial t} \\rho_{7,2}{\\left (t,Z,v_{Z} \\right )} & = & - \\frac{i e r_{-1;7,6}}{2 \\hbar} \\operatorname{E^{2}_{0}}{\\left (t,Z \\right )} \\rho_{6,2}{\\left (t,Z,v_{Z} \\right )} + \\left(- \\frac{\\gamma_{7,6}}{2} + i \\omega_{3} - i \\omega_{6} + i \\left(\\delta_{1} + k_{1} v_{Z}\\right) + i \\left(\\delta_{2} - k_{2} v_{Z}\\right)\\right) \\rho_{7,2}{\\left (t,Z,v_{Z} \\right )}\\\\\\frac{\\partial}{\\partial t} \\rho_{8,2}{\\left (t,Z,v_{Z} \\right )} & = & - \\frac{i e}{2 \\hbar} \\left(r_{-1;8,5} \\rho_{5,2}{\\left (t,Z,v_{Z} \\right )} + r_{-1;8,6} \\rho_{6,2}{\\left (t,Z,v_{Z} \\right )}\\right) \\operatorname{E^{2}_{0}}{\\left (t,Z \\right )} + \\left(- \\frac{\\gamma_{8,5}}{2} - \\frac{\\gamma_{8,6}}{2} + i \\omega_{3} - i \\omega_{6} + i \\omega_{7} - i \\omega_{8} + i \\left(\\delta_{1} + k_{1} v_{Z}\\right) + i \\left(\\delta_{2} - k_{2} v_{Z}\\right)\\right) \\rho_{8,2}{\\left (t,Z,v_{Z} \\right )}\\\\\\frac{\\partial}{\\partial t} \\rho_{9,2}{\\left (t,Z,v_{Z} \\right )} & = & - \\frac{i e}{2 \\hbar} \\left(r_{-1;9,4} \\rho_{4,2}{\\left (t,Z,v_{Z} \\right )} + r_{-1;9,5} \\rho_{5,2}{\\left (t,Z,v_{Z} \\right )} + r_{-1;9,6} \\rho_{6,2}{\\left (t,Z,v_{Z} \\right )}\\right) \\operatorname{E^{2}_{0}}{\\left (t,Z \\right )} + \\left(- \\frac{\\gamma_{9,4}}{2} - \\frac{\\gamma_{9,5}}{2} - \\frac{\\gamma_{9,6}}{2} + i \\omega_{3} - i \\omega_{6} + i \\omega_{7} - i \\omega_{9} + i \\left(\\delta_{1} + k_{1} v_{Z}\\right) + i \\left(\\delta_{2} - k_{2} v_{Z}\\right)\\right) \\rho_{9,2}{\\left (t,Z,v_{Z} \\right )}\\\\\\frac{\\partial}{\\partial t} \\rho_{10,2}{\\left (t,Z,v_{Z} \\right )} & = & - \\frac{i e}{2 \\hbar} \\left(r_{-1;10,3} \\rho_{3,2}{\\left (t,Z,v_{Z} \\right )} + r_{-1;10,4} \\rho_{4,2}{\\left (t,Z,v_{Z} \\right )} + r_{-1;10,5} \\rho_{5,2}{\\left (t,Z,v_{Z} \\right )}\\right) \\operatorname{E^{2}_{0}}{\\left (t,Z \\right )} + \\left(- \\frac{\\gamma_{10,3}}{2} - \\frac{\\gamma_{10,4}}{2} - \\frac{\\gamma_{10,5}}{2} - i \\omega_{10} + i \\omega_{3} - i \\omega_{6} + i \\omega_{7} + i \\left(\\delta_{1} + k_{1} v_{Z}\\right) + i \\left(\\delta_{2} - k_{2} v_{Z}\\right)\\right) \\rho_{10,2}{\\left (t,Z,v_{Z} \\right )}\\\\\\frac{\\partial}{\\partial t} \\rho_{11,2}{\\left (t,Z,v_{Z} \\right )} & = & - \\frac{i e}{2 \\hbar} \\left(r_{-1;11,3} \\rho_{3,2}{\\left (t,Z,v_{Z} \\right )} + r_{-1;11,4} \\rho_{4,2}{\\left (t,Z,v_{Z} \\right )}\\right) \\operatorname{E^{2}_{0}}{\\left (t,Z \\right )} + \\left(- \\frac{\\gamma_{11,3}}{2} - \\frac{\\gamma_{11,4}}{2} - i \\omega_{11} + i \\omega_{3} - i \\omega_{6} + i \\omega_{7} + i \\left(\\delta_{1} + k_{1} v_{Z}\\right) + i \\left(\\delta_{2} - k_{2} v_{Z}\\right)\\right) \\rho_{11,2}{\\left (t,Z,v_{Z} \\right )}\\\\\\frac{\\partial}{\\partial t} \\rho_{12,2}{\\left (t,Z,v_{Z} \\right )} & = & - \\frac{i e r_{-1;12,3}}{2 \\hbar} \\operatorname{E^{2}_{0}}{\\left (t,Z \\right )} \\rho_{3,2}{\\left (t,Z,v_{Z} \\right )} + \\left(- \\frac{\\gamma_{12,3}}{2} - i \\omega_{12} + i \\omega_{3} - i \\omega_{6} + i \\omega_{7} + i \\left(\\delta_{1} + k_{1} v_{Z}\\right) + i \\left(\\delta_{2} - k_{2} v_{Z}\\right)\\right) \\rho_{12,2}{\\left (t,Z,v_{Z} \\right )}\\\\\\frac{\\partial}{\\partial t} \\operatorname{E^{1}_{0}}{\\left (t,Z \\right )} & = & - i c^{2} e \\mu_{0} \\varpi_{1} \\left(r_{+1;4,2} \\int \\rho_{4,2}{\\left (t,Z,v_{Z} \\right )} g{\\left (v_{Z} \\right )}\\, dv_{Z} + r_{+1;5,2} \\int \\rho_{5,2}{\\left (t,Z,v_{Z} \\right )} g{\\left (v_{Z} \\right )}\\, dv_{Z} + r_{+1;6,2} \\int \\rho_{6,2}{\\left (t,Z,v_{Z} \\right )} g{\\left (v_{Z} \\right )}\\, dv_{Z}\\right) n{\\left (R,Z \\right )} - c \\frac{\\partial}{\\partial Z} \\operatorname{E^{1}_{0}}{\\left (t,Z \\right )}\\end{matrix}\\right]$$"
      ],
      "text/plain": [
       "⎡                                                                             \n",
       "⎢∂                                                                       ⅈ⋅e⋅(\n",
       "⎢──(\\rho_{3,2}(t, Z, v_Z))   =                                         - ─────\n",
       "⎢∂t                                                                           \n",
       "⎢                                                                             \n",
       "⎢                                       ⎛                                     \n",
       "⎢∂                                  ⅈ⋅e⋅⎝-r_{+1;4,2}⋅E¹₀(t, Z) - r_{-1;10,4}⋅\\\n",
       "⎢──(\\rho_{4,2}(t, Z, v_Z))   =      ──────────────────────────────────────────\n",
       "⎢∂t                                                                           \n",
       "⎢                                                                             \n",
       "⎢                                        ⎛                                    \n",
       "⎢∂                                   ⅈ⋅e⋅⎝-r_{+1;5,2}⋅E¹₀(t, Z) - r_{-1;10,5}⋅\n",
       "⎢──(\\rho_{5,2}(t, Z, v_Z))   =       ─────────────────────────────────────────\n",
       "⎢∂t                                                                           \n",
       "⎢                                                                             \n",
       "⎢                                                 ⎛                           \n",
       "⎢∂                                            ⅈ⋅e⋅⎝-r_{+1;6,2}⋅E¹₀(t, Z) - r_{\n",
       "⎢──(\\rho_{6,2}(t, Z, v_Z))   =                ────────────────────────────────\n",
       "⎢∂t                                                                           \n",
       "⎢                                                                             \n",
       "⎢∂                                                                            \n",
       "⎢──(\\rho_{7,2}(t, Z, v_Z))   =                                                \n",
       "⎢∂t                                                                           \n",
       "⎢                                                                             \n",
       "⎢∂                                                             ⅈ⋅e⋅(r_{-1;8,5}\n",
       "⎢──(\\rho_{8,2}(t, Z, v_Z))   =                               - ───────────────\n",
       "⎢∂t                                                                           \n",
       "⎢                                                                             \n",
       "⎢∂                                    ⅈ⋅e⋅(r_{-1;9,4}⋅\\rho_{4,2}(t, Z, v_Z) + \n",
       "⎢──(\\rho_{9,2}(t, Z, v_Z))   =      - ────────────────────────────────────────\n",
       "⎢∂t                                                                           \n",
       "⎢                                                                             \n",
       "⎢∂                                ⅈ⋅e⋅(r_{-1;10,3}⋅\\rho_{3,2}(t, Z, v_Z) + r_{\n",
       "⎢──(\\rho_{10,2}(t, Z, v_Z))  =  - ────────────────────────────────────────────\n",
       "⎢∂t                                                                           \n",
       "⎢                                                                             \n",
       "⎢∂                                                          ⅈ⋅e⋅(r_{-1;11,3}⋅\\\n",
       "⎢──(\\rho_{11,2}(t, Z, v_Z))  =                            - ──────────────────\n",
       "⎢∂t                                                                           \n",
       "⎢                                                                             \n",
       "⎢∂                                                                            \n",
       "⎢──(\\rho_{12,2}(t, Z, v_Z))  =                                                \n",
       "⎢∂t                                                                           \n",
       "⎢                                                                             \n",
       "⎢      ∂                                                              2       \n",
       "⎢      ──(E¹₀(t, Z))         =                                   - ⅈ⋅c ⋅e⋅μ₀⋅v\n",
       "⎣      ∂t                                                                     \n",
       "\n",
       "                                                                              \n",
       "r_{-1;10,3}⋅\\rho_{10,2}(t, Z, v_Z) + r_{-1;11,3}⋅\\rho_{11,2}(t, Z, v_Z) + r_{-\n",
       "──────────────────────────────────────────────────────────────────────────────\n",
       "                                                       2⋅h̅                   \n",
       "                                                                              \n",
       "                      _________                                      _________\n",
       "rho_{10,2}(t, Z, v_Z)⋅E²₀(t, Z) - r_{-1;11,4}⋅\\rho_{11,2}(t, Z, v_Z)⋅E²₀(t, Z)\n",
       "──────────────────────────────────────────────────────────────────────────────\n",
       "                                       2⋅h̅                                   \n",
       "                                                                              \n",
       "                       _________                                    _________ \n",
       "\\rho_{10,2}(t, Z, v_Z)⋅E²₀(t, Z) - r_{-1;8,5}⋅\\rho_{8,2}(t, Z, v_Z)⋅E²₀(t, Z) \n",
       "──────────────────────────────────────────────────────────────────────────────\n",
       "                                       2⋅h̅                                   \n",
       "                                                                              \n",
       "                              _________                                    ___\n",
       "-1;7,6}⋅\\rho_{7,2}(t, Z, v_Z)⋅E²₀(t, Z) - r_{-1;8,6}⋅\\rho_{8,2}(t, Z, v_Z)⋅E²₀\n",
       "──────────────────────────────────────────────────────────────────────────────\n",
       "                                               2⋅h̅                           \n",
       "                                                                              \n",
       "                  ⅈ⋅e⋅r_{-1;7,6}⋅E²₀(t, Z)⋅\\rho_{6,2}(t, Z, v_Z)   ⎛  \\gamma_{\n",
       "                - ────────────────────────────────────────────── + ⎜- ────────\n",
       "                                       2⋅h̅                        ⎝       2  \n",
       "                                                                              \n",
       "⋅\\rho_{5,2}(t, Z, v_Z) + r_{-1;8,6}⋅\\rho_{6,2}(t, Z, v_Z))⋅E²₀(t, Z)   ⎛  \\gam\n",
       "──────────────────────────────────────────────────────────────────── + ⎜- ────\n",
       "                         2⋅h̅                                          ⎝      \n",
       "                                                                              \n",
       "r_{-1;9,5}⋅\\rho_{5,2}(t, Z, v_Z) + r_{-1;9,6}⋅\\rho_{6,2}(t, Z, v_Z))⋅E²₀(t, Z)\n",
       "──────────────────────────────────────────────────────────────────────────────\n",
       "                 2⋅h̅                                                         \n",
       "                                                                              \n",
       "-1;10,4}⋅\\rho_{4,2}(t, Z, v_Z) + r_{-1;10,5}⋅\\rho_{5,2}(t, Z, v_Z))⋅E²₀(t, Z) \n",
       "───────────────────────────────────────────────────────────────────────────── \n",
       "               2⋅h̅                                                           \n",
       "                                                                              \n",
       "rho_{3,2}(t, Z, v_Z) + r_{-1;11,4}⋅\\rho_{4,2}(t, Z, v_Z))⋅E²₀(t, Z)   ⎛  \\gamm\n",
       "─────────────────────────────────────────────────────────────────── + ⎜- ─────\n",
       "                       2⋅h̅                                           ⎝       \n",
       "                                                                              \n",
       "         ⅈ⋅e⋅r_{-1;12,3}⋅E²₀(t, Z)⋅\\rho_{3,2}(t, Z, v_Z)   ⎛  \\gamma_{12,3}   \n",
       "       - ─────────────────────────────────────────────── + ⎜- ───────────── - \n",
       "                               2⋅h̅                        ⎝        2         \n",
       "                                                                              \n",
       "      ⎛           ⌠                                                  ⌠        \n",
       "arpi₁⋅⎜r_{+1;4,2}⋅⎮ \\rho_{4,2}(t, Z, v_Z)⋅g(v_Z) d(v_Z) + r_{+1;5,2}⋅⎮ \\rho_{5\n",
       "      ⎝           ⌡                                                  ⌡        \n",
       "\n",
       "                                _________                                     \n",
       "1;12,3}⋅\\rho_{12,2}(t, Z, v_Z))⋅E²₀(t, Z)   ⎛  \\gamma_{3,1}                  ⎞\n",
       "───────────────────────────────────────── + ⎜- ──────────── + ⅈ⋅(δ₁ + k₁⋅v_Z)⎟\n",
       "                                            ⎝       2                        ⎠\n",
       "                                                                              \n",
       "                                    _________⎞                                \n",
       " - r_{-1;9,4}⋅\\rho_{9,2}(t, Z, v_Z)⋅E²₀(t, Z)⎠   ⎛  \\gamma_{4,1}   \\gamma_{4,2\n",
       "────────────────────────────────────────────── + ⎜- ──────────── - ───────────\n",
       "                                                 ⎝       2              2     \n",
       "                                                                              \n",
       "                                   _________⎞                                 \n",
       "- r_{-1;9,5}⋅\\rho_{9,2}(t, Z, v_Z)⋅E²₀(t, Z)⎠   ⎛  \\gamma_{5,1}   \\gamma_{5,2}\n",
       "───────────────────────────────────────────── + ⎜- ──────────── - ────────────\n",
       "                                                ⎝       2              2      \n",
       "                                                                              \n",
       "______                                    _________⎞                          \n",
       "(t, Z) - r_{-1;9,6}⋅\\rho_{9,2}(t, Z, v_Z)⋅E²₀(t, Z)⎠   ⎛  \\gamma_{6,2}        \n",
       "──────────────────────────────────────────────────── + ⎜- ──────────── + ⅈ⋅ω₃ \n",
       "                                                       ⎝       2              \n",
       "                                                                              \n",
       "7,6}                                                  ⎞                       \n",
       "──── + ⅈ⋅ω₃ - ⅈ⋅ω₆ + ⅈ⋅(δ₁ + k₁⋅v_Z) + ⅈ⋅(δ₂ - k₂⋅v_Z)⎟⋅\\rho_{7,2}(t, Z, v_Z) \n",
       "                                                      ⎠                       \n",
       "                                                                              \n",
       "ma_{8,5}   \\gamma_{8,6}                                                       \n",
       "──────── - ──────────── + ⅈ⋅ω₃ - ⅈ⋅ω₆ + ⅈ⋅ω₇ - ⅈ⋅ω₈ + ⅈ⋅(δ₁ + k₁⋅v_Z) + ⅈ⋅(δ₂ \n",
       " 2              2                                                             \n",
       "                                                                              \n",
       "   ⎛  \\gamma_{9,4}   \\gamma_{9,5}   \\gamma_{9,6}                              \n",
       " + ⎜- ──────────── - ──────────── - ──────────── + ⅈ⋅ω₃ - ⅈ⋅ω₆ + ⅈ⋅ω₇ - ⅈ⋅ω₉ +\n",
       "   ⎝       2              2              2                                    \n",
       "                                                                              \n",
       "  ⎛  \\gamma_{10,3}   \\gamma_{10,4}   \\gamma_{10,5}                            \n",
       "+ ⎜- ───────────── - ───────────── - ───────────── - ⅈ⋅ω₁₀ + ⅈ⋅ω₃ - ⅈ⋅ω₆ + ⅈ⋅ω\n",
       "  ⎝        2               2               2                                  \n",
       "                                                                              \n",
       "a_{11,3}   \\gamma_{11,4}                                                      \n",
       "──────── - ───────────── - ⅈ⋅ω₁₁ + ⅈ⋅ω₃ - ⅈ⋅ω₆ + ⅈ⋅ω₇ + ⅈ⋅(δ₁ + k₁⋅v_Z) + ⅈ⋅(δ\n",
       " 2               2                                                            \n",
       "                                                                              \n",
       "                                                              ⎞               \n",
       "ⅈ⋅ω₁₂ + ⅈ⋅ω₃ - ⅈ⋅ω₆ + ⅈ⋅ω₇ + ⅈ⋅(δ₁ + k₁⋅v_Z) + ⅈ⋅(δ₂ - k₂⋅v_Z)⎟⋅\\rho_{12,2}(t,\n",
       "                                                              ⎠               \n",
       "                                                                              \n",
       "                                          ⌠                                   \n",
       ",2}(t, Z, v_Z)⋅g(v_Z) d(v_Z) + r_{+1;6,2}⋅⎮ \\rho_{6,2}(t, Z, v_Z)⋅g(v_Z) d(v_Z\n",
       "                                          ⌡                                   \n",
       "\n",
       "                                                             ⎤\n",
       "                                                             ⎥\n",
       "⋅\\rho_{3,2}(t, Z, v_Z)                                       ⎥\n",
       "                                                             ⎥\n",
       "                                                             ⎥\n",
       "                                                             ⎥\n",
       "}                                ⎞                           ⎥\n",
       "─ + ⅈ⋅ω₃ - ⅈ⋅ω₄ + ⅈ⋅(δ₁ + k₁⋅v_Z)⎟⋅\\rho_{4,2}(t, Z, v_Z)     ⎥\n",
       "                                 ⎠                           ⎥\n",
       "                                                             ⎥\n",
       "                                                             ⎥\n",
       "                                ⎞                            ⎥\n",
       " + ⅈ⋅ω₃ - ⅈ⋅ω₅ + ⅈ⋅(δ₁ + k₁⋅v_Z)⎟⋅\\rho_{5,2}(t, Z, v_Z)      ⎥\n",
       "                                ⎠                            ⎥\n",
       "                                                             ⎥\n",
       "                                                             ⎥\n",
       "                        ⎞                                    ⎥\n",
       "- ⅈ⋅ω₆ + ⅈ⋅(δ₁ + k₁⋅v_Z)⎟⋅\\rho_{6,2}(t, Z, v_Z)              ⎥\n",
       "                        ⎠                                    ⎥\n",
       "                                                             ⎥\n",
       "                                                             ⎥\n",
       "                                                             ⎥\n",
       "                                                             ⎥\n",
       "                                                             ⎥\n",
       "         ⎞                                                   ⎥\n",
       "- k₂⋅v_Z)⎟⋅\\rho_{8,2}(t, Z, v_Z)                             ⎥\n",
       "         ⎠                                                   ⎥\n",
       "                                                             ⎥\n",
       "                                  ⎞                          ⎥\n",
       " ⅈ⋅(δ₁ + k₁⋅v_Z) + ⅈ⋅(δ₂ - k₂⋅v_Z)⎟⋅\\rho_{9,2}(t, Z, v_Z)    ⎥\n",
       "                                  ⎠                          ⎥\n",
       "                                                             ⎥\n",
       "                                     ⎞                       ⎥\n",
       "₇ + ⅈ⋅(δ₁ + k₁⋅v_Z) + ⅈ⋅(δ₂ - k₂⋅v_Z)⎟⋅\\rho_{10,2}(t, Z, v_Z)⎥\n",
       "                                     ⎠                       ⎥\n",
       "                                                             ⎥\n",
       "           ⎞                                                 ⎥\n",
       "₂ - k₂⋅v_Z)⎟⋅\\rho_{11,2}(t, Z, v_Z)                          ⎥\n",
       "           ⎠                                                 ⎥\n",
       "                                                             ⎥\n",
       "                                                             ⎥\n",
       " Z, v_Z)                                                     ⎥\n",
       "                                                             ⎥\n",
       "                                                             ⎥\n",
       " ⎞             ∂                                             ⎥\n",
       ")⎟⋅n(R, Z) - c⋅──(E¹₀(t, Z))                                 ⎥\n",
       " ⎠             ∂Z                                            ⎦"
      ]
     },
     "execution_count": 109,
     "metadata": {},
     "output_type": "execute_result"
    }
   ],
   "source": [
    "eq_sign = symbols(\"=\")\n",
    "eqs_aprox3 = [[diff(xx[i], t), eq_sign, eqs_aprox2[i].subs(ss_higher).subs(ss_Doppler)] for i in range(Nxx)]\n",
    "eqs_aprox3 = Matrix(eqs_aprox3)[10:, :]\n",
    "eqs_aprox3[-1, 2] = -c*diff(xx[-1], Z)+eqs_aprox3[-1, 2].subs(ss_wave)\n",
    "eqs_aprox3"
   ]
  },
  {
   "cell_type": "markdown",
   "metadata": {},
   "source": [
    "[1]  H.J. Metcalf and P. van der Straten. Laser Cooling and Trapping. Graduate Texts in Contempo-\n",
    "rary Physics. Springer New York, 2001.\n",
    "\n",
    "[2] Daniel Adam Steck. Quantum and Atom Optics. Oregon Center for Optics and Department of Physics, University of Oregon Copyright © 200"
   ]
  }
 ],
 "metadata": {
  "anaconda-cloud": {},
  "kernelspec": {
   "display_name": "Python 2",
   "language": "python",
   "name": "python2"
  },
  "language_info": {
   "codemirror_mode": {
    "name": "ipython",
    "version": 2
   },
   "file_extension": ".py",
   "mimetype": "text/x-python",
   "name": "python",
   "nbconvert_exporter": "python",
   "pygments_lexer": "ipython2",
   "version": "2.7.13"
  }
 },
 "nbformat": 4,
 "nbformat_minor": 0
}
