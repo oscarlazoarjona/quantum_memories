{
 "cells": [
  {
   "cell_type": "markdown",
   "metadata": {},
   "source": [
    "# Hyperfine Orca memory equations"
   ]
  },
  {
   "cell_type": "code",
   "execution_count": 1,
   "metadata": {
    "collapsed": false
   },
   "outputs": [],
   "source": [
    "from fast import *\n",
    "from fast.config import fast_path\n",
    "from matplotlib import pyplot\n",
    "from sympy import sin,cos,exp,sqrt,pi,zeros,I, Integral, oo\n",
    "from numpy import array\n",
    "%matplotlib inline\n",
    "init_printing()\n",
    "print_ascii=True; print_ascii=False"
   ]
  },
  {
   "cell_type": "code",
   "execution_count": 2,
   "metadata": {
    "collapsed": true
   },
   "outputs": [],
   "source": [
    "path=\"/home/oscar/oxford/inhomogeneous_broadening/complete_model/\" \n",
    "name='orca'"
   ]
  },
  {
   "cell_type": "markdown",
   "metadata": {},
   "source": [
    "We will be deriving the optical Bloch equations for a three level system in a ladder configuration as that in the figure.\n",
    "\n",
    "Let us check how many hyperfine states each atom has:"
   ]
  },
  {
   "cell_type": "code",
   "execution_count": 83,
   "metadata": {
    "collapsed": false
   },
   "outputs": [
    {
     "name": "stdout",
     "output_type": "stream",
     "text": [
      "85Rb has 12 hyperfine states, and 72 magnetic states.\n",
      "87Rb has 10 hyperfine states, and 48 magnetic states.\n",
      "133Cs has 12 hyperfine states, and 96 magnetic states.\n"
     ]
    }
   ],
   "source": [
    "atoms = [[\"Rb\", 85, 5], [\"Rb\", 87, 5], [\"Cs\", 133, 6]]\n",
    "for ii in atoms:\n",
    "    atom = Atom(ii[0], ii[1])\n",
    "    e1 = State(ii[0], ii[1], ii[2], 0, 1/Integer(2))\n",
    "    e2 = State(ii[0], ii[1], ii[2], 1, 3/Integer(2))\n",
    "    e3 = State(ii[0], ii[1], ii[2], 2, 5/Integer(2))\n",
    "    fine_states = [e1, e2, e3]\n",
    "    Nhyp = len(make_list_of_states(fine_states, \"hyperfine\", verbose=0))\n",
    "    Nmag = len(make_list_of_states(fine_states, \"magnetic\", verbose=0))\n",
    "    \n",
    "    print atom, \"has\", Nhyp, \"hyperfine states, and\",Nmag, \"magnetic states.\"\n",
    "\n",
    "ii = atoms[2]\n",
    "e1 = State(ii[0], ii[1], ii[2], 0, 1/Integer(2))\n",
    "e2 = State(ii[0], ii[1], ii[2], 1, 3/Integer(2))\n",
    "e3 = State(ii[0], ii[1], ii[2], 2, 5/Integer(2))\n",
    "fine_states = [e1, e2, e3]\n",
    "hyperfine_states = make_list_of_states(fine_states, \"hyperfine\", verbose=0)\n",
    "magnetic_states = make_list_of_states(fine_states, \"magnetic\", verbose=0)\n",
    "Nhyp = len(hyperfine_states)\n",
    "Nmag = len(magnetic_states)\n",
    "Ne = Nhyp"
   ]
  },
  {
   "cell_type": "code",
   "execution_count": 84,
   "metadata": {
    "collapsed": false
   },
   "outputs": [
    {
     "data": {
      "image/png": "[encoded data removed]",
      "text/plain": [
       "<matplotlib.figure.Figure at 0x7f0cdd264550>"
      ]
     },
     "metadata": {},
     "output_type": "display_data"
    }
   ],
   "source": [
    "fig=pyplot.figure(); ax=fig.add_subplot(111,aspect=\"equal\")\n",
    "\n",
    "p1=[0.5,1]; p2=[1.5,3]; p3=[2.5,5]\n",
    "draw_state(ax,p1,text=r\"$|1\\rangle$\",l=1.0,alignment='right',label_displacement=0.05,fontsize=25,linewidth=4.0)\n",
    "draw_state(ax,p2,text=r\"$|2\\rangle$\",l=1.0,alignment='right',label_displacement=0.05,fontsize=25,linewidth=4.0)\n",
    "draw_state(ax,p3,text=r\"$|3\\rangle$\",l=1.0,alignment='right',label_displacement=0.05,fontsize=25,linewidth=4.0)\n",
    "\n",
    "excitation(ax,[p1[0]+0.25,p1[1]],[p2[0]+0.25,p2[1]], fc=\"r\", ec=\"r\",width=0.01, head_width=0.2, head_length=0.2)\n",
    "excitation(ax,[p2[0]+0.25,p2[1]],[p3[0]+0.25,p3[1]], fc=\"b\", ec=\"b\",width=0.01, head_width=0.2, head_length=0.2)\n",
    "\n",
    "decay(     ax,[p1[0]-0.25,p1[1]],[p2[0]-0.25,p2[1]], 0.05,10.0,color=\"r\",linewidth=1.0)\n",
    "decay(     ax,[p2[0]-0.25,p2[1]],[p3[0]-0.25,p3[1]], 0.05,10.0,color=\"b\",linewidth=1.0)\n",
    "\n",
    "pyplot.axis('off')\n",
    "pyplot.savefig(path+name+'_diagram.png',bbox_inches=\"tight\")"
   ]
  },
  {
   "cell_type": "markdown",
   "metadata": {},
   "source": [
    "We define the number of states and of radiation fields."
   ]
  },
  {
   "cell_type": "code",
   "execution_count": 85,
   "metadata": {
    "collapsed": true
   },
   "outputs": [],
   "source": [
    "Nl=2"
   ]
  },
  {
   "cell_type": "markdown",
   "metadata": {},
   "source": [
    "We define a few important symbols."
   ]
  },
  {
   "cell_type": "code",
   "execution_count": 86,
   "metadata": {
    "collapsed": false
   },
   "outputs": [],
   "source": [
    "c,hbar,e,mu0, epsilon0=symbols(\"c hbar e mu0 varepsilon0\",positive=True)\n",
    "# fprint([c,hbar,e,mu0, epsilon0],print_ascii=print_ascii)"
   ]
  },
  {
   "cell_type": "code",
   "execution_count": 87,
   "metadata": {
    "collapsed": false
   },
   "outputs": [],
   "source": [
    "t,X,Y,Z,R,Phi=symbols(\"t X Y Z R Phi\",real=True)\n",
    "RR=Matrix([R*cos(Phi),R*sin(Phi),Z])\n",
    "#RR=Matrix([X,Y,Z])\n",
    "# fprint([t,RR],print_ascii=print_ascii)"
   ]
  },
  {
   "cell_type": "markdown",
   "metadata": {},
   "source": [
    "We define the variables related to the laser field."
   ]
  },
  {
   "cell_type": "code",
   "execution_count": 88,
   "metadata": {
    "collapsed": false
   },
   "outputs": [],
   "source": [
    "E0,omega_laser=define_laser_variables(Nl, variables=[t,R,Z])\n",
    "# fprint(E0,print_ascii=print_ascii)"
   ]
  },
  {
   "cell_type": "code",
   "execution_count": 89,
   "metadata": {
    "collapsed": false
   },
   "outputs": [],
   "source": [
    "# fprint(omega_laser,print_ascii=print_ascii)"
   ]
  },
  {
   "cell_type": "markdown",
   "metadata": {},
   "source": [
    "We write two electric fields propagating trough the $\\hat{x}$ direction polarized in the $\\hat{z}$ direction. First the wave vectors:"
   ]
  },
  {
   "cell_type": "code",
   "execution_count": 90,
   "metadata": {
    "collapsed": false
   },
   "outputs": [],
   "source": [
    "phi1=0 ; theta1=0; alpha1=pi/2; beta1=pi/8\n",
    "phi2=0; theta2=pi; alpha2=pi/2; beta2=pi/8\n",
    "\n",
    "k1=Matrix([cos(phi1)*sin(theta1),sin(phi1)*sin(theta1),cos(theta1)])\n",
    "k2=Matrix([cos(phi2)*sin(theta2),sin(phi2)*sin(theta2),cos(theta2)])\n",
    "\n",
    "k=[k1,k2]\n",
    "\n",
    "# fprint(k,print_ascii=print_ascii)"
   ]
  },
  {
   "cell_type": "markdown",
   "metadata": {},
   "source": [
    "The polarization vectors."
   ]
  },
  {
   "cell_type": "code",
   "execution_count": 91,
   "metadata": {
    "collapsed": false
   },
   "outputs": [],
   "source": [
    "ep1=polarization_vector(phi1,theta1,alpha1,beta1, 1)\n",
    "ep2=polarization_vector(phi2,theta2,alpha2,beta2, 1)\n",
    "\n",
    "em1=ep1.conjugate()\n",
    "em2=ep2.conjugate()\n",
    "\n",
    "ep=[ep1,ep2]\n",
    "em=[em1,em2]\n",
    "\n",
    "# fprint([ep,em],print_ascii=print_ascii)"
   ]
  },
  {
   "cell_type": "markdown",
   "metadata": {},
   "source": [
    "The electric field (evaluated in $\\vec{R}=0$)."
   ]
  },
  {
   "cell_type": "code",
   "execution_count": 92,
   "metadata": {
    "collapsed": false
   },
   "outputs": [],
   "source": [
    "zero_vect=Matrix([0,0,0])\n",
    "E_cartesian = [(+E0[l]            *ep[l]*exp(-I*omega_laser[l]*(t-k[l].dot(RR)/c)) \n",
    "                +E0[l].conjugate()*em[l]*exp(+I*omega_laser[l]*(t-k[l].dot(RR)/c)))/2 \n",
    "                    for l in range(Nl)]\n",
    "\n",
    "# fprint(E_cartesian,print_ascii=print_ascii)"
   ]
  },
  {
   "cell_type": "code",
   "execution_count": 93,
   "metadata": {
    "collapsed": false
   },
   "outputs": [
    {
     "data": {
      "image/png": "[encoded data removed]",
      "text/plain": [
       "<matplotlib.figure.Figure at 0x7f0cdd25edd0>"
      ]
     },
     "metadata": {},
     "output_type": "display_data"
    }
   ],
   "source": [
    "l1=PlaneWave(phi1,theta1,alpha1,beta1,color=\"red\")\n",
    "l2=PlaneWave(phi2,theta2,alpha2,beta2,color=\"blue\")\n",
    "\n",
    "laseres=[l1,l2]\n",
    "Nl=len(laseres)\n",
    "\n",
    "fig = pyplot.figure(); ax = fig.gca(projection='3d')\n",
    "draw_lasers_3d(ax,laseres,path+name+'_lasers.png')"
   ]
  },
  {
   "cell_type": "markdown",
   "metadata": {},
   "source": [
    "We write the electric fields in the helicity basis (see notebook \"Vectors in the helicity basis and the electric field\")."
   ]
  },
  {
   "cell_type": "code",
   "execution_count": 94,
   "metadata": {
    "collapsed": false
   },
   "outputs": [],
   "source": [
    "E=[cartesian_to_helicity(E_cartesian[l]).expand() for l in range(Nl)]\n",
    "# fprint(E,print_ascii=print_ascii)"
   ]
  },
  {
   "cell_type": "markdown",
   "metadata": {},
   "source": [
    "We define the position operator."
   ]
  },
  {
   "cell_type": "code",
   "execution_count": 95,
   "metadata": {
    "collapsed": true
   },
   "outputs": [],
   "source": [
    "r=define_r_components(Ne,helicity=True,explicitly_hermitian=True)\n",
    "for i, ei in enumerate(hyperfine_states):\n",
    "    for j, ej in enumerate(hyperfine_states):\n",
    "        if not Transition(ei, ej).allowed:\n",
    "            r=[ri.subs({r[0][i,j]:0,r[1][i,j]:0,r[2][i,j]:0}) for ri in r]"
   ]
  },
  {
   "cell_type": "markdown",
   "metadata": {},
   "source": [
    "The frequencies of the energy levels, the resonant frequencies, and the decay frequencies."
   ]
  },
  {
   "cell_type": "code",
   "execution_count": 96,
   "metadata": {
    "collapsed": false
   },
   "outputs": [],
   "source": [
    "omega_level,omega,gamma=define_frequencies(Ne,explicitly_antisymmetric=True)\n",
    "\n",
    "for i, ei in enumerate(hyperfine_states):\n",
    "    for j, ej in enumerate(hyperfine_states):\n",
    "        if not Transition(ei, ej).allowed:\n",
    "            gamma=gamma.subs({gamma[i,j]: 0})\n",
    "\n",
    "# fprint(omega_level,print_ascii=print_ascii)"
   ]
  },
  {
   "cell_type": "markdown",
   "metadata": {},
   "source": [
    "The atomic hamiltonian is"
   ]
  },
  {
   "cell_type": "code",
   "execution_count": 97,
   "metadata": {
    "collapsed": false
   },
   "outputs": [],
   "source": [
    "H0=Matrix([[hbar*omega_level[i]*KroneckerDelta(i,j) for j in range(Ne)] for i in range(Ne)])\n",
    "# fprint(H0, print_ascii=print_ascii)"
   ]
  },
  {
   "cell_type": "markdown",
   "metadata": {
    "collapsed": false
   },
   "source": [
    "The interaction hamiltonian is"
   ]
  },
  {
   "cell_type": "code",
   "execution_count": 98,
   "metadata": {
    "collapsed": false
   },
   "outputs": [],
   "source": [
    "zero_matrix=zeros(Ne,Ne)\n",
    "H1=sum([ e*helicity_dot_product(E[l],r) for l in range(Nl)],zero_matrix)\n",
    "# fprint(H1,print_ascii=print_ascii)"
   ]
  },
  {
   "cell_type": "markdown",
   "metadata": {},
   "source": [
    "and the complete hamiltonian is"
   ]
  },
  {
   "cell_type": "code",
   "execution_count": 99,
   "metadata": {
    "collapsed": false
   },
   "outputs": [],
   "source": [
    "H=H0+H1"
   ]
  },
  {
   "cell_type": "markdown",
   "metadata": {
    "collapsed": true
   },
   "source": [
    "# Rotating wave approximation\n",
    "Notice that the electric field can be separated by terms with positive and negative frequency:"
   ]
  },
  {
   "cell_type": "code",
   "execution_count": 100,
   "metadata": {
    "collapsed": false
   },
   "outputs": [],
   "source": [
    "E_cartesian_p=[E0[l]/2            *ep[l]*exp(-I*omega_laser[l]*(t-k[l].dot(RR)/c)) for l in range(Nl)]\n",
    "E_cartesian_m=[E0[l].conjugate()/2*em[l]*exp(I*omega_laser[l]*(t-k[l].dot(RR)/c)) for l in range(Nl)]\n",
    "\n",
    "E_p=[cartesian_to_helicity(E_cartesian_p[l]) for l in range(Nl)]\n",
    "E_m=[cartesian_to_helicity(E_cartesian_m[l]) for l in range(Nl)]\n",
    "\n",
    "# fprint([E_p,E_m], print_ascii=print_ascii)"
   ]
  },
  {
   "cell_type": "code",
   "execution_count": 101,
   "metadata": {
    "collapsed": false
   },
   "outputs": [],
   "source": [
    "# fprint( simplify(sum([E[l] for l in range(Nl)],zero_vect)-(sum([E_p[l]+E_m[l] for l in range(Nl)],zero_vect) )), print_ascii=print_ascii)"
   ]
  },
  {
   "cell_type": "markdown",
   "metadata": {},
   "source": [
    "The position operator can also be separated in this way. We go to the interaction picture (with $\\hat{H}_0$ as the undisturbed hamiltonian)"
   ]
  },
  {
   "cell_type": "code",
   "execution_count": 102,
   "metadata": {
    "collapsed": false
   },
   "outputs": [],
   "source": [
    "r_I=[ Matrix([[exp(I*omega[i,j]*t)*r[p][i,j] for j in range(Ne)] for i in range(Ne)]) for p in range(3)]\n",
    "# fprint(r_I[0], print_ascii=print_ascii)"
   ]
  },
  {
   "cell_type": "code",
   "execution_count": 103,
   "metadata": {
    "collapsed": false
   },
   "outputs": [],
   "source": [
    "# fprint(r_I[1], print_ascii=print_ascii)"
   ]
  },
  {
   "cell_type": "code",
   "execution_count": 104,
   "metadata": {
    "collapsed": false
   },
   "outputs": [],
   "source": [
    "# fprint(r_I[2], print_ascii=print_ascii)"
   ]
  },
  {
   "cell_type": "markdown",
   "metadata": {},
   "source": [
    "Which can be decomposed in positive and negative frequencies as"
   ]
  },
  {
   "cell_type": "code",
   "execution_count": 105,
   "metadata": {
    "collapsed": false
   },
   "outputs": [],
   "source": [
    "r_I_p=[ Matrix([[ delta_greater(j,i)*exp(-I*omega[j,i]*t)*r[p][i,j] for j in range(Ne)]for i in range(Ne)]) for p in range(3)]\n",
    "# fprint(r_I_p[0], print_ascii=print_ascii)"
   ]
  },
  {
   "cell_type": "code",
   "execution_count": 106,
   "metadata": {
    "collapsed": false
   },
   "outputs": [],
   "source": [
    "# fprint(r_I_p[1], print_ascii=print_ascii)"
   ]
  },
  {
   "cell_type": "code",
   "execution_count": 107,
   "metadata": {
    "collapsed": false
   },
   "outputs": [],
   "source": [
    "# fprint(r_I_p[2], print_ascii=print_ascii)"
   ]
  },
  {
   "cell_type": "code",
   "execution_count": 108,
   "metadata": {
    "collapsed": false
   },
   "outputs": [],
   "source": [
    "r_I_m=[ Matrix([[ delta_lesser( j,i)*exp( I*omega[i,j]*t)*r[p][i,j] for j in range(Ne)]for i in range(Ne)]) for p in range(3)]\n",
    "# fprint(r_I_m[0],print_ascii=print_ascii)"
   ]
  },
  {
   "cell_type": "code",
   "execution_count": 109,
   "metadata": {
    "collapsed": false
   },
   "outputs": [],
   "source": [
    "# fprint(r_I_m[1], print_ascii=print_ascii)"
   ]
  },
  {
   "cell_type": "code",
   "execution_count": 110,
   "metadata": {
    "collapsed": false
   },
   "outputs": [],
   "source": [
    "# fprint(r_I_m[2], print_ascii=print_ascii)"
   ]
  },
  {
   "cell_type": "markdown",
   "metadata": {},
   "source": [
    "that summed equal $\\vec{\\hat{r}}_I$"
   ]
  },
  {
   "cell_type": "code",
   "execution_count": 111,
   "metadata": {
    "collapsed": false
   },
   "outputs": [],
   "source": [
    "# fprint( [r_I[p]-(r_I_p[p]+r_I_m[p]) for p in range(3)] , print_ascii=print_ascii)"
   ]
  },
  {
   "cell_type": "markdown",
   "metadata": {},
   "source": [
    "Thus the interaction hamiltonian in the interaciton picture is\n",
    "\\begin{equation}\n",
    "    \\hat{H}_{1I}=e\\vec{E}\\cdot \\vec{\\hat{r}}_I= e(\\vec{E}^{(+)}\\cdot \\vec{\\hat{r}}^{(+)}_I + \\vec{E}^{(+)}\\cdot \\vec{\\hat{r}}^{(-)}_I + \\vec{E}^{(-)}\\cdot \\vec{\\hat{r}}^{(+)}_I + \\vec{E}^{(-)}\\cdot \\vec{\\hat{r}}^{(-)}_I)\n",
    "\\end{equation}"
   ]
  },
  {
   "cell_type": "code",
   "execution_count": 112,
   "metadata": {
    "collapsed": false
   },
   "outputs": [],
   "source": [
    "H1I=sum([ e*helicity_dot_product(E[l],r_I) for l in range(Nl)],zero_matrix)\n",
    "# fprint(H1I,print_ascii=print_ascii)"
   ]
  },
  {
   "cell_type": "markdown",
   "metadata": {},
   "source": [
    "Since both $\\omega^l$ and $\\omega_{ij}$ are in the order of THz, the terms that have frequencies with the same sign are summed, and thus also of the order of THz. The frequencies in the terms with oposite signs however, are detunings of the order of MHz. Since we are only interested in the coarse-grained evolution of the density matrix, we may omit the fast terms and approximate\n",
    "\n",
    "\\begin{equation}\n",
    "    \\hat{H}_{1I} \\simeq \\hat{H}_{1I,RWA}= e( \\vec{E}^{(+)}\\cdot \\vec{\\hat{r}}^{(-)}_I + \\vec{E}^{(-)}\\cdot \\vec{\\hat{r}}^{(+)}_I )\n",
    "\\end{equation}\n",
    "\n",
    "That is known as the rotating wave approximation (RWA)."
   ]
  },
  {
   "cell_type": "code",
   "execution_count": 113,
   "metadata": {
    "collapsed": false
   },
   "outputs": [],
   "source": [
    "H1IRWA=sum( [ (e*(helicity_dot_product(E_p[l],r_I_m)+helicity_dot_product(E_m[l],r_I_p))) for l in range(Nl)],zero_matrix)\n",
    "# fprint(H1IRWA,print_ascii=print_ascii)"
   ]
  },
  {
   "cell_type": "markdown",
   "metadata": {},
   "source": [
    "The matrix element $(\\hat{H}_{1I,RWA})_{21}$ element is"
   ]
  },
  {
   "cell_type": "code",
   "execution_count": 114,
   "metadata": {
    "collapsed": false
   },
   "outputs": [],
   "source": [
    "# fprint(H1IRWA[1,0].expand(),print_ascii=print_ascii)"
   ]
  },
  {
   "cell_type": "markdown",
   "metadata": {},
   "source": [
    "But if the detuning $\\omega_{21}-\\omega^1 \\ll \\omega_{21}-\\omega^2$ (the second field is far detuned from the $1 \\rightarrow 2$ transition), then $\\omega_{21}-\\omega^2$ may be also considered too high a frequency to be relevant to coarse-grained evolution. So we might neclect that term in $(\\hat{H}_{1I,RWA})_{21}$ and similarly neglect the $\\omega_{32}-\\omega^1$ for term in $(\\hat{H}_{1I,RWA})_{32}$:"
   ]
  },
  {
   "cell_type": "code",
   "execution_count": 115,
   "metadata": {
    "collapsed": false
   },
   "outputs": [],
   "source": [
    "# fprint(H1IRWA[2,1].expand(),print_ascii=print_ascii)"
   ]
  },
  {
   "cell_type": "markdown",
   "metadata": {},
   "source": [
    "In other words, if the detunings in our experiments allow the approximmation, we might choose which frequency components $\\omega^l$ excite which transitions. Let us say that $L_{ij}$ is the set of $l$ such that $\\omega^l$ excites the transition $i\\rightarrow j$"
   ]
  },
  {
   "cell_type": "code",
   "execution_count": 116,
   "metadata": {
    "collapsed": false
   },
   "outputs": [
    {
     "name": "stdout",
     "output_type": "stream",
     "text": [
      "[[[] [] [1] [1] [1] [] [] [] [] [] [] []]\n",
      " [[] [] [] [1] [1] [1] [] [] [] [] [] []]\n",
      " [[1] [] [] [] [] [] [] [] [] [2] [2] [2]]\n",
      " [[1] [1] [] [] [] [] [] [] [2] [2] [2] []]\n",
      " [[1] [1] [] [] [] [] [] [2] [2] [2] [] []]\n",
      " [[] [1] [] [] [] [] [2] [2] [2] [] [] []]\n",
      " [[] [] [] [] [] [2] [] [] [] [] [] []]\n",
      " [[] [] [] [] [2] [2] [] [] [] [] [] []]\n",
      " [[] [] [] [2] [2] [2] [] [] [] [] [] []]\n",
      " [[] [] [2] [2] [2] [] [] [] [] [] [] []]\n",
      " [[] [] [2] [2] [] [] [] [] [] [] [] []]\n",
      " [[] [] [2] [] [] [] [] [] [] [] [] []]]\n"
     ]
    }
   ],
   "source": [
    "Lij=[[1,2,[1]],[2,3,[2]]]\n",
    "Lij1 = [[[i+1, j+1, [1]] for j in range(i)\n",
    "         if Transition(hyperfine_states[i], hyperfine_states[j]).allowed] for i in range(6)]\n",
    "Lij2 = [[[i+1, j+1, [2]] for j in range(i)\n",
    "         if Transition(hyperfine_states[i], hyperfine_states[j]).allowed] for i in range(6, Ne)]\n",
    "Lij1 = sum(Lij1, [])\n",
    "Lij2 = sum(Lij2, [])\n",
    "Lij = Lij1 + Lij2\n",
    "# print Lij\n",
    "Lij=formatLij(Lij,Ne)\n",
    "print array(Lij)"
   ]
  },
  {
   "cell_type": "markdown",
   "metadata": {},
   "source": [
    "Thus the interacion hamiltonian in the interaction picture can be approximated as"
   ]
  },
  {
   "cell_type": "code",
   "execution_count": 117,
   "metadata": {
    "collapsed": false
   },
   "outputs": [],
   "source": [
    "H1IRWA =sum([ e*( helicity_dot_product( E_p[l],vector_element(r_I_m,i,j)) ) * ket(i+1,Ne)*bra(j+1,Ne) \n",
    "            for l in range(Nl) for j in range(Ne) for i in range(Ne) if l+1 in Lij[i][j] ],zero_matrix)\n",
    "H1IRWA+=sum([ e*( helicity_dot_product( E_m[l],vector_element(r_I_p,i,j)) ) * ket(i+1,Ne)*bra(j+1,Ne) \n",
    "            for l in range(Nl) for j in range(Ne) for i in range(Ne) if l+1 in Lij[i][j] ],zero_matrix)\n",
    "\n",
    "# fprint(H1IRWA, print_ascii=print_ascii)"
   ]
  },
  {
   "cell_type": "markdown",
   "metadata": {},
   "source": [
    "Returning to the Schrödinger picture we have."
   ]
  },
  {
   "cell_type": "code",
   "execution_count": 118,
   "metadata": {
    "collapsed": false
   },
   "outputs": [],
   "source": [
    "r_p=[ Matrix([[ delta_greater(j,i)*r[p][i,j] for j in range(Ne)]for i in range(Ne)]) for p in range(3)]\n",
    "# fprint(r_p, print_ascii=print_ascii)"
   ]
  },
  {
   "cell_type": "code",
   "execution_count": 119,
   "metadata": {
    "collapsed": false
   },
   "outputs": [],
   "source": [
    "r_m=[ Matrix([[ delta_lesser( j,i)*r[p][i,j] for j in range(Ne)]for i in range(Ne)]) for p in range(3)]\n",
    "# fprint(r_m, print_ascii=print_ascii)"
   ]
  },
  {
   "cell_type": "code",
   "execution_count": 120,
   "metadata": {
    "collapsed": false
   },
   "outputs": [],
   "source": [
    "# fprint( [r[p]-(r_p[p]+r_m[p]) for p in range(3)] , print_ascii=print_ascii)"
   ]
  },
  {
   "cell_type": "markdown",
   "metadata": {},
   "source": [
    "Thus the interaction hamiltonian in the Schrödinger picture in the rotating wave approximation is"
   ]
  },
  {
   "cell_type": "code",
   "execution_count": 121,
   "metadata": {
    "collapsed": false
   },
   "outputs": [],
   "source": [
    "H1RWA =sum([ e*( helicity_dot_product( E_p[l],vector_element(r_m,i,j)) ) * ket(i+1,Ne)*bra(j+1,Ne) \n",
    "            for l in range(Nl) for j in range(Ne) for i in range(Ne) if l+1 in Lij[i][j] ],zero_matrix)\n",
    "H1RWA+=sum([ e*( helicity_dot_product( E_m[l],vector_element(r_p,i,j)) ) * ket(i+1,Ne)*bra(j+1,Ne) \n",
    "            for l in range(Nl) for j in range(Ne) for i in range(Ne) if l+1 in Lij[i][j] ],zero_matrix)\n",
    "\n",
    "# fprint(H1RWA, print_ascii=print_ascii)"
   ]
  },
  {
   "cell_type": "markdown",
   "metadata": {},
   "source": [
    "And the complete hamiltonian in the Schrödinger picture in the rotating wave approximation is"
   ]
  },
  {
   "cell_type": "code",
   "execution_count": 122,
   "metadata": {
    "collapsed": false
   },
   "outputs": [],
   "source": [
    "HRWA=H0+H1RWA\n",
    "# fprint(HRWA, print_ascii=print_ascii)"
   ]
  },
  {
   "cell_type": "markdown",
   "metadata": {
    "collapsed": true
   },
   "source": [
    "# Rotating Frame\n",
    "Next we will make a phase transformation in order to eliminate the explicit time dependance of the equations."
   ]
  },
  {
   "cell_type": "code",
   "execution_count": 123,
   "metadata": {
    "collapsed": false
   },
   "outputs": [],
   "source": [
    "cc,cctilde,phase=define_psi_coefficients(Ne)\n",
    "# fprint([cc,cctilde,phase], print_ascii=print_ascii)"
   ]
  },
  {
   "cell_type": "code",
   "execution_count": 124,
   "metadata": {
    "collapsed": false
   },
   "outputs": [],
   "source": [
    "phase=Matrix([ Function(\"theta_\"+str(i+1),real=True)(t,Z) for i in range(Ne)])\n",
    "# phase"
   ]
  },
  {
   "cell_type": "code",
   "execution_count": 125,
   "metadata": {
    "collapsed": false
   },
   "outputs": [],
   "source": [
    "psi=Matrix([ exp(I*phase[i])*cctilde[i] for i in range(Ne)])\n",
    "# fprint(psi, print_ascii=print_ascii)"
   ]
  },
  {
   "cell_type": "markdown",
   "metadata": {},
   "source": [
    "The Schrödinger equation $i\\hbar \\partial_t |\\psi\\rangle=\\hat{H}_{RWA}$ is"
   ]
  },
  {
   "cell_type": "code",
   "execution_count": 126,
   "metadata": {
    "collapsed": false
   },
   "outputs": [],
   "source": [
    "lhs=Matrix([(I*hbar*Derivative(psi[i],t).doit()).expand() for i in range(Ne)])\n",
    "# fprint(lhs, print_ascii=print_ascii)"
   ]
  },
  {
   "cell_type": "code",
   "execution_count": 127,
   "metadata": {
    "collapsed": false
   },
   "outputs": [],
   "source": [
    "rhs=HRWA*psi"
   ]
  },
  {
   "cell_type": "markdown",
   "metadata": {},
   "source": [
    "We multiply each of these equations by $e^{-i \\theta_i}$ and substracting $i \\theta_i \\tilde{c}_i$"
   ]
  },
  {
   "cell_type": "code",
   "execution_count": 128,
   "metadata": {
    "collapsed": false
   },
   "outputs": [],
   "source": [
    "lhs_new=Matrix([simplify(  lhs[i]*exp(-I*phase[i]) +hbar*Derivative(phase[i],t)*cctilde[i] ) for i in range(Ne)])\n",
    "# fprint(lhs_new, print_ascii=print_ascii)"
   ]
  },
  {
   "cell_type": "code",
   "execution_count": 129,
   "metadata": {
    "collapsed": false
   },
   "outputs": [],
   "source": [
    "rhs_new=Matrix([simplify(  rhs[i]*exp(-I*phase[i])\n",
    "                         +hbar*Derivative(phase[i],t)*cctilde[i] ).expand() for i in range(Ne)])\n",
    "# fprint(rhs_new, print_ascii=print_ascii)"
   ]
  },
  {
   "cell_type": "markdown",
   "metadata": {},
   "source": [
    "It can be seen that the equations loose their explicit time dependance only if $\\omega^{1}(-Z/c+t) - \\theta_{1} +\n",
    "\\theta_{2}=0$ and $\\omega^{2}(Z/c+t) - \\theta_{2} + \\theta_{3}=0$. Which is satisfied if"
   ]
  },
  {
   "cell_type": "code",
   "execution_count": 130,
   "metadata": {
    "collapsed": true
   },
   "outputs": [],
   "source": [
    "from fast import bloch\n",
    "import numpy as np"
   ]
  },
  {
   "cell_type": "code",
   "execution_count": 131,
   "metadata": {
    "collapsed": false
   },
   "outputs": [],
   "source": [
    "xi = np.zeros((Nl, Ne, Ne))\n",
    "for l in range(Nl):\n",
    "    for i in range(Ne):\n",
    "        for j in range(Ne):\n",
    "            if l+1 in Lij[i][j]:\n",
    "                xi[l, i, j] = 1\n"
   ]
  },
  {
   "cell_type": "code",
   "execution_count": 132,
   "metadata": {
    "collapsed": false
   },
   "outputs": [],
   "source": [
    "pt = bloch.phase_transformation(Ne, Nl, r_m, xi)\n",
    "#pt = {phase[i]: pt[i] for i in range(Ne)}\n",
    "ss ={t*omega_laser[0]: (t-Z/c)*omega_laser[0],\n",
    "     t*omega_laser[1]: (t+Z/c)*omega_laser[1]}\n",
    "pt = {phase[i]: (pt[i]*t).expand().subs(ss).expand() for i in range(Ne)}"
   ]
  },
  {
   "cell_type": "markdown",
   "metadata": {},
   "source": [
    "Thus the equations become"
   ]
  },
  {
   "cell_type": "code",
   "execution_count": 135,
   "metadata": {
    "collapsed": false
   },
   "outputs": [],
   "source": [
    "rhs_new2=simplify(rhs_new.subs(pt)).doit().expand().simplify()\n",
    "# fprint(rhs_new2, print_ascii=print_ascii)"
   ]
  },
  {
   "cell_type": "markdown",
   "metadata": {},
   "source": [
    "It can be seen that this is the Schrödinger equation derived from an effective hamiltonian $\\tilde{H}$"
   ]
  },
  {
   "cell_type": "code",
   "execution_count": 395,
   "metadata": {
    "collapsed": false
   },
   "outputs": [],
   "source": [
    "Htilde=Matrix([ [Derivative(rhs_new2[i],cctilde[j]).doit().simplify() for j in range(Ne)] for i in range(Ne)])\n",
    "# fprint(Htilde, print_ascii=print_ascii)"
   ]
  },
  {
   "cell_type": "code",
   "execution_count": 393,
   "metadata": {
    "collapsed": false
   },
   "outputs": [],
   "source": [
    "Om131, Om141, Om142, Om151, Om152, Om162 = symbols(\"Omega_131, Omega_141, Omega_142, Omega_151, Omega_152, Omega_162\")\n",
    "Om276, Om286, Om296, Om285, Om295, Om2105 = symbols(\"Omega_276, Omega_286, Omega_296, Omega_285, Omega_295, Omega_2105\")\n",
    "Om294, Om2104, Om2114, Om2103, Om2113, Om2123 = symbols(\"Omega_294, Omega_2104, Omega_2114, Omega_2103, Omega_2113, Omega_2123\")\n",
    "\n",
    "delta1, delta2 = symbols(\"delta1, delta2\", real=True)\n",
    "\n",
    "ssOm ={r[2][2,0]*E0[0]: Om131/e*hbar,\n",
    "       r[2][3,0]*E0[0]: Om141/e*hbar,\n",
    "       r[2][3,1]*E0[0]: Om142/e*hbar,\n",
    "       r[2][4,0]*E0[0]: Om141/e*hbar,\n",
    "       r[2][4,1]*E0[0]: Om142/e*hbar,\n",
    "       r[2][5,1]*E0[0]: Om152/e*hbar,\n",
    "       \n",
    "       r[0][6, 5]*E0[1]: Om276 /e*hbar,\n",
    "       r[0][7, 5]*E0[1]: Om286 /e*hbar,\n",
    "       r[0][8, 5]*E0[1]: Om296 /e*hbar,\n",
    "       r[0][7, 4]*E0[1]: Om285 /e*hbar,\n",
    "       r[0][8, 4]*E0[1]: Om295 /e*hbar,\n",
    "       r[0][9, 4]*E0[1]: Om2105/e*hbar,\n",
    "       r[0][8, 3]*E0[1]: Om294 /e*hbar,\n",
    "       r[0][9, 3]*E0[1]: Om2104/e*hbar,\n",
    "       r[0][10,3]*E0[1]: Om2114/e*hbar,\n",
    "       r[0][9, 2]*E0[1]: Om2103/e*hbar,\n",
    "       r[0][10,2]*E0[1]: Om2113/e*hbar,\n",
    "       r[0][11,2]*E0[1]: Om2123/e*hbar}\n",
    "\n",
    "ss_delta = {omega_laser[0]: delta1 +(omega_level[2]-omega_level[1]),\n",
    "            omega_laser[1]: delta2 +(omega_level[6]-omega_level[5])}\n",
    "\n",
    "ssOm2 = {i.conjugate(): ssOm[i].conjugate() for i in ssOm}\n",
    "ssOm.update(ssOm2)"
   ]
  },
  {
   "cell_type": "code",
   "execution_count": 396,
   "metadata": {
    "collapsed": false
   },
   "outputs": [
    {
     "data": {
      "image/png": "[encoded data removed]",
      "text/latex": [
       "$$\\left[\\begin{array}{cccccccccccc}\\hbar \\omega_{1} - \\hbar \\omega_{2} & 0 & \\frac{e r_{+1;3,1}}{2} \\overline{\\operatorname{E^{1}_{0}}{\\left (t,R,Z \\right )}} & \\frac{e r_{+1;4,1}}{2} \\overline{\\operatorname{E^{1}_{0}}{\\left (t,R,Z \\right )}} & \\frac{e r_{+1;5,1}}{2} \\overline{\\operatorname{E^{1}_{0}}{\\left (t,R,Z \\right )}} & 0 & 0 & 0 & 0 & 0 & 0 & 0\\\\0 & 0 & 0 & \\frac{e r_{+1;4,2}}{2} \\overline{\\operatorname{E^{1}_{0}}{\\left (t,R,Z \\right )}} & \\frac{e r_{+1;5,2}}{2} \\overline{\\operatorname{E^{1}_{0}}{\\left (t,R,Z \\right )}} & \\frac{e r_{+1;6,2}}{2} \\overline{\\operatorname{E^{1}_{0}}{\\left (t,R,Z \\right )}} & 0 & 0 & 0 & 0 & 0 & 0\\\\\\frac{e r_{+1;3,1}}{2} \\operatorname{E^{1}_{0}}{\\left (t,R,Z \\right )} & 0 & - \\delta_{1} \\hbar & 0 & 0 & 0 & 0 & 0 & 0 & \\frac{e r_{-1;10,3}}{2} \\overline{\\operatorname{E^{2}_{0}}{\\left (t,R,Z \\right )}} & \\frac{e r_{-1;11,3}}{2} \\overline{\\operatorname{E^{2}_{0}}{\\left (t,R,Z \\right )}} & \\frac{e r_{-1;12,3}}{2} \\overline{\\operatorname{E^{2}_{0}}{\\left (t,R,Z \\right )}}\\\\\\frac{e r_{+1;4,1}}{2} \\operatorname{E^{1}_{0}}{\\left (t,R,Z \\right )} & \\frac{e r_{+1;4,2}}{2} \\operatorname{E^{1}_{0}}{\\left (t,R,Z \\right )} & 0 & - \\delta_{1} \\hbar - \\hbar \\omega_{3} + \\hbar \\omega_{4} & 0 & 0 & 0 & 0 & \\frac{e r_{-1;9,4}}{2} \\overline{\\operatorname{E^{2}_{0}}{\\left (t,R,Z \\right )}} & \\frac{e r_{-1;10,4}}{2} \\overline{\\operatorname{E^{2}_{0}}{\\left (t,R,Z \\right )}} & \\frac{e r_{-1;11,4}}{2} \\overline{\\operatorname{E^{2}_{0}}{\\left (t,R,Z \\right )}} & 0\\\\\\frac{e r_{+1;5,1}}{2} \\operatorname{E^{1}_{0}}{\\left (t,R,Z \\right )} & \\frac{e r_{+1;5,2}}{2} \\operatorname{E^{1}_{0}}{\\left (t,R,Z \\right )} & 0 & 0 & - \\delta_{1} \\hbar - \\hbar \\omega_{3} + \\hbar \\omega_{5} & 0 & 0 & \\frac{e r_{-1;8,5}}{2} \\overline{\\operatorname{E^{2}_{0}}{\\left (t,R,Z \\right )}} & \\frac{e r_{-1;9,5}}{2} \\overline{\\operatorname{E^{2}_{0}}{\\left (t,R,Z \\right )}} & \\frac{e r_{-1;10,5}}{2} \\overline{\\operatorname{E^{2}_{0}}{\\left (t,R,Z \\right )}} & 0 & 0\\\\0 & \\frac{e r_{+1;6,2}}{2} \\operatorname{E^{1}_{0}}{\\left (t,R,Z \\right )} & 0 & 0 & 0 & - \\delta_{1} \\hbar - \\hbar \\omega_{3} + \\hbar \\omega_{6} & \\frac{e r_{-1;7,6}}{2} \\overline{\\operatorname{E^{2}_{0}}{\\left (t,R,Z \\right )}} & \\frac{e r_{-1;8,6}}{2} \\overline{\\operatorname{E^{2}_{0}}{\\left (t,R,Z \\right )}} & \\frac{e r_{-1;9,6}}{2} \\overline{\\operatorname{E^{2}_{0}}{\\left (t,R,Z \\right )}} & 0 & 0 & 0\\\\0 & 0 & 0 & 0 & 0 & \\frac{e r_{-1;7,6}}{2} \\operatorname{E^{2}_{0}}{\\left (t,R,Z \\right )} & - \\delta_{1} \\hbar - \\delta_{2} \\hbar - \\hbar \\omega_{3} + \\hbar \\omega_{6} & 0 & 0 & 0 & 0 & 0\\\\0 & 0 & 0 & 0 & \\frac{e r_{-1;8,5}}{2} \\operatorname{E^{2}_{0}}{\\left (t,R,Z \\right )} & \\frac{e r_{-1;8,6}}{2} \\operatorname{E^{2}_{0}}{\\left (t,R,Z \\right )} & 0 & - \\delta_{1} \\hbar - \\delta_{2} \\hbar - \\hbar \\omega_{3} + \\hbar \\omega_{6} - \\hbar \\omega_{7} + \\hbar \\omega_{8} & 0 & 0 & 0 & 0\\\\0 & 0 & 0 & \\frac{e r_{-1;9,4}}{2} \\operatorname{E^{2}_{0}}{\\left (t,R,Z \\right )} & \\frac{e r_{-1;9,5}}{2} \\operatorname{E^{2}_{0}}{\\left (t,R,Z \\right )} & \\frac{e r_{-1;9,6}}{2} \\operatorname{E^{2}_{0}}{\\left (t,R,Z \\right )} & 0 & 0 & - \\delta_{1} \\hbar - \\delta_{2} \\hbar - \\hbar \\omega_{3} + \\hbar \\omega_{6} - \\hbar \\omega_{7} + \\hbar \\omega_{9} & 0 & 0 & 0\\\\0 & 0 & \\frac{e r_{-1;10,3}}{2} \\operatorname{E^{2}_{0}}{\\left (t,R,Z \\right )} & \\frac{e r_{-1;10,4}}{2} \\operatorname{E^{2}_{0}}{\\left (t,R,Z \\right )} & \\frac{e r_{-1;10,5}}{2} \\operatorname{E^{2}_{0}}{\\left (t,R,Z \\right )} & 0 & 0 & 0 & 0 & - \\delta_{1} \\hbar - \\delta_{2} \\hbar + \\hbar \\omega_{10} - \\hbar \\omega_{3} + \\hbar \\omega_{6} - \\hbar \\omega_{7} & 0 & 0\\\\0 & 0 & \\frac{e r_{-1;11,3}}{2} \\operatorname{E^{2}_{0}}{\\left (t,R,Z \\right )} & \\frac{e r_{-1;11,4}}{2} \\operatorname{E^{2}_{0}}{\\left (t,R,Z \\right )} & 0 & 0 & 0 & 0 & 0 & 0 & - \\delta_{1} \\hbar - \\delta_{2} \\hbar + \\hbar \\omega_{11} - \\hbar \\omega_{3} + \\hbar \\omega_{6} - \\hbar \\omega_{7} & 0\\\\0 & 0 & \\frac{e r_{-1;12,3}}{2} \\operatorname{E^{2}_{0}}{\\left (t,R,Z \\right )} & 0 & 0 & 0 & 0 & 0 & 0 & 0 & 0 & - \\delta_{1} \\hbar - \\delta_{2} \\hbar + \\hbar \\omega_{12} - \\hbar \\omega_{3} + \\hbar \\omega_{6} - \\hbar \\omega_{7}\\end{array}\\right]$$"
      ],
      "text/plain": [
       "⎡                                                                   __________\n",
       "⎢                                                      e⋅r_{+1;3,1}⋅E¹₀(t, R, \n",
       "⎢      h̅⋅ω₁ - h̅⋅ω₂                    0              ───────────────────────\n",
       "⎢                                                                  2          \n",
       "⎢                                                                             \n",
       "⎢                                                                             \n",
       "⎢                                                                             \n",
       "⎢            0                          0                          0          \n",
       "⎢                                                                             \n",
       "⎢                                                                             \n",
       "⎢                                                                             \n",
       "⎢e⋅r_{+1;3,1}⋅E¹₀(t, R, Z)                                                    \n",
       "⎢─────────────────────────              0                        -δ₁⋅h̅       \n",
       "⎢            2                                                                \n",
       "⎢                                                                             \n",
       "⎢                                                                             \n",
       "⎢e⋅r_{+1;4,1}⋅E¹₀(t, R, Z)  e⋅r_{+1;4,2}⋅E¹₀(t, R, Z)                         \n",
       "⎢─────────────────────────  ─────────────────────────              0          \n",
       "⎢            2                          2                                     \n",
       "⎢                                                                             \n",
       "⎢                                                                             \n",
       "⎢e⋅r_{+1;5,1}⋅E¹₀(t, R, Z)  e⋅r_{+1;5,2}⋅E¹₀(t, R, Z)                         \n",
       "⎢─────────────────────────  ─────────────────────────              0          \n",
       "⎢            2                          2                                     \n",
       "⎢                                                                             \n",
       "⎢                                                                             \n",
       "⎢                           e⋅r_{+1;6,2}⋅E¹₀(t, R, Z)                         \n",
       "⎢            0              ─────────────────────────              0          \n",
       "⎢                                       2                                     \n",
       "⎢                                                                             \n",
       "⎢                                                                             \n",
       "⎢            0                          0                          0          \n",
       "⎢                                                                             \n",
       "⎢                                                                             \n",
       "⎢                                                                             \n",
       "⎢            0                          0                          0          \n",
       "⎢                                                                             \n",
       "⎢                                                                             \n",
       "⎢                                                                             \n",
       "⎢            0                          0                          0          \n",
       "⎢                                                                             \n",
       "⎢                                                                             \n",
       "⎢                                                      e⋅r_{-1;10,3}⋅E²₀(t, R,\n",
       "⎢            0                          0              ───────────────────────\n",
       "⎢                                                                  2          \n",
       "⎢                                                                             \n",
       "⎢                                                      e⋅r_{-1;11,3}⋅E²₀(t, R,\n",
       "⎢            0                          0              ───────────────────────\n",
       "⎢                                                                  2          \n",
       "⎢                                                                             \n",
       "⎢                                                      e⋅r_{-1;12,3}⋅E²₀(t, R,\n",
       "⎢            0                          0              ───────────────────────\n",
       "⎣                                                                  2          \n",
       "\n",
       "__                ____________                ____________                    \n",
       "Z)   e⋅r_{+1;4,1}⋅E¹₀(t, R, Z)   e⋅r_{+1;5,1}⋅E¹₀(t, R, Z)                    \n",
       "──   ─────────────────────────   ─────────────────────────               0    \n",
       "                 2                           2                                \n",
       "                                                                              \n",
       "                  ____________                ____________                ____\n",
       "     e⋅r_{+1;4,2}⋅E¹₀(t, R, Z)   e⋅r_{+1;5,2}⋅E¹₀(t, R, Z)   e⋅r_{+1;6,2}⋅E¹₀(\n",
       "     ─────────────────────────   ─────────────────────────   ─────────────────\n",
       "                 2                           2                           2    \n",
       "                                                                              \n",
       "                                                                              \n",
       "                                                                              \n",
       "                 0                           0                           0    \n",
       "                                                                              \n",
       "                                                                              \n",
       "                                                                              \n",
       "                                                                              \n",
       "       -δ₁⋅h̅ - h̅⋅ω₃ + h̅⋅ω₄                0                           0    \n",
       "                                                                              \n",
       "                                                                              \n",
       "                                                                              \n",
       "                                                                              \n",
       "                 0                 -δ₁⋅h̅ - h̅⋅ω₃ + h̅⋅ω₅                0    \n",
       "                                                                              \n",
       "                                                                              \n",
       "                                                                              \n",
       "                                                                              \n",
       "                 0                           0                -δ₁⋅h̅ - h̅⋅ω₃ +\n",
       "                                                                              \n",
       "                                                                              \n",
       "                                                             e⋅r_{-1;7,6}⋅E²₀(\n",
       "                 0                           0               ─────────────────\n",
       "                                                                         2    \n",
       "                                                                              \n",
       "                                 e⋅r_{-1;8,5}⋅E²₀(t, R, Z)   e⋅r_{-1;8,6}⋅E²₀(\n",
       "                 0               ─────────────────────────   ─────────────────\n",
       "                                             2                           2    \n",
       "                                                                              \n",
       "     e⋅r_{-1;9,4}⋅E²₀(t, R, Z)   e⋅r_{-1;9,5}⋅E²₀(t, R, Z)   e⋅r_{-1;9,6}⋅E²₀(\n",
       "     ─────────────────────────   ─────────────────────────   ─────────────────\n",
       "                 2                           2                           2    \n",
       "                                                                              \n",
       " Z)  e⋅r_{-1;10,4}⋅E²₀(t, R, Z)  e⋅r_{-1;10,5}⋅E²₀(t, R, Z)                   \n",
       "───  ──────────────────────────  ──────────────────────────              0    \n",
       "                 2                           2                                \n",
       "                                                                              \n",
       " Z)  e⋅r_{-1;11,4}⋅E²₀(t, R, Z)                                               \n",
       "───  ──────────────────────────              0                           0    \n",
       "                 2                                                            \n",
       "                                                                              \n",
       " Z)                                                                           \n",
       "───              0                           0                           0    \n",
       "                                                                              \n",
       "\n",
       "                                                                              \n",
       "                                                                              \n",
       "                        0                                       0             \n",
       "                                                                              \n",
       "                                                                              \n",
       "________                                                                      \n",
       "t, R, Z)                                                                      \n",
       "────────                0                                       0             \n",
       "                                                                              \n",
       "                                                                              \n",
       "                                                                              \n",
       "                                                                              \n",
       "                        0                                       0             \n",
       "                                                                              \n",
       "                                                                              \n",
       "                                                                              \n",
       "                                                                              \n",
       "                        0                                       0             \n",
       "                                                                              \n",
       "                                                                              \n",
       "                                                                 ____________ \n",
       "                                                    e⋅r_{-1;8,5}⋅E²₀(t, R, Z) \n",
       "                        0                           ───────────────────────── \n",
       "                                                                2             \n",
       "                                                                              \n",
       "                         ____________                            ____________ \n",
       "            e⋅r_{-1;7,6}⋅E²₀(t, R, Z)               e⋅r_{-1;8,6}⋅E²₀(t, R, Z) \n",
       " h̅⋅ω₆      ─────────────────────────               ───────────────────────── \n",
       "                        2                                       2             \n",
       "                                                                              \n",
       "t, R, Z)                                                                      \n",
       "────────  -δ₁⋅h̅ - δ₂⋅h̅ - h̅⋅ω₃ + h̅⋅ω₆                        0             \n",
       "                                                                              \n",
       "                                                                              \n",
       "t, R, Z)                                                                      \n",
       "────────                0                 -δ₁⋅h̅ - δ₂⋅h̅ - h̅⋅ω₃ + h̅⋅ω₆ - h̅⋅\n",
       "                                                                              \n",
       "                                                                              \n",
       "t, R, Z)                                                                      \n",
       "────────                0                                       0             \n",
       "                                                                              \n",
       "                                                                              \n",
       "                                                                              \n",
       "                        0                                       0             \n",
       "                                                                              \n",
       "                                                                              \n",
       "                                                                              \n",
       "                        0                                       0             \n",
       "                                                                              \n",
       "                                                                              \n",
       "                                                                              \n",
       "                        0                                       0             \n",
       "                                                                              \n",
       "\n",
       "                                                                              \n",
       "                                                                              \n",
       "                                  0                                           \n",
       "                                                                              \n",
       "                                                                              \n",
       "                                                                              \n",
       "                                                                              \n",
       "                                  0                                           \n",
       "                                                                              \n",
       "                                                                              \n",
       "                                                                              \n",
       "                                                                      e⋅r_{-1;\n",
       "                                  0                                   ────────\n",
       "                                                                              \n",
       "                                                                              \n",
       "                                   ____________                               \n",
       "                      e⋅r_{-1;9,4}⋅E²₀(t, R, Z)                       e⋅r_{-1;\n",
       "                      ─────────────────────────                       ────────\n",
       "                                  2                                           \n",
       "                                                                              \n",
       "                                   ____________                               \n",
       "                      e⋅r_{-1;9,5}⋅E²₀(t, R, Z)                       e⋅r_{-1;\n",
       "                      ─────────────────────────                       ────────\n",
       "                                  2                                           \n",
       "                                                                              \n",
       "                                   ____________                               \n",
       "                      e⋅r_{-1;9,6}⋅E²₀(t, R, Z)                               \n",
       "                      ─────────────────────────                               \n",
       "                                  2                                           \n",
       "                                                                              \n",
       "                                                                              \n",
       "                                  0                                           \n",
       "                                                                              \n",
       "                                                                              \n",
       "                                                                              \n",
       "ω₇ + h̅⋅ω₈                        0                                           \n",
       "                                                                              \n",
       "                                                                              \n",
       "                                                                              \n",
       "            -δ₁⋅h̅ - δ₂⋅h̅ - h̅⋅ω₃ + h̅⋅ω₆ - h̅⋅ω₇ + h̅⋅ω₉                    \n",
       "                                                                              \n",
       "                                                                              \n",
       "                                                                              \n",
       "                                  0                         -δ₁⋅h̅ - δ₂⋅h̅ + h\n",
       "                                                                              \n",
       "                                                                              \n",
       "                                                                              \n",
       "                                  0                                           \n",
       "                                                                              \n",
       "                                                                              \n",
       "                                                                              \n",
       "                                  0                                           \n",
       "                                                                              \n",
       "\n",
       "                                                                              \n",
       "                                                                              \n",
       "     0                                                0                       \n",
       "                                                                              \n",
       "                                                                              \n",
       "                                                                              \n",
       "                                                                              \n",
       "     0                                                0                       \n",
       "                                                                              \n",
       "                                                                              \n",
       "      ____________                                     ____________           \n",
       "10,3}⋅E²₀(t, R, Z)                       e⋅r_{-1;11,3}⋅E²₀(t, R, Z)           \n",
       "──────────────────                       ──────────────────────────           \n",
       "    2                                                2                        \n",
       "                                                                              \n",
       "      ____________                                     ____________           \n",
       "10,4}⋅E²₀(t, R, Z)                       e⋅r_{-1;11,4}⋅E²₀(t, R, Z)           \n",
       "──────────────────                       ──────────────────────────           \n",
       "    2                                                2                        \n",
       "                                                                              \n",
       "      ____________                                                            \n",
       "10,5}⋅E²₀(t, R, Z)                                                            \n",
       "──────────────────                                    0                       \n",
       "    2                                                                         \n",
       "                                                                              \n",
       "                                                                              \n",
       "                                                                              \n",
       "     0                                                0                       \n",
       "                                                                              \n",
       "                                                                              \n",
       "                                                                              \n",
       "     0                                                0                       \n",
       "                                                                              \n",
       "                                                                              \n",
       "                                                                              \n",
       "     0                                                0                       \n",
       "                                                                              \n",
       "                                                                              \n",
       "                                                                              \n",
       "     0                                                0                       \n",
       "                                                                              \n",
       "                                                                              \n",
       "                                                                              \n",
       "̅⋅ω₁₀ - h̅⋅ω₃ + h̅⋅ω₆ - h̅⋅ω₇                         0                       \n",
       "                                                                              \n",
       "                                                                              \n",
       "                                                                              \n",
       "     0                         -δ₁⋅h̅ - δ₂⋅h̅ + h̅⋅ω₁₁ - h̅⋅ω₃ + h̅⋅ω₆ - h̅⋅ω₇\n",
       "                                                                              \n",
       "                                                                              \n",
       "                                                                              \n",
       "     0                                                0                       \n",
       "                                                                              \n",
       "\n",
       "                                                 ⎤\n",
       "                                                 ⎥\n",
       "                         0                       ⎥\n",
       "                                                 ⎥\n",
       "                                                 ⎥\n",
       "                                                 ⎥\n",
       "                                                 ⎥\n",
       "                         0                       ⎥\n",
       "                                                 ⎥\n",
       "                                                 ⎥\n",
       "                          ____________           ⎥\n",
       "            e⋅r_{-1;12,3}⋅E²₀(t, R, Z)           ⎥\n",
       "            ──────────────────────────           ⎥\n",
       "                        2                        ⎥\n",
       "                                                 ⎥\n",
       "                                                 ⎥\n",
       "                                                 ⎥\n",
       "                         0                       ⎥\n",
       "                                                 ⎥\n",
       "                                                 ⎥\n",
       "                                                 ⎥\n",
       "                                                 ⎥\n",
       "                         0                       ⎥\n",
       "                                                 ⎥\n",
       "                                                 ⎥\n",
       "                                                 ⎥\n",
       "                                                 ⎥\n",
       "                         0                       ⎥\n",
       "                                                 ⎥\n",
       "                                                 ⎥\n",
       "                                                 ⎥\n",
       "                         0                       ⎥\n",
       "                                                 ⎥\n",
       "                                                 ⎥\n",
       "                                                 ⎥\n",
       "                         0                       ⎥\n",
       "                                                 ⎥\n",
       "                                                 ⎥\n",
       "                                                 ⎥\n",
       "                         0                       ⎥\n",
       "                                                 ⎥\n",
       "                                                 ⎥\n",
       "                                                 ⎥\n",
       "                         0                       ⎥\n",
       "                                                 ⎥\n",
       "                                                 ⎥\n",
       "                                                 ⎥\n",
       "                         0                       ⎥\n",
       "                                                 ⎥\n",
       "                                                 ⎥\n",
       "                                                 ⎥\n",
       "  -δ₁⋅h̅ - δ₂⋅h̅ + h̅⋅ω₁₂ - h̅⋅ω₃ + h̅⋅ω₆ - h̅⋅ω₇⎥\n",
       "                                                 ⎦"
      ]
     },
     "execution_count": 396,
     "metadata": {},
     "output_type": "execute_result"
    }
   ],
   "source": [
    "from sympy import eye\n",
    "Htilde = Htilde - eye(Ne)*hbar*(omega_level[1]-omega_level[0])\n",
    "Htilde = Htilde.expand()\n",
    "# Htilde = Htilde.subs(ssOm).expand()\n",
    "Htilde = Htilde.subs(ss_delta).expand()\n",
    "Htilde"
   ]
  },
  {
   "cell_type": "markdown",
   "metadata": {},
   "source": [
    "We can see that it is convenient to choose $\\theta_1=-\\omega_1$ to simplify the hamiltonian. Also, we can recognize $\\omega^1-\\omega_2+\\omega_1=\\delta^1$ as the detuning of the first field relative to the atomic transition $\\omega_{21}=\\omega_2-\\omega_1$, and the same for $\\omega^2-\\omega_3+\\omega_2=\\delta^2$. And choosing $\\theta_1=\\omega_1 t$"
   ]
  },
  {
   "cell_type": "markdown",
   "metadata": {},
   "source": [
    "# Optical Bloch Equations\n",
    "\n",
    "We define the density matrix."
   ]
  },
  {
   "cell_type": "code",
   "execution_count": 397,
   "metadata": {
    "collapsed": false
   },
   "outputs": [],
   "source": [
    "rho=define_density_matrix(Ne, variables=[t,R,Z])\n",
    "# fprint( rho , print_ascii=print_ascii)"
   ]
  },
  {
   "cell_type": "markdown",
   "metadata": {},
   "source": [
    "The hamiltonian part of the equations is\n",
    "\\begin{equation}\n",
    "    \\dot{\\hat{\\rho}}=\\frac{i}{\\hbar}[\\hat{\\rho}, \\hat{\\tilde{H}}]\n",
    "\\end{equation}"
   ]
  },
  {
   "cell_type": "code",
   "execution_count": 398,
   "metadata": {
    "collapsed": false
   },
   "outputs": [],
   "source": [
    "hamiltonian_terms=(I/hbar*(rho*Htilde-Htilde*rho)).expand()\n",
    "# fprint(hamiltonian_terms, print_ascii=print_ascii)"
   ]
  },
  {
   "cell_type": "markdown",
   "metadata": {},
   "source": [
    "There are two Lindblad operators, since there are two spontaneous decay channels."
   ]
  },
  {
   "cell_type": "code",
   "execution_count": 399,
   "metadata": {
    "collapsed": false
   },
   "outputs": [],
   "source": [
    "lindblads = lindblad_terms(gamma, rho, Ne)"
   ]
  },
  {
   "cell_type": "markdown",
   "metadata": {},
   "source": [
    "The Optical Bloch equations are thus."
   ]
  },
  {
   "cell_type": "code",
   "execution_count": 400,
   "metadata": {
    "collapsed": false
   },
   "outputs": [],
   "source": [
    "eqs=hamiltonian_terms + lindblads"
   ]
  },
  {
   "cell_type": "code",
   "execution_count": 401,
   "metadata": {
    "collapsed": false
   },
   "outputs": [],
   "source": [
    "eqsign=symbols(\"=\")\n",
    "eqs_list=[]\n",
    "for mu in range(0,Ne**2-1 -(Ne**2 - Ne)/2+1):\n",
    "    ii,jj,s=IJ(mu,Ne)\n",
    "    i=ii-1; j=jj-1\n",
    "    eqs_list+=[[Derivative(rho[i,j],t),eqsign,eqs[i,j]]]\n",
    "eqs_list=Matrix(eqs_list)\n",
    "# fprint(eqs_list, print_ascii=print_ascii)"
   ]
  },
  {
   "cell_type": "markdown",
   "metadata": {},
   "source": [
    "# Wave equation\n",
    "\n",
    "From Maxwell's equations in a dielectric medium it can be shown that in the abscence of bound charges, and magnetization currents, the electric field and the polazation of the medium follow the inhomogeneous wave equation.\n",
    "\n",
    "\\begin{equation}\n",
    "    \\nabla^2 \\vec{E} - \\frac{1}{c^2} \\partial^2_t \\vec{E}= \\mu_0 \\partial_t^2 \\vec{P}\n",
    "\\end{equation}\n",
    "\n",
    "We have also taken our fields to be of the form\n",
    "\n",
    "\\begin{equation}\n",
    "    \\vec{E}(t,\\vec{R})=\\vec{E}^{+}+\\vec{E}^{-}=\\frac{1}{2} \\sum_l \\vec{E}^{l(+)}(t,\\vec{R}) e^{i(\\vec{k}^l \\cdot \\vec{R} -\\omega^l t)} +c.c.\n",
    "\\end{equation}\n",
    "\n",
    "The $(+)$ part of the field is explicitly"
   ]
  },
  {
   "cell_type": "code",
   "execution_count": 402,
   "metadata": {
    "collapsed": false
   },
   "outputs": [],
   "source": [
    "# E_cartesian_p"
   ]
  },
  {
   "cell_type": "markdown",
   "metadata": {},
   "source": [
    "introducing this into the wave equation we get"
   ]
  },
  {
   "cell_type": "code",
   "execution_count": 403,
   "metadata": {
    "collapsed": true
   },
   "outputs": [],
   "source": [
    "def laplacian_cylindric(scalar,coords,full=False):\n",
    "    R,Phi,Z=coords\n",
    "    return Derivative(scalar,Z,2).doit()\n",
    "\n",
    "def laplacian_vec_cylindric(vector,coords,full=False):\n",
    "    return Matrix([ laplacian_cylindric(vi,coords,full=full) for vi in vector])"
   ]
  },
  {
   "cell_type": "code",
   "execution_count": 404,
   "metadata": {
    "collapsed": false
   },
   "outputs": [],
   "source": [
    "E_cartesian_p_tot=sum([E_cartesian_p[l] for l in range(Nl)], zero_vect)\n",
    "# E_cartesian_p_tot"
   ]
  },
  {
   "cell_type": "code",
   "execution_count": 405,
   "metadata": {
    "collapsed": false
   },
   "outputs": [],
   "source": [
    "term1=laplacian_vec_cylindric(E_cartesian_p_tot,[R,Phi,Z]) \n",
    "term2=-1/c**2*Matrix([Derivative(vi,t,2).doit() for vi in E_cartesian_p_tot])\n",
    "lhs=term1+term2\n",
    "#pprint(lhs,num_columns=150)"
   ]
  },
  {
   "cell_type": "markdown",
   "metadata": {},
   "source": [
    "And if we consider the amplitudes as slowly varying envelopes (both in time and space) we can approximate them as"
   ]
  },
  {
   "cell_type": "code",
   "execution_count": 406,
   "metadata": {
    "collapsed": false
   },
   "outputs": [],
   "source": [
    "svea_subs={Derivative(E0[0],Z,2):0,Derivative(E0[1],Z,2):0,\n",
    "           Derivative(E0[0],t,2):0,Derivative(E0[1],t,2):0}\n",
    "# svea_subs"
   ]
  },
  {
   "cell_type": "code",
   "execution_count": 407,
   "metadata": {
    "collapsed": false
   },
   "outputs": [],
   "source": [
    "lhs=lhs.subs(svea_subs)\n",
    "lhs.simplify()\n",
    "# lhs"
   ]
  },
  {
   "cell_type": "markdown",
   "metadata": {},
   "source": [
    "On the other hand, we may approximate the macroscopic polarization of the atoms as varying only at the frequencies of the electric field components and at the same polarizations:\n",
    "\n",
    "\\begin{equation}\n",
    "    \\vec{P}=\\frac{1}{2}\\sum_l \\vec{P}^{l(+)} e^{i(\\vec{k}^l \\cdot \\vec{R} -\\omega^l t)} +c.c.\n",
    "\\end{equation}\n"
   ]
  },
  {
   "cell_type": "code",
   "execution_count": 408,
   "metadata": {
    "collapsed": false
   },
   "outputs": [],
   "source": [
    "P0=[Function(\"P_0^1\")(t,R,Z), Function(\"P_0^2\")(t,R,Z)]\n",
    "# P0"
   ]
  },
  {
   "cell_type": "code",
   "execution_count": 409,
   "metadata": {
    "collapsed": false
   },
   "outputs": [],
   "source": [
    "P_cartesian_p=[P0[l]/2            *ep[l]*exp(-I*omega_laser[l]*(t-k[l].dot(RR)/c)) for l in range(Nl)]\n",
    "P_cartesian_m=[P0[l].conjugate()/2*em[l]*exp(I*omega_laser[l]*(t-k[l].dot(RR)/c)) for l in range(Nl)]\n",
    "\n",
    "P_cartesian_p_tot=sum(P_cartesian_p, zero_vect)\n",
    "\n",
    "# P_cartesian_p"
   ]
  },
  {
   "cell_type": "markdown",
   "metadata": {},
   "source": [
    "The right-hand side of the wave equation"
   ]
  },
  {
   "cell_type": "code",
   "execution_count": 410,
   "metadata": {
    "collapsed": false
   },
   "outputs": [],
   "source": [
    "rhs=mu0*Matrix([Derivative(vi,t,2).doit() for vi in P_cartesian_p_tot])\n",
    "#pprint(rhs)"
   ]
  },
  {
   "cell_type": "markdown",
   "metadata": {},
   "source": [
    "And in another slowly varying approximation, the terms with $(\\omega^1)^2$ are much larger than those with derivatives of the amplitudes."
   ]
  },
  {
   "cell_type": "code",
   "execution_count": 411,
   "metadata": {
    "collapsed": false
   },
   "outputs": [],
   "source": [
    "svea_subs2={Derivative(P0[0],t,1):0, Derivative(P0[1],t,1):0,\n",
    "            Derivative(P0[0],t,2):0, Derivative(P0[1],t,2):0}\n",
    "# svea_subs2"
   ]
  },
  {
   "cell_type": "code",
   "execution_count": 412,
   "metadata": {
    "collapsed": false
   },
   "outputs": [],
   "source": [
    "rhs=rhs.subs(svea_subs2)\n",
    "#pprint(rhs)"
   ]
  },
  {
   "cell_type": "code",
   "execution_count": 413,
   "metadata": {
    "collapsed": false
   },
   "outputs": [],
   "source": [
    "eqs_wave=lhs-rhs\n",
    "#pprint(eqs_wave)"
   ]
  },
  {
   "cell_type": "markdown",
   "metadata": {},
   "source": [
    "These are three scalar equations each of which has coupled terms varying at high frequencies $\\omega^l$. However, these frequencies can be decoupled if the polarization of the beams are orthogonal (as they are in our case). Taking a dot product with the polarizations we obtain one equation for each frequency component."
   ]
  },
  {
   "cell_type": "code",
   "execution_count": 414,
   "metadata": {
    "collapsed": false
   },
   "outputs": [],
   "source": [
    "fact1=2*c**2*exp(I*omega_laser[0]*(t-Z/c))/(2*I*omega_laser[0])\n",
    "lhs1=(fact1*ep[0].conjugate().dot(lhs)).expand()\n",
    "rhs1=(fact1*ep[0].conjugate().dot(rhs)).expand()\n",
    "\n",
    "# lhs1,rhs1"
   ]
  },
  {
   "cell_type": "code",
   "execution_count": 415,
   "metadata": {
    "collapsed": false
   },
   "outputs": [],
   "source": [
    "fact2=2*c**2*exp(I*omega_laser[1]*(t+Z/c))/(2*I*omega_laser[1])\n",
    "lhs2=(fact2*ep[1].conjugate().dot(lhs)).expand()\n",
    "rhs2=(fact2*ep[1].conjugate().dot(rhs)).expand()\n",
    "\n",
    "# lhs2,rhs2"
   ]
  },
  {
   "cell_type": "markdown",
   "metadata": {},
   "source": [
    "We take the spacial derivatives to the right-hand side. Just because we can."
   ]
  },
  {
   "cell_type": "code",
   "execution_count": 416,
   "metadata": {
    "collapsed": true
   },
   "outputs": [],
   "source": [
    "lhs1=lhs1-c*Derivative(E0[0],Z)\n",
    "rhs1=rhs1-c*Derivative(E0[0],Z)\n",
    "\n",
    "lhs2=lhs2+c*Derivative(E0[1],Z)\n",
    "rhs2=rhs2+c*Derivative(E0[1],Z)"
   ]
  },
  {
   "cell_type": "markdown",
   "metadata": {},
   "source": [
    "We put these equations in terms of Rabi frequencies."
   ]
  },
  {
   "cell_type": "code",
   "execution_count": 545,
   "metadata": {
    "collapsed": false
   },
   "outputs": [],
   "source": [
    "Om1 = Function(\"Omega1\")(t, Z)\n",
    "Om2 = Function(\"Omega2\")(t, Z)\n",
    "{E0[0]:Om131*hbar/r[2][2,0]/e}\n",
    "fact1=e*r[2][2,0]/hbar\n",
    "# fact1, lhs1, (fact1*lhs1.subs({E0[0]:Om1*hbar/r[2][2,0]/e}).doit()).expand()"
   ]
  },
  {
   "cell_type": "code",
   "execution_count": 546,
   "metadata": {
    "collapsed": false
   },
   "outputs": [],
   "source": [
    "fact1=e*r[2][2,0]/hbar\n",
    "# lhs1=(fact1*lhs1.subs({E0[0]:Om1*hbar/r[2][2,0]/e}).doit()).expand()\n",
    "# rhs1=(fact1*rhs1.subs({E0[0]:Om1*hbar/r[2][2,0]/e}).doit()).expand()\n",
    "\n",
    "# Matrix([lhs1,eqsign,rhs1]).transpose()"
   ]
  },
  {
   "cell_type": "code",
   "execution_count": 547,
   "metadata": {
    "collapsed": false
   },
   "outputs": [],
   "source": [
    "fact2=e*r[0][6,5]/hbar\n",
    "# lhs2=(fact2*lhs2.subs({E0[1]:Om2*hbar/r[0][6,5]/e}).doit()).expand()\n",
    "# rhs2=(fact2*rhs2.subs({E0[1]:Om2*hbar/r[0][6,5]/e}).doit()).expand()\n",
    "\n",
    "# Matrix([lhs2,eqsign,rhs2]).transpose()"
   ]
  },
  {
   "cell_type": "markdown",
   "metadata": {},
   "source": [
    "We may relate the macroscopic polarization to the density matrix if we identify the quantum mechanics operator that corresponds to the polarization. Since the polarization is nothing but the density of dipole moment, we can see that\n",
    "\n",
    "\\begin{equation}\n",
    "    \\vec{P}=-n \\mathrm{Tr}(e \\vec{\\hat{r}} \\hat{\\rho})\n",
    "\\end{equation}\n",
    "\n",
    "notice that the minus sign comes from the fact that $\\vec{\\hat{r}}$ points in the direction of the electron relative to the proton, while the electric dipole moment points in the opposite direction. If we further make the asumption that each frequency component $l$ of the polarization is only driven by the transition $|i\\rangle \\leftrightarrow |j\\rangle$ if $l\\in L_{ij}$, then we may decompose $\\vec{\\hat{r}}$ into $l$ components as.\n",
    "\n",
    "\\begin{equation}\n",
    "    \\vec{\\hat{r}} = \\sum_l \\vec{\\hat{r}}^{l(+)} + \\vec{\\hat{r}}^{l(+)}\n",
    "\\end{equation}\n",
    "\n",
    "Explicitly:"
   ]
  },
  {
   "cell_type": "code",
   "execution_count": 420,
   "metadata": {
    "collapsed": false
   },
   "outputs": [],
   "source": [
    "r_p_component=[ [ Matrix([ [ r_p[p][i,j] if l+1 in Lij[i][j] else 0\n",
    "                            for j in range(Ne)  ] for i in range(Ne)])\n",
    "                 for p in range(3)] for l in range(Nl)]\n",
    "\n",
    "r_m_component=[ [ Matrix([ [ r_m[p][i,j] if l+1 in Lij[i][j] else 0\n",
    "                            for j in range(Ne)  ] for i in range(Ne)])\n",
    "                 for p in range(3)] for l in range(Nl)]"
   ]
  },
  {
   "cell_type": "code",
   "execution_count": 421,
   "metadata": {
    "collapsed": false
   },
   "outputs": [],
   "source": [
    "rpl1=r_p_component[0]\n",
    "rpl2=r_p_component[1]"
   ]
  },
  {
   "cell_type": "code",
   "execution_count": 422,
   "metadata": {
    "collapsed": false
   },
   "outputs": [
    {
     "data": {
      "image/png": "[encoded data removed]",
      "text/latex": [
       "$$n{\\left (R,Z \\right )}$$"
      ],
      "text/plain": [
       "n(R, Z)"
      ]
     },
     "execution_count": 422,
     "metadata": {},
     "output_type": "execute_result"
    }
   ],
   "source": [
    "n=Function(\"n\")(R,Z)\n",
    "n"
   ]
  },
  {
   "cell_type": "code",
   "execution_count": 423,
   "metadata": {
    "collapsed": false
   },
   "outputs": [],
   "source": [
    "vh=Matrix(symbols(\"r_-,r0,r_+\",real=True))\n",
    "# vh,helicity_to_cartesian(vh)"
   ]
  },
  {
   "cell_type": "code",
   "execution_count": 424,
   "metadata": {
    "collapsed": false
   },
   "outputs": [],
   "source": [
    "rpl1_cartesian=[(rpl1[0]-rpl1[2])/sqrt(2),(rpl1[0]+rpl1[2])*I/sqrt(2),rpl1[1]]\n",
    "# rpl1_cartesian"
   ]
  },
  {
   "cell_type": "code",
   "execution_count": 425,
   "metadata": {
    "collapsed": false
   },
   "outputs": [],
   "source": [
    "rpl2_cartesian=[(rpl2[0]-rpl2[2])/sqrt(2),(rpl2[0]+rpl2[2])*I/sqrt(2),rpl2[1]]\n",
    "# rpl2_cartesian"
   ]
  },
  {
   "cell_type": "markdown",
   "metadata": {},
   "source": [
    "The following factor of 2 comes from the fact that $P^{l(+)}/2 = -e n Tr(\\vec{\\hat{r}}^{l(+)}\\hat{\\rho})$"
   ]
  },
  {
   "cell_type": "code",
   "execution_count": 426,
   "metadata": {
    "collapsed": false
   },
   "outputs": [],
   "source": [
    "Ppl1_v=-2*n*e*Matrix([ (rpl1_cartesian[i]*rho).trace() for i in range(3)])\n",
    "Ppl2_v=-2*n*e*Matrix([ (rpl2_cartesian[i]*rho).trace() for i in range(3)])\n",
    "\n",
    "# Ppl1, Ppl2"
   ]
  },
  {
   "cell_type": "markdown",
   "metadata": {},
   "source": [
    "Taking the dot product with the polarizations we get the polarization amplitudes in terms of density matrix elements."
   ]
  },
  {
   "cell_type": "code",
   "execution_count": 427,
   "metadata": {
    "collapsed": false
   },
   "outputs": [
    {
     "data": {
      "image/png": "[encoded data removed]",
      "text/latex": [
       "$$- 2 e \\left(r_{+1;3,1} \\rho_{3,1}{\\left (t,R,Z \\right )} + r_{+1;4,1} \\rho_{4,1}{\\left (t,R,Z \\right )} + r_{+1;4,2} \\rho_{4,2}{\\left (t,R,Z \\right )} + r_{+1;5,1} \\rho_{5,1}{\\left (t,R,Z \\right )} + r_{+1;5,2} \\rho_{5,2}{\\left (t,R,Z \\right )} + r_{+1;6,2} \\rho_{6,2}{\\left (t,R,Z \\right )}\\right) n{\\left (R,Z \\right )}$$"
      ],
      "text/plain": [
       "-2⋅e⋅(r_{+1;3,1}⋅\\rho_{3,1}(t, R, Z) + r_{+1;4,1}⋅\\rho_{4,1}(t, R, Z) + r_{+1;\n",
       "4,2}⋅\\rho_{4,2}(t, R, Z) + r_{+1;5,1}⋅\\rho_{5,1}(t, R, Z) + r_{+1;5,2}⋅\\rho_{5\n",
       ",2}(t, R, Z) + r_{+1;6,2}⋅\\rho_{6,2}(t, R, Z))⋅n(R, Z)"
      ]
     },
     "execution_count": 427,
     "metadata": {},
     "output_type": "execute_result"
    }
   ],
   "source": [
    "Ppl1=ep[0].conjugate().dot(Ppl1_v).expand()\n",
    "Ppl2=ep[1].conjugate().dot(Ppl2_v).expand()\n",
    "\n",
    "Ppl1.factor()"
   ]
  },
  {
   "cell_type": "code",
   "execution_count": null,
   "metadata": {
    "collapsed": true
   },
   "outputs": [],
   "source": []
  },
  {
   "cell_type": "code",
   "execution_count": 428,
   "metadata": {
    "collapsed": false
   },
   "outputs": [],
   "source": [
    "rhs1=rhs1.subs({P0[0]:Ppl1})\n",
    "rhs2=rhs2.subs({P0[1]:Ppl2})"
   ]
  },
  {
   "cell_type": "code",
   "execution_count": 485,
   "metadata": {
    "collapsed": true
   },
   "outputs": [],
   "source": [
    "wave_eq1 = rhs1"
   ]
  },
  {
   "cell_type": "markdown",
   "metadata": {
    "collapsed": true
   },
   "source": [
    "# Maxwell-Bloch equations\n",
    "\n",
    "And we add these equations to the Bloch equations"
   ]
  },
  {
   "cell_type": "code",
   "execution_count": 429,
   "metadata": {
    "collapsed": false
   },
   "outputs": [],
   "source": [
    "eqsign=symbols(\"=\")\n",
    "eqs_list=[]\n",
    "for mu in range(0,Ne**2-1 -(Ne**2 - Ne)/2+1):\n",
    "    ii,jj,s=IJ(mu,Ne)\n",
    "    i=ii-1; j=jj-1\n",
    "    eqs_list+=[[Derivative(rho[i,j],t),eqsign,eqs[i,j]]]\n",
    "\n",
    "eqs_list += [[lhs1, eqsign, rhs1]]\n",
    "eqs_list += [[lhs2, eqsign, rhs2]]\n",
    "\n",
    "eqs_list=Matrix(eqs_list)\n",
    "#fprint(eqs_list, print_ascii=print_ascii)"
   ]
  },
  {
   "cell_type": "markdown",
   "metadata": {},
   "source": [
    "Question: how to use calculations from detunings as a replacement for calculations for velocity classes."
   ]
  },
  {
   "cell_type": "markdown",
   "metadata": {},
   "source": [
    "# Linear approximation\n",
    "\n",
    "We can linearize this equations by approximating all the population to be in $\\rho_{11}$, and taking field $\\Omega_1$ to be weak, and the coherences to be small. We will add an $\\epsilon$ to all terms involving either coherences or signal field."
   ]
  },
  {
   "cell_type": "code",
   "execution_count": 467,
   "metadata": {
    "collapsed": false
   },
   "outputs": [],
   "source": [
    "epsilon=symbols(\"varepsilon\", real=True)\n",
    "lin_subs1={rho[i, i]: 0 for i in range(Ne) if hyperfine_states[i].l != 0}\n",
    "lin_subs1.update({rho[0, 0]: 0, rho[1, 1]: 1})"
   ]
  },
  {
   "cell_type": "code",
   "execution_count": 471,
   "metadata": {
    "collapsed": false
   },
   "outputs": [],
   "source": [
    "lin_subs2 = {}\n",
    "for i in range(Ne):\n",
    "    for j in range(i):\n",
    "        lin_subs2.update({rho[i, j]: epsilon*rho[i, j]})\n",
    "        lin_subs2.update({rho[j, i]: epsilon*rho[j, i]})\n",
    "        \n",
    "lin_subs2.update({E0[0]: epsilon*E0[0]})\n",
    "# lin_subs2"
   ]
  },
  {
   "cell_type": "code",
   "execution_count": 472,
   "metadata": {
    "collapsed": false
   },
   "outputs": [],
   "source": [
    "lin_subs = {}\n",
    "lin_subs.update(lin_subs1)\n",
    "lin_subs.update(lin_subs2)\n"
   ]
  },
  {
   "cell_type": "code",
   "execution_count": 473,
   "metadata": {
    "collapsed": false
   },
   "outputs": [],
   "source": [
    "hyp_bound, mag_bound = calculate_boundaries(fine_states, magnetic_states)"
   ]
  },
  {
   "cell_type": "code",
   "execution_count": 474,
   "metadata": {
    "collapsed": false
   },
   "outputs": [
    {
     "data": {
      "image/png": "[encoded data removed]",
      "text/latex": [
       "$$\\left [ \\left ( 0, \\quad 16\\right ), \\quad \\left ( 16, \\quad 48\\right ), \\quad \\left ( 48, \\quad 96\\right )\\right ]$$"
      ],
      "text/plain": [
       "[(0, 16), (16, 48), (48, 96)]"
      ]
     },
     "execution_count": 474,
     "metadata": {},
     "output_type": "execute_result"
    }
   ],
   "source": [
    "hyp_bound"
   ]
  },
  {
   "cell_type": "code",
   "execution_count": 516,
   "metadata": {
    "collapsed": false
   },
   "outputs": [],
   "source": [
    "rho21 = rho[2: 6, 0:2]\n",
    "rho31 = rho[6:Ne , 0: 2]\n",
    "rho32 = rho[6:Ne ,2: 6]\n",
    "# rho21"
   ]
  },
  {
   "cell_type": "code",
   "execution_count": 517,
   "metadata": {
    "collapsed": false
   },
   "outputs": [],
   "source": [
    "lims21 = [[2, 6], [0,2]]\n",
    "lims31 = [[6, Ne], [0,2]]\n",
    "lims32 = [[6, Ne], [2,6]]\n",
    "\n",
    "rho21 = rho[lims21[0][0]: lims21[0][1], lims21[1][0]: lims21[1][1]]\n",
    "rho31 = rho[lims31[0][0]: lims31[0][1], lims31[1][0]: lims31[1][1]]\n",
    "rho32 = rho[lims32[0][0]: lims32[0][1], lims32[1][0]: lims32[1][1]]\n",
    "\n",
    "# rho32"
   ]
  },
  {
   "cell_type": "code",
   "execution_count": 518,
   "metadata": {
    "collapsed": false
   },
   "outputs": [],
   "source": [
    "# We make a vector of components of the density matrix rho21, rho31, and E1\n",
    "rhov = sum([[rho[j, i] for j in range(i+1, Ne) if ((rho[j, i] in rho21)or(rho[j, i] in rho31))] for i in range(Ne)], [])\n",
    "xx = rhov + [E0[0]]\n",
    "Nxx = len(xx)"
   ]
  },
  {
   "cell_type": "code",
   "execution_count": 519,
   "metadata": {
    "collapsed": true
   },
   "outputs": [],
   "source": [
    "# We make a similar vector with the non linear right hand sides.\n",
    "eqs_mem = sum([[eqs[j, i] for j in range(i+1, Ne) if ((rho[j, i] in rho21)or(rho[j, i] in rho31))] for i in range(Ne)], [])\n",
    "eqs_mem += [wave_eq1.subs({E0[0]:0}).doit()]"
   ]
  },
  {
   "cell_type": "code",
   "execution_count": 520,
   "metadata": {
    "collapsed": false
   },
   "outputs": [],
   "source": [
    "# We get the linear right hand sides.\n",
    "A = []\n",
    "eqs_aprox = []\n",
    "for mu in range(Nxx):\n",
    "    eq_mu = eqs_mem[mu]\n",
    "    eq_approx = eq_mu.subs(lin_subs).subs({epsilon**2: 0}).subs({epsilon: 1})\n",
    "    eqs_aprox += [eq_approx]\n",
    "    \n",
    "    eq_lin_mu = [Derivative(eq_approx, xx[nu]).doit() for nu in range(Nxx)]\n",
    "    A+=[eq_lin_mu]\n",
    "\n",
    "eqs_aprox = Matrix(eqs_aprox)\n",
    "A = Matrix(A)"
   ]
  },
  {
   "cell_type": "code",
   "execution_count": 521,
   "metadata": {
    "collapsed": false
   },
   "outputs": [
    {
     "name": "stdout",
     "output_type": "stream",
     "text": [
      "[0  0  0  0  0  0  0  0  0  0  0  0  0  0  0  0  0  0  0  0  0]\n"
     ]
    }
   ],
   "source": [
    "# We prove that the linear aproximation produced linear equations.\n",
    "zero = eqs_aprox - A*Matrix(xx)\n",
    "zero = zero.expand()\n",
    "\n",
    "pprint(zero.T)"
   ]
  },
  {
   "cell_type": "code",
   "execution_count": 522,
   "metadata": {
    "collapsed": false
   },
   "outputs": [],
   "source": [
    "# We generate code to calculate the rhs of the equations"
   ]
  },
  {
   "cell_type": "code",
   "execution_count": 543,
   "metadata": {
    "collapsed": false
   },
   "outputs": [
    {
     "name": "stdout",
     "output_type": "stream",
     "text": [
      "ff[0] = -gamma_3_1*rho_3_1*0.5 + 1j*delta1*rho_3_1 - 1j*e*r_2_10_3*rho_10_1*conjugate(E02)/(2*hbar) - 1j*e*r_2_11_3*rho_11_1*conjugate(E02)/(2*hbar) - 1j*e*r_2_12_3*rho_12_1*conjugate(E02)/(2*hbar) + 1j*omega_1*rho_3_1 - 1j*omega_2*rho_3_1\n",
      "\n",
      "ff[1] = -gamma_4_1*rho_4_1*0.5 - gamma_4_2*rho_4_1*0.5 + 1j*delta1*rho_4_1 - 1j*e*r_2_10_4*rho_10_1*conjugate(E02)/(2*hbar) - 1j*e*r_2_11_4*rho_11_1*conjugate(E02)/(2*hbar) - 1j*e*r_2_9_4*rho_9_1*conjugate(E02)/(2*hbar) + 1j*omega_1*rho_4_1 - 1j*omega_2*rho_4_1 + 1j*omega_3*rho_4_1 - 1j*omega_4*rho_4_1\n",
      "\n",
      "ff[2] = -gamma_5_1*rho_5_1*0.5 - gamma_5_2*rho_5_1*0.5 + 1j*delta1*rho_5_1 - 1j*e*r_2_10_5*rho_10_1*conjugate(E02)/(2*hbar) - 1j*e*r_2_8_5*rho_8_1*conjugate(E02)/(2*hbar) - 1j*e*r_2_9_5*rho_9_1*conjugate(E02)/(2*hbar) + 1j*omega_1*rho_5_1 - 1j*omega_2*rho_5_1 + 1j*omega_3*rho_5_1 - 1j*omega_5*rho_5_1\n",
      "\n",
      "ff[3] = -gamma_6_2*rho_6_1*0.5 + 1j*delta1*rho_6_1 - 1j*e*r_2_7_6*rho_7_1*conjugate(E02)/(2*hbar) - 1j*e*r_2_8_6*rho_8_1*conjugate(E02)/(2*hbar) - 1j*e*r_2_9_6*rho_9_1*conjugate(E02)/(2*hbar) + 1j*omega_1*rho_6_1 - 1j*omega_2*rho_6_1 + 1j*omega_3*rho_6_1 - 1j*omega_6*rho_6_1\n",
      "\n",
      "ff[4] = -gamma_7_6*rho_7_1*0.5 + 1j*delta1*rho_7_1 + 1j*delta2*rho_7_1 - 1j*e*r_2_7_6*E02*rho_6_1/(2*hbar) + 1j*omega_1*rho_7_1 - 1j*omega_2*rho_7_1 + 1j*omega_3*rho_7_1 - 1j*omega_6*rho_7_1\n",
      "\n",
      "ff[5] = -gamma_8_5*rho_8_1*0.5 - gamma_8_6*rho_8_1*0.5 + 1j*delta1*rho_8_1 + 1j*delta2*rho_8_1 - 1j*e*r_2_8_5*E02*rho_5_1/(2*hbar) - 1j*e*r_2_8_6*E02*rho_6_1/(2*hbar) + 1j*omega_1*rho_8_1 - 1j*omega_2*rho_8_1 + 1j*omega_3*rho_8_1 - 1j*omega_6*rho_8_1 + 1j*omega_7*rho_8_1 - 1j*omega_8*rho_8_1\n",
      "\n",
      "ff[6] = -gamma_9_4*rho_9_1*0.5 - gamma_9_5*rho_9_1*0.5 - gamma_9_6*rho_9_1*0.5 + 1j*delta1*rho_9_1 + 1j*delta2*rho_9_1 - 1j*e*r_2_9_4*E02*rho_4_1/(2*hbar) - 1j*e*r_2_9_5*E02*rho_5_1/(2*hbar) - 1j*e*r_2_9_6*E02*rho_6_1/(2*hbar) + 1j*omega_1*rho_9_1 - 1j*omega_2*rho_9_1 + 1j*omega_3*rho_9_1 - 1j*omega_6*rho_9_1 + 1j*omega_7*rho_9_1 - 1j*omega_9*rho_9_1\n",
      "\n",
      "ff[7] = -gamma_10_3*rho_10_1*0.5 - gamma_10_4*rho_10_1*0.5 - gamma_10_5*rho_10_1*0.5 + 1j*delta1*rho_10_1 + 1j*delta2*rho_10_1 - 1j*e*r_2_10_3*E02*rho_3_1/(2*hbar) - 1j*e*r_2_10_4*E02*rho_4_1/(2*hbar) - 1j*e*r_2_10_5*E02*rho_5_1/(2*hbar) + 1j*omega_1*rho_10_1 - 1j*omega_10*rho_10_1 - 1j*omega_2*rho_10_1 + 1j*omega_3*rho_10_1 - 1j*omega_6*rho_10_1 + 1j*omega_7*rho_10_1\n",
      "\n",
      "ff[8] = -gamma_11_3*rho_11_1*0.5 - gamma_11_4*rho_11_1*0.5 + 1j*delta1*rho_11_1 + 1j*delta2*rho_11_1 - 1j*e*r_2_11_3*E02*rho_3_1/(2*hbar) - 1j*e*r_2_11_4*E02*rho_4_1/(2*hbar) + 1j*omega_1*rho_11_1 - 1j*omega_11*rho_11_1 - 1j*omega_2*rho_11_1 + 1j*omega_3*rho_11_1 - 1j*omega_6*rho_11_1 + 1j*omega_7*rho_11_1\n",
      "\n",
      "ff[9] = -gamma_12_3*rho_12_1*0.5 + 1j*delta1*rho_12_1 + 1j*delta2*rho_12_1 - 1j*e*r_2_12_3*E02*rho_3_1/(2*hbar) + 1j*omega_1*rho_12_1 - 1j*omega_12*rho_12_1 - 1j*omega_2*rho_12_1 + 1j*omega_3*rho_12_1 - 1j*omega_6*rho_12_1 + 1j*omega_7*rho_12_1\n",
      "\n",
      "ff[10] = -gamma_3_1*rho_3_2*0.5 + 1j*delta1*rho_3_2 - 1j*e*r_2_10_3*rho_10_2*conjugate(E02)/(2*hbar) - 1j*e*r_2_11_3*rho_11_2*conjugate(E02)/(2*hbar) - 1j*e*r_2_12_3*rho_12_2*conjugate(E02)/(2*hbar)\n",
      "\n",
      "ff[11] = -gamma_4_1*rho_4_2*0.5 - gamma_4_2*rho_4_2*0.5 + 1j*delta1*rho_4_2 - 1j*e*r_1_4_2*E_0^1/(2*hbar) - 1j*e*r_2_10_4*rho_10_2*conjugate(E02)/(2*hbar) - 1j*e*r_2_11_4*rho_11_2*conjugate(E02)/(2*hbar) - 1j*e*r_2_9_4*rho_9_2*conjugate(E02)/(2*hbar) + 1j*omega_3*rho_4_2 - 1j*omega_4*rho_4_2\n",
      "\n",
      "ff[12] = -gamma_5_1*rho_5_2*0.5 - gamma_5_2*rho_5_2*0.5 + 1j*delta1*rho_5_2 - 1j*e*r_1_5_2*E_0^1/(2*hbar) - 1j*e*r_2_10_5*rho_10_2*conjugate(E02)/(2*hbar) - 1j*e*r_2_8_5*rho_8_2*conjugate(E02)/(2*hbar) - 1j*e*r_2_9_5*rho_9_2*conjugate(E02)/(2*hbar) + 1j*omega_3*rho_5_2 - 1j*omega_5*rho_5_2\n",
      "\n",
      "ff[13] = -gamma_6_2*rho_6_2*0.5 + 1j*delta1*rho_6_2 - 1j*e*r_1_6_2*E_0^1/(2*hbar) - 1j*e*r_2_7_6*rho_7_2*conjugate(E02)/(2*hbar) - 1j*e*r_2_8_6*rho_8_2*conjugate(E02)/(2*hbar) - 1j*e*r_2_9_6*rho_9_2*conjugate(E02)/(2*hbar) + 1j*omega_3*rho_6_2 - 1j*omega_6*rho_6_2\n",
      "\n",
      "ff[14] = -gamma_7_6*rho_7_2*0.5 + 1j*delta1*rho_7_2 + 1j*delta2*rho_7_2 - 1j*e*r_2_7_6*E02*rho_6_2/(2*hbar) + 1j*omega_3*rho_7_2 - 1j*omega_6*rho_7_2\n",
      "\n",
      "ff[15] = -gamma_8_5*rho_8_2*0.5 - gamma_8_6*rho_8_2*0.5 + 1j*delta1*rho_8_2 + 1j*delta2*rho_8_2 - 1j*e*r_2_8_5*E02*rho_5_2/(2*hbar) - 1j*e*r_2_8_6*E02*rho_6_2/(2*hbar) + 1j*omega_3*rho_8_2 - 1j*omega_6*rho_8_2 + 1j*omega_7*rho_8_2 - 1j*omega_8*rho_8_2\n",
      "\n",
      "ff[16] = -gamma_9_4*rho_9_2*0.5 - gamma_9_5*rho_9_2*0.5 - gamma_9_6*rho_9_2*0.5 + 1j*delta1*rho_9_2 + 1j*delta2*rho_9_2 - 1j*e*r_2_9_4*E02*rho_4_2/(2*hbar) - 1j*e*r_2_9_5*E02*rho_5_2/(2*hbar) - 1j*e*r_2_9_6*E02*rho_6_2/(2*hbar) + 1j*omega_3*rho_9_2 - 1j*omega_6*rho_9_2 + 1j*omega_7*rho_9_2 - 1j*omega_9*rho_9_2\n",
      "\n",
      "ff[17] = -gamma_10_3*rho_10_2*0.5 - gamma_10_4*rho_10_2*0.5 - gamma_10_5*rho_10_2*0.5 + 1j*delta1*rho_10_2 + 1j*delta2*rho_10_2 - 1j*e*r_2_10_3*E02*rho_3_2/(2*hbar) - 1j*e*r_2_10_4*E02*rho_4_2/(2*hbar) - 1j*e*r_2_10_5*E02*rho_5_2/(2*hbar) - 1j*omega_10*rho_10_2 + 1j*omega_3*rho_10_2 - 1j*omega_6*rho_10_2 + 1j*omega_7*rho_10_2\n",
      "\n",
      "ff[18] = -gamma_11_3*rho_11_2*0.5 - gamma_11_4*rho_11_2*0.5 + 1j*delta1*rho_11_2 + 1j*delta2*rho_11_2 - 1j*e*r_2_11_3*E02*rho_3_2/(2*hbar) - 1j*e*r_2_11_4*E02*rho_4_2/(2*hbar) - 1j*omega_11*rho_11_2 + 1j*omega_3*rho_11_2 - 1j*omega_6*rho_11_2 + 1j*omega_7*rho_11_2\n",
      "\n",
      "ff[19] = -gamma_12_3*rho_12_2*0.5 + 1j*delta1*rho_12_2 + 1j*delta2*rho_12_2 - 1j*e*r_2_12_3*E02*rho_3_2/(2*hbar) - 1j*omega_12*rho_12_2 + 1j*omega_3*rho_12_2 - 1j*omega_6*rho_12_2 + 1j*omega_7*rho_12_2\n",
      "\n",
      "ff[20] = 1j*c**2*mu0*varpi_1*(-2*e*r_1_3_1*rho_3_1*n(R_ Z) - 2*e*r_1_4_1*rho_4_1*n(R_ Z) - 2*e*r_1_4_2*rho_4_2*n(R_ Z) - 2*e*r_1_5_1*rho_5_1*n(R_ Z) - 2*e*r_1_5_2*rho_5_2*n(R_ Z) - 2*e*r_1_6_2*rho_6_2*n(R_ Z))*0.5\n",
      "\n"
     ]
    }
   ],
   "source": [
    "for i, eq in enumerate(eqs_aprox):\n",
    "    s = str(eq)\n",
    "    codei = \"ff[\"+str(i)+\"] = \"\n",
    "    s = s.replace(\"\\\\\", \"\")\n",
    "    s = s.replace(\"{\", \"\")\n",
    "    s = s.replace(\"}\", \"\")\n",
    "    s = s.replace(\"(t, R, Z)\", \"\")\n",
    "    s = s.replace(\",\", \"_\")\n",
    "    s = s.replace(\"_+1;\", \"_1_\")\n",
    "    s = s.replace(\"_-1;\", \"_2_\")\n",
    "    s = s.replace(\"E_0^2\", \"E02\")\n",
    "    s = s.replace(\"I\", \"1j\")\n",
    "    s = s.replace(\"/2\", \"*0.5\")\n",
    "    codei += s\n",
    "    print codei\n",
    "    print\n",
    "    "
   ]
  },
  {
   "cell_type": "code",
   "execution_count": 538,
   "metadata": {
    "collapsed": false
   },
   "outputs": [],
   "source": [
    "from scipy.constants import hbar as hbars\n",
    "from scipy.constants import e as es\n",
    "from scipy.constants import physical_constants\n",
    "a0 = physical_constants[\"Bohr radius\"][0]"
   ]
  },
  {
   "cell_type": "code",
   "execution_count": 540,
   "metadata": {
    "collapsed": false
   },
   "outputs": [
    {
     "data": {
      "image/png": "[encoded data removed]",
      "text/latex": [
       "$$1.51926746058e+15$$"
      ],
      "text/plain": [
       "1.51926746058e+15"
      ]
     },
     "execution_count": 540,
     "metadata": {},
     "output_type": "execute_result"
    }
   ],
   "source": [
    "es/hbars*a0"
   ]
  },
  {
   "cell_type": "code",
   "execution_count": null,
   "metadata": {
    "collapsed": true
   },
   "outputs": [],
   "source": []
  },
  {
   "cell_type": "code",
   "execution_count": null,
   "metadata": {
    "collapsed": true
   },
   "outputs": [],
   "source": []
  },
  {
   "cell_type": "code",
   "execution_count": null,
   "metadata": {
    "collapsed": true
   },
   "outputs": [],
   "source": []
  },
  {
   "cell_type": "code",
   "execution_count": null,
   "metadata": {
    "collapsed": true
   },
   "outputs": [],
   "source": []
  },
  {
   "cell_type": "code",
   "execution_count": 353,
   "metadata": {
    "collapsed": false
   },
   "outputs": [
    {
     "name": "stdout",
     "output_type": "stream",
     "text": [
      "⎡      ⅈ⋅e⋅r_{+1;3,1}⋅E¹₀(t, R, Z)⋅\\rho_{1,3}(t, R, Z)   ⅈ⋅e⋅r_{+1;4,1}⋅E¹₀(t,\n",
      "⎢0  =  ─────────────────────────────────────────────── + ─────────────────────\n",
      "⎣                            2⋅h̅                                             \n",
      "\n",
      " R, Z)⋅\\rho_{1,4}(t, R, Z)   ⅈ⋅e⋅r_{+1;5,1}⋅E¹₀(t, R, Z)⋅\\rho_{1,5}(t, R, Z)⎤\n",
      "────────────────────────── + ───────────────────────────────────────────────⎥\n",
      " 2⋅h̅                                              2⋅h̅                     ⎦\n",
      "\n",
      "⎡      ⅈ⋅e⋅r_{+1;4,2}⋅E¹₀(t, R, Z)⋅\\rho_{2,4}(t, R, Z)   ⅈ⋅e⋅r_{+1;5,2}⋅E¹₀(t,\n",
      "⎢0  =  ─────────────────────────────────────────────── + ─────────────────────\n",
      "⎣                            2⋅h̅                                             \n",
      "\n",
      " R, Z)⋅\\rho_{2,5}(t, R, Z)   ⅈ⋅e⋅r_{+1;6,2}⋅E¹₀(t, R, Z)⋅\\rho_{2,6}(t, R, Z)⎤\n",
      "────────────────────────── + ───────────────────────────────────────────────⎥\n",
      " 2⋅h̅                                              2⋅h̅                     ⎦\n",
      "\n",
      "⎡                                                                             \n",
      "⎢        ⅈ⋅e⋅r_{+1;3,1}⋅E¹₀(t, R, Z)⋅\\rho_{1,3}(t, R, Z)   ⅈ⋅e⋅r_{-1;10,3}⋅E²₀\n",
      "⎢0  =  - ─────────────────────────────────────────────── + ───────────────────\n",
      "⎣                              2⋅h̅                                           \n",
      "\n",
      "                                                                      ________\n",
      "(t, R, Z)⋅\\rho_{3,10}(t, R, Z)   ⅈ⋅e⋅r_{-1;10,3}⋅\\rho_{10,3}(t, R, Z)⋅E²₀(t, R\n",
      "────────────────────────────── - ─────────────────────────────────────────────\n",
      "    2⋅h̅                                                2⋅h̅                  \n",
      "\n",
      "____                                                                          \n",
      ", Z)   ⅈ⋅e⋅r_{-1;11,3}⋅E²₀(t, R, Z)⋅\\rho_{3,11}(t, R, Z)   ⅈ⋅e⋅r_{-1;11,3}⋅\\rh\n",
      "──── + ───────────────────────────────────────────────── - ───────────────────\n",
      "                              2⋅h̅                                            \n",
      "\n",
      "                  ____________                                                \n",
      "o_{11,3}(t, R, Z)⋅E²₀(t, R, Z)   ⅈ⋅e⋅r_{-1;12,3}⋅E²₀(t, R, Z)⋅\\rho_{3,12}(t, R\n",
      "────────────────────────────── + ─────────────────────────────────────────────\n",
      "    2⋅h̅                                                2⋅h̅                  \n",
      "\n",
      "                                            ____________⎤\n",
      ", Z)   ⅈ⋅e⋅r_{-1;12,3}⋅\\rho_{12,3}(t, R, Z)⋅E²₀(t, R, Z)⎥\n",
      "──── - ─────────────────────────────────────────────────⎥\n",
      "                              2⋅h̅                      ⎦\n",
      "\n",
      "⎡                                                                             \n",
      "⎢        ⅈ⋅e⋅r_{+1;4,1}⋅E¹₀(t, R, Z)⋅\\rho_{1,4}(t, R, Z)   ⅈ⋅e⋅r_{+1;4,2}⋅E¹₀(\n",
      "⎢0  =  - ─────────────────────────────────────────────── - ───────────────────\n",
      "⎣                              2⋅h̅                                           \n",
      "\n",
      "                                                                              \n",
      "t, R, Z)⋅\\rho_{2,4}(t, R, Z)   ⅈ⋅e⋅r_{-1;10,4}⋅E²₀(t, R, Z)⋅\\rho_{4,10}(t, R, \n",
      "──────────────────────────── + ───────────────────────────────────────────────\n",
      "   2⋅h̅                                               2⋅h̅                    \n",
      "\n",
      "                                          ____________                        \n",
      "Z)   ⅈ⋅e⋅r_{-1;10,4}⋅\\rho_{10,4}(t, R, Z)⋅E²₀(t, R, Z)   ⅈ⋅e⋅r_{-1;11,4}⋅E²₀(t\n",
      "── - ───────────────────────────────────────────────── + ─────────────────────\n",
      "                            2⋅h̅                                              \n",
      "\n",
      "                                                                    __________\n",
      ", R, Z)⋅\\rho_{4,11}(t, R, Z)   ⅈ⋅e⋅r_{-1;11,4}⋅\\rho_{11,4}(t, R, Z)⋅E²₀(t, R, \n",
      "──────────────────────────── - ───────────────────────────────────────────────\n",
      "  2⋅h̅                                                2⋅h̅                    \n",
      "\n",
      "__                                                                            \n",
      "Z)   ⅈ⋅e⋅r_{-1;9,4}⋅E²₀(t, R, Z)⋅\\rho_{4,9}(t, R, Z)   ⅈ⋅e⋅r_{-1;9,4}⋅\\rho_{9,\n",
      "── + ─────────────────────────────────────────────── - ───────────────────────\n",
      "                           2⋅h̅                                              2\n",
      "\n",
      "            ____________⎤\n",
      "4}(t, R, Z)⋅E²₀(t, R, Z)⎥\n",
      "────────────────────────⎥\n",
      "⋅h̅                     ⎦\n",
      "\n",
      "⎡                                                                             \n",
      "⎢        ⅈ⋅e⋅r_{+1;5,1}⋅E¹₀(t, R, Z)⋅\\rho_{1,5}(t, R, Z)   ⅈ⋅e⋅r_{+1;5,2}⋅E¹₀(\n",
      "⎢0  =  - ─────────────────────────────────────────────── - ───────────────────\n",
      "⎣                              2⋅h̅                                           \n",
      "\n",
      "                                                                              \n",
      "t, R, Z)⋅\\rho_{2,5}(t, R, Z)   ⅈ⋅e⋅r_{-1;10,5}⋅E²₀(t, R, Z)⋅\\rho_{5,10}(t, R, \n",
      "──────────────────────────── + ───────────────────────────────────────────────\n",
      "   2⋅h̅                                               2⋅h̅                    \n",
      "\n",
      "                                          ____________                        \n",
      "Z)   ⅈ⋅e⋅r_{-1;10,5}⋅\\rho_{10,5}(t, R, Z)⋅E²₀(t, R, Z)   ⅈ⋅e⋅r_{-1;8,5}⋅E²₀(t,\n",
      "── - ───────────────────────────────────────────────── + ─────────────────────\n",
      "                            2⋅h̅                                              \n",
      "\n",
      "                                                                ____________  \n",
      " R, Z)⋅\\rho_{5,8}(t, R, Z)   ⅈ⋅e⋅r_{-1;8,5}⋅\\rho_{8,5}(t, R, Z)⋅E²₀(t, R, Z)  \n",
      "────────────────────────── - ─────────────────────────────────────────────── +\n",
      " 2⋅h̅                                              2⋅h̅                       \n",
      "\n",
      "                                                                              \n",
      " ⅈ⋅e⋅r_{-1;9,5}⋅E²₀(t, R, Z)⋅\\rho_{5,9}(t, R, Z)   ⅈ⋅e⋅r_{-1;9,5}⋅\\rho_{9,5}(t\n",
      " ─────────────────────────────────────────────── - ───────────────────────────\n",
      "                       2⋅h̅                                              2⋅h̅ \n",
      "\n",
      "        ____________⎤\n",
      ", R, Z)⋅E²₀(t, R, Z)⎥\n",
      "────────────────────⎥\n",
      "                    ⎦\n",
      "\n",
      "⎡                                                                             \n",
      "⎢        ⅈ⋅e⋅r_{+1;6,2}⋅E¹₀(t, R, Z)⋅\\rho_{2,6}(t, R, Z)   ⅈ⋅e⋅r_{-1;7,6}⋅E²₀(\n",
      "⎢0  =  - ─────────────────────────────────────────────── + ───────────────────\n",
      "⎣                              2⋅h̅                                           \n",
      "\n",
      "                                                                  ____________\n",
      "t, R, Z)⋅\\rho_{6,7}(t, R, Z)   ⅈ⋅e⋅r_{-1;7,6}⋅\\rho_{7,6}(t, R, Z)⋅E²₀(t, R, Z)\n",
      "──────────────────────────── - ───────────────────────────────────────────────\n",
      "   2⋅h̅                                              2⋅h̅                     \n",
      "\n",
      "                                                                              \n",
      "   ⅈ⋅e⋅r_{-1;8,6}⋅E²₀(t, R, Z)⋅\\rho_{6,8}(t, R, Z)   ⅈ⋅e⋅r_{-1;8,6}⋅\\rho_{8,6}\n",
      " + ─────────────────────────────────────────────── - ─────────────────────────\n",
      "                         2⋅h̅                                              2⋅h\n",
      "\n",
      "          ____________                                                        \n",
      "(t, R, Z)⋅E²₀(t, R, Z)   ⅈ⋅e⋅r_{-1;9,6}⋅E²₀(t, R, Z)⋅\\rho_{6,9}(t, R, Z)   ⅈ⋅e\n",
      "────────────────────── + ─────────────────────────────────────────────── - ───\n",
      "̅                                              2⋅h̅                           \n",
      "\n",
      "                                ____________⎤\n",
      "⋅r_{-1;9,6}⋅\\rho_{9,6}(t, R, Z)⋅E²₀(t, R, Z)⎥\n",
      "────────────────────────────────────────────⎥\n",
      "                   2⋅h̅                     ⎦\n",
      "\n",
      "⎡                                                                             \n",
      "⎢        ⅈ⋅e⋅r_{-1;7,6}⋅E²₀(t, R, Z)⋅\\rho_{6,7}(t, R, Z)   ⅈ⋅e⋅r_{-1;7,6}⋅\\rho\n",
      "⎢0  =  - ─────────────────────────────────────────────── + ───────────────────\n",
      "⎣                              2⋅h̅                                           \n",
      "\n",
      "                ____________⎤\n",
      "_{7,6}(t, R, Z)⋅E²₀(t, R, Z)⎥\n",
      "────────────────────────────⎥\n",
      "   2⋅h̅                     ⎦\n",
      "\n",
      "⎡                                                                             \n",
      "⎢        ⅈ⋅e⋅r_{-1;8,5}⋅E²₀(t, R, Z)⋅\\rho_{5,8}(t, R, Z)   ⅈ⋅e⋅r_{-1;8,5}⋅\\rho\n",
      "⎢0  =  - ─────────────────────────────────────────────── + ───────────────────\n",
      "⎣                              2⋅h̅                                           \n",
      "\n",
      "                ____________                                                  \n",
      "_{8,5}(t, R, Z)⋅E²₀(t, R, Z)   ⅈ⋅e⋅r_{-1;8,6}⋅E²₀(t, R, Z)⋅\\rho_{6,8}(t, R, Z)\n",
      "──────────────────────────── - ───────────────────────────────────────────────\n",
      "   2⋅h̅                                              2⋅h̅                     \n",
      "\n",
      "                                      ____________⎤\n",
      "   ⅈ⋅e⋅r_{-1;8,6}⋅\\rho_{8,6}(t, R, Z)⋅E²₀(t, R, Z)⎥\n",
      " + ───────────────────────────────────────────────⎥\n",
      "                         2⋅h̅                     ⎦\n",
      "\n",
      "⎡                                                                             \n",
      "⎢        ⅈ⋅e⋅r_{-1;9,4}⋅E²₀(t, R, Z)⋅\\rho_{4,9}(t, R, Z)   ⅈ⋅e⋅r_{-1;9,4}⋅\\rho\n",
      "⎢0  =  - ─────────────────────────────────────────────── + ───────────────────\n",
      "⎣                              2⋅h̅                                           \n",
      "\n",
      "                ____________                                                  \n",
      "_{9,4}(t, R, Z)⋅E²₀(t, R, Z)   ⅈ⋅e⋅r_{-1;9,5}⋅E²₀(t, R, Z)⋅\\rho_{5,9}(t, R, Z)\n",
      "──────────────────────────── - ───────────────────────────────────────────────\n",
      "   2⋅h̅                                              2⋅h̅                     \n",
      "\n",
      "                                      ____________                            \n",
      "   ⅈ⋅e⋅r_{-1;9,5}⋅\\rho_{9,5}(t, R, Z)⋅E²₀(t, R, Z)   ⅈ⋅e⋅r_{-1;9,6}⋅E²₀(t, R, \n",
      " + ─────────────────────────────────────────────── - ─────────────────────────\n",
      "                         2⋅h̅                                              2⋅h\n",
      "\n",
      "                                                            ____________⎤\n",
      "Z)⋅\\rho_{6,9}(t, R, Z)   ⅈ⋅e⋅r_{-1;9,6}⋅\\rho_{9,6}(t, R, Z)⋅E²₀(t, R, Z)⎥\n",
      "────────────────────── + ───────────────────────────────────────────────⎥\n",
      "̅                                              2⋅h̅                     ⎦\n",
      "\n",
      "⎡                                                                             \n",
      "⎢        ⅈ⋅e⋅r_{-1;10,3}⋅E²₀(t, R, Z)⋅\\rho_{3,10}(t, R, Z)   ⅈ⋅e⋅r_{-1;10,3}⋅\\\n",
      "⎢0  =  - ───────────────────────────────────────────────── + ─────────────────\n",
      "⎣                               2⋅h̅                                          \n",
      "\n",
      "                    ____________                                              \n",
      "rho_{10,3}(t, R, Z)⋅E²₀(t, R, Z)   ⅈ⋅e⋅r_{-1;10,4}⋅E²₀(t, R, Z)⋅\\rho_{4,10}(t,\n",
      "──────────────────────────────── - ───────────────────────────────────────────\n",
      "      2⋅h̅                                                2⋅h̅                \n",
      "\n",
      "                                              ____________                    \n",
      " R, Z)   ⅈ⋅e⋅r_{-1;10,4}⋅\\rho_{10,4}(t, R, Z)⋅E²₀(t, R, Z)   ⅈ⋅e⋅r_{-1;10,5}⋅E\n",
      "────── + ───────────────────────────────────────────────── - ─────────────────\n",
      "                                2⋅h̅                                          \n",
      "\n",
      "                                                                        ______\n",
      "²₀(t, R, Z)⋅\\rho_{5,10}(t, R, Z)   ⅈ⋅e⋅r_{-1;10,5}⋅\\rho_{10,5}(t, R, Z)⋅E²₀(t,\n",
      "──────────────────────────────── + ───────────────────────────────────────────\n",
      "      2⋅h̅                                                2⋅h̅                \n",
      "\n",
      "______⎤\n",
      " R, Z)⎥\n",
      "──────⎥\n",
      "      ⎦\n",
      "\n",
      "⎡                                                                             \n",
      "⎢        ⅈ⋅e⋅r_{-1;11,3}⋅E²₀(t, R, Z)⋅\\rho_{3,11}(t, R, Z)   ⅈ⋅e⋅r_{-1;11,3}⋅\\\n",
      "⎢0  =  - ───────────────────────────────────────────────── + ─────────────────\n",
      "⎣                               2⋅h̅                                          \n",
      "\n",
      "                    ____________                                              \n",
      "rho_{11,3}(t, R, Z)⋅E²₀(t, R, Z)   ⅈ⋅e⋅r_{-1;11,4}⋅E²₀(t, R, Z)⋅\\rho_{4,11}(t,\n",
      "──────────────────────────────── - ───────────────────────────────────────────\n",
      "      2⋅h̅                                                2⋅h̅                \n",
      "\n",
      "                                              ____________⎤\n",
      " R, Z)   ⅈ⋅e⋅r_{-1;11,4}⋅\\rho_{11,4}(t, R, Z)⋅E²₀(t, R, Z)⎥\n",
      "────── + ─────────────────────────────────────────────────⎥\n",
      "                                2⋅h̅                      ⎦\n",
      "\n",
      "⎡                                                                             \n",
      "⎢        ⅈ⋅e⋅r_{-1;12,3}⋅E²₀(t, R, Z)⋅\\rho_{3,12}(t, R, Z)   ⅈ⋅e⋅r_{-1;12,3}⋅\\\n",
      "⎢0  =  - ───────────────────────────────────────────────── + ─────────────────\n",
      "⎣                               2⋅h̅                                          \n",
      "\n",
      "                    ____________⎤\n",
      "rho_{12,3}(t, R, Z)⋅E²₀(t, R, Z)⎥\n",
      "────────────────────────────────⎥\n",
      "      2⋅h̅                      ⎦\n",
      "\n",
      "⎡∂                           ⅈ⋅e⋅r_{+1;3,1}⋅E¹₀(t, R, Z)⋅\\rho_{2,3}(t, R, Z)  \n",
      "⎢──(\\rho_{2,1}(t, R, Z))  =  ─────────────────────────────────────────────── +\n",
      "⎣∂t                                                2⋅h̅                       \n",
      "\n",
      " ⅈ⋅e⋅r_{+1;4,1}⋅E¹₀(t, R, Z)⋅\\rho_{2,4}(t, R, Z)   ⅈ⋅e⋅r_{+1;5,1}⋅E¹₀(t, R, Z)\n",
      " ─────────────────────────────────────────────── + ───────────────────────────\n",
      "                       2⋅h̅                                              2⋅h̅ \n",
      "\n",
      "⋅\\rho_{2,5}(t, R, Z)                                                      ⎤\n",
      "──────────────────── + ⅈ⋅ω₁⋅\\rho_{2,1}(t, R, Z) - ⅈ⋅ω₂⋅\\rho_{2,1}(t, R, Z)⎥\n",
      "                                                                          ⎦\n",
      "\n",
      "⎡                                                                             \n",
      "⎢∂                             \\gamma_{3,1}⋅\\rho_{3,1}(t, R, Z)   ⅈ⋅e⋅r_{+1;4,\n",
      "⎢──(\\rho_{3,1}(t, R, Z))  =  - ──────────────────────────────── + ────────────\n",
      "⎣∂t                                           2                               \n",
      "\n",
      "                                                                              \n",
      "1}⋅E¹₀(t, R, Z)⋅\\rho_{3,4}(t, R, Z)   ⅈ⋅e⋅r_{+1;5,1}⋅E¹₀(t, R, Z)⋅\\rho_{3,5}(t\n",
      "─────────────────────────────────── + ────────────────────────────────────────\n",
      "          2⋅h̅                                              2⋅h̅              \n",
      "\n",
      "                                               ____________                   \n",
      ", R, Z)   ⅈ⋅e⋅r_{-1;10,3}⋅\\rho_{10,1}(t, R, Z)⋅E²₀(t, R, Z)   ⅈ⋅e⋅r_{-1;11,3}⋅\n",
      "─────── - ───────────────────────────────────────────────── - ────────────────\n",
      "                                 2⋅h̅                                         \n",
      "\n",
      "                     ____________                                        _____\n",
      "\\rho_{11,1}(t, R, Z)⋅E²₀(t, R, Z)   ⅈ⋅e⋅r_{-1;12,3}⋅\\rho_{12,1}(t, R, Z)⋅E²₀(t\n",
      "───────────────────────────────── - ──────────────────────────────────────────\n",
      "       2⋅h̅                                                2⋅h̅               \n",
      "\n",
      "_______                                                                       \n",
      ", R, Z)                                                                       \n",
      "─────── + ⅈ⋅ω₁⋅\\rho_{3,1}(t, R, Z) - ⅈ⋅ω₃⋅\\rho_{3,1}(t, R, Z) + ⅈ⋅varpi₁⋅\\rho_\n",
      "                                                                              \n",
      "\n",
      "              ⎤\n",
      "              ⎥\n",
      "{3,1}(t, R, Z)⎥\n",
      "              ⎦\n",
      "\n",
      "⎡                                                                             \n",
      "⎢∂                             \\gamma_{4,1}⋅\\rho_{4,1}(t, R, Z)   \\gamma_{4,2}\n",
      "⎢──(\\rho_{4,1}(t, R, Z))  =  - ──────────────────────────────── - ────────────\n",
      "⎣∂t                                           2                               \n",
      "\n",
      "                                                                              \n",
      "⋅\\rho_{4,1}(t, R, Z)   ⅈ⋅e⋅r_{+1;5,1}⋅E¹₀(t, R, Z)⋅\\rho_{4,5}(t, R, Z)   ⅈ⋅e⋅r\n",
      "──────────────────── + ─────────────────────────────────────────────── - ─────\n",
      "   2                                         2⋅h̅                             \n",
      "\n",
      "                                ____________                                  \n",
      "_{-1;10,4}⋅\\rho_{10,1}(t, R, Z)⋅E²₀(t, R, Z)   ⅈ⋅e⋅r_{-1;11,4}⋅\\rho_{11,1}(t, \n",
      "──────────────────────────────────────────── - ───────────────────────────────\n",
      "                  2⋅h̅                                                2⋅h̅    \n",
      "\n",
      "      ____________                                      ____________          \n",
      "R, Z)⋅E²₀(t, R, Z)   ⅈ⋅e⋅r_{-1;9,4}⋅\\rho_{9,1}(t, R, Z)⋅E²₀(t, R, Z)          \n",
      "────────────────── - ─────────────────────────────────────────────── + ⅈ⋅ω₁⋅\\r\n",
      "                                           2⋅h̅                               \n",
      "\n",
      "                                                                           ⎤\n",
      "                                                                           ⎥\n",
      "ho_{4,1}(t, R, Z) - ⅈ⋅ω₄⋅\\rho_{4,1}(t, R, Z) + ⅈ⋅varpi₁⋅\\rho_{4,1}(t, R, Z)⎥\n",
      "                                                                           ⎦\n",
      "\n",
      "⎡                                                                             \n",
      "⎢∂                             \\gamma_{5,1}⋅\\rho_{5,1}(t, R, Z)   \\gamma_{5,2}\n",
      "⎢──(\\rho_{5,1}(t, R, Z))  =  - ──────────────────────────────── - ────────────\n",
      "⎣∂t                                           2                               \n",
      "\n",
      "                                                            ____________      \n",
      "⋅\\rho_{5,1}(t, R, Z)   ⅈ⋅e⋅r_{-1;10,5}⋅\\rho_{10,1}(t, R, Z)⋅E²₀(t, R, Z)   ⅈ⋅e\n",
      "──────────────────── - ───────────────────────────────────────────────── - ───\n",
      "   2                                          2⋅h̅                            \n",
      "\n",
      "                                ____________                                  \n",
      "⋅r_{-1;8,5}⋅\\rho_{8,1}(t, R, Z)⋅E²₀(t, R, Z)   ⅈ⋅e⋅r_{-1;9,5}⋅\\rho_{9,1}(t, R,\n",
      "──────────────────────────────────────────── - ───────────────────────────────\n",
      "                   2⋅h̅                                              2⋅h̅     \n",
      "\n",
      "    ____________                                                              \n",
      " Z)⋅E²₀(t, R, Z)                                                              \n",
      "──────────────── + ⅈ⋅ω₁⋅\\rho_{5,1}(t, R, Z) - ⅈ⋅ω₅⋅\\rho_{5,1}(t, R, Z) + ⅈ⋅var\n",
      "                                                                              \n",
      "\n",
      "                       ⎤\n",
      "                       ⎥\n",
      "pi₁⋅\\rho_{5,1}(t, R, Z)⎥\n",
      "                       ⎦\n",
      "\n",
      "⎡                                                                             \n",
      "⎢∂                             \\gamma_{6,2}⋅\\rho_{6,1}(t, R, Z)   ⅈ⋅e⋅r_{-1;7,\n",
      "⎢──(\\rho_{6,1}(t, R, Z))  =  - ──────────────────────────────── - ────────────\n",
      "⎣∂t                                           2                               \n",
      "\n",
      "                       ____________                                      _____\n",
      "6}⋅\\rho_{7,1}(t, R, Z)⋅E²₀(t, R, Z)   ⅈ⋅e⋅r_{-1;8,6}⋅\\rho_{8,1}(t, R, Z)⋅E²₀(t\n",
      "─────────────────────────────────── - ────────────────────────────────────────\n",
      "          2⋅h̅                                              2⋅h̅              \n",
      "\n",
      "_______                                      ____________                     \n",
      ", R, Z)   ⅈ⋅e⋅r_{-1;9,6}⋅\\rho_{9,1}(t, R, Z)⋅E²₀(t, R, Z)                     \n",
      "─────── - ─────────────────────────────────────────────── + ⅈ⋅ω₁⋅\\rho_{6,1}(t,\n",
      "                                2⋅h̅                                          \n",
      "\n",
      "                                                                ⎤\n",
      "                                                                ⎥\n",
      " R, Z) - ⅈ⋅ω₆⋅\\rho_{6,1}(t, R, Z) + ⅈ⋅varpi₁⋅\\rho_{6,1}(t, R, Z)⎥\n",
      "                                                                ⎦\n",
      "\n",
      "⎡∂                             \\gamma_{7,6}⋅\\rho_{7,1}(t, R, Z)   ⅈ⋅e⋅r_{-1;7,\n",
      "⎢──(\\rho_{7,1}(t, R, Z))  =  - ──────────────────────────────── - ────────────\n",
      "⎣∂t                                           2                               \n",
      "\n",
      "6}⋅E²₀(t, R, Z)⋅\\rho_{6,1}(t, R, Z)                                           \n",
      "─────────────────────────────────── + ⅈ⋅ω₁⋅\\rho_{7,1}(t, R, Z) - ⅈ⋅ω₇⋅\\rho_{7,\n",
      "          2⋅h̅                                                                \n",
      "\n",
      "                                                                         ⎤\n",
      "1}(t, R, Z) + ⅈ⋅varpi₁⋅\\rho_{7,1}(t, R, Z) + ⅈ⋅varpi₂⋅\\rho_{7,1}(t, R, Z)⎥\n",
      "                                                                         ⎦\n",
      "\n",
      "⎡∂                             \\gamma_{8,5}⋅\\rho_{8,1}(t, R, Z)   \\gamma_{8,6}\n",
      "⎢──(\\rho_{8,1}(t, R, Z))  =  - ──────────────────────────────── - ────────────\n",
      "⎣∂t                                           2                               \n",
      "\n",
      "⋅\\rho_{8,1}(t, R, Z)   ⅈ⋅e⋅r_{-1;8,5}⋅E²₀(t, R, Z)⋅\\rho_{5,1}(t, R, Z)   ⅈ⋅e⋅r\n",
      "──────────────────── - ─────────────────────────────────────────────── - ─────\n",
      "   2                                         2⋅h̅                             \n",
      "\n",
      "_{-1;8,6}⋅E²₀(t, R, Z)⋅\\rho_{6,1}(t, R, Z)                                    \n",
      "────────────────────────────────────────── + ⅈ⋅ω₁⋅\\rho_{8,1}(t, R, Z) - ⅈ⋅ω₈⋅\\\n",
      "                 2⋅h̅                                                         \n",
      "\n",
      "                                                                              \n",
      "rho_{8,1}(t, R, Z) + ⅈ⋅varpi₁⋅\\rho_{8,1}(t, R, Z) + ⅈ⋅varpi₂⋅\\rho_{8,1}(t, R, \n",
      "                                                                              \n",
      "\n",
      "  ⎤\n",
      "Z)⎥\n",
      "  ⎦\n",
      "\n",
      "⎡∂                             \\gamma_{9,4}⋅\\rho_{9,1}(t, R, Z)   \\gamma_{9,5}\n",
      "⎢──(\\rho_{9,1}(t, R, Z))  =  - ──────────────────────────────── - ────────────\n",
      "⎣∂t                                           2                               \n",
      "\n",
      "⋅\\rho_{9,1}(t, R, Z)   \\gamma_{9,6}⋅\\rho_{9,1}(t, R, Z)   ⅈ⋅e⋅r_{-1;9,4}⋅E²₀(t\n",
      "──────────────────── - ──────────────────────────────── - ────────────────────\n",
      "   2                                  2                                       \n",
      "\n",
      ", R, Z)⋅\\rho_{4,1}(t, R, Z)   ⅈ⋅e⋅r_{-1;9,5}⋅E²₀(t, R, Z)⋅\\rho_{5,1}(t, R, Z) \n",
      "─────────────────────────── - ─────────────────────────────────────────────── \n",
      "  2⋅h̅                                              2⋅h̅                      \n",
      "\n",
      "  ⅈ⋅e⋅r_{-1;9,6}⋅E²₀(t, R, Z)⋅\\rho_{6,1}(t, R, Z)                             \n",
      "- ─────────────────────────────────────────────── + ⅈ⋅ω₁⋅\\rho_{9,1}(t, R, Z) -\n",
      "                        2⋅h̅                                                  \n",
      "\n",
      "                                                                              \n",
      " ⅈ⋅ω₉⋅\\rho_{9,1}(t, R, Z) + ⅈ⋅varpi₁⋅\\rho_{9,1}(t, R, Z) + ⅈ⋅varpi₂⋅\\rho_{9,1}\n",
      "                                                                              \n",
      "\n",
      "         ⎤\n",
      "(t, R, Z)⎥\n",
      "         ⎦\n",
      "\n",
      "⎡∂                              \\gamma_{10,3}⋅\\rho_{10,1}(t, R, Z)   \\gamma_{1\n",
      "⎢──(\\rho_{10,1}(t, R, Z))  =  - ────────────────────────────────── - ─────────\n",
      "⎣∂t                                             2                             \n",
      "\n",
      "0,4}⋅\\rho_{10,1}(t, R, Z)   \\gamma_{10,5}⋅\\rho_{10,1}(t, R, Z)   ⅈ⋅e⋅r_{-1;10,\n",
      "───────────────────────── - ────────────────────────────────── - ─────────────\n",
      "       2                                    2                                 \n",
      "\n",
      "3}⋅E²₀(t, R, Z)⋅\\rho_{3,1}(t, R, Z)   ⅈ⋅e⋅r_{-1;10,4}⋅E²₀(t, R, Z)⋅\\rho_{4,1}(\n",
      "─────────────────────────────────── - ────────────────────────────────────────\n",
      "         2⋅h̅                                               2⋅h̅              \n",
      "\n",
      "t, R, Z)   ⅈ⋅e⋅r_{-1;10,5}⋅E²₀(t, R, Z)⋅\\rho_{5,1}(t, R, Z)                   \n",
      "──────── - ──────────────────────────────────────────────── + ⅈ⋅ω₁⋅\\rho_{10,1}\n",
      "                                 2⋅h̅                                         \n",
      "\n",
      "                                                                              \n",
      "(t, R, Z) - ⅈ⋅ω₁₀⋅\\rho_{10,1}(t, R, Z) + ⅈ⋅varpi₁⋅\\rho_{10,1}(t, R, Z) + ⅈ⋅var\n",
      "                                                                              \n",
      "\n",
      "                        ⎤\n",
      "pi₂⋅\\rho_{10,1}(t, R, Z)⎥\n",
      "                        ⎦\n",
      "\n",
      "⎡∂                              \\gamma_{11,3}⋅\\rho_{11,1}(t, R, Z)   \\gamma_{1\n",
      "⎢──(\\rho_{11,1}(t, R, Z))  =  - ────────────────────────────────── - ─────────\n",
      "⎣∂t                                             2                             \n",
      "\n",
      "1,4}⋅\\rho_{11,1}(t, R, Z)   ⅈ⋅e⋅r_{-1;11,3}⋅E²₀(t, R, Z)⋅\\rho_{3,1}(t, R, Z)  \n",
      "───────────────────────── - ──────────────────────────────────────────────── -\n",
      "       2                                          2⋅h̅                        \n",
      "\n",
      " ⅈ⋅e⋅r_{-1;11,4}⋅E²₀(t, R, Z)⋅\\rho_{4,1}(t, R, Z)                             \n",
      " ──────────────────────────────────────────────── + ⅈ⋅ω₁⋅\\rho_{11,1}(t, R, Z) \n",
      "                       2⋅h̅                                                   \n",
      "\n",
      "                                                                              \n",
      "- ⅈ⋅ω₁₁⋅\\rho_{11,1}(t, R, Z) + ⅈ⋅varpi₁⋅\\rho_{11,1}(t, R, Z) + ⅈ⋅varpi₂⋅\\rho_{\n",
      "                                                                              \n",
      "\n",
      "              ⎤\n",
      "11,1}(t, R, Z)⎥\n",
      "              ⎦\n",
      "\n",
      "⎡∂                              \\gamma_{12,3}⋅\\rho_{12,1}(t, R, Z)   ⅈ⋅e⋅r_{-1\n",
      "⎢──(\\rho_{12,1}(t, R, Z))  =  - ────────────────────────────────── - ─────────\n",
      "⎣∂t                                             2                             \n",
      "\n",
      ";12,3}⋅E²₀(t, R, Z)⋅\\rho_{3,1}(t, R, Z)                                       \n",
      "─────────────────────────────────────── + ⅈ⋅ω₁⋅\\rho_{12,1}(t, R, Z) - ⅈ⋅ω₁₂⋅\\r\n",
      "             2⋅h̅                                                             \n",
      "\n",
      "                                                                              \n",
      "ho_{12,1}(t, R, Z) + ⅈ⋅varpi₁⋅\\rho_{12,1}(t, R, Z) + ⅈ⋅varpi₂⋅\\rho_{12,1}(t, R\n",
      "                                                                              \n",
      "\n",
      "    ⎤\n",
      ", Z)⎥\n",
      "    ⎦\n",
      "\n",
      "⎡                                                                             \n",
      "⎢∂                             \\gamma_{3,1}⋅\\rho_{3,2}(t, R, Z)   ⅈ⋅e⋅r_{+1;3,\n",
      "⎢──(\\rho_{3,2}(t, R, Z))  =  - ──────────────────────────────── - ────────────\n",
      "⎣∂t                                           2                               \n",
      "\n",
      "                                                                              \n",
      "1}⋅E¹₀(t, R, Z)⋅\\rho_{1,2}(t, R, Z)   ⅈ⋅e⋅r_{+1;4,2}⋅E¹₀(t, R, Z)⋅\\rho_{3,4}(t\n",
      "─────────────────────────────────── + ────────────────────────────────────────\n",
      "          2⋅h̅                                              2⋅h̅              \n",
      "\n",
      "                                                                              \n",
      ", R, Z)   ⅈ⋅e⋅r_{+1;5,2}⋅E¹₀(t, R, Z)⋅\\rho_{3,5}(t, R, Z)   ⅈ⋅e⋅r_{+1;6,2}⋅E¹₀\n",
      "─────── + ─────────────────────────────────────────────── + ──────────────────\n",
      "                                2⋅h̅                                          \n",
      "\n",
      "                                                                     _________\n",
      "(t, R, Z)⋅\\rho_{3,6}(t, R, Z)   ⅈ⋅e⋅r_{-1;10,3}⋅\\rho_{10,2}(t, R, Z)⋅E²₀(t, R,\n",
      "───────────────────────────── - ──────────────────────────────────────────────\n",
      "    2⋅h̅                                               2⋅h̅                   \n",
      "\n",
      "___                                        ____________                       \n",
      " Z)   ⅈ⋅e⋅r_{-1;11,3}⋅\\rho_{11,2}(t, R, Z)⋅E²₀(t, R, Z)   ⅈ⋅e⋅r_{-1;12,3}⋅\\rho\n",
      "─── - ───────────────────────────────────────────────── - ────────────────────\n",
      "                             2⋅h̅                                             \n",
      "\n",
      "                 ____________                                                 \n",
      "_{12,2}(t, R, Z)⋅E²₀(t, R, Z)                                                 \n",
      "───────────────────────────── + ⅈ⋅ω₂⋅\\rho_{3,2}(t, R, Z) - ⅈ⋅ω₃⋅\\rho_{3,2}(t, \n",
      "   2⋅h̅                                                                       \n",
      "\n",
      "                                    ⎤\n",
      "                                    ⎥\n",
      "R, Z) + ⅈ⋅varpi₁⋅\\rho_{3,2}(t, R, Z)⎥\n",
      "                                    ⎦\n",
      "\n",
      "⎡                                                                             \n",
      "⎢∂                             \\gamma_{4,1}⋅\\rho_{4,2}(t, R, Z)   \\gamma_{4,2}\n",
      "⎢──(\\rho_{4,2}(t, R, Z))  =  - ──────────────────────────────── - ────────────\n",
      "⎣∂t                                           2                               \n",
      "\n",
      "                                                                              \n",
      "⋅\\rho_{4,2}(t, R, Z)   ⅈ⋅e⋅r_{+1;4,1}⋅E¹₀(t, R, Z)⋅\\rho_{1,2}(t, R, Z)   ⅈ⋅e⋅r\n",
      "──────────────────── - ─────────────────────────────────────────────── - ─────\n",
      "   2                                         2⋅h̅                             \n",
      "\n",
      "                                                                              \n",
      "_{+1;4,2}⋅E¹₀(t, R, Z)   ⅈ⋅e⋅r_{+1;5,2}⋅E¹₀(t, R, Z)⋅\\rho_{4,5}(t, R, Z)   ⅈ⋅e\n",
      "────────────────────── + ─────────────────────────────────────────────── + ───\n",
      "       2⋅h̅                                    2⋅h̅                           \n",
      "\n",
      "                                                                              \n",
      "⋅r_{+1;6,2}⋅E¹₀(t, R, Z)⋅\\rho_{4,6}(t, R, Z)   ⅈ⋅e⋅r_{-1;10,4}⋅\\rho_{10,2}(t, \n",
      "──────────────────────────────────────────── - ───────────────────────────────\n",
      "                   2⋅h̅                                               2⋅h̅    \n",
      "\n",
      "      ____________                                        ____________        \n",
      "R, Z)⋅E²₀(t, R, Z)   ⅈ⋅e⋅r_{-1;11,4}⋅\\rho_{11,2}(t, R, Z)⋅E²₀(t, R, Z)   ⅈ⋅e⋅r\n",
      "────────────────── - ───────────────────────────────────────────────── - ─────\n",
      "                                            2⋅h̅                              \n",
      "\n",
      "                              ____________                                    \n",
      "_{-1;9,4}⋅\\rho_{9,2}(t, R, Z)⋅E²₀(t, R, Z)                                    \n",
      "────────────────────────────────────────── + ⅈ⋅ω₂⋅\\rho_{4,2}(t, R, Z) - ⅈ⋅ω₄⋅\\\n",
      "                 2⋅h̅                                                         \n",
      "\n",
      "                                                 ⎤\n",
      "                                                 ⎥\n",
      "rho_{4,2}(t, R, Z) + ⅈ⋅varpi₁⋅\\rho_{4,2}(t, R, Z)⎥\n",
      "                                                 ⎦\n",
      "\n",
      "⎡                                                                             \n",
      "⎢∂                             \\gamma_{5,1}⋅\\rho_{5,2}(t, R, Z)   \\gamma_{5,2}\n",
      "⎢──(\\rho_{5,2}(t, R, Z))  =  - ──────────────────────────────── - ────────────\n",
      "⎣∂t                                           2                               \n",
      "\n",
      "                                                                              \n",
      "⋅\\rho_{5,2}(t, R, Z)   ⅈ⋅e⋅r_{+1;5,1}⋅E¹₀(t, R, Z)⋅\\rho_{1,2}(t, R, Z)   ⅈ⋅e⋅r\n",
      "──────────────────── - ─────────────────────────────────────────────── - ─────\n",
      "   2                                         2⋅h̅                             \n",
      "\n",
      "                                                                              \n",
      "_{+1;5,2}⋅E¹₀(t, R, Z)   ⅈ⋅e⋅r_{+1;6,2}⋅E¹₀(t, R, Z)⋅\\rho_{5,6}(t, R, Z)   ⅈ⋅e\n",
      "────────────────────── + ─────────────────────────────────────────────── - ───\n",
      "       2⋅h̅                                    2⋅h̅                           \n",
      "\n",
      "                                  ____________                                \n",
      "⋅r_{-1;10,5}⋅\\rho_{10,2}(t, R, Z)⋅E²₀(t, R, Z)   ⅈ⋅e⋅r_{-1;8,5}⋅\\rho_{8,2}(t, \n",
      "────────────────────────────────────────────── - ─────────────────────────────\n",
      "                    2⋅h̅                                               2⋅h̅   \n",
      "\n",
      "      ____________                                      ____________          \n",
      "R, Z)⋅E²₀(t, R, Z)   ⅈ⋅e⋅r_{-1;9,5}⋅\\rho_{9,2}(t, R, Z)⋅E²₀(t, R, Z)          \n",
      "────────────────── - ─────────────────────────────────────────────── + ⅈ⋅ω₂⋅\\r\n",
      "                                           2⋅h̅                               \n",
      "\n",
      "                                                                           ⎤\n",
      "                                                                           ⎥\n",
      "ho_{5,2}(t, R, Z) - ⅈ⋅ω₅⋅\\rho_{5,2}(t, R, Z) + ⅈ⋅varpi₁⋅\\rho_{5,2}(t, R, Z)⎥\n",
      "                                                                           ⎦\n",
      "\n",
      "⎡                                                                             \n",
      "⎢∂                             \\gamma_{6,2}⋅\\rho_{6,2}(t, R, Z)   ⅈ⋅e⋅r_{+1;6,\n",
      "⎢──(\\rho_{6,2}(t, R, Z))  =  - ──────────────────────────────── - ────────────\n",
      "⎣∂t                                           2                               \n",
      "\n",
      "                                                     ____________             \n",
      "2}⋅E¹₀(t, R, Z)   ⅈ⋅e⋅r_{-1;7,6}⋅\\rho_{7,2}(t, R, Z)⋅E²₀(t, R, Z)   ⅈ⋅e⋅r_{-1;\n",
      "─────────────── - ─────────────────────────────────────────────── - ──────────\n",
      "2⋅h̅                                    2⋅h̅                                  \n",
      "\n",
      "                         ____________                                      ___\n",
      "8,6}⋅\\rho_{8,2}(t, R, Z)⋅E²₀(t, R, Z)   ⅈ⋅e⋅r_{-1;9,6}⋅\\rho_{9,2}(t, R, Z)⋅E²₀\n",
      "───────────────────────────────────── - ──────────────────────────────────────\n",
      "            2⋅h̅                                              2⋅h̅            \n",
      "\n",
      "_________                                                                     \n",
      "(t, R, Z)                                                                     \n",
      "───────── + ⅈ⋅ω₂⋅\\rho_{6,2}(t, R, Z) - ⅈ⋅ω₆⋅\\rho_{6,2}(t, R, Z) + ⅈ⋅varpi₁⋅\\rh\n",
      "                                                                              \n",
      "\n",
      "                ⎤\n",
      "                ⎥\n",
      "o_{6,2}(t, R, Z)⎥\n",
      "                ⎦\n",
      "\n",
      "⎡∂                             \\gamma_{7,6}⋅\\rho_{7,2}(t, R, Z)   ⅈ⋅e⋅r_{-1;7,\n",
      "⎢──(\\rho_{7,2}(t, R, Z))  =  - ──────────────────────────────── - ────────────\n",
      "⎣∂t                                           2                               \n",
      "\n",
      "6}⋅E²₀(t, R, Z)⋅\\rho_{6,2}(t, R, Z)                                           \n",
      "─────────────────────────────────── + ⅈ⋅ω₂⋅\\rho_{7,2}(t, R, Z) - ⅈ⋅ω₇⋅\\rho_{7,\n",
      "          2⋅h̅                                                                \n",
      "\n",
      "                                                                         ⎤\n",
      "2}(t, R, Z) + ⅈ⋅varpi₁⋅\\rho_{7,2}(t, R, Z) + ⅈ⋅varpi₂⋅\\rho_{7,2}(t, R, Z)⎥\n",
      "                                                                         ⎦\n",
      "\n",
      "⎡∂                             \\gamma_{8,5}⋅\\rho_{8,2}(t, R, Z)   \\gamma_{8,6}\n",
      "⎢──(\\rho_{8,2}(t, R, Z))  =  - ──────────────────────────────── - ────────────\n",
      "⎣∂t                                           2                               \n",
      "\n",
      "⋅\\rho_{8,2}(t, R, Z)   ⅈ⋅e⋅r_{-1;8,5}⋅E²₀(t, R, Z)⋅\\rho_{5,2}(t, R, Z)   ⅈ⋅e⋅r\n",
      "──────────────────── - ─────────────────────────────────────────────── - ─────\n",
      "   2                                         2⋅h̅                             \n",
      "\n",
      "_{-1;8,6}⋅E²₀(t, R, Z)⋅\\rho_{6,2}(t, R, Z)                                    \n",
      "────────────────────────────────────────── + ⅈ⋅ω₂⋅\\rho_{8,2}(t, R, Z) - ⅈ⋅ω₈⋅\\\n",
      "                 2⋅h̅                                                         \n",
      "\n",
      "                                                                              \n",
      "rho_{8,2}(t, R, Z) + ⅈ⋅varpi₁⋅\\rho_{8,2}(t, R, Z) + ⅈ⋅varpi₂⋅\\rho_{8,2}(t, R, \n",
      "                                                                              \n",
      "\n",
      "  ⎤\n",
      "Z)⎥\n",
      "  ⎦\n",
      "\n",
      "⎡∂                             \\gamma_{9,4}⋅\\rho_{9,2}(t, R, Z)   \\gamma_{9,5}\n",
      "⎢──(\\rho_{9,2}(t, R, Z))  =  - ──────────────────────────────── - ────────────\n",
      "⎣∂t                                           2                               \n",
      "\n",
      "⋅\\rho_{9,2}(t, R, Z)   \\gamma_{9,6}⋅\\rho_{9,2}(t, R, Z)   ⅈ⋅e⋅r_{-1;9,4}⋅E²₀(t\n",
      "──────────────────── - ──────────────────────────────── - ────────────────────\n",
      "   2                                  2                                       \n",
      "\n",
      ", R, Z)⋅\\rho_{4,2}(t, R, Z)   ⅈ⋅e⋅r_{-1;9,5}⋅E²₀(t, R, Z)⋅\\rho_{5,2}(t, R, Z) \n",
      "─────────────────────────── - ─────────────────────────────────────────────── \n",
      "  2⋅h̅                                              2⋅h̅                      \n",
      "\n",
      "  ⅈ⋅e⋅r_{-1;9,6}⋅E²₀(t, R, Z)⋅\\rho_{6,2}(t, R, Z)                             \n",
      "- ─────────────────────────────────────────────── + ⅈ⋅ω₂⋅\\rho_{9,2}(t, R, Z) -\n",
      "                        2⋅h̅                                                  \n",
      "\n",
      "                                                                              \n",
      " ⅈ⋅ω₉⋅\\rho_{9,2}(t, R, Z) + ⅈ⋅varpi₁⋅\\rho_{9,2}(t, R, Z) + ⅈ⋅varpi₂⋅\\rho_{9,2}\n",
      "                                                                              \n",
      "\n",
      "         ⎤\n",
      "(t, R, Z)⎥\n",
      "         ⎦\n",
      "\n",
      "⎡∂                              \\gamma_{10,3}⋅\\rho_{10,2}(t, R, Z)   \\gamma_{1\n",
      "⎢──(\\rho_{10,2}(t, R, Z))  =  - ────────────────────────────────── - ─────────\n",
      "⎣∂t                                             2                             \n",
      "\n",
      "0,4}⋅\\rho_{10,2}(t, R, Z)   \\gamma_{10,5}⋅\\rho_{10,2}(t, R, Z)   ⅈ⋅e⋅r_{-1;10,\n",
      "───────────────────────── - ────────────────────────────────── - ─────────────\n",
      "       2                                    2                                 \n",
      "\n",
      "3}⋅E²₀(t, R, Z)⋅\\rho_{3,2}(t, R, Z)   ⅈ⋅e⋅r_{-1;10,4}⋅E²₀(t, R, Z)⋅\\rho_{4,2}(\n",
      "─────────────────────────────────── - ────────────────────────────────────────\n",
      "         2⋅h̅                                               2⋅h̅              \n",
      "\n",
      "t, R, Z)   ⅈ⋅e⋅r_{-1;10,5}⋅E²₀(t, R, Z)⋅\\rho_{5,2}(t, R, Z)                   \n",
      "──────── - ──────────────────────────────────────────────── - ⅈ⋅ω₁₀⋅\\rho_{10,2\n",
      "                                 2⋅h̅                                         \n",
      "\n",
      "                                                                              \n",
      "}(t, R, Z) + ⅈ⋅ω₂⋅\\rho_{10,2}(t, R, Z) + ⅈ⋅varpi₁⋅\\rho_{10,2}(t, R, Z) + ⅈ⋅var\n",
      "                                                                              \n",
      "\n",
      "                        ⎤\n",
      "pi₂⋅\\rho_{10,2}(t, R, Z)⎥\n",
      "                        ⎦\n",
      "\n",
      "⎡∂                              \\gamma_{11,3}⋅\\rho_{11,2}(t, R, Z)   \\gamma_{1\n",
      "⎢──(\\rho_{11,2}(t, R, Z))  =  - ────────────────────────────────── - ─────────\n",
      "⎣∂t                                             2                             \n",
      "\n",
      "1,4}⋅\\rho_{11,2}(t, R, Z)   ⅈ⋅e⋅r_{-1;11,3}⋅E²₀(t, R, Z)⋅\\rho_{3,2}(t, R, Z)  \n",
      "───────────────────────── - ──────────────────────────────────────────────── -\n",
      "       2                                          2⋅h̅                        \n",
      "\n",
      " ⅈ⋅e⋅r_{-1;11,4}⋅E²₀(t, R, Z)⋅\\rho_{4,2}(t, R, Z)                             \n",
      " ──────────────────────────────────────────────── - ⅈ⋅ω₁₁⋅\\rho_{11,2}(t, R, Z)\n",
      "                       2⋅h̅                                                   \n",
      "\n",
      "                                                                              \n",
      " + ⅈ⋅ω₂⋅\\rho_{11,2}(t, R, Z) + ⅈ⋅varpi₁⋅\\rho_{11,2}(t, R, Z) + ⅈ⋅varpi₂⋅\\rho_{\n",
      "                                                                              \n",
      "\n",
      "              ⎤\n",
      "11,2}(t, R, Z)⎥\n",
      "              ⎦\n",
      "\n",
      "⎡∂                              \\gamma_{12,3}⋅\\rho_{12,2}(t, R, Z)   ⅈ⋅e⋅r_{-1\n",
      "⎢──(\\rho_{12,2}(t, R, Z))  =  - ────────────────────────────────── - ─────────\n",
      "⎣∂t                                             2                             \n",
      "\n",
      ";12,3}⋅E²₀(t, R, Z)⋅\\rho_{3,2}(t, R, Z)                                       \n",
      "─────────────────────────────────────── - ⅈ⋅ω₁₂⋅\\rho_{12,2}(t, R, Z) + ⅈ⋅ω₂⋅\\r\n",
      "             2⋅h̅                                                             \n",
      "\n",
      "                                                                              \n",
      "ho_{12,2}(t, R, Z) + ⅈ⋅varpi₁⋅\\rho_{12,2}(t, R, Z) + ⅈ⋅varpi₂⋅\\rho_{12,2}(t, R\n",
      "                                                                              \n",
      "\n",
      "    ⎤\n",
      ", Z)⎥\n",
      "    ⎦\n",
      "\n",
      "⎡                                                                             \n",
      "⎢∂                             \\gamma_{3,1}⋅\\rho_{4,3}(t, R, Z)   \\gamma_{4,1}\n",
      "⎢──(\\rho_{4,3}(t, R, Z))  =  - ──────────────────────────────── - ────────────\n",
      "⎣∂t                                           2                               \n",
      "\n",
      "                                                                              \n",
      "⋅\\rho_{4,3}(t, R, Z)   \\gamma_{4,2}⋅\\rho_{4,3}(t, R, Z)   ⅈ⋅e⋅r_{+1;4,1}⋅E¹₀(t\n",
      "──────────────────── - ──────────────────────────────── - ────────────────────\n",
      "   2                                  2                                       \n",
      "\n",
      "                                                                              \n",
      ", R, Z)⋅\\rho_{1,3}(t, R, Z)   ⅈ⋅e⋅r_{+1;4,2}⋅E¹₀(t, R, Z)⋅\\rho_{2,3}(t, R, Z) \n",
      "─────────────────────────── - ─────────────────────────────────────────────── \n",
      "  2⋅h̅                                              2⋅h̅                      \n",
      "\n",
      "                                                                              \n",
      "  ⅈ⋅e⋅r_{-1;10,3}⋅E²₀(t, R, Z)⋅\\rho_{4,10}(t, R, Z)   ⅈ⋅e⋅r_{-1;10,4}⋅\\rho_{10\n",
      "+ ───────────────────────────────────────────────── - ────────────────────────\n",
      "                         2⋅h̅                                                2\n",
      "\n",
      "             ____________                                                     \n",
      ",3}(t, R, Z)⋅E²₀(t, R, Z)   ⅈ⋅e⋅r_{-1;11,3}⋅E²₀(t, R, Z)⋅\\rho_{4,11}(t, R, Z) \n",
      "───────────────────────── + ───────────────────────────────────────────────── \n",
      "⋅h̅                                                2⋅h̅                       \n",
      "\n",
      "                                       ____________                           \n",
      "  ⅈ⋅e⋅r_{-1;11,4}⋅\\rho_{11,3}(t, R, Z)⋅E²₀(t, R, Z)   ⅈ⋅e⋅r_{-1;12,3}⋅E²₀(t, R\n",
      "- ───────────────────────────────────────────────── + ────────────────────────\n",
      "                         2⋅h̅                                                2\n",
      "\n",
      "                                                               ____________   \n",
      ", Z)⋅\\rho_{4,12}(t, R, Z)   ⅈ⋅e⋅r_{-1;9,4}⋅\\rho_{9,3}(t, R, Z)⋅E²₀(t, R, Z)   \n",
      "───────────────────────── - ─────────────────────────────────────────────── + \n",
      "⋅h̅                                               2⋅h̅                        \n",
      "\n",
      "                                                   ⎤\n",
      "                                                   ⎥\n",
      "ⅈ⋅ω₃⋅\\rho_{4,3}(t, R, Z) - ⅈ⋅ω₄⋅\\rho_{4,3}(t, R, Z)⎥\n",
      "                                                   ⎦\n",
      "\n",
      "⎡                                                                             \n",
      "⎢∂                             \\gamma_{3,1}⋅\\rho_{5,3}(t, R, Z)   \\gamma_{5,1}\n",
      "⎢──(\\rho_{5,3}(t, R, Z))  =  - ──────────────────────────────── - ────────────\n",
      "⎣∂t                                           2                               \n",
      "\n",
      "                                                                              \n",
      "⋅\\rho_{5,3}(t, R, Z)   \\gamma_{5,2}⋅\\rho_{5,3}(t, R, Z)   ⅈ⋅e⋅r_{+1;5,1}⋅E¹₀(t\n",
      "──────────────────── - ──────────────────────────────── - ────────────────────\n",
      "   2                                  2                                       \n",
      "\n",
      "                                                                              \n",
      ", R, Z)⋅\\rho_{1,3}(t, R, Z)   ⅈ⋅e⋅r_{+1;5,2}⋅E¹₀(t, R, Z)⋅\\rho_{2,3}(t, R, Z) \n",
      "─────────────────────────── - ─────────────────────────────────────────────── \n",
      "  2⋅h̅                                              2⋅h̅                      \n",
      "\n",
      "                                                                              \n",
      "  ⅈ⋅e⋅r_{-1;10,3}⋅E²₀(t, R, Z)⋅\\rho_{5,10}(t, R, Z)   ⅈ⋅e⋅r_{-1;10,5}⋅\\rho_{10\n",
      "+ ───────────────────────────────────────────────── - ────────────────────────\n",
      "                         2⋅h̅                                                2\n",
      "\n",
      "             ____________                                                     \n",
      ",3}(t, R, Z)⋅E²₀(t, R, Z)   ⅈ⋅e⋅r_{-1;11,3}⋅E²₀(t, R, Z)⋅\\rho_{5,11}(t, R, Z) \n",
      "───────────────────────── + ───────────────────────────────────────────────── \n",
      "⋅h̅                                                2⋅h̅                       \n",
      "\n",
      "                                                                              \n",
      "  ⅈ⋅e⋅r_{-1;12,3}⋅E²₀(t, R, Z)⋅\\rho_{5,12}(t, R, Z)   ⅈ⋅e⋅r_{-1;8,5}⋅\\rho_{8,3\n",
      "+ ───────────────────────────────────────────────── - ────────────────────────\n",
      "                         2⋅h̅                                               2⋅\n",
      "\n",
      "           ____________                                      ____________     \n",
      "}(t, R, Z)⋅E²₀(t, R, Z)   ⅈ⋅e⋅r_{-1;9,5}⋅\\rho_{9,3}(t, R, Z)⋅E²₀(t, R, Z)     \n",
      "─────────────────────── - ─────────────────────────────────────────────── + ⅈ⋅\n",
      "h̅                                              2⋅h̅                          \n",
      "\n",
      "                                                 ⎤\n",
      "                                                 ⎥\n",
      "ω₃⋅\\rho_{5,3}(t, R, Z) - ⅈ⋅ω₅⋅\\rho_{5,3}(t, R, Z)⎥\n",
      "                                                 ⎦\n",
      "\n",
      "⎡                                                                             \n",
      "⎢∂                             \\gamma_{3,1}⋅\\rho_{6,3}(t, R, Z)   \\gamma_{6,2}\n",
      "⎢──(\\rho_{6,3}(t, R, Z))  =  - ──────────────────────────────── - ────────────\n",
      "⎣∂t                                           2                               \n",
      "\n",
      "                                                                              \n",
      "⋅\\rho_{6,3}(t, R, Z)   ⅈ⋅e⋅r_{+1;6,2}⋅E¹₀(t, R, Z)⋅\\rho_{2,3}(t, R, Z)   ⅈ⋅e⋅r\n",
      "──────────────────── - ─────────────────────────────────────────────── + ─────\n",
      "   2                                         2⋅h̅                             \n",
      "\n",
      "                                                                              \n",
      "_{-1;10,3}⋅E²₀(t, R, Z)⋅\\rho_{6,10}(t, R, Z)   ⅈ⋅e⋅r_{-1;11,3}⋅E²₀(t, R, Z)⋅\\r\n",
      "──────────────────────────────────────────── + ───────────────────────────────\n",
      "                  2⋅h̅                                                2⋅h̅    \n",
      "\n",
      "                                                                              \n",
      "ho_{6,11}(t, R, Z)   ⅈ⋅e⋅r_{-1;12,3}⋅E²₀(t, R, Z)⋅\\rho_{6,12}(t, R, Z)   ⅈ⋅e⋅r\n",
      "────────────────── + ───────────────────────────────────────────────── - ─────\n",
      "                                            2⋅h̅                              \n",
      "\n",
      "                              ____________                                    \n",
      "_{-1;7,6}⋅\\rho_{7,3}(t, R, Z)⋅E²₀(t, R, Z)   ⅈ⋅e⋅r_{-1;8,6}⋅\\rho_{8,3}(t, R, Z\n",
      "────────────────────────────────────────── - ─────────────────────────────────\n",
      "                 2⋅h̅                                              2⋅h̅       \n",
      "\n",
      "  ____________                                      ____________              \n",
      ")⋅E²₀(t, R, Z)   ⅈ⋅e⋅r_{-1;9,6}⋅\\rho_{9,3}(t, R, Z)⋅E²₀(t, R, Z)              \n",
      "────────────── - ─────────────────────────────────────────────── + ⅈ⋅ω₃⋅\\rho_{\n",
      "                                       2⋅h̅                                   \n",
      "\n",
      "                                        ⎤\n",
      "                                        ⎥\n",
      "6,3}(t, R, Z) - ⅈ⋅ω₆⋅\\rho_{6,3}(t, R, Z)⎥\n",
      "                                        ⎦\n",
      "\n",
      "⎡∂                             \\gamma_{3,1}⋅\\rho_{7,3}(t, R, Z)   \\gamma_{7,6}\n",
      "⎢──(\\rho_{7,3}(t, R, Z))  =  - ──────────────────────────────── - ────────────\n",
      "⎣∂t                                           2                               \n",
      "\n",
      "⋅\\rho_{7,3}(t, R, Z)   ⅈ⋅e⋅r_{-1;10,3}⋅E²₀(t, R, Z)⋅\\rho_{7,10}(t, R, Z)   ⅈ⋅e\n",
      "──────────────────── + ───────────────────────────────────────────────── + ───\n",
      "   2                                          2⋅h̅                            \n",
      "\n",
      "⋅r_{-1;11,3}⋅E²₀(t, R, Z)⋅\\rho_{7,11}(t, R, Z)   ⅈ⋅e⋅r_{-1;12,3}⋅E²₀(t, R, Z)⋅\n",
      "────────────────────────────────────────────── + ─────────────────────────────\n",
      "                    2⋅h̅                                                2⋅h̅  \n",
      "\n",
      "\\rho_{7,12}(t, R, Z)   ⅈ⋅e⋅r_{-1;7,6}⋅E²₀(t, R, Z)⋅\\rho_{6,3}(t, R, Z)        \n",
      "──────────────────── - ─────────────────────────────────────────────── + ⅈ⋅ω₃⋅\n",
      "                                             2⋅h̅                             \n",
      "\n",
      "                                                                             ⎤\n",
      "\\rho_{7,3}(t, R, Z) - ⅈ⋅ω₇⋅\\rho_{7,3}(t, R, Z) + ⅈ⋅varpi₂⋅\\rho_{7,3}(t, R, Z)⎥\n",
      "                                                                             ⎦\n",
      "\n",
      "⎡∂                             \\gamma_{3,1}⋅\\rho_{8,3}(t, R, Z)   \\gamma_{8,5}\n",
      "⎢──(\\rho_{8,3}(t, R, Z))  =  - ──────────────────────────────── - ────────────\n",
      "⎣∂t                                           2                               \n",
      "\n",
      "⋅\\rho_{8,3}(t, R, Z)   \\gamma_{8,6}⋅\\rho_{8,3}(t, R, Z)   ⅈ⋅e⋅r_{-1;10,3}⋅E²₀(\n",
      "──────────────────── - ──────────────────────────────── + ────────────────────\n",
      "   2                                  2                                       \n",
      "\n",
      "t, R, Z)⋅\\rho_{8,10}(t, R, Z)   ⅈ⋅e⋅r_{-1;11,3}⋅E²₀(t, R, Z)⋅\\rho_{8,11}(t, R,\n",
      "───────────────────────────── + ──────────────────────────────────────────────\n",
      "   2⋅h̅                                                2⋅h̅                   \n",
      "\n",
      " Z)   ⅈ⋅e⋅r_{-1;12,3}⋅E²₀(t, R, Z)⋅\\rho_{8,12}(t, R, Z)   ⅈ⋅e⋅r_{-1;8,5}⋅E²₀(t\n",
      "─── + ───────────────────────────────────────────────── - ────────────────────\n",
      "                             2⋅h̅                                             \n",
      "\n",
      ", R, Z)⋅\\rho_{5,3}(t, R, Z)   ⅈ⋅e⋅r_{-1;8,6}⋅E²₀(t, R, Z)⋅\\rho_{6,3}(t, R, Z) \n",
      "─────────────────────────── - ─────────────────────────────────────────────── \n",
      "  2⋅h̅                                              2⋅h̅                      \n",
      "\n",
      "                                                                              \n",
      "+ ⅈ⋅ω₃⋅\\rho_{8,3}(t, R, Z) - ⅈ⋅ω₈⋅\\rho_{8,3}(t, R, Z) + ⅈ⋅varpi₂⋅\\rho_{8,3}(t,\n",
      "                                                                              \n",
      "\n",
      "      ⎤\n",
      " R, Z)⎥\n",
      "      ⎦\n",
      "\n",
      "⎡∂                             \\gamma_{3,1}⋅\\rho_{9,3}(t, R, Z)   \\gamma_{9,4}\n",
      "⎢──(\\rho_{9,3}(t, R, Z))  =  - ──────────────────────────────── - ────────────\n",
      "⎣∂t                                           2                               \n",
      "\n",
      "⋅\\rho_{9,3}(t, R, Z)   \\gamma_{9,5}⋅\\rho_{9,3}(t, R, Z)   \\gamma_{9,6}⋅\\rho_{9\n",
      "──────────────────── - ──────────────────────────────── - ────────────────────\n",
      "   2                                  2                                  2    \n",
      "\n",
      ",3}(t, R, Z)   ⅈ⋅e⋅r_{-1;10,3}⋅E²₀(t, R, Z)⋅\\rho_{9,10}(t, R, Z)   ⅈ⋅e⋅r_{-1;1\n",
      "──────────── + ───────────────────────────────────────────────── + ───────────\n",
      "                                      2⋅h̅                                    \n",
      "\n",
      "1,3}⋅E²₀(t, R, Z)⋅\\rho_{9,11}(t, R, Z)   ⅈ⋅e⋅r_{-1;12,3}⋅E²₀(t, R, Z)⋅\\rho_{9,\n",
      "────────────────────────────────────── + ─────────────────────────────────────\n",
      "            2⋅h̅                                                2⋅h̅          \n",
      "\n",
      "12}(t, R, Z)   ⅈ⋅e⋅r_{-1;9,4}⋅E²₀(t, R, Z)⋅\\rho_{4,3}(t, R, Z)   ⅈ⋅e⋅r_{-1;9,5\n",
      "──────────── - ─────────────────────────────────────────────── - ─────────────\n",
      "                                     2⋅h̅                                     \n",
      "\n",
      "}⋅E²₀(t, R, Z)⋅\\rho_{5,3}(t, R, Z)   ⅈ⋅e⋅r_{-1;9,6}⋅E²₀(t, R, Z)⋅\\rho_{6,3}(t,\n",
      "────────────────────────────────── - ─────────────────────────────────────────\n",
      "         2⋅h̅                                              2⋅h̅               \n",
      "\n",
      " R, Z)                                                                        \n",
      "────── + ⅈ⋅ω₃⋅\\rho_{9,3}(t, R, Z) - ⅈ⋅ω₉⋅\\rho_{9,3}(t, R, Z) + ⅈ⋅varpi₂⋅\\rho_{\n",
      "                                                                              \n",
      "\n",
      "             ⎤\n",
      "9,3}(t, R, Z)⎥\n",
      "             ⎦\n",
      "\n",
      "⎡∂                              \\gamma_{10,3}⋅\\rho_{10,3}(t, R, Z)   \\gamma_{1\n",
      "⎢──(\\rho_{10,3}(t, R, Z))  =  - ────────────────────────────────── - ─────────\n",
      "⎣∂t                                             2                             \n",
      "\n",
      "0,4}⋅\\rho_{10,3}(t, R, Z)   \\gamma_{10,5}⋅\\rho_{10,3}(t, R, Z)   \\gamma_{3,1}⋅\n",
      "───────────────────────── - ────────────────────────────────── - ─────────────\n",
      "       2                                    2                                 \n",
      "\n",
      "\\rho_{10,3}(t, R, Z)   ⅈ⋅e⋅r_{-1;10,4}⋅E²₀(t, R, Z)⋅\\rho_{4,3}(t, R, Z)   ⅈ⋅e⋅\n",
      "──────────────────── - ──────────────────────────────────────────────── - ────\n",
      "   2                                         2⋅h̅                             \n",
      "\n",
      "r_{-1;10,5}⋅E²₀(t, R, Z)⋅\\rho_{5,3}(t, R, Z)   ⅈ⋅e⋅r_{-1;11,3}⋅E²₀(t, R, Z)⋅\\r\n",
      "──────────────────────────────────────────── + ───────────────────────────────\n",
      "                  2⋅h̅                                                2⋅h̅    \n",
      "\n",
      "ho_{10,11}(t, R, Z)   ⅈ⋅e⋅r_{-1;12,3}⋅E²₀(t, R, Z)⋅\\rho_{10,12}(t, R, Z)      \n",
      "─────────────────── + ────────────────────────────────────────────────── - ⅈ⋅ω\n",
      "                                             2⋅h̅                             \n",
      "\n",
      "                                                                              \n",
      "₁₀⋅\\rho_{10,3}(t, R, Z) + ⅈ⋅ω₃⋅\\rho_{10,3}(t, R, Z) + ⅈ⋅varpi₂⋅\\rho_{10,3}(t, \n",
      "                                                                              \n",
      "\n",
      "     ⎤\n",
      "R, Z)⎥\n",
      "     ⎦\n",
      "\n",
      "⎡∂                              \\gamma_{11,3}⋅\\rho_{11,3}(t, R, Z)   \\gamma_{1\n",
      "⎢──(\\rho_{11,3}(t, R, Z))  =  - ────────────────────────────────── - ─────────\n",
      "⎣∂t                                             2                             \n",
      "\n",
      "1,4}⋅\\rho_{11,3}(t, R, Z)   \\gamma_{3,1}⋅\\rho_{11,3}(t, R, Z)   ⅈ⋅e⋅r_{-1;10,3\n",
      "───────────────────────── - ───────────────────────────────── + ──────────────\n",
      "       2                                    2                                 \n",
      "\n",
      "}⋅E²₀(t, R, Z)⋅\\rho_{11,10}(t, R, Z)   ⅈ⋅e⋅r_{-1;11,4}⋅E²₀(t, R, Z)⋅\\rho_{4,3}\n",
      "──────────────────────────────────── - ───────────────────────────────────────\n",
      "         2⋅h̅                                                2⋅h̅             \n",
      "\n",
      "(t, R, Z)   ⅈ⋅e⋅r_{-1;12,3}⋅E²₀(t, R, Z)⋅\\rho_{11,12}(t, R, Z)                \n",
      "───────── + ────────────────────────────────────────────────── - ⅈ⋅ω₁₁⋅\\rho_{1\n",
      "                                   2⋅h̅                                       \n",
      "\n",
      "                                                                         ⎤\n",
      "1,3}(t, R, Z) + ⅈ⋅ω₃⋅\\rho_{11,3}(t, R, Z) + ⅈ⋅varpi₂⋅\\rho_{11,3}(t, R, Z)⎥\n",
      "                                                                         ⎦\n",
      "\n",
      "⎡∂                              \\gamma_{12,3}⋅\\rho_{12,3}(t, R, Z)   \\gamma_{3\n",
      "⎢──(\\rho_{12,3}(t, R, Z))  =  - ────────────────────────────────── - ─────────\n",
      "⎣∂t                                             2                             \n",
      "\n",
      ",1}⋅\\rho_{12,3}(t, R, Z)   ⅈ⋅e⋅r_{-1;10,3}⋅E²₀(t, R, Z)⋅\\rho_{12,10}(t, R, Z) \n",
      "──────────────────────── + ────────────────────────────────────────────────── \n",
      "       2                                          2⋅h̅                        \n",
      "\n",
      "  ⅈ⋅e⋅r_{-1;11,3}⋅E²₀(t, R, Z)⋅\\rho_{12,11}(t, R, Z)                          \n",
      "+ ────────────────────────────────────────────────── - ⅈ⋅ω₁₂⋅\\rho_{12,3}(t, R,\n",
      "                         2⋅h̅                                                 \n",
      "\n",
      "                                                               ⎤\n",
      " Z) + ⅈ⋅ω₃⋅\\rho_{12,3}(t, R, Z) + ⅈ⋅varpi₂⋅\\rho_{12,3}(t, R, Z)⎥\n",
      "                                                               ⎦\n",
      "\n",
      "⎡                                                                             \n",
      "⎢∂                             \\gamma_{4,1}⋅\\rho_{5,4}(t, R, Z)   \\gamma_{4,2}\n",
      "⎢──(\\rho_{5,4}(t, R, Z))  =  - ──────────────────────────────── - ────────────\n",
      "⎣∂t                                           2                               \n",
      "\n",
      "                                                                              \n",
      "⋅\\rho_{5,4}(t, R, Z)   \\gamma_{5,1}⋅\\rho_{5,4}(t, R, Z)   \\gamma_{5,2}⋅\\rho_{5\n",
      "──────────────────── - ──────────────────────────────── - ────────────────────\n",
      "   2                                  2                                  2    \n",
      "\n",
      "                                                                              \n",
      ",4}(t, R, Z)   ⅈ⋅e⋅r_{+1;5,1}⋅E¹₀(t, R, Z)⋅\\rho_{1,4}(t, R, Z)   ⅈ⋅e⋅r_{+1;5,2\n",
      "──────────── - ─────────────────────────────────────────────── - ─────────────\n",
      "                                     2⋅h̅                                     \n",
      "\n",
      "                                                                              \n",
      "}⋅E¹₀(t, R, Z)⋅\\rho_{2,4}(t, R, Z)   ⅈ⋅e⋅r_{-1;10,4}⋅E²₀(t, R, Z)⋅\\rho_{5,10}(\n",
      "────────────────────────────────── + ─────────────────────────────────────────\n",
      "         2⋅h̅                                               2⋅h̅              \n",
      "\n",
      "                                                ____________                  \n",
      "t, R, Z)   ⅈ⋅e⋅r_{-1;10,5}⋅\\rho_{10,4}(t, R, Z)⋅E²₀(t, R, Z)   ⅈ⋅e⋅r_{-1;11,4}\n",
      "──────── - ───────────────────────────────────────────────── + ───────────────\n",
      "                                  2⋅h̅                                        \n",
      "\n",
      "                                                                        ______\n",
      "⋅E²₀(t, R, Z)⋅\\rho_{5,11}(t, R, Z)   ⅈ⋅e⋅r_{-1;8,5}⋅\\rho_{8,4}(t, R, Z)⋅E²₀(t,\n",
      "────────────────────────────────── - ─────────────────────────────────────────\n",
      "        2⋅h̅                                               2⋅h̅               \n",
      "\n",
      "______                                                                        \n",
      " R, Z)   ⅈ⋅e⋅r_{-1;9,4}⋅E²₀(t, R, Z)⋅\\rho_{5,9}(t, R, Z)   ⅈ⋅e⋅r_{-1;9,5}⋅\\rho\n",
      "────── + ─────────────────────────────────────────────── - ───────────────────\n",
      "                               2⋅h̅                                           \n",
      "\n",
      "                ____________                                                  \n",
      "_{9,4}(t, R, Z)⋅E²₀(t, R, Z)                                                  \n",
      "──────────────────────────── + ⅈ⋅ω₄⋅\\rho_{5,4}(t, R, Z) - ⅈ⋅ω₅⋅\\rho_{5,4}(t, R\n",
      "   2⋅h̅                                                                       \n",
      "\n",
      "    ⎤\n",
      "    ⎥\n",
      ", Z)⎥\n",
      "    ⎦\n",
      "\n",
      "⎡                                                                             \n",
      "⎢∂                             \\gamma_{4,1}⋅\\rho_{6,4}(t, R, Z)   \\gamma_{4,2}\n",
      "⎢──(\\rho_{6,4}(t, R, Z))  =  - ──────────────────────────────── - ────────────\n",
      "⎣∂t                                           2                               \n",
      "\n",
      "                                                                              \n",
      "⋅\\rho_{6,4}(t, R, Z)   \\gamma_{6,2}⋅\\rho_{6,4}(t, R, Z)   ⅈ⋅e⋅r_{+1;6,2}⋅E¹₀(t\n",
      "──────────────────── - ──────────────────────────────── - ────────────────────\n",
      "   2                                  2                                       \n",
      "\n",
      "                                                                              \n",
      ", R, Z)⋅\\rho_{2,4}(t, R, Z)   ⅈ⋅e⋅r_{-1;10,4}⋅E²₀(t, R, Z)⋅\\rho_{6,10}(t, R, Z\n",
      "─────────────────────────── + ────────────────────────────────────────────────\n",
      "  2⋅h̅                                               2⋅h̅                     \n",
      "\n",
      "                                                                              \n",
      ")   ⅈ⋅e⋅r_{-1;11,4}⋅E²₀(t, R, Z)⋅\\rho_{6,11}(t, R, Z)   ⅈ⋅e⋅r_{-1;7,6}⋅\\rho_{7\n",
      "─ + ───────────────────────────────────────────────── - ──────────────────────\n",
      "                           2⋅h̅                                               \n",
      "\n",
      "             ____________                                      ____________   \n",
      ",4}(t, R, Z)⋅E²₀(t, R, Z)   ⅈ⋅e⋅r_{-1;8,6}⋅\\rho_{8,4}(t, R, Z)⋅E²₀(t, R, Z)   \n",
      "───────────────────────── - ─────────────────────────────────────────────── + \n",
      "2⋅h̅                                              2⋅h̅                        \n",
      "\n",
      "                                                                              \n",
      "ⅈ⋅e⋅r_{-1;9,4}⋅E²₀(t, R, Z)⋅\\rho_{6,9}(t, R, Z)   ⅈ⋅e⋅r_{-1;9,6}⋅\\rho_{9,4}(t,\n",
      "─────────────────────────────────────────────── - ────────────────────────────\n",
      "                      2⋅h̅                                              2⋅h̅  \n",
      "\n",
      "       ____________                                                      ⎤\n",
      " R, Z)⋅E²₀(t, R, Z)                                                      ⎥\n",
      "─────────────────── + ⅈ⋅ω₄⋅\\rho_{6,4}(t, R, Z) - ⅈ⋅ω₆⋅\\rho_{6,4}(t, R, Z)⎥\n",
      "                                                                         ⎦\n",
      "\n",
      "⎡∂                             \\gamma_{4,1}⋅\\rho_{7,4}(t, R, Z)   \\gamma_{4,2}\n",
      "⎢──(\\rho_{7,4}(t, R, Z))  =  - ──────────────────────────────── - ────────────\n",
      "⎣∂t                                           2                               \n",
      "\n",
      "⋅\\rho_{7,4}(t, R, Z)   \\gamma_{7,6}⋅\\rho_{7,4}(t, R, Z)   ⅈ⋅e⋅r_{-1;10,4}⋅E²₀(\n",
      "──────────────────── - ──────────────────────────────── + ────────────────────\n",
      "   2                                  2                                       \n",
      "\n",
      "t, R, Z)⋅\\rho_{7,10}(t, R, Z)   ⅈ⋅e⋅r_{-1;11,4}⋅E²₀(t, R, Z)⋅\\rho_{7,11}(t, R,\n",
      "───────────────────────────── + ──────────────────────────────────────────────\n",
      "   2⋅h̅                                                2⋅h̅                   \n",
      "\n",
      " Z)   ⅈ⋅e⋅r_{-1;7,6}⋅E²₀(t, R, Z)⋅\\rho_{6,4}(t, R, Z)   ⅈ⋅e⋅r_{-1;9,4}⋅E²₀(t, \n",
      "─── - ─────────────────────────────────────────────── + ──────────────────────\n",
      "                            2⋅h̅                                              \n",
      "\n",
      "R, Z)⋅\\rho_{7,9}(t, R, Z)                                                     \n",
      "───────────────────────── + ⅈ⋅ω₄⋅\\rho_{7,4}(t, R, Z) - ⅈ⋅ω₇⋅\\rho_{7,4}(t, R, Z\n",
      "2⋅h̅                                                                          \n",
      "\n",
      "                                ⎤\n",
      ") + ⅈ⋅varpi₂⋅\\rho_{7,4}(t, R, Z)⎥\n",
      "                                ⎦\n",
      "\n",
      "⎡∂                             \\gamma_{4,1}⋅\\rho_{8,4}(t, R, Z)   \\gamma_{4,2}\n",
      "⎢──(\\rho_{8,4}(t, R, Z))  =  - ──────────────────────────────── - ────────────\n",
      "⎣∂t                                           2                               \n",
      "\n",
      "⋅\\rho_{8,4}(t, R, Z)   \\gamma_{8,5}⋅\\rho_{8,4}(t, R, Z)   \\gamma_{8,6}⋅\\rho_{8\n",
      "──────────────────── - ──────────────────────────────── - ────────────────────\n",
      "   2                                  2                                  2    \n",
      "\n",
      ",4}(t, R, Z)   ⅈ⋅e⋅r_{-1;10,4}⋅E²₀(t, R, Z)⋅\\rho_{8,10}(t, R, Z)   ⅈ⋅e⋅r_{-1;1\n",
      "──────────── + ───────────────────────────────────────────────── + ───────────\n",
      "                                      2⋅h̅                                    \n",
      "\n",
      "1,4}⋅E²₀(t, R, Z)⋅\\rho_{8,11}(t, R, Z)   ⅈ⋅e⋅r_{-1;8,5}⋅E²₀(t, R, Z)⋅\\rho_{5,4\n",
      "────────────────────────────────────── - ─────────────────────────────────────\n",
      "            2⋅h̅                                               2⋅h̅           \n",
      "\n",
      "}(t, R, Z)   ⅈ⋅e⋅r_{-1;8,6}⋅E²₀(t, R, Z)⋅\\rho_{6,4}(t, R, Z)   ⅈ⋅e⋅r_{-1;9,4}⋅\n",
      "────────── - ─────────────────────────────────────────────── + ───────────────\n",
      "                                   2⋅h̅                                       \n",
      "\n",
      "E²₀(t, R, Z)⋅\\rho_{8,9}(t, R, Z)                                              \n",
      "──────────────────────────────── + ⅈ⋅ω₄⋅\\rho_{8,4}(t, R, Z) - ⅈ⋅ω₈⋅\\rho_{8,4}(\n",
      "       2⋅h̅                                                                   \n",
      "\n",
      "                                       ⎤\n",
      "t, R, Z) + ⅈ⋅varpi₂⋅\\rho_{8,4}(t, R, Z)⎥\n",
      "                                       ⎦\n",
      "\n",
      "⎡∂                             \\gamma_{4,1}⋅\\rho_{9,4}(t, R, Z)   \\gamma_{4,2}\n",
      "⎢──(\\rho_{9,4}(t, R, Z))  =  - ──────────────────────────────── - ────────────\n",
      "⎣∂t                                           2                               \n",
      "\n",
      "⋅\\rho_{9,4}(t, R, Z)   \\gamma_{9,4}⋅\\rho_{9,4}(t, R, Z)   \\gamma_{9,5}⋅\\rho_{9\n",
      "──────────────────── - ──────────────────────────────── - ────────────────────\n",
      "   2                                  2                                  2    \n",
      "\n",
      ",4}(t, R, Z)   \\gamma_{9,6}⋅\\rho_{9,4}(t, R, Z)   ⅈ⋅e⋅r_{-1;10,4}⋅E²₀(t, R, Z)\n",
      "──────────── - ──────────────────────────────── + ────────────────────────────\n",
      "                              2                                          2⋅h̅ \n",
      "\n",
      "⋅\\rho_{9,10}(t, R, Z)   ⅈ⋅e⋅r_{-1;11,4}⋅E²₀(t, R, Z)⋅\\rho_{9,11}(t, R, Z)   ⅈ⋅\n",
      "───────────────────── + ───────────────────────────────────────────────── - ──\n",
      "                                               2⋅h̅                           \n",
      "\n",
      "e⋅r_{-1;9,5}⋅E²₀(t, R, Z)⋅\\rho_{5,4}(t, R, Z)   ⅈ⋅e⋅r_{-1;9,6}⋅E²₀(t, R, Z)⋅\\r\n",
      "───────────────────────────────────────────── - ──────────────────────────────\n",
      "                    2⋅h̅                                              2⋅h̅    \n",
      "\n",
      "ho_{6,4}(t, R, Z)                                                             \n",
      "───────────────── + ⅈ⋅ω₄⋅\\rho_{9,4}(t, R, Z) - ⅈ⋅ω₉⋅\\rho_{9,4}(t, R, Z) + ⅈ⋅va\n",
      "                                                                              \n",
      "\n",
      "                        ⎤\n",
      "rpi₂⋅\\rho_{9,4}(t, R, Z)⎥\n",
      "                        ⎦\n",
      "\n",
      "⎡∂                              \\gamma_{10,3}⋅\\rho_{10,4}(t, R, Z)   \\gamma_{1\n",
      "⎢──(\\rho_{10,4}(t, R, Z))  =  - ────────────────────────────────── - ─────────\n",
      "⎣∂t                                             2                             \n",
      "\n",
      "0,4}⋅\\rho_{10,4}(t, R, Z)   \\gamma_{10,5}⋅\\rho_{10,4}(t, R, Z)   \\gamma_{4,1}⋅\n",
      "───────────────────────── - ────────────────────────────────── - ─────────────\n",
      "       2                                    2                                 \n",
      "\n",
      "\\rho_{10,4}(t, R, Z)   \\gamma_{4,2}⋅\\rho_{10,4}(t, R, Z)   ⅈ⋅e⋅r_{-1;10,3}⋅E²₀\n",
      "──────────────────── - ───────────────────────────────── - ───────────────────\n",
      "   2                                   2                                      \n",
      "\n",
      "(t, R, Z)⋅\\rho_{3,4}(t, R, Z)   ⅈ⋅e⋅r_{-1;10,5}⋅E²₀(t, R, Z)⋅\\rho_{5,4}(t, R, \n",
      "───────────────────────────── - ──────────────────────────────────────────────\n",
      "   2⋅h̅                                               2⋅h̅                    \n",
      "\n",
      "Z)   ⅈ⋅e⋅r_{-1;11,4}⋅E²₀(t, R, Z)⋅\\rho_{10,11}(t, R, Z)   ⅈ⋅e⋅r_{-1;9,4}⋅E²₀(t\n",
      "── + ────────────────────────────────────────────────── + ────────────────────\n",
      "                            2⋅h̅                                              \n",
      "\n",
      ", R, Z)⋅\\rho_{10,9}(t, R, Z)                                                  \n",
      "──────────────────────────── - ⅈ⋅ω₁₀⋅\\rho_{10,4}(t, R, Z) + ⅈ⋅ω₄⋅\\rho_{10,4}(t\n",
      "  2⋅h̅                                                                        \n",
      "\n",
      "                                       ⎤\n",
      ", R, Z) + ⅈ⋅varpi₂⋅\\rho_{10,4}(t, R, Z)⎥\n",
      "                                       ⎦\n",
      "\n",
      "⎡∂                              \\gamma_{11,3}⋅\\rho_{11,4}(t, R, Z)   \\gamma_{1\n",
      "⎢──(\\rho_{11,4}(t, R, Z))  =  - ────────────────────────────────── - ─────────\n",
      "⎣∂t                                             2                             \n",
      "\n",
      "1,4}⋅\\rho_{11,4}(t, R, Z)   \\gamma_{4,1}⋅\\rho_{11,4}(t, R, Z)   \\gamma_{4,2}⋅\\\n",
      "───────────────────────── - ───────────────────────────────── - ──────────────\n",
      "       2                                    2                                 \n",
      "\n",
      "rho_{11,4}(t, R, Z)   ⅈ⋅e⋅r_{-1;10,4}⋅E²₀(t, R, Z)⋅\\rho_{11,10}(t, R, Z)   ⅈ⋅e\n",
      "─────────────────── + ────────────────────────────────────────────────── - ───\n",
      "  2                                          2⋅h̅                             \n",
      "\n",
      "⋅r_{-1;11,3}⋅E²₀(t, R, Z)⋅\\rho_{3,4}(t, R, Z)   ⅈ⋅e⋅r_{-1;9,4}⋅E²₀(t, R, Z)⋅\\r\n",
      "───────────────────────────────────────────── + ──────────────────────────────\n",
      "                   2⋅h̅                                               2⋅h̅    \n",
      "\n",
      "ho_{11,9}(t, R, Z)                                                            \n",
      "────────────────── - ⅈ⋅ω₁₁⋅\\rho_{11,4}(t, R, Z) + ⅈ⋅ω₄⋅\\rho_{11,4}(t, R, Z) + \n",
      "                                                                              \n",
      "\n",
      "                             ⎤\n",
      "ⅈ⋅varpi₂⋅\\rho_{11,4}(t, R, Z)⎥\n",
      "                             ⎦\n",
      "\n",
      "⎡∂                              \\gamma_{12,3}⋅\\rho_{12,4}(t, R, Z)   \\gamma_{4\n",
      "⎢──(\\rho_{12,4}(t, R, Z))  =  - ────────────────────────────────── - ─────────\n",
      "⎣∂t                                             2                             \n",
      "\n",
      ",1}⋅\\rho_{12,4}(t, R, Z)   \\gamma_{4,2}⋅\\rho_{12,4}(t, R, Z)   ⅈ⋅e⋅r_{-1;10,4}\n",
      "──────────────────────── - ───────────────────────────────── + ───────────────\n",
      "       2                                   2                                  \n",
      "\n",
      "⋅E²₀(t, R, Z)⋅\\rho_{12,10}(t, R, Z)   ⅈ⋅e⋅r_{-1;11,4}⋅E²₀(t, R, Z)⋅\\rho_{12,11\n",
      "─────────────────────────────────── + ────────────────────────────────────────\n",
      "        2⋅h̅                                                 2⋅h̅             \n",
      "\n",
      "}(t, R, Z)   ⅈ⋅e⋅r_{-1;12,3}⋅E²₀(t, R, Z)⋅\\rho_{3,4}(t, R, Z)   ⅈ⋅e⋅r_{-1;9,4}\n",
      "────────── - ──────────────────────────────────────────────── + ──────────────\n",
      "                                   2⋅h̅                                       \n",
      "\n",
      "⋅E²₀(t, R, Z)⋅\\rho_{12,9}(t, R, Z)                                            \n",
      "────────────────────────────────── - ⅈ⋅ω₁₂⋅\\rho_{12,4}(t, R, Z) + ⅈ⋅ω₄⋅\\rho_{1\n",
      "        2⋅h̅                                                                  \n",
      "\n",
      "                                             ⎤\n",
      "2,4}(t, R, Z) + ⅈ⋅varpi₂⋅\\rho_{12,4}(t, R, Z)⎥\n",
      "                                             ⎦\n",
      "\n",
      "⎡                                                                             \n",
      "⎢∂                             \\gamma_{5,1}⋅\\rho_{6,5}(t, R, Z)   \\gamma_{5,2}\n",
      "⎢──(\\rho_{6,5}(t, R, Z))  =  - ──────────────────────────────── - ────────────\n",
      "⎣∂t                                           2                               \n",
      "\n",
      "                                                                              \n",
      "⋅\\rho_{6,5}(t, R, Z)   \\gamma_{6,2}⋅\\rho_{6,5}(t, R, Z)   ⅈ⋅e⋅r_{+1;6,2}⋅E¹₀(t\n",
      "──────────────────── - ──────────────────────────────── - ────────────────────\n",
      "   2                                  2                                       \n",
      "\n",
      "                                                                              \n",
      ", R, Z)⋅\\rho_{2,5}(t, R, Z)   ⅈ⋅e⋅r_{-1;10,5}⋅E²₀(t, R, Z)⋅\\rho_{6,10}(t, R, Z\n",
      "─────────────────────────── + ────────────────────────────────────────────────\n",
      "  2⋅h̅                                               2⋅h̅                     \n",
      "\n",
      "                                       ____________                           \n",
      ")   ⅈ⋅e⋅r_{-1;7,6}⋅\\rho_{7,5}(t, R, Z)⋅E²₀(t, R, Z)   ⅈ⋅e⋅r_{-1;8,5}⋅E²₀(t, R,\n",
      "─ - ─────────────────────────────────────────────── + ────────────────────────\n",
      "                          2⋅h̅                                              2⋅\n",
      "\n",
      "                                                             ____________     \n",
      " Z)⋅\\rho_{6,8}(t, R, Z)   ⅈ⋅e⋅r_{-1;8,6}⋅\\rho_{8,5}(t, R, Z)⋅E²₀(t, R, Z)   ⅈ⋅\n",
      "─────────────────────── - ─────────────────────────────────────────────── + ──\n",
      "h̅                                              2⋅h̅                          \n",
      "\n",
      "                                                                              \n",
      "e⋅r_{-1;9,5}⋅E²₀(t, R, Z)⋅\\rho_{6,9}(t, R, Z)   ⅈ⋅e⋅r_{-1;9,6}⋅\\rho_{9,5}(t, R\n",
      "───────────────────────────────────────────── - ──────────────────────────────\n",
      "                    2⋅h̅                                              2⋅h̅    \n",
      "\n",
      "     ____________                                                      ⎤\n",
      ", Z)⋅E²₀(t, R, Z)                                                      ⎥\n",
      "───────────────── + ⅈ⋅ω₅⋅\\rho_{6,5}(t, R, Z) - ⅈ⋅ω₆⋅\\rho_{6,5}(t, R, Z)⎥\n",
      "                                                                       ⎦\n",
      "\n",
      "⎡∂                             \\gamma_{5,1}⋅\\rho_{7,5}(t, R, Z)   \\gamma_{5,2}\n",
      "⎢──(\\rho_{7,5}(t, R, Z))  =  - ──────────────────────────────── - ────────────\n",
      "⎣∂t                                           2                               \n",
      "\n",
      "⋅\\rho_{7,5}(t, R, Z)   \\gamma_{7,6}⋅\\rho_{7,5}(t, R, Z)   ⅈ⋅e⋅r_{-1;10,5}⋅E²₀(\n",
      "──────────────────── - ──────────────────────────────── + ────────────────────\n",
      "   2                                  2                                       \n",
      "\n",
      "t, R, Z)⋅\\rho_{7,10}(t, R, Z)   ⅈ⋅e⋅r_{-1;7,6}⋅E²₀(t, R, Z)⋅\\rho_{6,5}(t, R, Z\n",
      "───────────────────────────── - ──────────────────────────────────────────────\n",
      "   2⋅h̅                                               2⋅h̅                    \n",
      "\n",
      ")   ⅈ⋅e⋅r_{-1;8,5}⋅E²₀(t, R, Z)⋅\\rho_{7,8}(t, R, Z)   ⅈ⋅e⋅r_{-1;9,5}⋅E²₀(t, R,\n",
      "─ + ─────────────────────────────────────────────── + ────────────────────────\n",
      "                          2⋅h̅                                              2⋅\n",
      "\n",
      " Z)⋅\\rho_{7,9}(t, R, Z)                                                       \n",
      "─────────────────────── + ⅈ⋅ω₅⋅\\rho_{7,5}(t, R, Z) - ⅈ⋅ω₇⋅\\rho_{7,5}(t, R, Z) \n",
      "h̅                                                                            \n",
      "\n",
      "                              ⎤\n",
      "+ ⅈ⋅varpi₂⋅\\rho_{7,5}(t, R, Z)⎥\n",
      "                              ⎦\n",
      "\n",
      "⎡∂                             \\gamma_{5,1}⋅\\rho_{8,5}(t, R, Z)   \\gamma_{5,2}\n",
      "⎢──(\\rho_{8,5}(t, R, Z))  =  - ──────────────────────────────── - ────────────\n",
      "⎣∂t                                           2                               \n",
      "\n",
      "⋅\\rho_{8,5}(t, R, Z)   \\gamma_{8,5}⋅\\rho_{8,5}(t, R, Z)   \\gamma_{8,6}⋅\\rho_{8\n",
      "──────────────────── - ──────────────────────────────── - ────────────────────\n",
      "   2                                  2                                  2    \n",
      "\n",
      ",5}(t, R, Z)   ⅈ⋅e⋅r_{-1;10,5}⋅E²₀(t, R, Z)⋅\\rho_{8,10}(t, R, Z)   ⅈ⋅e⋅r_{-1;8\n",
      "──────────── + ───────────────────────────────────────────────── - ───────────\n",
      "                                      2⋅h̅                                    \n",
      "\n",
      ",6}⋅E²₀(t, R, Z)⋅\\rho_{6,5}(t, R, Z)   ⅈ⋅e⋅r_{-1;9,5}⋅E²₀(t, R, Z)⋅\\rho_{8,9}(\n",
      "──────────────────────────────────── + ───────────────────────────────────────\n",
      "           2⋅h̅                                              2⋅h̅             \n",
      "\n",
      "t, R, Z)                                                                      \n",
      "──────── + ⅈ⋅ω₅⋅\\rho_{8,5}(t, R, Z) - ⅈ⋅ω₈⋅\\rho_{8,5}(t, R, Z) + ⅈ⋅varpi₂⋅\\rho\n",
      "                                                                              \n",
      "\n",
      "               ⎤\n",
      "_{8,5}(t, R, Z)⎥\n",
      "               ⎦\n",
      "\n",
      "⎡∂                             \\gamma_{5,1}⋅\\rho_{9,5}(t, R, Z)   \\gamma_{5,2}\n",
      "⎢──(\\rho_{9,5}(t, R, Z))  =  - ──────────────────────────────── - ────────────\n",
      "⎣∂t                                           2                               \n",
      "\n",
      "⋅\\rho_{9,5}(t, R, Z)   \\gamma_{9,4}⋅\\rho_{9,5}(t, R, Z)   \\gamma_{9,5}⋅\\rho_{9\n",
      "──────────────────── - ──────────────────────────────── - ────────────────────\n",
      "   2                                  2                                  2    \n",
      "\n",
      ",5}(t, R, Z)   \\gamma_{9,6}⋅\\rho_{9,5}(t, R, Z)   ⅈ⋅e⋅r_{-1;10,5}⋅E²₀(t, R, Z)\n",
      "──────────── - ──────────────────────────────── + ────────────────────────────\n",
      "                              2                                          2⋅h̅ \n",
      "\n",
      "⋅\\rho_{9,10}(t, R, Z)   ⅈ⋅e⋅r_{-1;8,5}⋅E²₀(t, R, Z)⋅\\rho_{9,8}(t, R, Z)   ⅈ⋅e⋅\n",
      "───────────────────── + ─────────────────────────────────────────────── - ────\n",
      "                                              2⋅h̅                            \n",
      "\n",
      "r_{-1;9,4}⋅E²₀(t, R, Z)⋅\\rho_{4,5}(t, R, Z)   ⅈ⋅e⋅r_{-1;9,6}⋅E²₀(t, R, Z)⋅\\rho\n",
      "─────────────────────────────────────────── - ────────────────────────────────\n",
      "                  2⋅h̅                                              2⋅h̅      \n",
      "\n",
      "_{6,5}(t, R, Z)                                                               \n",
      "─────────────── + ⅈ⋅ω₅⋅\\rho_{9,5}(t, R, Z) - ⅈ⋅ω₉⋅\\rho_{9,5}(t, R, Z) + ⅈ⋅varp\n",
      "                                                                              \n",
      "\n",
      "                      ⎤\n",
      "i₂⋅\\rho_{9,5}(t, R, Z)⎥\n",
      "                      ⎦\n",
      "\n",
      "⎡∂                              \\gamma_{10,3}⋅\\rho_{10,5}(t, R, Z)   \\gamma_{1\n",
      "⎢──(\\rho_{10,5}(t, R, Z))  =  - ────────────────────────────────── - ─────────\n",
      "⎣∂t                                             2                             \n",
      "\n",
      "0,4}⋅\\rho_{10,5}(t, R, Z)   \\gamma_{10,5}⋅\\rho_{10,5}(t, R, Z)   \\gamma_{5,1}⋅\n",
      "───────────────────────── - ────────────────────────────────── - ─────────────\n",
      "       2                                    2                                 \n",
      "\n",
      "\\rho_{10,5}(t, R, Z)   \\gamma_{5,2}⋅\\rho_{10,5}(t, R, Z)   ⅈ⋅e⋅r_{-1;10,3}⋅E²₀\n",
      "──────────────────── - ───────────────────────────────── - ───────────────────\n",
      "   2                                   2                                      \n",
      "\n",
      "(t, R, Z)⋅\\rho_{3,5}(t, R, Z)   ⅈ⋅e⋅r_{-1;10,4}⋅E²₀(t, R, Z)⋅\\rho_{4,5}(t, R, \n",
      "───────────────────────────── - ──────────────────────────────────────────────\n",
      "   2⋅h̅                                               2⋅h̅                    \n",
      "\n",
      "Z)   ⅈ⋅e⋅r_{-1;8,5}⋅E²₀(t, R, Z)⋅\\rho_{10,8}(t, R, Z)   ⅈ⋅e⋅r_{-1;9,5}⋅E²₀(t, \n",
      "── + ──────────────────────────────────────────────── + ──────────────────────\n",
      "                           2⋅h̅                                               \n",
      "\n",
      "R, Z)⋅\\rho_{10,9}(t, R, Z)                                                    \n",
      "────────────────────────── - ⅈ⋅ω₁₀⋅\\rho_{10,5}(t, R, Z) + ⅈ⋅ω₅⋅\\rho_{10,5}(t, \n",
      "2⋅h̅                                                                          \n",
      "\n",
      "                                     ⎤\n",
      "R, Z) + ⅈ⋅varpi₂⋅\\rho_{10,5}(t, R, Z)⎥\n",
      "                                     ⎦\n",
      "\n",
      "⎡∂                              \\gamma_{11,3}⋅\\rho_{11,5}(t, R, Z)   \\gamma_{1\n",
      "⎢──(\\rho_{11,5}(t, R, Z))  =  - ────────────────────────────────── - ─────────\n",
      "⎣∂t                                             2                             \n",
      "\n",
      "1,4}⋅\\rho_{11,5}(t, R, Z)   \\gamma_{5,1}⋅\\rho_{11,5}(t, R, Z)   \\gamma_{5,2}⋅\\\n",
      "───────────────────────── - ───────────────────────────────── - ──────────────\n",
      "       2                                    2                                 \n",
      "\n",
      "rho_{11,5}(t, R, Z)   ⅈ⋅e⋅r_{-1;10,5}⋅E²₀(t, R, Z)⋅\\rho_{11,10}(t, R, Z)   ⅈ⋅e\n",
      "─────────────────── + ────────────────────────────────────────────────── - ───\n",
      "  2                                          2⋅h̅                             \n",
      "\n",
      "⋅r_{-1;11,3}⋅E²₀(t, R, Z)⋅\\rho_{3,5}(t, R, Z)   ⅈ⋅e⋅r_{-1;11,4}⋅E²₀(t, R, Z)⋅\\\n",
      "───────────────────────────────────────────── - ──────────────────────────────\n",
      "                   2⋅h̅                                               2⋅h̅    \n",
      "\n",
      "rho_{4,5}(t, R, Z)   ⅈ⋅e⋅r_{-1;8,5}⋅E²₀(t, R, Z)⋅\\rho_{11,8}(t, R, Z)   ⅈ⋅e⋅r_\n",
      "────────────────── + ──────────────────────────────────────────────── + ──────\n",
      "                                           2⋅h̅                               \n",
      "\n",
      "{-1;9,5}⋅E²₀(t, R, Z)⋅\\rho_{11,9}(t, R, Z)                                    \n",
      "────────────────────────────────────────── - ⅈ⋅ω₁₁⋅\\rho_{11,5}(t, R, Z) + ⅈ⋅ω₅\n",
      "                2⋅h̅                                                          \n",
      "\n",
      "                                                     ⎤\n",
      "⋅\\rho_{11,5}(t, R, Z) + ⅈ⋅varpi₂⋅\\rho_{11,5}(t, R, Z)⎥\n",
      "                                                     ⎦\n",
      "\n",
      "⎡∂                              \\gamma_{12,3}⋅\\rho_{12,5}(t, R, Z)   \\gamma_{5\n",
      "⎢──(\\rho_{12,5}(t, R, Z))  =  - ────────────────────────────────── - ─────────\n",
      "⎣∂t                                             2                             \n",
      "\n",
      ",1}⋅\\rho_{12,5}(t, R, Z)   \\gamma_{5,2}⋅\\rho_{12,5}(t, R, Z)   ⅈ⋅e⋅r_{-1;10,5}\n",
      "──────────────────────── - ───────────────────────────────── + ───────────────\n",
      "       2                                   2                                  \n",
      "\n",
      "⋅E²₀(t, R, Z)⋅\\rho_{12,10}(t, R, Z)   ⅈ⋅e⋅r_{-1;12,3}⋅E²₀(t, R, Z)⋅\\rho_{3,5}(\n",
      "─────────────────────────────────── - ────────────────────────────────────────\n",
      "        2⋅h̅                                                2⋅h̅              \n",
      "\n",
      "t, R, Z)   ⅈ⋅e⋅r_{-1;8,5}⋅E²₀(t, R, Z)⋅\\rho_{12,8}(t, R, Z)   ⅈ⋅e⋅r_{-1;9,5}⋅E\n",
      "──────── + ──────────────────────────────────────────────── + ────────────────\n",
      "                                 2⋅h̅                                         \n",
      "\n",
      "²₀(t, R, Z)⋅\\rho_{12,9}(t, R, Z)                                              \n",
      "──────────────────────────────── - ⅈ⋅ω₁₂⋅\\rho_{12,5}(t, R, Z) + ⅈ⋅ω₅⋅\\rho_{12,\n",
      "      2⋅h̅                                                                    \n",
      "\n",
      "                                           ⎤\n",
      "5}(t, R, Z) + ⅈ⋅varpi₂⋅\\rho_{12,5}(t, R, Z)⎥\n",
      "                                           ⎦\n",
      "\n",
      "⎡∂                             \\gamma_{6,2}⋅\\rho_{7,6}(t, R, Z)   \\gamma_{7,6}\n",
      "⎢──(\\rho_{7,6}(t, R, Z))  =  - ──────────────────────────────── - ────────────\n",
      "⎣∂t                                           2                               \n",
      "\n",
      "⋅\\rho_{7,6}(t, R, Z)   ⅈ⋅e⋅r_{-1;8,6}⋅E²₀(t, R, Z)⋅\\rho_{7,8}(t, R, Z)   ⅈ⋅e⋅r\n",
      "──────────────────── + ─────────────────────────────────────────────── + ─────\n",
      "   2                                         2⋅h̅                             \n",
      "\n",
      "_{-1;9,6}⋅E²₀(t, R, Z)⋅\\rho_{7,9}(t, R, Z)                                    \n",
      "────────────────────────────────────────── + ⅈ⋅ω₆⋅\\rho_{7,6}(t, R, Z) - ⅈ⋅ω₇⋅\\\n",
      "                 2⋅h̅                                                         \n",
      "\n",
      "                                                 ⎤\n",
      "rho_{7,6}(t, R, Z) + ⅈ⋅varpi₂⋅\\rho_{7,6}(t, R, Z)⎥\n",
      "                                                 ⎦\n",
      "\n",
      "⎡∂                             \\gamma_{6,2}⋅\\rho_{8,6}(t, R, Z)   \\gamma_{8,5}\n",
      "⎢──(\\rho_{8,6}(t, R, Z))  =  - ──────────────────────────────── - ────────────\n",
      "⎣∂t                                           2                               \n",
      "\n",
      "⋅\\rho_{8,6}(t, R, Z)   \\gamma_{8,6}⋅\\rho_{8,6}(t, R, Z)   ⅈ⋅e⋅r_{-1;7,6}⋅E²₀(t\n",
      "──────────────────── - ──────────────────────────────── + ────────────────────\n",
      "   2                                  2                                       \n",
      "\n",
      ", R, Z)⋅\\rho_{8,7}(t, R, Z)   ⅈ⋅e⋅r_{-1;8,5}⋅E²₀(t, R, Z)⋅\\rho_{5,6}(t, R, Z) \n",
      "─────────────────────────── - ─────────────────────────────────────────────── \n",
      "  2⋅h̅                                              2⋅h̅                      \n",
      "\n",
      "  ⅈ⋅e⋅r_{-1;9,6}⋅E²₀(t, R, Z)⋅\\rho_{8,9}(t, R, Z)                             \n",
      "+ ─────────────────────────────────────────────── + ⅈ⋅ω₆⋅\\rho_{8,6}(t, R, Z) -\n",
      "                        2⋅h̅                                                  \n",
      "\n",
      "                                                        ⎤\n",
      " ⅈ⋅ω₈⋅\\rho_{8,6}(t, R, Z) + ⅈ⋅varpi₂⋅\\rho_{8,6}(t, R, Z)⎥\n",
      "                                                        ⎦\n",
      "\n",
      "⎡∂                             \\gamma_{6,2}⋅\\rho_{9,6}(t, R, Z)   \\gamma_{9,4}\n",
      "⎢──(\\rho_{9,6}(t, R, Z))  =  - ──────────────────────────────── - ────────────\n",
      "⎣∂t                                           2                               \n",
      "\n",
      "⋅\\rho_{9,6}(t, R, Z)   \\gamma_{9,5}⋅\\rho_{9,6}(t, R, Z)   \\gamma_{9,6}⋅\\rho_{9\n",
      "──────────────────── - ──────────────────────────────── - ────────────────────\n",
      "   2                                  2                                  2    \n",
      "\n",
      ",6}(t, R, Z)   ⅈ⋅e⋅r_{-1;7,6}⋅E²₀(t, R, Z)⋅\\rho_{9,7}(t, R, Z)   ⅈ⋅e⋅r_{-1;8,6\n",
      "──────────── + ─────────────────────────────────────────────── + ─────────────\n",
      "                                     2⋅h̅                                     \n",
      "\n",
      "}⋅E²₀(t, R, Z)⋅\\rho_{9,8}(t, R, Z)   ⅈ⋅e⋅r_{-1;9,4}⋅E²₀(t, R, Z)⋅\\rho_{4,6}(t,\n",
      "────────────────────────────────── - ─────────────────────────────────────────\n",
      "         2⋅h̅                                              2⋅h̅               \n",
      "\n",
      " R, Z)   ⅈ⋅e⋅r_{-1;9,5}⋅E²₀(t, R, Z)⋅\\rho_{5,6}(t, R, Z)                      \n",
      "────── - ─────────────────────────────────────────────── + ⅈ⋅ω₆⋅\\rho_{9,6}(t, \n",
      "                               2⋅h̅                                           \n",
      "\n",
      "                                                               ⎤\n",
      "R, Z) - ⅈ⋅ω₉⋅\\rho_{9,6}(t, R, Z) + ⅈ⋅varpi₂⋅\\rho_{9,6}(t, R, Z)⎥\n",
      "                                                               ⎦\n",
      "\n",
      "⎡∂                              \\gamma_{10,3}⋅\\rho_{10,6}(t, R, Z)   \\gamma_{1\n",
      "⎢──(\\rho_{10,6}(t, R, Z))  =  - ────────────────────────────────── - ─────────\n",
      "⎣∂t                                             2                             \n",
      "\n",
      "0,4}⋅\\rho_{10,6}(t, R, Z)   \\gamma_{10,5}⋅\\rho_{10,6}(t, R, Z)   \\gamma_{6,2}⋅\n",
      "───────────────────────── - ────────────────────────────────── - ─────────────\n",
      "       2                                    2                                 \n",
      "\n",
      "\\rho_{10,6}(t, R, Z)   ⅈ⋅e⋅r_{-1;10,3}⋅E²₀(t, R, Z)⋅\\rho_{3,6}(t, R, Z)   ⅈ⋅e⋅\n",
      "──────────────────── - ──────────────────────────────────────────────── - ────\n",
      "   2                                         2⋅h̅                             \n",
      "\n",
      "r_{-1;10,4}⋅E²₀(t, R, Z)⋅\\rho_{4,6}(t, R, Z)   ⅈ⋅e⋅r_{-1;10,5}⋅E²₀(t, R, Z)⋅\\r\n",
      "──────────────────────────────────────────── - ───────────────────────────────\n",
      "                  2⋅h̅                                               2⋅h̅     \n",
      "\n",
      "ho_{5,6}(t, R, Z)   ⅈ⋅e⋅r_{-1;7,6}⋅E²₀(t, R, Z)⋅\\rho_{10,7}(t, R, Z)   ⅈ⋅e⋅r_{\n",
      "───────────────── + ──────────────────────────────────────────────── + ───────\n",
      "                                          2⋅h̅                                \n",
      "\n",
      "-1;8,6}⋅E²₀(t, R, Z)⋅\\rho_{10,8}(t, R, Z)   ⅈ⋅e⋅r_{-1;9,6}⋅E²₀(t, R, Z)⋅\\rho_{\n",
      "───────────────────────────────────────── + ──────────────────────────────────\n",
      "               2⋅h̅                                               2⋅h̅        \n",
      "\n",
      "10,9}(t, R, Z)                                                                \n",
      "────────────── - ⅈ⋅ω₁₀⋅\\rho_{10,6}(t, R, Z) + ⅈ⋅ω₆⋅\\rho_{10,6}(t, R, Z) + ⅈ⋅va\n",
      "                                                                              \n",
      "\n",
      "                         ⎤\n",
      "rpi₂⋅\\rho_{10,6}(t, R, Z)⎥\n",
      "                         ⎦\n",
      "\n",
      "⎡∂                              \\gamma_{11,3}⋅\\rho_{11,6}(t, R, Z)   \\gamma_{1\n",
      "⎢──(\\rho_{11,6}(t, R, Z))  =  - ────────────────────────────────── - ─────────\n",
      "⎣∂t                                             2                             \n",
      "\n",
      "1,4}⋅\\rho_{11,6}(t, R, Z)   \\gamma_{6,2}⋅\\rho_{11,6}(t, R, Z)   ⅈ⋅e⋅r_{-1;11,3\n",
      "───────────────────────── - ───────────────────────────────── - ──────────────\n",
      "       2                                    2                                 \n",
      "\n",
      "}⋅E²₀(t, R, Z)⋅\\rho_{3,6}(t, R, Z)   ⅈ⋅e⋅r_{-1;11,4}⋅E²₀(t, R, Z)⋅\\rho_{4,6}(t\n",
      "────────────────────────────────── - ─────────────────────────────────────────\n",
      "        2⋅h̅                                               2⋅h̅               \n",
      "\n",
      ", R, Z)   ⅈ⋅e⋅r_{-1;7,6}⋅E²₀(t, R, Z)⋅\\rho_{11,7}(t, R, Z)   ⅈ⋅e⋅r_{-1;8,6}⋅E²\n",
      "─────── + ──────────────────────────────────────────────── + ─────────────────\n",
      "                                2⋅h̅                                          \n",
      "\n",
      "₀(t, R, Z)⋅\\rho_{11,8}(t, R, Z)   ⅈ⋅e⋅r_{-1;9,6}⋅E²₀(t, R, Z)⋅\\rho_{11,9}(t, R\n",
      "─────────────────────────────── + ────────────────────────────────────────────\n",
      "     2⋅h̅                                               2⋅h̅                  \n",
      "\n",
      ", Z)                                                                          \n",
      "──── - ⅈ⋅ω₁₁⋅\\rho_{11,6}(t, R, Z) + ⅈ⋅ω₆⋅\\rho_{11,6}(t, R, Z) + ⅈ⋅varpi₂⋅\\rho_\n",
      "                                                                              \n",
      "\n",
      "               ⎤\n",
      "{11,6}(t, R, Z)⎥\n",
      "               ⎦\n",
      "\n",
      "⎡∂                              \\gamma_{12,3}⋅\\rho_{12,6}(t, R, Z)   \\gamma_{6\n",
      "⎢──(\\rho_{12,6}(t, R, Z))  =  - ────────────────────────────────── - ─────────\n",
      "⎣∂t                                             2                             \n",
      "\n",
      ",2}⋅\\rho_{12,6}(t, R, Z)   ⅈ⋅e⋅r_{-1;12,3}⋅E²₀(t, R, Z)⋅\\rho_{3,6}(t, R, Z)   \n",
      "──────────────────────── - ──────────────────────────────────────────────── + \n",
      "       2                                         2⋅h̅                         \n",
      "\n",
      "ⅈ⋅e⋅r_{-1;7,6}⋅E²₀(t, R, Z)⋅\\rho_{12,7}(t, R, Z)   ⅈ⋅e⋅r_{-1;8,6}⋅E²₀(t, R, Z)\n",
      "──────────────────────────────────────────────── + ───────────────────────────\n",
      "                      2⋅h̅                                               2⋅h̅ \n",
      "\n",
      "⋅\\rho_{12,8}(t, R, Z)   ⅈ⋅e⋅r_{-1;9,6}⋅E²₀(t, R, Z)⋅\\rho_{12,9}(t, R, Z)      \n",
      "───────────────────── + ──────────────────────────────────────────────── - ⅈ⋅ω\n",
      "                                              2⋅h̅                            \n",
      "\n",
      "                                                                              \n",
      "₁₂⋅\\rho_{12,6}(t, R, Z) + ⅈ⋅ω₆⋅\\rho_{12,6}(t, R, Z) + ⅈ⋅varpi₂⋅\\rho_{12,6}(t, \n",
      "                                                                              \n",
      "\n",
      "     ⎤\n",
      "R, Z)⎥\n",
      "     ⎦\n",
      "\n",
      "⎡                                                                             \n",
      "⎢∂                             \\gamma_{7,6}⋅\\rho_{8,7}(t, R, Z)   \\gamma_{8,5}\n",
      "⎢──(\\rho_{8,7}(t, R, Z))  =  - ──────────────────────────────── - ────────────\n",
      "⎣∂t                                           2                               \n",
      "\n",
      "                                                                              \n",
      "⋅\\rho_{8,7}(t, R, Z)   \\gamma_{8,6}⋅\\rho_{8,7}(t, R, Z)   ⅈ⋅e⋅r_{-1;7,6}⋅\\rho_\n",
      "──────────────────── - ──────────────────────────────── + ────────────────────\n",
      "   2                                  2                                       \n",
      "\n",
      "               ____________                                                   \n",
      "{8,6}(t, R, Z)⋅E²₀(t, R, Z)   ⅈ⋅e⋅r_{-1;8,5}⋅E²₀(t, R, Z)⋅\\rho_{5,7}(t, R, Z) \n",
      "─────────────────────────── - ─────────────────────────────────────────────── \n",
      "  2⋅h̅                                              2⋅h̅                      \n",
      "\n",
      "                                                                              \n",
      "  ⅈ⋅e⋅r_{-1;8,6}⋅E²₀(t, R, Z)⋅\\rho_{6,7}(t, R, Z)                             \n",
      "- ─────────────────────────────────────────────── + ⅈ⋅ω₇⋅\\rho_{8,7}(t, R, Z) -\n",
      "                        2⋅h̅                                                  \n",
      "\n",
      "                         ⎤\n",
      "                         ⎥\n",
      " ⅈ⋅ω₈⋅\\rho_{8,7}(t, R, Z)⎥\n",
      "                         ⎦\n",
      "\n",
      "⎡                                                                             \n",
      "⎢∂                             \\gamma_{7,6}⋅\\rho_{9,7}(t, R, Z)   \\gamma_{9,4}\n",
      "⎢──(\\rho_{9,7}(t, R, Z))  =  - ──────────────────────────────── - ────────────\n",
      "⎣∂t                                           2                               \n",
      "\n",
      "                                                                              \n",
      "⋅\\rho_{9,7}(t, R, Z)   \\gamma_{9,5}⋅\\rho_{9,7}(t, R, Z)   \\gamma_{9,6}⋅\\rho_{9\n",
      "──────────────────── - ──────────────────────────────── - ────────────────────\n",
      "   2                                  2                                  2    \n",
      "\n",
      "                                                  ____________                \n",
      ",7}(t, R, Z)   ⅈ⋅e⋅r_{-1;7,6}⋅\\rho_{9,6}(t, R, Z)⋅E²₀(t, R, Z)   ⅈ⋅e⋅r_{-1;9,4\n",
      "──────────── + ─────────────────────────────────────────────── - ─────────────\n",
      "                                     2⋅h̅                                     \n",
      "\n",
      "                                                                              \n",
      "}⋅E²₀(t, R, Z)⋅\\rho_{4,7}(t, R, Z)   ⅈ⋅e⋅r_{-1;9,5}⋅E²₀(t, R, Z)⋅\\rho_{5,7}(t,\n",
      "────────────────────────────────── - ─────────────────────────────────────────\n",
      "         2⋅h̅                                              2⋅h̅               \n",
      "\n",
      "                                                                              \n",
      " R, Z)   ⅈ⋅e⋅r_{-1;9,6}⋅E²₀(t, R, Z)⋅\\rho_{6,7}(t, R, Z)                      \n",
      "────── - ─────────────────────────────────────────────── + ⅈ⋅ω₇⋅\\rho_{9,7}(t, \n",
      "                               2⋅h̅                                           \n",
      "\n",
      "                                ⎤\n",
      "                                ⎥\n",
      "R, Z) - ⅈ⋅ω₉⋅\\rho_{9,7}(t, R, Z)⎥\n",
      "                                ⎦\n",
      "\n",
      "⎡                                                                             \n",
      "⎢∂                              \\gamma_{10,3}⋅\\rho_{10,7}(t, R, Z)   \\gamma_{1\n",
      "⎢──(\\rho_{10,7}(t, R, Z))  =  - ────────────────────────────────── - ─────────\n",
      "⎣∂t                                             2                             \n",
      "\n",
      "                                                                              \n",
      "0,4}⋅\\rho_{10,7}(t, R, Z)   \\gamma_{10,5}⋅\\rho_{10,7}(t, R, Z)   \\gamma_{7,6}⋅\n",
      "───────────────────────── - ────────────────────────────────── - ─────────────\n",
      "       2                                    2                                 \n",
      "\n",
      "                                                                              \n",
      "\\rho_{10,7}(t, R, Z)   ⅈ⋅e⋅r_{-1;10,3}⋅E²₀(t, R, Z)⋅\\rho_{3,7}(t, R, Z)   ⅈ⋅e⋅\n",
      "──────────────────── - ──────────────────────────────────────────────── - ────\n",
      "   2                                         2⋅h̅                             \n",
      "\n",
      "                                                                              \n",
      "r_{-1;10,4}⋅E²₀(t, R, Z)⋅\\rho_{4,7}(t, R, Z)   ⅈ⋅e⋅r_{-1;10,5}⋅E²₀(t, R, Z)⋅\\r\n",
      "──────────────────────────────────────────── - ───────────────────────────────\n",
      "                  2⋅h̅                                               2⋅h̅     \n",
      "\n",
      "                                                        ____________          \n",
      "ho_{5,7}(t, R, Z)   ⅈ⋅e⋅r_{-1;7,6}⋅\\rho_{10,6}(t, R, Z)⋅E²₀(t, R, Z)          \n",
      "───────────────── + ──────────────────────────────────────────────── - ⅈ⋅ω₁₀⋅\\\n",
      "                                          2⋅h̅                                \n",
      "\n",
      "                                               ⎤\n",
      "                                               ⎥\n",
      "rho_{10,7}(t, R, Z) + ⅈ⋅ω₇⋅\\rho_{10,7}(t, R, Z)⎥\n",
      "                                               ⎦\n",
      "\n",
      "⎡                                                                             \n",
      "⎢∂                              \\gamma_{11,3}⋅\\rho_{11,7}(t, R, Z)   \\gamma_{1\n",
      "⎢──(\\rho_{11,7}(t, R, Z))  =  - ────────────────────────────────── - ─────────\n",
      "⎣∂t                                             2                             \n",
      "\n",
      "                                                                              \n",
      "1,4}⋅\\rho_{11,7}(t, R, Z)   \\gamma_{7,6}⋅\\rho_{11,7}(t, R, Z)   ⅈ⋅e⋅r_{-1;11,3\n",
      "───────────────────────── - ───────────────────────────────── - ──────────────\n",
      "       2                                    2                                 \n",
      "\n",
      "                                                                              \n",
      "}⋅E²₀(t, R, Z)⋅\\rho_{3,7}(t, R, Z)   ⅈ⋅e⋅r_{-1;11,4}⋅E²₀(t, R, Z)⋅\\rho_{4,7}(t\n",
      "────────────────────────────────── - ─────────────────────────────────────────\n",
      "        2⋅h̅                                               2⋅h̅               \n",
      "\n",
      "                                              ____________                    \n",
      ", R, Z)   ⅈ⋅e⋅r_{-1;7,6}⋅\\rho_{11,6}(t, R, Z)⋅E²₀(t, R, Z)                    \n",
      "─────── + ──────────────────────────────────────────────── - ⅈ⋅ω₁₁⋅\\rho_{11,7}\n",
      "                                2⋅h̅                                          \n",
      "\n",
      "                                     ⎤\n",
      "                                     ⎥\n",
      "(t, R, Z) + ⅈ⋅ω₇⋅\\rho_{11,7}(t, R, Z)⎥\n",
      "                                     ⎦\n",
      "\n",
      "⎡                                                                             \n",
      "⎢∂                              \\gamma_{12,3}⋅\\rho_{12,7}(t, R, Z)   \\gamma_{7\n",
      "⎢──(\\rho_{12,7}(t, R, Z))  =  - ────────────────────────────────── - ─────────\n",
      "⎣∂t                                             2                             \n",
      "\n",
      "                                                                              \n",
      ",6}⋅\\rho_{12,7}(t, R, Z)   ⅈ⋅e⋅r_{-1;12,3}⋅E²₀(t, R, Z)⋅\\rho_{3,7}(t, R, Z)   \n",
      "──────────────────────── - ──────────────────────────────────────────────── + \n",
      "       2                                         2⋅h̅                         \n",
      "\n",
      "                                    ____________                              \n",
      "ⅈ⋅e⋅r_{-1;7,6}⋅\\rho_{12,6}(t, R, Z)⋅E²₀(t, R, Z)                              \n",
      "──────────────────────────────────────────────── - ⅈ⋅ω₁₂⋅\\rho_{12,7}(t, R, Z) \n",
      "                      2⋅h̅                                                    \n",
      "\n",
      "                           ⎤\n",
      "                           ⎥\n",
      "+ ⅈ⋅ω₇⋅\\rho_{12,7}(t, R, Z)⎥\n",
      "                           ⎦\n",
      "\n",
      "⎡                                                                             \n",
      "⎢∂                             \\gamma_{8,5}⋅\\rho_{9,8}(t, R, Z)   \\gamma_{8,6}\n",
      "⎢──(\\rho_{9,8}(t, R, Z))  =  - ──────────────────────────────── - ────────────\n",
      "⎣∂t                                           2                               \n",
      "\n",
      "                                                                              \n",
      "⋅\\rho_{9,8}(t, R, Z)   \\gamma_{9,4}⋅\\rho_{9,8}(t, R, Z)   \\gamma_{9,5}⋅\\rho_{9\n",
      "──────────────────── - ──────────────────────────────── - ────────────────────\n",
      "   2                                  2                                  2    \n",
      "\n",
      "                                                                              \n",
      ",8}(t, R, Z)   \\gamma_{9,6}⋅\\rho_{9,8}(t, R, Z)   ⅈ⋅e⋅r_{-1;8,5}⋅\\rho_{9,5}(t,\n",
      "──────────── - ──────────────────────────────── + ────────────────────────────\n",
      "                              2                                         2⋅h̅  \n",
      "\n",
      "       ____________                                      ____________         \n",
      " R, Z)⋅E²₀(t, R, Z)   ⅈ⋅e⋅r_{-1;8,6}⋅\\rho_{9,6}(t, R, Z)⋅E²₀(t, R, Z)   ⅈ⋅e⋅r_\n",
      "─────────────────── + ─────────────────────────────────────────────── - ──────\n",
      "                                            2⋅h̅                              \n",
      "\n",
      "                                                                              \n",
      "{-1;9,4}⋅E²₀(t, R, Z)⋅\\rho_{4,8}(t, R, Z)   ⅈ⋅e⋅r_{-1;9,5}⋅E²₀(t, R, Z)⋅\\rho_{\n",
      "───────────────────────────────────────── - ──────────────────────────────────\n",
      "                2⋅h̅                                              2⋅h̅        \n",
      "\n",
      "                                                                              \n",
      "5,8}(t, R, Z)   ⅈ⋅e⋅r_{-1;9,6}⋅E²₀(t, R, Z)⋅\\rho_{6,8}(t, R, Z)               \n",
      "───────────── - ─────────────────────────────────────────────── + ⅈ⋅ω₈⋅\\rho_{9\n",
      "                                      2⋅h̅                                    \n",
      "\n",
      "                                       ⎤\n",
      "                                       ⎥\n",
      ",8}(t, R, Z) - ⅈ⋅ω₉⋅\\rho_{9,8}(t, R, Z)⎥\n",
      "                                       ⎦\n",
      "\n",
      "⎡                                                                             \n",
      "⎢∂                              \\gamma_{10,3}⋅\\rho_{10,8}(t, R, Z)   \\gamma_{1\n",
      "⎢──(\\rho_{10,8}(t, R, Z))  =  - ────────────────────────────────── - ─────────\n",
      "⎣∂t                                             2                             \n",
      "\n",
      "                                                                              \n",
      "0,4}⋅\\rho_{10,8}(t, R, Z)   \\gamma_{10,5}⋅\\rho_{10,8}(t, R, Z)   \\gamma_{8,5}⋅\n",
      "───────────────────────── - ────────────────────────────────── - ─────────────\n",
      "       2                                    2                                 \n",
      "\n",
      "                                                                              \n",
      "\\rho_{10,8}(t, R, Z)   \\gamma_{8,6}⋅\\rho_{10,8}(t, R, Z)   ⅈ⋅e⋅r_{-1;10,3}⋅E²₀\n",
      "──────────────────── - ───────────────────────────────── - ───────────────────\n",
      "   2                                   2                                      \n",
      "\n",
      "                                                                              \n",
      "(t, R, Z)⋅\\rho_{3,8}(t, R, Z)   ⅈ⋅e⋅r_{-1;10,4}⋅E²₀(t, R, Z)⋅\\rho_{4,8}(t, R, \n",
      "───────────────────────────── - ──────────────────────────────────────────────\n",
      "   2⋅h̅                                               2⋅h̅                    \n",
      "\n",
      "                                                                              \n",
      "Z)   ⅈ⋅e⋅r_{-1;10,5}⋅E²₀(t, R, Z)⋅\\rho_{5,8}(t, R, Z)   ⅈ⋅e⋅r_{-1;8,5}⋅\\rho_{1\n",
      "── - ──────────────────────────────────────────────── + ──────────────────────\n",
      "                           2⋅h̅                                               \n",
      "\n",
      "              ____________                                       ____________ \n",
      "0,5}(t, R, Z)⋅E²₀(t, R, Z)   ⅈ⋅e⋅r_{-1;8,6}⋅\\rho_{10,6}(t, R, Z)⋅E²₀(t, R, Z) \n",
      "────────────────────────── + ──────────────────────────────────────────────── \n",
      "2⋅h̅                                               2⋅h̅                       \n",
      "\n",
      "                                                        ⎤\n",
      "                                                        ⎥\n",
      "- ⅈ⋅ω₁₀⋅\\rho_{10,8}(t, R, Z) + ⅈ⋅ω₈⋅\\rho_{10,8}(t, R, Z)⎥\n",
      "                                                        ⎦\n",
      "\n",
      "⎡                                                                             \n",
      "⎢∂                              \\gamma_{11,3}⋅\\rho_{11,8}(t, R, Z)   \\gamma_{1\n",
      "⎢──(\\rho_{11,8}(t, R, Z))  =  - ────────────────────────────────── - ─────────\n",
      "⎣∂t                                             2                             \n",
      "\n",
      "                                                                              \n",
      "1,4}⋅\\rho_{11,8}(t, R, Z)   \\gamma_{8,5}⋅\\rho_{11,8}(t, R, Z)   \\gamma_{8,6}⋅\\\n",
      "───────────────────────── - ───────────────────────────────── - ──────────────\n",
      "       2                                    2                                 \n",
      "\n",
      "                                                                              \n",
      "rho_{11,8}(t, R, Z)   ⅈ⋅e⋅r_{-1;11,3}⋅E²₀(t, R, Z)⋅\\rho_{3,8}(t, R, Z)   ⅈ⋅e⋅r\n",
      "─────────────────── - ──────────────────────────────────────────────── - ─────\n",
      "  2                                         2⋅h̅                              \n",
      "\n",
      "                                                                              \n",
      "_{-1;11,4}⋅E²₀(t, R, Z)⋅\\rho_{4,8}(t, R, Z)   ⅈ⋅e⋅r_{-1;8,5}⋅\\rho_{11,5}(t, R,\n",
      "─────────────────────────────────────────── + ────────────────────────────────\n",
      "                 2⋅h̅                                               2⋅h̅      \n",
      "\n",
      "    ____________                                       ____________           \n",
      " Z)⋅E²₀(t, R, Z)   ⅈ⋅e⋅r_{-1;8,6}⋅\\rho_{11,6}(t, R, Z)⋅E²₀(t, R, Z)           \n",
      "──────────────── + ──────────────────────────────────────────────── - ⅈ⋅ω₁₁⋅\\r\n",
      "                                         2⋅h̅                                 \n",
      "\n",
      "                                              ⎤\n",
      "                                              ⎥\n",
      "ho_{11,8}(t, R, Z) + ⅈ⋅ω₈⋅\\rho_{11,8}(t, R, Z)⎥\n",
      "                                              ⎦\n",
      "\n",
      "⎡                                                                             \n",
      "⎢∂                              \\gamma_{12,3}⋅\\rho_{12,8}(t, R, Z)   \\gamma_{8\n",
      "⎢──(\\rho_{12,8}(t, R, Z))  =  - ────────────────────────────────── - ─────────\n",
      "⎣∂t                                             2                             \n",
      "\n",
      "                                                                              \n",
      ",5}⋅\\rho_{12,8}(t, R, Z)   \\gamma_{8,6}⋅\\rho_{12,8}(t, R, Z)   ⅈ⋅e⋅r_{-1;12,3}\n",
      "──────────────────────── - ───────────────────────────────── - ───────────────\n",
      "       2                                   2                                  \n",
      "\n",
      "                                                                        ______\n",
      "⋅E²₀(t, R, Z)⋅\\rho_{3,8}(t, R, Z)   ⅈ⋅e⋅r_{-1;8,5}⋅\\rho_{12,5}(t, R, Z)⋅E²₀(t,\n",
      "───────────────────────────────── + ──────────────────────────────────────────\n",
      "       2⋅h̅                                               2⋅h̅                \n",
      "\n",
      "______                                       ____________                     \n",
      " R, Z)   ⅈ⋅e⋅r_{-1;8,6}⋅\\rho_{12,6}(t, R, Z)⋅E²₀(t, R, Z)                     \n",
      "────── + ──────────────────────────────────────────────── - ⅈ⋅ω₁₂⋅\\rho_{12,8}(\n",
      "                               2⋅h̅                                           \n",
      "\n",
      "                                    ⎤\n",
      "                                    ⎥\n",
      "t, R, Z) + ⅈ⋅ω₈⋅\\rho_{12,8}(t, R, Z)⎥\n",
      "                                    ⎦\n",
      "\n",
      "⎡                                                                             \n",
      "⎢∂                              \\gamma_{10,3}⋅\\rho_{10,9}(t, R, Z)   \\gamma_{1\n",
      "⎢──(\\rho_{10,9}(t, R, Z))  =  - ────────────────────────────────── - ─────────\n",
      "⎣∂t                                             2                             \n",
      "\n",
      "                                                                              \n",
      "0,4}⋅\\rho_{10,9}(t, R, Z)   \\gamma_{10,5}⋅\\rho_{10,9}(t, R, Z)   \\gamma_{9,4}⋅\n",
      "───────────────────────── - ────────────────────────────────── - ─────────────\n",
      "       2                                    2                                 \n",
      "\n",
      "                                                                              \n",
      "\\rho_{10,9}(t, R, Z)   \\gamma_{9,5}⋅\\rho_{10,9}(t, R, Z)   \\gamma_{9,6}⋅\\rho_{\n",
      "──────────────────── - ───────────────────────────────── - ───────────────────\n",
      "   2                                   2                                   2  \n",
      "\n",
      "                                                                              \n",
      "10,9}(t, R, Z)   ⅈ⋅e⋅r_{-1;10,3}⋅E²₀(t, R, Z)⋅\\rho_{3,9}(t, R, Z)   ⅈ⋅e⋅r_{-1;\n",
      "────────────── - ──────────────────────────────────────────────── - ──────────\n",
      "                                       2⋅h̅                                   \n",
      "\n",
      "                                                                              \n",
      "10,4}⋅E²₀(t, R, Z)⋅\\rho_{4,9}(t, R, Z)   ⅈ⋅e⋅r_{-1;10,5}⋅E²₀(t, R, Z)⋅\\rho_{5,\n",
      "────────────────────────────────────── - ─────────────────────────────────────\n",
      "            2⋅h̅                                               2⋅h̅           \n",
      "\n",
      "                                                  ____________                \n",
      "9}(t, R, Z)   ⅈ⋅e⋅r_{-1;9,4}⋅\\rho_{10,4}(t, R, Z)⋅E²₀(t, R, Z)   ⅈ⋅e⋅r_{-1;9,5\n",
      "─────────── + ──────────────────────────────────────────────── + ─────────────\n",
      "                                    2⋅h̅                                      \n",
      "\n",
      "                       ____________                                       ____\n",
      "}⋅\\rho_{10,5}(t, R, Z)⋅E²₀(t, R, Z)   ⅈ⋅e⋅r_{-1;9,6}⋅\\rho_{10,6}(t, R, Z)⋅E²₀(\n",
      "─────────────────────────────────── + ────────────────────────────────────────\n",
      "         2⋅h̅                                               2⋅h̅              \n",
      "\n",
      "________                                                         ⎤\n",
      "t, R, Z)                                                         ⎥\n",
      "──────── - ⅈ⋅ω₁₀⋅\\rho_{10,9}(t, R, Z) + ⅈ⋅ω₉⋅\\rho_{10,9}(t, R, Z)⎥\n",
      "                                                                 ⎦\n",
      "\n",
      "⎡                                                                             \n",
      "⎢∂                              \\gamma_{11,3}⋅\\rho_{11,9}(t, R, Z)   \\gamma_{1\n",
      "⎢──(\\rho_{11,9}(t, R, Z))  =  - ────────────────────────────────── - ─────────\n",
      "⎣∂t                                             2                             \n",
      "\n",
      "                                                                              \n",
      "1,4}⋅\\rho_{11,9}(t, R, Z)   \\gamma_{9,4}⋅\\rho_{11,9}(t, R, Z)   \\gamma_{9,5}⋅\\\n",
      "───────────────────────── - ───────────────────────────────── - ──────────────\n",
      "       2                                    2                                 \n",
      "\n",
      "                                                                              \n",
      "rho_{11,9}(t, R, Z)   \\gamma_{9,6}⋅\\rho_{11,9}(t, R, Z)   ⅈ⋅e⋅r_{-1;11,3}⋅E²₀(\n",
      "─────────────────── - ───────────────────────────────── - ────────────────────\n",
      "  2                                   2                                       \n",
      "\n",
      "                                                                              \n",
      "t, R, Z)⋅\\rho_{3,9}(t, R, Z)   ⅈ⋅e⋅r_{-1;11,4}⋅E²₀(t, R, Z)⋅\\rho_{4,9}(t, R, Z\n",
      "──────────────────────────── - ───────────────────────────────────────────────\n",
      "  2⋅h̅                                               2⋅h̅                     \n",
      "\n",
      "                                        ____________                          \n",
      ")   ⅈ⋅e⋅r_{-1;9,4}⋅\\rho_{11,4}(t, R, Z)⋅E²₀(t, R, Z)   ⅈ⋅e⋅r_{-1;9,5}⋅\\rho_{11\n",
      "─ + ──────────────────────────────────────────────── + ───────────────────────\n",
      "                          2⋅h̅                                               2\n",
      "\n",
      "             ____________                                       ____________  \n",
      ",5}(t, R, Z)⋅E²₀(t, R, Z)   ⅈ⋅e⋅r_{-1;9,6}⋅\\rho_{11,6}(t, R, Z)⋅E²₀(t, R, Z)  \n",
      "───────────────────────── + ──────────────────────────────────────────────── -\n",
      "⋅h̅                                               2⋅h̅                        \n",
      "\n",
      "                                                       ⎤\n",
      "                                                       ⎥\n",
      " ⅈ⋅ω₁₁⋅\\rho_{11,9}(t, R, Z) + ⅈ⋅ω₉⋅\\rho_{11,9}(t, R, Z)⎥\n",
      "                                                       ⎦\n",
      "\n",
      "⎡                                                                             \n",
      "⎢∂                              \\gamma_{12,3}⋅\\rho_{12,9}(t, R, Z)   \\gamma_{9\n",
      "⎢──(\\rho_{12,9}(t, R, Z))  =  - ────────────────────────────────── - ─────────\n",
      "⎣∂t                                             2                             \n",
      "\n",
      "                                                                              \n",
      ",4}⋅\\rho_{12,9}(t, R, Z)   \\gamma_{9,5}⋅\\rho_{12,9}(t, R, Z)   \\gamma_{9,6}⋅\\r\n",
      "──────────────────────── - ───────────────────────────────── - ───────────────\n",
      "       2                                   2                                  \n",
      "\n",
      "                                                                              \n",
      "ho_{12,9}(t, R, Z)   ⅈ⋅e⋅r_{-1;12,3}⋅E²₀(t, R, Z)⋅\\rho_{3,9}(t, R, Z)   ⅈ⋅e⋅r_\n",
      "────────────────── - ──────────────────────────────────────────────── + ──────\n",
      " 2                                         2⋅h̅                               \n",
      "\n",
      "                              ____________                                    \n",
      "{-1;9,4}⋅\\rho_{12,4}(t, R, Z)⋅E²₀(t, R, Z)   ⅈ⋅e⋅r_{-1;9,5}⋅\\rho_{12,5}(t, R, \n",
      "────────────────────────────────────────── + ─────────────────────────────────\n",
      "                2⋅h̅                                               2⋅h̅       \n",
      "\n",
      "   ____________                                       ____________            \n",
      "Z)⋅E²₀(t, R, Z)   ⅈ⋅e⋅r_{-1;9,6}⋅\\rho_{12,6}(t, R, Z)⋅E²₀(t, R, Z)            \n",
      "─────────────── + ──────────────────────────────────────────────── - ⅈ⋅ω₁₂⋅\\rh\n",
      "                                        2⋅h̅                                  \n",
      "\n",
      "                                             ⎤\n",
      "                                             ⎥\n",
      "o_{12,9}(t, R, Z) + ⅈ⋅ω₉⋅\\rho_{12,9}(t, R, Z)⎥\n",
      "                                             ⎦\n",
      "\n",
      "⎡                                                                             \n",
      "⎢∂                               \\gamma_{10,3}⋅\\rho_{11,10}(t, R, Z)   \\gamma_\n",
      "⎢──(\\rho_{11,10}(t, R, Z))  =  - ─────────────────────────────────── - ───────\n",
      "⎣∂t                                               2                           \n",
      "\n",
      "                                                                              \n",
      "{10,4}⋅\\rho_{11,10}(t, R, Z)   \\gamma_{10,5}⋅\\rho_{11,10}(t, R, Z)   \\gamma_{1\n",
      "──────────────────────────── - ─────────────────────────────────── - ─────────\n",
      "          2                                     2                             \n",
      "\n",
      "                                                                              \n",
      "1,3}⋅\\rho_{11,10}(t, R, Z)   \\gamma_{11,4}⋅\\rho_{11,10}(t, R, Z)   ⅈ⋅e⋅r_{-1;1\n",
      "────────────────────────── - ─────────────────────────────────── + ───────────\n",
      "        2                                     2                               \n",
      "\n",
      "                          ____________                                        \n",
      "0,3}⋅\\rho_{11,3}(t, R, Z)⋅E²₀(t, R, Z)   ⅈ⋅e⋅r_{-1;10,4}⋅\\rho_{11,4}(t, R, Z)⋅\n",
      "────────────────────────────────────── + ─────────────────────────────────────\n",
      "            2⋅h̅                                                2⋅h̅          \n",
      "\n",
      "____________                                        ____________              \n",
      "E²₀(t, R, Z)   ⅈ⋅e⋅r_{-1;10,5}⋅\\rho_{11,5}(t, R, Z)⋅E²₀(t, R, Z)   ⅈ⋅e⋅r_{-1;1\n",
      "──────────── + ───────────────────────────────────────────────── - ───────────\n",
      "                                      2⋅h̅                                    \n",
      "\n",
      "                                                                              \n",
      "1,3}⋅E²₀(t, R, Z)⋅\\rho_{3,10}(t, R, Z)   ⅈ⋅e⋅r_{-1;11,4}⋅E²₀(t, R, Z)⋅\\rho_{4,\n",
      "────────────────────────────────────── - ─────────────────────────────────────\n",
      "            2⋅h̅                                                2⋅h̅          \n",
      "\n",
      "                                                                        ⎤\n",
      "10}(t, R, Z)                                                            ⎥\n",
      "──────────── + ⅈ⋅ω₁₀⋅\\rho_{11,10}(t, R, Z) - ⅈ⋅ω₁₁⋅\\rho_{11,10}(t, R, Z)⎥\n",
      "                                                                        ⎦\n",
      "\n",
      "⎡                                                                             \n",
      "⎢∂                               \\gamma_{10,3}⋅\\rho_{12,10}(t, R, Z)   \\gamma_\n",
      "⎢──(\\rho_{12,10}(t, R, Z))  =  - ─────────────────────────────────── - ───────\n",
      "⎣∂t                                               2                           \n",
      "\n",
      "                                                                              \n",
      "{10,4}⋅\\rho_{12,10}(t, R, Z)   \\gamma_{10,5}⋅\\rho_{12,10}(t, R, Z)   \\gamma_{1\n",
      "──────────────────────────── - ─────────────────────────────────── - ─────────\n",
      "          2                                     2                             \n",
      "\n",
      "                                                                  ____________\n",
      "2,3}⋅\\rho_{12,10}(t, R, Z)   ⅈ⋅e⋅r_{-1;10,3}⋅\\rho_{12,3}(t, R, Z)⋅E²₀(t, R, Z)\n",
      "────────────────────────── + ─────────────────────────────────────────────────\n",
      "        2                                           2⋅h̅                      \n",
      "\n",
      "                                        ____________                          \n",
      "   ⅈ⋅e⋅r_{-1;10,4}⋅\\rho_{12,4}(t, R, Z)⋅E²₀(t, R, Z)   ⅈ⋅e⋅r_{-1;10,5}⋅\\rho_{1\n",
      " + ───────────────────────────────────────────────── + ───────────────────────\n",
      "                          2⋅h̅                                                \n",
      "\n",
      "              ____________                                                    \n",
      "2,5}(t, R, Z)⋅E²₀(t, R, Z)   ⅈ⋅e⋅r_{-1;12,3}⋅E²₀(t, R, Z)⋅\\rho_{3,10}(t, R, Z)\n",
      "────────────────────────── - ─────────────────────────────────────────────────\n",
      "2⋅h̅                                                2⋅h̅                      \n",
      "\n",
      "                                                            ⎤\n",
      "                                                            ⎥\n",
      " + ⅈ⋅ω₁₀⋅\\rho_{12,10}(t, R, Z) - ⅈ⋅ω₁₂⋅\\rho_{12,10}(t, R, Z)⎥\n",
      "                                                            ⎦\n",
      "\n",
      "⎡                                                                             \n",
      "⎢∂                               \\gamma_{11,3}⋅\\rho_{12,11}(t, R, Z)   \\gamma_\n",
      "⎢──(\\rho_{12,11}(t, R, Z))  =  - ─────────────────────────────────── - ───────\n",
      "⎣∂t                                               2                           \n",
      "\n",
      "                                                                              \n",
      "{11,4}⋅\\rho_{12,11}(t, R, Z)   \\gamma_{12,3}⋅\\rho_{12,11}(t, R, Z)   ⅈ⋅e⋅r_{-1\n",
      "──────────────────────────── - ─────────────────────────────────── + ─────────\n",
      "          2                                     2                             \n",
      "\n",
      "                            ____________                                      \n",
      ";11,3}⋅\\rho_{12,3}(t, R, Z)⋅E²₀(t, R, Z)   ⅈ⋅e⋅r_{-1;11,4}⋅\\rho_{12,4}(t, R, Z\n",
      "──────────────────────────────────────── + ───────────────────────────────────\n",
      "              2⋅h̅                                                2⋅h̅        \n",
      "\n",
      "  ____________                                                                \n",
      ")⋅E²₀(t, R, Z)   ⅈ⋅e⋅r_{-1;12,3}⋅E²₀(t, R, Z)⋅\\rho_{3,11}(t, R, Z)            \n",
      "────────────── - ───────────────────────────────────────────────── + ⅈ⋅ω₁₁⋅\\rh\n",
      "                                        2⋅h̅                                  \n",
      "\n",
      "                                                ⎤\n",
      "                                                ⎥\n",
      "o_{12,11}(t, R, Z) - ⅈ⋅ω₁₂⋅\\rho_{12,11}(t, R, Z)⎥\n",
      "                                                ⎦\n",
      "\n",
      "⎡                        2                                                    \n",
      "⎢∂                    ⅈ⋅c ⋅μ₀⋅varpi₁⋅(-2⋅e⋅r_{+1;3,1}⋅\\rho_{3,1}(t, R, Z)⋅n(R,\n",
      "⎢──(E¹₀(t, R, Z))  =  ────────────────────────────────────────────────────────\n",
      "⎣∂t                                                                           \n",
      "\n",
      "                                                                              \n",
      " Z) - 2⋅e⋅r_{+1;4,1}⋅\\rho_{4,1}(t, R, Z)⋅n(R, Z) - 2⋅e⋅r_{+1;4,2}⋅\\rho_{4,2}(t\n",
      "──────────────────────────────────────────────────────────────────────────────\n",
      "                                                                              \n",
      "\n",
      "                                                                              \n",
      ", R, Z)⋅n(R, Z) - 2⋅e⋅r_{+1;5,1}⋅\\rho_{5,1}(t, R, Z)⋅n(R, Z) - 2⋅e⋅r_{+1;5,2}⋅\n",
      "──────────────────────────────────────────────────────────────────────────────\n",
      "        2                                                                     \n",
      "\n",
      "                                                                              \n",
      "\\rho_{5,2}(t, R, Z)⋅n(R, Z) - 2⋅e⋅r_{+1;6,2}⋅\\rho_{6,2}(t, R, Z)⋅n(R, Z))     \n",
      "───────────────────────────────────────────────────────────────────────── - c⋅\n",
      "                                                                              \n",
      "\n",
      "                ⎤\n",
      "∂               ⎥\n",
      "──(E¹₀(t, R, Z))⎥\n",
      "∂Z              ⎦\n",
      "\n",
      "⎡                        2                                                    \n",
      "⎢∂                    ⅈ⋅c ⋅μ₀⋅varpi₂⋅(-2⋅e⋅r_{-1;10,3}⋅\\rho_{10,3}(t, R, Z)⋅n(\n",
      "⎢──(E²₀(t, R, Z))  =  ────────────────────────────────────────────────────────\n",
      "⎣∂t                                                                           \n",
      "\n",
      "                                                                              \n",
      "R, Z) - 2⋅e⋅r_{-1;10,4}⋅\\rho_{10,4}(t, R, Z)⋅n(R, Z) - 2⋅e⋅r_{-1;10,5}⋅\\rho_{1\n",
      "──────────────────────────────────────────────────────────────────────────────\n",
      "                                                                              \n",
      "\n",
      "                                                                              \n",
      "0,5}(t, R, Z)⋅n(R, Z) - 2⋅e⋅r_{-1;11,3}⋅\\rho_{11,3}(t, R, Z)⋅n(R, Z) - 2⋅e⋅r_{\n",
      "──────────────────────────────────────────────────────────────────────────────\n",
      "                                                                              \n",
      "\n",
      "                                                                              \n",
      "-1;11,4}⋅\\rho_{11,4}(t, R, Z)⋅n(R, Z) - 2⋅e⋅r_{-1;12,3}⋅\\rho_{12,3}(t, R, Z)⋅n\n",
      "──────────────────────────────────────────────────────────────────────────────\n",
      "                                                                       2      \n",
      "\n",
      "                                                                              \n",
      "(R, Z) - 2⋅e⋅r_{-1;7,6}⋅\\rho_{7,6}(t, R, Z)⋅n(R, Z) - 2⋅e⋅r_{-1;8,5}⋅\\rho_{8,5\n",
      "──────────────────────────────────────────────────────────────────────────────\n",
      "                                                                              \n",
      "\n",
      "                                                                              \n",
      "}(t, R, Z)⋅n(R, Z) - 2⋅e⋅r_{-1;8,6}⋅\\rho_{8,6}(t, R, Z)⋅n(R, Z) - 2⋅e⋅r_{-1;9,\n",
      "──────────────────────────────────────────────────────────────────────────────\n",
      "                                                                              \n",
      "\n",
      "                                                                              \n",
      "4}⋅\\rho_{9,4}(t, R, Z)⋅n(R, Z) - 2⋅e⋅r_{-1;9,5}⋅\\rho_{9,5}(t, R, Z)⋅n(R, Z) - \n",
      "──────────────────────────────────────────────────────────────────────────────\n",
      "                                                                              \n",
      "\n",
      "                                                                ⎤\n",
      "2⋅e⋅r_{-1;9,6}⋅\\rho_{9,6}(t, R, Z)⋅n(R, Z))     ∂               ⎥\n",
      "─────────────────────────────────────────── + c⋅──(E²₀(t, R, Z))⎥\n",
      "                                                ∂Z              ⎦\n",
      "\n"
     ]
    }
   ],
   "source": [
    "for i in range(eqs_lin.shape[0]):\n",
    "    pprint(eqs_lin[i, :])\n",
    "    print\n",
    "    "
   ]
  },
  {
   "cell_type": "markdown",
   "metadata": {},
   "source": [
    "The equations for $\\rho_{22}, \\rho_{33}$ make a statement about the imaginary part of $\\Omega_2\\rho_{23}$ being zero. Let's just ignore that. The equation for $\\rho_{32}$ is only coupled to itself, and can be easily solved"
   ]
  },
  {
   "cell_type": "code",
   "execution_count": 92,
   "metadata": {
    "collapsed": false
   },
   "outputs": [
    {
     "data": {
      "image/png": "[encoded data removed]",
      "text/latex": [
       "$$e^{t \\left(i \\delta_{2} - \\frac{\\gamma_{21}}{2} - \\frac{\\gamma_{32}}{2}\\right)}$$"
      ],
      "text/plain": [
       "   ⎛       γ₂₁   γ₃₂⎞\n",
       " t⋅⎜ⅈ⋅δ₂ - ─── - ───⎟\n",
       "   ⎝        2     2 ⎠\n",
       "ℯ                    "
      ]
     },
     "execution_count": 92,
     "metadata": {},
     "output_type": "execute_result"
    }
   ],
   "source": [
    "rho32_sol=exp((-(gamma[1,0]+gamma[2,1])/2+I*delta2)*t)\n",
    "rho32_sol"
   ]
  },
  {
   "cell_type": "code",
   "execution_count": 93,
   "metadata": {
    "collapsed": false
   },
   "outputs": [
    {
     "data": {
      "image/png": "[encoded data removed]",
      "text/latex": [
       "$$0$$"
      ],
      "text/plain": [
       "0"
      ]
     },
     "execution_count": 93,
     "metadata": {},
     "output_type": "execute_result"
    }
   ],
   "source": [
    "Derivative(rho32_sol,t).doit().expand()-eqs_lin[5,2].subs({rho[2,1]:rho32_sol}).expand()"
   ]
  },
  {
   "cell_type": "markdown",
   "metadata": {},
   "source": [
    "So the dynamics are captured by the equations for $\\rho_{21}, \\rho_{31}$ and the wave propagation equations."
   ]
  },
  {
   "cell_type": "code",
   "execution_count": 94,
   "metadata": {
    "collapsed": false
   },
   "outputs": [
    {
     "data": {
      "image/png": "[encoded data removed]",
      "text/latex": [
       "$$\\left[\\begin{matrix}\\frac{\\partial}{\\partial t} \\rho_{21}{\\left (t,R,Z \\right )} & = & i \\delta_{1} \\rho_{21}{\\left (t,R,Z \\right )} - \\frac{\\gamma_{21}}{2} \\rho_{21}{\\left (t,R,Z \\right )} - \\frac{i}{2} \\Omega_{1}{\\left (t,R,Z \\right )} - \\frac{i}{2} \\rho_{31}{\\left (t,R,Z \\right )} \\overline{\\Omega_{2}{\\left (t,R,Z \\right )}}\\\\\\frac{\\partial}{\\partial t} \\rho_{31}{\\left (t,R,Z \\right )} & = & i \\delta_{1} \\rho_{31}{\\left (t,R,Z \\right )} + i \\delta_{2} \\rho_{31}{\\left (t,R,Z \\right )} - \\frac{\\gamma_{32}}{2} \\rho_{31}{\\left (t,R,Z \\right )} - \\frac{i}{2} \\Omega_{2}{\\left (t,R,Z \\right )} \\rho_{21}{\\left (t,R,Z \\right )}\\\\\\frac{\\partial}{\\partial t} \\Omega_{1}{\\left (t,R,Z \\right )} & = & - \\frac{i \\mu_{0}}{\\hbar} c^{2} e^{2} r_{+1;21}^{2} \\varpi_{1} n{\\left (R,Z \\right )} \\rho_{21}{\\left (t,R,Z \\right )} - c \\frac{\\partial}{\\partial Z} \\Omega_{1}{\\left (t,R,Z \\right )}\\\\\\frac{\\partial}{\\partial t} \\Omega_{2}{\\left (t,R,Z \\right )} & = & - \\frac{i \\mu_{0}}{\\hbar} c^{2} e^{2} r_{-1;32}^{2} \\varpi_{2} n{\\left (R,Z \\right )} \\rho_{32}{\\left (t,R,Z \\right )} + c \\frac{\\partial}{\\partial Z} \\Omega_{2}{\\left (t,R,Z \\right )}\\end{matrix}\\right]$$"
      ],
      "text/plain": [
       "⎡                                                                             \n",
       "⎢∂                                          γ₂₁⋅ρ₂₁(t, R, Z)   ⅈ⋅Ω₁(t, R, Z)  \n",
       "⎢──(ρ₂₁(t, R, Z))  =    ⅈ⋅δ₁⋅ρ₂₁(t, R, Z) - ──────────────── - ───────────── -\n",
       "⎢∂t                                                2                 2        \n",
       "⎢                                                                             \n",
       "⎢∂                                                            γ₃₂⋅ρ₃₁(t, R, Z)\n",
       "⎢──(ρ₃₁(t, R, Z))  =  ⅈ⋅δ₁⋅ρ₃₁(t, R, Z) + ⅈ⋅δ₂⋅ρ₃₁(t, R, Z) - ────────────────\n",
       "⎢∂t                                                                  2        \n",
       "⎢                                                                             \n",
       "⎢                                 2  2             2                          \n",
       "⎢∂                             ⅈ⋅c ⋅e ⋅μ₀⋅r_{+1;21} ⋅varpi₁⋅n(R, Z)⋅ρ₂₁(t, R, \n",
       "⎢──(Ω₁(t, R, Z))   =         - ───────────────────────────────────────────────\n",
       "⎢∂t                                                    h̅                     \n",
       "⎢                                                                             \n",
       "⎢                                 2  2             2                          \n",
       "⎢∂                             ⅈ⋅c ⋅e ⋅μ₀⋅r_{-1;32} ⋅varpi₂⋅n(R, Z)⋅ρ₃₂(t, R, \n",
       "⎢──(Ω₂(t, R, Z))   =         - ───────────────────────────────────────────────\n",
       "⎣∂t                                                    h̅                     \n",
       "\n",
       "                ___________  ⎤\n",
       " ⅈ⋅ρ₃₁(t, R, Z)⋅Ω₂(t, R, Z)  ⎥\n",
       " ──────────────────────────  ⎥\n",
       "             2               ⎥\n",
       "                             ⎥\n",
       "   ⅈ⋅Ω₂(t, R, Z)⋅ρ₂₁(t, R, Z)⎥\n",
       " - ──────────────────────────⎥\n",
       "               2             ⎥\n",
       "                             ⎥\n",
       "                             ⎥\n",
       "Z)     ∂                     ⎥\n",
       "── - c⋅──(Ω₁(t, R, Z))       ⎥\n",
       "       ∂Z                    ⎥\n",
       "                             ⎥\n",
       "                             ⎥\n",
       "Z)     ∂                     ⎥\n",
       "── + c⋅──(Ω₂(t, R, Z))       ⎥\n",
       "       ∂Z                    ⎦"
      ]
     },
     "execution_count": 94,
     "metadata": {},
     "output_type": "execute_result"
    }
   ],
   "source": [
    "eqss=[[eqs_lin[3:5,:][0,0],eqsign,eqs_lin[3:5,:][0,2]],\n",
    "      [eqs_lin[3:5,:][1,0],eqsign,eqs_lin[3:5,:][1,2]]]\n",
    "\n",
    "eqss=eqss+[[eqs_lin[6: ,:][0,0],eqsign,eqs_lin[6: ,:][0,2]],\n",
    "      [eqs_lin[6: ,:][1,0],eqsign,eqs_lin[6: ,:][1,2]]]\n",
    "\n",
    "eqss=Matrix(eqss)\n",
    "eqs_lin=eqss\n",
    "eqs_lin"
   ]
  },
  {
   "cell_type": "markdown",
   "metadata": {},
   "source": [
    "If we further consider $\\Omega_2$ to be very strong we can neglect the first term on the right-hand side on the last equation."
   ]
  },
  {
   "cell_type": "code",
   "execution_count": 95,
   "metadata": {
    "collapsed": false
   },
   "outputs": [
    {
     "data": {
      "image/png": "[encoded data removed]",
      "text/latex": [
       "$$- c \\frac{\\partial}{\\partial Z} \\Omega_{2}{\\left (t,R,Z \\right )} + \\frac{\\partial}{\\partial t} \\Omega_{2}{\\left (t,R,Z \\right )}$$"
      ],
      "text/plain": [
       "    ∂                 ∂              \n",
       "- c⋅──(Ω₂(t, R, Z)) + ──(Ω₂(t, R, Z))\n",
       "    ∂Z                ∂t             "
      ]
     },
     "execution_count": 95,
     "metadata": {},
     "output_type": "execute_result"
    }
   ],
   "source": [
    "eqOmega2=eqs_lin[3,:][0]-eqs_lin[3,:][2]\n",
    "eqOmega2=eqOmega2.subs({n:0})\n",
    "eqOmega2"
   ]
  },
  {
   "cell_type": "markdown",
   "metadata": {},
   "source": [
    "And thus solve that equation and take $\\Omega_2$ as a given quantity. For instance, it might be a gaussian pulse with time duration $\\tau_2$:"
   ]
  },
  {
   "cell_type": "code",
   "execution_count": 96,
   "metadata": {
    "collapsed": false
   },
   "outputs": [
    {
     "data": {
      "image/png": "[encoded data removed]",
      "text/latex": [
       "$$\\Omega_{2 peak} e^{- \\frac{4}{\\tau_{2}^{2}} \\left(\\frac{Z}{c} + t - t_{0}\\right) \\log{\\left (2 \\right )}}$$"
      ],
      "text/plain": [
       "             ⎛Z         ⎞        \n",
       "          -4⋅⎜─ + t - t₀⎟⋅log(2) \n",
       "             ⎝c         ⎠        \n",
       "          ───────────────────────\n",
       "                      2          \n",
       "                    τ₂           \n",
       "Ω_2_peak⋅ℯ                       "
      ]
     },
     "execution_count": 96,
     "metadata": {},
     "output_type": "execute_result"
    }
   ],
   "source": [
    "from sympy import log\n",
    "Omega2_peak, tau2, t0=symbols(\"Omega2_peak, tau2, t0\", positive=True)\n",
    "Omega2_sol=Omega2_peak*exp(-4*log(2)*(t-t0+Z/c)/tau2**2)\n",
    "Omega2_sol"
   ]
  },
  {
   "cell_type": "code",
   "execution_count": 97,
   "metadata": {
    "collapsed": false
   },
   "outputs": [
    {
     "data": {
      "image/png": "[encoded data removed]",
      "text/latex": [
       "$$0$$"
      ],
      "text/plain": [
       "0"
      ]
     },
     "execution_count": 97,
     "metadata": {},
     "output_type": "execute_result"
    }
   ],
   "source": [
    "eqOmega2.subs({Omega2:Omega2_sol}).doit()"
   ]
  },
  {
   "cell_type": "markdown",
   "metadata": {},
   "source": [
    " Then the equations are reduced to"
   ]
  },
  {
   "cell_type": "code",
   "execution_count": 98,
   "metadata": {
    "collapsed": false
   },
   "outputs": [
    {
     "data": {
      "image/png": "[encoded data removed]",
      "text/latex": [
       "$$\\left[\\begin{matrix}\\frac{\\partial}{\\partial t} \\rho_{21}{\\left (t,R,Z \\right )} & = & i \\delta_{1} \\rho_{21}{\\left (t,R,Z \\right )} - \\frac{\\gamma_{21}}{2} \\rho_{21}{\\left (t,R,Z \\right )} - \\frac{i}{2} \\Omega_{1}{\\left (t,R,Z \\right )} - \\frac{i}{2} \\rho_{31}{\\left (t,R,Z \\right )} \\overline{\\Omega_{2}{\\left (t,R,Z \\right )}}\\\\\\frac{\\partial}{\\partial t} \\rho_{31}{\\left (t,R,Z \\right )} & = & i \\delta_{1} \\rho_{31}{\\left (t,R,Z \\right )} + i \\delta_{2} \\rho_{31}{\\left (t,R,Z \\right )} - \\frac{\\gamma_{32}}{2} \\rho_{31}{\\left (t,R,Z \\right )} - \\frac{i}{2} \\Omega_{2}{\\left (t,R,Z \\right )} \\rho_{21}{\\left (t,R,Z \\right )}\\\\\\frac{\\partial}{\\partial t} \\Omega_{1}{\\left (t,R,Z \\right )} & = & - c \\frac{\\partial}{\\partial Z} \\Omega_{1}{\\left (t,R,Z \\right )} - \\frac{i e^{2} r_{+1;21}^{2} \\varpi_{1}}{\\hbar \\varepsilon_{0}} n{\\left (R,Z \\right )} \\rho_{21}{\\left (t,R,Z \\right )}\\end{matrix}\\right]$$"
      ],
      "text/plain": [
       "⎡                                                                             \n",
       "⎢∂                                          γ₂₁⋅ρ₂₁(t, R, Z)   ⅈ⋅Ω₁(t, R, Z)  \n",
       "⎢──(ρ₂₁(t, R, Z))  =    ⅈ⋅δ₁⋅ρ₂₁(t, R, Z) - ──────────────── - ───────────── -\n",
       "⎢∂t                                                2                 2        \n",
       "⎢                                                                             \n",
       "⎢∂                                                            γ₃₂⋅ρ₃₁(t, R, Z)\n",
       "⎢──(ρ₃₁(t, R, Z))  =  ⅈ⋅δ₁⋅ρ₃₁(t, R, Z) + ⅈ⋅δ₂⋅ρ₃₁(t, R, Z) - ────────────────\n",
       "⎢∂t                                                                  2        \n",
       "⎢                                                                             \n",
       "⎢                                                        2          2         \n",
       "⎢∂                                  ∂                 ⅈ⋅e ⋅r_{+1;21} ⋅varpi₁⋅n\n",
       "⎢──(Ω₁(t, R, Z))   =            - c⋅──(Ω₁(t, R, Z)) - ────────────────────────\n",
       "⎣∂t                                 ∂Z                               h̅⋅vareps\n",
       "\n",
       "                ___________  ⎤\n",
       " ⅈ⋅ρ₃₁(t, R, Z)⋅Ω₂(t, R, Z)  ⎥\n",
       " ──────────────────────────  ⎥\n",
       "             2               ⎥\n",
       "                             ⎥\n",
       "   ⅈ⋅Ω₂(t, R, Z)⋅ρ₂₁(t, R, Z)⎥\n",
       " - ──────────────────────────⎥\n",
       "               2             ⎥\n",
       "                             ⎥\n",
       "                             ⎥\n",
       "(R, Z)⋅ρ₂₁(t, R, Z)          ⎥\n",
       "───────────────────          ⎥\n",
       "ilon₀                        ⎦"
      ]
     },
     "execution_count": 98,
     "metadata": {},
     "output_type": "execute_result"
    }
   ],
   "source": [
    "eqs_lin=eqs_lin[:-1,:].subs({c**2: 1/mu0/epsilon0})\n",
    "eqs_lin"
   ]
  },
  {
   "cell_type": "markdown",
   "metadata": {},
   "source": [
    "# The Doppler effect\n",
    "\n",
    "The detunings of the fields however, will be different for different velocity classes in an atomic vapour."
   ]
  },
  {
   "cell_type": "code",
   "execution_count": 99,
   "metadata": {
    "collapsed": false
   },
   "outputs": [
    {
     "data": {
      "image/png": "[encoded data removed]",
      "text/latex": [
       "$$\\left[\\begin{matrix}v_{X}\\\\v_{Y}\\\\v_{Z}\\end{matrix}\\right]$$"
      ],
      "text/plain": [
       "⎡v_X⎤\n",
       "⎢   ⎥\n",
       "⎢v_Y⎥\n",
       "⎢   ⎥\n",
       "⎣v_Z⎦"
      ]
     },
     "execution_count": 99,
     "metadata": {},
     "output_type": "execute_result"
    }
   ],
   "source": [
    "vX, vY, vZ=symbols(\"v_X, v_Y, v_Z\", real=True)\n",
    "v = Matrix([vX, vY, vZ])\n",
    "v"
   ]
  },
  {
   "cell_type": "markdown",
   "metadata": {},
   "source": [
    "For velocities $v \\ll c$ the optical frequencies will be\n",
    "\n",
    "\\begin{equation}\n",
    "    \\varpi_l' = \\varpi_l - \\vec{k}_l \\cdot \\vec{v}_l \n",
    "\\end{equation}\n",
    "\n",
    "And so, in our case\n",
    "\\begin{equation}\n",
    "    \\delta_1' = \\delta_1 - \\varpi_1 v_Z/c, \\hspace{1cm} \\delta_2' = \\delta_2 + \\varpi_2 v_Z/c\n",
    "\\end{equation}\n",
    "\n",
    "And the density matrix will be a mixture of contributions from all velocity classes\n",
    "\\begin{equation}\n",
    "    \\rho = \\int dv_Z g(v_Z) \\rho{v_Z}'\n",
    "\\end{equation}\n",
    "\n",
    "So we will rewrite our equations in terms of this new $v_Z$"
   ]
  },
  {
   "cell_type": "code",
   "execution_count": 100,
   "metadata": {
    "collapsed": false
   },
   "outputs": [
    {
     "data": {
      "image/png": "[encoded data removed]",
      "text/latex": [
       "$$g{\\left (v_{Z} \\right )}$$"
      ],
      "text/plain": [
       "g(v_Z)"
      ]
     },
     "execution_count": 100,
     "metadata": {},
     "output_type": "execute_result"
    }
   ],
   "source": [
    "rhop=define_density_matrix(Ne, variables=[t,Z,vZ])\n",
    "g=Function(\"g\")(vZ)\n",
    "g"
   ]
  },
  {
   "cell_type": "code",
   "execution_count": 101,
   "metadata": {
    "collapsed": false
   },
   "outputs": [
    {
     "data": {
      "image/png": "[encoded data removed]",
      "text/latex": [
       "$$\\left ( \\delta_{1} - \\frac{v_{Z} \\varpi_{1}}{c}, \\quad \\delta_{2} + \\frac{v_{Z} \\varpi_{2}}{c}\\right )$$"
      ],
      "text/plain": [
       "⎛     v_Z⋅varpi₁       v_Z⋅varpi₂⎞\n",
       "⎜δ₁ - ──────────, δ₂ + ──────────⎟\n",
       "⎝         c                c     ⎠"
      ]
     },
     "execution_count": 101,
     "metadata": {},
     "output_type": "execute_result"
    }
   ],
   "source": [
    "delta1p=delta1-omega_laser[0]*vZ/c\n",
    "delta2p=delta2+omega_laser[1]*vZ/c\n",
    "delta1p,delta2p"
   ]
  },
  {
   "cell_type": "markdown",
   "metadata": {},
   "source": [
    "So our final equations are:"
   ]
  },
  {
   "cell_type": "code",
   "execution_count": 102,
   "metadata": {
    "collapsed": false
   },
   "outputs": [
    {
     "data": {
      "image/png": "[encoded data removed]",
      "text/latex": [
       "$$\\left[\\begin{matrix}\\frac{\\partial}{\\partial t} \\rho_{21}{\\left (t,Z,v_{Z} \\right )} & = & i \\delta_{1} \\rho_{21}{\\left (t,Z,v_{Z} \\right )} - \\frac{\\gamma_{21}}{2} \\rho_{21}{\\left (t,Z,v_{Z} \\right )} - \\frac{i}{2} \\Omega_{1}{\\left (t,R,Z \\right )} - \\frac{i}{2} \\rho_{31}{\\left (t,Z,v_{Z} \\right )} \\overline{\\Omega_{2}{\\left (t,R,Z \\right )}} - \\frac{i v_{Z}}{c} \\varpi_{1} \\rho_{21}{\\left (t,Z,v_{Z} \\right )}\\\\\\frac{\\partial}{\\partial t} \\rho_{31}{\\left (t,Z,v_{Z} \\right )} & = & i \\delta_{1} \\rho_{31}{\\left (t,Z,v_{Z} \\right )} + i \\delta_{2} \\rho_{31}{\\left (t,Z,v_{Z} \\right )} - \\frac{\\gamma_{32}}{2} \\rho_{31}{\\left (t,Z,v_{Z} \\right )} - \\frac{i}{2} \\Omega_{2}{\\left (t,R,Z \\right )} \\rho_{21}{\\left (t,Z,v_{Z} \\right )} - \\frac{i v_{Z}}{c} \\varpi_{1} \\rho_{31}{\\left (t,Z,v_{Z} \\right )} + \\frac{i v_{Z}}{c} \\varpi_{2} \\rho_{31}{\\left (t,Z,v_{Z} \\right )}\\\\\\frac{\\partial}{\\partial t} \\Omega_{1}{\\left (t,R,Z \\right )} & = & - c \\frac{\\partial}{\\partial Z} \\Omega_{1}{\\left (t,R,Z \\right )} - \\frac{i e^{2} r_{+1;21}^{2} \\varpi_{1}}{\\hbar \\varepsilon_{0}} n{\\left (R,Z \\right )} \\int_{-\\infty}^{\\infty} g{\\left (v_{Z} \\right )} \\rho_{21}{\\left (t,Z,v_{Z} \\right )}\\, dv_{Z}\\end{matrix}\\right]$$"
      ],
      "text/plain": [
       "⎡                                                                             \n",
       "⎢∂                                                              γ₂₁⋅ρ₂₁(t, Z, \n",
       "⎢──(ρ₂₁(t, Z, v_Z))  =                    ⅈ⋅δ₁⋅ρ₂₁(t, Z, v_Z) - ──────────────\n",
       "⎢∂t                                                                     2     \n",
       "⎢                                                                             \n",
       "⎢∂                                                                  γ₃₂⋅ρ₃₁(t,\n",
       "⎢──(ρ₃₁(t, Z, v_Z))  =  ⅈ⋅δ₁⋅ρ₃₁(t, Z, v_Z) + ⅈ⋅δ₂⋅ρ₃₁(t, Z, v_Z) - ──────────\n",
       "⎢∂t                                                                         2 \n",
       "⎢                                                                             \n",
       "⎢                                                                             \n",
       "⎢                                                                             \n",
       "⎢                                                                             \n",
       "⎢                                                                             \n",
       "⎢ ∂                                                           ∂               \n",
       "⎢ ──(Ω₁(t, R, Z))    =                                    - c⋅──(Ω₁(t, R, Z)) \n",
       "⎣ ∂t                                                          ∂Z              \n",
       "\n",
       "                                        ___________                           \n",
       "v_Z)   ⅈ⋅Ω₁(t, R, Z)   ⅈ⋅ρ₃₁(t, Z, v_Z)⋅Ω₂(t, R, Z)   ⅈ⋅v_Z⋅varpi₁⋅ρ₂₁(t, Z, v\n",
       "──── - ───────────── - ──────────────────────────── - ────────────────────────\n",
       "             2                      2                              c          \n",
       "                                                                              \n",
       " Z, v_Z)   ⅈ⋅Ω₂(t, R, Z)⋅ρ₂₁(t, Z, v_Z)   ⅈ⋅v_Z⋅varpi₁⋅ρ₃₁(t, Z, v_Z)   ⅈ⋅v_Z⋅\n",
       "──────── - ──────────────────────────── - ─────────────────────────── + ──────\n",
       "                        2                              c                      \n",
       "                                                                              \n",
       "                                 ∞                                            \n",
       "     2          2                ⌠                                            \n",
       "  ⅈ⋅e ⋅r_{+1;21} ⋅varpi₁⋅n(R, Z)⋅⎮  g(v_Z)⋅ρ₂₁(t, Z, v_Z) d(v_Z)              \n",
       "                                 ⌡                                            \n",
       "                                 -∞                                           \n",
       "- ──────────────────────────────────────────────────────────────              \n",
       "                          h̅⋅varepsilon₀                                      \n",
       "\n",
       "                     ⎤\n",
       "_Z)                  ⎥\n",
       "───                  ⎥\n",
       "                     ⎥\n",
       "                     ⎥\n",
       "varpi₂⋅ρ₃₁(t, Z, v_Z)⎥\n",
       "─────────────────────⎥\n",
       "       c             ⎥\n",
       "                     ⎥\n",
       "                     ⎥\n",
       "                     ⎥\n",
       "                     ⎥\n",
       "                     ⎥\n",
       "                     ⎥\n",
       "                     ⎥\n",
       "                     ⎦"
      ]
     },
     "execution_count": 102,
     "metadata": {},
     "output_type": "execute_result"
    }
   ],
   "source": [
    "eqs_linv=eqs_lin.subs({delta1: delta1p, delta2: delta2p, rho[1,0]: rhop[1,0], rho[2,0]: rhop[2,0]})\n",
    "eqs_linv[2,:]= eqs_lin[2,:].subs({rho[1,0]: Integral(g*rhop[1,0],(vZ,-oo,oo))})\n",
    "eqs_linv=eqs_linv.expand()\n",
    "eqs_linv"
   ]
  },
  {
   "cell_type": "markdown",
   "metadata": {},
   "source": [
    "# Velocity distribution"
   ]
  },
  {
   "cell_type": "code",
   "execution_count": 103,
   "metadata": {
    "collapsed": false
   },
   "outputs": [
    {
     "data": {
      "image/png": "[encoded data removed]",
      "text/latex": [
       "$$\\left ( m, \\quad k_{B}, \\quad T\\right )$$"
      ],
      "text/plain": [
       "(m, k_B, T)"
      ]
     },
     "execution_count": 103,
     "metadata": {},
     "output_type": "execute_result"
    }
   ],
   "source": [
    "m, kB, T = symbols(\"m, k_B, T\", positive=True)\n",
    "vZ = symbols(\"v_Z\", real=True)\n",
    "m, kB, T"
   ]
  },
  {
   "cell_type": "code",
   "execution_count": 104,
   "metadata": {
    "collapsed": false
   },
   "outputs": [
    {
     "data": {
      "image/png": "[encoded data removed]",
      "text/latex": [
       "$$\\frac{\\sqrt{2} \\sqrt{m} e^{- \\frac{m v_{Z}^{2}}{2 T k_{B}}}}{2 \\sqrt{\\pi} \\sqrt{T} \\sqrt{k_{B}}}$$"
      ],
      "text/plain": [
       "             2 \n",
       "       -m⋅v_Z  \n",
       "       ────────\n",
       "       2⋅T⋅k_B \n",
       "√2⋅√m⋅ℯ        \n",
       "───────────────\n",
       "          _____\n",
       "2⋅√π⋅√T⋅╲╱ k_B "
      ]
     },
     "execution_count": 104,
     "metadata": {},
     "output_type": "execute_result"
    }
   ],
   "source": [
    "sigma_vZ=sqrt(kB*T/m)\n",
    "g=sqrt(1/(2*pi))/sigma_vZ*exp(-(vZ/sigma_vZ)**2/2)\n",
    "g"
   ]
  },
  {
   "cell_type": "code",
   "execution_count": 105,
   "metadata": {
    "collapsed": false
   },
   "outputs": [
    {
     "data": {
      "image/png": "[encoded data removed]",
      "text/latex": [
       "$$1$$"
      ],
      "text/plain": [
       "1"
      ]
     },
     "execution_count": 105,
     "metadata": {},
     "output_type": "execute_result"
    }
   ],
   "source": [
    "from sympy import integrate, oo\n",
    "integrate(g,(vZ,-oo,oo))"
   ]
  },
  {
   "cell_type": "code",
   "execution_count": null,
   "metadata": {
    "collapsed": true
   },
   "outputs": [],
   "source": []
  },
  {
   "cell_type": "markdown",
   "metadata": {},
   "source": [
    "[1]  H.J. Metcalf and P. van der Straten. Laser Cooling and Trapping. Graduate Texts in Contempo-\n",
    "rary Physics. Springer New York, 2001.\n",
    "\n",
    "[2] Daniel Adam Steck. Quantum and Atom Optics. Oregon Center for Optics and Department of Physics, University of Oregon Copyright © 200"
   ]
  }
 ],
 "metadata": {
  "anaconda-cloud": {},
  "kernelspec": {
   "display_name": "Python 2",
   "language": "python",
   "name": "python2"
  },
  "language_info": {
   "codemirror_mode": {
    "name": "ipython",
    "version": 2
   },
   "file_extension": ".py",
   "mimetype": "text/x-python",
   "name": "python",
   "nbconvert_exporter": "python",
   "pygments_lexer": "ipython2",
   "version": "2.7.13"
  }
 },
 "nbformat": 4,
 "nbformat_minor": 0
}
